{
 "cells": [
  {
   "cell_type": "markdown",
   "metadata": {
    "colab_type": "text",
    "id": "view-in-github"
   },
   "source": [
    "<a href=\"https://colab.research.google.com/github/AnacletoLAB/grape/blob/main/tutorials/Graph_generation.ipynb\" target=\"_parent\"><img src=\"https://colab.research.google.com/assets/colab-badge.svg\" alt=\"Open In Colab\"/></a>"
   ]
  },
  {
   "cell_type": "markdown",
   "metadata": {
    "id": "7SnUxsLO5ldc"
   },
   "source": [
    "# Graph generation\n",
    "In the following tutorial we will show how to use Ensmallen to generate some graphs that can be useful when testing graph algorithms."
   ]
  },
  {
   "cell_type": "markdown",
   "metadata": {
    "id": "GHSbUlDj5rX3"
   },
   "source": [
    "We start by installing the GraPE library:\n",
    "\n",
    "```bash\n",
    "pip install grape -U\n",
    "```\n"
   ]
  },
  {
   "cell_type": "code",
   "execution_count": 1,
   "metadata": {
    "id": "kcC6m_mx599Z"
   },
   "outputs": [
    {
     "name": "stdout",
     "output_type": "stream",
     "text": [
      "\u001b[33mWARNING: You are using pip version 22.0.4; however, version 22.1.2 is available.\r\n",
      "You should consider upgrading via the '/Users/lucacappelletti/opt/miniconda3/bin/python -m pip install --upgrade pip' command.\u001b[0m\r\n"
     ]
    }
   ],
   "source": [
    "! pip install -q grape -U"
   ]
  },
  {
   "cell_type": "code",
   "execution_count": 2,
   "metadata": {
    "id": "UA3Xq9f58Dd9"
   },
   "outputs": [],
   "source": [
    "from grape import Graph, GraphVisualizer"
   ]
  },
  {
   "cell_type": "markdown",
   "metadata": {
    "id": "nqrnBOXB5tAR"
   },
   "source": [
    "## Listing all the generation methods"
   ]
  },
  {
   "cell_type": "markdown",
   "metadata": {
    "id": "pX9XlvXT6TNc"
   },
   "source": [
    "At the time of writing, we support a handful of generation methods, namely:\n",
    "\n",
    "*   Barbell graph\n",
    "*   Chain graph\n",
    "*   Circle graph\n",
    "*   Complete graph \n",
    "*   Random connected graph\n",
    "*   Random spanning tree\n",
    "\n",
    "Note that all of the aforementioned methods generate a graph into memory and, where possible, directly create in parallel the succinct data structure for the adjacency matrix, making these methods very useful when testing if an algorithm scales to a large graphs in a few seconds."
   ]
  },
  {
   "cell_type": "markdown",
   "metadata": {
    "id": "DOCrNo467kfS"
   },
   "source": [
    "## Barbell graph\n",
    "A [Barbell graph](https://en.wikipedia.org/wiki/Barbell_graph#:~:text=In%20the%20mathematical%20discipline%20of,an%20endpoint%20in%20each%20clique.) is simply a graph with the shape of a Barbell, as shown in the visualization below. It can be a usefull tool for testing community detections algorithms."
   ]
  },
  {
   "cell_type": "code",
   "execution_count": 3,
   "metadata": {
    "id": "HUvcFOqb5jCE"
   },
   "outputs": [],
   "source": [
    "barbell = Graph.generate_barbell_graph(\n",
    "    left_clique_nodes_number=7,\n",
    "    right_clique_nodes_number=7,\n",
    "    chain_nodes_number=2\n",
    ")"
   ]
  },
  {
   "cell_type": "markdown",
   "metadata": {
    "id": "6mdjFmvo796C"
   },
   "source": [
    "Let's compute the graph report:"
   ]
  },
  {
   "cell_type": "code",
   "execution_count": 4,
   "metadata": {
    "colab": {
     "base_uri": "https://localhost:8080/",
     "height": 467
    },
    "id": "7ph-MfZc78I7",
    "outputId": "f6f50199-2f68-4a6e-b76e-966a5893c3d2"
   },
   "outputs": [
    {
     "data": {
      "text/html": [
       "<div class=\"graph-report\"><style>.graph-report li {margin: 0.5em 0 0.5em 0;}.graph-report .paragraph {text-align: justify;word-break: break-all;}.graph-report .small-columns {column-count: 4;column-gap: 2em;}.graph-report .medium-columns {column-count: 3;column-gap: 2em;}.graph-report .large-columns {column-count: 2;column-gap: 2em;}.graph-report .single-column {}@media only screen and (max-width: 600px) {.graph-report .small-columns {column-count: 1;}.graph-report .medium-columns {column-count: 1;}.graph-report .large-columns {column-count: 1;}}@media only screen and (min-width: 600px) and (max-width: 800px) {.graph-report .small-columns {column-count: 2;}.graph-report .medium-columns {column-count: 1;}.graph-report .large-columns {column-count: 1;}}@media only screen and (min-width: 800px) and (max-width: 1024px) {.graph-report .small-columns {column-count: 3;}.graph-report .medium-columns {column-count: 2;}.graph-report .large-columns {column-count: 1;}}</style><h2>Barbell</h2><p class=\"paragraph\">The undirected graph Barbell has 16 heterogeneous nodes and 45 heterogeneous edges. The graph is connected, that is, it is composed of a single connected component that includes all nodes and edges. The RAM requirements for the nodes and edges data structures are 80B and 320B respectively.</p><h3 style=\"margin: 1em 0 0 0;\">Degree centrality</h3><p class=\"paragraph\">The minimum node degree is 2, the maximum node degree is 7, the mode degree is 6, the mean degree is 5.62 and the node degree median is 6.</p><p class=\"paragraph\">The nodes with the highest degree centrality are 6 (degree 7 and node types left_clique and chain), 9 (degree 7 and node type right_clique), 0 (degree 6 and node type left_clique), 1 (degree 6 and node type left_clique) and 2 (degree 6 and node type left_clique).</p><h3 style=\"margin: 1em 0 0 0;\">Node types</h3><p class=\"paragraph\">The graph has 3 node types, which are right_clique (8 nodes, 50.00%), left_clique (7 nodes, 43.75%) and chain (3 nodes, 18.75%). The node types are multi-label, and the node with most node types has 2 node types. The RAM requirement for the node types data structure is 1.26KB.</p><h3 style=\"margin: 1em 0 0 0;\">Edge types</h3><p class=\"paragraph\">The graph has 3 edge types, which are right_clique (42 edges, 46.67%), left_clique (42 edges, 46.67%) and chain (6 edges, 6.67%). The RAM requirement for the edge types data structure is 1.12KB.</p></div>"
      ],
      "text/plain": [
       "<div class=\"graph-report\"><style>.graph-report li {margin: 0.5em 0 0.5em 0;}.graph-report .paragraph {text-align: justify;word-break: break-all;}.graph-report .small-columns {column-count: 4;column-gap: 2em;}.graph-report .medium-columns {column-count: 3;column-gap: 2em;}.graph-report .large-columns {column-count: 2;column-gap: 2em;}.graph-report .single-column {}@media only screen and (max-width: 600px) {.graph-report .small-columns {column-count: 1;}.graph-report .medium-columns {column-count: 1;}.graph-report .large-columns {column-count: 1;}}@media only screen and (min-width: 600px) and (max-width: 800px) {.graph-report .small-columns {column-count: 2;}.graph-report .medium-columns {column-count: 1;}.graph-report .large-columns {column-count: 1;}}@media only screen and (min-width: 800px) and (max-width: 1024px) {.graph-report .small-columns {column-count: 3;}.graph-report .medium-columns {column-count: 2;}.graph-report .large-columns {column-count: 1;}}</style><h2>Barbell</h2><p class=\"paragraph\">The undirected graph Barbell has 16 heterogeneous nodes and 45 heterogeneous edges. The graph is connected, that is, it is composed of a single connected component that includes all nodes and edges. The RAM requirements for the nodes and edges data structures are 80B and 320B respectively.</p><h3 style=\"margin: 1em 0 0 0;\">Degree centrality</h3><p class=\"paragraph\">The minimum node degree is 2, the maximum node degree is 7, the mode degree is 6, the mean degree is 5.62 and the node degree median is 6.</p><p class=\"paragraph\">The nodes with the highest degree centrality are 6 (degree 7 and node types left_clique and chain), 9 (degree 7 and node type right_clique), 0 (degree 6 and node type left_clique), 1 (degree 6 and node type left_clique) and 2 (degree 6 and node type left_clique).</p><h3 style=\"margin: 1em 0 0 0;\">Node types</h3><p class=\"paragraph\">The graph has 3 node types, which are right_clique (8 nodes, 50.00%), left_clique (7 nodes, 43.75%) and chain (3 nodes, 18.75%). The node types are multi-label, and the node with most node types has 2 node types. The RAM requirement for the node types data structure is 1.26KB.</p><h3 style=\"margin: 1em 0 0 0;\">Edge types</h3><p class=\"paragraph\">The graph has 3 edge types, which are right_clique (42 edges, 46.67%), left_clique (42 edges, 46.67%) and chain (6 edges, 6.67%). The RAM requirement for the edge types data structure is 1.12KB.</p></div>"
      ]
     },
     "execution_count": 4,
     "metadata": {},
     "output_type": "execute_result"
    }
   ],
   "source": [
    "barbell"
   ]
  },
  {
   "cell_type": "markdown",
   "metadata": {
    "id": "SreYcyj7_jAO"
   },
   "source": [
    "And visualize it:"
   ]
  },
  {
   "cell_type": "code",
   "execution_count": 5,
   "metadata": {
    "colab": {
     "base_uri": "https://localhost:8080/",
     "height": 445
    },
    "id": "ysl2leBF6NXv",
    "outputId": "c16f08ff-7e72-4bfe-dee6-cd03559491bf"
   },
   "outputs": [
    {
     "data": {
      "image/svg+xml": [
       "<?xml version=\"1.0\" encoding=\"UTF-8\" standalone=\"no\"?>\n",
       "<!DOCTYPE svg PUBLIC \"-//W3C//DTD SVG 1.1//EN\"\n",
       " \"http://www.w3.org/Graphics/SVG/1.1/DTD/svg11.dtd\">\n",
       "<!-- Generated by graphviz version 2.50.0 (20211204.2007)\n",
       " -->\n",
       "<!-- Title: G Pages: 1 -->\n",
       "<svg width=\"462pt\" height=\"236pt\"\n",
       " viewBox=\"0.00 0.00 462.04 235.71\" xmlns=\"http://www.w3.org/2000/svg\" xmlns:xlink=\"http://www.w3.org/1999/xlink\">\n",
       "<g id=\"graph0\" class=\"graph\" transform=\"scale(1 1) rotate(0) translate(4 231.71)\">\n",
       "<title>G</title>\n",
       "<polygon fill=\"white\" stroke=\"transparent\" points=\"-4,4 -4,-231.71 458.04,-231.71 458.04,4 -4,4\"/>\n",
       "<!-- 0 -->\n",
       "<g id=\"node1\" class=\"node\">\n",
       "<title>0</title>\n",
       "<ellipse fill=\"#66c2a5\" stroke=\"black\" cx=\"47.64\" cy=\"-22.65\" rx=\"27\" ry=\"18\"/>\n",
       "<text text-anchor=\"middle\" x=\"47.64\" y=\"-18.95\" font-family=\"Times,serif\" font-size=\"14.00\">0</text>\n",
       "</g>\n",
       "<!-- 1 -->\n",
       "<g id=\"node2\" class=\"node\">\n",
       "<title>1</title>\n",
       "<ellipse fill=\"#66c2a5\" stroke=\"black\" cx=\"77.16\" cy=\"-58.44\" rx=\"27\" ry=\"18\"/>\n",
       "<text text-anchor=\"middle\" x=\"77.16\" y=\"-54.74\" font-family=\"Times,serif\" font-size=\"14.00\">1</text>\n",
       "</g>\n",
       "<!-- 0&#45;&#45;1 -->\n",
       "<g id=\"edge1\" class=\"edge\">\n",
       "<title>0&#45;&#45;1</title>\n",
       "<path fill=\"none\" stroke=\"#66c2a5\" d=\"M60.67,-38.45C61.79,-39.8 62.91,-41.17 64.02,-42.52\"/>\n",
       "</g>\n",
       "<!-- 2 -->\n",
       "<g id=\"node3\" class=\"node\">\n",
       "<title>2</title>\n",
       "<ellipse fill=\"#66c2a5\" stroke=\"black\" cx=\"91.64\" cy=\"-18\" rx=\"27\" ry=\"18\"/>\n",
       "<text text-anchor=\"middle\" x=\"91.64\" y=\"-14.3\" font-family=\"Times,serif\" font-size=\"14.00\">2</text>\n",
       "</g>\n",
       "<!-- 0&#45;&#45;2 -->\n",
       "<g id=\"edge2\" class=\"edge\">\n",
       "<title>0&#45;&#45;2</title>\n",
       "<path fill=\"none\" stroke=\"#66c2a5\" d=\"M74.5,-19.81C74.64,-19.8 74.79,-19.78 74.93,-19.77\"/>\n",
       "</g>\n",
       "<!-- 3 -->\n",
       "<g id=\"node4\" class=\"node\">\n",
       "<title>3</title>\n",
       "<ellipse fill=\"#66c2a5\" stroke=\"black\" cx=\"41.26\" cy=\"-101.94\" rx=\"27\" ry=\"18\"/>\n",
       "<text text-anchor=\"middle\" x=\"41.26\" y=\"-98.24\" font-family=\"Times,serif\" font-size=\"14.00\">3</text>\n",
       "</g>\n",
       "<!-- 0&#45;&#45;3 -->\n",
       "<g id=\"edge3\" class=\"edge\">\n",
       "<title>0&#45;&#45;3</title>\n",
       "<path fill=\"none\" stroke=\"#66c2a5\" d=\"M46.19,-40.65C45.15,-53.53 43.76,-70.82 42.72,-83.75\"/>\n",
       "</g>\n",
       "<!-- 4 -->\n",
       "<g id=\"node5\" class=\"node\">\n",
       "<title>4</title>\n",
       "<ellipse fill=\"#66c2a5\" stroke=\"black\" cx=\"79.29\" cy=\"-108.86\" rx=\"27\" ry=\"18\"/>\n",
       "<text text-anchor=\"middle\" x=\"79.29\" y=\"-105.16\" font-family=\"Times,serif\" font-size=\"14.00\">4</text>\n",
       "</g>\n",
       "<!-- 0&#45;&#45;4 -->\n",
       "<g id=\"edge4\" class=\"edge\">\n",
       "<title>0&#45;&#45;4</title>\n",
       "<path fill=\"none\" stroke=\"#66c2a5\" d=\"M54.2,-40.51C59.67,-55.41 67.42,-76.51 72.85,-91.31\"/>\n",
       "</g>\n",
       "<!-- 5 -->\n",
       "<g id=\"node6\" class=\"node\">\n",
       "<title>5</title>\n",
       "<ellipse fill=\"#66c2a5\" stroke=\"black\" cx=\"27\" cy=\"-62.24\" rx=\"27\" ry=\"18\"/>\n",
       "<text text-anchor=\"middle\" x=\"27\" y=\"-58.54\" font-family=\"Times,serif\" font-size=\"14.00\">5</text>\n",
       "</g>\n",
       "<!-- 0&#45;&#45;5 -->\n",
       "<g id=\"edge5\" class=\"edge\">\n",
       "<title>0&#45;&#45;5</title>\n",
       "<path fill=\"none\" stroke=\"#66c2a5\" d=\"M38.77,-39.67C37.81,-41.52 36.83,-43.39 35.87,-45.24\"/>\n",
       "</g>\n",
       "<!-- 6 -->\n",
       "<g id=\"node7\" class=\"node\">\n",
       "<title>6</title>\n",
       "<ellipse fill=\"#66c2a5\" stroke=\"black\" cx=\"121.62\" cy=\"-72.31\" rx=\"27\" ry=\"18\"/>\n",
       "<text text-anchor=\"middle\" x=\"121.62\" y=\"-68.61\" font-family=\"Times,serif\" font-size=\"14.00\">6</text>\n",
       "</g>\n",
       "<!-- 0&#45;&#45;6 -->\n",
       "<g id=\"edge6\" class=\"edge\">\n",
       "<title>0&#45;&#45;6</title>\n",
       "<path fill=\"none\" stroke=\"#66c2a5\" d=\"M66.69,-35.44C77.65,-42.8 91.38,-52.01 102.38,-59.39\"/>\n",
       "</g>\n",
       "<!-- 1&#45;&#45;2 -->\n",
       "<g id=\"edge7\" class=\"edge\">\n",
       "<title>1&#45;&#45;2</title>\n",
       "<path fill=\"none\" stroke=\"#66c2a5\" d=\"M83.55,-40.58C84.13,-38.98 84.71,-37.35 85.28,-35.74\"/>\n",
       "</g>\n",
       "<!-- 1&#45;&#45;3 -->\n",
       "<g id=\"edge8\" class=\"edge\">\n",
       "<title>1&#45;&#45;3</title>\n",
       "<path fill=\"none\" stroke=\"#66c2a5\" d=\"M63.79,-74.64C60.68,-78.41 57.37,-82.41 54.28,-86.16\"/>\n",
       "</g>\n",
       "<!-- 1&#45;&#45;4 -->\n",
       "<g id=\"edge9\" class=\"edge\">\n",
       "<title>1&#45;&#45;4</title>\n",
       "<path fill=\"none\" stroke=\"#66c2a5\" d=\"M77.93,-76.64C78.12,-81.27 78.33,-86.23 78.53,-90.85\"/>\n",
       "</g>\n",
       "<!-- 1&#45;&#45;5 -->\n",
       "<g id=\"edge10\" class=\"edge\">\n",
       "<title>1&#45;&#45;5</title>\n",
       "<path fill=\"none\" stroke=\"#66c2a5\" d=\"M50.32,-60.47C50.22,-60.48 50.13,-60.49 50.04,-60.49\"/>\n",
       "</g>\n",
       "<!-- 1&#45;&#45;6 -->\n",
       "<g id=\"edge11\" class=\"edge\">\n",
       "<title>1&#45;&#45;6</title>\n",
       "<path fill=\"none\" stroke=\"#66c2a5\" d=\"M101.73,-66.1C101.89,-66.15 102.05,-66.2 102.21,-66.25\"/>\n",
       "</g>\n",
       "<!-- 2&#45;&#45;3 -->\n",
       "<g id=\"edge12\" class=\"edge\">\n",
       "<title>2&#45;&#45;3</title>\n",
       "<path fill=\"none\" stroke=\"#66c2a5\" d=\"M81.44,-34.99C72.7,-49.55 60.17,-70.42 51.44,-84.98\"/>\n",
       "</g>\n",
       "<!-- 2&#45;&#45;4 -->\n",
       "<g id=\"edge13\" class=\"edge\">\n",
       "<title>2&#45;&#45;4</title>\n",
       "<path fill=\"none\" stroke=\"#66c2a5\" d=\"M89.2,-35.95C87.05,-51.77 83.93,-74.73 81.77,-90.63\"/>\n",
       "</g>\n",
       "<!-- 2&#45;&#45;5 -->\n",
       "<g id=\"edge14\" class=\"edge\">\n",
       "<title>2&#45;&#45;5</title>\n",
       "<path fill=\"none\" stroke=\"#66c2a5\" d=\"M72.59,-31.03C64.25,-36.74 54.48,-43.43 46.13,-49.15\"/>\n",
       "</g>\n",
       "<!-- 2&#45;&#45;6 -->\n",
       "<g id=\"edge15\" class=\"edge\">\n",
       "<title>2&#45;&#45;6</title>\n",
       "<path fill=\"none\" stroke=\"#66c2a5\" d=\"M101.12,-35.18C104.62,-41.52 108.59,-48.7 112.09,-55.05\"/>\n",
       "</g>\n",
       "<!-- 3&#45;&#45;4 -->\n",
       "<g id=\"edge16\" class=\"edge\">\n",
       "<title>3&#45;&#45;4</title>\n",
       "<path fill=\"none\" stroke=\"#66c2a5\" d=\"M67.67,-106.74C67.77,-106.76 67.88,-106.78 67.98,-106.8\"/>\n",
       "</g>\n",
       "<!-- 3&#45;&#45;5 -->\n",
       "<g id=\"edge17\" class=\"edge\">\n",
       "<title>3&#45;&#45;5</title>\n",
       "<path fill=\"none\" stroke=\"#66c2a5\" d=\"M34.96,-84.41C34.42,-82.92 33.88,-81.4 33.34,-79.91\"/>\n",
       "</g>\n",
       "<!-- 3&#45;&#45;6 -->\n",
       "<g id=\"edge18\" class=\"edge\">\n",
       "<title>3&#45;&#45;6</title>\n",
       "<path fill=\"none\" stroke=\"#66c2a5\" d=\"M64.93,-93.21C75.3,-89.39 87.45,-84.91 97.83,-81.08\"/>\n",
       "</g>\n",
       "<!-- 4&#45;&#45;5 -->\n",
       "<g id=\"edge19\" class=\"edge\">\n",
       "<title>4&#45;&#45;5</title>\n",
       "<path fill=\"none\" stroke=\"#66c2a5\" d=\"M63.03,-94.36C56.8,-88.8 49.68,-82.46 43.43,-76.89\"/>\n",
       "</g>\n",
       "<!-- 4&#45;&#45;6 -->\n",
       "<g id=\"edge20\" class=\"edge\">\n",
       "<title>4&#45;&#45;6</title>\n",
       "<path fill=\"none\" stroke=\"#66c2a5\" d=\"M96.02,-94.41C98.98,-91.86 102.06,-89.2 105.01,-86.65\"/>\n",
       "</g>\n",
       "<!-- 5&#45;&#45;6 -->\n",
       "<g id=\"edge21\" class=\"edge\">\n",
       "<title>5&#45;&#45;6</title>\n",
       "<path fill=\"none\" stroke=\"#66c2a5\" d=\"M53.86,-65.1C66.65,-66.46 81.9,-68.08 94.69,-69.44\"/>\n",
       "</g>\n",
       "<!-- 7 -->\n",
       "<g id=\"node8\" class=\"node\">\n",
       "<title>7</title>\n",
       "<ellipse fill=\"#fc8d62\" stroke=\"black\" cx=\"197.08\" cy=\"-86.66\" rx=\"27\" ry=\"18\"/>\n",
       "<text text-anchor=\"middle\" x=\"197.08\" y=\"-82.96\" font-family=\"Times,serif\" font-size=\"14.00\">7</text>\n",
       "</g>\n",
       "<!-- 6&#45;&#45;7 -->\n",
       "<g id=\"edge22\" class=\"edge\">\n",
       "<title>6&#45;&#45;7</title>\n",
       "<path fill=\"none\" stroke=\"#fc8d62\" d=\"M147.59,-77.24C155.18,-78.69 163.47,-80.26 171.06,-81.71\"/>\n",
       "</g>\n",
       "<!-- 8 -->\n",
       "<g id=\"node9\" class=\"node\">\n",
       "<title>8</title>\n",
       "<ellipse fill=\"#fc8d62\" stroke=\"black\" cx=\"268.1\" cy=\"-109.28\" rx=\"27\" ry=\"18\"/>\n",
       "<text text-anchor=\"middle\" x=\"268.1\" y=\"-105.58\" font-family=\"Times,serif\" font-size=\"14.00\">8</text>\n",
       "</g>\n",
       "<!-- 7&#45;&#45;8 -->\n",
       "<g id=\"edge23\" class=\"edge\">\n",
       "<title>7&#45;&#45;8</title>\n",
       "<path fill=\"none\" stroke=\"#fc8d62\" d=\"M221.52,-94.44C228.58,-96.69 236.3,-99.15 243.37,-101.41\"/>\n",
       "</g>\n",
       "<!-- 9 -->\n",
       "<g id=\"node10\" class=\"node\">\n",
       "<title>9</title>\n",
       "<ellipse fill=\"#8da0cb\" stroke=\"black\" cx=\"338.37\" cy=\"-140.3\" rx=\"27\" ry=\"18\"/>\n",
       "<text text-anchor=\"middle\" x=\"338.37\" y=\"-136.6\" font-family=\"Times,serif\" font-size=\"14.00\">9</text>\n",
       "</g>\n",
       "<!-- 8&#45;&#45;9 -->\n",
       "<g id=\"edge24\" class=\"edge\">\n",
       "<title>8&#45;&#45;9</title>\n",
       "<path fill=\"none\" stroke=\"#fc8d62\" d=\"M290.72,-119.27C298.75,-122.81 307.77,-126.8 315.79,-130.34\"/>\n",
       "</g>\n",
       "<!-- 10 -->\n",
       "<g id=\"node11\" class=\"node\">\n",
       "<title>10</title>\n",
       "<ellipse fill=\"#8da0cb\" stroke=\"black\" cx=\"382.74\" cy=\"-154.89\" rx=\"27\" ry=\"18\"/>\n",
       "<text text-anchor=\"middle\" x=\"382.74\" y=\"-151.19\" font-family=\"Times,serif\" font-size=\"14.00\">10</text>\n",
       "</g>\n",
       "<!-- 9&#45;&#45;10 -->\n",
       "<g id=\"edge25\" class=\"edge\">\n",
       "<title>9&#45;&#45;10</title>\n",
       "<path fill=\"none\" stroke=\"#8da0cb\" d=\"M362.63,-148.28C362.79,-148.33 362.96,-148.38 363.12,-148.44\"/>\n",
       "</g>\n",
       "<!-- 11 -->\n",
       "<g id=\"node12\" class=\"node\">\n",
       "<title>11</title>\n",
       "<ellipse fill=\"#8da0cb\" stroke=\"black\" cx=\"352.94\" cy=\"-194.84\" rx=\"27\" ry=\"18\"/>\n",
       "<text text-anchor=\"middle\" x=\"352.94\" y=\"-191.14\" font-family=\"Times,serif\" font-size=\"14.00\">11</text>\n",
       "</g>\n",
       "<!-- 9&#45;&#45;11 -->\n",
       "<g id=\"edge26\" class=\"edge\">\n",
       "<title>9&#45;&#45;11</title>\n",
       "<path fill=\"none\" stroke=\"#8da0cb\" d=\"M343.14,-158.16C344.73,-164.12 346.51,-170.77 348.11,-176.75\"/>\n",
       "</g>\n",
       "<!-- 12 -->\n",
       "<g id=\"node13\" class=\"node\">\n",
       "<title>12</title>\n",
       "<ellipse fill=\"#8da0cb\" stroke=\"black\" cx=\"427.04\" cy=\"-139.47\" rx=\"27\" ry=\"18\"/>\n",
       "<text text-anchor=\"middle\" x=\"427.04\" y=\"-135.77\" font-family=\"Times,serif\" font-size=\"14.00\">12</text>\n",
       "</g>\n",
       "<!-- 9&#45;&#45;12 -->\n",
       "<g id=\"edge27\" class=\"edge\">\n",
       "<title>9&#45;&#45;12</title>\n",
       "<path fill=\"none\" stroke=\"#8da0cb\" d=\"M365.46,-140.05C376.35,-139.95 388.9,-139.83 399.81,-139.72\"/>\n",
       "</g>\n",
       "<!-- 13 -->\n",
       "<g id=\"node14\" class=\"node\">\n",
       "<title>13</title>\n",
       "<ellipse fill=\"#8da0cb\" stroke=\"black\" cx=\"423.02\" cy=\"-184.05\" rx=\"27\" ry=\"18\"/>\n",
       "<text text-anchor=\"middle\" x=\"423.02\" y=\"-180.35\" font-family=\"Times,serif\" font-size=\"14.00\">13</text>\n",
       "</g>\n",
       "<!-- 9&#45;&#45;13 -->\n",
       "<g id=\"edge28\" class=\"edge\">\n",
       "<title>9&#45;&#45;13</title>\n",
       "<path fill=\"none\" stroke=\"#8da0cb\" d=\"M359.73,-151.34C372.56,-157.97 388.83,-166.38 401.66,-173.01\"/>\n",
       "</g>\n",
       "<!-- 14 -->\n",
       "<g id=\"node15\" class=\"node\">\n",
       "<title>14</title>\n",
       "<ellipse fill=\"#8da0cb\" stroke=\"black\" cx=\"389.04\" cy=\"-209.71\" rx=\"27\" ry=\"18\"/>\n",
       "<text text-anchor=\"middle\" x=\"389.04\" y=\"-206.01\" font-family=\"Times,serif\" font-size=\"14.00\">14</text>\n",
       "</g>\n",
       "<!-- 9&#45;&#45;14 -->\n",
       "<g id=\"edge29\" class=\"edge\">\n",
       "<title>9&#45;&#45;14</title>\n",
       "<path fill=\"none\" stroke=\"#8da0cb\" d=\"M350.38,-156.75C358.45,-167.82 369.06,-182.34 377.12,-193.38\"/>\n",
       "</g>\n",
       "<!-- 15 -->\n",
       "<g id=\"node16\" class=\"node\">\n",
       "<title>15</title>\n",
       "<ellipse fill=\"#8da0cb\" stroke=\"black\" cx=\"392.92\" cy=\"-112.28\" rx=\"27\" ry=\"18\"/>\n",
       "<text text-anchor=\"middle\" x=\"392.92\" y=\"-108.58\" font-family=\"Times,serif\" font-size=\"14.00\">15</text>\n",
       "</g>\n",
       "<!-- 9&#45;&#45;15 -->\n",
       "<g id=\"edge30\" class=\"edge\">\n",
       "<title>9&#45;&#45;15</title>\n",
       "<path fill=\"none\" stroke=\"#8da0cb\" d=\"M359.93,-129.23C363.74,-127.27 367.71,-125.23 371.52,-123.27\"/>\n",
       "</g>\n",
       "<!-- 10&#45;&#45;11 -->\n",
       "<g id=\"edge31\" class=\"edge\">\n",
       "<title>10&#45;&#45;11</title>\n",
       "<path fill=\"none\" stroke=\"#8da0cb\" d=\"M370.62,-171.14C368.81,-173.56 366.95,-176.05 365.14,-178.47\"/>\n",
       "</g>\n",
       "<!-- 10&#45;&#45;12 -->\n",
       "<g id=\"edge32\" class=\"edge\">\n",
       "<title>10&#45;&#45;12</title>\n",
       "<path fill=\"none\" stroke=\"#8da0cb\" d=\"M406.7,-146.55C406.87,-146.49 407.03,-146.43 407.19,-146.38\"/>\n",
       "</g>\n",
       "<!-- 10&#45;&#45;13 -->\n",
       "<g id=\"edge33\" class=\"edge\">\n",
       "<title>10&#45;&#45;13</title>\n",
       "<path fill=\"none\" stroke=\"#8da0cb\" d=\"M401.46,-168.44C402.45,-169.16 403.44,-169.87 404.43,-170.59\"/>\n",
       "</g>\n",
       "<!-- 10&#45;&#45;14 -->\n",
       "<g id=\"edge34\" class=\"edge\">\n",
       "<title>10&#45;&#45;14</title>\n",
       "<path fill=\"none\" stroke=\"#8da0cb\" d=\"M384.8,-172.84C385.49,-178.84 386.26,-185.52 386.95,-191.53\"/>\n",
       "</g>\n",
       "<!-- 10&#45;&#45;15 -->\n",
       "<g id=\"edge35\" class=\"edge\">\n",
       "<title>10&#45;&#45;15</title>\n",
       "<path fill=\"none\" stroke=\"#8da0cb\" d=\"M387,-137.07C387.54,-134.78 388.1,-132.45 388.65,-130.17\"/>\n",
       "</g>\n",
       "<!-- 11&#45;&#45;12 -->\n",
       "<g id=\"edge36\" class=\"edge\">\n",
       "<title>11&#45;&#45;12</title>\n",
       "<path fill=\"none\" stroke=\"#8da0cb\" d=\"M371.25,-181.15C382.74,-172.57 397.48,-161.55 408.93,-153\"/>\n",
       "</g>\n",
       "<!-- 11&#45;&#45;13 -->\n",
       "<g id=\"edge37\" class=\"edge\">\n",
       "<title>11&#45;&#45;13</title>\n",
       "<path fill=\"none\" stroke=\"#8da0cb\" d=\"M379.43,-190.76C385.01,-189.9 390.9,-188.99 396.49,-188.13\"/>\n",
       "</g>\n",
       "<!-- 11&#45;&#45;14 -->\n",
       "<g id=\"edge38\" class=\"edge\">\n",
       "<title>11&#45;&#45;14</title>\n",
       "<path fill=\"none\" stroke=\"#8da0cb\" d=\"M376,-204.34C376.11,-204.39 376.22,-204.43 376.33,-204.48\"/>\n",
       "</g>\n",
       "<!-- 11&#45;&#45;15 -->\n",
       "<g id=\"edge39\" class=\"edge\">\n",
       "<title>11&#45;&#45;15</title>\n",
       "<path fill=\"none\" stroke=\"#8da0cb\" d=\"M361.42,-177.33C368.25,-163.22 377.8,-143.5 384.59,-129.48\"/>\n",
       "</g>\n",
       "<!-- 12&#45;&#45;13 -->\n",
       "<g id=\"edge40\" class=\"edge\">\n",
       "<title>12&#45;&#45;13</title>\n",
       "<path fill=\"none\" stroke=\"#8da0cb\" d=\"M425.4,-157.6C425.15,-160.4 424.89,-163.28 424.64,-166.08\"/>\n",
       "</g>\n",
       "<!-- 12&#45;&#45;14 -->\n",
       "<g id=\"edge41\" class=\"edge\">\n",
       "<title>12&#45;&#45;14</title>\n",
       "<path fill=\"none\" stroke=\"#8da0cb\" d=\"M417.84,-156.47C411.95,-167.36 404.34,-181.43 398.42,-192.38\"/>\n",
       "</g>\n",
       "<!-- 12&#45;&#45;15 -->\n",
       "<g id=\"edge42\" class=\"edge\">\n",
       "<title>12&#45;&#45;15</title>\n",
       "<path fill=\"none\" stroke=\"#8da0cb\" d=\"M409.58,-125.56C409.45,-125.45 409.32,-125.35 409.19,-125.24\"/>\n",
       "</g>\n",
       "<!-- 13&#45;&#45;14 -->\n",
       "<g id=\"edge43\" class=\"edge\">\n",
       "<title>13&#45;&#45;14</title>\n",
       "<path fill=\"none\" stroke=\"#8da0cb\" d=\"M404.83,-197.78C404.71,-197.88 404.58,-197.97 404.46,-198.07\"/>\n",
       "</g>\n",
       "<!-- 13&#45;&#45;15 -->\n",
       "<g id=\"edge44\" class=\"edge\">\n",
       "<title>13&#45;&#45;15</title>\n",
       "<path fill=\"none\" stroke=\"#8da0cb\" d=\"M415.73,-166.67C411.04,-155.47 404.95,-140.96 400.25,-129.74\"/>\n",
       "</g>\n",
       "<!-- 14&#45;&#45;15 -->\n",
       "<g id=\"edge45\" class=\"edge\">\n",
       "<title>14&#45;&#45;15</title>\n",
       "<path fill=\"none\" stroke=\"#8da0cb\" d=\"M389.77,-191.39C390.46,-173.97 391.5,-147.92 392.2,-130.52\"/>\n",
       "</g>\n",
       "</g>\n",
       "</svg>\n"
      ],
      "text/plain": [
       "<graphviz.files.Source at 0x7fc219864150>"
      ]
     },
     "execution_count": 5,
     "metadata": {},
     "output_type": "execute_result"
    }
   ],
   "source": [
    "GraphVisualizer(barbell).plot_dot()"
   ]
  },
  {
   "cell_type": "markdown",
   "metadata": {
    "id": "M991dugl9IWn"
   },
   "source": [
    "## Chain graph\n",
    "A chain graph is a sequence of (double) linked nodes."
   ]
  },
  {
   "cell_type": "code",
   "execution_count": 6,
   "metadata": {
    "id": "lBjws_3D8Now"
   },
   "outputs": [],
   "source": [
    "chain = Graph.generate_chain_graph()"
   ]
  },
  {
   "cell_type": "markdown",
   "metadata": {
    "id": "m0Q1nXHi_cvv"
   },
   "source": [
    "Let's compute the graph report:"
   ]
  },
  {
   "cell_type": "code",
   "execution_count": 7,
   "metadata": {
    "colab": {
     "base_uri": "https://localhost:8080/",
     "height": 467
    },
    "id": "H2L-YEDf_bWF",
    "outputId": "58c3d91a-880f-4439-d26c-c71ea55906ce"
   },
   "outputs": [
    {
     "data": {
      "text/html": [
       "<div class=\"graph-report\"><style>.graph-report li {margin: 0.5em 0 0.5em 0;}.graph-report .paragraph {text-align: justify;word-break: break-all;}.graph-report .small-columns {column-count: 4;column-gap: 2em;}.graph-report .medium-columns {column-count: 3;column-gap: 2em;}.graph-report .large-columns {column-count: 2;column-gap: 2em;}.graph-report .single-column {}@media only screen and (max-width: 600px) {.graph-report .small-columns {column-count: 1;}.graph-report .medium-columns {column-count: 1;}.graph-report .large-columns {column-count: 1;}}@media only screen and (min-width: 600px) and (max-width: 800px) {.graph-report .small-columns {column-count: 2;}.graph-report .medium-columns {column-count: 1;}.graph-report .large-columns {column-count: 1;}}@media only screen and (min-width: 800px) and (max-width: 1024px) {.graph-report .small-columns {column-count: 3;}.graph-report .medium-columns {column-count: 2;}.graph-report .large-columns {column-count: 1;}}</style><h2>Chain</h2><p class=\"paragraph\">The undirected graph Chain has 10 homogeneous nodes and 9 homogeneous edges. The graph is connected, that is, it is composed of a single connected component that includes all nodes and edges. The RAM requirements for the nodes and edges data structures are 80B and 280B respectively.</p><h3 style=\"margin: 1em 0 0 0;\">Degree centrality</h3><p class=\"paragraph\">The minimum node degree is 1, the maximum node degree is 2, the mode degree is 2, the mean degree is 1.80 and the node degree median is 2.</p><p class=\"paragraph\">The nodes with the highest degree centrality are 1 (degree 2 and node type chain), 2 (degree 2 and node type chain), 3 (degree 2 and node type chain), 4 (degree 2 and node type chain) and 5 (degree 2 and node type chain).</p><h3 style=\"margin: 1em 0 0 0;\">Node types</h3><p class=\"paragraph\">The graph has a single node type, which is chain. The RAM requirement for the node types data structure is 773B.</p><h4 style=\"margin: 1em 0 0 0;\">Homogeneous node types</h4><p class=\"paragraph\">Homogeneous node types are node types that are assigned to all the nodes in the graph, making the node type relatively meaningless, as it adds no more information than the fact that the node is in the graph. The graph contains a homogeneous node type, which is chain.</p><h3 style=\"margin: 1em 0 0 0;\">Edge types</h3><p class=\"paragraph\">The graph has a single edge type, which is chain. The RAM requirement for the edge types data structure is 392B.</p><h3 style=\"margin: 1em 0 0 0;\">Topological Oddities</h3><p class=\"paragraph\">A topological oddity is a set of nodes in the graph that <i>may be derived</i> by an error during the generation of the edge list of the graph and, depending on the task, could bias the results of topology-based models. In the following paragraph, we will describe the detected topological oddities.</p><h4 style=\"margin: 1em 0 0 0;\">Trees</h4><p class=\"paragraph\">A tree is a connected component with <code>n</code> nodes and <code>n-1</code> edges. We have detected  a single tree in the graph, involving a total of 10 nodes (100.00%) and 9 edges (50.00%).</p><ul class=\"large-columns\"><li><p class=\"paragraph\">Tree starting from the root node 5 (degree 2), and containing 10 nodes, with a maximal depth of 5, which are 4, 6, 3, 7 and 2. Its nodes have a single node type, which is chain. Its edges have a single edge type, which is chain.</p></li></ul></div>"
      ],
      "text/plain": [
       "<div class=\"graph-report\"><style>.graph-report li {margin: 0.5em 0 0.5em 0;}.graph-report .paragraph {text-align: justify;word-break: break-all;}.graph-report .small-columns {column-count: 4;column-gap: 2em;}.graph-report .medium-columns {column-count: 3;column-gap: 2em;}.graph-report .large-columns {column-count: 2;column-gap: 2em;}.graph-report .single-column {}@media only screen and (max-width: 600px) {.graph-report .small-columns {column-count: 1;}.graph-report .medium-columns {column-count: 1;}.graph-report .large-columns {column-count: 1;}}@media only screen and (min-width: 600px) and (max-width: 800px) {.graph-report .small-columns {column-count: 2;}.graph-report .medium-columns {column-count: 1;}.graph-report .large-columns {column-count: 1;}}@media only screen and (min-width: 800px) and (max-width: 1024px) {.graph-report .small-columns {column-count: 3;}.graph-report .medium-columns {column-count: 2;}.graph-report .large-columns {column-count: 1;}}</style><h2>Chain</h2><p class=\"paragraph\">The undirected graph Chain has 10 homogeneous nodes and 9 homogeneous edges. The graph is connected, that is, it is composed of a single connected component that includes all nodes and edges. The RAM requirements for the nodes and edges data structures are 80B and 280B respectively.</p><h3 style=\"margin: 1em 0 0 0;\">Degree centrality</h3><p class=\"paragraph\">The minimum node degree is 1, the maximum node degree is 2, the mode degree is 2, the mean degree is 1.80 and the node degree median is 2.</p><p class=\"paragraph\">The nodes with the highest degree centrality are 1 (degree 2 and node type chain), 2 (degree 2 and node type chain), 3 (degree 2 and node type chain), 4 (degree 2 and node type chain) and 5 (degree 2 and node type chain).</p><h3 style=\"margin: 1em 0 0 0;\">Node types</h3><p class=\"paragraph\">The graph has a single node type, which is chain. The RAM requirement for the node types data structure is 773B.</p><h4 style=\"margin: 1em 0 0 0;\">Homogeneous node types</h4><p class=\"paragraph\">Homogeneous node types are node types that are assigned to all the nodes in the graph, making the node type relatively meaningless, as it adds no more information than the fact that the node is in the graph. The graph contains a homogeneous node type, which is chain.</p><h3 style=\"margin: 1em 0 0 0;\">Edge types</h3><p class=\"paragraph\">The graph has a single edge type, which is chain. The RAM requirement for the edge types data structure is 392B.</p><h3 style=\"margin: 1em 0 0 0;\">Topological Oddities</h3><p class=\"paragraph\">A topological oddity is a set of nodes in the graph that <i>may be derived</i> by an error during the generation of the edge list of the graph and, depending on the task, could bias the results of topology-based models. In the following paragraph, we will describe the detected topological oddities.</p><h4 style=\"margin: 1em 0 0 0;\">Trees</h4><p class=\"paragraph\">A tree is a connected component with <code>n</code> nodes and <code>n-1</code> edges. We have detected  a single tree in the graph, involving a total of 10 nodes (100.00%) and 9 edges (50.00%).</p><ul class=\"large-columns\"><li><p class=\"paragraph\">Tree starting from the root node 5 (degree 2), and containing 10 nodes, with a maximal depth of 5, which are 4, 6, 3, 7 and 2. Its nodes have a single node type, which is chain. Its edges have a single edge type, which is chain.</p></li></ul></div>"
      ]
     },
     "execution_count": 7,
     "metadata": {},
     "output_type": "execute_result"
    }
   ],
   "source": [
    "chain"
   ]
  },
  {
   "cell_type": "markdown",
   "metadata": {
    "id": "JUHXtlKc_kvQ"
   },
   "source": [
    "And visualize it:"
   ]
  },
  {
   "cell_type": "code",
   "execution_count": 8,
   "metadata": {
    "colab": {
     "base_uri": "https://localhost:8080/",
     "height": 80
    },
    "id": "Ma_duEjm_f1T",
    "outputId": "e101ce04-1b73-4132-ae42-664087874377"
   },
   "outputs": [
    {
     "data": {
      "image/svg+xml": [
       "<?xml version=\"1.0\" encoding=\"UTF-8\" standalone=\"no\"?>\n",
       "<!DOCTYPE svg PUBLIC \"-//W3C//DTD SVG 1.1//EN\"\n",
       " \"http://www.w3.org/Graphics/SVG/1.1/DTD/svg11.dtd\">\n",
       "<!-- Generated by graphviz version 2.50.0 (20211204.2007)\n",
       " -->\n",
       "<!-- Title: G Pages: 1 -->\n",
       "<svg width=\"464pt\" height=\"545pt\"\n",
       " viewBox=\"0.00 0.00 463.51 545.06\" xmlns=\"http://www.w3.org/2000/svg\" xmlns:xlink=\"http://www.w3.org/1999/xlink\">\n",
       "<g id=\"graph0\" class=\"graph\" transform=\"scale(1 1) rotate(0) translate(4 541.06)\">\n",
       "<title>G</title>\n",
       "<polygon fill=\"white\" stroke=\"transparent\" points=\"-4,4 -4,-541.06 459.51,-541.06 459.51,4 -4,4\"/>\n",
       "<!-- 0 -->\n",
       "<g id=\"node1\" class=\"node\">\n",
       "<title>0</title>\n",
       "<ellipse fill=\"#66c2a5\" stroke=\"black\" cx=\"27\" cy=\"-519.06\" rx=\"27\" ry=\"18\"/>\n",
       "<text text-anchor=\"middle\" x=\"27\" y=\"-515.36\" font-family=\"Times,serif\" font-size=\"14.00\">0</text>\n",
       "</g>\n",
       "<!-- 1 -->\n",
       "<g id=\"node2\" class=\"node\">\n",
       "<title>1</title>\n",
       "<ellipse fill=\"#66c2a5\" stroke=\"black\" cx=\"86.19\" cy=\"-477.6\" rx=\"27\" ry=\"18\"/>\n",
       "<text text-anchor=\"middle\" x=\"86.19\" y=\"-473.9\" font-family=\"Times,serif\" font-size=\"14.00\">1</text>\n",
       "</g>\n",
       "<!-- 0&#45;&#45;1 -->\n",
       "<g id=\"edge1\" class=\"edge\">\n",
       "<title>0&#45;&#45;1</title>\n",
       "<path fill=\"none\" stroke=\"#66c2a5\" d=\"M45.73,-505.94C52.64,-501.1 60.46,-495.62 67.38,-490.77\"/>\n",
       "</g>\n",
       "<!-- 2 -->\n",
       "<g id=\"node3\" class=\"node\">\n",
       "<title>2</title>\n",
       "<ellipse fill=\"#66c2a5\" stroke=\"black\" cx=\"139.81\" cy=\"-429.2\" rx=\"27\" ry=\"18\"/>\n",
       "<text text-anchor=\"middle\" x=\"139.81\" y=\"-425.5\" font-family=\"Times,serif\" font-size=\"14.00\">2</text>\n",
       "</g>\n",
       "<!-- 1&#45;&#45;2 -->\n",
       "<g id=\"edge2\" class=\"edge\">\n",
       "<title>1&#45;&#45;2</title>\n",
       "<path fill=\"none\" stroke=\"#66c2a5\" d=\"M102.28,-463.08C109.06,-456.95 116.95,-449.83 123.73,-443.71\"/>\n",
       "</g>\n",
       "<!-- 3 -->\n",
       "<g id=\"node4\" class=\"node\">\n",
       "<title>3</title>\n",
       "<ellipse fill=\"#66c2a5\" stroke=\"black\" cx=\"192.87\" cy=\"-380.04\" rx=\"27\" ry=\"18\"/>\n",
       "<text text-anchor=\"middle\" x=\"192.87\" y=\"-376.34\" font-family=\"Times,serif\" font-size=\"14.00\">3</text>\n",
       "</g>\n",
       "<!-- 2&#45;&#45;3 -->\n",
       "<g id=\"edge3\" class=\"edge\">\n",
       "<title>2&#45;&#45;3</title>\n",
       "<path fill=\"none\" stroke=\"#66c2a5\" d=\"M155.73,-414.45C162.45,-408.22 170.25,-401 176.96,-394.77\"/>\n",
       "</g>\n",
       "<!-- 4 -->\n",
       "<g id=\"node5\" class=\"node\">\n",
       "<title>4</title>\n",
       "<ellipse fill=\"#66c2a5\" stroke=\"black\" cx=\"240.33\" cy=\"-325.42\" rx=\"27\" ry=\"18\"/>\n",
       "<text text-anchor=\"middle\" x=\"240.33\" y=\"-321.72\" font-family=\"Times,serif\" font-size=\"14.00\">4</text>\n",
       "</g>\n",
       "<!-- 3&#45;&#45;4 -->\n",
       "<g id=\"edge4\" class=\"edge\">\n",
       "<title>3&#45;&#45;4</title>\n",
       "<path fill=\"none\" stroke=\"#66c2a5\" d=\"M206.6,-364.24C212.84,-357.06 220.21,-348.57 226.47,-341.37\"/>\n",
       "</g>\n",
       "<!-- 5 -->\n",
       "<g id=\"node6\" class=\"node\">\n",
       "<title>5</title>\n",
       "<ellipse fill=\"#66c2a5\" stroke=\"black\" cx=\"281.24\" cy=\"-265.81\" rx=\"27\" ry=\"18\"/>\n",
       "<text text-anchor=\"middle\" x=\"281.24\" y=\"-262.11\" font-family=\"Times,serif\" font-size=\"14.00\">5</text>\n",
       "</g>\n",
       "<!-- 4&#45;&#45;5 -->\n",
       "<g id=\"edge5\" class=\"edge\">\n",
       "<title>4&#45;&#45;5</title>\n",
       "<path fill=\"none\" stroke=\"#66c2a5\" d=\"M251.73,-308.81C257.4,-300.55 264.24,-290.58 269.91,-282.32\"/>\n",
       "</g>\n",
       "<!-- 6 -->\n",
       "<g id=\"node7\" class=\"node\">\n",
       "<title>6</title>\n",
       "<ellipse fill=\"#66c2a5\" stroke=\"black\" cx=\"316.94\" cy=\"-203.01\" rx=\"27\" ry=\"18\"/>\n",
       "<text text-anchor=\"middle\" x=\"316.94\" y=\"-199.31\" font-family=\"Times,serif\" font-size=\"14.00\">6</text>\n",
       "</g>\n",
       "<!-- 5&#45;&#45;6 -->\n",
       "<g id=\"edge6\" class=\"edge\">\n",
       "<title>5&#45;&#45;6</title>\n",
       "<path fill=\"none\" stroke=\"#66c2a5\" d=\"M291,-248.65C296.04,-239.78 302.16,-229 307.2,-220.15\"/>\n",
       "</g>\n",
       "<!-- 7 -->\n",
       "<g id=\"node8\" class=\"node\">\n",
       "<title>7</title>\n",
       "<ellipse fill=\"#66c2a5\" stroke=\"black\" cx=\"356.68\" cy=\"-142.74\" rx=\"27\" ry=\"18\"/>\n",
       "<text text-anchor=\"middle\" x=\"356.68\" y=\"-139.04\" font-family=\"Times,serif\" font-size=\"14.00\">7</text>\n",
       "</g>\n",
       "<!-- 6&#45;&#45;7 -->\n",
       "<g id=\"edge7\" class=\"edge\">\n",
       "<title>6&#45;&#45;7</title>\n",
       "<path fill=\"none\" stroke=\"#66c2a5\" d=\"M328.01,-186.22C333.52,-177.86 340.17,-167.78 345.67,-159.44\"/>\n",
       "</g>\n",
       "<!-- 8 -->\n",
       "<g id=\"node9\" class=\"node\">\n",
       "<title>8</title>\n",
       "<ellipse fill=\"#66c2a5\" stroke=\"black\" cx=\"387.94\" cy=\"-77.64\" rx=\"27\" ry=\"18\"/>\n",
       "<text text-anchor=\"middle\" x=\"387.94\" y=\"-73.94\" font-family=\"Times,serif\" font-size=\"14.00\">8</text>\n",
       "</g>\n",
       "<!-- 7&#45;&#45;8 -->\n",
       "<g id=\"edge8\" class=\"edge\">\n",
       "<title>7&#45;&#45;8</title>\n",
       "<path fill=\"none\" stroke=\"#66c2a5\" d=\"M365.06,-125.29C369.55,-115.95 375.05,-104.48 379.54,-95.13\"/>\n",
       "</g>\n",
       "<!-- 9 -->\n",
       "<g id=\"node10\" class=\"node\">\n",
       "<title>9</title>\n",
       "<ellipse fill=\"#66c2a5\" stroke=\"black\" cx=\"428.51\" cy=\"-18\" rx=\"27\" ry=\"18\"/>\n",
       "<text text-anchor=\"middle\" x=\"428.51\" y=\"-14.3\" font-family=\"Times,serif\" font-size=\"14.00\">9</text>\n",
       "</g>\n",
       "<!-- 8&#45;&#45;9 -->\n",
       "<g id=\"edge9\" class=\"edge\">\n",
       "<title>8&#45;&#45;9</title>\n",
       "<path fill=\"none\" stroke=\"#66c2a5\" d=\"M399.24,-61.03C404.87,-52.75 411.65,-42.78 417.27,-34.52\"/>\n",
       "</g>\n",
       "</g>\n",
       "</svg>\n"
      ],
      "text/plain": [
       "<graphviz.files.Source at 0x7fc22830e450>"
      ]
     },
     "execution_count": 8,
     "metadata": {},
     "output_type": "execute_result"
    }
   ],
   "source": [
    "GraphVisualizer(chain).plot_dot()"
   ]
  },
  {
   "cell_type": "markdown",
   "metadata": {
    "id": "Yd_onudN_p3D"
   },
   "source": [
    "## Circle graph\n",
    "A circle graph is a sequence of (double) linked nodes, with the last node linked back to the first one."
   ]
  },
  {
   "cell_type": "code",
   "execution_count": 9,
   "metadata": {
    "id": "uv9XzBVe_nui"
   },
   "outputs": [],
   "source": [
    "circle = Graph.generate_circle_graph()"
   ]
  },
  {
   "cell_type": "markdown",
   "metadata": {
    "id": "yy22trJ0AIl7"
   },
   "source": [
    "Let's compute the graph report:"
   ]
  },
  {
   "cell_type": "code",
   "execution_count": 10,
   "metadata": {
    "colab": {
     "base_uri": "https://localhost:8080/",
     "height": 467
    },
    "id": "cmKmszYkAHB4",
    "outputId": "433d0b87-8b48-4135-c00b-0f47b9079a7b"
   },
   "outputs": [
    {
     "data": {
      "text/html": [
       "<div class=\"graph-report\"><style>.graph-report li {margin: 0.5em 0 0.5em 0;}.graph-report .paragraph {text-align: justify;word-break: break-all;}.graph-report .small-columns {column-count: 4;column-gap: 2em;}.graph-report .medium-columns {column-count: 3;column-gap: 2em;}.graph-report .large-columns {column-count: 2;column-gap: 2em;}.graph-report .single-column {}@media only screen and (max-width: 600px) {.graph-report .small-columns {column-count: 1;}.graph-report .medium-columns {column-count: 1;}.graph-report .large-columns {column-count: 1;}}@media only screen and (min-width: 600px) and (max-width: 800px) {.graph-report .small-columns {column-count: 2;}.graph-report .medium-columns {column-count: 1;}.graph-report .large-columns {column-count: 1;}}@media only screen and (min-width: 800px) and (max-width: 1024px) {.graph-report .small-columns {column-count: 3;}.graph-report .medium-columns {column-count: 2;}.graph-report .large-columns {column-count: 1;}}</style><h2>Circle</h2><p class=\"paragraph\">The undirected graph Circle has 10 homogeneous nodes and 10 homogeneous edges. The graph is connected, that is, it is composed of a single connected component that includes all nodes and edges. The RAM requirements for the nodes and edges data structures are 80B and 280B respectively.</p><h3 style=\"margin: 1em 0 0 0;\">Degree centrality</h3><p class=\"paragraph\">The minimum node degree is 2, the maximum node degree is 2, the mode degree is 2, the mean degree is 2.00 and the node degree median is 2.</p><p class=\"paragraph\">The nodes with the highest degree centrality are 0 (degree 2 and node type circle), 1 (degree 2 and node type circle), 2 (degree 2 and node type circle), 3 (degree 2 and node type circle) and 4 (degree 2 and node type circle).</p><h3 style=\"margin: 1em 0 0 0;\">Node types</h3><p class=\"paragraph\">The graph has a single node type, which is circle. The RAM requirement for the node types data structure is 777B.</p><h4 style=\"margin: 1em 0 0 0;\">Homogeneous node types</h4><p class=\"paragraph\">Homogeneous node types are node types that are assigned to all the nodes in the graph, making the node type relatively meaningless, as it adds no more information than the fact that the node is in the graph. The graph contains a homogeneous node type, which is circle.</p><h3 style=\"margin: 1em 0 0 0;\">Edge types</h3><p class=\"paragraph\">The graph has a single edge type, which is circle. The RAM requirement for the edge types data structure is 412B.</p><h3 style=\"margin: 1em 0 0 0;\">Topological Oddities</h3><p class=\"paragraph\">A topological oddity is a set of nodes in the graph that <i>may be derived</i> by an error during the generation of the edge list of the graph and, depending on the task, could bias the results of topology-based models. In the following paragraph, we will describe the detected topological oddities.</p><h4 style=\"margin: 1em 0 0 0;\">Circles</h4><p class=\"paragraph\">A circle is a connected component composed exclusively of nodes with unique degree 2, that is ignoring self-loop and multi-edges. We have detected  a single circle in the graph, involving a total of 10 nodes (100.00%) and 11 edges (55.00%), with the largest one involving 10 nodes and 11 edges.</p><ul class=\"medium-columns\"><li><p class=\"paragraph\">Circle containing 10 nodes. Specifically, the nodes involved in the circle are: 1, 2, 3, 4, 5 and other 4. Its nodes have a single node type, which is circle. Its edges have a single edge type, which is circle.</p></li></ul></div>"
      ],
      "text/plain": [
       "<div class=\"graph-report\"><style>.graph-report li {margin: 0.5em 0 0.5em 0;}.graph-report .paragraph {text-align: justify;word-break: break-all;}.graph-report .small-columns {column-count: 4;column-gap: 2em;}.graph-report .medium-columns {column-count: 3;column-gap: 2em;}.graph-report .large-columns {column-count: 2;column-gap: 2em;}.graph-report .single-column {}@media only screen and (max-width: 600px) {.graph-report .small-columns {column-count: 1;}.graph-report .medium-columns {column-count: 1;}.graph-report .large-columns {column-count: 1;}}@media only screen and (min-width: 600px) and (max-width: 800px) {.graph-report .small-columns {column-count: 2;}.graph-report .medium-columns {column-count: 1;}.graph-report .large-columns {column-count: 1;}}@media only screen and (min-width: 800px) and (max-width: 1024px) {.graph-report .small-columns {column-count: 3;}.graph-report .medium-columns {column-count: 2;}.graph-report .large-columns {column-count: 1;}}</style><h2>Circle</h2><p class=\"paragraph\">The undirected graph Circle has 10 homogeneous nodes and 10 homogeneous edges. The graph is connected, that is, it is composed of a single connected component that includes all nodes and edges. The RAM requirements for the nodes and edges data structures are 80B and 280B respectively.</p><h3 style=\"margin: 1em 0 0 0;\">Degree centrality</h3><p class=\"paragraph\">The minimum node degree is 2, the maximum node degree is 2, the mode degree is 2, the mean degree is 2.00 and the node degree median is 2.</p><p class=\"paragraph\">The nodes with the highest degree centrality are 0 (degree 2 and node type circle), 1 (degree 2 and node type circle), 2 (degree 2 and node type circle), 3 (degree 2 and node type circle) and 4 (degree 2 and node type circle).</p><h3 style=\"margin: 1em 0 0 0;\">Node types</h3><p class=\"paragraph\">The graph has a single node type, which is circle. The RAM requirement for the node types data structure is 777B.</p><h4 style=\"margin: 1em 0 0 0;\">Homogeneous node types</h4><p class=\"paragraph\">Homogeneous node types are node types that are assigned to all the nodes in the graph, making the node type relatively meaningless, as it adds no more information than the fact that the node is in the graph. The graph contains a homogeneous node type, which is circle.</p><h3 style=\"margin: 1em 0 0 0;\">Edge types</h3><p class=\"paragraph\">The graph has a single edge type, which is circle. The RAM requirement for the edge types data structure is 412B.</p><h3 style=\"margin: 1em 0 0 0;\">Topological Oddities</h3><p class=\"paragraph\">A topological oddity is a set of nodes in the graph that <i>may be derived</i> by an error during the generation of the edge list of the graph and, depending on the task, could bias the results of topology-based models. In the following paragraph, we will describe the detected topological oddities.</p><h4 style=\"margin: 1em 0 0 0;\">Circles</h4><p class=\"paragraph\">A circle is a connected component composed exclusively of nodes with unique degree 2, that is ignoring self-loop and multi-edges. We have detected  a single circle in the graph, involving a total of 10 nodes (100.00%) and 11 edges (55.00%), with the largest one involving 10 nodes and 11 edges.</p><ul class=\"medium-columns\"><li><p class=\"paragraph\">Circle containing 10 nodes. Specifically, the nodes involved in the circle are: 1, 2, 3, 4, 5 and other 4. Its nodes have a single node type, which is circle. Its edges have a single edge type, which is circle.</p></li></ul></div>"
      ]
     },
     "execution_count": 10,
     "metadata": {},
     "output_type": "execute_result"
    }
   ],
   "source": [
    "circle"
   ]
  },
  {
   "cell_type": "markdown",
   "metadata": {
    "id": "jdbatgDJALg1"
   },
   "source": [
    "And visualize it:"
   ]
  },
  {
   "cell_type": "code",
   "execution_count": 11,
   "metadata": {
    "colab": {
     "base_uri": "https://localhost:8080/",
     "height": 588
    },
    "id": "apQ0SCcNAGPE",
    "outputId": "4e8731d4-fb46-4e16-81a8-135150f05b59"
   },
   "outputs": [
    {
     "data": {
      "image/svg+xml": [
       "<?xml version=\"1.0\" encoding=\"UTF-8\" standalone=\"no\"?>\n",
       "<!DOCTYPE svg PUBLIC \"-//W3C//DTD SVG 1.1//EN\"\n",
       " \"http://www.w3.org/Graphics/SVG/1.1/DTD/svg11.dtd\">\n",
       "<!-- Generated by graphviz version 2.50.0 (20211204.2007)\n",
       " -->\n",
       "<!-- Title: G Pages: 1 -->\n",
       "<svg width=\"313pt\" height=\"308pt\"\n",
       " viewBox=\"0.00 0.00 313.27 307.70\" xmlns=\"http://www.w3.org/2000/svg\" xmlns:xlink=\"http://www.w3.org/1999/xlink\">\n",
       "<g id=\"graph0\" class=\"graph\" transform=\"scale(1 1) rotate(0) translate(4 303.7)\">\n",
       "<title>G</title>\n",
       "<polygon fill=\"white\" stroke=\"transparent\" points=\"-4,4 -4,-303.7 309.27,-303.7 309.27,4 -4,4\"/>\n",
       "<!-- 0 -->\n",
       "<g id=\"node1\" class=\"node\">\n",
       "<title>0</title>\n",
       "<ellipse fill=\"#66c2a5\" stroke=\"black\" cx=\"278.27\" cy=\"-111.12\" rx=\"27\" ry=\"18\"/>\n",
       "<text text-anchor=\"middle\" x=\"278.27\" y=\"-107.42\" font-family=\"Times,serif\" font-size=\"14.00\">0</text>\n",
       "</g>\n",
       "<!-- 1 -->\n",
       "<g id=\"node2\" class=\"node\">\n",
       "<title>1</title>\n",
       "<ellipse fill=\"#66c2a5\" stroke=\"black\" cx=\"277.21\" cy=\"-192.43\" rx=\"27\" ry=\"18\"/>\n",
       "<text text-anchor=\"middle\" x=\"277.21\" y=\"-188.73\" font-family=\"Times,serif\" font-size=\"14.00\">1</text>\n",
       "</g>\n",
       "<!-- 0&#45;&#45;1 -->\n",
       "<g id=\"edge1\" class=\"edge\">\n",
       "<title>0&#45;&#45;1</title>\n",
       "<path fill=\"none\" stroke=\"#66c2a5\" d=\"M278.03,-129.16C277.86,-142.55 277.62,-160.72 277.45,-174.16\"/>\n",
       "</g>\n",
       "<!-- 9 -->\n",
       "<g id=\"node10\" class=\"node\">\n",
       "<title>9</title>\n",
       "<ellipse fill=\"#66c2a5\" stroke=\"black\" cx=\"231.78\" cy=\"-44.39\" rx=\"27\" ry=\"18\"/>\n",
       "<text text-anchor=\"middle\" x=\"231.78\" y=\"-40.69\" font-family=\"Times,serif\" font-size=\"14.00\">9</text>\n",
       "</g>\n",
       "<!-- 0&#45;&#45;9 -->\n",
       "<g id=\"edge2\" class=\"edge\">\n",
       "<title>0&#45;&#45;9</title>\n",
       "<path fill=\"none\" stroke=\"#66c2a5\" d=\"M266.78,-94.62C259.68,-84.43 250.59,-71.4 243.46,-61.16\"/>\n",
       "</g>\n",
       "<!-- 2 -->\n",
       "<g id=\"node3\" class=\"node\">\n",
       "<title>2</title>\n",
       "<ellipse fill=\"#66c2a5\" stroke=\"black\" cx=\"228.35\" cy=\"-257.45\" rx=\"27\" ry=\"18\"/>\n",
       "<text text-anchor=\"middle\" x=\"228.35\" y=\"-253.75\" font-family=\"Times,serif\" font-size=\"14.00\">2</text>\n",
       "</g>\n",
       "<!-- 1&#45;&#45;2 -->\n",
       "<g id=\"edge3\" class=\"edge\">\n",
       "<title>1&#45;&#45;2</title>\n",
       "<path fill=\"none\" stroke=\"#66c2a5\" d=\"M264.88,-208.84C257.41,-218.77 247.94,-231.38 240.5,-241.27\"/>\n",
       "</g>\n",
       "<!-- 3 -->\n",
       "<g id=\"node4\" class=\"node\">\n",
       "<title>3</title>\n",
       "<ellipse fill=\"#66c2a5\" stroke=\"black\" cx=\"150.71\" cy=\"-281.7\" rx=\"27\" ry=\"18\"/>\n",
       "<text text-anchor=\"middle\" x=\"150.71\" y=\"-278\" font-family=\"Times,serif\" font-size=\"14.00\">3</text>\n",
       "</g>\n",
       "<!-- 2&#45;&#45;3 -->\n",
       "<g id=\"edge4\" class=\"edge\">\n",
       "<title>2&#45;&#45;3</title>\n",
       "<path fill=\"none\" stroke=\"#66c2a5\" d=\"M203.78,-265.12C194.72,-267.95 184.46,-271.16 175.38,-274\"/>\n",
       "</g>\n",
       "<!-- 4 -->\n",
       "<g id=\"node5\" class=\"node\">\n",
       "<title>4</title>\n",
       "<ellipse fill=\"#66c2a5\" stroke=\"black\" cx=\"73.85\" cy=\"-255.12\" rx=\"27\" ry=\"18\"/>\n",
       "<text text-anchor=\"middle\" x=\"73.85\" y=\"-251.42\" font-family=\"Times,serif\" font-size=\"14.00\">4</text>\n",
       "</g>\n",
       "<!-- 3&#45;&#45;4 -->\n",
       "<g id=\"edge5\" class=\"edge\">\n",
       "<title>3&#45;&#45;4</title>\n",
       "<path fill=\"none\" stroke=\"#66c2a5\" d=\"M126.39,-273.29C117.33,-270.16 107.06,-266.6 98.01,-263.48\"/>\n",
       "</g>\n",
       "<!-- 5 -->\n",
       "<g id=\"node6\" class=\"node\">\n",
       "<title>5</title>\n",
       "<ellipse fill=\"#66c2a5\" stroke=\"black\" cx=\"27\" cy=\"-188.65\" rx=\"27\" ry=\"18\"/>\n",
       "<text text-anchor=\"middle\" x=\"27\" y=\"-184.95\" font-family=\"Times,serif\" font-size=\"14.00\">5</text>\n",
       "</g>\n",
       "<!-- 4&#45;&#45;5 -->\n",
       "<g id=\"edge6\" class=\"edge\">\n",
       "<title>4&#45;&#45;5</title>\n",
       "<path fill=\"none\" stroke=\"#66c2a5\" d=\"M62.27,-238.69C55.12,-228.54 45.96,-215.55 38.77,-205.35\"/>\n",
       "</g>\n",
       "<!-- 6 -->\n",
       "<g id=\"node7\" class=\"node\">\n",
       "<title>6</title>\n",
       "<ellipse fill=\"#66c2a5\" stroke=\"black\" cx=\"28.27\" cy=\"-107.32\" rx=\"27\" ry=\"18\"/>\n",
       "<text text-anchor=\"middle\" x=\"28.27\" y=\"-103.62\" font-family=\"Times,serif\" font-size=\"14.00\">6</text>\n",
       "</g>\n",
       "<!-- 5&#45;&#45;6 -->\n",
       "<g id=\"edge7\" class=\"edge\">\n",
       "<title>5&#45;&#45;6</title>\n",
       "<path fill=\"none\" stroke=\"#66c2a5\" d=\"M27.28,-170.6C27.49,-157.22 27.77,-139.04 27.98,-125.6\"/>\n",
       "</g>\n",
       "<!-- 7 -->\n",
       "<g id=\"node8\" class=\"node\">\n",
       "<title>7</title>\n",
       "<ellipse fill=\"#66c2a5\" stroke=\"black\" cx=\"77.26\" cy=\"-42.42\" rx=\"27\" ry=\"18\"/>\n",
       "<text text-anchor=\"middle\" x=\"77.26\" y=\"-38.72\" font-family=\"Times,serif\" font-size=\"14.00\">7</text>\n",
       "</g>\n",
       "<!-- 6&#45;&#45;7 -->\n",
       "<g id=\"edge8\" class=\"edge\">\n",
       "<title>6&#45;&#45;7</title>\n",
       "<path fill=\"none\" stroke=\"#66c2a5\" d=\"M40.63,-90.95C48.11,-81.03 57.62,-68.44 65.07,-58.57\"/>\n",
       "</g>\n",
       "<!-- 8 -->\n",
       "<g id=\"node9\" class=\"node\">\n",
       "<title>8</title>\n",
       "<ellipse fill=\"#66c2a5\" stroke=\"black\" cx=\"154.83\" cy=\"-18\" rx=\"27\" ry=\"18\"/>\n",
       "<text text-anchor=\"middle\" x=\"154.83\" y=\"-14.3\" font-family=\"Times,serif\" font-size=\"14.00\">8</text>\n",
       "</g>\n",
       "<!-- 7&#45;&#45;8 -->\n",
       "<g id=\"edge9\" class=\"edge\">\n",
       "<title>7&#45;&#45;8</title>\n",
       "<path fill=\"none\" stroke=\"#66c2a5\" d=\"M101.8,-34.7C110.86,-31.84 121.12,-28.61 130.18,-25.76\"/>\n",
       "</g>\n",
       "<!-- 8&#45;&#45;9 -->\n",
       "<g id=\"edge10\" class=\"edge\">\n",
       "<title>8&#45;&#45;9</title>\n",
       "<path fill=\"none\" stroke=\"#66c2a5\" d=\"M179.18,-26.35C188.25,-29.46 198.53,-32.99 207.59,-36.09\"/>\n",
       "</g>\n",
       "</g>\n",
       "</svg>\n"
      ],
      "text/plain": [
       "<graphviz.files.Source at 0x7fc21988ed50>"
      ]
     },
     "execution_count": 11,
     "metadata": {},
     "output_type": "execute_result"
    }
   ],
   "source": [
    "GraphVisualizer(circle).plot_dot()"
   ]
  },
  {
   "cell_type": "markdown",
   "metadata": {
    "id": "_Rqri-KdAVAj"
   },
   "source": [
    "## Complete graph\n",
    "A [complete graph](https://en.wikipedia.org/wiki/Complete_graph#:~:text=In%20the%20mathematical%20field%20of,(one%20in%20each%20direction)) is a graph where every node is connected to every other node."
   ]
  },
  {
   "cell_type": "code",
   "execution_count": 12,
   "metadata": {
    "id": "_b7GHPf5AUZx"
   },
   "outputs": [],
   "source": [
    "complete = Graph.generate_complete_graph()"
   ]
  },
  {
   "cell_type": "markdown",
   "metadata": {
    "id": "Ti_au7dPAhyR"
   },
   "source": [
    "Let's compute the graph report:"
   ]
  },
  {
   "cell_type": "code",
   "execution_count": 13,
   "metadata": {
    "colab": {
     "base_uri": "https://localhost:8080/",
     "height": 467
    },
    "id": "2p5wvz_nAPn1",
    "outputId": "d47db064-51a5-48db-a460-48596ae0b1b4"
   },
   "outputs": [
    {
     "data": {
      "text/html": [
       "<div class=\"graph-report\"><style>.graph-report li {margin: 0.5em 0 0.5em 0;}.graph-report .paragraph {text-align: justify;word-break: break-all;}.graph-report .small-columns {column-count: 4;column-gap: 2em;}.graph-report .medium-columns {column-count: 3;column-gap: 2em;}.graph-report .large-columns {column-count: 2;column-gap: 2em;}.graph-report .single-column {}@media only screen and (max-width: 600px) {.graph-report .small-columns {column-count: 1;}.graph-report .medium-columns {column-count: 1;}.graph-report .large-columns {column-count: 1;}}@media only screen and (min-width: 600px) and (max-width: 800px) {.graph-report .small-columns {column-count: 2;}.graph-report .medium-columns {column-count: 1;}.graph-report .large-columns {column-count: 1;}}@media only screen and (min-width: 800px) and (max-width: 1024px) {.graph-report .small-columns {column-count: 3;}.graph-report .medium-columns {column-count: 2;}.graph-report .large-columns {column-count: 1;}}</style><h2>Complete</h2><p class=\"paragraph\">The undirected graph Complete has 10 homogeneous nodes and 45 homogeneous edges. The graph is connected, that is, it is composed of a single connected component that includes all nodes and edges. The RAM requirements for the nodes and edges data structures are 80B and 312B respectively.</p><h3 style=\"margin: 1em 0 0 0;\">Degree centrality</h3><p class=\"paragraph\">The minimum node degree is 9, the maximum node degree is 9, the mode degree is 9, the mean degree is 9.00 and the node degree median is 9.</p><p class=\"paragraph\">The nodes with the highest degree centrality are 0 (degree 9 and node type complete), 1 (degree 9 and node type complete), 2 (degree 9 and node type complete), 3 (degree 9 and node type complete) and 4 (degree 9 and node type complete).</p><h3 style=\"margin: 1em 0 0 0;\">Node types</h3><p class=\"paragraph\">The graph has a single node type, which is complete. The RAM requirement for the node types data structure is 785B.</p><h4 style=\"margin: 1em 0 0 0;\">Homogeneous node types</h4><p class=\"paragraph\">Homogeneous node types are node types that are assigned to all the nodes in the graph, making the node type relatively meaningless, as it adds no more information than the fact that the node is in the graph. The graph contains a homogeneous node type, which is complete.</p><h3 style=\"margin: 1em 0 0 0;\">Edge types</h3><p class=\"paragraph\">The graph has a single edge type, which is complete. The RAM requirement for the edge types data structure is 980B.</p></div>"
      ],
      "text/plain": [
       "<div class=\"graph-report\"><style>.graph-report li {margin: 0.5em 0 0.5em 0;}.graph-report .paragraph {text-align: justify;word-break: break-all;}.graph-report .small-columns {column-count: 4;column-gap: 2em;}.graph-report .medium-columns {column-count: 3;column-gap: 2em;}.graph-report .large-columns {column-count: 2;column-gap: 2em;}.graph-report .single-column {}@media only screen and (max-width: 600px) {.graph-report .small-columns {column-count: 1;}.graph-report .medium-columns {column-count: 1;}.graph-report .large-columns {column-count: 1;}}@media only screen and (min-width: 600px) and (max-width: 800px) {.graph-report .small-columns {column-count: 2;}.graph-report .medium-columns {column-count: 1;}.graph-report .large-columns {column-count: 1;}}@media only screen and (min-width: 800px) and (max-width: 1024px) {.graph-report .small-columns {column-count: 3;}.graph-report .medium-columns {column-count: 2;}.graph-report .large-columns {column-count: 1;}}</style><h2>Complete</h2><p class=\"paragraph\">The undirected graph Complete has 10 homogeneous nodes and 45 homogeneous edges. The graph is connected, that is, it is composed of a single connected component that includes all nodes and edges. The RAM requirements for the nodes and edges data structures are 80B and 312B respectively.</p><h3 style=\"margin: 1em 0 0 0;\">Degree centrality</h3><p class=\"paragraph\">The minimum node degree is 9, the maximum node degree is 9, the mode degree is 9, the mean degree is 9.00 and the node degree median is 9.</p><p class=\"paragraph\">The nodes with the highest degree centrality are 0 (degree 9 and node type complete), 1 (degree 9 and node type complete), 2 (degree 9 and node type complete), 3 (degree 9 and node type complete) and 4 (degree 9 and node type complete).</p><h3 style=\"margin: 1em 0 0 0;\">Node types</h3><p class=\"paragraph\">The graph has a single node type, which is complete. The RAM requirement for the node types data structure is 785B.</p><h4 style=\"margin: 1em 0 0 0;\">Homogeneous node types</h4><p class=\"paragraph\">Homogeneous node types are node types that are assigned to all the nodes in the graph, making the node type relatively meaningless, as it adds no more information than the fact that the node is in the graph. The graph contains a homogeneous node type, which is complete.</p><h3 style=\"margin: 1em 0 0 0;\">Edge types</h3><p class=\"paragraph\">The graph has a single edge type, which is complete. The RAM requirement for the edge types data structure is 980B.</p></div>"
      ]
     },
     "execution_count": 13,
     "metadata": {},
     "output_type": "execute_result"
    }
   ],
   "source": [
    "complete"
   ]
  },
  {
   "cell_type": "markdown",
   "metadata": {
    "id": "nV5qmMiqAkfk"
   },
   "source": [
    "And visualize it:"
   ]
  },
  {
   "cell_type": "code",
   "execution_count": 14,
   "metadata": {
    "colab": {
     "base_uri": "https://localhost:8080/",
     "height": 588
    },
    "id": "PAXmHQm5AjxN",
    "outputId": "a6a221d4-5e73-4af6-a53e-643068491c6d"
   },
   "outputs": [
    {
     "name": "stderr",
     "output_type": "stream",
     "text": [
      "/Users/lucacappelletti/opt/miniconda3/lib/python3.7/site-packages/embiggen/visualizations/graph_visualizer.py:367: UserWarning: The requested negatives number 45 is more than the number of negative edges that exist in the graph (0).\n",
      "  warnings.warn(str(e))\n"
     ]
    },
    {
     "data": {
      "image/svg+xml": [
       "<?xml version=\"1.0\" encoding=\"UTF-8\" standalone=\"no\"?>\n",
       "<!DOCTYPE svg PUBLIC \"-//W3C//DTD SVG 1.1//EN\"\n",
       " \"http://www.w3.org/Graphics/SVG/1.1/DTD/svg11.dtd\">\n",
       "<!-- Generated by graphviz version 2.50.0 (20211204.2007)\n",
       " -->\n",
       "<!-- Title: G Pages: 1 -->\n",
       "<svg width=\"156pt\" height=\"139pt\"\n",
       " viewBox=\"0.00 0.00 155.90 139.26\" xmlns=\"http://www.w3.org/2000/svg\" xmlns:xlink=\"http://www.w3.org/1999/xlink\">\n",
       "<g id=\"graph0\" class=\"graph\" transform=\"scale(1 1) rotate(0) translate(4 135.26)\">\n",
       "<title>G</title>\n",
       "<polygon fill=\"white\" stroke=\"transparent\" points=\"-4,4 -4,-135.26 151.9,-135.26 151.9,4 -4,4\"/>\n",
       "<!-- 0 -->\n",
       "<g id=\"node1\" class=\"node\">\n",
       "<title>0</title>\n",
       "<ellipse fill=\"#66c2a5\" stroke=\"black\" cx=\"27\" cy=\"-67.29\" rx=\"27\" ry=\"18\"/>\n",
       "<text text-anchor=\"middle\" x=\"27\" y=\"-63.59\" font-family=\"Times,serif\" font-size=\"14.00\">0</text>\n",
       "</g>\n",
       "<!-- 1 -->\n",
       "<g id=\"node2\" class=\"node\">\n",
       "<title>1</title>\n",
       "<ellipse fill=\"#66c2a5\" stroke=\"black\" cx=\"120.18\" cy=\"-82.88\" rx=\"27\" ry=\"18\"/>\n",
       "<text text-anchor=\"middle\" x=\"120.18\" y=\"-79.18\" font-family=\"Times,serif\" font-size=\"14.00\">1</text>\n",
       "</g>\n",
       "<!-- 0&#45;&#45;1 -->\n",
       "<g id=\"edge1\" class=\"edge\">\n",
       "<title>0&#45;&#45;1</title>\n",
       "<path fill=\"none\" stroke=\"#66c2a5\" d=\"M53.45,-71.72C66.15,-73.84 81.32,-76.38 93.98,-78.5\"/>\n",
       "</g>\n",
       "<!-- 2 -->\n",
       "<g id=\"node3\" class=\"node\">\n",
       "<title>2</title>\n",
       "<ellipse fill=\"#66c2a5\" stroke=\"black\" cx=\"66.37\" cy=\"-18\" rx=\"27\" ry=\"18\"/>\n",
       "<text text-anchor=\"middle\" x=\"66.37\" y=\"-14.3\" font-family=\"Times,serif\" font-size=\"14.00\">2</text>\n",
       "</g>\n",
       "<!-- 0&#45;&#45;2 -->\n",
       "<g id=\"edge2\" class=\"edge\">\n",
       "<title>0&#45;&#45;2</title>\n",
       "<path fill=\"none\" stroke=\"#66c2a5\" d=\"M39.89,-51.15C44.29,-45.65 49.2,-39.5 53.58,-34.01\"/>\n",
       "</g>\n",
       "<!-- 3 -->\n",
       "<g id=\"node4\" class=\"node\">\n",
       "<title>3</title>\n",
       "<ellipse fill=\"#66c2a5\" stroke=\"black\" cx=\"67.37\" cy=\"-113.26\" rx=\"27\" ry=\"18\"/>\n",
       "<text text-anchor=\"middle\" x=\"67.37\" y=\"-109.56\" font-family=\"Times,serif\" font-size=\"14.00\">3</text>\n",
       "</g>\n",
       "<!-- 0&#45;&#45;3 -->\n",
       "<g id=\"edge3\" class=\"edge\">\n",
       "<title>0&#45;&#45;3</title>\n",
       "<path fill=\"none\" stroke=\"#66c2a5\" d=\"M40.67,-82.86C44.88,-87.65 49.51,-92.92 53.72,-97.71\"/>\n",
       "</g>\n",
       "<!-- 4 -->\n",
       "<g id=\"node5\" class=\"node\">\n",
       "<title>4</title>\n",
       "<ellipse fill=\"#66c2a5\" stroke=\"black\" cx=\"98.83\" cy=\"-106.82\" rx=\"27\" ry=\"18\"/>\n",
       "<text text-anchor=\"middle\" x=\"98.83\" y=\"-103.12\" font-family=\"Times,serif\" font-size=\"14.00\">4</text>\n",
       "</g>\n",
       "<!-- 0&#45;&#45;4 -->\n",
       "<g id=\"edge4\" class=\"edge\">\n",
       "<title>0&#45;&#45;4</title>\n",
       "<path fill=\"none\" stroke=\"#66c2a5\" d=\"M48.16,-78.94C57.43,-84.04 68.29,-90.02 77.57,-95.12\"/>\n",
       "</g>\n",
       "<!-- 5 -->\n",
       "<g id=\"node6\" class=\"node\">\n",
       "<title>5</title>\n",
       "<ellipse fill=\"#66c2a5\" stroke=\"black\" cx=\"40.13\" cy=\"-96.69\" rx=\"27\" ry=\"18\"/>\n",
       "<text text-anchor=\"middle\" x=\"40.13\" y=\"-92.99\" font-family=\"Times,serif\" font-size=\"14.00\">5</text>\n",
       "</g>\n",
       "<!-- 0&#45;&#45;5 -->\n",
       "<g id=\"edge5\" class=\"edge\">\n",
       "<title>0&#45;&#45;5</title>\n",
       "<path fill=\"none\" stroke=\"#66c2a5\" d=\"M34.79,-84.73C34.83,-84.83 34.88,-84.93 34.92,-85.03\"/>\n",
       "</g>\n",
       "<!-- 6 -->\n",
       "<g id=\"node7\" class=\"node\">\n",
       "<title>6</title>\n",
       "<ellipse fill=\"#66c2a5\" stroke=\"black\" cx=\"37.68\" cy=\"-35.76\" rx=\"27\" ry=\"18\"/>\n",
       "<text text-anchor=\"middle\" x=\"37.68\" y=\"-32.06\" font-family=\"Times,serif\" font-size=\"14.00\">6</text>\n",
       "</g>\n",
       "<!-- 0&#45;&#45;6 -->\n",
       "<g id=\"edge6\" class=\"edge\">\n",
       "<title>0&#45;&#45;6</title>\n",
       "<path fill=\"none\" stroke=\"#66c2a5\" d=\"M32.97,-49.68C33,-49.57 33.04,-49.46 33.08,-49.34\"/>\n",
       "</g>\n",
       "<!-- 7 -->\n",
       "<g id=\"node8\" class=\"node\">\n",
       "<title>7</title>\n",
       "<ellipse fill=\"#66c2a5\" stroke=\"black\" cx=\"120.9\" cy=\"-50.04\" rx=\"27\" ry=\"18\"/>\n",
       "<text text-anchor=\"middle\" x=\"120.9\" y=\"-46.34\" font-family=\"Times,serif\" font-size=\"14.00\">7</text>\n",
       "</g>\n",
       "<!-- 0&#45;&#45;7 -->\n",
       "<g id=\"edge7\" class=\"edge\">\n",
       "<title>0&#45;&#45;7</title>\n",
       "<path fill=\"none\" stroke=\"#66c2a5\" d=\"M53.16,-62.49C66.07,-60.12 81.62,-57.26 94.56,-54.88\"/>\n",
       "</g>\n",
       "<!-- 8 -->\n",
       "<g id=\"node9\" class=\"node\">\n",
       "<title>8</title>\n",
       "<ellipse fill=\"#66c2a5\" stroke=\"black\" cx=\"75.51\" cy=\"-62.67\" rx=\"27\" ry=\"18\"/>\n",
       "<text text-anchor=\"middle\" x=\"75.51\" y=\"-58.97\" font-family=\"Times,serif\" font-size=\"14.00\">8</text>\n",
       "</g>\n",
       "<!-- 0&#45;&#45;8 -->\n",
       "<g id=\"edge8\" class=\"edge\">\n",
       "<title>0&#45;&#45;8</title>\n",
       "<path fill=\"none\" stroke=\"#66c2a5\" d=\"M53.81,-64.74C53.9,-64.73 53.98,-64.72 54.07,-64.71\"/>\n",
       "</g>\n",
       "<!-- 9 -->\n",
       "<g id=\"node10\" class=\"node\">\n",
       "<title>9</title>\n",
       "<ellipse fill=\"#66c2a5\" stroke=\"black\" cx=\"99.9\" cy=\"-23.9\" rx=\"27\" ry=\"18\"/>\n",
       "<text text-anchor=\"middle\" x=\"99.9\" y=\"-20.2\" font-family=\"Times,serif\" font-size=\"14.00\">9</text>\n",
       "</g>\n",
       "<!-- 0&#45;&#45;9 -->\n",
       "<g id=\"edge9\" class=\"edge\">\n",
       "<title>0&#45;&#45;9</title>\n",
       "<path fill=\"none\" stroke=\"#66c2a5\" d=\"M47.31,-55.21C57.42,-49.19 69.6,-41.93 79.7,-35.92\"/>\n",
       "</g>\n",
       "<!-- 1&#45;&#45;2 -->\n",
       "<g id=\"edge10\" class=\"edge\">\n",
       "<title>1&#45;&#45;2</title>\n",
       "<path fill=\"none\" stroke=\"#66c2a5\" d=\"M106.88,-66.84C98.54,-56.78 87.83,-43.87 79.52,-33.85\"/>\n",
       "</g>\n",
       "<!-- 1&#45;&#45;3 -->\n",
       "<g id=\"edge11\" class=\"edge\">\n",
       "<title>1&#45;&#45;3</title>\n",
       "<path fill=\"none\" stroke=\"#66c2a5\" d=\"M99.61,-94.71C95.79,-96.91 91.79,-99.21 87.97,-101.41\"/>\n",
       "</g>\n",
       "<!-- 1&#45;&#45;4 -->\n",
       "<g id=\"edge12\" class=\"edge\">\n",
       "<title>1&#45;&#45;4</title>\n",
       "<path fill=\"none\" stroke=\"#66c2a5\" d=\"M106.29,-98.45C106.17,-98.59 106.04,-98.73 105.91,-98.87\"/>\n",
       "</g>\n",
       "<!-- 1&#45;&#45;5 -->\n",
       "<g id=\"edge13\" class=\"edge\">\n",
       "<title>1&#45;&#45;5</title>\n",
       "<path fill=\"none\" stroke=\"#66c2a5\" d=\"M93.97,-87.4C85.12,-88.92 75.25,-90.63 66.4,-92.15\"/>\n",
       "</g>\n",
       "<!-- 1&#45;&#45;6 -->\n",
       "<g id=\"edge14\" class=\"edge\">\n",
       "<title>1&#45;&#45;6</title>\n",
       "<path fill=\"none\" stroke=\"#66c2a5\" d=\"M99.36,-70.99C86.76,-63.79 70.75,-54.65 58.21,-47.48\"/>\n",
       "</g>\n",
       "<!-- 1&#45;&#45;7 -->\n",
       "<g id=\"edge15\" class=\"edge\">\n",
       "<title>1&#45;&#45;7</title>\n",
       "<path fill=\"none\" stroke=\"#66c2a5\" d=\"M120.58,-64.54C120.58,-64.42 120.59,-64.3 120.59,-64.19\"/>\n",
       "</g>\n",
       "<!-- 1&#45;&#45;8 -->\n",
       "<g id=\"edge16\" class=\"edge\">\n",
       "<title>1&#45;&#45;8</title>\n",
       "<path fill=\"none\" stroke=\"#66c2a5\" d=\"M97.58,-72.65C97.49,-72.61 97.41,-72.57 97.32,-72.54\"/>\n",
       "</g>\n",
       "<!-- 1&#45;&#45;9 -->\n",
       "<g id=\"edge17\" class=\"edge\">\n",
       "<title>1&#45;&#45;9</title>\n",
       "<path fill=\"none\" stroke=\"#66c2a5\" d=\"M114.09,-65.18C111.53,-57.72 108.54,-49.05 105.98,-41.58\"/>\n",
       "</g>\n",
       "<!-- 2&#45;&#45;3 -->\n",
       "<g id=\"edge18\" class=\"edge\">\n",
       "<title>2&#45;&#45;3</title>\n",
       "<path fill=\"none\" stroke=\"#66c2a5\" d=\"M66.56,-36.37C66.74,-53.23 67,-78.1 67.18,-94.95\"/>\n",
       "</g>\n",
       "<!-- 2&#45;&#45;4 -->\n",
       "<g id=\"edge19\" class=\"edge\">\n",
       "<title>2&#45;&#45;4</title>\n",
       "<path fill=\"none\" stroke=\"#66c2a5\" d=\"M72.78,-35.55C78.47,-51.12 86.74,-73.75 92.43,-89.31\"/>\n",
       "</g>\n",
       "<!-- 2&#45;&#45;5 -->\n",
       "<g id=\"edge20\" class=\"edge\">\n",
       "<title>2&#45;&#45;5</title>\n",
       "<path fill=\"none\" stroke=\"#66c2a5\" d=\"M60.42,-35.86C56.12,-48.73 50.35,-66.04 46.06,-78.9\"/>\n",
       "</g>\n",
       "<!-- 2&#45;&#45;6 -->\n",
       "<g id=\"edge21\" class=\"edge\">\n",
       "<title>2&#45;&#45;6</title>\n",
       "<path fill=\"none\" stroke=\"#66c2a5\" d=\"M46.44,-30.33C46.29,-30.43 46.14,-30.52 45.99,-30.62\"/>\n",
       "</g>\n",
       "<!-- 2&#45;&#45;7 -->\n",
       "<g id=\"edge22\" class=\"edge\">\n",
       "<title>2&#45;&#45;7</title>\n",
       "<path fill=\"none\" stroke=\"#66c2a5\" d=\"M86.68,-29.93C91.16,-32.57 95.91,-35.36 100.4,-37.99\"/>\n",
       "</g>\n",
       "<!-- 2&#45;&#45;8 -->\n",
       "<g id=\"edge23\" class=\"edge\">\n",
       "<title>2&#45;&#45;8</title>\n",
       "<path fill=\"none\" stroke=\"#66c2a5\" d=\"M70.03,-35.91C70.63,-38.82 71.25,-41.84 71.84,-44.75\"/>\n",
       "</g>\n",
       "<!-- 2&#45;&#45;9 -->\n",
       "<g id=\"edge24\" class=\"edge\">\n",
       "<title>2&#45;&#45;9</title>\n",
       "<path fill=\"none\" stroke=\"#66c2a5\" d=\"M92.79,-22.65C92.92,-22.67 93.05,-22.69 93.17,-22.72\"/>\n",
       "</g>\n",
       "<!-- 3&#45;&#45;4 -->\n",
       "<g id=\"edge25\" class=\"edge\">\n",
       "<title>3&#45;&#45;4</title>\n",
       "<path fill=\"none\" stroke=\"#66c2a5\" d=\"M93.35,-107.95C93.45,-107.92 93.55,-107.9 93.65,-107.88\"/>\n",
       "</g>\n",
       "<!-- 3&#45;&#45;5 -->\n",
       "<g id=\"edge26\" class=\"edge\">\n",
       "<title>3&#45;&#45;5</title>\n",
       "<path fill=\"none\" stroke=\"#66c2a5\" d=\"M47.29,-101.04C47.16,-100.96 47.03,-100.89 46.91,-100.81\"/>\n",
       "</g>\n",
       "<!-- 3&#45;&#45;6 -->\n",
       "<g id=\"edge27\" class=\"edge\">\n",
       "<title>3&#45;&#45;6</title>\n",
       "<path fill=\"none\" stroke=\"#66c2a5\" d=\"M60.64,-95.67C55.78,-82.99 49.25,-65.94 44.39,-53.28\"/>\n",
       "</g>\n",
       "<!-- 3&#45;&#45;7 -->\n",
       "<g id=\"edge28\" class=\"edge\">\n",
       "<title>3&#45;&#45;7</title>\n",
       "<path fill=\"none\" stroke=\"#66c2a5\" d=\"M80.88,-97.31C89.06,-87.65 99.44,-75.39 107.58,-65.77\"/>\n",
       "</g>\n",
       "<!-- 3&#45;&#45;8 -->\n",
       "<g id=\"edge29\" class=\"edge\">\n",
       "<title>3&#45;&#45;8</title>\n",
       "<path fill=\"none\" stroke=\"#66c2a5\" d=\"M70.26,-95.28C71.03,-90.51 71.86,-85.36 72.63,-80.59\"/>\n",
       "</g>\n",
       "<!-- 3&#45;&#45;9 -->\n",
       "<g id=\"edge30\" class=\"edge\">\n",
       "<title>3&#45;&#45;9</title>\n",
       "<path fill=\"none\" stroke=\"#66c2a5\" d=\"M73.8,-95.6C79.5,-79.94 87.79,-57.17 93.49,-41.52\"/>\n",
       "</g>\n",
       "<!-- 4&#45;&#45;5 -->\n",
       "<g id=\"edge31\" class=\"edge\">\n",
       "<title>4&#45;&#45;5</title>\n",
       "<path fill=\"none\" stroke=\"#66c2a5\" d=\"M72.57,-102.29C70.49,-101.93 68.4,-101.57 66.32,-101.21\"/>\n",
       "</g>\n",
       "<!-- 4&#45;&#45;6 -->\n",
       "<g id=\"edge32\" class=\"edge\">\n",
       "<title>4&#45;&#45;6</title>\n",
       "<path fill=\"none\" stroke=\"#66c2a5\" d=\"M85.26,-91.05C75.12,-79.28 61.34,-63.25 51.21,-51.49\"/>\n",
       "</g>\n",
       "<!-- 4&#45;&#45;7 -->\n",
       "<g id=\"edge33\" class=\"edge\">\n",
       "<title>4&#45;&#45;7</title>\n",
       "<path fill=\"none\" stroke=\"#66c2a5\" d=\"M105.69,-89.17C108.37,-82.27 111.44,-74.37 114.12,-67.49\"/>\n",
       "</g>\n",
       "<!-- 4&#45;&#45;8 -->\n",
       "<g id=\"edge34\" class=\"edge\">\n",
       "<title>4&#45;&#45;8</title>\n",
       "<path fill=\"none\" stroke=\"#66c2a5\" d=\"M89.74,-89.63C88.06,-86.43 86.29,-83.09 84.6,-79.89\"/>\n",
       "</g>\n",
       "<!-- 4&#45;&#45;9 -->\n",
       "<g id=\"edge35\" class=\"edge\">\n",
       "<title>4&#45;&#45;9</title>\n",
       "<path fill=\"none\" stroke=\"#66c2a5\" d=\"M99.06,-88.42C99.24,-74.58 99.49,-55.72 99.66,-41.97\"/>\n",
       "</g>\n",
       "<!-- 5&#45;&#45;6 -->\n",
       "<g id=\"edge36\" class=\"edge\">\n",
       "<title>5&#45;&#45;6</title>\n",
       "<path fill=\"none\" stroke=\"#66c2a5\" d=\"M39.39,-78.41C39.08,-70.7 38.72,-61.74 38.42,-54.03\"/>\n",
       "</g>\n",
       "<!-- 5&#45;&#45;7 -->\n",
       "<g id=\"edge37\" class=\"edge\">\n",
       "<title>5&#45;&#45;7</title>\n",
       "<path fill=\"none\" stroke=\"#66c2a5\" d=\"M60.93,-84.68C73.08,-77.66 88.36,-68.84 100.45,-61.85\"/>\n",
       "</g>\n",
       "<!-- 5&#45;&#45;8 -->\n",
       "<g id=\"edge38\" class=\"edge\">\n",
       "<title>5&#45;&#45;8</title>\n",
       "<path fill=\"none\" stroke=\"#66c2a5\" d=\"M55.75,-81.67C57.08,-80.39 58.43,-79.09 59.77,-77.81\"/>\n",
       "</g>\n",
       "<!-- 5&#45;&#45;9 -->\n",
       "<g id=\"edge39\" class=\"edge\">\n",
       "<title>5&#45;&#45;9</title>\n",
       "<path fill=\"none\" stroke=\"#66c2a5\" d=\"M53.1,-80.89C62.99,-68.85 76.56,-52.32 86.54,-40.17\"/>\n",
       "</g>\n",
       "<!-- 6&#45;&#45;7 -->\n",
       "<g id=\"edge40\" class=\"edge\">\n",
       "<title>6&#45;&#45;7</title>\n",
       "<path fill=\"none\" stroke=\"#66c2a5\" d=\"M64.01,-40.28C73.82,-41.96 84.95,-43.87 94.74,-45.55\"/>\n",
       "</g>\n",
       "<!-- 6&#45;&#45;8 -->\n",
       "<g id=\"edge41\" class=\"edge\">\n",
       "<title>6&#45;&#45;8</title>\n",
       "<path fill=\"none\" stroke=\"#66c2a5\" d=\"M56.15,-48.9C56.3,-49 56.45,-49.11 56.6,-49.22\"/>\n",
       "</g>\n",
       "<!-- 6&#45;&#45;9 -->\n",
       "<g id=\"edge42\" class=\"edge\">\n",
       "<title>6&#45;&#45;9</title>\n",
       "<path fill=\"none\" stroke=\"#66c2a5\" d=\"M63.71,-30.8C67.04,-30.16 70.45,-29.51 73.78,-28.88\"/>\n",
       "</g>\n",
       "<!-- 7&#45;&#45;8 -->\n",
       "<g id=\"edge43\" class=\"edge\">\n",
       "<title>7&#45;&#45;8</title>\n",
       "<path fill=\"none\" stroke=\"#66c2a5\" d=\"M95.82,-57.02C95.65,-57.07 95.49,-57.11 95.32,-57.16\"/>\n",
       "</g>\n",
       "<!-- 7&#45;&#45;9 -->\n",
       "<g id=\"edge44\" class=\"edge\">\n",
       "<title>7&#45;&#45;9</title>\n",
       "<path fill=\"none\" stroke=\"#66c2a5\" d=\"M107.96,-33.93C107.82,-33.77 107.69,-33.6 107.55,-33.43\"/>\n",
       "</g>\n",
       "<!-- 8&#45;&#45;9 -->\n",
       "<g id=\"edge45\" class=\"edge\">\n",
       "<title>8&#45;&#45;9</title>\n",
       "<path fill=\"none\" stroke=\"#66c2a5\" d=\"M85.99,-46C87.13,-44.2 88.29,-42.36 89.42,-40.55\"/>\n",
       "</g>\n",
       "</g>\n",
       "</svg>\n"
      ],
      "text/plain": [
       "<graphviz.files.Source at 0x7fc228314550>"
      ]
     },
     "execution_count": 14,
     "metadata": {},
     "output_type": "execute_result"
    }
   ],
   "source": [
    "GraphVisualizer(complete).plot_dot()"
   ]
  },
  {
   "cell_type": "markdown",
   "metadata": {
    "id": "68CKhMPBAql8"
   },
   "source": [
    "## Connected graph\n",
    "A [connected graph](https://en.wikipedia.org/wiki/Connectivity_(graph_theory)) is a graph where it is possible to reach any node starting a walk from any node."
   ]
  },
  {
   "cell_type": "code",
   "execution_count": 15,
   "metadata": {
    "id": "5mSiyDisAqGn"
   },
   "outputs": [],
   "source": [
    "connected = Graph.generate_random_connected_graph()"
   ]
  },
  {
   "cell_type": "markdown",
   "metadata": {
    "id": "Nnest6gqBCuw"
   },
   "source": [
    "Let's compute its report:"
   ]
  },
  {
   "cell_type": "code",
   "execution_count": 16,
   "metadata": {
    "colab": {
     "base_uri": "https://localhost:8080/",
     "height": 467
    },
    "id": "ihWo3ZqbAnEy",
    "outputId": "270a780c-12cf-4d62-b324-56b4ae13cb9d"
   },
   "outputs": [
    {
     "data": {
      "text/html": [
       "<div class=\"graph-report\"><style>.graph-report li {margin: 0.5em 0 0.5em 0;}.graph-report .paragraph {text-align: justify;word-break: break-all;}.graph-report .small-columns {column-count: 4;column-gap: 2em;}.graph-report .medium-columns {column-count: 3;column-gap: 2em;}.graph-report .large-columns {column-count: 2;column-gap: 2em;}.graph-report .single-column {}@media only screen and (max-width: 600px) {.graph-report .small-columns {column-count: 1;}.graph-report .medium-columns {column-count: 1;}.graph-report .large-columns {column-count: 1;}}@media only screen and (min-width: 600px) and (max-width: 800px) {.graph-report .small-columns {column-count: 2;}.graph-report .medium-columns {column-count: 1;}.graph-report .large-columns {column-count: 1;}}@media only screen and (min-width: 800px) and (max-width: 1024px) {.graph-report .small-columns {column-count: 3;}.graph-report .medium-columns {column-count: 2;}.graph-report .large-columns {column-count: 1;}}</style><h2>Connected</h2><p class=\"paragraph\">The undirected graph Connected has 10 homogeneous nodes and 20 homogeneous edges. The graph is connected, that is, it is composed of a single connected component that includes all nodes and edges. The RAM requirements for the nodes and edges data structures are 80B and 296B respectively.</p><h3 style=\"margin: 1em 0 0 0;\">Degree centrality</h3><p class=\"paragraph\">The minimum node degree is 2, the maximum node degree is 6, the mode degree is 5, the mean degree is 4.00 and the node degree median is 5.</p><p class=\"paragraph\">The nodes with the highest degree centrality are 1 (degree 6 and node type connected), 0 (degree 5 and node type connected), 4 (degree 5 and node type connected), 7 (degree 5 and node type connected) and 9 (degree 5 and node type connected).</p><h3 style=\"margin: 1em 0 0 0;\">Node types</h3><p class=\"paragraph\">The graph has a single node type, which is connected. The RAM requirement for the node types data structure is 789B.</p><h4 style=\"margin: 1em 0 0 0;\">Homogeneous node types</h4><p class=\"paragraph\">Homogeneous node types are node types that are assigned to all the nodes in the graph, making the node type relatively meaningless, as it adds no more information than the fact that the node is in the graph. The graph contains a homogeneous node type, which is connected.</p><h3 style=\"margin: 1em 0 0 0;\">Edge types</h3><p class=\"paragraph\">The graph has a single edge type, which is connected. The RAM requirement for the edge types data structure is 584B.</p></div>"
      ],
      "text/plain": [
       "<div class=\"graph-report\"><style>.graph-report li {margin: 0.5em 0 0.5em 0;}.graph-report .paragraph {text-align: justify;word-break: break-all;}.graph-report .small-columns {column-count: 4;column-gap: 2em;}.graph-report .medium-columns {column-count: 3;column-gap: 2em;}.graph-report .large-columns {column-count: 2;column-gap: 2em;}.graph-report .single-column {}@media only screen and (max-width: 600px) {.graph-report .small-columns {column-count: 1;}.graph-report .medium-columns {column-count: 1;}.graph-report .large-columns {column-count: 1;}}@media only screen and (min-width: 600px) and (max-width: 800px) {.graph-report .small-columns {column-count: 2;}.graph-report .medium-columns {column-count: 1;}.graph-report .large-columns {column-count: 1;}}@media only screen and (min-width: 800px) and (max-width: 1024px) {.graph-report .small-columns {column-count: 3;}.graph-report .medium-columns {column-count: 2;}.graph-report .large-columns {column-count: 1;}}</style><h2>Connected</h2><p class=\"paragraph\">The undirected graph Connected has 10 homogeneous nodes and 20 homogeneous edges. The graph is connected, that is, it is composed of a single connected component that includes all nodes and edges. The RAM requirements for the nodes and edges data structures are 80B and 296B respectively.</p><h3 style=\"margin: 1em 0 0 0;\">Degree centrality</h3><p class=\"paragraph\">The minimum node degree is 2, the maximum node degree is 6, the mode degree is 5, the mean degree is 4.00 and the node degree median is 5.</p><p class=\"paragraph\">The nodes with the highest degree centrality are 1 (degree 6 and node type connected), 0 (degree 5 and node type connected), 4 (degree 5 and node type connected), 7 (degree 5 and node type connected) and 9 (degree 5 and node type connected).</p><h3 style=\"margin: 1em 0 0 0;\">Node types</h3><p class=\"paragraph\">The graph has a single node type, which is connected. The RAM requirement for the node types data structure is 789B.</p><h4 style=\"margin: 1em 0 0 0;\">Homogeneous node types</h4><p class=\"paragraph\">Homogeneous node types are node types that are assigned to all the nodes in the graph, making the node type relatively meaningless, as it adds no more information than the fact that the node is in the graph. The graph contains a homogeneous node type, which is connected.</p><h3 style=\"margin: 1em 0 0 0;\">Edge types</h3><p class=\"paragraph\">The graph has a single edge type, which is connected. The RAM requirement for the edge types data structure is 584B.</p></div>"
      ]
     },
     "execution_count": 16,
     "metadata": {},
     "output_type": "execute_result"
    }
   ],
   "source": [
    "connected"
   ]
  },
  {
   "cell_type": "markdown",
   "metadata": {
    "id": "pOKUyPYpBHcb"
   },
   "source": [
    "And visualize it:"
   ]
  },
  {
   "cell_type": "code",
   "execution_count": 17,
   "metadata": {
    "colab": {
     "base_uri": "https://localhost:8080/",
     "height": 588
    },
    "id": "KQBk1sz-BCVM",
    "outputId": "eba487bd-2374-483d-ec16-759071112d32"
   },
   "outputs": [
    {
     "name": "stderr",
     "output_type": "stream",
     "text": [
      "/Users/lucacappelletti/opt/miniconda3/lib/python3.7/site-packages/embiggen/visualizations/graph_visualizer.py:367: UserWarning: The requested negatives number 45 is more than the number of negative edges that exist in the graph (0).\n",
      "  warnings.warn(str(e))\n"
     ]
    },
    {
     "data": {
      "image/svg+xml": [
       "<?xml version=\"1.0\" encoding=\"UTF-8\" standalone=\"no\"?>\n",
       "<!DOCTYPE svg PUBLIC \"-//W3C//DTD SVG 1.1//EN\"\n",
       " \"http://www.w3.org/Graphics/SVG/1.1/DTD/svg11.dtd\">\n",
       "<!-- Generated by graphviz version 2.50.0 (20211204.2007)\n",
       " -->\n",
       "<!-- Title: G Pages: 1 -->\n",
       "<svg width=\"156pt\" height=\"139pt\"\n",
       " viewBox=\"0.00 0.00 155.90 139.26\" xmlns=\"http://www.w3.org/2000/svg\" xmlns:xlink=\"http://www.w3.org/1999/xlink\">\n",
       "<g id=\"graph0\" class=\"graph\" transform=\"scale(1 1) rotate(0) translate(4 135.26)\">\n",
       "<title>G</title>\n",
       "<polygon fill=\"white\" stroke=\"transparent\" points=\"-4,4 -4,-135.26 151.9,-135.26 151.9,4 -4,4\"/>\n",
       "<!-- 0 -->\n",
       "<g id=\"node1\" class=\"node\">\n",
       "<title>0</title>\n",
       "<ellipse fill=\"#66c2a5\" stroke=\"black\" cx=\"27\" cy=\"-67.29\" rx=\"27\" ry=\"18\"/>\n",
       "<text text-anchor=\"middle\" x=\"27\" y=\"-63.59\" font-family=\"Times,serif\" font-size=\"14.00\">0</text>\n",
       "</g>\n",
       "<!-- 1 -->\n",
       "<g id=\"node2\" class=\"node\">\n",
       "<title>1</title>\n",
       "<ellipse fill=\"#66c2a5\" stroke=\"black\" cx=\"120.18\" cy=\"-82.88\" rx=\"27\" ry=\"18\"/>\n",
       "<text text-anchor=\"middle\" x=\"120.18\" y=\"-79.18\" font-family=\"Times,serif\" font-size=\"14.00\">1</text>\n",
       "</g>\n",
       "<!-- 0&#45;&#45;1 -->\n",
       "<g id=\"edge1\" class=\"edge\">\n",
       "<title>0&#45;&#45;1</title>\n",
       "<path fill=\"none\" stroke=\"#66c2a5\" d=\"M53.45,-71.72C66.15,-73.84 81.32,-76.38 93.98,-78.5\"/>\n",
       "</g>\n",
       "<!-- 2 -->\n",
       "<g id=\"node3\" class=\"node\">\n",
       "<title>2</title>\n",
       "<ellipse fill=\"#66c2a5\" stroke=\"black\" cx=\"66.37\" cy=\"-18\" rx=\"27\" ry=\"18\"/>\n",
       "<text text-anchor=\"middle\" x=\"66.37\" y=\"-14.3\" font-family=\"Times,serif\" font-size=\"14.00\">2</text>\n",
       "</g>\n",
       "<!-- 0&#45;&#45;2 -->\n",
       "<g id=\"edge2\" class=\"edge\">\n",
       "<title>0&#45;&#45;2</title>\n",
       "<path fill=\"none\" stroke=\"#66c2a5\" d=\"M39.89,-51.15C44.29,-45.65 49.2,-39.5 53.58,-34.01\"/>\n",
       "</g>\n",
       "<!-- 3 -->\n",
       "<g id=\"node4\" class=\"node\">\n",
       "<title>3</title>\n",
       "<ellipse fill=\"#66c2a5\" stroke=\"black\" cx=\"67.37\" cy=\"-113.26\" rx=\"27\" ry=\"18\"/>\n",
       "<text text-anchor=\"middle\" x=\"67.37\" y=\"-109.56\" font-family=\"Times,serif\" font-size=\"14.00\">3</text>\n",
       "</g>\n",
       "<!-- 0&#45;&#45;3 -->\n",
       "<g id=\"edge3\" class=\"edge\">\n",
       "<title>0&#45;&#45;3</title>\n",
       "<path fill=\"none\" stroke=\"#66c2a5\" d=\"M40.67,-82.86C44.88,-87.65 49.51,-92.92 53.72,-97.71\"/>\n",
       "</g>\n",
       "<!-- 4 -->\n",
       "<g id=\"node5\" class=\"node\">\n",
       "<title>4</title>\n",
       "<ellipse fill=\"#66c2a5\" stroke=\"black\" cx=\"98.83\" cy=\"-106.82\" rx=\"27\" ry=\"18\"/>\n",
       "<text text-anchor=\"middle\" x=\"98.83\" y=\"-103.12\" font-family=\"Times,serif\" font-size=\"14.00\">4</text>\n",
       "</g>\n",
       "<!-- 0&#45;&#45;4 -->\n",
       "<g id=\"edge4\" class=\"edge\">\n",
       "<title>0&#45;&#45;4</title>\n",
       "<path fill=\"none\" stroke=\"#66c2a5\" d=\"M48.16,-78.94C57.43,-84.04 68.29,-90.02 77.57,-95.12\"/>\n",
       "</g>\n",
       "<!-- 5 -->\n",
       "<g id=\"node6\" class=\"node\">\n",
       "<title>5</title>\n",
       "<ellipse fill=\"#66c2a5\" stroke=\"black\" cx=\"40.13\" cy=\"-96.69\" rx=\"27\" ry=\"18\"/>\n",
       "<text text-anchor=\"middle\" x=\"40.13\" y=\"-92.99\" font-family=\"Times,serif\" font-size=\"14.00\">5</text>\n",
       "</g>\n",
       "<!-- 0&#45;&#45;5 -->\n",
       "<g id=\"edge5\" class=\"edge\">\n",
       "<title>0&#45;&#45;5</title>\n",
       "<path fill=\"none\" stroke=\"#66c2a5\" d=\"M34.79,-84.73C34.83,-84.83 34.88,-84.93 34.92,-85.03\"/>\n",
       "</g>\n",
       "<!-- 6 -->\n",
       "<g id=\"node7\" class=\"node\">\n",
       "<title>6</title>\n",
       "<ellipse fill=\"#66c2a5\" stroke=\"black\" cx=\"37.68\" cy=\"-35.76\" rx=\"27\" ry=\"18\"/>\n",
       "<text text-anchor=\"middle\" x=\"37.68\" y=\"-32.06\" font-family=\"Times,serif\" font-size=\"14.00\">6</text>\n",
       "</g>\n",
       "<!-- 0&#45;&#45;6 -->\n",
       "<g id=\"edge6\" class=\"edge\">\n",
       "<title>0&#45;&#45;6</title>\n",
       "<path fill=\"none\" stroke=\"#66c2a5\" d=\"M32.97,-49.68C33,-49.57 33.04,-49.46 33.08,-49.34\"/>\n",
       "</g>\n",
       "<!-- 7 -->\n",
       "<g id=\"node8\" class=\"node\">\n",
       "<title>7</title>\n",
       "<ellipse fill=\"#66c2a5\" stroke=\"black\" cx=\"120.9\" cy=\"-50.04\" rx=\"27\" ry=\"18\"/>\n",
       "<text text-anchor=\"middle\" x=\"120.9\" y=\"-46.34\" font-family=\"Times,serif\" font-size=\"14.00\">7</text>\n",
       "</g>\n",
       "<!-- 0&#45;&#45;7 -->\n",
       "<g id=\"edge7\" class=\"edge\">\n",
       "<title>0&#45;&#45;7</title>\n",
       "<path fill=\"none\" stroke=\"#66c2a5\" d=\"M53.16,-62.49C66.07,-60.12 81.62,-57.26 94.56,-54.88\"/>\n",
       "</g>\n",
       "<!-- 8 -->\n",
       "<g id=\"node9\" class=\"node\">\n",
       "<title>8</title>\n",
       "<ellipse fill=\"#66c2a5\" stroke=\"black\" cx=\"75.51\" cy=\"-62.67\" rx=\"27\" ry=\"18\"/>\n",
       "<text text-anchor=\"middle\" x=\"75.51\" y=\"-58.97\" font-family=\"Times,serif\" font-size=\"14.00\">8</text>\n",
       "</g>\n",
       "<!-- 0&#45;&#45;8 -->\n",
       "<g id=\"edge8\" class=\"edge\">\n",
       "<title>0&#45;&#45;8</title>\n",
       "<path fill=\"none\" stroke=\"#66c2a5\" d=\"M53.81,-64.74C53.9,-64.73 53.98,-64.72 54.07,-64.71\"/>\n",
       "</g>\n",
       "<!-- 9 -->\n",
       "<g id=\"node10\" class=\"node\">\n",
       "<title>9</title>\n",
       "<ellipse fill=\"#66c2a5\" stroke=\"black\" cx=\"99.9\" cy=\"-23.9\" rx=\"27\" ry=\"18\"/>\n",
       "<text text-anchor=\"middle\" x=\"99.9\" y=\"-20.2\" font-family=\"Times,serif\" font-size=\"14.00\">9</text>\n",
       "</g>\n",
       "<!-- 0&#45;&#45;9 -->\n",
       "<g id=\"edge9\" class=\"edge\">\n",
       "<title>0&#45;&#45;9</title>\n",
       "<path fill=\"none\" stroke=\"#66c2a5\" d=\"M47.31,-55.21C57.42,-49.19 69.6,-41.93 79.7,-35.92\"/>\n",
       "</g>\n",
       "<!-- 1&#45;&#45;2 -->\n",
       "<g id=\"edge10\" class=\"edge\">\n",
       "<title>1&#45;&#45;2</title>\n",
       "<path fill=\"none\" stroke=\"#66c2a5\" d=\"M106.88,-66.84C98.54,-56.78 87.83,-43.87 79.52,-33.85\"/>\n",
       "</g>\n",
       "<!-- 1&#45;&#45;3 -->\n",
       "<g id=\"edge11\" class=\"edge\">\n",
       "<title>1&#45;&#45;3</title>\n",
       "<path fill=\"none\" stroke=\"#66c2a5\" d=\"M99.61,-94.71C95.79,-96.91 91.79,-99.21 87.97,-101.41\"/>\n",
       "</g>\n",
       "<!-- 1&#45;&#45;4 -->\n",
       "<g id=\"edge12\" class=\"edge\">\n",
       "<title>1&#45;&#45;4</title>\n",
       "<path fill=\"none\" stroke=\"#66c2a5\" d=\"M106.29,-98.45C106.17,-98.59 106.04,-98.73 105.91,-98.87\"/>\n",
       "</g>\n",
       "<!-- 1&#45;&#45;5 -->\n",
       "<g id=\"edge13\" class=\"edge\">\n",
       "<title>1&#45;&#45;5</title>\n",
       "<path fill=\"none\" stroke=\"#66c2a5\" d=\"M93.97,-87.4C85.12,-88.92 75.25,-90.63 66.4,-92.15\"/>\n",
       "</g>\n",
       "<!-- 1&#45;&#45;6 -->\n",
       "<g id=\"edge14\" class=\"edge\">\n",
       "<title>1&#45;&#45;6</title>\n",
       "<path fill=\"none\" stroke=\"#66c2a5\" d=\"M99.36,-70.99C86.76,-63.79 70.75,-54.65 58.21,-47.48\"/>\n",
       "</g>\n",
       "<!-- 1&#45;&#45;7 -->\n",
       "<g id=\"edge15\" class=\"edge\">\n",
       "<title>1&#45;&#45;7</title>\n",
       "<path fill=\"none\" stroke=\"#66c2a5\" d=\"M120.58,-64.54C120.58,-64.42 120.59,-64.3 120.59,-64.19\"/>\n",
       "</g>\n",
       "<!-- 1&#45;&#45;8 -->\n",
       "<g id=\"edge16\" class=\"edge\">\n",
       "<title>1&#45;&#45;8</title>\n",
       "<path fill=\"none\" stroke=\"#66c2a5\" d=\"M97.58,-72.65C97.49,-72.61 97.41,-72.57 97.32,-72.54\"/>\n",
       "</g>\n",
       "<!-- 1&#45;&#45;9 -->\n",
       "<g id=\"edge17\" class=\"edge\">\n",
       "<title>1&#45;&#45;9</title>\n",
       "<path fill=\"none\" stroke=\"#66c2a5\" d=\"M114.09,-65.18C111.53,-57.72 108.54,-49.05 105.98,-41.58\"/>\n",
       "</g>\n",
       "<!-- 2&#45;&#45;3 -->\n",
       "<g id=\"edge18\" class=\"edge\">\n",
       "<title>2&#45;&#45;3</title>\n",
       "<path fill=\"none\" stroke=\"#66c2a5\" d=\"M66.56,-36.37C66.74,-53.23 67,-78.1 67.18,-94.95\"/>\n",
       "</g>\n",
       "<!-- 2&#45;&#45;4 -->\n",
       "<g id=\"edge19\" class=\"edge\">\n",
       "<title>2&#45;&#45;4</title>\n",
       "<path fill=\"none\" stroke=\"#66c2a5\" d=\"M72.78,-35.55C78.47,-51.12 86.74,-73.75 92.43,-89.31\"/>\n",
       "</g>\n",
       "<!-- 2&#45;&#45;5 -->\n",
       "<g id=\"edge20\" class=\"edge\">\n",
       "<title>2&#45;&#45;5</title>\n",
       "<path fill=\"none\" stroke=\"#66c2a5\" d=\"M60.42,-35.86C56.12,-48.73 50.35,-66.04 46.06,-78.9\"/>\n",
       "</g>\n",
       "<!-- 2&#45;&#45;6 -->\n",
       "<g id=\"edge21\" class=\"edge\">\n",
       "<title>2&#45;&#45;6</title>\n",
       "<path fill=\"none\" stroke=\"#66c2a5\" d=\"M46.44,-30.33C46.29,-30.43 46.14,-30.52 45.99,-30.62\"/>\n",
       "</g>\n",
       "<!-- 2&#45;&#45;7 -->\n",
       "<g id=\"edge22\" class=\"edge\">\n",
       "<title>2&#45;&#45;7</title>\n",
       "<path fill=\"none\" stroke=\"#66c2a5\" d=\"M86.68,-29.93C91.16,-32.57 95.91,-35.36 100.4,-37.99\"/>\n",
       "</g>\n",
       "<!-- 2&#45;&#45;8 -->\n",
       "<g id=\"edge23\" class=\"edge\">\n",
       "<title>2&#45;&#45;8</title>\n",
       "<path fill=\"none\" stroke=\"#66c2a5\" d=\"M70.03,-35.91C70.63,-38.82 71.25,-41.84 71.84,-44.75\"/>\n",
       "</g>\n",
       "<!-- 2&#45;&#45;9 -->\n",
       "<g id=\"edge24\" class=\"edge\">\n",
       "<title>2&#45;&#45;9</title>\n",
       "<path fill=\"none\" stroke=\"#66c2a5\" d=\"M92.79,-22.65C92.92,-22.67 93.05,-22.69 93.17,-22.72\"/>\n",
       "</g>\n",
       "<!-- 3&#45;&#45;4 -->\n",
       "<g id=\"edge25\" class=\"edge\">\n",
       "<title>3&#45;&#45;4</title>\n",
       "<path fill=\"none\" stroke=\"#66c2a5\" d=\"M93.35,-107.95C93.45,-107.92 93.55,-107.9 93.65,-107.88\"/>\n",
       "</g>\n",
       "<!-- 3&#45;&#45;5 -->\n",
       "<g id=\"edge26\" class=\"edge\">\n",
       "<title>3&#45;&#45;5</title>\n",
       "<path fill=\"none\" stroke=\"#66c2a5\" d=\"M47.29,-101.04C47.16,-100.96 47.03,-100.89 46.91,-100.81\"/>\n",
       "</g>\n",
       "<!-- 3&#45;&#45;6 -->\n",
       "<g id=\"edge27\" class=\"edge\">\n",
       "<title>3&#45;&#45;6</title>\n",
       "<path fill=\"none\" stroke=\"#66c2a5\" d=\"M60.64,-95.67C55.78,-82.99 49.25,-65.94 44.39,-53.28\"/>\n",
       "</g>\n",
       "<!-- 3&#45;&#45;7 -->\n",
       "<g id=\"edge28\" class=\"edge\">\n",
       "<title>3&#45;&#45;7</title>\n",
       "<path fill=\"none\" stroke=\"#66c2a5\" d=\"M80.88,-97.31C89.06,-87.65 99.44,-75.39 107.58,-65.77\"/>\n",
       "</g>\n",
       "<!-- 3&#45;&#45;8 -->\n",
       "<g id=\"edge29\" class=\"edge\">\n",
       "<title>3&#45;&#45;8</title>\n",
       "<path fill=\"none\" stroke=\"#66c2a5\" d=\"M70.26,-95.28C71.03,-90.51 71.86,-85.36 72.63,-80.59\"/>\n",
       "</g>\n",
       "<!-- 3&#45;&#45;9 -->\n",
       "<g id=\"edge30\" class=\"edge\">\n",
       "<title>3&#45;&#45;9</title>\n",
       "<path fill=\"none\" stroke=\"#66c2a5\" d=\"M73.8,-95.6C79.5,-79.94 87.79,-57.17 93.49,-41.52\"/>\n",
       "</g>\n",
       "<!-- 4&#45;&#45;5 -->\n",
       "<g id=\"edge31\" class=\"edge\">\n",
       "<title>4&#45;&#45;5</title>\n",
       "<path fill=\"none\" stroke=\"#66c2a5\" d=\"M72.57,-102.29C70.49,-101.93 68.4,-101.57 66.32,-101.21\"/>\n",
       "</g>\n",
       "<!-- 4&#45;&#45;6 -->\n",
       "<g id=\"edge32\" class=\"edge\">\n",
       "<title>4&#45;&#45;6</title>\n",
       "<path fill=\"none\" stroke=\"#66c2a5\" d=\"M85.26,-91.05C75.12,-79.28 61.34,-63.25 51.21,-51.49\"/>\n",
       "</g>\n",
       "<!-- 4&#45;&#45;7 -->\n",
       "<g id=\"edge33\" class=\"edge\">\n",
       "<title>4&#45;&#45;7</title>\n",
       "<path fill=\"none\" stroke=\"#66c2a5\" d=\"M105.69,-89.17C108.37,-82.27 111.44,-74.37 114.12,-67.49\"/>\n",
       "</g>\n",
       "<!-- 4&#45;&#45;8 -->\n",
       "<g id=\"edge34\" class=\"edge\">\n",
       "<title>4&#45;&#45;8</title>\n",
       "<path fill=\"none\" stroke=\"#66c2a5\" d=\"M89.74,-89.63C88.06,-86.43 86.29,-83.09 84.6,-79.89\"/>\n",
       "</g>\n",
       "<!-- 4&#45;&#45;9 -->\n",
       "<g id=\"edge35\" class=\"edge\">\n",
       "<title>4&#45;&#45;9</title>\n",
       "<path fill=\"none\" stroke=\"#66c2a5\" d=\"M99.06,-88.42C99.24,-74.58 99.49,-55.72 99.66,-41.97\"/>\n",
       "</g>\n",
       "<!-- 5&#45;&#45;6 -->\n",
       "<g id=\"edge36\" class=\"edge\">\n",
       "<title>5&#45;&#45;6</title>\n",
       "<path fill=\"none\" stroke=\"#66c2a5\" d=\"M39.39,-78.41C39.08,-70.7 38.72,-61.74 38.42,-54.03\"/>\n",
       "</g>\n",
       "<!-- 5&#45;&#45;7 -->\n",
       "<g id=\"edge37\" class=\"edge\">\n",
       "<title>5&#45;&#45;7</title>\n",
       "<path fill=\"none\" stroke=\"#66c2a5\" d=\"M60.93,-84.68C73.08,-77.66 88.36,-68.84 100.45,-61.85\"/>\n",
       "</g>\n",
       "<!-- 5&#45;&#45;8 -->\n",
       "<g id=\"edge38\" class=\"edge\">\n",
       "<title>5&#45;&#45;8</title>\n",
       "<path fill=\"none\" stroke=\"#66c2a5\" d=\"M55.75,-81.67C57.08,-80.39 58.43,-79.09 59.77,-77.81\"/>\n",
       "</g>\n",
       "<!-- 5&#45;&#45;9 -->\n",
       "<g id=\"edge39\" class=\"edge\">\n",
       "<title>5&#45;&#45;9</title>\n",
       "<path fill=\"none\" stroke=\"#66c2a5\" d=\"M53.1,-80.89C62.99,-68.85 76.56,-52.32 86.54,-40.17\"/>\n",
       "</g>\n",
       "<!-- 6&#45;&#45;7 -->\n",
       "<g id=\"edge40\" class=\"edge\">\n",
       "<title>6&#45;&#45;7</title>\n",
       "<path fill=\"none\" stroke=\"#66c2a5\" d=\"M64.01,-40.28C73.82,-41.96 84.95,-43.87 94.74,-45.55\"/>\n",
       "</g>\n",
       "<!-- 6&#45;&#45;8 -->\n",
       "<g id=\"edge41\" class=\"edge\">\n",
       "<title>6&#45;&#45;8</title>\n",
       "<path fill=\"none\" stroke=\"#66c2a5\" d=\"M56.15,-48.9C56.3,-49 56.45,-49.11 56.6,-49.22\"/>\n",
       "</g>\n",
       "<!-- 6&#45;&#45;9 -->\n",
       "<g id=\"edge42\" class=\"edge\">\n",
       "<title>6&#45;&#45;9</title>\n",
       "<path fill=\"none\" stroke=\"#66c2a5\" d=\"M63.71,-30.8C67.04,-30.16 70.45,-29.51 73.78,-28.88\"/>\n",
       "</g>\n",
       "<!-- 7&#45;&#45;8 -->\n",
       "<g id=\"edge43\" class=\"edge\">\n",
       "<title>7&#45;&#45;8</title>\n",
       "<path fill=\"none\" stroke=\"#66c2a5\" d=\"M95.82,-57.02C95.65,-57.07 95.49,-57.11 95.32,-57.16\"/>\n",
       "</g>\n",
       "<!-- 7&#45;&#45;9 -->\n",
       "<g id=\"edge44\" class=\"edge\">\n",
       "<title>7&#45;&#45;9</title>\n",
       "<path fill=\"none\" stroke=\"#66c2a5\" d=\"M107.96,-33.93C107.82,-33.77 107.69,-33.6 107.55,-33.43\"/>\n",
       "</g>\n",
       "<!-- 8&#45;&#45;9 -->\n",
       "<g id=\"edge45\" class=\"edge\">\n",
       "<title>8&#45;&#45;9</title>\n",
       "<path fill=\"none\" stroke=\"#66c2a5\" d=\"M85.99,-46C87.13,-44.2 88.29,-42.36 89.42,-40.55\"/>\n",
       "</g>\n",
       "</g>\n",
       "</svg>\n"
      ],
      "text/plain": [
       "<graphviz.files.Source at 0x7fc22831b950>"
      ]
     },
     "execution_count": 17,
     "metadata": {},
     "output_type": "execute_result"
    }
   ],
   "source": [
    "GraphVisualizer(complete).plot_dot()"
   ]
  },
  {
   "cell_type": "markdown",
   "metadata": {
    "id": "MKT6NUAXBM2O"
   },
   "source": [
    "## Spanning tree\n",
    "A [spanning tree](https://en.wikipedia.org/wiki/Tree_(graph_theory)#:~:text=In%20graph%20theory%2C%20a%20tree,a%20connected%20acyclic%20undirected%20graph.&text=A%20polyforest%20(or%20directed%20forest,undirected%20graph%20is%20a%20forest) is a graph where, if the graph has `n` nodes, there are exactly `n-1` edges and the graph is connected."
   ]
  },
  {
   "cell_type": "code",
   "execution_count": 18,
   "metadata": {
    "id": "wyd48bf7BGP0"
   },
   "outputs": [],
   "source": [
    "tree = Graph.generate_random_spanning_tree()"
   ]
  },
  {
   "cell_type": "markdown",
   "metadata": {
    "id": "G_sk8Or0CZWd"
   },
   "source": [
    "Let's compute its report:"
   ]
  },
  {
   "cell_type": "code",
   "execution_count": 19,
   "metadata": {
    "colab": {
     "base_uri": "https://localhost:8080/",
     "height": 467
    },
    "id": "wjstAs8_CYcI",
    "outputId": "2b085194-33c4-42a9-f3d5-ed8f907b5b24"
   },
   "outputs": [
    {
     "data": {
      "text/html": [
       "<div class=\"graph-report\"><style>.graph-report li {margin: 0.5em 0 0.5em 0;}.graph-report .paragraph {text-align: justify;word-break: break-all;}.graph-report .small-columns {column-count: 4;column-gap: 2em;}.graph-report .medium-columns {column-count: 3;column-gap: 2em;}.graph-report .large-columns {column-count: 2;column-gap: 2em;}.graph-report .single-column {}@media only screen and (max-width: 600px) {.graph-report .small-columns {column-count: 1;}.graph-report .medium-columns {column-count: 1;}.graph-report .large-columns {column-count: 1;}}@media only screen and (min-width: 600px) and (max-width: 800px) {.graph-report .small-columns {column-count: 2;}.graph-report .medium-columns {column-count: 1;}.graph-report .large-columns {column-count: 1;}}@media only screen and (min-width: 800px) and (max-width: 1024px) {.graph-report .small-columns {column-count: 3;}.graph-report .medium-columns {column-count: 2;}.graph-report .large-columns {column-count: 1;}}</style><h2>Tree</h2><p class=\"paragraph\">The undirected graph Tree has 10 homogeneous nodes and 9 homogeneous edges. The graph is connected, that is, it is composed of a single connected component that includes all nodes and edges. The RAM requirements for the nodes and edges data structures are 80B and 280B respectively.</p><h3 style=\"margin: 1em 0 0 0;\">Degree centrality</h3><p class=\"paragraph\">The minimum node degree is 1, the maximum node degree is 3, the mode degree is 2, the mean degree is 1.80 and the node degree median is 2.</p><p class=\"paragraph\">The nodes with the highest degree centrality are 4 (degree 3 and node type tree), 7 (degree 3 and node type tree), 0 (degree 2 and node type tree), 1 (degree 2 and node type tree) and 5 (degree 2 and node type tree).</p><h3 style=\"margin: 1em 0 0 0;\">Node types</h3><p class=\"paragraph\">The graph has a single node type, which is tree. The RAM requirement for the node types data structure is 769B.</p><h4 style=\"margin: 1em 0 0 0;\">Homogeneous node types</h4><p class=\"paragraph\">Homogeneous node types are node types that are assigned to all the nodes in the graph, making the node type relatively meaningless, as it adds no more information than the fact that the node is in the graph. The graph contains a homogeneous node type, which is tree.</p><h3 style=\"margin: 1em 0 0 0;\">Edge types</h3><p class=\"paragraph\">The graph has a single edge type, which is tree. The RAM requirement for the edge types data structure is 388B.</p><h3 style=\"margin: 1em 0 0 0;\">Topological Oddities</h3><p class=\"paragraph\">A topological oddity is a set of nodes in the graph that <i>may be derived</i> by an error during the generation of the edge list of the graph and, depending on the task, could bias the results of topology-based models. In the following paragraph, we will describe the detected topological oddities.</p><h4 style=\"margin: 1em 0 0 0;\">Trees</h4><p class=\"paragraph\">A tree is a connected component with <code>n</code> nodes and <code>n-1</code> edges. We have detected  a single tree in the graph, involving a total of 10 nodes (100.00%) and 9 edges (50.00%).</p><ul class=\"large-columns\"><li><p class=\"paragraph\">Tree starting from the root node 9 (degree 2), and containing 10 nodes, with a maximal depth of 4, which are 1, 7 (degree 3), 8, 0 and 4 (degree 3). Its nodes have a single node type, which is tree. Its edges have a single edge type, which is tree.</p></li></ul></div>"
      ],
      "text/plain": [
       "<div class=\"graph-report\"><style>.graph-report li {margin: 0.5em 0 0.5em 0;}.graph-report .paragraph {text-align: justify;word-break: break-all;}.graph-report .small-columns {column-count: 4;column-gap: 2em;}.graph-report .medium-columns {column-count: 3;column-gap: 2em;}.graph-report .large-columns {column-count: 2;column-gap: 2em;}.graph-report .single-column {}@media only screen and (max-width: 600px) {.graph-report .small-columns {column-count: 1;}.graph-report .medium-columns {column-count: 1;}.graph-report .large-columns {column-count: 1;}}@media only screen and (min-width: 600px) and (max-width: 800px) {.graph-report .small-columns {column-count: 2;}.graph-report .medium-columns {column-count: 1;}.graph-report .large-columns {column-count: 1;}}@media only screen and (min-width: 800px) and (max-width: 1024px) {.graph-report .small-columns {column-count: 3;}.graph-report .medium-columns {column-count: 2;}.graph-report .large-columns {column-count: 1;}}</style><h2>Tree</h2><p class=\"paragraph\">The undirected graph Tree has 10 homogeneous nodes and 9 homogeneous edges. The graph is connected, that is, it is composed of a single connected component that includes all nodes and edges. The RAM requirements for the nodes and edges data structures are 80B and 280B respectively.</p><h3 style=\"margin: 1em 0 0 0;\">Degree centrality</h3><p class=\"paragraph\">The minimum node degree is 1, the maximum node degree is 3, the mode degree is 2, the mean degree is 1.80 and the node degree median is 2.</p><p class=\"paragraph\">The nodes with the highest degree centrality are 4 (degree 3 and node type tree), 7 (degree 3 and node type tree), 0 (degree 2 and node type tree), 1 (degree 2 and node type tree) and 5 (degree 2 and node type tree).</p><h3 style=\"margin: 1em 0 0 0;\">Node types</h3><p class=\"paragraph\">The graph has a single node type, which is tree. The RAM requirement for the node types data structure is 769B.</p><h4 style=\"margin: 1em 0 0 0;\">Homogeneous node types</h4><p class=\"paragraph\">Homogeneous node types are node types that are assigned to all the nodes in the graph, making the node type relatively meaningless, as it adds no more information than the fact that the node is in the graph. The graph contains a homogeneous node type, which is tree.</p><h3 style=\"margin: 1em 0 0 0;\">Edge types</h3><p class=\"paragraph\">The graph has a single edge type, which is tree. The RAM requirement for the edge types data structure is 388B.</p><h3 style=\"margin: 1em 0 0 0;\">Topological Oddities</h3><p class=\"paragraph\">A topological oddity is a set of nodes in the graph that <i>may be derived</i> by an error during the generation of the edge list of the graph and, depending on the task, could bias the results of topology-based models. In the following paragraph, we will describe the detected topological oddities.</p><h4 style=\"margin: 1em 0 0 0;\">Trees</h4><p class=\"paragraph\">A tree is a connected component with <code>n</code> nodes and <code>n-1</code> edges. We have detected  a single tree in the graph, involving a total of 10 nodes (100.00%) and 9 edges (50.00%).</p><ul class=\"large-columns\"><li><p class=\"paragraph\">Tree starting from the root node 9 (degree 2), and containing 10 nodes, with a maximal depth of 4, which are 1, 7 (degree 3), 8, 0 and 4 (degree 3). Its nodes have a single node type, which is tree. Its edges have a single edge type, which is tree.</p></li></ul></div>"
      ]
     },
     "execution_count": 19,
     "metadata": {},
     "output_type": "execute_result"
    }
   ],
   "source": [
    "tree"
   ]
  },
  {
   "cell_type": "markdown",
   "metadata": {
    "id": "6GmzDysKCcAj"
   },
   "source": [
    "And visualize it:"
   ]
  },
  {
   "cell_type": "code",
   "execution_count": 20,
   "metadata": {
    "colab": {
     "base_uri": "https://localhost:8080/",
     "height": 566
    },
    "id": "9U9rve4dCY0x",
    "outputId": "fc7fd3cd-ce32-46a8-883c-b76290fb5972"
   },
   "outputs": [
    {
     "data": {
      "image/svg+xml": [
       "<?xml version=\"1.0\" encoding=\"UTF-8\" standalone=\"no\"?>\n",
       "<!DOCTYPE svg PUBLIC \"-//W3C//DTD SVG 1.1//EN\"\n",
       " \"http://www.w3.org/Graphics/SVG/1.1/DTD/svg11.dtd\">\n",
       "<!-- Generated by graphviz version 2.50.0 (20211204.2007)\n",
       " -->\n",
       "<!-- Title: G Pages: 1 -->\n",
       "<svg width=\"426pt\" height=\"409pt\"\n",
       " viewBox=\"0.00 0.00 426.03 408.96\" xmlns=\"http://www.w3.org/2000/svg\" xmlns:xlink=\"http://www.w3.org/1999/xlink\">\n",
       "<g id=\"graph0\" class=\"graph\" transform=\"scale(1 1) rotate(0) translate(4 404.96)\">\n",
       "<title>G</title>\n",
       "<polygon fill=\"white\" stroke=\"transparent\" points=\"-4,4 -4,-404.96 422.03,-404.96 422.03,4 -4,4\"/>\n",
       "<!-- 0 -->\n",
       "<g id=\"node1\" class=\"node\">\n",
       "<title>0</title>\n",
       "<ellipse fill=\"#66c2a5\" stroke=\"black\" cx=\"132.38\" cy=\"-88.97\" rx=\"27\" ry=\"18\"/>\n",
       "<text text-anchor=\"middle\" x=\"132.38\" y=\"-85.27\" font-family=\"Times,serif\" font-size=\"14.00\">0</text>\n",
       "</g>\n",
       "<!-- 6 -->\n",
       "<g id=\"node7\" class=\"node\">\n",
       "<title>6</title>\n",
       "<ellipse fill=\"#66c2a5\" stroke=\"black\" cx=\"104.92\" cy=\"-18\" rx=\"27\" ry=\"18\"/>\n",
       "<text text-anchor=\"middle\" x=\"104.92\" y=\"-14.3\" font-family=\"Times,serif\" font-size=\"14.00\">6</text>\n",
       "</g>\n",
       "<!-- 0&#45;&#45;6 -->\n",
       "<g id=\"edge1\" class=\"edge\">\n",
       "<title>0&#45;&#45;6</title>\n",
       "<path fill=\"none\" stroke=\"#66c2a5\" d=\"M125.59,-71.42C121.4,-60.59 116.03,-46.72 111.82,-35.83\"/>\n",
       "</g>\n",
       "<!-- 7 -->\n",
       "<g id=\"node8\" class=\"node\">\n",
       "<title>7</title>\n",
       "<ellipse fill=\"#66c2a5\" stroke=\"black\" cx=\"160.86\" cy=\"-165.78\" rx=\"27\" ry=\"18\"/>\n",
       "<text text-anchor=\"middle\" x=\"160.86\" y=\"-162.08\" font-family=\"Times,serif\" font-size=\"14.00\">7</text>\n",
       "</g>\n",
       "<!-- 0&#45;&#45;7 -->\n",
       "<g id=\"edge2\" class=\"edge\">\n",
       "<title>0&#45;&#45;7</title>\n",
       "<path fill=\"none\" stroke=\"#66c2a5\" d=\"M138.98,-106.78C143.58,-119.19 149.69,-135.67 154.29,-148.06\"/>\n",
       "</g>\n",
       "<!-- 1 -->\n",
       "<g id=\"node2\" class=\"node\">\n",
       "<title>1</title>\n",
       "<ellipse fill=\"#66c2a5\" stroke=\"black\" cx=\"317.27\" cy=\"-160.14\" rx=\"27\" ry=\"18\"/>\n",
       "<text text-anchor=\"middle\" x=\"317.27\" y=\"-156.44\" font-family=\"Times,serif\" font-size=\"14.00\">1</text>\n",
       "</g>\n",
       "<!-- 8 -->\n",
       "<g id=\"node9\" class=\"node\">\n",
       "<title>8</title>\n",
       "<ellipse fill=\"#66c2a5\" stroke=\"black\" cx=\"391.03\" cy=\"-159.8\" rx=\"27\" ry=\"18\"/>\n",
       "<text text-anchor=\"middle\" x=\"391.03\" y=\"-156.1\" font-family=\"Times,serif\" font-size=\"14.00\">8</text>\n",
       "</g>\n",
       "<!-- 1&#45;&#45;8 -->\n",
       "<g id=\"edge3\" class=\"edge\">\n",
       "<title>1&#45;&#45;8</title>\n",
       "<path fill=\"none\" stroke=\"#66c2a5\" d=\"M344.31,-160.01C350.73,-159.99 357.57,-159.95 363.98,-159.92\"/>\n",
       "</g>\n",
       "<!-- 9 -->\n",
       "<g id=\"node10\" class=\"node\">\n",
       "<title>9</title>\n",
       "<ellipse fill=\"#66c2a5\" stroke=\"black\" cx=\"241.76\" cy=\"-166.49\" rx=\"27\" ry=\"18\"/>\n",
       "<text text-anchor=\"middle\" x=\"241.76\" y=\"-162.79\" font-family=\"Times,serif\" font-size=\"14.00\">9</text>\n",
       "</g>\n",
       "<!-- 1&#45;&#45;9 -->\n",
       "<g id=\"edge4\" class=\"edge\">\n",
       "<title>1&#45;&#45;9</title>\n",
       "<path fill=\"none\" stroke=\"#66c2a5\" d=\"M290.43,-162.4C283.4,-162.99 275.81,-163.63 268.76,-164.22\"/>\n",
       "</g>\n",
       "<!-- 2 -->\n",
       "<g id=\"node3\" class=\"node\">\n",
       "<title>2</title>\n",
       "<ellipse fill=\"#66c2a5\" stroke=\"black\" cx=\"27\" cy=\"-220.82\" rx=\"27\" ry=\"18\"/>\n",
       "<text text-anchor=\"middle\" x=\"27\" y=\"-217.12\" font-family=\"Times,serif\" font-size=\"14.00\">2</text>\n",
       "</g>\n",
       "<!-- 4 -->\n",
       "<g id=\"node5\" class=\"node\">\n",
       "<title>4</title>\n",
       "<ellipse fill=\"#66c2a5\" stroke=\"black\" cx=\"107.46\" cy=\"-230.15\" rx=\"27\" ry=\"18\"/>\n",
       "<text text-anchor=\"middle\" x=\"107.46\" y=\"-226.45\" font-family=\"Times,serif\" font-size=\"14.00\">4</text>\n",
       "</g>\n",
       "<!-- 2&#45;&#45;4 -->\n",
       "<g id=\"edge5\" class=\"edge\">\n",
       "<title>2&#45;&#45;4</title>\n",
       "<path fill=\"none\" stroke=\"#66c2a5\" d=\"M53.79,-223.93C62.48,-224.94 72.11,-226.05 80.78,-227.06\"/>\n",
       "</g>\n",
       "<!-- 3 -->\n",
       "<g id=\"node4\" class=\"node\">\n",
       "<title>3</title>\n",
       "<ellipse fill=\"#66c2a5\" stroke=\"black\" cx=\"89.34\" cy=\"-382.96\" rx=\"27\" ry=\"18\"/>\n",
       "<text text-anchor=\"middle\" x=\"89.34\" y=\"-379.26\" font-family=\"Times,serif\" font-size=\"14.00\">3</text>\n",
       "</g>\n",
       "<!-- 5 -->\n",
       "<g id=\"node6\" class=\"node\">\n",
       "<title>5</title>\n",
       "<ellipse fill=\"#66c2a5\" stroke=\"black\" cx=\"106.99\" cy=\"-309.88\" rx=\"27\" ry=\"18\"/>\n",
       "<text text-anchor=\"middle\" x=\"106.99\" y=\"-306.18\" font-family=\"Times,serif\" font-size=\"14.00\">5</text>\n",
       "</g>\n",
       "<!-- 3&#45;&#45;5 -->\n",
       "<g id=\"edge6\" class=\"edge\">\n",
       "<title>3&#45;&#45;5</title>\n",
       "<path fill=\"none\" stroke=\"#66c2a5\" d=\"M93.7,-364.89C96.44,-353.56 99.95,-339.02 102.68,-327.73\"/>\n",
       "</g>\n",
       "<!-- 4&#45;&#45;5 -->\n",
       "<g id=\"edge7\" class=\"edge\">\n",
       "<title>4&#45;&#45;5</title>\n",
       "<path fill=\"none\" stroke=\"#66c2a5\" d=\"M107.35,-248.24C107.28,-261.29 107.17,-278.83 107.09,-291.86\"/>\n",
       "</g>\n",
       "<!-- 4&#45;&#45;7 -->\n",
       "<g id=\"edge8\" class=\"edge\">\n",
       "<title>4&#45;&#45;7</title>\n",
       "<path fill=\"none\" stroke=\"#66c2a5\" d=\"M120.66,-214.24C128.81,-204.41 139.24,-191.83 147.44,-181.96\"/>\n",
       "</g>\n",
       "<!-- 7&#45;&#45;9 -->\n",
       "<g id=\"edge9\" class=\"edge\">\n",
       "<title>7&#45;&#45;9</title>\n",
       "<path fill=\"none\" stroke=\"#66c2a5\" d=\"M188.25,-166.02C196.77,-166.1 206.17,-166.18 214.67,-166.25\"/>\n",
       "</g>\n",
       "</g>\n",
       "</svg>\n"
      ],
      "text/plain": [
       "<graphviz.files.Source at 0x7fc22831df10>"
      ]
     },
     "execution_count": 20,
     "metadata": {},
     "output_type": "execute_result"
    }
   ],
   "source": [
    "GraphVisualizer(tree).plot_dot(engine=\"neato\")"
   ]
  }
 ],
 "metadata": {
  "colab": {
   "authorship_tag": "ABX9TyO6tVy5b4NGs/oOGRYG4jak",
   "collapsed_sections": [],
   "include_colab_link": true,
   "name": "Graph generation.ipynb",
   "provenance": []
  },
  "kernelspec": {
   "display_name": "Python 3 (ipykernel)",
   "language": "python",
   "name": "python3"
  },
  "language_info": {
   "codemirror_mode": {
    "name": "ipython",
    "version": 3
   },
   "file_extension": ".py",
   "mimetype": "text/x-python",
   "name": "python",
   "nbconvert_exporter": "python",
   "pygments_lexer": "ipython3",
   "version": "3.7.13"
  }
 },
 "nbformat": 4,
 "nbformat_minor": 1
}
