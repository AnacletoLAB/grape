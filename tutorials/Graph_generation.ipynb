{
  "nbformat": 4,
  "nbformat_minor": 0,
  "metadata": {
    "colab": {
      "name": "Graph generation.ipynb",
      "provenance": [],
      "collapsed_sections": [],
      "authorship_tag": "ABX9TyO6tVy5b4NGs/oOGRYG4jak",
      "include_colab_link": true
    },
    "kernelspec": {
      "name": "python3",
      "display_name": "Python 3"
    },
    "language_info": {
      "name": "python"
    }
  },
  "cells": [
    {
      "cell_type": "markdown",
      "metadata": {
        "id": "view-in-github",
        "colab_type": "text"
      },
      "source": [
        "<a href=\"https://colab.research.google.com/github/AnacletoLAB/grape/blob/main/tutorials/Graph_generation.ipynb\" target=\"_parent\"><img src=\"https://colab.research.google.com/assets/colab-badge.svg\" alt=\"Open In Colab\"/></a>"
      ]
    },
    {
      "cell_type": "markdown",
      "metadata": {
        "id": "7SnUxsLO5ldc"
      },
      "source": [
        "# Graph generation\n",
        "In the following tutorial we will show how to use Ensmallen to generate some graphs that can be useful when testing graph algorithms."
      ]
    },
    {
      "cell_type": "markdown",
      "metadata": {
        "id": "GHSbUlDj5rX3"
      },
      "source": [
        "We start by installing the GraPE library:\n",
        "\n",
        "```bash\n",
        "pip install grape -U\n",
        "```\n"
      ]
    },
    {
      "cell_type": "code",
      "metadata": {
        "id": "kcC6m_mx599Z"
      },
      "source": [
        "! pip install -q grape -U"
      ],
      "execution_count": 6,
      "outputs": []
    },
    {
      "cell_type": "code",
      "metadata": {
        "id": "UA3Xq9f58Dd9"
      },
      "source": [
        "from ensmallen import Graph\n",
        "from embiggen import GraphVisualization"
      ],
      "execution_count": 7,
      "outputs": []
    },
    {
      "cell_type": "markdown",
      "metadata": {
        "id": "nqrnBOXB5tAR"
      },
      "source": [
        "## Listing all the generation methods"
      ]
    },
    {
      "cell_type": "markdown",
      "metadata": {
        "id": "pX9XlvXT6TNc"
      },
      "source": [
        "At the time of writing, we support a handful of generation methods, namely:\n",
        "\n",
        "*   Barbell graph\n",
        "*   Chain graph\n",
        "*   Circle graph\n",
        "*   Complete graph \n",
        "*   Random connected graph\n",
        "*   Random spanning tree\n",
        "\n",
        "Note that all of the aforementioned methods generate a graph into memory and, where possible, directly create in parallel the succinct data structure for the adjacency matrix, making these methods very useful when testing if an algorithm scales to a large graphs in a few seconds."
      ]
    },
    {
      "cell_type": "markdown",
      "metadata": {
        "id": "DOCrNo467kfS"
      },
      "source": [
        "## Barbell graph\n",
        "A [Barbell graph](https://en.wikipedia.org/wiki/Barbell_graph#:~:text=In%20the%20mathematical%20discipline%20of,an%20endpoint%20in%20each%20clique.) is simply a graph with the shape of a Barbell, as shown in the visualization below. It can be a usefull tool for testing community detections algorithms."
      ]
    },
    {
      "cell_type": "code",
      "metadata": {
        "id": "HUvcFOqb5jCE"
      },
      "source": [
        "barbell = Graph.generate_barbell_graph(\n",
        "    left_clique_nodes_number=7,\n",
        "    right_clique_nodes_number=7,\n",
        "    chain_nodes_number=2\n",
        ")"
      ],
      "execution_count": 11,
      "outputs": []
    },
    {
      "cell_type": "markdown",
      "metadata": {
        "id": "6mdjFmvo796C"
      },
      "source": [
        "Let's compute the graph report:"
      ]
    },
    {
      "cell_type": "code",
      "metadata": {
        "colab": {
          "base_uri": "https://localhost:8080/",
          "height": 467
        },
        "id": "7ph-MfZc78I7",
        "outputId": "f6f50199-2f68-4a6e-b76e-966a5893c3d2"
      },
      "source": [
        "barbell"
      ],
      "execution_count": 12,
      "outputs": [
        {
          "output_type": "execute_result",
          "data": {
            "text/html": [
              "<h2>Barbell</h2><p>The undirected graph Barbell has 16 heterogenous nodes and 45 heterogenous edges.</p><h3>RAM requirements</h3><p>The RAM requirements for the nodes and edges data structures are 80.00B and 320.00B respectively.</p><h3>Degree centrality</h3><p>The minimum node degree is 2, the maximum node degree is 7, the mode degree is 6, the mean degree is 5.62 and the node degree median is 6.</p><p>The nodes with highest degree centrality are: 6 (degree 7 and node types left_clique and chain), 9 (degree 7 and node type right_clique), 15 (degree 6 and node type right_clique), 3 (degree 6 and node type left_clique) and 4 (degree 6 and node type left_clique).</p><h3>Node types</h3><p>The graph has 3 node types, which are right_clique (8 nodes, 50.00%), left_clique (7 nodes, 43.75%) and chain (3 nodes, 18.75%).</p><h4>RAM requirements</h4><p>The RAM requirements for the node types data structure is 1.44KB.</p><h3>Edge types</h3><p>The graph has 3 edge types, which are right_clique (42 edges, 46.67%), left_clique (42 edges, 46.67%) and chain (6 edges, 6.67%).</p><h4>RAM requirements</h4><p>The RAM requirements for the edge types data structure is 990.00B.</p>"
            ],
            "text/plain": [
              "<h2>Barbell</h2><p>The undirected graph Barbell has 16 heterogenous nodes and 45 heterogenous edges.</p><h3>RAM requirements</h3><p>The RAM requirements for the nodes and edges data structures are 80.00B and 320.00B respectively.</p><h3>Degree centrality</h3><p>The minimum node degree is 2, the maximum node degree is 7, the mode degree is 6, the mean degree is 5.62 and the node degree median is 6.</p><p>The nodes with highest degree centrality are: 6 (degree 7 and node types left_clique and chain), 9 (degree 7 and node type right_clique), 15 (degree 6 and node type right_clique), 3 (degree 6 and node type left_clique) and 4 (degree 6 and node type left_clique).</p><h3>Node types</h3><p>The graph has 3 node types, which are right_clique (8 nodes, 50.00%), left_clique (7 nodes, 43.75%) and chain (3 nodes, 18.75%).</p><h4>RAM requirements</h4><p>The RAM requirements for the node types data structure is 1.44KB.</p><h3>Edge types</h3><p>The graph has 3 edge types, which are right_clique (42 edges, 46.67%), left_clique (42 edges, 46.67%) and chain (6 edges, 6.67%).</p><h4>RAM requirements</h4><p>The RAM requirements for the edge types data structure is 990.00B.</p>"
            ]
          },
          "metadata": {},
          "execution_count": 12
        }
      ]
    },
    {
      "cell_type": "markdown",
      "metadata": {
        "id": "SreYcyj7_jAO"
      },
      "source": [
        "And visualize it:"
      ]
    },
    {
      "cell_type": "code",
      "metadata": {
        "colab": {
          "base_uri": "https://localhost:8080/",
          "height": 445
        },
        "id": "ysl2leBF6NXv",
        "outputId": "c16f08ff-7e72-4bfe-dee6-cd03559491bf"
      },
      "source": [
        "GraphVisualization(barbell).plot_dot()"
      ],
      "execution_count": 13,
      "outputs": [
        {
          "output_type": "execute_result",
          "data": {
            "text/plain": [
              "<graphviz.files.Source at 0x7fab29010890>"
            ],
            "image/svg+xml": "<?xml version=\"1.0\" encoding=\"UTF-8\" standalone=\"no\"?>\n<!DOCTYPE svg PUBLIC \"-//W3C//DTD SVG 1.1//EN\"\n \"http://www.w3.org/Graphics/SVG/1.1/DTD/svg11.dtd\">\n<!-- Generated by graphviz version 2.40.1 (20161225.0304)\n -->\n<!-- Title: G Pages: 1 -->\n<svg width=\"920pt\" height=\"318pt\"\n viewBox=\"0.00 0.00 919.70 317.71\" xmlns=\"http://www.w3.org/2000/svg\" xmlns:xlink=\"http://www.w3.org/1999/xlink\">\n<g id=\"graph0\" class=\"graph\" transform=\"scale(1 1) rotate(0) translate(4 313.7103)\">\n<title>G</title>\n<polygon fill=\"#ffffff\" stroke=\"transparent\" points=\"-4,4 -4,-313.7103 915.6957,-313.7103 915.6957,4 -4,4\"/>\n<!-- 0 -->\n<g id=\"node1\" class=\"node\">\n<title>0</title>\n<ellipse fill=\"#66c2a5\" stroke=\"#000000\" cx=\"240.9954\" cy=\"-264.6045\" rx=\"27\" ry=\"18\"/>\n<text text-anchor=\"middle\" x=\"240.9954\" y=\"-260.9045\" font-family=\"Times,serif\" font-size=\"14.00\" fill=\"#000000\">0</text>\n</g>\n<!-- 1 -->\n<g id=\"node2\" class=\"node\">\n<title>1</title>\n<ellipse fill=\"#66c2a5\" stroke=\"#000000\" cx=\"122.2369\" cy=\"-291.7103\" rx=\"27\" ry=\"18\"/>\n<text text-anchor=\"middle\" x=\"122.2369\" y=\"-288.0103\" font-family=\"Times,serif\" font-size=\"14.00\" fill=\"#000000\">1</text>\n</g>\n<!-- 0&#45;&#45;1 -->\n<g id=\"edge1\" class=\"edge\">\n<title>0&#45;&#45;1</title>\n<path fill=\"none\" stroke=\"#66c2a5\" d=\"M215.2265,-270.4861C195.3068,-275.0326 167.8625,-281.2966 147.9554,-285.8403\"/>\n</g>\n<!-- 2 -->\n<g id=\"node3\" class=\"node\">\n<title>2</title>\n<ellipse fill=\"#66c2a5\" stroke=\"#000000\" cx=\"240.9954\" cy=\"-45.1058\" rx=\"27\" ry=\"18\"/>\n<text text-anchor=\"middle\" x=\"240.9954\" y=\"-41.4058\" font-family=\"Times,serif\" font-size=\"14.00\" fill=\"#000000\">2</text>\n</g>\n<!-- 0&#45;&#45;2 -->\n<g id=\"edge2\" class=\"edge\">\n<title>0&#45;&#45;2</title>\n<path fill=\"none\" stroke=\"#66c2a5\" d=\"M240.9954,-246.2677C240.9954,-204.8474 240.9954,-104.4596 240.9954,-63.2361\"/>\n</g>\n<!-- 3 -->\n<g id=\"node4\" class=\"node\">\n<title>3</title>\n<ellipse fill=\"#66c2a5\" stroke=\"#000000\" cx=\"122.2369\" cy=\"-18\" rx=\"27\" ry=\"18\"/>\n<text text-anchor=\"middle\" x=\"122.2369\" y=\"-14.3\" font-family=\"Times,serif\" font-size=\"14.00\" fill=\"#000000\">3</text>\n</g>\n<!-- 0&#45;&#45;3 -->\n<g id=\"edge3\" class=\"edge\">\n<title>0&#45;&#45;3</title>\n<path fill=\"none\" stroke=\"#66c2a5\" d=\"M232.6445,-247.2638C210.8394,-201.9851 152.3733,-80.5788 130.5785,-35.3216\"/>\n</g>\n<!-- 4 -->\n<g id=\"node5\" class=\"node\">\n<title>4</title>\n<ellipse fill=\"#66c2a5\" stroke=\"#000000\" cx=\"27\" cy=\"-93.9489\" rx=\"27\" ry=\"18\"/>\n<text text-anchor=\"middle\" x=\"27\" y=\"-90.2489\" font-family=\"Times,serif\" font-size=\"14.00\" fill=\"#000000\">4</text>\n</g>\n<!-- 0&#45;&#45;4 -->\n<g id=\"edge4\" class=\"edge\">\n<title>0&#45;&#45;4</title>\n<path fill=\"none\" stroke=\"#66c2a5\" d=\"M223.4832,-250.639C183.2554,-218.5584 84.6255,-139.9037 44.454,-107.868\"/>\n</g>\n<!-- 5 -->\n<g id=\"node6\" class=\"node\">\n<title>5</title>\n<ellipse fill=\"#66c2a5\" stroke=\"#000000\" cx=\"27\" cy=\"-215.7615\" rx=\"27\" ry=\"18\"/>\n<text text-anchor=\"middle\" x=\"27\" y=\"-212.0615\" font-family=\"Times,serif\" font-size=\"14.00\" fill=\"#000000\">5</text>\n</g>\n<!-- 0&#45;&#45;5 -->\n<g id=\"edge5\" class=\"edge\">\n<title>0&#45;&#45;5</title>\n<path fill=\"none\" stroke=\"#66c2a5\" d=\"M215.1825,-258.7129C173.9405,-249.2997 93.6603,-230.9762 52.5713,-221.5979\"/>\n</g>\n<!-- 6 -->\n<g id=\"node7\" class=\"node\">\n<title>6</title>\n<ellipse fill=\"#66c2a5\" stroke=\"#000000\" cx=\"293.8479\" cy=\"-154.8552\" rx=\"27\" ry=\"18\"/>\n<text text-anchor=\"middle\" x=\"293.8479\" y=\"-151.1552\" font-family=\"Times,serif\" font-size=\"14.00\" fill=\"#000000\">6</text>\n</g>\n<!-- 0&#45;&#45;6 -->\n<g id=\"edge6\" class=\"edge\">\n<title>0&#45;&#45;6</title>\n<path fill=\"none\" stroke=\"#66c2a5\" d=\"M249.2536,-247.4562C259.1247,-226.9586 275.5509,-192.8492 285.4732,-172.2453\"/>\n</g>\n<!-- 1&#45;&#45;2 -->\n<g id=\"edge7\" class=\"edge\">\n<title>1&#45;&#45;2</title>\n<path fill=\"none\" stroke=\"#66c2a5\" d=\"M130.5878,-274.3696C152.3928,-229.0909 210.859,-107.6846 232.6537,-62.4274\"/>\n</g>\n<!-- 1&#45;&#45;3 -->\n<g id=\"edge8\" class=\"edge\">\n<title>1&#45;&#45;3</title>\n<path fill=\"none\" stroke=\"#66c2a5\" d=\"M122.2369,-273.3264C122.2369,-223.4639 122.2369,-86.0726 122.2369,-36.3039\"/>\n</g>\n<!-- 1&#45;&#45;4 -->\n<g id=\"edge9\" class=\"edge\">\n<title>1&#45;&#45;4</title>\n<path fill=\"none\" stroke=\"#66c2a5\" d=\"M113.9519,-274.5063C95.9404,-237.105 53.3893,-148.7468 35.3337,-111.254\"/>\n</g>\n<!-- 1&#45;&#45;5 -->\n<g id=\"edge10\" class=\"edge\">\n<title>1&#45;&#45;5</title>\n<path fill=\"none\" stroke=\"#66c2a5\" d=\"M104.769,-277.7802C87.5852,-264.0765 61.5026,-243.2764 44.3572,-229.6033\"/>\n</g>\n<!-- 1&#45;&#45;6 -->\n<g id=\"edge11\" class=\"edge\">\n<title>1&#45;&#45;6</title>\n<path fill=\"none\" stroke=\"#66c2a5\" d=\"M139.6363,-277.8348C172.5281,-251.6045 243.4752,-195.0261 276.4024,-168.7674\"/>\n</g>\n<!-- 2&#45;&#45;3 -->\n<g id=\"edge12\" class=\"edge\">\n<title>2&#45;&#45;3</title>\n<path fill=\"none\" stroke=\"#66c2a5\" d=\"M215.2265,-39.2243C195.3068,-34.6777 167.8625,-28.4138 147.9554,-23.8701\"/>\n</g>\n<!-- 2&#45;&#45;4 -->\n<g id=\"edge13\" class=\"edge\">\n<title>2&#45;&#45;4</title>\n<path fill=\"none\" stroke=\"#66c2a5\" d=\"M215.1825,-50.9975C173.9405,-60.4107 93.6603,-78.7341 52.5713,-88.1124\"/>\n</g>\n<!-- 2&#45;&#45;5 -->\n<g id=\"edge14\" class=\"edge\">\n<title>2&#45;&#45;5</title>\n<path fill=\"none\" stroke=\"#66c2a5\" d=\"M223.4832,-59.0713C183.2554,-91.152 84.6255,-169.8066 44.454,-201.8424\"/>\n</g>\n<!-- 2&#45;&#45;6 -->\n<g id=\"edge15\" class=\"edge\">\n<title>2&#45;&#45;6</title>\n<path fill=\"none\" stroke=\"#66c2a5\" d=\"M249.2536,-62.2542C259.1247,-82.7518 275.5509,-116.8611 285.4732,-137.4651\"/>\n</g>\n<!-- 3&#45;&#45;4 -->\n<g id=\"edge16\" class=\"edge\">\n<title>3&#45;&#45;4</title>\n<path fill=\"none\" stroke=\"#66c2a5\" d=\"M104.769,-31.9302C87.5852,-45.6338 61.5026,-66.434 44.3572,-80.107\"/>\n</g>\n<!-- 3&#45;&#45;5 -->\n<g id=\"edge17\" class=\"edge\">\n<title>3&#45;&#45;5</title>\n<path fill=\"none\" stroke=\"#66c2a5\" d=\"M113.9519,-35.2041C95.9404,-72.6053 53.3893,-160.9635 35.3337,-198.4563\"/>\n</g>\n<!-- 3&#45;&#45;6 -->\n<g id=\"edge18\" class=\"edge\">\n<title>3&#45;&#45;6</title>\n<path fill=\"none\" stroke=\"#66c2a5\" d=\"M139.6363,-31.8755C172.5281,-58.1059 243.4752,-114.6843 276.4024,-140.9429\"/>\n</g>\n<!-- 4&#45;&#45;5 -->\n<g id=\"edge19\" class=\"edge\">\n<title>4&#45;&#45;5</title>\n<path fill=\"none\" stroke=\"#66c2a5\" d=\"M27,-112.1855C27,-135.1496 27,-174.3774 27,-197.4002\"/>\n</g>\n<!-- 4&#45;&#45;6 -->\n<g id=\"edge20\" class=\"edge\">\n<title>4&#45;&#45;6</title>\n<path fill=\"none\" stroke=\"#66c2a5\" d=\"M52.5865,-99.7888C103.4616,-111.4008 216.8152,-137.273 267.9467,-148.9434\"/>\n</g>\n<!-- 5&#45;&#45;6 -->\n<g id=\"edge21\" class=\"edge\">\n<title>5&#45;&#45;6</title>\n<path fill=\"none\" stroke=\"#66c2a5\" d=\"M52.5865,-209.9215C103.4616,-198.3096 216.8152,-172.4374 267.9467,-160.7669\"/>\n</g>\n<!-- 7 -->\n<g id=\"node8\" class=\"node\">\n<title>7</title>\n<ellipse fill=\"#fc8d62\" stroke=\"#000000\" cx=\"392.8479\" cy=\"-154.8552\" rx=\"27\" ry=\"18\"/>\n<text text-anchor=\"middle\" x=\"392.8479\" y=\"-151.1552\" font-family=\"Times,serif\" font-size=\"14.00\" fill=\"#000000\">7</text>\n</g>\n<!-- 6&#45;&#45;7 -->\n<g id=\"edge22\" class=\"edge\">\n<title>6&#45;&#45;7</title>\n<path fill=\"none\" stroke=\"#fc8d62\" d=\"M320.9,-154.8552C334.8691,-154.8552 351.8641,-154.8552 365.8284,-154.8552\"/>\n</g>\n<!-- 8 -->\n<g id=\"node9\" class=\"node\">\n<title>8</title>\n<ellipse fill=\"#fc8d62\" stroke=\"#000000\" cx=\"518.8479\" cy=\"-154.8552\" rx=\"27\" ry=\"18\"/>\n<text text-anchor=\"middle\" x=\"518.8479\" y=\"-151.1552\" font-family=\"Times,serif\" font-size=\"14.00\" fill=\"#000000\">8</text>\n</g>\n<!-- 7&#45;&#45;8 -->\n<g id=\"edge23\" class=\"edge\">\n<title>7&#45;&#45;8</title>\n<path fill=\"none\" stroke=\"#fc8d62\" d=\"M419.878,-154.8552C440.9927,-154.8552 470.214,-154.8552 491.4276,-154.8552\"/>\n</g>\n<!-- 9 -->\n<g id=\"node10\" class=\"node\">\n<title>9</title>\n<ellipse fill=\"#8da0cb\" stroke=\"#000000\" cx=\"617.8479\" cy=\"-154.8552\" rx=\"27\" ry=\"18\"/>\n<text text-anchor=\"middle\" x=\"617.8479\" y=\"-151.1552\" font-family=\"Times,serif\" font-size=\"14.00\" fill=\"#000000\">9</text>\n</g>\n<!-- 8&#45;&#45;9 -->\n<g id=\"edge24\" class=\"edge\">\n<title>8&#45;&#45;9</title>\n<path fill=\"none\" stroke=\"#fc8d62\" d=\"M545.9,-154.8552C559.8691,-154.8552 576.8641,-154.8552 590.8284,-154.8552\"/>\n</g>\n<!-- 10 -->\n<g id=\"node11\" class=\"node\">\n<title>10</title>\n<ellipse fill=\"#8da0cb\" stroke=\"#000000\" cx=\"670.7003\" cy=\"-45.1058\" rx=\"27\" ry=\"18\"/>\n<text text-anchor=\"middle\" x=\"670.7003\" y=\"-41.4058\" font-family=\"Times,serif\" font-size=\"14.00\" fill=\"#000000\">10</text>\n</g>\n<!-- 9&#45;&#45;10 -->\n<g id=\"edge25\" class=\"edge\">\n<title>9&#45;&#45;10</title>\n<path fill=\"none\" stroke=\"#8da0cb\" d=\"M626.1061,-137.7068C635.9772,-117.2092 652.4034,-83.0999 662.3257,-62.496\"/>\n</g>\n<!-- 11 -->\n<g id=\"node12\" class=\"node\">\n<title>11</title>\n<ellipse fill=\"#8da0cb\" stroke=\"#000000\" cx=\"789.4588\" cy=\"-291.7103\" rx=\"27\" ry=\"18\"/>\n<text text-anchor=\"middle\" x=\"789.4588\" y=\"-288.0103\" font-family=\"Times,serif\" font-size=\"14.00\" fill=\"#000000\">11</text>\n</g>\n<!-- 9&#45;&#45;11 -->\n<g id=\"edge26\" class=\"edge\">\n<title>9&#45;&#45;11</title>\n<path fill=\"none\" stroke=\"#8da0cb\" d=\"M635.2472,-168.7307C668.139,-194.961 739.0861,-251.5395 772.0134,-277.7981\"/>\n</g>\n<!-- 12 -->\n<g id=\"node13\" class=\"node\">\n<title>12</title>\n<ellipse fill=\"#8da0cb\" stroke=\"#000000\" cx=\"884.6957\" cy=\"-215.7615\" rx=\"27\" ry=\"18\"/>\n<text text-anchor=\"middle\" x=\"884.6957\" y=\"-212.0615\" font-family=\"Times,serif\" font-size=\"14.00\" fill=\"#000000\">12</text>\n</g>\n<!-- 9&#45;&#45;12 -->\n<g id=\"edge27\" class=\"edge\">\n<title>9&#45;&#45;12</title>\n<path fill=\"none\" stroke=\"#8da0cb\" d=\"M643.4344,-160.6951C694.3094,-172.307 807.6631,-198.1793 858.7946,-209.8497\"/>\n</g>\n<!-- 13 -->\n<g id=\"node14\" class=\"node\">\n<title>13</title>\n<ellipse fill=\"#8da0cb\" stroke=\"#000000\" cx=\"884.6957\" cy=\"-93.9489\" rx=\"27\" ry=\"18\"/>\n<text text-anchor=\"middle\" x=\"884.6957\" y=\"-90.2489\" font-family=\"Times,serif\" font-size=\"14.00\" fill=\"#000000\">13</text>\n</g>\n<!-- 9&#45;&#45;13 -->\n<g id=\"edge28\" class=\"edge\">\n<title>9&#45;&#45;13</title>\n<path fill=\"none\" stroke=\"#8da0cb\" d=\"M643.4344,-149.0152C694.3094,-137.4033 807.6631,-111.5311 858.7946,-99.8607\"/>\n</g>\n<!-- 14 -->\n<g id=\"node15\" class=\"node\">\n<title>14</title>\n<ellipse fill=\"#8da0cb\" stroke=\"#000000\" cx=\"789.4588\" cy=\"-18\" rx=\"27\" ry=\"18\"/>\n<text text-anchor=\"middle\" x=\"789.4588\" y=\"-14.3\" font-family=\"Times,serif\" font-size=\"14.00\" fill=\"#000000\">14</text>\n</g>\n<!-- 9&#45;&#45;14 -->\n<g id=\"edge29\" class=\"edge\">\n<title>9&#45;&#45;14</title>\n<path fill=\"none\" stroke=\"#8da0cb\" d=\"M635.2472,-140.9796C668.139,-114.7493 739.0861,-58.1709 772.0134,-31.9123\"/>\n</g>\n<!-- 15 -->\n<g id=\"node16\" class=\"node\">\n<title>15</title>\n<ellipse fill=\"#8da0cb\" stroke=\"#000000\" cx=\"670.7003\" cy=\"-264.6045\" rx=\"27\" ry=\"18\"/>\n<text text-anchor=\"middle\" x=\"670.7003\" y=\"-260.9045\" font-family=\"Times,serif\" font-size=\"14.00\" fill=\"#000000\">15</text>\n</g>\n<!-- 9&#45;&#45;15 -->\n<g id=\"edge30\" class=\"edge\">\n<title>9&#45;&#45;15</title>\n<path fill=\"none\" stroke=\"#8da0cb\" d=\"M626.1061,-172.0035C635.9772,-192.5011 652.4034,-226.6104 662.3257,-247.2144\"/>\n</g>\n<!-- 10&#45;&#45;11 -->\n<g id=\"edge31\" class=\"edge\">\n<title>10&#45;&#45;11</title>\n<path fill=\"none\" stroke=\"#8da0cb\" d=\"M679.0512,-62.4466C700.8563,-107.7253 759.3225,-229.1316 781.1172,-274.3888\"/>\n</g>\n<!-- 10&#45;&#45;12 -->\n<g id=\"edge32\" class=\"edge\">\n<title>10&#45;&#45;12</title>\n<path fill=\"none\" stroke=\"#8da0cb\" d=\"M688.2125,-59.0713C728.4404,-91.152 827.0702,-169.8066 867.2417,-201.8424\"/>\n</g>\n<!-- 10&#45;&#45;13 -->\n<g id=\"edge33\" class=\"edge\">\n<title>10&#45;&#45;13</title>\n<path fill=\"none\" stroke=\"#8da0cb\" d=\"M696.5132,-50.9975C737.7552,-60.4107 818.0354,-78.7341 859.1244,-88.1124\"/>\n</g>\n<!-- 10&#45;&#45;14 -->\n<g id=\"edge34\" class=\"edge\">\n<title>10&#45;&#45;14</title>\n<path fill=\"none\" stroke=\"#8da0cb\" d=\"M696.4692,-39.2243C716.3889,-34.6777 743.8332,-28.4138 763.7403,-23.8701\"/>\n</g>\n<!-- 10&#45;&#45;15 -->\n<g id=\"edge35\" class=\"edge\">\n<title>10&#45;&#45;15</title>\n<path fill=\"none\" stroke=\"#8da0cb\" d=\"M670.7003,-63.4426C670.7003,-104.863 670.7003,-205.2508 670.7003,-246.4743\"/>\n</g>\n<!-- 11&#45;&#45;12 -->\n<g id=\"edge36\" class=\"edge\">\n<title>11&#45;&#45;12</title>\n<path fill=\"none\" stroke=\"#8da0cb\" d=\"M806.9267,-277.7802C824.1105,-264.0765 850.1931,-243.2764 867.3385,-229.6033\"/>\n</g>\n<!-- 11&#45;&#45;13 -->\n<g id=\"edge37\" class=\"edge\">\n<title>11&#45;&#45;13</title>\n<path fill=\"none\" stroke=\"#8da0cb\" d=\"M797.7439,-274.5063C815.7553,-237.105 858.3064,-148.7468 876.362,-111.254\"/>\n</g>\n<!-- 11&#45;&#45;14 -->\n<g id=\"edge38\" class=\"edge\">\n<title>11&#45;&#45;14</title>\n<path fill=\"none\" stroke=\"#8da0cb\" d=\"M789.4588,-273.3264C789.4588,-223.4639 789.4588,-86.0726 789.4588,-36.3039\"/>\n</g>\n<!-- 11&#45;&#45;15 -->\n<g id=\"edge39\" class=\"edge\">\n<title>11&#45;&#45;15</title>\n<path fill=\"none\" stroke=\"#8da0cb\" d=\"M763.69,-285.8288C743.7702,-281.2822 716.326,-275.0183 696.4189,-270.4746\"/>\n</g>\n<!-- 12&#45;&#45;13 -->\n<g id=\"edge40\" class=\"edge\">\n<title>12&#45;&#45;13</title>\n<path fill=\"none\" stroke=\"#8da0cb\" d=\"M884.6957,-197.5249C884.6957,-174.5607 884.6957,-135.333 884.6957,-112.3101\"/>\n</g>\n<!-- 12&#45;&#45;14 -->\n<g id=\"edge41\" class=\"edge\">\n<title>12&#45;&#45;14</title>\n<path fill=\"none\" stroke=\"#8da0cb\" d=\"M876.4107,-198.5574C858.3992,-161.1561 815.8481,-72.7979 797.7925,-35.3051\"/>\n</g>\n<!-- 12&#45;&#45;15 -->\n<g id=\"edge42\" class=\"edge\">\n<title>12&#45;&#45;15</title>\n<path fill=\"none\" stroke=\"#8da0cb\" d=\"M858.8829,-221.6531C817.6408,-231.0663 737.3607,-249.3897 696.2716,-258.768\"/>\n</g>\n<!-- 13&#45;&#45;14 -->\n<g id=\"edge43\" class=\"edge\">\n<title>13&#45;&#45;14</title>\n<path fill=\"none\" stroke=\"#8da0cb\" d=\"M867.2278,-80.0187C850.044,-66.3151 823.9614,-45.5149 806.816,-31.8419\"/>\n</g>\n<!-- 13&#45;&#45;15 -->\n<g id=\"edge44\" class=\"edge\">\n<title>13&#45;&#45;15</title>\n<path fill=\"none\" stroke=\"#8da0cb\" d=\"M867.1836,-107.9144C826.9557,-139.995 728.3259,-218.6497 688.1543,-250.6854\"/>\n</g>\n<!-- 14&#45;&#45;15 -->\n<g id=\"edge45\" class=\"edge\">\n<title>14&#45;&#45;15</title>\n<path fill=\"none\" stroke=\"#8da0cb\" d=\"M781.108,-35.3407C759.3029,-80.6194 700.8367,-202.0257 679.042,-247.2829\"/>\n</g>\n</g>\n</svg>\n"
          },
          "metadata": {},
          "execution_count": 13
        }
      ]
    },
    {
      "cell_type": "markdown",
      "metadata": {
        "id": "M991dugl9IWn"
      },
      "source": [
        "## Chain graph\n",
        "A chain graph is a sequence of (double) linked nodes."
      ]
    },
    {
      "cell_type": "code",
      "metadata": {
        "id": "lBjws_3D8Now"
      },
      "source": [
        "chain = Graph.generate_chain_graph()"
      ],
      "execution_count": 14,
      "outputs": []
    },
    {
      "cell_type": "markdown",
      "metadata": {
        "id": "m0Q1nXHi_cvv"
      },
      "source": [
        "Let's compute the graph report:"
      ]
    },
    {
      "cell_type": "code",
      "metadata": {
        "colab": {
          "base_uri": "https://localhost:8080/",
          "height": 467
        },
        "id": "H2L-YEDf_bWF",
        "outputId": "58c3d91a-880f-4439-d26c-c71ea55906ce"
      },
      "source": [
        "chain"
      ],
      "execution_count": 15,
      "outputs": [
        {
          "output_type": "execute_result",
          "data": {
            "text/html": [
              "<h2>Chain</h2><p>The undirected graph Chain has 10 homogeneous nodes and 9 homogeneous edges.</p><h3>RAM requirements</h3><p>The RAM requirements for the nodes and edges data structures are 80.00B and 280.00B respectively.</p><h3>Degree centrality</h3><p>The minimum node degree is 1, the maximum node degree is 2, the mode degree is 2, the mean degree is 1.80 and the node degree median is 2.</p><p>The nodes with highest degree centrality are: 8 (degree 2 and node type chain), 1 (degree 2 and node type chain), 2 (degree 2 and node type chain), 3 (degree 2 and node type chain) and 4 (degree 2 and node type chain).</p><h3>Node types</h3><p>The graph has a single node type, which is chain. Note that this means that all nodes have the same node type, that is, all nodes are homogeneous..</p><h4>RAM requirements</h4><p>The RAM requirements for the node types data structure is 837.00B.</p><h3>Edge types</h3><p>The graph has a single edge type, which is chain. Note that this means that all edges have the same edge type, that is, all edges are homogeneous..</p><h4>RAM requirements</h4><p>The RAM requirements for the edge types data structure is 406.00B.</p>"
            ],
            "text/plain": [
              "<h2>Chain</h2><p>The undirected graph Chain has 10 homogeneous nodes and 9 homogeneous edges.</p><h3>RAM requirements</h3><p>The RAM requirements for the nodes and edges data structures are 80.00B and 280.00B respectively.</p><h3>Degree centrality</h3><p>The minimum node degree is 1, the maximum node degree is 2, the mode degree is 2, the mean degree is 1.80 and the node degree median is 2.</p><p>The nodes with highest degree centrality are: 8 (degree 2 and node type chain), 1 (degree 2 and node type chain), 2 (degree 2 and node type chain), 3 (degree 2 and node type chain) and 4 (degree 2 and node type chain).</p><h3>Node types</h3><p>The graph has a single node type, which is chain. Note that this means that all nodes have the same node type, that is, all nodes are homogeneous..</p><h4>RAM requirements</h4><p>The RAM requirements for the node types data structure is 837.00B.</p><h3>Edge types</h3><p>The graph has a single edge type, which is chain. Note that this means that all edges have the same edge type, that is, all edges are homogeneous..</p><h4>RAM requirements</h4><p>The RAM requirements for the edge types data structure is 406.00B.</p>"
            ]
          },
          "metadata": {},
          "execution_count": 15
        }
      ]
    },
    {
      "cell_type": "markdown",
      "metadata": {
        "id": "JUHXtlKc_kvQ"
      },
      "source": [
        "And visualize it:"
      ]
    },
    {
      "cell_type": "code",
      "metadata": {
        "colab": {
          "base_uri": "https://localhost:8080/",
          "height": 80
        },
        "id": "Ma_duEjm_f1T",
        "outputId": "e101ce04-1b73-4132-ae42-664087874377"
      },
      "source": [
        "GraphVisualization(chain).plot_dot()"
      ],
      "execution_count": 16,
      "outputs": [
        {
          "output_type": "execute_result",
          "data": {
            "text/plain": [
              "<graphviz.files.Source at 0x7fab28f41fd0>"
            ],
            "image/svg+xml": "<?xml version=\"1.0\" encoding=\"UTF-8\" standalone=\"no\"?>\n<!DOCTYPE svg PUBLIC \"-//W3C//DTD SVG 1.1//EN\"\n \"http://www.w3.org/Graphics/SVG/1.1/DTD/svg11.dtd\">\n<!-- Generated by graphviz version 2.40.1 (20161225.0304)\n -->\n<!-- Title: G Pages: 1 -->\n<svg width=\"1196pt\" height=\"44pt\"\n viewBox=\"0.00 0.00 1196.00 44.00\" xmlns=\"http://www.w3.org/2000/svg\" xmlns:xlink=\"http://www.w3.org/1999/xlink\">\n<g id=\"graph0\" class=\"graph\" transform=\"scale(1 1) rotate(0) translate(4 40)\">\n<title>G</title>\n<polygon fill=\"#ffffff\" stroke=\"transparent\" points=\"-4,4 -4,-40 1192,-40 1192,4 -4,4\"/>\n<!-- 0 -->\n<g id=\"node1\" class=\"node\">\n<title>0</title>\n<ellipse fill=\"#66c2a5\" stroke=\"#000000\" cx=\"27\" cy=\"-18\" rx=\"27\" ry=\"18\"/>\n<text text-anchor=\"middle\" x=\"27\" y=\"-14.3\" font-family=\"Times,serif\" font-size=\"14.00\" fill=\"#000000\">0</text>\n</g>\n<!-- 1 -->\n<g id=\"node2\" class=\"node\">\n<title>1</title>\n<ellipse fill=\"#66c2a5\" stroke=\"#000000\" cx=\"153\" cy=\"-18\" rx=\"27\" ry=\"18\"/>\n<text text-anchor=\"middle\" x=\"153\" y=\"-14.3\" font-family=\"Times,serif\" font-size=\"14.00\" fill=\"#000000\">1</text>\n</g>\n<!-- 0&#45;&#45;1 -->\n<g id=\"edge1\" class=\"edge\">\n<title>0&#45;&#45;1</title>\n<path fill=\"none\" stroke=\"#66c2a5\" d=\"M54.0302,-18C75.1448,-18 104.3661,-18 125.5798,-18\"/>\n</g>\n<!-- 2 -->\n<g id=\"node3\" class=\"node\">\n<title>2</title>\n<ellipse fill=\"#66c2a5\" stroke=\"#000000\" cx=\"279\" cy=\"-18\" rx=\"27\" ry=\"18\"/>\n<text text-anchor=\"middle\" x=\"279\" y=\"-14.3\" font-family=\"Times,serif\" font-size=\"14.00\" fill=\"#000000\">2</text>\n</g>\n<!-- 1&#45;&#45;2 -->\n<g id=\"edge2\" class=\"edge\">\n<title>1&#45;&#45;2</title>\n<path fill=\"none\" stroke=\"#66c2a5\" d=\"M180.0302,-18C201.1448,-18 230.3661,-18 251.5798,-18\"/>\n</g>\n<!-- 3 -->\n<g id=\"node4\" class=\"node\">\n<title>3</title>\n<ellipse fill=\"#66c2a5\" stroke=\"#000000\" cx=\"405\" cy=\"-18\" rx=\"27\" ry=\"18\"/>\n<text text-anchor=\"middle\" x=\"405\" y=\"-14.3\" font-family=\"Times,serif\" font-size=\"14.00\" fill=\"#000000\">3</text>\n</g>\n<!-- 2&#45;&#45;3 -->\n<g id=\"edge3\" class=\"edge\">\n<title>2&#45;&#45;3</title>\n<path fill=\"none\" stroke=\"#66c2a5\" d=\"M306.0302,-18C327.1448,-18 356.3661,-18 377.5798,-18\"/>\n</g>\n<!-- 4 -->\n<g id=\"node5\" class=\"node\">\n<title>4</title>\n<ellipse fill=\"#66c2a5\" stroke=\"#000000\" cx=\"531\" cy=\"-18\" rx=\"27\" ry=\"18\"/>\n<text text-anchor=\"middle\" x=\"531\" y=\"-14.3\" font-family=\"Times,serif\" font-size=\"14.00\" fill=\"#000000\">4</text>\n</g>\n<!-- 3&#45;&#45;4 -->\n<g id=\"edge4\" class=\"edge\">\n<title>3&#45;&#45;4</title>\n<path fill=\"none\" stroke=\"#66c2a5\" d=\"M432.0302,-18C453.1448,-18 482.3661,-18 503.5798,-18\"/>\n</g>\n<!-- 5 -->\n<g id=\"node6\" class=\"node\">\n<title>5</title>\n<ellipse fill=\"#66c2a5\" stroke=\"#000000\" cx=\"657\" cy=\"-18\" rx=\"27\" ry=\"18\"/>\n<text text-anchor=\"middle\" x=\"657\" y=\"-14.3\" font-family=\"Times,serif\" font-size=\"14.00\" fill=\"#000000\">5</text>\n</g>\n<!-- 4&#45;&#45;5 -->\n<g id=\"edge5\" class=\"edge\">\n<title>4&#45;&#45;5</title>\n<path fill=\"none\" stroke=\"#66c2a5\" d=\"M558.0302,-18C579.1448,-18 608.3661,-18 629.5798,-18\"/>\n</g>\n<!-- 6 -->\n<g id=\"node7\" class=\"node\">\n<title>6</title>\n<ellipse fill=\"#66c2a5\" stroke=\"#000000\" cx=\"783\" cy=\"-18\" rx=\"27\" ry=\"18\"/>\n<text text-anchor=\"middle\" x=\"783\" y=\"-14.3\" font-family=\"Times,serif\" font-size=\"14.00\" fill=\"#000000\">6</text>\n</g>\n<!-- 5&#45;&#45;6 -->\n<g id=\"edge6\" class=\"edge\">\n<title>5&#45;&#45;6</title>\n<path fill=\"none\" stroke=\"#66c2a5\" d=\"M684.0302,-18C705.1448,-18 734.3661,-18 755.5798,-18\"/>\n</g>\n<!-- 7 -->\n<g id=\"node8\" class=\"node\">\n<title>7</title>\n<ellipse fill=\"#66c2a5\" stroke=\"#000000\" cx=\"909\" cy=\"-18\" rx=\"27\" ry=\"18\"/>\n<text text-anchor=\"middle\" x=\"909\" y=\"-14.3\" font-family=\"Times,serif\" font-size=\"14.00\" fill=\"#000000\">7</text>\n</g>\n<!-- 6&#45;&#45;7 -->\n<g id=\"edge7\" class=\"edge\">\n<title>6&#45;&#45;7</title>\n<path fill=\"none\" stroke=\"#66c2a5\" d=\"M810.0302,-18C831.1448,-18 860.3661,-18 881.5798,-18\"/>\n</g>\n<!-- 8 -->\n<g id=\"node9\" class=\"node\">\n<title>8</title>\n<ellipse fill=\"#66c2a5\" stroke=\"#000000\" cx=\"1035\" cy=\"-18\" rx=\"27\" ry=\"18\"/>\n<text text-anchor=\"middle\" x=\"1035\" y=\"-14.3\" font-family=\"Times,serif\" font-size=\"14.00\" fill=\"#000000\">8</text>\n</g>\n<!-- 7&#45;&#45;8 -->\n<g id=\"edge8\" class=\"edge\">\n<title>7&#45;&#45;8</title>\n<path fill=\"none\" stroke=\"#66c2a5\" d=\"M936.0302,-18C957.1448,-18 986.3661,-18 1007.5798,-18\"/>\n</g>\n<!-- 9 -->\n<g id=\"node10\" class=\"node\">\n<title>9</title>\n<ellipse fill=\"#66c2a5\" stroke=\"#000000\" cx=\"1161\" cy=\"-18\" rx=\"27\" ry=\"18\"/>\n<text text-anchor=\"middle\" x=\"1161\" y=\"-14.3\" font-family=\"Times,serif\" font-size=\"14.00\" fill=\"#000000\">9</text>\n</g>\n<!-- 8&#45;&#45;9 -->\n<g id=\"edge9\" class=\"edge\">\n<title>8&#45;&#45;9</title>\n<path fill=\"none\" stroke=\"#66c2a5\" d=\"M1062.0302,-18C1083.1448,-18 1112.3661,-18 1133.5798,-18\"/>\n</g>\n</g>\n</svg>\n"
          },
          "metadata": {},
          "execution_count": 16
        }
      ]
    },
    {
      "cell_type": "markdown",
      "metadata": {
        "id": "Yd_onudN_p3D"
      },
      "source": [
        "## Circle graph\n",
        "A circle graph is a sequence of (double) linked nodes, with the last node linked back to the first one."
      ]
    },
    {
      "cell_type": "code",
      "metadata": {
        "id": "uv9XzBVe_nui"
      },
      "source": [
        "circle = Graph.generate_circle_graph()"
      ],
      "execution_count": 20,
      "outputs": []
    },
    {
      "cell_type": "markdown",
      "metadata": {
        "id": "yy22trJ0AIl7"
      },
      "source": [
        "Let's compute the graph report:"
      ]
    },
    {
      "cell_type": "code",
      "metadata": {
        "colab": {
          "base_uri": "https://localhost:8080/",
          "height": 467
        },
        "id": "cmKmszYkAHB4",
        "outputId": "433d0b87-8b48-4135-c00b-0f47b9079a7b"
      },
      "source": [
        "circle"
      ],
      "execution_count": 18,
      "outputs": [
        {
          "output_type": "execute_result",
          "data": {
            "text/html": [
              "<h2>Circle</h2><p>The undirected graph Circle has 10 homogeneous nodes and 10 homogeneous edges.</p><h3>RAM requirements</h3><p>The RAM requirements for the nodes and edges data structures are 80.00B and 280.00B respectively.</p><h3>Degree centrality</h3><p>The minimum node degree is 2, the maximum node degree is 2, the mode degree is 2, the mean degree is 2.00 and the node degree median is 2.</p><p>The nodes with highest degree centrality are: 9 (degree 2 and node type circle), 1 (degree 2 and node type circle), 2 (degree 2 and node type circle), 3 (degree 2 and node type circle) and 4 (degree 2 and node type circle).</p><h3>Node types</h3><p>The graph has a single node type, which is circle. Note that this means that all nodes have the same node type, that is, all nodes are homogeneous..</p><h4>RAM requirements</h4><p>The RAM requirements for the node types data structure is 845.00B.</p><h3>Edge types</h3><p>The graph has a single edge type, which is circle. Note that this means that all edges have the same edge type, that is, all edges are homogeneous..</p><h4>RAM requirements</h4><p>The RAM requirements for the edge types data structure is 422.00B.</p>"
            ],
            "text/plain": [
              "<h2>Circle</h2><p>The undirected graph Circle has 10 homogeneous nodes and 10 homogeneous edges.</p><h3>RAM requirements</h3><p>The RAM requirements for the nodes and edges data structures are 80.00B and 280.00B respectively.</p><h3>Degree centrality</h3><p>The minimum node degree is 2, the maximum node degree is 2, the mode degree is 2, the mean degree is 2.00 and the node degree median is 2.</p><p>The nodes with highest degree centrality are: 9 (degree 2 and node type circle), 1 (degree 2 and node type circle), 2 (degree 2 and node type circle), 3 (degree 2 and node type circle) and 4 (degree 2 and node type circle).</p><h3>Node types</h3><p>The graph has a single node type, which is circle. Note that this means that all nodes have the same node type, that is, all nodes are homogeneous..</p><h4>RAM requirements</h4><p>The RAM requirements for the node types data structure is 845.00B.</p><h3>Edge types</h3><p>The graph has a single edge type, which is circle. Note that this means that all edges have the same edge type, that is, all edges are homogeneous..</p><h4>RAM requirements</h4><p>The RAM requirements for the edge types data structure is 422.00B.</p>"
            ]
          },
          "metadata": {},
          "execution_count": 18
        }
      ]
    },
    {
      "cell_type": "markdown",
      "metadata": {
        "id": "jdbatgDJALg1"
      },
      "source": [
        "And visualize it:"
      ]
    },
    {
      "cell_type": "code",
      "metadata": {
        "colab": {
          "base_uri": "https://localhost:8080/",
          "height": 588
        },
        "id": "apQ0SCcNAGPE",
        "outputId": "4e8731d4-fb46-4e16-81a8-135150f05b59"
      },
      "source": [
        "GraphVisualization(circle).plot_dot()"
      ],
      "execution_count": 19,
      "outputs": [
        {
          "output_type": "execute_result",
          "data": {
            "text/plain": [
              "<graphviz.files.Source at 0x7fab28f23b10>"
            ],
            "image/svg+xml": "<?xml version=\"1.0\" encoding=\"UTF-8\" standalone=\"no\"?>\n<!DOCTYPE svg PUBLIC \"-//W3C//DTD SVG 1.1//EN\"\n \"http://www.w3.org/Graphics/SVG/1.1/DTD/svg11.dtd\">\n<!-- Generated by graphviz version 2.40.1 (20161225.0304)\n -->\n<!-- Title: G Pages: 1 -->\n<svg width=\"463pt\" height=\"425pt\"\n viewBox=\"0.00 0.00 463.07 425.44\" xmlns=\"http://www.w3.org/2000/svg\" xmlns:xlink=\"http://www.w3.org/1999/xlink\">\n<g id=\"graph0\" class=\"graph\" transform=\"scale(1 1) rotate(0) translate(4 421.4407)\">\n<title>G</title>\n<polygon fill=\"#ffffff\" stroke=\"transparent\" points=\"-4,4 -4,-421.4407 459.0705,-421.4407 459.0705,4 -4,4\"/>\n<!-- 0 -->\n<g id=\"node1\" class=\"node\">\n<title>0</title>\n<ellipse fill=\"#66c2a5\" stroke=\"#000000\" cx=\"389.7716\" cy=\"-90.8487\" rx=\"27\" ry=\"18\"/>\n<text text-anchor=\"middle\" x=\"389.7716\" y=\"-87.1487\" font-family=\"Times,serif\" font-size=\"14.00\" fill=\"#000000\">0</text>\n</g>\n<!-- 1 -->\n<g id=\"node2\" class=\"node\">\n<title>1</title>\n<ellipse fill=\"#66c2a5\" stroke=\"#000000\" cx=\"289.504\" cy=\"-18\" rx=\"27\" ry=\"18\"/>\n<text text-anchor=\"middle\" x=\"289.504\" y=\"-14.3\" font-family=\"Times,serif\" font-size=\"14.00\" fill=\"#000000\">1</text>\n</g>\n<!-- 0&#45;&#45;1 -->\n<g id=\"edge1\" class=\"edge\">\n<title>0&#45;&#45;1</title>\n<path fill=\"none\" stroke=\"#66c2a5\" d=\"M371.381,-77.4871C353.2895,-64.3429 325.8292,-44.3918 307.7781,-31.2769\"/>\n</g>\n<!-- 9 -->\n<g id=\"node10\" class=\"node\">\n<title>9</title>\n<ellipse fill=\"#66c2a5\" stroke=\"#000000\" cx=\"428.0705\" cy=\"-208.7203\" rx=\"27\" ry=\"18\"/>\n<text text-anchor=\"middle\" x=\"428.0705\" y=\"-205.0203\" font-family=\"Times,serif\" font-size=\"14.00\" fill=\"#000000\">9</text>\n</g>\n<!-- 0&#45;&#45;9 -->\n<g id=\"edge2\" class=\"edge\">\n<title>0&#45;&#45;9</title>\n<path fill=\"none\" stroke=\"#66c2a5\" d=\"M395.5054,-108.4953C402.7255,-130.7165 415.059,-168.6751 422.2975,-190.9531\"/>\n</g>\n<!-- 2 -->\n<g id=\"node3\" class=\"node\">\n<title>2</title>\n<ellipse fill=\"#66c2a5\" stroke=\"#000000\" cx=\"165.5664\" cy=\"-18\" rx=\"27\" ry=\"18\"/>\n<text text-anchor=\"middle\" x=\"165.5664\" y=\"-14.3\" font-family=\"Times,serif\" font-size=\"14.00\" fill=\"#000000\">2</text>\n</g>\n<!-- 1&#45;&#45;2 -->\n<g id=\"edge3\" class=\"edge\">\n<title>1&#45;&#45;2</title>\n<path fill=\"none\" stroke=\"#66c2a5\" d=\"M262.3054,-18C241.6412,-18 213.3502,-18 192.7016,-18\"/>\n</g>\n<!-- 3 -->\n<g id=\"node4\" class=\"node\">\n<title>3</title>\n<ellipse fill=\"#66c2a5\" stroke=\"#000000\" cx=\"65.2988\" cy=\"-90.8487\" rx=\"27\" ry=\"18\"/>\n<text text-anchor=\"middle\" x=\"65.2988\" y=\"-87.1487\" font-family=\"Times,serif\" font-size=\"14.00\" fill=\"#000000\">3</text>\n</g>\n<!-- 2&#45;&#45;3 -->\n<g id=\"edge4\" class=\"edge\">\n<title>2&#45;&#45;3</title>\n<path fill=\"none\" stroke=\"#66c2a5\" d=\"M147.1758,-31.3616C129.0843,-44.5058 101.624,-64.4569 83.5729,-77.5718\"/>\n</g>\n<!-- 4 -->\n<g id=\"node5\" class=\"node\">\n<title>4</title>\n<ellipse fill=\"#66c2a5\" stroke=\"#000000\" cx=\"27\" cy=\"-208.7203\" rx=\"27\" ry=\"18\"/>\n<text text-anchor=\"middle\" x=\"27\" y=\"-205.0203\" font-family=\"Times,serif\" font-size=\"14.00\" fill=\"#000000\">4</text>\n</g>\n<!-- 3&#45;&#45;4 -->\n<g id=\"edge5\" class=\"edge\">\n<title>3&#45;&#45;4</title>\n<path fill=\"none\" stroke=\"#66c2a5\" d=\"M59.5651,-108.4953C52.345,-130.7165 40.0115,-168.6751 32.7729,-190.9531\"/>\n</g>\n<!-- 5 -->\n<g id=\"node6\" class=\"node\">\n<title>5</title>\n<ellipse fill=\"#66c2a5\" stroke=\"#000000\" cx=\"65.2988\" cy=\"-326.592\" rx=\"27\" ry=\"18\"/>\n<text text-anchor=\"middle\" x=\"65.2988\" y=\"-322.892\" font-family=\"Times,serif\" font-size=\"14.00\" fill=\"#000000\">5</text>\n</g>\n<!-- 4&#45;&#45;5 -->\n<g id=\"edge6\" class=\"edge\">\n<title>4&#45;&#45;5</title>\n<path fill=\"none\" stroke=\"#66c2a5\" d=\"M32.7337,-226.3669C39.9538,-248.5881 52.2873,-286.5468 59.5259,-308.8248\"/>\n</g>\n<!-- 6 -->\n<g id=\"node7\" class=\"node\">\n<title>6</title>\n<ellipse fill=\"#66c2a5\" stroke=\"#000000\" cx=\"165.5664\" cy=\"-399.4407\" rx=\"27\" ry=\"18\"/>\n<text text-anchor=\"middle\" x=\"165.5664\" y=\"-395.7407\" font-family=\"Times,serif\" font-size=\"14.00\" fill=\"#000000\">6</text>\n</g>\n<!-- 5&#45;&#45;6 -->\n<g id=\"edge7\" class=\"edge\">\n<title>5&#45;&#45;6</title>\n<path fill=\"none\" stroke=\"#66c2a5\" d=\"M83.6894,-339.9536C101.781,-353.0978 129.2413,-373.0489 147.2924,-386.1638\"/>\n</g>\n<!-- 7 -->\n<g id=\"node8\" class=\"node\">\n<title>7</title>\n<ellipse fill=\"#66c2a5\" stroke=\"#000000\" cx=\"289.504\" cy=\"-399.4407\" rx=\"27\" ry=\"18\"/>\n<text text-anchor=\"middle\" x=\"289.504\" y=\"-395.7407\" font-family=\"Times,serif\" font-size=\"14.00\" fill=\"#000000\">7</text>\n</g>\n<!-- 6&#45;&#45;7 -->\n<g id=\"edge8\" class=\"edge\">\n<title>6&#45;&#45;7</title>\n<path fill=\"none\" stroke=\"#66c2a5\" d=\"M192.7651,-399.4407C213.4293,-399.4407 241.7202,-399.4407 262.3688,-399.4407\"/>\n</g>\n<!-- 8 -->\n<g id=\"node9\" class=\"node\">\n<title>8</title>\n<ellipse fill=\"#66c2a5\" stroke=\"#000000\" cx=\"389.7716\" cy=\"-326.592\" rx=\"27\" ry=\"18\"/>\n<text text-anchor=\"middle\" x=\"389.7716\" y=\"-322.892\" font-family=\"Times,serif\" font-size=\"14.00\" fill=\"#000000\">8</text>\n</g>\n<!-- 7&#45;&#45;8 -->\n<g id=\"edge9\" class=\"edge\">\n<title>7&#45;&#45;8</title>\n<path fill=\"none\" stroke=\"#66c2a5\" d=\"M307.8946,-386.0791C325.9862,-372.9349 353.4465,-352.9838 371.4976,-339.8689\"/>\n</g>\n<!-- 8&#45;&#45;9 -->\n<g id=\"edge10\" class=\"edge\">\n<title>8&#45;&#45;9</title>\n<path fill=\"none\" stroke=\"#66c2a5\" d=\"M395.5054,-308.9454C402.7255,-286.7242 415.059,-248.7655 422.2975,-226.4875\"/>\n</g>\n</g>\n</svg>\n"
          },
          "metadata": {},
          "execution_count": 19
        }
      ]
    },
    {
      "cell_type": "markdown",
      "metadata": {
        "id": "_Rqri-KdAVAj"
      },
      "source": [
        "## Complete graph\n",
        "A [complete graph](https://en.wikipedia.org/wiki/Complete_graph#:~:text=In%20the%20mathematical%20field%20of,(one%20in%20each%20direction)) is a graph where every node is connected to every other node."
      ]
    },
    {
      "cell_type": "code",
      "metadata": {
        "id": "_b7GHPf5AUZx"
      },
      "source": [
        "complete = Graph.generate_complete_graph()"
      ],
      "execution_count": 21,
      "outputs": []
    },
    {
      "cell_type": "markdown",
      "metadata": {
        "id": "Ti_au7dPAhyR"
      },
      "source": [
        "Let's compute the graph report:"
      ]
    },
    {
      "cell_type": "code",
      "metadata": {
        "colab": {
          "base_uri": "https://localhost:8080/",
          "height": 467
        },
        "id": "2p5wvz_nAPn1",
        "outputId": "d47db064-51a5-48db-a460-48596ae0b1b4"
      },
      "source": [
        "complete"
      ],
      "execution_count": 22,
      "outputs": [
        {
          "output_type": "execute_result",
          "data": {
            "text/html": [
              "<h2>Complete</h2><p>The undirected graph Complete has 10 homogeneous nodes and 45 homogeneous edges.</p><h3>RAM requirements</h3><p>The RAM requirements for the nodes and edges data structures are 80.00B and 312.00B respectively.</p><h3>Degree centrality</h3><p>The minimum node degree is 9, the maximum node degree is 9, the mode degree is 9, the mean degree is 9.00 and the node degree median is 9.</p><p>The nodes with highest degree centrality are: 9 (degree 9 and node type complete), 1 (degree 9 and node type complete), 2 (degree 9 and node type complete), 3 (degree 9 and node type complete) and 4 (degree 9 and node type complete).</p><h3>Node types</h3><p>The graph has a single node type, which is complete. Note that this means that all nodes have the same node type, that is, all nodes are homogeneous..</p><h4>RAM requirements</h4><p>The RAM requirements for the node types data structure is 861.00B.</p><h3>Edge types</h3><p>The graph has a single edge type, which is complete. Note that this means that all edges have the same edge type, that is, all edges are homogeneous..</p><h4>RAM requirements</h4><p>The RAM requirements for the edge types data structure is 718.00B.</p>"
            ],
            "text/plain": [
              "<h2>Complete</h2><p>The undirected graph Complete has 10 homogeneous nodes and 45 homogeneous edges.</p><h3>RAM requirements</h3><p>The RAM requirements for the nodes and edges data structures are 80.00B and 312.00B respectively.</p><h3>Degree centrality</h3><p>The minimum node degree is 9, the maximum node degree is 9, the mode degree is 9, the mean degree is 9.00 and the node degree median is 9.</p><p>The nodes with highest degree centrality are: 9 (degree 9 and node type complete), 1 (degree 9 and node type complete), 2 (degree 9 and node type complete), 3 (degree 9 and node type complete) and 4 (degree 9 and node type complete).</p><h3>Node types</h3><p>The graph has a single node type, which is complete. Note that this means that all nodes have the same node type, that is, all nodes are homogeneous..</p><h4>RAM requirements</h4><p>The RAM requirements for the node types data structure is 861.00B.</p><h3>Edge types</h3><p>The graph has a single edge type, which is complete. Note that this means that all edges have the same edge type, that is, all edges are homogeneous..</p><h4>RAM requirements</h4><p>The RAM requirements for the edge types data structure is 718.00B.</p>"
            ]
          },
          "metadata": {},
          "execution_count": 22
        }
      ]
    },
    {
      "cell_type": "markdown",
      "metadata": {
        "id": "nV5qmMiqAkfk"
      },
      "source": [
        "And visualize it:"
      ]
    },
    {
      "cell_type": "code",
      "metadata": {
        "colab": {
          "base_uri": "https://localhost:8080/",
          "height": 588
        },
        "id": "PAXmHQm5AjxN",
        "outputId": "a6a221d4-5e73-4af6-a53e-643068491c6d"
      },
      "source": [
        "GraphVisualization(complete).plot_dot()"
      ],
      "execution_count": 27,
      "outputs": [
        {
          "output_type": "execute_result",
          "data": {
            "text/plain": [
              "<graphviz.files.Source at 0x7fab28efa850>"
            ],
            "image/svg+xml": "<?xml version=\"1.0\" encoding=\"UTF-8\" standalone=\"no\"?>\n<!DOCTYPE svg PUBLIC \"-//W3C//DTD SVG 1.1//EN\"\n \"http://www.w3.org/Graphics/SVG/1.1/DTD/svg11.dtd\">\n<!-- Generated by graphviz version 2.40.1 (20161225.0304)\n -->\n<!-- Title: G Pages: 1 -->\n<svg width=\"463pt\" height=\"425pt\"\n viewBox=\"0.00 0.00 463.07 425.44\" xmlns=\"http://www.w3.org/2000/svg\" xmlns:xlink=\"http://www.w3.org/1999/xlink\">\n<g id=\"graph0\" class=\"graph\" transform=\"scale(1 1) rotate(0) translate(4 421.4407)\">\n<title>G</title>\n<polygon fill=\"#ffffff\" stroke=\"transparent\" points=\"-4,4 -4,-421.4407 459.0705,-421.4407 459.0705,4 -4,4\"/>\n<!-- 0 -->\n<g id=\"node1\" class=\"node\">\n<title>0</title>\n<ellipse fill=\"#66c2a5\" stroke=\"#000000\" cx=\"27\" cy=\"-208.7203\" rx=\"27\" ry=\"18\"/>\n<text text-anchor=\"middle\" x=\"27\" y=\"-205.0203\" font-family=\"Times,serif\" font-size=\"14.00\" fill=\"#000000\">0</text>\n</g>\n<!-- 1 -->\n<g id=\"node2\" class=\"node\">\n<title>1</title>\n<ellipse fill=\"#66c2a5\" stroke=\"#000000\" cx=\"65.2988\" cy=\"-90.8487\" rx=\"27\" ry=\"18\"/>\n<text text-anchor=\"middle\" x=\"65.2988\" y=\"-87.1487\" font-family=\"Times,serif\" font-size=\"14.00\" fill=\"#000000\">1</text>\n</g>\n<!-- 0&#45;&#45;1 -->\n<g id=\"edge1\" class=\"edge\">\n<title>0&#45;&#45;1</title>\n<path fill=\"none\" stroke=\"#66c2a5\" d=\"M32.7337,-191.0738C39.9538,-168.8526 52.2873,-130.8939 59.5259,-108.6159\"/>\n</g>\n<!-- 4 -->\n<g id=\"node5\" class=\"node\">\n<title>4</title>\n<ellipse fill=\"#66c2a5\" stroke=\"#000000\" cx=\"289.504\" cy=\"-399.4407\" rx=\"27\" ry=\"18\"/>\n<text text-anchor=\"middle\" x=\"289.504\" y=\"-395.7407\" font-family=\"Times,serif\" font-size=\"14.00\" fill=\"#000000\">4</text>\n</g>\n<!-- 0&#45;&#45;4 -->\n<g id=\"edge2\" class=\"edge\">\n<title>0&#45;&#45;4</title>\n<path fill=\"none\" stroke=\"#66c2a5\" d=\"M45.4588,-222.1314C93.6568,-257.1493 222.8905,-351.0431 271.0656,-386.0444\"/>\n</g>\n<!-- 7 -->\n<g id=\"node8\" class=\"node\">\n<title>7</title>\n<ellipse fill=\"#66c2a5\" stroke=\"#000000\" cx=\"389.7716\" cy=\"-90.8487\" rx=\"27\" ry=\"18\"/>\n<text text-anchor=\"middle\" x=\"389.7716\" y=\"-87.1487\" font-family=\"Times,serif\" font-size=\"14.00\" fill=\"#000000\">7</text>\n</g>\n<!-- 0&#45;&#45;7 -->\n<g id=\"edge3\" class=\"edge\">\n<title>0&#45;&#45;7</title>\n<path fill=\"none\" stroke=\"#66c2a5\" d=\"M51.3658,-200.8034C117.294,-179.382 298.6744,-120.448 365.0342,-98.8864\"/>\n</g>\n<!-- 8 -->\n<g id=\"node9\" class=\"node\">\n<title>8</title>\n<ellipse fill=\"#66c2a5\" stroke=\"#000000\" cx=\"65.2988\" cy=\"-326.592\" rx=\"27\" ry=\"18\"/>\n<text text-anchor=\"middle\" x=\"65.2988\" y=\"-322.892\" font-family=\"Times,serif\" font-size=\"14.00\" fill=\"#000000\">8</text>\n</g>\n<!-- 0&#45;&#45;8 -->\n<g id=\"edge4\" class=\"edge\">\n<title>0&#45;&#45;8</title>\n<path fill=\"none\" stroke=\"#66c2a5\" d=\"M32.7337,-226.3669C39.9538,-248.5881 52.2873,-286.5468 59.5259,-308.8248\"/>\n</g>\n<!-- 9 -->\n<g id=\"node10\" class=\"node\">\n<title>9</title>\n<ellipse fill=\"#66c2a5\" stroke=\"#000000\" cx=\"165.5664\" cy=\"-18\" rx=\"27\" ry=\"18\"/>\n<text text-anchor=\"middle\" x=\"165.5664\" y=\"-14.3\" font-family=\"Times,serif\" font-size=\"14.00\" fill=\"#000000\">9</text>\n</g>\n<!-- 0&#45;&#45;9 -->\n<g id=\"edge5\" class=\"edge\">\n<title>0&#45;&#45;9</title>\n<path fill=\"none\" stroke=\"#66c2a5\" d=\"M38.8141,-192.4596C64.9932,-156.4272 127.6309,-70.2137 153.7822,-34.2196\"/>\n</g>\n<!-- 2 -->\n<g id=\"node3\" class=\"node\">\n<title>2</title>\n<ellipse fill=\"#66c2a5\" stroke=\"#000000\" cx=\"165.5664\" cy=\"-399.4407\" rx=\"27\" ry=\"18\"/>\n<text text-anchor=\"middle\" x=\"165.5664\" y=\"-395.7407\" font-family=\"Times,serif\" font-size=\"14.00\" fill=\"#000000\">2</text>\n</g>\n<!-- 1&#45;&#45;2 -->\n<g id=\"edge6\" class=\"edge\">\n<title>1&#45;&#45;2</title>\n<path fill=\"none\" stroke=\"#66c2a5\" d=\"M71.123,-108.7737C88.8445,-163.315 141.9832,-326.8591 159.7262,-381.4661\"/>\n</g>\n<!-- 6 -->\n<g id=\"node7\" class=\"node\">\n<title>6</title>\n<ellipse fill=\"#66c2a5\" stroke=\"#000000\" cx=\"289.504\" cy=\"-18\" rx=\"27\" ry=\"18\"/>\n<text text-anchor=\"middle\" x=\"289.504\" y=\"-14.3\" font-family=\"Times,serif\" font-size=\"14.00\" fill=\"#000000\">6</text>\n</g>\n<!-- 1&#45;&#45;6 -->\n<g id=\"edge7\" class=\"edge\">\n<title>1&#45;&#45;6</title>\n<path fill=\"none\" stroke=\"#66c2a5\" d=\"M89.7195,-82.9139C132.8473,-68.9008 222.0071,-39.9311 265.1134,-25.925\"/>\n</g>\n<!-- 1&#45;&#45;7 -->\n<g id=\"edge8\" class=\"edge\">\n<title>1&#45;&#45;7</title>\n<path fill=\"none\" stroke=\"#66c2a5\" d=\"M92.4051,-90.8487C153.4822,-90.8487 301.2945,-90.8487 362.5143,-90.8487\"/>\n</g>\n<!-- 1&#45;&#45;8 -->\n<g id=\"edge9\" class=\"edge\">\n<title>1&#45;&#45;8</title>\n<path fill=\"none\" stroke=\"#66c2a5\" d=\"M65.2988,-108.9556C65.2988,-152.8371 65.2988,-264.4785 65.2988,-308.4234\"/>\n</g>\n<!-- 1&#45;&#45;9 -->\n<g id=\"edge10\" class=\"edge\">\n<title>1&#45;&#45;9</title>\n<path fill=\"none\" stroke=\"#66c2a5\" d=\"M83.6894,-77.4871C101.781,-64.3429 129.2413,-44.3918 147.2924,-31.2769\"/>\n</g>\n<!-- 2&#45;&#45;4 -->\n<g id=\"edge11\" class=\"edge\">\n<title>2&#45;&#45;4</title>\n<path fill=\"none\" stroke=\"#66c2a5\" d=\"M192.7651,-399.4407C213.4293,-399.4407 241.7202,-399.4407 262.3688,-399.4407\"/>\n</g>\n<!-- 3 -->\n<g id=\"node4\" class=\"node\">\n<title>3</title>\n<ellipse fill=\"#66c2a5\" stroke=\"#000000\" cx=\"428.0705\" cy=\"-208.7203\" rx=\"27\" ry=\"18\"/>\n<text text-anchor=\"middle\" x=\"428.0705\" y=\"-205.0203\" font-family=\"Times,serif\" font-size=\"14.00\" fill=\"#000000\">3</text>\n</g>\n<!-- 5 -->\n<g id=\"node6\" class=\"node\">\n<title>5</title>\n<ellipse fill=\"#66c2a5\" stroke=\"#000000\" cx=\"389.7716\" cy=\"-326.592\" rx=\"27\" ry=\"18\"/>\n<text text-anchor=\"middle\" x=\"389.7716\" y=\"-322.892\" font-family=\"Times,serif\" font-size=\"14.00\" fill=\"#000000\">5</text>\n</g>\n<!-- 3&#45;&#45;5 -->\n<g id=\"edge12\" class=\"edge\">\n<title>3&#45;&#45;5</title>\n<path fill=\"none\" stroke=\"#66c2a5\" d=\"M422.3367,-226.3669C415.1166,-248.5881 402.7831,-286.5468 395.5446,-308.8248\"/>\n</g>\n<!-- 3&#45;&#45;6 -->\n<g id=\"edge13\" class=\"edge\">\n<title>3&#45;&#45;6</title>\n<path fill=\"none\" stroke=\"#66c2a5\" d=\"M416.2564,-192.4596C390.0773,-156.4272 327.4395,-70.2137 301.2882,-34.2196\"/>\n</g>\n<!-- 4&#45;&#45;5 -->\n<g id=\"edge14\" class=\"edge\">\n<title>4&#45;&#45;5</title>\n<path fill=\"none\" stroke=\"#66c2a5\" d=\"M307.8946,-386.0791C325.9862,-372.9349 353.4465,-352.9838 371.4976,-339.8689\"/>\n</g>\n<!-- 4&#45;&#45;7 -->\n<g id=\"edge15\" class=\"edge\">\n<title>4&#45;&#45;7</title>\n<path fill=\"none\" stroke=\"#66c2a5\" d=\"M295.3282,-381.5156C313.0497,-326.9744 366.1884,-163.4303 383.9314,-108.8232\"/>\n</g>\n<!-- 4&#45;&#45;8 -->\n<g id=\"edge16\" class=\"edge\">\n<title>4&#45;&#45;8</title>\n<path fill=\"none\" stroke=\"#66c2a5\" d=\"M265.0833,-391.5059C221.9555,-377.4928 132.7958,-348.5231 89.6894,-334.517\"/>\n</g>\n<!-- 5&#45;&#45;9 -->\n<g id=\"edge17\" class=\"edge\">\n<title>5&#45;&#45;9</title>\n<path fill=\"none\" stroke=\"#66c2a5\" d=\"M377.7174,-310.0007C338.6971,-256.2939 216.1234,-87.5857 177.4082,-34.2988\"/>\n</g>\n<!-- 6&#45;&#45;7 -->\n<g id=\"edge18\" class=\"edge\">\n<title>6&#45;&#45;7</title>\n<path fill=\"none\" stroke=\"#66c2a5\" d=\"M307.8946,-31.3616C325.9862,-44.5058 353.4465,-64.4569 371.4976,-77.5718\"/>\n</g>\n<!-- 6&#45;&#45;9 -->\n<g id=\"edge19\" class=\"edge\">\n<title>6&#45;&#45;9</title>\n<path fill=\"none\" stroke=\"#66c2a5\" d=\"M262.3054,-18C241.6412,-18 213.3502,-18 192.7016,-18\"/>\n</g>\n<!-- 7&#45;&#45;9 -->\n<g id=\"edge20\" class=\"edge\">\n<title>7&#45;&#45;9</title>\n<path fill=\"none\" stroke=\"#66c2a5\" d=\"M365.3509,-82.9139C322.2231,-68.9008 233.0634,-39.9311 189.957,-25.925\"/>\n</g>\n</g>\n</svg>\n"
          },
          "metadata": {},
          "execution_count": 27
        }
      ]
    },
    {
      "cell_type": "markdown",
      "metadata": {
        "id": "68CKhMPBAql8"
      },
      "source": [
        "## Connected graph\n",
        "A [connected graph](https://en.wikipedia.org/wiki/Connectivity_(graph_theory)) is a graph where it is possible to reach any node starting a walk from any node."
      ]
    },
    {
      "cell_type": "code",
      "metadata": {
        "id": "5mSiyDisAqGn"
      },
      "source": [
        "connected = Graph.generate_random_connected_graph()"
      ],
      "execution_count": 25,
      "outputs": []
    },
    {
      "cell_type": "markdown",
      "metadata": {
        "id": "Nnest6gqBCuw"
      },
      "source": [
        "Let's compute its report:"
      ]
    },
    {
      "cell_type": "code",
      "metadata": {
        "colab": {
          "base_uri": "https://localhost:8080/",
          "height": 467
        },
        "id": "ihWo3ZqbAnEy",
        "outputId": "270a780c-12cf-4d62-b324-56b4ae13cb9d"
      },
      "source": [
        "connected"
      ],
      "execution_count": 26,
      "outputs": [
        {
          "output_type": "execute_result",
          "data": {
            "text/html": [
              "<h2>Connected</h2><p>The undirected graph Connected has 10 homogeneous nodes and 20 homogeneous edges.</p><h3>RAM requirements</h3><p>The RAM requirements for the nodes and edges data structures are 80.00B and 296.00B respectively.</p><h3>Degree centrality</h3><p>The minimum node degree is 2, the maximum node degree is 6, the mode degree is 5, the mean degree is 4.00 and the node degree median is 5.</p><p>The nodes with highest degree centrality are: 1 (degree 6 and node type connected), 0 (degree 5 and node type connected), 7 (degree 5 and node type connected), 9 (degree 5 and node type connected) and 4 (degree 5 and node type connected).</p><h3>Node types</h3><p>The graph has a single node type, which is connected. Note that this means that all nodes have the same node type, that is, all nodes are homogeneous..</p><h4>RAM requirements</h4><p>The RAM requirements for the node types data structure is 869.00B.</p><h3>Edge types</h3><p>The graph has a single edge type, which is connected. Note that this means that all edges have the same edge type, that is, all edges are homogeneous..</p><h4>RAM requirements</h4><p>The RAM requirements for the edge types data structure is 526.00B.</p>"
            ],
            "text/plain": [
              "<h2>Connected</h2><p>The undirected graph Connected has 10 homogeneous nodes and 20 homogeneous edges.</p><h3>RAM requirements</h3><p>The RAM requirements for the nodes and edges data structures are 80.00B and 296.00B respectively.</p><h3>Degree centrality</h3><p>The minimum node degree is 2, the maximum node degree is 6, the mode degree is 5, the mean degree is 4.00 and the node degree median is 5.</p><p>The nodes with highest degree centrality are: 1 (degree 6 and node type connected), 0 (degree 5 and node type connected), 7 (degree 5 and node type connected), 9 (degree 5 and node type connected) and 4 (degree 5 and node type connected).</p><h3>Node types</h3><p>The graph has a single node type, which is connected. Note that this means that all nodes have the same node type, that is, all nodes are homogeneous..</p><h4>RAM requirements</h4><p>The RAM requirements for the node types data structure is 869.00B.</p><h3>Edge types</h3><p>The graph has a single edge type, which is connected. Note that this means that all edges have the same edge type, that is, all edges are homogeneous..</p><h4>RAM requirements</h4><p>The RAM requirements for the edge types data structure is 526.00B.</p>"
            ]
          },
          "metadata": {},
          "execution_count": 26
        }
      ]
    },
    {
      "cell_type": "markdown",
      "metadata": {
        "id": "pOKUyPYpBHcb"
      },
      "source": [
        "And visualize it:"
      ]
    },
    {
      "cell_type": "code",
      "metadata": {
        "colab": {
          "base_uri": "https://localhost:8080/",
          "height": 588
        },
        "id": "KQBk1sz-BCVM",
        "outputId": "eba487bd-2374-483d-ec16-759071112d32"
      },
      "source": [
        "GraphVisualization(complete).plot_dot()"
      ],
      "execution_count": 29,
      "outputs": [
        {
          "output_type": "execute_result",
          "data": {
            "text/plain": [
              "<graphviz.files.Source at 0x7fab28ed3e90>"
            ],
            "image/svg+xml": "<?xml version=\"1.0\" encoding=\"UTF-8\" standalone=\"no\"?>\n<!DOCTYPE svg PUBLIC \"-//W3C//DTD SVG 1.1//EN\"\n \"http://www.w3.org/Graphics/SVG/1.1/DTD/svg11.dtd\">\n<!-- Generated by graphviz version 2.40.1 (20161225.0304)\n -->\n<!-- Title: G Pages: 1 -->\n<svg width=\"463pt\" height=\"425pt\"\n viewBox=\"0.00 0.00 463.07 425.44\" xmlns=\"http://www.w3.org/2000/svg\" xmlns:xlink=\"http://www.w3.org/1999/xlink\">\n<g id=\"graph0\" class=\"graph\" transform=\"scale(1 1) rotate(0) translate(4 421.4407)\">\n<title>G</title>\n<polygon fill=\"#ffffff\" stroke=\"transparent\" points=\"-4,4 -4,-421.4407 459.0705,-421.4407 459.0705,4 -4,4\"/>\n<!-- 0 -->\n<g id=\"node1\" class=\"node\">\n<title>0</title>\n<ellipse fill=\"#66c2a5\" stroke=\"#000000\" cx=\"27\" cy=\"-208.7203\" rx=\"27\" ry=\"18\"/>\n<text text-anchor=\"middle\" x=\"27\" y=\"-205.0203\" font-family=\"Times,serif\" font-size=\"14.00\" fill=\"#000000\">0</text>\n</g>\n<!-- 1 -->\n<g id=\"node2\" class=\"node\">\n<title>1</title>\n<ellipse fill=\"#66c2a5\" stroke=\"#000000\" cx=\"65.2988\" cy=\"-90.8487\" rx=\"27\" ry=\"18\"/>\n<text text-anchor=\"middle\" x=\"65.2988\" y=\"-87.1487\" font-family=\"Times,serif\" font-size=\"14.00\" fill=\"#000000\">1</text>\n</g>\n<!-- 0&#45;&#45;1 -->\n<g id=\"edge1\" class=\"edge\">\n<title>0&#45;&#45;1</title>\n<path fill=\"none\" stroke=\"#66c2a5\" d=\"M32.7337,-191.0738C39.9538,-168.8526 52.2873,-130.8939 59.5259,-108.6159\"/>\n</g>\n<!-- 4 -->\n<g id=\"node5\" class=\"node\">\n<title>4</title>\n<ellipse fill=\"#66c2a5\" stroke=\"#000000\" cx=\"289.504\" cy=\"-399.4407\" rx=\"27\" ry=\"18\"/>\n<text text-anchor=\"middle\" x=\"289.504\" y=\"-395.7407\" font-family=\"Times,serif\" font-size=\"14.00\" fill=\"#000000\">4</text>\n</g>\n<!-- 0&#45;&#45;4 -->\n<g id=\"edge2\" class=\"edge\">\n<title>0&#45;&#45;4</title>\n<path fill=\"none\" stroke=\"#66c2a5\" d=\"M45.4588,-222.1314C93.6568,-257.1493 222.8905,-351.0431 271.0656,-386.0444\"/>\n</g>\n<!-- 7 -->\n<g id=\"node8\" class=\"node\">\n<title>7</title>\n<ellipse fill=\"#66c2a5\" stroke=\"#000000\" cx=\"389.7716\" cy=\"-90.8487\" rx=\"27\" ry=\"18\"/>\n<text text-anchor=\"middle\" x=\"389.7716\" y=\"-87.1487\" font-family=\"Times,serif\" font-size=\"14.00\" fill=\"#000000\">7</text>\n</g>\n<!-- 0&#45;&#45;7 -->\n<g id=\"edge3\" class=\"edge\">\n<title>0&#45;&#45;7</title>\n<path fill=\"none\" stroke=\"#66c2a5\" d=\"M51.3658,-200.8034C117.294,-179.382 298.6744,-120.448 365.0342,-98.8864\"/>\n</g>\n<!-- 8 -->\n<g id=\"node9\" class=\"node\">\n<title>8</title>\n<ellipse fill=\"#66c2a5\" stroke=\"#000000\" cx=\"65.2988\" cy=\"-326.592\" rx=\"27\" ry=\"18\"/>\n<text text-anchor=\"middle\" x=\"65.2988\" y=\"-322.892\" font-family=\"Times,serif\" font-size=\"14.00\" fill=\"#000000\">8</text>\n</g>\n<!-- 0&#45;&#45;8 -->\n<g id=\"edge4\" class=\"edge\">\n<title>0&#45;&#45;8</title>\n<path fill=\"none\" stroke=\"#66c2a5\" d=\"M32.7337,-226.3669C39.9538,-248.5881 52.2873,-286.5468 59.5259,-308.8248\"/>\n</g>\n<!-- 9 -->\n<g id=\"node10\" class=\"node\">\n<title>9</title>\n<ellipse fill=\"#66c2a5\" stroke=\"#000000\" cx=\"165.5664\" cy=\"-18\" rx=\"27\" ry=\"18\"/>\n<text text-anchor=\"middle\" x=\"165.5664\" y=\"-14.3\" font-family=\"Times,serif\" font-size=\"14.00\" fill=\"#000000\">9</text>\n</g>\n<!-- 0&#45;&#45;9 -->\n<g id=\"edge5\" class=\"edge\">\n<title>0&#45;&#45;9</title>\n<path fill=\"none\" stroke=\"#66c2a5\" d=\"M38.8141,-192.4596C64.9932,-156.4272 127.6309,-70.2137 153.7822,-34.2196\"/>\n</g>\n<!-- 2 -->\n<g id=\"node3\" class=\"node\">\n<title>2</title>\n<ellipse fill=\"#66c2a5\" stroke=\"#000000\" cx=\"165.5664\" cy=\"-399.4407\" rx=\"27\" ry=\"18\"/>\n<text text-anchor=\"middle\" x=\"165.5664\" y=\"-395.7407\" font-family=\"Times,serif\" font-size=\"14.00\" fill=\"#000000\">2</text>\n</g>\n<!-- 1&#45;&#45;2 -->\n<g id=\"edge6\" class=\"edge\">\n<title>1&#45;&#45;2</title>\n<path fill=\"none\" stroke=\"#66c2a5\" d=\"M71.123,-108.7737C88.8445,-163.315 141.9832,-326.8591 159.7262,-381.4661\"/>\n</g>\n<!-- 6 -->\n<g id=\"node7\" class=\"node\">\n<title>6</title>\n<ellipse fill=\"#66c2a5\" stroke=\"#000000\" cx=\"289.504\" cy=\"-18\" rx=\"27\" ry=\"18\"/>\n<text text-anchor=\"middle\" x=\"289.504\" y=\"-14.3\" font-family=\"Times,serif\" font-size=\"14.00\" fill=\"#000000\">6</text>\n</g>\n<!-- 1&#45;&#45;6 -->\n<g id=\"edge7\" class=\"edge\">\n<title>1&#45;&#45;6</title>\n<path fill=\"none\" stroke=\"#66c2a5\" d=\"M89.7195,-82.9139C132.8473,-68.9008 222.0071,-39.9311 265.1134,-25.925\"/>\n</g>\n<!-- 1&#45;&#45;7 -->\n<g id=\"edge8\" class=\"edge\">\n<title>1&#45;&#45;7</title>\n<path fill=\"none\" stroke=\"#66c2a5\" d=\"M92.4051,-90.8487C153.4822,-90.8487 301.2945,-90.8487 362.5143,-90.8487\"/>\n</g>\n<!-- 1&#45;&#45;8 -->\n<g id=\"edge9\" class=\"edge\">\n<title>1&#45;&#45;8</title>\n<path fill=\"none\" stroke=\"#66c2a5\" d=\"M65.2988,-108.9556C65.2988,-152.8371 65.2988,-264.4785 65.2988,-308.4234\"/>\n</g>\n<!-- 1&#45;&#45;9 -->\n<g id=\"edge10\" class=\"edge\">\n<title>1&#45;&#45;9</title>\n<path fill=\"none\" stroke=\"#66c2a5\" d=\"M83.6894,-77.4871C101.781,-64.3429 129.2413,-44.3918 147.2924,-31.2769\"/>\n</g>\n<!-- 2&#45;&#45;4 -->\n<g id=\"edge11\" class=\"edge\">\n<title>2&#45;&#45;4</title>\n<path fill=\"none\" stroke=\"#66c2a5\" d=\"M192.7651,-399.4407C213.4293,-399.4407 241.7202,-399.4407 262.3688,-399.4407\"/>\n</g>\n<!-- 3 -->\n<g id=\"node4\" class=\"node\">\n<title>3</title>\n<ellipse fill=\"#66c2a5\" stroke=\"#000000\" cx=\"428.0705\" cy=\"-208.7203\" rx=\"27\" ry=\"18\"/>\n<text text-anchor=\"middle\" x=\"428.0705\" y=\"-205.0203\" font-family=\"Times,serif\" font-size=\"14.00\" fill=\"#000000\">3</text>\n</g>\n<!-- 5 -->\n<g id=\"node6\" class=\"node\">\n<title>5</title>\n<ellipse fill=\"#66c2a5\" stroke=\"#000000\" cx=\"389.7716\" cy=\"-326.592\" rx=\"27\" ry=\"18\"/>\n<text text-anchor=\"middle\" x=\"389.7716\" y=\"-322.892\" font-family=\"Times,serif\" font-size=\"14.00\" fill=\"#000000\">5</text>\n</g>\n<!-- 3&#45;&#45;5 -->\n<g id=\"edge12\" class=\"edge\">\n<title>3&#45;&#45;5</title>\n<path fill=\"none\" stroke=\"#66c2a5\" d=\"M422.3367,-226.3669C415.1166,-248.5881 402.7831,-286.5468 395.5446,-308.8248\"/>\n</g>\n<!-- 3&#45;&#45;6 -->\n<g id=\"edge13\" class=\"edge\">\n<title>3&#45;&#45;6</title>\n<path fill=\"none\" stroke=\"#66c2a5\" d=\"M416.2564,-192.4596C390.0773,-156.4272 327.4395,-70.2137 301.2882,-34.2196\"/>\n</g>\n<!-- 4&#45;&#45;5 -->\n<g id=\"edge14\" class=\"edge\">\n<title>4&#45;&#45;5</title>\n<path fill=\"none\" stroke=\"#66c2a5\" d=\"M307.8946,-386.0791C325.9862,-372.9349 353.4465,-352.9838 371.4976,-339.8689\"/>\n</g>\n<!-- 4&#45;&#45;7 -->\n<g id=\"edge15\" class=\"edge\">\n<title>4&#45;&#45;7</title>\n<path fill=\"none\" stroke=\"#66c2a5\" d=\"M295.3282,-381.5156C313.0497,-326.9744 366.1884,-163.4303 383.9314,-108.8232\"/>\n</g>\n<!-- 4&#45;&#45;8 -->\n<g id=\"edge16\" class=\"edge\">\n<title>4&#45;&#45;8</title>\n<path fill=\"none\" stroke=\"#66c2a5\" d=\"M265.0833,-391.5059C221.9555,-377.4928 132.7958,-348.5231 89.6894,-334.517\"/>\n</g>\n<!-- 5&#45;&#45;9 -->\n<g id=\"edge17\" class=\"edge\">\n<title>5&#45;&#45;9</title>\n<path fill=\"none\" stroke=\"#66c2a5\" d=\"M377.7174,-310.0007C338.6971,-256.2939 216.1234,-87.5857 177.4082,-34.2988\"/>\n</g>\n<!-- 6&#45;&#45;7 -->\n<g id=\"edge18\" class=\"edge\">\n<title>6&#45;&#45;7</title>\n<path fill=\"none\" stroke=\"#66c2a5\" d=\"M307.8946,-31.3616C325.9862,-44.5058 353.4465,-64.4569 371.4976,-77.5718\"/>\n</g>\n<!-- 6&#45;&#45;9 -->\n<g id=\"edge19\" class=\"edge\">\n<title>6&#45;&#45;9</title>\n<path fill=\"none\" stroke=\"#66c2a5\" d=\"M262.3054,-18C241.6412,-18 213.3502,-18 192.7016,-18\"/>\n</g>\n<!-- 7&#45;&#45;9 -->\n<g id=\"edge20\" class=\"edge\">\n<title>7&#45;&#45;9</title>\n<path fill=\"none\" stroke=\"#66c2a5\" d=\"M365.3509,-82.9139C322.2231,-68.9008 233.0634,-39.9311 189.957,-25.925\"/>\n</g>\n</g>\n</svg>\n"
          },
          "metadata": {},
          "execution_count": 29
        }
      ]
    },
    {
      "cell_type": "markdown",
      "metadata": {
        "id": "MKT6NUAXBM2O"
      },
      "source": [
        "## Spanning tree\n",
        "A [spanning tree](https://en.wikipedia.org/wiki/Tree_(graph_theory)#:~:text=In%20graph%20theory%2C%20a%20tree,a%20connected%20acyclic%20undirected%20graph.&text=A%20polyforest%20(or%20directed%20forest,undirected%20graph%20is%20a%20forest) is a graph where, if the graph has `n` nodes, there are exactly `n-1` edges and the graph is connected."
      ]
    },
    {
      "cell_type": "code",
      "metadata": {
        "id": "wyd48bf7BGP0"
      },
      "source": [
        "tree = Graph.generate_random_spanning_tree()"
      ],
      "execution_count": 30,
      "outputs": []
    },
    {
      "cell_type": "markdown",
      "metadata": {
        "id": "G_sk8Or0CZWd"
      },
      "source": [
        "Let's compute its report:"
      ]
    },
    {
      "cell_type": "code",
      "metadata": {
        "colab": {
          "base_uri": "https://localhost:8080/",
          "height": 467
        },
        "id": "wjstAs8_CYcI",
        "outputId": "2b085194-33c4-42a9-f3d5-ed8f907b5b24"
      },
      "source": [
        "tree"
      ],
      "execution_count": 31,
      "outputs": [
        {
          "output_type": "execute_result",
          "data": {
            "text/html": [
              "<h2>Connected</h2><p>The undirected graph Connected has 10 homogeneous nodes and 9 homogeneous edges.</p><h3>RAM requirements</h3><p>The RAM requirements for the nodes and edges data structures are 80.00B and 280.00B respectively.</p><h3>Degree centrality</h3><p>The minimum node degree is 1, the maximum node degree is 3, the mode degree is 2, the mean degree is 1.80 and the node degree median is 2.</p><p>The nodes with highest degree centrality are: 7 (degree 3 and node type connected), 4 (degree 3 and node type connected), 9 (degree 2 and node type connected), 1 (degree 2 and node type connected) and 5 (degree 2 and node type connected).</p><h3>Node types</h3><p>The graph has a single node type, which is connected. Note that this means that all nodes have the same node type, that is, all nodes are homogeneous..</p><h4>RAM requirements</h4><p>The RAM requirements for the node types data structure is 869.00B.</p><h3>Edge types</h3><p>The graph has a single edge type, which is connected. Note that this means that all edges have the same edge type, that is, all edges are homogeneous..</p><h4>RAM requirements</h4><p>The RAM requirements for the edge types data structure is 438.00B.</p>"
            ],
            "text/plain": [
              "<h2>Connected</h2><p>The undirected graph Connected has 10 homogeneous nodes and 9 homogeneous edges.</p><h3>RAM requirements</h3><p>The RAM requirements for the nodes and edges data structures are 80.00B and 280.00B respectively.</p><h3>Degree centrality</h3><p>The minimum node degree is 1, the maximum node degree is 3, the mode degree is 2, the mean degree is 1.80 and the node degree median is 2.</p><p>The nodes with highest degree centrality are: 7 (degree 3 and node type connected), 4 (degree 3 and node type connected), 9 (degree 2 and node type connected), 1 (degree 2 and node type connected) and 5 (degree 2 and node type connected).</p><h3>Node types</h3><p>The graph has a single node type, which is connected. Note that this means that all nodes have the same node type, that is, all nodes are homogeneous..</p><h4>RAM requirements</h4><p>The RAM requirements for the node types data structure is 869.00B.</p><h3>Edge types</h3><p>The graph has a single edge type, which is connected. Note that this means that all edges have the same edge type, that is, all edges are homogeneous..</p><h4>RAM requirements</h4><p>The RAM requirements for the edge types data structure is 438.00B.</p>"
            ]
          },
          "metadata": {},
          "execution_count": 31
        }
      ]
    },
    {
      "cell_type": "markdown",
      "metadata": {
        "id": "6GmzDysKCcAj"
      },
      "source": [
        "And visualize it:"
      ]
    },
    {
      "cell_type": "code",
      "metadata": {
        "colab": {
          "base_uri": "https://localhost:8080/",
          "height": 566
        },
        "id": "9U9rve4dCY0x",
        "outputId": "fc7fd3cd-ce32-46a8-883c-b76290fb5972"
      },
      "source": [
        "GraphVisualization(tree).plot_dot(engine=\"neato\")"
      ],
      "execution_count": 34,
      "outputs": [
        {
          "output_type": "execute_result",
          "data": {
            "text/plain": [
              "<graphviz.files.Source at 0x7fab28f23950>"
            ],
            "image/svg+xml": "<?xml version=\"1.0\" encoding=\"UTF-8\" standalone=\"no\"?>\n<!DOCTYPE svg PUBLIC \"-//W3C//DTD SVG 1.1//EN\"\n \"http://www.w3.org/Graphics/SVG/1.1/DTD/svg11.dtd\">\n<!-- Generated by graphviz version 2.40.1 (20161225.0304)\n -->\n<!-- Title: G Pages: 1 -->\n<svg width=\"426pt\" height=\"409pt\"\n viewBox=\"0.00 0.00 426.03 408.96\" xmlns=\"http://www.w3.org/2000/svg\" xmlns:xlink=\"http://www.w3.org/1999/xlink\">\n<g id=\"graph0\" class=\"graph\" transform=\"scale(1 1) rotate(0) translate(4 404.9568)\">\n<title>G</title>\n<polygon fill=\"#ffffff\" stroke=\"transparent\" points=\"-4,4 -4,-404.9568 422.0255,-404.9568 422.0255,4 -4,4\"/>\n<!-- 0 -->\n<g id=\"node1\" class=\"node\">\n<title>0</title>\n<ellipse fill=\"#66c2a5\" stroke=\"#000000\" cx=\"132.3802\" cy=\"-88.9663\" rx=\"27\" ry=\"18\"/>\n<text text-anchor=\"middle\" x=\"132.3802\" y=\"-85.2663\" font-family=\"Times,serif\" font-size=\"14.00\" fill=\"#000000\">0</text>\n</g>\n<!-- 6 -->\n<g id=\"node7\" class=\"node\">\n<title>6</title>\n<ellipse fill=\"#66c2a5\" stroke=\"#000000\" cx=\"104.9201\" cy=\"-18\" rx=\"27\" ry=\"18\"/>\n<text text-anchor=\"middle\" x=\"104.9201\" y=\"-14.3\" font-family=\"Times,serif\" font-size=\"14.00\" fill=\"#000000\">6</text>\n</g>\n<!-- 0&#45;&#45;6 -->\n<g id=\"edge1\" class=\"edge\">\n<title>0&#45;&#45;6</title>\n<path fill=\"none\" stroke=\"#66c2a5\" d=\"M125.5923,-71.4241C121.3994,-60.5881 116.0343,-46.7229 111.8206,-35.8334\"/>\n</g>\n<!-- 7 -->\n<g id=\"node8\" class=\"node\">\n<title>7</title>\n<ellipse fill=\"#66c2a5\" stroke=\"#000000\" cx=\"160.8555\" cy=\"-165.7801\" rx=\"27\" ry=\"18\"/>\n<text text-anchor=\"middle\" x=\"160.8555\" y=\"-162.0801\" font-family=\"Times,serif\" font-size=\"14.00\" fill=\"#000000\">7</text>\n</g>\n<!-- 0&#45;&#45;7 -->\n<g id=\"edge2\" class=\"edge\">\n<title>0&#45;&#45;7</title>\n<path fill=\"none\" stroke=\"#66c2a5\" d=\"M138.9846,-106.782C143.5848,-119.1914 149.6945,-135.6727 154.2869,-148.061\"/>\n</g>\n<!-- 1 -->\n<g id=\"node2\" class=\"node\">\n<title>1</title>\n<ellipse fill=\"#66c2a5\" stroke=\"#000000\" cx=\"317.268\" cy=\"-160.1375\" rx=\"27\" ry=\"18\"/>\n<text text-anchor=\"middle\" x=\"317.268\" y=\"-156.4375\" font-family=\"Times,serif\" font-size=\"14.00\" fill=\"#000000\">1</text>\n</g>\n<!-- 8 -->\n<g id=\"node9\" class=\"node\">\n<title>8</title>\n<ellipse fill=\"#66c2a5\" stroke=\"#000000\" cx=\"391.0255\" cy=\"-159.8018\" rx=\"27\" ry=\"18\"/>\n<text text-anchor=\"middle\" x=\"391.0255\" y=\"-156.1018\" font-family=\"Times,serif\" font-size=\"14.00\" fill=\"#000000\">8</text>\n</g>\n<!-- 1&#45;&#45;8 -->\n<g id=\"edge3\" class=\"edge\">\n<title>1&#45;&#45;8</title>\n<path fill=\"none\" stroke=\"#66c2a5\" d=\"M344.3138,-160.0144C350.7275,-159.9852 357.5694,-159.9541 363.983,-159.9249\"/>\n</g>\n<!-- 9 -->\n<g id=\"node10\" class=\"node\">\n<title>9</title>\n<ellipse fill=\"#66c2a5\" stroke=\"#000000\" cx=\"241.7579\" cy=\"-166.4924\" rx=\"27\" ry=\"18\"/>\n<text text-anchor=\"middle\" x=\"241.7579\" y=\"-162.7924\" font-family=\"Times,serif\" font-size=\"14.00\" fill=\"#000000\">9</text>\n</g>\n<!-- 1&#45;&#45;9 -->\n<g id=\"edge4\" class=\"edge\">\n<title>1&#45;&#45;9</title>\n<path fill=\"none\" stroke=\"#66c2a5\" d=\"M290.4334,-162.3959C283.3966,-162.9881 275.8061,-163.6269 268.7606,-164.2199\"/>\n</g>\n<!-- 2 -->\n<g id=\"node3\" class=\"node\">\n<title>2</title>\n<ellipse fill=\"#66c2a5\" stroke=\"#000000\" cx=\"27\" cy=\"-220.8241\" rx=\"27\" ry=\"18\"/>\n<text text-anchor=\"middle\" x=\"27\" y=\"-217.1241\" font-family=\"Times,serif\" font-size=\"14.00\" fill=\"#000000\">2</text>\n</g>\n<!-- 4 -->\n<g id=\"node5\" class=\"node\">\n<title>4</title>\n<ellipse fill=\"#66c2a5\" stroke=\"#000000\" cx=\"107.4596\" cy=\"-230.1511\" rx=\"27\" ry=\"18\"/>\n<text text-anchor=\"middle\" x=\"107.4596\" y=\"-226.4511\" font-family=\"Times,serif\" font-size=\"14.00\" fill=\"#000000\">4</text>\n</g>\n<!-- 2&#45;&#45;4 -->\n<g id=\"edge5\" class=\"edge\">\n<title>2&#45;&#45;4</title>\n<path fill=\"none\" stroke=\"#66c2a5\" d=\"M53.7919,-223.9298C62.4776,-224.9367 72.1075,-226.053 80.7847,-227.0589\"/>\n</g>\n<!-- 3 -->\n<g id=\"node4\" class=\"node\">\n<title>3</title>\n<ellipse fill=\"#66c2a5\" stroke=\"#000000\" cx=\"89.3389\" cy=\"-382.9568\" rx=\"27\" ry=\"18\"/>\n<text text-anchor=\"middle\" x=\"89.3389\" y=\"-379.2568\" font-family=\"Times,serif\" font-size=\"14.00\" fill=\"#000000\">3</text>\n</g>\n<!-- 5 -->\n<g id=\"node6\" class=\"node\">\n<title>5</title>\n<ellipse fill=\"#66c2a5\" stroke=\"#000000\" cx=\"106.9877\" cy=\"-309.8769\" rx=\"27\" ry=\"18\"/>\n<text text-anchor=\"middle\" x=\"106.9877\" y=\"-306.1769\" font-family=\"Times,serif\" font-size=\"14.00\" fill=\"#000000\">5</text>\n</g>\n<!-- 3&#45;&#45;5 -->\n<g id=\"edge6\" class=\"edge\">\n<title>3&#45;&#45;5</title>\n<path fill=\"none\" stroke=\"#66c2a5\" d=\"M93.7015,-364.8921C96.4371,-353.5643 99.9492,-339.0219 102.6752,-327.7338\"/>\n</g>\n<!-- 4&#45;&#45;5 -->\n<g id=\"edge7\" class=\"edge\">\n<title>4&#45;&#45;5</title>\n<path fill=\"none\" stroke=\"#66c2a5\" d=\"M107.3525,-248.2421C107.2753,-261.2897 107.1715,-278.8263 107.0944,-291.8574\"/>\n</g>\n<!-- 4&#45;&#45;7 -->\n<g id=\"edge8\" class=\"edge\">\n<title>4&#45;&#45;7</title>\n<path fill=\"none\" stroke=\"#66c2a5\" d=\"M120.6586,-214.2391C128.8117,-204.4102 139.244,-191.8336 147.4375,-181.9561\"/>\n</g>\n<!-- 7&#45;&#45;9 -->\n<g id=\"edge9\" class=\"edge\">\n<title>7&#45;&#45;9</title>\n<path fill=\"none\" stroke=\"#66c2a5\" d=\"M188.2454,-166.0212C196.7717,-166.0963 206.1654,-166.179 214.6709,-166.2539\"/>\n</g>\n</g>\n</svg>\n"
          },
          "metadata": {},
          "execution_count": 34
        }
      ]
    }
  ]
}