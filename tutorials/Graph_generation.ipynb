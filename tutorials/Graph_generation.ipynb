{
 "cells": [
  {
   "cell_type": "markdown",
   "metadata": {
    "colab_type": "text",
    "id": "view-in-github"
   },
   "source": [
    "<a href=\"https://colab.research.google.com/github/AnacletoLAB/grape/blob/main/tutorials/Graph_generation.ipynb\" target=\"_parent\"><img src=\"https://colab.research.google.com/assets/colab-badge.svg\" alt=\"Open In Colab\"/></a>"
   ]
  },
  {
   "cell_type": "markdown",
   "metadata": {
    "id": "7SnUxsLO5ldc"
   },
   "source": [
    "# Graph generation\n",
    "In the following tutorial we will show how to use Ensmallen to generate some graphs that can be useful when testing graph algorithms."
   ]
  },
  {
   "cell_type": "markdown",
   "metadata": {
    "id": "GHSbUlDj5rX3"
   },
   "source": [
    "We start by installing the GRAPE library:\n",
    "\n",
    "```bash\n",
    "pip install grape -U\n",
    "```\n"
   ]
  },
  {
   "cell_type": "code",
   "execution_count": 1,
   "metadata": {
    "id": "kcC6m_mx599Z"
   },
   "outputs": [],
   "source": [
    "! pip install -qU grape"
   ]
  },
  {
   "cell_type": "code",
   "execution_count": 2,
   "metadata": {
    "id": "UA3Xq9f58Dd9"
   },
   "outputs": [],
   "source": [
    "from grape import Graph, GraphVisualizer"
   ]
  },
  {
   "cell_type": "markdown",
   "metadata": {
    "id": "nqrnBOXB5tAR"
   },
   "source": [
    "## Listing all the generation methods"
   ]
  },
  {
   "cell_type": "markdown",
   "metadata": {
    "id": "pX9XlvXT6TNc"
   },
   "source": [
    "At the time of writing, we support a handful of generation methods, namely:\n",
    "\n",
    "*   Barbell graph\n",
    "*   Chain graph\n",
    "*   Circle graph\n",
    "*   Complete graph \n",
    "*   Random connected graph\n",
    "*   Random spanning tree\n",
    "\n",
    "Note that all of the aforementioned methods generate a graph into memory and, where possible, directly create in parallel the succinct data structure for the adjacency matrix, making these methods very useful when testing if an algorithm scales to a large graphs in a few seconds."
   ]
  },
  {
   "cell_type": "markdown",
   "metadata": {
    "id": "DOCrNo467kfS"
   },
   "source": [
    "## Barbell graph\n",
    "A [Barbell graph](https://en.wikipedia.org/wiki/Barbell_graph#:~:text=In%20the%20mathematical%20discipline%20of,an%20endpoint%20in%20each%20clique.) is simply a graph with the shape of a Barbell, as shown in the visualization below. It can be a usefull tool for testing community detections algorithms."
   ]
  },
  {
   "cell_type": "code",
   "execution_count": 3,
   "metadata": {
    "id": "HUvcFOqb5jCE"
   },
   "outputs": [],
   "source": [
    "barbell = Graph.generate_barbell_graph(\n",
    "    left_clique_nodes_number=7,\n",
    "    right_clique_nodes_number=7,\n",
    "    chain_nodes_number=2\n",
    ")"
   ]
  },
  {
   "cell_type": "markdown",
   "metadata": {
    "id": "6mdjFmvo796C"
   },
   "source": [
    "Let's compute the graph report:"
   ]
  },
  {
   "cell_type": "code",
   "execution_count": 4,
   "metadata": {
    "colab": {
     "base_uri": "https://localhost:8080/",
     "height": 467
    },
    "id": "7ph-MfZc78I7",
    "outputId": "f6f50199-2f68-4a6e-b76e-966a5893c3d2"
   },
   "outputs": [
    {
     "data": {
      "text/html": [
       "<div class=\"graph-report\"><style>.graph-report li {margin: 0.5em 0 0.5em 0;}.graph-report .paragraph {text-align: justify;word-break: break-all;}.graph-report .small-columns {column-count: 4;column-gap: 2em;}.graph-report .medium-columns {column-count: 3;column-gap: 2em;}.graph-report .large-columns {column-count: 2;column-gap: 2em;}.graph-report .single-column {}@media only screen and (max-width: 600px) {.graph-report .small-columns {column-count: 1;}.graph-report .medium-columns {column-count: 1;}.graph-report .large-columns {column-count: 1;}}@media only screen and (min-width: 600px) and (max-width: 800px) {.graph-report .small-columns {column-count: 2;}.graph-report .medium-columns {column-count: 1;}.graph-report .large-columns {column-count: 1;}}@media only screen and (min-width: 800px) and (max-width: 1024px) {.graph-report .small-columns {column-count: 3;}.graph-report .medium-columns {column-count: 2;}.graph-report .large-columns {column-count: 1;}}</style><h2>Barbell</h2><p class=\"paragraph\">The undirected graph Barbell has 16 heterogeneous nodes and 45 heterogeneous edges. The graph is connected, that is, it is composed of a single connected component that includes all nodes and edges. The RAM requirements for the nodes and edges data structures are 80B and 320B respectively.</p><h3 style=\"margin: 1em 0 0 0;\">Degree centrality</h3><p class=\"paragraph\">The minimum node degree is 2, the maximum node degree is 7, the mode degree is 6, the mean degree is 5.62 and the node degree median is 6.</p><p class=\"paragraph\">The nodes with the highest degree centrality are 6 (degree 7 and node types left_clique and chain), 9 (degree 7 and node type right_clique), 0 (degree 6 and node type left_clique), 1 (degree 6 and node type left_clique) and 2 (degree 6 and node type left_clique).</p><h3 style=\"margin: 1em 0 0 0;\">Node types</h3><p class=\"paragraph\">The graph has 3 node types, which are right_clique (8 nodes, 50.00%), left_clique (7 nodes, 43.75%) and chain (3 nodes, 18.75%). The node types are multi-label, and the node with most node types has 2 node types. The RAM requirement for the node types data structure is 1.26KB.</p><h3 style=\"margin: 1em 0 0 0;\">Edge types</h3><p class=\"paragraph\">The graph has 3 edge types, which are right_clique (42 edges, 46.67%), left_clique (42 edges, 46.67%) and chain (6 edges, 6.67%). The RAM requirement for the edge types data structure is 758B.</p></div>"
      ],
      "text/plain": [
       "<div class=\"graph-report\"><style>.graph-report li {margin: 0.5em 0 0.5em 0;}.graph-report .paragraph {text-align: justify;word-break: break-all;}.graph-report .small-columns {column-count: 4;column-gap: 2em;}.graph-report .medium-columns {column-count: 3;column-gap: 2em;}.graph-report .large-columns {column-count: 2;column-gap: 2em;}.graph-report .single-column {}@media only screen and (max-width: 600px) {.graph-report .small-columns {column-count: 1;}.graph-report .medium-columns {column-count: 1;}.graph-report .large-columns {column-count: 1;}}@media only screen and (min-width: 600px) and (max-width: 800px) {.graph-report .small-columns {column-count: 2;}.graph-report .medium-columns {column-count: 1;}.graph-report .large-columns {column-count: 1;}}@media only screen and (min-width: 800px) and (max-width: 1024px) {.graph-report .small-columns {column-count: 3;}.graph-report .medium-columns {column-count: 2;}.graph-report .large-columns {column-count: 1;}}</style><h2>Barbell</h2><p class=\"paragraph\">The undirected graph Barbell has 16 heterogeneous nodes and 45 heterogeneous edges. The graph is connected, that is, it is composed of a single connected component that includes all nodes and edges. The RAM requirements for the nodes and edges data structures are 80B and 320B respectively.</p><h3 style=\"margin: 1em 0 0 0;\">Degree centrality</h3><p class=\"paragraph\">The minimum node degree is 2, the maximum node degree is 7, the mode degree is 6, the mean degree is 5.62 and the node degree median is 6.</p><p class=\"paragraph\">The nodes with the highest degree centrality are 6 (degree 7 and node types left_clique and chain), 9 (degree 7 and node type right_clique), 0 (degree 6 and node type left_clique), 1 (degree 6 and node type left_clique) and 2 (degree 6 and node type left_clique).</p><h3 style=\"margin: 1em 0 0 0;\">Node types</h3><p class=\"paragraph\">The graph has 3 node types, which are right_clique (8 nodes, 50.00%), left_clique (7 nodes, 43.75%) and chain (3 nodes, 18.75%). The node types are multi-label, and the node with most node types has 2 node types. The RAM requirement for the node types data structure is 1.26KB.</p><h3 style=\"margin: 1em 0 0 0;\">Edge types</h3><p class=\"paragraph\">The graph has 3 edge types, which are right_clique (42 edges, 46.67%), left_clique (42 edges, 46.67%) and chain (6 edges, 6.67%). The RAM requirement for the edge types data structure is 758B.</p></div>"
      ]
     },
     "execution_count": 4,
     "metadata": {},
     "output_type": "execute_result"
    }
   ],
   "source": [
    "barbell"
   ]
  },
  {
   "cell_type": "markdown",
   "metadata": {
    "id": "SreYcyj7_jAO"
   },
   "source": [
    "And visualize it:"
   ]
  },
  {
   "cell_type": "code",
   "execution_count": 5,
   "metadata": {
    "colab": {
     "base_uri": "https://localhost:8080/",
     "height": 445
    },
    "id": "ysl2leBF6NXv",
    "outputId": "c16f08ff-7e72-4bfe-dee6-cd03559491bf"
   },
   "outputs": [
    {
     "data": {
      "image/svg+xml": [
       "<?xml version=\"1.0\" encoding=\"UTF-8\" standalone=\"no\"?>\n",
       "<!DOCTYPE svg PUBLIC \"-//W3C//DTD SVG 1.1//EN\"\n",
       " \"http://www.w3.org/Graphics/SVG/1.1/DTD/svg11.dtd\">\n",
       "<!-- Generated by graphviz version 2.50.0 (0)\n",
       " -->\n",
       "<!-- Title: G Pages: 1 -->\n",
       "<svg width=\"449pt\" height=\"240pt\"\n",
       " viewBox=\"0.00 0.00 448.79 240.46\" xmlns=\"http://www.w3.org/2000/svg\" xmlns:xlink=\"http://www.w3.org/1999/xlink\">\n",
       "<g id=\"graph0\" class=\"graph\" transform=\"scale(1 1) rotate(0) translate(4 236.46)\">\n",
       "<title>G</title>\n",
       "<polygon fill=\"white\" stroke=\"transparent\" points=\"-4,4 -4,-236.46 444.79,-236.46 444.79,4 -4,4\"/>\n",
       "<!-- 0 -->\n",
       "<g id=\"node1\" class=\"node\">\n",
       "<title>0</title>\n",
       "<ellipse fill=\"#66c2a5\" stroke=\"black\" cx=\"38.64\" cy=\"-22.65\" rx=\"18\" ry=\"18\"/>\n",
       "<text text-anchor=\"middle\" x=\"38.64\" y=\"-18.95\" font-family=\"Times,serif\" font-size=\"14.00\">0</text>\n",
       "</g>\n",
       "<!-- 1 -->\n",
       "<g id=\"node2\" class=\"node\">\n",
       "<title>1</title>\n",
       "<ellipse fill=\"#66c2a5\" stroke=\"black\" cx=\"68.16\" cy=\"-58.44\" rx=\"18\" ry=\"18\"/>\n",
       "<text text-anchor=\"middle\" x=\"68.16\" y=\"-54.74\" font-family=\"Times,serif\" font-size=\"14.00\">1</text>\n",
       "</g>\n",
       "<!-- 0&#45;&#45;1 -->\n",
       "<g id=\"edge1\" class=\"edge\">\n",
       "<title>0&#45;&#45;1</title>\n",
       "<path fill=\"none\" stroke=\"#66c2a5\" d=\"M50.31,-36.8C52.37,-39.3 54.52,-41.9 56.58,-44.4\"/>\n",
       "</g>\n",
       "<!-- 2 -->\n",
       "<g id=\"node3\" class=\"node\">\n",
       "<title>2</title>\n",
       "<ellipse fill=\"#66c2a5\" stroke=\"black\" cx=\"82.64\" cy=\"-18\" rx=\"18\" ry=\"18\"/>\n",
       "<text text-anchor=\"middle\" x=\"82.64\" y=\"-14.3\" font-family=\"Times,serif\" font-size=\"14.00\">2</text>\n",
       "</g>\n",
       "<!-- 0&#45;&#45;2 -->\n",
       "<g id=\"edge2\" class=\"edge\">\n",
       "<title>0&#45;&#45;2</title>\n",
       "<path fill=\"none\" stroke=\"#66c2a5\" d=\"M56.79,-20.73C59.35,-20.46 61.97,-20.19 64.53,-19.92\"/>\n",
       "</g>\n",
       "<!-- 3 -->\n",
       "<g id=\"node4\" class=\"node\">\n",
       "<title>3</title>\n",
       "<ellipse fill=\"#66c2a5\" stroke=\"black\" cx=\"32.26\" cy=\"-101.94\" rx=\"18\" ry=\"18\"/>\n",
       "<text text-anchor=\"middle\" x=\"32.26\" y=\"-98.24\" font-family=\"Times,serif\" font-size=\"14.00\">3</text>\n",
       "</g>\n",
       "<!-- 0&#45;&#45;3 -->\n",
       "<g id=\"edge3\" class=\"edge\">\n",
       "<title>0&#45;&#45;3</title>\n",
       "<path fill=\"none\" stroke=\"#66c2a5\" d=\"M37.19,-40.65C36.15,-53.53 34.76,-70.82 33.72,-83.75\"/>\n",
       "</g>\n",
       "<!-- 4 -->\n",
       "<g id=\"node5\" class=\"node\">\n",
       "<title>4</title>\n",
       "<ellipse fill=\"#66c2a5\" stroke=\"black\" cx=\"70.29\" cy=\"-108.86\" rx=\"18\" ry=\"18\"/>\n",
       "<text text-anchor=\"middle\" x=\"70.29\" y=\"-105.16\" font-family=\"Times,serif\" font-size=\"14.00\">4</text>\n",
       "</g>\n",
       "<!-- 0&#45;&#45;4 -->\n",
       "<g id=\"edge4\" class=\"edge\">\n",
       "<title>0&#45;&#45;4</title>\n",
       "<path fill=\"none\" stroke=\"#66c2a5\" d=\"M44.89,-39.68C50.44,-54.8 58.51,-76.76 64.05,-91.86\"/>\n",
       "</g>\n",
       "<!-- 5 -->\n",
       "<g id=\"node6\" class=\"node\">\n",
       "<title>5</title>\n",
       "<ellipse fill=\"#66c2a5\" stroke=\"black\" cx=\"18\" cy=\"-62.24\" rx=\"18\" ry=\"18\"/>\n",
       "<text text-anchor=\"middle\" x=\"18\" y=\"-58.54\" font-family=\"Times,serif\" font-size=\"14.00\">5</text>\n",
       "</g>\n",
       "<!-- 0&#45;&#45;5 -->\n",
       "<g id=\"edge5\" class=\"edge\">\n",
       "<title>0&#45;&#45;5</title>\n",
       "<path fill=\"none\" stroke=\"#66c2a5\" d=\"M30.25,-38.75C29,-41.15 27.71,-43.62 26.45,-46.02\"/>\n",
       "</g>\n",
       "<!-- 6 -->\n",
       "<g id=\"node7\" class=\"node\">\n",
       "<title>6</title>\n",
       "<ellipse fill=\"#66c2a5\" stroke=\"black\" cx=\"112.62\" cy=\"-72.31\" rx=\"18\" ry=\"18\"/>\n",
       "<text text-anchor=\"middle\" x=\"112.62\" y=\"-68.61\" font-family=\"Times,serif\" font-size=\"14.00\">6</text>\n",
       "</g>\n",
       "<!-- 0&#45;&#45;6 -->\n",
       "<g id=\"edge6\" class=\"edge\">\n",
       "<title>0&#45;&#45;6</title>\n",
       "<path fill=\"none\" stroke=\"#66c2a5\" d=\"M53.61,-32.7C66.45,-41.32 84.84,-53.66 97.67,-62.27\"/>\n",
       "</g>\n",
       "<!-- 1&#45;&#45;2 -->\n",
       "<g id=\"edge7\" class=\"edge\">\n",
       "<title>1&#45;&#45;2</title>\n",
       "<path fill=\"none\" stroke=\"#66c2a5\" d=\"M74.38,-41.05C75.09,-39.09 75.81,-37.08 76.51,-35.11\"/>\n",
       "</g>\n",
       "<!-- 1&#45;&#45;3 -->\n",
       "<g id=\"edge8\" class=\"edge\">\n",
       "<title>1&#45;&#45;3</title>\n",
       "<path fill=\"none\" stroke=\"#66c2a5\" d=\"M56.4,-72.68C52.39,-77.54 47.92,-82.97 43.92,-87.81\"/>\n",
       "</g>\n",
       "<!-- 1&#45;&#45;4 -->\n",
       "<g id=\"edge9\" class=\"edge\">\n",
       "<title>1&#45;&#45;4</title>\n",
       "<path fill=\"none\" stroke=\"#66c2a5\" d=\"M68.93,-76.64C69.12,-81.27 69.33,-86.23 69.53,-90.85\"/>\n",
       "</g>\n",
       "<!-- 1&#45;&#45;5 -->\n",
       "<g id=\"edge10\" class=\"edge\">\n",
       "<title>1&#45;&#45;5</title>\n",
       "<path fill=\"none\" stroke=\"#66c2a5\" d=\"M50.05,-59.81C45.56,-60.15 40.75,-60.52 36.25,-60.86\"/>\n",
       "</g>\n",
       "<!-- 1&#45;&#45;6 -->\n",
       "<g id=\"edge11\" class=\"edge\">\n",
       "<title>1&#45;&#45;6</title>\n",
       "<path fill=\"none\" stroke=\"#66c2a5\" d=\"M85.48,-63.84C88.69,-64.84 92.06,-65.89 95.28,-66.9\"/>\n",
       "</g>\n",
       "<!-- 2&#45;&#45;3 -->\n",
       "<g id=\"edge12\" class=\"edge\">\n",
       "<title>2&#45;&#45;3</title>\n",
       "<path fill=\"none\" stroke=\"#66c2a5\" d=\"M73.16,-33.79C64.1,-48.89 50.51,-71.52 41.52,-86.51\"/>\n",
       "</g>\n",
       "<!-- 2&#45;&#45;4 -->\n",
       "<g id=\"edge13\" class=\"edge\">\n",
       "<title>2&#45;&#45;4</title>\n",
       "<path fill=\"none\" stroke=\"#66c2a5\" d=\"M80.2,-35.95C78.03,-51.88 74.89,-75.03 72.73,-90.94\"/>\n",
       "</g>\n",
       "<!-- 2&#45;&#45;5 -->\n",
       "<g id=\"edge14\" class=\"edge\">\n",
       "<title>2&#45;&#45;5</title>\n",
       "<path fill=\"none\" stroke=\"#66c2a5\" d=\"M67.64,-28.26C57.2,-35.41 43.33,-44.9 32.91,-52.03\"/>\n",
       "</g>\n",
       "<!-- 2&#45;&#45;6 -->\n",
       "<g id=\"edge15\" class=\"edge\">\n",
       "<title>2&#45;&#45;6</title>\n",
       "<path fill=\"none\" stroke=\"#66c2a5\" d=\"M91.47,-34C95.34,-41.01 99.87,-49.22 103.75,-56.23\"/>\n",
       "</g>\n",
       "<!-- 3&#45;&#45;4 -->\n",
       "<g id=\"edge16\" class=\"edge\">\n",
       "<title>3&#45;&#45;4</title>\n",
       "<path fill=\"none\" stroke=\"#66c2a5\" d=\"M50.38,-105.24C51,-105.35 51.61,-105.46 52.22,-105.57\"/>\n",
       "</g>\n",
       "<!-- 3&#45;&#45;5 -->\n",
       "<g id=\"edge17\" class=\"edge\">\n",
       "<title>3&#45;&#45;5</title>\n",
       "<path fill=\"none\" stroke=\"#66c2a5\" d=\"M26.13,-84.87C25.46,-83.02 24.79,-81.14 24.12,-79.29\"/>\n",
       "</g>\n",
       "<!-- 3&#45;&#45;6 -->\n",
       "<g id=\"edge18\" class=\"edge\">\n",
       "<title>3&#45;&#45;6</title>\n",
       "<path fill=\"none\" stroke=\"#66c2a5\" d=\"M49.3,-95.66C62.94,-90.63 81.97,-83.61 95.6,-78.58\"/>\n",
       "</g>\n",
       "<!-- 4&#45;&#45;5 -->\n",
       "<g id=\"edge19\" class=\"edge\">\n",
       "<title>4&#45;&#45;5</title>\n",
       "<path fill=\"none\" stroke=\"#66c2a5\" d=\"M56.83,-96.85C49.08,-89.94 39.37,-81.29 31.6,-74.37\"/>\n",
       "</g>\n",
       "<!-- 4&#45;&#45;6 -->\n",
       "<g id=\"edge20\" class=\"edge\">\n",
       "<title>4&#45;&#45;6</title>\n",
       "<path fill=\"none\" stroke=\"#66c2a5\" d=\"M84.15,-96.89C88.88,-92.81 94.16,-88.25 98.87,-84.18\"/>\n",
       "</g>\n",
       "<!-- 5&#45;&#45;6 -->\n",
       "<g id=\"edge21\" class=\"edge\">\n",
       "<title>5&#45;&#45;6</title>\n",
       "<path fill=\"none\" stroke=\"#66c2a5\" d=\"M36.24,-64.18C53,-65.96 77.7,-68.59 94.43,-70.37\"/>\n",
       "</g>\n",
       "<!-- 7 -->\n",
       "<g id=\"node8\" class=\"node\">\n",
       "<title>7</title>\n",
       "<ellipse fill=\"#fc8d62\" stroke=\"black\" cx=\"188.08\" cy=\"-86.66\" rx=\"18\" ry=\"18\"/>\n",
       "<text text-anchor=\"middle\" x=\"188.08\" y=\"-82.96\" font-family=\"Times,serif\" font-size=\"14.00\">7</text>\n",
       "</g>\n",
       "<!-- 6&#45;&#45;7 -->\n",
       "<g id=\"edge22\" class=\"edge\">\n",
       "<title>6&#45;&#45;7</title>\n",
       "<path fill=\"none\" stroke=\"#fc8d62\" d=\"M130.5,-75.71C142.53,-77.99 158.32,-81 170.33,-83.28\"/>\n",
       "</g>\n",
       "<!-- 8 -->\n",
       "<g id=\"node9\" class=\"node\">\n",
       "<title>8</title>\n",
       "<ellipse fill=\"#fc8d62\" stroke=\"black\" cx=\"259.1\" cy=\"-109.28\" rx=\"18\" ry=\"18\"/>\n",
       "<text text-anchor=\"middle\" x=\"259.1\" y=\"-105.58\" font-family=\"Times,serif\" font-size=\"14.00\">8</text>\n",
       "</g>\n",
       "<!-- 7&#45;&#45;8 -->\n",
       "<g id=\"edge23\" class=\"edge\">\n",
       "<title>7&#45;&#45;8</title>\n",
       "<path fill=\"none\" stroke=\"#fc8d62\" d=\"M205.27,-92.13C216.28,-95.64 230.51,-100.17 241.57,-103.7\"/>\n",
       "</g>\n",
       "<!-- 9 -->\n",
       "<g id=\"node10\" class=\"node\">\n",
       "<title>9</title>\n",
       "<ellipse fill=\"#8da0cb\" stroke=\"black\" cx=\"329.37\" cy=\"-140.3\" rx=\"18\" ry=\"18\"/>\n",
       "<text text-anchor=\"middle\" x=\"329.37\" y=\"-136.6\" font-family=\"Times,serif\" font-size=\"14.00\">9</text>\n",
       "</g>\n",
       "<!-- 8&#45;&#45;9 -->\n",
       "<g id=\"edge24\" class=\"edge\">\n",
       "<title>8&#45;&#45;9</title>\n",
       "<path fill=\"none\" stroke=\"#fc8d62\" d=\"M275.75,-116.63C286.96,-121.58 301.66,-128.07 312.84,-133\"/>\n",
       "</g>\n",
       "<!-- 10 -->\n",
       "<g id=\"node11\" class=\"node\">\n",
       "<title>10</title>\n",
       "<ellipse fill=\"#8da0cb\" stroke=\"black\" cx=\"373.74\" cy=\"-154.89\" rx=\"23\" ry=\"23\"/>\n",
       "<text text-anchor=\"middle\" x=\"373.74\" y=\"-151.19\" font-family=\"Times,serif\" font-size=\"14.00\">10</text>\n",
       "</g>\n",
       "<!-- 9&#45;&#45;10 -->\n",
       "<g id=\"edge25\" class=\"edge\">\n",
       "<title>9&#45;&#45;10</title>\n",
       "<path fill=\"none\" stroke=\"#8da0cb\" d=\"M346.65,-145.98C348.4,-146.56 350.2,-147.15 351.99,-147.74\"/>\n",
       "</g>\n",
       "<!-- 11 -->\n",
       "<g id=\"node12\" class=\"node\">\n",
       "<title>11</title>\n",
       "<ellipse fill=\"#8da0cb\" stroke=\"black\" cx=\"343.94\" cy=\"-194.84\" rx=\"23\" ry=\"23\"/>\n",
       "<text text-anchor=\"middle\" x=\"343.94\" y=\"-191.14\" font-family=\"Times,serif\" font-size=\"14.00\">11</text>\n",
       "</g>\n",
       "<!-- 9&#45;&#45;11 -->\n",
       "<g id=\"edge26\" class=\"edge\">\n",
       "<title>9&#45;&#45;11</title>\n",
       "<path fill=\"none\" stroke=\"#8da0cb\" d=\"M334.06,-157.86C335.32,-162.59 336.71,-167.77 338.03,-172.72\"/>\n",
       "</g>\n",
       "<!-- 12 -->\n",
       "<g id=\"node13\" class=\"node\">\n",
       "<title>12</title>\n",
       "<ellipse fill=\"#8da0cb\" stroke=\"black\" cx=\"418.04\" cy=\"-139.47\" rx=\"23\" ry=\"23\"/>\n",
       "<text text-anchor=\"middle\" x=\"418.04\" y=\"-135.77\" font-family=\"Times,serif\" font-size=\"14.00\">12</text>\n",
       "</g>\n",
       "<!-- 9&#45;&#45;12 -->\n",
       "<g id=\"edge27\" class=\"edge\">\n",
       "<title>9&#45;&#45;12</title>\n",
       "<path fill=\"none\" stroke=\"#8da0cb\" d=\"M347.74,-140.13C361.54,-140 380.52,-139.82 395.28,-139.68\"/>\n",
       "</g>\n",
       "<!-- 13 -->\n",
       "<g id=\"node14\" class=\"node\">\n",
       "<title>13</title>\n",
       "<ellipse fill=\"#8da0cb\" stroke=\"black\" cx=\"414.02\" cy=\"-184.05\" rx=\"23\" ry=\"23\"/>\n",
       "<text text-anchor=\"middle\" x=\"414.02\" y=\"-180.35\" font-family=\"Times,serif\" font-size=\"14.00\">13</text>\n",
       "</g>\n",
       "<!-- 9&#45;&#45;13 -->\n",
       "<g id=\"edge28\" class=\"edge\">\n",
       "<title>9&#45;&#45;13</title>\n",
       "<path fill=\"none\" stroke=\"#8da0cb\" d=\"M345.69,-148.74C359.34,-155.79 378.87,-165.88 393.55,-173.47\"/>\n",
       "</g>\n",
       "<!-- 14 -->\n",
       "<g id=\"node15\" class=\"node\">\n",
       "<title>14</title>\n",
       "<ellipse fill=\"#8da0cb\" stroke=\"black\" cx=\"380.04\" cy=\"-209.71\" rx=\"23\" ry=\"23\"/>\n",
       "<text text-anchor=\"middle\" x=\"380.04\" y=\"-206.01\" font-family=\"Times,serif\" font-size=\"14.00\">14</text>\n",
       "</g>\n",
       "<!-- 9&#45;&#45;14 -->\n",
       "<g id=\"edge29\" class=\"edge\">\n",
       "<title>9&#45;&#45;14</title>\n",
       "<path fill=\"none\" stroke=\"#8da0cb\" d=\"M340.12,-155.02C347.84,-165.61 358.32,-179.96 366.6,-191.3\"/>\n",
       "</g>\n",
       "<!-- 15 -->\n",
       "<g id=\"node16\" class=\"node\">\n",
       "<title>15</title>\n",
       "<ellipse fill=\"#8da0cb\" stroke=\"black\" cx=\"383.92\" cy=\"-112.28\" rx=\"23\" ry=\"23\"/>\n",
       "<text text-anchor=\"middle\" x=\"383.92\" y=\"-108.58\" font-family=\"Times,serif\" font-size=\"14.00\">15</text>\n",
       "</g>\n",
       "<!-- 9&#45;&#45;15 -->\n",
       "<g id=\"edge30\" class=\"edge\">\n",
       "<title>9&#45;&#45;15</title>\n",
       "<path fill=\"none\" stroke=\"#8da0cb\" d=\"M345.44,-132.05C351.1,-129.14 357.54,-125.83 363.5,-122.77\"/>\n",
       "</g>\n",
       "<!-- 10&#45;&#45;11 -->\n",
       "<g id=\"edge31\" class=\"edge\">\n",
       "<title>10&#45;&#45;11</title>\n",
       "<path fill=\"none\" stroke=\"#8da0cb\" d=\"M359.88,-173.46C359.15,-174.44 358.42,-175.42 357.69,-176.4\"/>\n",
       "</g>\n",
       "<!-- 10&#45;&#45;12 -->\n",
       "<g id=\"edge32\" class=\"edge\">\n",
       "<title>10&#45;&#45;12</title>\n",
       "<path fill=\"none\" stroke=\"#8da0cb\" d=\"M395.37,-147.36C395.72,-147.24 396.07,-147.11 396.42,-146.99\"/>\n",
       "</g>\n",
       "<!-- 10&#45;&#45;13 -->\n",
       "<g id=\"edge33\" class=\"edge\">\n",
       "<title>10&#45;&#45;13</title>\n",
       "<path fill=\"none\" stroke=\"#8da0cb\" d=\"M392.46,-168.44C393.45,-169.16 394.44,-169.87 395.43,-170.59\"/>\n",
       "</g>\n",
       "<!-- 10&#45;&#45;14 -->\n",
       "<g id=\"edge34\" class=\"edge\">\n",
       "<title>10&#45;&#45;14</title>\n",
       "<path fill=\"none\" stroke=\"#8da0cb\" d=\"M376.34,-177.5C376.69,-180.57 377.05,-183.72 377.4,-186.8\"/>\n",
       "</g>\n",
       "<!-- 10&#45;&#45;15 -->\n",
       "<g id=\"edge35\" class=\"edge\">\n",
       "<title>10&#45;&#45;15</title>\n",
       "<path fill=\"none\" stroke=\"#8da0cb\" d=\"M379.07,-132.59C379.11,-132.42 379.15,-132.26 379.19,-132.1\"/>\n",
       "</g>\n",
       "<!-- 11&#45;&#45;12 -->\n",
       "<g id=\"edge36\" class=\"edge\">\n",
       "<title>11&#45;&#45;12</title>\n",
       "<path fill=\"none\" stroke=\"#8da0cb\" d=\"M362.25,-181.15C373.65,-172.63 388.26,-161.72 399.67,-153.19\"/>\n",
       "</g>\n",
       "<!-- 11&#45;&#45;13 -->\n",
       "<g id=\"edge37\" class=\"edge\">\n",
       "<title>11&#45;&#45;13</title>\n",
       "<path fill=\"none\" stroke=\"#8da0cb\" d=\"M366.5,-191.36C374.5,-190.13 383.5,-188.75 391.5,-187.51\"/>\n",
       "</g>\n",
       "<!-- 11&#45;&#45;14 -->\n",
       "<g id=\"edge38\" class=\"edge\">\n",
       "<title>11&#45;&#45;14</title>\n",
       "<path fill=\"none\" stroke=\"#8da0cb\" d=\"M365.35,-203.66C365.48,-203.71 365.6,-203.76 365.72,-203.81\"/>\n",
       "</g>\n",
       "<!-- 11&#45;&#45;15 -->\n",
       "<g id=\"edge39\" class=\"edge\">\n",
       "<title>11&#45;&#45;15</title>\n",
       "<path fill=\"none\" stroke=\"#8da0cb\" d=\"M354.03,-174.01C360.13,-161.39 367.89,-145.38 373.97,-132.82\"/>\n",
       "</g>\n",
       "<!-- 12&#45;&#45;13 -->\n",
       "<g id=\"edge40\" class=\"edge\">\n",
       "<title>12&#45;&#45;13</title>\n",
       "<path fill=\"none\" stroke=\"#8da0cb\" d=\"M415.98,-162.28C415.97,-162.37 415.97,-162.45 415.96,-162.54\"/>\n",
       "</g>\n",
       "<!-- 12&#45;&#45;14 -->\n",
       "<g id=\"edge41\" class=\"edge\">\n",
       "<title>12&#45;&#45;14</title>\n",
       "<path fill=\"none\" stroke=\"#8da0cb\" d=\"M407.05,-159.79C401.96,-169.19 395.94,-180.32 390.87,-189.68\"/>\n",
       "</g>\n",
       "<!-- 12&#45;&#45;15 -->\n",
       "<g id=\"edge42\" class=\"edge\">\n",
       "<title>12&#45;&#45;15</title>\n",
       "<path fill=\"none\" stroke=\"#8da0cb\" d=\"M400.18,-125.24C400.05,-125.13 399.92,-125.03 399.79,-124.93\"/>\n",
       "</g>\n",
       "<!-- 13&#45;&#45;14 -->\n",
       "<g id=\"edge43\" class=\"edge\">\n",
       "<title>13&#45;&#45;14</title>\n",
       "<path fill=\"none\" stroke=\"#8da0cb\" d=\"M395.83,-197.78C395.71,-197.88 395.58,-197.97 395.46,-198.07\"/>\n",
       "</g>\n",
       "<!-- 13&#45;&#45;15 -->\n",
       "<g id=\"edge44\" class=\"edge\">\n",
       "<title>13&#45;&#45;15</title>\n",
       "<path fill=\"none\" stroke=\"#8da0cb\" d=\"M405.15,-162.9C401.27,-153.64 396.72,-142.79 392.83,-133.52\"/>\n",
       "</g>\n",
       "<!-- 14&#45;&#45;15 -->\n",
       "<g id=\"edge45\" class=\"edge\">\n",
       "<title>14&#45;&#45;15</title>\n",
       "<path fill=\"none\" stroke=\"#8da0cb\" d=\"M380.96,-186.62C381.58,-171.09 382.39,-150.7 383.01,-135.2\"/>\n",
       "</g>\n",
       "</g>\n",
       "</svg>\n"
      ],
      "text/plain": [
       "<graphviz.sources.Source at 0x7f3cc7c41310>"
      ]
     },
     "execution_count": 5,
     "metadata": {},
     "output_type": "execute_result"
    }
   ],
   "source": [
    "GraphVisualizer(barbell).plot_dot()"
   ]
  },
  {
   "cell_type": "markdown",
   "metadata": {
    "id": "M991dugl9IWn"
   },
   "source": [
    "## Chain graph\n",
    "A chain graph is a sequence of (double) linked nodes."
   ]
  },
  {
   "cell_type": "code",
   "execution_count": 6,
   "metadata": {
    "id": "lBjws_3D8Now"
   },
   "outputs": [],
   "source": [
    "chain = Graph.generate_chain_graph()"
   ]
  },
  {
   "cell_type": "markdown",
   "metadata": {
    "id": "m0Q1nXHi_cvv"
   },
   "source": [
    "Let's compute the graph report:"
   ]
  },
  {
   "cell_type": "code",
   "execution_count": 7,
   "metadata": {
    "colab": {
     "base_uri": "https://localhost:8080/",
     "height": 467
    },
    "id": "H2L-YEDf_bWF",
    "outputId": "58c3d91a-880f-4439-d26c-c71ea55906ce"
   },
   "outputs": [
    {
     "data": {
      "text/html": [
       "<div class=\"graph-report\"><style>.graph-report li {margin: 0.5em 0 0.5em 0;}.graph-report .paragraph {text-align: justify;word-break: break-all;}.graph-report .small-columns {column-count: 4;column-gap: 2em;}.graph-report .medium-columns {column-count: 3;column-gap: 2em;}.graph-report .large-columns {column-count: 2;column-gap: 2em;}.graph-report .single-column {}@media only screen and (max-width: 600px) {.graph-report .small-columns {column-count: 1;}.graph-report .medium-columns {column-count: 1;}.graph-report .large-columns {column-count: 1;}}@media only screen and (min-width: 600px) and (max-width: 800px) {.graph-report .small-columns {column-count: 2;}.graph-report .medium-columns {column-count: 1;}.graph-report .large-columns {column-count: 1;}}@media only screen and (min-width: 800px) and (max-width: 1024px) {.graph-report .small-columns {column-count: 3;}.graph-report .medium-columns {column-count: 2;}.graph-report .large-columns {column-count: 1;}}</style><h2>Chain</h2><p class=\"paragraph\">The undirected graph Chain has 10 homogeneous nodes and 9 homogeneous edges. The graph is connected, that is, it is composed of a single connected component that includes all nodes and edges. The RAM requirements for the nodes and edges data structures are 80B and 280B respectively.</p><h3 style=\"margin: 1em 0 0 0;\">Degree centrality</h3><p class=\"paragraph\">The minimum node degree is 1, the maximum node degree is 2, the mode degree is 2, the mean degree is 1.80 and the node degree median is 2.</p><p class=\"paragraph\">The nodes with the highest degree centrality are 1 (degree 2 and node type chain), 2 (degree 2 and node type chain), 3 (degree 2 and node type chain), 4 (degree 2 and node type chain) and 5 (degree 2 and node type chain).</p><h3 style=\"margin: 1em 0 0 0;\">Node types</h3><p class=\"paragraph\">The graph has a single node type, which is chain. The RAM requirement for the node types data structure is 773B.</p><h4 style=\"margin: 1em 0 0 0;\">Homogeneous node types</h4><p class=\"paragraph\">Homogeneous node types are node types that are assigned to all the nodes in the graph, making the node type relatively meaningless, as it adds no more information than the fact that the node is in the graph. The graph contains a homogeneous node type, which is chain.</p><h3 style=\"margin: 1em 0 0 0;\">Edge types</h3><p class=\"paragraph\">The graph has a single edge type, which is chain. The RAM requirement for the edge types data structure is 314B.</p><h3 style=\"margin: 1em 0 0 0;\">Topological Oddities</h3><p class=\"paragraph\">A topological oddity is a set of nodes in the graph that <i>may be derived</i> by an error during the generation of the edge list of the graph and, depending on the task, could bias the results of topology-based models. In the following paragraph, we will describe the detected topological oddities.</p><h4 style=\"margin: 1em 0 0 0;\">Trees</h4><p class=\"paragraph\">A tree is a connected component with <code>n</code> nodes and <code>n-1</code> edges. We have detected  a single tree in the graph, involving a total of 10 nodes (100.00%) and 9 edges (50.00%).</p><ul class=\"large-columns\"><li><p class=\"paragraph\">Tree starting from the root node 5 (degree 2), and containing 10 nodes, with a maximal depth of 5, which are 4, 6, 3, 7 and 2. Its nodes have a single node type, which is chain. Its edges have a single edge type, which is chain.</p></li></ul></div>"
      ],
      "text/plain": [
       "<div class=\"graph-report\"><style>.graph-report li {margin: 0.5em 0 0.5em 0;}.graph-report .paragraph {text-align: justify;word-break: break-all;}.graph-report .small-columns {column-count: 4;column-gap: 2em;}.graph-report .medium-columns {column-count: 3;column-gap: 2em;}.graph-report .large-columns {column-count: 2;column-gap: 2em;}.graph-report .single-column {}@media only screen and (max-width: 600px) {.graph-report .small-columns {column-count: 1;}.graph-report .medium-columns {column-count: 1;}.graph-report .large-columns {column-count: 1;}}@media only screen and (min-width: 600px) and (max-width: 800px) {.graph-report .small-columns {column-count: 2;}.graph-report .medium-columns {column-count: 1;}.graph-report .large-columns {column-count: 1;}}@media only screen and (min-width: 800px) and (max-width: 1024px) {.graph-report .small-columns {column-count: 3;}.graph-report .medium-columns {column-count: 2;}.graph-report .large-columns {column-count: 1;}}</style><h2>Chain</h2><p class=\"paragraph\">The undirected graph Chain has 10 homogeneous nodes and 9 homogeneous edges. The graph is connected, that is, it is composed of a single connected component that includes all nodes and edges. The RAM requirements for the nodes and edges data structures are 80B and 280B respectively.</p><h3 style=\"margin: 1em 0 0 0;\">Degree centrality</h3><p class=\"paragraph\">The minimum node degree is 1, the maximum node degree is 2, the mode degree is 2, the mean degree is 1.80 and the node degree median is 2.</p><p class=\"paragraph\">The nodes with the highest degree centrality are 1 (degree 2 and node type chain), 2 (degree 2 and node type chain), 3 (degree 2 and node type chain), 4 (degree 2 and node type chain) and 5 (degree 2 and node type chain).</p><h3 style=\"margin: 1em 0 0 0;\">Node types</h3><p class=\"paragraph\">The graph has a single node type, which is chain. The RAM requirement for the node types data structure is 773B.</p><h4 style=\"margin: 1em 0 0 0;\">Homogeneous node types</h4><p class=\"paragraph\">Homogeneous node types are node types that are assigned to all the nodes in the graph, making the node type relatively meaningless, as it adds no more information than the fact that the node is in the graph. The graph contains a homogeneous node type, which is chain.</p><h3 style=\"margin: 1em 0 0 0;\">Edge types</h3><p class=\"paragraph\">The graph has a single edge type, which is chain. The RAM requirement for the edge types data structure is 314B.</p><h3 style=\"margin: 1em 0 0 0;\">Topological Oddities</h3><p class=\"paragraph\">A topological oddity is a set of nodes in the graph that <i>may be derived</i> by an error during the generation of the edge list of the graph and, depending on the task, could bias the results of topology-based models. In the following paragraph, we will describe the detected topological oddities.</p><h4 style=\"margin: 1em 0 0 0;\">Trees</h4><p class=\"paragraph\">A tree is a connected component with <code>n</code> nodes and <code>n-1</code> edges. We have detected  a single tree in the graph, involving a total of 10 nodes (100.00%) and 9 edges (50.00%).</p><ul class=\"large-columns\"><li><p class=\"paragraph\">Tree starting from the root node 5 (degree 2), and containing 10 nodes, with a maximal depth of 5, which are 4, 6, 3, 7 and 2. Its nodes have a single node type, which is chain. Its edges have a single edge type, which is chain.</p></li></ul></div>"
      ]
     },
     "execution_count": 7,
     "metadata": {},
     "output_type": "execute_result"
    }
   ],
   "source": [
    "chain"
   ]
  },
  {
   "cell_type": "markdown",
   "metadata": {
    "id": "JUHXtlKc_kvQ"
   },
   "source": [
    "And visualize it:"
   ]
  },
  {
   "cell_type": "code",
   "execution_count": 8,
   "metadata": {
    "colab": {
     "base_uri": "https://localhost:8080/",
     "height": 80
    },
    "id": "Ma_duEjm_f1T",
    "outputId": "e101ce04-1b73-4132-ae42-664087874377"
   },
   "outputs": [
    {
     "data": {
      "image/svg+xml": [
       "<?xml version=\"1.0\" encoding=\"UTF-8\" standalone=\"no\"?>\n",
       "<!DOCTYPE svg PUBLIC \"-//W3C//DTD SVG 1.1//EN\"\n",
       " \"http://www.w3.org/Graphics/SVG/1.1/DTD/svg11.dtd\">\n",
       "<!-- Generated by graphviz version 2.50.0 (0)\n",
       " -->\n",
       "<!-- Title: G Pages: 1 -->\n",
       "<svg width=\"446pt\" height=\"545pt\"\n",
       " viewBox=\"0.00 0.00 445.51 545.06\" xmlns=\"http://www.w3.org/2000/svg\" xmlns:xlink=\"http://www.w3.org/1999/xlink\">\n",
       "<g id=\"graph0\" class=\"graph\" transform=\"scale(1 1) rotate(0) translate(4 541.06)\">\n",
       "<title>G</title>\n",
       "<polygon fill=\"white\" stroke=\"transparent\" points=\"-4,4 -4,-541.06 441.51,-541.06 441.51,4 -4,4\"/>\n",
       "<!-- 0 -->\n",
       "<g id=\"node1\" class=\"node\">\n",
       "<title>0</title>\n",
       "<ellipse fill=\"#66c2a5\" stroke=\"black\" cx=\"18\" cy=\"-519.06\" rx=\"18\" ry=\"18\"/>\n",
       "<text text-anchor=\"middle\" x=\"18\" y=\"-515.36\" font-family=\"Times,serif\" font-size=\"14.00\">0</text>\n",
       "</g>\n",
       "<!-- 1 -->\n",
       "<g id=\"node2\" class=\"node\">\n",
       "<title>1</title>\n",
       "<ellipse fill=\"#66c2a5\" stroke=\"black\" cx=\"77.19\" cy=\"-477.6\" rx=\"18\" ry=\"18\"/>\n",
       "<text text-anchor=\"middle\" x=\"77.19\" y=\"-473.9\" font-family=\"Times,serif\" font-size=\"14.00\">1</text>\n",
       "</g>\n",
       "<!-- 0&#45;&#45;1 -->\n",
       "<g id=\"edge1\" class=\"edge\">\n",
       "<title>0&#45;&#45;1</title>\n",
       "<path fill=\"none\" stroke=\"#66c2a5\" d=\"M32.94,-508.6C41.84,-502.36 53.11,-494.46 62.05,-488.2\"/>\n",
       "</g>\n",
       "<!-- 2 -->\n",
       "<g id=\"node3\" class=\"node\">\n",
       "<title>2</title>\n",
       "<ellipse fill=\"#66c2a5\" stroke=\"black\" cx=\"130.81\" cy=\"-429.2\" rx=\"18\" ry=\"18\"/>\n",
       "<text text-anchor=\"middle\" x=\"130.81\" y=\"-425.5\" font-family=\"Times,serif\" font-size=\"14.00\">2</text>\n",
       "</g>\n",
       "<!-- 1&#45;&#45;2 -->\n",
       "<g id=\"edge2\" class=\"edge\">\n",
       "<title>1&#45;&#45;2</title>\n",
       "<path fill=\"none\" stroke=\"#66c2a5\" d=\"M90.72,-465.38C98.79,-458.1 109,-448.88 117.1,-441.57\"/>\n",
       "</g>\n",
       "<!-- 3 -->\n",
       "<g id=\"node4\" class=\"node\">\n",
       "<title>3</title>\n",
       "<ellipse fill=\"#66c2a5\" stroke=\"black\" cx=\"183.87\" cy=\"-380.04\" rx=\"18\" ry=\"18\"/>\n",
       "<text text-anchor=\"middle\" x=\"183.87\" y=\"-376.34\" font-family=\"Times,serif\" font-size=\"14.00\">3</text>\n",
       "</g>\n",
       "<!-- 2&#45;&#45;3 -->\n",
       "<g id=\"edge3\" class=\"edge\">\n",
       "<title>2&#45;&#45;3</title>\n",
       "<path fill=\"none\" stroke=\"#66c2a5\" d=\"M144.2,-416.79C152.18,-409.39 162.29,-400.03 170.3,-392.61\"/>\n",
       "</g>\n",
       "<!-- 4 -->\n",
       "<g id=\"node5\" class=\"node\">\n",
       "<title>4</title>\n",
       "<ellipse fill=\"#66c2a5\" stroke=\"black\" cx=\"231.33\" cy=\"-325.42\" rx=\"18\" ry=\"18\"/>\n",
       "<text text-anchor=\"middle\" x=\"231.33\" y=\"-321.72\" font-family=\"Times,serif\" font-size=\"14.00\">4</text>\n",
       "</g>\n",
       "<!-- 3&#45;&#45;4 -->\n",
       "<g id=\"edge4\" class=\"edge\">\n",
       "<title>3&#45;&#45;4</title>\n",
       "<path fill=\"none\" stroke=\"#66c2a5\" d=\"M195.85,-366.25C203.1,-357.91 212.3,-347.32 219.52,-339.01\"/>\n",
       "</g>\n",
       "<!-- 5 -->\n",
       "<g id=\"node6\" class=\"node\">\n",
       "<title>5</title>\n",
       "<ellipse fill=\"#66c2a5\" stroke=\"black\" cx=\"272.24\" cy=\"-265.81\" rx=\"18\" ry=\"18\"/>\n",
       "<text text-anchor=\"middle\" x=\"272.24\" y=\"-262.11\" font-family=\"Times,serif\" font-size=\"14.00\">5</text>\n",
       "</g>\n",
       "<!-- 4&#45;&#45;5 -->\n",
       "<g id=\"edge5\" class=\"edge\">\n",
       "<title>4&#45;&#45;5</title>\n",
       "<path fill=\"none\" stroke=\"#66c2a5\" d=\"M241.65,-310.38C247.81,-301.41 255.6,-290.06 261.78,-281.05\"/>\n",
       "</g>\n",
       "<!-- 6 -->\n",
       "<g id=\"node7\" class=\"node\">\n",
       "<title>6</title>\n",
       "<ellipse fill=\"#66c2a5\" stroke=\"black\" cx=\"307.94\" cy=\"-203.01\" rx=\"18\" ry=\"18\"/>\n",
       "<text text-anchor=\"middle\" x=\"307.94\" y=\"-199.31\" font-family=\"Times,serif\" font-size=\"14.00\">6</text>\n",
       "</g>\n",
       "<!-- 5&#45;&#45;6 -->\n",
       "<g id=\"edge6\" class=\"edge\">\n",
       "<title>5&#45;&#45;6</title>\n",
       "<path fill=\"none\" stroke=\"#66c2a5\" d=\"M281.25,-249.96C286.62,-240.51 293.42,-228.55 298.81,-219.07\"/>\n",
       "</g>\n",
       "<!-- 7 -->\n",
       "<g id=\"node8\" class=\"node\">\n",
       "<title>7</title>\n",
       "<ellipse fill=\"#66c2a5\" stroke=\"black\" cx=\"347.68\" cy=\"-142.74\" rx=\"18\" ry=\"18\"/>\n",
       "<text text-anchor=\"middle\" x=\"347.68\" y=\"-139.04\" font-family=\"Times,serif\" font-size=\"14.00\">7</text>\n",
       "</g>\n",
       "<!-- 6&#45;&#45;7 -->\n",
       "<g id=\"edge7\" class=\"edge\">\n",
       "<title>6&#45;&#45;7</title>\n",
       "<path fill=\"none\" stroke=\"#66c2a5\" d=\"M317.97,-187.8C323.95,-178.73 331.52,-167.26 337.52,-158.15\"/>\n",
       "</g>\n",
       "<!-- 8 -->\n",
       "<g id=\"node9\" class=\"node\">\n",
       "<title>8</title>\n",
       "<ellipse fill=\"#66c2a5\" stroke=\"black\" cx=\"378.94\" cy=\"-77.64\" rx=\"18\" ry=\"18\"/>\n",
       "<text text-anchor=\"middle\" x=\"378.94\" y=\"-73.94\" font-family=\"Times,serif\" font-size=\"14.00\">8</text>\n",
       "</g>\n",
       "<!-- 7&#45;&#45;8 -->\n",
       "<g id=\"edge8\" class=\"edge\">\n",
       "<title>7&#45;&#45;8</title>\n",
       "<path fill=\"none\" stroke=\"#66c2a5\" d=\"M355.57,-126.31C360.27,-116.52 366.23,-104.12 370.95,-94.29\"/>\n",
       "</g>\n",
       "<!-- 9 -->\n",
       "<g id=\"node10\" class=\"node\">\n",
       "<title>9</title>\n",
       "<ellipse fill=\"#66c2a5\" stroke=\"black\" cx=\"419.51\" cy=\"-18\" rx=\"18\" ry=\"18\"/>\n",
       "<text text-anchor=\"middle\" x=\"419.51\" y=\"-14.3\" font-family=\"Times,serif\" font-size=\"14.00\">9</text>\n",
       "</g>\n",
       "<!-- 8&#45;&#45;9 -->\n",
       "<g id=\"edge9\" class=\"edge\">\n",
       "<title>8&#45;&#45;9</title>\n",
       "<path fill=\"none\" stroke=\"#66c2a5\" d=\"M389.18,-62.59C395.28,-53.62 403.01,-42.26 409.13,-33.25\"/>\n",
       "</g>\n",
       "</g>\n",
       "</svg>\n"
      ],
      "text/plain": [
       "<graphviz.sources.Source at 0x7f3cc4392520>"
      ]
     },
     "execution_count": 8,
     "metadata": {},
     "output_type": "execute_result"
    }
   ],
   "source": [
    "GraphVisualizer(chain).plot_dot()"
   ]
  },
  {
   "cell_type": "markdown",
   "metadata": {
    "id": "Yd_onudN_p3D"
   },
   "source": [
    "## Circle graph\n",
    "A circle graph is a sequence of (double) linked nodes, with the last node linked back to the first one."
   ]
  },
  {
   "cell_type": "code",
   "execution_count": 9,
   "metadata": {
    "id": "uv9XzBVe_nui"
   },
   "outputs": [],
   "source": [
    "circle = Graph.generate_circle_graph()"
   ]
  },
  {
   "cell_type": "markdown",
   "metadata": {
    "id": "yy22trJ0AIl7"
   },
   "source": [
    "Let's compute the graph report:"
   ]
  },
  {
   "cell_type": "code",
   "execution_count": 10,
   "metadata": {
    "colab": {
     "base_uri": "https://localhost:8080/",
     "height": 467
    },
    "id": "cmKmszYkAHB4",
    "outputId": "433d0b87-8b48-4135-c00b-0f47b9079a7b"
   },
   "outputs": [
    {
     "data": {
      "text/html": [
       "<div class=\"graph-report\"><style>.graph-report li {margin: 0.5em 0 0.5em 0;}.graph-report .paragraph {text-align: justify;word-break: break-all;}.graph-report .small-columns {column-count: 4;column-gap: 2em;}.graph-report .medium-columns {column-count: 3;column-gap: 2em;}.graph-report .large-columns {column-count: 2;column-gap: 2em;}.graph-report .single-column {}@media only screen and (max-width: 600px) {.graph-report .small-columns {column-count: 1;}.graph-report .medium-columns {column-count: 1;}.graph-report .large-columns {column-count: 1;}}@media only screen and (min-width: 600px) and (max-width: 800px) {.graph-report .small-columns {column-count: 2;}.graph-report .medium-columns {column-count: 1;}.graph-report .large-columns {column-count: 1;}}@media only screen and (min-width: 800px) and (max-width: 1024px) {.graph-report .small-columns {column-count: 3;}.graph-report .medium-columns {column-count: 2;}.graph-report .large-columns {column-count: 1;}}</style><h2>Circle</h2><p class=\"paragraph\">The undirected graph Circle has 10 homogeneous nodes and 10 homogeneous edges. The graph is connected, that is, it is composed of a single connected component that includes all nodes and edges. The RAM requirements for the nodes and edges data structures are 80B and 280B respectively.</p><h3 style=\"margin: 1em 0 0 0;\">Degree centrality</h3><p class=\"paragraph\">The minimum node degree is 2, the maximum node degree is 2, the mode degree is 2, the mean degree is 2.00 and the node degree median is 2.</p><p class=\"paragraph\">The nodes with the highest degree centrality are 0 (degree 2 and node type circle), 1 (degree 2 and node type circle), 2 (degree 2 and node type circle), 3 (degree 2 and node type circle) and 4 (degree 2 and node type circle).</p><h3 style=\"margin: 1em 0 0 0;\">Node types</h3><p class=\"paragraph\">The graph has a single node type, which is circle. The RAM requirement for the node types data structure is 777B.</p><h4 style=\"margin: 1em 0 0 0;\">Homogeneous node types</h4><p class=\"paragraph\">Homogeneous node types are node types that are assigned to all the nodes in the graph, making the node type relatively meaningless, as it adds no more information than the fact that the node is in the graph. The graph contains a homogeneous node type, which is circle.</p><h3 style=\"margin: 1em 0 0 0;\">Edge types</h3><p class=\"paragraph\">The graph has a single edge type, which is circle. The RAM requirement for the edge types data structure is 326B.</p><h3 style=\"margin: 1em 0 0 0;\">Topological Oddities</h3><p class=\"paragraph\">A topological oddity is a set of nodes in the graph that <i>may be derived</i> by an error during the generation of the edge list of the graph and, depending on the task, could bias the results of topology-based models. In the following paragraph, we will describe the detected topological oddities.</p><h4 style=\"margin: 1em 0 0 0;\">Circles</h4><p class=\"paragraph\">A circle is a connected component composed exclusively of nodes with unique degree 2, that is ignoring self-loop and multi-edges. We have detected  a single circle in the graph, involving a total of 10 nodes (100.00%) and 11 edges (55.00%), with the largest one involving 10 nodes and 11 edges.</p><ul class=\"medium-columns\"><li><p class=\"paragraph\">Circle containing 10 nodes. Specifically, the nodes involved in the circle are: 1, 2, 3, 4, 5 and other 4. Its nodes have a single node type, which is circle. Its edges have a single edge type, which is circle.</p></li></ul></div>"
      ],
      "text/plain": [
       "<div class=\"graph-report\"><style>.graph-report li {margin: 0.5em 0 0.5em 0;}.graph-report .paragraph {text-align: justify;word-break: break-all;}.graph-report .small-columns {column-count: 4;column-gap: 2em;}.graph-report .medium-columns {column-count: 3;column-gap: 2em;}.graph-report .large-columns {column-count: 2;column-gap: 2em;}.graph-report .single-column {}@media only screen and (max-width: 600px) {.graph-report .small-columns {column-count: 1;}.graph-report .medium-columns {column-count: 1;}.graph-report .large-columns {column-count: 1;}}@media only screen and (min-width: 600px) and (max-width: 800px) {.graph-report .small-columns {column-count: 2;}.graph-report .medium-columns {column-count: 1;}.graph-report .large-columns {column-count: 1;}}@media only screen and (min-width: 800px) and (max-width: 1024px) {.graph-report .small-columns {column-count: 3;}.graph-report .medium-columns {column-count: 2;}.graph-report .large-columns {column-count: 1;}}</style><h2>Circle</h2><p class=\"paragraph\">The undirected graph Circle has 10 homogeneous nodes and 10 homogeneous edges. The graph is connected, that is, it is composed of a single connected component that includes all nodes and edges. The RAM requirements for the nodes and edges data structures are 80B and 280B respectively.</p><h3 style=\"margin: 1em 0 0 0;\">Degree centrality</h3><p class=\"paragraph\">The minimum node degree is 2, the maximum node degree is 2, the mode degree is 2, the mean degree is 2.00 and the node degree median is 2.</p><p class=\"paragraph\">The nodes with the highest degree centrality are 0 (degree 2 and node type circle), 1 (degree 2 and node type circle), 2 (degree 2 and node type circle), 3 (degree 2 and node type circle) and 4 (degree 2 and node type circle).</p><h3 style=\"margin: 1em 0 0 0;\">Node types</h3><p class=\"paragraph\">The graph has a single node type, which is circle. The RAM requirement for the node types data structure is 777B.</p><h4 style=\"margin: 1em 0 0 0;\">Homogeneous node types</h4><p class=\"paragraph\">Homogeneous node types are node types that are assigned to all the nodes in the graph, making the node type relatively meaningless, as it adds no more information than the fact that the node is in the graph. The graph contains a homogeneous node type, which is circle.</p><h3 style=\"margin: 1em 0 0 0;\">Edge types</h3><p class=\"paragraph\">The graph has a single edge type, which is circle. The RAM requirement for the edge types data structure is 326B.</p><h3 style=\"margin: 1em 0 0 0;\">Topological Oddities</h3><p class=\"paragraph\">A topological oddity is a set of nodes in the graph that <i>may be derived</i> by an error during the generation of the edge list of the graph and, depending on the task, could bias the results of topology-based models. In the following paragraph, we will describe the detected topological oddities.</p><h4 style=\"margin: 1em 0 0 0;\">Circles</h4><p class=\"paragraph\">A circle is a connected component composed exclusively of nodes with unique degree 2, that is ignoring self-loop and multi-edges. We have detected  a single circle in the graph, involving a total of 10 nodes (100.00%) and 11 edges (55.00%), with the largest one involving 10 nodes and 11 edges.</p><ul class=\"medium-columns\"><li><p class=\"paragraph\">Circle containing 10 nodes. Specifically, the nodes involved in the circle are: 1, 2, 3, 4, 5 and other 4. Its nodes have a single node type, which is circle. Its edges have a single edge type, which is circle.</p></li></ul></div>"
      ]
     },
     "execution_count": 10,
     "metadata": {},
     "output_type": "execute_result"
    }
   ],
   "source": [
    "circle"
   ]
  },
  {
   "cell_type": "markdown",
   "metadata": {
    "id": "jdbatgDJALg1"
   },
   "source": [
    "And visualize it:"
   ]
  },
  {
   "cell_type": "code",
   "execution_count": 11,
   "metadata": {
    "colab": {
     "base_uri": "https://localhost:8080/",
     "height": 588
    },
    "id": "apQ0SCcNAGPE",
    "outputId": "4e8731d4-fb46-4e16-81a8-135150f05b59"
   },
   "outputs": [
    {
     "data": {
      "image/svg+xml": [
       "<?xml version=\"1.0\" encoding=\"UTF-8\" standalone=\"no\"?>\n",
       "<!DOCTYPE svg PUBLIC \"-//W3C//DTD SVG 1.1//EN\"\n",
       " \"http://www.w3.org/Graphics/SVG/1.1/DTD/svg11.dtd\">\n",
       "<!-- Generated by graphviz version 2.50.0 (0)\n",
       " -->\n",
       "<!-- Title: G Pages: 1 -->\n",
       "<svg width=\"295pt\" height=\"308pt\"\n",
       " viewBox=\"0.00 0.00 295.27 307.70\" xmlns=\"http://www.w3.org/2000/svg\" xmlns:xlink=\"http://www.w3.org/1999/xlink\">\n",
       "<g id=\"graph0\" class=\"graph\" transform=\"scale(1 1) rotate(0) translate(4 303.7)\">\n",
       "<title>G</title>\n",
       "<polygon fill=\"white\" stroke=\"transparent\" points=\"-4,4 -4,-303.7 291.27,-303.7 291.27,4 -4,4\"/>\n",
       "<!-- 0 -->\n",
       "<g id=\"node1\" class=\"node\">\n",
       "<title>0</title>\n",
       "<ellipse fill=\"#66c2a5\" stroke=\"black\" cx=\"269.27\" cy=\"-111.12\" rx=\"18\" ry=\"18\"/>\n",
       "<text text-anchor=\"middle\" x=\"269.27\" y=\"-107.42\" font-family=\"Times,serif\" font-size=\"14.00\">0</text>\n",
       "</g>\n",
       "<!-- 1 -->\n",
       "<g id=\"node2\" class=\"node\">\n",
       "<title>1</title>\n",
       "<ellipse fill=\"#66c2a5\" stroke=\"black\" cx=\"268.21\" cy=\"-192.43\" rx=\"18\" ry=\"18\"/>\n",
       "<text text-anchor=\"middle\" x=\"268.21\" y=\"-188.73\" font-family=\"Times,serif\" font-size=\"14.00\">1</text>\n",
       "</g>\n",
       "<!-- 0&#45;&#45;1 -->\n",
       "<g id=\"edge1\" class=\"edge\">\n",
       "<title>0&#45;&#45;1</title>\n",
       "<path fill=\"none\" stroke=\"#66c2a5\" d=\"M269.03,-129.16C268.86,-142.55 268.62,-160.72 268.45,-174.16\"/>\n",
       "</g>\n",
       "<!-- 9 -->\n",
       "<g id=\"node10\" class=\"node\">\n",
       "<title>9</title>\n",
       "<ellipse fill=\"#66c2a5\" stroke=\"black\" cx=\"222.78\" cy=\"-44.39\" rx=\"18\" ry=\"18\"/>\n",
       "<text text-anchor=\"middle\" x=\"222.78\" y=\"-40.69\" font-family=\"Times,serif\" font-size=\"14.00\">9</text>\n",
       "</g>\n",
       "<!-- 0&#45;&#45;9 -->\n",
       "<g id=\"edge2\" class=\"edge\">\n",
       "<title>0&#45;&#45;9</title>\n",
       "<path fill=\"none\" stroke=\"#66c2a5\" d=\"M258.95,-96.31C251.35,-85.4 241.05,-70.62 233.39,-59.62\"/>\n",
       "</g>\n",
       "<!-- 2 -->\n",
       "<g id=\"node3\" class=\"node\">\n",
       "<title>2</title>\n",
       "<ellipse fill=\"#66c2a5\" stroke=\"black\" cx=\"219.35\" cy=\"-257.45\" rx=\"18\" ry=\"18\"/>\n",
       "<text text-anchor=\"middle\" x=\"219.35\" y=\"-253.75\" font-family=\"Times,serif\" font-size=\"14.00\">2</text>\n",
       "</g>\n",
       "<!-- 1&#45;&#45;2 -->\n",
       "<g id=\"edge3\" class=\"edge\">\n",
       "<title>1&#45;&#45;2</title>\n",
       "<path fill=\"none\" stroke=\"#66c2a5\" d=\"M257.36,-206.86C249.38,-217.49 238.56,-231.89 230.5,-242.61\"/>\n",
       "</g>\n",
       "<!-- 3 -->\n",
       "<g id=\"node4\" class=\"node\">\n",
       "<title>3</title>\n",
       "<ellipse fill=\"#66c2a5\" stroke=\"black\" cx=\"141.71\" cy=\"-281.7\" rx=\"18\" ry=\"18\"/>\n",
       "<text text-anchor=\"middle\" x=\"141.71\" y=\"-278\" font-family=\"Times,serif\" font-size=\"14.00\">3</text>\n",
       "</g>\n",
       "<!-- 2&#45;&#45;3 -->\n",
       "<g id=\"edge4\" class=\"edge\">\n",
       "<title>2&#45;&#45;3</title>\n",
       "<path fill=\"none\" stroke=\"#66c2a5\" d=\"M202.12,-262.83C189.25,-266.85 171.75,-272.32 158.9,-276.34\"/>\n",
       "</g>\n",
       "<!-- 4 -->\n",
       "<g id=\"node5\" class=\"node\">\n",
       "<title>4</title>\n",
       "<ellipse fill=\"#66c2a5\" stroke=\"black\" cx=\"64.85\" cy=\"-255.12\" rx=\"18\" ry=\"18\"/>\n",
       "<text text-anchor=\"middle\" x=\"64.85\" y=\"-251.42\" font-family=\"Times,serif\" font-size=\"14.00\">4</text>\n",
       "</g>\n",
       "<!-- 3&#45;&#45;4 -->\n",
       "<g id=\"edge5\" class=\"edge\">\n",
       "<title>3&#45;&#45;4</title>\n",
       "<path fill=\"none\" stroke=\"#66c2a5\" d=\"M124.66,-275.8C112.01,-271.43 94.83,-265.49 82.13,-261.09\"/>\n",
       "</g>\n",
       "<!-- 5 -->\n",
       "<g id=\"node6\" class=\"node\">\n",
       "<title>5</title>\n",
       "<ellipse fill=\"#66c2a5\" stroke=\"black\" cx=\"18\" cy=\"-188.65\" rx=\"18\" ry=\"18\"/>\n",
       "<text text-anchor=\"middle\" x=\"18\" y=\"-184.95\" font-family=\"Times,serif\" font-size=\"14.00\">5</text>\n",
       "</g>\n",
       "<!-- 4&#45;&#45;5 -->\n",
       "<g id=\"edge6\" class=\"edge\">\n",
       "<title>4&#45;&#45;5</title>\n",
       "<path fill=\"none\" stroke=\"#66c2a5\" d=\"M54.45,-240.37C46.8,-229.5 36.42,-214.78 28.69,-203.82\"/>\n",
       "</g>\n",
       "<!-- 6 -->\n",
       "<g id=\"node7\" class=\"node\">\n",
       "<title>6</title>\n",
       "<ellipse fill=\"#66c2a5\" stroke=\"black\" cx=\"19.27\" cy=\"-107.32\" rx=\"18\" ry=\"18\"/>\n",
       "<text text-anchor=\"middle\" x=\"19.27\" y=\"-103.62\" font-family=\"Times,serif\" font-size=\"14.00\">6</text>\n",
       "</g>\n",
       "<!-- 5&#45;&#45;6 -->\n",
       "<g id=\"edge7\" class=\"edge\">\n",
       "<title>5&#45;&#45;6</title>\n",
       "<path fill=\"none\" stroke=\"#66c2a5\" d=\"M18.28,-170.6C18.49,-157.12 18.78,-138.79 18.99,-125.32\"/>\n",
       "</g>\n",
       "<!-- 7 -->\n",
       "<g id=\"node8\" class=\"node\">\n",
       "<title>7</title>\n",
       "<ellipse fill=\"#66c2a5\" stroke=\"black\" cx=\"68.26\" cy=\"-42.42\" rx=\"18\" ry=\"18\"/>\n",
       "<text text-anchor=\"middle\" x=\"68.26\" y=\"-38.72\" font-family=\"Times,serif\" font-size=\"14.00\">7</text>\n",
       "</g>\n",
       "<!-- 6&#45;&#45;7 -->\n",
       "<g id=\"edge8\" class=\"edge\">\n",
       "<title>6&#45;&#45;7</title>\n",
       "<path fill=\"none\" stroke=\"#66c2a5\" d=\"M30.14,-92.92C38.15,-82.31 49,-67.94 57.08,-57.24\"/>\n",
       "</g>\n",
       "<!-- 8 -->\n",
       "<g id=\"node9\" class=\"node\">\n",
       "<title>8</title>\n",
       "<ellipse fill=\"#66c2a5\" stroke=\"black\" cx=\"145.83\" cy=\"-18\" rx=\"18\" ry=\"18\"/>\n",
       "<text text-anchor=\"middle\" x=\"145.83\" y=\"-14.3\" font-family=\"Times,serif\" font-size=\"14.00\">8</text>\n",
       "</g>\n",
       "<!-- 7&#45;&#45;8 -->\n",
       "<g id=\"edge9\" class=\"edge\">\n",
       "<title>7&#45;&#45;8</title>\n",
       "<path fill=\"none\" stroke=\"#66c2a5\" d=\"M85.47,-37C98.24,-32.98 115.58,-27.53 128.39,-23.49\"/>\n",
       "</g>\n",
       "<!-- 8&#45;&#45;9 -->\n",
       "<g id=\"edge10\" class=\"edge\">\n",
       "<title>8&#45;&#45;9</title>\n",
       "<path fill=\"none\" stroke=\"#66c2a5\" d=\"M162.91,-23.86C175.66,-28.23 193.01,-34.18 205.75,-38.55\"/>\n",
       "</g>\n",
       "</g>\n",
       "</svg>\n"
      ],
      "text/plain": [
       "<graphviz.sources.Source at 0x7f3cc43922b0>"
      ]
     },
     "execution_count": 11,
     "metadata": {},
     "output_type": "execute_result"
    }
   ],
   "source": [
    "GraphVisualizer(circle).plot_dot()"
   ]
  },
  {
   "cell_type": "markdown",
   "metadata": {
    "id": "_Rqri-KdAVAj"
   },
   "source": [
    "## Complete graph\n",
    "A [complete graph](https://en.wikipedia.org/wiki/Complete_graph#:~:text=In%20the%20mathematical%20field%20of,(one%20in%20each%20direction)) is a graph where every node is connected to every other node."
   ]
  },
  {
   "cell_type": "code",
   "execution_count": 12,
   "metadata": {
    "id": "_b7GHPf5AUZx"
   },
   "outputs": [],
   "source": [
    "complete = Graph.generate_complete_graph()"
   ]
  },
  {
   "cell_type": "markdown",
   "metadata": {
    "id": "Ti_au7dPAhyR"
   },
   "source": [
    "Let's compute the graph report:"
   ]
  },
  {
   "cell_type": "code",
   "execution_count": 13,
   "metadata": {
    "colab": {
     "base_uri": "https://localhost:8080/",
     "height": 467
    },
    "id": "2p5wvz_nAPn1",
    "outputId": "d47db064-51a5-48db-a460-48596ae0b1b4"
   },
   "outputs": [
    {
     "data": {
      "text/html": [
       "<div class=\"graph-report\"><style>.graph-report li {margin: 0.5em 0 0.5em 0;}.graph-report .paragraph {text-align: justify;word-break: break-all;}.graph-report .small-columns {column-count: 4;column-gap: 2em;}.graph-report .medium-columns {column-count: 3;column-gap: 2em;}.graph-report .large-columns {column-count: 2;column-gap: 2em;}.graph-report .single-column {}@media only screen and (max-width: 600px) {.graph-report .small-columns {column-count: 1;}.graph-report .medium-columns {column-count: 1;}.graph-report .large-columns {column-count: 1;}}@media only screen and (min-width: 600px) and (max-width: 800px) {.graph-report .small-columns {column-count: 2;}.graph-report .medium-columns {column-count: 1;}.graph-report .large-columns {column-count: 1;}}@media only screen and (min-width: 800px) and (max-width: 1024px) {.graph-report .small-columns {column-count: 3;}.graph-report .medium-columns {column-count: 2;}.graph-report .large-columns {column-count: 1;}}</style><h2>Complete</h2><p class=\"paragraph\">The undirected graph Complete has 10 homogeneous nodes and 45 homogeneous edges. The graph is connected, that is, it is composed of a single connected component that includes all nodes and edges. The RAM requirements for the nodes and edges data structures are 80B and 312B respectively.</p><h3 style=\"margin: 1em 0 0 0;\">Degree centrality</h3><p class=\"paragraph\">The minimum node degree is 9, the maximum node degree is 9, the mode degree is 9, the mean degree is 9.00 and the node degree median is 9.</p><p class=\"paragraph\">The nodes with the highest degree centrality are 0 (degree 9 and node type complete), 1 (degree 9 and node type complete), 2 (degree 9 and node type complete), 3 (degree 9 and node type complete) and 4 (degree 9 and node type complete).</p><h3 style=\"margin: 1em 0 0 0;\">Node types</h3><p class=\"paragraph\">The graph has a single node type, which is complete. The RAM requirement for the node types data structure is 785B.</p><h4 style=\"margin: 1em 0 0 0;\">Homogeneous node types</h4><p class=\"paragraph\">Homogeneous node types are node types that are assigned to all the nodes in the graph, making the node type relatively meaningless, as it adds no more information than the fact that the node is in the graph. The graph contains a homogeneous node type, which is complete.</p><h3 style=\"margin: 1em 0 0 0;\">Edge types</h3><p class=\"paragraph\">The graph has a single edge type, which is complete. The RAM requirement for the edge types data structure is 614B.</p></div>"
      ],
      "text/plain": [
       "<div class=\"graph-report\"><style>.graph-report li {margin: 0.5em 0 0.5em 0;}.graph-report .paragraph {text-align: justify;word-break: break-all;}.graph-report .small-columns {column-count: 4;column-gap: 2em;}.graph-report .medium-columns {column-count: 3;column-gap: 2em;}.graph-report .large-columns {column-count: 2;column-gap: 2em;}.graph-report .single-column {}@media only screen and (max-width: 600px) {.graph-report .small-columns {column-count: 1;}.graph-report .medium-columns {column-count: 1;}.graph-report .large-columns {column-count: 1;}}@media only screen and (min-width: 600px) and (max-width: 800px) {.graph-report .small-columns {column-count: 2;}.graph-report .medium-columns {column-count: 1;}.graph-report .large-columns {column-count: 1;}}@media only screen and (min-width: 800px) and (max-width: 1024px) {.graph-report .small-columns {column-count: 3;}.graph-report .medium-columns {column-count: 2;}.graph-report .large-columns {column-count: 1;}}</style><h2>Complete</h2><p class=\"paragraph\">The undirected graph Complete has 10 homogeneous nodes and 45 homogeneous edges. The graph is connected, that is, it is composed of a single connected component that includes all nodes and edges. The RAM requirements for the nodes and edges data structures are 80B and 312B respectively.</p><h3 style=\"margin: 1em 0 0 0;\">Degree centrality</h3><p class=\"paragraph\">The minimum node degree is 9, the maximum node degree is 9, the mode degree is 9, the mean degree is 9.00 and the node degree median is 9.</p><p class=\"paragraph\">The nodes with the highest degree centrality are 0 (degree 9 and node type complete), 1 (degree 9 and node type complete), 2 (degree 9 and node type complete), 3 (degree 9 and node type complete) and 4 (degree 9 and node type complete).</p><h3 style=\"margin: 1em 0 0 0;\">Node types</h3><p class=\"paragraph\">The graph has a single node type, which is complete. The RAM requirement for the node types data structure is 785B.</p><h4 style=\"margin: 1em 0 0 0;\">Homogeneous node types</h4><p class=\"paragraph\">Homogeneous node types are node types that are assigned to all the nodes in the graph, making the node type relatively meaningless, as it adds no more information than the fact that the node is in the graph. The graph contains a homogeneous node type, which is complete.</p><h3 style=\"margin: 1em 0 0 0;\">Edge types</h3><p class=\"paragraph\">The graph has a single edge type, which is complete. The RAM requirement for the edge types data structure is 614B.</p></div>"
      ]
     },
     "execution_count": 13,
     "metadata": {},
     "output_type": "execute_result"
    }
   ],
   "source": [
    "complete"
   ]
  },
  {
   "cell_type": "markdown",
   "metadata": {
    "id": "nV5qmMiqAkfk"
   },
   "source": [
    "And visualize it:"
   ]
  },
  {
   "cell_type": "code",
   "execution_count": 14,
   "metadata": {
    "colab": {
     "base_uri": "https://localhost:8080/",
     "height": 588
    },
    "id": "PAXmHQm5AjxN",
    "outputId": "a6a221d4-5e73-4af6-a53e-643068491c6d"
   },
   "outputs": [
    {
     "name": "stderr",
     "output_type": "stream",
     "text": [
      "/home/luca/anaconda3/lib/python3.9/site-packages/embiggen/visualizations/graph_visualizer.py:391: UserWarning: The requested negatives number 45 is more than the number of negative edges that exist in the graph (0).\n",
      "  warnings.warn(str(e))\n"
     ]
    },
    {
     "data": {
      "image/svg+xml": [
       "<?xml version=\"1.0\" encoding=\"UTF-8\" standalone=\"no\"?>\n",
       "<!DOCTYPE svg PUBLIC \"-//W3C//DTD SVG 1.1//EN\"\n",
       " \"http://www.w3.org/Graphics/SVG/1.1/DTD/svg11.dtd\">\n",
       "<!-- Generated by graphviz version 2.50.0 (0)\n",
       " -->\n",
       "<!-- Title: G Pages: 1 -->\n",
       "<svg width=\"138pt\" height=\"139pt\"\n",
       " viewBox=\"0.00 0.00 137.90 139.26\" xmlns=\"http://www.w3.org/2000/svg\" xmlns:xlink=\"http://www.w3.org/1999/xlink\">\n",
       "<g id=\"graph0\" class=\"graph\" transform=\"scale(1 1) rotate(0) translate(4 135.26)\">\n",
       "<title>G</title>\n",
       "<polygon fill=\"white\" stroke=\"transparent\" points=\"-4,4 -4,-135.26 133.9,-135.26 133.9,4 -4,4\"/>\n",
       "<!-- 0 -->\n",
       "<g id=\"node1\" class=\"node\">\n",
       "<title>0</title>\n",
       "<ellipse fill=\"#66c2a5\" stroke=\"black\" cx=\"18\" cy=\"-67.29\" rx=\"18\" ry=\"18\"/>\n",
       "<text text-anchor=\"middle\" x=\"18\" y=\"-63.59\" font-family=\"Times,serif\" font-size=\"14.00\">0</text>\n",
       "</g>\n",
       "<!-- 1 -->\n",
       "<g id=\"node2\" class=\"node\">\n",
       "<title>1</title>\n",
       "<ellipse fill=\"#66c2a5\" stroke=\"black\" cx=\"111.18\" cy=\"-82.88\" rx=\"18\" ry=\"18\"/>\n",
       "<text text-anchor=\"middle\" x=\"111.18\" y=\"-79.18\" font-family=\"Times,serif\" font-size=\"14.00\">1</text>\n",
       "</g>\n",
       "<!-- 0&#45;&#45;1 -->\n",
       "<g id=\"edge1\" class=\"edge\">\n",
       "<title>0&#45;&#45;1</title>\n",
       "<path fill=\"none\" stroke=\"#66c2a5\" d=\"M35.97,-70.3C52.46,-73.06 76.78,-77.12 93.27,-79.88\"/>\n",
       "</g>\n",
       "<!-- 2 -->\n",
       "<g id=\"node3\" class=\"node\">\n",
       "<title>2</title>\n",
       "<ellipse fill=\"#66c2a5\" stroke=\"black\" cx=\"57.37\" cy=\"-18\" rx=\"18\" ry=\"18\"/>\n",
       "<text text-anchor=\"middle\" x=\"57.37\" y=\"-14.3\" font-family=\"Times,serif\" font-size=\"14.00\">2</text>\n",
       "</g>\n",
       "<!-- 0&#45;&#45;2 -->\n",
       "<g id=\"edge2\" class=\"edge\">\n",
       "<title>0&#45;&#45;2</title>\n",
       "<path fill=\"none\" stroke=\"#66c2a5\" d=\"M29.39,-53.04C34.57,-46.55 40.68,-38.9 45.87,-32.4\"/>\n",
       "</g>\n",
       "<!-- 3 -->\n",
       "<g id=\"node4\" class=\"node\">\n",
       "<title>3</title>\n",
       "<ellipse fill=\"#66c2a5\" stroke=\"black\" cx=\"58.37\" cy=\"-113.26\" rx=\"18\" ry=\"18\"/>\n",
       "<text text-anchor=\"middle\" x=\"58.37\" y=\"-109.56\" font-family=\"Times,serif\" font-size=\"14.00\">3</text>\n",
       "</g>\n",
       "<!-- 0&#45;&#45;3 -->\n",
       "<g id=\"edge3\" class=\"edge\">\n",
       "<title>0&#45;&#45;3</title>\n",
       "<path fill=\"none\" stroke=\"#66c2a5\" d=\"M29.9,-80.84C35.11,-86.77 41.21,-93.72 46.42,-99.65\"/>\n",
       "</g>\n",
       "<!-- 4 -->\n",
       "<g id=\"node5\" class=\"node\">\n",
       "<title>4</title>\n",
       "<ellipse fill=\"#66c2a5\" stroke=\"black\" cx=\"89.83\" cy=\"-106.82\" rx=\"18\" ry=\"18\"/>\n",
       "<text text-anchor=\"middle\" x=\"89.83\" y=\"-103.12\" font-family=\"Times,serif\" font-size=\"14.00\">4</text>\n",
       "</g>\n",
       "<!-- 0&#45;&#45;4 -->\n",
       "<g id=\"edge4\" class=\"edge\">\n",
       "<title>0&#45;&#45;4</title>\n",
       "<path fill=\"none\" stroke=\"#66c2a5\" d=\"M33.94,-76.07C45.84,-82.62 62.04,-91.53 73.93,-98.08\"/>\n",
       "</g>\n",
       "<!-- 5 -->\n",
       "<g id=\"node6\" class=\"node\">\n",
       "<title>5</title>\n",
       "<ellipse fill=\"#66c2a5\" stroke=\"black\" cx=\"31.13\" cy=\"-96.69\" rx=\"18\" ry=\"18\"/>\n",
       "<text text-anchor=\"middle\" x=\"31.13\" y=\"-92.99\" font-family=\"Times,serif\" font-size=\"14.00\">5</text>\n",
       "</g>\n",
       "<!-- 0&#45;&#45;5 -->\n",
       "<g id=\"edge5\" class=\"edge\">\n",
       "<title>0&#45;&#45;5</title>\n",
       "<path fill=\"none\" stroke=\"#66c2a5\" d=\"M25.48,-84.05C25.53,-84.15 25.58,-84.26 25.62,-84.36\"/>\n",
       "</g>\n",
       "<!-- 6 -->\n",
       "<g id=\"node7\" class=\"node\">\n",
       "<title>6</title>\n",
       "<ellipse fill=\"#66c2a5\" stroke=\"black\" cx=\"28.68\" cy=\"-35.76\" rx=\"18\" ry=\"18\"/>\n",
       "<text text-anchor=\"middle\" x=\"28.68\" y=\"-32.06\" font-family=\"Times,serif\" font-size=\"14.00\">6</text>\n",
       "</g>\n",
       "<!-- 0&#45;&#45;6 -->\n",
       "<g id=\"edge6\" class=\"edge\">\n",
       "<title>0&#45;&#45;6</title>\n",
       "<path fill=\"none\" stroke=\"#66c2a5\" d=\"M23.84,-50.05C23.88,-49.94 23.92,-49.82 23.96,-49.71\"/>\n",
       "</g>\n",
       "<!-- 7 -->\n",
       "<g id=\"node8\" class=\"node\">\n",
       "<title>7</title>\n",
       "<ellipse fill=\"#66c2a5\" stroke=\"black\" cx=\"111.9\" cy=\"-50.04\" rx=\"18\" ry=\"18\"/>\n",
       "<text text-anchor=\"middle\" x=\"111.9\" y=\"-46.34\" font-family=\"Times,serif\" font-size=\"14.00\">7</text>\n",
       "</g>\n",
       "<!-- 0&#45;&#45;7 -->\n",
       "<g id=\"edge7\" class=\"edge\">\n",
       "<title>0&#45;&#45;7</title>\n",
       "<path fill=\"none\" stroke=\"#66c2a5\" d=\"M36.1,-63.97C52.84,-60.89 77.56,-56.35 94.17,-53.3\"/>\n",
       "</g>\n",
       "<!-- 8 -->\n",
       "<g id=\"node9\" class=\"node\">\n",
       "<title>8</title>\n",
       "<ellipse fill=\"#66c2a5\" stroke=\"black\" cx=\"66.51\" cy=\"-62.67\" rx=\"18\" ry=\"18\"/>\n",
       "<text text-anchor=\"middle\" x=\"66.51\" y=\"-58.97\" font-family=\"Times,serif\" font-size=\"14.00\">8</text>\n",
       "</g>\n",
       "<!-- 0&#45;&#45;8 -->\n",
       "<g id=\"edge8\" class=\"edge\">\n",
       "<title>0&#45;&#45;8</title>\n",
       "<path fill=\"none\" stroke=\"#66c2a5\" d=\"M36.06,-65.57C40.05,-65.19 44.28,-64.79 48.27,-64.41\"/>\n",
       "</g>\n",
       "<!-- 9 -->\n",
       "<g id=\"node10\" class=\"node\">\n",
       "<title>9</title>\n",
       "<ellipse fill=\"#66c2a5\" stroke=\"black\" cx=\"90.9\" cy=\"-23.9\" rx=\"18\" ry=\"18\"/>\n",
       "<text text-anchor=\"middle\" x=\"90.9\" y=\"-20.2\" font-family=\"Times,serif\" font-size=\"14.00\">9</text>\n",
       "</g>\n",
       "<!-- 0&#45;&#45;9 -->\n",
       "<g id=\"edge9\" class=\"edge\">\n",
       "<title>0&#45;&#45;9</title>\n",
       "<path fill=\"none\" stroke=\"#66c2a5\" d=\"M33.82,-57.88C46.05,-50.6 62.89,-40.57 75.11,-33.3\"/>\n",
       "</g>\n",
       "<!-- 1&#45;&#45;2 -->\n",
       "<g id=\"edge10\" class=\"edge\">\n",
       "<title>1&#45;&#45;2</title>\n",
       "<path fill=\"none\" stroke=\"#66c2a5\" d=\"M99.5,-68.8C90.48,-57.92 78.04,-42.92 69.02,-32.05\"/>\n",
       "</g>\n",
       "<!-- 1&#45;&#45;3 -->\n",
       "<g id=\"edge11\" class=\"edge\">\n",
       "<title>1&#45;&#45;3</title>\n",
       "<path fill=\"none\" stroke=\"#66c2a5\" d=\"M95.33,-91.99C88.65,-95.84 80.89,-100.3 74.21,-104.15\"/>\n",
       "</g>\n",
       "<!-- 1&#45;&#45;4 -->\n",
       "<g id=\"edge12\" class=\"edge\">\n",
       "<title>1&#45;&#45;4</title>\n",
       "<path fill=\"none\" stroke=\"#66c2a5\" d=\"M99,-96.53C98.85,-96.7 98.71,-96.86 98.56,-97.03\"/>\n",
       "</g>\n",
       "<!-- 1&#45;&#45;5 -->\n",
       "<g id=\"edge13\" class=\"edge\">\n",
       "<title>1&#45;&#45;5</title>\n",
       "<path fill=\"none\" stroke=\"#66c2a5\" d=\"M93.41,-85.94C80.24,-88.21 62.35,-91.3 49.12,-93.58\"/>\n",
       "</g>\n",
       "<!-- 1&#45;&#45;6 -->\n",
       "<g id=\"edge14\" class=\"edge\">\n",
       "<title>1&#45;&#45;6</title>\n",
       "<path fill=\"none\" stroke=\"#66c2a5\" d=\"M95.27,-73.79C80.66,-65.45 59.13,-53.15 44.54,-44.82\"/>\n",
       "</g>\n",
       "<!-- 1&#45;&#45;7 -->\n",
       "<g id=\"edge15\" class=\"edge\">\n",
       "<title>1&#45;&#45;7</title>\n",
       "<path fill=\"none\" stroke=\"#66c2a5\" d=\"M111.58,-64.54C111.58,-64.42 111.59,-64.3 111.59,-64.19\"/>\n",
       "</g>\n",
       "<!-- 1&#45;&#45;8 -->\n",
       "<g id=\"edge16\" class=\"edge\">\n",
       "<title>1&#45;&#45;8</title>\n",
       "<path fill=\"none\" stroke=\"#66c2a5\" d=\"M94.54,-75.35C90.77,-73.65 86.77,-71.83 83.01,-70.13\"/>\n",
       "</g>\n",
       "<!-- 1&#45;&#45;9 -->\n",
       "<g id=\"edge17\" class=\"edge\">\n",
       "<title>1&#45;&#45;9</title>\n",
       "<path fill=\"none\" stroke=\"#66c2a5\" d=\"M105.31,-65.82C102.64,-58.06 99.49,-48.9 96.82,-41.12\"/>\n",
       "</g>\n",
       "<!-- 2&#45;&#45;3 -->\n",
       "<g id=\"edge18\" class=\"edge\">\n",
       "<title>2&#45;&#45;3</title>\n",
       "<path fill=\"none\" stroke=\"#66c2a5\" d=\"M57.56,-36.37C57.74,-53.23 58,-78.1 58.18,-94.95\"/>\n",
       "</g>\n",
       "<!-- 2&#45;&#45;4 -->\n",
       "<g id=\"edge19\" class=\"edge\">\n",
       "<title>2&#45;&#45;4</title>\n",
       "<path fill=\"none\" stroke=\"#66c2a5\" d=\"M63.63,-35.13C69.38,-50.86 77.85,-74.04 83.59,-89.75\"/>\n",
       "</g>\n",
       "<!-- 2&#45;&#45;5 -->\n",
       "<g id=\"edge20\" class=\"edge\">\n",
       "<title>2&#45;&#45;5</title>\n",
       "<path fill=\"none\" stroke=\"#66c2a5\" d=\"M51.55,-35.46C47.17,-48.59 41.2,-66.49 36.85,-79.54\"/>\n",
       "</g>\n",
       "<!-- 2&#45;&#45;6 -->\n",
       "<g id=\"edge21\" class=\"edge\">\n",
       "<title>2&#45;&#45;6</title>\n",
       "<path fill=\"none\" stroke=\"#66c2a5\" d=\"M42.02,-27.5C41.91,-27.57 41.8,-27.64 41.7,-27.7\"/>\n",
       "</g>\n",
       "<!-- 2&#45;&#45;7 -->\n",
       "<g id=\"edge22\" class=\"edge\">\n",
       "<title>2&#45;&#45;7</title>\n",
       "<path fill=\"none\" stroke=\"#66c2a5\" d=\"M73.14,-27.27C80.44,-31.56 89.08,-36.63 96.35,-40.91\"/>\n",
       "</g>\n",
       "<!-- 2&#45;&#45;8 -->\n",
       "<g id=\"edge23\" class=\"edge\">\n",
       "<title>2&#45;&#45;8</title>\n",
       "<path fill=\"none\" stroke=\"#66c2a5\" d=\"M60.98,-35.65C61.6,-38.68 62.24,-41.82 62.86,-44.85\"/>\n",
       "</g>\n",
       "<!-- 2&#45;&#45;9 -->\n",
       "<g id=\"edge24\" class=\"edge\">\n",
       "<title>2&#45;&#45;9</title>\n",
       "<path fill=\"none\" stroke=\"#66c2a5\" d=\"M75.31,-21.16C75.44,-21.18 75.56,-21.2 75.69,-21.22\"/>\n",
       "</g>\n",
       "<!-- 3&#45;&#45;4 -->\n",
       "<g id=\"edge25\" class=\"edge\">\n",
       "<title>3&#45;&#45;4</title>\n",
       "<path fill=\"none\" stroke=\"#66c2a5\" d=\"M76.3,-109.59C76.42,-109.57 76.53,-109.55 76.64,-109.52\"/>\n",
       "</g>\n",
       "<!-- 3&#45;&#45;5 -->\n",
       "<g id=\"edge26\" class=\"edge\">\n",
       "<title>3&#45;&#45;5</title>\n",
       "<path fill=\"none\" stroke=\"#66c2a5\" d=\"M42.84,-103.81C42.75,-103.75 42.65,-103.69 42.55,-103.64\"/>\n",
       "</g>\n",
       "<!-- 3&#45;&#45;6 -->\n",
       "<g id=\"edge27\" class=\"edge\">\n",
       "<title>3&#45;&#45;6</title>\n",
       "<path fill=\"none\" stroke=\"#66c2a5\" d=\"M51.93,-96.44C46.98,-83.53 40.18,-65.78 35.21,-52.81\"/>\n",
       "</g>\n",
       "<!-- 3&#45;&#45;7 -->\n",
       "<g id=\"edge28\" class=\"edge\">\n",
       "<title>3&#45;&#45;7</title>\n",
       "<path fill=\"none\" stroke=\"#66c2a5\" d=\"M70.25,-99.23C79.12,-88.75 91.19,-74.5 100.05,-64.03\"/>\n",
       "</g>\n",
       "<!-- 3&#45;&#45;8 -->\n",
       "<g id=\"edge29\" class=\"edge\">\n",
       "<title>3&#45;&#45;8</title>\n",
       "<path fill=\"none\" stroke=\"#66c2a5\" d=\"M61.26,-95.28C62.03,-90.51 62.86,-85.36 63.63,-80.59\"/>\n",
       "</g>\n",
       "<!-- 3&#45;&#45;9 -->\n",
       "<g id=\"edge30\" class=\"edge\">\n",
       "<title>3&#45;&#45;9</title>\n",
       "<path fill=\"none\" stroke=\"#66c2a5\" d=\"M64.64,-96.03C70.4,-80.21 78.89,-56.88 84.65,-41.08\"/>\n",
       "</g>\n",
       "<!-- 4&#45;&#45;5 -->\n",
       "<g id=\"edge31\" class=\"edge\">\n",
       "<title>4&#45;&#45;5</title>\n",
       "<path fill=\"none\" stroke=\"#66c2a5\" d=\"M71.9,-103.73C64.61,-102.47 56.22,-101.02 48.95,-99.76\"/>\n",
       "</g>\n",
       "<!-- 4&#45;&#45;6 -->\n",
       "<g id=\"edge32\" class=\"edge\">\n",
       "<title>4&#45;&#45;6</title>\n",
       "<path fill=\"none\" stroke=\"#66c2a5\" d=\"M78.04,-93.12C67.21,-80.54 51.25,-61.99 40.43,-49.42\"/>\n",
       "</g>\n",
       "<!-- 4&#45;&#45;7 -->\n",
       "<g id=\"edge33\" class=\"edge\">\n",
       "<title>4&#45;&#45;7</title>\n",
       "<path fill=\"none\" stroke=\"#66c2a5\" d=\"M96.45,-89.79C99.24,-82.6 102.49,-74.25 105.28,-67.07\"/>\n",
       "</g>\n",
       "<!-- 4&#45;&#45;8 -->\n",
       "<g id=\"edge34\" class=\"edge\">\n",
       "<title>4&#45;&#45;8</title>\n",
       "<path fill=\"none\" stroke=\"#66c2a5\" d=\"M81.41,-90.88C79.32,-86.93 77.08,-82.69 74.99,-78.73\"/>\n",
       "</g>\n",
       "<!-- 4&#45;&#45;9 -->\n",
       "<g id=\"edge35\" class=\"edge\">\n",
       "<title>4&#45;&#45;9</title>\n",
       "<path fill=\"none\" stroke=\"#66c2a5\" d=\"M90.06,-88.42C90.24,-74.58 90.49,-55.72 90.66,-41.97\"/>\n",
       "</g>\n",
       "<!-- 5&#45;&#45;6 -->\n",
       "<g id=\"edge36\" class=\"edge\">\n",
       "<title>5&#45;&#45;6</title>\n",
       "<path fill=\"none\" stroke=\"#66c2a5\" d=\"M30.39,-78.41C30.08,-70.7 29.72,-61.74 29.42,-54.03\"/>\n",
       "</g>\n",
       "<!-- 5&#45;&#45;7 -->\n",
       "<g id=\"edge37\" class=\"edge\">\n",
       "<title>5&#45;&#45;7</title>\n",
       "<path fill=\"none\" stroke=\"#66c2a5\" d=\"M47.09,-87.47C61.34,-79.24 82.09,-67.26 96.25,-59.08\"/>\n",
       "</g>\n",
       "<!-- 5&#45;&#45;8 -->\n",
       "<g id=\"edge38\" class=\"edge\">\n",
       "<title>5&#45;&#45;8</title>\n",
       "<path fill=\"none\" stroke=\"#66c2a5\" d=\"M44.3,-84.02C47.29,-81.15 50.46,-78.1 53.44,-75.23\"/>\n",
       "</g>\n",
       "<!-- 5&#45;&#45;9 -->\n",
       "<g id=\"edge39\" class=\"edge\">\n",
       "<title>5&#45;&#45;9</title>\n",
       "<path fill=\"none\" stroke=\"#66c2a5\" d=\"M42.65,-82.65C53.24,-69.76 68.84,-50.77 79.41,-37.89\"/>\n",
       "</g>\n",
       "<!-- 6&#45;&#45;7 -->\n",
       "<g id=\"edge40\" class=\"edge\">\n",
       "<title>6&#45;&#45;7</title>\n",
       "<path fill=\"none\" stroke=\"#66c2a5\" d=\"M46.74,-38.86C60.7,-41.25 79.93,-44.56 93.88,-46.95\"/>\n",
       "</g>\n",
       "<!-- 6&#45;&#45;8 -->\n",
       "<g id=\"edge41\" class=\"edge\">\n",
       "<title>6&#45;&#45;8</title>\n",
       "<path fill=\"none\" stroke=\"#66c2a5\" d=\"M43.63,-46.39C46.28,-48.27 49.03,-50.23 51.67,-52.11\"/>\n",
       "</g>\n",
       "<!-- 6&#45;&#45;9 -->\n",
       "<g id=\"edge42\" class=\"edge\">\n",
       "<title>6&#45;&#45;9</title>\n",
       "<path fill=\"none\" stroke=\"#66c2a5\" d=\"M46.68,-32.33C55,-30.74 64.86,-28.86 73.16,-27.28\"/>\n",
       "</g>\n",
       "<!-- 7&#45;&#45;8 -->\n",
       "<g id=\"edge43\" class=\"edge\">\n",
       "<title>7&#45;&#45;8</title>\n",
       "<path fill=\"none\" stroke=\"#66c2a5\" d=\"M94.48,-54.89C91.08,-55.83 87.51,-56.83 84.11,-57.77\"/>\n",
       "</g>\n",
       "<!-- 7&#45;&#45;9 -->\n",
       "<g id=\"edge44\" class=\"edge\">\n",
       "<title>7&#45;&#45;9</title>\n",
       "<path fill=\"none\" stroke=\"#66c2a5\" d=\"M100.42,-35.75C100.34,-35.65 100.26,-35.56 100.19,-35.46\"/>\n",
       "</g>\n",
       "<!-- 8&#45;&#45;9 -->\n",
       "<g id=\"edge45\" class=\"edge\">\n",
       "<title>8&#45;&#45;9</title>\n",
       "<path fill=\"none\" stroke=\"#66c2a5\" d=\"M76.15,-47.35C77.8,-44.72 79.52,-41.99 81.17,-39.37\"/>\n",
       "</g>\n",
       "</g>\n",
       "</svg>\n"
      ],
      "text/plain": [
       "<graphviz.sources.Source at 0x7f3daf9ba730>"
      ]
     },
     "execution_count": 14,
     "metadata": {},
     "output_type": "execute_result"
    }
   ],
   "source": [
    "GraphVisualizer(complete).plot_dot()"
   ]
  },
  {
   "cell_type": "markdown",
   "metadata": {
    "id": "68CKhMPBAql8"
   },
   "source": [
    "## Connected graph\n",
    "A [connected graph](https://en.wikipedia.org/wiki/Connectivity_(graph_theory)) is a graph where it is possible to reach any node starting a walk from any node."
   ]
  },
  {
   "cell_type": "code",
   "execution_count": 15,
   "metadata": {
    "id": "5mSiyDisAqGn"
   },
   "outputs": [],
   "source": [
    "connected = Graph.generate_random_connected_graph()"
   ]
  },
  {
   "cell_type": "markdown",
   "metadata": {
    "id": "Nnest6gqBCuw"
   },
   "source": [
    "Let's compute its report:"
   ]
  },
  {
   "cell_type": "code",
   "execution_count": 16,
   "metadata": {
    "colab": {
     "base_uri": "https://localhost:8080/",
     "height": 467
    },
    "id": "ihWo3ZqbAnEy",
    "outputId": "270a780c-12cf-4d62-b324-56b4ae13cb9d"
   },
   "outputs": [
    {
     "data": {
      "text/html": [
       "<div class=\"graph-report\"><style>.graph-report li {margin: 0.5em 0 0.5em 0;}.graph-report .paragraph {text-align: justify;word-break: break-all;}.graph-report .small-columns {column-count: 4;column-gap: 2em;}.graph-report .medium-columns {column-count: 3;column-gap: 2em;}.graph-report .large-columns {column-count: 2;column-gap: 2em;}.graph-report .single-column {}@media only screen and (max-width: 600px) {.graph-report .small-columns {column-count: 1;}.graph-report .medium-columns {column-count: 1;}.graph-report .large-columns {column-count: 1;}}@media only screen and (min-width: 600px) and (max-width: 800px) {.graph-report .small-columns {column-count: 2;}.graph-report .medium-columns {column-count: 1;}.graph-report .large-columns {column-count: 1;}}@media only screen and (min-width: 800px) and (max-width: 1024px) {.graph-report .small-columns {column-count: 3;}.graph-report .medium-columns {column-count: 2;}.graph-report .large-columns {column-count: 1;}}</style><h2>Connected</h2><p class=\"paragraph\">The undirected graph Connected has 10 homogeneous nodes and 20 homogeneous edges. The graph is connected, that is, it is composed of a single connected component that includes all nodes and edges. The RAM requirements for the nodes and edges data structures are 80B and 296B respectively.</p><h3 style=\"margin: 1em 0 0 0;\">Degree centrality</h3><p class=\"paragraph\">The minimum node degree is 2, the maximum node degree is 6, the mode degree is 5, the mean degree is 4.00 and the node degree median is 5.</p><p class=\"paragraph\">The nodes with the highest degree centrality are 1 (degree 6 and node type connected), 0 (degree 5 and node type connected), 4 (degree 5 and node type connected), 7 (degree 5 and node type connected) and 9 (degree 5 and node type connected).</p><h3 style=\"margin: 1em 0 0 0;\">Node types</h3><p class=\"paragraph\">The graph has a single node type, which is connected. The RAM requirement for the node types data structure is 789B.</p><h4 style=\"margin: 1em 0 0 0;\">Homogeneous node types</h4><p class=\"paragraph\">Homogeneous node types are node types that are assigned to all the nodes in the graph, making the node type relatively meaningless, as it adds no more information than the fact that the node is in the graph. The graph contains a homogeneous node type, which is connected.</p><h3 style=\"margin: 1em 0 0 0;\">Edge types</h3><p class=\"paragraph\">The graph has a single edge type, which is connected. The RAM requirement for the edge types data structure is 418B.</p></div>"
      ],
      "text/plain": [
       "<div class=\"graph-report\"><style>.graph-report li {margin: 0.5em 0 0.5em 0;}.graph-report .paragraph {text-align: justify;word-break: break-all;}.graph-report .small-columns {column-count: 4;column-gap: 2em;}.graph-report .medium-columns {column-count: 3;column-gap: 2em;}.graph-report .large-columns {column-count: 2;column-gap: 2em;}.graph-report .single-column {}@media only screen and (max-width: 600px) {.graph-report .small-columns {column-count: 1;}.graph-report .medium-columns {column-count: 1;}.graph-report .large-columns {column-count: 1;}}@media only screen and (min-width: 600px) and (max-width: 800px) {.graph-report .small-columns {column-count: 2;}.graph-report .medium-columns {column-count: 1;}.graph-report .large-columns {column-count: 1;}}@media only screen and (min-width: 800px) and (max-width: 1024px) {.graph-report .small-columns {column-count: 3;}.graph-report .medium-columns {column-count: 2;}.graph-report .large-columns {column-count: 1;}}</style><h2>Connected</h2><p class=\"paragraph\">The undirected graph Connected has 10 homogeneous nodes and 20 homogeneous edges. The graph is connected, that is, it is composed of a single connected component that includes all nodes and edges. The RAM requirements for the nodes and edges data structures are 80B and 296B respectively.</p><h3 style=\"margin: 1em 0 0 0;\">Degree centrality</h3><p class=\"paragraph\">The minimum node degree is 2, the maximum node degree is 6, the mode degree is 5, the mean degree is 4.00 and the node degree median is 5.</p><p class=\"paragraph\">The nodes with the highest degree centrality are 1 (degree 6 and node type connected), 0 (degree 5 and node type connected), 4 (degree 5 and node type connected), 7 (degree 5 and node type connected) and 9 (degree 5 and node type connected).</p><h3 style=\"margin: 1em 0 0 0;\">Node types</h3><p class=\"paragraph\">The graph has a single node type, which is connected. The RAM requirement for the node types data structure is 789B.</p><h4 style=\"margin: 1em 0 0 0;\">Homogeneous node types</h4><p class=\"paragraph\">Homogeneous node types are node types that are assigned to all the nodes in the graph, making the node type relatively meaningless, as it adds no more information than the fact that the node is in the graph. The graph contains a homogeneous node type, which is connected.</p><h3 style=\"margin: 1em 0 0 0;\">Edge types</h3><p class=\"paragraph\">The graph has a single edge type, which is connected. The RAM requirement for the edge types data structure is 418B.</p></div>"
      ]
     },
     "execution_count": 16,
     "metadata": {},
     "output_type": "execute_result"
    }
   ],
   "source": [
    "connected"
   ]
  },
  {
   "cell_type": "markdown",
   "metadata": {
    "id": "pOKUyPYpBHcb"
   },
   "source": [
    "And visualize it:"
   ]
  },
  {
   "cell_type": "code",
   "execution_count": 17,
   "metadata": {
    "colab": {
     "base_uri": "https://localhost:8080/",
     "height": 588
    },
    "id": "KQBk1sz-BCVM",
    "outputId": "eba487bd-2374-483d-ec16-759071112d32"
   },
   "outputs": [
    {
     "name": "stderr",
     "output_type": "stream",
     "text": [
      "/home/luca/anaconda3/lib/python3.9/site-packages/embiggen/visualizations/graph_visualizer.py:391: UserWarning: The requested negatives number 45 is more than the number of negative edges that exist in the graph (0).\n",
      "  warnings.warn(str(e))\n"
     ]
    },
    {
     "data": {
      "image/svg+xml": [
       "<?xml version=\"1.0\" encoding=\"UTF-8\" standalone=\"no\"?>\n",
       "<!DOCTYPE svg PUBLIC \"-//W3C//DTD SVG 1.1//EN\"\n",
       " \"http://www.w3.org/Graphics/SVG/1.1/DTD/svg11.dtd\">\n",
       "<!-- Generated by graphviz version 2.50.0 (0)\n",
       " -->\n",
       "<!-- Title: G Pages: 1 -->\n",
       "<svg width=\"138pt\" height=\"139pt\"\n",
       " viewBox=\"0.00 0.00 137.90 139.26\" xmlns=\"http://www.w3.org/2000/svg\" xmlns:xlink=\"http://www.w3.org/1999/xlink\">\n",
       "<g id=\"graph0\" class=\"graph\" transform=\"scale(1 1) rotate(0) translate(4 135.26)\">\n",
       "<title>G</title>\n",
       "<polygon fill=\"white\" stroke=\"transparent\" points=\"-4,4 -4,-135.26 133.9,-135.26 133.9,4 -4,4\"/>\n",
       "<!-- 0 -->\n",
       "<g id=\"node1\" class=\"node\">\n",
       "<title>0</title>\n",
       "<ellipse fill=\"#66c2a5\" stroke=\"black\" cx=\"18\" cy=\"-67.29\" rx=\"18\" ry=\"18\"/>\n",
       "<text text-anchor=\"middle\" x=\"18\" y=\"-63.59\" font-family=\"Times,serif\" font-size=\"14.00\">0</text>\n",
       "</g>\n",
       "<!-- 1 -->\n",
       "<g id=\"node2\" class=\"node\">\n",
       "<title>1</title>\n",
       "<ellipse fill=\"#66c2a5\" stroke=\"black\" cx=\"111.18\" cy=\"-82.88\" rx=\"18\" ry=\"18\"/>\n",
       "<text text-anchor=\"middle\" x=\"111.18\" y=\"-79.18\" font-family=\"Times,serif\" font-size=\"14.00\">1</text>\n",
       "</g>\n",
       "<!-- 0&#45;&#45;1 -->\n",
       "<g id=\"edge1\" class=\"edge\">\n",
       "<title>0&#45;&#45;1</title>\n",
       "<path fill=\"none\" stroke=\"#66c2a5\" d=\"M35.97,-70.3C52.46,-73.06 76.78,-77.12 93.27,-79.88\"/>\n",
       "</g>\n",
       "<!-- 2 -->\n",
       "<g id=\"node3\" class=\"node\">\n",
       "<title>2</title>\n",
       "<ellipse fill=\"#66c2a5\" stroke=\"black\" cx=\"57.37\" cy=\"-18\" rx=\"18\" ry=\"18\"/>\n",
       "<text text-anchor=\"middle\" x=\"57.37\" y=\"-14.3\" font-family=\"Times,serif\" font-size=\"14.00\">2</text>\n",
       "</g>\n",
       "<!-- 0&#45;&#45;2 -->\n",
       "<g id=\"edge2\" class=\"edge\">\n",
       "<title>0&#45;&#45;2</title>\n",
       "<path fill=\"none\" stroke=\"#66c2a5\" d=\"M29.39,-53.04C34.57,-46.55 40.68,-38.9 45.87,-32.4\"/>\n",
       "</g>\n",
       "<!-- 3 -->\n",
       "<g id=\"node4\" class=\"node\">\n",
       "<title>3</title>\n",
       "<ellipse fill=\"#66c2a5\" stroke=\"black\" cx=\"58.37\" cy=\"-113.26\" rx=\"18\" ry=\"18\"/>\n",
       "<text text-anchor=\"middle\" x=\"58.37\" y=\"-109.56\" font-family=\"Times,serif\" font-size=\"14.00\">3</text>\n",
       "</g>\n",
       "<!-- 0&#45;&#45;3 -->\n",
       "<g id=\"edge3\" class=\"edge\">\n",
       "<title>0&#45;&#45;3</title>\n",
       "<path fill=\"none\" stroke=\"#66c2a5\" d=\"M29.9,-80.84C35.11,-86.77 41.21,-93.72 46.42,-99.65\"/>\n",
       "</g>\n",
       "<!-- 4 -->\n",
       "<g id=\"node5\" class=\"node\">\n",
       "<title>4</title>\n",
       "<ellipse fill=\"#66c2a5\" stroke=\"black\" cx=\"89.83\" cy=\"-106.82\" rx=\"18\" ry=\"18\"/>\n",
       "<text text-anchor=\"middle\" x=\"89.83\" y=\"-103.12\" font-family=\"Times,serif\" font-size=\"14.00\">4</text>\n",
       "</g>\n",
       "<!-- 0&#45;&#45;4 -->\n",
       "<g id=\"edge4\" class=\"edge\">\n",
       "<title>0&#45;&#45;4</title>\n",
       "<path fill=\"none\" stroke=\"#66c2a5\" d=\"M33.94,-76.07C45.84,-82.62 62.04,-91.53 73.93,-98.08\"/>\n",
       "</g>\n",
       "<!-- 5 -->\n",
       "<g id=\"node6\" class=\"node\">\n",
       "<title>5</title>\n",
       "<ellipse fill=\"#66c2a5\" stroke=\"black\" cx=\"31.13\" cy=\"-96.69\" rx=\"18\" ry=\"18\"/>\n",
       "<text text-anchor=\"middle\" x=\"31.13\" y=\"-92.99\" font-family=\"Times,serif\" font-size=\"14.00\">5</text>\n",
       "</g>\n",
       "<!-- 0&#45;&#45;5 -->\n",
       "<g id=\"edge5\" class=\"edge\">\n",
       "<title>0&#45;&#45;5</title>\n",
       "<path fill=\"none\" stroke=\"#66c2a5\" d=\"M25.48,-84.05C25.53,-84.15 25.58,-84.26 25.62,-84.36\"/>\n",
       "</g>\n",
       "<!-- 6 -->\n",
       "<g id=\"node7\" class=\"node\">\n",
       "<title>6</title>\n",
       "<ellipse fill=\"#66c2a5\" stroke=\"black\" cx=\"28.68\" cy=\"-35.76\" rx=\"18\" ry=\"18\"/>\n",
       "<text text-anchor=\"middle\" x=\"28.68\" y=\"-32.06\" font-family=\"Times,serif\" font-size=\"14.00\">6</text>\n",
       "</g>\n",
       "<!-- 0&#45;&#45;6 -->\n",
       "<g id=\"edge6\" class=\"edge\">\n",
       "<title>0&#45;&#45;6</title>\n",
       "<path fill=\"none\" stroke=\"#66c2a5\" d=\"M23.84,-50.05C23.88,-49.94 23.92,-49.82 23.96,-49.71\"/>\n",
       "</g>\n",
       "<!-- 7 -->\n",
       "<g id=\"node8\" class=\"node\">\n",
       "<title>7</title>\n",
       "<ellipse fill=\"#66c2a5\" stroke=\"black\" cx=\"111.9\" cy=\"-50.04\" rx=\"18\" ry=\"18\"/>\n",
       "<text text-anchor=\"middle\" x=\"111.9\" y=\"-46.34\" font-family=\"Times,serif\" font-size=\"14.00\">7</text>\n",
       "</g>\n",
       "<!-- 0&#45;&#45;7 -->\n",
       "<g id=\"edge7\" class=\"edge\">\n",
       "<title>0&#45;&#45;7</title>\n",
       "<path fill=\"none\" stroke=\"#66c2a5\" d=\"M36.1,-63.97C52.84,-60.89 77.56,-56.35 94.17,-53.3\"/>\n",
       "</g>\n",
       "<!-- 8 -->\n",
       "<g id=\"node9\" class=\"node\">\n",
       "<title>8</title>\n",
       "<ellipse fill=\"#66c2a5\" stroke=\"black\" cx=\"66.51\" cy=\"-62.67\" rx=\"18\" ry=\"18\"/>\n",
       "<text text-anchor=\"middle\" x=\"66.51\" y=\"-58.97\" font-family=\"Times,serif\" font-size=\"14.00\">8</text>\n",
       "</g>\n",
       "<!-- 0&#45;&#45;8 -->\n",
       "<g id=\"edge8\" class=\"edge\">\n",
       "<title>0&#45;&#45;8</title>\n",
       "<path fill=\"none\" stroke=\"#66c2a5\" d=\"M36.06,-65.57C40.05,-65.19 44.28,-64.79 48.27,-64.41\"/>\n",
       "</g>\n",
       "<!-- 9 -->\n",
       "<g id=\"node10\" class=\"node\">\n",
       "<title>9</title>\n",
       "<ellipse fill=\"#66c2a5\" stroke=\"black\" cx=\"90.9\" cy=\"-23.9\" rx=\"18\" ry=\"18\"/>\n",
       "<text text-anchor=\"middle\" x=\"90.9\" y=\"-20.2\" font-family=\"Times,serif\" font-size=\"14.00\">9</text>\n",
       "</g>\n",
       "<!-- 0&#45;&#45;9 -->\n",
       "<g id=\"edge9\" class=\"edge\">\n",
       "<title>0&#45;&#45;9</title>\n",
       "<path fill=\"none\" stroke=\"#66c2a5\" d=\"M33.82,-57.88C46.05,-50.6 62.89,-40.57 75.11,-33.3\"/>\n",
       "</g>\n",
       "<!-- 1&#45;&#45;2 -->\n",
       "<g id=\"edge10\" class=\"edge\">\n",
       "<title>1&#45;&#45;2</title>\n",
       "<path fill=\"none\" stroke=\"#66c2a5\" d=\"M99.5,-68.8C90.48,-57.92 78.04,-42.92 69.02,-32.05\"/>\n",
       "</g>\n",
       "<!-- 1&#45;&#45;3 -->\n",
       "<g id=\"edge11\" class=\"edge\">\n",
       "<title>1&#45;&#45;3</title>\n",
       "<path fill=\"none\" stroke=\"#66c2a5\" d=\"M95.33,-91.99C88.65,-95.84 80.89,-100.3 74.21,-104.15\"/>\n",
       "</g>\n",
       "<!-- 1&#45;&#45;4 -->\n",
       "<g id=\"edge12\" class=\"edge\">\n",
       "<title>1&#45;&#45;4</title>\n",
       "<path fill=\"none\" stroke=\"#66c2a5\" d=\"M99,-96.53C98.85,-96.7 98.71,-96.86 98.56,-97.03\"/>\n",
       "</g>\n",
       "<!-- 1&#45;&#45;5 -->\n",
       "<g id=\"edge13\" class=\"edge\">\n",
       "<title>1&#45;&#45;5</title>\n",
       "<path fill=\"none\" stroke=\"#66c2a5\" d=\"M93.41,-85.94C80.24,-88.21 62.35,-91.3 49.12,-93.58\"/>\n",
       "</g>\n",
       "<!-- 1&#45;&#45;6 -->\n",
       "<g id=\"edge14\" class=\"edge\">\n",
       "<title>1&#45;&#45;6</title>\n",
       "<path fill=\"none\" stroke=\"#66c2a5\" d=\"M95.27,-73.79C80.66,-65.45 59.13,-53.15 44.54,-44.82\"/>\n",
       "</g>\n",
       "<!-- 1&#45;&#45;7 -->\n",
       "<g id=\"edge15\" class=\"edge\">\n",
       "<title>1&#45;&#45;7</title>\n",
       "<path fill=\"none\" stroke=\"#66c2a5\" d=\"M111.58,-64.54C111.58,-64.42 111.59,-64.3 111.59,-64.19\"/>\n",
       "</g>\n",
       "<!-- 1&#45;&#45;8 -->\n",
       "<g id=\"edge16\" class=\"edge\">\n",
       "<title>1&#45;&#45;8</title>\n",
       "<path fill=\"none\" stroke=\"#66c2a5\" d=\"M94.54,-75.35C90.77,-73.65 86.77,-71.83 83.01,-70.13\"/>\n",
       "</g>\n",
       "<!-- 1&#45;&#45;9 -->\n",
       "<g id=\"edge17\" class=\"edge\">\n",
       "<title>1&#45;&#45;9</title>\n",
       "<path fill=\"none\" stroke=\"#66c2a5\" d=\"M105.31,-65.82C102.64,-58.06 99.49,-48.9 96.82,-41.12\"/>\n",
       "</g>\n",
       "<!-- 2&#45;&#45;3 -->\n",
       "<g id=\"edge18\" class=\"edge\">\n",
       "<title>2&#45;&#45;3</title>\n",
       "<path fill=\"none\" stroke=\"#66c2a5\" d=\"M57.56,-36.37C57.74,-53.23 58,-78.1 58.18,-94.95\"/>\n",
       "</g>\n",
       "<!-- 2&#45;&#45;4 -->\n",
       "<g id=\"edge19\" class=\"edge\">\n",
       "<title>2&#45;&#45;4</title>\n",
       "<path fill=\"none\" stroke=\"#66c2a5\" d=\"M63.63,-35.13C69.38,-50.86 77.85,-74.04 83.59,-89.75\"/>\n",
       "</g>\n",
       "<!-- 2&#45;&#45;5 -->\n",
       "<g id=\"edge20\" class=\"edge\">\n",
       "<title>2&#45;&#45;5</title>\n",
       "<path fill=\"none\" stroke=\"#66c2a5\" d=\"M51.55,-35.46C47.17,-48.59 41.2,-66.49 36.85,-79.54\"/>\n",
       "</g>\n",
       "<!-- 2&#45;&#45;6 -->\n",
       "<g id=\"edge21\" class=\"edge\">\n",
       "<title>2&#45;&#45;6</title>\n",
       "<path fill=\"none\" stroke=\"#66c2a5\" d=\"M42.02,-27.5C41.91,-27.57 41.8,-27.64 41.7,-27.7\"/>\n",
       "</g>\n",
       "<!-- 2&#45;&#45;7 -->\n",
       "<g id=\"edge22\" class=\"edge\">\n",
       "<title>2&#45;&#45;7</title>\n",
       "<path fill=\"none\" stroke=\"#66c2a5\" d=\"M73.14,-27.27C80.44,-31.56 89.08,-36.63 96.35,-40.91\"/>\n",
       "</g>\n",
       "<!-- 2&#45;&#45;8 -->\n",
       "<g id=\"edge23\" class=\"edge\">\n",
       "<title>2&#45;&#45;8</title>\n",
       "<path fill=\"none\" stroke=\"#66c2a5\" d=\"M60.98,-35.65C61.6,-38.68 62.24,-41.82 62.86,-44.85\"/>\n",
       "</g>\n",
       "<!-- 2&#45;&#45;9 -->\n",
       "<g id=\"edge24\" class=\"edge\">\n",
       "<title>2&#45;&#45;9</title>\n",
       "<path fill=\"none\" stroke=\"#66c2a5\" d=\"M75.31,-21.16C75.44,-21.18 75.56,-21.2 75.69,-21.22\"/>\n",
       "</g>\n",
       "<!-- 3&#45;&#45;4 -->\n",
       "<g id=\"edge25\" class=\"edge\">\n",
       "<title>3&#45;&#45;4</title>\n",
       "<path fill=\"none\" stroke=\"#66c2a5\" d=\"M76.3,-109.59C76.42,-109.57 76.53,-109.55 76.64,-109.52\"/>\n",
       "</g>\n",
       "<!-- 3&#45;&#45;5 -->\n",
       "<g id=\"edge26\" class=\"edge\">\n",
       "<title>3&#45;&#45;5</title>\n",
       "<path fill=\"none\" stroke=\"#66c2a5\" d=\"M42.84,-103.81C42.75,-103.75 42.65,-103.69 42.55,-103.64\"/>\n",
       "</g>\n",
       "<!-- 3&#45;&#45;6 -->\n",
       "<g id=\"edge27\" class=\"edge\">\n",
       "<title>3&#45;&#45;6</title>\n",
       "<path fill=\"none\" stroke=\"#66c2a5\" d=\"M51.93,-96.44C46.98,-83.53 40.18,-65.78 35.21,-52.81\"/>\n",
       "</g>\n",
       "<!-- 3&#45;&#45;7 -->\n",
       "<g id=\"edge28\" class=\"edge\">\n",
       "<title>3&#45;&#45;7</title>\n",
       "<path fill=\"none\" stroke=\"#66c2a5\" d=\"M70.25,-99.23C79.12,-88.75 91.19,-74.5 100.05,-64.03\"/>\n",
       "</g>\n",
       "<!-- 3&#45;&#45;8 -->\n",
       "<g id=\"edge29\" class=\"edge\">\n",
       "<title>3&#45;&#45;8</title>\n",
       "<path fill=\"none\" stroke=\"#66c2a5\" d=\"M61.26,-95.28C62.03,-90.51 62.86,-85.36 63.63,-80.59\"/>\n",
       "</g>\n",
       "<!-- 3&#45;&#45;9 -->\n",
       "<g id=\"edge30\" class=\"edge\">\n",
       "<title>3&#45;&#45;9</title>\n",
       "<path fill=\"none\" stroke=\"#66c2a5\" d=\"M64.64,-96.03C70.4,-80.21 78.89,-56.88 84.65,-41.08\"/>\n",
       "</g>\n",
       "<!-- 4&#45;&#45;5 -->\n",
       "<g id=\"edge31\" class=\"edge\">\n",
       "<title>4&#45;&#45;5</title>\n",
       "<path fill=\"none\" stroke=\"#66c2a5\" d=\"M71.9,-103.73C64.61,-102.47 56.22,-101.02 48.95,-99.76\"/>\n",
       "</g>\n",
       "<!-- 4&#45;&#45;6 -->\n",
       "<g id=\"edge32\" class=\"edge\">\n",
       "<title>4&#45;&#45;6</title>\n",
       "<path fill=\"none\" stroke=\"#66c2a5\" d=\"M78.04,-93.12C67.21,-80.54 51.25,-61.99 40.43,-49.42\"/>\n",
       "</g>\n",
       "<!-- 4&#45;&#45;7 -->\n",
       "<g id=\"edge33\" class=\"edge\">\n",
       "<title>4&#45;&#45;7</title>\n",
       "<path fill=\"none\" stroke=\"#66c2a5\" d=\"M96.45,-89.79C99.24,-82.6 102.49,-74.25 105.28,-67.07\"/>\n",
       "</g>\n",
       "<!-- 4&#45;&#45;8 -->\n",
       "<g id=\"edge34\" class=\"edge\">\n",
       "<title>4&#45;&#45;8</title>\n",
       "<path fill=\"none\" stroke=\"#66c2a5\" d=\"M81.41,-90.88C79.32,-86.93 77.08,-82.69 74.99,-78.73\"/>\n",
       "</g>\n",
       "<!-- 4&#45;&#45;9 -->\n",
       "<g id=\"edge35\" class=\"edge\">\n",
       "<title>4&#45;&#45;9</title>\n",
       "<path fill=\"none\" stroke=\"#66c2a5\" d=\"M90.06,-88.42C90.24,-74.58 90.49,-55.72 90.66,-41.97\"/>\n",
       "</g>\n",
       "<!-- 5&#45;&#45;6 -->\n",
       "<g id=\"edge36\" class=\"edge\">\n",
       "<title>5&#45;&#45;6</title>\n",
       "<path fill=\"none\" stroke=\"#66c2a5\" d=\"M30.39,-78.41C30.08,-70.7 29.72,-61.74 29.42,-54.03\"/>\n",
       "</g>\n",
       "<!-- 5&#45;&#45;7 -->\n",
       "<g id=\"edge37\" class=\"edge\">\n",
       "<title>5&#45;&#45;7</title>\n",
       "<path fill=\"none\" stroke=\"#66c2a5\" d=\"M47.09,-87.47C61.34,-79.24 82.09,-67.26 96.25,-59.08\"/>\n",
       "</g>\n",
       "<!-- 5&#45;&#45;8 -->\n",
       "<g id=\"edge38\" class=\"edge\">\n",
       "<title>5&#45;&#45;8</title>\n",
       "<path fill=\"none\" stroke=\"#66c2a5\" d=\"M44.3,-84.02C47.29,-81.15 50.46,-78.1 53.44,-75.23\"/>\n",
       "</g>\n",
       "<!-- 5&#45;&#45;9 -->\n",
       "<g id=\"edge39\" class=\"edge\">\n",
       "<title>5&#45;&#45;9</title>\n",
       "<path fill=\"none\" stroke=\"#66c2a5\" d=\"M42.65,-82.65C53.24,-69.76 68.84,-50.77 79.41,-37.89\"/>\n",
       "</g>\n",
       "<!-- 6&#45;&#45;7 -->\n",
       "<g id=\"edge40\" class=\"edge\">\n",
       "<title>6&#45;&#45;7</title>\n",
       "<path fill=\"none\" stroke=\"#66c2a5\" d=\"M46.74,-38.86C60.7,-41.25 79.93,-44.56 93.88,-46.95\"/>\n",
       "</g>\n",
       "<!-- 6&#45;&#45;8 -->\n",
       "<g id=\"edge41\" class=\"edge\">\n",
       "<title>6&#45;&#45;8</title>\n",
       "<path fill=\"none\" stroke=\"#66c2a5\" d=\"M43.63,-46.39C46.28,-48.27 49.03,-50.23 51.67,-52.11\"/>\n",
       "</g>\n",
       "<!-- 6&#45;&#45;9 -->\n",
       "<g id=\"edge42\" class=\"edge\">\n",
       "<title>6&#45;&#45;9</title>\n",
       "<path fill=\"none\" stroke=\"#66c2a5\" d=\"M46.68,-32.33C55,-30.74 64.86,-28.86 73.16,-27.28\"/>\n",
       "</g>\n",
       "<!-- 7&#45;&#45;8 -->\n",
       "<g id=\"edge43\" class=\"edge\">\n",
       "<title>7&#45;&#45;8</title>\n",
       "<path fill=\"none\" stroke=\"#66c2a5\" d=\"M94.48,-54.89C91.08,-55.83 87.51,-56.83 84.11,-57.77\"/>\n",
       "</g>\n",
       "<!-- 7&#45;&#45;9 -->\n",
       "<g id=\"edge44\" class=\"edge\">\n",
       "<title>7&#45;&#45;9</title>\n",
       "<path fill=\"none\" stroke=\"#66c2a5\" d=\"M100.42,-35.75C100.34,-35.65 100.26,-35.56 100.19,-35.46\"/>\n",
       "</g>\n",
       "<!-- 8&#45;&#45;9 -->\n",
       "<g id=\"edge45\" class=\"edge\">\n",
       "<title>8&#45;&#45;9</title>\n",
       "<path fill=\"none\" stroke=\"#66c2a5\" d=\"M76.15,-47.35C77.8,-44.72 79.52,-41.99 81.17,-39.37\"/>\n",
       "</g>\n",
       "</g>\n",
       "</svg>\n"
      ],
      "text/plain": [
       "<graphviz.sources.Source at 0x7f3cc4392c10>"
      ]
     },
     "execution_count": 17,
     "metadata": {},
     "output_type": "execute_result"
    }
   ],
   "source": [
    "GraphVisualizer(complete).plot_dot()"
   ]
  },
  {
   "cell_type": "markdown",
   "metadata": {
    "id": "MKT6NUAXBM2O"
   },
   "source": [
    "## Spanning tree\n",
    "A [spanning tree](https://en.wikipedia.org/wiki/Tree_(graph_theory)#:~:text=In%20graph%20theory%2C%20a%20tree,a%20connected%20acyclic%20undirected%20graph.&text=A%20polyforest%20(or%20directed%20forest,undirected%20graph%20is%20a%20forest) is a graph where, if the graph has `n` nodes, there are exactly `n-1` edges and the graph is connected."
   ]
  },
  {
   "cell_type": "code",
   "execution_count": 18,
   "metadata": {
    "id": "wyd48bf7BGP0"
   },
   "outputs": [],
   "source": [
    "tree = Graph.generate_random_spanning_tree()"
   ]
  },
  {
   "cell_type": "markdown",
   "metadata": {
    "id": "G_sk8Or0CZWd"
   },
   "source": [
    "Let's compute its report:"
   ]
  },
  {
   "cell_type": "code",
   "execution_count": 19,
   "metadata": {
    "colab": {
     "base_uri": "https://localhost:8080/",
     "height": 467
    },
    "id": "wjstAs8_CYcI",
    "outputId": "2b085194-33c4-42a9-f3d5-ed8f907b5b24"
   },
   "outputs": [
    {
     "data": {
      "text/html": [
       "<div class=\"graph-report\"><style>.graph-report li {margin: 0.5em 0 0.5em 0;}.graph-report .paragraph {text-align: justify;word-break: break-all;}.graph-report .small-columns {column-count: 4;column-gap: 2em;}.graph-report .medium-columns {column-count: 3;column-gap: 2em;}.graph-report .large-columns {column-count: 2;column-gap: 2em;}.graph-report .single-column {}@media only screen and (max-width: 600px) {.graph-report .small-columns {column-count: 1;}.graph-report .medium-columns {column-count: 1;}.graph-report .large-columns {column-count: 1;}}@media only screen and (min-width: 600px) and (max-width: 800px) {.graph-report .small-columns {column-count: 2;}.graph-report .medium-columns {column-count: 1;}.graph-report .large-columns {column-count: 1;}}@media only screen and (min-width: 800px) and (max-width: 1024px) {.graph-report .small-columns {column-count: 3;}.graph-report .medium-columns {column-count: 2;}.graph-report .large-columns {column-count: 1;}}</style><h2>Tree</h2><p class=\"paragraph\">The undirected graph Tree has 10 homogeneous nodes and 9 homogeneous edges. The graph is connected, that is, it is composed of a single connected component that includes all nodes and edges. The RAM requirements for the nodes and edges data structures are 80B and 280B respectively.</p><h3 style=\"margin: 1em 0 0 0;\">Degree centrality</h3><p class=\"paragraph\">The minimum node degree is 1, the maximum node degree is 3, the mode degree is 2, the mean degree is 1.80 and the node degree median is 2.</p><p class=\"paragraph\">The nodes with the highest degree centrality are 4 (degree 3 and node type tree), 7 (degree 3 and node type tree), 0 (degree 2 and node type tree), 1 (degree 2 and node type tree) and 5 (degree 2 and node type tree).</p><h3 style=\"margin: 1em 0 0 0;\">Node types</h3><p class=\"paragraph\">The graph has a single node type, which is tree. The RAM requirement for the node types data structure is 769B.</p><h4 style=\"margin: 1em 0 0 0;\">Homogeneous node types</h4><p class=\"paragraph\">Homogeneous node types are node types that are assigned to all the nodes in the graph, making the node type relatively meaningless, as it adds no more information than the fact that the node is in the graph. The graph contains a homogeneous node type, which is tree.</p><h3 style=\"margin: 1em 0 0 0;\">Edge types</h3><p class=\"paragraph\">The graph has a single edge type, which is tree. The RAM requirement for the edge types data structure is 310B.</p><h3 style=\"margin: 1em 0 0 0;\">Topological Oddities</h3><p class=\"paragraph\">A topological oddity is a set of nodes in the graph that <i>may be derived</i> by an error during the generation of the edge list of the graph and, depending on the task, could bias the results of topology-based models. In the following paragraph, we will describe the detected topological oddities.</p><h4 style=\"margin: 1em 0 0 0;\">Trees</h4><p class=\"paragraph\">A tree is a connected component with <code>n</code> nodes and <code>n-1</code> edges. We have detected  a single tree in the graph, involving a total of 10 nodes (100.00%) and 9 edges (50.00%).</p><ul class=\"large-columns\"><li><p class=\"paragraph\">Tree starting from the root node 9 (degree 2), and containing 10 nodes, with a maximal depth of 4, which are 1, 7 (degree 3), 8, 0 and 4 (degree 3). Its nodes have a single node type, which is tree. Its edges have a single edge type, which is tree.</p></li></ul></div>"
      ],
      "text/plain": [
       "<div class=\"graph-report\"><style>.graph-report li {margin: 0.5em 0 0.5em 0;}.graph-report .paragraph {text-align: justify;word-break: break-all;}.graph-report .small-columns {column-count: 4;column-gap: 2em;}.graph-report .medium-columns {column-count: 3;column-gap: 2em;}.graph-report .large-columns {column-count: 2;column-gap: 2em;}.graph-report .single-column {}@media only screen and (max-width: 600px) {.graph-report .small-columns {column-count: 1;}.graph-report .medium-columns {column-count: 1;}.graph-report .large-columns {column-count: 1;}}@media only screen and (min-width: 600px) and (max-width: 800px) {.graph-report .small-columns {column-count: 2;}.graph-report .medium-columns {column-count: 1;}.graph-report .large-columns {column-count: 1;}}@media only screen and (min-width: 800px) and (max-width: 1024px) {.graph-report .small-columns {column-count: 3;}.graph-report .medium-columns {column-count: 2;}.graph-report .large-columns {column-count: 1;}}</style><h2>Tree</h2><p class=\"paragraph\">The undirected graph Tree has 10 homogeneous nodes and 9 homogeneous edges. The graph is connected, that is, it is composed of a single connected component that includes all nodes and edges. The RAM requirements for the nodes and edges data structures are 80B and 280B respectively.</p><h3 style=\"margin: 1em 0 0 0;\">Degree centrality</h3><p class=\"paragraph\">The minimum node degree is 1, the maximum node degree is 3, the mode degree is 2, the mean degree is 1.80 and the node degree median is 2.</p><p class=\"paragraph\">The nodes with the highest degree centrality are 4 (degree 3 and node type tree), 7 (degree 3 and node type tree), 0 (degree 2 and node type tree), 1 (degree 2 and node type tree) and 5 (degree 2 and node type tree).</p><h3 style=\"margin: 1em 0 0 0;\">Node types</h3><p class=\"paragraph\">The graph has a single node type, which is tree. The RAM requirement for the node types data structure is 769B.</p><h4 style=\"margin: 1em 0 0 0;\">Homogeneous node types</h4><p class=\"paragraph\">Homogeneous node types are node types that are assigned to all the nodes in the graph, making the node type relatively meaningless, as it adds no more information than the fact that the node is in the graph. The graph contains a homogeneous node type, which is tree.</p><h3 style=\"margin: 1em 0 0 0;\">Edge types</h3><p class=\"paragraph\">The graph has a single edge type, which is tree. The RAM requirement for the edge types data structure is 310B.</p><h3 style=\"margin: 1em 0 0 0;\">Topological Oddities</h3><p class=\"paragraph\">A topological oddity is a set of nodes in the graph that <i>may be derived</i> by an error during the generation of the edge list of the graph and, depending on the task, could bias the results of topology-based models. In the following paragraph, we will describe the detected topological oddities.</p><h4 style=\"margin: 1em 0 0 0;\">Trees</h4><p class=\"paragraph\">A tree is a connected component with <code>n</code> nodes and <code>n-1</code> edges. We have detected  a single tree in the graph, involving a total of 10 nodes (100.00%) and 9 edges (50.00%).</p><ul class=\"large-columns\"><li><p class=\"paragraph\">Tree starting from the root node 9 (degree 2), and containing 10 nodes, with a maximal depth of 4, which are 1, 7 (degree 3), 8, 0 and 4 (degree 3). Its nodes have a single node type, which is tree. Its edges have a single edge type, which is tree.</p></li></ul></div>"
      ]
     },
     "execution_count": 19,
     "metadata": {},
     "output_type": "execute_result"
    }
   ],
   "source": [
    "tree"
   ]
  },
  {
   "cell_type": "markdown",
   "metadata": {
    "id": "6GmzDysKCcAj"
   },
   "source": [
    "And visualize it:"
   ]
  },
  {
   "cell_type": "code",
   "execution_count": 20,
   "metadata": {
    "colab": {
     "base_uri": "https://localhost:8080/",
     "height": 566
    },
    "id": "9U9rve4dCY0x",
    "outputId": "fc7fd3cd-ce32-46a8-883c-b76290fb5972"
   },
   "outputs": [
    {
     "data": {
      "image/svg+xml": [
       "<?xml version=\"1.0\" encoding=\"UTF-8\" standalone=\"no\"?>\n",
       "<!DOCTYPE svg PUBLIC \"-//W3C//DTD SVG 1.1//EN\"\n",
       " \"http://www.w3.org/Graphics/SVG/1.1/DTD/svg11.dtd\">\n",
       "<!-- Generated by graphviz version 2.50.0 (0)\n",
       " -->\n",
       "<!-- Title: G Pages: 1 -->\n",
       "<svg width=\"408pt\" height=\"409pt\"\n",
       " viewBox=\"0.00 0.00 408.03 408.96\" xmlns=\"http://www.w3.org/2000/svg\" xmlns:xlink=\"http://www.w3.org/1999/xlink\">\n",
       "<g id=\"graph0\" class=\"graph\" transform=\"scale(1 1) rotate(0) translate(4 404.96)\">\n",
       "<title>G</title>\n",
       "<polygon fill=\"white\" stroke=\"transparent\" points=\"-4,4 -4,-404.96 404.03,-404.96 404.03,4 -4,4\"/>\n",
       "<!-- 0 -->\n",
       "<g id=\"node1\" class=\"node\">\n",
       "<title>0</title>\n",
       "<ellipse fill=\"#66c2a5\" stroke=\"black\" cx=\"123.38\" cy=\"-88.97\" rx=\"18\" ry=\"18\"/>\n",
       "<text text-anchor=\"middle\" x=\"123.38\" y=\"-85.27\" font-family=\"Times,serif\" font-size=\"14.00\">0</text>\n",
       "</g>\n",
       "<!-- 6 -->\n",
       "<g id=\"node7\" class=\"node\">\n",
       "<title>6</title>\n",
       "<ellipse fill=\"#66c2a5\" stroke=\"black\" cx=\"95.92\" cy=\"-18\" rx=\"18\" ry=\"18\"/>\n",
       "<text text-anchor=\"middle\" x=\"95.92\" y=\"-14.3\" font-family=\"Times,serif\" font-size=\"14.00\">6</text>\n",
       "</g>\n",
       "<!-- 0&#45;&#45;6 -->\n",
       "<g id=\"edge1\" class=\"edge\">\n",
       "<title>0&#45;&#45;6</title>\n",
       "<path fill=\"none\" stroke=\"#66c2a5\" d=\"M116.87,-72.15C112.56,-61 106.91,-46.41 102.57,-35.19\"/>\n",
       "</g>\n",
       "<!-- 7 -->\n",
       "<g id=\"node8\" class=\"node\">\n",
       "<title>7</title>\n",
       "<ellipse fill=\"#66c2a5\" stroke=\"black\" cx=\"151.86\" cy=\"-165.78\" rx=\"18\" ry=\"18\"/>\n",
       "<text text-anchor=\"middle\" x=\"151.86\" y=\"-162.08\" font-family=\"Times,serif\" font-size=\"14.00\">7</text>\n",
       "</g>\n",
       "<!-- 0&#45;&#45;7 -->\n",
       "<g id=\"edge2\" class=\"edge\">\n",
       "<title>0&#45;&#45;7</title>\n",
       "<path fill=\"none\" stroke=\"#66c2a5\" d=\"M129.7,-106.01C134.42,-118.74 140.84,-136.06 145.55,-148.78\"/>\n",
       "</g>\n",
       "<!-- 1 -->\n",
       "<g id=\"node2\" class=\"node\">\n",
       "<title>1</title>\n",
       "<ellipse fill=\"#66c2a5\" stroke=\"black\" cx=\"308.27\" cy=\"-160.14\" rx=\"18\" ry=\"18\"/>\n",
       "<text text-anchor=\"middle\" x=\"308.27\" y=\"-156.44\" font-family=\"Times,serif\" font-size=\"14.00\">1</text>\n",
       "</g>\n",
       "<!-- 8 -->\n",
       "<g id=\"node9\" class=\"node\">\n",
       "<title>8</title>\n",
       "<ellipse fill=\"#66c2a5\" stroke=\"black\" cx=\"382.03\" cy=\"-159.8\" rx=\"18\" ry=\"18\"/>\n",
       "<text text-anchor=\"middle\" x=\"382.03\" y=\"-156.1\" font-family=\"Times,serif\" font-size=\"14.00\">8</text>\n",
       "</g>\n",
       "<!-- 1&#45;&#45;8 -->\n",
       "<g id=\"edge3\" class=\"edge\">\n",
       "<title>1&#45;&#45;8</title>\n",
       "<path fill=\"none\" stroke=\"#66c2a5\" d=\"M326.5,-160.05C337.93,-160 352.61,-159.94 364,-159.88\"/>\n",
       "</g>\n",
       "<!-- 9 -->\n",
       "<g id=\"node10\" class=\"node\">\n",
       "<title>9</title>\n",
       "<ellipse fill=\"#66c2a5\" stroke=\"black\" cx=\"232.76\" cy=\"-166.49\" rx=\"18\" ry=\"18\"/>\n",
       "<text text-anchor=\"middle\" x=\"232.76\" y=\"-162.79\" font-family=\"Times,serif\" font-size=\"14.00\">9</text>\n",
       "</g>\n",
       "<!-- 1&#45;&#45;9 -->\n",
       "<g id=\"edge4\" class=\"edge\">\n",
       "<title>1&#45;&#45;9</title>\n",
       "<path fill=\"none\" stroke=\"#66c2a5\" d=\"M289.99,-161.68C278.12,-162.67 262.71,-163.97 250.87,-164.97\"/>\n",
       "</g>\n",
       "<!-- 2 -->\n",
       "<g id=\"node3\" class=\"node\">\n",
       "<title>2</title>\n",
       "<ellipse fill=\"#66c2a5\" stroke=\"black\" cx=\"18\" cy=\"-220.82\" rx=\"18\" ry=\"18\"/>\n",
       "<text text-anchor=\"middle\" x=\"18\" y=\"-217.12\" font-family=\"Times,serif\" font-size=\"14.00\">2</text>\n",
       "</g>\n",
       "<!-- 4 -->\n",
       "<g id=\"node5\" class=\"node\">\n",
       "<title>4</title>\n",
       "<ellipse fill=\"#66c2a5\" stroke=\"black\" cx=\"98.46\" cy=\"-230.15\" rx=\"18\" ry=\"18\"/>\n",
       "<text text-anchor=\"middle\" x=\"98.46\" y=\"-226.45\" font-family=\"Times,serif\" font-size=\"14.00\">4</text>\n",
       "</g>\n",
       "<!-- 2&#45;&#45;4 -->\n",
       "<g id=\"edge5\" class=\"edge\">\n",
       "<title>2&#45;&#45;4</title>\n",
       "<path fill=\"none\" stroke=\"#66c2a5\" d=\"M36.26,-222.94C49.52,-224.48 67.37,-226.55 80.55,-228.08\"/>\n",
       "</g>\n",
       "<!-- 3 -->\n",
       "<g id=\"node4\" class=\"node\">\n",
       "<title>3</title>\n",
       "<ellipse fill=\"#66c2a5\" stroke=\"black\" cx=\"80.34\" cy=\"-382.96\" rx=\"18\" ry=\"18\"/>\n",
       "<text text-anchor=\"middle\" x=\"80.34\" y=\"-379.26\" font-family=\"Times,serif\" font-size=\"14.00\">3</text>\n",
       "</g>\n",
       "<!-- 5 -->\n",
       "<g id=\"node6\" class=\"node\">\n",
       "<title>5</title>\n",
       "<ellipse fill=\"#66c2a5\" stroke=\"black\" cx=\"97.99\" cy=\"-309.88\" rx=\"18\" ry=\"18\"/>\n",
       "<text text-anchor=\"middle\" x=\"97.99\" y=\"-306.18\" font-family=\"Times,serif\" font-size=\"14.00\">5</text>\n",
       "</g>\n",
       "<!-- 3&#45;&#45;5 -->\n",
       "<g id=\"edge6\" class=\"edge\">\n",
       "<title>3&#45;&#45;5</title>\n",
       "<path fill=\"none\" stroke=\"#66c2a5\" d=\"M84.61,-365.27C87.39,-353.78 90.99,-338.86 93.75,-327.4\"/>\n",
       "</g>\n",
       "<!-- 4&#45;&#45;5 -->\n",
       "<g id=\"edge7\" class=\"edge\">\n",
       "<title>4&#45;&#45;5</title>\n",
       "<path fill=\"none\" stroke=\"#66c2a5\" d=\"M98.35,-248.24C98.28,-261.29 98.17,-278.83 98.09,-291.86\"/>\n",
       "</g>\n",
       "<!-- 4&#45;&#45;7 -->\n",
       "<g id=\"edge8\" class=\"edge\">\n",
       "<title>4&#45;&#45;7</title>\n",
       "<path fill=\"none\" stroke=\"#66c2a5\" d=\"M110.05,-216.18C119,-205.39 131.34,-190.51 140.29,-179.72\"/>\n",
       "</g>\n",
       "<!-- 7&#45;&#45;9 -->\n",
       "<g id=\"edge9\" class=\"edge\">\n",
       "<title>7&#45;&#45;9</title>\n",
       "<path fill=\"none\" stroke=\"#66c2a5\" d=\"M170.21,-165.94C183.55,-166.06 201.5,-166.22 214.75,-166.33\"/>\n",
       "</g>\n",
       "</g>\n",
       "</svg>\n"
      ],
      "text/plain": [
       "<graphviz.sources.Source at 0x7f3cc439e1c0>"
      ]
     },
     "execution_count": 20,
     "metadata": {},
     "output_type": "execute_result"
    }
   ],
   "source": [
    "GraphVisualizer(tree).plot_dot(engine=\"neato\")"
   ]
  }
 ],
 "metadata": {
  "colab": {
   "authorship_tag": "ABX9TyO6tVy5b4NGs/oOGRYG4jak",
   "collapsed_sections": [],
   "include_colab_link": true,
   "name": "Graph generation.ipynb",
   "provenance": []
  },
  "kernelspec": {
   "display_name": "Python 3 (ipykernel)",
   "language": "python",
   "name": "python3"
  },
  "language_info": {
   "codemirror_mode": {
    "name": "ipython",
    "version": 3
   },
   "file_extension": ".py",
   "mimetype": "text/x-python",
   "name": "python",
   "nbconvert_exporter": "python",
   "pygments_lexer": "ipython3",
   "version": "3.9.7"
  }
 },
 "nbformat": 4,
 "nbformat_minor": 1
}
