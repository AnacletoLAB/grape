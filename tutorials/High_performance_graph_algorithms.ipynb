{
  "nbformat": 4,
  "nbformat_minor": 0,
  "metadata": {
    "colab": {
      "name": "High performance graph algorithms.ipynb",
      "provenance": [],
      "collapsed_sections": [],
      "authorship_tag": "ABX9TyMVQZor+vcUxHyjriyQUXJW",
      "include_colab_link": true
    },
    "kernelspec": {
      "name": "python3",
      "display_name": "Python 3"
    },
    "language_info": {
      "name": "python"
    }
  },
  "cells": [
    {
      "cell_type": "markdown",
      "metadata": {
        "id": "view-in-github",
        "colab_type": "text"
      },
      "source": [
        "<a href=\"https://colab.research.google.com/github/AnacletoLAB/grape/blob/main/tutorials/High_performance_graph_algorithms.ipynb\" target=\"_parent\"><img src=\"https://colab.research.google.com/assets/colab-badge.svg\" alt=\"Open In Colab\"/></a>"
      ]
    },
    {
      "cell_type": "markdown",
      "metadata": {
        "id": "ak0spO38nfcY"
      },
      "source": [
        "# High performance graph algorithms\n",
        "A number of high performance algorithms have been implemented in Ensmallen, a considerable portion of which is an implementation of algorithms described in the literature by [David Bader](https://davidbader.net/), who we thank for his contribution to the field of graph algorithms.\n",
        "\n",
        "See below for the algorithms available in Ensmallen.\n",
        "\n",
        "Note that all of these algorithms are highly parallel implementations, and these benchmarks are being run on COLAB which typically provides virtual machines with a very small number of cores: on a machine with a reasonable number of cores they will execute much faster.\n",
        "\n",
        "To install the GraPE library run:\n",
        "\n",
        "```bash\n",
        "pip install grape\n",
        "```\n",
        "\n",
        "To install exclusively the Ensmallen module, which may be useful when the TensorFlow dependency causes problems, do run:\n",
        "\n",
        "```bash\n",
        "pip install ensmallen\n",
        "```"
      ]
    },
    {
      "cell_type": "code",
      "metadata": {
        "id": "uN4fduLIh5_f"
      },
      "source": [
        "! pip install -q ensmallen"
      ],
      "execution_count": 1,
      "outputs": []
    },
    {
      "cell_type": "markdown",
      "metadata": {
        "id": "uP3ldPfkoE7U"
      },
      "source": [
        "## Retrieving a graph to run the sampling on\n",
        "In this tutorial we will run samples on one of the graph from the ones available from the automatic graph retrieval of Ensmallen, namely the [Homo Sapiens graph from STRING](https://string-db.org/cgi/organisms). If you want to load a graph from an edge list, just follow the examples provided from the [add reference to tutorial]."
      ]
    },
    {
      "cell_type": "code",
      "metadata": {
        "id": "ihuZVyIDn2e5"
      },
      "source": [
        "from ensmallen.datasets.string import HomoSapiens"
      ],
      "execution_count": 2,
      "outputs": []
    },
    {
      "cell_type": "markdown",
      "metadata": {
        "id": "9hcu5TLsoN4D"
      },
      "source": [
        "Retrieving and loading the graph"
      ]
    },
    {
      "cell_type": "code",
      "metadata": {
        "id": "41XZbGuSoL1S"
      },
      "source": [
        "graph = HomoSapiens()"
      ],
      "execution_count": 3,
      "outputs": []
    },
    {
      "cell_type": "markdown",
      "metadata": {
        "id": "FTJmbZowpO0k"
      },
      "source": [
        "We compute the graph report:"
      ]
    },
    {
      "cell_type": "code",
      "metadata": {
        "colab": {
          "base_uri": "https://localhost:8080/",
          "height": 634
        },
        "id": "YtqaUe9moTnp",
        "outputId": "2e727dbe-2bc7-453f-9bf2-8a887bff9387"
      },
      "source": [
        "graph"
      ],
      "execution_count": 4,
      "outputs": [
        {
          "output_type": "execute_result",
          "data": {
            "text/html": [
              "<h2>HomoSapiens</h2><p>The undirected graph HomoSapiens has 19566 nodes and 5969249 edges.</p><h3>RAM requirements</h3><p>The RAM requirements for the nodes and edges data structures are 5.21MB and 11.71MB respectively.</p><h3>Degree centrality</h3><p>The minimum node degree is 0, the maximum node degree is 7507, the mode degree is 0, the mean degree is 610.17 and the node degree median is 485.</p><p>The nodes with highest degree centrality are: <a href='https://string-db.org/network/9606.ENSP00000229239' target='_blank' title='Go to STRING Homo sapiens to get more informations about 9606.ENSP00000229239'>9606.ENSP00000229239</a> (degree 7507 and weighted degree 7507), <a href='https://string-db.org/network/9606.ENSP00000349960' target='_blank' title='Go to STRING Homo sapiens to get more informations about 9606.ENSP00000349960'>9606.ENSP00000349960</a> (degree 6940 and weighted degree 6940), <a href='https://string-db.org/network/9606.ENSP00000451828' target='_blank' title='Go to STRING Homo sapiens to get more informations about 9606.ENSP00000451828'>9606.ENSP00000451828</a> (degree 5918 and weighted degree 5918), <a href='https://string-db.org/network/9606.ENSP00000298910' target='_blank' title='Go to STRING Homo sapiens to get more informations about 9606.ENSP00000298910'>9606.ENSP00000298910</a> (degree 5804 and weighted degree 5804) and <a href='https://string-db.org/network/9606.ENSP00000269305' target='_blank' title='Go to STRING Homo sapiens to get more informations about 9606.ENSP00000269305'>9606.ENSP00000269305</a> (degree 5652 and weighted degree 5652).</p><h3>Disconnected nodes</h3><p>Disconnected nodes are nodes that are not connected to any other node.The graph contains 181 disconnected nodes.</p><h4>Singleton nodes</h4><p>Singleton nodes are nodes with no edge to other nodes nor selfloops. The graph contains 181 singleton nodes, which are <a href='https://string-db.org/network/9606.ENSP00000278779' target='_blank' title='Go to STRING Homo sapiens to get more informations about 9606.ENSP00000278779'>9606.ENSP00000278779</a>, <a href='https://string-db.org/network/9606.ENSP00000313324' target='_blank' title='Go to STRING Homo sapiens to get more informations about 9606.ENSP00000313324'>9606.ENSP00000313324</a>, <a href='https://string-db.org/network/9606.ENSP00000315794' target='_blank' title='Go to STRING Homo sapiens to get more informations about 9606.ENSP00000315794'>9606.ENSP00000315794</a>, <a href='https://string-db.org/network/9606.ENSP00000316644' target='_blank' title='Go to STRING Homo sapiens to get more informations about 9606.ENSP00000316644'>9606.ENSP00000316644</a> and <a href='https://string-db.org/network/9606.ENSP00000323241' target='_blank' title='Go to STRING Homo sapiens to get more informations about 9606.ENSP00000323241'>9606.ENSP00000323241</a>, plus other 176 singleton nodes.</p><h3>Weights</h3><p>The minimum edge weight is 150, the maximum edge weight is 999 and the total edge weight is 3342953700.</p><h4>Weighted degree centrality</h4><p>The minimum node degree is 0.00, the maximum node degree is 2277846.00, the mean degree is 170855.24 and the node degree median is 130738.</p><p>The nodes with highest degree centrality are: <a href='https://string-db.org/network/9606.ENSP00000269305' target='_blank' title='Go to STRING Homo sapiens to get more informations about 9606.ENSP00000269305'>9606.ENSP00000269305</a> (degree 5652 and weighted degree 5652), <a href='https://string-db.org/network/9606.ENSP00000229239' target='_blank' title='Go to STRING Homo sapiens to get more informations about 9606.ENSP00000229239'>9606.ENSP00000229239</a> (degree 7507 and weighted degree 7507), <a href='https://string-db.org/network/9606.ENSP00000349960' target='_blank' title='Go to STRING Homo sapiens to get more informations about 9606.ENSP00000349960'>9606.ENSP00000349960</a> (degree 6940 and weighted degree 6940), <a href='https://string-db.org/network/9606.ENSP00000479618' target='_blank' title='Go to STRING Homo sapiens to get more informations about 9606.ENSP00000479618'>9606.ENSP00000479618</a> (degree 5613 and weighted degree 5613) and <a href='https://string-db.org/network/9606.ENSP00000451828' target='_blank' title='Go to STRING Homo sapiens to get more informations about 9606.ENSP00000451828'>9606.ENSP00000451828</a> (degree 5918 and weighted degree 5918).</p><h4>RAM requirements</h4><p>The RAM requirements for the edge weights data structure is 47.75MB.</p>"
            ],
            "text/plain": [
              "<h2>HomoSapiens</h2><p>The undirected graph HomoSapiens has 19566 nodes and 5969249 edges.</p><h3>RAM requirements</h3><p>The RAM requirements for the nodes and edges data structures are 5.21MB and 11.71MB respectively.</p><h3>Degree centrality</h3><p>The minimum node degree is 0, the maximum node degree is 7507, the mode degree is 0, the mean degree is 610.17 and the node degree median is 485.</p><p>The nodes with highest degree centrality are: <a href='https://string-db.org/network/9606.ENSP00000229239' target='_blank' title='Go to STRING Homo sapiens to get more informations about 9606.ENSP00000229239'>9606.ENSP00000229239</a> (degree 7507 and weighted degree 7507), <a href='https://string-db.org/network/9606.ENSP00000349960' target='_blank' title='Go to STRING Homo sapiens to get more informations about 9606.ENSP00000349960'>9606.ENSP00000349960</a> (degree 6940 and weighted degree 6940), <a href='https://string-db.org/network/9606.ENSP00000451828' target='_blank' title='Go to STRING Homo sapiens to get more informations about 9606.ENSP00000451828'>9606.ENSP00000451828</a> (degree 5918 and weighted degree 5918), <a href='https://string-db.org/network/9606.ENSP00000298910' target='_blank' title='Go to STRING Homo sapiens to get more informations about 9606.ENSP00000298910'>9606.ENSP00000298910</a> (degree 5804 and weighted degree 5804) and <a href='https://string-db.org/network/9606.ENSP00000269305' target='_blank' title='Go to STRING Homo sapiens to get more informations about 9606.ENSP00000269305'>9606.ENSP00000269305</a> (degree 5652 and weighted degree 5652).</p><h3>Disconnected nodes</h3><p>Disconnected nodes are nodes that are not connected to any other node.The graph contains 181 disconnected nodes.</p><h4>Singleton nodes</h4><p>Singleton nodes are nodes with no edge to other nodes nor selfloops. The graph contains 181 singleton nodes, which are <a href='https://string-db.org/network/9606.ENSP00000278779' target='_blank' title='Go to STRING Homo sapiens to get more informations about 9606.ENSP00000278779'>9606.ENSP00000278779</a>, <a href='https://string-db.org/network/9606.ENSP00000313324' target='_blank' title='Go to STRING Homo sapiens to get more informations about 9606.ENSP00000313324'>9606.ENSP00000313324</a>, <a href='https://string-db.org/network/9606.ENSP00000315794' target='_blank' title='Go to STRING Homo sapiens to get more informations about 9606.ENSP00000315794'>9606.ENSP00000315794</a>, <a href='https://string-db.org/network/9606.ENSP00000316644' target='_blank' title='Go to STRING Homo sapiens to get more informations about 9606.ENSP00000316644'>9606.ENSP00000316644</a> and <a href='https://string-db.org/network/9606.ENSP00000323241' target='_blank' title='Go to STRING Homo sapiens to get more informations about 9606.ENSP00000323241'>9606.ENSP00000323241</a>, plus other 176 singleton nodes.</p><h3>Weights</h3><p>The minimum edge weight is 150, the maximum edge weight is 999 and the total edge weight is 3342953700.</p><h4>Weighted degree centrality</h4><p>The minimum node degree is 0.00, the maximum node degree is 2277846.00, the mean degree is 170855.24 and the node degree median is 130738.</p><p>The nodes with highest degree centrality are: <a href='https://string-db.org/network/9606.ENSP00000269305' target='_blank' title='Go to STRING Homo sapiens to get more informations about 9606.ENSP00000269305'>9606.ENSP00000269305</a> (degree 5652 and weighted degree 5652), <a href='https://string-db.org/network/9606.ENSP00000229239' target='_blank' title='Go to STRING Homo sapiens to get more informations about 9606.ENSP00000229239'>9606.ENSP00000229239</a> (degree 7507 and weighted degree 7507), <a href='https://string-db.org/network/9606.ENSP00000349960' target='_blank' title='Go to STRING Homo sapiens to get more informations about 9606.ENSP00000349960'>9606.ENSP00000349960</a> (degree 6940 and weighted degree 6940), <a href='https://string-db.org/network/9606.ENSP00000479618' target='_blank' title='Go to STRING Homo sapiens to get more informations about 9606.ENSP00000479618'>9606.ENSP00000479618</a> (degree 5613 and weighted degree 5613) and <a href='https://string-db.org/network/9606.ENSP00000451828' target='_blank' title='Go to STRING Homo sapiens to get more informations about 9606.ENSP00000451828'>9606.ENSP00000451828</a> (degree 5918 and weighted degree 5918).</p><h4>RAM requirements</h4><p>The RAM requirements for the edge weights data structure is 47.75MB.</p>"
            ]
          },
          "metadata": {},
          "execution_count": 4
        }
      ]
    },
    {
      "cell_type": "markdown",
      "metadata": {
        "id": "K7YCmTdwqZIJ"
      },
      "source": [
        "Enable the speedups"
      ]
    },
    {
      "cell_type": "code",
      "metadata": {
        "id": "TaN3hij5qYmv"
      },
      "source": [
        "graph.enable()"
      ],
      "execution_count": 5,
      "outputs": []
    },
    {
      "cell_type": "markdown",
      "metadata": {
        "id": "rpgGAM2rpeI-"
      },
      "source": [
        "## Random Spanning arborescence\n",
        "The spanning arborescence algorithm computes a set of edges, an [Arborescence](https://en.wikipedia.org/wiki/Arborescence_(graph_theory)), that is spanning, i.e cover all the nodes in the graph.\n",
        "\n",
        "This is an implementation of [A fast, parallel spanning tree algorithm for symmetric multiprocessors\n",
        "(SMPs)](https://davidbader.net/publication/2005-bc/2005-bc.pdf)."
      ]
    },
    {
      "cell_type": "code",
      "metadata": {
        "colab": {
          "base_uri": "https://localhost:8080/"
        },
        "id": "A7X7MYvapQhU",
        "outputId": "c34197d5-26ad-4af9-c3c6-be2371dbd2f9"
      },
      "source": [
        "%%time\n",
        "spanning_arborescence_edges = graph.spanning_arborescence()"
      ],
      "execution_count": 6,
      "outputs": [
        {
          "output_type": "stream",
          "name": "stdout",
          "text": [
            "CPU times: user 132 ms, sys: 211 µs, total: 132 ms\n",
            "Wall time: 73.5 ms\n"
          ]
        }
      ]
    },
    {
      "cell_type": "markdown",
      "metadata": {
        "id": "qmldYV-Xq3FJ"
      },
      "source": [
        "## Connected components\n",
        "The [connected components](https://en.wikipedia.org/wiki/Component_(graph_theory)) of a graph are the set of nodes connected one another by edges."
      ]
    },
    {
      "cell_type": "code",
      "metadata": {
        "colab": {
          "base_uri": "https://localhost:8080/"
        },
        "id": "n4aKiRrkqqfh",
        "outputId": "b42547be-c5ba-4a5e-e2e8-1591c0071d32"
      },
      "source": [
        "%%time\n",
        "(\n",
        "    connected_component_ids,\n",
        "    number_of_connected_components,\n",
        "    minimum_component_size,\n",
        "    maximum_component_size\n",
        ") = graph.connected_components()"
      ],
      "execution_count": 7,
      "outputs": [
        {
          "output_type": "stream",
          "name": "stdout",
          "text": [
            "CPU times: user 240 ms, sys: 123 µs, total: 240 ms\n",
            "Wall time: 127 ms\n"
          ]
        }
      ]
    },
    {
      "cell_type": "markdown",
      "metadata": {
        "id": "FAATPR4Sq8QT"
      },
      "source": [
        "## Diameter\n",
        "The following is an implementation of [On computing the diameter of real-world undirected graphs](https://who.rocq.inria.fr/Laurent.Viennot/road/papers/ifub.pdf)."
      ]
    },
    {
      "cell_type": "code",
      "metadata": {
        "colab": {
          "base_uri": "https://localhost:8080/"
        },
        "id": "XvmqLHpCq7fd",
        "outputId": "b69a04dd-ffa1-4827-98c5-13550b3da9c6"
      },
      "source": [
        "%%time\n",
        "diameter = graph.get_diameter(ignore_infinity=True)"
      ],
      "execution_count": 8,
      "outputs": [
        {
          "output_type": "stream",
          "name": "stdout",
          "text": [
            "CPU times: user 7.61 s, sys: 16.2 ms, total: 7.63 s\n",
            "Wall time: 3.99 s\n"
          ]
        }
      ]
    },
    {
      "cell_type": "markdown",
      "metadata": {
        "id": "q33sE2WCrYye"
      },
      "source": [
        "Note that most properties that boil down to a single value once computed are stored in a cache structure, so recomputing the diameter once it is done takes a significant smaller time."
      ]
    },
    {
      "cell_type": "code",
      "metadata": {
        "colab": {
          "base_uri": "https://localhost:8080/"
        },
        "id": "p6kWhUZorCSm",
        "outputId": "ded8e483-ce56-449b-c4fb-90b1d3c1a462"
      },
      "source": [
        "%%time\n",
        "diameter = graph.get_diameter(ignore_infinity=True)"
      ],
      "execution_count": 9,
      "outputs": [
        {
          "output_type": "stream",
          "name": "stdout",
          "text": [
            "CPU times: user 13 µs, sys: 1 µs, total: 14 µs\n",
            "Wall time: 16.5 µs\n"
          ]
        }
      ]
    },
    {
      "cell_type": "markdown",
      "metadata": {
        "id": "TsDpql0uyViv"
      },
      "source": [
        "## Clustering coefficient and triangles\n",
        "This is an implementation of [Faster Clustering Coefficient Using Vertex Covers](https://davidbader.net/publication/2013-g-ba/2013-g-ba.pdf), proving the average clustering coefficient, the total number of triangles and the number of triangles per node."
      ]
    },
    {
      "cell_type": "code",
      "metadata": {
        "colab": {
          "base_uri": "https://localhost:8080/"
        },
        "id": "zI9fkGWg0KCo",
        "outputId": "84d78d76-6aa3-4238-cb6a-eb274ff1c859"
      },
      "source": [
        "%%time\n",
        "graph.get_number_of_triangles()"
      ],
      "execution_count": 11,
      "outputs": [
        {
          "output_type": "stream",
          "name": "stdout",
          "text": [
            "CPU times: user 6min 10s, sys: 1 s, total: 6min 11s\n",
            "Wall time: 3min 8s\n"
          ]
        },
        {
          "output_type": "execute_result",
          "data": {
            "text/plain": [
              "798817778"
            ]
          },
          "metadata": {},
          "execution_count": 11
        }
      ]
    },
    {
      "cell_type": "code",
      "metadata": {
        "colab": {
          "base_uri": "https://localhost:8080/"
        },
        "id": "IIeUG81L1lOv",
        "outputId": "21dc9357-c0ef-44b6-ebc3-79aa57f9a38f"
      },
      "source": [
        "%%time\n",
        "graph.get_number_of_triangles_per_node()"
      ],
      "execution_count": 12,
      "outputs": [
        {
          "output_type": "stream",
          "name": "stdout",
          "text": [
            "CPU times: user 6min 26s, sys: 1.07 s, total: 6min 27s\n",
            "Wall time: 3min 16s\n"
          ]
        },
        {
          "output_type": "execute_result",
          "data": {
            "text/plain": [
              "array([189134,  27611, 256033, ...,      0,      0,   2014], dtype=uint32)"
            ]
          },
          "metadata": {},
          "execution_count": 12
        }
      ]
    },
    {
      "cell_type": "code",
      "metadata": {
        "colab": {
          "base_uri": "https://localhost:8080/"
        },
        "id": "7ADQ9L2eyU4E",
        "outputId": "7c39d618-764f-4b28-e23a-6c03f383e826"
      },
      "source": [
        "%%time\n",
        "graph.get_average_clustering_coefficient()"
      ],
      "execution_count": 14,
      "outputs": [
        {
          "output_type": "stream",
          "name": "stdout",
          "text": [
            "CPU times: user 6min 27s, sys: 1.1 s, total: 6min 28s\n",
            "Wall time: 3min 16s\n"
          ]
        },
        {
          "output_type": "execute_result",
          "data": {
            "text/plain": [
              "0.19341635847497163"
            ]
          },
          "metadata": {},
          "execution_count": 14
        }
      ]
    },
    {
      "cell_type": "code",
      "metadata": {
        "colab": {
          "base_uri": "https://localhost:8080/"
        },
        "id": "0ERtjN2S4Pzk",
        "outputId": "0f3361ea-a1e1-47a6-bb60-d8d7dab663cd"
      },
      "source": [
        "%%time\n",
        "graph.get_clustering_coefficient_per_node()"
      ],
      "execution_count": 16,
      "outputs": [
        {
          "output_type": "stream",
          "name": "stdout",
          "text": [
            "CPU times: user 6min 26s, sys: 1.1 s, total: 6min 27s\n",
            "Wall time: 3min 16s\n"
          ]
        },
        {
          "output_type": "execute_result",
          "data": {
            "text/plain": [
              "array([0.18254768, 0.24017919, 0.17728976, ..., 0.        , 0.        ,\n",
              "       0.59183074])"
            ]
          },
          "metadata": {},
          "execution_count": 16
        }
      ]
    }
  ]
}