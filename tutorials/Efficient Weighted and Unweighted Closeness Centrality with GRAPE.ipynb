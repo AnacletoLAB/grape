{
 "cells": [
  {
   "cell_type": "markdown",
   "id": "dcd995f4",
   "metadata": {},
   "source": [
    "# Efficient weighted and unweighted [closeness centrality](https://en.wikipedia.org/wiki/Closeness_centrality) with [GRAPE](https://github.com/AnacletoLAB/grape)\n",
    "In this tutorial, we will explore the concept of [closeness centrality](https://en.wikipedia.org/wiki/Closeness_centrality) and its importance in network analysis. By the end of this tutorial, you will have a good understanding of how to compute [closeness centrality](https://en.wikipedia.org/wiki/Closeness_centrality) and apply it to your own network analysis projects using [GRAPE](https://github.com/AnacletoLAB/grape).\n",
    "\n",
    "## Closeness centrality\n",
    "Closeness centrality is a popular graph metric used in network analysis to identify the most important or influential nodes within a network. **It measures how quickly information can spread from a given node to all other nodes in the network. A node with high closeness centrality is one that is closely connected to many other nodes in the network and is therefore able to communicate information to other nodes quickly.**\n",
    "\n",
    "Mathematically, the closeness centrality of a node is calculated as the reciprocal of the sum of its shortest path distances to all other nodes in the network. In other words, a node's closeness centrality is higher if it is closer to all other nodes in the network, and lower if it is farther away.\n",
    "\n",
    "Closeness centrality is particularly useful in settings where the efficiency of communication or transportation is important, such as in transportation networks, social networks, and communication networks. For example, in a transportation network, a node with high closeness centrality might represent a major transportation hub or a densely populated urban area, while a node with low closeness centrality might represent a rural area with poor transportation infrastructure.\n",
    "\n",
    "Closeness centrality can also be used in combination with other network metrics, such as degree centrality (which measures the number of connections a node has) and betweenness centrality (which measures the importance of a node in facilitating communication between other nodes) to gain a more complete understanding of a network's structure and function.\n",
    "\n",
    "We will then demonstrate how to use the [GRAPE](https://github.com/AnacletoLAB/grape) library to compute [closeness centrality](https://en.wikipedia.org/wiki/Closeness_centrality) on three citation graphs and three protein-protein interaction graphs.\n",
    "\n",
    "[Find the Rust implementation here](https://github.com/AnacletoLAB/ensmallen/blob/f7c7782d061aa1bb18ea476cf8a1a59def052f96/graph/src/centrality.rs#L227).\n",
    "\n",
    "### Weighted closeness centrality\n",
    "Weighted closeness centrality is a variation of the standard closeness centrality measure that takes into account the weights or distances between nodes in a network. In this measure, instead of using a simple breadth-first search (BFS) to calculate the shortest path distances between nodes, a Dijkstra algorithm is used to compute the shortest paths taking into account the weights of the edges. This approach is particularly useful when the edges of the network have different costs or weights, such as in transportation networks where the distance between two nodes may depend on the mode of transportation or the time of day. By incorporating edge weights into the calculation, the weighted closeness centrality measure provides a more accurate and nuanced view of the importance of nodes in a network. It can be used to identify nodes that are not only closely connected to other nodes, but also well-connected to important or influential nodes, thus providing a more comprehensive picture of the network's structure and function.\n",
    "\n",
    "[Find the Rust implementation here](https://github.com/AnacletoLAB/ensmallen/blob/f7c7782d061aa1bb18ea476cf8a1a59def052f96/graph/src/centrality.rs#L254)\n",
    "\n",
    "### Weight as probabilities closeness centrality\n",
    "In certain graphs, such as the STRING protein-protein interaction network, the edge weights represent probabilities rather than actual distances or costs. In these cases, the most probable path between two nodes may not necessarily be the shortest path in terms of distance or cost. To account for this, we can adjust the weights of the edges to reflect the likelihood of each path. Specifically, we can convert the edge weights into log-odds scores, which represent the probability of a given path compared to a background probability of all possible paths. Then, we can apply a Dijkstra algorithm using these log-odds scores to find the most likely path between two nodes. By taking into account the probability of each path, this approach can provide a more accurate and informative measure of closeness centrality in graphs with probabilistic weights.\n",
    "\n",
    "## What is [GRAPE](https://github.com/AnacletoLAB/grape)?\n",
    "🍇🍇 [GRAPE](https://github.com/AnacletoLAB/grape) 🍇🍇 is a graph processing and embedding library that enables users to easily manipulate and analyze graphs. With [GRAPE](https://github.com/AnacletoLAB/grape), users can efficiently load and preprocess graphs, generate random walks, and apply various node and edge embedding models. Additionally, [GRAPE](https://github.com/AnacletoLAB/grape) provides a fair and reproducible evaluation pipeline for comparing different graph embedding and graph-based prediction methods.\n",
    "\n",
    "![[GRAPE](https://github.com/AnacletoLAB/grape)](https://github.com/AnacletoLAB/grape/raw/main/images/sequence_diagram.png?raw=true)]"
   ]
  },
  {
   "cell_type": "markdown",
   "id": "d971cf68",
   "metadata": {},
   "source": [
    "## Experiments\n",
    "In this section, we will present the results of our experiments using the parallel closeness centrality algorithm implemented in GRAPE. We loaded three citation graphs, Cora, CiteSeer, and PubmedDiabetes, and three protein-protein interaction graphs, Homo Sapiens, Canis Lupus, and Mus Musculus. We will show the closeness centrality scores of each graph as histograms, which will give us an insight into the centrality of nodes in the network. By comparing the results of these experiments, we will be able to understand the performance of the algorithm on different types of graphs and the distribution of closeness centrality scores in each graph."
   ]
  },
  {
   "cell_type": "code",
   "execution_count": 1,
   "id": "37cb793c",
   "metadata": {},
   "outputs": [
    {
     "name": "stderr",
     "output_type": "stream",
     "text": [
      "2023-05-02 21:53:41.514423: W tensorflow/stream_executor/platform/default/dso_loader.cc:64] Could not load dynamic library 'libcudart.so.11.0'; dlerror: libcudart.so.11.0: cannot open shared object file: No such file or directory\n",
      "2023-05-02 21:53:41.514445: I tensorflow/stream_executor/cuda/cudart_stub.cc:29] Ignore above cudart dlerror if you do not have a GPU set up on your machine.\n"
     ]
    }
   ],
   "source": [
    "from grape.datasets.linqs import Cora, CiteSeer, PubMedDiabetes, get_words_data\n",
    "\n",
    "cora = Cora()\n",
    "citeseer = CiteSeer()\n",
    "pubmed = PubMedDiabetes()"
   ]
  },
  {
   "cell_type": "code",
   "execution_count": 2,
   "id": "f7413a15",
   "metadata": {},
   "outputs": [
    {
     "data": {
      "text/plain": [
       "(4141, 108988, 6.0)"
      ]
     },
     "execution_count": 2,
     "metadata": {},
     "output_type": "execute_result"
    }
   ],
   "source": [
    "(cora.get_number_of_nodes(), cora.get_number_of_directed_edges(), cora.get_diameter())"
   ]
  },
  {
   "cell_type": "code",
   "execution_count": 3,
   "id": "d766c492",
   "metadata": {},
   "outputs": [
    {
     "name": "stdout",
     "output_type": "stream",
     "text": [
      "CPU times: user 1.06 s, sys: 437 µs, total: 1.06 s\n",
      "Wall time: 45.4 ms\n"
     ]
    }
   ],
   "source": [
    "%%time\n",
    "cora_closeness = cora.get_closeness_centrality()"
   ]
  },
  {
   "cell_type": "code",
   "execution_count": 4,
   "id": "5c65cb30",
   "metadata": {},
   "outputs": [
    {
     "data": {
      "image/png": "[encoded data removed]",
      "text/plain": [
       "<Figure size 432x288 with 1 Axes>"
      ]
     },
     "metadata": {
      "needs_background": "light"
     },
     "output_type": "display_data"
    }
   ],
   "source": [
    "import matplotlib.pyplot as plt\n",
    "\n",
    "plt.hist(cora_closeness, bins=50, log=True)\n",
    "plt.show()"
   ]
  },
  {
   "cell_type": "code",
   "execution_count": 5,
   "id": "7e31fffd",
   "metadata": {},
   "outputs": [
    {
     "data": {
      "text/plain": [
       "(7030, 219558, 6.0)"
      ]
     },
     "execution_count": 5,
     "metadata": {},
     "output_type": "execute_result"
    }
   ],
   "source": [
    "(citeseer.get_number_of_nodes(), citeseer.get_number_of_directed_edges(), citeseer.get_diameter())"
   ]
  },
  {
   "cell_type": "code",
   "execution_count": 6,
   "id": "273c2a75",
   "metadata": {},
   "outputs": [
    {
     "name": "stdout",
     "output_type": "stream",
     "text": [
      "CPU times: user 3.49 s, sys: 12.1 ms, total: 3.51 s\n",
      "Wall time: 148 ms\n"
     ]
    }
   ],
   "source": [
    "%%time\n",
    "citeseer_closeness = citeseer.get_closeness_centrality()"
   ]
  },
  {
   "cell_type": "code",
   "execution_count": 7,
   "id": "7aceb9d3",
   "metadata": {},
   "outputs": [
    {
     "data": {
      "image/png": "[encoded data removed]",
      "text/plain": [
       "<Figure size 432x288 with 1 Axes>"
      ]
     },
     "metadata": {
      "needs_background": "light"
     },
     "output_type": "display_data"
    }
   ],
   "source": [
    "import matplotlib.pyplot as plt\n",
    "\n",
    "plt.hist(citeseer_closeness, bins=50, log=True)\n",
    "plt.show()"
   ]
  },
  {
   "cell_type": "code",
   "execution_count": 8,
   "id": "8ce1d2f9",
   "metadata": {},
   "outputs": [
    {
     "data": {
      "text/plain": [
       "(20217, 2064713, 4.0)"
      ]
     },
     "execution_count": 8,
     "metadata": {},
     "output_type": "execute_result"
    }
   ],
   "source": [
    "(pubmed.get_number_of_nodes(), pubmed.get_number_of_directed_edges(), pubmed.get_diameter())"
   ]
  },
  {
   "cell_type": "code",
   "execution_count": 9,
   "id": "978d12f2",
   "metadata": {},
   "outputs": [
    {
     "name": "stdout",
     "output_type": "stream",
     "text": [
      "CPU times: user 1min 13s, sys: 0 ns, total: 1min 13s\n",
      "Wall time: 3.07 s\n"
     ]
    }
   ],
   "source": [
    "%%time\n",
    "pubmed_closeness = pubmed.get_closeness_centrality()"
   ]
  },
  {
   "cell_type": "code",
   "execution_count": 10,
   "id": "b3ad0f7b",
   "metadata": {},
   "outputs": [
    {
     "data": {
      "image/png": "[encoded data removed]",
      "text/plain": [
       "<Figure size 432x288 with 1 Axes>"
      ]
     },
     "metadata": {
      "needs_background": "light"
     },
     "output_type": "display_data"
    }
   ],
   "source": [
    "import matplotlib.pyplot as plt\n",
    "\n",
    "plt.hist(pubmed_closeness, bins=50, log=True)\n",
    "plt.show()"
   ]
  },
  {
   "cell_type": "code",
   "execution_count": 11,
   "id": "dfd8eb10",
   "metadata": {},
   "outputs": [],
   "source": [
    "from IPython.display import display, HTML, Markdown\n",
    "from typing import List, Tuple\n",
    "import matplotlib.pyplot as plt\n",
    "from ensmallen import Graph\n",
    "import numpy as np\n",
    "import pandas as pd\n",
    "from time import time\n",
    "\n",
    "def top_ranked_values(\n",
    "    graph: Graph,\n",
    "    score: np.ndarray,\n",
    "    k: int = 10\n",
    ") -> List[Tuple[float, int]]:\n",
    "    \"\"\"Return.\n",
    "    \n",
    "    Parameters\n",
    "    ----------------\n",
    "    graph: Graph\n",
    "        The graph whose nodes are to be ranked.\n",
    "    score: np.ndarray\n",
    "        The scores to use for the ranking.\n",
    "    k: int = 10\n",
    "        Number of values to rank.\n",
    "    \"\"\"\n",
    "    return sorted([\n",
    "        (\n",
    "            score[node_id],\n",
    "            graph.get_node_name_from_node_id(node_id),\n",
    "        )\n",
    "        for node_id in np.argpartition(score, -k)[-k:]\n",
    "    ], reverse=True)\n",
    "\n",
    "\n",
    "def closeness_report(graph: Graph):\n",
    "    display(Markdown(\n",
    "        f\"## {graph.get_name()}\\n\"\n",
    "        f\"The current graph, {graph.get_name()}, \"\n",
    "        f\"has {graph.get_number_of_nodes()} and \"\n",
    "        f\"{graph.get_number_of_directed_edges()} edges. \"\n",
    "        f\"The diameter of the graph is {graph.get_diameter()}.\"\n",
    "    ))\n",
    "    \n",
    "    display(Markdown(\n",
    "        \"### Unweighted closeness centrality\\n\"\n",
    "        \"We will now compute the **unweighted** closeness centrality with the following one-liner:\\n\"\n",
    "        \"\\n\\n\"\n",
    "        \"```python\\n\"\n",
    "        \"unweighted_closeness = graph.get_closeness_centrality()\\n\"\n",
    "        \"```\\n\"\n",
    "    ))\n",
    "    \n",
    "    start = time()\n",
    "    unweighted_closeness = graph.get_closeness_centrality()\n",
    "    delta = time() - start\n",
    "    \n",
    "    display(Markdown(\n",
    "        f\"Computing the unweighted closeness centrality took {delta:.4} seconds.\"\n",
    "    ))\n",
    "    \n",
    "    display(Markdown(\n",
    "        \"And let's now display the histogram of the unweighted closeness centralities:\"\n",
    "    ))\n",
    "    \n",
    "    plt.hist(unweighted_closeness, bins=50, log=True)\n",
    "    plt.title(\"Unweighted closeness centrality\")\n",
    "    plt.show()\n",
    "    \n",
    "    display(Markdown(\n",
    "        \"Let's see which of the proteins in this graph have the highest closeness centrality:\"\n",
    "    ))\n",
    "    \n",
    "    display(pd.DataFrame(\n",
    "        top_ranked_values(graph, unweighted_closeness),\n",
    "        columns=[\"unweighted_closeness\", \"protein\"]\n",
    "    ))\n",
    "    \n",
    "    display(Markdown(\n",
    "        \"### Weighted closeness centrality\\n\"\n",
    "        \"We will now compute the **weighted** closeness centrality with the following one-liner:\\n\"\n",
    "        \"\\n\\n\"\n",
    "        \"```python\\n\"\n",
    "        \"weighted_closeness = graph.get_weighted_closeness_centrality()\\n\"\n",
    "        \"```\\n\"\n",
    "    ))\n",
    "    \n",
    "    start = time()\n",
    "    weighted_closeness = graph.get_weighted_closeness_centrality()\n",
    "    delta = time() - start\n",
    "    \n",
    "    display(Markdown(\n",
    "        f\"Computing the weighted closeness centrality took {delta:.4} seconds.\"\n",
    "    ))\n",
    "    \n",
    "    display(Markdown(\n",
    "        \"And let's now display the histogram of the weighted closeness centralities:\"\n",
    "    ))\n",
    "    \n",
    "    plt.hist(weighted_closeness, bins=50, log=True)\n",
    "    plt.title(\"Weighted closeness centrality\")\n",
    "    plt.show()\n",
    "    \n",
    "    display(Markdown(\n",
    "        \"Let's see which of the proteins in this graph have the highest weighted closeness centrality:\"\n",
    "    ))\n",
    "    \n",
    "    display(pd.DataFrame(\n",
    "        top_ranked_values(graph, weighted_closeness),\n",
    "        columns=[\"weighted_closeness\", \"protein\"]\n",
    "    ))\n",
    "    \n",
    "    display(Markdown(\n",
    "        \"### Weight as probabilities closeness centrality\\n\"\n",
    "        \"We will now compute the **probability weights** closeness centrality with the following couple lines:\\n\"\n",
    "        \"\\n\\n\"\n",
    "        \"```python\\n\"\n",
    "        \"# First, we normalize the PPI graph weights which go from 100 to 1000\\n\"\n",
    "        \"graph = graph.divide_edge_weights(1000.0)\\n\"\n",
    "        \"# then, we compute the centralities\\n\"\n",
    "        \"probability_closeness = graph.get_weighted_closeness_centrality(\\n\"\n",
    "        \"\\tuse_edge_weights_as_probabilities=True\\n\"\n",
    "        \")\\n\"\n",
    "        \"```\\n\"\n",
    "    ))\n",
    "    \n",
    "    graph = graph.divide_edge_weights(1000.0)\n",
    "\n",
    "    start = time()\n",
    "    probability_closeness = graph.get_weighted_closeness_centrality(\n",
    "        use_edge_weights_as_probabilities=True\n",
    "    )\n",
    "    delta = time() - start\n",
    "    \n",
    "    display(Markdown(\n",
    "        f\"Computing the probability closeness centrality took {delta:.4} seconds.\"\n",
    "    ))\n",
    "    \n",
    "    display(Markdown(\n",
    "        \"And let's now display the histogram of the probability closeness centralities:\"\n",
    "    ))\n",
    "    \n",
    "    plt.hist(probability_closeness, bins=50, log=True)\n",
    "    plt.title(\"Log-probability closeness centrality\")\n",
    "    plt.show()\n",
    "    \n",
    "    display(Markdown(\n",
    "        \"Let's see which of the proteins in this graph have the highest log-probability closeness centrality:\"\n",
    "    ))\n",
    "    \n",
    "    display(pd.DataFrame(\n",
    "        top_ranked_values(graph, probability_closeness),\n",
    "        columns=[\"probability_closeness\", \"protein\"]\n",
    "    ))"
   ]
  },
  {
   "cell_type": "code",
   "execution_count": 12,
   "id": "acc859d8",
   "metadata": {},
   "outputs": [],
   "source": [
    "from grape.datasets.string import HomoSapiens, CanisLupusFamiliaris, MusMusculus\n",
    "\n",
    "homo_sapiens = HomoSapiens()\n",
    "doggo = CanisLupusFamiliaris()\n",
    "mouse = MusMusculus()\n",
    "\n",
    "# We only keep the main connected component\n",
    "homo_sapiens = homo_sapiens.remove_components(top_k_components=1)\n",
    "doggo = doggo.remove_components(top_k_components=1)\n",
    "mouse = mouse.remove_components(top_k_components=1)"
   ]
  },
  {
   "cell_type": "code",
   "execution_count": 13,
   "id": "5e19fdcb",
   "metadata": {
    "scrolled": false
   },
   "outputs": [
    {
     "data": {
      "text/markdown": [
       "## HomoSapiens\n",
       "The current graph, HomoSapiens, has 19385 and 11938498 edges. The diameter of the graph is 5.0."
      ],
      "text/plain": [
       "<IPython.core.display.Markdown object>"
      ]
     },
     "metadata": {},
     "output_type": "display_data"
    },
    {
     "data": {
      "text/markdown": [
       "### Unweighted closeness centrality\n",
       "We will now compute the **unweighted** closeness centrality with the following one-liner:\n",
       "\n",
       "\n",
       "```python\n",
       "unweighted_closeness = graph.get_closeness_centrality()\n",
       "```\n"
      ],
      "text/plain": [
       "<IPython.core.display.Markdown object>"
      ]
     },
     "metadata": {},
     "output_type": "display_data"
    },
    {
     "data": {
      "text/markdown": [
       "Computing the unweighted closeness centrality took 20.31 seconds."
      ],
      "text/plain": [
       "<IPython.core.display.Markdown object>"
      ]
     },
     "metadata": {},
     "output_type": "display_data"
    },
    {
     "data": {
      "text/markdown": [
       "And let's now display the histogram of the unweighted closeness centralities:"
      ],
      "text/plain": [
       "<IPython.core.display.Markdown object>"
      ]
     },
     "metadata": {},
     "output_type": "display_data"
    },
    {
     "data": {
      "image/png": "[encoded data removed]",
      "text/plain": [
       "<Figure size 432x288 with 1 Axes>"
      ]
     },
     "metadata": {
      "needs_background": "light"
     },
     "output_type": "display_data"
    },
    {
     "data": {
      "text/markdown": [
       "Let's see which of the proteins in this graph have the highest closeness centrality:"
      ],
      "text/plain": [
       "<IPython.core.display.Markdown object>"
      ]
     },
     "metadata": {},
     "output_type": "display_data"
    },
    {
     "data": {
      "text/html": [
       "<div>\n",
       "<style scoped>\n",
       "    .dataframe tbody tr th:only-of-type {\n",
       "        vertical-align: middle;\n",
       "    }\n",
       "\n",
       "    .dataframe tbody tr th {\n",
       "        vertical-align: top;\n",
       "    }\n",
       "\n",
       "    .dataframe thead th {\n",
       "        text-align: right;\n",
       "    }\n",
       "</style>\n",
       "<table border=\"1\" class=\"dataframe\">\n",
       "  <thead>\n",
       "    <tr style=\"text-align: right;\">\n",
       "      <th></th>\n",
       "      <th>unweighted_closeness</th>\n",
       "      <th>protein</th>\n",
       "    </tr>\n",
       "  </thead>\n",
       "  <tbody>\n",
       "    <tr>\n",
       "      <th>0</th>\n",
       "      <td>0.000032</td>\n",
       "      <td>9606.ENSP00000229239</td>\n",
       "    </tr>\n",
       "    <tr>\n",
       "      <th>1</th>\n",
       "      <td>0.000031</td>\n",
       "      <td>9606.ENSP00000349960</td>\n",
       "    </tr>\n",
       "    <tr>\n",
       "      <th>2</th>\n",
       "      <td>0.000030</td>\n",
       "      <td>9606.ENSP00000451828</td>\n",
       "    </tr>\n",
       "    <tr>\n",
       "      <th>3</th>\n",
       "      <td>0.000030</td>\n",
       "      <td>9606.ENSP00000298910</td>\n",
       "    </tr>\n",
       "    <tr>\n",
       "      <th>4</th>\n",
       "      <td>0.000030</td>\n",
       "      <td>9606.ENSP00000269305</td>\n",
       "    </tr>\n",
       "    <tr>\n",
       "      <th>5</th>\n",
       "      <td>0.000030</td>\n",
       "      <td>9606.ENSP00000479618</td>\n",
       "    </tr>\n",
       "    <tr>\n",
       "      <th>6</th>\n",
       "      <td>0.000030</td>\n",
       "      <td>9606.ENSP00000344456</td>\n",
       "    </tr>\n",
       "    <tr>\n",
       "      <th>7</th>\n",
       "      <td>0.000030</td>\n",
       "      <td>9606.ENSP00000295897</td>\n",
       "    </tr>\n",
       "    <tr>\n",
       "      <th>8</th>\n",
       "      <td>0.000029</td>\n",
       "      <td>9606.ENSP00000275493</td>\n",
       "    </tr>\n",
       "    <tr>\n",
       "      <th>9</th>\n",
       "      <td>0.000029</td>\n",
       "      <td>9606.ENSP00000335153</td>\n",
       "    </tr>\n",
       "  </tbody>\n",
       "</table>\n",
       "</div>"
      ],
      "text/plain": [
       "   unweighted_closeness               protein\n",
       "0              0.000032  9606.ENSP00000229239\n",
       "1              0.000031  9606.ENSP00000349960\n",
       "2              0.000030  9606.ENSP00000451828\n",
       "3              0.000030  9606.ENSP00000298910\n",
       "4              0.000030  9606.ENSP00000269305\n",
       "5              0.000030  9606.ENSP00000479618\n",
       "6              0.000030  9606.ENSP00000344456\n",
       "7              0.000030  9606.ENSP00000295897\n",
       "8              0.000029  9606.ENSP00000275493\n",
       "9              0.000029  9606.ENSP00000335153"
      ]
     },
     "metadata": {},
     "output_type": "display_data"
    },
    {
     "data": {
      "text/markdown": [
       "### Weighted closeness centrality\n",
       "We will now compute the **weighted** closeness centrality with the following one-liner:\n",
       "\n",
       "\n",
       "```python\n",
       "weighted_closeness = graph.get_weighted_closeness_centrality()\n",
       "```\n"
      ],
      "text/plain": [
       "<IPython.core.display.Markdown object>"
      ]
     },
     "metadata": {},
     "output_type": "display_data"
    },
    {
     "data": {
      "text/markdown": [
       "Computing the weighted closeness centrality took 65.18 seconds."
      ],
      "text/plain": [
       "<IPython.core.display.Markdown object>"
      ]
     },
     "metadata": {},
     "output_type": "display_data"
    },
    {
     "data": {
      "text/markdown": [
       "And let's now display the histogram of the weighted closeness centralities:"
      ],
      "text/plain": [
       "<IPython.core.display.Markdown object>"
      ]
     },
     "metadata": {},
     "output_type": "display_data"
    },
    {
     "data": {
      "image/png": "[encoded data removed]",
      "text/plain": [
       "<Figure size 432x288 with 1 Axes>"
      ]
     },
     "metadata": {
      "needs_background": "light"
     },
     "output_type": "display_data"
    },
    {
     "data": {
      "text/markdown": [
       "Let's see which of the proteins in this graph have the highest weighted closeness centrality:"
      ],
      "text/plain": [
       "<IPython.core.display.Markdown object>"
      ]
     },
     "metadata": {},
     "output_type": "display_data"
    },
    {
     "data": {
      "text/html": [
       "<div>\n",
       "<style scoped>\n",
       "    .dataframe tbody tr th:only-of-type {\n",
       "        vertical-align: middle;\n",
       "    }\n",
       "\n",
       "    .dataframe tbody tr th {\n",
       "        vertical-align: top;\n",
       "    }\n",
       "\n",
       "    .dataframe thead th {\n",
       "        text-align: right;\n",
       "    }\n",
       "</style>\n",
       "<table border=\"1\" class=\"dataframe\">\n",
       "  <thead>\n",
       "    <tr style=\"text-align: right;\">\n",
       "      <th></th>\n",
       "      <th>weighted_closeness</th>\n",
       "      <th>protein</th>\n",
       "    </tr>\n",
       "  </thead>\n",
       "  <tbody>\n",
       "    <tr>\n",
       "      <th>0</th>\n",
       "      <td>1.116411e-07</td>\n",
       "      <td>9606.ENSP00000378401</td>\n",
       "    </tr>\n",
       "    <tr>\n",
       "      <th>1</th>\n",
       "      <td>1.107156e-07</td>\n",
       "      <td>9606.ENSP00000417132</td>\n",
       "    </tr>\n",
       "    <tr>\n",
       "      <th>2</th>\n",
       "      <td>1.104671e-07</td>\n",
       "      <td>9606.ENSP00000366898</td>\n",
       "    </tr>\n",
       "    <tr>\n",
       "      <th>3</th>\n",
       "      <td>1.103345e-07</td>\n",
       "      <td>9606.ENSP00000312778</td>\n",
       "    </tr>\n",
       "    <tr>\n",
       "      <th>4</th>\n",
       "      <td>1.103202e-07</td>\n",
       "      <td>9606.ENSP00000260264</td>\n",
       "    </tr>\n",
       "    <tr>\n",
       "      <th>5</th>\n",
       "      <td>1.098526e-07</td>\n",
       "      <td>9606.ENSP00000354560</td>\n",
       "    </tr>\n",
       "    <tr>\n",
       "      <th>6</th>\n",
       "      <td>1.097866e-07</td>\n",
       "      <td>9606.ENSP00000312734</td>\n",
       "    </tr>\n",
       "    <tr>\n",
       "      <th>7</th>\n",
       "      <td>1.097836e-07</td>\n",
       "      <td>9606.ENSP00000305714</td>\n",
       "    </tr>\n",
       "    <tr>\n",
       "      <th>8</th>\n",
       "      <td>1.094497e-07</td>\n",
       "      <td>9606.ENSP00000444201</td>\n",
       "    </tr>\n",
       "    <tr>\n",
       "      <th>9</th>\n",
       "      <td>1.092497e-07</td>\n",
       "      <td>9606.ENSP00000378132</td>\n",
       "    </tr>\n",
       "  </tbody>\n",
       "</table>\n",
       "</div>"
      ],
      "text/plain": [
       "   weighted_closeness               protein\n",
       "0        1.116411e-07  9606.ENSP00000378401\n",
       "1        1.107156e-07  9606.ENSP00000417132\n",
       "2        1.104671e-07  9606.ENSP00000366898\n",
       "3        1.103345e-07  9606.ENSP00000312778\n",
       "4        1.103202e-07  9606.ENSP00000260264\n",
       "5        1.098526e-07  9606.ENSP00000354560\n",
       "6        1.097866e-07  9606.ENSP00000312734\n",
       "7        1.097836e-07  9606.ENSP00000305714\n",
       "8        1.094497e-07  9606.ENSP00000444201\n",
       "9        1.092497e-07  9606.ENSP00000378132"
      ]
     },
     "metadata": {},
     "output_type": "display_data"
    },
    {
     "data": {
      "text/markdown": [
       "### Weight as probabilities closeness centrality\n",
       "We will now compute the **probability weights** closeness centrality with the following couple lines:\n",
       "\n",
       "\n",
       "```python\n",
       "# First, we normalize the PPI graph weights which go from 100 to 1000\n",
       "graph = graph.divide_edge_weights(1000.0)\n",
       "# then, we compute the centralities\n",
       "probability_closeness = graph.get_weighted_closeness_centrality(\n",
       "\tuse_edge_weights_as_probabilities=True\n",
       ")\n",
       "```\n"
      ],
      "text/plain": [
       "<IPython.core.display.Markdown object>"
      ]
     },
     "metadata": {},
     "output_type": "display_data"
    },
    {
     "data": {
      "text/markdown": [
       "Computing the probability closeness centrality took 238.5 seconds."
      ],
      "text/plain": [
       "<IPython.core.display.Markdown object>"
      ]
     },
     "metadata": {},
     "output_type": "display_data"
    },
    {
     "data": {
      "text/markdown": [
       "And let's now display the histogram of the probability closeness centralities:"
      ],
      "text/plain": [
       "<IPython.core.display.Markdown object>"
      ]
     },
     "metadata": {},
     "output_type": "display_data"
    },
    {
     "data": {
      "image/png": "[encoded data removed]",
      "text/plain": [
       "<Figure size 432x288 with 1 Axes>"
      ]
     },
     "metadata": {
      "needs_background": "light"
     },
     "output_type": "display_data"
    },
    {
     "data": {
      "text/markdown": [
       "Let's see which of the proteins in this graph have the highest log-probability closeness centrality:"
      ],
      "text/plain": [
       "<IPython.core.display.Markdown object>"
      ]
     },
     "metadata": {},
     "output_type": "display_data"
    },
    {
     "data": {
      "text/html": [
       "<div>\n",
       "<style scoped>\n",
       "    .dataframe tbody tr th:only-of-type {\n",
       "        vertical-align: middle;\n",
       "    }\n",
       "\n",
       "    .dataframe tbody tr th {\n",
       "        vertical-align: top;\n",
       "    }\n",
       "\n",
       "    .dataframe thead th {\n",
       "        text-align: right;\n",
       "    }\n",
       "</style>\n",
       "<table border=\"1\" class=\"dataframe\">\n",
       "  <thead>\n",
       "    <tr style=\"text-align: right;\">\n",
       "      <th></th>\n",
       "      <th>probability_closeness</th>\n",
       "      <th>protein</th>\n",
       "    </tr>\n",
       "  </thead>\n",
       "  <tbody>\n",
       "    <tr>\n",
       "      <th>0</th>\n",
       "      <td>0.000144</td>\n",
       "      <td>9606.ENSP00000419004</td>\n",
       "    </tr>\n",
       "    <tr>\n",
       "      <th>1</th>\n",
       "      <td>0.000143</td>\n",
       "      <td>9606.ENSP00000382779</td>\n",
       "    </tr>\n",
       "    <tr>\n",
       "      <th>2</th>\n",
       "      <td>0.000142</td>\n",
       "      <td>9606.ENSP00000265245</td>\n",
       "    </tr>\n",
       "    <tr>\n",
       "      <th>3</th>\n",
       "      <td>0.000142</td>\n",
       "      <td>9606.ENSP00000229179</td>\n",
       "    </tr>\n",
       "    <tr>\n",
       "      <th>4</th>\n",
       "      <td>0.000141</td>\n",
       "      <td>9606.ENSP00000261396</td>\n",
       "    </tr>\n",
       "    <tr>\n",
       "      <th>5</th>\n",
       "      <td>0.000141</td>\n",
       "      <td>9606.ENSP00000262144</td>\n",
       "    </tr>\n",
       "    <tr>\n",
       "      <th>6</th>\n",
       "      <td>0.000140</td>\n",
       "      <td>9606.ENSP00000367721</td>\n",
       "    </tr>\n",
       "    <tr>\n",
       "      <th>7</th>\n",
       "      <td>0.000140</td>\n",
       "      <td>9606.ENSP00000342262</td>\n",
       "    </tr>\n",
       "    <tr>\n",
       "      <th>8</th>\n",
       "      <td>0.000140</td>\n",
       "      <td>9606.ENSP00000293883</td>\n",
       "    </tr>\n",
       "    <tr>\n",
       "      <th>9</th>\n",
       "      <td>0.000139</td>\n",
       "      <td>9606.ENSP00000448054</td>\n",
       "    </tr>\n",
       "  </tbody>\n",
       "</table>\n",
       "</div>"
      ],
      "text/plain": [
       "   probability_closeness               protein\n",
       "0               0.000144  9606.ENSP00000419004\n",
       "1               0.000143  9606.ENSP00000382779\n",
       "2               0.000142  9606.ENSP00000265245\n",
       "3               0.000142  9606.ENSP00000229179\n",
       "4               0.000141  9606.ENSP00000261396\n",
       "5               0.000141  9606.ENSP00000262144\n",
       "6               0.000140  9606.ENSP00000367721\n",
       "7               0.000140  9606.ENSP00000342262\n",
       "8               0.000140  9606.ENSP00000293883\n",
       "9               0.000139  9606.ENSP00000448054"
      ]
     },
     "metadata": {},
     "output_type": "display_data"
    }
   ],
   "source": [
    "closeness_report(homo_sapiens)"
   ]
  },
  {
   "cell_type": "code",
   "execution_count": 14,
   "id": "0f39af28",
   "metadata": {
    "scrolled": false
   },
   "outputs": [
    {
     "data": {
      "text/markdown": [
       "## CanisLupusFamiliaris\n",
       "The current graph, CanisLupusFamiliaris, has 19129 and 8591130 edges. The diameter of the graph is 5.0."
      ],
      "text/plain": [
       "<IPython.core.display.Markdown object>"
      ]
     },
     "metadata": {},
     "output_type": "display_data"
    },
    {
     "data": {
      "text/markdown": [
       "### Unweighted closeness centrality\n",
       "We will now compute the **unweighted** closeness centrality with the following one-liner:\n",
       "\n",
       "\n",
       "```python\n",
       "unweighted_closeness = graph.get_closeness_centrality()\n",
       "```\n"
      ],
      "text/plain": [
       "<IPython.core.display.Markdown object>"
      ]
     },
     "metadata": {},
     "output_type": "display_data"
    },
    {
     "data": {
      "text/markdown": [
       "Computing the unweighted closeness centrality took 13.76 seconds."
      ],
      "text/plain": [
       "<IPython.core.display.Markdown object>"
      ]
     },
     "metadata": {},
     "output_type": "display_data"
    },
    {
     "data": {
      "text/markdown": [
       "And let's now display the histogram of the unweighted closeness centralities:"
      ],
      "text/plain": [
       "<IPython.core.display.Markdown object>"
      ]
     },
     "metadata": {},
     "output_type": "display_data"
    },
    {
     "data": {
      "image/png": "[encoded data removed]",
      "text/plain": [
       "<Figure size 432x288 with 1 Axes>"
      ]
     },
     "metadata": {
      "needs_background": "light"
     },
     "output_type": "display_data"
    },
    {
     "data": {
      "text/markdown": [
       "Let's see which of the proteins in this graph have the highest closeness centrality:"
      ],
      "text/plain": [
       "<IPython.core.display.Markdown object>"
      ]
     },
     "metadata": {},
     "output_type": "display_data"
    },
    {
     "data": {
      "text/html": [
       "<div>\n",
       "<style scoped>\n",
       "    .dataframe tbody tr th:only-of-type {\n",
       "        vertical-align: middle;\n",
       "    }\n",
       "\n",
       "    .dataframe tbody tr th {\n",
       "        vertical-align: top;\n",
       "    }\n",
       "\n",
       "    .dataframe thead th {\n",
       "        text-align: right;\n",
       "    }\n",
       "</style>\n",
       "<table border=\"1\" class=\"dataframe\">\n",
       "  <thead>\n",
       "    <tr style=\"text-align: right;\">\n",
       "      <th></th>\n",
       "      <th>unweighted_closeness</th>\n",
       "      <th>protein</th>\n",
       "    </tr>\n",
       "  </thead>\n",
       "  <tbody>\n",
       "    <tr>\n",
       "      <th>0</th>\n",
       "      <td>0.000029</td>\n",
       "      <td>9615.ENSCAFP00000064590</td>\n",
       "    </tr>\n",
       "    <tr>\n",
       "      <th>1</th>\n",
       "      <td>0.000029</td>\n",
       "      <td>9615.ENSCAFP00000001523</td>\n",
       "    </tr>\n",
       "    <tr>\n",
       "      <th>2</th>\n",
       "      <td>0.000029</td>\n",
       "      <td>9615.ENSCAFP00000007783</td>\n",
       "    </tr>\n",
       "    <tr>\n",
       "      <th>3</th>\n",
       "      <td>0.000028</td>\n",
       "      <td>9615.ENSCAFP00000044065</td>\n",
       "    </tr>\n",
       "    <tr>\n",
       "      <th>4</th>\n",
       "      <td>0.000028</td>\n",
       "      <td>9615.ENSCAFP00000013612</td>\n",
       "    </tr>\n",
       "    <tr>\n",
       "      <th>5</th>\n",
       "      <td>0.000028</td>\n",
       "      <td>9615.ENSCAFP00000005164</td>\n",
       "    </tr>\n",
       "    <tr>\n",
       "      <th>6</th>\n",
       "      <td>0.000028</td>\n",
       "      <td>9615.ENSCAFP00000064230</td>\n",
       "    </tr>\n",
       "    <tr>\n",
       "      <th>7</th>\n",
       "      <td>0.000028</td>\n",
       "      <td>9615.ENSCAFP00000040726</td>\n",
       "    </tr>\n",
       "    <tr>\n",
       "      <th>8</th>\n",
       "      <td>0.000028</td>\n",
       "      <td>9615.ENSCAFP00000014627</td>\n",
       "    </tr>\n",
       "    <tr>\n",
       "      <th>9</th>\n",
       "      <td>0.000028</td>\n",
       "      <td>9615.ENSCAFP00000045099</td>\n",
       "    </tr>\n",
       "  </tbody>\n",
       "</table>\n",
       "</div>"
      ],
      "text/plain": [
       "   unweighted_closeness                  protein\n",
       "0              0.000029  9615.ENSCAFP00000064590\n",
       "1              0.000029  9615.ENSCAFP00000001523\n",
       "2              0.000029  9615.ENSCAFP00000007783\n",
       "3              0.000028  9615.ENSCAFP00000044065\n",
       "4              0.000028  9615.ENSCAFP00000013612\n",
       "5              0.000028  9615.ENSCAFP00000005164\n",
       "6              0.000028  9615.ENSCAFP00000064230\n",
       "7              0.000028  9615.ENSCAFP00000040726\n",
       "8              0.000028  9615.ENSCAFP00000014627\n",
       "9              0.000028  9615.ENSCAFP00000045099"
      ]
     },
     "metadata": {},
     "output_type": "display_data"
    },
    {
     "data": {
      "text/markdown": [
       "### Weighted closeness centrality\n",
       "We will now compute the **weighted** closeness centrality with the following one-liner:\n",
       "\n",
       "\n",
       "```python\n",
       "weighted_closeness = graph.get_weighted_closeness_centrality()\n",
       "```\n"
      ],
      "text/plain": [
       "<IPython.core.display.Markdown object>"
      ]
     },
     "metadata": {},
     "output_type": "display_data"
    },
    {
     "data": {
      "text/markdown": [
       "Computing the weighted closeness centrality took 46.25 seconds."
      ],
      "text/plain": [
       "<IPython.core.display.Markdown object>"
      ]
     },
     "metadata": {},
     "output_type": "display_data"
    },
    {
     "data": {
      "text/markdown": [
       "And let's now display the histogram of the weighted closeness centralities:"
      ],
      "text/plain": [
       "<IPython.core.display.Markdown object>"
      ]
     },
     "metadata": {},
     "output_type": "display_data"
    },
    {
     "data": {
      "image/png": "[encoded data removed]",
      "text/plain": [
       "<Figure size 432x288 with 1 Axes>"
      ]
     },
     "metadata": {
      "needs_background": "light"
     },
     "output_type": "display_data"
    },
    {
     "data": {
      "text/markdown": [
       "Let's see which of the proteins in this graph have the highest weighted closeness centrality:"
      ],
      "text/plain": [
       "<IPython.core.display.Markdown object>"
      ]
     },
     "metadata": {},
     "output_type": "display_data"
    },
    {
     "data": {
      "text/html": [
       "<div>\n",
       "<style scoped>\n",
       "    .dataframe tbody tr th:only-of-type {\n",
       "        vertical-align: middle;\n",
       "    }\n",
       "\n",
       "    .dataframe tbody tr th {\n",
       "        vertical-align: top;\n",
       "    }\n",
       "\n",
       "    .dataframe thead th {\n",
       "        text-align: right;\n",
       "    }\n",
       "</style>\n",
       "<table border=\"1\" class=\"dataframe\">\n",
       "  <thead>\n",
       "    <tr style=\"text-align: right;\">\n",
       "      <th></th>\n",
       "      <th>weighted_closeness</th>\n",
       "      <th>protein</th>\n",
       "    </tr>\n",
       "  </thead>\n",
       "  <tbody>\n",
       "    <tr>\n",
       "      <th>0</th>\n",
       "      <td>1.097961e-07</td>\n",
       "      <td>9615.ENSCAFP00000065614</td>\n",
       "    </tr>\n",
       "    <tr>\n",
       "      <th>1</th>\n",
       "      <td>1.093034e-07</td>\n",
       "      <td>9615.ENSCAFP00000016812</td>\n",
       "    </tr>\n",
       "    <tr>\n",
       "      <th>2</th>\n",
       "      <td>1.087181e-07</td>\n",
       "      <td>9615.ENSCAFP00000061641</td>\n",
       "    </tr>\n",
       "    <tr>\n",
       "      <th>3</th>\n",
       "      <td>1.085760e-07</td>\n",
       "      <td>9615.ENSCAFP00000007187</td>\n",
       "    </tr>\n",
       "    <tr>\n",
       "      <th>4</th>\n",
       "      <td>1.084386e-07</td>\n",
       "      <td>9615.ENSCAFP00000022721</td>\n",
       "    </tr>\n",
       "    <tr>\n",
       "      <th>5</th>\n",
       "      <td>1.076624e-07</td>\n",
       "      <td>9615.ENSCAFP00000012583</td>\n",
       "    </tr>\n",
       "    <tr>\n",
       "      <th>6</th>\n",
       "      <td>1.075776e-07</td>\n",
       "      <td>9615.ENSCAFP00000002754</td>\n",
       "    </tr>\n",
       "    <tr>\n",
       "      <th>7</th>\n",
       "      <td>1.074841e-07</td>\n",
       "      <td>9615.ENSCAFP00000038305</td>\n",
       "    </tr>\n",
       "    <tr>\n",
       "      <th>8</th>\n",
       "      <td>1.073778e-07</td>\n",
       "      <td>9615.ENSCAFP00000014294</td>\n",
       "    </tr>\n",
       "    <tr>\n",
       "      <th>9</th>\n",
       "      <td>1.072760e-07</td>\n",
       "      <td>9615.ENSCAFP00000058257</td>\n",
       "    </tr>\n",
       "  </tbody>\n",
       "</table>\n",
       "</div>"
      ],
      "text/plain": [
       "   weighted_closeness                  protein\n",
       "0        1.097961e-07  9615.ENSCAFP00000065614\n",
       "1        1.093034e-07  9615.ENSCAFP00000016812\n",
       "2        1.087181e-07  9615.ENSCAFP00000061641\n",
       "3        1.085760e-07  9615.ENSCAFP00000007187\n",
       "4        1.084386e-07  9615.ENSCAFP00000022721\n",
       "5        1.076624e-07  9615.ENSCAFP00000012583\n",
       "6        1.075776e-07  9615.ENSCAFP00000002754\n",
       "7        1.074841e-07  9615.ENSCAFP00000038305\n",
       "8        1.073778e-07  9615.ENSCAFP00000014294\n",
       "9        1.072760e-07  9615.ENSCAFP00000058257"
      ]
     },
     "metadata": {},
     "output_type": "display_data"
    },
    {
     "data": {
      "text/markdown": [
       "### Weight as probabilities closeness centrality\n",
       "We will now compute the **probability weights** closeness centrality with the following couple lines:\n",
       "\n",
       "\n",
       "```python\n",
       "# First, we normalize the PPI graph weights which go from 100 to 1000\n",
       "graph = graph.divide_edge_weights(1000.0)\n",
       "# then, we compute the centralities\n",
       "probability_closeness = graph.get_weighted_closeness_centrality(\n",
       "\tuse_edge_weights_as_probabilities=True\n",
       ")\n",
       "```\n"
      ],
      "text/plain": [
       "<IPython.core.display.Markdown object>"
      ]
     },
     "metadata": {},
     "output_type": "display_data"
    },
    {
     "data": {
      "text/markdown": [
       "Computing the probability closeness centrality took 167.7 seconds."
      ],
      "text/plain": [
       "<IPython.core.display.Markdown object>"
      ]
     },
     "metadata": {},
     "output_type": "display_data"
    },
    {
     "data": {
      "text/markdown": [
       "And let's now display the histogram of the probability closeness centralities:"
      ],
      "text/plain": [
       "<IPython.core.display.Markdown object>"
      ]
     },
     "metadata": {},
     "output_type": "display_data"
    },
    {
     "data": {
      "image/png": "[encoded data removed]",
      "text/plain": [
       "<Figure size 432x288 with 1 Axes>"
      ]
     },
     "metadata": {
      "needs_background": "light"
     },
     "output_type": "display_data"
    },
    {
     "data": {
      "text/markdown": [
       "Let's see which of the proteins in this graph have the highest log-probability closeness centrality:"
      ],
      "text/plain": [
       "<IPython.core.display.Markdown object>"
      ]
     },
     "metadata": {},
     "output_type": "display_data"
    },
    {
     "data": {
      "text/html": [
       "<div>\n",
       "<style scoped>\n",
       "    .dataframe tbody tr th:only-of-type {\n",
       "        vertical-align: middle;\n",
       "    }\n",
       "\n",
       "    .dataframe tbody tr th {\n",
       "        vertical-align: top;\n",
       "    }\n",
       "\n",
       "    .dataframe thead th {\n",
       "        text-align: right;\n",
       "    }\n",
       "</style>\n",
       "<table border=\"1\" class=\"dataframe\">\n",
       "  <thead>\n",
       "    <tr style=\"text-align: right;\">\n",
       "      <th></th>\n",
       "      <th>probability_closeness</th>\n",
       "      <th>protein</th>\n",
       "    </tr>\n",
       "  </thead>\n",
       "  <tbody>\n",
       "    <tr>\n",
       "      <th>0</th>\n",
       "      <td>0.000079</td>\n",
       "      <td>9615.ENSCAFP00000059679</td>\n",
       "    </tr>\n",
       "    <tr>\n",
       "      <th>1</th>\n",
       "      <td>0.000079</td>\n",
       "      <td>9615.ENSCAFP00000051404</td>\n",
       "    </tr>\n",
       "    <tr>\n",
       "      <th>2</th>\n",
       "      <td>0.000078</td>\n",
       "      <td>9615.ENSCAFP00000020216</td>\n",
       "    </tr>\n",
       "    <tr>\n",
       "      <th>3</th>\n",
       "      <td>0.000078</td>\n",
       "      <td>9615.ENSCAFP00000049921</td>\n",
       "    </tr>\n",
       "    <tr>\n",
       "      <th>4</th>\n",
       "      <td>0.000078</td>\n",
       "      <td>9615.ENSCAFP00000006129</td>\n",
       "    </tr>\n",
       "    <tr>\n",
       "      <th>5</th>\n",
       "      <td>0.000078</td>\n",
       "      <td>9615.ENSCAFP00000001725</td>\n",
       "    </tr>\n",
       "    <tr>\n",
       "      <th>6</th>\n",
       "      <td>0.000078</td>\n",
       "      <td>9615.ENSCAFP00000023734</td>\n",
       "    </tr>\n",
       "    <tr>\n",
       "      <th>7</th>\n",
       "      <td>0.000078</td>\n",
       "      <td>9615.ENSCAFP00000011229</td>\n",
       "    </tr>\n",
       "    <tr>\n",
       "      <th>8</th>\n",
       "      <td>0.000078</td>\n",
       "      <td>9615.ENSCAFP00000065523</td>\n",
       "    </tr>\n",
       "    <tr>\n",
       "      <th>9</th>\n",
       "      <td>0.000078</td>\n",
       "      <td>9615.ENSCAFP00000024193</td>\n",
       "    </tr>\n",
       "  </tbody>\n",
       "</table>\n",
       "</div>"
      ],
      "text/plain": [
       "   probability_closeness                  protein\n",
       "0               0.000079  9615.ENSCAFP00000059679\n",
       "1               0.000079  9615.ENSCAFP00000051404\n",
       "2               0.000078  9615.ENSCAFP00000020216\n",
       "3               0.000078  9615.ENSCAFP00000049921\n",
       "4               0.000078  9615.ENSCAFP00000006129\n",
       "5               0.000078  9615.ENSCAFP00000001725\n",
       "6               0.000078  9615.ENSCAFP00000023734\n",
       "7               0.000078  9615.ENSCAFP00000011229\n",
       "8               0.000078  9615.ENSCAFP00000065523\n",
       "9               0.000078  9615.ENSCAFP00000024193"
      ]
     },
     "metadata": {},
     "output_type": "display_data"
    }
   ],
   "source": [
    "closeness_report(doggo)"
   ]
  },
  {
   "cell_type": "code",
   "execution_count": 15,
   "id": "7a560b57",
   "metadata": {
    "scrolled": false
   },
   "outputs": [
    {
     "data": {
      "text/markdown": [
       "## MusMusculus\n",
       "The current graph, MusMusculus, has 21266 and 14496230 edges. The diameter of the graph is 7.0."
      ],
      "text/plain": [
       "<IPython.core.display.Markdown object>"
      ]
     },
     "metadata": {},
     "output_type": "display_data"
    },
    {
     "data": {
      "text/markdown": [
       "### Unweighted closeness centrality\n",
       "We will now compute the **unweighted** closeness centrality with the following one-liner:\n",
       "\n",
       "\n",
       "```python\n",
       "unweighted_closeness = graph.get_closeness_centrality()\n",
       "```\n"
      ],
      "text/plain": [
       "<IPython.core.display.Markdown object>"
      ]
     },
     "metadata": {},
     "output_type": "display_data"
    },
    {
     "data": {
      "text/markdown": [
       "Computing the unweighted closeness centrality took 27.81 seconds."
      ],
      "text/plain": [
       "<IPython.core.display.Markdown object>"
      ]
     },
     "metadata": {},
     "output_type": "display_data"
    },
    {
     "data": {
      "text/markdown": [
       "And let's now display the histogram of the unweighted closeness centralities:"
      ],
      "text/plain": [
       "<IPython.core.display.Markdown object>"
      ]
     },
     "metadata": {},
     "output_type": "display_data"
    },
    {
     "data": {
      "image/png": "[encoded data removed]",
      "text/plain": [
       "<Figure size 432x288 with 1 Axes>"
      ]
     },
     "metadata": {
      "needs_background": "light"
     },
     "output_type": "display_data"
    },
    {
     "data": {
      "text/markdown": [
       "Let's see which of the proteins in this graph have the highest closeness centrality:"
      ],
      "text/plain": [
       "<IPython.core.display.Markdown object>"
      ]
     },
     "metadata": {},
     "output_type": "display_data"
    },
    {
     "data": {
      "text/html": [
       "<div>\n",
       "<style scoped>\n",
       "    .dataframe tbody tr th:only-of-type {\n",
       "        vertical-align: middle;\n",
       "    }\n",
       "\n",
       "    .dataframe tbody tr th {\n",
       "        vertical-align: top;\n",
       "    }\n",
       "\n",
       "    .dataframe thead th {\n",
       "        text-align: right;\n",
       "    }\n",
       "</style>\n",
       "<table border=\"1\" class=\"dataframe\">\n",
       "  <thead>\n",
       "    <tr style=\"text-align: right;\">\n",
       "      <th></th>\n",
       "      <th>unweighted_closeness</th>\n",
       "      <th>protein</th>\n",
       "    </tr>\n",
       "  </thead>\n",
       "  <tbody>\n",
       "    <tr>\n",
       "      <th>0</th>\n",
       "      <td>0.000029</td>\n",
       "      <td>10090.ENSMUSP00000098066</td>\n",
       "    </tr>\n",
       "    <tr>\n",
       "      <th>1</th>\n",
       "      <td>0.000028</td>\n",
       "      <td>10090.ENSMUSP00000001780</td>\n",
       "    </tr>\n",
       "    <tr>\n",
       "      <th>2</th>\n",
       "      <td>0.000028</td>\n",
       "      <td>10090.ENSMUSP00000104298</td>\n",
       "    </tr>\n",
       "    <tr>\n",
       "      <th>3</th>\n",
       "      <td>0.000027</td>\n",
       "      <td>10090.ENSMUSP00000113942</td>\n",
       "    </tr>\n",
       "    <tr>\n",
       "      <th>4</th>\n",
       "      <td>0.000027</td>\n",
       "      <td>10090.ENSMUSP00000023507</td>\n",
       "    </tr>\n",
       "    <tr>\n",
       "      <th>5</th>\n",
       "      <td>0.000027</td>\n",
       "      <td>10090.ENSMUSP00000032399</td>\n",
       "    </tr>\n",
       "    <tr>\n",
       "      <th>6</th>\n",
       "      <td>0.000027</td>\n",
       "      <td>10090.ENSMUSP00000007130</td>\n",
       "    </tr>\n",
       "    <tr>\n",
       "      <th>7</th>\n",
       "      <td>0.000027</td>\n",
       "      <td>10090.ENSMUSP00000083385</td>\n",
       "    </tr>\n",
       "    <tr>\n",
       "      <th>8</th>\n",
       "      <td>0.000027</td>\n",
       "      <td>10090.ENSMUSP00000019386</td>\n",
       "    </tr>\n",
       "    <tr>\n",
       "      <th>9</th>\n",
       "      <td>0.000027</td>\n",
       "      <td>10090.ENSMUSP00000026572</td>\n",
       "    </tr>\n",
       "  </tbody>\n",
       "</table>\n",
       "</div>"
      ],
      "text/plain": [
       "   unweighted_closeness                   protein\n",
       "0              0.000029  10090.ENSMUSP00000098066\n",
       "1              0.000028  10090.ENSMUSP00000001780\n",
       "2              0.000028  10090.ENSMUSP00000104298\n",
       "3              0.000027  10090.ENSMUSP00000113942\n",
       "4              0.000027  10090.ENSMUSP00000023507\n",
       "5              0.000027  10090.ENSMUSP00000032399\n",
       "6              0.000027  10090.ENSMUSP00000007130\n",
       "7              0.000027  10090.ENSMUSP00000083385\n",
       "8              0.000027  10090.ENSMUSP00000019386\n",
       "9              0.000027  10090.ENSMUSP00000026572"
      ]
     },
     "metadata": {},
     "output_type": "display_data"
    },
    {
     "data": {
      "text/markdown": [
       "### Weighted closeness centrality\n",
       "We will now compute the **weighted** closeness centrality with the following one-liner:\n",
       "\n",
       "\n",
       "```python\n",
       "weighted_closeness = graph.get_weighted_closeness_centrality()\n",
       "```\n"
      ],
      "text/plain": [
       "<IPython.core.display.Markdown object>"
      ]
     },
     "metadata": {},
     "output_type": "display_data"
    },
    {
     "data": {
      "text/markdown": [
       "Computing the weighted closeness centrality took 89.53 seconds."
      ],
      "text/plain": [
       "<IPython.core.display.Markdown object>"
      ]
     },
     "metadata": {},
     "output_type": "display_data"
    },
    {
     "data": {
      "text/markdown": [
       "And let's now display the histogram of the weighted closeness centralities:"
      ],
      "text/plain": [
       "<IPython.core.display.Markdown object>"
      ]
     },
     "metadata": {},
     "output_type": "display_data"
    },
    {
     "data": {
      "image/png": "[encoded data removed]",
      "text/plain": [
       "<Figure size 432x288 with 1 Axes>"
      ]
     },
     "metadata": {
      "needs_background": "light"
     },
     "output_type": "display_data"
    },
    {
     "data": {
      "text/markdown": [
       "Let's see which of the proteins in this graph have the highest weighted closeness centrality:"
      ],
      "text/plain": [
       "<IPython.core.display.Markdown object>"
      ]
     },
     "metadata": {},
     "output_type": "display_data"
    },
    {
     "data": {
      "text/html": [
       "<div>\n",
       "<style scoped>\n",
       "    .dataframe tbody tr th:only-of-type {\n",
       "        vertical-align: middle;\n",
       "    }\n",
       "\n",
       "    .dataframe tbody tr th {\n",
       "        vertical-align: top;\n",
       "    }\n",
       "\n",
       "    .dataframe thead th {\n",
       "        text-align: right;\n",
       "    }\n",
       "</style>\n",
       "<table border=\"1\" class=\"dataframe\">\n",
       "  <thead>\n",
       "    <tr style=\"text-align: right;\">\n",
       "      <th></th>\n",
       "      <th>weighted_closeness</th>\n",
       "      <th>protein</th>\n",
       "    </tr>\n",
       "  </thead>\n",
       "  <tbody>\n",
       "    <tr>\n",
       "      <th>0</th>\n",
       "      <td>1.032984e-07</td>\n",
       "      <td>10090.ENSMUSP00000049488</td>\n",
       "    </tr>\n",
       "    <tr>\n",
       "      <th>1</th>\n",
       "      <td>1.021043e-07</td>\n",
       "      <td>10090.ENSMUSP00000065393</td>\n",
       "    </tr>\n",
       "    <tr>\n",
       "      <th>2</th>\n",
       "      <td>1.018341e-07</td>\n",
       "      <td>10090.ENSMUSP00000124264</td>\n",
       "    </tr>\n",
       "    <tr>\n",
       "      <th>3</th>\n",
       "      <td>1.015961e-07</td>\n",
       "      <td>10090.ENSMUSP00000042883</td>\n",
       "    </tr>\n",
       "    <tr>\n",
       "      <th>4</th>\n",
       "      <td>1.013159e-07</td>\n",
       "      <td>10090.ENSMUSP00000027952</td>\n",
       "    </tr>\n",
       "    <tr>\n",
       "      <th>5</th>\n",
       "      <td>1.012996e-07</td>\n",
       "      <td>10090.ENSMUSP00000033822</td>\n",
       "    </tr>\n",
       "    <tr>\n",
       "      <th>6</th>\n",
       "      <td>1.011491e-07</td>\n",
       "      <td>10090.ENSMUSP00000071976</td>\n",
       "    </tr>\n",
       "    <tr>\n",
       "      <th>7</th>\n",
       "      <td>1.010894e-07</td>\n",
       "      <td>10090.ENSMUSP00000099902</td>\n",
       "    </tr>\n",
       "    <tr>\n",
       "      <th>8</th>\n",
       "      <td>1.010769e-07</td>\n",
       "      <td>10090.ENSMUSP00000082754</td>\n",
       "    </tr>\n",
       "    <tr>\n",
       "      <th>9</th>\n",
       "      <td>1.010336e-07</td>\n",
       "      <td>10090.ENSMUSP00000031913</td>\n",
       "    </tr>\n",
       "  </tbody>\n",
       "</table>\n",
       "</div>"
      ],
      "text/plain": [
       "   weighted_closeness                   protein\n",
       "0        1.032984e-07  10090.ENSMUSP00000049488\n",
       "1        1.021043e-07  10090.ENSMUSP00000065393\n",
       "2        1.018341e-07  10090.ENSMUSP00000124264\n",
       "3        1.015961e-07  10090.ENSMUSP00000042883\n",
       "4        1.013159e-07  10090.ENSMUSP00000027952\n",
       "5        1.012996e-07  10090.ENSMUSP00000033822\n",
       "6        1.011491e-07  10090.ENSMUSP00000071976\n",
       "7        1.010894e-07  10090.ENSMUSP00000099902\n",
       "8        1.010769e-07  10090.ENSMUSP00000082754\n",
       "9        1.010336e-07  10090.ENSMUSP00000031913"
      ]
     },
     "metadata": {},
     "output_type": "display_data"
    },
    {
     "data": {
      "text/markdown": [
       "### Weight as probabilities closeness centrality\n",
       "We will now compute the **probability weights** closeness centrality with the following couple lines:\n",
       "\n",
       "\n",
       "```python\n",
       "# First, we normalize the PPI graph weights which go from 100 to 1000\n",
       "graph = graph.divide_edge_weights(1000.0)\n",
       "# then, we compute the centralities\n",
       "probability_closeness = graph.get_weighted_closeness_centrality(\n",
       "\tuse_edge_weights_as_probabilities=True\n",
       ")\n",
       "```\n"
      ],
      "text/plain": [
       "<IPython.core.display.Markdown object>"
      ]
     },
     "metadata": {},
     "output_type": "display_data"
    },
    {
     "data": {
      "text/markdown": [
       "Computing the probability closeness centrality took 314.4 seconds."
      ],
      "text/plain": [
       "<IPython.core.display.Markdown object>"
      ]
     },
     "metadata": {},
     "output_type": "display_data"
    },
    {
     "data": {
      "text/markdown": [
       "And let's now display the histogram of the probability closeness centralities:"
      ],
      "text/plain": [
       "<IPython.core.display.Markdown object>"
      ]
     },
     "metadata": {},
     "output_type": "display_data"
    },
    {
     "data": {
      "image/png": "[encoded data removed]",
      "text/plain": [
       "<Figure size 432x288 with 1 Axes>"
      ]
     },
     "metadata": {
      "needs_background": "light"
     },
     "output_type": "display_data"
    },
    {
     "data": {
      "text/markdown": [
       "Let's see which of the proteins in this graph have the highest log-probability closeness centrality:"
      ],
      "text/plain": [
       "<IPython.core.display.Markdown object>"
      ]
     },
     "metadata": {},
     "output_type": "display_data"
    },
    {
     "data": {
      "text/html": [
       "<div>\n",
       "<style scoped>\n",
       "    .dataframe tbody tr th:only-of-type {\n",
       "        vertical-align: middle;\n",
       "    }\n",
       "\n",
       "    .dataframe tbody tr th {\n",
       "        vertical-align: top;\n",
       "    }\n",
       "\n",
       "    .dataframe thead th {\n",
       "        text-align: right;\n",
       "    }\n",
       "</style>\n",
       "<table border=\"1\" class=\"dataframe\">\n",
       "  <thead>\n",
       "    <tr style=\"text-align: right;\">\n",
       "      <th></th>\n",
       "      <th>probability_closeness</th>\n",
       "      <th>protein</th>\n",
       "    </tr>\n",
       "  </thead>\n",
       "  <tbody>\n",
       "    <tr>\n",
       "      <th>0</th>\n",
       "      <td>0.000092</td>\n",
       "      <td>10090.ENSMUSP00000140536</td>\n",
       "    </tr>\n",
       "    <tr>\n",
       "      <th>1</th>\n",
       "      <td>0.000091</td>\n",
       "      <td>10090.ENSMUSP00000067786</td>\n",
       "    </tr>\n",
       "    <tr>\n",
       "      <th>2</th>\n",
       "      <td>0.000091</td>\n",
       "      <td>10090.ENSMUSP00000078746</td>\n",
       "    </tr>\n",
       "    <tr>\n",
       "      <th>3</th>\n",
       "      <td>0.000090</td>\n",
       "      <td>10090.ENSMUSP00000048057</td>\n",
       "    </tr>\n",
       "    <tr>\n",
       "      <th>4</th>\n",
       "      <td>0.000090</td>\n",
       "      <td>10090.ENSMUSP00000074573</td>\n",
       "    </tr>\n",
       "    <tr>\n",
       "      <th>5</th>\n",
       "      <td>0.000090</td>\n",
       "      <td>10090.ENSMUSP00000102538</td>\n",
       "    </tr>\n",
       "    <tr>\n",
       "      <th>6</th>\n",
       "      <td>0.000090</td>\n",
       "      <td>10090.ENSMUSP00000078875</td>\n",
       "    </tr>\n",
       "    <tr>\n",
       "      <th>7</th>\n",
       "      <td>0.000090</td>\n",
       "      <td>10090.ENSMUSP00000027291</td>\n",
       "    </tr>\n",
       "    <tr>\n",
       "      <th>8</th>\n",
       "      <td>0.000090</td>\n",
       "      <td>10090.ENSMUSP00000113852</td>\n",
       "    </tr>\n",
       "    <tr>\n",
       "      <th>9</th>\n",
       "      <td>0.000090</td>\n",
       "      <td>10090.ENSMUSP00000057916</td>\n",
       "    </tr>\n",
       "  </tbody>\n",
       "</table>\n",
       "</div>"
      ],
      "text/plain": [
       "   probability_closeness                   protein\n",
       "0               0.000092  10090.ENSMUSP00000140536\n",
       "1               0.000091  10090.ENSMUSP00000067786\n",
       "2               0.000091  10090.ENSMUSP00000078746\n",
       "3               0.000090  10090.ENSMUSP00000048057\n",
       "4               0.000090  10090.ENSMUSP00000074573\n",
       "5               0.000090  10090.ENSMUSP00000102538\n",
       "6               0.000090  10090.ENSMUSP00000078875\n",
       "7               0.000090  10090.ENSMUSP00000027291\n",
       "8               0.000090  10090.ENSMUSP00000113852\n",
       "9               0.000090  10090.ENSMUSP00000057916"
      ]
     },
     "metadata": {},
     "output_type": "display_data"
    }
   ],
   "source": [
    "closeness_report(mouse)"
   ]
  },
  {
   "cell_type": "markdown",
   "id": "65d1b8b7",
   "metadata": {},
   "source": [
    "*I'm sure the implementation can be made even faster, but it's a first step to start experimenting with this important centrality.*"
   ]
  }
 ],
 "metadata": {
  "kernelspec": {
   "display_name": "Python 3 (ipykernel)",
   "language": "python",
   "name": "python3"
  },
  "language_info": {
   "codemirror_mode": {
    "name": "ipython",
    "version": 3
   },
   "file_extension": ".py",
   "mimetype": "text/x-python",
   "name": "python",
   "nbconvert_exporter": "python",
   "pygments_lexer": "ipython3",
   "version": "3.9.7"
  }
 },
 "nbformat": 4,
 "nbformat_minor": 5
}
