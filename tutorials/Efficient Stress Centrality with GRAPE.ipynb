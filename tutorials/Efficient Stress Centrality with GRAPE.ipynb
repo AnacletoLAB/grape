{
 "cells": [
  {
   "cell_type": "markdown",
   "id": "dcd995f4",
   "metadata": {},
   "source": [
    "# Efficient [stress centrality](https://www.centiserver.org/centrality/Stress_Centrality/) with [GRAPE](https://github.com/AnacletoLAB/grape)\n",
    "In this tutorial, we will explore the concept of [stress centrality](https://www.centiserver.org/centrality/Stress_Centrality/) and its importance in network analysis. We will start with a simple Python pseudocode implementation, and then move on to the parallel Rust implementation of the algorithm in the [GRAPE](https://github.com/AnacletoLAB/grape) library. We will use citation and protein-protein interaction graphs to demonstrate the algorithm, and briefly describe how it can be distributed over a computing cluster. By the end of this tutorial, you will have a good understanding of how to compute [stress centrality](https://www.centiserver.org/centrality/Stress_Centrality/) and apply it to your own network analysis projects using [GRAPE](https://github.com/AnacletoLAB/grape).\n",
    "\n",
    "## Graphs and stress centrality\n",
    "[Graphs](https://en.wikipedia.org/wiki/Graph_(discrete_mathematics)) are a fundamental data structure used in a wide range of scientific and engineering fields. They are used to represent relationships between objects, such as social networks, transportation systems, and biological pathways. One important measure of the importance of a node in a graph is its [stress centrality](https://www.centiserver.org/centrality/Stress_Centrality/). Stress centrality is a graph centrality metric that measures the importance of a node in a network by considering the number of shortest paths that pass through that node. It is a measure of the stress or load that a node experiences as a result of its position in the network.\n",
    "\n",
    "**Specifically, stress centrality of a node is defined as the number of the shortest paths between all pairs of nodes in the network that pass through that node. In other words, it is a measure of the amount of traffic or communication that flows through a node in the network.**\n",
    "\n",
    "Nodes with high stress centrality are those that are located on many shortest paths between other nodes, and therefore have a high potential to influence the flow of information or resources in the network. They are often considered to be critical nodes in the network, as their removal could significantly disrupt the network's functioning.\n",
    "\n",
    "As we have seen [for Betweennes centrality in the last tutorial](https://github.com/AnacletoLAB/grape/blob/main/tutorials/Efficient%20Betweenness%20Centrality%20with%20GRAPE.ipynb), computing [stress centrality](https://www.centiserver.org/centrality/Stress_Centrality/) can be a challenging problem, particularly for large-scale graphs. The naive approach of computing all shortest paths between all pairs of nodes is computationally expensive and not practical for graphs with millions or billions of nodes.\n",
    "\n",
    "Researchers have tried to develop faster algorithms for computing [stress centrality](https://www.centiserver.org/centrality/Stress_Centrality/). In this tutorial, we will modify the lock-free parallel algorithm for Betweenness centrality [developed by Kamesh Madduri and David Bader](https://pennstate.pure.elsevier.com/en/publications/a-faster-parallel-algorithm-and-efficient-multithreaded-implement). This algorithm is optimized for high-performance computing and takes advantage of modern hardware features, such as spatial cache locality and lock-free parallelization.\n",
    "\n",
    "We will then demonstrate how to use the [GRAPE](https://github.com/AnacletoLAB/grape) library to compute [stress centrality](https://www.centiserver.org/centrality/Stress_Centrality/) on three citation graphs and three protein-protein interaction graphs.\n",
    "\n",
    "## What is [GRAPE](https://github.com/AnacletoLAB/grape)?\n",
    "🍇🍇 [GRAPE](https://github.com/AnacletoLAB/grape) 🍇🍇 is a graph processing and embedding library that enables users to easily manipulate and analyze graphs. With [GRAPE](https://github.com/AnacletoLAB/grape), users can efficiently load and preprocess graphs, generate random walks, and apply various node and edge embedding models. Additionally, [GRAPE](https://github.com/AnacletoLAB/grape) provides a fair and reproducible evaluation pipeline for comparing different graph embedding and graph-based prediction methods.\n",
    "\n",
    "![[GRAPE](https://github.com/AnacletoLAB/grape) illustration](https://camo.githubusercontent.com/b994eaad756e6c96cc8d6fcec9f94dd8e9ee6ecc54b3027fd577ad1229b7bf88/68747470733a2f2f6769746875622e636f6d2f416e61636c65746f4c41422f67726170652f7261772f6d61696e2f696d616765732f73657175656e63655f6469616772616d2e706e673f7261773d74727565)\n",
    "ss_Centrality/) may be important junctions or intersections that connect different routes together.\n",
    "\n",
    "## How is [stress centrality](https://www.centiserver.org/centrality/Stress_Centrality/) Calculated?\n",
    "There are several algorithms for calculating shortest-path based centralities such as the stress centrality, but one of the most common is the [Brandes algorithm](http://snap.stanford.edu/class/cs224w-readings/brandes01centrality.pdf). The algorithm works by computing the shortest paths between all pairs of nodes in the network, and then counting the number of times each node lies on a shortest path. Nodes with high [stress centrality](https://www.centiserver.org/centrality/Stress_Centrality/) will appear on a large number of shortest paths.\n",
    "\n",
    "Here is the pseudocode for the [Brandes algorithm](http://snap.stanford.edu/class/cs224w-readings/brandes01centrality.pdf), modified to compute stress centrality instead of betweenness centrality:\n",
    "\n",
    "```python\n",
    "def stress_centrality(G):\n",
    "    stress = dict.fromkeys(G, 0)\n",
    "    for s in G:\n",
    "        stack = []\n",
    "        P = dict.fromkeys(G, [])\n",
    "        sigma = dict.fromkeys(G, 0)\n",
    "        sigma[s] = 1\n",
    "        d = dict.fromkeys(G, -1)\n",
    "        d[s] = 0\n",
    "        Q = [s]\n",
    "        while Q:\n",
    "            v = Q.pop(0)\n",
    "            stack.append(v)\n",
    "            for w in G[v]:\n",
    "                if d[w] < 0:\n",
    "                    Q.append(w)\n",
    "                    d[w] = d[v] + 1\n",
    "                if d[w] == d[v] + 1:\n",
    "                    sigma[w] += sigma[v]\n",
    "                    P[w].append(v)\n",
    "        delta = dict.fromkeys(G, 0)\n",
    "        while stack:\n",
    "            w = stack.pop()\n",
    "            for v in P[w]:\n",
    "                delta[v] += sigma[v] * (1 + delta[w])\n",
    "            if w != s:\n",
    "                stress[w] += delta[w]\n",
    "    return stress\n",
    "```\n",
    "\n",
    "In this pseudocode, `G` represents the network, and stress is a dictionary that will eventually contain the [stress centrality](https://www.centiserver.org/centrality/Stress_Centrality/) for each node in the network. The algorithm iterates over each node in the network (for `s` in `G`), and for each node, it computes the shortest paths between all pairs of nodes using a modified breadth-first search. It then uses these shortest paths to compute the [stress centrality](https://www.centiserver.org/centrality/Stress_Centrality/) for each node.\n",
    "\n",
    "**Stress centrality is an INTEGER value, while Betweenness centrality is a FLOAT. This is significant for several applications, as the elaboration and compression rates can get very different.**\n",
    "\n",
    "**In large graphs, floats may BE PREFERABLE as the number of shortest paths can increase exponentially and become larger than MAX u64.**\n",
    "\n",
    "\n",
    "## Madduri's algorithm\n",
    "The [Madduri algorithm](https://pennstate.pure.elsevier.com/en/publications/a-faster-parallel-algorithm-and-efficient-multithreaded-implement) is a lock-free parallel algorithm designed for computing Betweenness centrality in small-world networks. This algorithm achieves better spatial cache locality compared to previous approaches and is optimized for high-performance computing architectures. We are going to tweak it to use to compute stress centrality instead of the betweenness centrality. Let's break down its key ingredients.\n",
    "\n",
    "### What are atomic instructions?\n",
    "An [atomic instruction](https://www.ibm.com/docs/en/aix/7.2?topic=services-atomic-operations) is an operation that is executed as a single, indivisible unit of work. This means that the operation cannot be interrupted or modified by any other process or thread while it is being executed. Atomic instructions are often used in concurrent programming to implement synchronization mechanisms that ensure that shared resources are accessed and updated correctly by multiple threads. For example, in a multi-threaded environment, if two threads simultaneously try to increment the same variable, an atomic instruction can ensure that the variable is incremented exactly once, and that the final value is correct. Without atomic instructions, concurrent programs could suffer from race conditions, data races, and other synchronization-related bugs.\n",
    "\n",
    "#### Fetch add\n",
    "[Fetch add](https://www.ibm.com/docs/en/aix/7.2?topic=f-fetch-add-kernel-services) is an atomic instruction that is used to atomically increment a value by a specified amount and return the original value. The operation is typically implemented at the hardware level and provides a way to update a shared resource without the need for locks or other synchronization mechanisms. In a multi-threaded environment, if multiple threads attempt to update the same variable concurrently, fetch add can ensure that each thread gets the correct original value, increments it by the specified amount, and writes the new value back to the variable atomically, without interference from other threads. This can help prevent race conditions and other synchronization-related bugs in concurrent programs. Fetch add is commonly used in algorithms that require shared counters or accumulators, such as in parallel graph processing, where it is used to compute stress centrality, PageRank, and other metrics.\n",
    "\n",
    "#### Compare and swap\n",
    "[Compare-and-swap (CAS)](https://en.wikipedia.org/wiki/Compare-and-swap), is an atomic instruction that is used to perform an update to a shared variable in a multi-threaded environment. It is typically used to implement mutual exclusion, synchronization, and other concurrency control mechanisms in parallel algorithms. The operation takes three operands: a memory location, an expected value, and a new value. It compares the value in the memory location with the expected value. If they match, the operation stores the new value into the memory location. If they do not match, the operation does nothing.\n",
    "\n",
    "Compare exchange provides a way to ensure that updates to shared variables are performed atomically, without interference from other threads. It helps prevent race conditions and other synchronization-related bugs that can arise in concurrent programs. It is commonly used in algorithms that require mutual exclusion, such as locks, semaphores, and barriers, as well as in data structures that support concurrent access, such as concurrent hash tables and concurrent linked lists.\n",
    "\n",
    "While CAS can introduce a significant overhead when the graph topology has nodes with many predecessors, one solution is to replace CAS entirely with a second iteration on the visited vector. This approach eliminates the need for CAS operations altogether and can be a more efficient solution in certain scenarios. However, it is important to note that this method may not always be the most efficient and should be considered on a case-by-case basis.\n",
    "\n",
    "### Non-temporal store\n",
    "[Non-temporal stores (NT stores)](https://lwn.net/Articles/255364/) are a type of store operation that bypass the cache hierarchy and write data directly to the main memory, without trying to store it in any cache levels. This is useful when writing to large memory regions that are not going to be used in the near future or when the data written is going to be processed sequentially, as it can reduce cache pollution and cache misses.\n",
    "\n",
    "The `sfence` instruction is a memory barrier instruction that ensures that all preceding writes have been committed to memory before any subsequent writes are executed. It's used in conjunction with NT stores to make sure that all data is written to main memory before continuing with the execution of the program, ensuring consistency and preventing race conditions.\n",
    "\n",
    "We will employ non-temporal stores to let the compiler know that values such as the `i`-th successor or the status of a node does not need to be updated immediately.\n",
    "\n",
    "### Pseudocode\n",
    "In this section, we will present the pseudocode of the [Madduri algorithm](https://pennstate.pure.elsevier.com/en/publications/a-faster-parallel-algorithm-and-efficient-multithreaded-implement) for computing [stress centrality](https://www.centiserver.org/centrality/Stress_Centrality/) in parallel. The algorithm has been implemented in the [GRAPE](https://github.com/AnacletoLAB/grape) library, and we will use this pseudocode to explain the implementation details.\n",
    "\n",
    "[Find the actual Rust implementation here](https://github.com/AnacletoLAB/ensmallen/blob/9f5bab19f4016207e650573b898a6d1054bf5346/graph/src/centrality.rs#L423)\n",
    "\n",
    "```python\n",
    "import numpy as np\n",
    "\n",
    "def get_stress_centrality(graph):\n",
    "    # First, we init the centralities\n",
    "    centralities = np.zeros(shape=graph.get_number_of_nodes())\n",
    "    # Next, a vector LARGE AS THE NUMBER OF EDGES! - THIS IS A BIG ONE!\n",
    "    successors = np.zeros(shape=graph.get_number_of_directed_edges(), dtype=np.uint32)\n",
    "    # The counter for the successors of each node.\n",
    "    successor_counts = np.zeros(shape=graph.get_number_of_nodes(), dtype=np.uint32)\n",
    "    # The number of shortest paths passing through a node.\n",
    "    # Note that these values are ATOMIC!\n",
    "    shortest_path_counts = [AtomicU32(0) for _ in range(graph.get_number_of_nodes())]\n",
    "    # Then, we fill a vector with the visited status of the nodes\n",
    "    # - UNVISITED for the nodes yet to be visited\n",
    "    # - JUST_VISITED for the nodes we have just visited, and...\n",
    "    # - VISITED for the nodes we have visited last iteration\n",
    "    # Clear, right?\n",
    "    # Since we only need 3 values, we can use an `u8` with space to spare.\n",
    "    # Note that we could also use just 2 bits instead of wasting 8 of them per node.\n",
    "    # This may be a good idea for large graphs, but the vector of successors dwarfs\n",
    "    # these other ones that scale with the number of nodes as the successors vector\n",
    "    # scales with the number of edges.\n",
    "    visited_status = np.full(graph.get_number_of_nodes(), UNVISITED, dtype=np.uint8)\n",
    "    # We init similarly the dependencies vector.\n",
    "    dependencies = np.zeros(shape=graph.get_number_of_nodes())\n",
    "    # And we init the frontiers. \n",
    "    # Frontiers are unordered vectors (read more here: https://github.com/zommiommy/parallel_frontier)\n",
    "    # that allow for parallel push and balanced parallel iteration.\n",
    "    frontiers = [Frontier(graph.get_number_of_nodes()) for _ in range(2)]\n",
    "    \n",
    "    # We start to iterate on each node.\n",
    "    # This iteration can be easily distributed on a cluster, just\n",
    "    # divide the nodes into chunks balanced by node degree and execute\n",
    "    # the task for each node. Then, simply sum the resulting stress\n",
    "    # centrality vectors.\n",
    "    for root in range(graph.get_number_of_nodes()):\n",
    "        \n",
    "        # First, we reset the shortest path counts.\n",
    "        shortest_path_counts[:] = 0\n",
    "        \n",
    "        # We set the number of shortest paths in the root equal\n",
    "        # to one:\n",
    "        shortest_path_counts[root] = 1\n",
    "        # And we set its status as visited\n",
    "        visited_status[root] = VISITED\n",
    "        # We clean up the first frontier, without freeing\n",
    "        # the associated memory\n",
    "        frontiers[0].clear()\n",
    "        # And initialize it with the root node.\n",
    "        frontiers[0].push(root)\n",
    "        # We initialize the current depth\n",
    "        current_depth = 0\n",
    "        # And start BFS-ing our way through the graph\n",
    "        while True:\n",
    "            # First, we increase the current depth\n",
    "            current_depth += 1\n",
    "            # If we are going at a deeper depth than what was\n",
    "            # done until now, we create a new frontier object\n",
    "            if len(frontiers) < 1 + current_depth:\n",
    "                # And push it onto the frontiers vector.\n",
    "                frontiers.append(Frontier())\n",
    "            \n",
    "            # We iterate IN PARALLEL on the last frontier we have\n",
    "            # expanded, which at the first iteration only contains\n",
    "            # the root node:\n",
    "            for src in frontiers[current_depth - 1]:\n",
    "                # We retrieve the number of paths for the current node in the frontier\n",
    "                # and we do so ATOMICALLY using relaxed ordering.\n",
    "                # Learn more about the type of orderings here: https://doc.rust-lang.org/std/sync/atomic/enum.Ordering.html\n",
    "                source_paths = shortest_path_counts[src].load(Ordering::Relaxed)\n",
    "                # We retrieve its number of successors\n",
    "                number_of_successors = successor_counts[src]\n",
    "                # And we compute its current offset, as the sum of the comulative\n",
    "                # node degree and the current number of successors, using a data-structure\n",
    "                # similar to a CSR (learn more about CSR matrices here: https://scipy-lectures.org/advanced/scipy_sparse/csr_matrix.html)\n",
    "                offset = graph.comulative_degree(src) + number_of_successors\n",
    "                # We iterate on the neighbours of `src`\n",
    "                for dst in graph.neighbours(src):\n",
    "                    # If the node was not yet visited\n",
    "                    if visited_status[dst] == UNVISITED:\n",
    "                        # We set it as visited using a non-temporal store,\n",
    "                        # as we do not care about updating immediately the\n",
    "                        # value of the node and force a cache refresh.\n",
    "                        non_temporal_store(\n",
    "                            visited_status[dst],\n",
    "                            JUST_VISITED\n",
    "                        )\n",
    "                    # NOTE THAT THE FOLLOWING IS NOT AN ELSE-IF!\n",
    "                    # If the status of the node is either just visited\n",
    "                    # or still to be visited, i.e. the value has to be\n",
    "                    # locally updated, then...\n",
    "                    if visited_status[dst] == JUST_VISITED or visited_status[dst] == UNVISITED:\n",
    "                        # We update the number of shortest paths passing through\n",
    "                        # `dst` using a FETCH ADD operation.\n",
    "                        shortest_path_counts[dst].fetch_add(source_paths, Ordering::Relaxed)\n",
    "                        # We set the `dst` node as one of the successors of `src`.\n",
    "                        successors[offset] = dst\n",
    "                        # Increase the current offset and number of successors\n",
    "                        offset += 1\n",
    "                        number_of_successors += 1\n",
    "                # and then, we can update the successors count of the\n",
    "                # node only once.\n",
    "                successor_counts[src] = number_of_successors\n",
    "            # Next, we populate the new frontier.\n",
    "            # Do note that we choose to not do it in the \n",
    "            # previous loop as the CAS operation on some graph\n",
    "            # topology can cause severe over-head, and the following\n",
    "            # loop if quite clean to parallelize.\n",
    "            # We clear the next frontier that we are about to populate.\n",
    "            frontiers[current_depth].clear()\n",
    "            # We iterate IN PARALLEL on the status of the nodes.\n",
    "            for node_id, status in enumerate(visited_status):\n",
    "                if status == JUST_VISITED:\n",
    "                    visited_status[node_id] = VISITED\n",
    "                    frontiers[current_depth].push(node_id)\n",
    "            # If the new frontier is empty, we have finished\n",
    "            # the BFS.\n",
    "            if len(frontiers[current_depth]) == 0:\n",
    "                break\n",
    "        # We iterate SEQUENTIALLY on the frontier in REVERSED ORDER\n",
    "        # Note that we are skipping the first frontier, the one that\n",
    "        # solely contains the current root node.\n",
    "        for depth in reversed(range(1, current_depth+1)):\n",
    "            # We get the depth-th frontier\n",
    "            frontier = frontiers[depth]\n",
    "            # and we start to iterate IN PARALLEL across\n",
    "            # the nodes of the frontier\n",
    "            for src in frontier:\n",
    "                # We reset the status of the nodes\n",
    "                visited_status[src] = UNVISITED\n",
    "                # We retrieve the offset of the current node\n",
    "                offset = graph.comulative_degree(src)\n",
    "                # We need to access the dependencies.\n",
    "                # Note that all dependencies are weighted by their own shortest path counts.\n",
    "                dependencies[src] = shortest_path_counts[src] * sum([\n",
    "                    1 + shared_dependencies.get()[dst]\n",
    "                    for dst in successors[offset:offset+successor_counts[src]]\n",
    "                ])\n",
    "                # We reset the successor counts\n",
    "                successor_counts[src] = 0\n",
    "                # And finally, we sum the centralized\n",
    "                centralities[src] += dependencies[src]\n",
    "    \n",
    "    return centralities\n",
    "```\n",
    "\n",
    "### Parallelizing the algorithm on a computing cluster\n",
    "The algorithm can be parallelized across multiple compute nodes of a cluster in a very simple way. The parallelization can be achieved by distributing the partial computation of the stress centrality of each graph node across multiple compute nodes, and then computing the total stress centrality by summing the partials.\n",
    "\n",
    "Each compute node can independently compute the stress centrality values for a subset of the graph nodes, and then communicate the partial results to a designated master node. The master node can then aggregate the partial stress centrality values for each node and compute the final stress centrality values for the entire graph by summing up the partial values.\n",
    "\n",
    "Since the computations for each node are independent of each other, and since the partial stress centrality values can be easily combined to obtain the total stress centrality value, this approach scales well with the number of compute nodes. Furthermore, the parallelism can be easily adjusted to accommodate different cluster sizes or computational resources, making the algorithm highly flexible and efficient."
   ]
  },
  {
   "cell_type": "markdown",
   "id": "d971cf68",
   "metadata": {},
   "source": [
    "## Experiments\n",
    "In this section, we will present the results of our experiments using the parallel stress centrality algorithm adapted from Madduri's paper and implemented in GRAPE. We loaded three citation graphs, Cora, CiteSeer, and PubmedDiabetes, and three protein-protein interaction graphs, Homo Sapiens, Canis Lupus, and Mus Musculus. We will show the stress centrality scores of each graph as histograms, which will give us an insight into the centrality of nodes in the network. By comparing the results of these experiments, we will be able to understand the performance of the algorithm on different types of graphs and the distribution of stress centrality scores in each graph."
   ]
  },
  {
   "cell_type": "code",
   "execution_count": 1,
   "id": "37cb793c",
   "metadata": {},
   "outputs": [
    {
     "name": "stderr",
     "output_type": "stream",
     "text": [
      "2023-04-30 16:48:42.298225: W tensorflow/stream_executor/platform/default/dso_loader.cc:64] Could not load dynamic library 'libcudart.so.11.0'; dlerror: libcudart.so.11.0: cannot open shared object file: No such file or directory\n",
      "2023-04-30 16:48:42.298244: I tensorflow/stream_executor/cuda/cudart_stub.cc:29] Ignore above cudart dlerror if you do not have a GPU set up on your machine.\n"
     ]
    }
   ],
   "source": [
    "from grape.datasets.linqs import Cora, CiteSeer, PubMedDiabetes, get_words_data\n",
    "\n",
    "cora = Cora()\n",
    "citeseer = CiteSeer()\n",
    "pubmed = PubMedDiabetes()"
   ]
  },
  {
   "cell_type": "code",
   "execution_count": 2,
   "id": "f7413a15",
   "metadata": {},
   "outputs": [
    {
     "data": {
      "text/plain": [
       "(4141, 108988, 6.0)"
      ]
     },
     "execution_count": 2,
     "metadata": {},
     "output_type": "execute_result"
    }
   ],
   "source": [
    "(cora.get_number_of_nodes(), cora.get_number_of_directed_edges(), cora.get_diameter())"
   ]
  },
  {
   "cell_type": "code",
   "execution_count": 3,
   "id": "d766c492",
   "metadata": {},
   "outputs": [
    {
     "name": "stdout",
     "output_type": "stream",
     "text": [
      "CPU times: user 1min 36s, sys: 6.78 s, total: 1min 43s\n",
      "Wall time: 4.56 s\n"
     ]
    }
   ],
   "source": [
    "%%time\n",
    "cora_stress = cora.get_stress_centrality()"
   ]
  },
  {
   "cell_type": "code",
   "execution_count": 4,
   "id": "6a143a05",
   "metadata": {},
   "outputs": [
    {
     "data": {
      "text/plain": [
       "array([1.1494945e+08, 2.1791413e+08, 4.4345718e+08, ..., 1.8198100e+05,\n",
       "       2.5912134e+08, 4.5305065e+06], dtype=float32)"
      ]
     },
     "execution_count": 4,
     "metadata": {},
     "output_type": "execute_result"
    }
   ],
   "source": [
    "cora_stress"
   ]
  },
  {
   "cell_type": "code",
   "execution_count": 5,
   "id": "5c65cb30",
   "metadata": {},
   "outputs": [
    {
     "data": {
      "image/png": "[encoded data removed]",
      "text/plain": [
       "<Figure size 432x288 with 1 Axes>"
      ]
     },
     "metadata": {
      "needs_background": "light"
     },
     "output_type": "display_data"
    }
   ],
   "source": [
    "import matplotlib.pyplot as plt\n",
    "\n",
    "plt.hist(cora_stress, bins=50, log=True)\n",
    "plt.show()"
   ]
  },
  {
   "cell_type": "code",
   "execution_count": 6,
   "id": "7e31fffd",
   "metadata": {},
   "outputs": [
    {
     "data": {
      "text/plain": [
       "(7030, 219558, 6.0)"
      ]
     },
     "execution_count": 6,
     "metadata": {},
     "output_type": "execute_result"
    }
   ],
   "source": [
    "(citeseer.get_number_of_nodes(), citeseer.get_number_of_directed_edges(), citeseer.get_diameter())"
   ]
  },
  {
   "cell_type": "code",
   "execution_count": 7,
   "id": "273c2a75",
   "metadata": {},
   "outputs": [
    {
     "name": "stdout",
     "output_type": "stream",
     "text": [
      "CPU times: user 3min 31s, sys: 11.6 s, total: 3min 42s\n",
      "Wall time: 9.8 s\n"
     ]
    }
   ],
   "source": [
    "%%time\n",
    "citeseer_stress = citeseer.get_stress_centrality()"
   ]
  },
  {
   "cell_type": "code",
   "execution_count": 8,
   "id": "2f539161",
   "metadata": {},
   "outputs": [
    {
     "data": {
      "text/plain": [
       "array([4.4036567e+09, 5.2440607e+09, 4.9923625e+09, ..., 0.0000000e+00,\n",
       "       0.0000000e+00, 0.0000000e+00], dtype=float32)"
      ]
     },
     "execution_count": 8,
     "metadata": {},
     "output_type": "execute_result"
    }
   ],
   "source": [
    "citeseer_stress"
   ]
  },
  {
   "cell_type": "code",
   "execution_count": 9,
   "id": "7aceb9d3",
   "metadata": {},
   "outputs": [
    {
     "data": {
      "image/png": "[encoded data removed]",
      "text/plain": [
       "<Figure size 432x288 with 1 Axes>"
      ]
     },
     "metadata": {
      "needs_background": "light"
     },
     "output_type": "display_data"
    }
   ],
   "source": [
    "import matplotlib.pyplot as plt\n",
    "\n",
    "plt.hist(citeseer_stress, bins=50, log=True)\n",
    "plt.show()"
   ]
  },
  {
   "cell_type": "code",
   "execution_count": 10,
   "id": "8ce1d2f9",
   "metadata": {},
   "outputs": [
    {
     "data": {
      "text/plain": [
       "(20217, 2064713, 4.0)"
      ]
     },
     "execution_count": 10,
     "metadata": {},
     "output_type": "execute_result"
    }
   ],
   "source": [
    "(pubmed.get_number_of_nodes(), pubmed.get_number_of_directed_edges(), pubmed.get_diameter())"
   ]
  },
  {
   "cell_type": "code",
   "execution_count": 11,
   "id": "978d12f2",
   "metadata": {},
   "outputs": [
    {
     "name": "stdout",
     "output_type": "stream",
     "text": [
      "CPU times: user 31min 17s, sys: 40.1 s, total: 31min 57s\n",
      "Wall time: 1min 23s\n"
     ]
    }
   ],
   "source": [
    "%%time\n",
    "pubmed_stress = pubmed.get_stress_centrality()"
   ]
  },
  {
   "cell_type": "code",
   "execution_count": 12,
   "id": "b3ad0f7b",
   "metadata": {},
   "outputs": [
    {
     "data": {
      "image/png": "[encoded data removed]",
      "text/plain": [
       "<Figure size 432x288 with 1 Axes>"
      ]
     },
     "metadata": {
      "needs_background": "light"
     },
     "output_type": "display_data"
    }
   ],
   "source": [
    "import matplotlib.pyplot as plt\n",
    "\n",
    "plt.hist(pubmed_stress, bins=50, log=True)\n",
    "plt.show()"
   ]
  },
  {
   "cell_type": "code",
   "execution_count": 13,
   "id": "acc859d8",
   "metadata": {},
   "outputs": [],
   "source": [
    "from grape.datasets.string import HomoSapiens, CanisLupusFamiliaris, MusMusculus\n",
    "\n",
    "homo_sapiens = HomoSapiens()\n",
    "doggo = CanisLupusFamiliaris()\n",
    "mouse = MusMusculus()"
   ]
  },
  {
   "cell_type": "code",
   "execution_count": 14,
   "id": "b0ded979",
   "metadata": {},
   "outputs": [
    {
     "data": {
      "text/plain": [
       "(19566, 11938498, 5.0)"
      ]
     },
     "execution_count": 14,
     "metadata": {},
     "output_type": "execute_result"
    }
   ],
   "source": [
    "(\n",
    "    homo_sapiens.get_number_of_nodes(),\n",
    "    homo_sapiens.get_number_of_directed_edges(),\n",
    "    homo_sapiens.get_diameter()\n",
    ")"
   ]
  },
  {
   "cell_type": "code",
   "execution_count": 15,
   "id": "8d1d0d98",
   "metadata": {},
   "outputs": [
    {
     "name": "stdout",
     "output_type": "stream",
     "text": [
      "CPU times: user 30min 22s, sys: 43.4 s, total: 31min 5s\n",
      "Wall time: 1min 21s\n"
     ]
    }
   ],
   "source": [
    "%%time\n",
    "homo_sapiens_stress = homo_sapiens.get_stress_centrality()"
   ]
  },
  {
   "cell_type": "code",
   "execution_count": 16,
   "id": "527c2ce9",
   "metadata": {},
   "outputs": [
    {
     "data": {
      "image/png": "[encoded data removed]",
      "text/plain": [
       "<Figure size 432x288 with 1 Axes>"
      ]
     },
     "metadata": {
      "needs_background": "light"
     },
     "output_type": "display_data"
    }
   ],
   "source": [
    "import matplotlib.pyplot as plt\n",
    "\n",
    "plt.hist(homo_sapiens_stress, bins=50, log=True)\n",
    "plt.show()"
   ]
  },
  {
   "cell_type": "markdown",
   "id": "a58f0f92",
   "metadata": {},
   "source": [
    "Let's see which of the proteins in Homo Sapiens have the highest stress centrality:"
   ]
  },
  {
   "cell_type": "code",
   "execution_count": 17,
   "id": "fd12f372",
   "metadata": {},
   "outputs": [
    {
     "data": {
      "text/plain": [
       "[('9606.ENSP00000479618', 3496134700.0),\n",
       " ('9606.ENSP00000384863', 3522037200.0),\n",
       " ('9606.ENSP00000254846', 4295839000.0),\n",
       " ('9606.ENSP00000302961', 3797436200.0),\n",
       " ('9606.ENSP00000367203', 4081224700.0),\n",
       " ('9606.ENSP00000335153', 3779824000.0),\n",
       " ('9606.ENSP00000356530', 3977038000.0),\n",
       " ('9606.ENSP00000349960', 4473556500.0),\n",
       " ('9606.ENSP00000298910', 7117451300.0),\n",
       " ('9606.ENSP00000229239', 5201267000.0)]"
      ]
     },
     "execution_count": 17,
     "metadata": {},
     "output_type": "execute_result"
    }
   ],
   "source": [
    "import numpy as np\n",
    "\n",
    "k = 10\n",
    "\n",
    "[\n",
    "    (\n",
    "        homo_sapiens.get_node_name_from_node_id(node_id),\n",
    "        homo_sapiens_stress[node_id]\n",
    "    )\n",
    "    for node_id in np.argpartition(homo_sapiens_stress, -k)[-k:]\n",
    "]"
   ]
  },
  {
   "cell_type": "markdown",
   "id": "37a06f00",
   "metadata": {},
   "source": [
    "The highest stress centrality protein in Homo Sapiens is [`ENSP00000298910`](https://string-db.org/network/9606.ENSP00000298910)."
   ]
  },
  {
   "cell_type": "code",
   "execution_count": 18,
   "id": "bb3e8da8",
   "metadata": {},
   "outputs": [
    {
     "data": {
      "text/plain": [
       "(20199, 8591130, 5.0)"
      ]
     },
     "execution_count": 18,
     "metadata": {},
     "output_type": "execute_result"
    }
   ],
   "source": [
    "(doggo.get_number_of_nodes(), doggo.get_number_of_directed_edges(), doggo.get_diameter())"
   ]
  },
  {
   "cell_type": "code",
   "execution_count": 19,
   "id": "d44ee8cd",
   "metadata": {},
   "outputs": [
    {
     "name": "stdout",
     "output_type": "stream",
     "text": [
      "CPU times: user 27min 50s, sys: 42.8 s, total: 28min 33s\n",
      "Wall time: 1min 15s\n"
     ]
    }
   ],
   "source": [
    "%%time\n",
    "doggo_stress = doggo.get_stress_centrality()"
   ]
  },
  {
   "cell_type": "code",
   "execution_count": 20,
   "id": "47311496",
   "metadata": {},
   "outputs": [
    {
     "data": {
      "image/png": "[encoded data removed]",
      "text/plain": [
       "<Figure size 432x288 with 1 Axes>"
      ]
     },
     "metadata": {
      "needs_background": "light"
     },
     "output_type": "display_data"
    }
   ],
   "source": [
    "import matplotlib.pyplot as plt\n",
    "\n",
    "plt.hist(doggo_stress, bins=50, log=True)\n",
    "plt.show()"
   ]
  },
  {
   "cell_type": "code",
   "execution_count": 21,
   "id": "2590600e",
   "metadata": {},
   "outputs": [
    {
     "data": {
      "text/plain": [
       "[('9615.ENSCAFP00000001523', 8280923000.0),\n",
       " ('9615.ENSCAFP00000064590', 8388466700.0),\n",
       " ('9615.ENSCAFP00000034626', 9848398000.0),\n",
       " ('9615.ENSCAFP00000053880', 10312630000.0),\n",
       " ('9615.ENSCAFP00000030135', 10331377000.0),\n",
       " ('9615.ENSCAFP00000046856', 124871170000.0),\n",
       " ('9615.ENSCAFP00000043909', 124143740000.0),\n",
       " ('9615.ENSCAFP00000008611', 124871170000.0),\n",
       " ('9615.ENSCAFP00000065829', 124143740000.0),\n",
       " ('9615.ENSCAFP00000053673', 124143740000.0)]"
      ]
     },
     "execution_count": 21,
     "metadata": {},
     "output_type": "execute_result"
    }
   ],
   "source": [
    "import numpy as np\n",
    "\n",
    "k = 10\n",
    "\n",
    "[\n",
    "    (\n",
    "        doggo.get_node_name_from_node_id(node_id),\n",
    "        doggo_stress[node_id]\n",
    "    )\n",
    "    for node_id in np.argpartition(doggo_stress, -k)[-k:]\n",
    "]"
   ]
  },
  {
   "cell_type": "markdown",
   "id": "00a8af82",
   "metadata": {},
   "source": [
    "The highest stress centrality protein of Canis Lupus is `ENSCAFP00000008611`."
   ]
  },
  {
   "cell_type": "code",
   "execution_count": 22,
   "id": "603fe490",
   "metadata": {},
   "outputs": [
    {
     "data": {
      "text/plain": [
       "(22048, 14496358, 7.0)"
      ]
     },
     "execution_count": 22,
     "metadata": {},
     "output_type": "execute_result"
    }
   ],
   "source": [
    "(mouse.get_number_of_nodes(), mouse.get_number_of_directed_edges(), mouse.get_diameter())"
   ]
  },
  {
   "cell_type": "code",
   "execution_count": 23,
   "id": "bfd2c66a",
   "metadata": {},
   "outputs": [
    {
     "name": "stdout",
     "output_type": "stream",
     "text": [
      "CPU times: user 46min 2s, sys: 1min 1s, total: 47min 4s\n",
      "Wall time: 2min 4s\n"
     ]
    }
   ],
   "source": [
    "%%time\n",
    "mouse_stress = mouse.get_stress_centrality()"
   ]
  },
  {
   "cell_type": "code",
   "execution_count": 24,
   "id": "6f58d9ec",
   "metadata": {},
   "outputs": [
    {
     "data": {
      "image/png": "[encoded data removed]",
      "text/plain": [
       "<Figure size 432x288 with 1 Axes>"
      ]
     },
     "metadata": {
      "needs_background": "light"
     },
     "output_type": "display_data"
    }
   ],
   "source": [
    "import matplotlib.pyplot as plt\n",
    "\n",
    "plt.hist(mouse_stress, bins=50, log=True)\n",
    "plt.show()"
   ]
  },
  {
   "cell_type": "code",
   "execution_count": 25,
   "id": "de9444e1",
   "metadata": {},
   "outputs": [
    {
     "data": {
      "text/plain": [
       "[('10090.ENSMUSP00000070445', 2.0870414e+21),\n",
       " ('10090.ENSMUSP00000131648', 2.0906947e+21),\n",
       " ('10090.ENSMUSP00000097061', 2.0878647e+21),\n",
       " ('10090.ENSMUSP00000025791', 2.092224e+21),\n",
       " ('10090.ENSMUSP00000095866', 2.0960776e+21),\n",
       " ('10090.ENSMUSP00000104208', 2.0964442e+21),\n",
       " ('10090.ENSMUSP00000030940', 2.0950585e+21),\n",
       " ('10090.ENSMUSP00000025402', 2.1044284e+21),\n",
       " ('10090.ENSMUSP00000005606', 2.1014543e+21),\n",
       " ('10090.ENSMUSP00000005164', 2.1028666e+21)]"
      ]
     },
     "execution_count": 25,
     "metadata": {},
     "output_type": "execute_result"
    }
   ],
   "source": [
    "import numpy as np\n",
    "\n",
    "k = 10\n",
    "\n",
    "[\n",
    "    (\n",
    "        mouse.get_node_name_from_node_id(node_id),\n",
    "        mouse_stress[node_id]\n",
    "    )\n",
    "    for node_id in np.argpartition(mouse_stress, -k)[-k:]\n",
    "]"
   ]
  },
  {
   "cell_type": "markdown",
   "id": "7390635b",
   "metadata": {},
   "source": [
    "The highest stress centrality protein of Mus Musculus is [`ENSMUSP00000025402`](https://www.uniprot.org/uniprotkb/Q8CGK7/entry)."
   ]
  },
  {
   "cell_type": "markdown",
   "id": "64fe52e2",
   "metadata": {},
   "source": [
    "## Conclusions\n",
    "In conclusion, we have explored the parallel stress centrality algorithm as adapted from Madduri's paper and implemented by GRAPE. We have seen how the algorithm uses `lock-free` data structures and atomic instructions to avoid race conditions and ensure parallelism. We have also discussed the performance trade-offs between different atomic instructions and how to optimize them for specific graph topologies. Finally, we have executed the algorithm on six different graphs, including citation graphs and protein-protein interaction graphs, and plotted the stress centrality scores as histograms. Overall, the results showed that the parallel stress centrality algorithm is discretely efficient and relatively scalable. We hope that this tutorial has provided a useful introduction to parallel stress centrality and has inspired further exploration of parallel graph algorithms.\n",
    "\n",
    "*Do you have any idea on how to further improve the algorithm performance?*"
   ]
  }
 ],
 "metadata": {
  "kernelspec": {
   "display_name": "Python 3 (ipykernel)",
   "language": "python",
   "name": "python3"
  },
  "language_info": {
   "codemirror_mode": {
    "name": "ipython",
    "version": 3
   },
   "file_extension": ".py",
   "mimetype": "text/x-python",
   "name": "python",
   "nbconvert_exporter": "python",
   "pygments_lexer": "ipython3",
   "version": "3.9.7"
  }
 },
 "nbformat": 4,
 "nbformat_minor": 5
}
