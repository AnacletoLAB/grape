{
 "cells": [
  {
   "cell_type": "markdown",
   "id": "82def573",
   "metadata": {},
   "source": [
    "# Multiple Species Tree visualizations\n",
    "In this tutorial, we will visualize the Species Tree graph using all of the available embedding methods that can embed it.\n",
    "\n",
    "This will exclude methods that require edge weights."
   ]
  },
  {
   "cell_type": "markdown",
   "id": "19ccc599",
   "metadata": {},
   "source": [
    "## Retrieving the graph"
   ]
  },
  {
   "cell_type": "code",
   "execution_count": 1,
   "id": "095f81e6",
   "metadata": {},
   "outputs": [],
   "source": [
    "from grape.datasets.string import SpeciesTree\n",
    "graph = SpeciesTree()"
   ]
  },
  {
   "cell_type": "markdown",
   "id": "a03485a7",
   "metadata": {},
   "source": [
    "To get the graph report, just run:"
   ]
  },
  {
   "cell_type": "code",
   "execution_count": 2,
   "id": "2cb2a053",
   "metadata": {},
   "outputs": [
    {
     "data": {
      "text/html": [
       "<div class=\"graph-report\"><style>.graph-report li {margin: 0.5em 0 0.5em 0;}.graph-report .paragraph {text-align: justify;word-break: break-all;}.graph-report .small-columns {column-count: 4;column-gap: 2em;}.graph-report .medium-columns {column-count: 3;column-gap: 2em;}.graph-report .large-columns {column-count: 2;column-gap: 2em;}.graph-report .single-column {}@media only screen and (max-width: 600px) {.graph-report .small-columns {column-count: 1;}.graph-report .medium-columns {column-count: 1;}.graph-report .large-columns {column-count: 1;}}@media only screen and (min-width: 600px) and (max-width: 800px) {.graph-report .small-columns {column-count: 2;}.graph-report .medium-columns {column-count: 1;}.graph-report .large-columns {column-count: 1;}}@media only screen and (min-width: 800px) and (max-width: 1024px) {.graph-report .small-columns {column-count: 3;}.graph-report .medium-columns {column-count: 2;}.graph-report .large-columns {column-count: 1;}}</style><h2>SpeciesTree</h2><p class=\"paragraph\">The undirected graph SpeciesTree has 24.62K heterogeneous nodes and 24.61K heterogeneous edges. The graph is connected, that is, it is composed of a single connected component that includes all nodes and edges. The RAM requirements for the nodes and edges data structures are 3.63MB and 99.70KB respectively.</p><h3 style=\"margin: 1em 0 0 0;\">Degree centrality</h3><p class=\"paragraph\">The minimum node degree is 1, the maximum node degree is 163, the mode degree is 1, the mean degree is 2.00 and the node degree median is 1.</p><p class=\"paragraph\">The nodes with the highest degree centrality are Lactobacillus (degree 163 and node type Bacteria), Streptomyces (degree 156 and node type Bacteria), Bacillus (degree 128 and node type Bacteria), unclassified Streptomyces (degree 123 and node type Bacteria) and Rhodobacteraceae (degree 105 and node type Bacteria).</p><h3 style=\"margin: 1em 0 0 0;\">Node types</h3><p class=\"paragraph\">The graph has 4 node types, which are Bacteria (19.13K nodes, 77.72%), Eukaryota (4.50K nodes, 18.27%), Archaea (987 nodes, 4.01%) and Ancestral. The RAM requirement for the node types data structure is 1.28MB.</p><h4 style=\"margin: 1em 0 0 0;\">Singleton node types</h4><p class=\"paragraph\">Singleton node types are node types that are assigned exclusively to a single node, making the node type relatively meaningless, as it adds no more information than the node name itself. The graph contains a singleton node type, which is Ancestral (node cellular organisms (degree 3 and node type Ancestral)).</p><h3 style=\"margin: 1em 0 0 0;\">Edge types</h3><p class=\"paragraph\">The graph has 3 edge types, which are Bacteria (38.26K edges, 77.72%), Eukaryota (8.99K edges, 18.27%) and Archaea (1.97K edges, 4.01%). The RAM requirement for the edge types data structure is 197.30KB.</p><h3 style=\"margin: 1em 0 0 0;\">Topological Oddities</h3><p class=\"paragraph\">A topological oddity is a set of nodes in the graph that <i>may be derived</i> by an error during the generation of the edge list of the graph and, depending on the task, could bias the results of topology-based models. In the following paragraph, we will describe the detected topological oddities.</p><h4 style=\"margin: 1em 0 0 0;\">Trees</h4><p class=\"paragraph\">A tree is a connected component with <code>n</code> nodes and <code>n-1</code> edges. We have detected  a single tree in the graph, involving a total of 24.62K nodes (100.00%) and 24.61K edges (50.00%).</p><ul class=\"large-columns\"><li><p class=\"paragraph\">Tree starting from the root node Craniata (degree 2 and node type Eukaryota), and containing 24.62K nodes, with a maximal depth of 33, which are Chordata (degree 4 and node type Eukaryota), Vertebrata (degree 3 and node type Eukaryota), Tunicata (node type Eukaryota), Cephalochordata (node type Eukaryota) and Deuterostomia (degree 4 and node type Eukaryota). Its nodes have 4 node types, which are Bacteria (19.13K nodes, 77.72%), Eukaryota (4.50K nodes, 18.26%), Archaea (987 nodes, 4.01%) and Ancestral. Its edges have 3 edge types, which are Bacteria (38.26K edges, 77.72%), Eukaryota (8.99K edges, 18.27%) and Archaea (1.97K edges, 4.01%).</p></li></ul></div>"
      ],
      "text/plain": [
       "<div class=\"graph-report\"><style>.graph-report li {margin: 0.5em 0 0.5em 0;}.graph-report .paragraph {text-align: justify;word-break: break-all;}.graph-report .small-columns {column-count: 4;column-gap: 2em;}.graph-report .medium-columns {column-count: 3;column-gap: 2em;}.graph-report .large-columns {column-count: 2;column-gap: 2em;}.graph-report .single-column {}@media only screen and (max-width: 600px) {.graph-report .small-columns {column-count: 1;}.graph-report .medium-columns {column-count: 1;}.graph-report .large-columns {column-count: 1;}}@media only screen and (min-width: 600px) and (max-width: 800px) {.graph-report .small-columns {column-count: 2;}.graph-report .medium-columns {column-count: 1;}.graph-report .large-columns {column-count: 1;}}@media only screen and (min-width: 800px) and (max-width: 1024px) {.graph-report .small-columns {column-count: 3;}.graph-report .medium-columns {column-count: 2;}.graph-report .large-columns {column-count: 1;}}</style><h2>SpeciesTree</h2><p class=\"paragraph\">The undirected graph SpeciesTree has 24.62K heterogeneous nodes and 24.61K heterogeneous edges. The graph is connected, that is, it is composed of a single connected component that includes all nodes and edges. The RAM requirements for the nodes and edges data structures are 3.63MB and 99.70KB respectively.</p><h3 style=\"margin: 1em 0 0 0;\">Degree centrality</h3><p class=\"paragraph\">The minimum node degree is 1, the maximum node degree is 163, the mode degree is 1, the mean degree is 2.00 and the node degree median is 1.</p><p class=\"paragraph\">The nodes with the highest degree centrality are Lactobacillus (degree 163 and node type Bacteria), Streptomyces (degree 156 and node type Bacteria), Bacillus (degree 128 and node type Bacteria), unclassified Streptomyces (degree 123 and node type Bacteria) and Rhodobacteraceae (degree 105 and node type Bacteria).</p><h3 style=\"margin: 1em 0 0 0;\">Node types</h3><p class=\"paragraph\">The graph has 4 node types, which are Bacteria (19.13K nodes, 77.72%), Eukaryota (4.50K nodes, 18.27%), Archaea (987 nodes, 4.01%) and Ancestral. The RAM requirement for the node types data structure is 1.28MB.</p><h4 style=\"margin: 1em 0 0 0;\">Singleton node types</h4><p class=\"paragraph\">Singleton node types are node types that are assigned exclusively to a single node, making the node type relatively meaningless, as it adds no more information than the node name itself. The graph contains a singleton node type, which is Ancestral (node cellular organisms (degree 3 and node type Ancestral)).</p><h3 style=\"margin: 1em 0 0 0;\">Edge types</h3><p class=\"paragraph\">The graph has 3 edge types, which are Bacteria (38.26K edges, 77.72%), Eukaryota (8.99K edges, 18.27%) and Archaea (1.97K edges, 4.01%). The RAM requirement for the edge types data structure is 197.30KB.</p><h3 style=\"margin: 1em 0 0 0;\">Topological Oddities</h3><p class=\"paragraph\">A topological oddity is a set of nodes in the graph that <i>may be derived</i> by an error during the generation of the edge list of the graph and, depending on the task, could bias the results of topology-based models. In the following paragraph, we will describe the detected topological oddities.</p><h4 style=\"margin: 1em 0 0 0;\">Trees</h4><p class=\"paragraph\">A tree is a connected component with <code>n</code> nodes and <code>n-1</code> edges. We have detected  a single tree in the graph, involving a total of 24.62K nodes (100.00%) and 24.61K edges (50.00%).</p><ul class=\"large-columns\"><li><p class=\"paragraph\">Tree starting from the root node Chordata (degree 4 and node type Eukaryota), and containing 24.62K nodes, with a maximal depth of 32, which are Tunicata (node type Eukaryota), Cephalochordata (node type Eukaryota), Deuterostomia (degree 4 and node type Eukaryota), Craniata (node type Eukaryota) and Ascidiacea (node type Eukaryota). Its nodes have 4 node types, which are Bacteria (19.13K nodes, 77.72%), Eukaryota (4.50K nodes, 18.26%), Archaea (987 nodes, 4.01%) and Ancestral. Its edges have 3 edge types, which are Bacteria (38.26K edges, 77.73%), Eukaryota (8.99K edges, 18.26%) and Archaea (1.97K edges, 4.01%).</p></li></ul></div>"
      ]
     },
     "execution_count": 2,
     "metadata": {},
     "output_type": "execute_result"
    }
   ],
   "source": [
    "graph"
   ]
  },
  {
   "cell_type": "markdown",
   "id": "17693b66",
   "metadata": {},
   "source": [
    "## Sorting the graph by decreasing node degree\n",
    "Some of the TensorFlow embedding models use the TensorFlow NCE method, which requires the nodes to be sorted by occurrence."
   ]
  },
  {
   "cell_type": "code",
   "execution_count": 3,
   "id": "6c154a70",
   "metadata": {},
   "outputs": [],
   "source": [
    "graph = graph.sort_by_decreasing_outbound_node_degree()"
   ]
  },
  {
   "cell_type": "markdown",
   "id": "1c95ad08",
   "metadata": {},
   "source": [
    "## Splitting into training and test set"
   ]
  },
  {
   "cell_type": "code",
   "execution_count": 4,
   "id": "ee3da5fb",
   "metadata": {},
   "outputs": [],
   "source": [
    "train, test = graph.get_node_label_holdout_graphs(train_size=0.7)\n",
    "train.enable()"
   ]
  },
  {
   "cell_type": "markdown",
   "id": "4e675317",
   "metadata": {},
   "source": [
    "## Retrieving the available embedding methods"
   ]
  },
  {
   "cell_type": "code",
   "execution_count": 5,
   "id": "773e3729",
   "metadata": {},
   "outputs": [],
   "source": [
    "from grape import get_available_models_for_node_embedding\n",
    "\n",
    "all_embedding_methods = get_available_models_for_node_embedding()\n",
    "embedding_methods = all_embedding_methods[~all_embedding_methods.requires_edge_weights.astype(bool)]\n",
    "\n",
    "# We remove some models that either require some additional\n",
    "# information or are simply currently work in progress.\n",
    "embedding_methods = embedding_methods[\n",
    "    ~embedding_methods.model_name.str.contains(\"SPINE\") &\n",
    "    ~embedding_methods.model_name.str.contains(\"WINE\")\n",
    "]"
   ]
  },
  {
   "cell_type": "markdown",
   "id": "5985f186",
   "metadata": {},
   "source": [
    "## Running the visualizations"
   ]
  },
  {
   "cell_type": "code",
   "execution_count": null,
   "id": "9837aae3",
   "metadata": {
    "scrolled": false
   },
   "outputs": [
    {
     "data": {
      "application/vnd.jupyter.widget-view+json": {
       "model_id": "6b844dcd48674c238440dfef3d1cbbcd",
       "version_major": 2,
       "version_minor": 0
      },
      "text/plain": [
       "Computing embedding:   0%|          | 0/65 [00:00<?, ?it/s]"
      ]
     },
     "metadata": {},
     "output_type": "display_data"
    }
   ],
   "source": [
    "import silence_tensorflow.auto\n",
    "from grape import GraphVisualizer\n",
    "from grape.utils import AbstractEmbeddingModel\n",
    "from tqdm.auto import tqdm\n",
    "import matplotlib.pyplot as plt\n",
    "from math import ceil\n",
    "\n",
    "ncols = 6\n",
    "nrows = ceil(embedding_methods.shape[0] / ncols)\n",
    "\n",
    "fig, axes = plt.subplots(nrows=nrows, ncols=ncols, figsize=(6*ncols, 6*nrows))\n",
    "\n",
    "for index, (_, row) in tqdm(\n",
    "    enumerate(embedding_methods.iterrows()),\n",
    "    total=embedding_methods.shape[0],\n",
    "    desc=\"Computing embedding\"\n",
    "):\n",
    "    model = AbstractEmbeddingModel.get_model_from_library(\n",
    "        model_name=row.model_name,\n",
    "        library_name=row.library_name\n",
    "    )(enable_cache=True)\n",
    "    embedding = model.fit_transform(train)\n",
    "    vis = GraphVisualizer(\n",
    "        graph,\n",
    "        node_embedding_method_name=f\"{row.model_name} {row.library_name}\",\n",
    "        automatically_display_on_notebooks=False\n",
    "    )\n",
    "    vis.fit_nodes(embedding)\n",
    "    vis.plot_node_types(\n",
    "        figure=fig,\n",
    "        axes=axes[index // ncols, index % ncols],\n",
    "        train_indices=train.get_node_ids_with_known_node_types(),\n",
    "        test_indices=test.get_node_ids_with_known_node_types()\n",
    "    )\n",
    "    \n",
    "for axis in axes.flatten()[index:]:\n",
    "    for spine in axis.spines.values():\n",
    "        spine.set_visible(False)\n",
    "    axis.axis(\"off\")\n",
    "    \n",
    "fig.tight_layout()\n",
    "plt.show()"
   ]
  }
 ],
 "metadata": {
  "kernelspec": {
   "display_name": "Python 3 (ipykernel)",
   "language": "python",
   "name": "python3"
  },
  "language_info": {
   "codemirror_mode": {
    "name": "ipython",
    "version": 3
   },
   "file_extension": ".py",
   "mimetype": "text/x-python",
   "name": "python",
   "nbconvert_exporter": "python",
   "pygments_lexer": "ipython3",
   "version": "3.9.7"
  }
 },
 "nbformat": 4,
 "nbformat_minor": 5
}
