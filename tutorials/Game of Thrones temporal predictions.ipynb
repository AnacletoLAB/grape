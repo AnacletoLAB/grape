{
 "cells": [
  {
   "cell_type": "markdown",
   "id": "c2253be3",
   "metadata": {
    "slideshow": {
     "slide_type": "slide"
    }
   },
   "source": [
    "**Install 🍇 by running:**\n",
    "\n",
    "```bash\n",
    "pip install grape -U\n",
    "```"
   ]
  },
  {
   "cell_type": "code",
   "execution_count": 1,
   "id": "c925218a",
   "metadata": {
    "slideshow": {
     "slide_type": "-"
    }
   },
   "outputs": [],
   "source": [
    "from grape.datasets.zenodo import (\n",
    "    GameOfThronesCharactersInteractions\n",
    ")\n",
    "graph = GameOfThronesCharactersInteractions()"
   ]
  },
  {
   "cell_type": "markdown",
   "id": "d7185b1e",
   "metadata": {
    "slideshow": {
     "slide_type": "slide"
    }
   },
   "source": [
    "We get the books one to four with a filter:"
   ]
  },
  {
   "cell_type": "code",
   "execution_count": 2,
   "id": "34a2ed26",
   "metadata": {
    "slideshow": {
     "slide_type": "-"
    }
   },
   "outputs": [],
   "source": [
    "first_boooks = graph.filter_from_names(\n",
    "    edge_type_names_to_remove=[\"5\"],\n",
    ")"
   ]
  },
  {
   "cell_type": "markdown",
   "id": "340e5267",
   "metadata": {
    "slideshow": {
     "slide_type": "slide"
    }
   },
   "source": [
    "We get the fifth book with a filter"
   ]
  },
  {
   "cell_type": "code",
   "execution_count": 3,
   "id": "bb662fa7",
   "metadata": {
    "slideshow": {
     "slide_type": "-"
    }
   },
   "outputs": [],
   "source": [
    "fifth_book = graph.filter_from_names(\n",
    "    edge_type_names_to_keep=[\"5\"],\n",
    ")"
   ]
  },
  {
   "cell_type": "markdown",
   "id": "ebe26df6",
   "metadata": {
    "slideshow": {
     "slide_type": "slide"
    }
   },
   "source": [
    "But we are only interested in interactions\n",
    "EXCLUSIVELY from the fifth book."
   ]
  },
  {
   "cell_type": "code",
   "execution_count": 4,
   "id": "3423fd55",
   "metadata": {
    "slideshow": {
     "slide_type": "-"
    }
   },
   "outputs": [],
   "source": [
    "exclusively_fifth_book = (\n",
    "    fifth_book - first_boooks\n",
    ")"
   ]
  },
  {
   "cell_type": "markdown",
   "id": "c8495940",
   "metadata": {
    "slideshow": {
     "slide_type": "slide"
    }
   },
   "source": [
    "We need to remove characters that only\n",
    "appear in the fifth book, as there is no\n",
    "hope to predict them."
   ]
  },
  {
   "cell_type": "code",
   "execution_count": 5,
   "id": "c196562d",
   "metadata": {
    "slideshow": {
     "slide_type": "-"
    }
   },
   "outputs": [],
   "source": [
    "disconnected = first_boooks\\\n",
    "    .get_singleton_node_names()\n",
    "first_boooks = first_boooks\\\n",
    "    .remove_disconnected_nodes()\n",
    "exclusively_fifth_book = exclusively_fifth_book\\\n",
    "    .filter_from_names(\n",
    "        node_names_to_remove=disconnected\n",
    "    )"
   ]
  },
  {
   "cell_type": "markdown",
   "id": "abe2bae2",
   "metadata": {
    "slideshow": {
     "slide_type": "slide"
    }
   },
   "source": [
    "We also sample a negative graph to evaluate the performance"
   ]
  },
  {
   "cell_type": "code",
   "execution_count": 6,
   "id": "d01ab0ee",
   "metadata": {
    "slideshow": {
     "slide_type": "-"
    }
   },
   "outputs": [],
   "source": [
    "negative_graph = first_boooks\\\n",
    "    .sample_negative_graph(\n",
    "        number_of_negative_samples=exclusively_fifth_book\\\n",
    "            .get_number_of_directed_edges(),\n",
    "        use_scale_free_distribution=True\n",
    "    )"
   ]
  },
  {
   "cell_type": "markdown",
   "id": "c9d68ab2",
   "metadata": {
    "slideshow": {
     "slide_type": "-"
    }
   },
   "source": [
    "*We use scale free distribution for the sampling so to avoid degree biases.*"
   ]
  },
  {
   "cell_type": "markdown",
   "id": "722165a2",
   "metadata": {
    "slideshow": {
     "slide_type": "slide"
    }
   },
   "source": [
    "We computer a First-order LINE embedding"
   ]
  },
  {
   "cell_type": "code",
   "execution_count": 7,
   "id": "90ccebca",
   "metadata": {
    "slideshow": {
     "slide_type": "-"
    }
   },
   "outputs": [
    {
     "name": "stdout",
     "output_type": "stream",
     "text": [
      "CPU times: user 8.88 s, sys: 371 ms, total: 9.25 s\n",
      "Wall time: 428 ms\n"
     ]
    }
   ],
   "source": [
    "%%time\n",
    "from grape.embedders import FirstOrderLINEEnsmallen\n",
    "\n",
    "embedding = FirstOrderLINEEnsmallen(epochs=1000)\\\n",
    "    .fit_transform(first_boooks)"
   ]
  },
  {
   "cell_type": "markdown",
   "id": "40740d33",
   "metadata": {
    "slideshow": {
     "slide_type": "slide"
    }
   },
   "source": [
    "We create a simple percepron model, trained on the cosine similarity of the embedding."
   ]
  },
  {
   "cell_type": "code",
   "execution_count": 8,
   "id": "1a008bef",
   "metadata": {
    "slideshow": {
     "slide_type": "-"
    }
   },
   "outputs": [],
   "source": [
    "from grape.edge_prediction import PerceptronEdgePrediction\n",
    "\n",
    "model = PerceptronEdgePrediction(\n",
    "    edge_features=None,\n",
    "    edge_embeddings=[\n",
    "        \"CosineSimilarity\"\n",
    "    ],\n",
    "    number_of_edges_per_mini_batch=8\n",
    ")"
   ]
  },
  {
   "cell_type": "markdown",
   "id": "33b8bb1a",
   "metadata": {
    "slideshow": {
     "slide_type": "slide"
    }
   },
   "source": [
    "We fit the model on the first books graph"
   ]
  },
  {
   "cell_type": "code",
   "execution_count": 9,
   "id": "a9839c0e",
   "metadata": {
    "slideshow": {
     "slide_type": "-"
    }
   },
   "outputs": [],
   "source": [
    "model.fit(\n",
    "    first_boooks,\n",
    "    node_features=embedding\n",
    ")"
   ]
  },
  {
   "cell_type": "markdown",
   "id": "a96ff164",
   "metadata": {
    "slideshow": {
     "slide_type": "slide"
    }
   },
   "source": [
    "We get the predictions for the fifth book"
   ]
  },
  {
   "cell_type": "code",
   "execution_count": 10,
   "id": "9ff09c50",
   "metadata": {
    "slideshow": {
     "slide_type": "-"
    }
   },
   "outputs": [],
   "source": [
    "pred = model.predict_proba(\n",
    "    exclusively_fifth_book,\n",
    "    node_features=embedding,\n",
    "    return_predictions_dataframe=True\n",
    ").sort_values(\"predictions\")"
   ]
  },
  {
   "cell_type": "code",
   "execution_count": 11,
   "id": "bc458fbd",
   "metadata": {
    "slideshow": {
     "slide_type": "subslide"
    }
   },
   "outputs": [
    {
     "data": {
      "text/html": [
       "<div>\n",
       "<style scoped>\n",
       "    .dataframe tbody tr th:only-of-type {\n",
       "        vertical-align: middle;\n",
       "    }\n",
       "\n",
       "    .dataframe tbody tr th {\n",
       "        vertical-align: top;\n",
       "    }\n",
       "\n",
       "    .dataframe thead th {\n",
       "        text-align: right;\n",
       "    }\n",
       "</style>\n",
       "<table border=\"1\" class=\"dataframe\">\n",
       "  <thead>\n",
       "    <tr style=\"text-align: right;\">\n",
       "      <th></th>\n",
       "      <th>predictions</th>\n",
       "      <th>sources</th>\n",
       "      <th>destinations</th>\n",
       "    </tr>\n",
       "  </thead>\n",
       "  <tbody>\n",
       "    <tr>\n",
       "      <th>17</th>\n",
       "      <td>0.012444</td>\n",
       "      <td>Jon Snow</td>\n",
       "      <td>Sansa Stark</td>\n",
       "    </tr>\n",
       "    <tr>\n",
       "      <th>11</th>\n",
       "      <td>0.012444</td>\n",
       "      <td>Sansa Stark</td>\n",
       "      <td>Jon Snow</td>\n",
       "    </tr>\n",
       "    <tr>\n",
       "      <th>450</th>\n",
       "      <td>0.021575</td>\n",
       "      <td>Arya Stark</td>\n",
       "      <td>Melisandre</td>\n",
       "    </tr>\n",
       "    <tr>\n",
       "      <th>583</th>\n",
       "      <td>0.021575</td>\n",
       "      <td>Melisandre</td>\n",
       "      <td>Arya Stark</td>\n",
       "    </tr>\n",
       "    <tr>\n",
       "      <th>87</th>\n",
       "      <td>0.023964</td>\n",
       "      <td>Jeyne Poole</td>\n",
       "      <td>Theon Greyjoy</td>\n",
       "    </tr>\n",
       "    <tr>\n",
       "      <th>...</th>\n",
       "      <td>...</td>\n",
       "      <td>...</td>\n",
       "      <td>...</td>\n",
       "    </tr>\n",
       "    <tr>\n",
       "      <th>285</th>\n",
       "      <td>0.956905</td>\n",
       "      <td>Rakharo</td>\n",
       "      <td>Aggo</td>\n",
       "    </tr>\n",
       "    <tr>\n",
       "      <th>387</th>\n",
       "      <td>0.957030</td>\n",
       "      <td>Aggo</td>\n",
       "      <td>Jhogo</td>\n",
       "    </tr>\n",
       "    <tr>\n",
       "      <th>100</th>\n",
       "      <td>0.957030</td>\n",
       "      <td>Jhogo</td>\n",
       "      <td>Aggo</td>\n",
       "    </tr>\n",
       "    <tr>\n",
       "      <th>91</th>\n",
       "      <td>0.957141</td>\n",
       "      <td>Jhiqui</td>\n",
       "      <td>Irri</td>\n",
       "    </tr>\n",
       "    <tr>\n",
       "      <th>227</th>\n",
       "      <td>0.957141</td>\n",
       "      <td>Irri</td>\n",
       "      <td>Jhiqui</td>\n",
       "    </tr>\n",
       "  </tbody>\n",
       "</table>\n",
       "<p>782 rows × 3 columns</p>\n",
       "</div>"
      ],
      "text/plain": [
       "     predictions      sources   destinations\n",
       "17      0.012444     Jon Snow    Sansa Stark\n",
       "11      0.012444  Sansa Stark       Jon Snow\n",
       "450     0.021575   Arya Stark     Melisandre\n",
       "583     0.021575   Melisandre     Arya Stark\n",
       "87      0.023964  Jeyne Poole  Theon Greyjoy\n",
       "..           ...          ...            ...\n",
       "285     0.956905      Rakharo           Aggo\n",
       "387     0.957030         Aggo          Jhogo\n",
       "100     0.957030        Jhogo           Aggo\n",
       "91      0.957141       Jhiqui           Irri\n",
       "227     0.957141         Irri         Jhiqui\n",
       "\n",
       "[782 rows x 3 columns]"
      ]
     },
     "execution_count": 11,
     "metadata": {},
     "output_type": "execute_result"
    }
   ],
   "source": [
    "pred"
   ]
  },
  {
   "cell_type": "markdown",
   "id": "ed729577",
   "metadata": {
    "slideshow": {
     "slide_type": "slide"
    }
   },
   "source": [
    "We get the predictions for non-existent edges"
   ]
  },
  {
   "cell_type": "code",
   "execution_count": 12,
   "id": "2ab91c7f",
   "metadata": {
    "slideshow": {
     "slide_type": "-"
    }
   },
   "outputs": [],
   "source": [
    "not_pred = model.predict_proba(\n",
    "    negative_graph,\n",
    "    node_features=embedding,\n",
    "    return_predictions_dataframe=True\n",
    ").sort_values(\"predictions\")"
   ]
  },
  {
   "cell_type": "code",
   "execution_count": 13,
   "id": "8caebd52",
   "metadata": {
    "slideshow": {
     "slide_type": "subslide"
    }
   },
   "outputs": [
    {
     "data": {
      "text/html": [
       "<div>\n",
       "<style scoped>\n",
       "    .dataframe tbody tr th:only-of-type {\n",
       "        vertical-align: middle;\n",
       "    }\n",
       "\n",
       "    .dataframe tbody tr th {\n",
       "        vertical-align: top;\n",
       "    }\n",
       "\n",
       "    .dataframe thead th {\n",
       "        text-align: right;\n",
       "    }\n",
       "</style>\n",
       "<table border=\"1\" class=\"dataframe\">\n",
       "  <thead>\n",
       "    <tr style=\"text-align: right;\">\n",
       "      <th></th>\n",
       "      <th>predictions</th>\n",
       "      <th>sources</th>\n",
       "      <th>destinations</th>\n",
       "    </tr>\n",
       "  </thead>\n",
       "  <tbody>\n",
       "    <tr>\n",
       "      <th>318</th>\n",
       "      <td>0.005268</td>\n",
       "      <td>Tywin Lannister</td>\n",
       "      <td>Jeor Mormont</td>\n",
       "    </tr>\n",
       "    <tr>\n",
       "      <th>52</th>\n",
       "      <td>0.005268</td>\n",
       "      <td>Jeor Mormont</td>\n",
       "      <td>Tywin Lannister</td>\n",
       "    </tr>\n",
       "    <tr>\n",
       "      <th>61</th>\n",
       "      <td>0.006267</td>\n",
       "      <td>Jon Snow</td>\n",
       "      <td>Kevan Lannister</td>\n",
       "    </tr>\n",
       "    <tr>\n",
       "      <th>243</th>\n",
       "      <td>0.006267</td>\n",
       "      <td>Kevan Lannister</td>\n",
       "      <td>Jon Snow</td>\n",
       "    </tr>\n",
       "    <tr>\n",
       "      <th>1290</th>\n",
       "      <td>0.006709</td>\n",
       "      <td>Jarl</td>\n",
       "      <td>Tywin Lannister</td>\n",
       "    </tr>\n",
       "    <tr>\n",
       "      <th>...</th>\n",
       "      <td>...</td>\n",
       "      <td>...</td>\n",
       "      <td>...</td>\n",
       "    </tr>\n",
       "    <tr>\n",
       "      <th>1060</th>\n",
       "      <td>0.912646</td>\n",
       "      <td>Osfryd Kettleblack</td>\n",
       "      <td>Dorcas</td>\n",
       "    </tr>\n",
       "    <tr>\n",
       "      <th>588</th>\n",
       "      <td>0.922272</td>\n",
       "      <td>Walder Frey</td>\n",
       "      <td>Marq Piper</td>\n",
       "    </tr>\n",
       "    <tr>\n",
       "      <th>477</th>\n",
       "      <td>0.922272</td>\n",
       "      <td>Marq Piper</td>\n",
       "      <td>Walder Frey</td>\n",
       "    </tr>\n",
       "    <tr>\n",
       "      <th>1162</th>\n",
       "      <td>0.944363</td>\n",
       "      <td>Pono</td>\n",
       "      <td>Aggo</td>\n",
       "    </tr>\n",
       "    <tr>\n",
       "      <th>794</th>\n",
       "      <td>0.944363</td>\n",
       "      <td>Aggo</td>\n",
       "      <td>Pono</td>\n",
       "    </tr>\n",
       "  </tbody>\n",
       "</table>\n",
       "<p>1564 rows × 3 columns</p>\n",
       "</div>"
      ],
      "text/plain": [
       "      predictions             sources     destinations\n",
       "318      0.005268     Tywin Lannister     Jeor Mormont\n",
       "52       0.005268        Jeor Mormont  Tywin Lannister\n",
       "61       0.006267            Jon Snow  Kevan Lannister\n",
       "243      0.006267     Kevan Lannister         Jon Snow\n",
       "1290     0.006709                Jarl  Tywin Lannister\n",
       "...           ...                 ...              ...\n",
       "1060     0.912646  Osfryd Kettleblack           Dorcas\n",
       "588      0.922272         Walder Frey       Marq Piper\n",
       "477      0.922272          Marq Piper      Walder Frey\n",
       "1162     0.944363                Pono             Aggo\n",
       "794      0.944363                Aggo             Pono\n",
       "\n",
       "[1564 rows x 3 columns]"
      ]
     },
     "execution_count": 13,
     "metadata": {},
     "output_type": "execute_result"
    }
   ],
   "source": [
    "not_pred"
   ]
  },
  {
   "cell_type": "markdown",
   "id": "d257ef4d",
   "metadata": {
    "slideshow": {
     "slide_type": "slide"
    }
   },
   "source": [
    "We  plot the predictions"
   ]
  },
  {
   "cell_type": "code",
   "execution_count": 14,
   "id": "997c96b2",
   "metadata": {
    "slideshow": {
     "slide_type": "-"
    }
   },
   "outputs": [],
   "source": [
    "import matplotlib.pyplot as plt\n",
    "\n",
    "def plot_predictions(pred, not_pred):\n",
    "    fig, ax = plt.subplots(figsize=(5, 5))\n",
    "\n",
    "    ax.hist(\n",
    "        [not_pred.predictions, pred.predictions],\n",
    "        label=(\"Non-existing\", \"Fifth book only\"),\n",
    "        bins=30,\n",
    "    )\n",
    "    ax.set_xlabel(\"Prediction score\")\n",
    "    ax.set_ylabel(\"Prediction counts\")\n",
    "    ax.set_title(\"Predictions\")\n",
    "    _ = ax.legend()"
   ]
  },
  {
   "cell_type": "code",
   "execution_count": 15,
   "id": "12b8dbf0",
   "metadata": {
    "slideshow": {
     "slide_type": "subslide"
    }
   },
   "outputs": [
    {
     "data": {
      "image/png": "[encoded data removed]",
      "text/plain": [
       "<Figure size 360x360 with 1 Axes>"
      ]
     },
     "metadata": {
      "needs_background": "light"
     },
     "output_type": "display_data"
    }
   ],
   "source": [
    "plot_predictions(pred, not_pred)"
   ]
  }
 ],
 "metadata": {
  "kernelspec": {
   "display_name": "Python 3 (ipykernel)",
   "language": "python",
   "name": "python3"
  },
  "language_info": {
   "codemirror_mode": {
    "name": "ipython",
    "version": 3
   },
   "file_extension": ".py",
   "mimetype": "text/x-python",
   "name": "python",
   "nbconvert_exporter": "python",
   "pygments_lexer": "ipython3",
   "version": "3.9.7"
  }
 },
 "nbformat": 4,
 "nbformat_minor": 5
}
