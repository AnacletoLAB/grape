{
 "cells": [
  {
   "cell_type": "markdown",
   "metadata": {},
   "source": [
    "# Multiple Human Phenotype Ontology visualizations\n",
    "In this tutorial, we will visualize the Human Phenotype Ontology graph using all of the available embedding methods that can embed it.\n",
    "\n",
    "This will exclude methods that require edge weights."
   ]
  },
  {
   "cell_type": "markdown",
   "metadata": {},
   "source": [
    "## Installing 🍇\n",
    "To install GRAPE, run:"
   ]
  },
  {
   "cell_type": "code",
   "execution_count": null,
   "metadata": {},
   "outputs": [],
   "source": [
    "! pip install grape -Uq"
   ]
  },
  {
   "cell_type": "markdown",
   "metadata": {},
   "source": [
    "🍇 provides wrapping for the Karate Club and PyKEEN libraries, but if you want to use them you'll need to install them separately."
   ]
  },
  {
   "cell_type": "code",
   "execution_count": null,
   "metadata": {},
   "outputs": [],
   "source": [
    "! pip install pykeen karateclub -Uq"
   ]
  },
  {
   "cell_type": "markdown",
   "metadata": {},
   "source": [
    "## Retrieving the graph"
   ]
  },
  {
   "cell_type": "code",
   "execution_count": null,
   "metadata": {},
   "outputs": [],
   "source": [
    "from grape.datasets.kgobo import HP\n",
    "from grape import GraphVisualizer\n",
    "graph = HP()"
   ]
  },
  {
   "cell_type": "markdown",
   "metadata": {},
   "source": [
    "To get the graph report, just run:"
   ]
  },
  {
   "cell_type": "code",
   "execution_count": null,
   "metadata": {},
   "outputs": [],
   "source": [
    "graph"
   ]
  },
  {
   "cell_type": "markdown",
   "metadata": {},
   "source": [
    "Since the graph contains disconnected nodes, including singleton nodes with selfloops, we need to drop them:"
   ]
  },
  {
   "cell_type": "code",
   "execution_count": null,
   "metadata": {},
   "outputs": [],
   "source": [
    "graph = graph.remove_disconnected_nodes()"
   ]
  },
  {
   "cell_type": "markdown",
   "metadata": {},
   "source": [
    "## Split the graph into train and test holdouts"
   ]
  },
  {
   "cell_type": "markdown",
   "metadata": {},
   "source": [
    "Since we intend to visualize edge types and edge predictions, we execute a connected holdout splitting the edges 70/30. In a connected holdout, the training set will maintain the same number of connected components as the original graph.\n",
    "\n",
    "This is necessary as topological edge prediction methods are not able to predict edges between disconnected components, and it would be a futile exercise."
   ]
  },
  {
   "cell_type": "code",
   "execution_count": null,
   "metadata": {},
   "outputs": [],
   "source": [
    "%%time\n",
    "train, test = graph.connected_holdout(train_size=0.7)"
   ]
  },
  {
   "cell_type": "code",
   "execution_count": null,
   "metadata": {},
   "outputs": [],
   "source": [
    "train.enable()"
   ]
  },
  {
   "cell_type": "markdown",
   "metadata": {},
   "source": [
    "## Retrieving the available embedding methods"
   ]
  },
  {
   "cell_type": "code",
   "execution_count": null,
   "metadata": {},
   "outputs": [],
   "source": [
    "from grape import get_available_models_for_node_embedding\n",
    "\n",
    "all_embedding_methods = get_available_models_for_node_embedding()\n",
    "embedding_methods = all_embedding_methods[~all_embedding_methods.requires_edge_weights.astype(bool)]\n",
    "\n",
    "# We remove some models that either require some additional\n",
    "# information or are simply currently work in progress.\n",
    "# We also remove some models because they are too slow,\n",
    "# or die because of memory requirements.\n",
    "embedding_methods = embedding_methods[\n",
    "    ~embedding_methods.model_name.str.contains(\"SPINE\") &\n",
    "    ~embedding_methods.model_name.str.contains(\"WINE\") &\n",
    "    ~(\n",
    "        (embedding_methods.model_name == \"NodeSketch\") &\n",
    "        (embedding_methods.library_name == \"Karate Club\") |\n",
    "        (embedding_methods.model_name == \"Role2Vec\") &\n",
    "        (embedding_methods.library_name == \"Karate Club\") |\n",
    "        (embedding_methods.model_name == \"Node2Vec SkipGram\") &\n",
    "        (embedding_methods.library_name == \"Karate Club\") |\n",
    "        (embedding_methods.model_name == \"Walklets SkipGram\") &\n",
    "        (embedding_methods.library_name == \"Karate Club\") |\n",
    "        (embedding_methods.model_name == \"CP\") &\n",
    "        (embedding_methods.library_name == \"PyKEEN\") \n",
    "    )\n",
    "]"
   ]
  },
  {
   "cell_type": "markdown",
   "metadata": {},
   "source": [
    "## Running the visualizations"
   ]
  },
  {
   "cell_type": "code",
   "execution_count": null,
   "metadata": {
    "scrolled": false
   },
   "outputs": [],
   "source": [
    "import silence_tensorflow.auto\n",
    "from grape import GraphVisualizer\n",
    "from grape.utils import AbstractEmbeddingModel\n",
    "from tqdm.auto import tqdm\n",
    "import matplotlib.pyplot as plt\n",
    "from math import ceil\n",
    "\n",
    "ncols = 8\n",
    "nrows = ceil(embedding_methods.shape[0] / ncols)\n",
    "\n",
    "plots = [\n",
    "    plt.subplots(nrows=nrows, ncols=ncols, figsize=(6*ncols, 6*nrows))\n",
    "    for i in range(9)\n",
    "]\n",
    "\n",
    "for index, (_, row) in tqdm(\n",
    "    enumerate(embedding_methods.iterrows()),\n",
    "    total=embedding_methods.shape[0],\n",
    "    desc=\"Computing embedding\"\n",
    "):\n",
    "    model = AbstractEmbeddingModel.get_model_from_library(\n",
    "        model_name=row.model_name,\n",
    "        library_name=row.library_name\n",
    "    )(enable_cache=True)\n",
    "    embedding = model.fit_transform(\n",
    "        train,\n",
    "        return_dataframe=False\n",
    "    )\n",
    "    # We visualize the edges of the test graph,\n",
    "    # but we use the complete graph as topological\n",
    "    # support to compute the visualized properties,\n",
    "    # such as the node degree, adamic adar and so on.\n",
    "    vis = GraphVisualizer(\n",
    "        graph=test,\n",
    "        support=graph,\n",
    "        node_embedding_method_name=f\"{row.model_name} {row.library_name}\",\n",
    "        automatically_display_on_notebooks=False\n",
    "    )\n",
    "    vis.fit_negative_and_positive_edges(embedding)\n",
    "    vis.fit_nodes(embedding)\n",
    "    for callback, (fig, axes) in zip(\n",
    "        (\n",
    "            vis.plot_node_degrees,\n",
    "            vis.plot_node_ontologies,\n",
    "            vis.plot_edge_types,\n",
    "            vis.plot_positive_and_negative_edges,\n",
    "            vis.plot_positive_and_negative_edges_adamic_adar,\n",
    "            vis.plot_positive_and_negative_edges_jaccard_coefficient,\n",
    "            vis.plot_positive_and_negative_edges_preferential_attachment,\n",
    "            vis.plot_positive_and_negative_edges_resource_allocation_index\n",
    "        ),\n",
    "        plots\n",
    "    ):\n",
    "        callback(\n",
    "            figure=fig,\n",
    "            axes=axes[index // ncols, index % ncols]\n",
    "        )\n",
    "\n",
    "for (fig, axes) in plots:\n",
    "    fig.tight_layout()\n",
    "    for axis in axes.flatten()[index:]:\n",
    "        for spine in axis.spines.values():\n",
    "            spine.set_visible(False)\n",
    "        axis.axis(\"off\")\n",
    "\n",
    "plt.show()"
   ]
  }
 ],
 "metadata": {
  "kernelspec": {
   "display_name": "Python 3",
   "language": "python",
   "name": "python3"
  },
  "language_info": {
   "codemirror_mode": {
    "name": "ipython",
    "version": 3
   },
   "file_extension": ".py",
   "mimetype": "text/x-python",
   "name": "python",
   "nbconvert_exporter": "python",
   "pygments_lexer": "ipython3",
   "version": "3.8.10"
  }
 },
 "nbformat": 4,
 "nbformat_minor": 5
}
