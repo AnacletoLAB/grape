{
 "cells": [
  {
   "cell_type": "code",
   "execution_count": 1,
   "id": "652339a8",
   "metadata": {},
   "outputs": [],
   "source": [
    "from grape import GraphVisualizer\n",
    "from grape.datasets.string import HomoSapiens\n",
    "from grape.embedders import FirstOrderLINEEnsmallen"
   ]
  },
  {
   "cell_type": "code",
   "execution_count": 2,
   "id": "7b5800ad",
   "metadata": {},
   "outputs": [
    {
     "name": "stdout",
     "output_type": "stream",
     "text": [
      "CPU times: user 17.6 s, sys: 603 ms, total: 18.2 s\n",
      "Wall time: 8.01 s\n"
     ]
    }
   ],
   "source": [
    "%%time\n",
    "graph = HomoSapiens().filter_from_ids(min_edge_weight=700)\n",
    "graph.enable()"
   ]
  },
  {
   "cell_type": "code",
   "execution_count": 3,
   "id": "2626b0e9",
   "metadata": {},
   "outputs": [
    {
     "name": "stdout",
     "output_type": "stream",
     "text": [
      "CPU times: user 40.3 s, sys: 65 ms, total: 40.3 s\n",
      "Wall time: 1.76 s\n"
     ]
    },
    {
     "name": "stderr",
     "output_type": "stream",
     "text": [
      "/home/luca/anaconda3/lib/python3.9/site-packages/embiggen/utils/abstract_models/abstract_embedding_model.py:166: UserWarning: Please be advised that the HomoSapiens graph contains 2752 disconnected nodes. Consider that node embedding algorithms that only use topological information such as CBOW, GloVe, SPINE and SkipGram are not able to provide meaningful embeddings for these nodes, and their embedding will be generally far away from any other node. It is also possible that all disconnected nodes will receive a relatively similar node embedding. Consider dropping them by using the `graph.remove_disconnected_nodes()` method.\n",
      "  warnings.warn(\n"
     ]
    }
   ],
   "source": [
    "%%time\n",
    "embedding = FirstOrderLINEEnsmallen().fit_transform(graph)"
   ]
  },
  {
   "cell_type": "code",
   "execution_count": 4,
   "id": "ee788567",
   "metadata": {},
   "outputs": [
    {
     "name": "stdout",
     "output_type": "stream",
     "text": [
      "CPU times: user 222 ms, sys: 18.8 ms, total: 241 ms\n",
      "Wall time: 22.8 ms\n"
     ]
    }
   ],
   "source": [
    "%%time\n",
    "vis = GraphVisualizer(\n",
    "    graph,\n",
    "    rotate=True,\n",
    "    n_components=4\n",
    ")"
   ]
  },
  {
   "cell_type": "code",
   "execution_count": 5,
   "id": "ee04b911",
   "metadata": {},
   "outputs": [
    {
     "name": "stdout",
     "output_type": "stream",
     "text": [
      "CPU times: user 1h 7min 41s, sys: 8min 31s, total: 1h 16min 13s\n",
      "Wall time: 1h 4min 20s\n"
     ]
    }
   ],
   "source": [
    "%%time\n",
    "vis.fit_negative_and_positive_edges(embedding)"
   ]
  },
  {
   "cell_type": "code",
   "execution_count": 6,
   "id": "ff51cf1b",
   "metadata": {},
   "outputs": [
    {
     "name": "stderr",
     "output_type": "stream",
     "text": [
      "OpenCV: FFMPEG: tag 0x30387076/'vp80' is not supported with codec id 139 and format 'webm / WebM'\n"
     ]
    },
    {
     "name": "stdout",
     "output_type": "stream",
     "text": [
      "CPU times: user 9min 44s, sys: 12.2 s, total: 9min 57s\n",
      "Wall time: 1min 47s\n"
     ]
    },
    {
     "data": {
      "text/html": [
       "<center><video width=\"480\" height=\"480\" src=\"existent&non-existentedgeshomosapiensfirst-orderlineconcatenate.webm\" autoplay muted playsinline loop><source src=\"existent&non-existentedgeshomosapiensfirst-orderlineconcatenate.webm\" type=\"video/webm\" />Your browser does not support the video tag.</video></center>"
      ],
      "text/plain": [
       "<IPython.core.display.HTML object>"
      ]
     },
     "execution_count": 6,
     "metadata": {},
     "output_type": "execute_result"
    }
   ],
   "source": [
    "%%time\n",
    "vis.plot_positive_and_negative_edges()"
   ]
  }
 ],
 "metadata": {
  "kernelspec": {
   "display_name": "Python 3 (ipykernel)",
   "language": "python",
   "name": "python3"
  },
  "language_info": {
   "codemirror_mode": {
    "name": "ipython",
    "version": 3
   },
   "file_extension": ".py",
   "mimetype": "text/x-python",
   "name": "python",
   "nbconvert_exporter": "python",
   "pygments_lexer": "ipython3",
   "version": "3.9.7"
  }
 },
 "nbformat": 4,
 "nbformat_minor": 5
}
