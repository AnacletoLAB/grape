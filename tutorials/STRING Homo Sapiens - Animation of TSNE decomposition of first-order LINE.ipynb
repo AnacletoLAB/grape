{
 "cells": [
  {
   "cell_type": "code",
   "execution_count": 1,
   "id": "f7b25c5a",
   "metadata": {},
   "outputs": [],
   "source": [
    "from grape import GraphVisualizer\n",
    "from grape.datasets.string import HomoSapiens\n",
    "from grape.embedders import FirstOrderLINEEnsmallen"
   ]
  },
  {
   "cell_type": "code",
   "execution_count": 2,
   "id": "d1c2da2f",
   "metadata": {},
   "outputs": [
    {
     "name": "stdout",
     "output_type": "stream",
     "text": [
      "CPU times: user 17.8 s, sys: 484 ms, total: 18.3 s\n",
      "Wall time: 7.79 s\n"
     ]
    }
   ],
   "source": [
    "%%time\n",
    "graph = HomoSapiens().filter_from_ids(min_edge_weight=700)\n",
    "graph.enable()"
   ]
  },
  {
   "cell_type": "code",
   "execution_count": 3,
   "id": "d69fdd78",
   "metadata": {},
   "outputs": [
    {
     "name": "stdout",
     "output_type": "stream",
     "text": [
      "CPU times: user 39.3 s, sys: 84.7 ms, total: 39.4 s\n",
      "Wall time: 1.8 s\n"
     ]
    },
    {
     "name": "stderr",
     "output_type": "stream",
     "text": [
      "/home/luca/anaconda3/lib/python3.9/site-packages/embiggen/utils/abstract_models/abstract_embedding_model.py:166: UserWarning: Please be advised that the HomoSapiens graph contains 2752 disconnected nodes. Consider that node embedding algorithms that only use topological information such as CBOW, GloVe, SPINE and SkipGram are not able to provide meaningful embeddings for these nodes, and their embedding will be generally far away from any other node. It is also possible that all disconnected nodes will receive a relatively similar node embedding. Consider dropping them by using the `graph.remove_disconnected_nodes()` method.\n",
      "  warnings.warn(\n"
     ]
    }
   ],
   "source": [
    "%%time\n",
    "embedding = FirstOrderLINEEnsmallen().fit_transform(graph)"
   ]
  },
  {
   "cell_type": "code",
   "execution_count": 4,
   "id": "b5f0e62c",
   "metadata": {},
   "outputs": [
    {
     "name": "stdout",
     "output_type": "stream",
     "text": [
      "CPU times: user 188 ms, sys: 84.8 ms, total: 273 ms\n",
      "Wall time: 24.4 ms\n"
     ]
    }
   ],
   "source": [
    "%%time\n",
    "vis = GraphVisualizer(\n",
    "    graph,\n",
    "    rotate=True,\n",
    "    n_components=4\n",
    ")"
   ]
  },
  {
   "cell_type": "code",
   "execution_count": null,
   "id": "47f382b8",
   "metadata": {},
   "outputs": [],
   "source": [
    "%%time\n",
    "vis.fit_negative_and_positive_edges(embedding)"
   ]
  },
  {
   "cell_type": "code",
   "execution_count": null,
   "id": "f1897402",
   "metadata": {},
   "outputs": [],
   "source": [
    "%%time\n",
    "vis.plot_positive_and_negative_edges()"
   ]
  }
 ],
 "metadata": {
  "kernelspec": {
   "display_name": "Python 3 (ipykernel)",
   "language": "python",
   "name": "python3"
  },
  "language_info": {
   "codemirror_mode": {
    "name": "ipython",
    "version": 3
   },
   "file_extension": ".py",
   "mimetype": "text/x-python",
   "name": "python",
   "nbconvert_exporter": "python",
   "pygments_lexer": "ipython3",
   "version": "3.9.7"
  }
 },
 "nbformat": 4,
 "nbformat_minor": 5
}
