{
 "cells": [
  {
   "cell_type": "markdown",
   "metadata": {
    "colab_type": "text",
    "id": "view-in-github"
   },
   "source": [
    "<a href=\"https://colab.research.google.com/github/AnacletoLAB/grape/blob/main/tutorials/Ensmallen_Automatic_graph_retrieval_utilities.ipynb\" target=\"_parent\"><img src=\"https://colab.research.google.com/assets/colab-badge.svg\" alt=\"Open In Colab\"/></a>"
   ]
  },
  {
   "cell_type": "markdown",
   "metadata": {
    "id": "sbnz5HFrFPMZ"
   },
   "source": [
    "# Automatic graph retrieval utilities\n",
    "In this tutorial we will explore the utilities available for the automatic graph retrieval."
   ]
  },
  {
   "cell_type": "markdown",
   "metadata": {
    "id": "nbVWIXSyHhLE"
   },
   "source": [
    "## Installing the library\n",
    "First of all, we install the GRAPE library:"
   ]
  },
  {
   "cell_type": "code",
   "execution_count": 1,
   "metadata": {
    "colab": {
     "base_uri": "https://localhost:8080/"
    },
    "id": "33LIZEHcE5vq",
    "outputId": "312320f8-9b40-4956-8d63-92ee92ce2b83"
   },
   "outputs": [],
   "source": [
    "!pip install -qU grape"
   ]
  },
  {
   "cell_type": "markdown",
   "metadata": {
    "id": "EmKq46p6HuGl"
   },
   "source": [
    "## A few of the available methods\n",
    "We will rapidly present the available methods that allow to programmatically retrieve the available datasets."
   ]
  },
  {
   "cell_type": "markdown",
   "metadata": {
    "id": "2LD6zVrr52Da"
   },
   "source": [
    "Retrieve the list of the available graph repositories, that is the sources from where we can scrape graphs currently"
   ]
  },
  {
   "cell_type": "code",
   "execution_count": 2,
   "metadata": {
    "colab": {
     "base_uri": "https://localhost:8080/"
    },
    "id": "vq5-PVbBHspg",
    "outputId": "6da892a6-7b52-4a9c-cdbf-b463a70f839f"
   },
   "outputs": [
    {
     "data": {
      "text/plain": [
       "['freebase',\n",
       " 'kghub',\n",
       " 'linqs',\n",
       " 'pheknowlatorkg',\n",
       " 'wikidata',\n",
       " 'zenodo',\n",
       " 'jax',\n",
       " 'monarchinitiative',\n",
       " 'string',\n",
       " 'yue',\n",
       " 'kgobo',\n",
       " 'networkrepository',\n",
       " 'wikipedia']"
      ]
     },
     "execution_count": 2,
     "metadata": {},
     "output_type": "execute_result"
    }
   ],
   "source": [
    "from grape.datasets import get_available_repositories\n",
    "get_available_repositories()"
   ]
  },
  {
   "cell_type": "markdown",
   "metadata": {
    "id": "-uUlmO8tQrmI"
   },
   "source": [
    "Retrieving the list of graphs available from a given repository"
   ]
  },
  {
   "cell_type": "code",
   "execution_count": 3,
   "metadata": {
    "colab": {
     "base_uri": "https://localhost:8080/"
    },
    "id": "no3re2BpIATS",
    "outputId": "2b475618-6803-496a-b1a2-aee8b9b6cfed"
   },
   "outputs": [
    {
     "data": {
      "text/plain": [
       "dict_keys(['SLDB', 'KGMicrobe', 'KGIDG', 'KGPhenio', 'KGCOVID19', 'EcoKG'])"
      ]
     },
     "execution_count": 3,
     "metadata": {},
     "output_type": "execute_result"
    }
   ],
   "source": [
    "from grape.datasets import get_available_graphs_from_repository\n",
    "get_available_graphs_from_repository(\"kghub\")"
   ]
  },
  {
   "cell_type": "markdown",
   "metadata": {
    "id": "KEJV-Oiw6QYV"
   },
   "source": [
    "Retrieving the list of graph versions available from a given graph and repository"
   ]
  },
  {
   "cell_type": "code",
   "execution_count": 4,
   "metadata": {
    "colab": {
     "base_uri": "https://localhost:8080/"
    },
    "id": "eC92v-pP6QrN",
    "outputId": "562b40bc-c57a-4d6e-b850-230ff3d48770"
   },
   "outputs": [
    {
     "data": {
      "text/plain": [
       "['20200925',\n",
       " '20200927',\n",
       " '20200929',\n",
       " '20201001',\n",
       " '20201012',\n",
       " '20201101',\n",
       " '20201202',\n",
       " '20210101',\n",
       " '20210128',\n",
       " '20210201',\n",
       " '20210218',\n",
       " '20210301',\n",
       " '20210412',\n",
       " '20210725',\n",
       " '20210726',\n",
       " '20210727',\n",
       " '20210823',\n",
       " '20210902',\n",
       " '20211002',\n",
       " '20211102',\n",
       " '20211202',\n",
       " '20220102',\n",
       " '20220202',\n",
       " '20220217',\n",
       " '20220223',\n",
       " '20220225',\n",
       " '20220228',\n",
       " '20220328',\n",
       " '20220330',\n",
       " '20220402',\n",
       " '20220502',\n",
       " '20220610',\n",
       " '20220702',\n",
       " 'current']"
      ]
     },
     "execution_count": 4,
     "metadata": {},
     "output_type": "execute_result"
    }
   ],
   "source": [
    "from grape.datasets import get_available_versions_from_graph_and_repository\n",
    "get_available_versions_from_graph_and_repository(\n",
    "    name=\"KGCOVID19\",\n",
    "    repository=\"kghub\"\n",
    ")"
   ]
  },
  {
   "cell_type": "markdown",
   "metadata": {
    "id": "3x5M1YjLQvOM"
   },
   "source": [
    "Getting all the available datasets dataframe"
   ]
  },
  {
   "cell_type": "code",
   "execution_count": 5,
   "metadata": {
    "id": "MuaVlU64QuiW"
   },
   "outputs": [],
   "source": [
    "from grape.datasets import get_all_available_graphs_dataframe\n",
    "\n",
    "available_graphs = get_all_available_graphs_dataframe(verbose=False)"
   ]
  },
  {
   "cell_type": "markdown",
   "metadata": {
    "id": "p-IaAYA8R6oN"
   },
   "source": [
    "Display the available graphs"
   ]
  },
  {
   "cell_type": "code",
   "execution_count": 6,
   "metadata": {
    "colab": {
     "base_uri": "https://localhost:8080/",
     "height": 419
    },
    "id": "sW5__fGnR8uF",
    "outputId": "f0579663-df72-4251-9d8d-5d8869d2265a"
   },
   "outputs": [
    {
     "data": {
      "text/html": [
       "<div>\n",
       "<style scoped>\n",
       "    .dataframe tbody tr th:only-of-type {\n",
       "        vertical-align: middle;\n",
       "    }\n",
       "\n",
       "    .dataframe tbody tr th {\n",
       "        vertical-align: top;\n",
       "    }\n",
       "\n",
       "    .dataframe thead th {\n",
       "        text-align: right;\n",
       "    }\n",
       "</style>\n",
       "<table border=\"1\" class=\"dataframe\">\n",
       "  <thead>\n",
       "    <tr style=\"text-align: right;\">\n",
       "      <th></th>\n",
       "      <th>repository</th>\n",
       "      <th>name</th>\n",
       "      <th>version</th>\n",
       "    </tr>\n",
       "  </thead>\n",
       "  <tbody>\n",
       "    <tr>\n",
       "      <th>0</th>\n",
       "      <td>freebase</td>\n",
       "      <td>FreeBase</td>\n",
       "      <td>latest</td>\n",
       "    </tr>\n",
       "    <tr>\n",
       "      <th>1</th>\n",
       "      <td>freebase</td>\n",
       "      <td>FreeBase2WikiData</td>\n",
       "      <td>latest</td>\n",
       "    </tr>\n",
       "    <tr>\n",
       "      <th>2</th>\n",
       "      <td>kghub</td>\n",
       "      <td>SLDB</td>\n",
       "      <td>20220522</td>\n",
       "    </tr>\n",
       "    <tr>\n",
       "      <th>3</th>\n",
       "      <td>kghub</td>\n",
       "      <td>KGMicrobe</td>\n",
       "      <td>20210422</td>\n",
       "    </tr>\n",
       "    <tr>\n",
       "      <th>4</th>\n",
       "      <td>kghub</td>\n",
       "      <td>KGMicrobe</td>\n",
       "      <td>20210517</td>\n",
       "    </tr>\n",
       "    <tr>\n",
       "      <th>...</th>\n",
       "      <td>...</td>\n",
       "      <td>...</td>\n",
       "      <td>...</td>\n",
       "    </tr>\n",
       "    <tr>\n",
       "      <th>83639</th>\n",
       "      <td>wikipedia</td>\n",
       "      <td>WikiSourceHR</td>\n",
       "      <td>20220601</td>\n",
       "    </tr>\n",
       "    <tr>\n",
       "      <th>83640</th>\n",
       "      <td>wikipedia</td>\n",
       "      <td>WikiSourceHR</td>\n",
       "      <td>20220620</td>\n",
       "    </tr>\n",
       "    <tr>\n",
       "      <th>83641</th>\n",
       "      <td>wikipedia</td>\n",
       "      <td>WikiSourceHR</td>\n",
       "      <td>20220701</td>\n",
       "    </tr>\n",
       "    <tr>\n",
       "      <th>83642</th>\n",
       "      <td>wikipedia</td>\n",
       "      <td>WikiSourceHR</td>\n",
       "      <td>20220720</td>\n",
       "    </tr>\n",
       "    <tr>\n",
       "      <th>83643</th>\n",
       "      <td>wikipedia</td>\n",
       "      <td>WikiSourceHR</td>\n",
       "      <td>latest</td>\n",
       "    </tr>\n",
       "  </tbody>\n",
       "</table>\n",
       "<p>83644 rows × 3 columns</p>\n",
       "</div>"
      ],
      "text/plain": [
       "      repository               name   version\n",
       "0       freebase           FreeBase    latest\n",
       "1       freebase  FreeBase2WikiData    latest\n",
       "2          kghub               SLDB  20220522\n",
       "3          kghub          KGMicrobe  20210422\n",
       "4          kghub          KGMicrobe  20210517\n",
       "...          ...                ...       ...\n",
       "83639  wikipedia       WikiSourceHR  20220601\n",
       "83640  wikipedia       WikiSourceHR  20220620\n",
       "83641  wikipedia       WikiSourceHR  20220701\n",
       "83642  wikipedia       WikiSourceHR  20220720\n",
       "83643  wikipedia       WikiSourceHR    latest\n",
       "\n",
       "[83644 rows x 3 columns]"
      ]
     },
     "execution_count": 6,
     "metadata": {},
     "output_type": "execute_result"
    }
   ],
   "source": [
    "available_graphs"
   ]
  },
  {
   "cell_type": "markdown",
   "metadata": {
    "id": "x1fs-bq36wjn"
   },
   "source": [
    "Getting the number of graphs per repository"
   ]
  },
  {
   "cell_type": "code",
   "execution_count": 7,
   "metadata": {
    "colab": {
     "base_uri": "https://localhost:8080/"
    },
    "id": "9ci30oGySHyd",
    "outputId": "79249f6f-4919-4714-eab7-0df816408b77"
   },
   "outputs": [
    {
     "data": {
      "text/plain": [
       "Counter({'freebase': 2,\n",
       "         'kghub': 92,\n",
       "         'linqs': 3,\n",
       "         'pheknowlatorkg': 116,\n",
       "         'wikidata': 22,\n",
       "         'zenodo': 163,\n",
       "         'jax': 1,\n",
       "         'monarchinitiative': 23,\n",
       "         'string': 75590,\n",
       "         'yue': 7,\n",
       "         'kgobo': 462,\n",
       "         'networkrepository': 1194,\n",
       "         'wikipedia': 5969})"
      ]
     },
     "execution_count": 7,
     "metadata": {},
     "output_type": "execute_result"
    }
   ],
   "source": [
    "from collections import Counter\n",
    "\n",
    "Counter(available_graphs[\"repository\"])"
   ]
  },
  {
   "cell_type": "markdown",
   "metadata": {
    "id": "OHA7-b9xQnDD"
   },
   "source": [
    "Programmatically retrieving a graph"
   ]
  },
  {
   "cell_type": "code",
   "execution_count": 8,
   "metadata": {
    "id": "zvm3GRr1INg4"
   },
   "outputs": [],
   "source": [
    "from grape.datasets import get_dataset\n",
    "dataset_generator = get_dataset(\n",
    "    name=\"KGMicrobe\",\n",
    "    repository=\"kghub\"\n",
    ")"
   ]
  },
  {
   "cell_type": "code",
   "execution_count": null,
   "metadata": {
    "colab": {
     "base_uri": "https://localhost:8080/",
     "height": 653,
     "referenced_widgets": [
      "e1d6c375dc8b4016a6210452d2f29f76",
      "bd990efc82524b3db6a45f173c528018",
      "7e7a19f03d7a43379b88722d8e24e681",
      "1f8ad57092724a5796795d462b7d48fc",
      "0305be6481e24f1d99c089b598aabcd3",
      "daae9bc0958549aeb56f48b9f1e08c63",
      "cf9f71da697243f59a72b8542f5b5500",
      "4c718162b5a24473aa0ac8e63be65e06",
      "3549dbcd3e6d4aeb98ca388e7936e4c9",
      "c514e0ca09504d4e97c6ce01b8bf61c1",
      "801c2661978c407fa0903d545542c06e"
     ]
    },
    "id": "MTCWObe9Qcqd",
    "outputId": "4706e371-8772-4cbb-8ff5-be550171ae74"
   },
   "outputs": [],
   "source": [
    "dataset_generator()"
   ]
  }
 ],
 "metadata": {
  "colab": {
   "authorship_tag": "ABX9TyMpxb1GNKXXUN16/BsdMTw8",
   "collapsed_sections": [],
   "include_colab_link": true,
   "name": "Ensmallen Automatic graph retrieval utilities.ipynb",
   "provenance": []
  },
  "kernelspec": {
   "display_name": "Python 3 (ipykernel)",
   "language": "python",
   "name": "python3"
  },
  "language_info": {
   "codemirror_mode": {
    "name": "ipython",
    "version": 3
   },
   "file_extension": ".py",
   "mimetype": "text/x-python",
   "name": "python",
   "nbconvert_exporter": "python",
   "pygments_lexer": "ipython3",
   "version": "3.9.7"
  },
  "widgets": {
   "application/vnd.jupyter.widget-state+json": {
    "0305be6481e24f1d99c089b598aabcd3": {
     "model_module": "@jupyter-widgets/controls",
     "model_module_version": "1.5.0",
     "model_name": "HTMLModel",
     "state": {
      "_dom_classes": [],
      "_model_module": "@jupyter-widgets/controls",
      "_model_module_version": "1.5.0",
      "_model_name": "HTMLModel",
      "_view_count": null,
      "_view_module": "@jupyter-widgets/controls",
      "_view_module_version": "1.5.0",
      "_view_name": "HTMLView",
      "description": "",
      "description_tooltip": null,
      "layout": "IPY_MODEL_801c2661978c407fa0903d545542c06e",
      "placeholder": "​",
      "style": "IPY_MODEL_c514e0ca09504d4e97c6ce01b8bf61c1",
      "value": " 22.5M/30.9M [00:00&lt;00:00, 64.7MiB/s]"
     }
    },
    "1f8ad57092724a5796795d462b7d48fc": {
     "model_module": "@jupyter-widgets/controls",
     "model_module_version": "1.5.0",
     "model_name": "FloatProgressModel",
     "state": {
      "_dom_classes": [],
      "_model_module": "@jupyter-widgets/controls",
      "_model_module_version": "1.5.0",
      "_model_name": "FloatProgressModel",
      "_view_count": null,
      "_view_module": "@jupyter-widgets/controls",
      "_view_module_version": "1.5.0",
      "_view_name": "ProgressView",
      "bar_style": "",
      "description": "",
      "description_tooltip": null,
      "layout": "IPY_MODEL_3549dbcd3e6d4aeb98ca388e7936e4c9",
      "max": 30924348,
      "min": 0,
      "orientation": "horizontal",
      "style": "IPY_MODEL_4c718162b5a24473aa0ac8e63be65e06",
      "value": 30924348
     }
    },
    "3549dbcd3e6d4aeb98ca388e7936e4c9": {
     "model_module": "@jupyter-widgets/base",
     "model_module_version": "1.2.0",
     "model_name": "LayoutModel",
     "state": {
      "_model_module": "@jupyter-widgets/base",
      "_model_module_version": "1.2.0",
      "_model_name": "LayoutModel",
      "_view_count": null,
      "_view_module": "@jupyter-widgets/base",
      "_view_module_version": "1.2.0",
      "_view_name": "LayoutView",
      "align_content": null,
      "align_items": null,
      "align_self": null,
      "border": null,
      "bottom": null,
      "display": null,
      "flex": "2",
      "flex_flow": null,
      "grid_area": null,
      "grid_auto_columns": null,
      "grid_auto_flow": null,
      "grid_auto_rows": null,
      "grid_column": null,
      "grid_gap": null,
      "grid_row": null,
      "grid_template_areas": null,
      "grid_template_columns": null,
      "grid_template_rows": null,
      "height": null,
      "justify_content": null,
      "justify_items": null,
      "left": null,
      "margin": null,
      "max_height": null,
      "max_width": null,
      "min_height": null,
      "min_width": null,
      "object_fit": null,
      "object_position": null,
      "order": null,
      "overflow": null,
      "overflow_x": null,
      "overflow_y": null,
      "padding": null,
      "right": null,
      "top": null,
      "visibility": null,
      "width": null
     }
    },
    "4c718162b5a24473aa0ac8e63be65e06": {
     "model_module": "@jupyter-widgets/controls",
     "model_module_version": "1.5.0",
     "model_name": "ProgressStyleModel",
     "state": {
      "_model_module": "@jupyter-widgets/controls",
      "_model_module_version": "1.5.0",
      "_model_name": "ProgressStyleModel",
      "_view_count": null,
      "_view_module": "@jupyter-widgets/base",
      "_view_module_version": "1.2.0",
      "_view_name": "StyleView",
      "bar_color": null,
      "description_width": ""
     }
    },
    "7e7a19f03d7a43379b88722d8e24e681": {
     "model_module": "@jupyter-widgets/controls",
     "model_module_version": "1.5.0",
     "model_name": "HTMLModel",
     "state": {
      "_dom_classes": [],
      "_model_module": "@jupyter-widgets/controls",
      "_model_module_version": "1.5.0",
      "_model_name": "HTMLModel",
      "_view_count": null,
      "_view_module": "@jupyter-widgets/controls",
      "_view_module_version": "1.5.0",
      "_view_name": "HTMLView",
      "description": "",
      "description_tooltip": null,
      "layout": "IPY_MODEL_cf9f71da697243f59a72b8542f5b5500",
      "placeholder": "​",
      "style": "IPY_MODEL_daae9bc0958549aeb56f48b9f1e08c63",
      "value": "Downloading to graphs/kghub/KGM...kg-microbe.tar.gz:  73%"
     }
    },
    "801c2661978c407fa0903d545542c06e": {
     "model_module": "@jupyter-widgets/base",
     "model_module_version": "1.2.0",
     "model_name": "LayoutModel",
     "state": {
      "_model_module": "@jupyter-widgets/base",
      "_model_module_version": "1.2.0",
      "_model_name": "LayoutModel",
      "_view_count": null,
      "_view_module": "@jupyter-widgets/base",
      "_view_module_version": "1.2.0",
      "_view_name": "LayoutView",
      "align_content": null,
      "align_items": null,
      "align_self": null,
      "border": null,
      "bottom": null,
      "display": null,
      "flex": null,
      "flex_flow": null,
      "grid_area": null,
      "grid_auto_columns": null,
      "grid_auto_flow": null,
      "grid_auto_rows": null,
      "grid_column": null,
      "grid_gap": null,
      "grid_row": null,
      "grid_template_areas": null,
      "grid_template_columns": null,
      "grid_template_rows": null,
      "height": null,
      "justify_content": null,
      "justify_items": null,
      "left": null,
      "margin": null,
      "max_height": null,
      "max_width": null,
      "min_height": null,
      "min_width": null,
      "object_fit": null,
      "object_position": null,
      "order": null,
      "overflow": null,
      "overflow_x": null,
      "overflow_y": null,
      "padding": null,
      "right": null,
      "top": null,
      "visibility": null,
      "width": null
     }
    },
    "bd990efc82524b3db6a45f173c528018": {
     "model_module": "@jupyter-widgets/base",
     "model_module_version": "1.2.0",
     "model_name": "LayoutModel",
     "state": {
      "_model_module": "@jupyter-widgets/base",
      "_model_module_version": "1.2.0",
      "_model_name": "LayoutModel",
      "_view_count": null,
      "_view_module": "@jupyter-widgets/base",
      "_view_module_version": "1.2.0",
      "_view_name": "LayoutView",
      "align_content": null,
      "align_items": null,
      "align_self": null,
      "border": null,
      "bottom": null,
      "display": "inline-flex",
      "flex": null,
      "flex_flow": "row wrap",
      "grid_area": null,
      "grid_auto_columns": null,
      "grid_auto_flow": null,
      "grid_auto_rows": null,
      "grid_column": null,
      "grid_gap": null,
      "grid_row": null,
      "grid_template_areas": null,
      "grid_template_columns": null,
      "grid_template_rows": null,
      "height": null,
      "justify_content": null,
      "justify_items": null,
      "left": null,
      "margin": null,
      "max_height": null,
      "max_width": null,
      "min_height": null,
      "min_width": null,
      "object_fit": null,
      "object_position": null,
      "order": null,
      "overflow": null,
      "overflow_x": null,
      "overflow_y": null,
      "padding": null,
      "right": null,
      "top": null,
      "visibility": null,
      "width": "100%"
     }
    },
    "c514e0ca09504d4e97c6ce01b8bf61c1": {
     "model_module": "@jupyter-widgets/controls",
     "model_module_version": "1.5.0",
     "model_name": "DescriptionStyleModel",
     "state": {
      "_model_module": "@jupyter-widgets/controls",
      "_model_module_version": "1.5.0",
      "_model_name": "DescriptionStyleModel",
      "_view_count": null,
      "_view_module": "@jupyter-widgets/base",
      "_view_module_version": "1.2.0",
      "_view_name": "StyleView",
      "description_width": ""
     }
    },
    "cf9f71da697243f59a72b8542f5b5500": {
     "model_module": "@jupyter-widgets/base",
     "model_module_version": "1.2.0",
     "model_name": "LayoutModel",
     "state": {
      "_model_module": "@jupyter-widgets/base",
      "_model_module_version": "1.2.0",
      "_model_name": "LayoutModel",
      "_view_count": null,
      "_view_module": "@jupyter-widgets/base",
      "_view_module_version": "1.2.0",
      "_view_name": "LayoutView",
      "align_content": null,
      "align_items": null,
      "align_self": null,
      "border": null,
      "bottom": null,
      "display": null,
      "flex": null,
      "flex_flow": null,
      "grid_area": null,
      "grid_auto_columns": null,
      "grid_auto_flow": null,
      "grid_auto_rows": null,
      "grid_column": null,
      "grid_gap": null,
      "grid_row": null,
      "grid_template_areas": null,
      "grid_template_columns": null,
      "grid_template_rows": null,
      "height": null,
      "justify_content": null,
      "justify_items": null,
      "left": null,
      "margin": null,
      "max_height": null,
      "max_width": null,
      "min_height": null,
      "min_width": null,
      "object_fit": null,
      "object_position": null,
      "order": null,
      "overflow": null,
      "overflow_x": null,
      "overflow_y": null,
      "padding": null,
      "right": null,
      "top": null,
      "visibility": null,
      "width": null
     }
    },
    "daae9bc0958549aeb56f48b9f1e08c63": {
     "model_module": "@jupyter-widgets/controls",
     "model_module_version": "1.5.0",
     "model_name": "DescriptionStyleModel",
     "state": {
      "_model_module": "@jupyter-widgets/controls",
      "_model_module_version": "1.5.0",
      "_model_name": "DescriptionStyleModel",
      "_view_count": null,
      "_view_module": "@jupyter-widgets/base",
      "_view_module_version": "1.2.0",
      "_view_name": "StyleView",
      "description_width": ""
     }
    },
    "e1d6c375dc8b4016a6210452d2f29f76": {
     "model_module": "@jupyter-widgets/controls",
     "model_module_version": "1.5.0",
     "model_name": "HBoxModel",
     "state": {
      "_dom_classes": [],
      "_model_module": "@jupyter-widgets/controls",
      "_model_module_version": "1.5.0",
      "_model_name": "HBoxModel",
      "_view_count": null,
      "_view_module": "@jupyter-widgets/controls",
      "_view_module_version": "1.5.0",
      "_view_name": "HBoxView",
      "box_style": "",
      "children": [
       "IPY_MODEL_7e7a19f03d7a43379b88722d8e24e681",
       "IPY_MODEL_1f8ad57092724a5796795d462b7d48fc",
       "IPY_MODEL_0305be6481e24f1d99c089b598aabcd3"
      ],
      "layout": "IPY_MODEL_bd990efc82524b3db6a45f173c528018"
     }
    }
   }
  }
 },
 "nbformat": 4,
 "nbformat_minor": 1
}
