{
  "nbformat": 4,
  "nbformat_minor": 0,
  "metadata": {
    "colab": {
      "name": "Ensmallen Automatic graph retrieval utilities.ipynb",
      "provenance": [],
      "collapsed_sections": [],
      "authorship_tag": "ABX9TyMpxb1GNKXXUN16/BsdMTw8",
      "include_colab_link": true
    },
    "kernelspec": {
      "name": "python3",
      "display_name": "Python 3"
    },
    "language_info": {
      "name": "python"
    },
    "widgets": {
      "application/vnd.jupyter.widget-state+json": {
        "e1d6c375dc8b4016a6210452d2f29f76": {
          "model_module": "@jupyter-widgets/controls",
          "model_name": "HBoxModel",
          "model_module_version": "1.5.0",
          "state": {
            "_view_name": "HBoxView",
            "_dom_classes": [],
            "_model_name": "HBoxModel",
            "_view_module": "@jupyter-widgets/controls",
            "_model_module_version": "1.5.0",
            "_view_count": null,
            "_view_module_version": "1.5.0",
            "box_style": "",
            "layout": "IPY_MODEL_bd990efc82524b3db6a45f173c528018",
            "_model_module": "@jupyter-widgets/controls",
            "children": [
              "IPY_MODEL_7e7a19f03d7a43379b88722d8e24e681",
              "IPY_MODEL_1f8ad57092724a5796795d462b7d48fc",
              "IPY_MODEL_0305be6481e24f1d99c089b598aabcd3"
            ]
          }
        },
        "bd990efc82524b3db6a45f173c528018": {
          "model_module": "@jupyter-widgets/base",
          "model_name": "LayoutModel",
          "model_module_version": "1.2.0",
          "state": {
            "_view_name": "LayoutView",
            "grid_template_rows": null,
            "right": null,
            "justify_content": null,
            "_view_module": "@jupyter-widgets/base",
            "overflow": null,
            "_model_module_version": "1.2.0",
            "_view_count": null,
            "flex_flow": "row wrap",
            "width": "100%",
            "min_width": null,
            "border": null,
            "align_items": null,
            "bottom": null,
            "_model_module": "@jupyter-widgets/base",
            "top": null,
            "grid_column": null,
            "overflow_y": null,
            "overflow_x": null,
            "grid_auto_flow": null,
            "grid_area": null,
            "grid_template_columns": null,
            "flex": null,
            "_model_name": "LayoutModel",
            "justify_items": null,
            "grid_row": null,
            "max_height": null,
            "align_content": null,
            "visibility": null,
            "align_self": null,
            "height": null,
            "min_height": null,
            "padding": null,
            "grid_auto_rows": null,
            "grid_gap": null,
            "max_width": null,
            "order": null,
            "_view_module_version": "1.2.0",
            "grid_template_areas": null,
            "object_position": null,
            "object_fit": null,
            "grid_auto_columns": null,
            "margin": null,
            "display": "inline-flex",
            "left": null
          }
        },
        "7e7a19f03d7a43379b88722d8e24e681": {
          "model_module": "@jupyter-widgets/controls",
          "model_name": "HTMLModel",
          "model_module_version": "1.5.0",
          "state": {
            "_view_name": "HTMLView",
            "style": "IPY_MODEL_daae9bc0958549aeb56f48b9f1e08c63",
            "_dom_classes": [],
            "description": "",
            "_model_name": "HTMLModel",
            "placeholder": "​",
            "_view_module": "@jupyter-widgets/controls",
            "_model_module_version": "1.5.0",
            "value": "Downloading to graphs/kghub/KGM...kg-microbe.tar.gz:  73%",
            "_view_count": null,
            "_view_module_version": "1.5.0",
            "description_tooltip": null,
            "_model_module": "@jupyter-widgets/controls",
            "layout": "IPY_MODEL_cf9f71da697243f59a72b8542f5b5500"
          }
        },
        "1f8ad57092724a5796795d462b7d48fc": {
          "model_module": "@jupyter-widgets/controls",
          "model_name": "FloatProgressModel",
          "model_module_version": "1.5.0",
          "state": {
            "_view_name": "ProgressView",
            "style": "IPY_MODEL_4c718162b5a24473aa0ac8e63be65e06",
            "_dom_classes": [],
            "description": "",
            "_model_name": "FloatProgressModel",
            "bar_style": "",
            "max": 30924348,
            "_view_module": "@jupyter-widgets/controls",
            "_model_module_version": "1.5.0",
            "value": 30924348,
            "_view_count": null,
            "_view_module_version": "1.5.0",
            "orientation": "horizontal",
            "min": 0,
            "description_tooltip": null,
            "_model_module": "@jupyter-widgets/controls",
            "layout": "IPY_MODEL_3549dbcd3e6d4aeb98ca388e7936e4c9"
          }
        },
        "0305be6481e24f1d99c089b598aabcd3": {
          "model_module": "@jupyter-widgets/controls",
          "model_name": "HTMLModel",
          "model_module_version": "1.5.0",
          "state": {
            "_view_name": "HTMLView",
            "style": "IPY_MODEL_c514e0ca09504d4e97c6ce01b8bf61c1",
            "_dom_classes": [],
            "description": "",
            "_model_name": "HTMLModel",
            "placeholder": "​",
            "_view_module": "@jupyter-widgets/controls",
            "_model_module_version": "1.5.0",
            "value": " 22.5M/30.9M [00:00&lt;00:00, 64.7MiB/s]",
            "_view_count": null,
            "_view_module_version": "1.5.0",
            "description_tooltip": null,
            "_model_module": "@jupyter-widgets/controls",
            "layout": "IPY_MODEL_801c2661978c407fa0903d545542c06e"
          }
        },
        "daae9bc0958549aeb56f48b9f1e08c63": {
          "model_module": "@jupyter-widgets/controls",
          "model_name": "DescriptionStyleModel",
          "model_module_version": "1.5.0",
          "state": {
            "_view_name": "StyleView",
            "_model_name": "DescriptionStyleModel",
            "description_width": "",
            "_view_module": "@jupyter-widgets/base",
            "_model_module_version": "1.5.0",
            "_view_count": null,
            "_view_module_version": "1.2.0",
            "_model_module": "@jupyter-widgets/controls"
          }
        },
        "cf9f71da697243f59a72b8542f5b5500": {
          "model_module": "@jupyter-widgets/base",
          "model_name": "LayoutModel",
          "model_module_version": "1.2.0",
          "state": {
            "_view_name": "LayoutView",
            "grid_template_rows": null,
            "right": null,
            "justify_content": null,
            "_view_module": "@jupyter-widgets/base",
            "overflow": null,
            "_model_module_version": "1.2.0",
            "_view_count": null,
            "flex_flow": null,
            "width": null,
            "min_width": null,
            "border": null,
            "align_items": null,
            "bottom": null,
            "_model_module": "@jupyter-widgets/base",
            "top": null,
            "grid_column": null,
            "overflow_y": null,
            "overflow_x": null,
            "grid_auto_flow": null,
            "grid_area": null,
            "grid_template_columns": null,
            "flex": null,
            "_model_name": "LayoutModel",
            "justify_items": null,
            "grid_row": null,
            "max_height": null,
            "align_content": null,
            "visibility": null,
            "align_self": null,
            "height": null,
            "min_height": null,
            "padding": null,
            "grid_auto_rows": null,
            "grid_gap": null,
            "max_width": null,
            "order": null,
            "_view_module_version": "1.2.0",
            "grid_template_areas": null,
            "object_position": null,
            "object_fit": null,
            "grid_auto_columns": null,
            "margin": null,
            "display": null,
            "left": null
          }
        },
        "4c718162b5a24473aa0ac8e63be65e06": {
          "model_module": "@jupyter-widgets/controls",
          "model_name": "ProgressStyleModel",
          "model_module_version": "1.5.0",
          "state": {
            "_view_name": "StyleView",
            "_model_name": "ProgressStyleModel",
            "description_width": "",
            "_view_module": "@jupyter-widgets/base",
            "_model_module_version": "1.5.0",
            "_view_count": null,
            "_view_module_version": "1.2.0",
            "bar_color": null,
            "_model_module": "@jupyter-widgets/controls"
          }
        },
        "3549dbcd3e6d4aeb98ca388e7936e4c9": {
          "model_module": "@jupyter-widgets/base",
          "model_name": "LayoutModel",
          "model_module_version": "1.2.0",
          "state": {
            "_view_name": "LayoutView",
            "grid_template_rows": null,
            "right": null,
            "justify_content": null,
            "_view_module": "@jupyter-widgets/base",
            "overflow": null,
            "_model_module_version": "1.2.0",
            "_view_count": null,
            "flex_flow": null,
            "width": null,
            "min_width": null,
            "border": null,
            "align_items": null,
            "bottom": null,
            "_model_module": "@jupyter-widgets/base",
            "top": null,
            "grid_column": null,
            "overflow_y": null,
            "overflow_x": null,
            "grid_auto_flow": null,
            "grid_area": null,
            "grid_template_columns": null,
            "flex": "2",
            "_model_name": "LayoutModel",
            "justify_items": null,
            "grid_row": null,
            "max_height": null,
            "align_content": null,
            "visibility": null,
            "align_self": null,
            "height": null,
            "min_height": null,
            "padding": null,
            "grid_auto_rows": null,
            "grid_gap": null,
            "max_width": null,
            "order": null,
            "_view_module_version": "1.2.0",
            "grid_template_areas": null,
            "object_position": null,
            "object_fit": null,
            "grid_auto_columns": null,
            "margin": null,
            "display": null,
            "left": null
          }
        },
        "c514e0ca09504d4e97c6ce01b8bf61c1": {
          "model_module": "@jupyter-widgets/controls",
          "model_name": "DescriptionStyleModel",
          "model_module_version": "1.5.0",
          "state": {
            "_view_name": "StyleView",
            "_model_name": "DescriptionStyleModel",
            "description_width": "",
            "_view_module": "@jupyter-widgets/base",
            "_model_module_version": "1.5.0",
            "_view_count": null,
            "_view_module_version": "1.2.0",
            "_model_module": "@jupyter-widgets/controls"
          }
        },
        "801c2661978c407fa0903d545542c06e": {
          "model_module": "@jupyter-widgets/base",
          "model_name": "LayoutModel",
          "model_module_version": "1.2.0",
          "state": {
            "_view_name": "LayoutView",
            "grid_template_rows": null,
            "right": null,
            "justify_content": null,
            "_view_module": "@jupyter-widgets/base",
            "overflow": null,
            "_model_module_version": "1.2.0",
            "_view_count": null,
            "flex_flow": null,
            "width": null,
            "min_width": null,
            "border": null,
            "align_items": null,
            "bottom": null,
            "_model_module": "@jupyter-widgets/base",
            "top": null,
            "grid_column": null,
            "overflow_y": null,
            "overflow_x": null,
            "grid_auto_flow": null,
            "grid_area": null,
            "grid_template_columns": null,
            "flex": null,
            "_model_name": "LayoutModel",
            "justify_items": null,
            "grid_row": null,
            "max_height": null,
            "align_content": null,
            "visibility": null,
            "align_self": null,
            "height": null,
            "min_height": null,
            "padding": null,
            "grid_auto_rows": null,
            "grid_gap": null,
            "max_width": null,
            "order": null,
            "_view_module_version": "1.2.0",
            "grid_template_areas": null,
            "object_position": null,
            "object_fit": null,
            "grid_auto_columns": null,
            "margin": null,
            "display": null,
            "left": null
          }
        }
      }
    }
  },
  "cells": [
    {
      "cell_type": "markdown",
      "metadata": {
        "id": "view-in-github",
        "colab_type": "text"
      },
      "source": [
        "<a href=\"https://colab.research.google.com/github/AnacletoLAB/grape/blob/main/tutorials/Ensmallen_Automatic_graph_retrieval_utilities.ipynb\" target=\"_parent\"><img src=\"https://colab.research.google.com/assets/colab-badge.svg\" alt=\"Open In Colab\"/></a>"
      ]
    },
    {
      "cell_type": "markdown",
      "metadata": {
        "id": "sbnz5HFrFPMZ"
      },
      "source": [
        "# Automatic graph retrieval utilities\n",
        "In this tutorial we will explore the utilities available for the automatic graph retrieval."
      ]
    },
    {
      "cell_type": "markdown",
      "metadata": {
        "id": "nbVWIXSyHhLE"
      },
      "source": [
        "## Installing the library\n",
        "First of all, we install the [Ensmallen](https://github.com/AnacletoLAB/ensmallen) library:"
      ]
    },
    {
      "cell_type": "code",
      "metadata": {
        "id": "33LIZEHcE5vq",
        "colab": {
          "base_uri": "https://localhost:8080/"
        },
        "outputId": "312320f8-9b40-4956-8d63-92ee92ce2b83"
      },
      "source": [
        "!pip install -q ensmallen"
      ],
      "execution_count": 1,
      "outputs": [
        {
          "output_type": "stream",
          "name": "stdout",
          "text": [
            "\u001b[K     |████████████████████████████████| 42.5 MB 35 kB/s \n",
            "\u001b[K     |████████████████████████████████| 99 kB 7.7 MB/s \n",
            "\u001b[?25h  Building wheel for compress-json (setup.py) ... \u001b[?25l\u001b[?25hdone\n",
            "  Building wheel for downloaders (setup.py) ... \u001b[?25l\u001b[?25hdone\n",
            "  Building wheel for environments-utils (setup.py) ... \u001b[?25l\u001b[?25hdone\n",
            "  Building wheel for py-cpuinfo (setup.py) ... \u001b[?25l\u001b[?25hdone\n",
            "  Building wheel for userinput (setup.py) ... \u001b[?25l\u001b[?25hdone\n",
            "  Building wheel for IPy (setup.py) ... \u001b[?25l\u001b[?25hdone\n",
            "  Building wheel for validate-email (setup.py) ... \u001b[?25l\u001b[?25hdone\n",
            "  Building wheel for validate-version-code (setup.py) ... \u001b[?25l\u001b[?25hdone\n"
          ]
        }
      ]
    },
    {
      "cell_type": "markdown",
      "metadata": {
        "id": "EmKq46p6HuGl"
      },
      "source": [
        "## A few of the available methods\n",
        "We will rapidly present the available methods that allow to programmatically retrieve the available datasets."
      ]
    },
    {
      "cell_type": "markdown",
      "metadata": {
        "id": "2LD6zVrr52Da"
      },
      "source": [
        "Retrieve the list of the available graph repositories, that is the sources from where we can scrape graphs currently"
      ]
    },
    {
      "cell_type": "code",
      "metadata": {
        "colab": {
          "base_uri": "https://localhost:8080/"
        },
        "id": "vq5-PVbBHspg",
        "outputId": "6da892a6-7b52-4a9c-cdbf-b463a70f839f"
      },
      "source": [
        "from ensmallen.datasets import get_available_repositories\n",
        "get_available_repositories()"
      ],
      "execution_count": 3,
      "outputs": [
        {
          "output_type": "execute_result",
          "data": {
            "text/plain": [
              "['kghub',\n",
              " 'yue',\n",
              " 'pheknowlatorkg',\n",
              " 'jax',\n",
              " 'monarchinitiative',\n",
              " 'string',\n",
              " 'linqs',\n",
              " 'networkrepository',\n",
              " 'zenodo',\n",
              " 'kgobo']"
            ]
          },
          "metadata": {},
          "execution_count": 3
        }
      ]
    },
    {
      "cell_type": "markdown",
      "metadata": {
        "id": "-uUlmO8tQrmI"
      },
      "source": [
        "Retrieving the list of graphs available from a given repository"
      ]
    },
    {
      "cell_type": "code",
      "metadata": {
        "colab": {
          "base_uri": "https://localhost:8080/"
        },
        "id": "no3re2BpIATS",
        "outputId": "2b475618-6803-496a-b1a2-aee8b9b6cfed"
      },
      "source": [
        "from ensmallen.datasets import get_available_graphs_from_repository\n",
        "get_available_graphs_from_repository(\"kghub\")"
      ],
      "execution_count": 4,
      "outputs": [
        {
          "output_type": "execute_result",
          "data": {
            "text/plain": [
              "['KGCOVID19', 'KGMicrobe']"
            ]
          },
          "metadata": {},
          "execution_count": 4
        }
      ]
    },
    {
      "cell_type": "markdown",
      "metadata": {
        "id": "KEJV-Oiw6QYV"
      },
      "source": [
        "Retrieving the list of graph versions available from a given graph and repository"
      ]
    },
    {
      "cell_type": "code",
      "metadata": {
        "colab": {
          "base_uri": "https://localhost:8080/"
        },
        "id": "eC92v-pP6QrN",
        "outputId": "562b40bc-c57a-4d6e-b850-230ff3d48770"
      },
      "source": [
        "from ensmallen.datasets import get_available_versions_from_graph_and_repository\n",
        "get_available_versions_from_graph_and_repository(\n",
        "    graph_name=\"KGCOVID19\",\n",
        "    repository=\"kghub\"\n",
        ")"
      ],
      "execution_count": 7,
      "outputs": [
        {
          "output_type": "execute_result",
          "data": {
            "text/plain": [
              "['20200925',\n",
              " '20200927',\n",
              " '20200929',\n",
              " '20201001',\n",
              " '20201012',\n",
              " '20201101',\n",
              " '20201202',\n",
              " '20210101',\n",
              " '20210128',\n",
              " '20210201',\n",
              " '20210218',\n",
              " '20210301',\n",
              " '20210412',\n",
              " '20210725',\n",
              " '20210726',\n",
              " '20210727',\n",
              " '20210823',\n",
              " '20210902',\n",
              " '20211002',\n",
              " 'current']"
            ]
          },
          "metadata": {},
          "execution_count": 7
        }
      ]
    },
    {
      "cell_type": "markdown",
      "metadata": {
        "id": "3x5M1YjLQvOM"
      },
      "source": [
        "Getting all the available datasets dataframe"
      ]
    },
    {
      "cell_type": "code",
      "metadata": {
        "id": "MuaVlU64QuiW"
      },
      "source": [
        "from ensmallen.datasets import get_all_available_graphs_dataframe\n",
        "\n",
        "available_graphs = get_all_available_graphs_dataframe()"
      ],
      "execution_count": 8,
      "outputs": []
    },
    {
      "cell_type": "markdown",
      "metadata": {
        "id": "p-IaAYA8R6oN"
      },
      "source": [
        "Display the available graphs"
      ]
    },
    {
      "cell_type": "code",
      "metadata": {
        "colab": {
          "base_uri": "https://localhost:8080/",
          "height": 419
        },
        "id": "sW5__fGnR8uF",
        "outputId": "f0579663-df72-4251-9d8d-5d8869d2265a"
      },
      "source": [
        "available_graphs"
      ],
      "execution_count": 9,
      "outputs": [
        {
          "output_type": "execute_result",
          "data": {
            "text/html": [
              "<div>\n",
              "<style scoped>\n",
              "    .dataframe tbody tr th:only-of-type {\n",
              "        vertical-align: middle;\n",
              "    }\n",
              "\n",
              "    .dataframe tbody tr th {\n",
              "        vertical-align: top;\n",
              "    }\n",
              "\n",
              "    .dataframe thead th {\n",
              "        text-align: right;\n",
              "    }\n",
              "</style>\n",
              "<table border=\"1\" class=\"dataframe\">\n",
              "  <thead>\n",
              "    <tr style=\"text-align: right;\">\n",
              "      <th></th>\n",
              "      <th>repository</th>\n",
              "      <th>graph_name</th>\n",
              "      <th>version</th>\n",
              "    </tr>\n",
              "  </thead>\n",
              "  <tbody>\n",
              "    <tr>\n",
              "      <th>0</th>\n",
              "      <td>kghub</td>\n",
              "      <td>KGCOVID19</td>\n",
              "      <td>20200925</td>\n",
              "    </tr>\n",
              "    <tr>\n",
              "      <th>1</th>\n",
              "      <td>kghub</td>\n",
              "      <td>KGCOVID19</td>\n",
              "      <td>20200927</td>\n",
              "    </tr>\n",
              "    <tr>\n",
              "      <th>2</th>\n",
              "      <td>kghub</td>\n",
              "      <td>KGCOVID19</td>\n",
              "      <td>20200929</td>\n",
              "    </tr>\n",
              "    <tr>\n",
              "      <th>3</th>\n",
              "      <td>kghub</td>\n",
              "      <td>KGCOVID19</td>\n",
              "      <td>20201001</td>\n",
              "    </tr>\n",
              "    <tr>\n",
              "      <th>4</th>\n",
              "      <td>kghub</td>\n",
              "      <td>KGCOVID19</td>\n",
              "      <td>20201012</td>\n",
              "    </tr>\n",
              "    <tr>\n",
              "      <th>...</th>\n",
              "      <td>...</td>\n",
              "      <td>...</td>\n",
              "      <td>...</td>\n",
              "    </tr>\n",
              "    <tr>\n",
              "      <th>58159</th>\n",
              "      <td>kgobo</td>\n",
              "      <td>EMAPA</td>\n",
              "      <td>2021-09-01</td>\n",
              "    </tr>\n",
              "    <tr>\n",
              "      <th>58160</th>\n",
              "      <td>kgobo</td>\n",
              "      <td>PDRO</td>\n",
              "      <td>2021-06-08</td>\n",
              "    </tr>\n",
              "    <tr>\n",
              "      <th>58161</th>\n",
              "      <td>kgobo</td>\n",
              "      <td>HSAPDV</td>\n",
              "      <td>2020-03-10</td>\n",
              "    </tr>\n",
              "    <tr>\n",
              "      <th>58162</th>\n",
              "      <td>kgobo</td>\n",
              "      <td>SWO</td>\n",
              "      <td>swo.owl</td>\n",
              "    </tr>\n",
              "    <tr>\n",
              "      <th>58163</th>\n",
              "      <td>kgobo</td>\n",
              "      <td>ECO</td>\n",
              "      <td>2021-10-01</td>\n",
              "    </tr>\n",
              "  </tbody>\n",
              "</table>\n",
              "<p>58164 rows × 3 columns</p>\n",
              "</div>"
            ],
            "text/plain": [
              "      repository graph_name     version\n",
              "0          kghub  KGCOVID19    20200925\n",
              "1          kghub  KGCOVID19    20200927\n",
              "2          kghub  KGCOVID19    20200929\n",
              "3          kghub  KGCOVID19    20201001\n",
              "4          kghub  KGCOVID19    20201012\n",
              "...          ...        ...         ...\n",
              "58159      kgobo      EMAPA  2021-09-01\n",
              "58160      kgobo       PDRO  2021-06-08\n",
              "58161      kgobo     HSAPDV  2020-03-10\n",
              "58162      kgobo        SWO     swo.owl\n",
              "58163      kgobo        ECO  2021-10-01\n",
              "\n",
              "[58164 rows x 3 columns]"
            ]
          },
          "metadata": {},
          "execution_count": 9
        }
      ]
    },
    {
      "cell_type": "markdown",
      "metadata": {
        "id": "x1fs-bq36wjn"
      },
      "source": [
        "Getting the number of graphs per repository"
      ]
    },
    {
      "cell_type": "code",
      "metadata": {
        "colab": {
          "base_uri": "https://localhost:8080/"
        },
        "id": "9ci30oGySHyd",
        "outputId": "79249f6f-4919-4714-eab7-0df816408b77"
      },
      "source": [
        "from collections import Counter\n",
        "\n",
        "Counter(available_graphs[\"repository\"])"
      ],
      "execution_count": 11,
      "outputs": [
        {
          "output_type": "execute_result",
          "data": {
            "text/plain": [
              "Counter({'jax': 1,\n",
              "         'kghub': 28,\n",
              "         'kgobo': 133,\n",
              "         'linqs': 3,\n",
              "         'monarchinitiative': 2,\n",
              "         'networkrepository': 1194,\n",
              "         'pheknowlatorkg': 104,\n",
              "         'string': 56691,\n",
              "         'yue': 7,\n",
              "         'zenodo': 1})"
            ]
          },
          "metadata": {},
          "execution_count": 11
        }
      ]
    },
    {
      "cell_type": "markdown",
      "metadata": {
        "id": "OHA7-b9xQnDD"
      },
      "source": [
        "Programmatically retrieving a graph"
      ]
    },
    {
      "cell_type": "code",
      "metadata": {
        "id": "zvm3GRr1INg4"
      },
      "source": [
        "from ensmallen.datasets import get_dataset\n",
        "dataset_generator = get_dataset(\n",
        "    graph_name=\"KGMicrobe\",\n",
        "    repository=\"kghub\"\n",
        ")"
      ],
      "execution_count": 12,
      "outputs": []
    },
    {
      "cell_type": "code",
      "metadata": {
        "colab": {
          "base_uri": "https://localhost:8080/",
          "height": 653,
          "referenced_widgets": [
            "e1d6c375dc8b4016a6210452d2f29f76",
            "bd990efc82524b3db6a45f173c528018",
            "7e7a19f03d7a43379b88722d8e24e681",
            "1f8ad57092724a5796795d462b7d48fc",
            "0305be6481e24f1d99c089b598aabcd3",
            "daae9bc0958549aeb56f48b9f1e08c63",
            "cf9f71da697243f59a72b8542f5b5500",
            "4c718162b5a24473aa0ac8e63be65e06",
            "3549dbcd3e6d4aeb98ca388e7936e4c9",
            "c514e0ca09504d4e97c6ce01b8bf61c1",
            "801c2661978c407fa0903d545542c06e"
          ]
        },
        "id": "MTCWObe9Qcqd",
        "outputId": "4706e371-8772-4cbb-8ff5-be550171ae74"
      },
      "source": [
        "dataset_generator()"
      ],
      "execution_count": 13,
      "outputs": [
        {
          "output_type": "display_data",
          "data": {
            "application/vnd.jupyter.widget-view+json": {
              "model_id": "e1d6c375dc8b4016a6210452d2f29f76",
              "version_minor": 0,
              "version_major": 2
            },
            "text/plain": [
              "Downloading to graphs/kghub/KGM...kg-microbe.tar.gz:   0%|          | 0.00/30.9M [00:00<?, ?iB/s]"
            ]
          },
          "metadata": {}
        },
        {
          "output_type": "execute_result",
          "data": {
            "text/html": [
              "<h2>KGMicrobe</h2><p>The undirected multigraph graph KGMicrobe has 276359 heterogenous nodes and 525615 heterogenous edges.</p><h3>RAM requirements</h3><p>The RAM requirements for the nodes and edges data structures are 58.39MB and 2.54MB respectively.</p><h3>Degree centrality</h3><p>The minimum node degree is 0, the maximum node degree is 11711, the mode degree is 1, the mean degree is 3.80 and the node degree median is 2.</p><p>The nodes with highest degree centrality are: microtraits.cell_shape_enum:bacillus (degree 11711 and node type <a href='https://biolink.github.io/biolink-model/docs/AbstractEntity.html' target='_blank' title='Go to BioLink to get more informations about biolink:AbstractEntity'>biolink:AbstractEntity</a>), <a href='http://purl.obolibrary.org/obo/ECOCORE_00000173' target='_blank' title='Go to An ontology of core ecological entities to get more informations about ECOCORE:00000173'>ECOCORE:00000173</a> (degree 7834 and node type <a href='https://biolink.github.io/biolink-model/docs/ActivityAndBehavior.html' target='_blank' title='Go to BioLink to get more informations about biolink:ActivityAndBehavior'>biolink:ActivityAndBehavior</a>), <a href='https://www.ebi.ac.uk/chebi/searchId.do?chebiId=CHEBI:24995' target='_blank' title='Go to CHEBI to get more informations about CHEBI:24995'>CHEBI:24995</a> (degree 7339 and node type <a href='https://biolink.github.io/biolink-model/docs/ChemicalSubstance.html' target='_blank' title='Go to BioLink to get more informations about biolink:ChemicalSubstance'>biolink:ChemicalSubstance</a>), <a href='https://www.ebi.ac.uk/chebi/searchId.do?chebiId=CHEBI:52898' target='_blank' title='Go to CHEBI to get more informations about CHEBI:52898'>CHEBI:52898</a> (degree 7247 and node type <a href='https://biolink.github.io/biolink-model/docs/ChemicalSubstance.html' target='_blank' title='Go to BioLink to get more informations about biolink:ChemicalSubstance'>biolink:ChemicalSubstance</a>) and <a href='https://www.ebi.ac.uk/chebi/searchId.do?chebiId=CHEBI:16670' target='_blank' title='Go to CHEBI to get more informations about CHEBI:16670'>CHEBI:16670</a> (degree 6213 and node type <a href='https://biolink.github.io/biolink-model/docs/ChemicalSubstance.html' target='_blank' title='Go to BioLink to get more informations about biolink:ChemicalSubstance'>biolink:ChemicalSubstance</a>).</p><h3>Disconnected nodes</h3><p>Disconnected nodes are nodes that are not connected to any other node.The graph contains 25984 disconnected nodes.</p><h4>Singleton nodes</h4><p>Singleton nodes are nodes with no edge to other nodes nor selfloops. The graph contains 25984 singleton nodes, which are <a href='https://www.ebi.ac.uk/chebi/searchId.do?chebiId=CHEBI:26549' target='_blank' title='Go to CHEBI to get more informations about CHEBI:26549'>CHEBI:26549</a> (node type <a href='https://biolink.github.io/biolink-model/docs/ChemicalSubstance.html' target='_blank' title='Go to BioLink to get more informations about biolink:ChemicalSubstance'>biolink:ChemicalSubstance</a>), <a href='https://www.ebi.ac.uk/chebi/searchId.do?chebiId=CHEBI:51506' target='_blank' title='Go to CHEBI to get more informations about CHEBI:51506'>CHEBI:51506</a> (node type <a href='https://biolink.github.io/biolink-model/docs/ChemicalSubstance.html' target='_blank' title='Go to BioLink to get more informations about biolink:ChemicalSubstance'>biolink:ChemicalSubstance</a>), <a href='https://www.ebi.ac.uk/chebi/searchId.do?chebiId=CHEBI:26540' target='_blank' title='Go to CHEBI to get more informations about CHEBI:26540'>CHEBI:26540</a> (node type <a href='https://biolink.github.io/biolink-model/docs/ChemicalSubstance.html' target='_blank' title='Go to BioLink to get more informations about biolink:ChemicalSubstance'>biolink:ChemicalSubstance</a>), <a href='https://www.ebi.ac.uk/chebi/searchId.do?chebiId=CHEBI:26542' target='_blank' title='Go to CHEBI to get more informations about CHEBI:26542'>CHEBI:26542</a> (node type <a href='https://biolink.github.io/biolink-model/docs/ChemicalSubstance.html' target='_blank' title='Go to BioLink to get more informations about biolink:ChemicalSubstance'>biolink:ChemicalSubstance</a>) and <a href='https://www.ebi.ac.uk/chebi/searchId.do?chebiId=CHEBI:26559' target='_blank' title='Go to CHEBI to get more informations about CHEBI:26559'>CHEBI:26559</a> (node type <a href='https://biolink.github.io/biolink-model/docs/ChemicalSubstance.html' target='_blank' title='Go to BioLink to get more informations about biolink:ChemicalSubstance'>biolink:ChemicalSubstance</a>), plus other 25979 singleton nodes.</p><h3>Node types</h3><p>The graph has 11 node types, of which the 5 most common are <a href='https://biolink.github.io/biolink-model/docs/ChemicalSubstance.html' target='_blank' title='Go to BioLink to get more informations about biolink:ChemicalSubstance'>biolink:ChemicalSubstance</a> (164725 nodes, 59.61%), <a href='https://biolink.github.io/biolink-model/docs/OrganismalEntity.html' target='_blank' title='Go to BioLink to get more informations about biolink:OrganismalEntity'>biolink:OrganismalEntity</a> (54841 nodes, 19.84%), <a href='https://biolink.github.io/biolink-model/docs/OrganismTaxon.html' target='_blank' title='Go to BioLink to get more informations about biolink:OrganismTaxon'>biolink:OrganismTaxon</a> (49155 nodes, 17.79%), <a href='https://biolink.github.io/biolink-model/docs/BiologicalProcess.html' target='_blank' title='Go to BioLink to get more informations about biolink:BiologicalProcess'>biolink:BiologicalProcess</a> (30565 nodes, 11.06%) and <a href='https://biolink.github.io/biolink-model/docs/MolecularActivity.html' target='_blank' title='Go to BioLink to get more informations about biolink:MolecularActivity'>biolink:MolecularActivity</a> (12284 nodes, 4.44%).</p><h4>RAM requirements</h4><p>The RAM requirements for the node types data structure is 13.92MB.</p><h3>Edge types</h3><p>The graph has 32 edge types, of which the 5 most common are <a href='https://biolink.github.io/biolink-model/docs/subclass_of.html' target='_blank' title='Go to BioLink to get more informations about biolink:subclass_of'>biolink:subclass_of</a> (693192 edges, 65.94%), <a href='https://biolink.github.io/biolink-model/docs/has_attribute.html' target='_blank' title='Go to BioLink to get more informations about biolink:has_attribute'>biolink:has_attribute</a> (82544 edges, 7.85%), <a href='https://biolink.github.io/biolink-model/docs/capable_of.html' target='_blank' title='Go to BioLink to get more informations about biolink:capable_of'>biolink:capable_of</a> (63860 edges, 6.07%), <a href='https://biolink.github.io/biolink-model/docs/related_to.html' target='_blank' title='Go to BioLink to get more informations about biolink:related_to'>biolink:related_to</a> (62460 edges, 5.94%) and <a href='https://biolink.github.io/biolink-model/docs/location_of.html' target='_blank' title='Go to BioLink to get more informations about biolink:location_of'>biolink:location_of</a> (50518 edges, 4.81%).</p><h4>RAM requirements</h4><p>The RAM requirements for the edge types data structure is 4.21MB.</p>"
            ],
            "text/plain": [
              "<h2>KGMicrobe</h2><p>The undirected multigraph graph KGMicrobe has 276359 heterogenous nodes and 525615 heterogenous edges.</p><h3>RAM requirements</h3><p>The RAM requirements for the nodes and edges data structures are 58.39MB and 2.54MB respectively.</p><h3>Degree centrality</h3><p>The minimum node degree is 0, the maximum node degree is 11711, the mode degree is 1, the mean degree is 3.80 and the node degree median is 2.</p><p>The nodes with highest degree centrality are: microtraits.cell_shape_enum:bacillus (degree 11711 and node type <a href='https://biolink.github.io/biolink-model/docs/AbstractEntity.html' target='_blank' title='Go to BioLink to get more informations about biolink:AbstractEntity'>biolink:AbstractEntity</a>), <a href='http://purl.obolibrary.org/obo/ECOCORE_00000173' target='_blank' title='Go to An ontology of core ecological entities to get more informations about ECOCORE:00000173'>ECOCORE:00000173</a> (degree 7834 and node type <a href='https://biolink.github.io/biolink-model/docs/ActivityAndBehavior.html' target='_blank' title='Go to BioLink to get more informations about biolink:ActivityAndBehavior'>biolink:ActivityAndBehavior</a>), <a href='https://www.ebi.ac.uk/chebi/searchId.do?chebiId=CHEBI:24995' target='_blank' title='Go to CHEBI to get more informations about CHEBI:24995'>CHEBI:24995</a> (degree 7339 and node type <a href='https://biolink.github.io/biolink-model/docs/ChemicalSubstance.html' target='_blank' title='Go to BioLink to get more informations about biolink:ChemicalSubstance'>biolink:ChemicalSubstance</a>), <a href='https://www.ebi.ac.uk/chebi/searchId.do?chebiId=CHEBI:52898' target='_blank' title='Go to CHEBI to get more informations about CHEBI:52898'>CHEBI:52898</a> (degree 7247 and node type <a href='https://biolink.github.io/biolink-model/docs/ChemicalSubstance.html' target='_blank' title='Go to BioLink to get more informations about biolink:ChemicalSubstance'>biolink:ChemicalSubstance</a>) and <a href='https://www.ebi.ac.uk/chebi/searchId.do?chebiId=CHEBI:16670' target='_blank' title='Go to CHEBI to get more informations about CHEBI:16670'>CHEBI:16670</a> (degree 6213 and node type <a href='https://biolink.github.io/biolink-model/docs/ChemicalSubstance.html' target='_blank' title='Go to BioLink to get more informations about biolink:ChemicalSubstance'>biolink:ChemicalSubstance</a>).</p><h3>Disconnected nodes</h3><p>Disconnected nodes are nodes that are not connected to any other node.The graph contains 25984 disconnected nodes.</p><h4>Singleton nodes</h4><p>Singleton nodes are nodes with no edge to other nodes nor selfloops. The graph contains 25984 singleton nodes, which are <a href='https://www.ebi.ac.uk/chebi/searchId.do?chebiId=CHEBI:26549' target='_blank' title='Go to CHEBI to get more informations about CHEBI:26549'>CHEBI:26549</a> (node type <a href='https://biolink.github.io/biolink-model/docs/ChemicalSubstance.html' target='_blank' title='Go to BioLink to get more informations about biolink:ChemicalSubstance'>biolink:ChemicalSubstance</a>), <a href='https://www.ebi.ac.uk/chebi/searchId.do?chebiId=CHEBI:51506' target='_blank' title='Go to CHEBI to get more informations about CHEBI:51506'>CHEBI:51506</a> (node type <a href='https://biolink.github.io/biolink-model/docs/ChemicalSubstance.html' target='_blank' title='Go to BioLink to get more informations about biolink:ChemicalSubstance'>biolink:ChemicalSubstance</a>), <a href='https://www.ebi.ac.uk/chebi/searchId.do?chebiId=CHEBI:26540' target='_blank' title='Go to CHEBI to get more informations about CHEBI:26540'>CHEBI:26540</a> (node type <a href='https://biolink.github.io/biolink-model/docs/ChemicalSubstance.html' target='_blank' title='Go to BioLink to get more informations about biolink:ChemicalSubstance'>biolink:ChemicalSubstance</a>), <a href='https://www.ebi.ac.uk/chebi/searchId.do?chebiId=CHEBI:26542' target='_blank' title='Go to CHEBI to get more informations about CHEBI:26542'>CHEBI:26542</a> (node type <a href='https://biolink.github.io/biolink-model/docs/ChemicalSubstance.html' target='_blank' title='Go to BioLink to get more informations about biolink:ChemicalSubstance'>biolink:ChemicalSubstance</a>) and <a href='https://www.ebi.ac.uk/chebi/searchId.do?chebiId=CHEBI:26559' target='_blank' title='Go to CHEBI to get more informations about CHEBI:26559'>CHEBI:26559</a> (node type <a href='https://biolink.github.io/biolink-model/docs/ChemicalSubstance.html' target='_blank' title='Go to BioLink to get more informations about biolink:ChemicalSubstance'>biolink:ChemicalSubstance</a>), plus other 25979 singleton nodes.</p><h3>Node types</h3><p>The graph has 11 node types, of which the 5 most common are <a href='https://biolink.github.io/biolink-model/docs/ChemicalSubstance.html' target='_blank' title='Go to BioLink to get more informations about biolink:ChemicalSubstance'>biolink:ChemicalSubstance</a> (164725 nodes, 59.61%), <a href='https://biolink.github.io/biolink-model/docs/OrganismalEntity.html' target='_blank' title='Go to BioLink to get more informations about biolink:OrganismalEntity'>biolink:OrganismalEntity</a> (54841 nodes, 19.84%), <a href='https://biolink.github.io/biolink-model/docs/OrganismTaxon.html' target='_blank' title='Go to BioLink to get more informations about biolink:OrganismTaxon'>biolink:OrganismTaxon</a> (49155 nodes, 17.79%), <a href='https://biolink.github.io/biolink-model/docs/BiologicalProcess.html' target='_blank' title='Go to BioLink to get more informations about biolink:BiologicalProcess'>biolink:BiologicalProcess</a> (30565 nodes, 11.06%) and <a href='https://biolink.github.io/biolink-model/docs/MolecularActivity.html' target='_blank' title='Go to BioLink to get more informations about biolink:MolecularActivity'>biolink:MolecularActivity</a> (12284 nodes, 4.44%).</p><h4>RAM requirements</h4><p>The RAM requirements for the node types data structure is 13.92MB.</p><h3>Edge types</h3><p>The graph has 32 edge types, of which the 5 most common are <a href='https://biolink.github.io/biolink-model/docs/subclass_of.html' target='_blank' title='Go to BioLink to get more informations about biolink:subclass_of'>biolink:subclass_of</a> (693192 edges, 65.94%), <a href='https://biolink.github.io/biolink-model/docs/has_attribute.html' target='_blank' title='Go to BioLink to get more informations about biolink:has_attribute'>biolink:has_attribute</a> (82544 edges, 7.85%), <a href='https://biolink.github.io/biolink-model/docs/capable_of.html' target='_blank' title='Go to BioLink to get more informations about biolink:capable_of'>biolink:capable_of</a> (63860 edges, 6.07%), <a href='https://biolink.github.io/biolink-model/docs/related_to.html' target='_blank' title='Go to BioLink to get more informations about biolink:related_to'>biolink:related_to</a> (62460 edges, 5.94%) and <a href='https://biolink.github.io/biolink-model/docs/location_of.html' target='_blank' title='Go to BioLink to get more informations about biolink:location_of'>biolink:location_of</a> (50518 edges, 4.81%).</p><h4>RAM requirements</h4><p>The RAM requirements for the edge types data structure is 4.21MB.</p>"
            ]
          },
          "metadata": {},
          "execution_count": 13
        }
      ]
    }
  ]
}