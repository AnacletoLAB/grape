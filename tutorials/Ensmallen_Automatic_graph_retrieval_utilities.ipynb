{
 "cells": [
  {
   "cell_type": "markdown",
   "metadata": {
    "colab_type": "text",
    "id": "view-in-github"
   },
   "source": [
    "<a href=\"https://colab.research.google.com/github/AnacletoLAB/grape/blob/main/tutorials/Ensmallen_Automatic_graph_retrieval_utilities.ipynb\" target=\"_parent\"><img src=\"https://colab.research.google.com/assets/colab-badge.svg\" alt=\"Open In Colab\"/></a>"
   ]
  },
  {
   "cell_type": "markdown",
   "metadata": {
    "id": "sbnz5HFrFPMZ"
   },
   "source": [
    "# Automatic graph retrieval utilities\n",
    "In this tutorial we will explore the utilities available for the automatic graph retrieval."
   ]
  },
  {
   "cell_type": "markdown",
   "metadata": {
    "id": "nbVWIXSyHhLE"
   },
   "source": [
    "## Installing the library\n",
    "First of all, we install the GraPE library:"
   ]
  },
  {
   "cell_type": "code",
   "execution_count": 1,
   "metadata": {
    "colab": {
     "base_uri": "https://localhost:8080/"
    },
    "id": "33LIZEHcE5vq",
    "outputId": "312320f8-9b40-4956-8d63-92ee92ce2b83"
   },
   "outputs": [
    {
     "name": "stdout",
     "output_type": "stream",
     "text": [
      "The history saving thread hit an unexpected error (OperationalError('database is locked')).History will not be written to the database.\n",
      "\u001b[33mWARNING: You are using pip version 22.0.4; however, version 22.1.2 is available.\n",
      "You should consider upgrading via the '/Users/lucacappelletti/opt/miniconda3/bin/python -m pip install --upgrade pip' command.\u001b[0m\n"
     ]
    }
   ],
   "source": [
    "!pip install -q grape"
   ]
  },
  {
   "cell_type": "markdown",
   "metadata": {
    "id": "EmKq46p6HuGl"
   },
   "source": [
    "## A few of the available methods\n",
    "We will rapidly present the available methods that allow to programmatically retrieve the available datasets."
   ]
  },
  {
   "cell_type": "markdown",
   "metadata": {
    "id": "2LD6zVrr52Da"
   },
   "source": [
    "Retrieve the list of the available graph repositories, that is the sources from where we can scrape graphs currently"
   ]
  },
  {
   "cell_type": "code",
   "execution_count": 2,
   "metadata": {
    "colab": {
     "base_uri": "https://localhost:8080/"
    },
    "id": "vq5-PVbBHspg",
    "outputId": "6da892a6-7b52-4a9c-cdbf-b463a70f839f"
   },
   "outputs": [
    {
     "data": {
      "text/plain": [
       "['linqs',\n",
       " 'kgobo',\n",
       " 'zenodo',\n",
       " 'string',\n",
       " 'kghub',\n",
       " 'freebase',\n",
       " 'wikidata',\n",
       " 'networkrepository',\n",
       " 'pheknowlatorkg',\n",
       " 'yue',\n",
       " 'monarchinitiative',\n",
       " 'jax',\n",
       " 'wikipedia']"
      ]
     },
     "execution_count": 2,
     "metadata": {},
     "output_type": "execute_result"
    }
   ],
   "source": [
    "from grape.datasets import get_available_repositories\n",
    "get_available_repositories()"
   ]
  },
  {
   "cell_type": "markdown",
   "metadata": {
    "id": "-uUlmO8tQrmI"
   },
   "source": [
    "Retrieving the list of graphs available from a given repository"
   ]
  },
  {
   "cell_type": "code",
   "execution_count": 3,
   "metadata": {
    "colab": {
     "base_uri": "https://localhost:8080/"
    },
    "id": "no3re2BpIATS",
    "outputId": "2b475618-6803-496a-b1a2-aee8b9b6cfed"
   },
   "outputs": [
    {
     "data": {
      "text/plain": [
       "dict_keys(['SLDB', 'KGMicrobe', 'KGIDG', 'KGPhenio', 'KGCOVID19', 'EcoKG'])"
      ]
     },
     "execution_count": 3,
     "metadata": {},
     "output_type": "execute_result"
    }
   ],
   "source": [
    "from grape.datasets import get_available_graphs_from_repository\n",
    "get_available_graphs_from_repository(\"kghub\")"
   ]
  },
  {
   "cell_type": "markdown",
   "metadata": {
    "id": "KEJV-Oiw6QYV"
   },
   "source": [
    "Retrieving the list of graph versions available from a given graph and repository"
   ]
  },
  {
   "cell_type": "code",
   "execution_count": 5,
   "metadata": {
    "colab": {
     "base_uri": "https://localhost:8080/"
    },
    "id": "eC92v-pP6QrN",
    "outputId": "562b40bc-c57a-4d6e-b850-230ff3d48770"
   },
   "outputs": [
    {
     "data": {
      "text/plain": [
       "['20200925',\n",
       " '20200927',\n",
       " '20200929',\n",
       " '20201001',\n",
       " '20201012',\n",
       " '20201101',\n",
       " '20201202',\n",
       " '20210101',\n",
       " '20210128',\n",
       " '20210201',\n",
       " '20210218',\n",
       " '20210301',\n",
       " '20210412',\n",
       " '20210725',\n",
       " '20210726',\n",
       " '20210727',\n",
       " '20210823',\n",
       " '20210902',\n",
       " '20211002',\n",
       " '20211102',\n",
       " '20211202',\n",
       " '20220102',\n",
       " '20220202',\n",
       " '20220217',\n",
       " '20220223',\n",
       " '20220225',\n",
       " '20220228',\n",
       " '20220328',\n",
       " '20220330',\n",
       " '20220402',\n",
       " '20220502',\n",
       " 'current']"
      ]
     },
     "execution_count": 5,
     "metadata": {},
     "output_type": "execute_result"
    }
   ],
   "source": [
    "from grape.datasets import get_available_versions_from_graph_and_repository\n",
    "get_available_versions_from_graph_and_repository(\n",
    "    name=\"KGCOVID19\",\n",
    "    repository=\"kghub\"\n",
    ")"
   ]
  },
  {
   "cell_type": "markdown",
   "metadata": {
    "id": "3x5M1YjLQvOM"
   },
   "source": [
    "Getting all the available datasets dataframe"
   ]
  },
  {
   "cell_type": "code",
   "execution_count": 6,
   "metadata": {
    "id": "MuaVlU64QuiW"
   },
   "outputs": [
    {
     "data": {
      "application/vnd.jupyter.widget-view+json": {
       "model_id": "",
       "version_major": 2,
       "version_minor": 0
      },
      "text/plain": [
       "Parsing repositories:   0%|                                                                                   …"
      ]
     },
     "metadata": {},
     "output_type": "display_data"
    },
    {
     "data": {
      "application/vnd.jupyter.widget-view+json": {
       "model_id": "",
       "version_major": 2,
       "version_minor": 0
      },
      "text/plain": [
       "Parsing graphs:   0%|                                                                                         …"
      ]
     },
     "metadata": {},
     "output_type": "display_data"
    },
    {
     "data": {
      "application/vnd.jupyter.widget-view+json": {
       "model_id": "",
       "version_major": 2,
       "version_minor": 0
      },
      "text/plain": [
       "Parsing graphs:   0%|                                                                                         …"
      ]
     },
     "metadata": {},
     "output_type": "display_data"
    },
    {
     "data": {
      "application/vnd.jupyter.widget-view+json": {
       "model_id": "",
       "version_major": 2,
       "version_minor": 0
      },
      "text/plain": [
       "Parsing graphs:   0%|                                                                                         …"
      ]
     },
     "metadata": {},
     "output_type": "display_data"
    },
    {
     "data": {
      "application/vnd.jupyter.widget-view+json": {
       "model_id": "",
       "version_major": 2,
       "version_minor": 0
      },
      "text/plain": [
       "Parsing graphs:   0%|                                                                                         …"
      ]
     },
     "metadata": {},
     "output_type": "display_data"
    },
    {
     "data": {
      "application/vnd.jupyter.widget-view+json": {
       "model_id": "",
       "version_major": 2,
       "version_minor": 0
      },
      "text/plain": [
       "Parsing graphs:   0%|                                                                                         …"
      ]
     },
     "metadata": {},
     "output_type": "display_data"
    },
    {
     "data": {
      "application/vnd.jupyter.widget-view+json": {
       "model_id": "",
       "version_major": 2,
       "version_minor": 0
      },
      "text/plain": [
       "Parsing graphs:   0%|                                                                                         …"
      ]
     },
     "metadata": {},
     "output_type": "display_data"
    },
    {
     "data": {
      "application/vnd.jupyter.widget-view+json": {
       "model_id": "",
       "version_major": 2,
       "version_minor": 0
      },
      "text/plain": [
       "Parsing graphs:   0%|                                                                                         …"
      ]
     },
     "metadata": {},
     "output_type": "display_data"
    },
    {
     "data": {
      "application/vnd.jupyter.widget-view+json": {
       "model_id": "",
       "version_major": 2,
       "version_minor": 0
      },
      "text/plain": [
       "Parsing graphs:   0%|                                                                                         …"
      ]
     },
     "metadata": {},
     "output_type": "display_data"
    },
    {
     "data": {
      "application/vnd.jupyter.widget-view+json": {
       "model_id": "",
       "version_major": 2,
       "version_minor": 0
      },
      "text/plain": [
       "Parsing graphs:   0%|                                                                                         …"
      ]
     },
     "metadata": {},
     "output_type": "display_data"
    },
    {
     "data": {
      "application/vnd.jupyter.widget-view+json": {
       "model_id": "",
       "version_major": 2,
       "version_minor": 0
      },
      "text/plain": [
       "Parsing graphs:   0%|                                                                                         …"
      ]
     },
     "metadata": {},
     "output_type": "display_data"
    },
    {
     "data": {
      "application/vnd.jupyter.widget-view+json": {
       "model_id": "",
       "version_major": 2,
       "version_minor": 0
      },
      "text/plain": [
       "Parsing graphs:   0%|                                                                                         …"
      ]
     },
     "metadata": {},
     "output_type": "display_data"
    },
    {
     "data": {
      "application/vnd.jupyter.widget-view+json": {
       "model_id": "",
       "version_major": 2,
       "version_minor": 0
      },
      "text/plain": [
       "Parsing graphs:   0%|                                                                                         …"
      ]
     },
     "metadata": {},
     "output_type": "display_data"
    },
    {
     "data": {
      "application/vnd.jupyter.widget-view+json": {
       "model_id": "",
       "version_major": 2,
       "version_minor": 0
      },
      "text/plain": [
       "Parsing graphs:   0%|                                                                                         …"
      ]
     },
     "metadata": {},
     "output_type": "display_data"
    }
   ],
   "source": [
    "from grape.datasets import get_all_available_graphs_dataframe\n",
    "\n",
    "available_graphs = get_all_available_graphs_dataframe()"
   ]
  },
  {
   "cell_type": "markdown",
   "metadata": {
    "id": "p-IaAYA8R6oN"
   },
   "source": [
    "Display the available graphs"
   ]
  },
  {
   "cell_type": "code",
   "execution_count": 7,
   "metadata": {
    "colab": {
     "base_uri": "https://localhost:8080/",
     "height": 419
    },
    "id": "sW5__fGnR8uF",
    "outputId": "f0579663-df72-4251-9d8d-5d8869d2265a"
   },
   "outputs": [
    {
     "data": {
      "text/html": [
       "<div>\n",
       "<style scoped>\n",
       "    .dataframe tbody tr th:only-of-type {\n",
       "        vertical-align: middle;\n",
       "    }\n",
       "\n",
       "    .dataframe tbody tr th {\n",
       "        vertical-align: top;\n",
       "    }\n",
       "\n",
       "    .dataframe thead th {\n",
       "        text-align: right;\n",
       "    }\n",
       "</style>\n",
       "<table border=\"1\" class=\"dataframe\">\n",
       "  <thead>\n",
       "    <tr style=\"text-align: right;\">\n",
       "      <th></th>\n",
       "      <th>repository</th>\n",
       "      <th>name</th>\n",
       "      <th>version</th>\n",
       "    </tr>\n",
       "  </thead>\n",
       "  <tbody>\n",
       "    <tr>\n",
       "      <th>0</th>\n",
       "      <td>linqs</td>\n",
       "      <td>PubMedDiabetes</td>\n",
       "      <td>latest</td>\n",
       "    </tr>\n",
       "    <tr>\n",
       "      <th>1</th>\n",
       "      <td>linqs</td>\n",
       "      <td>Cora</td>\n",
       "      <td>latest</td>\n",
       "    </tr>\n",
       "    <tr>\n",
       "      <th>2</th>\n",
       "      <td>linqs</td>\n",
       "      <td>CiteSeer</td>\n",
       "      <td>latest</td>\n",
       "    </tr>\n",
       "    <tr>\n",
       "      <th>3</th>\n",
       "      <td>kgobo</td>\n",
       "      <td>MOD</td>\n",
       "      <td>1.031.4</td>\n",
       "    </tr>\n",
       "    <tr>\n",
       "      <th>4</th>\n",
       "      <td>kgobo</td>\n",
       "      <td>MOD</td>\n",
       "      <td>10-03-2021-14-36</td>\n",
       "    </tr>\n",
       "    <tr>\n",
       "      <th>...</th>\n",
       "      <td>...</td>\n",
       "      <td>...</td>\n",
       "      <td>...</td>\n",
       "    </tr>\n",
       "    <tr>\n",
       "      <th>83585</th>\n",
       "      <td>wikipedia</td>\n",
       "      <td>WikiSourceHR</td>\n",
       "      <td>20220401</td>\n",
       "    </tr>\n",
       "    <tr>\n",
       "      <th>83586</th>\n",
       "      <td>wikipedia</td>\n",
       "      <td>WikiSourceHR</td>\n",
       "      <td>20220420</td>\n",
       "    </tr>\n",
       "    <tr>\n",
       "      <th>83587</th>\n",
       "      <td>wikipedia</td>\n",
       "      <td>WikiSourceHR</td>\n",
       "      <td>20220501</td>\n",
       "    </tr>\n",
       "    <tr>\n",
       "      <th>83588</th>\n",
       "      <td>wikipedia</td>\n",
       "      <td>WikiSourceHR</td>\n",
       "      <td>20220520</td>\n",
       "    </tr>\n",
       "    <tr>\n",
       "      <th>83589</th>\n",
       "      <td>wikipedia</td>\n",
       "      <td>WikiSourceHR</td>\n",
       "      <td>latest</td>\n",
       "    </tr>\n",
       "  </tbody>\n",
       "</table>\n",
       "<p>83590 rows × 3 columns</p>\n",
       "</div>"
      ],
      "text/plain": [
       "      repository            name           version\n",
       "0          linqs  PubMedDiabetes            latest\n",
       "1          linqs            Cora            latest\n",
       "2          linqs        CiteSeer            latest\n",
       "3          kgobo             MOD           1.031.4\n",
       "4          kgobo             MOD  10-03-2021-14-36\n",
       "...          ...             ...               ...\n",
       "83585  wikipedia    WikiSourceHR          20220401\n",
       "83586  wikipedia    WikiSourceHR          20220420\n",
       "83587  wikipedia    WikiSourceHR          20220501\n",
       "83588  wikipedia    WikiSourceHR          20220520\n",
       "83589  wikipedia    WikiSourceHR            latest\n",
       "\n",
       "[83590 rows x 3 columns]"
      ]
     },
     "execution_count": 7,
     "metadata": {},
     "output_type": "execute_result"
    }
   ],
   "source": [
    "available_graphs"
   ]
  },
  {
   "cell_type": "markdown",
   "metadata": {
    "id": "x1fs-bq36wjn"
   },
   "source": [
    "Getting the number of graphs per repository"
   ]
  },
  {
   "cell_type": "code",
   "execution_count": 8,
   "metadata": {
    "colab": {
     "base_uri": "https://localhost:8080/"
    },
    "id": "9ci30oGySHyd",
    "outputId": "79249f6f-4919-4714-eab7-0df816408b77"
   },
   "outputs": [
    {
     "data": {
      "text/plain": [
       "Counter({'linqs': 3,\n",
       "         'kgobo': 417,\n",
       "         'zenodo': 163,\n",
       "         'string': 75590,\n",
       "         'kghub': 86,\n",
       "         'freebase': 2,\n",
       "         'wikidata': 22,\n",
       "         'networkrepository': 1194,\n",
       "         'pheknowlatorkg': 116,\n",
       "         'yue': 7,\n",
       "         'monarchinitiative': 20,\n",
       "         'jax': 1,\n",
       "         'wikipedia': 5969})"
      ]
     },
     "execution_count": 8,
     "metadata": {},
     "output_type": "execute_result"
    }
   ],
   "source": [
    "from collections import Counter\n",
    "\n",
    "Counter(available_graphs[\"repository\"])"
   ]
  },
  {
   "cell_type": "markdown",
   "metadata": {
    "id": "OHA7-b9xQnDD"
   },
   "source": [
    "Programmatically retrieving a graph"
   ]
  },
  {
   "cell_type": "code",
   "execution_count": 10,
   "metadata": {
    "id": "zvm3GRr1INg4"
   },
   "outputs": [],
   "source": [
    "from grape.datasets import get_dataset\n",
    "dataset_generator = get_dataset(\n",
    "    name=\"KGMicrobe\",\n",
    "    repository=\"kghub\"\n",
    ")"
   ]
  },
  {
   "cell_type": "code",
   "execution_count": 11,
   "metadata": {
    "colab": {
     "base_uri": "https://localhost:8080/",
     "height": 653,
     "referenced_widgets": [
      "e1d6c375dc8b4016a6210452d2f29f76",
      "bd990efc82524b3db6a45f173c528018",
      "7e7a19f03d7a43379b88722d8e24e681",
      "1f8ad57092724a5796795d462b7d48fc",
      "0305be6481e24f1d99c089b598aabcd3",
      "daae9bc0958549aeb56f48b9f1e08c63",
      "cf9f71da697243f59a72b8542f5b5500",
      "4c718162b5a24473aa0ac8e63be65e06",
      "3549dbcd3e6d4aeb98ca388e7936e4c9",
      "c514e0ca09504d4e97c6ce01b8bf61c1",
      "801c2661978c407fa0903d545542c06e"
     ]
    },
    "id": "MTCWObe9Qcqd",
    "outputId": "4706e371-8772-4cbb-8ff5-be550171ae74"
   },
   "outputs": [
    {
     "data": {
      "application/vnd.jupyter.widget-view+json": {
       "model_id": "",
       "version_major": 2,
       "version_minor": 0
      },
      "text/plain": [
       "Downloading to graphs/kghub/KGM...kg-microbe.tar.gz:   0%|                                                    …"
      ]
     },
     "metadata": {},
     "output_type": "display_data"
    },
    {
     "data": {
      "text/html": [
       "<div class=\"graph-report\"><style>.graph-report li {margin: 0.5em 0 0.5em 0;}.graph-report .paragraph {text-align: justify;word-break: break-all;}.graph-report .small-columns {column-count: 4;column-gap: 2em;}.graph-report .medium-columns {column-count: 3;column-gap: 2em;}.graph-report .large-columns {column-count: 2;column-gap: 2em;}.graph-report .single-column {}@media only screen and (max-width: 600px) {.graph-report .small-columns {column-count: 1;}.graph-report .medium-columns {column-count: 1;}.graph-report .large-columns {column-count: 1;}}@media only screen and (min-width: 600px) and (max-width: 800px) {.graph-report .small-columns {column-count: 2;}.graph-report .medium-columns {column-count: 1;}.graph-report .large-columns {column-count: 1;}}@media only screen and (min-width: 800px) and (max-width: 1024px) {.graph-report .small-columns {column-count: 3;}.graph-report .medium-columns {column-count: 2;}.graph-report .large-columns {column-count: 1;}}</style><h2>KGMicrobe</h2><p class=\"paragraph\">The undirected multigraph KGMicrobe has 276.36K heterogeneous nodes and 525.62K heterogeneous edges. The graph contains 26.00K connected components (of which 25.98K are disconnected nodes), with the largest one containing 249.85K nodes and the smallest one containing a single node. The RAM requirements for the nodes and edges data structures are 30.21MB and 2.54MB respectively.</p><h3 style=\"margin: 1em 0 0 0;\">Degree centrality</h3><p class=\"paragraph\">The minimum node degree is 0, the maximum node degree is 11.71K, the mode degree is 1, the mean degree is 3.80 and the node degree median is 2.</p><p class=\"paragraph\">The nodes with the highest degree centrality are microtraits.cell_shape_enum:bacillus (degree 11.71K and node type <a href='https://biolink.github.io/biolink-model/docs/AbstractEntity.html' target='_blank' title='Go to BioLink to get more informations about biolink:AbstractEntity'>biolink:AbstractEntity</a>), <a href='http://purl.obolibrary.org/obo/ECOCORE_00000173' target='_blank' title='Go to An ontology of core ecological entities to get more informations about ECOCORE:00000173'>ECOCORE:00000173</a> (degree 7.83K and node type <a href='https://biolink.github.io/biolink-model/docs/ActivityAndBehavior.html' target='_blank' title='Go to BioLink to get more informations about biolink:ActivityAndBehavior'>biolink:ActivityAndBehavior</a>), <a href='https://www.ebi.ac.uk/chebi/searchId.do?chebiId=CHEBI:24995' target='_blank' title='Go to CHEBI to get more informations about CHEBI:24995'>CHEBI:24995</a> (degree 7.34K and node type <a href='https://biolink.github.io/biolink-model/docs/ChemicalSubstance.html' target='_blank' title='Go to BioLink to get more informations about biolink:ChemicalSubstance'>biolink:ChemicalSubstance</a>), <a href='https://www.ebi.ac.uk/chebi/searchId.do?chebiId=CHEBI:52898' target='_blank' title='Go to CHEBI to get more informations about CHEBI:52898'>CHEBI:52898</a> (degree 7.25K and node type <a href='https://biolink.github.io/biolink-model/docs/ChemicalSubstance.html' target='_blank' title='Go to BioLink to get more informations about biolink:ChemicalSubstance'>biolink:ChemicalSubstance</a>) and <a href='https://www.ebi.ac.uk/chebi/searchId.do?chebiId=CHEBI:16670' target='_blank' title='Go to CHEBI to get more informations about CHEBI:16670'>CHEBI:16670</a> (degree 6.21K and node type <a href='https://biolink.github.io/biolink-model/docs/ChemicalSubstance.html' target='_blank' title='Go to BioLink to get more informations about biolink:ChemicalSubstance'>biolink:ChemicalSubstance</a>).</p><h3 style=\"margin: 1em 0 0 0;\">Node types</h3><p class=\"paragraph\">The graph has 11 node types, of which the 10 most common are <a href='https://biolink.github.io/biolink-model/docs/ChemicalSubstance.html' target='_blank' title='Go to BioLink to get more informations about biolink:ChemicalSubstance'>biolink:ChemicalSubstance</a> (164.72K nodes, 59.61%), <a href='https://biolink.github.io/biolink-model/docs/OrganismalEntity.html' target='_blank' title='Go to BioLink to get more informations about biolink:OrganismalEntity'>biolink:OrganismalEntity</a> (54.84K nodes, 19.84%), <a href='https://biolink.github.io/biolink-model/docs/OrganismTaxon.html' target='_blank' title='Go to BioLink to get more informations about biolink:OrganismTaxon'>biolink:OrganismTaxon</a> (49.16K nodes, 17.79%), <a href='https://biolink.github.io/biolink-model/docs/BiologicalProcess.html' target='_blank' title='Go to BioLink to get more informations about biolink:BiologicalProcess'>biolink:BiologicalProcess</a> (30.57K nodes, 11.06%), <a href='https://biolink.github.io/biolink-model/docs/MolecularActivity.html' target='_blank' title='Go to BioLink to get more informations about biolink:MolecularActivity'>biolink:MolecularActivity</a> (12.28K nodes, 4.44%), <a href='https://biolink.github.io/biolink-model/docs/OntologyClass.html' target='_blank' title='Go to BioLink to get more informations about biolink:OntologyClass'>biolink:OntologyClass</a> (8.46K nodes, 3.06%), <a href='https://biolink.github.io/biolink-model/docs/CellularComponent.html' target='_blank' title='Go to BioLink to get more informations about biolink:CellularComponent'>biolink:CellularComponent</a> (4.46K nodes, 1.61%), <a href='https://biolink.github.io/biolink-model/docs/AnatomicalEntity.html' target='_blank' title='Go to BioLink to get more informations about biolink:AnatomicalEntity'>biolink:AnatomicalEntity</a> (690 nodes, 0.25%), <a href='https://biolink.github.io/biolink-model/docs/AbstractEntity.html' target='_blank' title='Go to BioLink to get more informations about biolink:AbstractEntity'>biolink:AbstractEntity</a> (19 nodes) and <a href='https://biolink.github.io/biolink-model/docs/NamedThing.html' target='_blank' title='Go to BioLink to get more informations about biolink:NamedThing'>biolink:NamedThing</a> (10 nodes). The node types are multi-label, and the node with most node types has 2 node types. The RAM requirement for the node types data structure is 14.57MB.</p><h3 style=\"margin: 1em 0 0 0;\">Edge types</h3><p class=\"paragraph\">The graph has 32 edge types, of which the 10 most common are <a href='https://biolink.github.io/biolink-model/docs/subclass_of.html' target='_blank' title='Go to BioLink to get more informations about biolink:subclass_of'>biolink:subclass_of</a> (693.19K edges, 65.94%), <a href='https://biolink.github.io/biolink-model/docs/has_attribute.html' target='_blank' title='Go to BioLink to get more informations about biolink:has_attribute'>biolink:has_attribute</a> (82.54K edges, 7.85%), <a href='https://biolink.github.io/biolink-model/docs/capable_of.html' target='_blank' title='Go to BioLink to get more informations about biolink:capable_of'>biolink:capable_of</a> (63.86K edges, 6.07%), <a href='https://biolink.github.io/biolink-model/docs/related_to.html' target='_blank' title='Go to BioLink to get more informations about biolink:related_to'>biolink:related_to</a> (62.46K edges, 5.94%), <a href='https://biolink.github.io/biolink-model/docs/location_of.html' target='_blank' title='Go to BioLink to get more informations about biolink:location_of'>biolink:location_of</a> (50.52K edges, 4.81%), <a href='https://biolink.github.io/biolink-model/docs/has_phenotype.html' target='_blank' title='Go to BioLink to get more informations about biolink:has_phenotype'>biolink:has_phenotype</a> (39.45K edges, 3.75%), <a href='https://biolink.github.io/biolink-model/docs/part_of.html' target='_blank' title='Go to BioLink to get more informations about biolink:part_of'>biolink:part_of</a> (17.99K edges, 1.71%), <a href='https://biolink.github.io/biolink-model/docs/has_part.html' target='_blank' title='Go to BioLink to get more informations about biolink:has_part'>biolink:has_part</a> (10.56K edges, 1.00%), <a href='https://biolink.github.io/biolink-model/docs/interacts_with.html' target='_blank' title='Go to BioLink to get more informations about biolink:interacts_with'>biolink:interacts_with</a> (8.66K edges, 0.82%) and <a href='https://biolink.github.io/biolink-model/docs/regulates.html' target='_blank' title='Go to BioLink to get more informations about biolink:regulates'>biolink:regulates</a> (7.11K edges, 0.68%). The RAM requirement for the edge types data structure is 8.41MB.</p><h3 style=\"margin: 1em 0 0 0;\">Topological Oddities</h3><p class=\"paragraph\">A topological oddity is a set of nodes in the graph that <i>may be derived</i> by an error during the generation of the edge list of the graph and, depending on the task, could bias the results of topology-based models. In the following paragraph, we will describe the detected topological oddities.</p><h4 style=\"margin: 1em 0 0 0;\">Singleton nodes</h4><p class=\"paragraph\">A singleton node is a node disconnected from all other nodes. We have detected 25.98K singleton nodes in the graph, involving a total of 25.98K nodes (9.40%). The detected singleton nodes are:</p><ul class=\"small-columns\"><li><p class=\"paragraph\"><a href='https://www.ebi.ac.uk/chebi/searchId.do?chebiId=CHEBI:26549' target='_blank' title='Go to CHEBI to get more informations about CHEBI:26549'>CHEBI:26549</a> (node type <a href='https://biolink.github.io/biolink-model/docs/ChemicalSubstance.html' target='_blank' title='Go to BioLink to get more informations about biolink:ChemicalSubstance'>biolink:ChemicalSubstance</a>)</p></li>\n",
       "<li><p class=\"paragraph\"><a href='https://www.ebi.ac.uk/chebi/searchId.do?chebiId=CHEBI:51506' target='_blank' title='Go to CHEBI to get more informations about CHEBI:51506'>CHEBI:51506</a> (node type <a href='https://biolink.github.io/biolink-model/docs/ChemicalSubstance.html' target='_blank' title='Go to BioLink to get more informations about biolink:ChemicalSubstance'>biolink:ChemicalSubstance</a>)</p></li>\n",
       "<li><p class=\"paragraph\"><a href='https://www.ebi.ac.uk/chebi/searchId.do?chebiId=CHEBI:26540' target='_blank' title='Go to CHEBI to get more informations about CHEBI:26540'>CHEBI:26540</a> (node type <a href='https://biolink.github.io/biolink-model/docs/ChemicalSubstance.html' target='_blank' title='Go to BioLink to get more informations about biolink:ChemicalSubstance'>biolink:ChemicalSubstance</a>)</p></li>\n",
       "<li><p class=\"paragraph\"><a href='https://www.ebi.ac.uk/chebi/searchId.do?chebiId=CHEBI:26542' target='_blank' title='Go to CHEBI to get more informations about CHEBI:26542'>CHEBI:26542</a> (node type <a href='https://biolink.github.io/biolink-model/docs/ChemicalSubstance.html' target='_blank' title='Go to BioLink to get more informations about biolink:ChemicalSubstance'>biolink:ChemicalSubstance</a>)</p></li>\n",
       "<li><p class=\"paragraph\"><a href='https://www.ebi.ac.uk/chebi/searchId.do?chebiId=CHEBI:26559' target='_blank' title='Go to CHEBI to get more informations about CHEBI:26559'>CHEBI:26559</a> (node type <a href='https://biolink.github.io/biolink-model/docs/ChemicalSubstance.html' target='_blank' title='Go to BioLink to get more informations about biolink:ChemicalSubstance'>biolink:ChemicalSubstance</a>)</p></li>\n",
       "<li><p class=\"paragraph\"><a href='https://www.ebi.ac.uk/chebi/searchId.do?chebiId=CHEBI:26557' target='_blank' title='Go to CHEBI to get more informations about CHEBI:26557'>CHEBI:26557</a> (node type <a href='https://biolink.github.io/biolink-model/docs/ChemicalSubstance.html' target='_blank' title='Go to BioLink to get more informations about biolink:ChemicalSubstance'>biolink:ChemicalSubstance</a>)</p></li>\n",
       "<li><p class=\"paragraph\"><a href='https://www.ebi.ac.uk/chebi/searchId.do?chebiId=CHEBI:26550' target='_blank' title='Go to CHEBI to get more informations about CHEBI:26550'>CHEBI:26550</a> (node type <a href='https://biolink.github.io/biolink-model/docs/ChemicalSubstance.html' target='_blank' title='Go to BioLink to get more informations about biolink:ChemicalSubstance'>biolink:ChemicalSubstance</a>)</p></li>\n",
       "<li><p class=\"paragraph\"><a href='https://www.ebi.ac.uk/chebi/searchId.do?chebiId=CHEBI:26552' target='_blank' title='Go to CHEBI to get more informations about CHEBI:26552'>CHEBI:26552</a> (node type <a href='https://biolink.github.io/biolink-model/docs/ChemicalSubstance.html' target='_blank' title='Go to BioLink to get more informations about biolink:ChemicalSubstance'>biolink:ChemicalSubstance</a>)</p></li>\n",
       "<li><p class=\"paragraph\"><a href='https://www.ebi.ac.uk/chebi/searchId.do?chebiId=CHEBI:26553' target='_blank' title='Go to CHEBI to get more informations about CHEBI:26553'>CHEBI:26553</a> (node type <a href='https://biolink.github.io/biolink-model/docs/ChemicalSubstance.html' target='_blank' title='Go to BioLink to get more informations about biolink:ChemicalSubstance'>biolink:ChemicalSubstance</a>)</p></li>\n",
       "<li><p class=\"paragraph\"><a href='https://www.ebi.ac.uk/chebi/searchId.do?chebiId=CHEBI:26525' target='_blank' title='Go to CHEBI to get more informations about CHEBI:26525'>CHEBI:26525</a> (node type <a href='https://biolink.github.io/biolink-model/docs/ChemicalSubstance.html' target='_blank' title='Go to BioLink to get more informations about biolink:ChemicalSubstance'>biolink:ChemicalSubstance</a>)</p></li>\n",
       "<li><p class=\"paragraph\"><a href='https://www.ebi.ac.uk/chebi/searchId.do?chebiId=CHEBI:26526' target='_blank' title='Go to CHEBI to get more informations about CHEBI:26526'>CHEBI:26526</a> (node type <a href='https://biolink.github.io/biolink-model/docs/ChemicalSubstance.html' target='_blank' title='Go to BioLink to get more informations about biolink:ChemicalSubstance'>biolink:ChemicalSubstance</a>)</p></li>\n",
       "<li><p class=\"paragraph\"><a href='https://www.ebi.ac.uk/chebi/searchId.do?chebiId=CHEBI:26527' target='_blank' title='Go to CHEBI to get more informations about CHEBI:26527'>CHEBI:26527</a> (node type <a href='https://biolink.github.io/biolink-model/docs/ChemicalSubstance.html' target='_blank' title='Go to BioLink to get more informations about biolink:ChemicalSubstance'>biolink:ChemicalSubstance</a>)</p></li>\n",
       "<li><p class=\"paragraph\"><a href='https://www.ebi.ac.uk/chebi/searchId.do?chebiId=CHEBI:26528' target='_blank' title='Go to CHEBI to get more informations about CHEBI:26528'>CHEBI:26528</a> (node type <a href='https://biolink.github.io/biolink-model/docs/ChemicalSubstance.html' target='_blank' title='Go to BioLink to get more informations about biolink:ChemicalSubstance'>biolink:ChemicalSubstance</a>)</p></li>\n",
       "<li><p class=\"paragraph\"><a href='https://www.ebi.ac.uk/chebi/searchId.do?chebiId=CHEBI:26521' target='_blank' title='Go to CHEBI to get more informations about CHEBI:26521'>CHEBI:26521</a> (node type <a href='https://biolink.github.io/biolink-model/docs/ChemicalSubstance.html' target='_blank' title='Go to BioLink to get more informations about biolink:ChemicalSubstance'>biolink:ChemicalSubstance</a>)</p></li>\n",
       "<li><p class=\"paragraph\"><a href='https://www.ebi.ac.uk/chebi/searchId.do?chebiId=CHEBI:26522' target='_blank' title='Go to CHEBI to get more informations about CHEBI:26522'>CHEBI:26522</a> (node type <a href='https://biolink.github.io/biolink-model/docs/ChemicalSubstance.html' target='_blank' title='Go to BioLink to get more informations about biolink:ChemicalSubstance'>biolink:ChemicalSubstance</a>)</p></li></ul><p class=\"paragraph\">And other 25.97K singleton nodes.</p><h4 style=\"margin: 1em 0 0 0;\">Chains</h4><p class=\"paragraph\">A chain is a path of nodes with unique degree 2, that is ignoring self-loop and multi-edges, connecting two strongly connected components of the graph. We have detected  a single chain in the graph, involving a total of 13 nodes and 12 edges, with the largest one involving 13 nodes and 12 edges.</p><ul class=\"medium-columns\"><li><p class=\"paragraph\">Chain containing 13 nodes and starts from the node <a href='https://www.ncbi.nlm.nih.gov/taxonomy/?term=9605' target='_blank' title='Go to NCBI Taxonomy to get more informations about NCBITaxon:9605'>NCBITaxon:9605</a>. Specifically, the nodes involved in the chain are: <a href='https://www.ncbi.nlm.nih.gov/taxonomy/?term=207598' target='_blank' title='Go to NCBI Taxonomy to get more informations about NCBITaxon:207598'>NCBITaxon:207598</a>, <a href='https://www.ncbi.nlm.nih.gov/taxonomy/?term=9604' target='_blank' title='Go to NCBI Taxonomy to get more informations about NCBITaxon:9604'>NCBITaxon:9604</a>, <a href='https://www.ncbi.nlm.nih.gov/taxonomy/?term=314295' target='_blank' title='Go to NCBI Taxonomy to get more informations about NCBITaxon:314295'>NCBITaxon:314295</a>, <a href='https://www.ncbi.nlm.nih.gov/taxonomy/?term=9526' target='_blank' title='Go to NCBI Taxonomy to get more informations about NCBITaxon:9526'>NCBITaxon:9526</a>, <a href='https://www.ncbi.nlm.nih.gov/taxonomy/?term=314293' target='_blank' title='Go to NCBI Taxonomy to get more informations about NCBITaxon:314293'>NCBITaxon:314293</a> and other 7. Its nodes have a single node type, which is <a href='https://biolink.github.io/biolink-model/docs/OrganismalEntity.html' target='_blank' title='Go to BioLink to get more informations about biolink:OrganismalEntity'>biolink:OrganismalEntity</a>. Its edges have a single edge type, which is <a href='https://biolink.github.io/biolink-model/docs/subclass_of.html' target='_blank' title='Go to BioLink to get more informations about biolink:subclass_of'>biolink:subclass_of</a>.</p></li></ul><h4 style=\"margin: 1em 0 0 0;\">Node tuples</h4><p class=\"paragraph\">A node tuple is a connected component composed of two nodes. We have detected 3 node tuples in the graph, involving a total of 6 nodes and 3 edges. The detected node tuples are:</p><ul class=\"medium-columns\"><li><p class=\"paragraph\">Node tuple containing the nodes <a href='http://purl.obolibrary.org/obo/RO_0002232' target='_blank' title='Go to Relation Ontology to get more informations about RO:0002232'>RO:0002232</a> (node type <a href='https://biolink.github.io/biolink-model/docs/OntologyClass.html' target='_blank' title='Go to BioLink to get more informations about biolink:OntologyClass'>biolink:OntologyClass</a>) and <a href='http://purl.obolibrary.org/obo/RO_0002479' target='_blank' title='Go to Relation Ontology to get more informations about RO:0002479'>RO:0002479</a> (node type <a href='https://biolink.github.io/biolink-model/docs/OntologyClass.html' target='_blank' title='Go to BioLink to get more informations about biolink:OntologyClass'>biolink:OntologyClass</a>).</p></li>\n",
       "<li><p class=\"paragraph\">Node tuple containing the nodes <a href='http://purl.obolibrary.org/obo/RO_0002162' target='_blank' title='Go to Relation Ontology to get more informations about RO:0002162'>RO:0002162</a> (node type <a href='https://biolink.github.io/biolink-model/docs/OntologyClass.html' target='_blank' title='Go to BioLink to get more informations about biolink:OntologyClass'>biolink:OntologyClass</a>) and <a href='http://purl.obolibrary.org/obo/RO_0002320' target='_blank' title='Go to Relation Ontology to get more informations about RO:0002320'>RO:0002320</a> (node type <a href='https://biolink.github.io/biolink-model/docs/OntologyClass.html' target='_blank' title='Go to BioLink to get more informations about biolink:OntologyClass'>biolink:OntologyClass</a>).</p></li>\n",
       "<li><p class=\"paragraph\">Node tuple containing the nodes <a href='http://purl.obolibrary.org/obo/chebi#is_conjugate_acid_of' target='_blank' title='Go to Open Biomedical Ontology to get more informations about OBO:chebi#is_conjugate_acid_of'>OBO:chebi#is_conjugate_acid_of</a> (node type <a href='https://biolink.github.io/biolink-model/docs/OntologyClass.html' target='_blank' title='Go to BioLink to get more informations about biolink:OntologyClass'>biolink:OntologyClass</a>) and <a href='http://purl.obolibrary.org/obo/chebi#is_conjugate_base_of' target='_blank' title='Go to Open Biomedical Ontology to get more informations about OBO:chebi#is_conjugate_base_of'>OBO:chebi#is_conjugate_base_of</a> (node type <a href='https://biolink.github.io/biolink-model/docs/OntologyClass.html' target='_blank' title='Go to BioLink to get more informations about biolink:OntologyClass'>biolink:OntologyClass</a>).</p></li></ul><h4 style=\"margin: 1em 0 0 0;\">Isomorphic node groups</h4><p class=\"paragraph\">Isomorphic groups are nodes with exactly the same neighbours and node types (if present in the graph). Nodes in such groups are topologically indistinguishable, that is swapping their ID would not change the graph topology. We have detected 546 isomorphic node groups in the graph, involving a total of 1.40K nodes (0.51%) and 8.65K edges (0.82%), with the largest one involving 25 nodes and 132 edges. The detected isomorphic node groups, sorted by decreasing size, are:</p><ol class=\"medium-columns\"><li><p class=\"paragraph\">Group with 2 nodes (degree 66 and node type <a href='https://biolink.github.io/biolink-model/docs/BiologicalProcess.html' target='_blank' title='Go to BioLink to get more informations about biolink:BiologicalProcess'>biolink:BiologicalProcess</a>): microtraits.pathways:anoxygenic_photoautotrophy and microtraits.pathways:photoautotrophy.</p></li>\n",
       "<li><p class=\"paragraph\">Group with 25 nodes (degree 5 and node type <a href='https://biolink.github.io/biolink-model/docs/ChemicalSubstance.html' target='_blank' title='Go to BioLink to get more informations about biolink:ChemicalSubstance'>biolink:ChemicalSubstance</a>): <a href='https://www.ebi.ac.uk/chebi/searchId.do?chebiId=CHEBI:73071' target='_blank' title='Go to CHEBI to get more informations about CHEBI:73071'>CHEBI:73071</a>, <a href='https://www.ebi.ac.uk/chebi/searchId.do?chebiId=CHEBI:73051' target='_blank' title='Go to CHEBI to get more informations about CHEBI:73051'>CHEBI:73051</a>, <a href='https://www.ebi.ac.uk/chebi/searchId.do?chebiId=CHEBI:73106' target='_blank' title='Go to CHEBI to get more informations about CHEBI:73106'>CHEBI:73106</a>, <a href='https://www.ebi.ac.uk/chebi/searchId.do?chebiId=CHEBI:73119' target='_blank' title='Go to CHEBI to get more informations about CHEBI:73119'>CHEBI:73119</a>, <a href='https://www.ebi.ac.uk/chebi/searchId.do?chebiId=CHEBI:73037' target='_blank' title='Go to CHEBI to get more informations about CHEBI:73037'>CHEBI:73037</a> and other 20.</p></li>\n",
       "<li><p class=\"paragraph\">Group with 23 nodes (degree 5 and node types <a href='https://biolink.github.io/biolink-model/docs/OrganismTaxon.html' target='_blank' title='Go to BioLink to get more informations about biolink:OrganismTaxon'>biolink:OrganismTaxon</a> and <a href='https://biolink.github.io/biolink-model/docs/OrganismalEntity.html' target='_blank' title='Go to BioLink to get more informations about biolink:OrganismalEntity'>biolink:OrganismalEntity</a>): <a href='https://www.ncbi.nlm.nih.gov/taxonomy/?term=911122' target='_blank' title='Go to NCBI Taxonomy to get more informations about NCBITaxon:911122'>NCBITaxon:911122</a>, <a href='https://www.ncbi.nlm.nih.gov/taxonomy/?term=911129' target='_blank' title='Go to NCBI Taxonomy to get more informations about NCBITaxon:911129'>NCBITaxon:911129</a>, <a href='https://www.ncbi.nlm.nih.gov/taxonomy/?term=521002' target='_blank' title='Go to NCBI Taxonomy to get more informations about NCBITaxon:521002'>NCBITaxon:521002</a>, <a href='https://www.ncbi.nlm.nih.gov/taxonomy/?term=911125' target='_blank' title='Go to NCBI Taxonomy to get more informations about NCBITaxon:911125'>NCBITaxon:911125</a>, <a href='https://www.ncbi.nlm.nih.gov/taxonomy/?term=911128' target='_blank' title='Go to NCBI Taxonomy to get more informations about NCBITaxon:911128'>NCBITaxon:911128</a> and other 18.</p></li>\n",
       "<li><p class=\"paragraph\">Group with 11 nodes (degree 7 and node type <a href='https://biolink.github.io/biolink-model/docs/ChemicalSubstance.html' target='_blank' title='Go to BioLink to get more informations about biolink:ChemicalSubstance'>biolink:ChemicalSubstance</a>): <a href='https://www.ebi.ac.uk/chebi/searchId.do?chebiId=CHEBI:67464' target='_blank' title='Go to CHEBI to get more informations about CHEBI:67464'>CHEBI:67464</a>, <a href='https://www.ebi.ac.uk/chebi/searchId.do?chebiId=CHEBI:67471' target='_blank' title='Go to CHEBI to get more informations about CHEBI:67471'>CHEBI:67471</a>, <a href='https://www.ebi.ac.uk/chebi/searchId.do?chebiId=CHEBI:67469' target='_blank' title='Go to CHEBI to get more informations about CHEBI:67469'>CHEBI:67469</a>, <a href='https://www.ebi.ac.uk/chebi/searchId.do?chebiId=CHEBI:67460' target='_blank' title='Go to CHEBI to get more informations about CHEBI:67460'>CHEBI:67460</a>, <a href='https://www.ebi.ac.uk/chebi/searchId.do?chebiId=CHEBI:67463' target='_blank' title='Go to CHEBI to get more informations about CHEBI:67463'>CHEBI:67463</a> and other 6.</p></li>\n",
       "<li><p class=\"paragraph\">Group with 12 nodes (degree 6 and node types <a href='https://biolink.github.io/biolink-model/docs/OrganismTaxon.html' target='_blank' title='Go to BioLink to get more informations about biolink:OrganismTaxon'>biolink:OrganismTaxon</a> and <a href='https://biolink.github.io/biolink-model/docs/OrganismalEntity.html' target='_blank' title='Go to BioLink to get more informations about biolink:OrganismalEntity'>biolink:OrganismalEntity</a>): <a href='https://www.ncbi.nlm.nih.gov/taxonomy/?term=698958' target='_blank' title='Go to NCBI Taxonomy to get more informations about NCBITaxon:698958'>NCBITaxon:698958</a>, <a href='https://www.ncbi.nlm.nih.gov/taxonomy/?term=698957' target='_blank' title='Go to NCBI Taxonomy to get more informations about NCBITaxon:698957'>NCBITaxon:698957</a>, <a href='https://www.ncbi.nlm.nih.gov/taxonomy/?term=698961' target='_blank' title='Go to NCBI Taxonomy to get more informations about NCBITaxon:698961'>NCBITaxon:698961</a>, <a href='https://www.ncbi.nlm.nih.gov/taxonomy/?term=698959' target='_blank' title='Go to NCBI Taxonomy to get more informations about NCBITaxon:698959'>NCBITaxon:698959</a>, <a href='https://www.ncbi.nlm.nih.gov/taxonomy/?term=698951' target='_blank' title='Go to NCBI Taxonomy to get more informations about NCBITaxon:698951'>NCBITaxon:698951</a> and other 7.</p></li>\n",
       "<li><p class=\"paragraph\">Group with 14 nodes (degree 5 and node types <a href='https://biolink.github.io/biolink-model/docs/OrganismTaxon.html' target='_blank' title='Go to BioLink to get more informations about biolink:OrganismTaxon'>biolink:OrganismTaxon</a> and <a href='https://biolink.github.io/biolink-model/docs/OrganismalEntity.html' target='_blank' title='Go to BioLink to get more informations about biolink:OrganismalEntity'>biolink:OrganismalEntity</a>): <a href='https://www.ncbi.nlm.nih.gov/taxonomy/?term=699034' target='_blank' title='Go to NCBI Taxonomy to get more informations about NCBITaxon:699034'>NCBITaxon:699034</a>, <a href='https://www.ncbi.nlm.nih.gov/taxonomy/?term=479834' target='_blank' title='Go to NCBI Taxonomy to get more informations about NCBITaxon:479834'>NCBITaxon:479834</a>, <a href='https://www.ncbi.nlm.nih.gov/taxonomy/?term=699033' target='_blank' title='Go to NCBI Taxonomy to get more informations about NCBITaxon:699033'>NCBITaxon:699033</a>, <a href='https://www.ncbi.nlm.nih.gov/taxonomy/?term=699037' target='_blank' title='Go to NCBI Taxonomy to get more informations about NCBITaxon:699037'>NCBITaxon:699037</a>, <a href='https://www.ncbi.nlm.nih.gov/taxonomy/?term=479833' target='_blank' title='Go to NCBI Taxonomy to get more informations about NCBITaxon:479833'>NCBITaxon:479833</a> and other 9.</p></li>\n",
       "<li><p class=\"paragraph\">Group with 11 nodes (degree 5 and node types <a href='https://biolink.github.io/biolink-model/docs/OrganismTaxon.html' target='_blank' title='Go to BioLink to get more informations about biolink:OrganismTaxon'>biolink:OrganismTaxon</a> and <a href='https://biolink.github.io/biolink-model/docs/OrganismalEntity.html' target='_blank' title='Go to BioLink to get more informations about biolink:OrganismalEntity'>biolink:OrganismalEntity</a>): <a href='https://www.ncbi.nlm.nih.gov/taxonomy/?term=113395' target='_blank' title='Go to NCBI Taxonomy to get more informations about NCBITaxon:113395'>NCBITaxon:113395</a>, <a href='https://www.ncbi.nlm.nih.gov/taxonomy/?term=196490' target='_blank' title='Go to NCBI Taxonomy to get more informations about NCBITaxon:196490'>NCBITaxon:196490</a>, <a href='https://www.ncbi.nlm.nih.gov/taxonomy/?term=1040989' target='_blank' title='Go to NCBI Taxonomy to get more informations about NCBITaxon:1040989'>NCBITaxon:1040989</a>, <a href='https://www.ncbi.nlm.nih.gov/taxonomy/?term=754500' target='_blank' title='Go to NCBI Taxonomy to get more informations about NCBITaxon:754500'>NCBITaxon:754500</a>, <a href='https://www.ncbi.nlm.nih.gov/taxonomy/?term=1038866' target='_blank' title='Go to NCBI Taxonomy to get more informations about NCBITaxon:1038866'>NCBITaxon:1038866</a> and other 6.</p></li>\n",
       "<li><p class=\"paragraph\">Group with 9 nodes (degree 5 and node types <a href='https://biolink.github.io/biolink-model/docs/OrganismTaxon.html' target='_blank' title='Go to BioLink to get more informations about biolink:OrganismTaxon'>biolink:OrganismTaxon</a> and <a href='https://biolink.github.io/biolink-model/docs/OrganismalEntity.html' target='_blank' title='Go to BioLink to get more informations about biolink:OrganismalEntity'>biolink:OrganismalEntity</a>): <a href='https://www.ncbi.nlm.nih.gov/taxonomy/?term=1079455' target='_blank' title='Go to NCBI Taxonomy to get more informations about NCBITaxon:1079455'>NCBITaxon:1079455</a>, <a href='https://www.ncbi.nlm.nih.gov/taxonomy/?term=1041142' target='_blank' title='Go to NCBI Taxonomy to get more informations about NCBITaxon:1041142'>NCBITaxon:1041142</a>, <a href='https://www.ncbi.nlm.nih.gov/taxonomy/?term=935554' target='_blank' title='Go to NCBI Taxonomy to get more informations about NCBITaxon:935554'>NCBITaxon:935554</a>, <a href='https://www.ncbi.nlm.nih.gov/taxonomy/?term=936136' target='_blank' title='Go to NCBI Taxonomy to get more informations about NCBITaxon:936136'>NCBITaxon:936136</a>, <a href='https://www.ncbi.nlm.nih.gov/taxonomy/?term=1041143' target='_blank' title='Go to NCBI Taxonomy to get more informations about NCBITaxon:1041143'>NCBITaxon:1041143</a> and other 4.</p></li>\n",
       "<li><p class=\"paragraph\">Group with 9 nodes (degree 5 and node types <a href='https://biolink.github.io/biolink-model/docs/OrganismTaxon.html' target='_blank' title='Go to BioLink to get more informations about biolink:OrganismTaxon'>biolink:OrganismTaxon</a> and <a href='https://biolink.github.io/biolink-model/docs/OrganismalEntity.html' target='_blank' title='Go to BioLink to get more informations about biolink:OrganismalEntity'>biolink:OrganismalEntity</a>): <a href='https://www.ncbi.nlm.nih.gov/taxonomy/?term=928723' target='_blank' title='Go to NCBI Taxonomy to get more informations about NCBITaxon:928723'>NCBITaxon:928723</a>, <a href='https://www.ncbi.nlm.nih.gov/taxonomy/?term=1041151' target='_blank' title='Go to NCBI Taxonomy to get more informations about NCBITaxon:1041151'>NCBITaxon:1041151</a>, <a href='https://www.ncbi.nlm.nih.gov/taxonomy/?term=935563' target='_blank' title='Go to NCBI Taxonomy to get more informations about NCBITaxon:935563'>NCBITaxon:935563</a>, <a href='https://www.ncbi.nlm.nih.gov/taxonomy/?term=1041154' target='_blank' title='Go to NCBI Taxonomy to get more informations about NCBITaxon:1041154'>NCBITaxon:1041154</a>, <a href='https://www.ncbi.nlm.nih.gov/taxonomy/?term=1041155' target='_blank' title='Go to NCBI Taxonomy to get more informations about NCBITaxon:1041155'>NCBITaxon:1041155</a> and other 4.</p></li>\n",
       "<li><p class=\"paragraph\">Group with 6 nodes (degree 7 and node type <a href='https://biolink.github.io/biolink-model/docs/ChemicalSubstance.html' target='_blank' title='Go to BioLink to get more informations about biolink:ChemicalSubstance'>biolink:ChemicalSubstance</a>): <a href='https://www.ebi.ac.uk/chebi/searchId.do?chebiId=CHEBI:67503' target='_blank' title='Go to CHEBI to get more informations about CHEBI:67503'>CHEBI:67503</a>, <a href='https://www.ebi.ac.uk/chebi/searchId.do?chebiId=CHEBI:67504' target='_blank' title='Go to CHEBI to get more informations about CHEBI:67504'>CHEBI:67504</a>, <a href='https://www.ebi.ac.uk/chebi/searchId.do?chebiId=CHEBI:67499' target='_blank' title='Go to CHEBI to get more informations about CHEBI:67499'>CHEBI:67499</a>, <a href='https://www.ebi.ac.uk/chebi/searchId.do?chebiId=CHEBI:67500' target='_blank' title='Go to CHEBI to get more informations about CHEBI:67500'>CHEBI:67500</a>, <a href='https://www.ebi.ac.uk/chebi/searchId.do?chebiId=CHEBI:67502' target='_blank' title='Go to CHEBI to get more informations about CHEBI:67502'>CHEBI:67502</a> and another one.</p></li>\n",
       "<li><p class=\"paragraph\">Group with 6 nodes (degree 7 and node type <a href='https://biolink.github.io/biolink-model/docs/ChemicalSubstance.html' target='_blank' title='Go to BioLink to get more informations about biolink:ChemicalSubstance'>biolink:ChemicalSubstance</a>): <a href='https://www.ebi.ac.uk/chebi/searchId.do?chebiId=CHEBI:67759' target='_blank' title='Go to CHEBI to get more informations about CHEBI:67759'>CHEBI:67759</a>, <a href='https://www.ebi.ac.uk/chebi/searchId.do?chebiId=CHEBI:67757' target='_blank' title='Go to CHEBI to get more informations about CHEBI:67757'>CHEBI:67757</a>, <a href='https://www.ebi.ac.uk/chebi/searchId.do?chebiId=CHEBI:67756' target='_blank' title='Go to CHEBI to get more informations about CHEBI:67756'>CHEBI:67756</a>, <a href='https://www.ebi.ac.uk/chebi/searchId.do?chebiId=CHEBI:67758' target='_blank' title='Go to CHEBI to get more informations about CHEBI:67758'>CHEBI:67758</a>, <a href='https://www.ebi.ac.uk/chebi/searchId.do?chebiId=CHEBI:67755' target='_blank' title='Go to CHEBI to get more informations about CHEBI:67755'>CHEBI:67755</a> and another one.</p></li>\n",
       "<li><p class=\"paragraph\">Group with 6 nodes (degree 7 and node type <a href='https://biolink.github.io/biolink-model/docs/ChemicalSubstance.html' target='_blank' title='Go to BioLink to get more informations about biolink:ChemicalSubstance'>biolink:ChemicalSubstance</a>): <a href='https://www.ebi.ac.uk/chebi/searchId.do?chebiId=CHEBI:66205' target='_blank' title='Go to CHEBI to get more informations about CHEBI:66205'>CHEBI:66205</a>, <a href='https://www.ebi.ac.uk/chebi/searchId.do?chebiId=CHEBI:66208' target='_blank' title='Go to CHEBI to get more informations about CHEBI:66208'>CHEBI:66208</a>, <a href='https://www.ebi.ac.uk/chebi/searchId.do?chebiId=CHEBI:66207' target='_blank' title='Go to CHEBI to get more informations about CHEBI:66207'>CHEBI:66207</a>, <a href='https://www.ebi.ac.uk/chebi/searchId.do?chebiId=CHEBI:66206' target='_blank' title='Go to CHEBI to get more informations about CHEBI:66206'>CHEBI:66206</a>, <a href='https://www.ebi.ac.uk/chebi/searchId.do?chebiId=CHEBI:66204' target='_blank' title='Go to CHEBI to get more informations about CHEBI:66204'>CHEBI:66204</a> and another one.</p></li>\n",
       "<li><p class=\"paragraph\">Group with 8 nodes (degree 5 and node type <a href='https://biolink.github.io/biolink-model/docs/ChemicalSubstance.html' target='_blank' title='Go to BioLink to get more informations about biolink:ChemicalSubstance'>biolink:ChemicalSubstance</a>): <a href='https://www.ebi.ac.uk/chebi/searchId.do?chebiId=CHEBI:69875' target='_blank' title='Go to CHEBI to get more informations about CHEBI:69875'>CHEBI:69875</a>, <a href='https://www.ebi.ac.uk/chebi/searchId.do?chebiId=CHEBI:69877' target='_blank' title='Go to CHEBI to get more informations about CHEBI:69877'>CHEBI:69877</a>, <a href='https://www.ebi.ac.uk/chebi/searchId.do?chebiId=CHEBI:69886' target='_blank' title='Go to CHEBI to get more informations about CHEBI:69886'>CHEBI:69886</a>, <a href='https://www.ebi.ac.uk/chebi/searchId.do?chebiId=CHEBI:69881' target='_blank' title='Go to CHEBI to get more informations about CHEBI:69881'>CHEBI:69881</a>, <a href='https://www.ebi.ac.uk/chebi/searchId.do?chebiId=CHEBI:69885' target='_blank' title='Go to CHEBI to get more informations about CHEBI:69885'>CHEBI:69885</a> and other 3.</p></li>\n",
       "<li><p class=\"paragraph\">Group with 5 nodes (degree 8 and node type <a href='https://biolink.github.io/biolink-model/docs/ChemicalSubstance.html' target='_blank' title='Go to BioLink to get more informations about biolink:ChemicalSubstance'>biolink:ChemicalSubstance</a>): <a href='https://www.ebi.ac.uk/chebi/searchId.do?chebiId=CHEBI:68322' target='_blank' title='Go to CHEBI to get more informations about CHEBI:68322'>CHEBI:68322</a>, <a href='https://www.ebi.ac.uk/chebi/searchId.do?chebiId=CHEBI:68321' target='_blank' title='Go to CHEBI to get more informations about CHEBI:68321'>CHEBI:68321</a>, <a href='https://www.ebi.ac.uk/chebi/searchId.do?chebiId=CHEBI:68324' target='_blank' title='Go to CHEBI to get more informations about CHEBI:68324'>CHEBI:68324</a>, <a href='https://www.ebi.ac.uk/chebi/searchId.do?chebiId=CHEBI:68323' target='_blank' title='Go to CHEBI to get more informations about CHEBI:68323'>CHEBI:68323</a> and <a href='https://www.ebi.ac.uk/chebi/searchId.do?chebiId=CHEBI:68325' target='_blank' title='Go to CHEBI to get more informations about CHEBI:68325'>CHEBI:68325</a>.</p></li>\n",
       "<li><p class=\"paragraph\">Group with 4 nodes (degree 10 and node type <a href='https://biolink.github.io/biolink-model/docs/ChemicalSubstance.html' target='_blank' title='Go to BioLink to get more informations about biolink:ChemicalSubstance'>biolink:ChemicalSubstance</a>): <a href='https://www.ebi.ac.uk/chebi/searchId.do?chebiId=CHEBI:66236' target='_blank' title='Go to CHEBI to get more informations about CHEBI:66236'>CHEBI:66236</a>, <a href='https://www.ebi.ac.uk/chebi/searchId.do?chebiId=CHEBI:66235' target='_blank' title='Go to CHEBI to get more informations about CHEBI:66235'>CHEBI:66235</a>, <a href='https://www.ebi.ac.uk/chebi/searchId.do?chebiId=CHEBI:66234' target='_blank' title='Go to CHEBI to get more informations about CHEBI:66234'>CHEBI:66234</a> and <a href='https://www.ebi.ac.uk/chebi/searchId.do?chebiId=CHEBI:66237' target='_blank' title='Go to CHEBI to get more informations about CHEBI:66237'>CHEBI:66237</a>.</p></li></ol><p class=\"paragraph\">And other 531 isomorphic node groups.</p><h4 style=\"margin: 1em 0 0 0;\">Trees</h4><p class=\"paragraph\">A tree is a connected component with <code>n</code> nodes and <code>n-1</code> edges. We have detected 4 trees in the graph, involving a total of 25 nodes and 21 edges, with the largest one involving 8 nodes and 7 edges. The detected trees, sorted by decreasing size, are:</p><ol class=\"large-columns\"><li><p class=\"paragraph\">Tree starting from the root node <a href='http://purl.obolibrary.org/obo/RO_0002574' target='_blank' title='Go to Relation Ontology to get more informations about RO:0002574'>RO:0002574</a> (degree 2), and containing 8 nodes, with a maximal depth of 3, which are <a href='http://purl.obolibrary.org/obo/RO_0002437' target='_blank' title='Go to Relation Ontology to get more informations about RO:0002437'>RO:0002437</a> (degree 3), <a href='http://purl.obolibrary.org/obo/RO_0002438' target='_blank' title='Go to Relation Ontology to get more informations about RO:0002438'>RO:0002438</a> (degree 3), <a href='http://purl.obolibrary.org/obo/RO_0002321' target='_blank' title='Go to Relation Ontology to get more informations about RO:0002321'>RO:0002321</a>, <a href='http://purl.obolibrary.org/obo/RO_0002434' target='_blank' title='Go to Relation Ontology to get more informations about RO:0002434'>RO:0002434</a> and <a href='http://purl.obolibrary.org/obo/RO_0002469' target='_blank' title='Go to Relation Ontology to get more informations about RO:0002469'>RO:0002469</a>. Its nodes have a single node type, which is <a href='https://biolink.github.io/biolink-model/docs/OntologyClass.html' target='_blank' title='Go to BioLink to get more informations about biolink:OntologyClass'>biolink:OntologyClass</a>. Its edges have a single edge type, which is <a href='https://biolink.github.io/biolink-model/docs/subPropertyOf.html' target='_blank' title='Go to BioLink to get more informations about biolink:subPropertyOf'>biolink:subPropertyOf</a>.</p></li>\n",
       "<li><p class=\"paragraph\">Tree starting from the root node <a href='http://purl.obolibrary.org/obo/FOODON_03411016' target='_blank' title='Go to FOODON to get more informations about FOODON:03411016'>FOODON:03411016</a> (degree 2), and containing 6 nodes, with a maximal depth of 3, which are <a href='http://purl.obolibrary.org/obo/FOODON_03411009' target='_blank' title='Go to FOODON to get more informations about FOODON:03411009'>FOODON:03411009</a>, <a href='http://purl.obolibrary.org/obo/FOODON_03412344' target='_blank' title='Go to FOODON to get more informations about FOODON:03412344'>FOODON:03412344</a>, <a href='http://purl.obolibrary.org/obo/FOODON_03411048' target='_blank' title='Go to FOODON to get more informations about FOODON:03411048'>FOODON:03411048</a>, <a href='http://purl.obolibrary.org/obo/FOODON_03412637' target='_blank' title='Go to FOODON to get more informations about FOODON:03412637'>FOODON:03412637</a> and <a href='http://purl.obolibrary.org/obo/FOODON_03411013' target='_blank' title='Go to FOODON to get more informations about FOODON:03411013'>FOODON:03411013</a>. Its nodes have a single node type, which is <a href='https://biolink.github.io/biolink-model/docs/OntologyClass.html' target='_blank' title='Go to BioLink to get more informations about biolink:OntologyClass'>biolink:OntologyClass</a>. Its edges have a single edge type, which is <a href='https://biolink.github.io/biolink-model/docs/subclass_of.html' target='_blank' title='Go to BioLink to get more informations about biolink:subclass_of'>biolink:subclass_of</a>.</p></li>\n",
       "<li><p class=\"paragraph\">Tree starting from the root node <a href='http://purl.obolibrary.org/obo/FOODON_03414459' target='_blank' title='Go to FOODON to get more informations about FOODON:03414459'>FOODON:03414459</a> (degree 2), and containing 6 nodes, with a maximal depth of 2, which are <a href='http://purl.obolibrary.org/obo/FOODON_03411283' target='_blank' title='Go to FOODON to get more informations about FOODON:03411283'>FOODON:03411283</a> (degree 3), <a href='http://purl.obolibrary.org/obo/FOODON_03414460' target='_blank' title='Go to FOODON to get more informations about FOODON:03414460'>FOODON:03414460</a>, <a href='http://purl.obolibrary.org/obo/FOODON_00001155' target='_blank' title='Go to FOODON to get more informations about FOODON:00001155'>FOODON:00001155</a>, <a href='http://purl.obolibrary.org/obo/FOODON_03411140' target='_blank' title='Go to FOODON to get more informations about FOODON:03411140'>FOODON:03411140</a> and <a href='http://purl.obolibrary.org/obo/FOODON_03413357' target='_blank' title='Go to FOODON to get more informations about FOODON:03413357'>FOODON:03413357</a>. Its nodes have a single node type, which is <a href='https://biolink.github.io/biolink-model/docs/OntologyClass.html' target='_blank' title='Go to BioLink to get more informations about biolink:OntologyClass'>biolink:OntologyClass</a>. Its edges have a single edge type, which is <a href='https://biolink.github.io/biolink-model/docs/subclass_of.html' target='_blank' title='Go to BioLink to get more informations about biolink:subclass_of'>biolink:subclass_of</a>.</p></li>\n",
       "<li><p class=\"paragraph\">Tree starting from the root node <a href='http://purl.obolibrary.org/obo/FOODON_03460225' target='_blank' title='Go to FOODON to get more informations about FOODON:03460225'>FOODON:03460225</a> (degree 2), and containing 5 nodes, with a maximal depth of 2, which are <a href='http://purl.obolibrary.org/obo/FOODON_03460111' target='_blank' title='Go to FOODON to get more informations about FOODON:03460111'>FOODON:03460111</a>, <a href='http://purl.obolibrary.org/obo/FOODON_03460751' target='_blank' title='Go to FOODON to get more informations about FOODON:03460751'>FOODON:03460751</a>, <a href='http://purl.obolibrary.org/obo/FOODON_00002451' target='_blank' title='Go to FOODON to get more informations about FOODON:00002451'>FOODON:00002451</a> and <a href='http://purl.obolibrary.org/obo/FOODON_03460752' target='_blank' title='Go to FOODON to get more informations about FOODON:03460752'>FOODON:03460752</a>. Its nodes have a single node type, which is <a href='https://biolink.github.io/biolink-model/docs/OntologyClass.html' target='_blank' title='Go to BioLink to get more informations about biolink:OntologyClass'>biolink:OntologyClass</a>. Its edges have a single edge type, which is <a href='https://biolink.github.io/biolink-model/docs/subclass_of.html' target='_blank' title='Go to BioLink to get more informations about biolink:subclass_of'>biolink:subclass_of</a>.</p></li></ol><h4 style=\"margin: 1em 0 0 0;\">Dendritic trees</h4><p class=\"paragraph\">A dendritic tree is a tree-like structure starting from a root node that is part of another strongly connected component. We have detected 726 dendritic trees in the graph, involving a total of 17.28K nodes (6.25%) and 17.28K edges (1.64%), with the largest one involving 1.51K nodes and 1.51K edges. The detected dendritic trees, sorted by decreasing size, are:</p><ol class=\"large-columns\"><li><p class=\"paragraph\">Dendritic tree starting from the root node <a href='https://www.ebi.ac.uk/chebi/searchId.do?chebiId=CHEBI:50860' target='_blank' title='Go to CHEBI to get more informations about CHEBI:50860'>CHEBI:50860</a> (degree 2.74K), and containing 1.51K nodes, with a maximal depth of 2, which are <a href='https://www.ebi.ac.uk/chebi/searchId.do?chebiId=CHEBI:9765' target='_blank' title='Go to CHEBI to get more informations about CHEBI:9765'>CHEBI:9765</a>, <a href='https://www.ebi.ac.uk/chebi/searchId.do?chebiId=CHEBI:9790' target='_blank' title='Go to CHEBI to get more informations about CHEBI:9790'>CHEBI:9790</a>, <a href='https://www.ebi.ac.uk/chebi/searchId.do?chebiId=CHEBI:145680' target='_blank' title='Go to CHEBI to get more informations about CHEBI:145680'>CHEBI:145680</a>, <a href='https://www.ebi.ac.uk/chebi/searchId.do?chebiId=CHEBI:145677' target='_blank' title='Go to CHEBI to get more informations about CHEBI:145677'>CHEBI:145677</a> and <a href='https://www.ebi.ac.uk/chebi/searchId.do?chebiId=CHEBI:145678' target='_blank' title='Go to CHEBI to get more informations about CHEBI:145678'>CHEBI:145678</a>. Its nodes have a single node type, which is <a href='https://biolink.github.io/biolink-model/docs/ChemicalSubstance.html' target='_blank' title='Go to BioLink to get more informations about biolink:ChemicalSubstance'>biolink:ChemicalSubstance</a>. Its edges have a single edge type, which is <a href='https://biolink.github.io/biolink-model/docs/subclass_of.html' target='_blank' title='Go to BioLink to get more informations about biolink:subclass_of'>biolink:subclass_of</a>.</p></li>\n",
       "<li><p class=\"paragraph\">Dendritic tree starting from the root node <a href='https://www.ebi.ac.uk/chebi/searchId.do?chebiId=CHEBI:17855' target='_blank' title='Go to CHEBI to get more informations about CHEBI:17855'>CHEBI:17855</a> (degree 1.16K), and containing 1.12K nodes, with a maximal depth of 4, which are <a href='https://www.ebi.ac.uk/chebi/searchId.do?chebiId=CHEBI:170640' target='_blank' title='Go to CHEBI to get more informations about CHEBI:170640'>CHEBI:170640</a>, <a href='https://www.ebi.ac.uk/chebi/searchId.do?chebiId=CHEBI:170642' target='_blank' title='Go to CHEBI to get more informations about CHEBI:170642'>CHEBI:170642</a>, <a href='https://www.ebi.ac.uk/chebi/searchId.do?chebiId=CHEBI:170644' target='_blank' title='Go to CHEBI to get more informations about CHEBI:170644'>CHEBI:170644</a>, <a href='https://www.ebi.ac.uk/chebi/searchId.do?chebiId=CHEBI:170646' target='_blank' title='Go to CHEBI to get more informations about CHEBI:170646'>CHEBI:170646</a> and <a href='https://www.ebi.ac.uk/chebi/searchId.do?chebiId=CHEBI:170648' target='_blank' title='Go to CHEBI to get more informations about CHEBI:170648'>CHEBI:170648</a>. Its nodes have a single node type, which is <a href='https://biolink.github.io/biolink-model/docs/ChemicalSubstance.html' target='_blank' title='Go to BioLink to get more informations about biolink:ChemicalSubstance'>biolink:ChemicalSubstance</a>. Its edges have a single edge type, which is <a href='https://biolink.github.io/biolink-model/docs/subclass_of.html' target='_blank' title='Go to BioLink to get more informations about biolink:subclass_of'>biolink:subclass_of</a>.</p></li>\n",
       "<li><p class=\"paragraph\">Dendritic tree starting from the root node <a href='https://www.ncbi.nlm.nih.gov/taxonomy/?term=562' target='_blank' title='Go to NCBI Taxonomy to get more informations about NCBITaxon:562'>NCBITaxon:562</a> (degree 2.18K and node types <a href='https://biolink.github.io/biolink-model/docs/OrganismTaxon.html' target='_blank' title='Go to BioLink to get more informations about biolink:OrganismTaxon'>biolink:OrganismTaxon</a> and <a href='https://biolink.github.io/biolink-model/docs/OrganismalEntity.html' target='_blank' title='Go to BioLink to get more informations about biolink:OrganismalEntity'>biolink:OrganismalEntity</a>), and containing 697 nodes, with a maximal depth of 3, which are <a href='https://www.ncbi.nlm.nih.gov/taxonomy/?term=1385755' target='_blank' title='Go to NCBI Taxonomy to get more informations about NCBITaxon:1385755'>NCBITaxon:1385755</a> (node types <a href='https://biolink.github.io/biolink-model/docs/OrganismTaxon.html' target='_blank' title='Go to BioLink to get more informations about biolink:OrganismTaxon'>biolink:OrganismTaxon</a> and <a href='https://biolink.github.io/biolink-model/docs/OrganismalEntity.html' target='_blank' title='Go to BioLink to get more informations about biolink:OrganismalEntity'>biolink:OrganismalEntity</a>), <a href='https://www.ncbi.nlm.nih.gov/taxonomy/?term=1329907' target='_blank' title='Go to NCBI Taxonomy to get more informations about NCBITaxon:1329907'>NCBITaxon:1329907</a> (node types <a href='https://biolink.github.io/biolink-model/docs/OrganismTaxon.html' target='_blank' title='Go to BioLink to get more informations about biolink:OrganismTaxon'>biolink:OrganismTaxon</a> and <a href='https://biolink.github.io/biolink-model/docs/OrganismalEntity.html' target='_blank' title='Go to BioLink to get more informations about biolink:OrganismalEntity'>biolink:OrganismalEntity</a>), <a href='https://www.ncbi.nlm.nih.gov/taxonomy/?term=930406' target='_blank' title='Go to NCBI Taxonomy to get more informations about NCBITaxon:930406'>NCBITaxon:930406</a> (node types <a href='https://biolink.github.io/biolink-model/docs/OrganismTaxon.html' target='_blank' title='Go to BioLink to get more informations about biolink:OrganismTaxon'>biolink:OrganismTaxon</a> and <a href='https://biolink.github.io/biolink-model/docs/OrganismalEntity.html' target='_blank' title='Go to BioLink to get more informations about biolink:OrganismalEntity'>biolink:OrganismalEntity</a>), <a href='https://www.ncbi.nlm.nih.gov/taxonomy/?term=1401688' target='_blank' title='Go to NCBI Taxonomy to get more informations about NCBITaxon:1401688'>NCBITaxon:1401688</a> (node types <a href='https://biolink.github.io/biolink-model/docs/OrganismTaxon.html' target='_blank' title='Go to BioLink to get more informations about biolink:OrganismTaxon'>biolink:OrganismTaxon</a> and <a href='https://biolink.github.io/biolink-model/docs/OrganismalEntity.html' target='_blank' title='Go to BioLink to get more informations about biolink:OrganismalEntity'>biolink:OrganismalEntity</a>) and <a href='https://www.ncbi.nlm.nih.gov/taxonomy/?term=1954351' target='_blank' title='Go to NCBI Taxonomy to get more informations about NCBITaxon:1954351'>NCBITaxon:1954351</a> (node types <a href='https://biolink.github.io/biolink-model/docs/OrganismTaxon.html' target='_blank' title='Go to BioLink to get more informations about biolink:OrganismTaxon'>biolink:OrganismTaxon</a> and <a href='https://biolink.github.io/biolink-model/docs/OrganismalEntity.html' target='_blank' title='Go to BioLink to get more informations about biolink:OrganismalEntity'>biolink:OrganismalEntity</a>). Its nodes have 2 node types, which are <a href='https://biolink.github.io/biolink-model/docs/OrganismalEntity.html' target='_blank' title='Go to BioLink to get more informations about biolink:OrganismalEntity'>biolink:OrganismalEntity</a> (697 nodes, 0.25%) and <a href='https://biolink.github.io/biolink-model/docs/OrganismTaxon.html' target='_blank' title='Go to BioLink to get more informations about biolink:OrganismTaxon'>biolink:OrganismTaxon</a> (675 nodes, 0.24%). Its edges have a single edge type, which is <a href='https://biolink.github.io/biolink-model/docs/subclass_of.html' target='_blank' title='Go to BioLink to get more informations about biolink:subclass_of'>biolink:subclass_of</a>.</p></li>\n",
       "<li><p class=\"paragraph\">Dendritic tree starting from the root node <a href='https://www.ebi.ac.uk/chebi/searchId.do?chebiId=CHEBI:24400' target='_blank' title='Go to CHEBI to get more informations about CHEBI:24400'>CHEBI:24400</a> (degree 1.15K), and containing 430 nodes, with a maximal depth of 2, which are <a href='https://www.ebi.ac.uk/chebi/searchId.do?chebiId=CHEBI:9657' target='_blank' title='Go to CHEBI to get more informations about CHEBI:9657'>CHEBI:9657</a>, <a href='https://www.ebi.ac.uk/chebi/searchId.do?chebiId=CHEBI:9370' target='_blank' title='Go to CHEBI to get more informations about CHEBI:9370'>CHEBI:9370</a>, <a href='https://www.ebi.ac.uk/chebi/searchId.do?chebiId=CHEBI:9009' target='_blank' title='Go to CHEBI to get more informations about CHEBI:9009'>CHEBI:9009</a>, <a href='https://www.ebi.ac.uk/chebi/searchId.do?chebiId=CHEBI:9033' target='_blank' title='Go to CHEBI to get more informations about CHEBI:9033'>CHEBI:9033</a> and <a href='https://www.ebi.ac.uk/chebi/searchId.do?chebiId=CHEBI:9034' target='_blank' title='Go to CHEBI to get more informations about CHEBI:9034'>CHEBI:9034</a>. Its nodes have a single node type, which is <a href='https://biolink.github.io/biolink-model/docs/ChemicalSubstance.html' target='_blank' title='Go to BioLink to get more informations about biolink:ChemicalSubstance'>biolink:ChemicalSubstance</a>. Its edges have a single edge type, which is <a href='https://biolink.github.io/biolink-model/docs/subclass_of.html' target='_blank' title='Go to BioLink to get more informations about biolink:subclass_of'>biolink:subclass_of</a>.</p></li>\n",
       "<li><p class=\"paragraph\">Dendritic tree starting from the root node <a href='https://www.ebi.ac.uk/chebi/searchId.do?chebiId=CHEBI:25477' target='_blank' title='Go to CHEBI to get more informations about CHEBI:25477'>CHEBI:25477</a> (degree 631), and containing 422 nodes, with a maximal depth of 2, which are <a href='https://www.ebi.ac.uk/chebi/searchId.do?chebiId=CHEBI:131043' target='_blank' title='Go to CHEBI to get more informations about CHEBI:131043'>CHEBI:131043</a>, <a href='https://www.ebi.ac.uk/chebi/searchId.do?chebiId=CHEBI:131111' target='_blank' title='Go to CHEBI to get more informations about CHEBI:131111'>CHEBI:131111</a>, <a href='https://www.ebi.ac.uk/chebi/searchId.do?chebiId=CHEBI:131310' target='_blank' title='Go to CHEBI to get more informations about CHEBI:131310'>CHEBI:131310</a>, <a href='https://www.ebi.ac.uk/chebi/searchId.do?chebiId=CHEBI:106396' target='_blank' title='Go to CHEBI to get more informations about CHEBI:106396'>CHEBI:106396</a> and <a href='https://www.ebi.ac.uk/chebi/searchId.do?chebiId=CHEBI:111496' target='_blank' title='Go to CHEBI to get more informations about CHEBI:111496'>CHEBI:111496</a>. Its nodes have a single node type, which is <a href='https://biolink.github.io/biolink-model/docs/ChemicalSubstance.html' target='_blank' title='Go to BioLink to get more informations about biolink:ChemicalSubstance'>biolink:ChemicalSubstance</a>. Its edges have a single edge type, which is <a href='https://biolink.github.io/biolink-model/docs/subclass_of.html' target='_blank' title='Go to BioLink to get more informations about biolink:subclass_of'>biolink:subclass_of</a>.</p></li>\n",
       "<li><p class=\"paragraph\">Dendritic tree starting from the root node <a href='https://www.ebi.ac.uk/chebi/searchId.do?chebiId=CHEBI:24828' target='_blank' title='Go to CHEBI to get more informations about CHEBI:24828'>CHEBI:24828</a> (degree 656), and containing 396 nodes, with a maximal depth of 2, which are <a href='https://www.ebi.ac.uk/chebi/searchId.do?chebiId=CHEBI:106017' target='_blank' title='Go to CHEBI to get more informations about CHEBI:106017'>CHEBI:106017</a>, <a href='https://www.ebi.ac.uk/chebi/searchId.do?chebiId=CHEBI:106018' target='_blank' title='Go to CHEBI to get more informations about CHEBI:106018'>CHEBI:106018</a>, <a href='https://www.ebi.ac.uk/chebi/searchId.do?chebiId=CHEBI:106078' target='_blank' title='Go to CHEBI to get more informations about CHEBI:106078'>CHEBI:106078</a>, <a href='https://www.ebi.ac.uk/chebi/searchId.do?chebiId=CHEBI:131029' target='_blank' title='Go to CHEBI to get more informations about CHEBI:131029'>CHEBI:131029</a> and <a href='https://www.ebi.ac.uk/chebi/searchId.do?chebiId=CHEBI:106060' target='_blank' title='Go to CHEBI to get more informations about CHEBI:106060'>CHEBI:106060</a>. Its nodes have a single node type, which is <a href='https://biolink.github.io/biolink-model/docs/ChemicalSubstance.html' target='_blank' title='Go to BioLink to get more informations about biolink:ChemicalSubstance'>biolink:ChemicalSubstance</a>. Its edges have a single edge type, which is <a href='https://biolink.github.io/biolink-model/docs/subclass_of.html' target='_blank' title='Go to BioLink to get more informations about biolink:subclass_of'>biolink:subclass_of</a>.</p></li></ol><p class=\"paragraph\">And other 720 dendritic trees.</p><h4 style=\"margin: 1em 0 0 0;\">Stars</h4><p class=\"paragraph\">A star is a tree with a maximal depth of one, where nodes with maximal unique degree one are connected to a central root node with a high degree. We have detected  a single star in the graph, involving a total of 5 nodes and 4 edges.</p><ul class=\"large-columns\"><li><p class=\"paragraph\">Star starting from the root node <a href='http://purl.obolibrary.org/obo/RO_0000053' target='_blank' title='Go to Relation Ontology to get more informations about RO:0000053'>RO:0000053</a> (degree 4), and containing 5 nodes, with a maximal depth of 1, which are <a href='http://purl.obolibrary.org/obo/RO_0000087' target='_blank' title='Go to Relation Ontology to get more informations about RO:0000087'>RO:0000087</a>, <a href='http://purl.obolibrary.org/obo/RO_0000091' target='_blank' title='Go to Relation Ontology to get more informations about RO:0000091'>RO:0000091</a>, <a href='http://purl.obolibrary.org/obo/RO_0000085' target='_blank' title='Go to Relation Ontology to get more informations about RO:0000085'>RO:0000085</a> and <a href='http://purl.obolibrary.org/obo/RO_0000086' target='_blank' title='Go to Relation Ontology to get more informations about RO:0000086'>RO:0000086</a>. Its nodes have a single node type, which is <a href='https://biolink.github.io/biolink-model/docs/OntologyClass.html' target='_blank' title='Go to BioLink to get more informations about biolink:OntologyClass'>biolink:OntologyClass</a>. Its edges have a single edge type, which is <a href='https://biolink.github.io/biolink-model/docs/subPropertyOf.html' target='_blank' title='Go to BioLink to get more informations about biolink:subPropertyOf'>biolink:subPropertyOf</a>.</p></li></ul><h4 style=\"margin: 1em 0 0 0;\">Dendritic stars</h4><p class=\"paragraph\">A dendritic star is a dendritic tree with a maximal depth of one, where nodes with maximal unique degree one are connected to a central root node with high degree and inside a strongly connected component. We have detected 3.51K dendritic stars in the graph, involving a total of 72.90K nodes (26.38%) and 72.90K edges (6.94%), with the largest one involving 6.17K nodes and 6.17K edges. The detected dendritic stars, sorted by decreasing size, are:</p><ol class=\"large-columns\"><li><p class=\"paragraph\">Dendritic star starting from the root node <a href='https://www.ebi.ac.uk/chebi/searchId.do?chebiId=CHEBI:16670' target='_blank' title='Go to CHEBI to get more informations about CHEBI:16670'>CHEBI:16670</a> (degree 6.21K), and containing 6.17K nodes, with a maximal depth of 1, which are <a href='https://www.ebi.ac.uk/chebi/searchId.do?chebiId=CHEBI:131158' target='_blank' title='Go to CHEBI to get more informations about CHEBI:131158'>CHEBI:131158</a>, <a href='https://www.ebi.ac.uk/chebi/searchId.do?chebiId=CHEBI:131160' target='_blank' title='Go to CHEBI to get more informations about CHEBI:131160'>CHEBI:131160</a>, <a href='https://www.ebi.ac.uk/chebi/searchId.do?chebiId=CHEBI:131170' target='_blank' title='Go to CHEBI to get more informations about CHEBI:131170'>CHEBI:131170</a>, <a href='https://www.ebi.ac.uk/chebi/searchId.do?chebiId=CHEBI:9444' target='_blank' title='Go to CHEBI to get more informations about CHEBI:9444'>CHEBI:9444</a> and <a href='https://www.ebi.ac.uk/chebi/searchId.do?chebiId=CHEBI:159393' target='_blank' title='Go to CHEBI to get more informations about CHEBI:159393'>CHEBI:159393</a>. Its nodes have a single node type, which is <a href='https://biolink.github.io/biolink-model/docs/ChemicalSubstance.html' target='_blank' title='Go to BioLink to get more informations about biolink:ChemicalSubstance'>biolink:ChemicalSubstance</a>. Its edges have a single edge type, which is <a href='https://biolink.github.io/biolink-model/docs/subclass_of.html' target='_blank' title='Go to BioLink to get more informations about biolink:subclass_of'>biolink:subclass_of</a>.</p></li>\n",
       "<li><p class=\"paragraph\">Dendritic star starting from the root node <a href='https://www.ebi.ac.uk/chebi/searchId.do?chebiId=CHEBI:35358' target='_blank' title='Go to CHEBI to get more informations about CHEBI:35358'>CHEBI:35358</a> (degree 2.90K), and containing 2.53K nodes, with a maximal depth of 1, which are <a href='https://www.ebi.ac.uk/chebi/searchId.do?chebiId=CHEBI:106010' target='_blank' title='Go to CHEBI to get more informations about CHEBI:106010'>CHEBI:106010</a>, <a href='https://www.ebi.ac.uk/chebi/searchId.do?chebiId=CHEBI:99486' target='_blank' title='Go to CHEBI to get more informations about CHEBI:99486'>CHEBI:99486</a>, <a href='https://www.ebi.ac.uk/chebi/searchId.do?chebiId=CHEBI:99489' target='_blank' title='Go to CHEBI to get more informations about CHEBI:99489'>CHEBI:99489</a>, <a href='https://www.ebi.ac.uk/chebi/searchId.do?chebiId=CHEBI:99470' target='_blank' title='Go to CHEBI to get more informations about CHEBI:99470'>CHEBI:99470</a> and <a href='https://www.ebi.ac.uk/chebi/searchId.do?chebiId=CHEBI:99494' target='_blank' title='Go to CHEBI to get more informations about CHEBI:99494'>CHEBI:99494</a>. Its nodes have a single node type, which is <a href='https://biolink.github.io/biolink-model/docs/ChemicalSubstance.html' target='_blank' title='Go to BioLink to get more informations about biolink:ChemicalSubstance'>biolink:ChemicalSubstance</a>. Its edges have a single edge type, which is <a href='https://biolink.github.io/biolink-model/docs/subclass_of.html' target='_blank' title='Go to BioLink to get more informations about biolink:subclass_of'>biolink:subclass_of</a>.</p></li>\n",
       "<li><p class=\"paragraph\">Dendritic star starting from the root node <a href='https://www.ebi.ac.uk/chebi/searchId.do?chebiId=CHEBI:28963' target='_blank' title='Go to CHEBI to get more informations about CHEBI:28963'>CHEBI:28963</a> (degree 2.10K), and containing 2.05K nodes, with a maximal depth of 1, which are <a href='https://www.ebi.ac.uk/chebi/searchId.do?chebiId=CHEBI:31841' target='_blank' title='Go to CHEBI to get more informations about CHEBI:31841'>CHEBI:31841</a>, <a href='https://www.ebi.ac.uk/chebi/searchId.do?chebiId=CHEBI:150793' target='_blank' title='Go to CHEBI to get more informations about CHEBI:150793'>CHEBI:150793</a>, <a href='https://www.ebi.ac.uk/chebi/searchId.do?chebiId=CHEBI:150782' target='_blank' title='Go to CHEBI to get more informations about CHEBI:150782'>CHEBI:150782</a>, <a href='https://www.ebi.ac.uk/chebi/searchId.do?chebiId=CHEBI:150784' target='_blank' title='Go to CHEBI to get more informations about CHEBI:150784'>CHEBI:150784</a> and <a href='https://www.ebi.ac.uk/chebi/searchId.do?chebiId=CHEBI:150780' target='_blank' title='Go to CHEBI to get more informations about CHEBI:150780'>CHEBI:150780</a>. Its nodes have a single node type, which is <a href='https://biolink.github.io/biolink-model/docs/ChemicalSubstance.html' target='_blank' title='Go to BioLink to get more informations about biolink:ChemicalSubstance'>biolink:ChemicalSubstance</a>. Its edges have a single edge type, which is <a href='https://biolink.github.io/biolink-model/docs/subclass_of.html' target='_blank' title='Go to BioLink to get more informations about biolink:subclass_of'>biolink:subclass_of</a>.</p></li>\n",
       "<li><p class=\"paragraph\">Dendritic star starting from the root node <a href='https://www.ebi.ac.uk/chebi/searchId.do?chebiId=CHEBI:25676' target='_blank' title='Go to CHEBI to get more informations about CHEBI:25676'>CHEBI:25676</a> (degree 2.08K), and containing 2.02K nodes, with a maximal depth of 1, which are <a href='https://www.ebi.ac.uk/chebi/searchId.do?chebiId=CHEBI:85092' target='_blank' title='Go to CHEBI to get more informations about CHEBI:85092'>CHEBI:85092</a>, <a href='https://www.ebi.ac.uk/chebi/searchId.do?chebiId=CHEBI:85096' target='_blank' title='Go to CHEBI to get more informations about CHEBI:85096'>CHEBI:85096</a>, <a href='https://www.ebi.ac.uk/chebi/searchId.do?chebiId=CHEBI:159394' target='_blank' title='Go to CHEBI to get more informations about CHEBI:159394'>CHEBI:159394</a>, <a href='https://www.ebi.ac.uk/chebi/searchId.do?chebiId=CHEBI:159395' target='_blank' title='Go to CHEBI to get more informations about CHEBI:159395'>CHEBI:159395</a> and <a href='https://www.ebi.ac.uk/chebi/searchId.do?chebiId=CHEBI:159397' target='_blank' title='Go to CHEBI to get more informations about CHEBI:159397'>CHEBI:159397</a>. Its nodes have a single node type, which is <a href='https://biolink.github.io/biolink-model/docs/ChemicalSubstance.html' target='_blank' title='Go to BioLink to get more informations about biolink:ChemicalSubstance'>biolink:ChemicalSubstance</a>. Its edges have a single edge type, which is <a href='https://biolink.github.io/biolink-model/docs/subclass_of.html' target='_blank' title='Go to BioLink to get more informations about biolink:subclass_of'>biolink:subclass_of</a>.</p></li>\n",
       "<li><p class=\"paragraph\">Dendritic star starting from the root node <a href='https://www.ebi.ac.uk/chebi/searchId.do?chebiId=CHEBI:78616' target='_blank' title='Go to CHEBI to get more informations about CHEBI:78616'>CHEBI:78616</a> (degree 1.93K), and containing 1.92K nodes, with a maximal depth of 1, which are <a href='https://www.ebi.ac.uk/chebi/searchId.do?chebiId=CHEBI:150798' target='_blank' title='Go to CHEBI to get more informations about CHEBI:150798'>CHEBI:150798</a>, <a href='https://www.ebi.ac.uk/chebi/searchId.do?chebiId=CHEBI:150790' target='_blank' title='Go to CHEBI to get more informations about CHEBI:150790'>CHEBI:150790</a>, <a href='https://www.ebi.ac.uk/chebi/searchId.do?chebiId=CHEBI:150791' target='_blank' title='Go to CHEBI to get more informations about CHEBI:150791'>CHEBI:150791</a>, <a href='https://www.ebi.ac.uk/chebi/searchId.do?chebiId=CHEBI:150789' target='_blank' title='Go to CHEBI to get more informations about CHEBI:150789'>CHEBI:150789</a> and <a href='https://www.ebi.ac.uk/chebi/searchId.do?chebiId=CHEBI:150786' target='_blank' title='Go to CHEBI to get more informations about CHEBI:150786'>CHEBI:150786</a>. Its nodes have a single node type, which is <a href='https://biolink.github.io/biolink-model/docs/ChemicalSubstance.html' target='_blank' title='Go to BioLink to get more informations about biolink:ChemicalSubstance'>biolink:ChemicalSubstance</a>. Its edges have a single edge type, which is <a href='https://biolink.github.io/biolink-model/docs/subclass_of.html' target='_blank' title='Go to BioLink to get more informations about biolink:subclass_of'>biolink:subclass_of</a>.</p></li>\n",
       "<li><p class=\"paragraph\">Dendritic star starting from the root node <a href='https://www.ebi.ac.uk/chebi/searchId.do?chebiId=CHEBI:20857' target='_blank' title='Go to CHEBI to get more informations about CHEBI:20857'>CHEBI:20857</a> (degree 2.00K), and containing 1.84K nodes, with a maximal depth of 1, which are <a href='https://www.ebi.ac.uk/chebi/searchId.do?chebiId=CHEBI:99485' target='_blank' title='Go to CHEBI to get more informations about CHEBI:99485'>CHEBI:99485</a>, <a href='https://www.ebi.ac.uk/chebi/searchId.do?chebiId=CHEBI:99487' target='_blank' title='Go to CHEBI to get more informations about CHEBI:99487'>CHEBI:99487</a>, <a href='https://www.ebi.ac.uk/chebi/searchId.do?chebiId=CHEBI:99472' target='_blank' title='Go to CHEBI to get more informations about CHEBI:99472'>CHEBI:99472</a>, <a href='https://www.ebi.ac.uk/chebi/searchId.do?chebiId=CHEBI:99406' target='_blank' title='Go to CHEBI to get more informations about CHEBI:99406'>CHEBI:99406</a> and <a href='https://www.ebi.ac.uk/chebi/searchId.do?chebiId=CHEBI:99443' target='_blank' title='Go to CHEBI to get more informations about CHEBI:99443'>CHEBI:99443</a>. Its nodes have a single node type, which is <a href='https://biolink.github.io/biolink-model/docs/ChemicalSubstance.html' target='_blank' title='Go to BioLink to get more informations about biolink:ChemicalSubstance'>biolink:ChemicalSubstance</a>. Its edges have a single edge type, which is <a href='https://biolink.github.io/biolink-model/docs/subclass_of.html' target='_blank' title='Go to BioLink to get more informations about biolink:subclass_of'>biolink:subclass_of</a>.</p></li></ol><p class=\"paragraph\">And other 3.50K dendritic stars.</p><h4 style=\"margin: 1em 0 0 0;\">Dendritic tendril stars</h4><p class=\"paragraph\">A dendritic tendril star is a dendritic tree with a depth greater than one, where the arms of the star are tendrils. We have detected 276 dendritic tendril stars in the graph, involving a total of 6.53K nodes (2.36%) and 6.53K edges (0.62%), with the largest one involving 1.85K nodes and 1.85K edges. The detected dendritic tendril stars, sorted by decreasing size, are:</p><ol class=\"large-columns\"><li><p class=\"paragraph\">Dendritic tendril star starting from the root node <a href='https://www.ebi.ac.uk/chebi/searchId.do?chebiId=CHEBI:50699' target='_blank' title='Go to CHEBI to get more informations about CHEBI:50699'>CHEBI:50699</a> (degree 1.91K), and containing 1.85K nodes, with a maximal depth of 2, which are <a href='https://www.ebi.ac.uk/chebi/searchId.do?chebiId=CHEBI:150794' target='_blank' title='Go to CHEBI to get more informations about CHEBI:150794'>CHEBI:150794</a>, <a href='https://www.ebi.ac.uk/chebi/searchId.do?chebiId=CHEBI:150795' target='_blank' title='Go to CHEBI to get more informations about CHEBI:150795'>CHEBI:150795</a>, <a href='https://www.ebi.ac.uk/chebi/searchId.do?chebiId=CHEBI:150788' target='_blank' title='Go to CHEBI to get more informations about CHEBI:150788'>CHEBI:150788</a>, <a href='https://www.ebi.ac.uk/chebi/searchId.do?chebiId=CHEBI:150768' target='_blank' title='Go to CHEBI to get more informations about CHEBI:150768'>CHEBI:150768</a> and <a href='https://www.ebi.ac.uk/chebi/searchId.do?chebiId=CHEBI:150769' target='_blank' title='Go to CHEBI to get more informations about CHEBI:150769'>CHEBI:150769</a>. Its nodes have a single node type, which is <a href='https://biolink.github.io/biolink-model/docs/ChemicalSubstance.html' target='_blank' title='Go to BioLink to get more informations about biolink:ChemicalSubstance'>biolink:ChemicalSubstance</a>. Its edges have a single edge type, which is <a href='https://biolink.github.io/biolink-model/docs/subclass_of.html' target='_blank' title='Go to BioLink to get more informations about biolink:subclass_of'>biolink:subclass_of</a>.</p></li>\n",
       "<li><p class=\"paragraph\">Dendritic tendril star starting from the root node <a href='https://www.ncbi.nlm.nih.gov/taxonomy/?term=1280' target='_blank' title='Go to NCBI Taxonomy to get more informations about NCBITaxon:1280'>NCBITaxon:1280</a> (degree 4.23K and node types <a href='https://biolink.github.io/biolink-model/docs/OrganismTaxon.html' target='_blank' title='Go to BioLink to get more informations about biolink:OrganismTaxon'>biolink:OrganismTaxon</a> and <a href='https://biolink.github.io/biolink-model/docs/OrganismalEntity.html' target='_blank' title='Go to BioLink to get more informations about biolink:OrganismalEntity'>biolink:OrganismalEntity</a>), and containing 1.17K nodes, with a maximal depth of 2, which are <a href='https://www.ncbi.nlm.nih.gov/taxonomy/?term=1074252' target='_blank' title='Go to NCBI Taxonomy to get more informations about NCBITaxon:1074252'>NCBITaxon:1074252</a> (node types <a href='https://biolink.github.io/biolink-model/docs/OrganismTaxon.html' target='_blank' title='Go to BioLink to get more informations about biolink:OrganismTaxon'>biolink:OrganismTaxon</a> and <a href='https://biolink.github.io/biolink-model/docs/OrganismalEntity.html' target='_blank' title='Go to BioLink to get more informations about biolink:OrganismalEntity'>biolink:OrganismalEntity</a>), <a href='https://www.ncbi.nlm.nih.gov/taxonomy/?term=1229492' target='_blank' title='Go to NCBI Taxonomy to get more informations about NCBITaxon:1229492'>NCBITaxon:1229492</a> (node types <a href='https://biolink.github.io/biolink-model/docs/OrganismTaxon.html' target='_blank' title='Go to BioLink to get more informations about biolink:OrganismTaxon'>biolink:OrganismTaxon</a> and <a href='https://biolink.github.io/biolink-model/docs/OrganismalEntity.html' target='_blank' title='Go to BioLink to get more informations about biolink:OrganismalEntity'>biolink:OrganismalEntity</a>), <a href='https://www.ncbi.nlm.nih.gov/taxonomy/?term=1074919' target='_blank' title='Go to NCBI Taxonomy to get more informations about NCBITaxon:1074919'>NCBITaxon:1074919</a> (node types <a href='https://biolink.github.io/biolink-model/docs/OrganismTaxon.html' target='_blank' title='Go to BioLink to get more informations about biolink:OrganismTaxon'>biolink:OrganismTaxon</a> and <a href='https://biolink.github.io/biolink-model/docs/OrganismalEntity.html' target='_blank' title='Go to BioLink to get more informations about biolink:OrganismalEntity'>biolink:OrganismalEntity</a>), <a href='https://www.ncbi.nlm.nih.gov/taxonomy/?term=1194085' target='_blank' title='Go to NCBI Taxonomy to get more informations about NCBITaxon:1194085'>NCBITaxon:1194085</a> (node types <a href='https://biolink.github.io/biolink-model/docs/OrganismTaxon.html' target='_blank' title='Go to BioLink to get more informations about biolink:OrganismTaxon'>biolink:OrganismTaxon</a> and <a href='https://biolink.github.io/biolink-model/docs/OrganismalEntity.html' target='_blank' title='Go to BioLink to get more informations about biolink:OrganismalEntity'>biolink:OrganismalEntity</a>) and <a href='https://www.ncbi.nlm.nih.gov/taxonomy/?term=1368166' target='_blank' title='Go to NCBI Taxonomy to get more informations about NCBITaxon:1368166'>NCBITaxon:1368166</a> (node types <a href='https://biolink.github.io/biolink-model/docs/OrganismTaxon.html' target='_blank' title='Go to BioLink to get more informations about biolink:OrganismTaxon'>biolink:OrganismTaxon</a> and <a href='https://biolink.github.io/biolink-model/docs/OrganismalEntity.html' target='_blank' title='Go to BioLink to get more informations about biolink:OrganismalEntity'>biolink:OrganismalEntity</a>). Its nodes have 2 node types, which are <a href='https://biolink.github.io/biolink-model/docs/OrganismalEntity.html' target='_blank' title='Go to BioLink to get more informations about biolink:OrganismalEntity'>biolink:OrganismalEntity</a> (1.17K nodes, 0.42%) and <a href='https://biolink.github.io/biolink-model/docs/OrganismTaxon.html' target='_blank' title='Go to BioLink to get more informations about biolink:OrganismTaxon'>biolink:OrganismTaxon</a> (1.17K nodes, 0.42%). Its edges have a single edge type, which is <a href='https://biolink.github.io/biolink-model/docs/subclass_of.html' target='_blank' title='Go to BioLink to get more informations about biolink:subclass_of'>biolink:subclass_of</a>.</p></li>\n",
       "<li><p class=\"paragraph\">Dendritic tendril star starting from the root node <a href='https://www.ebi.ac.uk/chebi/searchId.do?chebiId=CHEBI:18035' target='_blank' title='Go to CHEBI to get more informations about CHEBI:18035'>CHEBI:18035</a> (degree 390), and containing 346 nodes, with a maximal depth of 2, which are <a href='https://www.ebi.ac.uk/chebi/searchId.do?chebiId=CHEBI:90058' target='_blank' title='Go to CHEBI to get more informations about CHEBI:90058'>CHEBI:90058</a>, <a href='https://www.ebi.ac.uk/chebi/searchId.do?chebiId=CHEBI:90057' target='_blank' title='Go to CHEBI to get more informations about CHEBI:90057'>CHEBI:90057</a>, <a href='https://www.ebi.ac.uk/chebi/searchId.do?chebiId=CHEBI:90043' target='_blank' title='Go to CHEBI to get more informations about CHEBI:90043'>CHEBI:90043</a>, <a href='https://www.ebi.ac.uk/chebi/searchId.do?chebiId=CHEBI:90044' target='_blank' title='Go to CHEBI to get more informations about CHEBI:90044'>CHEBI:90044</a> and <a href='https://www.ebi.ac.uk/chebi/searchId.do?chebiId=CHEBI:90045' target='_blank' title='Go to CHEBI to get more informations about CHEBI:90045'>CHEBI:90045</a>. Its nodes have a single node type, which is <a href='https://biolink.github.io/biolink-model/docs/ChemicalSubstance.html' target='_blank' title='Go to BioLink to get more informations about biolink:ChemicalSubstance'>biolink:ChemicalSubstance</a>. Its edges have a single edge type, which is <a href='https://biolink.github.io/biolink-model/docs/subclass_of.html' target='_blank' title='Go to BioLink to get more informations about biolink:subclass_of'>biolink:subclass_of</a>.</p></li>\n",
       "<li><p class=\"paragraph\">Dendritic tendril star starting from the root node <a href='https://www.ebi.ac.uk/chebi/searchId.do?chebiId=CHEBI:22160' target='_blank' title='Go to CHEBI to get more informations about CHEBI:22160'>CHEBI:22160</a> (degree 757), and containing 273 nodes, with a maximal depth of 2, which are <a href='https://www.ebi.ac.uk/chebi/searchId.do?chebiId=CHEBI:9757' target='_blank' title='Go to CHEBI to get more informations about CHEBI:9757'>CHEBI:9757</a>, <a href='https://www.ebi.ac.uk/chebi/searchId.do?chebiId=CHEBI:106099' target='_blank' title='Go to CHEBI to get more informations about CHEBI:106099'>CHEBI:106099</a>, <a href='https://www.ebi.ac.uk/chebi/searchId.do?chebiId=CHEBI:106095' target='_blank' title='Go to CHEBI to get more informations about CHEBI:106095'>CHEBI:106095</a>, <a href='https://www.ebi.ac.uk/chebi/searchId.do?chebiId=CHEBI:106088' target='_blank' title='Go to CHEBI to get more informations about CHEBI:106088'>CHEBI:106088</a> and <a href='https://www.ebi.ac.uk/chebi/searchId.do?chebiId=CHEBI:131087' target='_blank' title='Go to CHEBI to get more informations about CHEBI:131087'>CHEBI:131087</a>. Its nodes have a single node type, which is <a href='https://biolink.github.io/biolink-model/docs/ChemicalSubstance.html' target='_blank' title='Go to BioLink to get more informations about biolink:ChemicalSubstance'>biolink:ChemicalSubstance</a>. Its edges have a single edge type, which is <a href='https://biolink.github.io/biolink-model/docs/subclass_of.html' target='_blank' title='Go to BioLink to get more informations about biolink:subclass_of'>biolink:subclass_of</a>.</p></li>\n",
       "<li><p class=\"paragraph\">Dendritic tendril star starting from the root node <a href='https://www.ebi.ac.uk/chebi/searchId.do?chebiId=CHEBI:22715' target='_blank' title='Go to CHEBI to get more informations about CHEBI:22715'>CHEBI:22715</a> (degree 350), and containing 265 nodes, with a maximal depth of 2, which are <a href='https://www.ebi.ac.uk/chebi/searchId.do?chebiId=CHEBI:106024' target='_blank' title='Go to CHEBI to get more informations about CHEBI:106024'>CHEBI:106024</a>, <a href='https://www.ebi.ac.uk/chebi/searchId.do?chebiId=CHEBI:131142' target='_blank' title='Go to CHEBI to get more informations about CHEBI:131142'>CHEBI:131142</a>, <a href='https://www.ebi.ac.uk/chebi/searchId.do?chebiId=CHEBI:131143' target='_blank' title='Go to CHEBI to get more informations about CHEBI:131143'>CHEBI:131143</a>, <a href='https://www.ebi.ac.uk/chebi/searchId.do?chebiId=CHEBI:131287' target='_blank' title='Go to CHEBI to get more informations about CHEBI:131287'>CHEBI:131287</a> and <a href='https://www.ebi.ac.uk/chebi/searchId.do?chebiId=CHEBI:131239' target='_blank' title='Go to CHEBI to get more informations about CHEBI:131239'>CHEBI:131239</a>. Its nodes have a single node type, which is <a href='https://biolink.github.io/biolink-model/docs/ChemicalSubstance.html' target='_blank' title='Go to BioLink to get more informations about biolink:ChemicalSubstance'>biolink:ChemicalSubstance</a>. Its edges have a single edge type, which is <a href='https://biolink.github.io/biolink-model/docs/subclass_of.html' target='_blank' title='Go to BioLink to get more informations about biolink:subclass_of'>biolink:subclass_of</a>.</p></li>\n",
       "<li><p class=\"paragraph\">Dendritic tendril star starting from the root node <a href='https://www.ebi.ac.uk/chebi/searchId.do?chebiId=CHEBI:64674' target='_blank' title='Go to CHEBI to get more informations about CHEBI:64674'>CHEBI:64674</a> (degree 312), and containing 246 nodes, with a maximal depth of 3, which are <a href='https://www.ebi.ac.uk/chebi/searchId.do?chebiId=CHEBI:170641' target='_blank' title='Go to CHEBI to get more informations about CHEBI:170641'>CHEBI:170641</a>, <a href='https://www.ebi.ac.uk/chebi/searchId.do?chebiId=CHEBI:170643' target='_blank' title='Go to CHEBI to get more informations about CHEBI:170643'>CHEBI:170643</a>, <a href='https://www.ebi.ac.uk/chebi/searchId.do?chebiId=CHEBI:170645' target='_blank' title='Go to CHEBI to get more informations about CHEBI:170645'>CHEBI:170645</a>, <a href='https://www.ebi.ac.uk/chebi/searchId.do?chebiId=CHEBI:170647' target='_blank' title='Go to CHEBI to get more informations about CHEBI:170647'>CHEBI:170647</a> and <a href='https://www.ebi.ac.uk/chebi/searchId.do?chebiId=CHEBI:170649' target='_blank' title='Go to CHEBI to get more informations about CHEBI:170649'>CHEBI:170649</a>. Its nodes have a single node type, which is <a href='https://biolink.github.io/biolink-model/docs/ChemicalSubstance.html' target='_blank' title='Go to BioLink to get more informations about biolink:ChemicalSubstance'>biolink:ChemicalSubstance</a>. Its edges have a single edge type, which is <a href='https://biolink.github.io/biolink-model/docs/subclass_of.html' target='_blank' title='Go to BioLink to get more informations about biolink:subclass_of'>biolink:subclass_of</a>.</p></li></ol><p class=\"paragraph\">And other 270 dendritic tendril stars.</p><h4 style=\"margin: 1em 0 0 0;\">Free-floating chains</h4><p class=\"paragraph\">A free-floating chain is a tree with maximal degree two. We have detected  a single free-floating chain in the graph, involving a total of 4 nodes and 3 edges.</p><ul class=\"large-columns\"><li><p class=\"paragraph\">Free-floating chain starting from the root node <a href='http://purl.obolibrary.org/obo/RO_0002314' target='_blank' title='Go to Relation Ontology to get more informations about RO:0002314'>RO:0002314</a> (degree 2), and containing 4 nodes, with a maximal depth of 2, which are <a href='http://purl.obolibrary.org/obo/RO_0002502' target='_blank' title='Go to Relation Ontology to get more informations about RO:0002502'>RO:0002502</a>, <a href='http://purl.obolibrary.org/obo/RO_0000052' target='_blank' title='Go to Relation Ontology to get more informations about RO:0000052'>RO:0000052</a> and <a href='http://purl.obolibrary.org/obo/RO_0002503' target='_blank' title='Go to Relation Ontology to get more informations about RO:0002503'>RO:0002503</a>. Its nodes have a single node type, which is <a href='https://biolink.github.io/biolink-model/docs/OntologyClass.html' target='_blank' title='Go to BioLink to get more informations about biolink:OntologyClass'>biolink:OntologyClass</a>. Its edges have a single edge type, which is <a href='https://biolink.github.io/biolink-model/docs/subPropertyOf.html' target='_blank' title='Go to BioLink to get more informations about biolink:subPropertyOf'>biolink:subPropertyOf</a>.</p></li></ul><h4 style=\"margin: 1em 0 0 0;\">Tendrils</h4><p class=\"paragraph\">A tendril is a path starting from a node of degree one, connected to a strongly connected component. We have detected 4.34K tendrils in the graph, involving a total of 4.79K nodes (1.73%) and 4.79K edges (0.46%), with the largest one involving 9 nodes and 9 edges. The detected tendrils, sorted by decreasing size, are:</p><ol class=\"large-columns\"><li><p class=\"paragraph\">Tendril starting from the root node <a href='https://www.ncbi.nlm.nih.gov/taxonomy/?term=32524' target='_blank' title='Go to NCBI Taxonomy to get more informations about NCBITaxon:32524'>NCBITaxon:32524</a> (degree 3), and containing 9 nodes, with a maximal depth of 9, which are <a href='https://www.ncbi.nlm.nih.gov/taxonomy/?term=8457' target='_blank' title='Go to NCBI Taxonomy to get more informations about NCBITaxon:8457'>NCBITaxon:8457</a>, <a href='https://www.ncbi.nlm.nih.gov/taxonomy/?term=32561' target='_blank' title='Go to NCBI Taxonomy to get more informations about NCBITaxon:32561'>NCBITaxon:32561</a>, <a href='https://www.ncbi.nlm.nih.gov/taxonomy/?term=1329799' target='_blank' title='Go to NCBI Taxonomy to get more informations about NCBITaxon:1329799'>NCBITaxon:1329799</a>, <a href='https://www.ncbi.nlm.nih.gov/taxonomy/?term=8492' target='_blank' title='Go to NCBI Taxonomy to get more informations about NCBITaxon:8492'>NCBITaxon:8492</a> and <a href='https://www.ncbi.nlm.nih.gov/taxonomy/?term=436486' target='_blank' title='Go to NCBI Taxonomy to get more informations about NCBITaxon:436486'>NCBITaxon:436486</a>. Its nodes have a single node type, which is <a href='https://biolink.github.io/biolink-model/docs/OrganismalEntity.html' target='_blank' title='Go to BioLink to get more informations about biolink:OrganismalEntity'>biolink:OrganismalEntity</a>. Its edges have a single edge type, which is <a href='https://biolink.github.io/biolink-model/docs/subclass_of.html' target='_blank' title='Go to BioLink to get more informations about biolink:subclass_of'>biolink:subclass_of</a>.</p></li>\n",
       "<li><p class=\"paragraph\">Tendril starting from the root node <a href='https://www.ncbi.nlm.nih.gov/taxonomy/?term=142182' target='_blank' title='Go to NCBI Taxonomy to get more informations about NCBITaxon:142182'>NCBITaxon:142182</a> (degree 3 and node type <a href='https://biolink.github.io/biolink-model/docs/OrganismalEntity.html' target='_blank' title='Go to BioLink to get more informations about biolink:OrganismalEntity'>biolink:OrganismalEntity</a>), and containing 5 nodes, with a maximal depth of 5, which are <a href='https://www.ncbi.nlm.nih.gov/taxonomy/?term=1804991' target='_blank' title='Go to NCBI Taxonomy to get more informations about NCBITaxon:1804991'>NCBITaxon:1804991</a> (node type <a href='https://biolink.github.io/biolink-model/docs/OrganismalEntity.html' target='_blank' title='Go to BioLink to get more informations about biolink:OrganismalEntity'>biolink:OrganismalEntity</a>), <a href='https://www.ncbi.nlm.nih.gov/taxonomy/?term=1804992' target='_blank' title='Go to NCBI Taxonomy to get more informations about NCBITaxon:1804992'>NCBITaxon:1804992</a> (node type <a href='https://biolink.github.io/biolink-model/docs/OrganismalEntity.html' target='_blank' title='Go to BioLink to get more informations about biolink:OrganismalEntity'>biolink:OrganismalEntity</a>), <a href='https://www.ncbi.nlm.nih.gov/taxonomy/?term=1804993' target='_blank' title='Go to NCBI Taxonomy to get more informations about NCBITaxon:1804993'>NCBITaxon:1804993</a> (node type <a href='https://biolink.github.io/biolink-model/docs/OrganismalEntity.html' target='_blank' title='Go to BioLink to get more informations about biolink:OrganismalEntity'>biolink:OrganismalEntity</a>), <a href='https://www.ncbi.nlm.nih.gov/taxonomy/?term=1804994' target='_blank' title='Go to NCBI Taxonomy to get more informations about NCBITaxon:1804994'>NCBITaxon:1804994</a> (node type <a href='https://biolink.github.io/biolink-model/docs/OrganismalEntity.html' target='_blank' title='Go to BioLink to get more informations about biolink:OrganismalEntity'>biolink:OrganismalEntity</a>) and <a href='https://www.ncbi.nlm.nih.gov/taxonomy/?term=1639882' target='_blank' title='Go to NCBI Taxonomy to get more informations about NCBITaxon:1639882'>NCBITaxon:1639882</a> (node types <a href='https://biolink.github.io/biolink-model/docs/OrganismTaxon.html' target='_blank' title='Go to BioLink to get more informations about biolink:OrganismTaxon'>biolink:OrganismTaxon</a> and <a href='https://biolink.github.io/biolink-model/docs/OrganismalEntity.html' target='_blank' title='Go to BioLink to get more informations about biolink:OrganismalEntity'>biolink:OrganismalEntity</a>). Its nodes have 2 node types, which are <a href='https://biolink.github.io/biolink-model/docs/OrganismalEntity.html' target='_blank' title='Go to BioLink to get more informations about biolink:OrganismalEntity'>biolink:OrganismalEntity</a> (5 nodes) and <a href='https://biolink.github.io/biolink-model/docs/OrganismTaxon.html' target='_blank' title='Go to BioLink to get more informations about biolink:OrganismTaxon'>biolink:OrganismTaxon</a>. Its edges have a single edge type, which is <a href='https://biolink.github.io/biolink-model/docs/subclass_of.html' target='_blank' title='Go to BioLink to get more informations about biolink:subclass_of'>biolink:subclass_of</a>.</p></li>\n",
       "<li><p class=\"paragraph\">Tendril starting from the root node <a href='http://purl.obolibrary.org/obo/RO_0002324' target='_blank' title='Go to Relation Ontology to get more informations about RO:0002324'>RO:0002324</a> (degree 3), and containing 5 nodes, with a maximal depth of 5, which are <a href='http://purl.obolibrary.org/obo/RO_0002295' target='_blank' title='Go to Relation Ontology to get more informations about RO:0002295'>RO:0002295</a>, <a href='http://purl.obolibrary.org/obo/RO_0002297' target='_blank' title='Go to Relation Ontology to get more informations about RO:0002297'>RO:0002297</a>, <a href='http://purl.obolibrary.org/obo/RO_0002234' target='_blank' title='Go to Relation Ontology to get more informations about RO:0002234'>RO:0002234</a>, <a href='http://purl.obolibrary.org/obo/RO_0000057' target='_blank' title='Go to Relation Ontology to get more informations about RO:0000057'>RO:0000057</a> and <a href='http://purl.obolibrary.org/obo/RO_0002233' target='_blank' title='Go to Relation Ontology to get more informations about RO:0002233'>RO:0002233</a>. Its nodes have a single node type, which is <a href='https://biolink.github.io/biolink-model/docs/OntologyClass.html' target='_blank' title='Go to BioLink to get more informations about biolink:OntologyClass'>biolink:OntologyClass</a>. Its edges have a single edge type, which is <a href='https://biolink.github.io/biolink-model/docs/subPropertyOf.html' target='_blank' title='Go to BioLink to get more informations about biolink:subPropertyOf'>biolink:subPropertyOf</a>.</p></li>\n",
       "<li><p class=\"paragraph\">Tendril starting from the root node <a href='http://purl.obolibrary.org/obo/ENVO_2100000' target='_blank' title='Go to Environment Ontology to get more informations about ENVO:2100000'>ENVO:2100000</a> (degree 12), and containing 5 nodes, with a maximal depth of 5, which are <a href='http://purl.obolibrary.org/obo/ENVO_01000929' target='_blank' title='Go to Environment Ontology to get more informations about ENVO:01000929'>ENVO:01000929</a>, <a href='http://purl.obolibrary.org/obo/FOODON_00001287' target='_blank' title='Go to FOODON to get more informations about FOODON:00001287'>FOODON:00001287</a>, <a href='http://purl.obolibrary.org/obo/FOODON_03412035' target='_blank' title='Go to FOODON to get more informations about FOODON:03412035'>FOODON:03412035</a>, <a href='http://purl.obolibrary.org/obo/FOODON_03411261' target='_blank' title='Go to FOODON to get more informations about FOODON:03411261'>FOODON:03411261</a> and <a href='http://purl.obolibrary.org/obo/FOODON_03411564' target='_blank' title='Go to FOODON to get more informations about FOODON:03411564'>FOODON:03411564</a>. Its nodes have a single node type, which is <a href='https://biolink.github.io/biolink-model/docs/OntologyClass.html' target='_blank' title='Go to BioLink to get more informations about biolink:OntologyClass'>biolink:OntologyClass</a>. Its edges have 2 edge types, which are <a href='https://biolink.github.io/biolink-model/docs/subclass_of.html' target='_blank' title='Go to BioLink to get more informations about biolink:subclass_of'>biolink:subclass_of</a> (7 edges) and <a href='https://biolink.github.io/biolink-model/docs/causes.html' target='_blank' title='Go to BioLink to get more informations about biolink:causes'>biolink:causes</a> (2 edges).</p></li>\n",
       "<li><p class=\"paragraph\">Tendril starting from the root node <a href='https://www.ncbi.nlm.nih.gov/taxonomy/?term=65842' target='_blank' title='Go to NCBI Taxonomy to get more informations about NCBITaxon:65842'>NCBITaxon:65842</a> (degree 4 and node type <a href='https://biolink.github.io/biolink-model/docs/OrganismalEntity.html' target='_blank' title='Go to BioLink to get more informations about biolink:OrganismalEntity'>biolink:OrganismalEntity</a>), and containing 5 nodes, with a maximal depth of 5, which are <a href='https://www.ncbi.nlm.nih.gov/taxonomy/?term=1860136' target='_blank' title='Go to NCBI Taxonomy to get more informations about NCBITaxon:1860136'>NCBITaxon:1860136</a> (node type <a href='https://biolink.github.io/biolink-model/docs/OrganismalEntity.html' target='_blank' title='Go to BioLink to get more informations about biolink:OrganismalEntity'>biolink:OrganismalEntity</a>), <a href='https://www.ncbi.nlm.nih.gov/taxonomy/?term=1860137' target='_blank' title='Go to NCBI Taxonomy to get more informations about NCBITaxon:1860137'>NCBITaxon:1860137</a> (node type <a href='https://biolink.github.io/biolink-model/docs/OrganismalEntity.html' target='_blank' title='Go to BioLink to get more informations about biolink:OrganismalEntity'>biolink:OrganismalEntity</a>), <a href='https://www.ncbi.nlm.nih.gov/taxonomy/?term=1860138' target='_blank' title='Go to NCBI Taxonomy to get more informations about NCBITaxon:1860138'>NCBITaxon:1860138</a> (node type <a href='https://biolink.github.io/biolink-model/docs/OrganismalEntity.html' target='_blank' title='Go to BioLink to get more informations about biolink:OrganismalEntity'>biolink:OrganismalEntity</a>), <a href='https://www.ncbi.nlm.nih.gov/taxonomy/?term=1860139' target='_blank' title='Go to NCBI Taxonomy to get more informations about NCBITaxon:1860139'>NCBITaxon:1860139</a> (node type <a href='https://biolink.github.io/biolink-model/docs/OrganismalEntity.html' target='_blank' title='Go to BioLink to get more informations about biolink:OrganismalEntity'>biolink:OrganismalEntity</a>) and <a href='https://www.ncbi.nlm.nih.gov/taxonomy/?term=1008392' target='_blank' title='Go to NCBI Taxonomy to get more informations about NCBITaxon:1008392'>NCBITaxon:1008392</a> (node types <a href='https://biolink.github.io/biolink-model/docs/OrganismTaxon.html' target='_blank' title='Go to BioLink to get more informations about biolink:OrganismTaxon'>biolink:OrganismTaxon</a> and <a href='https://biolink.github.io/biolink-model/docs/OrganismalEntity.html' target='_blank' title='Go to BioLink to get more informations about biolink:OrganismalEntity'>biolink:OrganismalEntity</a>). Its nodes have 2 node types, which are <a href='https://biolink.github.io/biolink-model/docs/OrganismalEntity.html' target='_blank' title='Go to BioLink to get more informations about biolink:OrganismalEntity'>biolink:OrganismalEntity</a> (5 nodes) and <a href='https://biolink.github.io/biolink-model/docs/OrganismTaxon.html' target='_blank' title='Go to BioLink to get more informations about biolink:OrganismTaxon'>biolink:OrganismTaxon</a>. Its edges have a single edge type, which is <a href='https://biolink.github.io/biolink-model/docs/subclass_of.html' target='_blank' title='Go to BioLink to get more informations about biolink:subclass_of'>biolink:subclass_of</a>.</p></li>\n",
       "<li><p class=\"paragraph\">Tendril starting from the root node <a href='https://www.ncbi.nlm.nih.gov/taxonomy/?term=203692' target='_blank' title='Go to NCBI Taxonomy to get more informations about NCBITaxon:203692'>NCBITaxon:203692</a> (degree 5 and node type <a href='https://biolink.github.io/biolink-model/docs/OrganismalEntity.html' target='_blank' title='Go to BioLink to get more informations about biolink:OrganismalEntity'>biolink:OrganismalEntity</a>), and containing 4 nodes, with a maximal depth of 4, which are <a href='https://www.ncbi.nlm.nih.gov/taxonomy/?term=1643687' target='_blank' title='Go to NCBI Taxonomy to get more informations about NCBITaxon:1643687'>NCBITaxon:1643687</a> (node type <a href='https://biolink.github.io/biolink-model/docs/OrganismalEntity.html' target='_blank' title='Go to BioLink to get more informations about biolink:OrganismalEntity'>biolink:OrganismalEntity</a>), <a href='https://www.ncbi.nlm.nih.gov/taxonomy/?term=1100104' target='_blank' title='Go to NCBI Taxonomy to get more informations about NCBITaxon:1100104'>NCBITaxon:1100104</a> (node type <a href='https://biolink.github.io/biolink-model/docs/OrganismalEntity.html' target='_blank' title='Go to BioLink to get more informations about biolink:OrganismalEntity'>biolink:OrganismalEntity</a>), <a href='https://www.ncbi.nlm.nih.gov/taxonomy/?term=34096' target='_blank' title='Go to NCBI Taxonomy to get more informations about NCBITaxon:34096'>NCBITaxon:34096</a> (node type <a href='https://biolink.github.io/biolink-model/docs/OrganismalEntity.html' target='_blank' title='Go to BioLink to get more informations about biolink:OrganismalEntity'>biolink:OrganismalEntity</a>) and <a href='https://www.ncbi.nlm.nih.gov/taxonomy/?term=34097' target='_blank' title='Go to NCBI Taxonomy to get more informations about NCBITaxon:34097'>NCBITaxon:34097</a> (node types <a href='https://biolink.github.io/biolink-model/docs/OrganismTaxon.html' target='_blank' title='Go to BioLink to get more informations about biolink:OrganismTaxon'>biolink:OrganismTaxon</a> and <a href='https://biolink.github.io/biolink-model/docs/OrganismalEntity.html' target='_blank' title='Go to BioLink to get more informations about biolink:OrganismalEntity'>biolink:OrganismalEntity</a>). Its nodes have 2 node types, which are <a href='https://biolink.github.io/biolink-model/docs/OrganismalEntity.html' target='_blank' title='Go to BioLink to get more informations about biolink:OrganismalEntity'>biolink:OrganismalEntity</a> (4 nodes) and <a href='https://biolink.github.io/biolink-model/docs/OrganismTaxon.html' target='_blank' title='Go to BioLink to get more informations about biolink:OrganismTaxon'>biolink:OrganismTaxon</a>. Its edges have a single edge type, which is <a href='https://biolink.github.io/biolink-model/docs/subclass_of.html' target='_blank' title='Go to BioLink to get more informations about biolink:subclass_of'>biolink:subclass_of</a>.</p></li></ol><p class=\"paragraph\">And other 4.34K tendrils.</p></div>"
      ],
      "text/plain": [
       "<div class=\"graph-report\"><style>.graph-report li {margin: 0.5em 0 0.5em 0;}.graph-report .paragraph {text-align: justify;word-break: break-all;}.graph-report .small-columns {column-count: 4;column-gap: 2em;}.graph-report .medium-columns {column-count: 3;column-gap: 2em;}.graph-report .large-columns {column-count: 2;column-gap: 2em;}.graph-report .single-column {}@media only screen and (max-width: 600px) {.graph-report .small-columns {column-count: 1;}.graph-report .medium-columns {column-count: 1;}.graph-report .large-columns {column-count: 1;}}@media only screen and (min-width: 600px) and (max-width: 800px) {.graph-report .small-columns {column-count: 2;}.graph-report .medium-columns {column-count: 1;}.graph-report .large-columns {column-count: 1;}}@media only screen and (min-width: 800px) and (max-width: 1024px) {.graph-report .small-columns {column-count: 3;}.graph-report .medium-columns {column-count: 2;}.graph-report .large-columns {column-count: 1;}}</style><h2>KGMicrobe</h2><p class=\"paragraph\">The undirected multigraph KGMicrobe has 276.36K heterogeneous nodes and 525.62K heterogeneous edges. The graph contains 26.00K connected components (of which 25.98K are disconnected nodes), with the largest one containing 249.85K nodes and the smallest one containing a single node. The RAM requirements for the nodes and edges data structures are 30.21MB and 2.54MB respectively.</p><h3 style=\"margin: 1em 0 0 0;\">Degree centrality</h3><p class=\"paragraph\">The minimum node degree is 0, the maximum node degree is 11.71K, the mode degree is 1, the mean degree is 3.80 and the node degree median is 2.</p><p class=\"paragraph\">The nodes with the highest degree centrality are microtraits.cell_shape_enum:bacillus (degree 11.71K and node type <a href='https://biolink.github.io/biolink-model/docs/AbstractEntity.html' target='_blank' title='Go to BioLink to get more informations about biolink:AbstractEntity'>biolink:AbstractEntity</a>), <a href='http://purl.obolibrary.org/obo/ECOCORE_00000173' target='_blank' title='Go to An ontology of core ecological entities to get more informations about ECOCORE:00000173'>ECOCORE:00000173</a> (degree 7.83K and node type <a href='https://biolink.github.io/biolink-model/docs/ActivityAndBehavior.html' target='_blank' title='Go to BioLink to get more informations about biolink:ActivityAndBehavior'>biolink:ActivityAndBehavior</a>), <a href='https://www.ebi.ac.uk/chebi/searchId.do?chebiId=CHEBI:24995' target='_blank' title='Go to CHEBI to get more informations about CHEBI:24995'>CHEBI:24995</a> (degree 7.34K and node type <a href='https://biolink.github.io/biolink-model/docs/ChemicalSubstance.html' target='_blank' title='Go to BioLink to get more informations about biolink:ChemicalSubstance'>biolink:ChemicalSubstance</a>), <a href='https://www.ebi.ac.uk/chebi/searchId.do?chebiId=CHEBI:52898' target='_blank' title='Go to CHEBI to get more informations about CHEBI:52898'>CHEBI:52898</a> (degree 7.25K and node type <a href='https://biolink.github.io/biolink-model/docs/ChemicalSubstance.html' target='_blank' title='Go to BioLink to get more informations about biolink:ChemicalSubstance'>biolink:ChemicalSubstance</a>) and <a href='https://www.ebi.ac.uk/chebi/searchId.do?chebiId=CHEBI:16670' target='_blank' title='Go to CHEBI to get more informations about CHEBI:16670'>CHEBI:16670</a> (degree 6.21K and node type <a href='https://biolink.github.io/biolink-model/docs/ChemicalSubstance.html' target='_blank' title='Go to BioLink to get more informations about biolink:ChemicalSubstance'>biolink:ChemicalSubstance</a>).</p><h3 style=\"margin: 1em 0 0 0;\">Node types</h3><p class=\"paragraph\">The graph has 11 node types, of which the 10 most common are <a href='https://biolink.github.io/biolink-model/docs/ChemicalSubstance.html' target='_blank' title='Go to BioLink to get more informations about biolink:ChemicalSubstance'>biolink:ChemicalSubstance</a> (164.72K nodes, 59.61%), <a href='https://biolink.github.io/biolink-model/docs/OrganismalEntity.html' target='_blank' title='Go to BioLink to get more informations about biolink:OrganismalEntity'>biolink:OrganismalEntity</a> (54.84K nodes, 19.84%), <a href='https://biolink.github.io/biolink-model/docs/OrganismTaxon.html' target='_blank' title='Go to BioLink to get more informations about biolink:OrganismTaxon'>biolink:OrganismTaxon</a> (49.16K nodes, 17.79%), <a href='https://biolink.github.io/biolink-model/docs/BiologicalProcess.html' target='_blank' title='Go to BioLink to get more informations about biolink:BiologicalProcess'>biolink:BiologicalProcess</a> (30.57K nodes, 11.06%), <a href='https://biolink.github.io/biolink-model/docs/MolecularActivity.html' target='_blank' title='Go to BioLink to get more informations about biolink:MolecularActivity'>biolink:MolecularActivity</a> (12.28K nodes, 4.44%), <a href='https://biolink.github.io/biolink-model/docs/OntologyClass.html' target='_blank' title='Go to BioLink to get more informations about biolink:OntologyClass'>biolink:OntologyClass</a> (8.46K nodes, 3.06%), <a href='https://biolink.github.io/biolink-model/docs/CellularComponent.html' target='_blank' title='Go to BioLink to get more informations about biolink:CellularComponent'>biolink:CellularComponent</a> (4.46K nodes, 1.61%), <a href='https://biolink.github.io/biolink-model/docs/AnatomicalEntity.html' target='_blank' title='Go to BioLink to get more informations about biolink:AnatomicalEntity'>biolink:AnatomicalEntity</a> (690 nodes, 0.25%), <a href='https://biolink.github.io/biolink-model/docs/AbstractEntity.html' target='_blank' title='Go to BioLink to get more informations about biolink:AbstractEntity'>biolink:AbstractEntity</a> (19 nodes) and <a href='https://biolink.github.io/biolink-model/docs/NamedThing.html' target='_blank' title='Go to BioLink to get more informations about biolink:NamedThing'>biolink:NamedThing</a> (10 nodes). The node types are multi-label, and the node with most node types has 2 node types. The RAM requirement for the node types data structure is 14.57MB.</p><h3 style=\"margin: 1em 0 0 0;\">Edge types</h3><p class=\"paragraph\">The graph has 32 edge types, of which the 10 most common are <a href='https://biolink.github.io/biolink-model/docs/subclass_of.html' target='_blank' title='Go to BioLink to get more informations about biolink:subclass_of'>biolink:subclass_of</a> (693.19K edges, 65.94%), <a href='https://biolink.github.io/biolink-model/docs/has_attribute.html' target='_blank' title='Go to BioLink to get more informations about biolink:has_attribute'>biolink:has_attribute</a> (82.54K edges, 7.85%), <a href='https://biolink.github.io/biolink-model/docs/capable_of.html' target='_blank' title='Go to BioLink to get more informations about biolink:capable_of'>biolink:capable_of</a> (63.86K edges, 6.07%), <a href='https://biolink.github.io/biolink-model/docs/related_to.html' target='_blank' title='Go to BioLink to get more informations about biolink:related_to'>biolink:related_to</a> (62.46K edges, 5.94%), <a href='https://biolink.github.io/biolink-model/docs/location_of.html' target='_blank' title='Go to BioLink to get more informations about biolink:location_of'>biolink:location_of</a> (50.52K edges, 4.81%), <a href='https://biolink.github.io/biolink-model/docs/has_phenotype.html' target='_blank' title='Go to BioLink to get more informations about biolink:has_phenotype'>biolink:has_phenotype</a> (39.45K edges, 3.75%), <a href='https://biolink.github.io/biolink-model/docs/part_of.html' target='_blank' title='Go to BioLink to get more informations about biolink:part_of'>biolink:part_of</a> (17.99K edges, 1.71%), <a href='https://biolink.github.io/biolink-model/docs/has_part.html' target='_blank' title='Go to BioLink to get more informations about biolink:has_part'>biolink:has_part</a> (10.56K edges, 1.00%), <a href='https://biolink.github.io/biolink-model/docs/interacts_with.html' target='_blank' title='Go to BioLink to get more informations about biolink:interacts_with'>biolink:interacts_with</a> (8.66K edges, 0.82%) and <a href='https://biolink.github.io/biolink-model/docs/regulates.html' target='_blank' title='Go to BioLink to get more informations about biolink:regulates'>biolink:regulates</a> (7.11K edges, 0.68%). The RAM requirement for the edge types data structure is 8.41MB.</p><h3 style=\"margin: 1em 0 0 0;\">Topological Oddities</h3><p class=\"paragraph\">A topological oddity is a set of nodes in the graph that <i>may be derived</i> by an error during the generation of the edge list of the graph and, depending on the task, could bias the results of topology-based models. In the following paragraph, we will describe the detected topological oddities.</p><h4 style=\"margin: 1em 0 0 0;\">Singleton nodes</h4><p class=\"paragraph\">A singleton node is a node disconnected from all other nodes. We have detected 25.98K singleton nodes in the graph, involving a total of 25.98K nodes (9.40%). The detected singleton nodes are:</p><ul class=\"small-columns\"><li><p class=\"paragraph\"><a href='https://www.ebi.ac.uk/chebi/searchId.do?chebiId=CHEBI:26549' target='_blank' title='Go to CHEBI to get more informations about CHEBI:26549'>CHEBI:26549</a> (node type <a href='https://biolink.github.io/biolink-model/docs/ChemicalSubstance.html' target='_blank' title='Go to BioLink to get more informations about biolink:ChemicalSubstance'>biolink:ChemicalSubstance</a>)</p></li>\n",
       "<li><p class=\"paragraph\"><a href='https://www.ebi.ac.uk/chebi/searchId.do?chebiId=CHEBI:51506' target='_blank' title='Go to CHEBI to get more informations about CHEBI:51506'>CHEBI:51506</a> (node type <a href='https://biolink.github.io/biolink-model/docs/ChemicalSubstance.html' target='_blank' title='Go to BioLink to get more informations about biolink:ChemicalSubstance'>biolink:ChemicalSubstance</a>)</p></li>\n",
       "<li><p class=\"paragraph\"><a href='https://www.ebi.ac.uk/chebi/searchId.do?chebiId=CHEBI:26540' target='_blank' title='Go to CHEBI to get more informations about CHEBI:26540'>CHEBI:26540</a> (node type <a href='https://biolink.github.io/biolink-model/docs/ChemicalSubstance.html' target='_blank' title='Go to BioLink to get more informations about biolink:ChemicalSubstance'>biolink:ChemicalSubstance</a>)</p></li>\n",
       "<li><p class=\"paragraph\"><a href='https://www.ebi.ac.uk/chebi/searchId.do?chebiId=CHEBI:26542' target='_blank' title='Go to CHEBI to get more informations about CHEBI:26542'>CHEBI:26542</a> (node type <a href='https://biolink.github.io/biolink-model/docs/ChemicalSubstance.html' target='_blank' title='Go to BioLink to get more informations about biolink:ChemicalSubstance'>biolink:ChemicalSubstance</a>)</p></li>\n",
       "<li><p class=\"paragraph\"><a href='https://www.ebi.ac.uk/chebi/searchId.do?chebiId=CHEBI:26559' target='_blank' title='Go to CHEBI to get more informations about CHEBI:26559'>CHEBI:26559</a> (node type <a href='https://biolink.github.io/biolink-model/docs/ChemicalSubstance.html' target='_blank' title='Go to BioLink to get more informations about biolink:ChemicalSubstance'>biolink:ChemicalSubstance</a>)</p></li>\n",
       "<li><p class=\"paragraph\"><a href='https://www.ebi.ac.uk/chebi/searchId.do?chebiId=CHEBI:26557' target='_blank' title='Go to CHEBI to get more informations about CHEBI:26557'>CHEBI:26557</a> (node type <a href='https://biolink.github.io/biolink-model/docs/ChemicalSubstance.html' target='_blank' title='Go to BioLink to get more informations about biolink:ChemicalSubstance'>biolink:ChemicalSubstance</a>)</p></li>\n",
       "<li><p class=\"paragraph\"><a href='https://www.ebi.ac.uk/chebi/searchId.do?chebiId=CHEBI:26550' target='_blank' title='Go to CHEBI to get more informations about CHEBI:26550'>CHEBI:26550</a> (node type <a href='https://biolink.github.io/biolink-model/docs/ChemicalSubstance.html' target='_blank' title='Go to BioLink to get more informations about biolink:ChemicalSubstance'>biolink:ChemicalSubstance</a>)</p></li>\n",
       "<li><p class=\"paragraph\"><a href='https://www.ebi.ac.uk/chebi/searchId.do?chebiId=CHEBI:26552' target='_blank' title='Go to CHEBI to get more informations about CHEBI:26552'>CHEBI:26552</a> (node type <a href='https://biolink.github.io/biolink-model/docs/ChemicalSubstance.html' target='_blank' title='Go to BioLink to get more informations about biolink:ChemicalSubstance'>biolink:ChemicalSubstance</a>)</p></li>\n",
       "<li><p class=\"paragraph\"><a href='https://www.ebi.ac.uk/chebi/searchId.do?chebiId=CHEBI:26553' target='_blank' title='Go to CHEBI to get more informations about CHEBI:26553'>CHEBI:26553</a> (node type <a href='https://biolink.github.io/biolink-model/docs/ChemicalSubstance.html' target='_blank' title='Go to BioLink to get more informations about biolink:ChemicalSubstance'>biolink:ChemicalSubstance</a>)</p></li>\n",
       "<li><p class=\"paragraph\"><a href='https://www.ebi.ac.uk/chebi/searchId.do?chebiId=CHEBI:26525' target='_blank' title='Go to CHEBI to get more informations about CHEBI:26525'>CHEBI:26525</a> (node type <a href='https://biolink.github.io/biolink-model/docs/ChemicalSubstance.html' target='_blank' title='Go to BioLink to get more informations about biolink:ChemicalSubstance'>biolink:ChemicalSubstance</a>)</p></li>\n",
       "<li><p class=\"paragraph\"><a href='https://www.ebi.ac.uk/chebi/searchId.do?chebiId=CHEBI:26526' target='_blank' title='Go to CHEBI to get more informations about CHEBI:26526'>CHEBI:26526</a> (node type <a href='https://biolink.github.io/biolink-model/docs/ChemicalSubstance.html' target='_blank' title='Go to BioLink to get more informations about biolink:ChemicalSubstance'>biolink:ChemicalSubstance</a>)</p></li>\n",
       "<li><p class=\"paragraph\"><a href='https://www.ebi.ac.uk/chebi/searchId.do?chebiId=CHEBI:26527' target='_blank' title='Go to CHEBI to get more informations about CHEBI:26527'>CHEBI:26527</a> (node type <a href='https://biolink.github.io/biolink-model/docs/ChemicalSubstance.html' target='_blank' title='Go to BioLink to get more informations about biolink:ChemicalSubstance'>biolink:ChemicalSubstance</a>)</p></li>\n",
       "<li><p class=\"paragraph\"><a href='https://www.ebi.ac.uk/chebi/searchId.do?chebiId=CHEBI:26528' target='_blank' title='Go to CHEBI to get more informations about CHEBI:26528'>CHEBI:26528</a> (node type <a href='https://biolink.github.io/biolink-model/docs/ChemicalSubstance.html' target='_blank' title='Go to BioLink to get more informations about biolink:ChemicalSubstance'>biolink:ChemicalSubstance</a>)</p></li>\n",
       "<li><p class=\"paragraph\"><a href='https://www.ebi.ac.uk/chebi/searchId.do?chebiId=CHEBI:26521' target='_blank' title='Go to CHEBI to get more informations about CHEBI:26521'>CHEBI:26521</a> (node type <a href='https://biolink.github.io/biolink-model/docs/ChemicalSubstance.html' target='_blank' title='Go to BioLink to get more informations about biolink:ChemicalSubstance'>biolink:ChemicalSubstance</a>)</p></li>\n",
       "<li><p class=\"paragraph\"><a href='https://www.ebi.ac.uk/chebi/searchId.do?chebiId=CHEBI:26522' target='_blank' title='Go to CHEBI to get more informations about CHEBI:26522'>CHEBI:26522</a> (node type <a href='https://biolink.github.io/biolink-model/docs/ChemicalSubstance.html' target='_blank' title='Go to BioLink to get more informations about biolink:ChemicalSubstance'>biolink:ChemicalSubstance</a>)</p></li></ul><p class=\"paragraph\">And other 25.97K singleton nodes.</p><h4 style=\"margin: 1em 0 0 0;\">Chains</h4><p class=\"paragraph\">A chain is a path of nodes with unique degree 2, that is ignoring self-loop and multi-edges, connecting two strongly connected components of the graph. We have detected  a single chain in the graph, involving a total of 13 nodes and 12 edges, with the largest one involving 13 nodes and 12 edges.</p><ul class=\"medium-columns\"><li><p class=\"paragraph\">Chain containing 13 nodes and starts from the node <a href='https://www.ncbi.nlm.nih.gov/taxonomy/?term=9605' target='_blank' title='Go to NCBI Taxonomy to get more informations about NCBITaxon:9605'>NCBITaxon:9605</a>. Specifically, the nodes involved in the chain are: <a href='https://www.ncbi.nlm.nih.gov/taxonomy/?term=207598' target='_blank' title='Go to NCBI Taxonomy to get more informations about NCBITaxon:207598'>NCBITaxon:207598</a>, <a href='https://www.ncbi.nlm.nih.gov/taxonomy/?term=9604' target='_blank' title='Go to NCBI Taxonomy to get more informations about NCBITaxon:9604'>NCBITaxon:9604</a>, <a href='https://www.ncbi.nlm.nih.gov/taxonomy/?term=314295' target='_blank' title='Go to NCBI Taxonomy to get more informations about NCBITaxon:314295'>NCBITaxon:314295</a>, <a href='https://www.ncbi.nlm.nih.gov/taxonomy/?term=9526' target='_blank' title='Go to NCBI Taxonomy to get more informations about NCBITaxon:9526'>NCBITaxon:9526</a>, <a href='https://www.ncbi.nlm.nih.gov/taxonomy/?term=314293' target='_blank' title='Go to NCBI Taxonomy to get more informations about NCBITaxon:314293'>NCBITaxon:314293</a> and other 7. Its nodes have a single node type, which is <a href='https://biolink.github.io/biolink-model/docs/OrganismalEntity.html' target='_blank' title='Go to BioLink to get more informations about biolink:OrganismalEntity'>biolink:OrganismalEntity</a>. Its edges have a single edge type, which is <a href='https://biolink.github.io/biolink-model/docs/subclass_of.html' target='_blank' title='Go to BioLink to get more informations about biolink:subclass_of'>biolink:subclass_of</a>.</p></li></ul><h4 style=\"margin: 1em 0 0 0;\">Node tuples</h4><p class=\"paragraph\">A node tuple is a connected component composed of two nodes. We have detected 3 node tuples in the graph, involving a total of 6 nodes and 3 edges. The detected node tuples are:</p><ul class=\"medium-columns\"><li><p class=\"paragraph\">Node tuple containing the nodes <a href='http://purl.obolibrary.org/obo/RO_0002232' target='_blank' title='Go to Relation Ontology to get more informations about RO:0002232'>RO:0002232</a> (node type <a href='https://biolink.github.io/biolink-model/docs/OntologyClass.html' target='_blank' title='Go to BioLink to get more informations about biolink:OntologyClass'>biolink:OntologyClass</a>) and <a href='http://purl.obolibrary.org/obo/RO_0002479' target='_blank' title='Go to Relation Ontology to get more informations about RO:0002479'>RO:0002479</a> (node type <a href='https://biolink.github.io/biolink-model/docs/OntologyClass.html' target='_blank' title='Go to BioLink to get more informations about biolink:OntologyClass'>biolink:OntologyClass</a>).</p></li>\n",
       "<li><p class=\"paragraph\">Node tuple containing the nodes <a href='http://purl.obolibrary.org/obo/RO_0002162' target='_blank' title='Go to Relation Ontology to get more informations about RO:0002162'>RO:0002162</a> (node type <a href='https://biolink.github.io/biolink-model/docs/OntologyClass.html' target='_blank' title='Go to BioLink to get more informations about biolink:OntologyClass'>biolink:OntologyClass</a>) and <a href='http://purl.obolibrary.org/obo/RO_0002320' target='_blank' title='Go to Relation Ontology to get more informations about RO:0002320'>RO:0002320</a> (node type <a href='https://biolink.github.io/biolink-model/docs/OntologyClass.html' target='_blank' title='Go to BioLink to get more informations about biolink:OntologyClass'>biolink:OntologyClass</a>).</p></li>\n",
       "<li><p class=\"paragraph\">Node tuple containing the nodes <a href='http://purl.obolibrary.org/obo/chebi#is_conjugate_acid_of' target='_blank' title='Go to Open Biomedical Ontology to get more informations about OBO:chebi#is_conjugate_acid_of'>OBO:chebi#is_conjugate_acid_of</a> (node type <a href='https://biolink.github.io/biolink-model/docs/OntologyClass.html' target='_blank' title='Go to BioLink to get more informations about biolink:OntologyClass'>biolink:OntologyClass</a>) and <a href='http://purl.obolibrary.org/obo/chebi#is_conjugate_base_of' target='_blank' title='Go to Open Biomedical Ontology to get more informations about OBO:chebi#is_conjugate_base_of'>OBO:chebi#is_conjugate_base_of</a> (node type <a href='https://biolink.github.io/biolink-model/docs/OntologyClass.html' target='_blank' title='Go to BioLink to get more informations about biolink:OntologyClass'>biolink:OntologyClass</a>).</p></li></ul><h4 style=\"margin: 1em 0 0 0;\">Isomorphic node groups</h4><p class=\"paragraph\">Isomorphic groups are nodes with exactly the same neighbours and node types (if present in the graph). Nodes in such groups are topologically indistinguishable, that is swapping their ID would not change the graph topology. We have detected 546 isomorphic node groups in the graph, involving a total of 1.40K nodes (0.51%) and 8.65K edges (0.82%), with the largest one involving 25 nodes and 132 edges. The detected isomorphic node groups, sorted by decreasing size, are:</p><ol class=\"medium-columns\"><li><p class=\"paragraph\">Group with 2 nodes (degree 66 and node type <a href='https://biolink.github.io/biolink-model/docs/BiologicalProcess.html' target='_blank' title='Go to BioLink to get more informations about biolink:BiologicalProcess'>biolink:BiologicalProcess</a>): microtraits.pathways:anoxygenic_photoautotrophy and microtraits.pathways:photoautotrophy.</p></li>\n",
       "<li><p class=\"paragraph\">Group with 25 nodes (degree 5 and node type <a href='https://biolink.github.io/biolink-model/docs/ChemicalSubstance.html' target='_blank' title='Go to BioLink to get more informations about biolink:ChemicalSubstance'>biolink:ChemicalSubstance</a>): <a href='https://www.ebi.ac.uk/chebi/searchId.do?chebiId=CHEBI:73071' target='_blank' title='Go to CHEBI to get more informations about CHEBI:73071'>CHEBI:73071</a>, <a href='https://www.ebi.ac.uk/chebi/searchId.do?chebiId=CHEBI:73051' target='_blank' title='Go to CHEBI to get more informations about CHEBI:73051'>CHEBI:73051</a>, <a href='https://www.ebi.ac.uk/chebi/searchId.do?chebiId=CHEBI:73106' target='_blank' title='Go to CHEBI to get more informations about CHEBI:73106'>CHEBI:73106</a>, <a href='https://www.ebi.ac.uk/chebi/searchId.do?chebiId=CHEBI:73119' target='_blank' title='Go to CHEBI to get more informations about CHEBI:73119'>CHEBI:73119</a>, <a href='https://www.ebi.ac.uk/chebi/searchId.do?chebiId=CHEBI:73037' target='_blank' title='Go to CHEBI to get more informations about CHEBI:73037'>CHEBI:73037</a> and other 20.</p></li>\n",
       "<li><p class=\"paragraph\">Group with 23 nodes (degree 5 and node types <a href='https://biolink.github.io/biolink-model/docs/OrganismTaxon.html' target='_blank' title='Go to BioLink to get more informations about biolink:OrganismTaxon'>biolink:OrganismTaxon</a> and <a href='https://biolink.github.io/biolink-model/docs/OrganismalEntity.html' target='_blank' title='Go to BioLink to get more informations about biolink:OrganismalEntity'>biolink:OrganismalEntity</a>): <a href='https://www.ncbi.nlm.nih.gov/taxonomy/?term=911122' target='_blank' title='Go to NCBI Taxonomy to get more informations about NCBITaxon:911122'>NCBITaxon:911122</a>, <a href='https://www.ncbi.nlm.nih.gov/taxonomy/?term=911129' target='_blank' title='Go to NCBI Taxonomy to get more informations about NCBITaxon:911129'>NCBITaxon:911129</a>, <a href='https://www.ncbi.nlm.nih.gov/taxonomy/?term=521002' target='_blank' title='Go to NCBI Taxonomy to get more informations about NCBITaxon:521002'>NCBITaxon:521002</a>, <a href='https://www.ncbi.nlm.nih.gov/taxonomy/?term=911125' target='_blank' title='Go to NCBI Taxonomy to get more informations about NCBITaxon:911125'>NCBITaxon:911125</a>, <a href='https://www.ncbi.nlm.nih.gov/taxonomy/?term=911128' target='_blank' title='Go to NCBI Taxonomy to get more informations about NCBITaxon:911128'>NCBITaxon:911128</a> and other 18.</p></li>\n",
       "<li><p class=\"paragraph\">Group with 11 nodes (degree 7 and node type <a href='https://biolink.github.io/biolink-model/docs/ChemicalSubstance.html' target='_blank' title='Go to BioLink to get more informations about biolink:ChemicalSubstance'>biolink:ChemicalSubstance</a>): <a href='https://www.ebi.ac.uk/chebi/searchId.do?chebiId=CHEBI:67464' target='_blank' title='Go to CHEBI to get more informations about CHEBI:67464'>CHEBI:67464</a>, <a href='https://www.ebi.ac.uk/chebi/searchId.do?chebiId=CHEBI:67471' target='_blank' title='Go to CHEBI to get more informations about CHEBI:67471'>CHEBI:67471</a>, <a href='https://www.ebi.ac.uk/chebi/searchId.do?chebiId=CHEBI:67469' target='_blank' title='Go to CHEBI to get more informations about CHEBI:67469'>CHEBI:67469</a>, <a href='https://www.ebi.ac.uk/chebi/searchId.do?chebiId=CHEBI:67460' target='_blank' title='Go to CHEBI to get more informations about CHEBI:67460'>CHEBI:67460</a>, <a href='https://www.ebi.ac.uk/chebi/searchId.do?chebiId=CHEBI:67463' target='_blank' title='Go to CHEBI to get more informations about CHEBI:67463'>CHEBI:67463</a> and other 6.</p></li>\n",
       "<li><p class=\"paragraph\">Group with 12 nodes (degree 6 and node types <a href='https://biolink.github.io/biolink-model/docs/OrganismTaxon.html' target='_blank' title='Go to BioLink to get more informations about biolink:OrganismTaxon'>biolink:OrganismTaxon</a> and <a href='https://biolink.github.io/biolink-model/docs/OrganismalEntity.html' target='_blank' title='Go to BioLink to get more informations about biolink:OrganismalEntity'>biolink:OrganismalEntity</a>): <a href='https://www.ncbi.nlm.nih.gov/taxonomy/?term=698958' target='_blank' title='Go to NCBI Taxonomy to get more informations about NCBITaxon:698958'>NCBITaxon:698958</a>, <a href='https://www.ncbi.nlm.nih.gov/taxonomy/?term=698957' target='_blank' title='Go to NCBI Taxonomy to get more informations about NCBITaxon:698957'>NCBITaxon:698957</a>, <a href='https://www.ncbi.nlm.nih.gov/taxonomy/?term=698961' target='_blank' title='Go to NCBI Taxonomy to get more informations about NCBITaxon:698961'>NCBITaxon:698961</a>, <a href='https://www.ncbi.nlm.nih.gov/taxonomy/?term=698959' target='_blank' title='Go to NCBI Taxonomy to get more informations about NCBITaxon:698959'>NCBITaxon:698959</a>, <a href='https://www.ncbi.nlm.nih.gov/taxonomy/?term=698951' target='_blank' title='Go to NCBI Taxonomy to get more informations about NCBITaxon:698951'>NCBITaxon:698951</a> and other 7.</p></li>\n",
       "<li><p class=\"paragraph\">Group with 14 nodes (degree 5 and node types <a href='https://biolink.github.io/biolink-model/docs/OrganismTaxon.html' target='_blank' title='Go to BioLink to get more informations about biolink:OrganismTaxon'>biolink:OrganismTaxon</a> and <a href='https://biolink.github.io/biolink-model/docs/OrganismalEntity.html' target='_blank' title='Go to BioLink to get more informations about biolink:OrganismalEntity'>biolink:OrganismalEntity</a>): <a href='https://www.ncbi.nlm.nih.gov/taxonomy/?term=699034' target='_blank' title='Go to NCBI Taxonomy to get more informations about NCBITaxon:699034'>NCBITaxon:699034</a>, <a href='https://www.ncbi.nlm.nih.gov/taxonomy/?term=479834' target='_blank' title='Go to NCBI Taxonomy to get more informations about NCBITaxon:479834'>NCBITaxon:479834</a>, <a href='https://www.ncbi.nlm.nih.gov/taxonomy/?term=699033' target='_blank' title='Go to NCBI Taxonomy to get more informations about NCBITaxon:699033'>NCBITaxon:699033</a>, <a href='https://www.ncbi.nlm.nih.gov/taxonomy/?term=699037' target='_blank' title='Go to NCBI Taxonomy to get more informations about NCBITaxon:699037'>NCBITaxon:699037</a>, <a href='https://www.ncbi.nlm.nih.gov/taxonomy/?term=479833' target='_blank' title='Go to NCBI Taxonomy to get more informations about NCBITaxon:479833'>NCBITaxon:479833</a> and other 9.</p></li>\n",
       "<li><p class=\"paragraph\">Group with 11 nodes (degree 5 and node types <a href='https://biolink.github.io/biolink-model/docs/OrganismTaxon.html' target='_blank' title='Go to BioLink to get more informations about biolink:OrganismTaxon'>biolink:OrganismTaxon</a> and <a href='https://biolink.github.io/biolink-model/docs/OrganismalEntity.html' target='_blank' title='Go to BioLink to get more informations about biolink:OrganismalEntity'>biolink:OrganismalEntity</a>): <a href='https://www.ncbi.nlm.nih.gov/taxonomy/?term=113395' target='_blank' title='Go to NCBI Taxonomy to get more informations about NCBITaxon:113395'>NCBITaxon:113395</a>, <a href='https://www.ncbi.nlm.nih.gov/taxonomy/?term=196490' target='_blank' title='Go to NCBI Taxonomy to get more informations about NCBITaxon:196490'>NCBITaxon:196490</a>, <a href='https://www.ncbi.nlm.nih.gov/taxonomy/?term=1040989' target='_blank' title='Go to NCBI Taxonomy to get more informations about NCBITaxon:1040989'>NCBITaxon:1040989</a>, <a href='https://www.ncbi.nlm.nih.gov/taxonomy/?term=754500' target='_blank' title='Go to NCBI Taxonomy to get more informations about NCBITaxon:754500'>NCBITaxon:754500</a>, <a href='https://www.ncbi.nlm.nih.gov/taxonomy/?term=1038866' target='_blank' title='Go to NCBI Taxonomy to get more informations about NCBITaxon:1038866'>NCBITaxon:1038866</a> and other 6.</p></li>\n",
       "<li><p class=\"paragraph\">Group with 9 nodes (degree 5 and node types <a href='https://biolink.github.io/biolink-model/docs/OrganismTaxon.html' target='_blank' title='Go to BioLink to get more informations about biolink:OrganismTaxon'>biolink:OrganismTaxon</a> and <a href='https://biolink.github.io/biolink-model/docs/OrganismalEntity.html' target='_blank' title='Go to BioLink to get more informations about biolink:OrganismalEntity'>biolink:OrganismalEntity</a>): <a href='https://www.ncbi.nlm.nih.gov/taxonomy/?term=1079455' target='_blank' title='Go to NCBI Taxonomy to get more informations about NCBITaxon:1079455'>NCBITaxon:1079455</a>, <a href='https://www.ncbi.nlm.nih.gov/taxonomy/?term=1041142' target='_blank' title='Go to NCBI Taxonomy to get more informations about NCBITaxon:1041142'>NCBITaxon:1041142</a>, <a href='https://www.ncbi.nlm.nih.gov/taxonomy/?term=935554' target='_blank' title='Go to NCBI Taxonomy to get more informations about NCBITaxon:935554'>NCBITaxon:935554</a>, <a href='https://www.ncbi.nlm.nih.gov/taxonomy/?term=936136' target='_blank' title='Go to NCBI Taxonomy to get more informations about NCBITaxon:936136'>NCBITaxon:936136</a>, <a href='https://www.ncbi.nlm.nih.gov/taxonomy/?term=1041143' target='_blank' title='Go to NCBI Taxonomy to get more informations about NCBITaxon:1041143'>NCBITaxon:1041143</a> and other 4.</p></li>\n",
       "<li><p class=\"paragraph\">Group with 9 nodes (degree 5 and node types <a href='https://biolink.github.io/biolink-model/docs/OrganismTaxon.html' target='_blank' title='Go to BioLink to get more informations about biolink:OrganismTaxon'>biolink:OrganismTaxon</a> and <a href='https://biolink.github.io/biolink-model/docs/OrganismalEntity.html' target='_blank' title='Go to BioLink to get more informations about biolink:OrganismalEntity'>biolink:OrganismalEntity</a>): <a href='https://www.ncbi.nlm.nih.gov/taxonomy/?term=928723' target='_blank' title='Go to NCBI Taxonomy to get more informations about NCBITaxon:928723'>NCBITaxon:928723</a>, <a href='https://www.ncbi.nlm.nih.gov/taxonomy/?term=1041151' target='_blank' title='Go to NCBI Taxonomy to get more informations about NCBITaxon:1041151'>NCBITaxon:1041151</a>, <a href='https://www.ncbi.nlm.nih.gov/taxonomy/?term=935563' target='_blank' title='Go to NCBI Taxonomy to get more informations about NCBITaxon:935563'>NCBITaxon:935563</a>, <a href='https://www.ncbi.nlm.nih.gov/taxonomy/?term=1041154' target='_blank' title='Go to NCBI Taxonomy to get more informations about NCBITaxon:1041154'>NCBITaxon:1041154</a>, <a href='https://www.ncbi.nlm.nih.gov/taxonomy/?term=1041155' target='_blank' title='Go to NCBI Taxonomy to get more informations about NCBITaxon:1041155'>NCBITaxon:1041155</a> and other 4.</p></li>\n",
       "<li><p class=\"paragraph\">Group with 6 nodes (degree 7 and node type <a href='https://biolink.github.io/biolink-model/docs/ChemicalSubstance.html' target='_blank' title='Go to BioLink to get more informations about biolink:ChemicalSubstance'>biolink:ChemicalSubstance</a>): <a href='https://www.ebi.ac.uk/chebi/searchId.do?chebiId=CHEBI:67503' target='_blank' title='Go to CHEBI to get more informations about CHEBI:67503'>CHEBI:67503</a>, <a href='https://www.ebi.ac.uk/chebi/searchId.do?chebiId=CHEBI:67504' target='_blank' title='Go to CHEBI to get more informations about CHEBI:67504'>CHEBI:67504</a>, <a href='https://www.ebi.ac.uk/chebi/searchId.do?chebiId=CHEBI:67499' target='_blank' title='Go to CHEBI to get more informations about CHEBI:67499'>CHEBI:67499</a>, <a href='https://www.ebi.ac.uk/chebi/searchId.do?chebiId=CHEBI:67500' target='_blank' title='Go to CHEBI to get more informations about CHEBI:67500'>CHEBI:67500</a>, <a href='https://www.ebi.ac.uk/chebi/searchId.do?chebiId=CHEBI:67502' target='_blank' title='Go to CHEBI to get more informations about CHEBI:67502'>CHEBI:67502</a> and another one.</p></li>\n",
       "<li><p class=\"paragraph\">Group with 6 nodes (degree 7 and node type <a href='https://biolink.github.io/biolink-model/docs/ChemicalSubstance.html' target='_blank' title='Go to BioLink to get more informations about biolink:ChemicalSubstance'>biolink:ChemicalSubstance</a>): <a href='https://www.ebi.ac.uk/chebi/searchId.do?chebiId=CHEBI:67759' target='_blank' title='Go to CHEBI to get more informations about CHEBI:67759'>CHEBI:67759</a>, <a href='https://www.ebi.ac.uk/chebi/searchId.do?chebiId=CHEBI:67757' target='_blank' title='Go to CHEBI to get more informations about CHEBI:67757'>CHEBI:67757</a>, <a href='https://www.ebi.ac.uk/chebi/searchId.do?chebiId=CHEBI:67756' target='_blank' title='Go to CHEBI to get more informations about CHEBI:67756'>CHEBI:67756</a>, <a href='https://www.ebi.ac.uk/chebi/searchId.do?chebiId=CHEBI:67758' target='_blank' title='Go to CHEBI to get more informations about CHEBI:67758'>CHEBI:67758</a>, <a href='https://www.ebi.ac.uk/chebi/searchId.do?chebiId=CHEBI:67755' target='_blank' title='Go to CHEBI to get more informations about CHEBI:67755'>CHEBI:67755</a> and another one.</p></li>\n",
       "<li><p class=\"paragraph\">Group with 6 nodes (degree 7 and node type <a href='https://biolink.github.io/biolink-model/docs/ChemicalSubstance.html' target='_blank' title='Go to BioLink to get more informations about biolink:ChemicalSubstance'>biolink:ChemicalSubstance</a>): <a href='https://www.ebi.ac.uk/chebi/searchId.do?chebiId=CHEBI:66205' target='_blank' title='Go to CHEBI to get more informations about CHEBI:66205'>CHEBI:66205</a>, <a href='https://www.ebi.ac.uk/chebi/searchId.do?chebiId=CHEBI:66208' target='_blank' title='Go to CHEBI to get more informations about CHEBI:66208'>CHEBI:66208</a>, <a href='https://www.ebi.ac.uk/chebi/searchId.do?chebiId=CHEBI:66207' target='_blank' title='Go to CHEBI to get more informations about CHEBI:66207'>CHEBI:66207</a>, <a href='https://www.ebi.ac.uk/chebi/searchId.do?chebiId=CHEBI:66206' target='_blank' title='Go to CHEBI to get more informations about CHEBI:66206'>CHEBI:66206</a>, <a href='https://www.ebi.ac.uk/chebi/searchId.do?chebiId=CHEBI:66204' target='_blank' title='Go to CHEBI to get more informations about CHEBI:66204'>CHEBI:66204</a> and another one.</p></li>\n",
       "<li><p class=\"paragraph\">Group with 8 nodes (degree 5 and node type <a href='https://biolink.github.io/biolink-model/docs/ChemicalSubstance.html' target='_blank' title='Go to BioLink to get more informations about biolink:ChemicalSubstance'>biolink:ChemicalSubstance</a>): <a href='https://www.ebi.ac.uk/chebi/searchId.do?chebiId=CHEBI:69875' target='_blank' title='Go to CHEBI to get more informations about CHEBI:69875'>CHEBI:69875</a>, <a href='https://www.ebi.ac.uk/chebi/searchId.do?chebiId=CHEBI:69877' target='_blank' title='Go to CHEBI to get more informations about CHEBI:69877'>CHEBI:69877</a>, <a href='https://www.ebi.ac.uk/chebi/searchId.do?chebiId=CHEBI:69886' target='_blank' title='Go to CHEBI to get more informations about CHEBI:69886'>CHEBI:69886</a>, <a href='https://www.ebi.ac.uk/chebi/searchId.do?chebiId=CHEBI:69881' target='_blank' title='Go to CHEBI to get more informations about CHEBI:69881'>CHEBI:69881</a>, <a href='https://www.ebi.ac.uk/chebi/searchId.do?chebiId=CHEBI:69885' target='_blank' title='Go to CHEBI to get more informations about CHEBI:69885'>CHEBI:69885</a> and other 3.</p></li>\n",
       "<li><p class=\"paragraph\">Group with 5 nodes (degree 8 and node type <a href='https://biolink.github.io/biolink-model/docs/ChemicalSubstance.html' target='_blank' title='Go to BioLink to get more informations about biolink:ChemicalSubstance'>biolink:ChemicalSubstance</a>): <a href='https://www.ebi.ac.uk/chebi/searchId.do?chebiId=CHEBI:68322' target='_blank' title='Go to CHEBI to get more informations about CHEBI:68322'>CHEBI:68322</a>, <a href='https://www.ebi.ac.uk/chebi/searchId.do?chebiId=CHEBI:68321' target='_blank' title='Go to CHEBI to get more informations about CHEBI:68321'>CHEBI:68321</a>, <a href='https://www.ebi.ac.uk/chebi/searchId.do?chebiId=CHEBI:68324' target='_blank' title='Go to CHEBI to get more informations about CHEBI:68324'>CHEBI:68324</a>, <a href='https://www.ebi.ac.uk/chebi/searchId.do?chebiId=CHEBI:68323' target='_blank' title='Go to CHEBI to get more informations about CHEBI:68323'>CHEBI:68323</a> and <a href='https://www.ebi.ac.uk/chebi/searchId.do?chebiId=CHEBI:68325' target='_blank' title='Go to CHEBI to get more informations about CHEBI:68325'>CHEBI:68325</a>.</p></li>\n",
       "<li><p class=\"paragraph\">Group with 4 nodes (degree 10 and node type <a href='https://biolink.github.io/biolink-model/docs/ChemicalSubstance.html' target='_blank' title='Go to BioLink to get more informations about biolink:ChemicalSubstance'>biolink:ChemicalSubstance</a>): <a href='https://www.ebi.ac.uk/chebi/searchId.do?chebiId=CHEBI:66236' target='_blank' title='Go to CHEBI to get more informations about CHEBI:66236'>CHEBI:66236</a>, <a href='https://www.ebi.ac.uk/chebi/searchId.do?chebiId=CHEBI:66235' target='_blank' title='Go to CHEBI to get more informations about CHEBI:66235'>CHEBI:66235</a>, <a href='https://www.ebi.ac.uk/chebi/searchId.do?chebiId=CHEBI:66234' target='_blank' title='Go to CHEBI to get more informations about CHEBI:66234'>CHEBI:66234</a> and <a href='https://www.ebi.ac.uk/chebi/searchId.do?chebiId=CHEBI:66237' target='_blank' title='Go to CHEBI to get more informations about CHEBI:66237'>CHEBI:66237</a>.</p></li></ol><p class=\"paragraph\">And other 531 isomorphic node groups.</p><h4 style=\"margin: 1em 0 0 0;\">Trees</h4><p class=\"paragraph\">A tree is a connected component with <code>n</code> nodes and <code>n-1</code> edges. We have detected 4 trees in the graph, involving a total of 25 nodes and 21 edges, with the largest one involving 8 nodes and 7 edges. The detected trees, sorted by decreasing size, are:</p><ol class=\"large-columns\"><li><p class=\"paragraph\">Tree starting from the root node <a href='http://purl.obolibrary.org/obo/RO_0002574' target='_blank' title='Go to Relation Ontology to get more informations about RO:0002574'>RO:0002574</a> (degree 2), and containing 8 nodes, with a maximal depth of 3, which are <a href='http://purl.obolibrary.org/obo/RO_0002437' target='_blank' title='Go to Relation Ontology to get more informations about RO:0002437'>RO:0002437</a> (degree 3), <a href='http://purl.obolibrary.org/obo/RO_0002438' target='_blank' title='Go to Relation Ontology to get more informations about RO:0002438'>RO:0002438</a> (degree 3), <a href='http://purl.obolibrary.org/obo/RO_0002321' target='_blank' title='Go to Relation Ontology to get more informations about RO:0002321'>RO:0002321</a>, <a href='http://purl.obolibrary.org/obo/RO_0002434' target='_blank' title='Go to Relation Ontology to get more informations about RO:0002434'>RO:0002434</a> and <a href='http://purl.obolibrary.org/obo/RO_0002469' target='_blank' title='Go to Relation Ontology to get more informations about RO:0002469'>RO:0002469</a>. Its nodes have a single node type, which is <a href='https://biolink.github.io/biolink-model/docs/OntologyClass.html' target='_blank' title='Go to BioLink to get more informations about biolink:OntologyClass'>biolink:OntologyClass</a>. Its edges have a single edge type, which is <a href='https://biolink.github.io/biolink-model/docs/subPropertyOf.html' target='_blank' title='Go to BioLink to get more informations about biolink:subPropertyOf'>biolink:subPropertyOf</a>.</p></li>\n",
       "<li><p class=\"paragraph\">Tree starting from the root node <a href='http://purl.obolibrary.org/obo/FOODON_03411016' target='_blank' title='Go to FOODON to get more informations about FOODON:03411016'>FOODON:03411016</a> (degree 2), and containing 6 nodes, with a maximal depth of 3, which are <a href='http://purl.obolibrary.org/obo/FOODON_03411009' target='_blank' title='Go to FOODON to get more informations about FOODON:03411009'>FOODON:03411009</a>, <a href='http://purl.obolibrary.org/obo/FOODON_03412344' target='_blank' title='Go to FOODON to get more informations about FOODON:03412344'>FOODON:03412344</a>, <a href='http://purl.obolibrary.org/obo/FOODON_03411048' target='_blank' title='Go to FOODON to get more informations about FOODON:03411048'>FOODON:03411048</a>, <a href='http://purl.obolibrary.org/obo/FOODON_03412637' target='_blank' title='Go to FOODON to get more informations about FOODON:03412637'>FOODON:03412637</a> and <a href='http://purl.obolibrary.org/obo/FOODON_03411013' target='_blank' title='Go to FOODON to get more informations about FOODON:03411013'>FOODON:03411013</a>. Its nodes have a single node type, which is <a href='https://biolink.github.io/biolink-model/docs/OntologyClass.html' target='_blank' title='Go to BioLink to get more informations about biolink:OntologyClass'>biolink:OntologyClass</a>. Its edges have a single edge type, which is <a href='https://biolink.github.io/biolink-model/docs/subclass_of.html' target='_blank' title='Go to BioLink to get more informations about biolink:subclass_of'>biolink:subclass_of</a>.</p></li>\n",
       "<li><p class=\"paragraph\">Tree starting from the root node <a href='http://purl.obolibrary.org/obo/FOODON_03414459' target='_blank' title='Go to FOODON to get more informations about FOODON:03414459'>FOODON:03414459</a> (degree 2), and containing 6 nodes, with a maximal depth of 2, which are <a href='http://purl.obolibrary.org/obo/FOODON_03411283' target='_blank' title='Go to FOODON to get more informations about FOODON:03411283'>FOODON:03411283</a> (degree 3), <a href='http://purl.obolibrary.org/obo/FOODON_03414460' target='_blank' title='Go to FOODON to get more informations about FOODON:03414460'>FOODON:03414460</a>, <a href='http://purl.obolibrary.org/obo/FOODON_00001155' target='_blank' title='Go to FOODON to get more informations about FOODON:00001155'>FOODON:00001155</a>, <a href='http://purl.obolibrary.org/obo/FOODON_03411140' target='_blank' title='Go to FOODON to get more informations about FOODON:03411140'>FOODON:03411140</a> and <a href='http://purl.obolibrary.org/obo/FOODON_03413357' target='_blank' title='Go to FOODON to get more informations about FOODON:03413357'>FOODON:03413357</a>. Its nodes have a single node type, which is <a href='https://biolink.github.io/biolink-model/docs/OntologyClass.html' target='_blank' title='Go to BioLink to get more informations about biolink:OntologyClass'>biolink:OntologyClass</a>. Its edges have a single edge type, which is <a href='https://biolink.github.io/biolink-model/docs/subclass_of.html' target='_blank' title='Go to BioLink to get more informations about biolink:subclass_of'>biolink:subclass_of</a>.</p></li>\n",
       "<li><p class=\"paragraph\">Tree starting from the root node <a href='http://purl.obolibrary.org/obo/FOODON_03460225' target='_blank' title='Go to FOODON to get more informations about FOODON:03460225'>FOODON:03460225</a> (degree 2), and containing 5 nodes, with a maximal depth of 2, which are <a href='http://purl.obolibrary.org/obo/FOODON_03460111' target='_blank' title='Go to FOODON to get more informations about FOODON:03460111'>FOODON:03460111</a>, <a href='http://purl.obolibrary.org/obo/FOODON_03460751' target='_blank' title='Go to FOODON to get more informations about FOODON:03460751'>FOODON:03460751</a>, <a href='http://purl.obolibrary.org/obo/FOODON_00002451' target='_blank' title='Go to FOODON to get more informations about FOODON:00002451'>FOODON:00002451</a> and <a href='http://purl.obolibrary.org/obo/FOODON_03460752' target='_blank' title='Go to FOODON to get more informations about FOODON:03460752'>FOODON:03460752</a>. Its nodes have a single node type, which is <a href='https://biolink.github.io/biolink-model/docs/OntologyClass.html' target='_blank' title='Go to BioLink to get more informations about biolink:OntologyClass'>biolink:OntologyClass</a>. Its edges have a single edge type, which is <a href='https://biolink.github.io/biolink-model/docs/subclass_of.html' target='_blank' title='Go to BioLink to get more informations about biolink:subclass_of'>biolink:subclass_of</a>.</p></li></ol><h4 style=\"margin: 1em 0 0 0;\">Dendritic trees</h4><p class=\"paragraph\">A dendritic tree is a tree-like structure starting from a root node that is part of another strongly connected component. We have detected 726 dendritic trees in the graph, involving a total of 17.28K nodes (6.25%) and 17.28K edges (1.64%), with the largest one involving 1.51K nodes and 1.51K edges. The detected dendritic trees, sorted by decreasing size, are:</p><ol class=\"large-columns\"><li><p class=\"paragraph\">Dendritic tree starting from the root node <a href='https://www.ebi.ac.uk/chebi/searchId.do?chebiId=CHEBI:50860' target='_blank' title='Go to CHEBI to get more informations about CHEBI:50860'>CHEBI:50860</a> (degree 2.74K), and containing 1.51K nodes, with a maximal depth of 2, which are <a href='https://www.ebi.ac.uk/chebi/searchId.do?chebiId=CHEBI:9765' target='_blank' title='Go to CHEBI to get more informations about CHEBI:9765'>CHEBI:9765</a>, <a href='https://www.ebi.ac.uk/chebi/searchId.do?chebiId=CHEBI:9790' target='_blank' title='Go to CHEBI to get more informations about CHEBI:9790'>CHEBI:9790</a>, <a href='https://www.ebi.ac.uk/chebi/searchId.do?chebiId=CHEBI:145680' target='_blank' title='Go to CHEBI to get more informations about CHEBI:145680'>CHEBI:145680</a>, <a href='https://www.ebi.ac.uk/chebi/searchId.do?chebiId=CHEBI:145677' target='_blank' title='Go to CHEBI to get more informations about CHEBI:145677'>CHEBI:145677</a> and <a href='https://www.ebi.ac.uk/chebi/searchId.do?chebiId=CHEBI:145678' target='_blank' title='Go to CHEBI to get more informations about CHEBI:145678'>CHEBI:145678</a>. Its nodes have a single node type, which is <a href='https://biolink.github.io/biolink-model/docs/ChemicalSubstance.html' target='_blank' title='Go to BioLink to get more informations about biolink:ChemicalSubstance'>biolink:ChemicalSubstance</a>. Its edges have a single edge type, which is <a href='https://biolink.github.io/biolink-model/docs/subclass_of.html' target='_blank' title='Go to BioLink to get more informations about biolink:subclass_of'>biolink:subclass_of</a>.</p></li>\n",
       "<li><p class=\"paragraph\">Dendritic tree starting from the root node <a href='https://www.ebi.ac.uk/chebi/searchId.do?chebiId=CHEBI:17855' target='_blank' title='Go to CHEBI to get more informations about CHEBI:17855'>CHEBI:17855</a> (degree 1.16K), and containing 1.12K nodes, with a maximal depth of 4, which are <a href='https://www.ebi.ac.uk/chebi/searchId.do?chebiId=CHEBI:170640' target='_blank' title='Go to CHEBI to get more informations about CHEBI:170640'>CHEBI:170640</a>, <a href='https://www.ebi.ac.uk/chebi/searchId.do?chebiId=CHEBI:170642' target='_blank' title='Go to CHEBI to get more informations about CHEBI:170642'>CHEBI:170642</a>, <a href='https://www.ebi.ac.uk/chebi/searchId.do?chebiId=CHEBI:170644' target='_blank' title='Go to CHEBI to get more informations about CHEBI:170644'>CHEBI:170644</a>, <a href='https://www.ebi.ac.uk/chebi/searchId.do?chebiId=CHEBI:170646' target='_blank' title='Go to CHEBI to get more informations about CHEBI:170646'>CHEBI:170646</a> and <a href='https://www.ebi.ac.uk/chebi/searchId.do?chebiId=CHEBI:170648' target='_blank' title='Go to CHEBI to get more informations about CHEBI:170648'>CHEBI:170648</a>. Its nodes have a single node type, which is <a href='https://biolink.github.io/biolink-model/docs/ChemicalSubstance.html' target='_blank' title='Go to BioLink to get more informations about biolink:ChemicalSubstance'>biolink:ChemicalSubstance</a>. Its edges have a single edge type, which is <a href='https://biolink.github.io/biolink-model/docs/subclass_of.html' target='_blank' title='Go to BioLink to get more informations about biolink:subclass_of'>biolink:subclass_of</a>.</p></li>\n",
       "<li><p class=\"paragraph\">Dendritic tree starting from the root node <a href='https://www.ncbi.nlm.nih.gov/taxonomy/?term=562' target='_blank' title='Go to NCBI Taxonomy to get more informations about NCBITaxon:562'>NCBITaxon:562</a> (degree 2.18K and node types <a href='https://biolink.github.io/biolink-model/docs/OrganismTaxon.html' target='_blank' title='Go to BioLink to get more informations about biolink:OrganismTaxon'>biolink:OrganismTaxon</a> and <a href='https://biolink.github.io/biolink-model/docs/OrganismalEntity.html' target='_blank' title='Go to BioLink to get more informations about biolink:OrganismalEntity'>biolink:OrganismalEntity</a>), and containing 697 nodes, with a maximal depth of 3, which are <a href='https://www.ncbi.nlm.nih.gov/taxonomy/?term=1385755' target='_blank' title='Go to NCBI Taxonomy to get more informations about NCBITaxon:1385755'>NCBITaxon:1385755</a> (node types <a href='https://biolink.github.io/biolink-model/docs/OrganismTaxon.html' target='_blank' title='Go to BioLink to get more informations about biolink:OrganismTaxon'>biolink:OrganismTaxon</a> and <a href='https://biolink.github.io/biolink-model/docs/OrganismalEntity.html' target='_blank' title='Go to BioLink to get more informations about biolink:OrganismalEntity'>biolink:OrganismalEntity</a>), <a href='https://www.ncbi.nlm.nih.gov/taxonomy/?term=1329907' target='_blank' title='Go to NCBI Taxonomy to get more informations about NCBITaxon:1329907'>NCBITaxon:1329907</a> (node types <a href='https://biolink.github.io/biolink-model/docs/OrganismTaxon.html' target='_blank' title='Go to BioLink to get more informations about biolink:OrganismTaxon'>biolink:OrganismTaxon</a> and <a href='https://biolink.github.io/biolink-model/docs/OrganismalEntity.html' target='_blank' title='Go to BioLink to get more informations about biolink:OrganismalEntity'>biolink:OrganismalEntity</a>), <a href='https://www.ncbi.nlm.nih.gov/taxonomy/?term=930406' target='_blank' title='Go to NCBI Taxonomy to get more informations about NCBITaxon:930406'>NCBITaxon:930406</a> (node types <a href='https://biolink.github.io/biolink-model/docs/OrganismTaxon.html' target='_blank' title='Go to BioLink to get more informations about biolink:OrganismTaxon'>biolink:OrganismTaxon</a> and <a href='https://biolink.github.io/biolink-model/docs/OrganismalEntity.html' target='_blank' title='Go to BioLink to get more informations about biolink:OrganismalEntity'>biolink:OrganismalEntity</a>), <a href='https://www.ncbi.nlm.nih.gov/taxonomy/?term=1401688' target='_blank' title='Go to NCBI Taxonomy to get more informations about NCBITaxon:1401688'>NCBITaxon:1401688</a> (node types <a href='https://biolink.github.io/biolink-model/docs/OrganismTaxon.html' target='_blank' title='Go to BioLink to get more informations about biolink:OrganismTaxon'>biolink:OrganismTaxon</a> and <a href='https://biolink.github.io/biolink-model/docs/OrganismalEntity.html' target='_blank' title='Go to BioLink to get more informations about biolink:OrganismalEntity'>biolink:OrganismalEntity</a>) and <a href='https://www.ncbi.nlm.nih.gov/taxonomy/?term=1954351' target='_blank' title='Go to NCBI Taxonomy to get more informations about NCBITaxon:1954351'>NCBITaxon:1954351</a> (node types <a href='https://biolink.github.io/biolink-model/docs/OrganismTaxon.html' target='_blank' title='Go to BioLink to get more informations about biolink:OrganismTaxon'>biolink:OrganismTaxon</a> and <a href='https://biolink.github.io/biolink-model/docs/OrganismalEntity.html' target='_blank' title='Go to BioLink to get more informations about biolink:OrganismalEntity'>biolink:OrganismalEntity</a>). Its nodes have 2 node types, which are <a href='https://biolink.github.io/biolink-model/docs/OrganismalEntity.html' target='_blank' title='Go to BioLink to get more informations about biolink:OrganismalEntity'>biolink:OrganismalEntity</a> (697 nodes, 0.25%) and <a href='https://biolink.github.io/biolink-model/docs/OrganismTaxon.html' target='_blank' title='Go to BioLink to get more informations about biolink:OrganismTaxon'>biolink:OrganismTaxon</a> (675 nodes, 0.24%). Its edges have a single edge type, which is <a href='https://biolink.github.io/biolink-model/docs/subclass_of.html' target='_blank' title='Go to BioLink to get more informations about biolink:subclass_of'>biolink:subclass_of</a>.</p></li>\n",
       "<li><p class=\"paragraph\">Dendritic tree starting from the root node <a href='https://www.ebi.ac.uk/chebi/searchId.do?chebiId=CHEBI:24400' target='_blank' title='Go to CHEBI to get more informations about CHEBI:24400'>CHEBI:24400</a> (degree 1.15K), and containing 430 nodes, with a maximal depth of 2, which are <a href='https://www.ebi.ac.uk/chebi/searchId.do?chebiId=CHEBI:9657' target='_blank' title='Go to CHEBI to get more informations about CHEBI:9657'>CHEBI:9657</a>, <a href='https://www.ebi.ac.uk/chebi/searchId.do?chebiId=CHEBI:9370' target='_blank' title='Go to CHEBI to get more informations about CHEBI:9370'>CHEBI:9370</a>, <a href='https://www.ebi.ac.uk/chebi/searchId.do?chebiId=CHEBI:9009' target='_blank' title='Go to CHEBI to get more informations about CHEBI:9009'>CHEBI:9009</a>, <a href='https://www.ebi.ac.uk/chebi/searchId.do?chebiId=CHEBI:9033' target='_blank' title='Go to CHEBI to get more informations about CHEBI:9033'>CHEBI:9033</a> and <a href='https://www.ebi.ac.uk/chebi/searchId.do?chebiId=CHEBI:9034' target='_blank' title='Go to CHEBI to get more informations about CHEBI:9034'>CHEBI:9034</a>. Its nodes have a single node type, which is <a href='https://biolink.github.io/biolink-model/docs/ChemicalSubstance.html' target='_blank' title='Go to BioLink to get more informations about biolink:ChemicalSubstance'>biolink:ChemicalSubstance</a>. Its edges have a single edge type, which is <a href='https://biolink.github.io/biolink-model/docs/subclass_of.html' target='_blank' title='Go to BioLink to get more informations about biolink:subclass_of'>biolink:subclass_of</a>.</p></li>\n",
       "<li><p class=\"paragraph\">Dendritic tree starting from the root node <a href='https://www.ebi.ac.uk/chebi/searchId.do?chebiId=CHEBI:25477' target='_blank' title='Go to CHEBI to get more informations about CHEBI:25477'>CHEBI:25477</a> (degree 631), and containing 422 nodes, with a maximal depth of 2, which are <a href='https://www.ebi.ac.uk/chebi/searchId.do?chebiId=CHEBI:131043' target='_blank' title='Go to CHEBI to get more informations about CHEBI:131043'>CHEBI:131043</a>, <a href='https://www.ebi.ac.uk/chebi/searchId.do?chebiId=CHEBI:131111' target='_blank' title='Go to CHEBI to get more informations about CHEBI:131111'>CHEBI:131111</a>, <a href='https://www.ebi.ac.uk/chebi/searchId.do?chebiId=CHEBI:131310' target='_blank' title='Go to CHEBI to get more informations about CHEBI:131310'>CHEBI:131310</a>, <a href='https://www.ebi.ac.uk/chebi/searchId.do?chebiId=CHEBI:106396' target='_blank' title='Go to CHEBI to get more informations about CHEBI:106396'>CHEBI:106396</a> and <a href='https://www.ebi.ac.uk/chebi/searchId.do?chebiId=CHEBI:111496' target='_blank' title='Go to CHEBI to get more informations about CHEBI:111496'>CHEBI:111496</a>. Its nodes have a single node type, which is <a href='https://biolink.github.io/biolink-model/docs/ChemicalSubstance.html' target='_blank' title='Go to BioLink to get more informations about biolink:ChemicalSubstance'>biolink:ChemicalSubstance</a>. Its edges have a single edge type, which is <a href='https://biolink.github.io/biolink-model/docs/subclass_of.html' target='_blank' title='Go to BioLink to get more informations about biolink:subclass_of'>biolink:subclass_of</a>.</p></li>\n",
       "<li><p class=\"paragraph\">Dendritic tree starting from the root node <a href='https://www.ebi.ac.uk/chebi/searchId.do?chebiId=CHEBI:24828' target='_blank' title='Go to CHEBI to get more informations about CHEBI:24828'>CHEBI:24828</a> (degree 656), and containing 396 nodes, with a maximal depth of 2, which are <a href='https://www.ebi.ac.uk/chebi/searchId.do?chebiId=CHEBI:106017' target='_blank' title='Go to CHEBI to get more informations about CHEBI:106017'>CHEBI:106017</a>, <a href='https://www.ebi.ac.uk/chebi/searchId.do?chebiId=CHEBI:106018' target='_blank' title='Go to CHEBI to get more informations about CHEBI:106018'>CHEBI:106018</a>, <a href='https://www.ebi.ac.uk/chebi/searchId.do?chebiId=CHEBI:106078' target='_blank' title='Go to CHEBI to get more informations about CHEBI:106078'>CHEBI:106078</a>, <a href='https://www.ebi.ac.uk/chebi/searchId.do?chebiId=CHEBI:131029' target='_blank' title='Go to CHEBI to get more informations about CHEBI:131029'>CHEBI:131029</a> and <a href='https://www.ebi.ac.uk/chebi/searchId.do?chebiId=CHEBI:106060' target='_blank' title='Go to CHEBI to get more informations about CHEBI:106060'>CHEBI:106060</a>. Its nodes have a single node type, which is <a href='https://biolink.github.io/biolink-model/docs/ChemicalSubstance.html' target='_blank' title='Go to BioLink to get more informations about biolink:ChemicalSubstance'>biolink:ChemicalSubstance</a>. Its edges have a single edge type, which is <a href='https://biolink.github.io/biolink-model/docs/subclass_of.html' target='_blank' title='Go to BioLink to get more informations about biolink:subclass_of'>biolink:subclass_of</a>.</p></li></ol><p class=\"paragraph\">And other 720 dendritic trees.</p><h4 style=\"margin: 1em 0 0 0;\">Stars</h4><p class=\"paragraph\">A star is a tree with a maximal depth of one, where nodes with maximal unique degree one are connected to a central root node with a high degree. We have detected  a single star in the graph, involving a total of 5 nodes and 4 edges.</p><ul class=\"large-columns\"><li><p class=\"paragraph\">Star starting from the root node <a href='http://purl.obolibrary.org/obo/RO_0000053' target='_blank' title='Go to Relation Ontology to get more informations about RO:0000053'>RO:0000053</a> (degree 4), and containing 5 nodes, with a maximal depth of 1, which are <a href='http://purl.obolibrary.org/obo/RO_0000087' target='_blank' title='Go to Relation Ontology to get more informations about RO:0000087'>RO:0000087</a>, <a href='http://purl.obolibrary.org/obo/RO_0000091' target='_blank' title='Go to Relation Ontology to get more informations about RO:0000091'>RO:0000091</a>, <a href='http://purl.obolibrary.org/obo/RO_0000085' target='_blank' title='Go to Relation Ontology to get more informations about RO:0000085'>RO:0000085</a> and <a href='http://purl.obolibrary.org/obo/RO_0000086' target='_blank' title='Go to Relation Ontology to get more informations about RO:0000086'>RO:0000086</a>. Its nodes have a single node type, which is <a href='https://biolink.github.io/biolink-model/docs/OntologyClass.html' target='_blank' title='Go to BioLink to get more informations about biolink:OntologyClass'>biolink:OntologyClass</a>. Its edges have a single edge type, which is <a href='https://biolink.github.io/biolink-model/docs/subPropertyOf.html' target='_blank' title='Go to BioLink to get more informations about biolink:subPropertyOf'>biolink:subPropertyOf</a>.</p></li></ul><h4 style=\"margin: 1em 0 0 0;\">Dendritic stars</h4><p class=\"paragraph\">A dendritic star is a dendritic tree with a maximal depth of one, where nodes with maximal unique degree one are connected to a central root node with high degree and inside a strongly connected component. We have detected 3.51K dendritic stars in the graph, involving a total of 72.90K nodes (26.38%) and 72.90K edges (6.94%), with the largest one involving 6.17K nodes and 6.17K edges. The detected dendritic stars, sorted by decreasing size, are:</p><ol class=\"large-columns\"><li><p class=\"paragraph\">Dendritic star starting from the root node <a href='https://www.ebi.ac.uk/chebi/searchId.do?chebiId=CHEBI:16670' target='_blank' title='Go to CHEBI to get more informations about CHEBI:16670'>CHEBI:16670</a> (degree 6.21K), and containing 6.17K nodes, with a maximal depth of 1, which are <a href='https://www.ebi.ac.uk/chebi/searchId.do?chebiId=CHEBI:131158' target='_blank' title='Go to CHEBI to get more informations about CHEBI:131158'>CHEBI:131158</a>, <a href='https://www.ebi.ac.uk/chebi/searchId.do?chebiId=CHEBI:131160' target='_blank' title='Go to CHEBI to get more informations about CHEBI:131160'>CHEBI:131160</a>, <a href='https://www.ebi.ac.uk/chebi/searchId.do?chebiId=CHEBI:131170' target='_blank' title='Go to CHEBI to get more informations about CHEBI:131170'>CHEBI:131170</a>, <a href='https://www.ebi.ac.uk/chebi/searchId.do?chebiId=CHEBI:9444' target='_blank' title='Go to CHEBI to get more informations about CHEBI:9444'>CHEBI:9444</a> and <a href='https://www.ebi.ac.uk/chebi/searchId.do?chebiId=CHEBI:159393' target='_blank' title='Go to CHEBI to get more informations about CHEBI:159393'>CHEBI:159393</a>. Its nodes have a single node type, which is <a href='https://biolink.github.io/biolink-model/docs/ChemicalSubstance.html' target='_blank' title='Go to BioLink to get more informations about biolink:ChemicalSubstance'>biolink:ChemicalSubstance</a>. Its edges have a single edge type, which is <a href='https://biolink.github.io/biolink-model/docs/subclass_of.html' target='_blank' title='Go to BioLink to get more informations about biolink:subclass_of'>biolink:subclass_of</a>.</p></li>\n",
       "<li><p class=\"paragraph\">Dendritic star starting from the root node <a href='https://www.ebi.ac.uk/chebi/searchId.do?chebiId=CHEBI:35358' target='_blank' title='Go to CHEBI to get more informations about CHEBI:35358'>CHEBI:35358</a> (degree 2.90K), and containing 2.53K nodes, with a maximal depth of 1, which are <a href='https://www.ebi.ac.uk/chebi/searchId.do?chebiId=CHEBI:106010' target='_blank' title='Go to CHEBI to get more informations about CHEBI:106010'>CHEBI:106010</a>, <a href='https://www.ebi.ac.uk/chebi/searchId.do?chebiId=CHEBI:99486' target='_blank' title='Go to CHEBI to get more informations about CHEBI:99486'>CHEBI:99486</a>, <a href='https://www.ebi.ac.uk/chebi/searchId.do?chebiId=CHEBI:99489' target='_blank' title='Go to CHEBI to get more informations about CHEBI:99489'>CHEBI:99489</a>, <a href='https://www.ebi.ac.uk/chebi/searchId.do?chebiId=CHEBI:99470' target='_blank' title='Go to CHEBI to get more informations about CHEBI:99470'>CHEBI:99470</a> and <a href='https://www.ebi.ac.uk/chebi/searchId.do?chebiId=CHEBI:99494' target='_blank' title='Go to CHEBI to get more informations about CHEBI:99494'>CHEBI:99494</a>. Its nodes have a single node type, which is <a href='https://biolink.github.io/biolink-model/docs/ChemicalSubstance.html' target='_blank' title='Go to BioLink to get more informations about biolink:ChemicalSubstance'>biolink:ChemicalSubstance</a>. Its edges have a single edge type, which is <a href='https://biolink.github.io/biolink-model/docs/subclass_of.html' target='_blank' title='Go to BioLink to get more informations about biolink:subclass_of'>biolink:subclass_of</a>.</p></li>\n",
       "<li><p class=\"paragraph\">Dendritic star starting from the root node <a href='https://www.ebi.ac.uk/chebi/searchId.do?chebiId=CHEBI:28963' target='_blank' title='Go to CHEBI to get more informations about CHEBI:28963'>CHEBI:28963</a> (degree 2.10K), and containing 2.05K nodes, with a maximal depth of 1, which are <a href='https://www.ebi.ac.uk/chebi/searchId.do?chebiId=CHEBI:31841' target='_blank' title='Go to CHEBI to get more informations about CHEBI:31841'>CHEBI:31841</a>, <a href='https://www.ebi.ac.uk/chebi/searchId.do?chebiId=CHEBI:150793' target='_blank' title='Go to CHEBI to get more informations about CHEBI:150793'>CHEBI:150793</a>, <a href='https://www.ebi.ac.uk/chebi/searchId.do?chebiId=CHEBI:150782' target='_blank' title='Go to CHEBI to get more informations about CHEBI:150782'>CHEBI:150782</a>, <a href='https://www.ebi.ac.uk/chebi/searchId.do?chebiId=CHEBI:150784' target='_blank' title='Go to CHEBI to get more informations about CHEBI:150784'>CHEBI:150784</a> and <a href='https://www.ebi.ac.uk/chebi/searchId.do?chebiId=CHEBI:150780' target='_blank' title='Go to CHEBI to get more informations about CHEBI:150780'>CHEBI:150780</a>. Its nodes have a single node type, which is <a href='https://biolink.github.io/biolink-model/docs/ChemicalSubstance.html' target='_blank' title='Go to BioLink to get more informations about biolink:ChemicalSubstance'>biolink:ChemicalSubstance</a>. Its edges have a single edge type, which is <a href='https://biolink.github.io/biolink-model/docs/subclass_of.html' target='_blank' title='Go to BioLink to get more informations about biolink:subclass_of'>biolink:subclass_of</a>.</p></li>\n",
       "<li><p class=\"paragraph\">Dendritic star starting from the root node <a href='https://www.ebi.ac.uk/chebi/searchId.do?chebiId=CHEBI:25676' target='_blank' title='Go to CHEBI to get more informations about CHEBI:25676'>CHEBI:25676</a> (degree 2.08K), and containing 2.02K nodes, with a maximal depth of 1, which are <a href='https://www.ebi.ac.uk/chebi/searchId.do?chebiId=CHEBI:85092' target='_blank' title='Go to CHEBI to get more informations about CHEBI:85092'>CHEBI:85092</a>, <a href='https://www.ebi.ac.uk/chebi/searchId.do?chebiId=CHEBI:85096' target='_blank' title='Go to CHEBI to get more informations about CHEBI:85096'>CHEBI:85096</a>, <a href='https://www.ebi.ac.uk/chebi/searchId.do?chebiId=CHEBI:159394' target='_blank' title='Go to CHEBI to get more informations about CHEBI:159394'>CHEBI:159394</a>, <a href='https://www.ebi.ac.uk/chebi/searchId.do?chebiId=CHEBI:159395' target='_blank' title='Go to CHEBI to get more informations about CHEBI:159395'>CHEBI:159395</a> and <a href='https://www.ebi.ac.uk/chebi/searchId.do?chebiId=CHEBI:159397' target='_blank' title='Go to CHEBI to get more informations about CHEBI:159397'>CHEBI:159397</a>. Its nodes have a single node type, which is <a href='https://biolink.github.io/biolink-model/docs/ChemicalSubstance.html' target='_blank' title='Go to BioLink to get more informations about biolink:ChemicalSubstance'>biolink:ChemicalSubstance</a>. Its edges have a single edge type, which is <a href='https://biolink.github.io/biolink-model/docs/subclass_of.html' target='_blank' title='Go to BioLink to get more informations about biolink:subclass_of'>biolink:subclass_of</a>.</p></li>\n",
       "<li><p class=\"paragraph\">Dendritic star starting from the root node <a href='https://www.ebi.ac.uk/chebi/searchId.do?chebiId=CHEBI:78616' target='_blank' title='Go to CHEBI to get more informations about CHEBI:78616'>CHEBI:78616</a> (degree 1.93K), and containing 1.92K nodes, with a maximal depth of 1, which are <a href='https://www.ebi.ac.uk/chebi/searchId.do?chebiId=CHEBI:150798' target='_blank' title='Go to CHEBI to get more informations about CHEBI:150798'>CHEBI:150798</a>, <a href='https://www.ebi.ac.uk/chebi/searchId.do?chebiId=CHEBI:150790' target='_blank' title='Go to CHEBI to get more informations about CHEBI:150790'>CHEBI:150790</a>, <a href='https://www.ebi.ac.uk/chebi/searchId.do?chebiId=CHEBI:150791' target='_blank' title='Go to CHEBI to get more informations about CHEBI:150791'>CHEBI:150791</a>, <a href='https://www.ebi.ac.uk/chebi/searchId.do?chebiId=CHEBI:150789' target='_blank' title='Go to CHEBI to get more informations about CHEBI:150789'>CHEBI:150789</a> and <a href='https://www.ebi.ac.uk/chebi/searchId.do?chebiId=CHEBI:150786' target='_blank' title='Go to CHEBI to get more informations about CHEBI:150786'>CHEBI:150786</a>. Its nodes have a single node type, which is <a href='https://biolink.github.io/biolink-model/docs/ChemicalSubstance.html' target='_blank' title='Go to BioLink to get more informations about biolink:ChemicalSubstance'>biolink:ChemicalSubstance</a>. Its edges have a single edge type, which is <a href='https://biolink.github.io/biolink-model/docs/subclass_of.html' target='_blank' title='Go to BioLink to get more informations about biolink:subclass_of'>biolink:subclass_of</a>.</p></li>\n",
       "<li><p class=\"paragraph\">Dendritic star starting from the root node <a href='https://www.ebi.ac.uk/chebi/searchId.do?chebiId=CHEBI:20857' target='_blank' title='Go to CHEBI to get more informations about CHEBI:20857'>CHEBI:20857</a> (degree 2.00K), and containing 1.84K nodes, with a maximal depth of 1, which are <a href='https://www.ebi.ac.uk/chebi/searchId.do?chebiId=CHEBI:99485' target='_blank' title='Go to CHEBI to get more informations about CHEBI:99485'>CHEBI:99485</a>, <a href='https://www.ebi.ac.uk/chebi/searchId.do?chebiId=CHEBI:99487' target='_blank' title='Go to CHEBI to get more informations about CHEBI:99487'>CHEBI:99487</a>, <a href='https://www.ebi.ac.uk/chebi/searchId.do?chebiId=CHEBI:99472' target='_blank' title='Go to CHEBI to get more informations about CHEBI:99472'>CHEBI:99472</a>, <a href='https://www.ebi.ac.uk/chebi/searchId.do?chebiId=CHEBI:99406' target='_blank' title='Go to CHEBI to get more informations about CHEBI:99406'>CHEBI:99406</a> and <a href='https://www.ebi.ac.uk/chebi/searchId.do?chebiId=CHEBI:99443' target='_blank' title='Go to CHEBI to get more informations about CHEBI:99443'>CHEBI:99443</a>. Its nodes have a single node type, which is <a href='https://biolink.github.io/biolink-model/docs/ChemicalSubstance.html' target='_blank' title='Go to BioLink to get more informations about biolink:ChemicalSubstance'>biolink:ChemicalSubstance</a>. Its edges have a single edge type, which is <a href='https://biolink.github.io/biolink-model/docs/subclass_of.html' target='_blank' title='Go to BioLink to get more informations about biolink:subclass_of'>biolink:subclass_of</a>.</p></li></ol><p class=\"paragraph\">And other 3.50K dendritic stars.</p><h4 style=\"margin: 1em 0 0 0;\">Dendritic tendril stars</h4><p class=\"paragraph\">A dendritic tendril star is a dendritic tree with a depth greater than one, where the arms of the star are tendrils. We have detected 276 dendritic tendril stars in the graph, involving a total of 6.53K nodes (2.36%) and 6.53K edges (0.62%), with the largest one involving 1.85K nodes and 1.85K edges. The detected dendritic tendril stars, sorted by decreasing size, are:</p><ol class=\"large-columns\"><li><p class=\"paragraph\">Dendritic tendril star starting from the root node <a href='https://www.ebi.ac.uk/chebi/searchId.do?chebiId=CHEBI:50699' target='_blank' title='Go to CHEBI to get more informations about CHEBI:50699'>CHEBI:50699</a> (degree 1.91K), and containing 1.85K nodes, with a maximal depth of 2, which are <a href='https://www.ebi.ac.uk/chebi/searchId.do?chebiId=CHEBI:150794' target='_blank' title='Go to CHEBI to get more informations about CHEBI:150794'>CHEBI:150794</a>, <a href='https://www.ebi.ac.uk/chebi/searchId.do?chebiId=CHEBI:150795' target='_blank' title='Go to CHEBI to get more informations about CHEBI:150795'>CHEBI:150795</a>, <a href='https://www.ebi.ac.uk/chebi/searchId.do?chebiId=CHEBI:150788' target='_blank' title='Go to CHEBI to get more informations about CHEBI:150788'>CHEBI:150788</a>, <a href='https://www.ebi.ac.uk/chebi/searchId.do?chebiId=CHEBI:150768' target='_blank' title='Go to CHEBI to get more informations about CHEBI:150768'>CHEBI:150768</a> and <a href='https://www.ebi.ac.uk/chebi/searchId.do?chebiId=CHEBI:150769' target='_blank' title='Go to CHEBI to get more informations about CHEBI:150769'>CHEBI:150769</a>. Its nodes have a single node type, which is <a href='https://biolink.github.io/biolink-model/docs/ChemicalSubstance.html' target='_blank' title='Go to BioLink to get more informations about biolink:ChemicalSubstance'>biolink:ChemicalSubstance</a>. Its edges have a single edge type, which is <a href='https://biolink.github.io/biolink-model/docs/subclass_of.html' target='_blank' title='Go to BioLink to get more informations about biolink:subclass_of'>biolink:subclass_of</a>.</p></li>\n",
       "<li><p class=\"paragraph\">Dendritic tendril star starting from the root node <a href='https://www.ncbi.nlm.nih.gov/taxonomy/?term=1280' target='_blank' title='Go to NCBI Taxonomy to get more informations about NCBITaxon:1280'>NCBITaxon:1280</a> (degree 4.23K and node types <a href='https://biolink.github.io/biolink-model/docs/OrganismTaxon.html' target='_blank' title='Go to BioLink to get more informations about biolink:OrganismTaxon'>biolink:OrganismTaxon</a> and <a href='https://biolink.github.io/biolink-model/docs/OrganismalEntity.html' target='_blank' title='Go to BioLink to get more informations about biolink:OrganismalEntity'>biolink:OrganismalEntity</a>), and containing 1.17K nodes, with a maximal depth of 2, which are <a href='https://www.ncbi.nlm.nih.gov/taxonomy/?term=1074252' target='_blank' title='Go to NCBI Taxonomy to get more informations about NCBITaxon:1074252'>NCBITaxon:1074252</a> (node types <a href='https://biolink.github.io/biolink-model/docs/OrganismTaxon.html' target='_blank' title='Go to BioLink to get more informations about biolink:OrganismTaxon'>biolink:OrganismTaxon</a> and <a href='https://biolink.github.io/biolink-model/docs/OrganismalEntity.html' target='_blank' title='Go to BioLink to get more informations about biolink:OrganismalEntity'>biolink:OrganismalEntity</a>), <a href='https://www.ncbi.nlm.nih.gov/taxonomy/?term=1229492' target='_blank' title='Go to NCBI Taxonomy to get more informations about NCBITaxon:1229492'>NCBITaxon:1229492</a> (node types <a href='https://biolink.github.io/biolink-model/docs/OrganismTaxon.html' target='_blank' title='Go to BioLink to get more informations about biolink:OrganismTaxon'>biolink:OrganismTaxon</a> and <a href='https://biolink.github.io/biolink-model/docs/OrganismalEntity.html' target='_blank' title='Go to BioLink to get more informations about biolink:OrganismalEntity'>biolink:OrganismalEntity</a>), <a href='https://www.ncbi.nlm.nih.gov/taxonomy/?term=1074919' target='_blank' title='Go to NCBI Taxonomy to get more informations about NCBITaxon:1074919'>NCBITaxon:1074919</a> (node types <a href='https://biolink.github.io/biolink-model/docs/OrganismTaxon.html' target='_blank' title='Go to BioLink to get more informations about biolink:OrganismTaxon'>biolink:OrganismTaxon</a> and <a href='https://biolink.github.io/biolink-model/docs/OrganismalEntity.html' target='_blank' title='Go to BioLink to get more informations about biolink:OrganismalEntity'>biolink:OrganismalEntity</a>), <a href='https://www.ncbi.nlm.nih.gov/taxonomy/?term=1194085' target='_blank' title='Go to NCBI Taxonomy to get more informations about NCBITaxon:1194085'>NCBITaxon:1194085</a> (node types <a href='https://biolink.github.io/biolink-model/docs/OrganismTaxon.html' target='_blank' title='Go to BioLink to get more informations about biolink:OrganismTaxon'>biolink:OrganismTaxon</a> and <a href='https://biolink.github.io/biolink-model/docs/OrganismalEntity.html' target='_blank' title='Go to BioLink to get more informations about biolink:OrganismalEntity'>biolink:OrganismalEntity</a>) and <a href='https://www.ncbi.nlm.nih.gov/taxonomy/?term=1368166' target='_blank' title='Go to NCBI Taxonomy to get more informations about NCBITaxon:1368166'>NCBITaxon:1368166</a> (node types <a href='https://biolink.github.io/biolink-model/docs/OrganismTaxon.html' target='_blank' title='Go to BioLink to get more informations about biolink:OrganismTaxon'>biolink:OrganismTaxon</a> and <a href='https://biolink.github.io/biolink-model/docs/OrganismalEntity.html' target='_blank' title='Go to BioLink to get more informations about biolink:OrganismalEntity'>biolink:OrganismalEntity</a>). Its nodes have 2 node types, which are <a href='https://biolink.github.io/biolink-model/docs/OrganismalEntity.html' target='_blank' title='Go to BioLink to get more informations about biolink:OrganismalEntity'>biolink:OrganismalEntity</a> (1.17K nodes, 0.42%) and <a href='https://biolink.github.io/biolink-model/docs/OrganismTaxon.html' target='_blank' title='Go to BioLink to get more informations about biolink:OrganismTaxon'>biolink:OrganismTaxon</a> (1.17K nodes, 0.42%). Its edges have a single edge type, which is <a href='https://biolink.github.io/biolink-model/docs/subclass_of.html' target='_blank' title='Go to BioLink to get more informations about biolink:subclass_of'>biolink:subclass_of</a>.</p></li>\n",
       "<li><p class=\"paragraph\">Dendritic tendril star starting from the root node <a href='https://www.ebi.ac.uk/chebi/searchId.do?chebiId=CHEBI:18035' target='_blank' title='Go to CHEBI to get more informations about CHEBI:18035'>CHEBI:18035</a> (degree 390), and containing 346 nodes, with a maximal depth of 2, which are <a href='https://www.ebi.ac.uk/chebi/searchId.do?chebiId=CHEBI:90058' target='_blank' title='Go to CHEBI to get more informations about CHEBI:90058'>CHEBI:90058</a>, <a href='https://www.ebi.ac.uk/chebi/searchId.do?chebiId=CHEBI:90057' target='_blank' title='Go to CHEBI to get more informations about CHEBI:90057'>CHEBI:90057</a>, <a href='https://www.ebi.ac.uk/chebi/searchId.do?chebiId=CHEBI:90043' target='_blank' title='Go to CHEBI to get more informations about CHEBI:90043'>CHEBI:90043</a>, <a href='https://www.ebi.ac.uk/chebi/searchId.do?chebiId=CHEBI:90044' target='_blank' title='Go to CHEBI to get more informations about CHEBI:90044'>CHEBI:90044</a> and <a href='https://www.ebi.ac.uk/chebi/searchId.do?chebiId=CHEBI:90045' target='_blank' title='Go to CHEBI to get more informations about CHEBI:90045'>CHEBI:90045</a>. Its nodes have a single node type, which is <a href='https://biolink.github.io/biolink-model/docs/ChemicalSubstance.html' target='_blank' title='Go to BioLink to get more informations about biolink:ChemicalSubstance'>biolink:ChemicalSubstance</a>. Its edges have a single edge type, which is <a href='https://biolink.github.io/biolink-model/docs/subclass_of.html' target='_blank' title='Go to BioLink to get more informations about biolink:subclass_of'>biolink:subclass_of</a>.</p></li>\n",
       "<li><p class=\"paragraph\">Dendritic tendril star starting from the root node <a href='https://www.ebi.ac.uk/chebi/searchId.do?chebiId=CHEBI:22160' target='_blank' title='Go to CHEBI to get more informations about CHEBI:22160'>CHEBI:22160</a> (degree 757), and containing 273 nodes, with a maximal depth of 2, which are <a href='https://www.ebi.ac.uk/chebi/searchId.do?chebiId=CHEBI:9757' target='_blank' title='Go to CHEBI to get more informations about CHEBI:9757'>CHEBI:9757</a>, <a href='https://www.ebi.ac.uk/chebi/searchId.do?chebiId=CHEBI:106099' target='_blank' title='Go to CHEBI to get more informations about CHEBI:106099'>CHEBI:106099</a>, <a href='https://www.ebi.ac.uk/chebi/searchId.do?chebiId=CHEBI:106095' target='_blank' title='Go to CHEBI to get more informations about CHEBI:106095'>CHEBI:106095</a>, <a href='https://www.ebi.ac.uk/chebi/searchId.do?chebiId=CHEBI:106088' target='_blank' title='Go to CHEBI to get more informations about CHEBI:106088'>CHEBI:106088</a> and <a href='https://www.ebi.ac.uk/chebi/searchId.do?chebiId=CHEBI:131087' target='_blank' title='Go to CHEBI to get more informations about CHEBI:131087'>CHEBI:131087</a>. Its nodes have a single node type, which is <a href='https://biolink.github.io/biolink-model/docs/ChemicalSubstance.html' target='_blank' title='Go to BioLink to get more informations about biolink:ChemicalSubstance'>biolink:ChemicalSubstance</a>. Its edges have a single edge type, which is <a href='https://biolink.github.io/biolink-model/docs/subclass_of.html' target='_blank' title='Go to BioLink to get more informations about biolink:subclass_of'>biolink:subclass_of</a>.</p></li>\n",
       "<li><p class=\"paragraph\">Dendritic tendril star starting from the root node <a href='https://www.ebi.ac.uk/chebi/searchId.do?chebiId=CHEBI:22715' target='_blank' title='Go to CHEBI to get more informations about CHEBI:22715'>CHEBI:22715</a> (degree 350), and containing 265 nodes, with a maximal depth of 2, which are <a href='https://www.ebi.ac.uk/chebi/searchId.do?chebiId=CHEBI:106024' target='_blank' title='Go to CHEBI to get more informations about CHEBI:106024'>CHEBI:106024</a>, <a href='https://www.ebi.ac.uk/chebi/searchId.do?chebiId=CHEBI:131142' target='_blank' title='Go to CHEBI to get more informations about CHEBI:131142'>CHEBI:131142</a>, <a href='https://www.ebi.ac.uk/chebi/searchId.do?chebiId=CHEBI:131143' target='_blank' title='Go to CHEBI to get more informations about CHEBI:131143'>CHEBI:131143</a>, <a href='https://www.ebi.ac.uk/chebi/searchId.do?chebiId=CHEBI:131287' target='_blank' title='Go to CHEBI to get more informations about CHEBI:131287'>CHEBI:131287</a> and <a href='https://www.ebi.ac.uk/chebi/searchId.do?chebiId=CHEBI:131239' target='_blank' title='Go to CHEBI to get more informations about CHEBI:131239'>CHEBI:131239</a>. Its nodes have a single node type, which is <a href='https://biolink.github.io/biolink-model/docs/ChemicalSubstance.html' target='_blank' title='Go to BioLink to get more informations about biolink:ChemicalSubstance'>biolink:ChemicalSubstance</a>. Its edges have a single edge type, which is <a href='https://biolink.github.io/biolink-model/docs/subclass_of.html' target='_blank' title='Go to BioLink to get more informations about biolink:subclass_of'>biolink:subclass_of</a>.</p></li>\n",
       "<li><p class=\"paragraph\">Dendritic tendril star starting from the root node <a href='https://www.ebi.ac.uk/chebi/searchId.do?chebiId=CHEBI:64674' target='_blank' title='Go to CHEBI to get more informations about CHEBI:64674'>CHEBI:64674</a> (degree 312), and containing 246 nodes, with a maximal depth of 3, which are <a href='https://www.ebi.ac.uk/chebi/searchId.do?chebiId=CHEBI:170641' target='_blank' title='Go to CHEBI to get more informations about CHEBI:170641'>CHEBI:170641</a>, <a href='https://www.ebi.ac.uk/chebi/searchId.do?chebiId=CHEBI:170643' target='_blank' title='Go to CHEBI to get more informations about CHEBI:170643'>CHEBI:170643</a>, <a href='https://www.ebi.ac.uk/chebi/searchId.do?chebiId=CHEBI:170645' target='_blank' title='Go to CHEBI to get more informations about CHEBI:170645'>CHEBI:170645</a>, <a href='https://www.ebi.ac.uk/chebi/searchId.do?chebiId=CHEBI:170647' target='_blank' title='Go to CHEBI to get more informations about CHEBI:170647'>CHEBI:170647</a> and <a href='https://www.ebi.ac.uk/chebi/searchId.do?chebiId=CHEBI:170649' target='_blank' title='Go to CHEBI to get more informations about CHEBI:170649'>CHEBI:170649</a>. Its nodes have a single node type, which is <a href='https://biolink.github.io/biolink-model/docs/ChemicalSubstance.html' target='_blank' title='Go to BioLink to get more informations about biolink:ChemicalSubstance'>biolink:ChemicalSubstance</a>. Its edges have a single edge type, which is <a href='https://biolink.github.io/biolink-model/docs/subclass_of.html' target='_blank' title='Go to BioLink to get more informations about biolink:subclass_of'>biolink:subclass_of</a>.</p></li></ol><p class=\"paragraph\">And other 270 dendritic tendril stars.</p><h4 style=\"margin: 1em 0 0 0;\">Free-floating chains</h4><p class=\"paragraph\">A free-floating chain is a tree with maximal degree two. We have detected  a single free-floating chain in the graph, involving a total of 4 nodes and 3 edges.</p><ul class=\"large-columns\"><li><p class=\"paragraph\">Free-floating chain starting from the root node <a href='http://purl.obolibrary.org/obo/RO_0002314' target='_blank' title='Go to Relation Ontology to get more informations about RO:0002314'>RO:0002314</a> (degree 2), and containing 4 nodes, with a maximal depth of 2, which are <a href='http://purl.obolibrary.org/obo/RO_0002502' target='_blank' title='Go to Relation Ontology to get more informations about RO:0002502'>RO:0002502</a>, <a href='http://purl.obolibrary.org/obo/RO_0000052' target='_blank' title='Go to Relation Ontology to get more informations about RO:0000052'>RO:0000052</a> and <a href='http://purl.obolibrary.org/obo/RO_0002503' target='_blank' title='Go to Relation Ontology to get more informations about RO:0002503'>RO:0002503</a>. Its nodes have a single node type, which is <a href='https://biolink.github.io/biolink-model/docs/OntologyClass.html' target='_blank' title='Go to BioLink to get more informations about biolink:OntologyClass'>biolink:OntologyClass</a>. Its edges have a single edge type, which is <a href='https://biolink.github.io/biolink-model/docs/subPropertyOf.html' target='_blank' title='Go to BioLink to get more informations about biolink:subPropertyOf'>biolink:subPropertyOf</a>.</p></li></ul><h4 style=\"margin: 1em 0 0 0;\">Tendrils</h4><p class=\"paragraph\">A tendril is a path starting from a node of degree one, connected to a strongly connected component. We have detected 4.34K tendrils in the graph, involving a total of 4.79K nodes (1.73%) and 4.79K edges (0.46%), with the largest one involving 9 nodes and 9 edges. The detected tendrils, sorted by decreasing size, are:</p><ol class=\"large-columns\"><li><p class=\"paragraph\">Tendril starting from the root node <a href='https://www.ncbi.nlm.nih.gov/taxonomy/?term=32524' target='_blank' title='Go to NCBI Taxonomy to get more informations about NCBITaxon:32524'>NCBITaxon:32524</a> (degree 3), and containing 9 nodes, with a maximal depth of 9, which are <a href='https://www.ncbi.nlm.nih.gov/taxonomy/?term=8457' target='_blank' title='Go to NCBI Taxonomy to get more informations about NCBITaxon:8457'>NCBITaxon:8457</a>, <a href='https://www.ncbi.nlm.nih.gov/taxonomy/?term=32561' target='_blank' title='Go to NCBI Taxonomy to get more informations about NCBITaxon:32561'>NCBITaxon:32561</a>, <a href='https://www.ncbi.nlm.nih.gov/taxonomy/?term=1329799' target='_blank' title='Go to NCBI Taxonomy to get more informations about NCBITaxon:1329799'>NCBITaxon:1329799</a>, <a href='https://www.ncbi.nlm.nih.gov/taxonomy/?term=8492' target='_blank' title='Go to NCBI Taxonomy to get more informations about NCBITaxon:8492'>NCBITaxon:8492</a> and <a href='https://www.ncbi.nlm.nih.gov/taxonomy/?term=436486' target='_blank' title='Go to NCBI Taxonomy to get more informations about NCBITaxon:436486'>NCBITaxon:436486</a>. Its nodes have a single node type, which is <a href='https://biolink.github.io/biolink-model/docs/OrganismalEntity.html' target='_blank' title='Go to BioLink to get more informations about biolink:OrganismalEntity'>biolink:OrganismalEntity</a>. Its edges have a single edge type, which is <a href='https://biolink.github.io/biolink-model/docs/subclass_of.html' target='_blank' title='Go to BioLink to get more informations about biolink:subclass_of'>biolink:subclass_of</a>.</p></li>\n",
       "<li><p class=\"paragraph\">Tendril starting from the root node <a href='https://www.ncbi.nlm.nih.gov/taxonomy/?term=142182' target='_blank' title='Go to NCBI Taxonomy to get more informations about NCBITaxon:142182'>NCBITaxon:142182</a> (degree 3 and node type <a href='https://biolink.github.io/biolink-model/docs/OrganismalEntity.html' target='_blank' title='Go to BioLink to get more informations about biolink:OrganismalEntity'>biolink:OrganismalEntity</a>), and containing 5 nodes, with a maximal depth of 5, which are <a href='https://www.ncbi.nlm.nih.gov/taxonomy/?term=1804991' target='_blank' title='Go to NCBI Taxonomy to get more informations about NCBITaxon:1804991'>NCBITaxon:1804991</a> (node type <a href='https://biolink.github.io/biolink-model/docs/OrganismalEntity.html' target='_blank' title='Go to BioLink to get more informations about biolink:OrganismalEntity'>biolink:OrganismalEntity</a>), <a href='https://www.ncbi.nlm.nih.gov/taxonomy/?term=1804992' target='_blank' title='Go to NCBI Taxonomy to get more informations about NCBITaxon:1804992'>NCBITaxon:1804992</a> (node type <a href='https://biolink.github.io/biolink-model/docs/OrganismalEntity.html' target='_blank' title='Go to BioLink to get more informations about biolink:OrganismalEntity'>biolink:OrganismalEntity</a>), <a href='https://www.ncbi.nlm.nih.gov/taxonomy/?term=1804993' target='_blank' title='Go to NCBI Taxonomy to get more informations about NCBITaxon:1804993'>NCBITaxon:1804993</a> (node type <a href='https://biolink.github.io/biolink-model/docs/OrganismalEntity.html' target='_blank' title='Go to BioLink to get more informations about biolink:OrganismalEntity'>biolink:OrganismalEntity</a>), <a href='https://www.ncbi.nlm.nih.gov/taxonomy/?term=1804994' target='_blank' title='Go to NCBI Taxonomy to get more informations about NCBITaxon:1804994'>NCBITaxon:1804994</a> (node type <a href='https://biolink.github.io/biolink-model/docs/OrganismalEntity.html' target='_blank' title='Go to BioLink to get more informations about biolink:OrganismalEntity'>biolink:OrganismalEntity</a>) and <a href='https://www.ncbi.nlm.nih.gov/taxonomy/?term=1639882' target='_blank' title='Go to NCBI Taxonomy to get more informations about NCBITaxon:1639882'>NCBITaxon:1639882</a> (node types <a href='https://biolink.github.io/biolink-model/docs/OrganismTaxon.html' target='_blank' title='Go to BioLink to get more informations about biolink:OrganismTaxon'>biolink:OrganismTaxon</a> and <a href='https://biolink.github.io/biolink-model/docs/OrganismalEntity.html' target='_blank' title='Go to BioLink to get more informations about biolink:OrganismalEntity'>biolink:OrganismalEntity</a>). Its nodes have 2 node types, which are <a href='https://biolink.github.io/biolink-model/docs/OrganismalEntity.html' target='_blank' title='Go to BioLink to get more informations about biolink:OrganismalEntity'>biolink:OrganismalEntity</a> (5 nodes) and <a href='https://biolink.github.io/biolink-model/docs/OrganismTaxon.html' target='_blank' title='Go to BioLink to get more informations about biolink:OrganismTaxon'>biolink:OrganismTaxon</a>. Its edges have a single edge type, which is <a href='https://biolink.github.io/biolink-model/docs/subclass_of.html' target='_blank' title='Go to BioLink to get more informations about biolink:subclass_of'>biolink:subclass_of</a>.</p></li>\n",
       "<li><p class=\"paragraph\">Tendril starting from the root node <a href='http://purl.obolibrary.org/obo/RO_0002324' target='_blank' title='Go to Relation Ontology to get more informations about RO:0002324'>RO:0002324</a> (degree 3), and containing 5 nodes, with a maximal depth of 5, which are <a href='http://purl.obolibrary.org/obo/RO_0002295' target='_blank' title='Go to Relation Ontology to get more informations about RO:0002295'>RO:0002295</a>, <a href='http://purl.obolibrary.org/obo/RO_0002297' target='_blank' title='Go to Relation Ontology to get more informations about RO:0002297'>RO:0002297</a>, <a href='http://purl.obolibrary.org/obo/RO_0002234' target='_blank' title='Go to Relation Ontology to get more informations about RO:0002234'>RO:0002234</a>, <a href='http://purl.obolibrary.org/obo/RO_0000057' target='_blank' title='Go to Relation Ontology to get more informations about RO:0000057'>RO:0000057</a> and <a href='http://purl.obolibrary.org/obo/RO_0002233' target='_blank' title='Go to Relation Ontology to get more informations about RO:0002233'>RO:0002233</a>. Its nodes have a single node type, which is <a href='https://biolink.github.io/biolink-model/docs/OntologyClass.html' target='_blank' title='Go to BioLink to get more informations about biolink:OntologyClass'>biolink:OntologyClass</a>. Its edges have a single edge type, which is <a href='https://biolink.github.io/biolink-model/docs/subPropertyOf.html' target='_blank' title='Go to BioLink to get more informations about biolink:subPropertyOf'>biolink:subPropertyOf</a>.</p></li>\n",
       "<li><p class=\"paragraph\">Tendril starting from the root node <a href='http://purl.obolibrary.org/obo/ENVO_2100000' target='_blank' title='Go to Environment Ontology to get more informations about ENVO:2100000'>ENVO:2100000</a> (degree 12), and containing 5 nodes, with a maximal depth of 5, which are <a href='http://purl.obolibrary.org/obo/ENVO_01000929' target='_blank' title='Go to Environment Ontology to get more informations about ENVO:01000929'>ENVO:01000929</a>, <a href='http://purl.obolibrary.org/obo/FOODON_00001287' target='_blank' title='Go to FOODON to get more informations about FOODON:00001287'>FOODON:00001287</a>, <a href='http://purl.obolibrary.org/obo/FOODON_03412035' target='_blank' title='Go to FOODON to get more informations about FOODON:03412035'>FOODON:03412035</a>, <a href='http://purl.obolibrary.org/obo/FOODON_03411261' target='_blank' title='Go to FOODON to get more informations about FOODON:03411261'>FOODON:03411261</a> and <a href='http://purl.obolibrary.org/obo/FOODON_03411564' target='_blank' title='Go to FOODON to get more informations about FOODON:03411564'>FOODON:03411564</a>. Its nodes have a single node type, which is <a href='https://biolink.github.io/biolink-model/docs/OntologyClass.html' target='_blank' title='Go to BioLink to get more informations about biolink:OntologyClass'>biolink:OntologyClass</a>. Its edges have 2 edge types, which are <a href='https://biolink.github.io/biolink-model/docs/subclass_of.html' target='_blank' title='Go to BioLink to get more informations about biolink:subclass_of'>biolink:subclass_of</a> (7 edges) and <a href='https://biolink.github.io/biolink-model/docs/causes.html' target='_blank' title='Go to BioLink to get more informations about biolink:causes'>biolink:causes</a> (2 edges).</p></li>\n",
       "<li><p class=\"paragraph\">Tendril starting from the root node <a href='https://www.ncbi.nlm.nih.gov/taxonomy/?term=65842' target='_blank' title='Go to NCBI Taxonomy to get more informations about NCBITaxon:65842'>NCBITaxon:65842</a> (degree 4 and node type <a href='https://biolink.github.io/biolink-model/docs/OrganismalEntity.html' target='_blank' title='Go to BioLink to get more informations about biolink:OrganismalEntity'>biolink:OrganismalEntity</a>), and containing 5 nodes, with a maximal depth of 5, which are <a href='https://www.ncbi.nlm.nih.gov/taxonomy/?term=1860136' target='_blank' title='Go to NCBI Taxonomy to get more informations about NCBITaxon:1860136'>NCBITaxon:1860136</a> (node type <a href='https://biolink.github.io/biolink-model/docs/OrganismalEntity.html' target='_blank' title='Go to BioLink to get more informations about biolink:OrganismalEntity'>biolink:OrganismalEntity</a>), <a href='https://www.ncbi.nlm.nih.gov/taxonomy/?term=1860137' target='_blank' title='Go to NCBI Taxonomy to get more informations about NCBITaxon:1860137'>NCBITaxon:1860137</a> (node type <a href='https://biolink.github.io/biolink-model/docs/OrganismalEntity.html' target='_blank' title='Go to BioLink to get more informations about biolink:OrganismalEntity'>biolink:OrganismalEntity</a>), <a href='https://www.ncbi.nlm.nih.gov/taxonomy/?term=1860138' target='_blank' title='Go to NCBI Taxonomy to get more informations about NCBITaxon:1860138'>NCBITaxon:1860138</a> (node type <a href='https://biolink.github.io/biolink-model/docs/OrganismalEntity.html' target='_blank' title='Go to BioLink to get more informations about biolink:OrganismalEntity'>biolink:OrganismalEntity</a>), <a href='https://www.ncbi.nlm.nih.gov/taxonomy/?term=1860139' target='_blank' title='Go to NCBI Taxonomy to get more informations about NCBITaxon:1860139'>NCBITaxon:1860139</a> (node type <a href='https://biolink.github.io/biolink-model/docs/OrganismalEntity.html' target='_blank' title='Go to BioLink to get more informations about biolink:OrganismalEntity'>biolink:OrganismalEntity</a>) and <a href='https://www.ncbi.nlm.nih.gov/taxonomy/?term=1008392' target='_blank' title='Go to NCBI Taxonomy to get more informations about NCBITaxon:1008392'>NCBITaxon:1008392</a> (node types <a href='https://biolink.github.io/biolink-model/docs/OrganismTaxon.html' target='_blank' title='Go to BioLink to get more informations about biolink:OrganismTaxon'>biolink:OrganismTaxon</a> and <a href='https://biolink.github.io/biolink-model/docs/OrganismalEntity.html' target='_blank' title='Go to BioLink to get more informations about biolink:OrganismalEntity'>biolink:OrganismalEntity</a>). Its nodes have 2 node types, which are <a href='https://biolink.github.io/biolink-model/docs/OrganismalEntity.html' target='_blank' title='Go to BioLink to get more informations about biolink:OrganismalEntity'>biolink:OrganismalEntity</a> (5 nodes) and <a href='https://biolink.github.io/biolink-model/docs/OrganismTaxon.html' target='_blank' title='Go to BioLink to get more informations about biolink:OrganismTaxon'>biolink:OrganismTaxon</a>. Its edges have a single edge type, which is <a href='https://biolink.github.io/biolink-model/docs/subclass_of.html' target='_blank' title='Go to BioLink to get more informations about biolink:subclass_of'>biolink:subclass_of</a>.</p></li>\n",
       "<li><p class=\"paragraph\">Tendril starting from the root node <a href='https://www.ncbi.nlm.nih.gov/taxonomy/?term=203692' target='_blank' title='Go to NCBI Taxonomy to get more informations about NCBITaxon:203692'>NCBITaxon:203692</a> (degree 5 and node type <a href='https://biolink.github.io/biolink-model/docs/OrganismalEntity.html' target='_blank' title='Go to BioLink to get more informations about biolink:OrganismalEntity'>biolink:OrganismalEntity</a>), and containing 4 nodes, with a maximal depth of 4, which are <a href='https://www.ncbi.nlm.nih.gov/taxonomy/?term=1643687' target='_blank' title='Go to NCBI Taxonomy to get more informations about NCBITaxon:1643687'>NCBITaxon:1643687</a> (node type <a href='https://biolink.github.io/biolink-model/docs/OrganismalEntity.html' target='_blank' title='Go to BioLink to get more informations about biolink:OrganismalEntity'>biolink:OrganismalEntity</a>), <a href='https://www.ncbi.nlm.nih.gov/taxonomy/?term=1100104' target='_blank' title='Go to NCBI Taxonomy to get more informations about NCBITaxon:1100104'>NCBITaxon:1100104</a> (node type <a href='https://biolink.github.io/biolink-model/docs/OrganismalEntity.html' target='_blank' title='Go to BioLink to get more informations about biolink:OrganismalEntity'>biolink:OrganismalEntity</a>), <a href='https://www.ncbi.nlm.nih.gov/taxonomy/?term=34096' target='_blank' title='Go to NCBI Taxonomy to get more informations about NCBITaxon:34096'>NCBITaxon:34096</a> (node type <a href='https://biolink.github.io/biolink-model/docs/OrganismalEntity.html' target='_blank' title='Go to BioLink to get more informations about biolink:OrganismalEntity'>biolink:OrganismalEntity</a>) and <a href='https://www.ncbi.nlm.nih.gov/taxonomy/?term=34097' target='_blank' title='Go to NCBI Taxonomy to get more informations about NCBITaxon:34097'>NCBITaxon:34097</a> (node types <a href='https://biolink.github.io/biolink-model/docs/OrganismTaxon.html' target='_blank' title='Go to BioLink to get more informations about biolink:OrganismTaxon'>biolink:OrganismTaxon</a> and <a href='https://biolink.github.io/biolink-model/docs/OrganismalEntity.html' target='_blank' title='Go to BioLink to get more informations about biolink:OrganismalEntity'>biolink:OrganismalEntity</a>). Its nodes have 2 node types, which are <a href='https://biolink.github.io/biolink-model/docs/OrganismalEntity.html' target='_blank' title='Go to BioLink to get more informations about biolink:OrganismalEntity'>biolink:OrganismalEntity</a> (4 nodes) and <a href='https://biolink.github.io/biolink-model/docs/OrganismTaxon.html' target='_blank' title='Go to BioLink to get more informations about biolink:OrganismTaxon'>biolink:OrganismTaxon</a>. Its edges have a single edge type, which is <a href='https://biolink.github.io/biolink-model/docs/subclass_of.html' target='_blank' title='Go to BioLink to get more informations about biolink:subclass_of'>biolink:subclass_of</a>.</p></li></ol><p class=\"paragraph\">And other 4.34K tendrils.</p></div>"
      ]
     },
     "execution_count": 11,
     "metadata": {},
     "output_type": "execute_result"
    }
   ],
   "source": [
    "dataset_generator()"
   ]
  }
 ],
 "metadata": {
  "colab": {
   "authorship_tag": "ABX9TyMpxb1GNKXXUN16/BsdMTw8",
   "collapsed_sections": [],
   "include_colab_link": true,
   "name": "Ensmallen Automatic graph retrieval utilities.ipynb",
   "provenance": []
  },
  "kernelspec": {
   "display_name": "Python 3 (ipykernel)",
   "language": "python",
   "name": "python3"
  },
  "language_info": {
   "codemirror_mode": {
    "name": "ipython",
    "version": 3
   },
   "file_extension": ".py",
   "mimetype": "text/x-python",
   "name": "python",
   "nbconvert_exporter": "python",
   "pygments_lexer": "ipython3",
   "version": "3.7.13"
  },
  "widgets": {
   "application/vnd.jupyter.widget-state+json": {
    "0305be6481e24f1d99c089b598aabcd3": {
     "model_module": "@jupyter-widgets/controls",
     "model_module_version": "1.5.0",
     "model_name": "HTMLModel",
     "state": {
      "_dom_classes": [],
      "_model_module": "@jupyter-widgets/controls",
      "_model_module_version": "1.5.0",
      "_model_name": "HTMLModel",
      "_view_count": null,
      "_view_module": "@jupyter-widgets/controls",
      "_view_module_version": "1.5.0",
      "_view_name": "HTMLView",
      "description": "",
      "description_tooltip": null,
      "layout": "IPY_MODEL_801c2661978c407fa0903d545542c06e",
      "placeholder": "​",
      "style": "IPY_MODEL_c514e0ca09504d4e97c6ce01b8bf61c1",
      "value": " 22.5M/30.9M [00:00&lt;00:00, 64.7MiB/s]"
     }
    },
    "1f8ad57092724a5796795d462b7d48fc": {
     "model_module": "@jupyter-widgets/controls",
     "model_module_version": "1.5.0",
     "model_name": "FloatProgressModel",
     "state": {
      "_dom_classes": [],
      "_model_module": "@jupyter-widgets/controls",
      "_model_module_version": "1.5.0",
      "_model_name": "FloatProgressModel",
      "_view_count": null,
      "_view_module": "@jupyter-widgets/controls",
      "_view_module_version": "1.5.0",
      "_view_name": "ProgressView",
      "bar_style": "",
      "description": "",
      "description_tooltip": null,
      "layout": "IPY_MODEL_3549dbcd3e6d4aeb98ca388e7936e4c9",
      "max": 30924348,
      "min": 0,
      "orientation": "horizontal",
      "style": "IPY_MODEL_4c718162b5a24473aa0ac8e63be65e06",
      "value": 30924348
     }
    },
    "3549dbcd3e6d4aeb98ca388e7936e4c9": {
     "model_module": "@jupyter-widgets/base",
     "model_module_version": "1.2.0",
     "model_name": "LayoutModel",
     "state": {
      "_model_module": "@jupyter-widgets/base",
      "_model_module_version": "1.2.0",
      "_model_name": "LayoutModel",
      "_view_count": null,
      "_view_module": "@jupyter-widgets/base",
      "_view_module_version": "1.2.0",
      "_view_name": "LayoutView",
      "align_content": null,
      "align_items": null,
      "align_self": null,
      "border": null,
      "bottom": null,
      "display": null,
      "flex": "2",
      "flex_flow": null,
      "grid_area": null,
      "grid_auto_columns": null,
      "grid_auto_flow": null,
      "grid_auto_rows": null,
      "grid_column": null,
      "grid_gap": null,
      "grid_row": null,
      "grid_template_areas": null,
      "grid_template_columns": null,
      "grid_template_rows": null,
      "height": null,
      "justify_content": null,
      "justify_items": null,
      "left": null,
      "margin": null,
      "max_height": null,
      "max_width": null,
      "min_height": null,
      "min_width": null,
      "object_fit": null,
      "object_position": null,
      "order": null,
      "overflow": null,
      "overflow_x": null,
      "overflow_y": null,
      "padding": null,
      "right": null,
      "top": null,
      "visibility": null,
      "width": null
     }
    },
    "4c718162b5a24473aa0ac8e63be65e06": {
     "model_module": "@jupyter-widgets/controls",
     "model_module_version": "1.5.0",
     "model_name": "ProgressStyleModel",
     "state": {
      "_model_module": "@jupyter-widgets/controls",
      "_model_module_version": "1.5.0",
      "_model_name": "ProgressStyleModel",
      "_view_count": null,
      "_view_module": "@jupyter-widgets/base",
      "_view_module_version": "1.2.0",
      "_view_name": "StyleView",
      "bar_color": null,
      "description_width": ""
     }
    },
    "7e7a19f03d7a43379b88722d8e24e681": {
     "model_module": "@jupyter-widgets/controls",
     "model_module_version": "1.5.0",
     "model_name": "HTMLModel",
     "state": {
      "_dom_classes": [],
      "_model_module": "@jupyter-widgets/controls",
      "_model_module_version": "1.5.0",
      "_model_name": "HTMLModel",
      "_view_count": null,
      "_view_module": "@jupyter-widgets/controls",
      "_view_module_version": "1.5.0",
      "_view_name": "HTMLView",
      "description": "",
      "description_tooltip": null,
      "layout": "IPY_MODEL_cf9f71da697243f59a72b8542f5b5500",
      "placeholder": "​",
      "style": "IPY_MODEL_daae9bc0958549aeb56f48b9f1e08c63",
      "value": "Downloading to graphs/kghub/KGM...kg-microbe.tar.gz:  73%"
     }
    },
    "801c2661978c407fa0903d545542c06e": {
     "model_module": "@jupyter-widgets/base",
     "model_module_version": "1.2.0",
     "model_name": "LayoutModel",
     "state": {
      "_model_module": "@jupyter-widgets/base",
      "_model_module_version": "1.2.0",
      "_model_name": "LayoutModel",
      "_view_count": null,
      "_view_module": "@jupyter-widgets/base",
      "_view_module_version": "1.2.0",
      "_view_name": "LayoutView",
      "align_content": null,
      "align_items": null,
      "align_self": null,
      "border": null,
      "bottom": null,
      "display": null,
      "flex": null,
      "flex_flow": null,
      "grid_area": null,
      "grid_auto_columns": null,
      "grid_auto_flow": null,
      "grid_auto_rows": null,
      "grid_column": null,
      "grid_gap": null,
      "grid_row": null,
      "grid_template_areas": null,
      "grid_template_columns": null,
      "grid_template_rows": null,
      "height": null,
      "justify_content": null,
      "justify_items": null,
      "left": null,
      "margin": null,
      "max_height": null,
      "max_width": null,
      "min_height": null,
      "min_width": null,
      "object_fit": null,
      "object_position": null,
      "order": null,
      "overflow": null,
      "overflow_x": null,
      "overflow_y": null,
      "padding": null,
      "right": null,
      "top": null,
      "visibility": null,
      "width": null
     }
    },
    "bd990efc82524b3db6a45f173c528018": {
     "model_module": "@jupyter-widgets/base",
     "model_module_version": "1.2.0",
     "model_name": "LayoutModel",
     "state": {
      "_model_module": "@jupyter-widgets/base",
      "_model_module_version": "1.2.0",
      "_model_name": "LayoutModel",
      "_view_count": null,
      "_view_module": "@jupyter-widgets/base",
      "_view_module_version": "1.2.0",
      "_view_name": "LayoutView",
      "align_content": null,
      "align_items": null,
      "align_self": null,
      "border": null,
      "bottom": null,
      "display": "inline-flex",
      "flex": null,
      "flex_flow": "row wrap",
      "grid_area": null,
      "grid_auto_columns": null,
      "grid_auto_flow": null,
      "grid_auto_rows": null,
      "grid_column": null,
      "grid_gap": null,
      "grid_row": null,
      "grid_template_areas": null,
      "grid_template_columns": null,
      "grid_template_rows": null,
      "height": null,
      "justify_content": null,
      "justify_items": null,
      "left": null,
      "margin": null,
      "max_height": null,
      "max_width": null,
      "min_height": null,
      "min_width": null,
      "object_fit": null,
      "object_position": null,
      "order": null,
      "overflow": null,
      "overflow_x": null,
      "overflow_y": null,
      "padding": null,
      "right": null,
      "top": null,
      "visibility": null,
      "width": "100%"
     }
    },
    "c514e0ca09504d4e97c6ce01b8bf61c1": {
     "model_module": "@jupyter-widgets/controls",
     "model_module_version": "1.5.0",
     "model_name": "DescriptionStyleModel",
     "state": {
      "_model_module": "@jupyter-widgets/controls",
      "_model_module_version": "1.5.0",
      "_model_name": "DescriptionStyleModel",
      "_view_count": null,
      "_view_module": "@jupyter-widgets/base",
      "_view_module_version": "1.2.0",
      "_view_name": "StyleView",
      "description_width": ""
     }
    },
    "cf9f71da697243f59a72b8542f5b5500": {
     "model_module": "@jupyter-widgets/base",
     "model_module_version": "1.2.0",
     "model_name": "LayoutModel",
     "state": {
      "_model_module": "@jupyter-widgets/base",
      "_model_module_version": "1.2.0",
      "_model_name": "LayoutModel",
      "_view_count": null,
      "_view_module": "@jupyter-widgets/base",
      "_view_module_version": "1.2.0",
      "_view_name": "LayoutView",
      "align_content": null,
      "align_items": null,
      "align_self": null,
      "border": null,
      "bottom": null,
      "display": null,
      "flex": null,
      "flex_flow": null,
      "grid_area": null,
      "grid_auto_columns": null,
      "grid_auto_flow": null,
      "grid_auto_rows": null,
      "grid_column": null,
      "grid_gap": null,
      "grid_row": null,
      "grid_template_areas": null,
      "grid_template_columns": null,
      "grid_template_rows": null,
      "height": null,
      "justify_content": null,
      "justify_items": null,
      "left": null,
      "margin": null,
      "max_height": null,
      "max_width": null,
      "min_height": null,
      "min_width": null,
      "object_fit": null,
      "object_position": null,
      "order": null,
      "overflow": null,
      "overflow_x": null,
      "overflow_y": null,
      "padding": null,
      "right": null,
      "top": null,
      "visibility": null,
      "width": null
     }
    },
    "daae9bc0958549aeb56f48b9f1e08c63": {
     "model_module": "@jupyter-widgets/controls",
     "model_module_version": "1.5.0",
     "model_name": "DescriptionStyleModel",
     "state": {
      "_model_module": "@jupyter-widgets/controls",
      "_model_module_version": "1.5.0",
      "_model_name": "DescriptionStyleModel",
      "_view_count": null,
      "_view_module": "@jupyter-widgets/base",
      "_view_module_version": "1.2.0",
      "_view_name": "StyleView",
      "description_width": ""
     }
    },
    "e1d6c375dc8b4016a6210452d2f29f76": {
     "model_module": "@jupyter-widgets/controls",
     "model_module_version": "1.5.0",
     "model_name": "HBoxModel",
     "state": {
      "_dom_classes": [],
      "_model_module": "@jupyter-widgets/controls",
      "_model_module_version": "1.5.0",
      "_model_name": "HBoxModel",
      "_view_count": null,
      "_view_module": "@jupyter-widgets/controls",
      "_view_module_version": "1.5.0",
      "_view_name": "HBoxView",
      "box_style": "",
      "children": [
       "IPY_MODEL_7e7a19f03d7a43379b88722d8e24e681",
       "IPY_MODEL_1f8ad57092724a5796795d462b7d48fc",
       "IPY_MODEL_0305be6481e24f1d99c089b598aabcd3"
      ],
      "layout": "IPY_MODEL_bd990efc82524b3db6a45f173c528018"
     }
    }
   }
  }
 },
 "nbformat": 4,
 "nbformat_minor": 1
}
