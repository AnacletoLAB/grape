{
  "nbformat": 4,
  "nbformat_minor": 0,
  "metadata": {
    "colab": {
      "name": "First and Second order random walks.ipynb",
      "provenance": [],
      "collapsed_sections": [],
      "authorship_tag": "ABX9TyOsxgemwK6yqid2TjPlnL/z",
      "include_colab_link": true
    },
    "kernelspec": {
      "name": "python3",
      "display_name": "Python 3"
    },
    "language_info": {
      "name": "python"
    }
  },
  "cells": [
    {
      "cell_type": "markdown",
      "metadata": {
        "id": "view-in-github",
        "colab_type": "text"
      },
      "source": [
        "<a href=\"https://colab.research.google.com/github/AnacletoLAB/grape/blob/main/tutorials/First_and_Second_order_random_walks.ipynb\" target=\"_parent\"><img src=\"https://colab.research.google.com/assets/colab-badge.svg\" alt=\"Open In Colab\"/></a>"
      ]
    },
    {
      "cell_type": "markdown",
      "metadata": {
        "id": "GAvRCwHvPmZB"
      },
      "source": [
        "# First and Second order random walks\n",
        "First and second order random walks are a node-sampling mechanism that can be employed in a large number of algorithms. In this notebook we will shortly show how to use Ensmallen to sample a large number of random walks from big graphs.\n",
        "\n",
        "To install the GraPE library run:\n",
        "\n",
        "```bash\n",
        "pip install grape\n",
        "```\n",
        "\n",
        "To install the Ensmallen module exclusively, which may be useful when the TensorFlow dependency causes problems, do run:\n",
        "\n",
        "```bash\n",
        "pip install ensmallen\n",
        "```"
      ]
    },
    {
      "cell_type": "code",
      "metadata": {
        "id": "x7TwFT1ONUsD"
      },
      "source": [
        "! pip install -q ensmallen"
      ],
      "execution_count": 1,
      "outputs": []
    },
    {
      "cell_type": "markdown",
      "metadata": {
        "id": "3_KDm0S2QzZC"
      },
      "source": [
        "## Retrieving a graph to run the sampling on\n",
        "In this tutorial we will run samples on one of the graph from the ones available from the automatic graph retrieval of Ensmallen, namely the [Homo Sapiens graph from STRING](https://string-db.org/cgi/organisms). If you want to load a graph from an edge list, just follow the examples provided from the Loading a Graph in Ensmallen tutorial."
      ]
    },
    {
      "cell_type": "code",
      "metadata": {
        "id": "XlKebPnuPl_9"
      },
      "source": [
        "from ensmallen.datasets.string import HomoSapiens"
      ],
      "execution_count": 2,
      "outputs": []
    },
    {
      "cell_type": "markdown",
      "metadata": {
        "id": "RmaGiUdiTXGi"
      },
      "source": [
        "Retrieving and loading the graph"
      ]
    },
    {
      "cell_type": "code",
      "metadata": {
        "id": "KyHWRM2-Qt4a"
      },
      "source": [
        "graph = HomoSapiens()\n",
        "# We also create a version of the graph without edge weights\n",
        "unweighted_graph = graph.remove_edge_weights()"
      ],
      "execution_count": 3,
      "outputs": []
    },
    {
      "cell_type": "markdown",
      "metadata": {
        "id": "EwwsOM9TTa6W"
      },
      "source": [
        "We compute the graph report:"
      ]
    },
    {
      "cell_type": "code",
      "metadata": {
        "colab": {
          "base_uri": "https://localhost:8080/",
          "height": 600
        },
        "id": "hwA3vzg4SDpi",
        "outputId": "4390d5e4-c787-490b-b2f1-0400e9f5177b"
      },
      "source": [
        "graph"
      ],
      "execution_count": 4,
      "outputs": [
        {
          "output_type": "execute_result",
          "data": {
            "text/html": [
              "<h2>HomoSapiens</h2><p>The undirected graph HomoSapiens has 19566 nodes and 5969249 edges.</p><h3>RAM requirements</h3><p>The RAM requirements for the nodes and edges data structures are 5.21MB and 11.71MB respectively.</p><h3>Degree centrality</h3><p>The minimum node degree is 0, the maximum node degree is 7507, the mode degree is 0, the mean degree is 610.17 and the node degree median is 485.</p><p>The nodes with highest degree centrality are: <a href='https://string-db.org/network/9606.ENSP00000229239' target='_blank' title='Go to STRING Homo sapiens to get more informations about 9606.ENSP00000229239'>9606.ENSP00000229239</a> (degree 7507 and weighted degree 7507), <a href='https://string-db.org/network/9606.ENSP00000349960' target='_blank' title='Go to STRING Homo sapiens to get more informations about 9606.ENSP00000349960'>9606.ENSP00000349960</a> (degree 6940 and weighted degree 6940), <a href='https://string-db.org/network/9606.ENSP00000451828' target='_blank' title='Go to STRING Homo sapiens to get more informations about 9606.ENSP00000451828'>9606.ENSP00000451828</a> (degree 5918 and weighted degree 5918), <a href='https://string-db.org/network/9606.ENSP00000298910' target='_blank' title='Go to STRING Homo sapiens to get more informations about 9606.ENSP00000298910'>9606.ENSP00000298910</a> (degree 5804 and weighted degree 5804) and <a href='https://string-db.org/network/9606.ENSP00000269305' target='_blank' title='Go to STRING Homo sapiens to get more informations about 9606.ENSP00000269305'>9606.ENSP00000269305</a> (degree 5652 and weighted degree 5652).</p><h3>Disconnected nodes</h3><p>Disconnected nodes are nodes that are not connected to any other node.The graph contains 181 disconnected nodes.</p><h4>Singleton nodes</h4><p>Singleton nodes are nodes with no edge to other nodes nor selfloops. The graph contains 181 singleton nodes, which are <a href='https://string-db.org/network/9606.ENSP00000278779' target='_blank' title='Go to STRING Homo sapiens to get more informations about 9606.ENSP00000278779'>9606.ENSP00000278779</a>, <a href='https://string-db.org/network/9606.ENSP00000313324' target='_blank' title='Go to STRING Homo sapiens to get more informations about 9606.ENSP00000313324'>9606.ENSP00000313324</a>, <a href='https://string-db.org/network/9606.ENSP00000315794' target='_blank' title='Go to STRING Homo sapiens to get more informations about 9606.ENSP00000315794'>9606.ENSP00000315794</a>, <a href='https://string-db.org/network/9606.ENSP00000316644' target='_blank' title='Go to STRING Homo sapiens to get more informations about 9606.ENSP00000316644'>9606.ENSP00000316644</a> and <a href='https://string-db.org/network/9606.ENSP00000323241' target='_blank' title='Go to STRING Homo sapiens to get more informations about 9606.ENSP00000323241'>9606.ENSP00000323241</a>, plus other 176 singleton nodes.</p><h3>Weights</h3><p>The minimum edge weight is 150, the maximum edge weight is 999 and the total edge weight is 3342953700.</p><h4>Weighted degree centrality</h4><p>The minimum node degree is 0.00, the maximum node degree is 2277846.00, the mean degree is 170855.24 and the node degree median is 130738.</p><p>The nodes with highest degree centrality are: <a href='https://string-db.org/network/9606.ENSP00000269305' target='_blank' title='Go to STRING Homo sapiens to get more informations about 9606.ENSP00000269305'>9606.ENSP00000269305</a> (degree 5652 and weighted degree 5652), <a href='https://string-db.org/network/9606.ENSP00000229239' target='_blank' title='Go to STRING Homo sapiens to get more informations about 9606.ENSP00000229239'>9606.ENSP00000229239</a> (degree 7507 and weighted degree 7507), <a href='https://string-db.org/network/9606.ENSP00000349960' target='_blank' title='Go to STRING Homo sapiens to get more informations about 9606.ENSP00000349960'>9606.ENSP00000349960</a> (degree 6940 and weighted degree 6940), <a href='https://string-db.org/network/9606.ENSP00000479618' target='_blank' title='Go to STRING Homo sapiens to get more informations about 9606.ENSP00000479618'>9606.ENSP00000479618</a> (degree 5613 and weighted degree 5613) and <a href='https://string-db.org/network/9606.ENSP00000451828' target='_blank' title='Go to STRING Homo sapiens to get more informations about 9606.ENSP00000451828'>9606.ENSP00000451828</a> (degree 5918 and weighted degree 5918).</p><h4>RAM requirements</h4><p>The RAM requirements for the edge weights data structure is 47.75MB.</p>"
            ],
            "text/plain": [
              "<h2>HomoSapiens</h2><p>The undirected graph HomoSapiens has 19566 nodes and 5969249 edges.</p><h3>RAM requirements</h3><p>The RAM requirements for the nodes and edges data structures are 5.21MB and 11.71MB respectively.</p><h3>Degree centrality</h3><p>The minimum node degree is 0, the maximum node degree is 7507, the mode degree is 0, the mean degree is 610.17 and the node degree median is 485.</p><p>The nodes with highest degree centrality are: <a href='https://string-db.org/network/9606.ENSP00000229239' target='_blank' title='Go to STRING Homo sapiens to get more informations about 9606.ENSP00000229239'>9606.ENSP00000229239</a> (degree 7507 and weighted degree 7507), <a href='https://string-db.org/network/9606.ENSP00000349960' target='_blank' title='Go to STRING Homo sapiens to get more informations about 9606.ENSP00000349960'>9606.ENSP00000349960</a> (degree 6940 and weighted degree 6940), <a href='https://string-db.org/network/9606.ENSP00000451828' target='_blank' title='Go to STRING Homo sapiens to get more informations about 9606.ENSP00000451828'>9606.ENSP00000451828</a> (degree 5918 and weighted degree 5918), <a href='https://string-db.org/network/9606.ENSP00000298910' target='_blank' title='Go to STRING Homo sapiens to get more informations about 9606.ENSP00000298910'>9606.ENSP00000298910</a> (degree 5804 and weighted degree 5804) and <a href='https://string-db.org/network/9606.ENSP00000269305' target='_blank' title='Go to STRING Homo sapiens to get more informations about 9606.ENSP00000269305'>9606.ENSP00000269305</a> (degree 5652 and weighted degree 5652).</p><h3>Disconnected nodes</h3><p>Disconnected nodes are nodes that are not connected to any other node.The graph contains 181 disconnected nodes.</p><h4>Singleton nodes</h4><p>Singleton nodes are nodes with no edge to other nodes nor selfloops. The graph contains 181 singleton nodes, which are <a href='https://string-db.org/network/9606.ENSP00000278779' target='_blank' title='Go to STRING Homo sapiens to get more informations about 9606.ENSP00000278779'>9606.ENSP00000278779</a>, <a href='https://string-db.org/network/9606.ENSP00000313324' target='_blank' title='Go to STRING Homo sapiens to get more informations about 9606.ENSP00000313324'>9606.ENSP00000313324</a>, <a href='https://string-db.org/network/9606.ENSP00000315794' target='_blank' title='Go to STRING Homo sapiens to get more informations about 9606.ENSP00000315794'>9606.ENSP00000315794</a>, <a href='https://string-db.org/network/9606.ENSP00000316644' target='_blank' title='Go to STRING Homo sapiens to get more informations about 9606.ENSP00000316644'>9606.ENSP00000316644</a> and <a href='https://string-db.org/network/9606.ENSP00000323241' target='_blank' title='Go to STRING Homo sapiens to get more informations about 9606.ENSP00000323241'>9606.ENSP00000323241</a>, plus other 176 singleton nodes.</p><h3>Weights</h3><p>The minimum edge weight is 150, the maximum edge weight is 999 and the total edge weight is 3342953700.</p><h4>Weighted degree centrality</h4><p>The minimum node degree is 0.00, the maximum node degree is 2277846.00, the mean degree is 170855.24 and the node degree median is 130738.</p><p>The nodes with highest degree centrality are: <a href='https://string-db.org/network/9606.ENSP00000269305' target='_blank' title='Go to STRING Homo sapiens to get more informations about 9606.ENSP00000269305'>9606.ENSP00000269305</a> (degree 5652 and weighted degree 5652), <a href='https://string-db.org/network/9606.ENSP00000229239' target='_blank' title='Go to STRING Homo sapiens to get more informations about 9606.ENSP00000229239'>9606.ENSP00000229239</a> (degree 7507 and weighted degree 7507), <a href='https://string-db.org/network/9606.ENSP00000349960' target='_blank' title='Go to STRING Homo sapiens to get more informations about 9606.ENSP00000349960'>9606.ENSP00000349960</a> (degree 6940 and weighted degree 6940), <a href='https://string-db.org/network/9606.ENSP00000479618' target='_blank' title='Go to STRING Homo sapiens to get more informations about 9606.ENSP00000479618'>9606.ENSP00000479618</a> (degree 5613 and weighted degree 5613) and <a href='https://string-db.org/network/9606.ENSP00000451828' target='_blank' title='Go to STRING Homo sapiens to get more informations about 9606.ENSP00000451828'>9606.ENSP00000451828</a> (degree 5918 and weighted degree 5918).</p><h4>RAM requirements</h4><p>The RAM requirements for the edge weights data structure is 47.75MB.</p>"
            ]
          },
          "metadata": {},
          "execution_count": 4
        }
      ]
    },
    {
      "cell_type": "markdown",
      "metadata": {
        "id": "JWkeohdIZAXX"
      },
      "source": [
        "and the unweighted graph report:"
      ]
    },
    {
      "cell_type": "code",
      "metadata": {
        "colab": {
          "base_uri": "https://localhost:8080/",
          "height": 366
        },
        "id": "5Es5MyulY_u5",
        "outputId": "4c0bd201-ea81-4bdc-cdeb-d41c322491b6"
      },
      "source": [
        "unweighted_graph"
      ],
      "execution_count": 5,
      "outputs": [
        {
          "output_type": "execute_result",
          "data": {
            "text/html": [
              "<h2>HomoSapiens</h2><p>The undirected graph HomoSapiens has 19566 nodes and 5969249 edges.</p><h3>RAM requirements</h3><p>The RAM requirements for the nodes and edges data structures are 5.21MB and 11.65MB respectively.</p><h3>Degree centrality</h3><p>The minimum node degree is 0, the maximum node degree is 7507, the mode degree is 0, the mean degree is 610.17 and the node degree median is 485.</p><p>The nodes with highest degree centrality are: <a href='https://string-db.org/network/9606.ENSP00000229239' target='_blank' title='Go to STRING Homo sapiens to get more informations about 9606.ENSP00000229239'>9606.ENSP00000229239</a> (degree 7507), <a href='https://string-db.org/network/9606.ENSP00000349960' target='_blank' title='Go to STRING Homo sapiens to get more informations about 9606.ENSP00000349960'>9606.ENSP00000349960</a> (degree 6940), <a href='https://string-db.org/network/9606.ENSP00000451828' target='_blank' title='Go to STRING Homo sapiens to get more informations about 9606.ENSP00000451828'>9606.ENSP00000451828</a> (degree 5918), <a href='https://string-db.org/network/9606.ENSP00000298910' target='_blank' title='Go to STRING Homo sapiens to get more informations about 9606.ENSP00000298910'>9606.ENSP00000298910</a> (degree 5804) and <a href='https://string-db.org/network/9606.ENSP00000269305' target='_blank' title='Go to STRING Homo sapiens to get more informations about 9606.ENSP00000269305'>9606.ENSP00000269305</a> (degree 5652).</p><h3>Disconnected nodes</h3><p>Disconnected nodes are nodes that are not connected to any other node.The graph contains 181 disconnected nodes.</p><h4>Singleton nodes</h4><p>Singleton nodes are nodes with no edge to other nodes nor selfloops. The graph contains 181 singleton nodes, which are <a href='https://string-db.org/network/9606.ENSP00000278779' target='_blank' title='Go to STRING Homo sapiens to get more informations about 9606.ENSP00000278779'>9606.ENSP00000278779</a>, <a href='https://string-db.org/network/9606.ENSP00000313324' target='_blank' title='Go to STRING Homo sapiens to get more informations about 9606.ENSP00000313324'>9606.ENSP00000313324</a>, <a href='https://string-db.org/network/9606.ENSP00000315794' target='_blank' title='Go to STRING Homo sapiens to get more informations about 9606.ENSP00000315794'>9606.ENSP00000315794</a>, <a href='https://string-db.org/network/9606.ENSP00000316644' target='_blank' title='Go to STRING Homo sapiens to get more informations about 9606.ENSP00000316644'>9606.ENSP00000316644</a> and <a href='https://string-db.org/network/9606.ENSP00000323241' target='_blank' title='Go to STRING Homo sapiens to get more informations about 9606.ENSP00000323241'>9606.ENSP00000323241</a>, plus other 176 singleton nodes.</p>"
            ],
            "text/plain": [
              "<h2>HomoSapiens</h2><p>The undirected graph HomoSapiens has 19566 nodes and 5969249 edges.</p><h3>RAM requirements</h3><p>The RAM requirements for the nodes and edges data structures are 5.21MB and 11.65MB respectively.</p><h3>Degree centrality</h3><p>The minimum node degree is 0, the maximum node degree is 7507, the mode degree is 0, the mean degree is 610.17 and the node degree median is 485.</p><p>The nodes with highest degree centrality are: <a href='https://string-db.org/network/9606.ENSP00000229239' target='_blank' title='Go to STRING Homo sapiens to get more informations about 9606.ENSP00000229239'>9606.ENSP00000229239</a> (degree 7507), <a href='https://string-db.org/network/9606.ENSP00000349960' target='_blank' title='Go to STRING Homo sapiens to get more informations about 9606.ENSP00000349960'>9606.ENSP00000349960</a> (degree 6940), <a href='https://string-db.org/network/9606.ENSP00000451828' target='_blank' title='Go to STRING Homo sapiens to get more informations about 9606.ENSP00000451828'>9606.ENSP00000451828</a> (degree 5918), <a href='https://string-db.org/network/9606.ENSP00000298910' target='_blank' title='Go to STRING Homo sapiens to get more informations about 9606.ENSP00000298910'>9606.ENSP00000298910</a> (degree 5804) and <a href='https://string-db.org/network/9606.ENSP00000269305' target='_blank' title='Go to STRING Homo sapiens to get more informations about 9606.ENSP00000269305'>9606.ENSP00000269305</a> (degree 5652).</p><h3>Disconnected nodes</h3><p>Disconnected nodes are nodes that are not connected to any other node.The graph contains 181 disconnected nodes.</p><h4>Singleton nodes</h4><p>Singleton nodes are nodes with no edge to other nodes nor selfloops. The graph contains 181 singleton nodes, which are <a href='https://string-db.org/network/9606.ENSP00000278779' target='_blank' title='Go to STRING Homo sapiens to get more informations about 9606.ENSP00000278779'>9606.ENSP00000278779</a>, <a href='https://string-db.org/network/9606.ENSP00000313324' target='_blank' title='Go to STRING Homo sapiens to get more informations about 9606.ENSP00000313324'>9606.ENSP00000313324</a>, <a href='https://string-db.org/network/9606.ENSP00000315794' target='_blank' title='Go to STRING Homo sapiens to get more informations about 9606.ENSP00000315794'>9606.ENSP00000315794</a>, <a href='https://string-db.org/network/9606.ENSP00000316644' target='_blank' title='Go to STRING Homo sapiens to get more informations about 9606.ENSP00000316644'>9606.ENSP00000316644</a> and <a href='https://string-db.org/network/9606.ENSP00000323241' target='_blank' title='Go to STRING Homo sapiens to get more informations about 9606.ENSP00000323241'>9606.ENSP00000323241</a>, plus other 176 singleton nodes.</p>"
            ]
          },
          "metadata": {},
          "execution_count": 5
        }
      ]
    },
    {
      "cell_type": "markdown",
      "metadata": {
        "id": "50ihM6p6XCN0"
      },
      "source": [
        "## Random walks are heavily parallelized\n",
        "All the algorithms to sample random walks provided by Ensmallen are heavily parallelized and therefore executing them on instances with a large amount amount of threads will lead to (obviously) better time performance. This notebook is being executed on a COLAB instance with only 2 cores, so the performance will not be as good as what they could be (likely even on your notebook or absurdly on your cellphone).\n",
        "\n",
        "Yes, Ensmallen can run on Android phones."
      ]
    },
    {
      "cell_type": "code",
      "metadata": {
        "colab": {
          "base_uri": "https://localhost:8080/"
        },
        "id": "i85aNZm9XC0u",
        "outputId": "7e15df0d-762c-4968-9234-aef6e96ca86f"
      },
      "source": [
        "from multiprocessing import cpu_count\n",
        "\n",
        "cpu_count()"
      ],
      "execution_count": 6,
      "outputs": [
        {
          "output_type": "execute_result",
          "data": {
            "text/plain": [
              "2"
            ]
          },
          "metadata": {},
          "execution_count": 6
        }
      ]
    },
    {
      "cell_type": "markdown",
      "metadata": {
        "id": "l5iDg_80ZW4y"
      },
      "source": [
        "## Unweighted first-order random walks\n",
        "Computation of first-order random walks ignoring the edge weights."
      ]
    },
    {
      "cell_type": "code",
      "metadata": {
        "colab": {
          "base_uri": "https://localhost:8080/"
        },
        "id": "q57nrVVjZUX4",
        "outputId": "66982af3-cacc-4db9-d237-e7a967e84ce6"
      },
      "source": [
        "%%time\n",
        "unweighted_graph.random_walks(\n",
        "    # We want random walks with length 100\n",
        "    walk_length=32,\n",
        "    # We want to get random walks starting from 1000 random nodes\n",
        "    quantity=1000,\n",
        "    # We want 2 iterations from each node\n",
        "    iterations=2\n",
        ")"
      ],
      "execution_count": 7,
      "outputs": [
        {
          "output_type": "stream",
          "name": "stdout",
          "text": [
            "CPU times: user 50.3 ms, sys: 934 µs, total: 51.2 ms\n",
            "Wall time: 26 ms\n"
          ]
        },
        {
          "output_type": "execute_result",
          "data": {
            "text/plain": [
              "array([[ 1146, 13682, 13013, ..., 14112, 13835,   392],\n",
              "       [13810, 13006,  4562, ...,  9738, 13417, 13068],\n",
              "       [16210, 12726,  8488, ..., 12584,  5887,  5231],\n",
              "       ...,\n",
              "       [12804, 12797, 14554, ...,  7671,  9512,  2006],\n",
              "       [ 9400,  4187, 17448, ...,  5363,  3307, 10931],\n",
              "       [16196,  4533,  3517, ...,  9042, 16199,  1852]], dtype=uint32)"
            ]
          },
          "metadata": {},
          "execution_count": 7
        }
      ]
    },
    {
      "cell_type": "code",
      "metadata": {
        "colab": {
          "base_uri": "https://localhost:8080/"
        },
        "id": "qKksHKN2Z6rZ",
        "outputId": "7dfb844b-895a-45ef-f86d-b21688a09f52"
      },
      "source": [
        "%%time\n",
        "unweighted_graph.complete_walks(\n",
        "    # We want random walks with length 100\n",
        "    walk_length=100,\n",
        "    # We want 2 iterations from each node\n",
        "    iterations=2\n",
        ")"
      ],
      "execution_count": 8,
      "outputs": [
        {
          "output_type": "stream",
          "name": "stdout",
          "text": [
            "CPU times: user 2.85 s, sys: 13.2 ms, total: 2.86 s\n",
            "Wall time: 1.54 s\n"
          ]
        },
        {
          "output_type": "execute_result",
          "data": {
            "text/plain": [
              "array([[    0,  1631,  8318, ...,  9300,  2799, 11793],\n",
              "       [    1,  1144,  3625, ...,  2753, 10907,  9618],\n",
              "       [    2, 17250, 15733, ..., 13807, 19065, 11865],\n",
              "       ...,\n",
              "       [19560,  5977, 13636, ..., 19393, 11458,  1352],\n",
              "       [19562, 12312,  9881, ..., 14733,  5278,  4319],\n",
              "       [19565,  9476,  8155, ...,  9590,  8602,  4687]], dtype=uint32)"
            ]
          },
          "metadata": {},
          "execution_count": 8
        }
      ]
    },
    {
      "cell_type": "markdown",
      "metadata": {
        "id": "IMOU0hT1Tk-G"
      },
      "source": [
        "## Weighted first-order random walks\n",
        "Computation of first-order random walks, biased using the edge weights."
      ]
    },
    {
      "cell_type": "code",
      "metadata": {
        "colab": {
          "base_uri": "https://localhost:8080/"
        },
        "id": "aq9xIa5jS8Zq",
        "outputId": "a3186153-098a-4d54-9279-174f8da09e65"
      },
      "source": [
        "%%time\n",
        "graph.random_walks(\n",
        "    # We want random walks with length 100\n",
        "    walk_length=32,\n",
        "    # We want to get random walks starting from 1000 random nodes\n",
        "    quantity=1000,\n",
        "    # We want 2 iterations from each node\n",
        "    iterations=2\n",
        ")"
      ],
      "execution_count": 9,
      "outputs": [
        {
          "output_type": "stream",
          "name": "stdout",
          "text": [
            "CPU times: user 1.49 s, sys: 14.9 ms, total: 1.51 s\n",
            "Wall time: 794 ms\n"
          ]
        },
        {
          "output_type": "execute_result",
          "data": {
            "text/plain": [
              "array([[ 1146,  4660,  1854, ..., 19501,  9628,  8156],\n",
              "       [13810, 13434, 10163, ...,  9455, 18078, 17508],\n",
              "       [16210, 16269, 17795, ..., 10410, 13178, 14251],\n",
              "       ...,\n",
              "       [12804,  9542,  4835, ...,     2,  2229,  3049],\n",
              "       [ 9400,  4586,  9115, ...,   268,  1562,  4805],\n",
              "       [16196, 10247,  1345, ..., 11918, 13508, 10388]], dtype=uint32)"
            ]
          },
          "metadata": {},
          "execution_count": 9
        }
      ]
    },
    {
      "cell_type": "markdown",
      "metadata": {
        "id": "r40yDkmaUgFb"
      },
      "source": [
        "Similarly, to get random walks from all of the nodes in the graph (that are not singletons) it is possible to use:"
      ]
    },
    {
      "cell_type": "code",
      "metadata": {
        "colab": {
          "base_uri": "https://localhost:8080/"
        },
        "id": "T3kNCHEwUfkc",
        "outputId": "b9782878-b841-4812-a6f7-180e8b34ec55"
      },
      "source": [
        "%%time\n",
        "graph.complete_walks(\n",
        "    # We want random walks with length 100\n",
        "    walk_length=100,\n",
        "    # We want 2 iterations from each node\n",
        "    iterations=2\n",
        ")"
      ],
      "execution_count": 10,
      "outputs": [
        {
          "output_type": "stream",
          "name": "stdout",
          "text": [
            "CPU times: user 1min 33s, sys: 401 ms, total: 1min 34s\n",
            "Wall time: 48 s\n"
          ]
        },
        {
          "output_type": "execute_result",
          "data": {
            "text/plain": [
              "array([[    0,  4593,  1382, ...,  6509,   488,  1957],\n",
              "       [    1, 13558, 10177, ..., 15955, 11001, 10995],\n",
              "       [    2, 16486, 17828, ..., 14133, 14340, 15957],\n",
              "       ...,\n",
              "       [19560,  5977, 11670, ...,  5827, 15979, 15332],\n",
              "       [19562, 10620, 12832, ..., 12157,  9968,  9984],\n",
              "       [19565,   285,  6903, ...,  4169,  5657,  7724]], dtype=uint32)"
            ]
          },
          "metadata": {},
          "execution_count": 10
        }
      ]
    },
    {
      "cell_type": "markdown",
      "metadata": {
        "id": "k9I--69hUc8o"
      },
      "source": [
        "## Second-order random walks\n",
        "Secondly, we proceed to show the computation of second-order random walks, that is random walks that use [Node2Vec parameters](https://arxiv.org/abs/1607.00653) to bias the random walk towards a BFS or a DFS."
      ]
    },
    {
      "cell_type": "code",
      "metadata": {
        "colab": {
          "base_uri": "https://localhost:8080/"
        },
        "id": "OqL4spI1WCc5",
        "outputId": "24043c95-abaa-4fc9-87ec-64d7fcb2f3de"
      },
      "source": [
        "%%time\n",
        "graph.random_walks(\n",
        "    # We want random walks with length 100\n",
        "    walk_length=32,\n",
        "    # We want to get random walks starting from 1000 random nodes\n",
        "    quantity=1000,\n",
        "    # We want 2 iterations from each node\n",
        "    iterations=2,\n",
        "    return_weight=2.0,\n",
        "    explore_weight=2.0,\n",
        ")"
      ],
      "execution_count": 11,
      "outputs": [
        {
          "output_type": "stream",
          "name": "stdout",
          "text": [
            "CPU times: user 2.48 s, sys: 14.9 ms, total: 2.5 s\n",
            "Wall time: 1.33 s\n"
          ]
        },
        {
          "output_type": "execute_result",
          "data": {
            "text/plain": [
              "array([[ 1146,  4660,  1856, ..., 19014,  9022,  7592],\n",
              "       [13810, 13434, 10634, ...,  9589, 18161, 17276],\n",
              "       [16210, 16269, 17795, ..., 11193, 15925, 13808],\n",
              "       ...,\n",
              "       [12804,  9542,  4835, ...,    13,  2830,  2922],\n",
              "       [ 9400,  4586,  9055, ...,   178,  1830,  6196],\n",
              "       [16196, 10247,  1388, ..., 12116, 14751, 10853]], dtype=uint32)"
            ]
          },
          "metadata": {},
          "execution_count": 11
        }
      ]
    },
    {
      "cell_type": "code",
      "metadata": {
        "colab": {
          "base_uri": "https://localhost:8080/"
        },
        "id": "iZ1Z0r44adz8",
        "outputId": "0fde9c0e-8a5c-461b-d832-0612997518f3"
      },
      "source": [
        "%%time\n",
        "unweighted_graph.random_walks(\n",
        "    # We want random walks with length 100\n",
        "    walk_length=32,\n",
        "    # We want to get random walks starting from 1000 random nodes\n",
        "    quantity=1000,\n",
        "    # We want 2 iterations from each node\n",
        "    iterations=2,\n",
        "    return_weight=2.0,\n",
        "    explore_weight=2.0,\n",
        ")"
      ],
      "execution_count": 12,
      "outputs": [
        {
          "output_type": "stream",
          "name": "stdout",
          "text": [
            "CPU times: user 2.38 s, sys: 18.7 ms, total: 2.4 s\n",
            "Wall time: 1.28 s\n"
          ]
        },
        {
          "output_type": "execute_result",
          "data": {
            "text/plain": [
              "array([[ 1146,  4994,  1652, ..., 19337,  8975,  7314],\n",
              "       [13810, 13583,  9998, ...,  8368, 17814, 17716],\n",
              "       [16210, 16453, 17949, ..., 11054, 15721, 15902],\n",
              "       ...,\n",
              "       [12804,  9259,  5257, ...,     6,  2794,  3461],\n",
              "       [ 9400,  4586,  8637, ...,   323,  1778,  5330],\n",
              "       [16196, 10247,  1275, ..., 12055, 13706, 10827]], dtype=uint32)"
            ]
          },
          "metadata": {},
          "execution_count": 12
        }
      ]
    },
    {
      "cell_type": "code",
      "metadata": {
        "colab": {
          "base_uri": "https://localhost:8080/"
        },
        "id": "kUppVCO4WaeZ",
        "outputId": "08e67236-dd52-4774-f260-38b6b9f9b6a9"
      },
      "source": [
        "%%time\n",
        "graph.complete_walks(\n",
        "    # We want random walks with length 100\n",
        "    walk_length=32,\n",
        "    # We want 2 iterations from each node\n",
        "    iterations=2,\n",
        "    return_weight=2.0,\n",
        "    explore_weight=2.0,\n",
        ")"
      ],
      "execution_count": 13,
      "outputs": [
        {
          "output_type": "stream",
          "name": "stdout",
          "text": [
            "CPU times: user 47.6 s, sys: 163 ms, total: 47.8 s\n",
            "Wall time: 24.3 s\n"
          ]
        },
        {
          "output_type": "execute_result",
          "data": {
            "text/plain": [
              "array([[    0,  4593,  1382, ..., 19436,  8768,  8217],\n",
              "       [    1, 13558, 10368, ...,  7844, 17360, 18342],\n",
              "       [    2, 16486, 17975, ..., 11684, 16029, 14435],\n",
              "       ...,\n",
              "       [19560,  5977, 11670, ...,  4931,   390,  1779],\n",
              "       [19562, 10620, 12868, ...,  3213,  1859,    45],\n",
              "       [19565,   285,  6903, ...,  2266,  2796,  1909]], dtype=uint32)"
            ]
          },
          "metadata": {},
          "execution_count": 13
        }
      ]
    },
    {
      "cell_type": "code",
      "metadata": {
        "colab": {
          "base_uri": "https://localhost:8080/"
        },
        "id": "lOy4qaAtaiJa",
        "outputId": "6c94c72c-053a-4c99-bc74-9b08f903d102"
      },
      "source": [
        "%%time\n",
        "unweighted_graph.complete_walks(\n",
        "    # We want random walks with length 100\n",
        "    walk_length=32,\n",
        "    # We want 2 iterations from each node\n",
        "    iterations=2,\n",
        "    return_weight=2.0,\n",
        "    explore_weight=2.0,\n",
        ")"
      ],
      "execution_count": 14,
      "outputs": [
        {
          "output_type": "stream",
          "name": "stdout",
          "text": [
            "CPU times: user 46.2 s, sys: 149 ms, total: 46.4 s\n",
            "Wall time: 23.6 s\n"
          ]
        },
        {
          "output_type": "execute_result",
          "data": {
            "text/plain": [
              "array([[    0,  4508,  1517, ..., 19362,  9034,  8253],\n",
              "       [    1, 13063,  9565, ...,  9410, 17762, 17536],\n",
              "       [    2, 16543, 18087, ..., 11381, 15877, 14984],\n",
              "       ...,\n",
              "       [19560,  5977, 12294, ...,  5521,   447,  1687],\n",
              "       [19562, 10620, 12901, ...,  2835,  1599,   130],\n",
              "       [19565,   285,  6909, ...,  2708,  2757,  1450]], dtype=uint32)"
            ]
          },
          "metadata": {},
          "execution_count": 14
        }
      ]
    },
    {
      "cell_type": "markdown",
      "metadata": {
        "id": "waJKyudSX5-m"
      },
      "source": [
        "## Approximated second-order random walks\n",
        "On graphs that include nodes with extremely high node degrees, for instance above 50000, the computation of their transition weights can be a bottleneck. In those use-cases approximated random walks can help make the computation considerably faster, by randomly subsampling each node's neighbours to a maximum number provided. In the considered graph, the most central nodes have a centrality of at most around 7000, so the impact won't be particularly significant. \n",
        "\n",
        "We have shown in the GraPE paper that significant subsampling of the nodes (maximum node degree clipped at 10) does not cause the performance of an edge prediction model trained on the SkipGram node embedding to change between exact random walks and approximated random walks. This is likely because of the massive amount of random walks that are made possible."
      ]
    },
    {
      "cell_type": "code",
      "metadata": {
        "colab": {
          "base_uri": "https://localhost:8080/"
        },
        "id": "DtM-znt_bc7C",
        "outputId": "018cc33d-837d-42c5-c0cb-905cde827f97"
      },
      "source": [
        "%%time\n",
        "graph.random_walks(\n",
        "    # We want random walks with length 100\n",
        "    walk_length=32,\n",
        "    # We want to get random walks starting from 1000 random nodes\n",
        "    quantity=1000,\n",
        "    # We want 2 iterations from each node\n",
        "    iterations=2,\n",
        "    return_weight=2.0,\n",
        "    explore_weight=2.0,\n",
        "    # We will subsample the neighbours of the nodes\n",
        "    # dynamically to 100.\n",
        "    max_neighbours=100\n",
        ")"
      ],
      "execution_count": 15,
      "outputs": [
        {
          "output_type": "stream",
          "name": "stdout",
          "text": [
            "CPU times: user 946 ms, sys: 5.94 ms, total: 952 ms\n",
            "Wall time: 502 ms\n"
          ]
        },
        {
          "output_type": "execute_result",
          "data": {
            "text/plain": [
              "array([[ 1146,  2247,  1779, ..., 18680,  6406,  8389],\n",
              "       [13810, 12798, 10451, ...,  9103, 17828, 17127],\n",
              "       [16210, 14880, 16765, ...,  9671, 15815, 13398],\n",
              "       ...,\n",
              "       [12804,  6645,  4719, ...,    14,  2452,  2670],\n",
              "       [ 9400,  4026,  7053, ...,   192,  2174,  5087],\n",
              "       [16196, 10006,   748, ..., 11339, 11392, 10824]], dtype=uint32)"
            ]
          },
          "metadata": {},
          "execution_count": 15
        }
      ]
    },
    {
      "cell_type": "code",
      "metadata": {
        "colab": {
          "base_uri": "https://localhost:8080/"
        },
        "id": "BrSIExoMbwMn",
        "outputId": "e8c69d33-d8fc-45bb-8aee-7f41fa8fe15f"
      },
      "source": [
        "%%time\n",
        "graph.complete_walks(\n",
        "    # We want random walks with length 100\n",
        "    walk_length=32,\n",
        "    # We want 2 iterations from each node\n",
        "    iterations=2,\n",
        "    return_weight=2.0,\n",
        "    explore_weight=2.0,\n",
        "    # We will subsample the neighbours of the nodes\n",
        "    # dynamically to 100.\n",
        "    max_neighbours=100\n",
        ")"
      ],
      "execution_count": 16,
      "outputs": [
        {
          "output_type": "stream",
          "name": "stdout",
          "text": [
            "CPU times: user 18.5 s, sys: 57.7 ms, total: 18.6 s\n",
            "Wall time: 9.45 s\n"
          ]
        },
        {
          "output_type": "execute_result",
          "data": {
            "text/plain": [
              "array([[    0,  4359,  1254, ..., 18952,  8488,  6979],\n",
              "       [    1, 10242,  9150, ...,  9298, 17537, 17480],\n",
              "       [    2, 16137, 17173, ..., 11075, 14614, 13193],\n",
              "       ...,\n",
              "       [19560,  5977, 10871, ...,  5339,   406,  1949],\n",
              "       [19562, 10620, 12821, ...,  3072,  1798,   129],\n",
              "       [19565,   285,  6338, ...,  2261,  2530,  1869]], dtype=uint32)"
            ]
          },
          "metadata": {},
          "execution_count": 16
        }
      ]
    },
    {
      "cell_type": "markdown",
      "metadata": {
        "id": "AZ2qKDPXSHTQ"
      },
      "source": [
        "## Enabling the speedups\n",
        "As explained more in details in the tutorial [add reference to tutorial], there are numerous speed-ups time-memory tradeoffs available in Ensmallen. These speedups allow you to exchange to use more RAM and get faster computation. Generally speaking, these speedups on graphs that have less than a few hundred millions edges have a minimal impact on the memory footprint while enabling seemingly free acceleration of most graph algorithms."
      ]
    },
    {
      "cell_type": "code",
      "metadata": {
        "id": "UZlOn9umUK9T"
      },
      "source": [
        "graph.enable()"
      ],
      "execution_count": 17,
      "outputs": []
    },
    {
      "cell_type": "markdown",
      "metadata": {
        "id": "aS5n9gJeS9ys"
      },
      "source": [
        "### Weighted first order random walks with speedups\n",
        "The first order random walks have about an order of magnitude speed increase."
      ]
    },
    {
      "cell_type": "code",
      "metadata": {
        "colab": {
          "base_uri": "https://localhost:8080/"
        },
        "id": "6Py4lJ4pSFku",
        "outputId": "00d45dcb-b29f-4e71-8dce-8fbee4bdf460"
      },
      "source": [
        "%%time\n",
        "graph.random_walks(\n",
        "    # We want random walks with length 100\n",
        "    walk_length=100,\n",
        "    # We want to get random walks starting from 1000 random nodes\n",
        "    quantity=1000,\n",
        "    # We want 10 iterations from each node\n",
        "    iterations=2\n",
        ")"
      ],
      "execution_count": 18,
      "outputs": [
        {
          "output_type": "stream",
          "name": "stdout",
          "text": [
            "CPU times: user 396 ms, sys: 3.99 ms, total: 400 ms\n",
            "Wall time: 222 ms\n"
          ]
        },
        {
          "output_type": "execute_result",
          "data": {
            "text/plain": [
              "array([[ 1146,  4660,  1854, ...,  6509,   488,  1957],\n",
              "       [13810, 13434, 10163, ..., 15955, 11001, 10995],\n",
              "       [16210, 16269, 17795, ..., 15144, 14380, 16018],\n",
              "       ...,\n",
              "       [12804,  9542,  4835, ...,  8797,  5619,  4153],\n",
              "       [ 9400,  4586,  9115, ...,  8979,  7397, 17274],\n",
              "       [16196, 10247,  1345, ...,    26,  2183,  3226]], dtype=uint32)"
            ]
          },
          "metadata": {},
          "execution_count": 18
        }
      ]
    },
    {
      "cell_type": "code",
      "metadata": {
        "colab": {
          "base_uri": "https://localhost:8080/"
        },
        "id": "g3b8w_o4Uunt",
        "outputId": "36bd5878-f6e8-43f0-b477-c2295e9e868b"
      },
      "source": [
        "%%time\n",
        "graph.complete_walks(\n",
        "    # We want random walks with length 100\n",
        "    walk_length=100,\n",
        "    # We want 10 iterations from each node\n",
        "    iterations=2\n",
        ")"
      ],
      "execution_count": 19,
      "outputs": [
        {
          "output_type": "stream",
          "name": "stdout",
          "text": [
            "CPU times: user 7.66 s, sys: 41.8 ms, total: 7.7 s\n",
            "Wall time: 3.99 s\n"
          ]
        },
        {
          "output_type": "execute_result",
          "data": {
            "text/plain": [
              "array([[    0,  4593,  1382, ...,  6509,   488,  1957],\n",
              "       [    1, 13558, 10177, ..., 15955, 11001, 10995],\n",
              "       [    2, 16486, 17828, ..., 14133, 14340, 15957],\n",
              "       ...,\n",
              "       [19560,  5977, 11670, ...,  5827, 15979, 15332],\n",
              "       [19562, 10620, 12832, ..., 12157,  9968,  9984],\n",
              "       [19565,   285,  6903, ...,  4169,  5657,  7724]], dtype=uint32)"
            ]
          },
          "metadata": {},
          "execution_count": 19
        }
      ]
    },
    {
      "cell_type": "markdown",
      "metadata": {
        "id": "3YtutrBuW7FL"
      },
      "source": [
        "### Second order random walks with speedups\n"
      ]
    },
    {
      "cell_type": "code",
      "metadata": {
        "colab": {
          "base_uri": "https://localhost:8080/"
        },
        "id": "DvBuXYnUUMd9",
        "outputId": "3a5af727-78e6-45a6-e5d3-1982171f5bc2"
      },
      "source": [
        "%%time\n",
        "graph.random_walks(\n",
        "    # We want random walks with length 100\n",
        "    walk_length=32,\n",
        "    # We want to get random walks starting from 1000 random nodes\n",
        "    quantity=1000,\n",
        "    # We want 2 iterations from each node\n",
        "    iterations=2,\n",
        "    return_weight=2.0,\n",
        "    explore_weight=2.0,\n",
        ")"
      ],
      "execution_count": 20,
      "outputs": [
        {
          "output_type": "stream",
          "name": "stdout",
          "text": [
            "CPU times: user 1.13 s, sys: 2.93 ms, total: 1.13 s\n",
            "Wall time: 617 ms\n"
          ]
        },
        {
          "output_type": "execute_result",
          "data": {
            "text/plain": [
              "array([[ 1146,  4660,  1856, ..., 19014,  9022,  7592],\n",
              "       [13810, 13434, 10634, ...,  9589, 18161, 17276],\n",
              "       [16210, 16269, 17795, ..., 11193, 15925, 13808],\n",
              "       ...,\n",
              "       [12804,  9542,  4835, ...,    13,  2830,  2922],\n",
              "       [ 9400,  4586,  9055, ...,   178,  1830,  6196],\n",
              "       [16196, 10247,  1388, ..., 12116, 14751, 10853]], dtype=uint32)"
            ]
          },
          "metadata": {},
          "execution_count": 20
        }
      ]
    },
    {
      "cell_type": "code",
      "metadata": {
        "colab": {
          "base_uri": "https://localhost:8080/"
        },
        "id": "9gisEDeNX3i9",
        "outputId": "dec9134c-a43f-4c4a-8d93-755675174290"
      },
      "source": [
        "%%time\n",
        "graph.complete_walks(\n",
        "    # We want random walks with length 100\n",
        "    walk_length=32,\n",
        "    # We want 2 iterations from each node\n",
        "    iterations=2,\n",
        "    return_weight=2.0,\n",
        "    explore_weight=2.0,\n",
        ")"
      ],
      "execution_count": 21,
      "outputs": [
        {
          "output_type": "stream",
          "name": "stdout",
          "text": [
            "CPU times: user 21.9 s, sys: 105 ms, total: 22 s\n",
            "Wall time: 11.2 s\n"
          ]
        },
        {
          "output_type": "execute_result",
          "data": {
            "text/plain": [
              "array([[    0,  4593,  1382, ..., 19436,  8768,  8217],\n",
              "       [    1, 13558, 10368, ...,  7844, 17360, 18342],\n",
              "       [    2, 16486, 17975, ..., 11684, 16029, 14435],\n",
              "       ...,\n",
              "       [19560,  5977, 11670, ...,  4931,   390,  1779],\n",
              "       [19562, 10620, 12868, ...,  3213,  1859,    45],\n",
              "       [19565,   285,  6903, ...,  2266,  2796,  1909]], dtype=uint32)"
            ]
          },
          "metadata": {},
          "execution_count": 21
        }
      ]
    },
    {
      "cell_type": "markdown",
      "metadata": {
        "id": "_PrD76Ulb7u_"
      },
      "source": [
        "## Approximated second-order random walks with speedups"
      ]
    },
    {
      "cell_type": "code",
      "metadata": {
        "colab": {
          "base_uri": "https://localhost:8080/"
        },
        "id": "eSElShQxcEKR",
        "outputId": "62297cd5-5bb8-40a9-e2ba-85df2ee1b98c"
      },
      "source": [
        "%%time\n",
        "graph.random_walks(\n",
        "    # We want random walks with length 100\n",
        "    walk_length=32,\n",
        "    # We want to get random walks starting from 1000 random nodes\n",
        "    quantity=1000,\n",
        "    # We want 2 iterations from each node\n",
        "    iterations=2,\n",
        "    return_weight=2.0,\n",
        "    explore_weight=2.0,\n",
        "    # We will subsample the neighbours of the nodes\n",
        "    # dynamically to 100.\n",
        "    max_neighbours=100\n",
        ")"
      ],
      "execution_count": 22,
      "outputs": [
        {
          "output_type": "stream",
          "name": "stdout",
          "text": [
            "CPU times: user 320 ms, sys: 1.98 ms, total: 322 ms\n",
            "Wall time: 173 ms\n"
          ]
        },
        {
          "output_type": "execute_result",
          "data": {
            "text/plain": [
              "array([[ 1146,  2247,  1779, ..., 18680,  6406,  8389],\n",
              "       [13810, 12798, 10451, ...,  9103, 17828, 17127],\n",
              "       [16210, 14880, 16765, ...,  9671, 15815, 13398],\n",
              "       ...,\n",
              "       [12804,  6645,  4719, ...,    14,  2452,  2670],\n",
              "       [ 9400,  4026,  7053, ...,   192,  2174,  5087],\n",
              "       [16196, 10006,   748, ..., 11339, 11392, 10824]], dtype=uint32)"
            ]
          },
          "metadata": {},
          "execution_count": 22
        }
      ]
    },
    {
      "cell_type": "code",
      "metadata": {
        "colab": {
          "base_uri": "https://localhost:8080/"
        },
        "id": "-zuIcIRqb6W4",
        "outputId": "e6a59cb9-c1f3-4d06-9219-db3b1887a09a"
      },
      "source": [
        "%%time\n",
        "graph.complete_walks(\n",
        "    # We want random walks with length 100\n",
        "    walk_length=32,\n",
        "    # We want 2 iterations from each node\n",
        "    iterations=2,\n",
        "    return_weight=2.0,\n",
        "    explore_weight=2.0,\n",
        "    # We will subsample the neighbours of the nodes\n",
        "    # dynamically to 100.\n",
        "    max_neighbours=100\n",
        ")"
      ],
      "execution_count": 24,
      "outputs": [
        {
          "output_type": "stream",
          "name": "stdout",
          "text": [
            "CPU times: user 6.3 s, sys: 22.7 ms, total: 6.33 s\n",
            "Wall time: 3.23 s\n"
          ]
        },
        {
          "output_type": "execute_result",
          "data": {
            "text/plain": [
              "array([[    0,  4359,  1254, ..., 18952,  8488,  6979],\n",
              "       [    1, 10242,  9150, ...,  9298, 17537, 17480],\n",
              "       [    2, 16137, 17173, ..., 11075, 14614, 13193],\n",
              "       ...,\n",
              "       [19560,  5977, 10871, ...,  5339,   406,  1949],\n",
              "       [19562, 10620, 12821, ...,  3072,  1798,   129],\n",
              "       [19565,   285,  6338, ...,  2261,  2530,  1869]], dtype=uint32)"
            ]
          },
          "metadata": {},
          "execution_count": 24
        }
      ]
    }
  ]
}
