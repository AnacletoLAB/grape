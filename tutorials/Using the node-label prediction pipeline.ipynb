{
 "cells": [
  {
   "cell_type": "markdown",
   "id": "4f7139b7",
   "metadata": {},
   "source": [
    "# Using the node-label prediction pipeline"
   ]
  },
  {
   "cell_type": "markdown",
   "id": "6cf37ae4",
   "metadata": {},
   "source": [
    "First, we import the edge prediction evaluation pipeline:"
   ]
  },
  {
   "cell_type": "code",
   "execution_count": 1,
   "id": "be293c7b",
   "metadata": {},
   "outputs": [],
   "source": [
    "from grape.node_label_prediction import node_label_prediction_evaluation"
   ]
  },
  {
   "cell_type": "markdown",
   "id": "afb3f4cb",
   "metadata": {},
   "source": [
    "The embedding models we intend to evaluate:"
   ]
  },
  {
   "cell_type": "code",
   "execution_count": null,
   "id": "9dafa3fb",
   "metadata": {},
   "outputs": [],
   "source": [
    "from grape.embedders import Node2VecCBOWEnsmallen, Node2VecGloVeEnsmallen, Node2VecSkipGramEnsmallen\n",
    "from grape.embedders import DeepWalkCBOWEnsmallen, DeepWalkGloVeEnsmallen, DeepWalkSkipGramEnsmallen\n",
    "from grape.embedders import FirstOrderLINETensorFlow, SecondOrderLINETensorFlow\n",
    "from grape.embedders import NMFADMMKarateClub, RandNEKarateClub\n",
    "from grape.embedders import WalkletsSkipGramEnsmallen\n",
    "from grape.embedders import NetMFEnsmallen, GLEEEnsmallen, HOPEEnsmallen\n",
    "from grape.embedders import Role2VecKarateClub, GraRepKarateClub"
   ]
  },
  {
   "cell_type": "markdown",
   "id": "7881d43c",
   "metadata": {},
   "source": [
    "The edge prediction models to use in the pipeline:"
   ]
  },
  {
   "cell_type": "code",
   "execution_count": null,
   "id": "af4e930f",
   "metadata": {},
   "outputs": [],
   "source": [
    "from grape.node_label_prediction import DecisionTreeNodeLabelPrediction, RandomForestNodeLabelPrediction"
   ]
  },
  {
   "cell_type": "markdown",
   "id": "ca1d0ca9",
   "metadata": {},
   "source": [
    "We import the lins graph standardization we intend to use in the pipeline:"
   ]
  },
  {
   "cell_type": "code",
   "execution_count": 2,
   "id": "fe90e4cd",
   "metadata": {},
   "outputs": [],
   "source": [
    "from grape.datasets.linqs import get_words_data"
   ]
  },
  {
   "cell_type": "markdown",
   "id": "986086f5",
   "metadata": {},
   "source": [
    "And some additional helper packages:"
   ]
  },
  {
   "cell_type": "code",
   "execution_count": 2,
   "id": "e9e47993",
   "metadata": {},
   "outputs": [],
   "source": [
    "import pandas as pd\n",
    "from tqdm.auto import tqdm, trange"
   ]
  },
  {
   "cell_type": "markdown",
   "id": "6baca53e",
   "metadata": {},
   "source": [
    "We define the normalization function, used only for the STRING graphs, which removes edges that have a weight below 700. Do note that the edge weights are keps, and the random walks are weighted."
   ]
  },
  {
   "cell_type": "code",
   "execution_count": null,
   "id": "9d9a326a",
   "metadata": {},
   "outputs": [],
   "source": [
    "def graph_callback(graph):\n",
    "    graph, _ = get_words_data(graph)\n",
    "    graph.enable()\n",
    "    return graph"
   ]
  },
  {
   "cell_type": "markdown",
   "id": "8faa985e",
   "metadata": {},
   "source": [
    "Finally, we run the pipeline:"
   ]
  },
  {
   "cell_type": "code",
   "execution_count": null,
   "id": "179fa148",
   "metadata": {},
   "outputs": [],
   "source": [
    "results = pd.concat([\n",
    "    node_label_prediction_evaluation(\n",
    "        holdouts_kwargs=dict(train_size=0.8),\n",
    "        graphs=[\"Cora\", \"CiteSeer\", \"PubMedDiabetes\"],\n",
    "        repositories=\"linqs\",\n",
    "        graph_callback=graph_callback,\n",
    "        models=[\n",
    "            DecisionTreeNodeLabelPrediction(),\n",
    "            RandomForestNodeLabelPrediction(),\n",
    "        ],\n",
    "        number_of_holdouts=10,\n",
    "        node_features=EmbeddingMethod,\n",
    "        enable_cache=True\n",
    "    )\n",
    "    for EmbeddingMethod in tqdm((\n",
    "        Node2VecCBOWEnsmallen, Node2VecGloVeEnsmallen, Node2VecSkipGramEnsmallen,\n",
    "        DeepWalkCBOWEnsmallen, DeepWalkGloVeEnsmallen, DeepWalkSkipGramEnsmallen,\n",
    "        FirstOrderLINETensorFlow, SecondOrderLINETensorFlow,\n",
    "        NMFADMMKarateClub, RandNEKarateClub, GraRepKarateClub,\n",
    "        WalkletsSkipGramEnsmallen,\n",
    "        NetMFEnsmallen, GLEEEnsmallen, HOPEEnsmallen,\n",
    "        Role2VecKarateClub,\n",
    "    ), desc=\"Running experiment\")\n",
    "])"
   ]
  }
 ],
 "metadata": {
  "kernelspec": {
   "display_name": "Python 3 (ipykernel)",
   "language": "python",
   "name": "python3"
  },
  "language_info": {
   "codemirror_mode": {
    "name": "ipython",
    "version": 3
   },
   "file_extension": ".py",
   "mimetype": "text/x-python",
   "name": "python",
   "nbconvert_exporter": "python",
   "pygments_lexer": "ipython3",
   "version": "3.7.13"
  }
 },
 "nbformat": 4,
 "nbformat_minor": 5
}
