{
 "cells": [
  {
   "cell_type": "markdown",
   "id": "f5865e3e",
   "metadata": {},
   "source": [
    "# NPKG Animation\n",
    "Sometimes, expecially when preparing a presentation for a conference or your work colleagues, a good animation can say more than a thousand words.\n",
    "\n",
    "For this reason, we have prepared a straighforward way to create animations for a number of tasks using GRAPE that, through subsampling, can be executed on graphs of arbitrary size.\n",
    "\n",
    "In this brief tutorial, we will show how to get a NPKG embedding using First-order LINE, and then we will use TSNE decoposition to reduce its dimensionality and plot it into a short video.\n",
    "\n",
    "The resulting WEBM can be converted using one of many services and can be directly incorporated in Google Slides."
   ]
  },
  {
   "cell_type": "markdown",
   "id": "66aac970",
   "metadata": {},
   "source": [
    "## Installing 🍇 GRAPE\n",
    "\n",
    "To install the [GRAPE](https://github.com/AnacletoLAB/grape) library, as usual just run:\n",
    "\n",
    "```bash\n",
    "pip install grape -U\n",
    "```"
   ]
  },
  {
   "cell_type": "markdown",
   "id": "3fd1967d",
   "metadata": {},
   "source": [
    "### Checking the library version\n",
    "To check the library version and its main dependencies, you can use the `print_version` method:"
   ]
  },
  {
   "cell_type": "code",
   "execution_count": 1,
   "id": "daa8f2d6",
   "metadata": {},
   "outputs": [
    {
     "data": {
      "text/html": [
       "<div>\n",
       "<style scoped>\n",
       "    .dataframe tbody tr th:only-of-type {\n",
       "        vertical-align: middle;\n",
       "    }\n",
       "\n",
       "    .dataframe tbody tr th {\n",
       "        vertical-align: top;\n",
       "    }\n",
       "\n",
       "    .dataframe thead th {\n",
       "        text-align: right;\n",
       "    }\n",
       "</style>\n",
       "<table border=\"1\" class=\"dataframe\">\n",
       "  <thead>\n",
       "    <tr style=\"text-align: right;\">\n",
       "      <th></th>\n",
       "      <th>Version</th>\n",
       "    </tr>\n",
       "    <tr>\n",
       "      <th>Information</th>\n",
       "      <th></th>\n",
       "    </tr>\n",
       "  </thead>\n",
       "  <tbody>\n",
       "    <tr>\n",
       "      <th>GRAPE Version</th>\n",
       "      <td>0.1.21</td>\n",
       "    </tr>\n",
       "    <tr>\n",
       "      <th>Python version</th>\n",
       "      <td>3.9.7</td>\n",
       "    </tr>\n",
       "    <tr>\n",
       "      <th>Platform</th>\n",
       "      <td>Linux-5.15.25-1-MANJARO-x86_64-with-glibc2.35</td>\n",
       "    </tr>\n",
       "    <tr>\n",
       "      <th>Threads number</th>\n",
       "      <td>24</td>\n",
       "    </tr>\n",
       "    <tr>\n",
       "      <th>KarateClub version</th>\n",
       "      <td>1.3.0</td>\n",
       "    </tr>\n",
       "    <tr>\n",
       "      <th>PyTorch version</th>\n",
       "      <td>1.11.0+cu102</td>\n",
       "    </tr>\n",
       "    <tr>\n",
       "      <th>TensorFlow version</th>\n",
       "      <td>2.8.0</td>\n",
       "    </tr>\n",
       "    <tr>\n",
       "      <th>PyKEEN version</th>\n",
       "      <td>1.8.1</td>\n",
       "    </tr>\n",
       "  </tbody>\n",
       "</table>\n",
       "</div>"
      ],
      "text/plain": [
       "                                                          Version\n",
       "Information                                                      \n",
       "GRAPE Version                                              0.1.21\n",
       "Python version                                              3.9.7\n",
       "Platform            Linux-5.15.25-1-MANJARO-x86_64-with-glibc2.35\n",
       "Threads number                                                 24\n",
       "KarateClub version                                          1.3.0\n",
       "PyTorch version                                      1.11.0+cu102\n",
       "TensorFlow version                                          2.8.0\n",
       "PyKEEN version                                              1.8.1"
      ]
     },
     "metadata": {},
     "output_type": "display_data"
    }
   ],
   "source": [
    "from grape import print_version\n",
    "\n",
    "print_version()"
   ]
  },
  {
   "cell_type": "markdown",
   "id": "a1518487",
   "metadata": {},
   "source": [
    "## Retrieving NPKG\n",
    "First, we retrieve NPKG:"
   ]
  },
  {
   "cell_type": "code",
   "execution_count": 2,
   "id": "869bccc9",
   "metadata": {},
   "outputs": [],
   "source": [
    "from grape.datasets.zenodo import NPKG\n",
    "\n",
    "graph = NPKG(directed=True)"
   ]
  },
  {
   "cell_type": "markdown",
   "id": "11eb6bf1",
   "metadata": {},
   "source": [
    "Then, let's take a look at its graph report:"
   ]
  },
  {
   "cell_type": "code",
   "execution_count": 3,
   "id": "a7dcf58d",
   "metadata": {},
   "outputs": [
    {
     "data": {
      "text/html": [
       "<div class=\"graph-report\"><style>.graph-report li {margin: 0.5em 0 0.5em 0;}.graph-report .paragraph {text-align: justify;word-break: break-all;}.graph-report .small-columns {column-count: 4;column-gap: 2em;}.graph-report .medium-columns {column-count: 3;column-gap: 2em;}.graph-report .large-columns {column-count: 2;column-gap: 2em;}.graph-report .single-column {}@media only screen and (max-width: 600px) {.graph-report .small-columns {column-count: 1;}.graph-report .medium-columns {column-count: 1;}.graph-report .large-columns {column-count: 1;}}@media only screen and (min-width: 600px) and (max-width: 800px) {.graph-report .small-columns {column-count: 2;}.graph-report .medium-columns {column-count: 1;}.graph-report .large-columns {column-count: 1;}}@media only screen and (min-width: 800px) and (max-width: 1024px) {.graph-report .small-columns {column-count: 3;}.graph-report .medium-columns {column-count: 2;}.graph-report .large-columns {column-count: 1;}}</style><h2>NPKG</h2><p class=\"paragraph\">The directed multigraph NPKG has 745.51K nodes and 7.25M heterogeneous edges. The RAM requirements for the nodes and edges data structures are 190.61MB and 17.05MB respectively.</p><h3 style=\"margin: 1em 0 0 0;\">Degree centrality</h3><p class=\"paragraph\">The minimum node degree is 0, the maximum node degree is 21.86K, the mode degree is 2, the mean degree is 9.72 and the node degree median is 3.</p><p class=\"paragraph\">The nodes with the highest degree centrality are <a href='http://purl.obolibrary.org/obo/UBERON_0000473' target='_blank' title='Go to website to get more informations about http:&#x2f;&#x2f;purl.obolibrary.org&#x2f;obo&#x2f;UBERON_0000473'>http:&#x2f;&#x2f;purl.obolibrary.org&#x2f;obo&#x2f;UBERON_0000473</a> (degree 21.86K), <a href='http://purl.obolibrary.org/obo/GO_0005515' target='_blank' title='Go to website to get more informations about http:&#x2f;&#x2f;purl.obolibrary.org&#x2f;obo&#x2f;GO_0005515'>http:&#x2f;&#x2f;purl.obolibrary.org&#x2f;obo&#x2f;GO_0005515</a> (degree 12.33K), <a href='http://purl.obolibrary.org/obo/UBERON_0000007' target='_blank' title='Go to website to get more informations about http:&#x2f;&#x2f;purl.obolibrary.org&#x2f;obo&#x2f;UBERON_0000007'>http:&#x2f;&#x2f;purl.obolibrary.org&#x2f;obo&#x2f;UBERON_0000007</a> (degree 10.73K), <a href='http://purl.obolibrary.org/obo/UBERON_0002046' target='_blank' title='Go to website to get more informations about http:&#x2f;&#x2f;purl.obolibrary.org&#x2f;obo&#x2f;UBERON_0002046'>http:&#x2f;&#x2f;purl.obolibrary.org&#x2f;obo&#x2f;UBERON_0002046</a> (degree 10.56K) and <a href='http://purl.obolibrary.org/obo/UBERON_0001323' target='_blank' title='Go to website to get more informations about http:&#x2f;&#x2f;purl.obolibrary.org&#x2f;obo&#x2f;UBERON_0001323'>http:&#x2f;&#x2f;purl.obolibrary.org&#x2f;obo&#x2f;UBERON_0001323</a> (degree 10.39K).</p><h3 style=\"margin: 1em 0 0 0;\">Edge types</h3><p class=\"paragraph\">The graph has 299 edge types, of which the 10 most common are http:&#x2f;&#x2f;www.w3.org&#x2f;2000&#x2f;01&#x2f;rdf-schema#subClassOf (1.16M edges, 16.01%), http:&#x2f;&#x2f;purl.obolibrary.org&#x2f;obo&#x2f;RO_0002436 (1.01M edges, 14.00%), http:&#x2f;&#x2f;purl.obolibrary.org&#x2f;obo&#x2f;RO_0001025 (688.97K edges, 9.50%), http:&#x2f;&#x2f;purl.obolibrary.org&#x2f;obo&#x2f;RO_0001015 (688.79K edges, 9.50%), http:&#x2f;&#x2f;purl.obolibrary.org&#x2f;obo&#x2f;RO_0002200 (420.57K edges, 5.80%), http:&#x2f;&#x2f;purl.obolibrary.org&#x2f;obo&#x2f;RO_0002201 (420.57K edges, 5.80%), http:&#x2f;&#x2f;purl.obolibrary.org&#x2f;obo&#x2f;RO_0000057 (381.16K edges, 5.26%), http:&#x2f;&#x2f;purl.obolibrary.org&#x2f;obo&#x2f;RO_0000056 (381.14K edges, 5.26%), http:&#x2f;&#x2f;purl.obolibrary.org&#x2f;obo&#x2f;RO_0002606 (275.76K edges, 3.80%) and http:&#x2f;&#x2f;purl.obolibrary.org&#x2f;obo&#x2f;RO_0002302 (275.28K edges, 3.80%). The RAM requirement for the edge types data structure is 29.07MB.</p><h4 style=\"margin: 1em 0 0 0;\">Singleton edge types</h4><p class=\"paragraph\">Singleton edge types are edge types that are assigned exclusively to a single edge, making the edge type relatively meaningless, as it adds no more information than the name of edge itself. The graph contains 42 edges with singleton edge types, which are http:&#x2f;&#x2f;purl.obolibrary.org&#x2f;obo&#x2f;GO_0016579, http:&#x2f;&#x2f;purl.obolibrary.org&#x2f;obo&#x2f;RO_0002480, http:&#x2f;&#x2f;purl.obolibrary.org&#x2f;obo&#x2f;RO_0003309, http:&#x2f;&#x2f;purl.obolibrary.org&#x2f;obo&#x2f;RO_0002002, http:&#x2f;&#x2f;purl.obolibrary.org&#x2f;obo&#x2f;mondo#disease_has_basis_in_accumulation_of, http:&#x2f;&#x2f;purl.obolibrary.org&#x2f;obo&#x2f;uberon&#x2f;core#evolved_from, http:&#x2f;&#x2f;purl.obolibrary.org&#x2f;obo&#x2f;RO_0002482, http:&#x2f;&#x2f;purl.obolibrary.org&#x2f;obo&#x2f;RO_0002497, http:&#x2f;&#x2f;purl.obolibrary.org&#x2f;obo&#x2f;CLO_0054408 and http:&#x2f;&#x2f;purl.obolibrary.org&#x2f;obo&#x2f;CLO_0054409, plus other 32 edges with singleton edge types. </p><h3 style=\"margin: 1em 0 0 0;\">Topological Oddities</h3><p class=\"paragraph\">A topological oddity is a set of nodes in the graph that <i>may be derived</i> by an error during the generation of the edge list of the graph and, depending on the task, could bias the results of topology-based models. Note that in a directed graph we only support the detection of isomorphic nodes. In the following paragraph, we will describe the detected topological oddities.</p><h4 style=\"margin: 1em 0 0 0;\">Isomorphic node groups</h4><p class=\"paragraph\">Isomorphic groups are nodes with exactly the same neighbours and node types (if present in the graph). Nodes in such groups are topologically indistinguishable, that is swapping their ID would not change the graph topology. We have detected 5.98K isomorphic node groups in the graph, involving a total of 57.72K nodes (7.74%) and 756.89K edges (10.44%), with the largest one involving 8.78K nodes and 52.65K edges. The detected isomorphic node groups, sorted by decreasing size, are:</p><ol class=\"medium-columns\"><li><p class=\"paragraph\">Group with 8.78K nodes (degree 6): <a href='http://purl.obolibrary.org/obo/CLO_0012341' target='_blank' title='Go to website to get more informations about http:&#x2f;&#x2f;purl.obolibrary.org&#x2f;obo&#x2f;CLO_0012341'>http:&#x2f;&#x2f;purl.obolibrary.org&#x2f;obo&#x2f;CLO_0012341</a>, <a href='http://purl.obolibrary.org/obo/CLO_0026663' target='_blank' title='Go to website to get more informations about http:&#x2f;&#x2f;purl.obolibrary.org&#x2f;obo&#x2f;CLO_0026663'>http:&#x2f;&#x2f;purl.obolibrary.org&#x2f;obo&#x2f;CLO_0026663</a>, <a href='http://purl.obolibrary.org/obo/CLO_0031683' target='_blank' title='Go to website to get more informations about http:&#x2f;&#x2f;purl.obolibrary.org&#x2f;obo&#x2f;CLO_0031683'>http:&#x2f;&#x2f;purl.obolibrary.org&#x2f;obo&#x2f;CLO_0031683</a>, <a href='http://purl.obolibrary.org/obo/CLO_0020608' target='_blank' title='Go to website to get more informations about http:&#x2f;&#x2f;purl.obolibrary.org&#x2f;obo&#x2f;CLO_0020608'>http:&#x2f;&#x2f;purl.obolibrary.org&#x2f;obo&#x2f;CLO_0020608</a>, <a href='http://purl.obolibrary.org/obo/CLO_0029457' target='_blank' title='Go to website to get more informations about http:&#x2f;&#x2f;purl.obolibrary.org&#x2f;obo&#x2f;CLO_0029457'>http:&#x2f;&#x2f;purl.obolibrary.org&#x2f;obo&#x2f;CLO_0029457</a> and other 8.77K.</p></li>\n",
       "<li><p class=\"paragraph\">Group with 758 nodes (degree 55): <a href='https://uswest.ensembl.org/Homo_sapiens/Transcript/Summary?t=ENST00000410140' target='_blank' title='Go to website to get more informations about https:&#x2f;&#x2f;uswest.ensembl.org&#x2f;Homo_sapiens&#x2f;Transcript&#x2f;Summary?t=ENST00000410140'>https:&#x2f;&#x2f;uswest.ensembl.org&#x2f;Homo_sapiens&#x2f;Transcript&#x2f;Summary?t=ENST00000410140</a>, <a href='https://uswest.ensembl.org/Homo_sapiens/Transcript/Summary?t=ENST00000363740' target='_blank' title='Go to website to get more informations about https:&#x2f;&#x2f;uswest.ensembl.org&#x2f;Homo_sapiens&#x2f;Transcript&#x2f;Summary?t=ENST00000363740'>https:&#x2f;&#x2f;uswest.ensembl.org&#x2f;Homo_sapiens&#x2f;Transcript&#x2f;Summary?t=ENST00000363740</a>, <a href='https://uswest.ensembl.org/Homo_sapiens/Transcript/Summary?t=ENST00000363735' target='_blank' title='Go to website to get more informations about https:&#x2f;&#x2f;uswest.ensembl.org&#x2f;Homo_sapiens&#x2f;Transcript&#x2f;Summary?t=ENST00000363735'>https:&#x2f;&#x2f;uswest.ensembl.org&#x2f;Homo_sapiens&#x2f;Transcript&#x2f;Summary?t=ENST00000363735</a>, <a href='https://uswest.ensembl.org/Homo_sapiens/Transcript/Summary?t=ENST00000363674' target='_blank' title='Go to website to get more informations about https:&#x2f;&#x2f;uswest.ensembl.org&#x2f;Homo_sapiens&#x2f;Transcript&#x2f;Summary?t=ENST00000363674'>https:&#x2f;&#x2f;uswest.ensembl.org&#x2f;Homo_sapiens&#x2f;Transcript&#x2f;Summary?t=ENST00000363674</a>, <a href='https://uswest.ensembl.org/Homo_sapiens/Transcript/Summary?t=ENST00000384297' target='_blank' title='Go to website to get more informations about https:&#x2f;&#x2f;uswest.ensembl.org&#x2f;Homo_sapiens&#x2f;Transcript&#x2f;Summary?t=ENST00000384297'>https:&#x2f;&#x2f;uswest.ensembl.org&#x2f;Homo_sapiens&#x2f;Transcript&#x2f;Summary?t=ENST00000384297</a> and other 753.</p></li>\n",
       "<li><p class=\"paragraph\">Group with 6.33K nodes (degree 6): <a href='http://purl.obolibrary.org/obo/CLO_0016419' target='_blank' title='Go to website to get more informations about http:&#x2f;&#x2f;purl.obolibrary.org&#x2f;obo&#x2f;CLO_0016419'>http:&#x2f;&#x2f;purl.obolibrary.org&#x2f;obo&#x2f;CLO_0016419</a>, <a href='http://purl.obolibrary.org/obo/CLO_0029845' target='_blank' title='Go to website to get more informations about http:&#x2f;&#x2f;purl.obolibrary.org&#x2f;obo&#x2f;CLO_0029845'>http:&#x2f;&#x2f;purl.obolibrary.org&#x2f;obo&#x2f;CLO_0029845</a>, <a href='http://purl.obolibrary.org/obo/CLO_0035436' target='_blank' title='Go to website to get more informations about http:&#x2f;&#x2f;purl.obolibrary.org&#x2f;obo&#x2f;CLO_0035436'>http:&#x2f;&#x2f;purl.obolibrary.org&#x2f;obo&#x2f;CLO_0035436</a>, <a href='http://purl.obolibrary.org/obo/CLO_0027428' target='_blank' title='Go to website to get more informations about http:&#x2f;&#x2f;purl.obolibrary.org&#x2f;obo&#x2f;CLO_0027428'>http:&#x2f;&#x2f;purl.obolibrary.org&#x2f;obo&#x2f;CLO_0027428</a>, <a href='http://purl.obolibrary.org/obo/CLO_0031021' target='_blank' title='Go to website to get more informations about http:&#x2f;&#x2f;purl.obolibrary.org&#x2f;obo&#x2f;CLO_0031021'>http:&#x2f;&#x2f;purl.obolibrary.org&#x2f;obo&#x2f;CLO_0031021</a> and other 6.33K.</p></li>\n",
       "<li><p class=\"paragraph\">Group with 426 nodes (degree 56): <a href='https://uswest.ensembl.org/Homo_sapiens/Transcript/Summary?t=ENST00000667721' target='_blank' title='Go to website to get more informations about https:&#x2f;&#x2f;uswest.ensembl.org&#x2f;Homo_sapiens&#x2f;Transcript&#x2f;Summary?t=ENST00000667721'>https:&#x2f;&#x2f;uswest.ensembl.org&#x2f;Homo_sapiens&#x2f;Transcript&#x2f;Summary?t=ENST00000667721</a>, <a href='https://uswest.ensembl.org/Homo_sapiens/Transcript/Summary?t=ENST00000652823' target='_blank' title='Go to website to get more informations about https:&#x2f;&#x2f;uswest.ensembl.org&#x2f;Homo_sapiens&#x2f;Transcript&#x2f;Summary?t=ENST00000652823'>https:&#x2f;&#x2f;uswest.ensembl.org&#x2f;Homo_sapiens&#x2f;Transcript&#x2f;Summary?t=ENST00000652823</a>, <a href='https://uswest.ensembl.org/Homo_sapiens/Transcript/Summary?t=ENST00000664327' target='_blank' title='Go to website to get more informations about https:&#x2f;&#x2f;uswest.ensembl.org&#x2f;Homo_sapiens&#x2f;Transcript&#x2f;Summary?t=ENST00000664327'>https:&#x2f;&#x2f;uswest.ensembl.org&#x2f;Homo_sapiens&#x2f;Transcript&#x2f;Summary?t=ENST00000664327</a>, <a href='https://uswest.ensembl.org/Homo_sapiens/Transcript/Summary?t=ENST00000664191' target='_blank' title='Go to website to get more informations about https:&#x2f;&#x2f;uswest.ensembl.org&#x2f;Homo_sapiens&#x2f;Transcript&#x2f;Summary?t=ENST00000664191'>https:&#x2f;&#x2f;uswest.ensembl.org&#x2f;Homo_sapiens&#x2f;Transcript&#x2f;Summary?t=ENST00000664191</a>, <a href='https://uswest.ensembl.org/Homo_sapiens/Transcript/Summary?t=ENST00000669627' target='_blank' title='Go to website to get more informations about https:&#x2f;&#x2f;uswest.ensembl.org&#x2f;Homo_sapiens&#x2f;Transcript&#x2f;Summary?t=ENST00000669627'>https:&#x2f;&#x2f;uswest.ensembl.org&#x2f;Homo_sapiens&#x2f;Transcript&#x2f;Summary?t=ENST00000669627</a> and other 421.</p></li>\n",
       "<li><p class=\"paragraph\">Group with 3.09K nodes (degree 5): <a href='http://purl.obolibrary.org/obo/CLO_0004602' target='_blank' title='Go to website to get more informations about http:&#x2f;&#x2f;purl.obolibrary.org&#x2f;obo&#x2f;CLO_0004602'>http:&#x2f;&#x2f;purl.obolibrary.org&#x2f;obo&#x2f;CLO_0004602</a>, <a href='http://purl.obolibrary.org/obo/CLO_0006188' target='_blank' title='Go to website to get more informations about http:&#x2f;&#x2f;purl.obolibrary.org&#x2f;obo&#x2f;CLO_0006188'>http:&#x2f;&#x2f;purl.obolibrary.org&#x2f;obo&#x2f;CLO_0006188</a>, <a href='http://purl.obolibrary.org/obo/CLO_0006110' target='_blank' title='Go to website to get more informations about http:&#x2f;&#x2f;purl.obolibrary.org&#x2f;obo&#x2f;CLO_0006110'>http:&#x2f;&#x2f;purl.obolibrary.org&#x2f;obo&#x2f;CLO_0006110</a>, <a href='http://purl.obolibrary.org/obo/CLO_0009680' target='_blank' title='Go to website to get more informations about http:&#x2f;&#x2f;purl.obolibrary.org&#x2f;obo&#x2f;CLO_0009680'>http:&#x2f;&#x2f;purl.obolibrary.org&#x2f;obo&#x2f;CLO_0009680</a>, <a href='http://purl.obolibrary.org/obo/CLO_0005977' target='_blank' title='Go to website to get more informations about http:&#x2f;&#x2f;purl.obolibrary.org&#x2f;obo&#x2f;CLO_0005977'>http:&#x2f;&#x2f;purl.obolibrary.org&#x2f;obo&#x2f;CLO_0005977</a> and other 3.09K.</p></li>\n",
       "<li><p class=\"paragraph\">Group with 238 nodes (degree 56): <a href='https://uswest.ensembl.org/Homo_sapiens/Transcript/Summary?t=ENST00000662103' target='_blank' title='Go to website to get more informations about https:&#x2f;&#x2f;uswest.ensembl.org&#x2f;Homo_sapiens&#x2f;Transcript&#x2f;Summary?t=ENST00000662103'>https:&#x2f;&#x2f;uswest.ensembl.org&#x2f;Homo_sapiens&#x2f;Transcript&#x2f;Summary?t=ENST00000662103</a>, <a href='https://uswest.ensembl.org/Homo_sapiens/Transcript/Summary?t=ENST00000457076' target='_blank' title='Go to website to get more informations about https:&#x2f;&#x2f;uswest.ensembl.org&#x2f;Homo_sapiens&#x2f;Transcript&#x2f;Summary?t=ENST00000457076'>https:&#x2f;&#x2f;uswest.ensembl.org&#x2f;Homo_sapiens&#x2f;Transcript&#x2f;Summary?t=ENST00000457076</a>, <a href='https://uswest.ensembl.org/Homo_sapiens/Transcript/Summary?t=ENST00000419542' target='_blank' title='Go to website to get more informations about https:&#x2f;&#x2f;uswest.ensembl.org&#x2f;Homo_sapiens&#x2f;Transcript&#x2f;Summary?t=ENST00000419542'>https:&#x2f;&#x2f;uswest.ensembl.org&#x2f;Homo_sapiens&#x2f;Transcript&#x2f;Summary?t=ENST00000419542</a>, <a href='https://uswest.ensembl.org/Homo_sapiens/Transcript/Summary?t=ENST00000670974' target='_blank' title='Go to website to get more informations about https:&#x2f;&#x2f;uswest.ensembl.org&#x2f;Homo_sapiens&#x2f;Transcript&#x2f;Summary?t=ENST00000670974'>https:&#x2f;&#x2f;uswest.ensembl.org&#x2f;Homo_sapiens&#x2f;Transcript&#x2f;Summary?t=ENST00000670974</a>, <a href='https://uswest.ensembl.org/Homo_sapiens/Transcript/Summary?t=ENST00000612876' target='_blank' title='Go to website to get more informations about https:&#x2f;&#x2f;uswest.ensembl.org&#x2f;Homo_sapiens&#x2f;Transcript&#x2f;Summary?t=ENST00000612876'>https:&#x2f;&#x2f;uswest.ensembl.org&#x2f;Homo_sapiens&#x2f;Transcript&#x2f;Summary?t=ENST00000612876</a> and other 233.</p></li>\n",
       "<li><p class=\"paragraph\">Group with 151 nodes (degree 56): <a href='https://uswest.ensembl.org/Homo_sapiens/Transcript/Summary?t=ENST00000458373' target='_blank' title='Go to website to get more informations about https:&#x2f;&#x2f;uswest.ensembl.org&#x2f;Homo_sapiens&#x2f;Transcript&#x2f;Summary?t=ENST00000458373'>https:&#x2f;&#x2f;uswest.ensembl.org&#x2f;Homo_sapiens&#x2f;Transcript&#x2f;Summary?t=ENST00000458373</a>, <a href='https://uswest.ensembl.org/Homo_sapiens/Transcript/Summary?t=ENST00000583950' target='_blank' title='Go to website to get more informations about https:&#x2f;&#x2f;uswest.ensembl.org&#x2f;Homo_sapiens&#x2f;Transcript&#x2f;Summary?t=ENST00000583950'>https:&#x2f;&#x2f;uswest.ensembl.org&#x2f;Homo_sapiens&#x2f;Transcript&#x2f;Summary?t=ENST00000583950</a>, <a href='https://uswest.ensembl.org/Homo_sapiens/Transcript/Summary?t=ENST00000462823' target='_blank' title='Go to website to get more informations about https:&#x2f;&#x2f;uswest.ensembl.org&#x2f;Homo_sapiens&#x2f;Transcript&#x2f;Summary?t=ENST00000462823'>https:&#x2f;&#x2f;uswest.ensembl.org&#x2f;Homo_sapiens&#x2f;Transcript&#x2f;Summary?t=ENST00000462823</a>, <a href='https://uswest.ensembl.org/Homo_sapiens/Transcript/Summary?t=ENST00000397718' target='_blank' title='Go to website to get more informations about https:&#x2f;&#x2f;uswest.ensembl.org&#x2f;Homo_sapiens&#x2f;Transcript&#x2f;Summary?t=ENST00000397718'>https:&#x2f;&#x2f;uswest.ensembl.org&#x2f;Homo_sapiens&#x2f;Transcript&#x2f;Summary?t=ENST00000397718</a>, <a href='https://uswest.ensembl.org/Homo_sapiens/Transcript/Summary?t=ENST00000675889' target='_blank' title='Go to website to get more informations about https:&#x2f;&#x2f;uswest.ensembl.org&#x2f;Homo_sapiens&#x2f;Transcript&#x2f;Summary?t=ENST00000675889'>https:&#x2f;&#x2f;uswest.ensembl.org&#x2f;Homo_sapiens&#x2f;Transcript&#x2f;Summary?t=ENST00000675889</a> and other 146.</p></li>\n",
       "<li><p class=\"paragraph\">Group with 143 nodes (degree 54): <a href='https://uswest.ensembl.org/Homo_sapiens/Transcript/Summary?t=ENST00000670394' target='_blank' title='Go to website to get more informations about https:&#x2f;&#x2f;uswest.ensembl.org&#x2f;Homo_sapiens&#x2f;Transcript&#x2f;Summary?t=ENST00000670394'>https:&#x2f;&#x2f;uswest.ensembl.org&#x2f;Homo_sapiens&#x2f;Transcript&#x2f;Summary?t=ENST00000670394</a>, <a href='https://uswest.ensembl.org/Homo_sapiens/Transcript/Summary?t=ENST00000655153' target='_blank' title='Go to website to get more informations about https:&#x2f;&#x2f;uswest.ensembl.org&#x2f;Homo_sapiens&#x2f;Transcript&#x2f;Summary?t=ENST00000655153'>https:&#x2f;&#x2f;uswest.ensembl.org&#x2f;Homo_sapiens&#x2f;Transcript&#x2f;Summary?t=ENST00000655153</a>, <a href='https://uswest.ensembl.org/Homo_sapiens/Transcript/Summary?t=ENST00000552781' target='_blank' title='Go to website to get more informations about https:&#x2f;&#x2f;uswest.ensembl.org&#x2f;Homo_sapiens&#x2f;Transcript&#x2f;Summary?t=ENST00000552781'>https:&#x2f;&#x2f;uswest.ensembl.org&#x2f;Homo_sapiens&#x2f;Transcript&#x2f;Summary?t=ENST00000552781</a>, <a href='https://uswest.ensembl.org/Homo_sapiens/Transcript/Summary?t=ENST00000668750' target='_blank' title='Go to website to get more informations about https:&#x2f;&#x2f;uswest.ensembl.org&#x2f;Homo_sapiens&#x2f;Transcript&#x2f;Summary?t=ENST00000668750'>https:&#x2f;&#x2f;uswest.ensembl.org&#x2f;Homo_sapiens&#x2f;Transcript&#x2f;Summary?t=ENST00000668750</a>, <a href='https://uswest.ensembl.org/Homo_sapiens/Transcript/Summary?t=ENST00000654223' target='_blank' title='Go to website to get more informations about https:&#x2f;&#x2f;uswest.ensembl.org&#x2f;Homo_sapiens&#x2f;Transcript&#x2f;Summary?t=ENST00000654223'>https:&#x2f;&#x2f;uswest.ensembl.org&#x2f;Homo_sapiens&#x2f;Transcript&#x2f;Summary?t=ENST00000654223</a> and other 138.</p></li>\n",
       "<li><p class=\"paragraph\">Group with 169 nodes (degree 44): <a href='https://uswest.ensembl.org/Homo_sapiens/Transcript/Summary?t=ENST00000614637' target='_blank' title='Go to website to get more informations about https:&#x2f;&#x2f;uswest.ensembl.org&#x2f;Homo_sapiens&#x2f;Transcript&#x2f;Summary?t=ENST00000614637'>https:&#x2f;&#x2f;uswest.ensembl.org&#x2f;Homo_sapiens&#x2f;Transcript&#x2f;Summary?t=ENST00000614637</a>, <a href='https://uswest.ensembl.org/Homo_sapiens/Transcript/Summary?t=ENST00000615501' target='_blank' title='Go to website to get more informations about https:&#x2f;&#x2f;uswest.ensembl.org&#x2f;Homo_sapiens&#x2f;Transcript&#x2f;Summary?t=ENST00000615501'>https:&#x2f;&#x2f;uswest.ensembl.org&#x2f;Homo_sapiens&#x2f;Transcript&#x2f;Summary?t=ENST00000615501</a>, <a href='https://uswest.ensembl.org/Homo_sapiens/Transcript/Summary?t=ENST00000616394' target='_blank' title='Go to website to get more informations about https:&#x2f;&#x2f;uswest.ensembl.org&#x2f;Homo_sapiens&#x2f;Transcript&#x2f;Summary?t=ENST00000616394'>https:&#x2f;&#x2f;uswest.ensembl.org&#x2f;Homo_sapiens&#x2f;Transcript&#x2f;Summary?t=ENST00000616394</a>, <a href='https://uswest.ensembl.org/Homo_sapiens/Transcript/Summary?t=ENST00000612585' target='_blank' title='Go to website to get more informations about https:&#x2f;&#x2f;uswest.ensembl.org&#x2f;Homo_sapiens&#x2f;Transcript&#x2f;Summary?t=ENST00000612585'>https:&#x2f;&#x2f;uswest.ensembl.org&#x2f;Homo_sapiens&#x2f;Transcript&#x2f;Summary?t=ENST00000612585</a>, <a href='https://uswest.ensembl.org/Homo_sapiens/Transcript/Summary?t=ENST00000619339' target='_blank' title='Go to website to get more informations about https:&#x2f;&#x2f;uswest.ensembl.org&#x2f;Homo_sapiens&#x2f;Transcript&#x2f;Summary?t=ENST00000619339'>https:&#x2f;&#x2f;uswest.ensembl.org&#x2f;Homo_sapiens&#x2f;Transcript&#x2f;Summary?t=ENST00000619339</a> and other 164.</p></li>\n",
       "<li><p class=\"paragraph\">Group with 1.00K nodes (degree 7): <a href='http://purl.obolibrary.org/obo/CLO_0032503' target='_blank' title='Go to website to get more informations about http:&#x2f;&#x2f;purl.obolibrary.org&#x2f;obo&#x2f;CLO_0032503'>http:&#x2f;&#x2f;purl.obolibrary.org&#x2f;obo&#x2f;CLO_0032503</a>, <a href='http://purl.obolibrary.org/obo/CLO_0017669' target='_blank' title='Go to website to get more informations about http:&#x2f;&#x2f;purl.obolibrary.org&#x2f;obo&#x2f;CLO_0017669'>http:&#x2f;&#x2f;purl.obolibrary.org&#x2f;obo&#x2f;CLO_0017669</a>, <a href='http://purl.obolibrary.org/obo/CLO_0019711' target='_blank' title='Go to website to get more informations about http:&#x2f;&#x2f;purl.obolibrary.org&#x2f;obo&#x2f;CLO_0019711'>http:&#x2f;&#x2f;purl.obolibrary.org&#x2f;obo&#x2f;CLO_0019711</a>, <a href='http://purl.obolibrary.org/obo/CLO_0032064' target='_blank' title='Go to website to get more informations about http:&#x2f;&#x2f;purl.obolibrary.org&#x2f;obo&#x2f;CLO_0032064'>http:&#x2f;&#x2f;purl.obolibrary.org&#x2f;obo&#x2f;CLO_0032064</a>, <a href='http://purl.obolibrary.org/obo/CLO_0021829' target='_blank' title='Go to website to get more informations about http:&#x2f;&#x2f;purl.obolibrary.org&#x2f;obo&#x2f;CLO_0021829'>http:&#x2f;&#x2f;purl.obolibrary.org&#x2f;obo&#x2f;CLO_0021829</a> and other 998.</p></li>\n",
       "<li><p class=\"paragraph\">Group with 143 nodes (degree 45): <a href='https://uswest.ensembl.org/Homo_sapiens/Transcript/Summary?t=ENST00000660287' target='_blank' title='Go to website to get more informations about https:&#x2f;&#x2f;uswest.ensembl.org&#x2f;Homo_sapiens&#x2f;Transcript&#x2f;Summary?t=ENST00000660287'>https:&#x2f;&#x2f;uswest.ensembl.org&#x2f;Homo_sapiens&#x2f;Transcript&#x2f;Summary?t=ENST00000660287</a>, <a href='https://uswest.ensembl.org/Homo_sapiens/Transcript/Summary?t=ENST00000662969' target='_blank' title='Go to website to get more informations about https:&#x2f;&#x2f;uswest.ensembl.org&#x2f;Homo_sapiens&#x2f;Transcript&#x2f;Summary?t=ENST00000662969'>https:&#x2f;&#x2f;uswest.ensembl.org&#x2f;Homo_sapiens&#x2f;Transcript&#x2f;Summary?t=ENST00000662969</a>, <a href='https://uswest.ensembl.org/Homo_sapiens/Transcript/Summary?t=ENST00000445461' target='_blank' title='Go to website to get more informations about https:&#x2f;&#x2f;uswest.ensembl.org&#x2f;Homo_sapiens&#x2f;Transcript&#x2f;Summary?t=ENST00000445461'>https:&#x2f;&#x2f;uswest.ensembl.org&#x2f;Homo_sapiens&#x2f;Transcript&#x2f;Summary?t=ENST00000445461</a>, <a href='https://uswest.ensembl.org/Homo_sapiens/Transcript/Summary?t=ENST00000669276' target='_blank' title='Go to website to get more informations about https:&#x2f;&#x2f;uswest.ensembl.org&#x2f;Homo_sapiens&#x2f;Transcript&#x2f;Summary?t=ENST00000669276'>https:&#x2f;&#x2f;uswest.ensembl.org&#x2f;Homo_sapiens&#x2f;Transcript&#x2f;Summary?t=ENST00000669276</a>, <a href='https://uswest.ensembl.org/Homo_sapiens/Transcript/Summary?t=ENST00000667869' target='_blank' title='Go to website to get more informations about https:&#x2f;&#x2f;uswest.ensembl.org&#x2f;Homo_sapiens&#x2f;Transcript&#x2f;Summary?t=ENST00000667869'>https:&#x2f;&#x2f;uswest.ensembl.org&#x2f;Homo_sapiens&#x2f;Transcript&#x2f;Summary?t=ENST00000667869</a> and other 138.</p></li>\n",
       "<li><p class=\"paragraph\">Group with 176 nodes (degree 34): <a href='https://uswest.ensembl.org/Homo_sapiens/Transcript/Summary?t=ENST00000656948' target='_blank' title='Go to website to get more informations about https:&#x2f;&#x2f;uswest.ensembl.org&#x2f;Homo_sapiens&#x2f;Transcript&#x2f;Summary?t=ENST00000656948'>https:&#x2f;&#x2f;uswest.ensembl.org&#x2f;Homo_sapiens&#x2f;Transcript&#x2f;Summary?t=ENST00000656948</a>, <a href='https://uswest.ensembl.org/Homo_sapiens/Transcript/Summary?t=ENST00000658242' target='_blank' title='Go to website to get more informations about https:&#x2f;&#x2f;uswest.ensembl.org&#x2f;Homo_sapiens&#x2f;Transcript&#x2f;Summary?t=ENST00000658242'>https:&#x2f;&#x2f;uswest.ensembl.org&#x2f;Homo_sapiens&#x2f;Transcript&#x2f;Summary?t=ENST00000658242</a>, <a href='https://uswest.ensembl.org/Homo_sapiens/Transcript/Summary?t=ENST00000657945' target='_blank' title='Go to website to get more informations about https:&#x2f;&#x2f;uswest.ensembl.org&#x2f;Homo_sapiens&#x2f;Transcript&#x2f;Summary?t=ENST00000657945'>https:&#x2f;&#x2f;uswest.ensembl.org&#x2f;Homo_sapiens&#x2f;Transcript&#x2f;Summary?t=ENST00000657945</a>, <a href='https://uswest.ensembl.org/Homo_sapiens/Transcript/Summary?t=ENST00000668480' target='_blank' title='Go to website to get more informations about https:&#x2f;&#x2f;uswest.ensembl.org&#x2f;Homo_sapiens&#x2f;Transcript&#x2f;Summary?t=ENST00000668480'>https:&#x2f;&#x2f;uswest.ensembl.org&#x2f;Homo_sapiens&#x2f;Transcript&#x2f;Summary?t=ENST00000668480</a>, <a href='https://uswest.ensembl.org/Homo_sapiens/Transcript/Summary?t=ENST00000657667' target='_blank' title='Go to website to get more informations about https:&#x2f;&#x2f;uswest.ensembl.org&#x2f;Homo_sapiens&#x2f;Transcript&#x2f;Summary?t=ENST00000657667'>https:&#x2f;&#x2f;uswest.ensembl.org&#x2f;Homo_sapiens&#x2f;Transcript&#x2f;Summary?t=ENST00000657667</a> and other 171.</p></li>\n",
       "<li><p class=\"paragraph\">Group with 727 nodes (degree 7): <a href='http://purl.obolibrary.org/obo/CLO_0034343' target='_blank' title='Go to website to get more informations about http:&#x2f;&#x2f;purl.obolibrary.org&#x2f;obo&#x2f;CLO_0034343'>http:&#x2f;&#x2f;purl.obolibrary.org&#x2f;obo&#x2f;CLO_0034343</a>, <a href='http://purl.obolibrary.org/obo/CLO_0033862' target='_blank' title='Go to website to get more informations about http:&#x2f;&#x2f;purl.obolibrary.org&#x2f;obo&#x2f;CLO_0033862'>http:&#x2f;&#x2f;purl.obolibrary.org&#x2f;obo&#x2f;CLO_0033862</a>, <a href='http://purl.obolibrary.org/obo/CLO_0027916' target='_blank' title='Go to website to get more informations about http:&#x2f;&#x2f;purl.obolibrary.org&#x2f;obo&#x2f;CLO_0027916'>http:&#x2f;&#x2f;purl.obolibrary.org&#x2f;obo&#x2f;CLO_0027916</a>, <a href='http://purl.obolibrary.org/obo/CLO_0027136' target='_blank' title='Go to website to get more informations about http:&#x2f;&#x2f;purl.obolibrary.org&#x2f;obo&#x2f;CLO_0027136'>http:&#x2f;&#x2f;purl.obolibrary.org&#x2f;obo&#x2f;CLO_0027136</a>, <a href='http://purl.obolibrary.org/obo/CLO_0018837' target='_blank' title='Go to website to get more informations about http:&#x2f;&#x2f;purl.obolibrary.org&#x2f;obo&#x2f;CLO_0018837'>http:&#x2f;&#x2f;purl.obolibrary.org&#x2f;obo&#x2f;CLO_0018837</a> and other 722.</p></li>\n",
       "<li><p class=\"paragraph\">Group with 86 nodes (degree 57): <a href='https://uswest.ensembl.org/Homo_sapiens/Transcript/Summary?t=ENST00000665440' target='_blank' title='Go to website to get more informations about https:&#x2f;&#x2f;uswest.ensembl.org&#x2f;Homo_sapiens&#x2f;Transcript&#x2f;Summary?t=ENST00000665440'>https:&#x2f;&#x2f;uswest.ensembl.org&#x2f;Homo_sapiens&#x2f;Transcript&#x2f;Summary?t=ENST00000665440</a>, <a href='https://uswest.ensembl.org/Homo_sapiens/Transcript/Summary?t=ENST00000658488' target='_blank' title='Go to website to get more informations about https:&#x2f;&#x2f;uswest.ensembl.org&#x2f;Homo_sapiens&#x2f;Transcript&#x2f;Summary?t=ENST00000658488'>https:&#x2f;&#x2f;uswest.ensembl.org&#x2f;Homo_sapiens&#x2f;Transcript&#x2f;Summary?t=ENST00000658488</a>, <a href='https://uswest.ensembl.org/Homo_sapiens/Transcript/Summary?t=ENST00000662572' target='_blank' title='Go to website to get more informations about https:&#x2f;&#x2f;uswest.ensembl.org&#x2f;Homo_sapiens&#x2f;Transcript&#x2f;Summary?t=ENST00000662572'>https:&#x2f;&#x2f;uswest.ensembl.org&#x2f;Homo_sapiens&#x2f;Transcript&#x2f;Summary?t=ENST00000662572</a>, <a href='https://uswest.ensembl.org/Homo_sapiens/Transcript/Summary?t=ENST00000669480' target='_blank' title='Go to website to get more informations about https:&#x2f;&#x2f;uswest.ensembl.org&#x2f;Homo_sapiens&#x2f;Transcript&#x2f;Summary?t=ENST00000669480'>https:&#x2f;&#x2f;uswest.ensembl.org&#x2f;Homo_sapiens&#x2f;Transcript&#x2f;Summary?t=ENST00000669480</a>, <a href='https://uswest.ensembl.org/Homo_sapiens/Transcript/Summary?t=ENST00000651115' target='_blank' title='Go to website to get more informations about https:&#x2f;&#x2f;uswest.ensembl.org&#x2f;Homo_sapiens&#x2f;Transcript&#x2f;Summary?t=ENST00000651115'>https:&#x2f;&#x2f;uswest.ensembl.org&#x2f;Homo_sapiens&#x2f;Transcript&#x2f;Summary?t=ENST00000651115</a> and other 81.</p></li>\n",
       "<li><p class=\"paragraph\">Group with 678 nodes (degree 7): <a href='http://purl.obolibrary.org/obo/CLO_0030190' target='_blank' title='Go to website to get more informations about http:&#x2f;&#x2f;purl.obolibrary.org&#x2f;obo&#x2f;CLO_0030190'>http:&#x2f;&#x2f;purl.obolibrary.org&#x2f;obo&#x2f;CLO_0030190</a>, <a href='http://purl.obolibrary.org/obo/CLO_0034689' target='_blank' title='Go to website to get more informations about http:&#x2f;&#x2f;purl.obolibrary.org&#x2f;obo&#x2f;CLO_0034689'>http:&#x2f;&#x2f;purl.obolibrary.org&#x2f;obo&#x2f;CLO_0034689</a>, <a href='http://purl.obolibrary.org/obo/CLO_0022478' target='_blank' title='Go to website to get more informations about http:&#x2f;&#x2f;purl.obolibrary.org&#x2f;obo&#x2f;CLO_0022478'>http:&#x2f;&#x2f;purl.obolibrary.org&#x2f;obo&#x2f;CLO_0022478</a>, <a href='http://purl.obolibrary.org/obo/CLO_0033677' target='_blank' title='Go to website to get more informations about http:&#x2f;&#x2f;purl.obolibrary.org&#x2f;obo&#x2f;CLO_0033677'>http:&#x2f;&#x2f;purl.obolibrary.org&#x2f;obo&#x2f;CLO_0033677</a>, <a href='http://purl.obolibrary.org/obo/CLO_0031511' target='_blank' title='Go to website to get more informations about http:&#x2f;&#x2f;purl.obolibrary.org&#x2f;obo&#x2f;CLO_0031511'>http:&#x2f;&#x2f;purl.obolibrary.org&#x2f;obo&#x2f;CLO_0031511</a> and other 673.</p></li></ol><p class=\"paragraph\">And other 5.97K isomorphic node groups.</p></div>"
      ],
      "text/plain": [
       "<div class=\"graph-report\"><style>.graph-report li {margin: 0.5em 0 0.5em 0;}.graph-report .paragraph {text-align: justify;word-break: break-all;}.graph-report .small-columns {column-count: 4;column-gap: 2em;}.graph-report .medium-columns {column-count: 3;column-gap: 2em;}.graph-report .large-columns {column-count: 2;column-gap: 2em;}.graph-report .single-column {}@media only screen and (max-width: 600px) {.graph-report .small-columns {column-count: 1;}.graph-report .medium-columns {column-count: 1;}.graph-report .large-columns {column-count: 1;}}@media only screen and (min-width: 600px) and (max-width: 800px) {.graph-report .small-columns {column-count: 2;}.graph-report .medium-columns {column-count: 1;}.graph-report .large-columns {column-count: 1;}}@media only screen and (min-width: 800px) and (max-width: 1024px) {.graph-report .small-columns {column-count: 3;}.graph-report .medium-columns {column-count: 2;}.graph-report .large-columns {column-count: 1;}}</style><h2>NPKG</h2><p class=\"paragraph\">The directed multigraph NPKG has 745.51K nodes and 7.25M heterogeneous edges. The RAM requirements for the nodes and edges data structures are 190.61MB and 17.05MB respectively.</p><h3 style=\"margin: 1em 0 0 0;\">Degree centrality</h3><p class=\"paragraph\">The minimum node degree is 0, the maximum node degree is 21.86K, the mode degree is 2, the mean degree is 9.72 and the node degree median is 3.</p><p class=\"paragraph\">The nodes with the highest degree centrality are <a href='http://purl.obolibrary.org/obo/UBERON_0000473' target='_blank' title='Go to website to get more informations about http:&#x2f;&#x2f;purl.obolibrary.org&#x2f;obo&#x2f;UBERON_0000473'>http:&#x2f;&#x2f;purl.obolibrary.org&#x2f;obo&#x2f;UBERON_0000473</a> (degree 21.86K), <a href='http://purl.obolibrary.org/obo/GO_0005515' target='_blank' title='Go to website to get more informations about http:&#x2f;&#x2f;purl.obolibrary.org&#x2f;obo&#x2f;GO_0005515'>http:&#x2f;&#x2f;purl.obolibrary.org&#x2f;obo&#x2f;GO_0005515</a> (degree 12.33K), <a href='http://purl.obolibrary.org/obo/UBERON_0000007' target='_blank' title='Go to website to get more informations about http:&#x2f;&#x2f;purl.obolibrary.org&#x2f;obo&#x2f;UBERON_0000007'>http:&#x2f;&#x2f;purl.obolibrary.org&#x2f;obo&#x2f;UBERON_0000007</a> (degree 10.73K), <a href='http://purl.obolibrary.org/obo/UBERON_0002046' target='_blank' title='Go to website to get more informations about http:&#x2f;&#x2f;purl.obolibrary.org&#x2f;obo&#x2f;UBERON_0002046'>http:&#x2f;&#x2f;purl.obolibrary.org&#x2f;obo&#x2f;UBERON_0002046</a> (degree 10.56K) and <a href='http://purl.obolibrary.org/obo/UBERON_0001323' target='_blank' title='Go to website to get more informations about http:&#x2f;&#x2f;purl.obolibrary.org&#x2f;obo&#x2f;UBERON_0001323'>http:&#x2f;&#x2f;purl.obolibrary.org&#x2f;obo&#x2f;UBERON_0001323</a> (degree 10.39K).</p><h3 style=\"margin: 1em 0 0 0;\">Edge types</h3><p class=\"paragraph\">The graph has 299 edge types, of which the 10 most common are http:&#x2f;&#x2f;www.w3.org&#x2f;2000&#x2f;01&#x2f;rdf-schema#subClassOf (1.16M edges, 16.01%), http:&#x2f;&#x2f;purl.obolibrary.org&#x2f;obo&#x2f;RO_0002436 (1.01M edges, 14.00%), http:&#x2f;&#x2f;purl.obolibrary.org&#x2f;obo&#x2f;RO_0001025 (688.97K edges, 9.50%), http:&#x2f;&#x2f;purl.obolibrary.org&#x2f;obo&#x2f;RO_0001015 (688.79K edges, 9.50%), http:&#x2f;&#x2f;purl.obolibrary.org&#x2f;obo&#x2f;RO_0002201 (420.57K edges, 5.80%), http:&#x2f;&#x2f;purl.obolibrary.org&#x2f;obo&#x2f;RO_0002200 (420.57K edges, 5.80%), http:&#x2f;&#x2f;purl.obolibrary.org&#x2f;obo&#x2f;RO_0000057 (381.16K edges, 5.26%), http:&#x2f;&#x2f;purl.obolibrary.org&#x2f;obo&#x2f;RO_0000056 (381.14K edges, 5.26%), http:&#x2f;&#x2f;purl.obolibrary.org&#x2f;obo&#x2f;RO_0002606 (275.76K edges, 3.80%) and http:&#x2f;&#x2f;purl.obolibrary.org&#x2f;obo&#x2f;RO_0002302 (275.28K edges, 3.80%). The RAM requirement for the edge types data structure is 29.07MB.</p><h4 style=\"margin: 1em 0 0 0;\">Singleton edge types</h4><p class=\"paragraph\">Singleton edge types are edge types that are assigned exclusively to a single edge, making the edge type relatively meaningless, as it adds no more information than the name of edge itself. The graph contains 42 edges with singleton edge types, which are http:&#x2f;&#x2f;purl.obolibrary.org&#x2f;obo&#x2f;GO_0016579, http:&#x2f;&#x2f;purl.obolibrary.org&#x2f;obo&#x2f;RO_0002480, http:&#x2f;&#x2f;purl.obolibrary.org&#x2f;obo&#x2f;RO_0003309, http:&#x2f;&#x2f;purl.obolibrary.org&#x2f;obo&#x2f;RO_0002002, http:&#x2f;&#x2f;purl.obolibrary.org&#x2f;obo&#x2f;mondo#disease_has_basis_in_accumulation_of, http:&#x2f;&#x2f;purl.obolibrary.org&#x2f;obo&#x2f;uberon&#x2f;core#evolved_from, http:&#x2f;&#x2f;purl.obolibrary.org&#x2f;obo&#x2f;RO_0002482, http:&#x2f;&#x2f;purl.obolibrary.org&#x2f;obo&#x2f;RO_0002497, http:&#x2f;&#x2f;purl.obolibrary.org&#x2f;obo&#x2f;CLO_0054408 and http:&#x2f;&#x2f;purl.obolibrary.org&#x2f;obo&#x2f;CLO_0054409, plus other 32 edges with singleton edge types. </p><h3 style=\"margin: 1em 0 0 0;\">Topological Oddities</h3><p class=\"paragraph\">A topological oddity is a set of nodes in the graph that <i>may be derived</i> by an error during the generation of the edge list of the graph and, depending on the task, could bias the results of topology-based models. Note that in a directed graph we only support the detection of isomorphic nodes. In the following paragraph, we will describe the detected topological oddities.</p><h4 style=\"margin: 1em 0 0 0;\">Isomorphic node groups</h4><p class=\"paragraph\">Isomorphic groups are nodes with exactly the same neighbours and node types (if present in the graph). Nodes in such groups are topologically indistinguishable, that is swapping their ID would not change the graph topology. We have detected 5.98K isomorphic node groups in the graph, involving a total of 57.72K nodes (7.74%) and 756.89K edges (10.44%), with the largest one involving 8.78K nodes and 52.65K edges. The detected isomorphic node groups, sorted by decreasing size, are:</p><ol class=\"medium-columns\"><li><p class=\"paragraph\">Group with 8.78K nodes (degree 6): <a href='http://purl.obolibrary.org/obo/CLO_0012341' target='_blank' title='Go to website to get more informations about http:&#x2f;&#x2f;purl.obolibrary.org&#x2f;obo&#x2f;CLO_0012341'>http:&#x2f;&#x2f;purl.obolibrary.org&#x2f;obo&#x2f;CLO_0012341</a>, <a href='http://purl.obolibrary.org/obo/CLO_0026663' target='_blank' title='Go to website to get more informations about http:&#x2f;&#x2f;purl.obolibrary.org&#x2f;obo&#x2f;CLO_0026663'>http:&#x2f;&#x2f;purl.obolibrary.org&#x2f;obo&#x2f;CLO_0026663</a>, <a href='http://purl.obolibrary.org/obo/CLO_0031683' target='_blank' title='Go to website to get more informations about http:&#x2f;&#x2f;purl.obolibrary.org&#x2f;obo&#x2f;CLO_0031683'>http:&#x2f;&#x2f;purl.obolibrary.org&#x2f;obo&#x2f;CLO_0031683</a>, <a href='http://purl.obolibrary.org/obo/CLO_0020608' target='_blank' title='Go to website to get more informations about http:&#x2f;&#x2f;purl.obolibrary.org&#x2f;obo&#x2f;CLO_0020608'>http:&#x2f;&#x2f;purl.obolibrary.org&#x2f;obo&#x2f;CLO_0020608</a>, <a href='http://purl.obolibrary.org/obo/CLO_0029457' target='_blank' title='Go to website to get more informations about http:&#x2f;&#x2f;purl.obolibrary.org&#x2f;obo&#x2f;CLO_0029457'>http:&#x2f;&#x2f;purl.obolibrary.org&#x2f;obo&#x2f;CLO_0029457</a> and other 8.77K.</p></li>\n",
       "<li><p class=\"paragraph\">Group with 758 nodes (degree 55): <a href='https://uswest.ensembl.org/Homo_sapiens/Transcript/Summary?t=ENST00000410140' target='_blank' title='Go to website to get more informations about https:&#x2f;&#x2f;uswest.ensembl.org&#x2f;Homo_sapiens&#x2f;Transcript&#x2f;Summary?t=ENST00000410140'>https:&#x2f;&#x2f;uswest.ensembl.org&#x2f;Homo_sapiens&#x2f;Transcript&#x2f;Summary?t=ENST00000410140</a>, <a href='https://uswest.ensembl.org/Homo_sapiens/Transcript/Summary?t=ENST00000363740' target='_blank' title='Go to website to get more informations about https:&#x2f;&#x2f;uswest.ensembl.org&#x2f;Homo_sapiens&#x2f;Transcript&#x2f;Summary?t=ENST00000363740'>https:&#x2f;&#x2f;uswest.ensembl.org&#x2f;Homo_sapiens&#x2f;Transcript&#x2f;Summary?t=ENST00000363740</a>, <a href='https://uswest.ensembl.org/Homo_sapiens/Transcript/Summary?t=ENST00000363735' target='_blank' title='Go to website to get more informations about https:&#x2f;&#x2f;uswest.ensembl.org&#x2f;Homo_sapiens&#x2f;Transcript&#x2f;Summary?t=ENST00000363735'>https:&#x2f;&#x2f;uswest.ensembl.org&#x2f;Homo_sapiens&#x2f;Transcript&#x2f;Summary?t=ENST00000363735</a>, <a href='https://uswest.ensembl.org/Homo_sapiens/Transcript/Summary?t=ENST00000363674' target='_blank' title='Go to website to get more informations about https:&#x2f;&#x2f;uswest.ensembl.org&#x2f;Homo_sapiens&#x2f;Transcript&#x2f;Summary?t=ENST00000363674'>https:&#x2f;&#x2f;uswest.ensembl.org&#x2f;Homo_sapiens&#x2f;Transcript&#x2f;Summary?t=ENST00000363674</a>, <a href='https://uswest.ensembl.org/Homo_sapiens/Transcript/Summary?t=ENST00000384297' target='_blank' title='Go to website to get more informations about https:&#x2f;&#x2f;uswest.ensembl.org&#x2f;Homo_sapiens&#x2f;Transcript&#x2f;Summary?t=ENST00000384297'>https:&#x2f;&#x2f;uswest.ensembl.org&#x2f;Homo_sapiens&#x2f;Transcript&#x2f;Summary?t=ENST00000384297</a> and other 753.</p></li>\n",
       "<li><p class=\"paragraph\">Group with 6.33K nodes (degree 6): <a href='http://purl.obolibrary.org/obo/CLO_0016419' target='_blank' title='Go to website to get more informations about http:&#x2f;&#x2f;purl.obolibrary.org&#x2f;obo&#x2f;CLO_0016419'>http:&#x2f;&#x2f;purl.obolibrary.org&#x2f;obo&#x2f;CLO_0016419</a>, <a href='http://purl.obolibrary.org/obo/CLO_0029845' target='_blank' title='Go to website to get more informations about http:&#x2f;&#x2f;purl.obolibrary.org&#x2f;obo&#x2f;CLO_0029845'>http:&#x2f;&#x2f;purl.obolibrary.org&#x2f;obo&#x2f;CLO_0029845</a>, <a href='http://purl.obolibrary.org/obo/CLO_0035436' target='_blank' title='Go to website to get more informations about http:&#x2f;&#x2f;purl.obolibrary.org&#x2f;obo&#x2f;CLO_0035436'>http:&#x2f;&#x2f;purl.obolibrary.org&#x2f;obo&#x2f;CLO_0035436</a>, <a href='http://purl.obolibrary.org/obo/CLO_0027428' target='_blank' title='Go to website to get more informations about http:&#x2f;&#x2f;purl.obolibrary.org&#x2f;obo&#x2f;CLO_0027428'>http:&#x2f;&#x2f;purl.obolibrary.org&#x2f;obo&#x2f;CLO_0027428</a>, <a href='http://purl.obolibrary.org/obo/CLO_0031021' target='_blank' title='Go to website to get more informations about http:&#x2f;&#x2f;purl.obolibrary.org&#x2f;obo&#x2f;CLO_0031021'>http:&#x2f;&#x2f;purl.obolibrary.org&#x2f;obo&#x2f;CLO_0031021</a> and other 6.33K.</p></li>\n",
       "<li><p class=\"paragraph\">Group with 426 nodes (degree 56): <a href='https://uswest.ensembl.org/Homo_sapiens/Transcript/Summary?t=ENST00000667721' target='_blank' title='Go to website to get more informations about https:&#x2f;&#x2f;uswest.ensembl.org&#x2f;Homo_sapiens&#x2f;Transcript&#x2f;Summary?t=ENST00000667721'>https:&#x2f;&#x2f;uswest.ensembl.org&#x2f;Homo_sapiens&#x2f;Transcript&#x2f;Summary?t=ENST00000667721</a>, <a href='https://uswest.ensembl.org/Homo_sapiens/Transcript/Summary?t=ENST00000652823' target='_blank' title='Go to website to get more informations about https:&#x2f;&#x2f;uswest.ensembl.org&#x2f;Homo_sapiens&#x2f;Transcript&#x2f;Summary?t=ENST00000652823'>https:&#x2f;&#x2f;uswest.ensembl.org&#x2f;Homo_sapiens&#x2f;Transcript&#x2f;Summary?t=ENST00000652823</a>, <a href='https://uswest.ensembl.org/Homo_sapiens/Transcript/Summary?t=ENST00000664327' target='_blank' title='Go to website to get more informations about https:&#x2f;&#x2f;uswest.ensembl.org&#x2f;Homo_sapiens&#x2f;Transcript&#x2f;Summary?t=ENST00000664327'>https:&#x2f;&#x2f;uswest.ensembl.org&#x2f;Homo_sapiens&#x2f;Transcript&#x2f;Summary?t=ENST00000664327</a>, <a href='https://uswest.ensembl.org/Homo_sapiens/Transcript/Summary?t=ENST00000664191' target='_blank' title='Go to website to get more informations about https:&#x2f;&#x2f;uswest.ensembl.org&#x2f;Homo_sapiens&#x2f;Transcript&#x2f;Summary?t=ENST00000664191'>https:&#x2f;&#x2f;uswest.ensembl.org&#x2f;Homo_sapiens&#x2f;Transcript&#x2f;Summary?t=ENST00000664191</a>, <a href='https://uswest.ensembl.org/Homo_sapiens/Transcript/Summary?t=ENST00000669627' target='_blank' title='Go to website to get more informations about https:&#x2f;&#x2f;uswest.ensembl.org&#x2f;Homo_sapiens&#x2f;Transcript&#x2f;Summary?t=ENST00000669627'>https:&#x2f;&#x2f;uswest.ensembl.org&#x2f;Homo_sapiens&#x2f;Transcript&#x2f;Summary?t=ENST00000669627</a> and other 421.</p></li>\n",
       "<li><p class=\"paragraph\">Group with 3.09K nodes (degree 5): <a href='http://purl.obolibrary.org/obo/CLO_0004602' target='_blank' title='Go to website to get more informations about http:&#x2f;&#x2f;purl.obolibrary.org&#x2f;obo&#x2f;CLO_0004602'>http:&#x2f;&#x2f;purl.obolibrary.org&#x2f;obo&#x2f;CLO_0004602</a>, <a href='http://purl.obolibrary.org/obo/CLO_0006188' target='_blank' title='Go to website to get more informations about http:&#x2f;&#x2f;purl.obolibrary.org&#x2f;obo&#x2f;CLO_0006188'>http:&#x2f;&#x2f;purl.obolibrary.org&#x2f;obo&#x2f;CLO_0006188</a>, <a href='http://purl.obolibrary.org/obo/CLO_0006110' target='_blank' title='Go to website to get more informations about http:&#x2f;&#x2f;purl.obolibrary.org&#x2f;obo&#x2f;CLO_0006110'>http:&#x2f;&#x2f;purl.obolibrary.org&#x2f;obo&#x2f;CLO_0006110</a>, <a href='http://purl.obolibrary.org/obo/CLO_0009680' target='_blank' title='Go to website to get more informations about http:&#x2f;&#x2f;purl.obolibrary.org&#x2f;obo&#x2f;CLO_0009680'>http:&#x2f;&#x2f;purl.obolibrary.org&#x2f;obo&#x2f;CLO_0009680</a>, <a href='http://purl.obolibrary.org/obo/CLO_0005977' target='_blank' title='Go to website to get more informations about http:&#x2f;&#x2f;purl.obolibrary.org&#x2f;obo&#x2f;CLO_0005977'>http:&#x2f;&#x2f;purl.obolibrary.org&#x2f;obo&#x2f;CLO_0005977</a> and other 3.09K.</p></li>\n",
       "<li><p class=\"paragraph\">Group with 238 nodes (degree 56): <a href='https://uswest.ensembl.org/Homo_sapiens/Transcript/Summary?t=ENST00000662103' target='_blank' title='Go to website to get more informations about https:&#x2f;&#x2f;uswest.ensembl.org&#x2f;Homo_sapiens&#x2f;Transcript&#x2f;Summary?t=ENST00000662103'>https:&#x2f;&#x2f;uswest.ensembl.org&#x2f;Homo_sapiens&#x2f;Transcript&#x2f;Summary?t=ENST00000662103</a>, <a href='https://uswest.ensembl.org/Homo_sapiens/Transcript/Summary?t=ENST00000457076' target='_blank' title='Go to website to get more informations about https:&#x2f;&#x2f;uswest.ensembl.org&#x2f;Homo_sapiens&#x2f;Transcript&#x2f;Summary?t=ENST00000457076'>https:&#x2f;&#x2f;uswest.ensembl.org&#x2f;Homo_sapiens&#x2f;Transcript&#x2f;Summary?t=ENST00000457076</a>, <a href='https://uswest.ensembl.org/Homo_sapiens/Transcript/Summary?t=ENST00000419542' target='_blank' title='Go to website to get more informations about https:&#x2f;&#x2f;uswest.ensembl.org&#x2f;Homo_sapiens&#x2f;Transcript&#x2f;Summary?t=ENST00000419542'>https:&#x2f;&#x2f;uswest.ensembl.org&#x2f;Homo_sapiens&#x2f;Transcript&#x2f;Summary?t=ENST00000419542</a>, <a href='https://uswest.ensembl.org/Homo_sapiens/Transcript/Summary?t=ENST00000670974' target='_blank' title='Go to website to get more informations about https:&#x2f;&#x2f;uswest.ensembl.org&#x2f;Homo_sapiens&#x2f;Transcript&#x2f;Summary?t=ENST00000670974'>https:&#x2f;&#x2f;uswest.ensembl.org&#x2f;Homo_sapiens&#x2f;Transcript&#x2f;Summary?t=ENST00000670974</a>, <a href='https://uswest.ensembl.org/Homo_sapiens/Transcript/Summary?t=ENST00000612876' target='_blank' title='Go to website to get more informations about https:&#x2f;&#x2f;uswest.ensembl.org&#x2f;Homo_sapiens&#x2f;Transcript&#x2f;Summary?t=ENST00000612876'>https:&#x2f;&#x2f;uswest.ensembl.org&#x2f;Homo_sapiens&#x2f;Transcript&#x2f;Summary?t=ENST00000612876</a> and other 233.</p></li>\n",
       "<li><p class=\"paragraph\">Group with 151 nodes (degree 56): <a href='https://uswest.ensembl.org/Homo_sapiens/Transcript/Summary?t=ENST00000458373' target='_blank' title='Go to website to get more informations about https:&#x2f;&#x2f;uswest.ensembl.org&#x2f;Homo_sapiens&#x2f;Transcript&#x2f;Summary?t=ENST00000458373'>https:&#x2f;&#x2f;uswest.ensembl.org&#x2f;Homo_sapiens&#x2f;Transcript&#x2f;Summary?t=ENST00000458373</a>, <a href='https://uswest.ensembl.org/Homo_sapiens/Transcript/Summary?t=ENST00000583950' target='_blank' title='Go to website to get more informations about https:&#x2f;&#x2f;uswest.ensembl.org&#x2f;Homo_sapiens&#x2f;Transcript&#x2f;Summary?t=ENST00000583950'>https:&#x2f;&#x2f;uswest.ensembl.org&#x2f;Homo_sapiens&#x2f;Transcript&#x2f;Summary?t=ENST00000583950</a>, <a href='https://uswest.ensembl.org/Homo_sapiens/Transcript/Summary?t=ENST00000462823' target='_blank' title='Go to website to get more informations about https:&#x2f;&#x2f;uswest.ensembl.org&#x2f;Homo_sapiens&#x2f;Transcript&#x2f;Summary?t=ENST00000462823'>https:&#x2f;&#x2f;uswest.ensembl.org&#x2f;Homo_sapiens&#x2f;Transcript&#x2f;Summary?t=ENST00000462823</a>, <a href='https://uswest.ensembl.org/Homo_sapiens/Transcript/Summary?t=ENST00000397718' target='_blank' title='Go to website to get more informations about https:&#x2f;&#x2f;uswest.ensembl.org&#x2f;Homo_sapiens&#x2f;Transcript&#x2f;Summary?t=ENST00000397718'>https:&#x2f;&#x2f;uswest.ensembl.org&#x2f;Homo_sapiens&#x2f;Transcript&#x2f;Summary?t=ENST00000397718</a>, <a href='https://uswest.ensembl.org/Homo_sapiens/Transcript/Summary?t=ENST00000675889' target='_blank' title='Go to website to get more informations about https:&#x2f;&#x2f;uswest.ensembl.org&#x2f;Homo_sapiens&#x2f;Transcript&#x2f;Summary?t=ENST00000675889'>https:&#x2f;&#x2f;uswest.ensembl.org&#x2f;Homo_sapiens&#x2f;Transcript&#x2f;Summary?t=ENST00000675889</a> and other 146.</p></li>\n",
       "<li><p class=\"paragraph\">Group with 143 nodes (degree 54): <a href='https://uswest.ensembl.org/Homo_sapiens/Transcript/Summary?t=ENST00000670394' target='_blank' title='Go to website to get more informations about https:&#x2f;&#x2f;uswest.ensembl.org&#x2f;Homo_sapiens&#x2f;Transcript&#x2f;Summary?t=ENST00000670394'>https:&#x2f;&#x2f;uswest.ensembl.org&#x2f;Homo_sapiens&#x2f;Transcript&#x2f;Summary?t=ENST00000670394</a>, <a href='https://uswest.ensembl.org/Homo_sapiens/Transcript/Summary?t=ENST00000655153' target='_blank' title='Go to website to get more informations about https:&#x2f;&#x2f;uswest.ensembl.org&#x2f;Homo_sapiens&#x2f;Transcript&#x2f;Summary?t=ENST00000655153'>https:&#x2f;&#x2f;uswest.ensembl.org&#x2f;Homo_sapiens&#x2f;Transcript&#x2f;Summary?t=ENST00000655153</a>, <a href='https://uswest.ensembl.org/Homo_sapiens/Transcript/Summary?t=ENST00000552781' target='_blank' title='Go to website to get more informations about https:&#x2f;&#x2f;uswest.ensembl.org&#x2f;Homo_sapiens&#x2f;Transcript&#x2f;Summary?t=ENST00000552781'>https:&#x2f;&#x2f;uswest.ensembl.org&#x2f;Homo_sapiens&#x2f;Transcript&#x2f;Summary?t=ENST00000552781</a>, <a href='https://uswest.ensembl.org/Homo_sapiens/Transcript/Summary?t=ENST00000668750' target='_blank' title='Go to website to get more informations about https:&#x2f;&#x2f;uswest.ensembl.org&#x2f;Homo_sapiens&#x2f;Transcript&#x2f;Summary?t=ENST00000668750'>https:&#x2f;&#x2f;uswest.ensembl.org&#x2f;Homo_sapiens&#x2f;Transcript&#x2f;Summary?t=ENST00000668750</a>, <a href='https://uswest.ensembl.org/Homo_sapiens/Transcript/Summary?t=ENST00000654223' target='_blank' title='Go to website to get more informations about https:&#x2f;&#x2f;uswest.ensembl.org&#x2f;Homo_sapiens&#x2f;Transcript&#x2f;Summary?t=ENST00000654223'>https:&#x2f;&#x2f;uswest.ensembl.org&#x2f;Homo_sapiens&#x2f;Transcript&#x2f;Summary?t=ENST00000654223</a> and other 138.</p></li>\n",
       "<li><p class=\"paragraph\">Group with 169 nodes (degree 44): <a href='https://uswest.ensembl.org/Homo_sapiens/Transcript/Summary?t=ENST00000614637' target='_blank' title='Go to website to get more informations about https:&#x2f;&#x2f;uswest.ensembl.org&#x2f;Homo_sapiens&#x2f;Transcript&#x2f;Summary?t=ENST00000614637'>https:&#x2f;&#x2f;uswest.ensembl.org&#x2f;Homo_sapiens&#x2f;Transcript&#x2f;Summary?t=ENST00000614637</a>, <a href='https://uswest.ensembl.org/Homo_sapiens/Transcript/Summary?t=ENST00000615501' target='_blank' title='Go to website to get more informations about https:&#x2f;&#x2f;uswest.ensembl.org&#x2f;Homo_sapiens&#x2f;Transcript&#x2f;Summary?t=ENST00000615501'>https:&#x2f;&#x2f;uswest.ensembl.org&#x2f;Homo_sapiens&#x2f;Transcript&#x2f;Summary?t=ENST00000615501</a>, <a href='https://uswest.ensembl.org/Homo_sapiens/Transcript/Summary?t=ENST00000616394' target='_blank' title='Go to website to get more informations about https:&#x2f;&#x2f;uswest.ensembl.org&#x2f;Homo_sapiens&#x2f;Transcript&#x2f;Summary?t=ENST00000616394'>https:&#x2f;&#x2f;uswest.ensembl.org&#x2f;Homo_sapiens&#x2f;Transcript&#x2f;Summary?t=ENST00000616394</a>, <a href='https://uswest.ensembl.org/Homo_sapiens/Transcript/Summary?t=ENST00000612585' target='_blank' title='Go to website to get more informations about https:&#x2f;&#x2f;uswest.ensembl.org&#x2f;Homo_sapiens&#x2f;Transcript&#x2f;Summary?t=ENST00000612585'>https:&#x2f;&#x2f;uswest.ensembl.org&#x2f;Homo_sapiens&#x2f;Transcript&#x2f;Summary?t=ENST00000612585</a>, <a href='https://uswest.ensembl.org/Homo_sapiens/Transcript/Summary?t=ENST00000619339' target='_blank' title='Go to website to get more informations about https:&#x2f;&#x2f;uswest.ensembl.org&#x2f;Homo_sapiens&#x2f;Transcript&#x2f;Summary?t=ENST00000619339'>https:&#x2f;&#x2f;uswest.ensembl.org&#x2f;Homo_sapiens&#x2f;Transcript&#x2f;Summary?t=ENST00000619339</a> and other 164.</p></li>\n",
       "<li><p class=\"paragraph\">Group with 1.00K nodes (degree 7): <a href='http://purl.obolibrary.org/obo/CLO_0032503' target='_blank' title='Go to website to get more informations about http:&#x2f;&#x2f;purl.obolibrary.org&#x2f;obo&#x2f;CLO_0032503'>http:&#x2f;&#x2f;purl.obolibrary.org&#x2f;obo&#x2f;CLO_0032503</a>, <a href='http://purl.obolibrary.org/obo/CLO_0017669' target='_blank' title='Go to website to get more informations about http:&#x2f;&#x2f;purl.obolibrary.org&#x2f;obo&#x2f;CLO_0017669'>http:&#x2f;&#x2f;purl.obolibrary.org&#x2f;obo&#x2f;CLO_0017669</a>, <a href='http://purl.obolibrary.org/obo/CLO_0019711' target='_blank' title='Go to website to get more informations about http:&#x2f;&#x2f;purl.obolibrary.org&#x2f;obo&#x2f;CLO_0019711'>http:&#x2f;&#x2f;purl.obolibrary.org&#x2f;obo&#x2f;CLO_0019711</a>, <a href='http://purl.obolibrary.org/obo/CLO_0032064' target='_blank' title='Go to website to get more informations about http:&#x2f;&#x2f;purl.obolibrary.org&#x2f;obo&#x2f;CLO_0032064'>http:&#x2f;&#x2f;purl.obolibrary.org&#x2f;obo&#x2f;CLO_0032064</a>, <a href='http://purl.obolibrary.org/obo/CLO_0021829' target='_blank' title='Go to website to get more informations about http:&#x2f;&#x2f;purl.obolibrary.org&#x2f;obo&#x2f;CLO_0021829'>http:&#x2f;&#x2f;purl.obolibrary.org&#x2f;obo&#x2f;CLO_0021829</a> and other 998.</p></li>\n",
       "<li><p class=\"paragraph\">Group with 143 nodes (degree 45): <a href='https://uswest.ensembl.org/Homo_sapiens/Transcript/Summary?t=ENST00000660287' target='_blank' title='Go to website to get more informations about https:&#x2f;&#x2f;uswest.ensembl.org&#x2f;Homo_sapiens&#x2f;Transcript&#x2f;Summary?t=ENST00000660287'>https:&#x2f;&#x2f;uswest.ensembl.org&#x2f;Homo_sapiens&#x2f;Transcript&#x2f;Summary?t=ENST00000660287</a>, <a href='https://uswest.ensembl.org/Homo_sapiens/Transcript/Summary?t=ENST00000662969' target='_blank' title='Go to website to get more informations about https:&#x2f;&#x2f;uswest.ensembl.org&#x2f;Homo_sapiens&#x2f;Transcript&#x2f;Summary?t=ENST00000662969'>https:&#x2f;&#x2f;uswest.ensembl.org&#x2f;Homo_sapiens&#x2f;Transcript&#x2f;Summary?t=ENST00000662969</a>, <a href='https://uswest.ensembl.org/Homo_sapiens/Transcript/Summary?t=ENST00000445461' target='_blank' title='Go to website to get more informations about https:&#x2f;&#x2f;uswest.ensembl.org&#x2f;Homo_sapiens&#x2f;Transcript&#x2f;Summary?t=ENST00000445461'>https:&#x2f;&#x2f;uswest.ensembl.org&#x2f;Homo_sapiens&#x2f;Transcript&#x2f;Summary?t=ENST00000445461</a>, <a href='https://uswest.ensembl.org/Homo_sapiens/Transcript/Summary?t=ENST00000669276' target='_blank' title='Go to website to get more informations about https:&#x2f;&#x2f;uswest.ensembl.org&#x2f;Homo_sapiens&#x2f;Transcript&#x2f;Summary?t=ENST00000669276'>https:&#x2f;&#x2f;uswest.ensembl.org&#x2f;Homo_sapiens&#x2f;Transcript&#x2f;Summary?t=ENST00000669276</a>, <a href='https://uswest.ensembl.org/Homo_sapiens/Transcript/Summary?t=ENST00000667869' target='_blank' title='Go to website to get more informations about https:&#x2f;&#x2f;uswest.ensembl.org&#x2f;Homo_sapiens&#x2f;Transcript&#x2f;Summary?t=ENST00000667869'>https:&#x2f;&#x2f;uswest.ensembl.org&#x2f;Homo_sapiens&#x2f;Transcript&#x2f;Summary?t=ENST00000667869</a> and other 138.</p></li>\n",
       "<li><p class=\"paragraph\">Group with 176 nodes (degree 34): <a href='https://uswest.ensembl.org/Homo_sapiens/Transcript/Summary?t=ENST00000656948' target='_blank' title='Go to website to get more informations about https:&#x2f;&#x2f;uswest.ensembl.org&#x2f;Homo_sapiens&#x2f;Transcript&#x2f;Summary?t=ENST00000656948'>https:&#x2f;&#x2f;uswest.ensembl.org&#x2f;Homo_sapiens&#x2f;Transcript&#x2f;Summary?t=ENST00000656948</a>, <a href='https://uswest.ensembl.org/Homo_sapiens/Transcript/Summary?t=ENST00000658242' target='_blank' title='Go to website to get more informations about https:&#x2f;&#x2f;uswest.ensembl.org&#x2f;Homo_sapiens&#x2f;Transcript&#x2f;Summary?t=ENST00000658242'>https:&#x2f;&#x2f;uswest.ensembl.org&#x2f;Homo_sapiens&#x2f;Transcript&#x2f;Summary?t=ENST00000658242</a>, <a href='https://uswest.ensembl.org/Homo_sapiens/Transcript/Summary?t=ENST00000657945' target='_blank' title='Go to website to get more informations about https:&#x2f;&#x2f;uswest.ensembl.org&#x2f;Homo_sapiens&#x2f;Transcript&#x2f;Summary?t=ENST00000657945'>https:&#x2f;&#x2f;uswest.ensembl.org&#x2f;Homo_sapiens&#x2f;Transcript&#x2f;Summary?t=ENST00000657945</a>, <a href='https://uswest.ensembl.org/Homo_sapiens/Transcript/Summary?t=ENST00000668480' target='_blank' title='Go to website to get more informations about https:&#x2f;&#x2f;uswest.ensembl.org&#x2f;Homo_sapiens&#x2f;Transcript&#x2f;Summary?t=ENST00000668480'>https:&#x2f;&#x2f;uswest.ensembl.org&#x2f;Homo_sapiens&#x2f;Transcript&#x2f;Summary?t=ENST00000668480</a>, <a href='https://uswest.ensembl.org/Homo_sapiens/Transcript/Summary?t=ENST00000657667' target='_blank' title='Go to website to get more informations about https:&#x2f;&#x2f;uswest.ensembl.org&#x2f;Homo_sapiens&#x2f;Transcript&#x2f;Summary?t=ENST00000657667'>https:&#x2f;&#x2f;uswest.ensembl.org&#x2f;Homo_sapiens&#x2f;Transcript&#x2f;Summary?t=ENST00000657667</a> and other 171.</p></li>\n",
       "<li><p class=\"paragraph\">Group with 727 nodes (degree 7): <a href='http://purl.obolibrary.org/obo/CLO_0034343' target='_blank' title='Go to website to get more informations about http:&#x2f;&#x2f;purl.obolibrary.org&#x2f;obo&#x2f;CLO_0034343'>http:&#x2f;&#x2f;purl.obolibrary.org&#x2f;obo&#x2f;CLO_0034343</a>, <a href='http://purl.obolibrary.org/obo/CLO_0033862' target='_blank' title='Go to website to get more informations about http:&#x2f;&#x2f;purl.obolibrary.org&#x2f;obo&#x2f;CLO_0033862'>http:&#x2f;&#x2f;purl.obolibrary.org&#x2f;obo&#x2f;CLO_0033862</a>, <a href='http://purl.obolibrary.org/obo/CLO_0027916' target='_blank' title='Go to website to get more informations about http:&#x2f;&#x2f;purl.obolibrary.org&#x2f;obo&#x2f;CLO_0027916'>http:&#x2f;&#x2f;purl.obolibrary.org&#x2f;obo&#x2f;CLO_0027916</a>, <a href='http://purl.obolibrary.org/obo/CLO_0027136' target='_blank' title='Go to website to get more informations about http:&#x2f;&#x2f;purl.obolibrary.org&#x2f;obo&#x2f;CLO_0027136'>http:&#x2f;&#x2f;purl.obolibrary.org&#x2f;obo&#x2f;CLO_0027136</a>, <a href='http://purl.obolibrary.org/obo/CLO_0018837' target='_blank' title='Go to website to get more informations about http:&#x2f;&#x2f;purl.obolibrary.org&#x2f;obo&#x2f;CLO_0018837'>http:&#x2f;&#x2f;purl.obolibrary.org&#x2f;obo&#x2f;CLO_0018837</a> and other 722.</p></li>\n",
       "<li><p class=\"paragraph\">Group with 86 nodes (degree 57): <a href='https://uswest.ensembl.org/Homo_sapiens/Transcript/Summary?t=ENST00000665440' target='_blank' title='Go to website to get more informations about https:&#x2f;&#x2f;uswest.ensembl.org&#x2f;Homo_sapiens&#x2f;Transcript&#x2f;Summary?t=ENST00000665440'>https:&#x2f;&#x2f;uswest.ensembl.org&#x2f;Homo_sapiens&#x2f;Transcript&#x2f;Summary?t=ENST00000665440</a>, <a href='https://uswest.ensembl.org/Homo_sapiens/Transcript/Summary?t=ENST00000658488' target='_blank' title='Go to website to get more informations about https:&#x2f;&#x2f;uswest.ensembl.org&#x2f;Homo_sapiens&#x2f;Transcript&#x2f;Summary?t=ENST00000658488'>https:&#x2f;&#x2f;uswest.ensembl.org&#x2f;Homo_sapiens&#x2f;Transcript&#x2f;Summary?t=ENST00000658488</a>, <a href='https://uswest.ensembl.org/Homo_sapiens/Transcript/Summary?t=ENST00000662572' target='_blank' title='Go to website to get more informations about https:&#x2f;&#x2f;uswest.ensembl.org&#x2f;Homo_sapiens&#x2f;Transcript&#x2f;Summary?t=ENST00000662572'>https:&#x2f;&#x2f;uswest.ensembl.org&#x2f;Homo_sapiens&#x2f;Transcript&#x2f;Summary?t=ENST00000662572</a>, <a href='https://uswest.ensembl.org/Homo_sapiens/Transcript/Summary?t=ENST00000669480' target='_blank' title='Go to website to get more informations about https:&#x2f;&#x2f;uswest.ensembl.org&#x2f;Homo_sapiens&#x2f;Transcript&#x2f;Summary?t=ENST00000669480'>https:&#x2f;&#x2f;uswest.ensembl.org&#x2f;Homo_sapiens&#x2f;Transcript&#x2f;Summary?t=ENST00000669480</a>, <a href='https://uswest.ensembl.org/Homo_sapiens/Transcript/Summary?t=ENST00000651115' target='_blank' title='Go to website to get more informations about https:&#x2f;&#x2f;uswest.ensembl.org&#x2f;Homo_sapiens&#x2f;Transcript&#x2f;Summary?t=ENST00000651115'>https:&#x2f;&#x2f;uswest.ensembl.org&#x2f;Homo_sapiens&#x2f;Transcript&#x2f;Summary?t=ENST00000651115</a> and other 81.</p></li>\n",
       "<li><p class=\"paragraph\">Group with 678 nodes (degree 7): <a href='http://purl.obolibrary.org/obo/CLO_0030190' target='_blank' title='Go to website to get more informations about http:&#x2f;&#x2f;purl.obolibrary.org&#x2f;obo&#x2f;CLO_0030190'>http:&#x2f;&#x2f;purl.obolibrary.org&#x2f;obo&#x2f;CLO_0030190</a>, <a href='http://purl.obolibrary.org/obo/CLO_0034689' target='_blank' title='Go to website to get more informations about http:&#x2f;&#x2f;purl.obolibrary.org&#x2f;obo&#x2f;CLO_0034689'>http:&#x2f;&#x2f;purl.obolibrary.org&#x2f;obo&#x2f;CLO_0034689</a>, <a href='http://purl.obolibrary.org/obo/CLO_0022478' target='_blank' title='Go to website to get more informations about http:&#x2f;&#x2f;purl.obolibrary.org&#x2f;obo&#x2f;CLO_0022478'>http:&#x2f;&#x2f;purl.obolibrary.org&#x2f;obo&#x2f;CLO_0022478</a>, <a href='http://purl.obolibrary.org/obo/CLO_0033677' target='_blank' title='Go to website to get more informations about http:&#x2f;&#x2f;purl.obolibrary.org&#x2f;obo&#x2f;CLO_0033677'>http:&#x2f;&#x2f;purl.obolibrary.org&#x2f;obo&#x2f;CLO_0033677</a>, <a href='http://purl.obolibrary.org/obo/CLO_0031511' target='_blank' title='Go to website to get more informations about http:&#x2f;&#x2f;purl.obolibrary.org&#x2f;obo&#x2f;CLO_0031511'>http:&#x2f;&#x2f;purl.obolibrary.org&#x2f;obo&#x2f;CLO_0031511</a> and other 673.</p></li></ol><p class=\"paragraph\">And other 5.97K isomorphic node groups.</p></div>"
      ]
     },
     "execution_count": 3,
     "metadata": {},
     "output_type": "execute_result"
    }
   ],
   "source": [
    "graph"
   ]
  },
  {
   "cell_type": "markdown",
   "id": "b215619d",
   "metadata": {},
   "source": [
    "## Connected holdout\n",
    "Since we want to visualize an edge prediction task on this graph, we need to create a connected holdout:"
   ]
  },
  {
   "cell_type": "code",
   "execution_count": 4,
   "id": "05e77dd8",
   "metadata": {},
   "outputs": [
    {
     "name": "stdout",
     "output_type": "stream",
     "text": [
      "CPU times: user 3.9 s, sys: 347 ms, total: 4.25 s\n",
      "Wall time: 2.16 s\n"
     ]
    }
   ],
   "source": [
    "%%time\n",
    "train, test = graph.connected_holdout(train_size=0.7)\n",
    "train.enable()"
   ]
  },
  {
   "cell_type": "markdown",
   "id": "901ca0d5",
   "metadata": {},
   "source": [
    "## Compute the embedding\n",
    "Next, we compute the embedding using the First-order LINE method. Do note that this implementation is a data-race aware one that uses SGD as optimizer, and nothing fancy like ADAM or NADAM: this means that the memory footprint is only limited to the embedding size."
   ]
  },
  {
   "cell_type": "code",
   "execution_count": 5,
   "id": "d39c9173",
   "metadata": {},
   "outputs": [
    {
     "name": "stdout",
     "output_type": "stream",
     "text": [
      "CPU times: user 13min 30s, sys: 1 s, total: 13min 31s\n",
      "Wall time: 34.3 s\n"
     ]
    }
   ],
   "source": [
    "%%time\n",
    "from grape.embedders import FirstOrderLINEEnsmallen\n",
    "embedding = FirstOrderLINEEnsmallen().fit_transform(graph)"
   ]
  },
  {
   "cell_type": "markdown",
   "id": "fb417e8b",
   "metadata": {},
   "source": [
    "## Visualize the embedding on the test graph\n",
    "We are at the end, finally visualizing the test graph."
   ]
  },
  {
   "cell_type": "code",
   "execution_count": 6,
   "id": "082aafd5",
   "metadata": {},
   "outputs": [],
   "source": [
    "from grape import GraphVisualizer\n",
    "\n",
    "vis = GraphVisualizer(\n",
    "    graph=test,\n",
    "    support=graph,\n",
    "    n_components=4,\n",
    "    edge_embedding_method=\"Hadamard\",\n",
    "    rotate=True,\n",
    "    verbose=True,\n",
    "    # Automatically, since LINE learns a cosine, the visualization tool\n",
    "    # would dispatch a Cosine-distance based TSNE. This would use the sklearn\n",
    "    # implementation, which is terribly slow. Therefore, we force it to use the Euclidean distance\n",
    "    # and therefore the Multicore TSNE implementation (when available).\n",
    "    decomposition_kwargs=dict(metric=\"euclidean\")\n",
    ")"
   ]
  },
  {
   "cell_type": "markdown",
   "id": "ec2828fa",
   "metadata": {},
   "source": [
    "Then we run the TSNE, this may take a while."
   ]
  },
  {
   "cell_type": "code",
   "execution_count": 7,
   "id": "5d928398",
   "metadata": {},
   "outputs": [
    {
     "name": "stderr",
     "output_type": "stream",
     "text": [
      "Performing t-SNE using 24 cores.\n",
      "Using no_dims = 4, perplexity = 30.000000, and theta = 0.500000\n",
      "Computing input similarities...\n",
      "Building tree...\n",
      " - point 2003 of 20000\n",
      " - point 4000 of 20000\n",
      " - point 6000 of 20000\n",
      " - point 8000 of 20000\n",
      " - point 10000 of 20000\n",
      " - point 12000 of 20000\n",
      " - point 14000 of 20000\n",
      " - point 16001 of 20000\n",
      " - point 18000 of 20000\n",
      " - point 20000 of 20000\n",
      "Done in 0.00 seconds (sparsity = 0.006333)!\n",
      "Learning embedding...\n",
      "Iteration 51: error is 101.744816 (50 iterations in 6.00 seconds)\n",
      "Iteration 101: error is 87.141838 (50 iterations in 7.00 seconds)\n",
      "Iteration 151: error is 82.795619 (50 iterations in 6.00 seconds)\n",
      "Iteration 201: error is 81.284274 (50 iterations in 7.00 seconds)\n",
      "Iteration 251: error is 80.539792 (50 iterations in 6.00 seconds)\n",
      "Iteration 301: error is 2.935309 (50 iterations in 7.00 seconds)\n",
      "Iteration 351: error is 2.522042 (50 iterations in 6.00 seconds)\n",
      "Iteration 400: error is 2.287507 (50 iterations in 7.00 seconds)\n"
     ]
    },
    {
     "name": "stdout",
     "output_type": "stream",
     "text": [
      "CPU times: user 6min 53s, sys: 14min, total: 20min 54s\n",
      "Wall time: 52.8 s\n"
     ]
    },
    {
     "name": "stderr",
     "output_type": "stream",
     "text": [
      "Fitting performed in 52.00 seconds.\n"
     ]
    }
   ],
   "source": [
    "%%time\n",
    "vis.fit_negative_and_positive_edges(embedding)"
   ]
  },
  {
   "cell_type": "code",
   "execution_count": 8,
   "id": "59bcc496",
   "metadata": {},
   "outputs": [
    {
     "data": {
      "application/vnd.jupyter.widget-view+json": {
       "model_id": "",
       "version_major": 2,
       "version_minor": 0
      },
      "text/plain": [
       "Rendering frames:   0%|                                                                                   | 0/…"
      ]
     },
     "metadata": {},
     "output_type": "display_data"
    },
    {
     "name": "stderr",
     "output_type": "stream",
     "text": [
      "OpenCV: FFMPEG: tag 0x30387076/'vp80' is not supported with codec id 139 and format 'webm / WebM'\n"
     ]
    },
    {
     "data": {
      "application/vnd.jupyter.widget-view+json": {
       "model_id": "",
       "version_major": 2,
       "version_minor": 0
      },
      "text/plain": [
       "Merging frames:   0%|                                                                                     | 0/…"
      ]
     },
     "metadata": {},
     "output_type": "display_data"
    },
    {
     "name": "stdout",
     "output_type": "stream",
     "text": [
      "CPU times: user 9min 32s, sys: 11.7 s, total: 9min 43s\n",
      "Wall time: 1min 31s\n"
     ]
    },
    {
     "data": {
      "text/html": [
       "<center><video width=\"480\" height=\"480\" src=\"edgepredictionnpkgtestfirst-orderlinehadamard.webm\" autoplay muted playsinline loop><source src=\"edgepredictionnpkgtestfirst-orderlinehadamard.webm\" type=\"video/webm\" />Your browser does not support the video tag.</video></center>"
      ],
      "text/plain": [
       "<IPython.core.display.HTML object>"
      ]
     },
     "execution_count": 8,
     "metadata": {},
     "output_type": "execute_result"
    }
   ],
   "source": [
    "%%time\n",
    "vis.plot_positive_and_negative_edges()"
   ]
  },
  {
   "cell_type": "code",
   "execution_count": 9,
   "id": "5548419a",
   "metadata": {},
   "outputs": [
    {
     "data": {
      "application/vnd.jupyter.widget-view+json": {
       "model_id": "",
       "version_major": 2,
       "version_minor": 0
      },
      "text/plain": [
       "Rendering frames:   0%|                                                                                   | 0/…"
      ]
     },
     "metadata": {},
     "output_type": "display_data"
    },
    {
     "name": "stderr",
     "output_type": "stream",
     "text": [
      "OpenCV: FFMPEG: tag 0x30387076/'vp80' is not supported with codec id 139 and format 'webm / WebM'\n"
     ]
    },
    {
     "data": {
      "application/vnd.jupyter.widget-view+json": {
       "model_id": "",
       "version_major": 2,
       "version_minor": 0
      },
      "text/plain": [
       "Merging frames:   0%|                                                                                     | 0/…"
      ]
     },
     "metadata": {},
     "output_type": "display_data"
    },
    {
     "name": "stdout",
     "output_type": "stream",
     "text": [
      "CPU times: user 7min 48s, sys: 9.64 s, total: 7min 58s\n",
      "Wall time: 1min 14s\n"
     ]
    },
    {
     "data": {
      "text/html": [
       "<center><video width=\"480\" height=\"480\" src=\"edgetypesnpkgtestfirst-orderlinehadamard.webm\" autoplay muted playsinline loop><source src=\"edgetypesnpkgtestfirst-orderlinehadamard.webm\" type=\"video/webm\" />Your browser does not support the video tag.</video></center>"
      ],
      "text/plain": [
       "<IPython.core.display.HTML object>"
      ]
     },
     "execution_count": 9,
     "metadata": {},
     "output_type": "execute_result"
    }
   ],
   "source": [
    "%%time\n",
    "vis.plot_edge_types()"
   ]
  },
  {
   "cell_type": "markdown",
   "id": "1a84030e",
   "metadata": {},
   "source": [
    "## Cite resources\n",
    "If you find useful GRAPE or NPKG in your scientific work, please do recall to cite them:\n",
    "\n",
    "###  Citing GRAPE\n",
    "\n",
    "```bib\n",
    "@misc{cappelletti2021grape,\n",
    "  title={GRAPE: fast and scalable Graph Processing and Embedding},\n",
    "  author={Luca Cappelletti and Tommaso Fontana and Elena Casiraghi and Vida Ravanmehr and Tiffany J. Callahan and Marcin P. Joachimiak and Christopher J. Mungall and Peter N. Robinson and Justin Reese and Giorgio Valentini},\n",
    "  year={2021},\n",
    "  eprint={2110.06196},\n",
    "  archivePrefix={arXiv},\n",
    "  primaryClass={cs.LG}\n",
    "}\n",
    "```\n",
    "\n",
    "### Citing NPKG\n",
    "\n",
    "```bib\n",
    "@dataset{taneja_sanya_bathla_2022_6814508,\n",
    "  author       = {Taneja, Sanya Bathla},\n",
    "  title        = {{NP-KG: Knowledge Graph Framework for Natural \n",
    "                   Product-Drug Interactions}},\n",
    "  month        = aug,\n",
    "  year         = 2022,\n",
    "  note         = {{Supporting Grant - National Institutes of Health \n",
    "                   National Center for Complementary and Integrative\n",
    "                   Health Grant U54 AT008909}},\n",
    "  publisher    = {Zenodo},\n",
    "  version      = {v1.0.0},\n",
    "  doi          = {10.5281/zenodo.6814508},\n",
    "  url          = {https://doi.org/10.5281/zenodo.6814508}\n",
    "}\n",
    "```"
   ]
  }
 ],
 "metadata": {
  "kernelspec": {
   "display_name": "Python 3 (ipykernel)",
   "language": "python",
   "name": "python3"
  },
  "language_info": {
   "codemirror_mode": {
    "name": "ipython",
    "version": 3
   },
   "file_extension": ".py",
   "mimetype": "text/x-python",
   "name": "python",
   "nbconvert_exporter": "python",
   "pygments_lexer": "ipython3",
   "version": "3.9.7"
  }
 },
 "nbformat": 4,
 "nbformat_minor": 5
}
