{
 "cells": [
  {
   "cell_type": "markdown",
   "metadata": {
    "id": "GAvRCwHvPmZB"
   },
   "source": [
    "# First and Second order random walks\n",
    "First and second order random walks are a node-sampling mechanism that can be employed in a large number of algorithms. In this notebook we will shortly show how to use Ensmallen to sample a large number of random walks from big graphs.\n",
    "\n",
    "To install the GraPE library run:\n"
   ]
  },
  {
   "cell_type": "code",
   "execution_count": 2,
   "metadata": {
    "id": "GaQaZilbd4oF"
   },
   "outputs": [
    {
     "name": "stdout",
     "output_type": "stream",
     "text": [
      "\u001b[33mWARNING: You are using pip version 22.0.4; however, version 22.1.2 is available.\n",
      "You should consider upgrading via the '/Users/lucacappelletti/opt/miniconda3/bin/python -m pip install --upgrade pip' command.\u001b[0m\n",
      "Note: you may need to restart the kernel to use updated packages.\n"
     ]
    }
   ],
   "source": [
    "pip install -qU grape"
   ]
  },
  {
   "cell_type": "markdown",
   "metadata": {
    "id": "3_KDm0S2QzZC"
   },
   "source": [
    "## Retrieving a graph to run the sampling on\n",
    "In this tutorial we will run examples on the [Homo Sapiens graph from STRING](https://string-db.org/cgi/organisms). If you want to load a graph from an edge list, just follow the examples provided from the Loading a Graph in Ensmallen tutorial."
   ]
  },
  {
   "cell_type": "code",
   "execution_count": 3,
   "metadata": {
    "id": "XlKebPnuPl_9"
   },
   "outputs": [],
   "source": [
    "from grape.datasets.string import HomoSapiens"
   ]
  },
  {
   "cell_type": "markdown",
   "metadata": {
    "id": "RmaGiUdiTXGi"
   },
   "source": [
    "Retrieving and loading the graph"
   ]
  },
  {
   "cell_type": "code",
   "execution_count": 4,
   "metadata": {
    "id": "KyHWRM2-Qt4a"
   },
   "outputs": [],
   "source": [
    "graph = HomoSapiens()\n",
    "# Filter the graph weights at 700\n",
    "graph = graph.filter_from_names(min_edge_weight==700)\n",
    "# We also create a version of the graph without edge weights\n",
    "unweighted_graph = graph.remove_edge_weights()"
   ]
  },
  {
   "cell_type": "markdown",
   "metadata": {
    "id": "EwwsOM9TTa6W"
   },
   "source": [
    "We compute the graph report:"
   ]
  },
  {
   "cell_type": "code",
   "execution_count": 5,
   "metadata": {
    "colab": {
     "base_uri": "https://localhost:8080/",
     "height": 600
    },
    "id": "hwA3vzg4SDpi",
    "outputId": "4390d5e4-c787-490b-b2f1-0400e9f5177b"
   },
   "outputs": [
    {
     "data": {
      "text/html": [
       "<div class=\"graph-report\"><style>.graph-report li {margin: 0.5em 0 0.5em 0;}.graph-report .paragraph {text-align: justify;word-break: break-all;}.graph-report .small-columns {column-count: 4;column-gap: 2em;}.graph-report .medium-columns {column-count: 3;column-gap: 2em;}.graph-report .large-columns {column-count: 2;column-gap: 2em;}.graph-report .single-column {}@media only screen and (max-width: 600px) {.graph-report .small-columns {column-count: 1;}.graph-report .medium-columns {column-count: 1;}.graph-report .large-columns {column-count: 1;}}@media only screen and (min-width: 600px) and (max-width: 800px) {.graph-report .small-columns {column-count: 2;}.graph-report .medium-columns {column-count: 1;}.graph-report .large-columns {column-count: 1;}}@media only screen and (min-width: 800px) and (max-width: 1024px) {.graph-report .small-columns {column-count: 3;}.graph-report .medium-columns {column-count: 2;}.graph-report .large-columns {column-count: 1;}}</style><h2>HomoSapiens</h2><p class=\"paragraph\">The undirected graph HomoSapiens has 19.57K heterogeneous nodes and 252.98K edges. The graph contains 2.85K connected components (of which 2.75K are disconnected nodes), with the largest one containing 16.58K nodes and the smallest one containing a single node. The RAM requirements for the nodes and edges data structures are 2.67MB and 782.89KB respectively.</p><h3 style=\"margin: 1em 0 0 0;\">Degree centrality</h3><p class=\"paragraph\">The minimum node degree is 0, the maximum node degree is 747, the mode degree is 0, the mean degree is 25.86 and the node degree median is 9.</p><p class=\"paragraph\">The nodes with the highest degree centrality are 9606.ENSP00000272317 (degree 747 and node types BTO:0000000, BTO:0000042, BTO:0000058, BTO:0000080, BTO:0000081 and other 907), 9606.ENSP00000269305 (degree 723 and node types BTO:0000000, BTO:0000003, BTO:0000018, BTO:0000042, BTO:0000058 and other 1.35K), 9606.ENSP00000388107 (degree 669 and node types BTO:0000000, BTO:0000042, BTO:0000047, BTO:0000080, BTO:0000081 and other 884), 9606.ENSP00000441543 (degree 620 and node types BTO:0000000, BTO:0000020, BTO:0000042, BTO:0000058, BTO:0000080 and other 869) and 9606.ENSP00000362680 (degree 572 and node types BTO:0000000, BTO:0000042, BTO:0000089, BTO:0000131, BTO:0000132 and other 1.17K).</p><h3 style=\"margin: 1em 0 0 0;\">Weights</h3><p class=\"paragraph\">The minimum edge weight is 700, the maximum edge weight is 999 and the total edge weight is 437919420. The RAM requirement for the edge weights data structure is 2.02MB.</p><h3 style=\"margin: 1em 0 0 0;\">Node types</h3><p class=\"paragraph\">The graph has 62.23K node types, of which the 10 most common are GO:0110165 (17.79K nodes, 90.91%), GO:0009987 (15.02K nodes, 76.79%), BTO:0000000 (14.94K nodes, 76.37%), BTO:0000042 (14.89K nodes, 76.13%), GO:0005622 (14.28K nodes, 72.96%), GOCC:0110165 (13.85K nodes, 70.80%), GO:0043226 (13.52K nodes, 69.07%), BTO:0001489 (12.62K nodes, 64.49%), GO:0043229 (12.53K nodes, 64.03%) and GO:0005488 (12.52K nodes, 63.97%). The node types are multi-label, and the node with most node types has 1379 node types. The RAM requirement for the node types data structure is 19.13MB.</p><h4 style=\"margin: 1em 0 0 0;\">Approximated isomorphic node types</h4><p class=\"paragraph\">Approximated isomorphic node types groups are node types describing exactly the same set of nodes. Since the graph has a high number of node types (> 50.00K) we use an approximated version of the node types isomorphisms detection. Note that hash collisions and false positives are possible. It is possible to execute the exact computation with the <code>get_isomorphic_node_type_ids_groups</code> method. The presence of such duplicated node types suggests a potential modelling error in the pipeline that has produced this graph. 9.34K isomorphic node types groups were detected in this graph.</p><ol><li><p class=\"paragraph\">Isomorphic node type group containing 3 node types (5.86K nodes, 29.93%), which are: GO:0031974, GO:0043233 and GO:0070013.</p></li>\n",
       "<li><p class=\"paragraph\">Isomorphic node type group containing 2 node types (3.06K nodes, 15.65%), which are: GO:0006464 and GO:0036211.</p></li>\n",
       "<li><p class=\"paragraph\">Isomorphic node type group containing 2 node types (2.82K nodes, 14.39%), which are: GOCC:0031974 and GOCC:0043233.</p></li>\n",
       "<li><p class=\"paragraph\">Isomorphic node type group containing 2 node types (1.45K nodes, 7.43%), which are: GO:0038023 and GO:0060089.</p></li>\n",
       "<li><p class=\"paragraph\">Isomorphic node type group containing 2 node types (1.21K nodes, 6.20%), which are: GO:0031967 and GO:0031975.</p></li>\n",
       "<li><p class=\"paragraph\">Isomorphic node type group containing 2 node types (1.16K nodes, 5.95%), which are: GO:0010562 and GO:0045937.</p></li>\n",
       "<li><p class=\"paragraph\">Isomorphic node type group containing 2 node types (1.02K nodes, 5.20%), which are: GO:0048870 and GO:0051674.</p></li>\n",
       "<li><p class=\"paragraph\">Isomorphic node type group containing 2 node types (814 nodes, 4.16%), which are: GO:0016817 and GO:0016818.</p></li>\n",
       "<li><p class=\"paragraph\">Isomorphic node type group containing 2 node types (698 nodes, 3.57%), which are: GO:0000323 and GO:0005764.</p></li>\n",
       "<li><p class=\"paragraph\">Isomorphic node type group containing 2 node types (648 nodes, 3.31%), which are: BTO:0000775 and BTO:0001096.</p></li></ol><p class=\"paragraph\">And other 9.33K isomorphic node types.</p><h4 style=\"margin: 1em 0 0 0;\">Singleton node types</h4><p class=\"paragraph\">Singleton node types are node types that are assigned exclusively to a single node, making the node type relatively meaningless, as it adds no more information than the node name itself. The graph contains 16.85K singleton node types, which are IPR028927 (9606.ENSP00000000412 (degree 36 and node types BTO:0000000, BTO:0000042, BTO:0000080, BTO:0000081, BTO:0000082 and other 188)), GO:0006463 (9606.ENSP00000001008 (degree 62 and node types BTO:0000000, BTO:0000042, BTO:0000081, BTO:0000083, BTO:0000089 and other 332)), IPR031212 (9606.ENSP00000001008 (degree 62 and node types BTO:0000000, BTO:0000042, BTO:0000081, BTO:0000083, BTO:0000089 and other 332)), IPR003788 (9606.ENSP00000002125 (degree 33 and node types BTO:0000000, BTO:0000042, BTO:0000081, BTO:0000083, BTO:0000176 and other 115)), IPR038375 (9606.ENSP00000002125 (degree 33 and node types BTO:0000000, BTO:0000042, BTO:0000081, BTO:0000083, BTO:0000176 and other 115)), PF02636 (9606.ENSP00000002125 (degree 33 and node types BTO:0000000, BTO:0000042, BTO:0000081, BTO:0000083, BTO:0000176 and other 115)), BTO:0001193 (9606.ENSP00000003084 (degree 177 and node types BTO:0000000, BTO:0000003, BTO:0000042, BTO:0000081, BTO:0000082 and other 558)), BTO:0002032 (9606.ENSP00000003084 (degree 177 and node types BTO:0000000, BTO:0000003, BTO:0000042, BTO:0000081, BTO:0000082 and other 558)), BTO:0002750 (9606.ENSP00000003084 (degree 177 and node types BTO:0000000, BTO:0000003, BTO:0000042, BTO:0000081, BTO:0000082 and other 558)) and BTO:0004445 (9606.ENSP00000003084 (degree 177 and node types BTO:0000000, BTO:0000003, BTO:0000042, BTO:0000081, BTO:0000082 and other 558)), plus other 16.84K singleton node types.</p><h4 style=\"margin: 1em 0 0 0;\">Unknown node types</h4><p class=\"paragraph\">Nodes with unknown node types are nodes with a node type that was not provided during the creation of the graph, which may be desired as the output of a node-label holdout. The graph contains 159 nodes with unknown node type, which are 9606.ENSP00000239125, 9606.ENSP00000278779, 9606.ENSP00000303234, 9606.ENSP00000326574, 9606.ENSP00000362001, 9606.ENSP00000365108, 9606.ENSP00000366765, 9606.ENSP00000367360, 9606.ENSP00000367983 and 9606.ENSP00000368055, plus other 149 nodes with unknown node types, making up 0.81 of the nodes.</p><h3 style=\"margin: 1em 0 0 0;\">Topological Oddities</h3><p class=\"paragraph\">A topological oddity is a set of nodes in the graph that <i>may be derived</i> by an error during the generation of the edge list of the graph and, depending on the task, could bias the results of topology-based models. In the following paragraph, we will describe the detected topological oddities.</p><h4 style=\"margin: 1em 0 0 0;\">Singleton nodes</h4><p class=\"paragraph\">A singleton node is a node disconnected from all other nodes. We have detected 2.75K singleton nodes in the graph, involving a total of 2.75K nodes (14.07%). The detected singleton nodes are:</p><ul class=\"small-columns\"><li><p class=\"paragraph\">9606.ENSP00000005995 (node types BTO:0000000, BTO:0000042, BTO:0000089, BTO:0000399, BTO:0000539 and other 74)</p></li>\n",
       "<li><p class=\"paragraph\">9606.ENSP00000006526 (node types BTO:0000000, BTO:0000042, BTO:0000142, BTO:0000227, BTO:0000282 and other 67)</p></li>\n",
       "<li><p class=\"paragraph\">9606.ENSP00000006724 (node types BTO:0000000, BTO:0000042, BTO:0000058, BTO:0000269, BTO:0000271 and other 55)</p></li>\n",
       "<li><p class=\"paragraph\">9606.ENSP00000007735 (node types BTO:0000000, BTO:0000042, BTO:0000282, BTO:0000634, BTO:0001253 and other 61)</p></li>\n",
       "<li><p class=\"paragraph\">9606.ENSP00000010299 (node types BTO:0000000, BTO:0000042, BTO:0000058, BTO:0000959, BTO:0001489 and other 35)</p></li>\n",
       "<li><p class=\"paragraph\">9606.ENSP00000039989 (node types BTO:0000000, BTO:0000042, BTO:0000080, BTO:0000081, BTO:0000082 and other 76)</p></li>\n",
       "<li><p class=\"paragraph\">9606.ENSP00000064571 (node types BTO:0000000, BTO:0000042, CL:22867, CL:22979, GO:0002790 and other 56)</p></li>\n",
       "<li><p class=\"paragraph\">9606.ENSP00000084798 (node types BTO:0000000, BTO:0000042, BTO:0000142, BTO:0000227, BTO:0000282 and other 40)</p></li>\n",
       "<li><p class=\"paragraph\">9606.ENSP00000086933 (node types BTO:0000101, BTO:0000255, BTO:0000690, BTO:0001530, BTO:0005949 and other 66)</p></li>\n",
       "<li><p class=\"paragraph\">9606.ENSP00000158009 (node types CL:38353, CL:38354, CL:38355, CL:38356, CL:38488 and other 15)</p></li>\n",
       "<li><p class=\"paragraph\">9606.ENSP00000159087 (node types CL:28165, CL:28166, CL:28309, CL:28310, GO:0005215 and other 83)</p></li>\n",
       "<li><p class=\"paragraph\">9606.ENSP00000161006 (node types BTO:0000000, BTO:0000042, BTO:0000578, BTO:0005056, CL:35018 and other 39)</p></li>\n",
       "<li><p class=\"paragraph\">9606.ENSP00000162391 (node types BTO:0000000, BTO:0000042, BTO:0000174, BTO:0000284, BTO:0000379 and other 143)</p></li>\n",
       "<li><p class=\"paragraph\">9606.ENSP00000164640 (node types BTO:0000000, BTO:0000042, BTO:0000142, BTO:0000227, BTO:0000282 and other 21)</p></li>\n",
       "<li><p class=\"paragraph\">9606.ENSP00000190165 (node types BTO:0000000, BTO:0000042, BTO:0000081, BTO:0000083, BTO:0000254 and other 142)</p></li></ul><p class=\"paragraph\">And other 2.74K singleton nodes.</p><h4 style=\"margin: 1em 0 0 0;\">Node tuples</h4><p class=\"paragraph\">A node tuple is a connected component composed of two nodes. We have detected 77 node tuples in the graph, involving a total of 154 nodes (0.79%) and 77 edges (0.02%). The detected node tuples are:</p><ul class=\"medium-columns\"><li><p class=\"paragraph\">Node tuple containing the nodes 9606.ENSP00000484403 (node types BTO:0000000, BTO:0000042, BTO:0000080, BTO:0000081, BTO:0000082 and other 84) and 9606.ENSP00000484443 (node types BTO:0000000, BTO:0000042, CL:36843, CL:36844, CL:36890 and other 131).</p></li>\n",
       "<li><p class=\"paragraph\">Node tuple containing the nodes 9606.ENSP00000480336 (node types CL:38353, CL:38354, CL:38548, CL:38576, CL:38577 and other 41) and 9606.ENSP00000485424 (node types CL:38353, CL:38354, CL:38548, CL:38576, CL:38577 and other 68).</p></li>\n",
       "<li><p class=\"paragraph\">Node tuple containing the nodes 9606.ENSP00000454340 (node types CL:31264, CL:31299 and IPR007248) and 9606.ENSP00000485142 (node types CL:31264 and CL:31299).</p></li>\n",
       "<li><p class=\"paragraph\">Node tuple containing the nodes 9606.ENSP00000448841 (node types CL:7242, CL:7243, CL:7244, CL:7245, CL:7246 and other 17) and 9606.ENSP00000481258 (node types CL:7242, CL:7243, CL:7244, CL:7245, CL:7246 and other 59).</p></li>\n",
       "<li><p class=\"paragraph\">Node tuple containing the nodes 9606.ENSP00000436580 (node types CL:36974, CL:36975, CL:36976, CL:36977, IPR018903 and another one) and 9606.ENSP00000436891 (node types CL:36974, CL:36975, CL:36976, CL:36977 and PF10630).</p></li>\n",
       "<li><p class=\"paragraph\">Node tuple containing the nodes 9606.ENSP00000436042 (node types CL:35528, CL:35529, CL:35623, CL:35624, CL:35625 and other 41) and 9606.ENSP00000436426 (node types CL:35528, CL:35529, CL:35623, CL:35624, CL:35625 and other 57).</p></li>\n",
       "<li><p class=\"paragraph\">Node tuple containing the nodes 9606.ENSP00000435550 (node types BTO:0000000, BTO:0000042, BTO:0000080, BTO:0000081, BTO:0000082 and other 23) and 9606.ENSP00000441497 (node types CL:26899, CL:27055, CL:27057, DOID:0050686, DOID:0050687 and other 71).</p></li>\n",
       "<li><p class=\"paragraph\">Node tuple containing the nodes 9606.ENSP00000430100 (node types BTO:0000000, BTO:0000042, BTO:0000203, BTO:0001388, BTO:0001489 and other 126) and 9606.ENSP00000454770 (node types CL:37293, CL:37294, CL:37295, CL:37296, CL:37297 and other 13).</p></li>\n",
       "<li><p class=\"paragraph\">Node tuple containing the nodes 9606.ENSP00000429808 (node types CL:35528, CL:35529, CL:35623, CL:35624, CL:35625 and other 47) and 9606.ENSP00000433378 (node types CL:35528, CL:35529, CL:35623, CL:35624, CL:35625 and other 49).</p></li>\n",
       "<li><p class=\"paragraph\">Node tuple containing the nodes 9606.ENSP00000419502 (node types BTO:0000000, BTO:0000042, BTO:0000058, BTO:0000081, BTO:0000083 and other 27) and 9606.ENSP00000483005 (node types BTO:0000000, BTO:0000042, CL:28511, CL:28512, CL:28513 and other 143).</p></li>\n",
       "<li><p class=\"paragraph\">Node tuple containing the nodes 9606.ENSP00000406723 (node types BTO:0000000, BTO:0000042, CL:34804, CL:34805, CL:34806 and other 54) and 9606.ENSP00000480524 (node types CL:34804, CL:34805, CL:34806, CL:34807, CL:34808 and other 48).</p></li>\n",
       "<li><p class=\"paragraph\">Node tuple containing the nodes 9606.ENSP00000399664 (node types CL:25282, CL:25358, CL:25376, GO:0003676, GO:0003677 and other 90) and 9606.ENSP00000472698 (node types CL:25282, CL:25358, CL:25376, IPR002706, IPR008979 and another one).</p></li>\n",
       "<li><p class=\"paragraph\">Node tuple containing the nodes 9606.ENSP00000391594 (node types CL:29285, CL:29383, CL:29384, CL:29398, GO:0019012 and other 9) and 9606.ENSP00000460602 (node types CL:29285, CL:29383, CL:29384, CL:29398, DOID:0060262 and other 18).</p></li>\n",
       "<li><p class=\"paragraph\">Node tuple containing the nodes 9606.ENSP00000388864 (node types BTO:0000000, BTO:0000042, BTO:0000088, BTO:0000290, BTO:0000393 and other 76) and 9606.ENSP00000396732 (node types CL:32704, CL:32705, CL:32706, CL:32766, CL:32767 and other 132).</p></li>\n",
       "<li><p class=\"paragraph\">Node tuple containing the nodes 9606.ENSP00000384214 (node types CL:30792, CL:30793, CL:30794, CL:30795, CL:30796 and another one) and 9606.ENSP00000397103 (node types CL:30792, CL:30793, CL:30794, CL:30795, CL:30796 and other 2).</p></li></ul><p class=\"paragraph\">And other 62 node tuples.</p><h4 style=\"margin: 1em 0 0 0;\">Isomorphic node groups</h4><p class=\"paragraph\">Isomorphic groups are nodes with exactly the same neighbours and node types (if present in the graph). Nodes in such groups are topologically indistinguishable, that is swapping their ID would not change the graph topology. We have detected 21 isomorphic node groups in the graph, involving a total of 46 nodes (0.24%) and 558 edges (0.11%), with the largest one involving 5 nodes and 95 edges. The detected isomorphic node groups, sorted by decreasing size, are:</p><ol class=\"medium-columns\"><li><p class=\"paragraph\">Group with 5 nodes (degree 19 and node types BTO:0000000, BTO:0000042, BTO:0000142, BTO:0000227, BTO:0000282 and other 89): 9606.ENSP00000380488, 9606.ENSP00000423313, 9606.ENSP00000227756, 9606.ENSP00000344260 and 9606.ENSP00000297107.</p></li>\n",
       "<li><p class=\"paragraph\">Group with 2 nodes (degree 29 and node types CL:10686, CL:10687, CL:10688, CL:10689, CL:10690 and other 148): 9606.ENSP00000391692 and 9606.ENSP00000391869.</p></li>\n",
       "<li><p class=\"paragraph\">Group with 2 nodes (degree 21 and node types CL:27348, CL:27350, CL:27351, CL:27352, CL:27353 and other 101): 9606.ENSP00000436604 and 9606.ENSP00000444171.</p></li>\n",
       "<li><p class=\"paragraph\">Group with 2 nodes (degree 18 and node types BTO:0000000, BTO:0000042, CL:28511, CL:28512, CL:28513 and other 100): 9606.ENSP00000384876 and 9606.ENSP00000373278.</p></li>\n",
       "<li><p class=\"paragraph\">Group with 2 nodes (degree 18 and node types CL:31041, CL:31042, CL:31192, CL:31222, CL:31224 and other 62): 9606.ENSP00000347119 and 9606.ENSP00000354723.</p></li>\n",
       "<li><p class=\"paragraph\">Group with 3 nodes (degree 11 and node types CL:17996, CL:17997, GO:0001775, GO:0001932, GO:0001934 and other 152): 9606.ENSP00000369564, 9606.ENSP00000369566 and 9606.ENSP00000239347.</p></li>\n",
       "<li><p class=\"paragraph\">Group with 2 nodes (degree 15 and node types CL:27654, CL:27656, CL:27657, CL:27658, CL:27660 and other 67): 9606.ENSP00000416741 and 9606.ENSP00000264363.</p></li>\n",
       "<li><p class=\"paragraph\">Group with 2 nodes (degree 15 and node types BTO:0000000, BTO:0000042, CL:31315, CL:31513, CL:31630 and other 79): 9606.ENSP00000400157 and 9606.ENSP00000312700.</p></li>\n",
       "<li><p class=\"paragraph\">Group with 2 nodes (degree 15 and node types BTO:0000000, BTO:0000042, BTO:0000345, BTO:0000522, BTO:0000759 and other 105): 9606.ENSP00000261196 and 9606.ENSP00000441269.</p></li>\n",
       "<li><p class=\"paragraph\">Group with 2 nodes (degree 12 and node types CL:36974, CL:36975, CL:36976, CL:36977, CL:36979 and other 29): 9606.ENSP00000334681 and 9606.ENSP00000347810.</p></li>\n",
       "<li><p class=\"paragraph\">Group with 2 nodes (degree 10 and node types BTO:0000000, BTO:0000042, BTO:0000081, BTO:0000082, BTO:0000408 and other 34): 9606.ENSP00000335281 and 9606.ENSP00000334330.</p></li>\n",
       "<li><p class=\"paragraph\">Group with 2 nodes (degree 10 and node types BTO:0000000, BTO:0000042, BTO:0000081, BTO:0000082, BTO:0000408 and other 85): 9606.ENSP00000335307 and 9606.ENSP00000334364.</p></li>\n",
       "<li><p class=\"paragraph\">Group with 2 nodes (degree 9 and node type CL:4123): 9606.ENSP00000449334 and 9606.ENSP00000449223.</p></li>\n",
       "<li><p class=\"paragraph\">Group with 2 nodes (degree 7 and node types BTO:0000000, BTO:0000042, BTO:0000404, BTO:0000416, BTO:0000435 and other 102): 9606.ENSP00000259205 and 9606.ENSP00000259211.</p></li>\n",
       "<li><p class=\"paragraph\">Group with 2 nodes (degree 6 and node types BTO:0000000, BTO:0000042, CL:8459, CL:8460, CL:8461 and other 42): 9606.ENSP00000376955 and 9606.ENSP00000275884.</p></li></ol><p class=\"paragraph\">And other 6 isomorphic node groups.</p><h4 style=\"margin: 1em 0 0 0;\">Trees</h4><p class=\"paragraph\">A tree is a connected component with <code>n</code> nodes and <code>n-1</code> edges. We have detected 2 trees in the graph, involving a total of 14 nodes (0.07%) and 12 edges, with the largest one involving 9 nodes and 8 edges. The detected trees, sorted by decreasing size, are:</p><ol class=\"large-columns\"><li><p class=\"paragraph\">Tree starting from the root node 9606.ENSP00000385592 (degree 2 and node types CL:35089, CL:35243, CL:35244, CL:35245, GO:0016020 and other 11), and containing 9 nodes, with a maximal depth of 3, which are 9606.ENSP00000303028 (node types BTO:0000000, BTO:0000042, BTO:0000058, BTO:0000511, BTO:0000619 and other 68), 9606.ENSP00000384887 (degree 3 and node types BTO:0000000, BTO:0000042, CL:33472, CL:33598, CL:33670 and other 18), 9606.ENSP00000362386 (degree 3 and node types CL:35089, CL:35243, CL:35244, CL:35245, CL:35247 and other 14), 9606.ENSP00000379738 (node types CL:33472, CL:33598, CL:33670, CL:33671, CL:33673 and other 12) and 9606.ENSP00000481937 (node types CL:33472, CL:33598, CL:33670, CL:33671, CL:33673 and other 61). Its nodes have 208 node types, of which the 10 most common are GO:0110165 (6 nodes, 0.03%), KW-0621 (6 nodes, 0.03%), KW-0325 (5 nodes, 0.03%), KW-0472 (5 nodes, 0.03%), GO:0016021 (5 nodes, 0.03%), GO:0016020 (5 nodes, 0.03%), GO:0031224 (5 nodes, 0.03%), KW-0732 (5 nodes, 0.03%), KW-1133 (5 nodes, 0.03%) and KW-0812 (5 nodes, 0.03%).</p></li>\n",
       "<li><p class=\"paragraph\">Tree starting from the root node 9606.ENSP00000355045 (degree 2 and node types BTO:0000000, BTO:0000042, CL:26288, CL:26289, CL:26290 and other 98), and containing 5 nodes, with a maximal depth of 2, which are 9606.ENSP00000379434 (node types CL:26288, CL:26289, CL:26290, CL:26291, CL:26292 and other 21), 9606.ENSP00000381857 (node types CL:32704, CL:32854, CL:32855, CL:32856, CL:32857 and other 5), 9606.ENSP00000352314 (node types CL:32253, CL:32255, CL:32287, GO:0005622, GO:0005737 and other 58) and 9606.ENSP00000473941 (node types CL:32704, CL:32854, CL:32855, CL:32856, CL:32857 and other 19). Its nodes have 94 node types, of which the 10 most common are KW-0621 (3 nodes, 0.02%), KW-0677 (3 nodes, 0.02%), KW-0025 (3 nodes, 0.02%), CL:32857 (2 nodes, 0.01%), CL:32856 (2 nodes, 0.01%), SM00875 (2 nodes, 0.01%), SM00612 (2 nodes, 0.01%), IPR006652 (2 nodes, 0.01%), PF07707 (2 nodes, 0.01%) and IPR015915 (2 nodes, 0.01%).</p></li></ol><h4 style=\"margin: 1em 0 0 0;\">Dendritic trees</h4><p class=\"paragraph\">A dendritic tree is a tree-like structure starting from a root node that is part of another strongly connected component. We have detected 14 dendritic trees in the graph, involving a total of 61 nodes (0.31%) and 61 edges (0.01%), with the largest one involving 6 nodes and 6 edges. The detected dendritic trees, sorted by decreasing size, are:</p><ol class=\"large-columns\"><li><p class=\"paragraph\">Dendritic tree starting from the root node 9606.ENSP00000254627 (degree 5 and node types CL:30017, CL:30145, CL:30201, CL:30203, DOID:0050155 and other 92), and containing 6 nodes, with a maximal depth of 3, which are 9606.ENSP00000407107 (degree 5 and node types BTO:0000223, BTO:0000279, CL:30017, CL:30145, CL:30201 and other 5), 9606.ENSP00000266022 (node types BTO:0000000, BTO:0000042, BTO:0000081, BTO:0000083, BTO:0000142 and other 84), 9606.ENSP00000299308 (node types BTO:0000000, BTO:0000042, CL:32704, CL:32705, CL:32706 and other 21), 9606.ENSP00000336693 (node types BTO:0000669, BTO:0001437, BTO:0005287, CL:33130, CL:33131 and other 70) and 9606.ENSP00000391404 (node types CL:29285, CL:29383, CL:29384 and CL:29398). Its nodes have 259 node types, of which the 10 most common are GO:0110165 (5 nodes, 0.03%), KW-0025 (4 nodes, 0.02%), KW-0621 (3 nodes, 0.02%), GO:0009987 (3 nodes, 0.02%), GO:0043226 (3 nodes, 0.02%), GO:0044237 (2 nodes, 0.01%), GO:0005622 (2 nodes, 0.01%), CL:32705 (2 nodes, 0.01%), GO:0006807 (2 nodes, 0.01%) and CL:30203 (2 nodes, 0.01%).</p></li>\n",
       "<li><p class=\"paragraph\">Dendritic tree starting from the root node 9606.ENSP00000366542 (degree 5 and node types CL:30792, CL:30793, CL:30794, CL:30795, CL:30796 and other 83), and containing 6 nodes, with a maximal depth of 3, which are 9606.ENSP00000276127 (degree 3 and node types CL:35528, CL:35529, CL:35530, CL:35531, CL:35532 and other 4), 9606.ENSP00000281722 (node types CL:30792, CL:30793, CL:30794, CL:30795, CL:30796 and other 80), 9606.ENSP00000357889 (node types CL:35528, CL:35529, CL:35530, CL:35531, CL:35532 and other 7), 9606.ENSP00000362206 (node types BTO:0000000, BTO:0000042, BTO:0000142, BTO:0000227, BTO:0000282 and other 65) and 9606.ENSP00000306776 (node types BTO:0000000, BTO:0000042, BTO:0000080, BTO:0000081, BTO:0000082 and other 30). Its nodes have 175 node types, of which the 10 most common are CL:35531 (4 nodes, 0.02%), CL:35530 (4 nodes, 0.02%), CL:35532 (4 nodes, 0.02%), CL:35528 (4 nodes, 0.02%), CL:35558 (4 nodes, 0.02%), GO:0110165 (4 nodes, 0.02%), CL:35529 (4 nodes, 0.02%), KW-0677 (3 nodes, 0.02%), GO:0043229 (3 nodes, 0.02%) and GO:0005622 (3 nodes, 0.02%).</p></li>\n",
       "<li><p class=\"paragraph\">Dendritic tree starting from the root node 9606.ENSP00000310686 (degree 14 and node types BTO:0000000, BTO:0000042, CL:6626, CL:6627, CL:6629 and other 186), and containing 5 nodes, with a maximal depth of 3, which are 9606.ENSP00000482345 (node types CL:37858, CL:37859, CL:37860, CL:37861, CL:37903 and other 83), 9606.ENSP00000300896 (degree 4 and node types BTO:0000000, BTO:0000042, BTO:0000080, BTO:0000081, BTO:0000082 and other 114), 9606.ENSP00000478426 (node types CL:37858, CL:37859, CL:37860, CL:37861, CL:37903 and other 91), 9606.ENSP00000478683 (node types CL:37858, CL:37859, CL:37860, CL:37861, CL:37903 and other 98) and 9606.ENSP00000483965 (node types CL:37293, CL:37425, CL:37426, CL:37427, GO:0005096 and other 54). Its nodes have 200 node types, of which the 10 most common are GO:0005488 (5 nodes, 0.03%), GO:0009987 (5 nodes, 0.03%), GO:0016020 (5 nodes, 0.03%), GO:0110165 (5 nodes, 0.03%), GO:0051020 (4 nodes, 0.02%), GO:0043087 (4 nodes, 0.02%), CL:37903 (4 nodes, 0.02%), GO:0060589 (4 nodes, 0.02%), KW-0449 (4 nodes, 0.02%) and GO:0030234 (4 nodes, 0.02%).</p></li>\n",
       "<li><p class=\"paragraph\">Dendritic tree starting from the root node 9606.ENSP00000311336 (degree 5 and node types BTO:0000000, BTO:0000042, BTO:0000080, BTO:0000081, BTO:0000082 and other 154), and containing 5 nodes, with a maximal depth of 3, which are 9606.ENSP00000232892 (degree 3 and node types BTO:0000000, BTO:0000042, BTO:0000058, BTO:0000345, BTO:0000511 and other 114), 9606.ENSP00000353557 (node types BTO:0000000, BTO:0000042, CL:14835, CL:14837, CL:14838 and other 24), 9606.ENSP00000355156 (node types BTO:0000000, BTO:0000042, BTO:0000089, BTO:0000431, BTO:0000522 and other 147), 9606.ENSP00000362814 (node types BTO:0000000, BTO:0000042, BTO:0000081, BTO:0000083, BTO:0000431 and other 61) and 9606.ENSP00000348911 (node types BTO:0000000, BTO:0000042, BTO:0000081, BTO:0000083, BTO:0001489 and other 32). Its nodes have 295 node types, of which the 10 most common are GO:0016020 (5 nodes, 0.03%), GO:0031224 (5 nodes, 0.03%), GO:0110165 (5 nodes, 0.03%), GO:0016021 (5 nodes, 0.03%), BTO:0000042 (5 nodes, 0.03%), BTO:0000000 (5 nodes, 0.03%), GO:0009987 (4 nodes, 0.02%), KW-0472 (4 nodes, 0.02%), GO:0008152 (4 nodes, 0.02%) and KW-0812 (4 nodes, 0.02%).</p></li>\n",
       "<li><p class=\"paragraph\">Dendritic tree starting from the root node 9606.ENSP00000446916 (degree 4 and node types CL:20278, CL:20279, CL:20343, DOID:0050177, DOID:0050736 and other 51), and containing 5 nodes, with a maximal depth of 2, which are 9606.ENSP00000373583 (degree 5 and node types CL:20278, CL:20279, CL:20343, CL:20345, GO:0005622 and other 8), 9606.ENSP00000352299 (node types BTO:0000000, BTO:0000042, BTO:0000080, BTO:0000081, BTO:0000082 and other 39), 9606.ENSP00000357811 (node types CL:20278, CL:20279, CL:20343, CL:20345, IPR029369 and other 2), 9606.ENSP00000386118 (node types CL:20278, CL:20279, CL:20343, CL:20345, KW-0025 and another one) and 9606.ENSP00000387298 (node types CL:20278, CL:20279, CL:20343 and CL:20345). Its nodes have 54 node types, of which the 10 most common are CL:20279 (5 nodes, 0.03%), CL:20343 (5 nodes, 0.03%), CL:20278 (5 nodes, 0.03%), CL:20345 (5 nodes, 0.03%), KW-0025 (3 nodes, 0.02%), KW-0621 (3 nodes, 0.02%), GO:0097159, IPR007421, KW-0175 and PF04326.</p></li>\n",
       "<li><p class=\"paragraph\">Dendritic tree starting from the root node 9606.ENSP00000265322 (degree 43 and node types BTO:0000000, BTO:0000042, BTO:0000058, BTO:0000269, BTO:0000345 and other 157), and containing 4 nodes, with a maximal depth of 3, which are 9606.ENSP00000333183 (node types CL:37591, CL:37592, CL:37594, CL:37595, CL:37598 and other 85), 9606.ENSP00000467301 (degree 3 and node types CL:37591, CL:37592, CL:37594, CL:37595, CL:37598 and other 60), 9606.ENSP00000331435 (node types CL:37591, CL:37592, CL:37594, CL:37595, CL:37598 and other 82) and 9606.ENSP00000370801 (node types CL:37591, CL:37592, CL:37594, CL:37595, CL:37598 and other 84). Its nodes have 143 node types, of which the 10 most common are GO:0110165 (4 nodes, 0.02%), GO:0050789 (4 nodes, 0.02%), CL:37591 (4 nodes, 0.02%), GO:0065007 (4 nodes, 0.02%), GO:0009987 (4 nodes, 0.02%), CL:37592 (4 nodes, 0.02%), GO:0050794 (4 nodes, 0.02%), CL:37594 (4 nodes, 0.02%), CL:37599 (4 nodes, 0.02%) and CL:37595 (4 nodes, 0.02%).</p></li></ol><p class=\"paragraph\">And other 8 dendritic trees.</p><h4 style=\"margin: 1em 0 0 0;\">Stars</h4><p class=\"paragraph\">A star is a tree with a maximal depth of one, where nodes with maximal unique degree one are connected to a central root node with a high degree. We have detected 11 stars in the graph, involving a total of 35 nodes (0.18%) and 24 edges, with the largest one involving 4 nodes and 3 edges. The detected stars, sorted by decreasing size, are:</p><ol class=\"large-columns\"><li><p class=\"paragraph\">Star starting from the root node 9606.ENSP00000334289 (degree 3 and node types CL:37591, CL:37592, CL:37748, CL:37749, CL:37750 and other 6), and containing 4 nodes, with a maximal depth of 1, which are 9606.ENSP00000324672 (node types BTO:0000000, BTO:0000042, BTO:0000420, BTO:0000522, BTO:0000828 and other 40), 9606.ENSP00000366223 (node types CL:33130, CL:33131, CL:33132, CL:33133, CL:33134 and other 12) and 9606.ENSP00000485629 (node types CL:37591, CL:37592, CL:37748, CL:37749, CL:37750 and other 2). Its nodes have 60 node types, of which the 10 most common are CL:37749 (2 nodes, 0.01%), CL:37591 (2 nodes, 0.01%), CL:37592 (2 nodes, 0.01%), CL:37750 (2 nodes, 0.01%), GO:0016020 (2 nodes, 0.01%), CL:37748 (2 nodes, 0.01%), CL:37753 (2 nodes, 0.01%), GO:0110165 (2 nodes, 0.01%), KW-0025 (2 nodes, 0.01%) and GOCC:0005829.</p></li>\n",
       "<li><p class=\"paragraph\">Star starting from the root node 9606.ENSP00000345333 (degree 3 and node types BTO:0000000, BTO:0000042, CL:34541, CL:34542, CL:34543 and other 45), and containing 4 nodes, with a maximal depth of 1, which are 9606.ENSP00000328245 (node types BTO:0000000, BTO:0000042, BTO:0000081, BTO:0000083, BTO:0000088 and other 65), 9606.ENSP00000339314 (node types CL:34541, CL:34542, CL:34543, CL:34544, CL:34545 and other 56) and 9606.ENSP00000483077 (node types BTO:0000000, BTO:0000042, BTO:0000142, BTO:0000227, BTO:0000282 and other 93). Its nodes have 134 node types, of which the 10 most common are GO:0097159 (3 nodes, 0.02%), KW-0479 (3 nodes, 0.02%), KW-0805 (3 nodes, 0.02%), GO:0043231 (3 nodes, 0.02%), GO:1901363 (3 nodes, 0.02%), KW-0539 (3 nodes, 0.02%), GO:0005634 (3 nodes, 0.02%), IPR013087 (3 nodes, 0.02%), KW-0863 (3 nodes, 0.02%) and GO:0003677 (3 nodes, 0.02%).</p></li>\n",
       "<li><p class=\"paragraph\">Star starting from the root node 9606.ENSP00000281523 (degree 2 and node types BTO:0000000, BTO:0000042, BTO:0000059, BTO:0000416, BTO:0000431 and other 39), and containing 3 nodes, with a maximal depth of 1, which are 9606.ENSP00000297063 (node types CL:28068, CL:28120, CL:28121, CL:28123, IPR012548 and other 2) and 9606.ENSP00000418575 (node types BTO:0000000, BTO:0000042, BTO:0000142, BTO:0000227, BTO:0000282 and other 71). Its nodes have 83 node types, of which the 10 most common are GOCC:0005576, BTO:0001484, GO:0005102, BTO:0000142, GO:0009966, GO:0050767, GO:0023051, GO:0009987, PF08014 and GO:0051239.</p></li>\n",
       "<li><p class=\"paragraph\">Star starting from the root node 9606.ENSP00000295012 (degree 2), and containing 3 nodes, with a maximal depth of 1, which are 9606.ENSP00000469705 and 9606.ENSP00000484537. Its nodes have 8 node types, which are CL:37750 (2 nodes, 0.01%), CL:37753 (2 nodes, 0.01%), CL:37748 (2 nodes, 0.01%), CL:37755 (2 nodes, 0.01%), PF15788 (2 nodes, 0.01%), CL:37591 (2 nodes, 0.01%), CL:37592 (2 nodes, 0.01%) and CL:37749 (2 nodes, 0.01%).</p></li>\n",
       "<li><p class=\"paragraph\">Star starting from the root node 9606.ENSP00000319590 (degree 2 and node types CL:35745, CL:35746, CL:35748, CL:35750, CL:35751 and other 6), and containing 3 nodes, with a maximal depth of 1, which are 9606.ENSP00000230301 (node types CL:35745, CL:35746, CL:35748, CL:35750, CL:35751 and other 5) and 9606.ENSP00000354590 (node types BTO:0000000, BTO:0000042, BTO:0001576, CL:35745, CL:35746 and other 31). Its nodes have 39 node types, of which the 10 most common are CL:35746 (2 nodes, 0.01%), CL:35745 (2 nodes, 0.01%), CL:35748 (2 nodes, 0.01%), KW-0621 (2 nodes, 0.01%), CL:35753 (2 nodes, 0.01%), CL:35751 (2 nodes, 0.01%), CL:35750 (2 nodes, 0.01%), GO:0009987, KW-1133 and GO:0015833.</p></li>\n",
       "<li><p class=\"paragraph\">Star starting from the root node 9606.ENSP00000344129 (degree 2 and node types CL:37293, CL:37425, CL:37489, CL:37491, CL:37492 and other 53), and containing 3 nodes, with a maximal depth of 1, which are 9606.ENSP00000380071 (node types BTO:0000000, BTO:0000042, CL:37293, CL:37425, CL:37489 and other 26) and 9606.ENSP00000469417 (node types CL:37293, CL:37425, CL:37489, CL:37491, CL:37492 and other 46). Its nodes have 70 node types, of which the 10 most common are CL:37425 (2 nodes, 0.01%), GO:0043227 (2 nodes, 0.01%), CL:37293 (2 nodes, 0.01%), CL:37493 (2 nodes, 0.01%), CL:37491 (2 nodes, 0.01%), GO:0043226 (2 nodes, 0.01%), CL:37489 (2 nodes, 0.01%), GO:0005622 (2 nodes, 0.01%), CL:37492 (2 nodes, 0.01%) and KW-0025 (2 nodes, 0.01%).</p></li></ol><p class=\"paragraph\">And other 5 stars.</p><h4 style=\"margin: 1em 0 0 0;\">Dendritic stars</h4><p class=\"paragraph\">A dendritic star is a dendritic tree with a maximal depth of one, where nodes with maximal unique degree one are connected to a central root node with high degree and inside a strongly connected component. We have detected 90 dendritic stars in the graph, involving a total of 220 nodes (1.12%) and 220 edges (0.04%), with the largest one involving 19 nodes and 19 edges. The detected dendritic stars, sorted by decreasing size, are:</p><ol class=\"large-columns\"><li><p class=\"paragraph\">Dendritic star starting from the root node 9606.ENSP00000334051 (degree 82 and node types BTO:0000000, BTO:0000042, BTO:0000142, BTO:0000176, BTO:0000202 and other 190), and containing 19 nodes, with a maximal depth of 1, which are 9606.ENSP00000284287 (node types CL:32704, CL:32705, CL:32706, CL:32707, CL:32708 and other 62), 9606.ENSP00000307726 (node types CL:32450, CL:32490, CL:32491, CL:32492, GO:0003008 and other 64), 9606.ENSP00000311605 (node types CL:28902, CL:28903, CL:28931, CL:28933, GO:0003008 and other 58), 9606.ENSP00000318997 (node types CL:35745, CL:35746, GO:0003008, GO:0004888, GO:0004930 and other 97) and 9606.ENSP00000319071 (node types CL:15603, CL:15604, CL:15605, CL:15624, GO:0003008 and other 59). Its nodes have 175 node types, of which the 10 most common are GO:0009987 (19 nodes, 0.10%), HSA-388396 (19 nodes, 0.10%), IPR000725 (19 nodes, 0.10%), HSA-372790 (19 nodes, 0.10%), GOCC:0110165 (19 nodes, 0.10%), KW-0675 (19 nodes, 0.10%), GO:0005886 (19 nodes, 0.10%), KW-0472 (19 nodes, 0.10%), GO:0007608 (19 nodes, 0.10%) and GOCC:0005886 (19 nodes, 0.10%).</p></li>\n",
       "<li><p class=\"paragraph\">Dendritic star starting from the root node 9606.ENSP00000432561 (degree 14 and node types BTO:0000000, BTO:0000042, BTO:0000202, BTO:0000282, BTO:0000368 and other 74), and containing 7 nodes, with a maximal depth of 1, which are 9606.ENSP00000254166 (node types BTO:0000176, BTO:0000415, BTO:0000584, BTO:0000604, BTO:0000632 and other 70), 9606.ENSP00000303533 (node types BTO:0000000, BTO:0000042, BTO:0000176, BTO:0000415, BTO:0000584 and other 80), 9606.ENSP00000344162 (node types BTO:0000000, BTO:0000042, BTO:0000176, BTO:0000415, BTO:0000584 and other 84), 9606.ENSP00000379464 (node types BTO:0000000, BTO:0000042, BTO:0000176, BTO:0000415, BTO:0000584 and other 69) and 9606.ENSP00000385163 (node types BTO:0000176, BTO:0000415, BTO:0000584, BTO:0000604, BTO:0000632 and other 62). Its nodes have 167 node types, of which the 10 most common are GO:0003677 (7 nodes, 0.04%), KW-0539 (7 nodes, 0.04%), BTO:0000604 (7 nodes, 0.04%), IPR036236 (7 nodes, 0.04%), KW-0677 (7 nodes, 0.04%), GO:0043227 (7 nodes, 0.04%), GO:0031326 (7 nodes, 0.04%), GO:0080090 (7 nodes, 0.04%), GO:0010468 (7 nodes, 0.04%) and GO:0009889 (7 nodes, 0.04%).</p></li>\n",
       "<li><p class=\"paragraph\">Dendritic star starting from the root node 9606.ENSP00000319673 (degree 16 and node types BTO:0000000, BTO:0000024, BTO:0000042, BTO:0000058, BTO:0000081 and other 176), and containing 6 nodes, with a maximal depth of 1, which are 9606.ENSP00000360360 (node types CL:28165, CL:28166, CL:28167, CL:28271, IPR028930 and other 3), 9606.ENSP00000392283 (node types CL:30792, CL:30793, CL:30794, CL:30936 and PF15623), 9606.ENSP00000393315 (node types CL:30792, CL:30793, CL:30794, CL:30936 and PF15623), 9606.ENSP00000399711 (node types CL:30792, CL:30793, CL:30794, CL:30936, CL:30938 and another one) and 9606.ENSP00000410400 (node types CL:30792, CL:30793, CL:30794, CL:30936, CL:30938 and another one). Its nodes have 13 node types, of which the 10 most common are PF15623 (6 nodes, 0.03%), CL:30792 (5 nodes, 0.03%), CL:30794 (5 nodes, 0.03%), CL:30793 (5 nodes, 0.03%), CL:30936 (5 nodes, 0.03%), CL:30938 (3 nodes, 0.02%), KW-0621, CL:28271, CL:28165 and CL:28167.</p></li>\n",
       "<li><p class=\"paragraph\">Dendritic star starting from the root node 9606.ENSP00000376345 (degree 380 and node types BTO:0000000, BTO:0000042, BTO:0000058, BTO:0000081, BTO:0000083 and other 685), and containing 4 nodes, with a maximal depth of 1, which are 9606.ENSP00000320038 (node types BTO:0000000, BTO:0000042, BTO:0000142, BTO:0000227, BTO:0000231 and other 142), 9606.ENSP00000356093 (node types BTO:0000000, BTO:0000042, CL:34541, CL:34542, CL:34543 and other 89), 9606.ENSP00000384593 (node types CL:26288, CL:26289, CL:26439, CL:26440, CL:26441 and other 7) and 9606.ENSP00000470441 (node types CL:28969, CL:29029, CL:29030, GO:0005488, GO:0016020 and other 20). Its nodes have 237 node types, of which the 10 most common are GO:0005488 (3 nodes, 0.02%), GO:0110165 (3 nodes, 0.02%), GO:0016020 (3 nodes, 0.02%), GO:0048856 (2 nodes, 0.01%), GO:0042221 (2 nodes, 0.01%), GO:0051716 (2 nodes, 0.01%), GO:0050896 (2 nodes, 0.01%), KW-0812 (2 nodes, 0.01%), GO:0030154 (2 nodes, 0.01%) and GO:0050794 (2 nodes, 0.01%).</p></li>\n",
       "<li><p class=\"paragraph\">Dendritic star starting from the root node 9606.ENSP00000267017 (degree 20 and node types BTO:0000000, BTO:0000042, CL:24334, CL:24335, CL:24336 and other 211), and containing 4 nodes, with a maximal depth of 1, which are 9606.ENSP00000309782 (node types BTO:0000000, BTO:0000042, BTO:0000081, BTO:0000083, BTO:0000142 and other 68), 9606.ENSP00000314042 (node types CL:35745, CL:35855, CL:35856, CL:35858, CL:35859 and other 37), 9606.ENSP00000330612 (node types CL:25546, CL:25547, CL:25548, CL:25549, CL:25550 and other 36) and 9606.ENSP00000366331 (node types CL:32521, CL:32522, CL:32523, CL:32591, CL:32621 and other 67). Its nodes have 115 node types, of which the 10 most common are GO:0031224 (4 nodes, 0.02%), GO:0038023 (4 nodes, 0.02%), GO:0016020 (4 nodes, 0.02%), GO:0071944 (4 nodes, 0.02%), GOCC:0005886 (4 nodes, 0.02%), GO:0050789 (4 nodes, 0.02%), GO:0023052 (4 nodes, 0.02%), GO:0051716 (4 nodes, 0.02%), GOCC:0016020 (4 nodes, 0.02%) and KW-1003 (4 nodes, 0.02%).</p></li>\n",
       "<li><p class=\"paragraph\">Dendritic star starting from the root node 9606.ENSP00000246801 (degree 7 and node types CL:31801, CL:31802, CL:31803, CL:31939, CL:31941 and other 57), and containing 3 nodes, with a maximal depth of 1, which are 9606.ENSP00000362634 (node types BTO:0000000, BTO:0000042, BTO:0000080, BTO:0000081, BTO:0000082 and other 112), 9606.ENSP00000375081 (node types BTO:0000000, BTO:0000042, BTO:0000080, BTO:0000081, BTO:0000082 and other 151) and 9606.ENSP00000382544 (node types BTO:0000000, BTO:0000042, BTO:0000058, BTO:0000080, BTO:0000081 and other 147). Its nodes have 177 node types, of which the 10 most common are KW-0067 (3 nodes, 0.02%), GO:0016740 (3 nodes, 0.02%), KW-0621 (3 nodes, 0.02%), GO:1901363 (3 nodes, 0.02%), GO:0005634 (3 nodes, 0.02%), KW-0217 (3 nodes, 0.02%), BTO:0001489 (3 nodes, 0.02%), GO:0050896 (3 nodes, 0.02%), KW-0597 (3 nodes, 0.02%) and GO:0035639 (3 nodes, 0.02%).</p></li></ol><p class=\"paragraph\">And other 84 dendritic stars.</p><h4 style=\"margin: 1em 0 0 0;\">Dendritic tendril stars</h4><p class=\"paragraph\">A dendritic tendril star is a dendritic tree with a depth greater than one, where the arms of the star are tendrils. We have detected 13 dendritic tendril stars in the graph, involving a total of 48 nodes (0.25%) and 48 edges, with the largest one involving 9 nodes and 9 edges. The detected dendritic tendril stars, sorted by decreasing size, are:</p><ol class=\"large-columns\"><li><p class=\"paragraph\">Dendritic tendril star starting from the root node 9606.ENSP00000371594 (degree 68 and node types BTO:0000000, BTO:0000042, BTO:0000142, BTO:0000227, BTO:0000231 and other 177), and containing 9 nodes, with a maximal depth of 2, which are 9606.ENSP00000302199 (node types CL:36843, CL:36921, CL:36922, CL:36924, CL:36926 and other 62), 9606.ENSP00000312403 (node types CL:38353, CL:38354, CL:38548, CL:38576, GO:0003008 and other 59), 9606.ENSP00000323853 (node types CL:29729, CL:29730, CL:29840, GO:0003008, GO:0004888 and other 59), 9606.ENSP00000329982 (node types CL:36843, CL:36921, CL:36922, CL:36924, CL:36926 and other 58) and 9606.ENSP00000330904 (node types CL:7850, CL:7904, DOID:0050117, DOID:4, DOID:934 and other 60). Its nodes have 84 node types, of which the 10 most common are GO:0009987 (9 nodes, 0.05%), GO:0009593 (9 nodes, 0.05%), GO:0003008 (9 nodes, 0.05%), GO:0007608 (9 nodes, 0.05%), GO:0031224 (9 nodes, 0.05%), GO:0110165 (9 nodes, 0.05%), GO:0050911 (9 nodes, 0.05%), GOCC:0071944 (9 nodes, 0.05%), GO:0065007 (9 nodes, 0.05%) and GO:0050794 (9 nodes, 0.05%).</p></li>\n",
       "<li><p class=\"paragraph\">Dendritic tendril star starting from the root node 9606.ENSP00000310275 (degree 58 and node types BTO:0000000, BTO:0000042, BTO:0000081, BTO:0000083, BTO:0000142 and other 161), and containing 5 nodes, with a maximal depth of 4, which are 9606.ENSP00000356121 (node types BTO:0000000, BTO:0000042, BTO:0000080, BTO:0000081, BTO:0000082 and other 27), 9606.ENSP00000360320 (node types CL:32190, CL:32191, CL:32213, IPR033557, KW-0025 and another one), 9606.ENSP00000351727 (node types CL:32190, CL:32191, CL:32213, DOID:0050155, DOID:0060388 and other 12), 9606.ENSP00000355840 (node types CL:32190, CL:32191, CL:32213, DOID:0050177, DOID:0050736 and other 16) and 9606.ENSP00000340887 (node types CL:32190, CL:32191, CL:32213 and PF15730). Its nodes have 62 node types, of which the 10 most common are CL:32213 (4 nodes, 0.02%), CL:32190 (4 nodes, 0.02%), KW-0621 (4 nodes, 0.02%), CL:32191 (4 nodes, 0.02%), DOID:7 (2 nodes, 0.01%), DOID:4 (2 nodes, 0.01%), KW-0175 (2 nodes, 0.01%), DOID:863 (2 nodes, 0.01%), DOID:630 (2 nodes, 0.01%) and KW-0025 (2 nodes, 0.01%).</p></li>\n",
       "<li><p class=\"paragraph\">Dendritic tendril star starting from the root node 9606.ENSP00000363382 (degree 4 and node types BTO:0000000, BTO:0000042, CL:34075, CL:34076, CL:34077 and other 38), and containing 4 nodes, with a maximal depth of 3, which are 9606.ENSP00000332663 (node types CL:37293, CL:37294, CL:37295, CL:37296, CL:37334 and other 6), 9606.ENSP00000363894 (node types BTO:0000000, BTO:0000042, CL:34075, CL:34076, CL:34077 and other 16), 9606.ENSP00000448580 (node types BTO:0000000, BTO:0000042, CL:34075, CL:34076, CL:34077 and other 102) and 9606.ENSP00000363899 (node types BTO:0000000, BTO:0000042, BTO:0000142, BTO:0000227, BTO:0000282 and other 31). Its nodes have 137 node types, of which the 10 most common are CL:34078 (3 nodes, 0.02%), CL:34076 (3 nodes, 0.02%), GO:0005622 (3 nodes, 0.02%), GO:0110165 (3 nodes, 0.02%), BTO:0000000 (3 nodes, 0.02%), BTO:0000042 (3 nodes, 0.02%), KW-0621 (3 nodes, 0.02%), CL:34229 (3 nodes, 0.02%), CL:34170 (3 nodes, 0.02%) and CL:34239 (3 nodes, 0.02%).</p></li>\n",
       "<li><p class=\"paragraph\">Dendritic tendril star starting from the root node 9606.ENSP00000216862 (degree 24 and node types CL:20082, DOID:0014667, DOID:0050032, DOID:0060158, DOID:10575 and other 181), and containing 3 nodes, with a maximal depth of 2, which are 9606.ENSP00000309649 (node types BTO:0000000, BTO:0000042, BTO:0000081, BTO:0000083, BTO:0000174 and other 74), 9606.ENSP00000318912 (node types BTO:0000000, BTO:0000042, BTO:0000282, BTO:0001090, BTO:0001489 and other 46) and 9606.ENSP00000242315 (node types BTO:0000000, BTO:0000042, BTO:0000142, BTO:0000227, BTO:0000231 and other 63). Its nodes have 141 node types, of which the 10 most common are GO:0043169 (3 nodes, 0.02%), GO:0005488 (3 nodes, 0.02%), GO:0043167 (3 nodes, 0.02%), BTO:0001489 (3 nodes, 0.02%), BTO:0000042 (3 nodes, 0.02%), GO:0046872 (3 nodes, 0.02%), KW-0862 (3 nodes, 0.02%), GO:0009987 (3 nodes, 0.02%), BTO:0000000 (3 nodes, 0.02%) and KW-0479 (3 nodes, 0.02%).</p></li>\n",
       "<li><p class=\"paragraph\">Dendritic tendril star starting from the root node 9606.ENSP00000276590 (degree 10 and node types BTO:0000000, BTO:0000042, BTO:0000081, BTO:0000083, BTO:0000142 and other 86), and containing 3 nodes, with a maximal depth of 2, which are 9606.ENSP00000262288 (node types BTO:0000000, BTO:0000042, BTO:0000081, BTO:0000083, BTO:0000088 and other 100), 9606.ENSP00000271375 (node types CL:35929, CL:35931, GO:0005576, GO:0005615, GO:0006810 and other 48) and 9606.ENSP00000348033 (node types CL:35929, CL:35931, GO:0003008, GO:0004888, GO:0004930 and other 66). Its nodes have 195 node types, of which the 10 most common are GO:0110165 (3 nodes, 0.02%), GO:0043227 (3 nodes, 0.02%), GO:0043230 (3 nodes, 0.02%), GO:1903561 (3 nodes, 0.02%), GO:0005615 (3 nodes, 0.02%), GO:0070062 (3 nodes, 0.02%), GO:0009987 (3 nodes, 0.02%), GO:0043226 (3 nodes, 0.02%), GO:0005576 (3 nodes, 0.02%) and GO:0031982 (3 nodes, 0.02%).</p></li>\n",
       "<li><p class=\"paragraph\">Dendritic tendril star starting from the root node 9606.ENSP00000283946 (degree 10 and node types CL:6626, CL:6916, CL:6917, CL:6918, IPR001810 and other 7), and containing 3 nodes, with a maximal depth of 2, which are 9606.ENSP00000359819 (node types BTO:0000000, BTO:0000042, CL:9768, CL:9769, CL:9833 and other 88), 9606.ENSP00000377577 (node types BTO:0000000, BTO:0000042, CL:6626, CL:6916, CL:6917 and other 51) and 9606.ENSP00000229002 (node types BTO:0000000, BTO:0000042, CL:9768, CL:9769, CL:9833 and other 58). Its nodes have 191 node types, of which the 10 most common are BTO:0000042 (3 nodes, 0.02%), GO:0110165 (3 nodes, 0.02%), KW-0621 (3 nodes, 0.02%), GO:0009987 (3 nodes, 0.02%), BTO:0000000 (3 nodes, 0.02%), GO:0016020 (2 nodes, 0.01%), GO:0050789 (2 nodes, 0.01%), GO:0005622 (2 nodes, 0.01%), CL:9833 (2 nodes, 0.01%) and GO:0043229 (2 nodes, 0.01%).</p></li></ol><p class=\"paragraph\">And other 7 dendritic tendril stars.</p><h4 style=\"margin: 1em 0 0 0;\">Tendrils</h4><p class=\"paragraph\">A tendril is a path starting from a node of degree one, connected to a strongly connected component. We have detected 995 tendrils in the graph, involving a total of 1.08K nodes (5.52%) and 1.08K edges (0.21%), with the largest one involving 4 nodes and 4 edges. The detected tendrils, sorted by decreasing size, are:</p><ol class=\"large-columns\"><li><p class=\"paragraph\">Tendril starting from the root node 9606.ENSP00000374014 (degree 7 and node types CL:29064, CL:29065, CL:29066, CL:29067, CL:29129 and other 69), and containing 4 nodes, with a maximal depth of 4, which are 9606.ENSP00000291481 (node types CL:29064, CL:29065, CL:29066, CL:29067, CL:29129 and other 54), 9606.ENSP00000317000 (node types BTO:0000000, BTO:0000042, CL:29064, CL:29065, CL:29066 and other 47), 9606.ENSP00000394178 (node types BTO:0000000, BTO:0000042, BTO:0000088, BTO:0000562, BTO:0001489 and other 19) and 9606.ENSP00000296862 (node types CL:32521, CL:32522, CL:32523, CL:32591, GO:0004888 and other 33). Its nodes have 134 node types, of which the 10 most common are GO:0110165 (4 nodes, 0.02%), KW-1133 (3 nodes, 0.02%), GO:0016020 (3 nodes, 0.02%), KW-0621 (3 nodes, 0.02%), GO:0016021 (3 nodes, 0.02%), KW-0325 (3 nodes, 0.02%), KW-0025 (3 nodes, 0.02%), KW-0812 (3 nodes, 0.02%), CL:29064 (3 nodes, 0.02%) and CL:29066 (3 nodes, 0.02%).</p></li>\n",
       "<li><p class=\"paragraph\">Tendril starting from the root node 9606.ENSP00000371512 (degree 13 and node types BTO:0000000, BTO:0000042, BTO:0000887, BTO:0001103, BTO:0001369 and other 89), and containing 3 nodes, with a maximal depth of 3, which are 9606.ENSP00000310182 (node types BTO:0000000, BTO:0000042, CL:33130, CL:33332, CL:33384 and other 19), 9606.ENSP00000344331 (node types CL:33130, CL:33332, CL:33384, CL:33404, DOID:0014667 and other 32) and 9606.ENSP00000386389 (node types CL:33130, CL:33332, CL:33384, CL:33404, IPR000210 and other 15). Its nodes have 63 node types, of which the 10 most common are CL:33332 (3 nodes, 0.02%), CL:33404 (3 nodes, 0.02%), CL:33130 (3 nodes, 0.02%), CL:33384 (3 nodes, 0.02%), GO:0043227 (2 nodes, 0.01%), KW-0472 (2 nodes, 0.01%), GO:0016021 (2 nodes, 0.01%), GO:0016020 (2 nodes, 0.01%), GO:0031224 (2 nodes, 0.01%) and GO:0012505 (2 nodes, 0.01%).</p></li>\n",
       "<li><p class=\"paragraph\">Tendril starting from the root node 9606.ENSP00000264554 (degree 44 and node types BTO:0000000, BTO:0000042, CL:15701, CL:15702, CL:15840 and other 142), and containing 3 nodes, with a maximal depth of 3, which are 9606.ENSP00000344465 (node types BTO:0000000, BTO:0000042, BTO:0000089, BTO:0000131, BTO:0000132 and other 76), 9606.ENSP00000336661 (node types CL:37293, CL:37294, CL:37295, CL:37296, CL:37297 and other 9) and 9606.ENSP00000430271 (node types BTO:0000000, BTO:0000042, BTO:0000142, BTO:0000227, BTO:0000231 and other 85). Its nodes have 162 node types, of which the 10 most common are CL:37297 (3 nodes, 0.02%), CL:37294 (3 nodes, 0.02%), CL:37296 (3 nodes, 0.02%), CL:37295 (3 nodes, 0.02%), CL:37293 (3 nodes, 0.02%), CL:37298 (3 nodes, 0.02%), KW-0621 (3 nodes, 0.02%), BTO:0000000 (2 nodes, 0.01%), GO:0009987 (2 nodes, 0.01%) and GO:0050794 (2 nodes, 0.01%).</p></li>\n",
       "<li><p class=\"paragraph\">Tendril starting from the root node 9606.ENSP00000302578 (degree 4 and node types BTO:0000000, CL:32361, CL:32432, GO:0005622, GO:0005737 and other 9), and containing 3 nodes, with a maximal depth of 3, which are 9606.ENSP00000264735 (node types CL:32361, CL:32432, GO:0003824, GO:0004620, GO:0004623 and other 91), 9606.ENSP00000295092 (node types BTO:0000000, BTO:0000042, BTO:0000142, BTO:0000227, BTO:0000282 and other 27) and 9606.ENSP00000370724 (node types BTO:0000000, BTO:0000042, BTO:0000142, BTO:0000227, BTO:0000282 and other 44). Its nodes have 152 node types, of which the 10 most common are GO:0005622 (3 nodes, 0.02%), GO:0009987 (3 nodes, 0.02%), GO:0110165 (3 nodes, 0.02%), CL:26700 (2 nodes, 0.01%), KW-0963 (2 nodes, 0.01%), BTO:0000000 (2 nodes, 0.01%), CL:26702 (2 nodes, 0.01%), CL:26738 (2 nodes, 0.01%), GO:0005737 (2 nodes, 0.01%) and CL:26740 (2 nodes, 0.01%).</p></li>\n",
       "<li><p class=\"paragraph\">Tendril starting from the root node 9606.ENSP00000302843 (degree 6 and node types BTO:0000000, BTO:0000042, CL:3010, CL:3150, GO:0005488 and other 72), and containing 3 nodes, with a maximal depth of 3, which are 9606.ENSP00000414920 (node types CL:3010, CL:3150, GO:0000003, GO:0003006, GO:0003676 and other 49), 9606.ENSP00000206020 (node types BTO:0000000, BTO:0000042, BTO:0000081, BTO:0000083, BTO:0001489 and other 32) and 9606.ENSP00000317289 (node types BTO:0000000, BTO:0000042, BTO:0000081, BTO:0000082, BTO:0000083 and other 80). Its nodes have 142 node types, of which the 10 most common are KW-0539 (3 nodes, 0.02%), GO:0005622 (3 nodes, 0.02%), GO:0043226 (3 nodes, 0.02%), GO:0005634 (3 nodes, 0.02%), GO:0005488 (3 nodes, 0.02%), GO:0110165 (3 nodes, 0.02%), GO:0043229 (3 nodes, 0.02%), GO:0043231 (3 nodes, 0.02%), GO:0043227 (3 nodes, 0.02%) and BTO:0000042 (2 nodes, 0.01%).</p></li>\n",
       "<li><p class=\"paragraph\">Tendril starting from the root node 9606.ENSP00000307636 (degree 6 and node types BTO:0000000, BTO:0000042, BTO:0000081, BTO:0000083, BTO:0000142 and other 68), and containing 3 nodes, with a maximal depth of 3, which are 9606.ENSP00000386563 (node types BTO:0000250, BTO:0000372, BTO:0001207, BTO:0001801, CL:31801 and other 43), 9606.ENSP00000367792 (node types CL:31801, CL:32073, CL:32074, CL:32127, GOCC:0005622 and other 28) and 9606.ENSP00000411253 (node types BTO:0000000, BTO:0000042, BTO:0000081, BTO:0000083, BTO:0001489 and other 75). Its nodes have 134 node types, of which the 10 most common are KW-0621 (3 nodes, 0.02%), GO:0043229 (2 nodes, 0.01%), GOCC:0005622 (2 nodes, 0.01%), GOCC:0043229 (2 nodes, 0.01%), GO:0005737 (2 nodes, 0.01%), SM00698 (2 nodes, 0.01%), KW-0025 (2 nodes, 0.01%), GO:0005622 (2 nodes, 0.01%), GO:0009987 (2 nodes, 0.01%) and GOCC:0043226 (2 nodes, 0.01%).</p></li></ol><p class=\"paragraph\">And other 989 tendrils.</p></div>"
      ],
      "text/plain": [
       "<div class=\"graph-report\"><style>.graph-report li {margin: 0.5em 0 0.5em 0;}.graph-report .paragraph {text-align: justify;word-break: break-all;}.graph-report .small-columns {column-count: 4;column-gap: 2em;}.graph-report .medium-columns {column-count: 3;column-gap: 2em;}.graph-report .large-columns {column-count: 2;column-gap: 2em;}.graph-report .single-column {}@media only screen and (max-width: 600px) {.graph-report .small-columns {column-count: 1;}.graph-report .medium-columns {column-count: 1;}.graph-report .large-columns {column-count: 1;}}@media only screen and (min-width: 600px) and (max-width: 800px) {.graph-report .small-columns {column-count: 2;}.graph-report .medium-columns {column-count: 1;}.graph-report .large-columns {column-count: 1;}}@media only screen and (min-width: 800px) and (max-width: 1024px) {.graph-report .small-columns {column-count: 3;}.graph-report .medium-columns {column-count: 2;}.graph-report .large-columns {column-count: 1;}}</style><h2>HomoSapiens</h2><p class=\"paragraph\">The undirected graph HomoSapiens has 19.57K heterogeneous nodes and 252.98K edges. The graph contains 2.85K connected components (of which 2.75K are disconnected nodes), with the largest one containing 16.58K nodes and the smallest one containing a single node. The RAM requirements for the nodes and edges data structures are 2.67MB and 782.89KB respectively.</p><h3 style=\"margin: 1em 0 0 0;\">Degree centrality</h3><p class=\"paragraph\">The minimum node degree is 0, the maximum node degree is 747, the mode degree is 0, the mean degree is 25.86 and the node degree median is 9.</p><p class=\"paragraph\">The nodes with the highest degree centrality are 9606.ENSP00000272317 (degree 747 and node types BTO:0000000, BTO:0000042, BTO:0000058, BTO:0000080, BTO:0000081 and other 907), 9606.ENSP00000269305 (degree 723 and node types BTO:0000000, BTO:0000003, BTO:0000018, BTO:0000042, BTO:0000058 and other 1.35K), 9606.ENSP00000388107 (degree 669 and node types BTO:0000000, BTO:0000042, BTO:0000047, BTO:0000080, BTO:0000081 and other 884), 9606.ENSP00000441543 (degree 620 and node types BTO:0000000, BTO:0000020, BTO:0000042, BTO:0000058, BTO:0000080 and other 869) and 9606.ENSP00000362680 (degree 572 and node types BTO:0000000, BTO:0000042, BTO:0000089, BTO:0000131, BTO:0000132 and other 1.17K).</p><h3 style=\"margin: 1em 0 0 0;\">Weights</h3><p class=\"paragraph\">The minimum edge weight is 700, the maximum edge weight is 999 and the total edge weight is 437919420. The RAM requirement for the edge weights data structure is 2.02MB.</p><h3 style=\"margin: 1em 0 0 0;\">Node types</h3><p class=\"paragraph\">The graph has 62.23K node types, of which the 10 most common are GO:0110165 (17.79K nodes, 90.91%), GO:0009987 (15.02K nodes, 76.79%), BTO:0000000 (14.94K nodes, 76.37%), BTO:0000042 (14.89K nodes, 76.13%), GO:0005622 (14.28K nodes, 72.96%), GOCC:0110165 (13.85K nodes, 70.80%), GO:0043226 (13.52K nodes, 69.07%), BTO:0001489 (12.62K nodes, 64.49%), GO:0043229 (12.53K nodes, 64.03%) and GO:0005488 (12.52K nodes, 63.97%). The node types are multi-label, and the node with most node types has 1379 node types. The RAM requirement for the node types data structure is 19.13MB.</p><h4 style=\"margin: 1em 0 0 0;\">Approximated isomorphic node types</h4><p class=\"paragraph\">Approximated isomorphic node types groups are node types describing exactly the same set of nodes. Since the graph has a high number of node types (> 50.00K) we use an approximated version of the node types isomorphisms detection. Note that hash collisions and false positives are possible. It is possible to execute the exact computation with the <code>get_isomorphic_node_type_ids_groups</code> method. The presence of such duplicated node types suggests a potential modelling error in the pipeline that has produced this graph. 9.34K isomorphic node types groups were detected in this graph.</p><ol><li><p class=\"paragraph\">Isomorphic node type group containing 3 node types (5.86K nodes, 29.93%), which are: GO:0031974, GO:0043233 and GO:0070013.</p></li>\n",
       "<li><p class=\"paragraph\">Isomorphic node type group containing 2 node types (3.06K nodes, 15.65%), which are: GO:0006464 and GO:0036211.</p></li>\n",
       "<li><p class=\"paragraph\">Isomorphic node type group containing 2 node types (2.82K nodes, 14.39%), which are: GOCC:0031974 and GOCC:0043233.</p></li>\n",
       "<li><p class=\"paragraph\">Isomorphic node type group containing 2 node types (1.45K nodes, 7.43%), which are: GO:0038023 and GO:0060089.</p></li>\n",
       "<li><p class=\"paragraph\">Isomorphic node type group containing 2 node types (1.21K nodes, 6.20%), which are: GO:0031967 and GO:0031975.</p></li>\n",
       "<li><p class=\"paragraph\">Isomorphic node type group containing 2 node types (1.16K nodes, 5.95%), which are: GO:0010562 and GO:0045937.</p></li>\n",
       "<li><p class=\"paragraph\">Isomorphic node type group containing 2 node types (1.02K nodes, 5.20%), which are: GO:0048870 and GO:0051674.</p></li>\n",
       "<li><p class=\"paragraph\">Isomorphic node type group containing 2 node types (814 nodes, 4.16%), which are: GO:0016817 and GO:0016818.</p></li>\n",
       "<li><p class=\"paragraph\">Isomorphic node type group containing 2 node types (698 nodes, 3.57%), which are: GO:0000323 and GO:0005764.</p></li>\n",
       "<li><p class=\"paragraph\">Isomorphic node type group containing 2 node types (648 nodes, 3.31%), which are: BTO:0000775 and BTO:0001096.</p></li></ol><p class=\"paragraph\">And other 9.33K isomorphic node types.</p><h4 style=\"margin: 1em 0 0 0;\">Singleton node types</h4><p class=\"paragraph\">Singleton node types are node types that are assigned exclusively to a single node, making the node type relatively meaningless, as it adds no more information than the node name itself. The graph contains 16.85K singleton node types, which are IPR028927 (9606.ENSP00000000412 (degree 36 and node types BTO:0000000, BTO:0000042, BTO:0000080, BTO:0000081, BTO:0000082 and other 188)), GO:0006463 (9606.ENSP00000001008 (degree 62 and node types BTO:0000000, BTO:0000042, BTO:0000081, BTO:0000083, BTO:0000089 and other 332)), IPR031212 (9606.ENSP00000001008 (degree 62 and node types BTO:0000000, BTO:0000042, BTO:0000081, BTO:0000083, BTO:0000089 and other 332)), IPR003788 (9606.ENSP00000002125 (degree 33 and node types BTO:0000000, BTO:0000042, BTO:0000081, BTO:0000083, BTO:0000176 and other 115)), IPR038375 (9606.ENSP00000002125 (degree 33 and node types BTO:0000000, BTO:0000042, BTO:0000081, BTO:0000083, BTO:0000176 and other 115)), PF02636 (9606.ENSP00000002125 (degree 33 and node types BTO:0000000, BTO:0000042, BTO:0000081, BTO:0000083, BTO:0000176 and other 115)), BTO:0001193 (9606.ENSP00000003084 (degree 177 and node types BTO:0000000, BTO:0000003, BTO:0000042, BTO:0000081, BTO:0000082 and other 558)), BTO:0002032 (9606.ENSP00000003084 (degree 177 and node types BTO:0000000, BTO:0000003, BTO:0000042, BTO:0000081, BTO:0000082 and other 558)), BTO:0002750 (9606.ENSP00000003084 (degree 177 and node types BTO:0000000, BTO:0000003, BTO:0000042, BTO:0000081, BTO:0000082 and other 558)) and BTO:0004445 (9606.ENSP00000003084 (degree 177 and node types BTO:0000000, BTO:0000003, BTO:0000042, BTO:0000081, BTO:0000082 and other 558)), plus other 16.84K singleton node types.</p><h4 style=\"margin: 1em 0 0 0;\">Unknown node types</h4><p class=\"paragraph\">Nodes with unknown node types are nodes with a node type that was not provided during the creation of the graph, which may be desired as the output of a node-label holdout. The graph contains 159 nodes with unknown node type, which are 9606.ENSP00000239125, 9606.ENSP00000278779, 9606.ENSP00000303234, 9606.ENSP00000326574, 9606.ENSP00000362001, 9606.ENSP00000365108, 9606.ENSP00000366765, 9606.ENSP00000367360, 9606.ENSP00000367983 and 9606.ENSP00000368055, plus other 149 nodes with unknown node types, making up 0.81 of the nodes.</p><h3 style=\"margin: 1em 0 0 0;\">Topological Oddities</h3><p class=\"paragraph\">A topological oddity is a set of nodes in the graph that <i>may be derived</i> by an error during the generation of the edge list of the graph and, depending on the task, could bias the results of topology-based models. In the following paragraph, we will describe the detected topological oddities.</p><h4 style=\"margin: 1em 0 0 0;\">Singleton nodes</h4><p class=\"paragraph\">A singleton node is a node disconnected from all other nodes. We have detected 2.75K singleton nodes in the graph, involving a total of 2.75K nodes (14.07%). The detected singleton nodes are:</p><ul class=\"small-columns\"><li><p class=\"paragraph\">9606.ENSP00000005995 (node types BTO:0000000, BTO:0000042, BTO:0000089, BTO:0000399, BTO:0000539 and other 74)</p></li>\n",
       "<li><p class=\"paragraph\">9606.ENSP00000006526 (node types BTO:0000000, BTO:0000042, BTO:0000142, BTO:0000227, BTO:0000282 and other 67)</p></li>\n",
       "<li><p class=\"paragraph\">9606.ENSP00000006724 (node types BTO:0000000, BTO:0000042, BTO:0000058, BTO:0000269, BTO:0000271 and other 55)</p></li>\n",
       "<li><p class=\"paragraph\">9606.ENSP00000007735 (node types BTO:0000000, BTO:0000042, BTO:0000282, BTO:0000634, BTO:0001253 and other 61)</p></li>\n",
       "<li><p class=\"paragraph\">9606.ENSP00000010299 (node types BTO:0000000, BTO:0000042, BTO:0000058, BTO:0000959, BTO:0001489 and other 35)</p></li>\n",
       "<li><p class=\"paragraph\">9606.ENSP00000039989 (node types BTO:0000000, BTO:0000042, BTO:0000080, BTO:0000081, BTO:0000082 and other 76)</p></li>\n",
       "<li><p class=\"paragraph\">9606.ENSP00000064571 (node types BTO:0000000, BTO:0000042, CL:22867, CL:22979, GO:0002790 and other 56)</p></li>\n",
       "<li><p class=\"paragraph\">9606.ENSP00000084798 (node types BTO:0000000, BTO:0000042, BTO:0000142, BTO:0000227, BTO:0000282 and other 40)</p></li>\n",
       "<li><p class=\"paragraph\">9606.ENSP00000086933 (node types BTO:0000101, BTO:0000255, BTO:0000690, BTO:0001530, BTO:0005949 and other 66)</p></li>\n",
       "<li><p class=\"paragraph\">9606.ENSP00000158009 (node types CL:38353, CL:38354, CL:38355, CL:38356, CL:38488 and other 15)</p></li>\n",
       "<li><p class=\"paragraph\">9606.ENSP00000159087 (node types CL:28165, CL:28166, CL:28309, CL:28310, GO:0005215 and other 83)</p></li>\n",
       "<li><p class=\"paragraph\">9606.ENSP00000161006 (node types BTO:0000000, BTO:0000042, BTO:0000578, BTO:0005056, CL:35018 and other 39)</p></li>\n",
       "<li><p class=\"paragraph\">9606.ENSP00000162391 (node types BTO:0000000, BTO:0000042, BTO:0000174, BTO:0000284, BTO:0000379 and other 143)</p></li>\n",
       "<li><p class=\"paragraph\">9606.ENSP00000164640 (node types BTO:0000000, BTO:0000042, BTO:0000142, BTO:0000227, BTO:0000282 and other 21)</p></li>\n",
       "<li><p class=\"paragraph\">9606.ENSP00000190165 (node types BTO:0000000, BTO:0000042, BTO:0000081, BTO:0000083, BTO:0000254 and other 142)</p></li></ul><p class=\"paragraph\">And other 2.74K singleton nodes.</p><h4 style=\"margin: 1em 0 0 0;\">Node tuples</h4><p class=\"paragraph\">A node tuple is a connected component composed of two nodes. We have detected 77 node tuples in the graph, involving a total of 154 nodes (0.79%) and 77 edges (0.02%). The detected node tuples are:</p><ul class=\"medium-columns\"><li><p class=\"paragraph\">Node tuple containing the nodes 9606.ENSP00000484403 (node types BTO:0000000, BTO:0000042, BTO:0000080, BTO:0000081, BTO:0000082 and other 84) and 9606.ENSP00000484443 (node types BTO:0000000, BTO:0000042, CL:36843, CL:36844, CL:36890 and other 131).</p></li>\n",
       "<li><p class=\"paragraph\">Node tuple containing the nodes 9606.ENSP00000480336 (node types CL:38353, CL:38354, CL:38548, CL:38576, CL:38577 and other 41) and 9606.ENSP00000485424 (node types CL:38353, CL:38354, CL:38548, CL:38576, CL:38577 and other 68).</p></li>\n",
       "<li><p class=\"paragraph\">Node tuple containing the nodes 9606.ENSP00000454340 (node types CL:31264, CL:31299 and IPR007248) and 9606.ENSP00000485142 (node types CL:31264 and CL:31299).</p></li>\n",
       "<li><p class=\"paragraph\">Node tuple containing the nodes 9606.ENSP00000448841 (node types CL:7242, CL:7243, CL:7244, CL:7245, CL:7246 and other 17) and 9606.ENSP00000481258 (node types CL:7242, CL:7243, CL:7244, CL:7245, CL:7246 and other 59).</p></li>\n",
       "<li><p class=\"paragraph\">Node tuple containing the nodes 9606.ENSP00000436580 (node types CL:36974, CL:36975, CL:36976, CL:36977, IPR018903 and another one) and 9606.ENSP00000436891 (node types CL:36974, CL:36975, CL:36976, CL:36977 and PF10630).</p></li>\n",
       "<li><p class=\"paragraph\">Node tuple containing the nodes 9606.ENSP00000436042 (node types CL:35528, CL:35529, CL:35623, CL:35624, CL:35625 and other 41) and 9606.ENSP00000436426 (node types CL:35528, CL:35529, CL:35623, CL:35624, CL:35625 and other 57).</p></li>\n",
       "<li><p class=\"paragraph\">Node tuple containing the nodes 9606.ENSP00000435550 (node types BTO:0000000, BTO:0000042, BTO:0000080, BTO:0000081, BTO:0000082 and other 23) and 9606.ENSP00000441497 (node types CL:26899, CL:27055, CL:27057, DOID:0050686, DOID:0050687 and other 71).</p></li>\n",
       "<li><p class=\"paragraph\">Node tuple containing the nodes 9606.ENSP00000430100 (node types BTO:0000000, BTO:0000042, BTO:0000203, BTO:0001388, BTO:0001489 and other 126) and 9606.ENSP00000454770 (node types CL:37293, CL:37294, CL:37295, CL:37296, CL:37297 and other 13).</p></li>\n",
       "<li><p class=\"paragraph\">Node tuple containing the nodes 9606.ENSP00000429808 (node types CL:35528, CL:35529, CL:35623, CL:35624, CL:35625 and other 47) and 9606.ENSP00000433378 (node types CL:35528, CL:35529, CL:35623, CL:35624, CL:35625 and other 49).</p></li>\n",
       "<li><p class=\"paragraph\">Node tuple containing the nodes 9606.ENSP00000419502 (node types BTO:0000000, BTO:0000042, BTO:0000058, BTO:0000081, BTO:0000083 and other 27) and 9606.ENSP00000483005 (node types BTO:0000000, BTO:0000042, CL:28511, CL:28512, CL:28513 and other 143).</p></li>\n",
       "<li><p class=\"paragraph\">Node tuple containing the nodes 9606.ENSP00000406723 (node types BTO:0000000, BTO:0000042, CL:34804, CL:34805, CL:34806 and other 54) and 9606.ENSP00000480524 (node types CL:34804, CL:34805, CL:34806, CL:34807, CL:34808 and other 48).</p></li>\n",
       "<li><p class=\"paragraph\">Node tuple containing the nodes 9606.ENSP00000399664 (node types CL:25282, CL:25358, CL:25376, GO:0003676, GO:0003677 and other 90) and 9606.ENSP00000472698 (node types CL:25282, CL:25358, CL:25376, IPR002706, IPR008979 and another one).</p></li>\n",
       "<li><p class=\"paragraph\">Node tuple containing the nodes 9606.ENSP00000391594 (node types CL:29285, CL:29383, CL:29384, CL:29398, GO:0019012 and other 9) and 9606.ENSP00000460602 (node types CL:29285, CL:29383, CL:29384, CL:29398, DOID:0060262 and other 18).</p></li>\n",
       "<li><p class=\"paragraph\">Node tuple containing the nodes 9606.ENSP00000388864 (node types BTO:0000000, BTO:0000042, BTO:0000088, BTO:0000290, BTO:0000393 and other 76) and 9606.ENSP00000396732 (node types CL:32704, CL:32705, CL:32706, CL:32766, CL:32767 and other 132).</p></li>\n",
       "<li><p class=\"paragraph\">Node tuple containing the nodes 9606.ENSP00000384214 (node types CL:30792, CL:30793, CL:30794, CL:30795, CL:30796 and another one) and 9606.ENSP00000397103 (node types CL:30792, CL:30793, CL:30794, CL:30795, CL:30796 and other 2).</p></li></ul><p class=\"paragraph\">And other 62 node tuples.</p><h4 style=\"margin: 1em 0 0 0;\">Isomorphic node groups</h4><p class=\"paragraph\">Isomorphic groups are nodes with exactly the same neighbours and node types (if present in the graph). Nodes in such groups are topologically indistinguishable, that is swapping their ID would not change the graph topology. We have detected 21 isomorphic node groups in the graph, involving a total of 46 nodes (0.24%) and 558 edges (0.11%), with the largest one involving 5 nodes and 95 edges. The detected isomorphic node groups, sorted by decreasing size, are:</p><ol class=\"medium-columns\"><li><p class=\"paragraph\">Group with 5 nodes (degree 19 and node types BTO:0000000, BTO:0000042, BTO:0000142, BTO:0000227, BTO:0000282 and other 89): 9606.ENSP00000380488, 9606.ENSP00000423313, 9606.ENSP00000227756, 9606.ENSP00000344260 and 9606.ENSP00000297107.</p></li>\n",
       "<li><p class=\"paragraph\">Group with 2 nodes (degree 29 and node types CL:10686, CL:10687, CL:10688, CL:10689, CL:10690 and other 148): 9606.ENSP00000391692 and 9606.ENSP00000391869.</p></li>\n",
       "<li><p class=\"paragraph\">Group with 2 nodes (degree 21 and node types CL:27348, CL:27350, CL:27351, CL:27352, CL:27353 and other 101): 9606.ENSP00000436604 and 9606.ENSP00000444171.</p></li>\n",
       "<li><p class=\"paragraph\">Group with 2 nodes (degree 18 and node types BTO:0000000, BTO:0000042, CL:28511, CL:28512, CL:28513 and other 100): 9606.ENSP00000384876 and 9606.ENSP00000373278.</p></li>\n",
       "<li><p class=\"paragraph\">Group with 2 nodes (degree 18 and node types CL:31041, CL:31042, CL:31192, CL:31222, CL:31224 and other 62): 9606.ENSP00000347119 and 9606.ENSP00000354723.</p></li>\n",
       "<li><p class=\"paragraph\">Group with 3 nodes (degree 11 and node types CL:17996, CL:17997, GO:0001775, GO:0001932, GO:0001934 and other 152): 9606.ENSP00000369564, 9606.ENSP00000369566 and 9606.ENSP00000239347.</p></li>\n",
       "<li><p class=\"paragraph\">Group with 2 nodes (degree 15 and node types CL:27654, CL:27656, CL:27657, CL:27658, CL:27660 and other 67): 9606.ENSP00000416741 and 9606.ENSP00000264363.</p></li>\n",
       "<li><p class=\"paragraph\">Group with 2 nodes (degree 15 and node types BTO:0000000, BTO:0000042, CL:31315, CL:31513, CL:31630 and other 79): 9606.ENSP00000400157 and 9606.ENSP00000312700.</p></li>\n",
       "<li><p class=\"paragraph\">Group with 2 nodes (degree 15 and node types BTO:0000000, BTO:0000042, BTO:0000345, BTO:0000522, BTO:0000759 and other 105): 9606.ENSP00000261196 and 9606.ENSP00000441269.</p></li>\n",
       "<li><p class=\"paragraph\">Group with 2 nodes (degree 12 and node types CL:36974, CL:36975, CL:36976, CL:36977, CL:36979 and other 29): 9606.ENSP00000334681 and 9606.ENSP00000347810.</p></li>\n",
       "<li><p class=\"paragraph\">Group with 2 nodes (degree 10 and node types BTO:0000000, BTO:0000042, BTO:0000081, BTO:0000082, BTO:0000408 and other 34): 9606.ENSP00000335281 and 9606.ENSP00000334330.</p></li>\n",
       "<li><p class=\"paragraph\">Group with 2 nodes (degree 10 and node types BTO:0000000, BTO:0000042, BTO:0000081, BTO:0000082, BTO:0000408 and other 85): 9606.ENSP00000335307 and 9606.ENSP00000334364.</p></li>\n",
       "<li><p class=\"paragraph\">Group with 2 nodes (degree 9 and node type CL:4123): 9606.ENSP00000449334 and 9606.ENSP00000449223.</p></li>\n",
       "<li><p class=\"paragraph\">Group with 2 nodes (degree 7 and node types BTO:0000000, BTO:0000042, BTO:0000404, BTO:0000416, BTO:0000435 and other 102): 9606.ENSP00000259205 and 9606.ENSP00000259211.</p></li>\n",
       "<li><p class=\"paragraph\">Group with 2 nodes (degree 6 and node types BTO:0000000, BTO:0000042, CL:8459, CL:8460, CL:8461 and other 42): 9606.ENSP00000376955 and 9606.ENSP00000275884.</p></li></ol><p class=\"paragraph\">And other 6 isomorphic node groups.</p><h4 style=\"margin: 1em 0 0 0;\">Trees</h4><p class=\"paragraph\">A tree is a connected component with <code>n</code> nodes and <code>n-1</code> edges. We have detected 2 trees in the graph, involving a total of 14 nodes (0.07%) and 12 edges, with the largest one involving 9 nodes and 8 edges. The detected trees, sorted by decreasing size, are:</p><ol class=\"large-columns\"><li><p class=\"paragraph\">Tree starting from the root node 9606.ENSP00000385592 (degree 2 and node types CL:35089, CL:35243, CL:35244, CL:35245, GO:0016020 and other 11), and containing 9 nodes, with a maximal depth of 3, which are 9606.ENSP00000303028 (node types BTO:0000000, BTO:0000042, BTO:0000058, BTO:0000511, BTO:0000619 and other 68), 9606.ENSP00000384887 (degree 3 and node types BTO:0000000, BTO:0000042, CL:33472, CL:33598, CL:33670 and other 18), 9606.ENSP00000362386 (degree 3 and node types CL:35089, CL:35243, CL:35244, CL:35245, CL:35247 and other 14), 9606.ENSP00000379738 (node types CL:33472, CL:33598, CL:33670, CL:33671, CL:33673 and other 12) and 9606.ENSP00000481937 (node types CL:33472, CL:33598, CL:33670, CL:33671, CL:33673 and other 61). Its nodes have 208 node types, of which the 10 most common are KW-0621 (6 nodes, 0.03%), GO:0110165 (6 nodes, 0.03%), KW-0325 (5 nodes, 0.03%), KW-0812 (5 nodes, 0.03%), KW-0472 (5 nodes, 0.03%), GO:0016021 (5 nodes, 0.03%), GO:0031224 (5 nodes, 0.03%), GO:0016020 (5 nodes, 0.03%), KW-1133 (5 nodes, 0.03%) and KW-0732 (5 nodes, 0.03%).</p></li>\n",
       "<li><p class=\"paragraph\">Tree starting from the root node 9606.ENSP00000355045 (degree 2 and node types BTO:0000000, BTO:0000042, CL:26288, CL:26289, CL:26290 and other 98), and containing 5 nodes, with a maximal depth of 2, which are 9606.ENSP00000379434 (node types CL:26288, CL:26289, CL:26290, CL:26291, CL:26292 and other 21), 9606.ENSP00000381857 (node types CL:32704, CL:32854, CL:32855, CL:32856, CL:32857 and other 5), 9606.ENSP00000352314 (node types CL:32253, CL:32255, CL:32287, GO:0005622, GO:0005737 and other 58) and 9606.ENSP00000473941 (node types CL:32704, CL:32854, CL:32855, CL:32856, CL:32857 and other 19). Its nodes have 94 node types, of which the 10 most common are KW-0025 (3 nodes, 0.02%), KW-0621 (3 nodes, 0.02%), KW-0677 (3 nodes, 0.02%), CL:32855 (2 nodes, 0.01%), CL:32856 (2 nodes, 0.01%), SM00225 (2 nodes, 0.01%), CL:32704 (2 nodes, 0.01%), IPR006652 (2 nodes, 0.01%), IPR000210 (2 nodes, 0.01%) and PF00651 (2 nodes, 0.01%).</p></li></ol><h4 style=\"margin: 1em 0 0 0;\">Dendritic trees</h4><p class=\"paragraph\">A dendritic tree is a tree-like structure starting from a root node that is part of another strongly connected component. We have detected 14 dendritic trees in the graph, involving a total of 61 nodes (0.31%) and 61 edges (0.01%), with the largest one involving 6 nodes and 6 edges. The detected dendritic trees, sorted by decreasing size, are:</p><ol class=\"large-columns\"><li><p class=\"paragraph\">Dendritic tree starting from the root node 9606.ENSP00000254627 (degree 5 and node types CL:30017, CL:30145, CL:30201, CL:30203, DOID:0050155 and other 92), and containing 6 nodes, with a maximal depth of 3, which are 9606.ENSP00000407107 (degree 5 and node types BTO:0000223, BTO:0000279, CL:30017, CL:30145, CL:30201 and other 5), 9606.ENSP00000266022 (node types BTO:0000000, BTO:0000042, BTO:0000081, BTO:0000083, BTO:0000142 and other 84), 9606.ENSP00000299308 (node types BTO:0000000, BTO:0000042, CL:32704, CL:32705, CL:32706 and other 21), 9606.ENSP00000336693 (node types BTO:0000669, BTO:0001437, BTO:0005287, CL:33130, CL:33131 and other 70) and 9606.ENSP00000391404 (node types CL:29285, CL:29383, CL:29384 and CL:29398). Its nodes have 259 node types, of which the 10 most common are GO:0110165 (5 nodes, 0.03%), KW-0025 (4 nodes, 0.02%), GO:0043226 (3 nodes, 0.02%), KW-0621 (3 nodes, 0.02%), GO:0009987 (3 nodes, 0.02%), CL:32732 (2 nodes, 0.01%), GO:0044238 (2 nodes, 0.01%), GO:0008152 (2 nodes, 0.01%), CL:30201 (2 nodes, 0.01%) and CL:30145 (2 nodes, 0.01%).</p></li>\n",
       "<li><p class=\"paragraph\">Dendritic tree starting from the root node 9606.ENSP00000366542 (degree 5 and node types CL:30792, CL:30793, CL:30794, CL:30795, CL:30796 and other 83), and containing 6 nodes, with a maximal depth of 3, which are 9606.ENSP00000276127 (degree 3 and node types CL:35528, CL:35529, CL:35530, CL:35531, CL:35532 and other 4), 9606.ENSP00000281722 (node types CL:30792, CL:30793, CL:30794, CL:30795, CL:30796 and other 80), 9606.ENSP00000357889 (node types CL:35528, CL:35529, CL:35530, CL:35531, CL:35532 and other 7), 9606.ENSP00000362206 (node types BTO:0000000, BTO:0000042, BTO:0000142, BTO:0000227, BTO:0000282 and other 65) and 9606.ENSP00000306776 (node types BTO:0000000, BTO:0000042, BTO:0000080, BTO:0000081, BTO:0000082 and other 30). Its nodes have 175 node types, of which the 10 most common are CL:35558 (4 nodes, 0.02%), CL:35528 (4 nodes, 0.02%), CL:35532 (4 nodes, 0.02%), CL:35530 (4 nodes, 0.02%), CL:35529 (4 nodes, 0.02%), GO:0110165 (4 nodes, 0.02%), CL:35531 (4 nodes, 0.02%), GO:0005488 (3 nodes, 0.02%), GO:0043229 (3 nodes, 0.02%) and KW-0677 (3 nodes, 0.02%).</p></li>\n",
       "<li><p class=\"paragraph\">Dendritic tree starting from the root node 9606.ENSP00000310686 (degree 14 and node types BTO:0000000, BTO:0000042, CL:6626, CL:6627, CL:6629 and other 186), and containing 5 nodes, with a maximal depth of 3, which are 9606.ENSP00000482345 (node types CL:37858, CL:37859, CL:37860, CL:37861, CL:37903 and other 83), 9606.ENSP00000300896 (degree 4 and node types BTO:0000000, BTO:0000042, BTO:0000080, BTO:0000081, BTO:0000082 and other 114), 9606.ENSP00000478426 (node types CL:37858, CL:37859, CL:37860, CL:37861, CL:37903 and other 91), 9606.ENSP00000478683 (node types CL:37858, CL:37859, CL:37860, CL:37861, CL:37903 and other 98) and 9606.ENSP00000483965 (node types CL:37293, CL:37425, CL:37426, CL:37427, GO:0005096 and other 54). Its nodes have 200 node types, of which the 10 most common are GO:0016020 (5 nodes, 0.03%), GO:0110165 (5 nodes, 0.03%), GO:0009987 (5 nodes, 0.03%), GO:0005488 (5 nodes, 0.03%), CL:37858 (4 nodes, 0.02%), GO:0043547 (4 nodes, 0.02%), GO:0043227 (4 nodes, 0.02%), GO:0065007 (4 nodes, 0.02%), GO:0043229 (4 nodes, 0.02%) and GO:0015833 (4 nodes, 0.02%).</p></li>\n",
       "<li><p class=\"paragraph\">Dendritic tree starting from the root node 9606.ENSP00000311336 (degree 5 and node types BTO:0000000, BTO:0000042, BTO:0000080, BTO:0000081, BTO:0000082 and other 154), and containing 5 nodes, with a maximal depth of 3, which are 9606.ENSP00000232892 (degree 3 and node types BTO:0000000, BTO:0000042, BTO:0000058, BTO:0000345, BTO:0000511 and other 114), 9606.ENSP00000353557 (node types BTO:0000000, BTO:0000042, CL:14835, CL:14837, CL:14838 and other 24), 9606.ENSP00000355156 (node types BTO:0000000, BTO:0000042, BTO:0000089, BTO:0000431, BTO:0000522 and other 147), 9606.ENSP00000362814 (node types BTO:0000000, BTO:0000042, BTO:0000081, BTO:0000083, BTO:0000431 and other 61) and 9606.ENSP00000348911 (node types BTO:0000000, BTO:0000042, BTO:0000081, BTO:0000083, BTO:0001489 and other 32). Its nodes have 295 node types, of which the 10 most common are GO:0016021 (5 nodes, 0.03%), GO:0031224 (5 nodes, 0.03%), BTO:0000042 (5 nodes, 0.03%), BTO:0000000 (5 nodes, 0.03%), GO:0016020 (5 nodes, 0.03%), GO:0110165 (5 nodes, 0.03%), KW-0812 (4 nodes, 0.02%), BTO:0001489 (4 nodes, 0.02%), GO:0009987 (4 nodes, 0.02%) and KW-0472 (4 nodes, 0.02%).</p></li>\n",
       "<li><p class=\"paragraph\">Dendritic tree starting from the root node 9606.ENSP00000446916 (degree 4 and node types CL:20278, CL:20279, CL:20343, DOID:0050177, DOID:0050736 and other 51), and containing 5 nodes, with a maximal depth of 2, which are 9606.ENSP00000373583 (degree 5 and node types CL:20278, CL:20279, CL:20343, CL:20345, GO:0005622 and other 8), 9606.ENSP00000352299 (node types BTO:0000000, BTO:0000042, BTO:0000080, BTO:0000081, BTO:0000082 and other 39), 9606.ENSP00000357811 (node types CL:20278, CL:20279, CL:20343, CL:20345, IPR029369 and other 2), 9606.ENSP00000386118 (node types CL:20278, CL:20279, CL:20343, CL:20345, KW-0025 and another one) and 9606.ENSP00000387298 (node types CL:20278, CL:20279, CL:20343 and CL:20345). Its nodes have 54 node types, of which the 10 most common are CL:20278 (5 nodes, 0.03%), CL:20279 (5 nodes, 0.03%), CL:20343 (5 nodes, 0.03%), CL:20345 (5 nodes, 0.03%), KW-0025 (3 nodes, 0.02%), KW-0621 (3 nodes, 0.02%), GO:1901265, PF15115, GO:0110165 and GO:0030554.</p></li>\n",
       "<li><p class=\"paragraph\">Dendritic tree starting from the root node 9606.ENSP00000265322 (degree 43 and node types BTO:0000000, BTO:0000042, BTO:0000058, BTO:0000269, BTO:0000345 and other 157), and containing 4 nodes, with a maximal depth of 3, which are 9606.ENSP00000333183 (node types CL:37591, CL:37592, CL:37594, CL:37595, CL:37598 and other 85), 9606.ENSP00000467301 (degree 3 and node types CL:37591, CL:37592, CL:37594, CL:37595, CL:37598 and other 60), 9606.ENSP00000331435 (node types CL:37591, CL:37592, CL:37594, CL:37595, CL:37598 and other 82) and 9606.ENSP00000370801 (node types CL:37591, CL:37592, CL:37594, CL:37595, CL:37598 and other 84). Its nodes have 143 node types, of which the 10 most common are CL:37592 (4 nodes, 0.02%), CL:37595 (4 nodes, 0.02%), CL:37591 (4 nodes, 0.02%), CL:37598 (4 nodes, 0.02%), CL:37599 (4 nodes, 0.02%), GO:0065007 (4 nodes, 0.02%), GO:0110165 (4 nodes, 0.02%), CL:37594 (4 nodes, 0.02%), GO:0009987 (4 nodes, 0.02%) and GO:0050794 (4 nodes, 0.02%).</p></li></ol><p class=\"paragraph\">And other 8 dendritic trees.</p><h4 style=\"margin: 1em 0 0 0;\">Stars</h4><p class=\"paragraph\">A star is a tree with a maximal depth of one, where nodes with maximal unique degree one are connected to a central root node with a high degree. We have detected 11 stars in the graph, involving a total of 35 nodes (0.18%) and 24 edges, with the largest one involving 4 nodes and 3 edges. The detected stars, sorted by decreasing size, are:</p><ol class=\"large-columns\"><li><p class=\"paragraph\">Star starting from the root node 9606.ENSP00000334289 (degree 3 and node types CL:37591, CL:37592, CL:37748, CL:37749, CL:37750 and other 6), and containing 4 nodes, with a maximal depth of 1, which are 9606.ENSP00000324672 (node types BTO:0000000, BTO:0000042, BTO:0000420, BTO:0000522, BTO:0000828 and other 40), 9606.ENSP00000366223 (node types CL:33130, CL:33131, CL:33132, CL:33133, CL:33134 and other 12) and 9606.ENSP00000485629 (node types CL:37591, CL:37592, CL:37748, CL:37749, CL:37750 and other 2). Its nodes have 60 node types, of which the 10 most common are GO:0110165 (2 nodes, 0.01%), CL:37750 (2 nodes, 0.01%), CL:37591 (2 nodes, 0.01%), CL:37749 (2 nodes, 0.01%), KW-0025 (2 nodes, 0.01%), CL:37753 (2 nodes, 0.01%), CL:37748 (2 nodes, 0.01%), CL:37592 (2 nodes, 0.01%), GO:0016020 (2 nodes, 0.01%) and CL:37755.</p></li>\n",
       "<li><p class=\"paragraph\">Star starting from the root node 9606.ENSP00000345333 (degree 3 and node types BTO:0000000, BTO:0000042, CL:34541, CL:34542, CL:34543 and other 45), and containing 4 nodes, with a maximal depth of 1, which are 9606.ENSP00000328245 (node types BTO:0000000, BTO:0000042, BTO:0000081, BTO:0000083, BTO:0000088 and other 65), 9606.ENSP00000339314 (node types CL:34541, CL:34542, CL:34543, CL:34544, CL:34545 and other 56) and 9606.ENSP00000483077 (node types BTO:0000000, BTO:0000042, BTO:0000142, BTO:0000227, BTO:0000282 and other 93). Its nodes have 134 node types, of which the 10 most common are GO:0010468 (3 nodes, 0.02%), HSA-73857 (3 nodes, 0.02%), KW-0238 (3 nodes, 0.02%), GO:0110165 (3 nodes, 0.02%), GO:1901363 (3 nodes, 0.02%), GO:0003676 (3 nodes, 0.02%), IPR036236 (3 nodes, 0.02%), HSA-212436 (3 nodes, 0.02%), IPR013087 (3 nodes, 0.02%) and GO:0060255 (3 nodes, 0.02%).</p></li>\n",
       "<li><p class=\"paragraph\">Star starting from the root node 9606.ENSP00000281523 (degree 2 and node types BTO:0000000, BTO:0000042, BTO:0000059, BTO:0000416, BTO:0000431 and other 39), and containing 3 nodes, with a maximal depth of 1, which are 9606.ENSP00000297063 (node types CL:28068, CL:28120, CL:28121, CL:28123, IPR012548 and other 2) and 9606.ENSP00000418575 (node types BTO:0000000, BTO:0000042, BTO:0000142, BTO:0000227, BTO:0000282 and other 71). Its nodes have 83 node types, of which the 10 most common are CL:22869, GO:0007154, GO:0048018, CL:22938, GO:0060284, GO:0009987, CL:28120, GO:0043227, GO:0050793 and BTO:0000227.</p></li>\n",
       "<li><p class=\"paragraph\">Star starting from the root node 9606.ENSP00000295012 (degree 2), and containing 3 nodes, with a maximal depth of 1, which are 9606.ENSP00000469705 and 9606.ENSP00000484537. Its nodes have 8 node types, which are PF15788 (2 nodes, 0.01%), CL:37748 (2 nodes, 0.01%), CL:37750 (2 nodes, 0.01%), CL:37749 (2 nodes, 0.01%), CL:37591 (2 nodes, 0.01%), CL:37753 (2 nodes, 0.01%), CL:37755 (2 nodes, 0.01%) and CL:37592 (2 nodes, 0.01%).</p></li>\n",
       "<li><p class=\"paragraph\">Star starting from the root node 9606.ENSP00000319590 (degree 2 and node types CL:35745, CL:35746, CL:35748, CL:35750, CL:35751 and other 6), and containing 3 nodes, with a maximal depth of 1, which are 9606.ENSP00000230301 (node types CL:35745, CL:35746, CL:35748, CL:35750, CL:35751 and other 5) and 9606.ENSP00000354590 (node types BTO:0000000, BTO:0000042, BTO:0001576, CL:35745, CL:35746 and other 31). Its nodes have 39 node types, of which the 10 most common are CL:35750 (2 nodes, 0.01%), CL:35753 (2 nodes, 0.01%), KW-0621 (2 nodes, 0.01%), CL:35745 (2 nodes, 0.01%), CL:35748 (2 nodes, 0.01%), CL:35746 (2 nodes, 0.01%), CL:35751 (2 nodes, 0.01%), GO:0015031, GO:0071705 and IPR011691.</p></li>\n",
       "<li><p class=\"paragraph\">Star starting from the root node 9606.ENSP00000344129 (degree 2 and node types CL:37293, CL:37425, CL:37489, CL:37491, CL:37492 and other 53), and containing 3 nodes, with a maximal depth of 1, which are 9606.ENSP00000380071 (node types BTO:0000000, BTO:0000042, CL:37293, CL:37425, CL:37489 and other 26) and 9606.ENSP00000469417 (node types CL:37293, CL:37425, CL:37489, CL:37491, CL:37492 and other 46). Its nodes have 70 node types, of which the 10 most common are CL:37425 (2 nodes, 0.01%), CL:37493 (2 nodes, 0.01%), CL:37489 (2 nodes, 0.01%), GO:0043227 (2 nodes, 0.01%), GO:0110165 (2 nodes, 0.01%), CL:37293 (2 nodes, 0.01%), GO:0043229 (2 nodes, 0.01%), GO:0005622 (2 nodes, 0.01%), CL:37491 (2 nodes, 0.01%) and KW-0025 (2 nodes, 0.01%).</p></li></ol><p class=\"paragraph\">And other 5 stars.</p><h4 style=\"margin: 1em 0 0 0;\">Dendritic stars</h4><p class=\"paragraph\">A dendritic star is a dendritic tree with a maximal depth of one, where nodes with maximal unique degree one are connected to a central root node with high degree and inside a strongly connected component. We have detected 90 dendritic stars in the graph, involving a total of 220 nodes (1.12%) and 220 edges (0.04%), with the largest one involving 19 nodes and 19 edges. The detected dendritic stars, sorted by decreasing size, are:</p><ol class=\"large-columns\"><li><p class=\"paragraph\">Dendritic star starting from the root node 9606.ENSP00000334051 (degree 82 and node types BTO:0000000, BTO:0000042, BTO:0000142, BTO:0000176, BTO:0000202 and other 190), and containing 19 nodes, with a maximal depth of 1, which are 9606.ENSP00000284287 (node types CL:32704, CL:32705, CL:32706, CL:32707, CL:32708 and other 62), 9606.ENSP00000307726 (node types CL:32450, CL:32490, CL:32491, CL:32492, GO:0003008 and other 64), 9606.ENSP00000311605 (node types CL:28902, CL:28903, CL:28931, CL:28933, GO:0003008 and other 58), 9606.ENSP00000318997 (node types CL:35745, CL:35746, GO:0003008, GO:0004888, GO:0004930 and other 97) and 9606.ENSP00000319071 (node types CL:15603, CL:15604, CL:15605, CL:15624, GO:0003008 and other 59). Its nodes have 175 node types, of which the 10 most common are GO:0032501 (19 nodes, 0.10%), KW-1003 (19 nodes, 0.10%), GO:0003008 (19 nodes, 0.10%), IPR000276 (19 nodes, 0.10%), PF13853 (19 nodes, 0.10%), GO:0007606 (19 nodes, 0.10%), KW-1133 (19 nodes, 0.10%), IPR000725 (19 nodes, 0.10%), GO:0009987 (19 nodes, 0.10%) and GO:0023052 (19 nodes, 0.10%).</p></li>\n",
       "<li><p class=\"paragraph\">Dendritic star starting from the root node 9606.ENSP00000432561 (degree 14 and node types BTO:0000000, BTO:0000042, BTO:0000202, BTO:0000282, BTO:0000368 and other 74), and containing 7 nodes, with a maximal depth of 1, which are 9606.ENSP00000254166 (node types BTO:0000176, BTO:0000415, BTO:0000584, BTO:0000604, BTO:0000632 and other 70), 9606.ENSP00000303533 (node types BTO:0000000, BTO:0000042, BTO:0000176, BTO:0000415, BTO:0000584 and other 80), 9606.ENSP00000344162 (node types BTO:0000000, BTO:0000042, BTO:0000176, BTO:0000415, BTO:0000584 and other 84), 9606.ENSP00000379464 (node types BTO:0000000, BTO:0000042, BTO:0000176, BTO:0000415, BTO:0000584 and other 69) and 9606.ENSP00000385163 (node types BTO:0000176, BTO:0000415, BTO:0000584, BTO:0000604, BTO:0000632 and other 62). Its nodes have 167 node types, of which the 10 most common are GO:0043226 (7 nodes, 0.04%), KW-0539 (7 nodes, 0.04%), GO:0043231 (7 nodes, 0.04%), KW-0677 (7 nodes, 0.04%), GO:2000112 (7 nodes, 0.04%), BTO:0000176 (7 nodes, 0.04%), KW-0863 (7 nodes, 0.04%), SM00355 (7 nodes, 0.04%), GO:1903506 (7 nodes, 0.04%) and GO:0005622 (7 nodes, 0.04%).</p></li>\n",
       "<li><p class=\"paragraph\">Dendritic star starting from the root node 9606.ENSP00000319673 (degree 16 and node types BTO:0000000, BTO:0000024, BTO:0000042, BTO:0000058, BTO:0000081 and other 176), and containing 6 nodes, with a maximal depth of 1, which are 9606.ENSP00000360360 (node types CL:28165, CL:28166, CL:28167, CL:28271, IPR028930 and other 3), 9606.ENSP00000392283 (node types CL:30792, CL:30793, CL:30794, CL:30936 and PF15623), 9606.ENSP00000393315 (node types CL:30792, CL:30793, CL:30794, CL:30936 and PF15623), 9606.ENSP00000399711 (node types CL:30792, CL:30793, CL:30794, CL:30936, CL:30938 and another one) and 9606.ENSP00000410400 (node types CL:30792, CL:30793, CL:30794, CL:30936, CL:30938 and another one). Its nodes have 13 node types, of which the 10 most common are PF15623 (6 nodes, 0.03%), CL:30792 (5 nodes, 0.03%), CL:30794 (5 nodes, 0.03%), CL:30936 (5 nodes, 0.03%), CL:30793 (5 nodes, 0.03%), CL:30938 (3 nodes, 0.02%), CL:28271, CL:28167, IPR028930 and KW-0175.</p></li>\n",
       "<li><p class=\"paragraph\">Dendritic star starting from the root node 9606.ENSP00000376345 (degree 380 and node types BTO:0000000, BTO:0000042, BTO:0000058, BTO:0000081, BTO:0000083 and other 685), and containing 4 nodes, with a maximal depth of 1, which are 9606.ENSP00000320038 (node types BTO:0000000, BTO:0000042, BTO:0000142, BTO:0000227, BTO:0000231 and other 142), 9606.ENSP00000356093 (node types BTO:0000000, BTO:0000042, CL:34541, CL:34542, CL:34543 and other 89), 9606.ENSP00000384593 (node types CL:26288, CL:26289, CL:26439, CL:26440, CL:26441 and other 7) and 9606.ENSP00000470441 (node types CL:28969, CL:29029, CL:29030, GO:0005488, GO:0016020 and other 20). Its nodes have 237 node types, of which the 10 most common are GO:0016020 (3 nodes, 0.02%), GO:0005488 (3 nodes, 0.02%), GO:0110165 (3 nodes, 0.02%), GOCC:0110165 (2 nodes, 0.01%), GO:0050789 (2 nodes, 0.01%), GO:0005886 (2 nodes, 0.01%), GO:0042221 (2 nodes, 0.01%), GO:0032502 (2 nodes, 0.01%), GO:0065008 (2 nodes, 0.01%) and GO:0071944 (2 nodes, 0.01%).</p></li>\n",
       "<li><p class=\"paragraph\">Dendritic star starting from the root node 9606.ENSP00000267017 (degree 20 and node types BTO:0000000, BTO:0000042, CL:24334, CL:24335, CL:24336 and other 211), and containing 4 nodes, with a maximal depth of 1, which are 9606.ENSP00000309782 (node types BTO:0000000, BTO:0000042, BTO:0000081, BTO:0000083, BTO:0000142 and other 68), 9606.ENSP00000314042 (node types CL:35745, CL:35855, CL:35856, CL:35858, CL:35859 and other 37), 9606.ENSP00000330612 (node types CL:25546, CL:25547, CL:25548, CL:25549, CL:25550 and other 36) and 9606.ENSP00000366331 (node types CL:32521, CL:32522, CL:32523, CL:32591, CL:32621 and other 67). Its nodes have 115 node types, of which the 10 most common are GOCC:0110165 (4 nodes, 0.02%), IPR000276 (4 nodes, 0.02%), GO:0060089 (4 nodes, 0.02%), GO:0005886 (4 nodes, 0.02%), GO:0110165 (4 nodes, 0.02%), GO:0007154 (4 nodes, 0.02%), GO:0031224 (4 nodes, 0.02%), GO:0050896 (4 nodes, 0.02%), GO:0004888 (4 nodes, 0.02%) and GO:0038023 (4 nodes, 0.02%).</p></li>\n",
       "<li><p class=\"paragraph\">Dendritic star starting from the root node 9606.ENSP00000246801 (degree 7 and node types CL:31801, CL:31802, CL:31803, CL:31939, CL:31941 and other 57), and containing 3 nodes, with a maximal depth of 1, which are 9606.ENSP00000362634 (node types BTO:0000000, BTO:0000042, BTO:0000080, BTO:0000081, BTO:0000082 and other 112), 9606.ENSP00000375081 (node types BTO:0000000, BTO:0000042, BTO:0000080, BTO:0000081, BTO:0000082 and other 151) and 9606.ENSP00000382544 (node types BTO:0000000, BTO:0000042, BTO:0000058, BTO:0000080, BTO:0000081 and other 147). Its nodes have 177 node types, of which the 10 most common are GO:0000003 (3 nodes, 0.02%), BTO:0000083 (3 nodes, 0.02%), BTO:0001489 (3 nodes, 0.02%), GO:0007275 (3 nodes, 0.02%), GO:0051716 (3 nodes, 0.02%), GO:0005737 (3 nodes, 0.02%), GO:0009987 (3 nodes, 0.02%), GO:0003824 (3 nodes, 0.02%), GO:0006793 (3 nodes, 0.02%) and GO:0007165 (3 nodes, 0.02%).</p></li></ol><p class=\"paragraph\">And other 84 dendritic stars.</p><h4 style=\"margin: 1em 0 0 0;\">Dendritic tendril stars</h4><p class=\"paragraph\">A dendritic tendril star is a dendritic tree with a depth greater than one, where the arms of the star are tendrils. We have detected 13 dendritic tendril stars in the graph, involving a total of 48 nodes (0.25%) and 48 edges, with the largest one involving 9 nodes and 9 edges. The detected dendritic tendril stars, sorted by decreasing size, are:</p><ol class=\"large-columns\"><li><p class=\"paragraph\">Dendritic tendril star starting from the root node 9606.ENSP00000371594 (degree 68 and node types BTO:0000000, BTO:0000042, BTO:0000142, BTO:0000227, BTO:0000231 and other 177), and containing 9 nodes, with a maximal depth of 2, which are 9606.ENSP00000302199 (node types CL:36843, CL:36921, CL:36922, CL:36924, CL:36926 and other 62), 9606.ENSP00000312403 (node types CL:38353, CL:38354, CL:38548, CL:38576, GO:0003008 and other 59), 9606.ENSP00000323853 (node types CL:29729, CL:29730, CL:29840, GO:0003008, GO:0004888 and other 59), 9606.ENSP00000329982 (node types CL:36843, CL:36921, CL:36922, CL:36924, CL:36926 and other 58) and 9606.ENSP00000330904 (node types CL:7850, CL:7904, DOID:0050117, DOID:4, DOID:934 and other 60). Its nodes have 84 node types, of which the 10 most common are GO:0038023 (9 nodes, 0.05%), GO:0009593 (9 nodes, 0.05%), GO:0050896 (9 nodes, 0.05%), GO:0110165 (9 nodes, 0.05%), GO:0050907 (9 nodes, 0.05%), GOCC:0110165 (9 nodes, 0.05%), GO:0016020 (9 nodes, 0.05%), GOCC:0071944 (9 nodes, 0.05%), GO:0005886 (9 nodes, 0.05%) and GO:0071944 (9 nodes, 0.05%).</p></li>\n",
       "<li><p class=\"paragraph\">Dendritic tendril star starting from the root node 9606.ENSP00000310275 (degree 58 and node types BTO:0000000, BTO:0000042, BTO:0000081, BTO:0000083, BTO:0000142 and other 161), and containing 5 nodes, with a maximal depth of 4, which are 9606.ENSP00000356121 (node types BTO:0000000, BTO:0000042, BTO:0000080, BTO:0000081, BTO:0000082 and other 27), 9606.ENSP00000360320 (node types CL:32190, CL:32191, CL:32213, IPR033557, KW-0025 and another one), 9606.ENSP00000351727 (node types CL:32190, CL:32191, CL:32213, DOID:0050155, DOID:0060388 and other 12), 9606.ENSP00000355840 (node types CL:32190, CL:32191, CL:32213, DOID:0050177, DOID:0050736 and other 16) and 9606.ENSP00000340887 (node types CL:32190, CL:32191, CL:32213 and PF15730). Its nodes have 62 node types, of which the 10 most common are CL:32213 (4 nodes, 0.02%), CL:32191 (4 nodes, 0.02%), CL:32190 (4 nodes, 0.02%), KW-0621 (4 nodes, 0.02%), KW-0025 (2 nodes, 0.01%), DOID:7 (2 nodes, 0.01%), KW-0175 (2 nodes, 0.01%), DOID:863 (2 nodes, 0.01%), DOID:4 (2 nodes, 0.01%) and DOID:630 (2 nodes, 0.01%).</p></li>\n",
       "<li><p class=\"paragraph\">Dendritic tendril star starting from the root node 9606.ENSP00000363382 (degree 4 and node types BTO:0000000, BTO:0000042, CL:34075, CL:34076, CL:34077 and other 38), and containing 4 nodes, with a maximal depth of 3, which are 9606.ENSP00000332663 (node types CL:37293, CL:37294, CL:37295, CL:37296, CL:37334 and other 6), 9606.ENSP00000363894 (node types BTO:0000000, BTO:0000042, CL:34075, CL:34076, CL:34077 and other 16), 9606.ENSP00000448580 (node types BTO:0000000, BTO:0000042, CL:34075, CL:34076, CL:34077 and other 102) and 9606.ENSP00000363899 (node types BTO:0000000, BTO:0000042, BTO:0000142, BTO:0000227, BTO:0000282 and other 31). Its nodes have 137 node types, of which the 10 most common are CL:34170 (3 nodes, 0.02%), KW-0621 (3 nodes, 0.02%), CL:34239 (3 nodes, 0.02%), GO:0043227 (3 nodes, 0.02%), GO:0005622 (3 nodes, 0.02%), GO:0043226 (3 nodes, 0.02%), BTO:0000042 (3 nodes, 0.02%), GO:0043229 (3 nodes, 0.02%), CL:34076 (3 nodes, 0.02%) and BTO:0000000 (3 nodes, 0.02%).</p></li>\n",
       "<li><p class=\"paragraph\">Dendritic tendril star starting from the root node 9606.ENSP00000216862 (degree 24 and node types CL:20082, DOID:0014667, DOID:0050032, DOID:0060158, DOID:10575 and other 181), and containing 3 nodes, with a maximal depth of 2, which are 9606.ENSP00000309649 (node types BTO:0000000, BTO:0000042, BTO:0000081, BTO:0000083, BTO:0000174 and other 74), 9606.ENSP00000318912 (node types BTO:0000000, BTO:0000042, BTO:0000282, BTO:0001090, BTO:0001489 and other 46) and 9606.ENSP00000242315 (node types BTO:0000000, BTO:0000042, BTO:0000142, BTO:0000227, BTO:0000231 and other 63). Its nodes have 141 node types, of which the 10 most common are KW-0862 (3 nodes, 0.02%), GO:0009987 (3 nodes, 0.02%), BTO:0001489 (3 nodes, 0.02%), GO:0043167 (3 nodes, 0.02%), BTO:0000042 (3 nodes, 0.02%), KW-0479 (3 nodes, 0.02%), BTO:0000000 (3 nodes, 0.02%), GO:0046872 (3 nodes, 0.02%), GO:0043169 (3 nodes, 0.02%) and GO:0005488 (3 nodes, 0.02%).</p></li>\n",
       "<li><p class=\"paragraph\">Dendritic tendril star starting from the root node 9606.ENSP00000276590 (degree 10 and node types BTO:0000000, BTO:0000042, BTO:0000081, BTO:0000083, BTO:0000142 and other 86), and containing 3 nodes, with a maximal depth of 2, which are 9606.ENSP00000262288 (node types BTO:0000000, BTO:0000042, BTO:0000081, BTO:0000083, BTO:0000088 and other 100), 9606.ENSP00000271375 (node types CL:35929, CL:35931, GO:0005576, GO:0005615, GO:0006810 and other 48) and 9606.ENSP00000348033 (node types CL:35929, CL:35931, GO:0003008, GO:0004888, GO:0004930 and other 66). Its nodes have 195 node types, of which the 10 most common are GO:0031982 (3 nodes, 0.02%), GO:0005615 (3 nodes, 0.02%), GO:0009987 (3 nodes, 0.02%), GO:1903561 (3 nodes, 0.02%), GO:0070062 (3 nodes, 0.02%), GO:0043227 (3 nodes, 0.02%), GO:0043230 (3 nodes, 0.02%), GO:0110165 (3 nodes, 0.02%), GO:0043226 (3 nodes, 0.02%) and GO:0005576 (3 nodes, 0.02%).</p></li>\n",
       "<li><p class=\"paragraph\">Dendritic tendril star starting from the root node 9606.ENSP00000283946 (degree 10 and node types CL:6626, CL:6916, CL:6917, CL:6918, IPR001810 and other 7), and containing 3 nodes, with a maximal depth of 2, which are 9606.ENSP00000359819 (node types BTO:0000000, BTO:0000042, CL:9768, CL:9769, CL:9833 and other 88), 9606.ENSP00000377577 (node types BTO:0000000, BTO:0000042, CL:6626, CL:6916, CL:6917 and other 51) and 9606.ENSP00000229002 (node types BTO:0000000, BTO:0000042, CL:9768, CL:9769, CL:9833 and other 58). Its nodes have 191 node types, of which the 10 most common are BTO:0000042 (3 nodes, 0.02%), BTO:0000000 (3 nodes, 0.02%), KW-0621 (3 nodes, 0.02%), GO:0110165 (3 nodes, 0.02%), GO:0009987 (3 nodes, 0.02%), GO:0050789 (2 nodes, 0.01%), GO:0043229 (2 nodes, 0.01%), GO:0065007 (2 nodes, 0.01%), GO:0005622 (2 nodes, 0.01%) and CL:9769 (2 nodes, 0.01%).</p></li></ol><p class=\"paragraph\">And other 7 dendritic tendril stars.</p><h4 style=\"margin: 1em 0 0 0;\">Tendrils</h4><p class=\"paragraph\">A tendril is a path starting from a node of degree one, connected to a strongly connected component. We have detected 995 tendrils in the graph, involving a total of 1.08K nodes (5.52%) and 1.08K edges (0.21%), with the largest one involving 4 nodes and 4 edges. The detected tendrils, sorted by decreasing size, are:</p><ol class=\"large-columns\"><li><p class=\"paragraph\">Tendril starting from the root node 9606.ENSP00000374014 (degree 7 and node types CL:29064, CL:29065, CL:29066, CL:29067, CL:29129 and other 69), and containing 4 nodes, with a maximal depth of 4, which are 9606.ENSP00000291481 (node types CL:29064, CL:29065, CL:29066, CL:29067, CL:29129 and other 54), 9606.ENSP00000317000 (node types BTO:0000000, BTO:0000042, CL:29064, CL:29065, CL:29066 and other 47), 9606.ENSP00000394178 (node types BTO:0000000, BTO:0000042, BTO:0000088, BTO:0000562, BTO:0001489 and other 19) and 9606.ENSP00000296862 (node types CL:32521, CL:32522, CL:32523, CL:32591, GO:0004888 and other 33). Its nodes have 134 node types, of which the 10 most common are GO:0110165 (4 nodes, 0.02%), GO:0016021 (3 nodes, 0.02%), KW-0621 (3 nodes, 0.02%), GO:0031224 (3 nodes, 0.02%), CL:29066 (3 nodes, 0.02%), KW-0812 (3 nodes, 0.02%), CL:29065 (3 nodes, 0.02%), KW-0025 (3 nodes, 0.02%), KW-0472 (3 nodes, 0.02%) and GOCC:0110165 (3 nodes, 0.02%).</p></li>\n",
       "<li><p class=\"paragraph\">Tendril starting from the root node 9606.ENSP00000371512 (degree 13 and node types BTO:0000000, BTO:0000042, BTO:0000887, BTO:0001103, BTO:0001369 and other 89), and containing 3 nodes, with a maximal depth of 3, which are 9606.ENSP00000310182 (node types BTO:0000000, BTO:0000042, CL:33130, CL:33332, CL:33384 and other 19), 9606.ENSP00000344331 (node types CL:33130, CL:33332, CL:33384, CL:33404, DOID:0014667 and other 32) and 9606.ENSP00000386389 (node types CL:33130, CL:33332, CL:33384, CL:33404, IPR000210 and other 15). Its nodes have 63 node types, of which the 10 most common are CL:33384 (3 nodes, 0.02%), CL:33332 (3 nodes, 0.02%), CL:33404 (3 nodes, 0.02%), CL:33130 (3 nodes, 0.02%), KW-0472 (2 nodes, 0.01%), KW-0812 (2 nodes, 0.01%), GO:0016021 (2 nodes, 0.01%), GO:0016020 (2 nodes, 0.01%), GO:0043227 (2 nodes, 0.01%) and GO:0110165 (2 nodes, 0.01%).</p></li>\n",
       "<li><p class=\"paragraph\">Tendril starting from the root node 9606.ENSP00000264554 (degree 44 and node types BTO:0000000, BTO:0000042, CL:15701, CL:15702, CL:15840 and other 142), and containing 3 nodes, with a maximal depth of 3, which are 9606.ENSP00000344465 (node types BTO:0000000, BTO:0000042, BTO:0000089, BTO:0000131, BTO:0000132 and other 76), 9606.ENSP00000336661 (node types CL:37293, CL:37294, CL:37295, CL:37296, CL:37297 and other 9) and 9606.ENSP00000430271 (node types BTO:0000000, BTO:0000042, BTO:0000142, BTO:0000227, BTO:0000231 and other 85). Its nodes have 162 node types, of which the 10 most common are KW-0621 (3 nodes, 0.02%), CL:37297 (3 nodes, 0.02%), CL:37294 (3 nodes, 0.02%), CL:37295 (3 nodes, 0.02%), CL:37293 (3 nodes, 0.02%), CL:37298 (3 nodes, 0.02%), CL:37296 (3 nodes, 0.02%), GO:0050794 (2 nodes, 0.01%), GO:0050789 (2 nodes, 0.01%) and BTO:0000000 (2 nodes, 0.01%).</p></li>\n",
       "<li><p class=\"paragraph\">Tendril starting from the root node 9606.ENSP00000302578 (degree 4 and node types BTO:0000000, CL:32361, CL:32432, GO:0005622, GO:0005737 and other 9), and containing 3 nodes, with a maximal depth of 3, which are 9606.ENSP00000264735 (node types CL:32361, CL:32432, GO:0003824, GO:0004620, GO:0004623 and other 91), 9606.ENSP00000295092 (node types BTO:0000000, BTO:0000042, BTO:0000142, BTO:0000227, BTO:0000282 and other 27) and 9606.ENSP00000370724 (node types BTO:0000000, BTO:0000042, BTO:0000142, BTO:0000227, BTO:0000282 and other 44). Its nodes have 152 node types, of which the 10 most common are GO:0009987 (3 nodes, 0.02%), GO:0005622 (3 nodes, 0.02%), GO:0110165 (3 nodes, 0.02%), BTO:0001484 (2 nodes, 0.01%), PF04970 (2 nodes, 0.01%), CL:26738 (2 nodes, 0.01%), CL:26754 (2 nodes, 0.01%), GO:0016020 (2 nodes, 0.01%), BTO:0000282 (2 nodes, 0.01%) and GO:0005737 (2 nodes, 0.01%).</p></li>\n",
       "<li><p class=\"paragraph\">Tendril starting from the root node 9606.ENSP00000302843 (degree 6 and node types BTO:0000000, BTO:0000042, CL:3010, CL:3150, GO:0005488 and other 72), and containing 3 nodes, with a maximal depth of 3, which are 9606.ENSP00000414920 (node types CL:3010, CL:3150, GO:0000003, GO:0003006, GO:0003676 and other 49), 9606.ENSP00000206020 (node types BTO:0000000, BTO:0000042, BTO:0000081, BTO:0000083, BTO:0001489 and other 32) and 9606.ENSP00000317289 (node types BTO:0000000, BTO:0000042, BTO:0000081, BTO:0000082, BTO:0000083 and other 80). Its nodes have 142 node types, of which the 10 most common are GO:0110165 (3 nodes, 0.02%), GO:0043227 (3 nodes, 0.02%), GO:0043229 (3 nodes, 0.02%), GO:0005634 (3 nodes, 0.02%), GO:0005622 (3 nodes, 0.02%), GO:0043226 (3 nodes, 0.02%), GO:0043231 (3 nodes, 0.02%), KW-0539 (3 nodes, 0.02%), GO:0005488 (3 nodes, 0.02%) and GO:0097159 (2 nodes, 0.01%).</p></li>\n",
       "<li><p class=\"paragraph\">Tendril starting from the root node 9606.ENSP00000307636 (degree 6 and node types BTO:0000000, BTO:0000042, BTO:0000081, BTO:0000083, BTO:0000142 and other 68), and containing 3 nodes, with a maximal depth of 3, which are 9606.ENSP00000386563 (node types BTO:0000250, BTO:0000372, BTO:0001207, BTO:0001801, CL:31801 and other 43), 9606.ENSP00000367792 (node types CL:31801, CL:32073, CL:32074, CL:32127, GOCC:0005622 and other 28) and 9606.ENSP00000411253 (node types BTO:0000000, BTO:0000042, BTO:0000081, BTO:0000083, BTO:0001489 and other 75). Its nodes have 134 node types, of which the 10 most common are KW-0621 (3 nodes, 0.02%), GOCC:0110165 (2 nodes, 0.01%), CL:32073 (2 nodes, 0.01%), GO:0005737 (2 nodes, 0.01%), GO:0110165 (2 nodes, 0.01%), GOCC:0043229 (2 nodes, 0.01%), GO:0032502 (2 nodes, 0.01%), CL:31801 (2 nodes, 0.01%), GO:0043226 (2 nodes, 0.01%) and GO:0009987 (2 nodes, 0.01%).</p></li></ol><p class=\"paragraph\">And other 989 tendrils.</p></div>"
      ]
     },
     "execution_count": 5,
     "metadata": {},
     "output_type": "execute_result"
    }
   ],
   "source": [
    "graph"
   ]
  },
  {
   "cell_type": "markdown",
   "metadata": {
    "id": "JWkeohdIZAXX"
   },
   "source": [
    "and the unweighted graph report:"
   ]
  },
  {
   "cell_type": "code",
   "execution_count": 6,
   "metadata": {
    "colab": {
     "base_uri": "https://localhost:8080/",
     "height": 366
    },
    "id": "5Es5MyulY_u5",
    "outputId": "4c0bd201-ea81-4bdc-cdeb-d41c322491b6"
   },
   "outputs": [
    {
     "data": {
      "text/html": [
       "<div class=\"graph-report\"><style>.graph-report li {margin: 0.5em 0 0.5em 0;}.graph-report .paragraph {text-align: justify;word-break: break-all;}.graph-report .small-columns {column-count: 4;column-gap: 2em;}.graph-report .medium-columns {column-count: 3;column-gap: 2em;}.graph-report .large-columns {column-count: 2;column-gap: 2em;}.graph-report .single-column {}@media only screen and (max-width: 600px) {.graph-report .small-columns {column-count: 1;}.graph-report .medium-columns {column-count: 1;}.graph-report .large-columns {column-count: 1;}}@media only screen and (min-width: 600px) and (max-width: 800px) {.graph-report .small-columns {column-count: 2;}.graph-report .medium-columns {column-count: 1;}.graph-report .large-columns {column-count: 1;}}@media only screen and (min-width: 800px) and (max-width: 1024px) {.graph-report .small-columns {column-count: 3;}.graph-report .medium-columns {column-count: 2;}.graph-report .large-columns {column-count: 1;}}</style><h2>HomoSapiens</h2><p class=\"paragraph\">The undirected graph HomoSapiens has 19.57K heterogeneous nodes and 252.98K edges. The graph contains 2.85K connected components (of which 2.75K are disconnected nodes), with the largest one containing 16.58K nodes and the smallest one containing a single node. The RAM requirements for the nodes and edges data structures are 2.67MB and 782.89KB respectively.</p><h3 style=\"margin: 1em 0 0 0;\">Degree centrality</h3><p class=\"paragraph\">The minimum node degree is 0, the maximum node degree is 747, the mode degree is 0, the mean degree is 25.86 and the node degree median is 9.</p><p class=\"paragraph\">The nodes with the highest degree centrality are 9606.ENSP00000272317 (degree 747 and node types BTO:0000000, BTO:0000042, BTO:0000058, BTO:0000080, BTO:0000081 and other 907), 9606.ENSP00000269305 (degree 723 and node types BTO:0000000, BTO:0000003, BTO:0000018, BTO:0000042, BTO:0000058 and other 1.35K), 9606.ENSP00000388107 (degree 669 and node types BTO:0000000, BTO:0000042, BTO:0000047, BTO:0000080, BTO:0000081 and other 884), 9606.ENSP00000441543 (degree 620 and node types BTO:0000000, BTO:0000020, BTO:0000042, BTO:0000058, BTO:0000080 and other 869) and 9606.ENSP00000362680 (degree 572 and node types BTO:0000000, BTO:0000042, BTO:0000089, BTO:0000131, BTO:0000132 and other 1.17K).</p><h3 style=\"margin: 1em 0 0 0;\">Node types</h3><p class=\"paragraph\">The graph has 62.23K node types, of which the 10 most common are GO:0110165 (17.79K nodes, 90.91%), GO:0009987 (15.02K nodes, 76.79%), BTO:0000000 (14.94K nodes, 76.37%), BTO:0000042 (14.89K nodes, 76.13%), GO:0005622 (14.28K nodes, 72.96%), GOCC:0110165 (13.85K nodes, 70.80%), GO:0043226 (13.52K nodes, 69.07%), BTO:0001489 (12.62K nodes, 64.49%), GO:0043229 (12.53K nodes, 64.03%) and GO:0005488 (12.52K nodes, 63.97%). The node types are multi-label, and the node with most node types has 1379 node types. The RAM requirement for the node types data structure is 19.13MB.</p><h4 style=\"margin: 1em 0 0 0;\">Approximated isomorphic node types</h4><p class=\"paragraph\">Approximated isomorphic node types groups are node types describing exactly the same set of nodes. Since the graph has a high number of node types (> 50.00K) we use an approximated version of the node types isomorphisms detection. Note that hash collisions and false positives are possible. It is possible to execute the exact computation with the <code>get_isomorphic_node_type_ids_groups</code> method. The presence of such duplicated node types suggests a potential modelling error in the pipeline that has produced this graph. 9.34K isomorphic node types groups were detected in this graph.</p><ol><li><p class=\"paragraph\">Isomorphic node type group containing 3 node types (5.86K nodes, 29.93%), which are: GO:0031974, GO:0043233 and GO:0070013.</p></li>\n",
       "<li><p class=\"paragraph\">Isomorphic node type group containing 2 node types (3.06K nodes, 15.65%), which are: GO:0006464 and GO:0036211.</p></li>\n",
       "<li><p class=\"paragraph\">Isomorphic node type group containing 2 node types (2.82K nodes, 14.39%), which are: GOCC:0031974 and GOCC:0043233.</p></li>\n",
       "<li><p class=\"paragraph\">Isomorphic node type group containing 2 node types (1.45K nodes, 7.43%), which are: GO:0038023 and GO:0060089.</p></li>\n",
       "<li><p class=\"paragraph\">Isomorphic node type group containing 2 node types (1.21K nodes, 6.20%), which are: GO:0031967 and GO:0031975.</p></li>\n",
       "<li><p class=\"paragraph\">Isomorphic node type group containing 2 node types (1.16K nodes, 5.95%), which are: GO:0010562 and GO:0045937.</p></li>\n",
       "<li><p class=\"paragraph\">Isomorphic node type group containing 2 node types (1.02K nodes, 5.20%), which are: GO:0048870 and GO:0051674.</p></li>\n",
       "<li><p class=\"paragraph\">Isomorphic node type group containing 2 node types (814 nodes, 4.16%), which are: GO:0016817 and GO:0016818.</p></li>\n",
       "<li><p class=\"paragraph\">Isomorphic node type group containing 2 node types (698 nodes, 3.57%), which are: GO:0000323 and GO:0005764.</p></li>\n",
       "<li><p class=\"paragraph\">Isomorphic node type group containing 2 node types (648 nodes, 3.31%), which are: BTO:0000775 and BTO:0001096.</p></li></ol><p class=\"paragraph\">And other 9.33K isomorphic node types.</p><h4 style=\"margin: 1em 0 0 0;\">Singleton node types</h4><p class=\"paragraph\">Singleton node types are node types that are assigned exclusively to a single node, making the node type relatively meaningless, as it adds no more information than the node name itself. The graph contains 16.85K singleton node types, which are IPR028927 (9606.ENSP00000000412 (degree 36 and node types BTO:0000000, BTO:0000042, BTO:0000080, BTO:0000081, BTO:0000082 and other 188)), GO:0006463 (9606.ENSP00000001008 (degree 62 and node types BTO:0000000, BTO:0000042, BTO:0000081, BTO:0000083, BTO:0000089 and other 332)), IPR031212 (9606.ENSP00000001008 (degree 62 and node types BTO:0000000, BTO:0000042, BTO:0000081, BTO:0000083, BTO:0000089 and other 332)), IPR003788 (9606.ENSP00000002125 (degree 33 and node types BTO:0000000, BTO:0000042, BTO:0000081, BTO:0000083, BTO:0000176 and other 115)), IPR038375 (9606.ENSP00000002125 (degree 33 and node types BTO:0000000, BTO:0000042, BTO:0000081, BTO:0000083, BTO:0000176 and other 115)), PF02636 (9606.ENSP00000002125 (degree 33 and node types BTO:0000000, BTO:0000042, BTO:0000081, BTO:0000083, BTO:0000176 and other 115)), BTO:0001193 (9606.ENSP00000003084 (degree 177 and node types BTO:0000000, BTO:0000003, BTO:0000042, BTO:0000081, BTO:0000082 and other 558)), BTO:0002032 (9606.ENSP00000003084 (degree 177 and node types BTO:0000000, BTO:0000003, BTO:0000042, BTO:0000081, BTO:0000082 and other 558)), BTO:0002750 (9606.ENSP00000003084 (degree 177 and node types BTO:0000000, BTO:0000003, BTO:0000042, BTO:0000081, BTO:0000082 and other 558)) and BTO:0004445 (9606.ENSP00000003084 (degree 177 and node types BTO:0000000, BTO:0000003, BTO:0000042, BTO:0000081, BTO:0000082 and other 558)), plus other 16.84K singleton node types.</p><h4 style=\"margin: 1em 0 0 0;\">Unknown node types</h4><p class=\"paragraph\">Nodes with unknown node types are nodes with a node type that was not provided during the creation of the graph, which may be desired as the output of a node-label holdout. The graph contains 159 nodes with unknown node type, which are 9606.ENSP00000239125, 9606.ENSP00000278779, 9606.ENSP00000303234, 9606.ENSP00000326574, 9606.ENSP00000362001, 9606.ENSP00000365108, 9606.ENSP00000366765, 9606.ENSP00000367360, 9606.ENSP00000367983 and 9606.ENSP00000368055, plus other 149 nodes with unknown node types, making up 0.81 of the nodes.</p><h3 style=\"margin: 1em 0 0 0;\">Topological Oddities</h3><p class=\"paragraph\">A topological oddity is a set of nodes in the graph that <i>may be derived</i> by an error during the generation of the edge list of the graph and, depending on the task, could bias the results of topology-based models. In the following paragraph, we will describe the detected topological oddities.</p><h4 style=\"margin: 1em 0 0 0;\">Singleton nodes</h4><p class=\"paragraph\">A singleton node is a node disconnected from all other nodes. We have detected 2.75K singleton nodes in the graph, involving a total of 2.75K nodes (14.07%). The detected singleton nodes are:</p><ul class=\"small-columns\"><li><p class=\"paragraph\">9606.ENSP00000005995 (node types BTO:0000000, BTO:0000042, BTO:0000089, BTO:0000399, BTO:0000539 and other 74)</p></li>\n",
       "<li><p class=\"paragraph\">9606.ENSP00000006526 (node types BTO:0000000, BTO:0000042, BTO:0000142, BTO:0000227, BTO:0000282 and other 67)</p></li>\n",
       "<li><p class=\"paragraph\">9606.ENSP00000006724 (node types BTO:0000000, BTO:0000042, BTO:0000058, BTO:0000269, BTO:0000271 and other 55)</p></li>\n",
       "<li><p class=\"paragraph\">9606.ENSP00000007735 (node types BTO:0000000, BTO:0000042, BTO:0000282, BTO:0000634, BTO:0001253 and other 61)</p></li>\n",
       "<li><p class=\"paragraph\">9606.ENSP00000010299 (node types BTO:0000000, BTO:0000042, BTO:0000058, BTO:0000959, BTO:0001489 and other 35)</p></li>\n",
       "<li><p class=\"paragraph\">9606.ENSP00000039989 (node types BTO:0000000, BTO:0000042, BTO:0000080, BTO:0000081, BTO:0000082 and other 76)</p></li>\n",
       "<li><p class=\"paragraph\">9606.ENSP00000064571 (node types BTO:0000000, BTO:0000042, CL:22867, CL:22979, GO:0002790 and other 56)</p></li>\n",
       "<li><p class=\"paragraph\">9606.ENSP00000084798 (node types BTO:0000000, BTO:0000042, BTO:0000142, BTO:0000227, BTO:0000282 and other 40)</p></li>\n",
       "<li><p class=\"paragraph\">9606.ENSP00000086933 (node types BTO:0000101, BTO:0000255, BTO:0000690, BTO:0001530, BTO:0005949 and other 66)</p></li>\n",
       "<li><p class=\"paragraph\">9606.ENSP00000158009 (node types CL:38353, CL:38354, CL:38355, CL:38356, CL:38488 and other 15)</p></li>\n",
       "<li><p class=\"paragraph\">9606.ENSP00000159087 (node types CL:28165, CL:28166, CL:28309, CL:28310, GO:0005215 and other 83)</p></li>\n",
       "<li><p class=\"paragraph\">9606.ENSP00000161006 (node types BTO:0000000, BTO:0000042, BTO:0000578, BTO:0005056, CL:35018 and other 39)</p></li>\n",
       "<li><p class=\"paragraph\">9606.ENSP00000162391 (node types BTO:0000000, BTO:0000042, BTO:0000174, BTO:0000284, BTO:0000379 and other 143)</p></li>\n",
       "<li><p class=\"paragraph\">9606.ENSP00000164640 (node types BTO:0000000, BTO:0000042, BTO:0000142, BTO:0000227, BTO:0000282 and other 21)</p></li>\n",
       "<li><p class=\"paragraph\">9606.ENSP00000190165 (node types BTO:0000000, BTO:0000042, BTO:0000081, BTO:0000083, BTO:0000254 and other 142)</p></li></ul><p class=\"paragraph\">And other 2.74K singleton nodes.</p><h4 style=\"margin: 1em 0 0 0;\">Node tuples</h4><p class=\"paragraph\">A node tuple is a connected component composed of two nodes. We have detected 77 node tuples in the graph, involving a total of 154 nodes (0.79%) and 77 edges (0.02%). The detected node tuples are:</p><ul class=\"medium-columns\"><li><p class=\"paragraph\">Node tuple containing the nodes 9606.ENSP00000484403 (node types BTO:0000000, BTO:0000042, BTO:0000080, BTO:0000081, BTO:0000082 and other 84) and 9606.ENSP00000484443 (node types BTO:0000000, BTO:0000042, CL:36843, CL:36844, CL:36890 and other 131).</p></li>\n",
       "<li><p class=\"paragraph\">Node tuple containing the nodes 9606.ENSP00000480336 (node types CL:38353, CL:38354, CL:38548, CL:38576, CL:38577 and other 41) and 9606.ENSP00000485424 (node types CL:38353, CL:38354, CL:38548, CL:38576, CL:38577 and other 68).</p></li>\n",
       "<li><p class=\"paragraph\">Node tuple containing the nodes 9606.ENSP00000454340 (node types CL:31264, CL:31299 and IPR007248) and 9606.ENSP00000485142 (node types CL:31264 and CL:31299).</p></li>\n",
       "<li><p class=\"paragraph\">Node tuple containing the nodes 9606.ENSP00000448841 (node types CL:7242, CL:7243, CL:7244, CL:7245, CL:7246 and other 17) and 9606.ENSP00000481258 (node types CL:7242, CL:7243, CL:7244, CL:7245, CL:7246 and other 59).</p></li>\n",
       "<li><p class=\"paragraph\">Node tuple containing the nodes 9606.ENSP00000436580 (node types CL:36974, CL:36975, CL:36976, CL:36977, IPR018903 and another one) and 9606.ENSP00000436891 (node types CL:36974, CL:36975, CL:36976, CL:36977 and PF10630).</p></li>\n",
       "<li><p class=\"paragraph\">Node tuple containing the nodes 9606.ENSP00000436042 (node types CL:35528, CL:35529, CL:35623, CL:35624, CL:35625 and other 41) and 9606.ENSP00000436426 (node types CL:35528, CL:35529, CL:35623, CL:35624, CL:35625 and other 57).</p></li>\n",
       "<li><p class=\"paragraph\">Node tuple containing the nodes 9606.ENSP00000435550 (node types BTO:0000000, BTO:0000042, BTO:0000080, BTO:0000081, BTO:0000082 and other 23) and 9606.ENSP00000441497 (node types CL:26899, CL:27055, CL:27057, DOID:0050686, DOID:0050687 and other 71).</p></li>\n",
       "<li><p class=\"paragraph\">Node tuple containing the nodes 9606.ENSP00000430100 (node types BTO:0000000, BTO:0000042, BTO:0000203, BTO:0001388, BTO:0001489 and other 126) and 9606.ENSP00000454770 (node types CL:37293, CL:37294, CL:37295, CL:37296, CL:37297 and other 13).</p></li>\n",
       "<li><p class=\"paragraph\">Node tuple containing the nodes 9606.ENSP00000429808 (node types CL:35528, CL:35529, CL:35623, CL:35624, CL:35625 and other 47) and 9606.ENSP00000433378 (node types CL:35528, CL:35529, CL:35623, CL:35624, CL:35625 and other 49).</p></li>\n",
       "<li><p class=\"paragraph\">Node tuple containing the nodes 9606.ENSP00000419502 (node types BTO:0000000, BTO:0000042, BTO:0000058, BTO:0000081, BTO:0000083 and other 27) and 9606.ENSP00000483005 (node types BTO:0000000, BTO:0000042, CL:28511, CL:28512, CL:28513 and other 143).</p></li>\n",
       "<li><p class=\"paragraph\">Node tuple containing the nodes 9606.ENSP00000406723 (node types BTO:0000000, BTO:0000042, CL:34804, CL:34805, CL:34806 and other 54) and 9606.ENSP00000480524 (node types CL:34804, CL:34805, CL:34806, CL:34807, CL:34808 and other 48).</p></li>\n",
       "<li><p class=\"paragraph\">Node tuple containing the nodes 9606.ENSP00000399664 (node types CL:25282, CL:25358, CL:25376, GO:0003676, GO:0003677 and other 90) and 9606.ENSP00000472698 (node types CL:25282, CL:25358, CL:25376, IPR002706, IPR008979 and another one).</p></li>\n",
       "<li><p class=\"paragraph\">Node tuple containing the nodes 9606.ENSP00000391594 (node types CL:29285, CL:29383, CL:29384, CL:29398, GO:0019012 and other 9) and 9606.ENSP00000460602 (node types CL:29285, CL:29383, CL:29384, CL:29398, DOID:0060262 and other 18).</p></li>\n",
       "<li><p class=\"paragraph\">Node tuple containing the nodes 9606.ENSP00000388864 (node types BTO:0000000, BTO:0000042, BTO:0000088, BTO:0000290, BTO:0000393 and other 76) and 9606.ENSP00000396732 (node types CL:32704, CL:32705, CL:32706, CL:32766, CL:32767 and other 132).</p></li>\n",
       "<li><p class=\"paragraph\">Node tuple containing the nodes 9606.ENSP00000384214 (node types CL:30792, CL:30793, CL:30794, CL:30795, CL:30796 and another one) and 9606.ENSP00000397103 (node types CL:30792, CL:30793, CL:30794, CL:30795, CL:30796 and other 2).</p></li></ul><p class=\"paragraph\">And other 62 node tuples.</p><h4 style=\"margin: 1em 0 0 0;\">Isomorphic node groups</h4><p class=\"paragraph\">Isomorphic groups are nodes with exactly the same neighbours and node types (if present in the graph). Nodes in such groups are topologically indistinguishable, that is swapping their ID would not change the graph topology. We have detected 21 isomorphic node groups in the graph, involving a total of 46 nodes (0.24%) and 558 edges (0.11%), with the largest one involving 5 nodes and 95 edges. The detected isomorphic node groups, sorted by decreasing size, are:</p><ol class=\"medium-columns\"><li><p class=\"paragraph\">Group with 5 nodes (degree 19 and node types BTO:0000000, BTO:0000042, BTO:0000142, BTO:0000227, BTO:0000282 and other 89): 9606.ENSP00000380488, 9606.ENSP00000423313, 9606.ENSP00000227756, 9606.ENSP00000344260 and 9606.ENSP00000297107.</p></li>\n",
       "<li><p class=\"paragraph\">Group with 2 nodes (degree 29 and node types CL:10686, CL:10687, CL:10688, CL:10689, CL:10690 and other 148): 9606.ENSP00000391692 and 9606.ENSP00000391869.</p></li>\n",
       "<li><p class=\"paragraph\">Group with 2 nodes (degree 21 and node types CL:27348, CL:27350, CL:27351, CL:27352, CL:27353 and other 101): 9606.ENSP00000436604 and 9606.ENSP00000444171.</p></li>\n",
       "<li><p class=\"paragraph\">Group with 2 nodes (degree 18 and node types BTO:0000000, BTO:0000042, CL:28511, CL:28512, CL:28513 and other 100): 9606.ENSP00000384876 and 9606.ENSP00000373278.</p></li>\n",
       "<li><p class=\"paragraph\">Group with 2 nodes (degree 18 and node types CL:31041, CL:31042, CL:31192, CL:31222, CL:31224 and other 62): 9606.ENSP00000347119 and 9606.ENSP00000354723.</p></li>\n",
       "<li><p class=\"paragraph\">Group with 3 nodes (degree 11 and node types CL:17996, CL:17997, GO:0001775, GO:0001932, GO:0001934 and other 152): 9606.ENSP00000369564, 9606.ENSP00000369566 and 9606.ENSP00000239347.</p></li>\n",
       "<li><p class=\"paragraph\">Group with 2 nodes (degree 15 and node types CL:27654, CL:27656, CL:27657, CL:27658, CL:27660 and other 67): 9606.ENSP00000416741 and 9606.ENSP00000264363.</p></li>\n",
       "<li><p class=\"paragraph\">Group with 2 nodes (degree 15 and node types BTO:0000000, BTO:0000042, CL:31315, CL:31513, CL:31630 and other 79): 9606.ENSP00000400157 and 9606.ENSP00000312700.</p></li>\n",
       "<li><p class=\"paragraph\">Group with 2 nodes (degree 15 and node types BTO:0000000, BTO:0000042, BTO:0000345, BTO:0000522, BTO:0000759 and other 105): 9606.ENSP00000261196 and 9606.ENSP00000441269.</p></li>\n",
       "<li><p class=\"paragraph\">Group with 2 nodes (degree 12 and node types CL:36974, CL:36975, CL:36976, CL:36977, CL:36979 and other 29): 9606.ENSP00000334681 and 9606.ENSP00000347810.</p></li>\n",
       "<li><p class=\"paragraph\">Group with 2 nodes (degree 10 and node types BTO:0000000, BTO:0000042, BTO:0000081, BTO:0000082, BTO:0000408 and other 34): 9606.ENSP00000335281 and 9606.ENSP00000334330.</p></li>\n",
       "<li><p class=\"paragraph\">Group with 2 nodes (degree 10 and node types BTO:0000000, BTO:0000042, BTO:0000081, BTO:0000082, BTO:0000408 and other 85): 9606.ENSP00000335307 and 9606.ENSP00000334364.</p></li>\n",
       "<li><p class=\"paragraph\">Group with 2 nodes (degree 9 and node type CL:4123): 9606.ENSP00000449334 and 9606.ENSP00000449223.</p></li>\n",
       "<li><p class=\"paragraph\">Group with 2 nodes (degree 7 and node types BTO:0000000, BTO:0000042, BTO:0000404, BTO:0000416, BTO:0000435 and other 102): 9606.ENSP00000259205 and 9606.ENSP00000259211.</p></li>\n",
       "<li><p class=\"paragraph\">Group with 2 nodes (degree 6 and node types BTO:0000000, BTO:0000042, CL:8459, CL:8460, CL:8461 and other 42): 9606.ENSP00000376955 and 9606.ENSP00000275884.</p></li></ol><p class=\"paragraph\">And other 6 isomorphic node groups.</p><h4 style=\"margin: 1em 0 0 0;\">Trees</h4><p class=\"paragraph\">A tree is a connected component with <code>n</code> nodes and <code>n-1</code> edges. We have detected 2 trees in the graph, involving a total of 14 nodes (0.07%) and 12 edges, with the largest one involving 9 nodes and 8 edges. The detected trees, sorted by decreasing size, are:</p><ol class=\"large-columns\"><li><p class=\"paragraph\">Tree starting from the root node 9606.ENSP00000385592 (degree 2 and node types CL:35089, CL:35243, CL:35244, CL:35245, GO:0016020 and other 11), and containing 9 nodes, with a maximal depth of 3, which are 9606.ENSP00000303028 (node types BTO:0000000, BTO:0000042, BTO:0000058, BTO:0000511, BTO:0000619 and other 68), 9606.ENSP00000384887 (degree 3 and node types BTO:0000000, BTO:0000042, CL:33472, CL:33598, CL:33670 and other 18), 9606.ENSP00000362386 (degree 3 and node types CL:35089, CL:35243, CL:35244, CL:35245, CL:35247 and other 14), 9606.ENSP00000379738 (node types CL:33472, CL:33598, CL:33670, CL:33671, CL:33673 and other 12) and 9606.ENSP00000481937 (node types CL:33472, CL:33598, CL:33670, CL:33671, CL:33673 and other 61). Its nodes have 208 node types, of which the 10 most common are GO:0110165 (6 nodes, 0.03%), KW-0621 (6 nodes, 0.03%), KW-0472 (5 nodes, 0.03%), GO:0031224 (5 nodes, 0.03%), GO:0016021 (5 nodes, 0.03%), GO:0016020 (5 nodes, 0.03%), KW-1133 (5 nodes, 0.03%), KW-0325 (5 nodes, 0.03%), KW-0812 (5 nodes, 0.03%) and KW-0732 (5 nodes, 0.03%).</p></li>\n",
       "<li><p class=\"paragraph\">Tree starting from the root node 9606.ENSP00000355045 (degree 2 and node types BTO:0000000, BTO:0000042, CL:26288, CL:26289, CL:26290 and other 98), and containing 5 nodes, with a maximal depth of 2, which are 9606.ENSP00000379434 (node types CL:26288, CL:26289, CL:26290, CL:26291, CL:26292 and other 21), 9606.ENSP00000381857 (node types CL:32704, CL:32854, CL:32855, CL:32856, CL:32857 and other 5), 9606.ENSP00000352314 (node types CL:32253, CL:32255, CL:32287, GO:0005622, GO:0005737 and other 58) and 9606.ENSP00000473941 (node types CL:32704, CL:32854, CL:32855, CL:32856, CL:32857 and other 19). Its nodes have 94 node types, of which the 10 most common are KW-0621 (3 nodes, 0.02%), KW-0025 (3 nodes, 0.02%), KW-0677 (3 nodes, 0.02%), PF01344 (2 nodes, 0.01%), IPR011989 (2 nodes, 0.01%), CL:32855 (2 nodes, 0.01%), IPR015915 (2 nodes, 0.01%), IPR016024 (2 nodes, 0.01%), CL:32854 (2 nodes, 0.01%) and IPR006652 (2 nodes, 0.01%).</p></li></ol><h4 style=\"margin: 1em 0 0 0;\">Dendritic trees</h4><p class=\"paragraph\">A dendritic tree is a tree-like structure starting from a root node that is part of another strongly connected component. We have detected 14 dendritic trees in the graph, involving a total of 61 nodes (0.31%) and 61 edges (0.01%), with the largest one involving 6 nodes and 6 edges. The detected dendritic trees, sorted by decreasing size, are:</p><ol class=\"large-columns\"><li><p class=\"paragraph\">Dendritic tree starting from the root node 9606.ENSP00000254627 (degree 5 and node types CL:30017, CL:30145, CL:30201, CL:30203, DOID:0050155 and other 92), and containing 6 nodes, with a maximal depth of 3, which are 9606.ENSP00000407107 (degree 5 and node types BTO:0000223, BTO:0000279, CL:30017, CL:30145, CL:30201 and other 5), 9606.ENSP00000266022 (node types BTO:0000000, BTO:0000042, BTO:0000081, BTO:0000083, BTO:0000142 and other 84), 9606.ENSP00000299308 (node types BTO:0000000, BTO:0000042, CL:32704, CL:32705, CL:32706 and other 21), 9606.ENSP00000336693 (node types BTO:0000669, BTO:0001437, BTO:0005287, CL:33130, CL:33131 and other 70) and 9606.ENSP00000391404 (node types CL:29285, CL:29383, CL:29384 and CL:29398). Its nodes have 259 node types, of which the 10 most common are GO:0110165 (5 nodes, 0.03%), KW-0025 (4 nodes, 0.02%), GO:0043226 (3 nodes, 0.02%), GO:0009987 (3 nodes, 0.02%), KW-0621 (3 nodes, 0.02%), GO:0043229 (2 nodes, 0.01%), CL:32732 (2 nodes, 0.01%), GO:0006807 (2 nodes, 0.01%), GO:0071704 (2 nodes, 0.01%) and CL:32707 (2 nodes, 0.01%).</p></li>\n",
       "<li><p class=\"paragraph\">Dendritic tree starting from the root node 9606.ENSP00000366542 (degree 5 and node types CL:30792, CL:30793, CL:30794, CL:30795, CL:30796 and other 83), and containing 6 nodes, with a maximal depth of 3, which are 9606.ENSP00000276127 (degree 3 and node types CL:35528, CL:35529, CL:35530, CL:35531, CL:35532 and other 4), 9606.ENSP00000281722 (node types CL:30792, CL:30793, CL:30794, CL:30795, CL:30796 and other 80), 9606.ENSP00000357889 (node types CL:35528, CL:35529, CL:35530, CL:35531, CL:35532 and other 7), 9606.ENSP00000362206 (node types BTO:0000000, BTO:0000042, BTO:0000142, BTO:0000227, BTO:0000282 and other 65) and 9606.ENSP00000306776 (node types BTO:0000000, BTO:0000042, BTO:0000080, BTO:0000081, BTO:0000082 and other 30). Its nodes have 175 node types, of which the 10 most common are GO:0110165 (4 nodes, 0.02%), CL:35558 (4 nodes, 0.02%), CL:35528 (4 nodes, 0.02%), CL:35531 (4 nodes, 0.02%), CL:35530 (4 nodes, 0.02%), CL:35532 (4 nodes, 0.02%), CL:35529 (4 nodes, 0.02%), GO:0043229 (3 nodes, 0.02%), KW-0025 (3 nodes, 0.02%) and GO:0005488 (3 nodes, 0.02%).</p></li>\n",
       "<li><p class=\"paragraph\">Dendritic tree starting from the root node 9606.ENSP00000310686 (degree 14 and node types BTO:0000000, BTO:0000042, CL:6626, CL:6627, CL:6629 and other 186), and containing 5 nodes, with a maximal depth of 3, which are 9606.ENSP00000482345 (node types CL:37858, CL:37859, CL:37860, CL:37861, CL:37903 and other 83), 9606.ENSP00000300896 (degree 4 and node types BTO:0000000, BTO:0000042, BTO:0000080, BTO:0000081, BTO:0000082 and other 114), 9606.ENSP00000478426 (node types CL:37858, CL:37859, CL:37860, CL:37861, CL:37903 and other 91), 9606.ENSP00000478683 (node types CL:37858, CL:37859, CL:37860, CL:37861, CL:37903 and other 98) and 9606.ENSP00000483965 (node types CL:37293, CL:37425, CL:37426, CL:37427, GO:0005096 and other 54). Its nodes have 200 node types, of which the 10 most common are GO:0005488 (5 nodes, 0.03%), GO:0110165 (5 nodes, 0.03%), GO:0009987 (5 nodes, 0.03%), GO:0016020 (5 nodes, 0.03%), CL:37859 (4 nodes, 0.02%), GO:0050790 (4 nodes, 0.02%), GO:0017016 (4 nodes, 0.02%), GOCC:0005737 (4 nodes, 0.02%), GO:0006886 (4 nodes, 0.02%) and CL:37861 (4 nodes, 0.02%).</p></li>\n",
       "<li><p class=\"paragraph\">Dendritic tree starting from the root node 9606.ENSP00000311336 (degree 5 and node types BTO:0000000, BTO:0000042, BTO:0000080, BTO:0000081, BTO:0000082 and other 154), and containing 5 nodes, with a maximal depth of 3, which are 9606.ENSP00000232892 (degree 3 and node types BTO:0000000, BTO:0000042, BTO:0000058, BTO:0000345, BTO:0000511 and other 114), 9606.ENSP00000353557 (node types BTO:0000000, BTO:0000042, CL:14835, CL:14837, CL:14838 and other 24), 9606.ENSP00000355156 (node types BTO:0000000, BTO:0000042, BTO:0000089, BTO:0000431, BTO:0000522 and other 147), 9606.ENSP00000362814 (node types BTO:0000000, BTO:0000042, BTO:0000081, BTO:0000083, BTO:0000431 and other 61) and 9606.ENSP00000348911 (node types BTO:0000000, BTO:0000042, BTO:0000081, BTO:0000083, BTO:0001489 and other 32). Its nodes have 295 node types, of which the 10 most common are BTO:0000042 (5 nodes, 0.03%), BTO:0000000 (5 nodes, 0.03%), GO:0016021 (5 nodes, 0.03%), GO:0016020 (5 nodes, 0.03%), GO:0031224 (5 nodes, 0.03%), GO:0110165 (5 nodes, 0.03%), KW-0812 (4 nodes, 0.02%), KW-0472 (4 nodes, 0.02%), GO:0009987 (4 nodes, 0.02%) and BTO:0001489 (4 nodes, 0.02%).</p></li>\n",
       "<li><p class=\"paragraph\">Dendritic tree starting from the root node 9606.ENSP00000446916 (degree 4 and node types CL:20278, CL:20279, CL:20343, DOID:0050177, DOID:0050736 and other 51), and containing 5 nodes, with a maximal depth of 2, which are 9606.ENSP00000373583 (degree 5 and node types CL:20278, CL:20279, CL:20343, CL:20345, GO:0005622 and other 8), 9606.ENSP00000352299 (node types BTO:0000000, BTO:0000042, BTO:0000080, BTO:0000081, BTO:0000082 and other 39), 9606.ENSP00000357811 (node types CL:20278, CL:20279, CL:20343, CL:20345, IPR029369 and other 2), 9606.ENSP00000386118 (node types CL:20278, CL:20279, CL:20343, CL:20345, KW-0025 and another one) and 9606.ENSP00000387298 (node types CL:20278, CL:20279, CL:20343 and CL:20345). Its nodes have 54 node types, of which the 10 most common are CL:20343 (5 nodes, 0.03%), CL:20345 (5 nodes, 0.03%), CL:20279 (5 nodes, 0.03%), CL:20278 (5 nodes, 0.03%), KW-0025 (3 nodes, 0.02%), KW-0621 (3 nodes, 0.02%), IPR029369, PF15400, BTO:0000080 and BTO:0000254.</p></li>\n",
       "<li><p class=\"paragraph\">Dendritic tree starting from the root node 9606.ENSP00000265322 (degree 43 and node types BTO:0000000, BTO:0000042, BTO:0000058, BTO:0000269, BTO:0000345 and other 157), and containing 4 nodes, with a maximal depth of 3, which are 9606.ENSP00000333183 (node types CL:37591, CL:37592, CL:37594, CL:37595, CL:37598 and other 85), 9606.ENSP00000467301 (degree 3 and node types CL:37591, CL:37592, CL:37594, CL:37595, CL:37598 and other 60), 9606.ENSP00000331435 (node types CL:37591, CL:37592, CL:37594, CL:37595, CL:37598 and other 82) and 9606.ENSP00000370801 (node types CL:37591, CL:37592, CL:37594, CL:37595, CL:37598 and other 84). Its nodes have 143 node types, of which the 10 most common are CL:37595 (4 nodes, 0.02%), CL:37599 (4 nodes, 0.02%), GO:0110165 (4 nodes, 0.02%), CL:37591 (4 nodes, 0.02%), CL:37598 (4 nodes, 0.02%), CL:37592 (4 nodes, 0.02%), GO:0065007 (4 nodes, 0.02%), GO:0050794 (4 nodes, 0.02%), GO:0050789 (4 nodes, 0.02%) and CL:37594 (4 nodes, 0.02%).</p></li></ol><p class=\"paragraph\">And other 8 dendritic trees.</p><h4 style=\"margin: 1em 0 0 0;\">Stars</h4><p class=\"paragraph\">A star is a tree with a maximal depth of one, where nodes with maximal unique degree one are connected to a central root node with a high degree. We have detected 11 stars in the graph, involving a total of 35 nodes (0.18%) and 24 edges, with the largest one involving 4 nodes and 3 edges. The detected stars, sorted by decreasing size, are:</p><ol class=\"large-columns\"><li><p class=\"paragraph\">Star starting from the root node 9606.ENSP00000334289 (degree 3 and node types CL:37591, CL:37592, CL:37748, CL:37749, CL:37750 and other 6), and containing 4 nodes, with a maximal depth of 1, which are 9606.ENSP00000324672 (node types BTO:0000000, BTO:0000042, BTO:0000420, BTO:0000522, BTO:0000828 and other 40), 9606.ENSP00000366223 (node types CL:33130, CL:33131, CL:33132, CL:33133, CL:33134 and other 12) and 9606.ENSP00000485629 (node types CL:37591, CL:37592, CL:37748, CL:37749, CL:37750 and other 2). Its nodes have 60 node types, of which the 10 most common are CL:37592 (2 nodes, 0.01%), GO:0016020 (2 nodes, 0.01%), CL:37750 (2 nodes, 0.01%), GO:0110165 (2 nodes, 0.01%), CL:37753 (2 nodes, 0.01%), CL:37591 (2 nodes, 0.01%), KW-0025 (2 nodes, 0.01%), CL:37749 (2 nodes, 0.01%), CL:37748 (2 nodes, 0.01%) and PF15851.</p></li>\n",
       "<li><p class=\"paragraph\">Star starting from the root node 9606.ENSP00000345333 (degree 3 and node types BTO:0000000, BTO:0000042, CL:34541, CL:34542, CL:34543 and other 45), and containing 4 nodes, with a maximal depth of 1, which are 9606.ENSP00000328245 (node types BTO:0000000, BTO:0000042, BTO:0000081, BTO:0000083, BTO:0000088 and other 65), 9606.ENSP00000339314 (node types CL:34541, CL:34542, CL:34543, CL:34544, CL:34545 and other 56) and 9606.ENSP00000483077 (node types BTO:0000000, BTO:0000042, BTO:0000142, BTO:0000227, BTO:0000282 and other 93). Its nodes have 134 node types, of which the 10 most common are KW-0677 (3 nodes, 0.02%), GO:0003676 (3 nodes, 0.02%), GO:0043227 (3 nodes, 0.02%), GO:0097159 (3 nodes, 0.02%), GO:0043229 (3 nodes, 0.02%), KW-0238 (3 nodes, 0.02%), HSA-74160 (3 nodes, 0.02%), IPR036236 (3 nodes, 0.02%), GO:0005488 (3 nodes, 0.02%) and GO:0065007 (3 nodes, 0.02%).</p></li>\n",
       "<li><p class=\"paragraph\">Star starting from the root node 9606.ENSP00000281523 (degree 2 and node types BTO:0000000, BTO:0000042, BTO:0000059, BTO:0000416, BTO:0000431 and other 39), and containing 3 nodes, with a maximal depth of 1, which are 9606.ENSP00000297063 (node types CL:28068, CL:28120, CL:28121, CL:28123, IPR012548 and other 2) and 9606.ENSP00000418575 (node types BTO:0000000, BTO:0000042, BTO:0000142, BTO:0000227, BTO:0000282 and other 71). Its nodes have 83 node types, of which the 10 most common are GO:0009987, GO:0005102, GO:0050794, GO:0030545, GO:0048731, GO:0010469, GO:0007154, GO:0050793, GO:0030154 and GOCC:0110165.</p></li>\n",
       "<li><p class=\"paragraph\">Star starting from the root node 9606.ENSP00000295012 (degree 2), and containing 3 nodes, with a maximal depth of 1, which are 9606.ENSP00000469705 and 9606.ENSP00000484537. Its nodes have 8 node types, which are CL:37591 (2 nodes, 0.01%), PF15788 (2 nodes, 0.01%), CL:37753 (2 nodes, 0.01%), CL:37750 (2 nodes, 0.01%), CL:37755 (2 nodes, 0.01%), CL:37748 (2 nodes, 0.01%), CL:37592 (2 nodes, 0.01%) and CL:37749 (2 nodes, 0.01%).</p></li>\n",
       "<li><p class=\"paragraph\">Star starting from the root node 9606.ENSP00000319590 (degree 2 and node types CL:35745, CL:35746, CL:35748, CL:35750, CL:35751 and other 6), and containing 3 nodes, with a maximal depth of 1, which are 9606.ENSP00000230301 (node types CL:35745, CL:35746, CL:35748, CL:35750, CL:35751 and other 5) and 9606.ENSP00000354590 (node types BTO:0000000, BTO:0000042, BTO:0001576, CL:35745, CL:35746 and other 31). Its nodes have 39 node types, of which the 10 most common are CL:35750 (2 nodes, 0.01%), CL:35745 (2 nodes, 0.01%), CL:35748 (2 nodes, 0.01%), KW-0621 (2 nodes, 0.01%), CL:35753 (2 nodes, 0.01%), CL:35751 (2 nodes, 0.01%), CL:35746 (2 nodes, 0.01%), KW-0653, GO:0015833 and GO:0051179.</p></li>\n",
       "<li><p class=\"paragraph\">Star starting from the root node 9606.ENSP00000344129 (degree 2 and node types CL:37293, CL:37425, CL:37489, CL:37491, CL:37492 and other 53), and containing 3 nodes, with a maximal depth of 1, which are 9606.ENSP00000380071 (node types BTO:0000000, BTO:0000042, CL:37293, CL:37425, CL:37489 and other 26) and 9606.ENSP00000469417 (node types CL:37293, CL:37425, CL:37489, CL:37491, CL:37492 and other 46). Its nodes have 70 node types, of which the 10 most common are CL:37293 (2 nodes, 0.01%), KW-0025 (2 nodes, 0.01%), CL:37491 (2 nodes, 0.01%), GO:0043229 (2 nodes, 0.01%), GO:0043226 (2 nodes, 0.01%), GO:0043227 (2 nodes, 0.01%), CL:37493 (2 nodes, 0.01%), CL:37489 (2 nodes, 0.01%), GO:0005622 (2 nodes, 0.01%) and CL:37492 (2 nodes, 0.01%).</p></li></ol><p class=\"paragraph\">And other 5 stars.</p><h4 style=\"margin: 1em 0 0 0;\">Dendritic stars</h4><p class=\"paragraph\">A dendritic star is a dendritic tree with a maximal depth of one, where nodes with maximal unique degree one are connected to a central root node with high degree and inside a strongly connected component. We have detected 90 dendritic stars in the graph, involving a total of 220 nodes (1.12%) and 220 edges (0.04%), with the largest one involving 19 nodes and 19 edges. The detected dendritic stars, sorted by decreasing size, are:</p><ol class=\"large-columns\"><li><p class=\"paragraph\">Dendritic star starting from the root node 9606.ENSP00000334051 (degree 82 and node types BTO:0000000, BTO:0000042, BTO:0000142, BTO:0000176, BTO:0000202 and other 190), and containing 19 nodes, with a maximal depth of 1, which are 9606.ENSP00000284287 (node types CL:32704, CL:32705, CL:32706, CL:32707, CL:32708 and other 62), 9606.ENSP00000307726 (node types CL:32450, CL:32490, CL:32491, CL:32492, GO:0003008 and other 64), 9606.ENSP00000311605 (node types CL:28902, CL:28903, CL:28931, CL:28933, GO:0003008 and other 58), 9606.ENSP00000318997 (node types CL:35745, CL:35746, GO:0003008, GO:0004888, GO:0004930 and other 97) and 9606.ENSP00000319071 (node types CL:15603, CL:15604, CL:15605, CL:15624, GO:0003008 and other 59). Its nodes have 175 node types, of which the 10 most common are GO:0016020 (19 nodes, 0.10%), GO:0003008 (19 nodes, 0.10%), GOCC:0071944 (19 nodes, 0.10%), IPR017452 (19 nodes, 0.10%), KW-1015 (19 nodes, 0.10%), GO:0005886 (19 nodes, 0.10%), KW-0807 (19 nodes, 0.10%), KW-0716 (19 nodes, 0.10%), KW-0812 (19 nodes, 0.10%) and GO:0050907 (19 nodes, 0.10%).</p></li>\n",
       "<li><p class=\"paragraph\">Dendritic star starting from the root node 9606.ENSP00000432561 (degree 14 and node types BTO:0000000, BTO:0000042, BTO:0000202, BTO:0000282, BTO:0000368 and other 74), and containing 7 nodes, with a maximal depth of 1, which are 9606.ENSP00000254166 (node types BTO:0000176, BTO:0000415, BTO:0000584, BTO:0000604, BTO:0000632 and other 70), 9606.ENSP00000303533 (node types BTO:0000000, BTO:0000042, BTO:0000176, BTO:0000415, BTO:0000584 and other 80), 9606.ENSP00000344162 (node types BTO:0000000, BTO:0000042, BTO:0000176, BTO:0000415, BTO:0000584 and other 84), 9606.ENSP00000379464 (node types BTO:0000000, BTO:0000042, BTO:0000176, BTO:0000415, BTO:0000584 and other 69) and 9606.ENSP00000385163 (node types BTO:0000176, BTO:0000415, BTO:0000584, BTO:0000604, BTO:0000632 and other 62). Its nodes have 167 node types, of which the 10 most common are KW-0621 (7 nodes, 0.04%), BTO:0000584 (7 nodes, 0.04%), GO:0060255 (7 nodes, 0.04%), GO:2000112 (7 nodes, 0.04%), KW-0677 (7 nodes, 0.04%), GO:0043231 (7 nodes, 0.04%), GO:0005488 (7 nodes, 0.04%), GO:0050794 (7 nodes, 0.04%), GO:0043167 (7 nodes, 0.04%) and GO:0006355 (7 nodes, 0.04%).</p></li>\n",
       "<li><p class=\"paragraph\">Dendritic star starting from the root node 9606.ENSP00000319673 (degree 16 and node types BTO:0000000, BTO:0000024, BTO:0000042, BTO:0000058, BTO:0000081 and other 176), and containing 6 nodes, with a maximal depth of 1, which are 9606.ENSP00000360360 (node types CL:28165, CL:28166, CL:28167, CL:28271, IPR028930 and other 3), 9606.ENSP00000392283 (node types CL:30792, CL:30793, CL:30794, CL:30936 and PF15623), 9606.ENSP00000393315 (node types CL:30792, CL:30793, CL:30794, CL:30936 and PF15623), 9606.ENSP00000399711 (node types CL:30792, CL:30793, CL:30794, CL:30936, CL:30938 and another one) and 9606.ENSP00000410400 (node types CL:30792, CL:30793, CL:30794, CL:30936, CL:30938 and another one). Its nodes have 13 node types, of which the 10 most common are PF15623 (6 nodes, 0.03%), CL:30794 (5 nodes, 0.03%), CL:30936 (5 nodes, 0.03%), CL:30792 (5 nodes, 0.03%), CL:30793 (5 nodes, 0.03%), CL:30938 (3 nodes, 0.02%), CL:28271, CL:28166, KW-0621 and IPR028930.</p></li>\n",
       "<li><p class=\"paragraph\">Dendritic star starting from the root node 9606.ENSP00000376345 (degree 380 and node types BTO:0000000, BTO:0000042, BTO:0000058, BTO:0000081, BTO:0000083 and other 685), and containing 4 nodes, with a maximal depth of 1, which are 9606.ENSP00000320038 (node types BTO:0000000, BTO:0000042, BTO:0000142, BTO:0000227, BTO:0000231 and other 142), 9606.ENSP00000356093 (node types BTO:0000000, BTO:0000042, CL:34541, CL:34542, CL:34543 and other 89), 9606.ENSP00000384593 (node types CL:26288, CL:26289, CL:26439, CL:26440, CL:26441 and other 7) and 9606.ENSP00000470441 (node types CL:28969, CL:29029, CL:29030, GO:0005488, GO:0016020 and other 20). Its nodes have 237 node types, of which the 10 most common are GO:0016020 (3 nodes, 0.02%), GO:0110165 (3 nodes, 0.02%), GO:0005488 (3 nodes, 0.02%), BTO:0000000 (2 nodes, 0.01%), GO:0065008 (2 nodes, 0.01%), GO:0032502 (2 nodes, 0.01%), GO:0007154 (2 nodes, 0.01%), GO:2000026 (2 nodes, 0.01%), GO:0071944 (2 nodes, 0.01%) and KW-0812 (2 nodes, 0.01%).</p></li>\n",
       "<li><p class=\"paragraph\">Dendritic star starting from the root node 9606.ENSP00000267017 (degree 20 and node types BTO:0000000, BTO:0000042, CL:24334, CL:24335, CL:24336 and other 211), and containing 4 nodes, with a maximal depth of 1, which are 9606.ENSP00000309782 (node types BTO:0000000, BTO:0000042, BTO:0000081, BTO:0000083, BTO:0000142 and other 68), 9606.ENSP00000314042 (node types CL:35745, CL:35855, CL:35856, CL:35858, CL:35859 and other 37), 9606.ENSP00000330612 (node types CL:25546, CL:25547, CL:25548, CL:25549, CL:25550 and other 36) and 9606.ENSP00000366331 (node types CL:32521, CL:32522, CL:32523, CL:32591, CL:32621 and other 67). Its nodes have 115 node types, of which the 10 most common are GO:0031224 (4 nodes, 0.02%), IPR026234 (4 nodes, 0.02%), GOCC:0016020 (4 nodes, 0.02%), GO:0007186 (4 nodes, 0.02%), GO:0071944 (4 nodes, 0.02%), KW-0297 (4 nodes, 0.02%), GO:0009987 (4 nodes, 0.02%), GO:0004930 (4 nodes, 0.02%), GO:0038023 (4 nodes, 0.02%) and KW-0675 (4 nodes, 0.02%).</p></li>\n",
       "<li><p class=\"paragraph\">Dendritic star starting from the root node 9606.ENSP00000246801 (degree 7 and node types CL:31801, CL:31802, CL:31803, CL:31939, CL:31941 and other 57), and containing 3 nodes, with a maximal depth of 1, which are 9606.ENSP00000362634 (node types BTO:0000000, BTO:0000042, BTO:0000080, BTO:0000081, BTO:0000082 and other 112), 9606.ENSP00000375081 (node types BTO:0000000, BTO:0000042, BTO:0000080, BTO:0000081, BTO:0000082 and other 151) and 9606.ENSP00000382544 (node types BTO:0000000, BTO:0000042, BTO:0000058, BTO:0000080, BTO:0000081 and other 147). Its nodes have 177 node types, of which the 10 most common are GO:0050896 (3 nodes, 0.02%), BTO:0001489 (3 nodes, 0.02%), GO:0007275 (3 nodes, 0.02%), GO:0016773 (3 nodes, 0.02%), GO:0043168 (3 nodes, 0.02%), GO:0006807 (3 nodes, 0.02%), GO:0036211 (3 nodes, 0.02%), BTO:0000534 (3 nodes, 0.02%), KW-0067 (3 nodes, 0.02%) and IPR000719 (3 nodes, 0.02%).</p></li></ol><p class=\"paragraph\">And other 84 dendritic stars.</p><h4 style=\"margin: 1em 0 0 0;\">Dendritic tendril stars</h4><p class=\"paragraph\">A dendritic tendril star is a dendritic tree with a depth greater than one, where the arms of the star are tendrils. We have detected 13 dendritic tendril stars in the graph, involving a total of 48 nodes (0.25%) and 48 edges, with the largest one involving 9 nodes and 9 edges. The detected dendritic tendril stars, sorted by decreasing size, are:</p><ol class=\"large-columns\"><li><p class=\"paragraph\">Dendritic tendril star starting from the root node 9606.ENSP00000371594 (degree 68 and node types BTO:0000000, BTO:0000042, BTO:0000142, BTO:0000227, BTO:0000231 and other 177), and containing 9 nodes, with a maximal depth of 2, which are 9606.ENSP00000302199 (node types CL:36843, CL:36921, CL:36922, CL:36924, CL:36926 and other 62), 9606.ENSP00000312403 (node types CL:38353, CL:38354, CL:38548, CL:38576, GO:0003008 and other 59), 9606.ENSP00000323853 (node types CL:29729, CL:29730, CL:29840, GO:0003008, GO:0004888 and other 59), 9606.ENSP00000329982 (node types CL:36843, CL:36921, CL:36922, CL:36924, CL:36926 and other 58) and 9606.ENSP00000330904 (node types CL:7850, CL:7904, DOID:0050117, DOID:4, DOID:934 and other 60). Its nodes have 84 node types, of which the 10 most common are GO:0004930 (9 nodes, 0.05%), GO:0009987 (9 nodes, 0.05%), GO:0023052 (9 nodes, 0.05%), GO:0031224 (9 nodes, 0.05%), GO:0050877 (9 nodes, 0.05%), GO:0050896 (9 nodes, 0.05%), GOCC:0016020 (9 nodes, 0.05%), GO:0005886 (9 nodes, 0.05%), GO:0051716 (9 nodes, 0.05%) and GO:0051606 (9 nodes, 0.05%).</p></li>\n",
       "<li><p class=\"paragraph\">Dendritic tendril star starting from the root node 9606.ENSP00000310275 (degree 58 and node types BTO:0000000, BTO:0000042, BTO:0000081, BTO:0000083, BTO:0000142 and other 161), and containing 5 nodes, with a maximal depth of 4, which are 9606.ENSP00000356121 (node types BTO:0000000, BTO:0000042, BTO:0000080, BTO:0000081, BTO:0000082 and other 27), 9606.ENSP00000360320 (node types CL:32190, CL:32191, CL:32213, IPR033557, KW-0025 and another one), 9606.ENSP00000351727 (node types CL:32190, CL:32191, CL:32213, DOID:0050155, DOID:0060388 and other 12), 9606.ENSP00000355840 (node types CL:32190, CL:32191, CL:32213, DOID:0050177, DOID:0050736 and other 16) and 9606.ENSP00000340887 (node types CL:32190, CL:32191, CL:32213 and PF15730). Its nodes have 62 node types, of which the 10 most common are CL:32191 (4 nodes, 0.02%), CL:32213 (4 nodes, 0.02%), KW-0621 (4 nodes, 0.02%), CL:32190 (4 nodes, 0.02%), KW-0025 (2 nodes, 0.01%), DOID:863 (2 nodes, 0.01%), DOID:7 (2 nodes, 0.01%), DOID:630 (2 nodes, 0.01%), KW-0175 (2 nodes, 0.01%) and DOID:4 (2 nodes, 0.01%).</p></li>\n",
       "<li><p class=\"paragraph\">Dendritic tendril star starting from the root node 9606.ENSP00000363382 (degree 4 and node types BTO:0000000, BTO:0000042, CL:34075, CL:34076, CL:34077 and other 38), and containing 4 nodes, with a maximal depth of 3, which are 9606.ENSP00000332663 (node types CL:37293, CL:37294, CL:37295, CL:37296, CL:37334 and other 6), 9606.ENSP00000363894 (node types BTO:0000000, BTO:0000042, CL:34075, CL:34076, CL:34077 and other 16), 9606.ENSP00000448580 (node types BTO:0000000, BTO:0000042, CL:34075, CL:34076, CL:34077 and other 102) and 9606.ENSP00000363899 (node types BTO:0000000, BTO:0000042, BTO:0000142, BTO:0000227, BTO:0000282 and other 31). Its nodes have 137 node types, of which the 10 most common are CL:34076 (3 nodes, 0.02%), GO:0043227 (3 nodes, 0.02%), CL:34075 (3 nodes, 0.02%), CL:34239 (3 nodes, 0.02%), BTO:0000042 (3 nodes, 0.02%), CL:34229 (3 nodes, 0.02%), BTO:0000000 (3 nodes, 0.02%), CL:34077 (3 nodes, 0.02%), GO:0043229 (3 nodes, 0.02%) and GO:0043226 (3 nodes, 0.02%).</p></li>\n",
       "<li><p class=\"paragraph\">Dendritic tendril star starting from the root node 9606.ENSP00000216862 (degree 24 and node types CL:20082, DOID:0014667, DOID:0050032, DOID:0060158, DOID:10575 and other 181), and containing 3 nodes, with a maximal depth of 2, which are 9606.ENSP00000309649 (node types BTO:0000000, BTO:0000042, BTO:0000081, BTO:0000083, BTO:0000174 and other 74), 9606.ENSP00000318912 (node types BTO:0000000, BTO:0000042, BTO:0000282, BTO:0001090, BTO:0001489 and other 46) and 9606.ENSP00000242315 (node types BTO:0000000, BTO:0000042, BTO:0000142, BTO:0000227, BTO:0000231 and other 63). Its nodes have 141 node types, of which the 10 most common are GO:0043169 (3 nodes, 0.02%), GO:0046872 (3 nodes, 0.02%), KW-0862 (3 nodes, 0.02%), KW-0479 (3 nodes, 0.02%), BTO:0000042 (3 nodes, 0.02%), BTO:0000000 (3 nodes, 0.02%), GO:0043167 (3 nodes, 0.02%), GO:0005488 (3 nodes, 0.02%), GO:0009987 (3 nodes, 0.02%) and BTO:0001489 (3 nodes, 0.02%).</p></li>\n",
       "<li><p class=\"paragraph\">Dendritic tendril star starting from the root node 9606.ENSP00000276590 (degree 10 and node types BTO:0000000, BTO:0000042, BTO:0000081, BTO:0000083, BTO:0000142 and other 86), and containing 3 nodes, with a maximal depth of 2, which are 9606.ENSP00000262288 (node types BTO:0000000, BTO:0000042, BTO:0000081, BTO:0000083, BTO:0000088 and other 100), 9606.ENSP00000271375 (node types CL:35929, CL:35931, GO:0005576, GO:0005615, GO:0006810 and other 48) and 9606.ENSP00000348033 (node types CL:35929, CL:35931, GO:0003008, GO:0004888, GO:0004930 and other 66). Its nodes have 195 node types, of which the 10 most common are GO:0043230 (3 nodes, 0.02%), GO:0043227 (3 nodes, 0.02%), GO:0005576 (3 nodes, 0.02%), GO:0009987 (3 nodes, 0.02%), GO:0110165 (3 nodes, 0.02%), GO:0031982 (3 nodes, 0.02%), GO:0043226 (3 nodes, 0.02%), GO:0005615 (3 nodes, 0.02%), GO:0070062 (3 nodes, 0.02%) and GO:1903561 (3 nodes, 0.02%).</p></li>\n",
       "<li><p class=\"paragraph\">Dendritic tendril star starting from the root node 9606.ENSP00000283946 (degree 10 and node types CL:6626, CL:6916, CL:6917, CL:6918, IPR001810 and other 7), and containing 3 nodes, with a maximal depth of 2, which are 9606.ENSP00000359819 (node types BTO:0000000, BTO:0000042, CL:9768, CL:9769, CL:9833 and other 88), 9606.ENSP00000377577 (node types BTO:0000000, BTO:0000042, CL:6626, CL:6916, CL:6917 and other 51) and 9606.ENSP00000229002 (node types BTO:0000000, BTO:0000042, CL:9768, CL:9769, CL:9833 and other 58). Its nodes have 191 node types, of which the 10 most common are GO:0009987 (3 nodes, 0.02%), BTO:0000000 (3 nodes, 0.02%), BTO:0000042 (3 nodes, 0.02%), KW-0621 (3 nodes, 0.02%), GO:0110165 (3 nodes, 0.02%), GO:0043226 (2 nodes, 0.01%), GO:0050789 (2 nodes, 0.01%), CL:9769 (2 nodes, 0.01%), GO:0016020 (2 nodes, 0.01%) and GO:0043229 (2 nodes, 0.01%).</p></li></ol><p class=\"paragraph\">And other 7 dendritic tendril stars.</p><h4 style=\"margin: 1em 0 0 0;\">Tendrils</h4><p class=\"paragraph\">A tendril is a path starting from a node of degree one, connected to a strongly connected component. We have detected 995 tendrils in the graph, involving a total of 1.08K nodes (5.52%) and 1.08K edges (0.21%), with the largest one involving 4 nodes and 4 edges. The detected tendrils, sorted by decreasing size, are:</p><ol class=\"large-columns\"><li><p class=\"paragraph\">Tendril starting from the root node 9606.ENSP00000374014 (degree 7 and node types CL:29064, CL:29065, CL:29066, CL:29067, CL:29129 and other 69), and containing 4 nodes, with a maximal depth of 4, which are 9606.ENSP00000291481 (node types CL:29064, CL:29065, CL:29066, CL:29067, CL:29129 and other 54), 9606.ENSP00000317000 (node types BTO:0000000, BTO:0000042, CL:29064, CL:29065, CL:29066 and other 47), 9606.ENSP00000394178 (node types BTO:0000000, BTO:0000042, BTO:0000088, BTO:0000562, BTO:0001489 and other 19) and 9606.ENSP00000296862 (node types CL:32521, CL:32522, CL:32523, CL:32591, GO:0004888 and other 33). Its nodes have 134 node types, of which the 10 most common are GO:0110165 (4 nodes, 0.02%), KW-1133 (3 nodes, 0.02%), CL:29065 (3 nodes, 0.02%), KW-0025 (3 nodes, 0.02%), CL:29067 (3 nodes, 0.02%), CL:29066 (3 nodes, 0.02%), CL:29129 (3 nodes, 0.02%), KW-0325 (3 nodes, 0.02%), KW-0472 (3 nodes, 0.02%) and GO:0031224 (3 nodes, 0.02%).</p></li>\n",
       "<li><p class=\"paragraph\">Tendril starting from the root node 9606.ENSP00000371512 (degree 13 and node types BTO:0000000, BTO:0000042, BTO:0000887, BTO:0001103, BTO:0001369 and other 89), and containing 3 nodes, with a maximal depth of 3, which are 9606.ENSP00000310182 (node types BTO:0000000, BTO:0000042, CL:33130, CL:33332, CL:33384 and other 19), 9606.ENSP00000344331 (node types CL:33130, CL:33332, CL:33384, CL:33404, DOID:0014667 and other 32) and 9606.ENSP00000386389 (node types CL:33130, CL:33332, CL:33384, CL:33404, IPR000210 and other 15). Its nodes have 63 node types, of which the 10 most common are CL:33404 (3 nodes, 0.02%), CL:33130 (3 nodes, 0.02%), CL:33332 (3 nodes, 0.02%), CL:33384 (3 nodes, 0.02%), GO:0012505 (2 nodes, 0.01%), GO:0043227 (2 nodes, 0.01%), KW-1133 (2 nodes, 0.01%), GO:0016021 (2 nodes, 0.01%), GO:0031224 (2 nodes, 0.01%) and GO:0016020 (2 nodes, 0.01%).</p></li>\n",
       "<li><p class=\"paragraph\">Tendril starting from the root node 9606.ENSP00000264554 (degree 44 and node types BTO:0000000, BTO:0000042, CL:15701, CL:15702, CL:15840 and other 142), and containing 3 nodes, with a maximal depth of 3, which are 9606.ENSP00000344465 (node types BTO:0000000, BTO:0000042, BTO:0000089, BTO:0000131, BTO:0000132 and other 76), 9606.ENSP00000336661 (node types CL:37293, CL:37294, CL:37295, CL:37296, CL:37297 and other 9) and 9606.ENSP00000430271 (node types BTO:0000000, BTO:0000042, BTO:0000142, BTO:0000227, BTO:0000231 and other 85). Its nodes have 162 node types, of which the 10 most common are CL:37295 (3 nodes, 0.02%), KW-0621 (3 nodes, 0.02%), CL:37298 (3 nodes, 0.02%), CL:37297 (3 nodes, 0.02%), CL:37293 (3 nodes, 0.02%), CL:37296 (3 nodes, 0.02%), CL:37294 (3 nodes, 0.02%), GO:0050789 (2 nodes, 0.01%), GO:0050794 (2 nodes, 0.01%) and GO:0065007 (2 nodes, 0.01%).</p></li>\n",
       "<li><p class=\"paragraph\">Tendril starting from the root node 9606.ENSP00000302578 (degree 4 and node types BTO:0000000, CL:32361, CL:32432, GO:0005622, GO:0005737 and other 9), and containing 3 nodes, with a maximal depth of 3, which are 9606.ENSP00000264735 (node types CL:32361, CL:32432, GO:0003824, GO:0004620, GO:0004623 and other 91), 9606.ENSP00000295092 (node types BTO:0000000, BTO:0000042, BTO:0000142, BTO:0000227, BTO:0000282 and other 27) and 9606.ENSP00000370724 (node types BTO:0000000, BTO:0000042, BTO:0000142, BTO:0000227, BTO:0000282 and other 44). Its nodes have 152 node types, of which the 10 most common are GO:0005622 (3 nodes, 0.02%), GO:0110165 (3 nodes, 0.02%), GO:0009987 (3 nodes, 0.02%), GO:0005737 (2 nodes, 0.01%), CL:26754 (2 nodes, 0.01%), BTO:0001489 (2 nodes, 0.01%), BTO:0001484 (2 nodes, 0.01%), BTO:0000282 (2 nodes, 0.01%), CL:26738 (2 nodes, 0.01%) and CL:26740 (2 nodes, 0.01%).</p></li>\n",
       "<li><p class=\"paragraph\">Tendril starting from the root node 9606.ENSP00000302843 (degree 6 and node types BTO:0000000, BTO:0000042, CL:3010, CL:3150, GO:0005488 and other 72), and containing 3 nodes, with a maximal depth of 3, which are 9606.ENSP00000414920 (node types CL:3010, CL:3150, GO:0000003, GO:0003006, GO:0003676 and other 49), 9606.ENSP00000206020 (node types BTO:0000000, BTO:0000042, BTO:0000081, BTO:0000083, BTO:0001489 and other 32) and 9606.ENSP00000317289 (node types BTO:0000000, BTO:0000042, BTO:0000081, BTO:0000082, BTO:0000083 and other 80). Its nodes have 142 node types, of which the 10 most common are GO:0043226 (3 nodes, 0.02%), GO:0043231 (3 nodes, 0.02%), KW-0539 (3 nodes, 0.02%), GO:0043229 (3 nodes, 0.02%), GO:0043227 (3 nodes, 0.02%), GO:0005634 (3 nodes, 0.02%), GO:0110165 (3 nodes, 0.02%), GO:0005488 (3 nodes, 0.02%), GO:0005622 (3 nodes, 0.02%) and GO:0009987 (2 nodes, 0.01%).</p></li>\n",
       "<li><p class=\"paragraph\">Tendril starting from the root node 9606.ENSP00000307636 (degree 6 and node types BTO:0000000, BTO:0000042, BTO:0000081, BTO:0000083, BTO:0000142 and other 68), and containing 3 nodes, with a maximal depth of 3, which are 9606.ENSP00000386563 (node types BTO:0000250, BTO:0000372, BTO:0001207, BTO:0001801, CL:31801 and other 43), 9606.ENSP00000367792 (node types CL:31801, CL:32073, CL:32074, CL:32127, GOCC:0005622 and other 28) and 9606.ENSP00000411253 (node types BTO:0000000, BTO:0000042, BTO:0000081, BTO:0000083, BTO:0001489 and other 75). Its nodes have 134 node types, of which the 10 most common are KW-0621 (3 nodes, 0.02%), CL:31801 (2 nodes, 0.01%), GOCC:0043226 (2 nodes, 0.01%), KW-0677 (2 nodes, 0.01%), GO:0009987 (2 nodes, 0.01%), GOCC:0043228 (2 nodes, 0.01%), IPR003409 (2 nodes, 0.01%), GO:0043229 (2 nodes, 0.01%), GOCC:0043232 (2 nodes, 0.01%) and KW-0025 (2 nodes, 0.01%).</p></li></ol><p class=\"paragraph\">And other 989 tendrils.</p></div>"
      ],
      "text/plain": [
       "<div class=\"graph-report\"><style>.graph-report li {margin: 0.5em 0 0.5em 0;}.graph-report .paragraph {text-align: justify;word-break: break-all;}.graph-report .small-columns {column-count: 4;column-gap: 2em;}.graph-report .medium-columns {column-count: 3;column-gap: 2em;}.graph-report .large-columns {column-count: 2;column-gap: 2em;}.graph-report .single-column {}@media only screen and (max-width: 600px) {.graph-report .small-columns {column-count: 1;}.graph-report .medium-columns {column-count: 1;}.graph-report .large-columns {column-count: 1;}}@media only screen and (min-width: 600px) and (max-width: 800px) {.graph-report .small-columns {column-count: 2;}.graph-report .medium-columns {column-count: 1;}.graph-report .large-columns {column-count: 1;}}@media only screen and (min-width: 800px) and (max-width: 1024px) {.graph-report .small-columns {column-count: 3;}.graph-report .medium-columns {column-count: 2;}.graph-report .large-columns {column-count: 1;}}</style><h2>HomoSapiens</h2><p class=\"paragraph\">The undirected graph HomoSapiens has 19.57K heterogeneous nodes and 252.98K edges. The graph contains 2.85K connected components (of which 2.75K are disconnected nodes), with the largest one containing 16.58K nodes and the smallest one containing a single node. The RAM requirements for the nodes and edges data structures are 2.67MB and 782.89KB respectively.</p><h3 style=\"margin: 1em 0 0 0;\">Degree centrality</h3><p class=\"paragraph\">The minimum node degree is 0, the maximum node degree is 747, the mode degree is 0, the mean degree is 25.86 and the node degree median is 9.</p><p class=\"paragraph\">The nodes with the highest degree centrality are 9606.ENSP00000272317 (degree 747 and node types BTO:0000000, BTO:0000042, BTO:0000058, BTO:0000080, BTO:0000081 and other 907), 9606.ENSP00000269305 (degree 723 and node types BTO:0000000, BTO:0000003, BTO:0000018, BTO:0000042, BTO:0000058 and other 1.35K), 9606.ENSP00000388107 (degree 669 and node types BTO:0000000, BTO:0000042, BTO:0000047, BTO:0000080, BTO:0000081 and other 884), 9606.ENSP00000441543 (degree 620 and node types BTO:0000000, BTO:0000020, BTO:0000042, BTO:0000058, BTO:0000080 and other 869) and 9606.ENSP00000362680 (degree 572 and node types BTO:0000000, BTO:0000042, BTO:0000089, BTO:0000131, BTO:0000132 and other 1.17K).</p><h3 style=\"margin: 1em 0 0 0;\">Node types</h3><p class=\"paragraph\">The graph has 62.23K node types, of which the 10 most common are GO:0110165 (17.79K nodes, 90.91%), GO:0009987 (15.02K nodes, 76.79%), BTO:0000000 (14.94K nodes, 76.37%), BTO:0000042 (14.89K nodes, 76.13%), GO:0005622 (14.28K nodes, 72.96%), GOCC:0110165 (13.85K nodes, 70.80%), GO:0043226 (13.52K nodes, 69.07%), BTO:0001489 (12.62K nodes, 64.49%), GO:0043229 (12.53K nodes, 64.03%) and GO:0005488 (12.52K nodes, 63.97%). The node types are multi-label, and the node with most node types has 1379 node types. The RAM requirement for the node types data structure is 19.13MB.</p><h4 style=\"margin: 1em 0 0 0;\">Approximated isomorphic node types</h4><p class=\"paragraph\">Approximated isomorphic node types groups are node types describing exactly the same set of nodes. Since the graph has a high number of node types (> 50.00K) we use an approximated version of the node types isomorphisms detection. Note that hash collisions and false positives are possible. It is possible to execute the exact computation with the <code>get_isomorphic_node_type_ids_groups</code> method. The presence of such duplicated node types suggests a potential modelling error in the pipeline that has produced this graph. 9.34K isomorphic node types groups were detected in this graph.</p><ol><li><p class=\"paragraph\">Isomorphic node type group containing 3 node types (5.86K nodes, 29.93%), which are: GO:0031974, GO:0043233 and GO:0070013.</p></li>\n",
       "<li><p class=\"paragraph\">Isomorphic node type group containing 2 node types (3.06K nodes, 15.65%), which are: GO:0006464 and GO:0036211.</p></li>\n",
       "<li><p class=\"paragraph\">Isomorphic node type group containing 2 node types (2.82K nodes, 14.39%), which are: GOCC:0031974 and GOCC:0043233.</p></li>\n",
       "<li><p class=\"paragraph\">Isomorphic node type group containing 2 node types (1.45K nodes, 7.43%), which are: GO:0038023 and GO:0060089.</p></li>\n",
       "<li><p class=\"paragraph\">Isomorphic node type group containing 2 node types (1.21K nodes, 6.20%), which are: GO:0031967 and GO:0031975.</p></li>\n",
       "<li><p class=\"paragraph\">Isomorphic node type group containing 2 node types (1.16K nodes, 5.95%), which are: GO:0010562 and GO:0045937.</p></li>\n",
       "<li><p class=\"paragraph\">Isomorphic node type group containing 2 node types (1.02K nodes, 5.20%), which are: GO:0048870 and GO:0051674.</p></li>\n",
       "<li><p class=\"paragraph\">Isomorphic node type group containing 2 node types (814 nodes, 4.16%), which are: GO:0016817 and GO:0016818.</p></li>\n",
       "<li><p class=\"paragraph\">Isomorphic node type group containing 2 node types (698 nodes, 3.57%), which are: GO:0000323 and GO:0005764.</p></li>\n",
       "<li><p class=\"paragraph\">Isomorphic node type group containing 2 node types (648 nodes, 3.31%), which are: BTO:0000775 and BTO:0001096.</p></li></ol><p class=\"paragraph\">And other 9.33K isomorphic node types.</p><h4 style=\"margin: 1em 0 0 0;\">Singleton node types</h4><p class=\"paragraph\">Singleton node types are node types that are assigned exclusively to a single node, making the node type relatively meaningless, as it adds no more information than the node name itself. The graph contains 16.85K singleton node types, which are IPR028927 (9606.ENSP00000000412 (degree 36 and node types BTO:0000000, BTO:0000042, BTO:0000080, BTO:0000081, BTO:0000082 and other 188)), GO:0006463 (9606.ENSP00000001008 (degree 62 and node types BTO:0000000, BTO:0000042, BTO:0000081, BTO:0000083, BTO:0000089 and other 332)), IPR031212 (9606.ENSP00000001008 (degree 62 and node types BTO:0000000, BTO:0000042, BTO:0000081, BTO:0000083, BTO:0000089 and other 332)), IPR003788 (9606.ENSP00000002125 (degree 33 and node types BTO:0000000, BTO:0000042, BTO:0000081, BTO:0000083, BTO:0000176 and other 115)), IPR038375 (9606.ENSP00000002125 (degree 33 and node types BTO:0000000, BTO:0000042, BTO:0000081, BTO:0000083, BTO:0000176 and other 115)), PF02636 (9606.ENSP00000002125 (degree 33 and node types BTO:0000000, BTO:0000042, BTO:0000081, BTO:0000083, BTO:0000176 and other 115)), BTO:0001193 (9606.ENSP00000003084 (degree 177 and node types BTO:0000000, BTO:0000003, BTO:0000042, BTO:0000081, BTO:0000082 and other 558)), BTO:0002032 (9606.ENSP00000003084 (degree 177 and node types BTO:0000000, BTO:0000003, BTO:0000042, BTO:0000081, BTO:0000082 and other 558)), BTO:0002750 (9606.ENSP00000003084 (degree 177 and node types BTO:0000000, BTO:0000003, BTO:0000042, BTO:0000081, BTO:0000082 and other 558)) and BTO:0004445 (9606.ENSP00000003084 (degree 177 and node types BTO:0000000, BTO:0000003, BTO:0000042, BTO:0000081, BTO:0000082 and other 558)), plus other 16.84K singleton node types.</p><h4 style=\"margin: 1em 0 0 0;\">Unknown node types</h4><p class=\"paragraph\">Nodes with unknown node types are nodes with a node type that was not provided during the creation of the graph, which may be desired as the output of a node-label holdout. The graph contains 159 nodes with unknown node type, which are 9606.ENSP00000239125, 9606.ENSP00000278779, 9606.ENSP00000303234, 9606.ENSP00000326574, 9606.ENSP00000362001, 9606.ENSP00000365108, 9606.ENSP00000366765, 9606.ENSP00000367360, 9606.ENSP00000367983 and 9606.ENSP00000368055, plus other 149 nodes with unknown node types, making up 0.81 of the nodes.</p><h3 style=\"margin: 1em 0 0 0;\">Topological Oddities</h3><p class=\"paragraph\">A topological oddity is a set of nodes in the graph that <i>may be derived</i> by an error during the generation of the edge list of the graph and, depending on the task, could bias the results of topology-based models. In the following paragraph, we will describe the detected topological oddities.</p><h4 style=\"margin: 1em 0 0 0;\">Singleton nodes</h4><p class=\"paragraph\">A singleton node is a node disconnected from all other nodes. We have detected 2.75K singleton nodes in the graph, involving a total of 2.75K nodes (14.07%). The detected singleton nodes are:</p><ul class=\"small-columns\"><li><p class=\"paragraph\">9606.ENSP00000005995 (node types BTO:0000000, BTO:0000042, BTO:0000089, BTO:0000399, BTO:0000539 and other 74)</p></li>\n",
       "<li><p class=\"paragraph\">9606.ENSP00000006526 (node types BTO:0000000, BTO:0000042, BTO:0000142, BTO:0000227, BTO:0000282 and other 67)</p></li>\n",
       "<li><p class=\"paragraph\">9606.ENSP00000006724 (node types BTO:0000000, BTO:0000042, BTO:0000058, BTO:0000269, BTO:0000271 and other 55)</p></li>\n",
       "<li><p class=\"paragraph\">9606.ENSP00000007735 (node types BTO:0000000, BTO:0000042, BTO:0000282, BTO:0000634, BTO:0001253 and other 61)</p></li>\n",
       "<li><p class=\"paragraph\">9606.ENSP00000010299 (node types BTO:0000000, BTO:0000042, BTO:0000058, BTO:0000959, BTO:0001489 and other 35)</p></li>\n",
       "<li><p class=\"paragraph\">9606.ENSP00000039989 (node types BTO:0000000, BTO:0000042, BTO:0000080, BTO:0000081, BTO:0000082 and other 76)</p></li>\n",
       "<li><p class=\"paragraph\">9606.ENSP00000064571 (node types BTO:0000000, BTO:0000042, CL:22867, CL:22979, GO:0002790 and other 56)</p></li>\n",
       "<li><p class=\"paragraph\">9606.ENSP00000084798 (node types BTO:0000000, BTO:0000042, BTO:0000142, BTO:0000227, BTO:0000282 and other 40)</p></li>\n",
       "<li><p class=\"paragraph\">9606.ENSP00000086933 (node types BTO:0000101, BTO:0000255, BTO:0000690, BTO:0001530, BTO:0005949 and other 66)</p></li>\n",
       "<li><p class=\"paragraph\">9606.ENSP00000158009 (node types CL:38353, CL:38354, CL:38355, CL:38356, CL:38488 and other 15)</p></li>\n",
       "<li><p class=\"paragraph\">9606.ENSP00000159087 (node types CL:28165, CL:28166, CL:28309, CL:28310, GO:0005215 and other 83)</p></li>\n",
       "<li><p class=\"paragraph\">9606.ENSP00000161006 (node types BTO:0000000, BTO:0000042, BTO:0000578, BTO:0005056, CL:35018 and other 39)</p></li>\n",
       "<li><p class=\"paragraph\">9606.ENSP00000162391 (node types BTO:0000000, BTO:0000042, BTO:0000174, BTO:0000284, BTO:0000379 and other 143)</p></li>\n",
       "<li><p class=\"paragraph\">9606.ENSP00000164640 (node types BTO:0000000, BTO:0000042, BTO:0000142, BTO:0000227, BTO:0000282 and other 21)</p></li>\n",
       "<li><p class=\"paragraph\">9606.ENSP00000190165 (node types BTO:0000000, BTO:0000042, BTO:0000081, BTO:0000083, BTO:0000254 and other 142)</p></li></ul><p class=\"paragraph\">And other 2.74K singleton nodes.</p><h4 style=\"margin: 1em 0 0 0;\">Node tuples</h4><p class=\"paragraph\">A node tuple is a connected component composed of two nodes. We have detected 77 node tuples in the graph, involving a total of 154 nodes (0.79%) and 77 edges (0.02%). The detected node tuples are:</p><ul class=\"medium-columns\"><li><p class=\"paragraph\">Node tuple containing the nodes 9606.ENSP00000484403 (node types BTO:0000000, BTO:0000042, BTO:0000080, BTO:0000081, BTO:0000082 and other 84) and 9606.ENSP00000484443 (node types BTO:0000000, BTO:0000042, CL:36843, CL:36844, CL:36890 and other 131).</p></li>\n",
       "<li><p class=\"paragraph\">Node tuple containing the nodes 9606.ENSP00000480336 (node types CL:38353, CL:38354, CL:38548, CL:38576, CL:38577 and other 41) and 9606.ENSP00000485424 (node types CL:38353, CL:38354, CL:38548, CL:38576, CL:38577 and other 68).</p></li>\n",
       "<li><p class=\"paragraph\">Node tuple containing the nodes 9606.ENSP00000454340 (node types CL:31264, CL:31299 and IPR007248) and 9606.ENSP00000485142 (node types CL:31264 and CL:31299).</p></li>\n",
       "<li><p class=\"paragraph\">Node tuple containing the nodes 9606.ENSP00000448841 (node types CL:7242, CL:7243, CL:7244, CL:7245, CL:7246 and other 17) and 9606.ENSP00000481258 (node types CL:7242, CL:7243, CL:7244, CL:7245, CL:7246 and other 59).</p></li>\n",
       "<li><p class=\"paragraph\">Node tuple containing the nodes 9606.ENSP00000436580 (node types CL:36974, CL:36975, CL:36976, CL:36977, IPR018903 and another one) and 9606.ENSP00000436891 (node types CL:36974, CL:36975, CL:36976, CL:36977 and PF10630).</p></li>\n",
       "<li><p class=\"paragraph\">Node tuple containing the nodes 9606.ENSP00000436042 (node types CL:35528, CL:35529, CL:35623, CL:35624, CL:35625 and other 41) and 9606.ENSP00000436426 (node types CL:35528, CL:35529, CL:35623, CL:35624, CL:35625 and other 57).</p></li>\n",
       "<li><p class=\"paragraph\">Node tuple containing the nodes 9606.ENSP00000435550 (node types BTO:0000000, BTO:0000042, BTO:0000080, BTO:0000081, BTO:0000082 and other 23) and 9606.ENSP00000441497 (node types CL:26899, CL:27055, CL:27057, DOID:0050686, DOID:0050687 and other 71).</p></li>\n",
       "<li><p class=\"paragraph\">Node tuple containing the nodes 9606.ENSP00000430100 (node types BTO:0000000, BTO:0000042, BTO:0000203, BTO:0001388, BTO:0001489 and other 126) and 9606.ENSP00000454770 (node types CL:37293, CL:37294, CL:37295, CL:37296, CL:37297 and other 13).</p></li>\n",
       "<li><p class=\"paragraph\">Node tuple containing the nodes 9606.ENSP00000429808 (node types CL:35528, CL:35529, CL:35623, CL:35624, CL:35625 and other 47) and 9606.ENSP00000433378 (node types CL:35528, CL:35529, CL:35623, CL:35624, CL:35625 and other 49).</p></li>\n",
       "<li><p class=\"paragraph\">Node tuple containing the nodes 9606.ENSP00000419502 (node types BTO:0000000, BTO:0000042, BTO:0000058, BTO:0000081, BTO:0000083 and other 27) and 9606.ENSP00000483005 (node types BTO:0000000, BTO:0000042, CL:28511, CL:28512, CL:28513 and other 143).</p></li>\n",
       "<li><p class=\"paragraph\">Node tuple containing the nodes 9606.ENSP00000406723 (node types BTO:0000000, BTO:0000042, CL:34804, CL:34805, CL:34806 and other 54) and 9606.ENSP00000480524 (node types CL:34804, CL:34805, CL:34806, CL:34807, CL:34808 and other 48).</p></li>\n",
       "<li><p class=\"paragraph\">Node tuple containing the nodes 9606.ENSP00000399664 (node types CL:25282, CL:25358, CL:25376, GO:0003676, GO:0003677 and other 90) and 9606.ENSP00000472698 (node types CL:25282, CL:25358, CL:25376, IPR002706, IPR008979 and another one).</p></li>\n",
       "<li><p class=\"paragraph\">Node tuple containing the nodes 9606.ENSP00000391594 (node types CL:29285, CL:29383, CL:29384, CL:29398, GO:0019012 and other 9) and 9606.ENSP00000460602 (node types CL:29285, CL:29383, CL:29384, CL:29398, DOID:0060262 and other 18).</p></li>\n",
       "<li><p class=\"paragraph\">Node tuple containing the nodes 9606.ENSP00000388864 (node types BTO:0000000, BTO:0000042, BTO:0000088, BTO:0000290, BTO:0000393 and other 76) and 9606.ENSP00000396732 (node types CL:32704, CL:32705, CL:32706, CL:32766, CL:32767 and other 132).</p></li>\n",
       "<li><p class=\"paragraph\">Node tuple containing the nodes 9606.ENSP00000384214 (node types CL:30792, CL:30793, CL:30794, CL:30795, CL:30796 and another one) and 9606.ENSP00000397103 (node types CL:30792, CL:30793, CL:30794, CL:30795, CL:30796 and other 2).</p></li></ul><p class=\"paragraph\">And other 62 node tuples.</p><h4 style=\"margin: 1em 0 0 0;\">Isomorphic node groups</h4><p class=\"paragraph\">Isomorphic groups are nodes with exactly the same neighbours and node types (if present in the graph). Nodes in such groups are topologically indistinguishable, that is swapping their ID would not change the graph topology. We have detected 21 isomorphic node groups in the graph, involving a total of 46 nodes (0.24%) and 558 edges (0.11%), with the largest one involving 5 nodes and 95 edges. The detected isomorphic node groups, sorted by decreasing size, are:</p><ol class=\"medium-columns\"><li><p class=\"paragraph\">Group with 5 nodes (degree 19 and node types BTO:0000000, BTO:0000042, BTO:0000142, BTO:0000227, BTO:0000282 and other 89): 9606.ENSP00000380488, 9606.ENSP00000423313, 9606.ENSP00000227756, 9606.ENSP00000344260 and 9606.ENSP00000297107.</p></li>\n",
       "<li><p class=\"paragraph\">Group with 2 nodes (degree 29 and node types CL:10686, CL:10687, CL:10688, CL:10689, CL:10690 and other 148): 9606.ENSP00000391692 and 9606.ENSP00000391869.</p></li>\n",
       "<li><p class=\"paragraph\">Group with 2 nodes (degree 21 and node types CL:27348, CL:27350, CL:27351, CL:27352, CL:27353 and other 101): 9606.ENSP00000436604 and 9606.ENSP00000444171.</p></li>\n",
       "<li><p class=\"paragraph\">Group with 2 nodes (degree 18 and node types BTO:0000000, BTO:0000042, CL:28511, CL:28512, CL:28513 and other 100): 9606.ENSP00000384876 and 9606.ENSP00000373278.</p></li>\n",
       "<li><p class=\"paragraph\">Group with 2 nodes (degree 18 and node types CL:31041, CL:31042, CL:31192, CL:31222, CL:31224 and other 62): 9606.ENSP00000347119 and 9606.ENSP00000354723.</p></li>\n",
       "<li><p class=\"paragraph\">Group with 3 nodes (degree 11 and node types CL:17996, CL:17997, GO:0001775, GO:0001932, GO:0001934 and other 152): 9606.ENSP00000369564, 9606.ENSP00000369566 and 9606.ENSP00000239347.</p></li>\n",
       "<li><p class=\"paragraph\">Group with 2 nodes (degree 15 and node types CL:27654, CL:27656, CL:27657, CL:27658, CL:27660 and other 67): 9606.ENSP00000416741 and 9606.ENSP00000264363.</p></li>\n",
       "<li><p class=\"paragraph\">Group with 2 nodes (degree 15 and node types BTO:0000000, BTO:0000042, CL:31315, CL:31513, CL:31630 and other 79): 9606.ENSP00000400157 and 9606.ENSP00000312700.</p></li>\n",
       "<li><p class=\"paragraph\">Group with 2 nodes (degree 15 and node types BTO:0000000, BTO:0000042, BTO:0000345, BTO:0000522, BTO:0000759 and other 105): 9606.ENSP00000261196 and 9606.ENSP00000441269.</p></li>\n",
       "<li><p class=\"paragraph\">Group with 2 nodes (degree 12 and node types CL:36974, CL:36975, CL:36976, CL:36977, CL:36979 and other 29): 9606.ENSP00000334681 and 9606.ENSP00000347810.</p></li>\n",
       "<li><p class=\"paragraph\">Group with 2 nodes (degree 10 and node types BTO:0000000, BTO:0000042, BTO:0000081, BTO:0000082, BTO:0000408 and other 34): 9606.ENSP00000335281 and 9606.ENSP00000334330.</p></li>\n",
       "<li><p class=\"paragraph\">Group with 2 nodes (degree 10 and node types BTO:0000000, BTO:0000042, BTO:0000081, BTO:0000082, BTO:0000408 and other 85): 9606.ENSP00000335307 and 9606.ENSP00000334364.</p></li>\n",
       "<li><p class=\"paragraph\">Group with 2 nodes (degree 9 and node type CL:4123): 9606.ENSP00000449334 and 9606.ENSP00000449223.</p></li>\n",
       "<li><p class=\"paragraph\">Group with 2 nodes (degree 7 and node types BTO:0000000, BTO:0000042, BTO:0000404, BTO:0000416, BTO:0000435 and other 102): 9606.ENSP00000259205 and 9606.ENSP00000259211.</p></li>\n",
       "<li><p class=\"paragraph\">Group with 2 nodes (degree 6 and node types BTO:0000000, BTO:0000042, CL:8459, CL:8460, CL:8461 and other 42): 9606.ENSP00000376955 and 9606.ENSP00000275884.</p></li></ol><p class=\"paragraph\">And other 6 isomorphic node groups.</p><h4 style=\"margin: 1em 0 0 0;\">Trees</h4><p class=\"paragraph\">A tree is a connected component with <code>n</code> nodes and <code>n-1</code> edges. We have detected 2 trees in the graph, involving a total of 14 nodes (0.07%) and 12 edges, with the largest one involving 9 nodes and 8 edges. The detected trees, sorted by decreasing size, are:</p><ol class=\"large-columns\"><li><p class=\"paragraph\">Tree starting from the root node 9606.ENSP00000385592 (degree 2 and node types CL:35089, CL:35243, CL:35244, CL:35245, GO:0016020 and other 11), and containing 9 nodes, with a maximal depth of 3, which are 9606.ENSP00000303028 (node types BTO:0000000, BTO:0000042, BTO:0000058, BTO:0000511, BTO:0000619 and other 68), 9606.ENSP00000384887 (degree 3 and node types BTO:0000000, BTO:0000042, CL:33472, CL:33598, CL:33670 and other 18), 9606.ENSP00000362386 (degree 3 and node types CL:35089, CL:35243, CL:35244, CL:35245, CL:35247 and other 14), 9606.ENSP00000379738 (node types CL:33472, CL:33598, CL:33670, CL:33671, CL:33673 and other 12) and 9606.ENSP00000481937 (node types CL:33472, CL:33598, CL:33670, CL:33671, CL:33673 and other 61). Its nodes have 208 node types, of which the 10 most common are GO:0110165 (6 nodes, 0.03%), KW-0621 (6 nodes, 0.03%), KW-0732 (5 nodes, 0.03%), KW-0812 (5 nodes, 0.03%), KW-1133 (5 nodes, 0.03%), GO:0031224 (5 nodes, 0.03%), KW-0325 (5 nodes, 0.03%), KW-0472 (5 nodes, 0.03%), GO:0016021 (5 nodes, 0.03%) and GO:0016020 (5 nodes, 0.03%).</p></li>\n",
       "<li><p class=\"paragraph\">Tree starting from the root node 9606.ENSP00000355045 (degree 2 and node types BTO:0000000, BTO:0000042, CL:26288, CL:26289, CL:26290 and other 98), and containing 5 nodes, with a maximal depth of 2, which are 9606.ENSP00000379434 (node types CL:26288, CL:26289, CL:26290, CL:26291, CL:26292 and other 21), 9606.ENSP00000381857 (node types CL:32704, CL:32854, CL:32855, CL:32856, CL:32857 and other 5), 9606.ENSP00000352314 (node types CL:32253, CL:32255, CL:32287, GO:0005622, GO:0005737 and other 58) and 9606.ENSP00000473941 (node types CL:32704, CL:32854, CL:32855, CL:32856, CL:32857 and other 19). Its nodes have 94 node types, of which the 10 most common are KW-0025 (3 nodes, 0.02%), KW-0677 (3 nodes, 0.02%), KW-0621 (3 nodes, 0.02%), CL:32857 (2 nodes, 0.01%), SM00875 (2 nodes, 0.01%), CL:32854 (2 nodes, 0.01%), CL:32859 (2 nodes, 0.01%), CL:32856 (2 nodes, 0.01%), CL:32704 (2 nodes, 0.01%) and IPR015915 (2 nodes, 0.01%).</p></li></ol><h4 style=\"margin: 1em 0 0 0;\">Dendritic trees</h4><p class=\"paragraph\">A dendritic tree is a tree-like structure starting from a root node that is part of another strongly connected component. We have detected 14 dendritic trees in the graph, involving a total of 61 nodes (0.31%) and 61 edges (0.01%), with the largest one involving 6 nodes and 6 edges. The detected dendritic trees, sorted by decreasing size, are:</p><ol class=\"large-columns\"><li><p class=\"paragraph\">Dendritic tree starting from the root node 9606.ENSP00000254627 (degree 5 and node types CL:30017, CL:30145, CL:30201, CL:30203, DOID:0050155 and other 92), and containing 6 nodes, with a maximal depth of 3, which are 9606.ENSP00000407107 (degree 5 and node types BTO:0000223, BTO:0000279, CL:30017, CL:30145, CL:30201 and other 5), 9606.ENSP00000266022 (node types BTO:0000000, BTO:0000042, BTO:0000081, BTO:0000083, BTO:0000142 and other 84), 9606.ENSP00000299308 (node types BTO:0000000, BTO:0000042, CL:32704, CL:32705, CL:32706 and other 21), 9606.ENSP00000336693 (node types BTO:0000669, BTO:0001437, BTO:0005287, CL:33130, CL:33131 and other 70) and 9606.ENSP00000391404 (node types CL:29285, CL:29383, CL:29384 and CL:29398). Its nodes have 259 node types, of which the 10 most common are GO:0110165 (5 nodes, 0.03%), KW-0025 (4 nodes, 0.02%), KW-0621 (3 nodes, 0.02%), GO:0009987 (3 nodes, 0.02%), GO:0043226 (3 nodes, 0.02%), CL:32732 (2 nodes, 0.01%), GO:0016020 (2 nodes, 0.01%), GO:0044238 (2 nodes, 0.01%), CL:32706 (2 nodes, 0.01%) and GO:0044237 (2 nodes, 0.01%).</p></li>\n",
       "<li><p class=\"paragraph\">Dendritic tree starting from the root node 9606.ENSP00000366542 (degree 5 and node types CL:30792, CL:30793, CL:30794, CL:30795, CL:30796 and other 83), and containing 6 nodes, with a maximal depth of 3, which are 9606.ENSP00000276127 (degree 3 and node types CL:35528, CL:35529, CL:35530, CL:35531, CL:35532 and other 4), 9606.ENSP00000281722 (node types CL:30792, CL:30793, CL:30794, CL:30795, CL:30796 and other 80), 9606.ENSP00000357889 (node types CL:35528, CL:35529, CL:35530, CL:35531, CL:35532 and other 7), 9606.ENSP00000362206 (node types BTO:0000000, BTO:0000042, BTO:0000142, BTO:0000227, BTO:0000282 and other 65) and 9606.ENSP00000306776 (node types BTO:0000000, BTO:0000042, BTO:0000080, BTO:0000081, BTO:0000082 and other 30). Its nodes have 175 node types, of which the 10 most common are CL:35528 (4 nodes, 0.02%), CL:35532 (4 nodes, 0.02%), CL:35558 (4 nodes, 0.02%), GO:0110165 (4 nodes, 0.02%), CL:35531 (4 nodes, 0.02%), CL:35529 (4 nodes, 0.02%), CL:35530 (4 nodes, 0.02%), GO:0005622 (3 nodes, 0.02%), KW-0025 (3 nodes, 0.02%) and KW-0677 (3 nodes, 0.02%).</p></li>\n",
       "<li><p class=\"paragraph\">Dendritic tree starting from the root node 9606.ENSP00000310686 (degree 14 and node types BTO:0000000, BTO:0000042, CL:6626, CL:6627, CL:6629 and other 186), and containing 5 nodes, with a maximal depth of 3, which are 9606.ENSP00000482345 (node types CL:37858, CL:37859, CL:37860, CL:37861, CL:37903 and other 83), 9606.ENSP00000300896 (degree 4 and node types BTO:0000000, BTO:0000042, BTO:0000080, BTO:0000081, BTO:0000082 and other 114), 9606.ENSP00000478426 (node types CL:37858, CL:37859, CL:37860, CL:37861, CL:37903 and other 91), 9606.ENSP00000478683 (node types CL:37858, CL:37859, CL:37860, CL:37861, CL:37903 and other 98) and 9606.ENSP00000483965 (node types CL:37293, CL:37425, CL:37426, CL:37427, GO:0005096 and other 54). Its nodes have 200 node types, of which the 10 most common are GO:0005488 (5 nodes, 0.03%), GO:0110165 (5 nodes, 0.03%), GO:0016020 (5 nodes, 0.03%), GO:0009987 (5 nodes, 0.03%), GOCC:0012505 (4 nodes, 0.02%), GO:0051641 (4 nodes, 0.02%), GO:0005096 (4 nodes, 0.02%), GO:0060589 (4 nodes, 0.02%), CL:37906 (4 nodes, 0.02%) and GO:0033036 (4 nodes, 0.02%).</p></li>\n",
       "<li><p class=\"paragraph\">Dendritic tree starting from the root node 9606.ENSP00000311336 (degree 5 and node types BTO:0000000, BTO:0000042, BTO:0000080, BTO:0000081, BTO:0000082 and other 154), and containing 5 nodes, with a maximal depth of 3, which are 9606.ENSP00000232892 (degree 3 and node types BTO:0000000, BTO:0000042, BTO:0000058, BTO:0000345, BTO:0000511 and other 114), 9606.ENSP00000353557 (node types BTO:0000000, BTO:0000042, CL:14835, CL:14837, CL:14838 and other 24), 9606.ENSP00000355156 (node types BTO:0000000, BTO:0000042, BTO:0000089, BTO:0000431, BTO:0000522 and other 147), 9606.ENSP00000362814 (node types BTO:0000000, BTO:0000042, BTO:0000081, BTO:0000083, BTO:0000431 and other 61) and 9606.ENSP00000348911 (node types BTO:0000000, BTO:0000042, BTO:0000081, BTO:0000083, BTO:0001489 and other 32). Its nodes have 295 node types, of which the 10 most common are GO:0016020 (5 nodes, 0.03%), BTO:0000000 (5 nodes, 0.03%), GO:0110165 (5 nodes, 0.03%), GO:0031224 (5 nodes, 0.03%), GO:0016021 (5 nodes, 0.03%), BTO:0000042 (5 nodes, 0.03%), KW-0812 (4 nodes, 0.02%), GO:0008152 (4 nodes, 0.02%), KW-1133 (4 nodes, 0.02%) and KW-0472 (4 nodes, 0.02%).</p></li>\n",
       "<li><p class=\"paragraph\">Dendritic tree starting from the root node 9606.ENSP00000446916 (degree 4 and node types CL:20278, CL:20279, CL:20343, DOID:0050177, DOID:0050736 and other 51), and containing 5 nodes, with a maximal depth of 2, which are 9606.ENSP00000373583 (degree 5 and node types CL:20278, CL:20279, CL:20343, CL:20345, GO:0005622 and other 8), 9606.ENSP00000352299 (node types BTO:0000000, BTO:0000042, BTO:0000080, BTO:0000081, BTO:0000082 and other 39), 9606.ENSP00000357811 (node types CL:20278, CL:20279, CL:20343, CL:20345, IPR029369 and other 2), 9606.ENSP00000386118 (node types CL:20278, CL:20279, CL:20343, CL:20345, KW-0025 and another one) and 9606.ENSP00000387298 (node types CL:20278, CL:20279, CL:20343 and CL:20345). Its nodes have 54 node types, of which the 10 most common are CL:20345 (5 nodes, 0.03%), CL:20279 (5 nodes, 0.03%), CL:20278 (5 nodes, 0.03%), CL:20343 (5 nodes, 0.03%), KW-0621 (3 nodes, 0.02%), KW-0025 (3 nodes, 0.02%), GO:0035639, KW-0547, BTO:0000083 and BTO:0003096.</p></li>\n",
       "<li><p class=\"paragraph\">Dendritic tree starting from the root node 9606.ENSP00000265322 (degree 43 and node types BTO:0000000, BTO:0000042, BTO:0000058, BTO:0000269, BTO:0000345 and other 157), and containing 4 nodes, with a maximal depth of 3, which are 9606.ENSP00000333183 (node types CL:37591, CL:37592, CL:37594, CL:37595, CL:37598 and other 85), 9606.ENSP00000467301 (degree 3 and node types CL:37591, CL:37592, CL:37594, CL:37595, CL:37598 and other 60), 9606.ENSP00000331435 (node types CL:37591, CL:37592, CL:37594, CL:37595, CL:37598 and other 82) and 9606.ENSP00000370801 (node types CL:37591, CL:37592, CL:37594, CL:37595, CL:37598 and other 84). Its nodes have 143 node types, of which the 10 most common are CL:37592 (4 nodes, 0.02%), CL:37595 (4 nodes, 0.02%), CL:37594 (4 nodes, 0.02%), CL:37591 (4 nodes, 0.02%), GO:0110165 (4 nodes, 0.02%), CL:37598 (4 nodes, 0.02%), GO:0009987 (4 nodes, 0.02%), CL:37599 (4 nodes, 0.02%), GO:0065007 (4 nodes, 0.02%) and GO:0050794 (4 nodes, 0.02%).</p></li></ol><p class=\"paragraph\">And other 8 dendritic trees.</p><h4 style=\"margin: 1em 0 0 0;\">Stars</h4><p class=\"paragraph\">A star is a tree with a maximal depth of one, where nodes with maximal unique degree one are connected to a central root node with a high degree. We have detected 11 stars in the graph, involving a total of 35 nodes (0.18%) and 24 edges, with the largest one involving 4 nodes and 3 edges. The detected stars, sorted by decreasing size, are:</p><ol class=\"large-columns\"><li><p class=\"paragraph\">Star starting from the root node 9606.ENSP00000334289 (degree 3 and node types CL:37591, CL:37592, CL:37748, CL:37749, CL:37750 and other 6), and containing 4 nodes, with a maximal depth of 1, which are 9606.ENSP00000324672 (node types BTO:0000000, BTO:0000042, BTO:0000420, BTO:0000522, BTO:0000828 and other 40), 9606.ENSP00000366223 (node types CL:33130, CL:33131, CL:33132, CL:33133, CL:33134 and other 12) and 9606.ENSP00000485629 (node types CL:37591, CL:37592, CL:37748, CL:37749, CL:37750 and other 2). Its nodes have 60 node types, of which the 10 most common are CL:37748 (2 nodes, 0.01%), GO:0110165 (2 nodes, 0.01%), CL:37591 (2 nodes, 0.01%), CL:37592 (2 nodes, 0.01%), KW-0025 (2 nodes, 0.01%), GO:0016020 (2 nodes, 0.01%), CL:37750 (2 nodes, 0.01%), CL:37753 (2 nodes, 0.01%), CL:37749 (2 nodes, 0.01%) and BTO:0000522.</p></li>\n",
       "<li><p class=\"paragraph\">Star starting from the root node 9606.ENSP00000345333 (degree 3 and node types BTO:0000000, BTO:0000042, CL:34541, CL:34542, CL:34543 and other 45), and containing 4 nodes, with a maximal depth of 1, which are 9606.ENSP00000328245 (node types BTO:0000000, BTO:0000042, BTO:0000081, BTO:0000083, BTO:0000088 and other 65), 9606.ENSP00000339314 (node types CL:34541, CL:34542, CL:34543, CL:34544, CL:34545 and other 56) and 9606.ENSP00000483077 (node types BTO:0000000, BTO:0000042, BTO:0000142, BTO:0000227, BTO:0000282 and other 93). Its nodes have 134 node types, of which the 10 most common are GO:0065007 (3 nodes, 0.02%), KW-0805 (3 nodes, 0.02%), GO:0110165 (3 nodes, 0.02%), GO:0010468 (3 nodes, 0.02%), GO:0019222 (3 nodes, 0.02%), KW-0539 (3 nodes, 0.02%), GO:0043226 (3 nodes, 0.02%), GO:0046872 (3 nodes, 0.02%), GO:0060255 (3 nodes, 0.02%) and HSA-212436 (3 nodes, 0.02%).</p></li>\n",
       "<li><p class=\"paragraph\">Star starting from the root node 9606.ENSP00000281523 (degree 2 and node types BTO:0000000, BTO:0000042, BTO:0000059, BTO:0000416, BTO:0000431 and other 39), and containing 3 nodes, with a maximal depth of 1, which are 9606.ENSP00000297063 (node types CL:28068, CL:28120, CL:28121, CL:28123, IPR012548 and other 2) and 9606.ENSP00000418575 (node types BTO:0000000, BTO:0000042, BTO:0000142, BTO:0000227, BTO:0000282 and other 71). Its nodes have 83 node types, of which the 10 most common are CL:22938, GO:0005615, GO:0050767, GO:0012505, CL:28121, GO:0051960, CL:28123, BTO:0000042, CL:22869 and GO:0023051.</p></li>\n",
       "<li><p class=\"paragraph\">Star starting from the root node 9606.ENSP00000295012 (degree 2), and containing 3 nodes, with a maximal depth of 1, which are 9606.ENSP00000469705 and 9606.ENSP00000484537. Its nodes have 8 node types, which are CL:37749 (2 nodes, 0.01%), CL:37591 (2 nodes, 0.01%), CL:37592 (2 nodes, 0.01%), CL:37750 (2 nodes, 0.01%), CL:37753 (2 nodes, 0.01%), CL:37748 (2 nodes, 0.01%), CL:37755 (2 nodes, 0.01%) and PF15788 (2 nodes, 0.01%).</p></li>\n",
       "<li><p class=\"paragraph\">Star starting from the root node 9606.ENSP00000319590 (degree 2 and node types CL:35745, CL:35746, CL:35748, CL:35750, CL:35751 and other 6), and containing 3 nodes, with a maximal depth of 1, which are 9606.ENSP00000230301 (node types CL:35745, CL:35746, CL:35748, CL:35750, CL:35751 and other 5) and 9606.ENSP00000354590 (node types BTO:0000000, BTO:0000042, BTO:0001576, CL:35745, CL:35746 and other 31). Its nodes have 39 node types, of which the 10 most common are CL:35750 (2 nodes, 0.01%), CL:35746 (2 nodes, 0.01%), CL:35751 (2 nodes, 0.01%), CL:35745 (2 nodes, 0.01%), CL:35748 (2 nodes, 0.01%), CL:35753 (2 nodes, 0.01%), KW-0621 (2 nodes, 0.01%), GO:0045184, PF15739 and GO:0051179.</p></li>\n",
       "<li><p class=\"paragraph\">Star starting from the root node 9606.ENSP00000344129 (degree 2 and node types CL:37293, CL:37425, CL:37489, CL:37491, CL:37492 and other 53), and containing 3 nodes, with a maximal depth of 1, which are 9606.ENSP00000380071 (node types BTO:0000000, BTO:0000042, CL:37293, CL:37425, CL:37489 and other 26) and 9606.ENSP00000469417 (node types CL:37293, CL:37425, CL:37489, CL:37491, CL:37492 and other 46). Its nodes have 70 node types, of which the 10 most common are GO:0043226 (2 nodes, 0.01%), GO:0043229 (2 nodes, 0.01%), KW-0025 (2 nodes, 0.01%), CL:37491 (2 nodes, 0.01%), GO:0043227 (2 nodes, 0.01%), CL:37493 (2 nodes, 0.01%), CL:37492 (2 nodes, 0.01%), GO:0110165 (2 nodes, 0.01%), CL:37489 (2 nodes, 0.01%) and CL:37425 (2 nodes, 0.01%).</p></li></ol><p class=\"paragraph\">And other 5 stars.</p><h4 style=\"margin: 1em 0 0 0;\">Dendritic stars</h4><p class=\"paragraph\">A dendritic star is a dendritic tree with a maximal depth of one, where nodes with maximal unique degree one are connected to a central root node with high degree and inside a strongly connected component. We have detected 90 dendritic stars in the graph, involving a total of 220 nodes (1.12%) and 220 edges (0.04%), with the largest one involving 19 nodes and 19 edges. The detected dendritic stars, sorted by decreasing size, are:</p><ol class=\"large-columns\"><li><p class=\"paragraph\">Dendritic star starting from the root node 9606.ENSP00000334051 (degree 82 and node types BTO:0000000, BTO:0000042, BTO:0000142, BTO:0000176, BTO:0000202 and other 190), and containing 19 nodes, with a maximal depth of 1, which are 9606.ENSP00000284287 (node types CL:32704, CL:32705, CL:32706, CL:32707, CL:32708 and other 62), 9606.ENSP00000307726 (node types CL:32450, CL:32490, CL:32491, CL:32492, GO:0003008 and other 64), 9606.ENSP00000311605 (node types CL:28902, CL:28903, CL:28931, CL:28933, GO:0003008 and other 58), 9606.ENSP00000318997 (node types CL:35745, CL:35746, GO:0003008, GO:0004888, GO:0004930 and other 97) and 9606.ENSP00000319071 (node types CL:15603, CL:15604, CL:15605, CL:15624, GO:0003008 and other 59). Its nodes have 175 node types, of which the 10 most common are GO:0004930 (19 nodes, 0.10%), GO:0042221 (19 nodes, 0.10%), GO:0050794 (19 nodes, 0.10%), KW-0552 (19 nodes, 0.10%), GO:0065007 (19 nodes, 0.10%), GO:0060089 (19 nodes, 0.10%), KW-0807 (19 nodes, 0.10%), GOCC:0071944 (19 nodes, 0.10%), GO:0007608 (19 nodes, 0.10%) and GO:0007186 (19 nodes, 0.10%).</p></li>\n",
       "<li><p class=\"paragraph\">Dendritic star starting from the root node 9606.ENSP00000432561 (degree 14 and node types BTO:0000000, BTO:0000042, BTO:0000202, BTO:0000282, BTO:0000368 and other 74), and containing 7 nodes, with a maximal depth of 1, which are 9606.ENSP00000254166 (node types BTO:0000176, BTO:0000415, BTO:0000584, BTO:0000604, BTO:0000632 and other 70), 9606.ENSP00000303533 (node types BTO:0000000, BTO:0000042, BTO:0000176, BTO:0000415, BTO:0000584 and other 80), 9606.ENSP00000344162 (node types BTO:0000000, BTO:0000042, BTO:0000176, BTO:0000415, BTO:0000584 and other 84), 9606.ENSP00000379464 (node types BTO:0000000, BTO:0000042, BTO:0000176, BTO:0000415, BTO:0000584 and other 69) and 9606.ENSP00000385163 (node types BTO:0000176, BTO:0000415, BTO:0000584, BTO:0000604, BTO:0000632 and other 62). Its nodes have 167 node types, of which the 10 most common are GO:0031326 (7 nodes, 0.04%), GO:1903506 (7 nodes, 0.04%), GO:0043167 (7 nodes, 0.04%), GO:0060255 (7 nodes, 0.04%), KW-0539 (7 nodes, 0.04%), KW-0621 (7 nodes, 0.04%), GO:0005622 (7 nodes, 0.04%), GO:0051252 (7 nodes, 0.04%), GO:0080090 (7 nodes, 0.04%) and GO:0043227 (7 nodes, 0.04%).</p></li>\n",
       "<li><p class=\"paragraph\">Dendritic star starting from the root node 9606.ENSP00000319673 (degree 16 and node types BTO:0000000, BTO:0000024, BTO:0000042, BTO:0000058, BTO:0000081 and other 176), and containing 6 nodes, with a maximal depth of 1, which are 9606.ENSP00000360360 (node types CL:28165, CL:28166, CL:28167, CL:28271, IPR028930 and other 3), 9606.ENSP00000392283 (node types CL:30792, CL:30793, CL:30794, CL:30936 and PF15623), 9606.ENSP00000393315 (node types CL:30792, CL:30793, CL:30794, CL:30936 and PF15623), 9606.ENSP00000399711 (node types CL:30792, CL:30793, CL:30794, CL:30936, CL:30938 and another one) and 9606.ENSP00000410400 (node types CL:30792, CL:30793, CL:30794, CL:30936, CL:30938 and another one). Its nodes have 13 node types, of which the 10 most common are PF15623 (6 nodes, 0.03%), CL:30936 (5 nodes, 0.03%), CL:30792 (5 nodes, 0.03%), CL:30794 (5 nodes, 0.03%), CL:30793 (5 nodes, 0.03%), CL:30938 (3 nodes, 0.02%), KW-0175, IPR028930, KW-0621 and CL:28165.</p></li>\n",
       "<li><p class=\"paragraph\">Dendritic star starting from the root node 9606.ENSP00000376345 (degree 380 and node types BTO:0000000, BTO:0000042, BTO:0000058, BTO:0000081, BTO:0000083 and other 685), and containing 4 nodes, with a maximal depth of 1, which are 9606.ENSP00000320038 (node types BTO:0000000, BTO:0000042, BTO:0000142, BTO:0000227, BTO:0000231 and other 142), 9606.ENSP00000356093 (node types BTO:0000000, BTO:0000042, CL:34541, CL:34542, CL:34543 and other 89), 9606.ENSP00000384593 (node types CL:26288, CL:26289, CL:26439, CL:26440, CL:26441 and other 7) and 9606.ENSP00000470441 (node types CL:28969, CL:29029, CL:29030, GO:0005488, GO:0016020 and other 20). Its nodes have 237 node types, of which the 10 most common are GO:0005488 (3 nodes, 0.02%), GO:0110165 (3 nodes, 0.02%), GO:0016020 (3 nodes, 0.02%), GO:0005515 (2 nodes, 0.01%), GO:0048856 (2 nodes, 0.01%), GO:0016021 (2 nodes, 0.01%), GO:0048869 (2 nodes, 0.01%), GO:0051716 (2 nodes, 0.01%), GO:0050789 (2 nodes, 0.01%) and GO:0032502 (2 nodes, 0.01%).</p></li>\n",
       "<li><p class=\"paragraph\">Dendritic star starting from the root node 9606.ENSP00000267017 (degree 20 and node types BTO:0000000, BTO:0000042, CL:24334, CL:24335, CL:24336 and other 211), and containing 4 nodes, with a maximal depth of 1, which are 9606.ENSP00000309782 (node types BTO:0000000, BTO:0000042, BTO:0000081, BTO:0000083, BTO:0000142 and other 68), 9606.ENSP00000314042 (node types CL:35745, CL:35855, CL:35856, CL:35858, CL:35859 and other 37), 9606.ENSP00000330612 (node types CL:25546, CL:25547, CL:25548, CL:25549, CL:25550 and other 36) and 9606.ENSP00000366331 (node types CL:32521, CL:32522, CL:32523, CL:32591, CL:32621 and other 67). Its nodes have 115 node types, of which the 10 most common are GO:0004888 (4 nodes, 0.02%), GO:0007154 (4 nodes, 0.02%), GO:0007186 (4 nodes, 0.02%), IPR017452 (4 nodes, 0.02%), GO:0023052 (4 nodes, 0.02%), GO:0038023 (4 nodes, 0.02%), GO:0071944 (4 nodes, 0.02%), KW-1003 (4 nodes, 0.02%), GOCC:0110165 (4 nodes, 0.02%) and GOCC:0005886 (4 nodes, 0.02%).</p></li>\n",
       "<li><p class=\"paragraph\">Dendritic star starting from the root node 9606.ENSP00000246801 (degree 7 and node types CL:31801, CL:31802, CL:31803, CL:31939, CL:31941 and other 57), and containing 3 nodes, with a maximal depth of 1, which are 9606.ENSP00000362634 (node types BTO:0000000, BTO:0000042, BTO:0000080, BTO:0000081, BTO:0000082 and other 112), 9606.ENSP00000375081 (node types BTO:0000000, BTO:0000042, BTO:0000080, BTO:0000081, BTO:0000082 and other 151) and 9606.ENSP00000382544 (node types BTO:0000000, BTO:0000042, BTO:0000058, BTO:0000080, BTO:0000081 and other 147). Its nodes have 177 node types, of which the 10 most common are GO:0032504 (3 nodes, 0.02%), IPR000719 (3 nodes, 0.02%), GO:0016740 (3 nodes, 0.02%), GO:0050789 (3 nodes, 0.02%), GO:0016773 (3 nodes, 0.02%), GO:0019953 (3 nodes, 0.02%), KW-0460 (3 nodes, 0.02%), KW-0621 (3 nodes, 0.02%), GO:0044267 (3 nodes, 0.02%) and GO:0036094 (3 nodes, 0.02%).</p></li></ol><p class=\"paragraph\">And other 84 dendritic stars.</p><h4 style=\"margin: 1em 0 0 0;\">Dendritic tendril stars</h4><p class=\"paragraph\">A dendritic tendril star is a dendritic tree with a depth greater than one, where the arms of the star are tendrils. We have detected 13 dendritic tendril stars in the graph, involving a total of 48 nodes (0.25%) and 48 edges, with the largest one involving 9 nodes and 9 edges. The detected dendritic tendril stars, sorted by decreasing size, are:</p><ol class=\"large-columns\"><li><p class=\"paragraph\">Dendritic tendril star starting from the root node 9606.ENSP00000371594 (degree 68 and node types BTO:0000000, BTO:0000042, BTO:0000142, BTO:0000227, BTO:0000231 and other 177), and containing 9 nodes, with a maximal depth of 2, which are 9606.ENSP00000302199 (node types CL:36843, CL:36921, CL:36922, CL:36924, CL:36926 and other 62), 9606.ENSP00000312403 (node types CL:38353, CL:38354, CL:38548, CL:38576, GO:0003008 and other 59), 9606.ENSP00000323853 (node types CL:29729, CL:29730, CL:29840, GO:0003008, GO:0004888 and other 59), 9606.ENSP00000329982 (node types CL:36843, CL:36921, CL:36922, CL:36924, CL:36926 and other 58) and 9606.ENSP00000330904 (node types CL:7850, CL:7904, DOID:0050117, DOID:4, DOID:934 and other 60). Its nodes have 84 node types, of which the 10 most common are GO:0060089 (9 nodes, 0.05%), GO:0004930 (9 nodes, 0.05%), GOCC:0071944 (9 nodes, 0.05%), GO:0050906 (9 nodes, 0.05%), GO:0050896 (9 nodes, 0.05%), GO:0031224 (9 nodes, 0.05%), GO:0007608 (9 nodes, 0.05%), GO:0009987 (9 nodes, 0.05%), GO:0050907 (9 nodes, 0.05%) and GO:0004888 (9 nodes, 0.05%).</p></li>\n",
       "<li><p class=\"paragraph\">Dendritic tendril star starting from the root node 9606.ENSP00000310275 (degree 58 and node types BTO:0000000, BTO:0000042, BTO:0000081, BTO:0000083, BTO:0000142 and other 161), and containing 5 nodes, with a maximal depth of 4, which are 9606.ENSP00000356121 (node types BTO:0000000, BTO:0000042, BTO:0000080, BTO:0000081, BTO:0000082 and other 27), 9606.ENSP00000360320 (node types CL:32190, CL:32191, CL:32213, IPR033557, KW-0025 and another one), 9606.ENSP00000351727 (node types CL:32190, CL:32191, CL:32213, DOID:0050155, DOID:0060388 and other 12), 9606.ENSP00000355840 (node types CL:32190, CL:32191, CL:32213, DOID:0050177, DOID:0050736 and other 16) and 9606.ENSP00000340887 (node types CL:32190, CL:32191, CL:32213 and PF15730). Its nodes have 62 node types, of which the 10 most common are CL:32190 (4 nodes, 0.02%), CL:32213 (4 nodes, 0.02%), CL:32191 (4 nodes, 0.02%), KW-0621 (4 nodes, 0.02%), DOID:630 (2 nodes, 0.01%), DOID:4 (2 nodes, 0.01%), KW-0025 (2 nodes, 0.01%), DOID:7 (2 nodes, 0.01%), DOID:863 (2 nodes, 0.01%) and KW-0175 (2 nodes, 0.01%).</p></li>\n",
       "<li><p class=\"paragraph\">Dendritic tendril star starting from the root node 9606.ENSP00000363382 (degree 4 and node types BTO:0000000, BTO:0000042, CL:34075, CL:34076, CL:34077 and other 38), and containing 4 nodes, with a maximal depth of 3, which are 9606.ENSP00000332663 (node types CL:37293, CL:37294, CL:37295, CL:37296, CL:37334 and other 6), 9606.ENSP00000363894 (node types BTO:0000000, BTO:0000042, CL:34075, CL:34076, CL:34077 and other 16), 9606.ENSP00000448580 (node types BTO:0000000, BTO:0000042, CL:34075, CL:34076, CL:34077 and other 102) and 9606.ENSP00000363899 (node types BTO:0000000, BTO:0000042, BTO:0000142, BTO:0000227, BTO:0000282 and other 31). Its nodes have 137 node types, of which the 10 most common are CL:34076 (3 nodes, 0.02%), CL:34077 (3 nodes, 0.02%), GO:0043231 (3 nodes, 0.02%), BTO:0000042 (3 nodes, 0.02%), GO:0043227 (3 nodes, 0.02%), GO:0110165 (3 nodes, 0.02%), CL:34229 (3 nodes, 0.02%), CL:34075 (3 nodes, 0.02%), GO:0005622 (3 nodes, 0.02%) and GO:0043229 (3 nodes, 0.02%).</p></li>\n",
       "<li><p class=\"paragraph\">Dendritic tendril star starting from the root node 9606.ENSP00000216862 (degree 24 and node types CL:20082, DOID:0014667, DOID:0050032, DOID:0060158, DOID:10575 and other 181), and containing 3 nodes, with a maximal depth of 2, which are 9606.ENSP00000309649 (node types BTO:0000000, BTO:0000042, BTO:0000081, BTO:0000083, BTO:0000174 and other 74), 9606.ENSP00000318912 (node types BTO:0000000, BTO:0000042, BTO:0000282, BTO:0001090, BTO:0001489 and other 46) and 9606.ENSP00000242315 (node types BTO:0000000, BTO:0000042, BTO:0000142, BTO:0000227, BTO:0000231 and other 63). Its nodes have 141 node types, of which the 10 most common are BTO:0001489 (3 nodes, 0.02%), GO:0046872 (3 nodes, 0.02%), KW-0479 (3 nodes, 0.02%), KW-0862 (3 nodes, 0.02%), GO:0043169 (3 nodes, 0.02%), GO:0009987 (3 nodes, 0.02%), GO:0005488 (3 nodes, 0.02%), BTO:0000042 (3 nodes, 0.02%), GO:0043167 (3 nodes, 0.02%) and BTO:0000000 (3 nodes, 0.02%).</p></li>\n",
       "<li><p class=\"paragraph\">Dendritic tendril star starting from the root node 9606.ENSP00000276590 (degree 10 and node types BTO:0000000, BTO:0000042, BTO:0000081, BTO:0000083, BTO:0000142 and other 86), and containing 3 nodes, with a maximal depth of 2, which are 9606.ENSP00000262288 (node types BTO:0000000, BTO:0000042, BTO:0000081, BTO:0000083, BTO:0000088 and other 100), 9606.ENSP00000271375 (node types CL:35929, CL:35931, GO:0005576, GO:0005615, GO:0006810 and other 48) and 9606.ENSP00000348033 (node types CL:35929, CL:35931, GO:0003008, GO:0004888, GO:0004930 and other 66). Its nodes have 195 node types, of which the 10 most common are GO:0043227 (3 nodes, 0.02%), GO:0009987 (3 nodes, 0.02%), GO:0043226 (3 nodes, 0.02%), GO:0110165 (3 nodes, 0.02%), GO:1903561 (3 nodes, 0.02%), GO:0005576 (3 nodes, 0.02%), GO:0043230 (3 nodes, 0.02%), GO:0070062 (3 nodes, 0.02%), GO:0005615 (3 nodes, 0.02%) and GO:0031982 (3 nodes, 0.02%).</p></li>\n",
       "<li><p class=\"paragraph\">Dendritic tendril star starting from the root node 9606.ENSP00000283946 (degree 10 and node types CL:6626, CL:6916, CL:6917, CL:6918, IPR001810 and other 7), and containing 3 nodes, with a maximal depth of 2, which are 9606.ENSP00000359819 (node types BTO:0000000, BTO:0000042, CL:9768, CL:9769, CL:9833 and other 88), 9606.ENSP00000377577 (node types BTO:0000000, BTO:0000042, CL:6626, CL:6916, CL:6917 and other 51) and 9606.ENSP00000229002 (node types BTO:0000000, BTO:0000042, CL:9768, CL:9769, CL:9833 and other 58). Its nodes have 191 node types, of which the 10 most common are GO:0110165 (3 nodes, 0.02%), KW-0621 (3 nodes, 0.02%), GO:0009987 (3 nodes, 0.02%), BTO:0000042 (3 nodes, 0.02%), BTO:0000000 (3 nodes, 0.02%), GO:0005737 (2 nodes, 0.01%), GO:0043229 (2 nodes, 0.01%), GO:0016020 (2 nodes, 0.01%), CL:9769 (2 nodes, 0.01%) and GO:0043226 (2 nodes, 0.01%).</p></li></ol><p class=\"paragraph\">And other 7 dendritic tendril stars.</p><h4 style=\"margin: 1em 0 0 0;\">Tendrils</h4><p class=\"paragraph\">A tendril is a path starting from a node of degree one, connected to a strongly connected component. We have detected 995 tendrils in the graph, involving a total of 1.08K nodes (5.52%) and 1.08K edges (0.21%), with the largest one involving 4 nodes and 4 edges. The detected tendrils, sorted by decreasing size, are:</p><ol class=\"large-columns\"><li><p class=\"paragraph\">Tendril starting from the root node 9606.ENSP00000374014 (degree 7 and node types CL:29064, CL:29065, CL:29066, CL:29067, CL:29129 and other 69), and containing 4 nodes, with a maximal depth of 4, which are 9606.ENSP00000291481 (node types CL:29064, CL:29065, CL:29066, CL:29067, CL:29129 and other 54), 9606.ENSP00000317000 (node types BTO:0000000, BTO:0000042, CL:29064, CL:29065, CL:29066 and other 47), 9606.ENSP00000394178 (node types BTO:0000000, BTO:0000042, BTO:0000088, BTO:0000562, BTO:0001489 and other 19) and 9606.ENSP00000296862 (node types CL:32521, CL:32522, CL:32523, CL:32591, GO:0004888 and other 33). Its nodes have 134 node types, of which the 10 most common are GO:0110165 (4 nodes, 0.02%), CL:29065 (3 nodes, 0.02%), GO:0016020 (3 nodes, 0.02%), GO:0016021 (3 nodes, 0.02%), KW-0325 (3 nodes, 0.02%), CL:29064 (3 nodes, 0.02%), KW-0025 (3 nodes, 0.02%), CL:29067 (3 nodes, 0.02%), CL:29066 (3 nodes, 0.02%) and GO:0031224 (3 nodes, 0.02%).</p></li>\n",
       "<li><p class=\"paragraph\">Tendril starting from the root node 9606.ENSP00000371512 (degree 13 and node types BTO:0000000, BTO:0000042, BTO:0000887, BTO:0001103, BTO:0001369 and other 89), and containing 3 nodes, with a maximal depth of 3, which are 9606.ENSP00000310182 (node types BTO:0000000, BTO:0000042, CL:33130, CL:33332, CL:33384 and other 19), 9606.ENSP00000344331 (node types CL:33130, CL:33332, CL:33384, CL:33404, DOID:0014667 and other 32) and 9606.ENSP00000386389 (node types CL:33130, CL:33332, CL:33384, CL:33404, IPR000210 and other 15). Its nodes have 63 node types, of which the 10 most common are CL:33332 (3 nodes, 0.02%), CL:33404 (3 nodes, 0.02%), CL:33384 (3 nodes, 0.02%), CL:33130 (3 nodes, 0.02%), GO:0043226 (2 nodes, 0.01%), GO:0110165 (2 nodes, 0.01%), GO:0016021 (2 nodes, 0.01%), GO:0043227 (2 nodes, 0.01%), KW-0812 (2 nodes, 0.01%) and KW-0472 (2 nodes, 0.01%).</p></li>\n",
       "<li><p class=\"paragraph\">Tendril starting from the root node 9606.ENSP00000264554 (degree 44 and node types BTO:0000000, BTO:0000042, CL:15701, CL:15702, CL:15840 and other 142), and containing 3 nodes, with a maximal depth of 3, which are 9606.ENSP00000344465 (node types BTO:0000000, BTO:0000042, BTO:0000089, BTO:0000131, BTO:0000132 and other 76), 9606.ENSP00000336661 (node types CL:37293, CL:37294, CL:37295, CL:37296, CL:37297 and other 9) and 9606.ENSP00000430271 (node types BTO:0000000, BTO:0000042, BTO:0000142, BTO:0000227, BTO:0000231 and other 85). Its nodes have 162 node types, of which the 10 most common are CL:37293 (3 nodes, 0.02%), CL:37294 (3 nodes, 0.02%), CL:37297 (3 nodes, 0.02%), CL:37296 (3 nodes, 0.02%), CL:37295 (3 nodes, 0.02%), KW-0621 (3 nodes, 0.02%), CL:37298 (3 nodes, 0.02%), BTO:0001489 (2 nodes, 0.01%), GO:0110165 (2 nodes, 0.01%) and BTO:0000042 (2 nodes, 0.01%).</p></li>\n",
       "<li><p class=\"paragraph\">Tendril starting from the root node 9606.ENSP00000302578 (degree 4 and node types BTO:0000000, CL:32361, CL:32432, GO:0005622, GO:0005737 and other 9), and containing 3 nodes, with a maximal depth of 3, which are 9606.ENSP00000264735 (node types CL:32361, CL:32432, GO:0003824, GO:0004620, GO:0004623 and other 91), 9606.ENSP00000295092 (node types BTO:0000000, BTO:0000042, BTO:0000142, BTO:0000227, BTO:0000282 and other 27) and 9606.ENSP00000370724 (node types BTO:0000000, BTO:0000042, BTO:0000142, BTO:0000227, BTO:0000282 and other 44). Its nodes have 152 node types, of which the 10 most common are GO:0110165 (3 nodes, 0.02%), GO:0005622 (3 nodes, 0.02%), GO:0009987 (3 nodes, 0.02%), BTO:0001489 (2 nodes, 0.01%), CL:26702 (2 nodes, 0.01%), BTO:0000142 (2 nodes, 0.01%), CL:26701 (2 nodes, 0.01%), IPR007053 (2 nodes, 0.01%), BTO:0000227 (2 nodes, 0.01%) and BTO:0001484 (2 nodes, 0.01%).</p></li>\n",
       "<li><p class=\"paragraph\">Tendril starting from the root node 9606.ENSP00000302843 (degree 6 and node types BTO:0000000, BTO:0000042, CL:3010, CL:3150, GO:0005488 and other 72), and containing 3 nodes, with a maximal depth of 3, which are 9606.ENSP00000414920 (node types CL:3010, CL:3150, GO:0000003, GO:0003006, GO:0003676 and other 49), 9606.ENSP00000206020 (node types BTO:0000000, BTO:0000042, BTO:0000081, BTO:0000083, BTO:0001489 and other 32) and 9606.ENSP00000317289 (node types BTO:0000000, BTO:0000042, BTO:0000081, BTO:0000082, BTO:0000083 and other 80). Its nodes have 142 node types, of which the 10 most common are GO:0005622 (3 nodes, 0.02%), GO:0043227 (3 nodes, 0.02%), GO:0005634 (3 nodes, 0.02%), KW-0539 (3 nodes, 0.02%), GO:0043229 (3 nodes, 0.02%), GO:0110165 (3 nodes, 0.02%), GO:0043231 (3 nodes, 0.02%), GO:0005488 (3 nodes, 0.02%), GO:0043226 (3 nodes, 0.02%) and CL:35165 (2 nodes, 0.01%).</p></li>\n",
       "<li><p class=\"paragraph\">Tendril starting from the root node 9606.ENSP00000307636 (degree 6 and node types BTO:0000000, BTO:0000042, BTO:0000081, BTO:0000083, BTO:0000142 and other 68), and containing 3 nodes, with a maximal depth of 3, which are 9606.ENSP00000386563 (node types BTO:0000250, BTO:0000372, BTO:0001207, BTO:0001801, CL:31801 and other 43), 9606.ENSP00000367792 (node types CL:31801, CL:32073, CL:32074, CL:32127, GOCC:0005622 and other 28) and 9606.ENSP00000411253 (node types BTO:0000000, BTO:0000042, BTO:0000081, BTO:0000083, BTO:0001489 and other 75). Its nodes have 134 node types, of which the 10 most common are KW-0621 (3 nodes, 0.02%), GOCC:0043232 (2 nodes, 0.01%), KW-0677 (2 nodes, 0.01%), CL:32074 (2 nodes, 0.01%), GOCC:0005856 (2 nodes, 0.01%), CL:32073 (2 nodes, 0.01%), SM00698 (2 nodes, 0.01%), GOCC:0043226 (2 nodes, 0.01%), GOCC:0120120 (2 nodes, 0.01%) and CL:31801 (2 nodes, 0.01%).</p></li></ol><p class=\"paragraph\">And other 989 tendrils.</p></div>"
      ]
     },
     "execution_count": 6,
     "metadata": {},
     "output_type": "execute_result"
    }
   ],
   "source": [
    "unweighted_graph"
   ]
  },
  {
   "cell_type": "markdown",
   "metadata": {
    "id": "50ihM6p6XCN0"
   },
   "source": [
    "## Random walks are heavily parallelized\n",
    "All the algorithms to sample random walks provided by Ensmallen are heavily parallelized. Therefore, their execution on instances with a large amount amount of threads will lead to (obviously) better time performance. This notebook is being executed on a COLAB instance with only 2 core; therefore the performance will not be as good as they could be even on your notebook, or  your cellphone (Ensmallen can run on Android phones)."
   ]
  },
  {
   "cell_type": "code",
   "execution_count": 7,
   "metadata": {
    "colab": {
     "base_uri": "https://localhost:8080/"
    },
    "id": "i85aNZm9XC0u",
    "outputId": "7e15df0d-762c-4968-9234-aef6e96ca86f"
   },
   "outputs": [
    {
     "data": {
      "text/plain": [
       "12"
      ]
     },
     "execution_count": 7,
     "metadata": {},
     "output_type": "execute_result"
    }
   ],
   "source": [
    "from multiprocessing import cpu_count\n",
    "\n",
    "cpu_count()"
   ]
  },
  {
   "cell_type": "markdown",
   "metadata": {
    "id": "l5iDg_80ZW4y"
   },
   "source": [
    "## Unweighted first-order random walks\n",
    "Computation of first-order random walks ignoring the edge weights. In the following examples random walks are computed (on unweighted and weighted graphs) by either invoking method *random_walks* or method *complete_walks*.\n",
    "\n",
    "*random_walks* automatically chooses between exact and sampled random walks; use this method if you want to let *Grape* to chose the best option. \n",
    "\n",
    "*complete_walks* is the method used to compute exact walks."
   ]
  },
  {
   "cell_type": "code",
   "execution_count": 8,
   "metadata": {
    "colab": {
     "base_uri": "https://localhost:8080/"
    },
    "id": "q57nrVVjZUX4",
    "outputId": "66982af3-cacc-4db9-d237-e7a967e84ce6"
   },
   "outputs": [
    {
     "name": "stdout",
     "output_type": "stream",
     "text": [
      "CPU times: user 17 ms, sys: 1.08 ms, total: 18.1 ms\n",
      "Wall time: 2.03 ms\n"
     ]
    },
    {
     "data": {
      "text/plain": [
       "array([[ 9426, 15402,  1973, ..., 10025, 17136, 12075],\n",
       "       [18629, 13618,   817, ...,  6522, 19277, 18985],\n",
       "       [ 4659,  2992, 14766, ...,  2127,  8491, 12404],\n",
       "       ...,\n",
       "       [ 3387,  9653,  1728, ...,  7196, 14670, 16603],\n",
       "       [13708, 19212, 13708, ..., 19212, 13708, 19212],\n",
       "       [14316,  9055,  4075, ...,   130, 16937,  3506]], dtype=uint32)"
      ]
     },
     "execution_count": 8,
     "metadata": {},
     "output_type": "execute_result"
    }
   ],
   "source": [
    "%%time\n",
    "unweighted_graph.random_walks(\n",
    "    # We want random walks with length 100\n",
    "    walk_length=32,\n",
    "    # We want to get random walks starting from 1000 random nodes\n",
    "    quantity=1000,\n",
    "    # We want 2 iterations from each node\n",
    "    iterations=2\n",
    ")"
   ]
  },
  {
   "cell_type": "code",
   "execution_count": 9,
   "metadata": {
    "colab": {
     "base_uri": "https://localhost:8080/"
    },
    "id": "qKksHKN2Z6rZ",
    "outputId": "7dfb844b-895a-45ef-f86d-b21688a09f52"
   },
   "outputs": [
    {
     "name": "stdout",
     "output_type": "stream",
     "text": [
      "CPU times: user 849 ms, sys: 3.9 ms, total: 852 ms\n",
      "Wall time: 82.7 ms\n"
     ]
    },
    {
     "data": {
      "text/plain": [
       "array([[    0, 17164,  6401, ...,  9888,  1510, 16834],\n",
       "       [    1,  8997,  8240, ..., 14994,  3191, 12276],\n",
       "       [    2, 12438, 10922, ..., 16152,   721,  4907],\n",
       "       ...,\n",
       "       [19551,  7490,  5253, ...,  3221,  6992, 17486],\n",
       "       [19557, 10177,  8618, ...,   667,  9035,  7346],\n",
       "       [19558,  5960,  9034, ...,  5685,   508, 18766]], dtype=uint32)"
      ]
     },
     "execution_count": 9,
     "metadata": {},
     "output_type": "execute_result"
    }
   ],
   "source": [
    "%%time\n",
    "unweighted_graph.complete_walks(\n",
    "    # We want random walks with length 100\n",
    "    walk_length=100,\n",
    "    # We want 2 iterations from each node\n",
    "    iterations=2\n",
    ")"
   ]
  },
  {
   "cell_type": "markdown",
   "metadata": {
    "id": "IMOU0hT1Tk-G"
   },
   "source": [
    "## Weighted first-order random walks\n",
    "Computation of first-order random walks, biased using the edge weights."
   ]
  },
  {
   "cell_type": "code",
   "execution_count": 10,
   "metadata": {
    "colab": {
     "base_uri": "https://localhost:8080/"
    },
    "id": "aq9xIa5jS8Zq",
    "outputId": "a3186153-098a-4d54-9279-174f8da09e65"
   },
   "outputs": [
    {
     "name": "stdout",
     "output_type": "stream",
     "text": [
      "CPU times: user 1.07 s, sys: 4.31 ms, total: 1.07 s\n",
      "Wall time: 93.6 ms\n"
     ]
    },
    {
     "data": {
      "text/plain": [
       "array([[ 9426, 15402,  6110, ...,  2982,    44,   926],\n",
       "       [18629,  4007,  3840, ..., 13705, 10240, 10145],\n",
       "       [ 4659,  4019, 10169, ...,   299, 10828,  9044],\n",
       "       ...,\n",
       "       [ 3387,  9653,  2538, ...,  5158, 15892, 13498],\n",
       "       [13708, 19212, 13708, ..., 19212, 13708, 19212],\n",
       "       [14316, 16827, 10195, ...,  3758,  1016,  4500]], dtype=uint32)"
      ]
     },
     "execution_count": 10,
     "metadata": {},
     "output_type": "execute_result"
    }
   ],
   "source": [
    "%%time\n",
    "graph.random_walks(\n",
    "    # We want random walks with length 100\n",
    "    walk_length=100,\n",
    "    # We want to get random walks starting from 1000 random nodes\n",
    "    quantity=1000,\n",
    "    # We want 2 iterations from each node\n",
    "    iterations=2\n",
    ")"
   ]
  },
  {
   "cell_type": "markdown",
   "metadata": {
    "id": "r40yDkmaUgFb"
   },
   "source": [
    "Similarly, to get random walks from all of the nodes in the graph it is possible to use:"
   ]
  },
  {
   "cell_type": "code",
   "execution_count": 11,
   "metadata": {
    "colab": {
     "base_uri": "https://localhost:8080/"
    },
    "id": "T3kNCHEwUfkc",
    "outputId": "b9782878-b841-4812-a6f7-180e8b34ec55"
   },
   "outputs": [
    {
     "name": "stdout",
     "output_type": "stream",
     "text": [
      "CPU times: user 18.1 s, sys: 28.7 ms, total: 18.1 s\n",
      "Wall time: 1.54 s\n"
     ]
    },
    {
     "data": {
      "text/plain": [
       "array([[    0,  2678,  2106, ...,  3481,   113,  1771],\n",
       "       [    1,  2967,  2227, ...,  9148, 10725, 10120],\n",
       "       [    2,  2661,  9333, ...,   830,  8968,  7574],\n",
       "       ...,\n",
       "       [19551, 18771, 13619, ...,  6669, 16629,  1656],\n",
       "       [19557, 16304, 15886, ...,  5088, 10724,  9159],\n",
       "       [19558, 12842,  5867, ..., 10237,  4187,  7050]], dtype=uint32)"
      ]
     },
     "execution_count": 11,
     "metadata": {},
     "output_type": "execute_result"
    }
   ],
   "source": [
    "%%time\n",
    "graph.complete_walks(\n",
    "    # We want random walks with length 100\n",
    "    walk_length=100,\n",
    "    # We want 2 iterations from each node\n",
    "    iterations=2\n",
    ")"
   ]
  },
  {
   "cell_type": "markdown",
   "metadata": {
    "id": "k9I--69hUc8o"
   },
   "source": [
    "## Second-order random walks\n",
    "In the following we show the computation of second-order random walks, that is random walks that use [Node2Vec parameters](https://arxiv.org/abs/1607.00653) to bias the random walk towards a BFS or a DFS."
   ]
  },
  {
   "cell_type": "code",
   "execution_count": 12,
   "metadata": {
    "colab": {
     "base_uri": "https://localhost:8080/"
    },
    "id": "OqL4spI1WCc5",
    "outputId": "24043c95-abaa-4fc9-87ec-64d7fcb2f3de"
   },
   "outputs": [
    {
     "name": "stdout",
     "output_type": "stream",
     "text": [
      "CPU times: user 351 ms, sys: 2.11 ms, total: 353 ms\n",
      "Wall time: 32.1 ms\n"
     ]
    },
    {
     "data": {
      "text/plain": [
       "array([[ 9426, 15402,  6110, ..., 15356,  9814, 15356],\n",
       "       [18629,  4007,  3840, ...,  2523,  9546, 12910],\n",
       "       [ 4659,  4019,  4659, ...,  3359, 11058, 16488],\n",
       "       ...,\n",
       "       [ 3387,  9653,  2538, ..., 18061,  3797,  2599],\n",
       "       [13708, 19212, 13708, ..., 19212, 13708, 19212],\n",
       "       [14316, 16827, 10700, ...,    87,  8651,  1641]], dtype=uint32)"
      ]
     },
     "execution_count": 12,
     "metadata": {},
     "output_type": "execute_result"
    }
   ],
   "source": [
    "%%time\n",
    "graph.random_walks(\n",
    "    # We want random walks with length 100\n",
    "    walk_length=32,\n",
    "    # We want to get random walks starting from 1000 random nodes\n",
    "    quantity=1000,\n",
    "    # We want 2 iterations from each node\n",
    "    iterations=2,\n",
    "    return_weight=2.0,\n",
    "    explore_weight=2.0,\n",
    ")"
   ]
  },
  {
   "cell_type": "code",
   "execution_count": 13,
   "metadata": {
    "colab": {
     "base_uri": "https://localhost:8080/"
    },
    "id": "iZ1Z0r44adz8",
    "outputId": "0fde9c0e-8a5c-461b-d832-0612997518f3"
   },
   "outputs": [
    {
     "name": "stdout",
     "output_type": "stream",
     "text": [
      "CPU times: user 345 ms, sys: 2.85 ms, total: 348 ms\n",
      "Wall time: 31.7 ms\n"
     ]
    },
    {
     "data": {
      "text/plain": [
       "array([[ 9426, 15402,  6110, ..., 12097, 11796,   770],\n",
       "       [18629,  4007,  3840, ...,   575,  4294, 18042],\n",
       "       [ 4659,  3549,  8307, ...,  1364,  2697, 19107],\n",
       "       ...,\n",
       "       [ 3387,  9653,  2588, ..., 14895,  4428,  5682],\n",
       "       [13708, 19212, 13708, ..., 19212, 13708, 19212],\n",
       "       [14316, 16827, 10195, ...,   120, 11824,  1623]], dtype=uint32)"
      ]
     },
     "execution_count": 13,
     "metadata": {},
     "output_type": "execute_result"
    }
   ],
   "source": [
    "%%time\n",
    "unweighted_graph.random_walks(\n",
    "    # We want random walks with length 100\n",
    "    walk_length=32,\n",
    "    # We want to get random walks starting from 1000 random nodes\n",
    "    quantity=1000,\n",
    "    # We want 2 iterations from each node\n",
    "    iterations=2,\n",
    "    return_weight=2.0,\n",
    "    explore_weight=2.0,\n",
    ")"
   ]
  },
  {
   "cell_type": "code",
   "execution_count": 14,
   "metadata": {
    "colab": {
     "base_uri": "https://localhost:8080/"
    },
    "id": "kUppVCO4WaeZ",
    "outputId": "08e67236-dd52-4774-f260-38b6b9f9b6a9"
   },
   "outputs": [
    {
     "name": "stdout",
     "output_type": "stream",
     "text": [
      "CPU times: user 5.97 s, sys: 9.36 ms, total: 5.98 s\n",
      "Wall time: 509 ms\n"
     ]
    },
    {
     "data": {
      "text/plain": [
       "array([[    0,  2678,  1961, ..., 10003, 10745,  1052],\n",
       "       [    1,  2967,  2227, ...,   406,  4394, 18911],\n",
       "       [    2,  2661,  9414, ...,  3188,  5415, 16506],\n",
       "       ...,\n",
       "       [19551, 18771, 13619, ..., 15779,  4872, 15779],\n",
       "       [19557, 16304, 15906, ..., 14340,  9833, 14340],\n",
       "       [19558, 12842,  6061, ...,  6325, 12398,  6928]], dtype=uint32)"
      ]
     },
     "execution_count": 14,
     "metadata": {},
     "output_type": "execute_result"
    }
   ],
   "source": [
    "%%time\n",
    "graph.complete_walks(\n",
    "    # We want random walks with length 100\n",
    "    walk_length=32,\n",
    "    # We want 2 iterations from each node\n",
    "    iterations=2,\n",
    "    return_weight=2.0,\n",
    "    explore_weight=2.0,\n",
    ")"
   ]
  },
  {
   "cell_type": "code",
   "execution_count": 15,
   "metadata": {
    "colab": {
     "base_uri": "https://localhost:8080/"
    },
    "id": "lOy4qaAtaiJa",
    "outputId": "6c94c72c-053a-4c99-bc74-9b08f903d102"
   },
   "outputs": [
    {
     "name": "stdout",
     "output_type": "stream",
     "text": [
      "CPU times: user 5.86 s, sys: 11.9 ms, total: 5.87 s\n",
      "Wall time: 514 ms\n"
     ]
    },
    {
     "data": {
      "text/plain": [
       "array([[    0,  2678,  2106, ..., 11919, 11616,   907],\n",
       "       [    1,  2967,  2227, ...,  4467,  3956, 18173],\n",
       "       [    2,  2661,  9333, ...,  2272,  4489, 13232],\n",
       "       ...,\n",
       "       [19551, 18771, 13619, ...,  9103,  4462,  5424],\n",
       "       [19557, 16304, 15886, ..., 15276, 10350,  8966],\n",
       "       [19558, 12697,  5938, ...,   406,  9387,   406]], dtype=uint32)"
      ]
     },
     "execution_count": 15,
     "metadata": {},
     "output_type": "execute_result"
    }
   ],
   "source": [
    "%%time\n",
    "unweighted_graph.complete_walks(\n",
    "    # We want random walks with length 100\n",
    "    walk_length=32,\n",
    "    # We want 2 iterations from each node\n",
    "    iterations=2,\n",
    "    return_weight=2.0,\n",
    "    explore_weight=2.0,\n",
    ")"
   ]
  },
  {
   "cell_type": "markdown",
   "metadata": {
    "id": "waJKyudSX5-m"
   },
   "source": [
    "## Approximated second-order random walks\n",
    "When working on graphs where some nodes have an extremely high node degree, *d* (e.g. *d > 50000*), the computation of the transition weights can be a bottleneck. In those use-cases approximated random walks can help make the computation considerably faster, by randomly subsampling each node's neighbourhood to a maximum number, provided by the user. In the considered graph, the highest node degree id *d $\\approx$ 7000*. \n",
    "\n",
    "In the GraPE paper we show experiments comparing the edge-prediction performance of a model trained on graph embeddings obtained by the Skipgram model when using either exact random walks, or random walks obtained by with significant subsampling of the nodes (maximum node degree clipped at 10). The comparative evaluation shows no decrease in performance."
   ]
  },
  {
   "cell_type": "code",
   "execution_count": 16,
   "metadata": {
    "colab": {
     "base_uri": "https://localhost:8080/"
    },
    "id": "DtM-znt_bc7C",
    "outputId": "018cc33d-837d-42c5-c0cb-905cde827f97"
   },
   "outputs": [
    {
     "name": "stdout",
     "output_type": "stream",
     "text": [
      "CPU times: user 353 ms, sys: 2.35 ms, total: 355 ms\n",
      "Wall time: 32.7 ms\n"
     ]
    },
    {
     "data": {
      "text/plain": [
       "array([[ 9426, 15402,  6110, ..., 15356,  9814, 15356],\n",
       "       [18629,  4007,  3840, ...,  2523,  9546, 12910],\n",
       "       [ 4659,  4019,  4659, ...,  3359, 11058, 16488],\n",
       "       ...,\n",
       "       [ 3387,  9653,  2538, ..., 18061,  3797,  2599],\n",
       "       [13708, 19212, 13708, ..., 19212, 13708, 19212],\n",
       "       [14316, 16827, 10700, ...,    87,  8651,  1641]], dtype=uint32)"
      ]
     },
     "execution_count": 16,
     "metadata": {},
     "output_type": "execute_result"
    }
   ],
   "source": [
    "%%time\n",
    "graph.random_walks(\n",
    "    # We want random walks with length 100\n",
    "    walk_length=32,\n",
    "    # We want to get random walks starting from 1000 random nodes\n",
    "    quantity=1000,\n",
    "    # We want 2 iterations from each node\n",
    "    iterations=2,\n",
    "    return_weight=2.0,\n",
    "    explore_weight=2.0,\n",
    "    # We will subsample the neighbours of the nodes\n",
    "    # dynamically to 100.\n",
    "    max_neighbours=100\n",
    ")"
   ]
  },
  {
   "cell_type": "code",
   "execution_count": 17,
   "metadata": {
    "colab": {
     "base_uri": "https://localhost:8080/"
    },
    "id": "BrSIExoMbwMn",
    "outputId": "e8c69d33-d8fc-45bb-8aee-7f41fa8fe15f"
   },
   "outputs": [
    {
     "name": "stdout",
     "output_type": "stream",
     "text": [
      "CPU times: user 5.95 s, sys: 11 ms, total: 5.97 s\n",
      "Wall time: 510 ms\n"
     ]
    },
    {
     "data": {
      "text/plain": [
       "array([[    0,  2678,  1961, ..., 10003, 10745,  1052],\n",
       "       [    1,  2967,  2227, ...,   406,  4394, 18911],\n",
       "       [    2,  2661,  9414, ...,  3188,  5415, 16506],\n",
       "       ...,\n",
       "       [19551, 18771, 13619, ..., 15779,  4872, 15779],\n",
       "       [19557, 16304, 15906, ..., 14340,  9833, 14340],\n",
       "       [19558, 12842,  6061, ...,  6325, 12398,  6928]], dtype=uint32)"
      ]
     },
     "execution_count": 17,
     "metadata": {},
     "output_type": "execute_result"
    }
   ],
   "source": [
    "%%time\n",
    "graph.complete_walks(\n",
    "    # We want random walks with length 100\n",
    "    walk_length=32,\n",
    "    # We want 2 iterations from each node\n",
    "    iterations=2,\n",
    "    return_weight=2.0,\n",
    "    explore_weight=2.0,\n",
    "    # We will subsample the neighbours of the nodes\n",
    "    # dynamically to 100.\n",
    "    max_neighbours=100\n",
    ")"
   ]
  },
  {
   "cell_type": "markdown",
   "metadata": {
    "id": "AZ2qKDPXSHTQ"
   },
   "source": [
    "## Enabling the speedups\n",
    "Ensmallen provides numerous speed-ups based on time-memory tradeoffs, which allow faster computation. Automatic Speed-up can be enabled by simply seeting a semaphor:"
   ]
  },
  {
   "cell_type": "code",
   "execution_count": 18,
   "metadata": {
    "id": "UZlOn9umUK9T"
   },
   "outputs": [],
   "source": [
    "graph.enable()"
   ]
  },
  {
   "cell_type": "markdown",
   "metadata": {
    "id": "aS5n9gJeS9ys"
   },
   "source": [
    "### Weighted first order random walks with speedups\n",
    "The first order random walks have about an order of magnitude speed increase."
   ]
  },
  {
   "cell_type": "code",
   "execution_count": 19,
   "metadata": {
    "colab": {
     "base_uri": "https://localhost:8080/"
    },
    "id": "6Py4lJ4pSFku",
    "outputId": "00d45dcb-b29f-4e71-8dce-8fbee4bdf460"
   },
   "outputs": [
    {
     "name": "stdout",
     "output_type": "stream",
     "text": [
      "CPU times: user 236 ms, sys: 3.11 ms, total: 240 ms\n",
      "Wall time: 22.6 ms\n"
     ]
    },
    {
     "data": {
      "text/plain": [
       "array([[ 9426, 15402,  6110, ...,  2982,    44,   926],\n",
       "       [18629,  4007,  3840, ..., 13705, 10240, 10145],\n",
       "       [ 4659,  4019, 10169, ...,   299, 10828,  9044],\n",
       "       ...,\n",
       "       [ 3387,  9653,  2538, ...,  5158, 15892, 13498],\n",
       "       [13708, 19212, 13708, ..., 19212, 13708, 19212],\n",
       "       [14316, 16827, 10195, ...,  3758,  1016,  4500]], dtype=uint32)"
      ]
     },
     "execution_count": 19,
     "metadata": {},
     "output_type": "execute_result"
    }
   ],
   "source": [
    "%%time\n",
    "graph.random_walks(\n",
    "    # We want random walks with length 100\n",
    "    walk_length=100,\n",
    "    # We want to get random walks starting from 1000 random nodes\n",
    "    quantity=1000,\n",
    "    # We want 10 iterations from each node\n",
    "    iterations=2\n",
    ")"
   ]
  },
  {
   "cell_type": "code",
   "execution_count": 20,
   "metadata": {
    "colab": {
     "base_uri": "https://localhost:8080/"
    },
    "id": "g3b8w_o4Uunt",
    "outputId": "36bd5878-f6e8-43f0-b477-c2295e9e868b"
   },
   "outputs": [
    {
     "name": "stdout",
     "output_type": "stream",
     "text": [
      "CPU times: user 4.09 s, sys: 24.6 ms, total: 4.12 s\n",
      "Wall time: 379 ms\n"
     ]
    },
    {
     "data": {
      "text/plain": [
       "array([[    0,  2678,  2106, ...,  3481,   113,  1771],\n",
       "       [    1,  2967,  2227, ...,  9148, 10725, 10120],\n",
       "       [    2,  2661,  9333, ...,   830,  8968,  7574],\n",
       "       ...,\n",
       "       [19551, 18771, 13619, ...,  6669, 16629,  1656],\n",
       "       [19557, 16304, 15886, ...,  5088, 10724,  9159],\n",
       "       [19558, 12842,  5867, ..., 10237,  4187,  7050]], dtype=uint32)"
      ]
     },
     "execution_count": 20,
     "metadata": {},
     "output_type": "execute_result"
    }
   ],
   "source": [
    "%%time\n",
    "graph.complete_walks(\n",
    "    # We want random walks with length 100\n",
    "    walk_length=100,\n",
    "    # We want 10 iterations from each node\n",
    "    iterations=2\n",
    ")"
   ]
  },
  {
   "cell_type": "markdown",
   "metadata": {
    "id": "3YtutrBuW7FL"
   },
   "source": [
    "### Second order random walks with speedups\n"
   ]
  },
  {
   "cell_type": "code",
   "execution_count": 21,
   "metadata": {
    "colab": {
     "base_uri": "https://localhost:8080/"
    },
    "id": "DvBuXYnUUMd9",
    "outputId": "3a5af727-78e6-45a6-e5d3-1982171f5bc2"
   },
   "outputs": [
    {
     "name": "stdout",
     "output_type": "stream",
     "text": [
      "CPU times: user 123 ms, sys: 2.74 ms, total: 126 ms\n",
      "Wall time: 13.3 ms\n"
     ]
    },
    {
     "data": {
      "text/plain": [
       "array([[ 9426, 15402,  6110, ..., 15356,  9814, 15356],\n",
       "       [18629,  4007,  3840, ...,  2523,  9546, 12910],\n",
       "       [ 4659,  4019,  4659, ...,  3359, 11058, 16488],\n",
       "       ...,\n",
       "       [ 3387,  9653,  2538, ..., 18061,  3797,  2599],\n",
       "       [13708, 19212, 13708, ..., 19212, 13708, 19212],\n",
       "       [14316, 16827, 10700, ...,    87,  8651,  1641]], dtype=uint32)"
      ]
     },
     "execution_count": 21,
     "metadata": {},
     "output_type": "execute_result"
    }
   ],
   "source": [
    "%%time\n",
    "graph.random_walks(\n",
    "    # We want random walks with length 100\n",
    "    walk_length=32,\n",
    "    # We want to get random walks starting from 1000 random nodes\n",
    "    quantity=1000,\n",
    "    # We want 2 iterations from each node\n",
    "    iterations=2,\n",
    "    return_weight=2.0,\n",
    "    explore_weight=2.0,\n",
    ")"
   ]
  },
  {
   "cell_type": "code",
   "execution_count": 22,
   "metadata": {
    "colab": {
     "base_uri": "https://localhost:8080/"
    },
    "id": "9gisEDeNX3i9",
    "outputId": "dec9134c-a43f-4c4a-8d93-755675174290"
   },
   "outputs": [
    {
     "name": "stdout",
     "output_type": "stream",
     "text": [
      "CPU times: user 1.88 s, sys: 17.3 ms, total: 1.9 s\n",
      "Wall time: 177 ms\n"
     ]
    },
    {
     "data": {
      "text/plain": [
       "array([[    0,  2678,  1961, ..., 10003, 10745,  1052],\n",
       "       [    1,  2967,  2227, ...,   406,  4394, 18911],\n",
       "       [    2,  2661,  9414, ...,  3188,  5415, 16506],\n",
       "       ...,\n",
       "       [19551, 18771, 13619, ..., 15779,  4872, 15779],\n",
       "       [19557, 16304, 15906, ..., 14340,  9833, 14340],\n",
       "       [19558, 12842,  6061, ...,  6325, 12398,  6928]], dtype=uint32)"
      ]
     },
     "execution_count": 22,
     "metadata": {},
     "output_type": "execute_result"
    }
   ],
   "source": [
    "%%time\n",
    "graph.complete_walks(\n",
    "    # We want random walks with length 100\n",
    "    walk_length=32,\n",
    "    # We want 2 iterations from each node\n",
    "    iterations=2,\n",
    "    return_weight=2.0,\n",
    "    explore_weight=2.0,\n",
    ")"
   ]
  },
  {
   "cell_type": "markdown",
   "metadata": {
    "id": "_PrD76Ulb7u_"
   },
   "source": [
    "## Approximated second-order random walks with speedups"
   ]
  },
  {
   "cell_type": "code",
   "execution_count": 23,
   "metadata": {
    "colab": {
     "base_uri": "https://localhost:8080/"
    },
    "id": "eSElShQxcEKR",
    "outputId": "62297cd5-5bb8-40a9-e2ba-85df2ee1b98c"
   },
   "outputs": [
    {
     "name": "stdout",
     "output_type": "stream",
     "text": [
      "CPU times: user 139 ms, sys: 2.4 ms, total: 141 ms\n",
      "Wall time: 14.8 ms\n"
     ]
    },
    {
     "data": {
      "text/plain": [
       "array([[ 9426, 15402,  6110, ..., 15356,  9814, 15356],\n",
       "       [18629,  4007,  3840, ...,  2523,  9546, 12910],\n",
       "       [ 4659,  4019,  4659, ...,  3359, 11058, 16488],\n",
       "       ...,\n",
       "       [ 3387,  9653,  2538, ..., 18061,  3797,  2599],\n",
       "       [13708, 19212, 13708, ..., 19212, 13708, 19212],\n",
       "       [14316, 16827, 10700, ...,    87,  8651,  1641]], dtype=uint32)"
      ]
     },
     "execution_count": 23,
     "metadata": {},
     "output_type": "execute_result"
    }
   ],
   "source": [
    "%%time\n",
    "graph.random_walks(\n",
    "    # We want random walks with length 100\n",
    "    walk_length=32,\n",
    "    # We want to get random walks starting from 1000 random nodes\n",
    "    quantity=1000,\n",
    "    # We want 2 iterations from each node\n",
    "    iterations=2,\n",
    "    return_weight=2.0,\n",
    "    explore_weight=2.0,\n",
    "    # We will subsample the neighbours of the nodes\n",
    "    # dynamically to 100.\n",
    "    max_neighbours=100\n",
    ")"
   ]
  },
  {
   "cell_type": "code",
   "execution_count": 24,
   "metadata": {
    "colab": {
     "base_uri": "https://localhost:8080/"
    },
    "id": "-zuIcIRqb6W4",
    "outputId": "e6a59cb9-c1f3-4d06-9219-db3b1887a09a"
   },
   "outputs": [
    {
     "name": "stdout",
     "output_type": "stream",
     "text": [
      "CPU times: user 1.9 s, sys: 16.6 ms, total: 1.91 s\n",
      "Wall time: 175 ms\n"
     ]
    },
    {
     "data": {
      "text/plain": [
       "array([[    0,  2678,  1961, ..., 10003, 10745,  1052],\n",
       "       [    1,  2967,  2227, ...,   406,  4394, 18911],\n",
       "       [    2,  2661,  9414, ...,  3188,  5415, 16506],\n",
       "       ...,\n",
       "       [19551, 18771, 13619, ..., 15779,  4872, 15779],\n",
       "       [19557, 16304, 15906, ..., 14340,  9833, 14340],\n",
       "       [19558, 12842,  6061, ...,  6325, 12398,  6928]], dtype=uint32)"
      ]
     },
     "execution_count": 24,
     "metadata": {},
     "output_type": "execute_result"
    }
   ],
   "source": [
    "%%time\n",
    "graph.complete_walks(\n",
    "    # We want random walks with length 100\n",
    "    walk_length=32,\n",
    "    # We want 2 iterations from each node\n",
    "    iterations=2,\n",
    "    return_weight=2.0,\n",
    "    explore_weight=2.0,\n",
    "    # We will subsample the neighbours of the nodes\n",
    "    # dynamically to 100.\n",
    "    max_neighbours=100\n",
    ")"
   ]
  }
 ],
 "metadata": {
  "colab": {
   "collapsed_sections": [],
   "name": "Copy of First and Second order random walks.ipynb",
   "provenance": []
  },
  "kernelspec": {
   "display_name": "Python 3 (ipykernel)",
   "language": "python",
   "name": "python3"
  },
  "language_info": {
   "codemirror_mode": {
    "name": "ipython",
    "version": 3
   },
   "file_extension": ".py",
   "mimetype": "text/x-python",
   "name": "python",
   "nbconvert_exporter": "python",
   "pygments_lexer": "ipython3",
   "version": "3.7.13"
  }
 },
 "nbformat": 4,
 "nbformat_minor": 1
}
