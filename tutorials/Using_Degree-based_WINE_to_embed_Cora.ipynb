{
 "cells": [
  {
   "cell_type": "markdown",
   "id": "69dc36b6",
   "metadata": {},
   "source": [
    "# Using Degree-based WINE to embed Cora\n",
    "In this tutorial, we will see how to use the Degree-based WINE\n",
    "node embedding method to compute embedding of the Cora citation graph.\n",
    "We will retrieve the graph, compute its report, and the get visualizations, both\n",
    "single-plot, complete and animated.\n",
    "\n",
    "We will show how to get visualizations both using the most immediate\n",
    "approach, simply using the `GraphVisualizer` object with the embedding method\n",
    "name, and the slightly longer approach creating the embedding model and\n",
    "computing the embedding.\n",
    "\n",
    "Of note, GRAPE provides a single implementation of the Degree-based WINE \n",
    "model, using as backend the Ensmallen library."
   ]
  },
  {
   "cell_type": "markdown",
   "id": "d5e46e3f",
   "metadata": {},
   "source": [
    "## Installing the library\n",
    "First of all, to install GRAPE just run as usual:\n",
    "\n",
    "```bash\n",
    "pip install grape\n",
    "```"
   ]
  },
  {
   "cell_type": "code",
   "execution_count": null,
   "id": "dd8f1db5",
   "metadata": {},
   "outputs": [],
   "source": [
    "!pip install -qU grape"
   ]
  },
  {
   "cell_type": "markdown",
   "id": "a41e0bc3",
   "metadata": {},
   "source": [
    "## Retrieving the graph\n",
    "To retrieve the Cora graph from the LINQS laboratory graph repository\n",
    "we run the following line of code:"
   ]
  },
  {
   "cell_type": "code",
   "execution_count": null,
   "id": "f5ff3e7b",
   "metadata": {},
   "outputs": [],
   "source": [
    "from grape.datasets.linqs import Cora\n",
    "complete_graph = Cora()"
   ]
  },
  {
   "cell_type": "markdown",
   "id": "68560cb2",
   "metadata": {},
   "source": [
    "Do note that we support the retrieval of many other graphs, 83644 at the time of writing,\n",
    "and you just need to import the graph you desire from the `datasets` submodule.\n",
    "\n",
    "Remember that you can peruse the complete list of available graphs by running:"
   ]
  },
  {
   "cell_type": "code",
   "execution_count": null,
   "id": "b0e0a98c",
   "metadata": {},
   "outputs": [],
   "source": [
    "from grape.datasets import get_all_available_graphs_dataframe\n",
    "all_available_graphs_dataframe = get_all_available_graphs_dataframe(verbose=False)\n",
    "all_available_graphs_dataframe"
   ]
  },
  {
   "cell_type": "markdown",
   "id": "a74b29e2",
   "metadata": {},
   "source": [
    "Now, in the retrieved version of the Cora graph we find both nodes representing the\n",
    "papers and nodes representing words present in the paper abstracts.\n",
    "\n",
    "In most benchmarks, only the topology represented by the paper nodes is used and therefore\n",
    "we run a filter that splits the graph into the topology of exclusively the paper nodes and\n",
    "a dataframe containing the one-hot encoded words vectors."
   ]
  },
  {
   "cell_type": "code",
   "execution_count": null,
   "id": "e6570fde",
   "metadata": {},
   "outputs": [],
   "source": [
    "from grape.datasets.linqs import get_words_data\n",
    "graph, node_features = get_words_data(complete_graph)"
   ]
  },
  {
   "cell_type": "markdown",
   "id": "ab2d5744",
   "metadata": {},
   "source": [
    "## Graph report\n",
    "Let's proceed to compute the graph report, which includes both the ordinary topological\n",
    "information, such as the number of edges and number of nodes, number of connectes components\n",
    "and number of singletons, plus many topological oddities.\n",
    "\n",
    "We will see that Cora, even though it is commonly used as a node-label prediction \n",
    "benchmark in the literature, is filled with topological oddities:\n",
    "holdouts that put in the test set nodes belonging to some of these oddities may\n",
    "achieve significantly higher performance than less lucky holdouts, ad models that\n",
    "exploit these oddities may appear as extremely well performing while not actually\n",
    "achieving nothing but overfitting to these graph peculiarities."
   ]
  },
  {
   "cell_type": "code",
   "execution_count": null,
   "id": "f0e33b3b",
   "metadata": {},
   "outputs": [],
   "source": [
    "graph"
   ]
  },
  {
   "cell_type": "markdown",
   "id": "eede2930",
   "metadata": {},
   "source": [
    "## Graph visualizations\n",
    "In GRAPE we support the visualization of a wide variety of graph properties,\n",
    "which may either visualized through PCA, TSNE or UMAP decompositions, as a single plot\n",
    "per property or as a composite plot. Furthermore, single plots may animated through\n",
    "a high-dimensional rotation that allows for a more comprensive view of the embedding\n",
    "decompositions."
   ]
  },
  {
   "cell_type": "markdown",
   "id": "75012dc8",
   "metadata": {},
   "source": [
    "### Computing embedding and plotting the node types\n",
    "We start by showing how to use the `GraphVisualizer` object to compute in a few lines of code\n",
    "a provided node embedding method, and to use the TSNE decomposition to display the node\n",
    "types both in 2D and 4D. The 4D animation is achieved by executing a 4D decomposition,\n",
    "rotating the decomposition in 4D and then plot the first 3 dimensions in a 3-dimensional plot."
   ]
  },
  {
   "cell_type": "code",
   "execution_count": null,
   "id": "66cc7e63",
   "metadata": {},
   "outputs": [],
   "source": [
    "from grape import GraphVisualizer\n",
    "visualizer = GraphVisualizer(graph)\n",
    "\n",
    "# You can either provide the model name\n",
    "visualizer.fit_nodes(\"Degree-based WINE\", library_name=\"Ensmallen\")\n",
    "\n",
    "# Or provide a precomputed embedding (here commented)\n",
    "#\n",
    "# visualizer.fit_nodes(numpy_array_with_embedding)\n",
    "# visualizer.fit_nodes(pandas_dataframe_with_embedding)\n",
    "#\n",
    "# or alternatively provide the model to be used:\n",
    "#\n",
    "# from grape.embedders import DegreeWINE\n",
    "# visualizer.fit_nodes(DegreeWINE())\n",
    "#\n",
    "# And now we can visualize the node types:\n",
    "visualizer.plot_node_types()"
   ]
  },
  {
   "cell_type": "markdown",
   "id": "1c20ee1d",
   "metadata": {},
   "source": [
    "For the 4D animation we will be rendering a webm,\n",
    "but most video formats are supported. Analogously to the bidimensional\n",
    "image, we run:"
   ]
  },
  {
   "cell_type": "code",
   "execution_count": null,
   "id": "39d9a741",
   "metadata": {},
   "outputs": [],
   "source": [
    "visualizer = GraphVisualizer(\n",
    "    graph,\n",
    "    n_components=4,\n",
    "    rotate=True\n",
    ")\n",
    "visualizer.fit_nodes(\"Degree-based WINE\", library_name=\"Ensmallen\")\n",
    "visualizer.plot_node_types()"
   ]
  },
  {
   "cell_type": "markdown",
   "id": "abc9eb78",
   "metadata": {},
   "source": [
    "To obtain instead the complete plot with all of the properties visualized,\n",
    "you may run the following one-liner:"
   ]
  },
  {
   "cell_type": "code",
   "execution_count": null,
   "id": "a9cb3809",
   "metadata": {},
   "outputs": [],
   "source": [
    "GraphVisualizer(graph).fit_and_plot_all(\"Degree-based WINE\", library_name=\"Ensmallen\")\n",
    "        "
   ]
  },
  {
   "cell_type": "markdown",
   "id": "1fca9c00",
   "metadata": {},
   "source": [
    "## Embedding the graph\n",
    "Compute the embedding of the Cora graph using the Degree-based WINE model."
   ]
  },
  {
   "cell_type": "code",
   "execution_count": null,
   "id": "c9748075",
   "metadata": {},
   "outputs": [],
   "source": [
    "from grape.embedders import DegreeWINE\n",
    "embedding = DegreeWINE().fit_transform(graph)"
   ]
  }
 ],
 "metadata": {},
 "nbformat": 4,
 "nbformat_minor": 5
}
