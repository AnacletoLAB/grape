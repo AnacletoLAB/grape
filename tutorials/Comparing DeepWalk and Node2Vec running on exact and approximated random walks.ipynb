{
 "cells": [
  {
   "cell_type": "markdown",
   "id": "7769dff0",
   "metadata": {},
   "source": [
    "# Evaluating DeepWalk, Walklets and Node2Vec trained on exact and approximated random walks\n",
    "\n",
    "In the following notebook we build an evaluation pipeline to evaluate how DeepWalk and Node2Vec performance differ, if at all, when trained on exact and approximated random walks. For DeepWalk, of course, this only applies when the considered graph is a weighted graph.\n",
    "\n",
    "We will be running these experimenst on Homo Sapiens from STRING."
   ]
  },
  {
   "cell_type": "code",
   "execution_count": 1,
   "id": "8d159a58",
   "metadata": {},
   "outputs": [],
   "source": [
    "from grape.edge_prediction import edge_prediction_evaluation, PerceptronEdgePrediction\n",
    "from grape.embedders import DeepWalkGloVeEnsmallen, DeepWalkSkipGramEnsmallen, DeepWalkCBOWEnsmallen\n",
    "from grape.embedders import Node2VecGloVeEnsmallen, Node2VecSkipGramEnsmallen, Node2VecCBOWEnsmallen\n",
    "from grape.embedders import WalkletsGloVeEnsmallen, WalkletsSkipGramEnsmallen, WalkletsCBOWEnsmallen\n",
    "from grape.datasets.string import HomoSapiens\n",
    "import pandas as pd\n",
    "from tqdm.auto import tqdm"
   ]
  },
  {
   "cell_type": "markdown",
   "id": "1509005a",
   "metadata": {},
   "source": [
    "We load the homo sapiens graph and filter it at edge weight = `700`. Furthermore, the graph as it is has singleton nodes, which would be meaningless in a task such as the considered one. Therefore, we proceed to dropping them."
   ]
  },
  {
   "cell_type": "code",
   "execution_count": 2,
   "id": "e1eda4a2",
   "metadata": {},
   "outputs": [],
   "source": [
    "graph = HomoSapiens().filter_from_ids(min_edge_weight=700).remove_disconnected_nodes()\n",
    "graph.enable()"
   ]
  },
  {
   "cell_type": "markdown",
   "id": "2dc3c9ca",
   "metadata": {},
   "source": [
    "And we proceed to building the evaluation pipeline."
   ]
  },
  {
   "cell_type": "code",
   "execution_count": 3,
   "id": "1af7b5d2",
   "metadata": {},
   "outputs": [
    {
     "data": {
      "application/vnd.jupyter.widget-view+json": {
       "model_id": "",
       "version_major": 2,
       "version_minor": 0
      },
      "text/plain": [
       "Approximation:   0%|          | 0/2 [00:00<?, ?it/s]"
      ]
     },
     "metadata": {},
     "output_type": "display_data"
    },
    {
     "data": {
      "application/vnd.jupyter.widget-view+json": {
       "model_id": "",
       "version_major": 2,
       "version_minor": 0
      },
      "text/plain": [
       "Embedding:   0%|          | 0/9 [00:00<?, ?it/s]"
      ]
     },
     "metadata": {},
     "output_type": "display_data"
    },
    {
     "data": {
      "application/vnd.jupyter.widget-view+json": {
       "model_id": "",
       "version_major": 2,
       "version_minor": 0
      },
      "text/plain": [
       "Evaluating on HomoSapiens:   0%|                         | 0/10 [00:00<?, ?it/s]"
      ]
     },
     "metadata": {},
     "output_type": "display_data"
    },
    {
     "data": {
      "application/vnd.jupyter.widget-view+json": {
       "model_id": "",
       "version_major": 2,
       "version_minor": 0
      },
      "text/plain": [
       "Evaluating on HomoSapiens:   0%|                         | 0/10 [00:00<?, ?it/s]"
      ]
     },
     "metadata": {},
     "output_type": "display_data"
    },
    {
     "data": {
      "application/vnd.jupyter.widget-view+json": {
       "model_id": "",
       "version_major": 2,
       "version_minor": 0
      },
      "text/plain": [
       "Evaluating on HomoSapiens:   0%|                         | 0/10 [00:00<?, ?it/s]"
      ]
     },
     "metadata": {},
     "output_type": "display_data"
    },
    {
     "data": {
      "application/vnd.jupyter.widget-view+json": {
       "model_id": "",
       "version_major": 2,
       "version_minor": 0
      },
      "text/plain": [
       "Evaluating on HomoSapiens:   0%|                         | 0/10 [00:00<?, ?it/s]"
      ]
     },
     "metadata": {},
     "output_type": "display_data"
    },
    {
     "data": {
      "application/vnd.jupyter.widget-view+json": {
       "model_id": "",
       "version_major": 2,
       "version_minor": 0
      },
      "text/plain": [
       "Evaluating on HomoSapiens:   0%|                         | 0/10 [00:00<?, ?it/s]"
      ]
     },
     "metadata": {},
     "output_type": "display_data"
    },
    {
     "data": {
      "application/vnd.jupyter.widget-view+json": {
       "model_id": "",
       "version_major": 2,
       "version_minor": 0
      },
      "text/plain": [
       "Evaluating on HomoSapiens:   0%|                         | 0/10 [00:00<?, ?it/s]"
      ]
     },
     "metadata": {},
     "output_type": "display_data"
    },
    {
     "data": {
      "application/vnd.jupyter.widget-view+json": {
       "model_id": "",
       "version_major": 2,
       "version_minor": 0
      },
      "text/plain": [
       "Evaluating on HomoSapiens:   0%|                         | 0/10 [00:00<?, ?it/s]"
      ]
     },
     "metadata": {},
     "output_type": "display_data"
    },
    {
     "data": {
      "application/vnd.jupyter.widget-view+json": {
       "model_id": "",
       "version_major": 2,
       "version_minor": 0
      },
      "text/plain": [
       "Evaluating on HomoSapiens:   0%|                         | 0/10 [00:00<?, ?it/s]"
      ]
     },
     "metadata": {},
     "output_type": "display_data"
    },
    {
     "data": {
      "application/vnd.jupyter.widget-view+json": {
       "model_id": "",
       "version_major": 2,
       "version_minor": 0
      },
      "text/plain": [
       "Evaluating on HomoSapiens:   0%|                         | 0/10 [00:00<?, ?it/s]"
      ]
     },
     "metadata": {},
     "output_type": "display_data"
    },
    {
     "data": {
      "application/vnd.jupyter.widget-view+json": {
       "model_id": "",
       "version_major": 2,
       "version_minor": 0
      },
      "text/plain": [
       "Embedding:   0%|          | 0/9 [00:00<?, ?it/s]"
      ]
     },
     "metadata": {},
     "output_type": "display_data"
    },
    {
     "data": {
      "application/vnd.jupyter.widget-view+json": {
       "model_id": "",
       "version_major": 2,
       "version_minor": 0
      },
      "text/plain": [
       "Evaluating on HomoSapiens:   0%|                         | 0/10 [00:00<?, ?it/s]"
      ]
     },
     "metadata": {},
     "output_type": "display_data"
    },
    {
     "data": {
      "application/vnd.jupyter.widget-view+json": {
       "model_id": "",
       "version_major": 2,
       "version_minor": 0
      },
      "text/plain": [
       "Evaluating on HomoSapiens:   0%|                         | 0/10 [00:00<?, ?it/s]"
      ]
     },
     "metadata": {},
     "output_type": "display_data"
    },
    {
     "data": {
      "application/vnd.jupyter.widget-view+json": {
       "model_id": "",
       "version_major": 2,
       "version_minor": 0
      },
      "text/plain": [
       "Evaluating on HomoSapiens:   0%|                         | 0/10 [00:00<?, ?it/s]"
      ]
     },
     "metadata": {},
     "output_type": "display_data"
    },
    {
     "data": {
      "application/vnd.jupyter.widget-view+json": {
       "model_id": "",
       "version_major": 2,
       "version_minor": 0
      },
      "text/plain": [
       "Evaluating on HomoSapiens:   0%|                         | 0/10 [00:00<?, ?it/s]"
      ]
     },
     "metadata": {},
     "output_type": "display_data"
    },
    {
     "data": {
      "application/vnd.jupyter.widget-view+json": {
       "model_id": "",
       "version_major": 2,
       "version_minor": 0
      },
      "text/plain": [
       "Evaluating on HomoSapiens:   0%|                         | 0/10 [00:00<?, ?it/s]"
      ]
     },
     "metadata": {},
     "output_type": "display_data"
    },
    {
     "data": {
      "application/vnd.jupyter.widget-view+json": {
       "model_id": "",
       "version_major": 2,
       "version_minor": 0
      },
      "text/plain": [
       "Evaluating on HomoSapiens:   0%|                         | 0/10 [00:00<?, ?it/s]"
      ]
     },
     "metadata": {},
     "output_type": "display_data"
    },
    {
     "data": {
      "application/vnd.jupyter.widget-view+json": {
       "model_id": "",
       "version_major": 2,
       "version_minor": 0
      },
      "text/plain": [
       "Evaluating on HomoSapiens:   0%|                         | 0/10 [00:00<?, ?it/s]"
      ]
     },
     "metadata": {},
     "output_type": "display_data"
    },
    {
     "data": {
      "application/vnd.jupyter.widget-view+json": {
       "model_id": "",
       "version_major": 2,
       "version_minor": 0
      },
      "text/plain": [
       "Evaluating on HomoSapiens:   0%|                         | 0/10 [00:00<?, ?it/s]"
      ]
     },
     "metadata": {},
     "output_type": "display_data"
    },
    {
     "data": {
      "application/vnd.jupyter.widget-view+json": {
       "model_id": "",
       "version_major": 2,
       "version_minor": 0
      },
      "text/plain": [
       "Evaluating on HomoSapiens:   0%|                         | 0/10 [00:00<?, ?it/s]"
      ]
     },
     "metadata": {},
     "output_type": "display_data"
    }
   ],
   "source": [
    "results = pd.concat([\n",
    "    edge_prediction_evaluation(\n",
    "        holdouts_kwargs=dict(train_size=0.8),\n",
    "        graphs=graph,\n",
    "        models=[\n",
    "            PerceptronEdgePrediction(\n",
    "                edge_features=None,\n",
    "                edge_embeddings=\"Hadamard\"\n",
    "            ),\n",
    "        ],\n",
    "        number_of_holdouts=10,\n",
    "        node_features=EmbeddingMethod(\n",
    "            # We use slightly less taxing parameters\n",
    "            # for this test, likely with a stronger \n",
    "            # parametrization the differences between\n",
    "            # the various models will be even less noticeable.\n",
    "            epochs=10,\n",
    "            window_size=5,\n",
    "            iterations=3,\n",
    "            max_neighbours=max_neighbours\n",
    "        ),\n",
    "        # !!! IMPORTANT !!!\n",
    "        # Right now we have enabled the smoke test to rapidly run and\n",
    "        # test that everything works. To reproduce the results,\n",
    "        # do set the smoke test flag to `False`.\n",
    "        smoke_test=True,\n",
    "        enable_cache=True\n",
    "    )\n",
    "    # When the `max_neighbours` parameter is set to a value\n",
    "    # higher than the maximum degree of the graph or to None,\n",
    "    # no approximation is employed, while when it is set\n",
    "    # to a provided amount the neighbours will be capped to that value using SUSS.\n",
    "    # Here we use either the number of nodes in the graph or 10, so\n",
    "    # to stress the two different approaches.\n",
    "    for max_neighbours in tqdm(\n",
    "        (graph.get_number_of_nodes(), 10),\n",
    "        desc=\"Approximation\",\n",
    "        leave=False\n",
    "    )\n",
    "    for EmbeddingMethod in tqdm(\n",
    "        (\n",
    "            Node2VecCBOWEnsmallen, Node2VecGloVeEnsmallen, Node2VecSkipGramEnsmallen,\n",
    "            DeepWalkCBOWEnsmallen, DeepWalkGloVeEnsmallen, DeepWalkSkipGramEnsmallen,\n",
    "            WalkletsGloVeEnsmallen, WalkletsSkipGramEnsmallen, WalkletsCBOWEnsmallen\n",
    "        ),\n",
    "        desc=\"Embedding\",\n",
    "        leave=False\n",
    "    )\n",
    "])"
   ]
  }
 ],
 "metadata": {
  "kernelspec": {
   "display_name": "Python 3 (ipykernel)",
   "language": "python",
   "name": "python3"
  },
  "language_info": {
   "codemirror_mode": {
    "name": "ipython",
    "version": 3
   },
   "file_extension": ".py",
   "mimetype": "text/x-python",
   "name": "python",
   "nbconvert_exporter": "python",
   "pygments_lexer": "ipython3",
   "version": "3.7.13"
  }
 },
 "nbformat": 4,
 "nbformat_minor": 5
}
