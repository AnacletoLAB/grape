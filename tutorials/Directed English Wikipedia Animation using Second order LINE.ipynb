{
 "cells": [
  {
   "cell_type": "markdown",
   "id": "f5865e3e",
   "metadata": {},
   "source": [
    "# English Wikipedia Animation using First and Second order LINE\n",
    "Sometimes, expecially when preparing a presentation for a conference or your work colleagues, a good animation can say more than a thousand words.\n",
    "\n",
    "For this reason, we have prepared a straighforward way to create animations for a number of tasks using GRAPE that, through subsampling, can be executed on graphs of arbitrary size.\n",
    "\n",
    "In this brief tutorial, we will show how to get a Directed English Wikipedia embedding using Second-order LINE, and then we will use TSNE decoposition to reduce its dimensionality and plot it into a short video.\n",
    "\n",
    "The resulting WEBM can be converted using one of many services and can be directly incorporated in Google Slides."
   ]
  },
  {
   "cell_type": "markdown",
   "id": "a1518487",
   "metadata": {},
   "source": [
    "## Retrieving English Wikipedia\n",
    "First, we retrieve English Wikipedia:"
   ]
  },
  {
   "cell_type": "code",
   "execution_count": 1,
   "id": "869bccc9",
   "metadata": {},
   "outputs": [
    {
     "name": "stdout",
     "output_type": "stream",
     "text": [
      "CPU times: user 2h 8min 49s, sys: 34.4 s, total: 2h 9min 24s\n",
      "Wall time: 29min 52s\n"
     ]
    }
   ],
   "source": [
    "%%time\n",
    "from grape.datasets.wikipedia import WikiEN\n",
    "\n",
    "english_wikipedia = WikiEN(directed=True)"
   ]
  },
  {
   "cell_type": "markdown",
   "id": "11eb6bf1",
   "metadata": {},
   "source": [
    "Then, let's take a look at its graph report:"
   ]
  },
  {
   "cell_type": "code",
   "execution_count": 2,
   "id": "a7dcf58d",
   "metadata": {},
   "outputs": [
    {
     "data": {
      "text/html": [
       "<div class=\"graph-report\"><style>.graph-report li {margin: 0.5em 0 0.5em 0;}.graph-report .paragraph {text-align: justify;word-break: break-all;}.graph-report .small-columns {column-count: 4;column-gap: 2em;}.graph-report .medium-columns {column-count: 3;column-gap: 2em;}.graph-report .large-columns {column-count: 2;column-gap: 2em;}.graph-report .single-column {}@media only screen and (max-width: 600px) {.graph-report .small-columns {column-count: 1;}.graph-report .medium-columns {column-count: 1;}.graph-report .large-columns {column-count: 1;}}@media only screen and (min-width: 600px) and (max-width: 800px) {.graph-report .small-columns {column-count: 2;}.graph-report .medium-columns {column-count: 1;}.graph-report .large-columns {column-count: 1;}}@media only screen and (min-width: 800px) and (max-width: 1024px) {.graph-report .small-columns {column-count: 3;}.graph-report .medium-columns {column-count: 2;}.graph-report .large-columns {column-count: 1;}}</style><h2>WikiEN</h2><p class=\"paragraph\">The directed multigraph WikiEN has 17.37M heterogeneous nodes and 140.81M heterogeneous edges. The RAM requirements for the nodes and edges data structures are 4.83GB and 425.23MB respectively.</p><h3 style=\"margin: 1em 0 0 0;\">Degree centrality</h3><p class=\"paragraph\">The minimum node degree is 0, the maximum node degree is 11.56K, the mode degree is 0, the mean degree is 8.11 and the node degree median is 0.</p><p class=\"paragraph\">The nodes with the highest degree centrality are index of singapore-related articles (degree 11.56K and node types internal_wiki, singapore-related lists and indexes of topics by country), alphabetical list of municipalities of italy (degree 7.96K and node types internal_wiki, lists of municipalities of italy and alphabetic lists), index of ancient greece-related articles (degree 6.81K and node types internal_wiki, ancient greece and ancient greece-related lists), iucn red list vulnerable species (animalia) (degree 6.01K and node types internal_wiki and iucn red list vulnerable species) and index of telangana-related articles (degree 5.51K and node types internal_wiki, indexes of topics by country and telangana-related lists).</p><h3 style=\"margin: 1em 0 0 0;\">Node types</h3><p class=\"paragraph\">The graph has 1.47M node types, of which the 10 most common are websites (6.53M nodes, 37.60%), internal_wiki (6.29M nodes, 36.23%), external_wiki (4.55M nodes, 26.17%), living people (1.02M nodes, 5.88%), year of birth missing (living people) (143.06K nodes, 0.82%), association football midfielders (59.53K nodes, 0.34%), place of birth missing (living people) (57.68K nodes, 0.33%), american films (56.71K nodes, 0.33%), association football defenders (46.20K nodes, 0.27%) and association football forwards (44.44K nodes, 0.26%). The node types are multi-label, and the node with most node types has 246 node types. The RAM requirement for the node types data structure is 1.29GB.</p><h4 style=\"margin: 1em 0 0 0;\">Approximated isomorphic node types</h4><p class=\"paragraph\">Approximated isomorphic node types groups are node types describing exactly the same set of nodes. Since the graph has a high number of node types (> 50.00K) we use an approximated version of the node types isomorphisms detection. Note that hash collisions and false positives are possible. It is possible to execute the exact computation with the <code>get_isomorphic_node_type_ids_groups</code> method. The presence of such duplicated node types suggests a potential modelling error in the pipeline that has produced this graph. 38.08K isomorphic node types groups were detected in this graph.</p><ol><li><p class=\"paragraph\">Isomorphic node type group containing 2 node types (161 nodes), which are: {{title year range}} nhl season by team and {{title year range}} in american ice hockey by team.</p></li>\n",
       "<li><p class=\"paragraph\">Isomorphic node type group containing 2 node types (116 nodes), which are: songs written by adam clayton and songs written by larry mullen jr..</p></li>\n",
       "<li><p class=\"paragraph\">Isomorphic node type group containing 3 node types (75 nodes), which are: songs written by guy berryman, songs written by jonny buckland and songs written by will champion.</p></li>\n",
       "<li><p class=\"paragraph\">Isomorphic node type group containing 2 node types (106 nodes), which are: grenadian footballers and grenada international footballers.</p></li>\n",
       "<li><p class=\"paragraph\">Isomorphic node type group containing 2 node types (86 nodes), which are: north korean women&#x27;s footballers and north korea women&#x27;s international footballers.</p></li>\n",
       "<li><p class=\"paragraph\">Isomorphic node type group containing 6 node types (28 nodes), which are: burdigalian taxonomic families, langhian taxonomic families, serravallian taxonomic families, tortonian taxonomic families, messinian taxonomic families and another one.</p></li>\n",
       "<li><p class=\"paragraph\">Isomorphic node type group containing 6 node types (27 nodes), which are: piacenzian taxonomic families, gelasian taxonomic families, calabrian taxonomic families, ionian taxonomic families, tarantian taxonomic families and another one.</p></li>\n",
       "<li><p class=\"paragraph\">Isomorphic node type group containing 2 node types (79 nodes), which are: {{title year}} in sports in new york city and {{title year+1}} in sports in new york city.</p></li>\n",
       "<li><p class=\"paragraph\">Isomorphic node type group containing 6 node types (25 nodes), which are: songs written by richard z. kruspe, songs written by paul landers, songs written by till lindemann, songs written by christian lorenz, songs written by oliver riedel and another one.</p></li>\n",
       "<li><p class=\"paragraph\">Isomorphic node type group containing 2 node types (74 nodes), which are: macedonian women&#x27;s footballers and north macedonia women&#x27;s international footballers.</p></li></ol><p class=\"paragraph\">And other 38.07K isomorphic node types.</p><h3 style=\"margin: 1em 0 0 0;\">Edge types</h3><p class=\"paragraph\">The graph has 3 edge types, which are internal_wiki_link (128.45M edges, 91.23%), external_wiki_link (7.81M edges, 5.54%) and websites_link (4.55M edges, 3.23%). The RAM requirement for the edge types data structure is 563.23MB.</p><h3 style=\"margin: 1em 0 0 0;\">Topological Oddities</h3><p class=\"paragraph\">A topological oddity is a set of nodes in the graph that <i>may be derived</i> by an error during the generation of the edge list of the graph and, depending on the task, could bias the results of topology-based models. Note that in a directed graph we only support the detection of isomorphic nodes. In the following paragraph, we will describe the detected topological oddities.</p><h4 style=\"margin: 1em 0 0 0;\">Singleton nodes</h4><p class=\"paragraph\">A singleton node is a node disconnected from all other nodes. We have detected 21.56K singleton nodes in the graph, involving a total of 21.56K nodes (0.12%). The detected singleton nodes are:</p><ul class=\"small-columns\"><li><p class=\"paragraph\">uss tullibee (node types internal_wiki and united states navy ship names)</p></li>\n",
       "<li><p class=\"paragraph\">1430s (node types internal_wiki and 1430s)</p></li>\n",
       "<li><p class=\"paragraph\">220s bc (node types internal_wiki and 220s bc)</p></li>\n",
       "<li><p class=\"paragraph\">1160s (node types internal_wiki and 1160s)</p></li>\n",
       "<li><p class=\"paragraph\">750s (node types internal_wiki and 750s)</p></li>\n",
       "<li><p class=\"paragraph\">740s (node types internal_wiki and 740s)</p></li>\n",
       "<li><p class=\"paragraph\">720s (node types internal_wiki and 720s)</p></li>\n",
       "<li><p class=\"paragraph\">710s (node types internal_wiki and 710s)</p></li>\n",
       "<li><p class=\"paragraph\">610s (node types internal_wiki and 610s)</p></li>\n",
       "<li><p class=\"paragraph\">1150s (node types internal_wiki and 1150s)</p></li>\n",
       "<li><p class=\"paragraph\">380s (node types internal_wiki and 380s)</p></li>\n",
       "<li><p class=\"paragraph\">470s (node types internal_wiki and 470s)</p></li>\n",
       "<li><p class=\"paragraph\">1380s (node types internal_wiki and 1380s)</p></li>\n",
       "<li><p class=\"paragraph\">430s (node types internal_wiki and 430s)</p></li>\n",
       "<li><p class=\"paragraph\">1090s (node types internal_wiki and 1090s)</p></li></ul><p class=\"paragraph\">And other 21.54K singleton nodes.</p><h4 style=\"margin: 1em 0 0 0;\">Singleton nodes with self-loops</h4><p class=\"paragraph\">A singleton node with self-loops is a node disconnected from all other nodes except itself. We have detected 6 singleton nodes with self-loops in the graph, involving a total of 6 nodes and 6 edges. The detected singleton nodes with self-loops are:</p><ul class=\"small-columns\"><li><p class=\"paragraph\">bangor transportation center (node types internal_wiki, bus stations in maine, buildings and structures in bangor, maine and transportation buildings and structures in penobscot county, maine)</p></li>\n",
       "<li><p class=\"paragraph\">sextus anicius faustus paulinus (node type internal_wiki)</p></li>\n",
       "<li><p class=\"paragraph\">naval force 3 (node types internal_wiki and french boat builders)</p></li>\n",
       "<li><p class=\"paragraph\">fanta cake (node types internal_wiki, cakes, german cuisine and german cakes)</p></li>\n",
       "<li><p class=\"paragraph\">synolos (node types internal_wiki and 2010 establishments in the united kingdom)</p></li>\n",
       "<li><p class=\"paragraph\">like they say in l.a. (node types internal_wiki, 1975 songs, 1975 singles, songs about los angeles and disco songs)</p></li></ul><h4 style=\"margin: 1em 0 0 0;\">Isomorphic node groups</h4><p class=\"paragraph\">Isomorphic groups are nodes with exactly the same neighbours and node types (if present in the graph). Nodes in such groups are topologically indistinguishable, that is swapping their ID would not change the graph topology. We have detected 31.68K isomorphic node groups in the graph, involving a total of 210.86K nodes (1.21%) and 1.37M edges (0.97%), with the largest one involving 854 nodes and 6.83K edges. The detected isomorphic node groups, sorted by decreasing size, are:</p><ol class=\"medium-columns\"><li><p class=\"paragraph\">Group with 854 nodes (degree 8 and node types internal_wiki, turbonilla and gastropods described in 1896): turbonilla vaillanti, turbonilla pumila, turbonilla indonesiae, turbonilla fatuhiva, turbonilla scala and other 849.</p></li>\n",
       "<li><p class=\"paragraph\">Group with 798 nodes (degree 6 and node types internal_wiki, muricidae and gastropods described in 1972): bizetiella micaela, trophonopsis aberrans, pagodula guineensis, enixotrophon kosunorum, pagodula limicola and other 793.</p></li>\n",
       "<li><p class=\"paragraph\">Group with 555 nodes (degree 6 and node types internal_wiki, communes of aisne and aisne communes articles needing translation from french wikipedia): missy-lès-pierrepont, villers-lès-guise, neuilly-saint-front, chassemy, la neuville-bosmont and other 550.</p></li>\n",
       "<li><p class=\"paragraph\">Group with 446 nodes (degree 7 and node types internal_wiki and communes of haute-saône): chassey-lès-scey, pusey, haute-saône, équevilley, éhuns, hugier and other 441.</p></li>\n",
       "<li><p class=\"paragraph\">Group with 547 nodes (degree 5 and node types internal_wiki and communes of oise): ercuis, genvry, cuvilly, fléchy, clairoix and other 542.</p></li>\n",
       "<li><p class=\"paragraph\">Group with 293 nodes (degree 9 and node types internal_wiki, rissoidae and gastropods described in 1868): alvania tessellata, crisilla amphiglypha, rissoa auriformis, rissoa decorata, rissoa euxinica and other 288.</p></li>\n",
       "<li><p class=\"paragraph\">Group with 393 nodes (degree 6 and node types internal_wiki and communes of moselle (department)): kappelkinger, ajoncourt, œting, wiesviller, elzange and other 388.</p></li>\n",
       "<li><p class=\"paragraph\">Group with 373 nodes (degree 6 and node types internal_wiki, fusinus and gastropods described in 2007): fusinus dimassai, africolaria rutila, fusolatirus higoi, fusolatirus coreanicus, fusinus zacae and other 368.</p></li>\n",
       "<li><p class=\"paragraph\">Group with 318 nodes (degree 7 and node types internal_wiki and communes of saône-et-loire): ciel, saône-et-loire, sailly, saône-et-loire, montcony, montcoy, saillenard and other 313.</p></li>\n",
       "<li><p class=\"paragraph\">Group with 423 nodes (degree 5 and node types internal_wiki and communes of côte-d&#x27;or): foncegrive, véronnes, ternant, côte-d&#x27;or, culètre, remilly-sur-tille and other 418.</p></li>\n",
       "<li><p class=\"paragraph\">Group with 122 nodes (degree 17 and node types internal_wiki and villages in mulshi taluka): wadavali, mulshi, jamgaon, mulshi, bhadas bk., dattawadi, botarwadi and other 117.</p></li>\n",
       "<li><p class=\"paragraph\">Group with 159 nodes (degree 13 and node types internal_wiki and villages in kapurthala district): shahdullahpur, sultanpur lodhi, shiv dayalwala, ucha, sultanpur lodhi, patti bhalu bahadur, patti bakarpur and other 154.</p></li>\n",
       "<li><p class=\"paragraph\">Group with 391 nodes (degree 5 and node types internal_wiki and communes of haute-garonne): montgazin, saint-martory, mondonville, haute-garonne, francazal, labarthe-rivière and other 386.</p></li>\n",
       "<li><p class=\"paragraph\">Group with 272 nodes (degree 7 and node types internal_wiki, communes of calvados (department) and calvados communes articles needing translation from french wikipedia): la pommeraye, calvados, maisoncelles-sur-ajon, saint-côme-de-fresné, maisoncelles-pelvey, lingèvres and other 267.</p></li>\n",
       "<li><p class=\"paragraph\">Group with 110 nodes (degree 17 and node types internal_wiki and villages in jalandhar district): chak yusafpur allewal, danewal, punjab, gatti pir bakhsh, ida, punjab, raiwal dona and other 105.</p></li></ol><p class=\"paragraph\">And other 31.66K isomorphic node groups.</p></div>"
      ],
      "text/plain": [
       "<div class=\"graph-report\"><style>.graph-report li {margin: 0.5em 0 0.5em 0;}.graph-report .paragraph {text-align: justify;word-break: break-all;}.graph-report .small-columns {column-count: 4;column-gap: 2em;}.graph-report .medium-columns {column-count: 3;column-gap: 2em;}.graph-report .large-columns {column-count: 2;column-gap: 2em;}.graph-report .single-column {}@media only screen and (max-width: 600px) {.graph-report .small-columns {column-count: 1;}.graph-report .medium-columns {column-count: 1;}.graph-report .large-columns {column-count: 1;}}@media only screen and (min-width: 600px) and (max-width: 800px) {.graph-report .small-columns {column-count: 2;}.graph-report .medium-columns {column-count: 1;}.graph-report .large-columns {column-count: 1;}}@media only screen and (min-width: 800px) and (max-width: 1024px) {.graph-report .small-columns {column-count: 3;}.graph-report .medium-columns {column-count: 2;}.graph-report .large-columns {column-count: 1;}}</style><h2>WikiEN</h2><p class=\"paragraph\">The directed multigraph WikiEN has 17.37M heterogeneous nodes and 140.81M heterogeneous edges. The RAM requirements for the nodes and edges data structures are 4.83GB and 425.23MB respectively.</p><h3 style=\"margin: 1em 0 0 0;\">Degree centrality</h3><p class=\"paragraph\">The minimum node degree is 0, the maximum node degree is 11.56K, the mode degree is 0, the mean degree is 8.11 and the node degree median is 0.</p><p class=\"paragraph\">The nodes with the highest degree centrality are index of singapore-related articles (degree 11.56K and node types internal_wiki, singapore-related lists and indexes of topics by country), alphabetical list of municipalities of italy (degree 7.96K and node types internal_wiki, lists of municipalities of italy and alphabetic lists), index of ancient greece-related articles (degree 6.81K and node types internal_wiki, ancient greece and ancient greece-related lists), iucn red list vulnerable species (animalia) (degree 6.01K and node types internal_wiki and iucn red list vulnerable species) and index of telangana-related articles (degree 5.51K and node types internal_wiki, indexes of topics by country and telangana-related lists).</p><h3 style=\"margin: 1em 0 0 0;\">Node types</h3><p class=\"paragraph\">The graph has 1.47M node types, of which the 10 most common are websites (6.53M nodes, 37.60%), internal_wiki (6.29M nodes, 36.23%), external_wiki (4.55M nodes, 26.17%), living people (1.02M nodes, 5.88%), year of birth missing (living people) (143.06K nodes, 0.82%), association football midfielders (59.53K nodes, 0.34%), place of birth missing (living people) (57.68K nodes, 0.33%), american films (56.71K nodes, 0.33%), association football defenders (46.20K nodes, 0.27%) and association football forwards (44.44K nodes, 0.26%). The node types are multi-label, and the node with most node types has 246 node types. The RAM requirement for the node types data structure is 1.29GB.</p><h4 style=\"margin: 1em 0 0 0;\">Approximated isomorphic node types</h4><p class=\"paragraph\">Approximated isomorphic node types groups are node types describing exactly the same set of nodes. Since the graph has a high number of node types (> 50.00K) we use an approximated version of the node types isomorphisms detection. Note that hash collisions and false positives are possible. It is possible to execute the exact computation with the <code>get_isomorphic_node_type_ids_groups</code> method. The presence of such duplicated node types suggests a potential modelling error in the pipeline that has produced this graph. 38.08K isomorphic node types groups were detected in this graph.</p><ol><li><p class=\"paragraph\">Isomorphic node type group containing 2 node types (161 nodes), which are: {{title year range}} nhl season by team and {{title year range}} in american ice hockey by team.</p></li>\n",
       "<li><p class=\"paragraph\">Isomorphic node type group containing 2 node types (116 nodes), which are: songs written by adam clayton and songs written by larry mullen jr..</p></li>\n",
       "<li><p class=\"paragraph\">Isomorphic node type group containing 3 node types (75 nodes), which are: songs written by guy berryman, songs written by jonny buckland and songs written by will champion.</p></li>\n",
       "<li><p class=\"paragraph\">Isomorphic node type group containing 2 node types (106 nodes), which are: grenadian footballers and grenada international footballers.</p></li>\n",
       "<li><p class=\"paragraph\">Isomorphic node type group containing 2 node types (86 nodes), which are: north korean women&#x27;s footballers and north korea women&#x27;s international footballers.</p></li>\n",
       "<li><p class=\"paragraph\">Isomorphic node type group containing 6 node types (28 nodes), which are: burdigalian taxonomic families, langhian taxonomic families, serravallian taxonomic families, tortonian taxonomic families, messinian taxonomic families and another one.</p></li>\n",
       "<li><p class=\"paragraph\">Isomorphic node type group containing 6 node types (27 nodes), which are: piacenzian taxonomic families, gelasian taxonomic families, calabrian taxonomic families, ionian taxonomic families, tarantian taxonomic families and another one.</p></li>\n",
       "<li><p class=\"paragraph\">Isomorphic node type group containing 2 node types (79 nodes), which are: {{title year}} in sports in new york city and {{title year+1}} in sports in new york city.</p></li>\n",
       "<li><p class=\"paragraph\">Isomorphic node type group containing 6 node types (25 nodes), which are: songs written by richard z. kruspe, songs written by paul landers, songs written by till lindemann, songs written by christian lorenz, songs written by oliver riedel and another one.</p></li>\n",
       "<li><p class=\"paragraph\">Isomorphic node type group containing 2 node types (74 nodes), which are: macedonian women&#x27;s footballers and north macedonia women&#x27;s international footballers.</p></li></ol><p class=\"paragraph\">And other 38.07K isomorphic node types.</p><h3 style=\"margin: 1em 0 0 0;\">Edge types</h3><p class=\"paragraph\">The graph has 3 edge types, which are internal_wiki_link (128.45M edges, 91.23%), external_wiki_link (7.81M edges, 5.54%) and websites_link (4.55M edges, 3.23%). The RAM requirement for the edge types data structure is 563.23MB.</p><h3 style=\"margin: 1em 0 0 0;\">Topological Oddities</h3><p class=\"paragraph\">A topological oddity is a set of nodes in the graph that <i>may be derived</i> by an error during the generation of the edge list of the graph and, depending on the task, could bias the results of topology-based models. Note that in a directed graph we only support the detection of isomorphic nodes. In the following paragraph, we will describe the detected topological oddities.</p><h4 style=\"margin: 1em 0 0 0;\">Singleton nodes</h4><p class=\"paragraph\">A singleton node is a node disconnected from all other nodes. We have detected 21.56K singleton nodes in the graph, involving a total of 21.56K nodes (0.12%). The detected singleton nodes are:</p><ul class=\"small-columns\"><li><p class=\"paragraph\">uss tullibee (node types internal_wiki and united states navy ship names)</p></li>\n",
       "<li><p class=\"paragraph\">1430s (node types internal_wiki and 1430s)</p></li>\n",
       "<li><p class=\"paragraph\">220s bc (node types internal_wiki and 220s bc)</p></li>\n",
       "<li><p class=\"paragraph\">1160s (node types internal_wiki and 1160s)</p></li>\n",
       "<li><p class=\"paragraph\">750s (node types internal_wiki and 750s)</p></li>\n",
       "<li><p class=\"paragraph\">740s (node types internal_wiki and 740s)</p></li>\n",
       "<li><p class=\"paragraph\">720s (node types internal_wiki and 720s)</p></li>\n",
       "<li><p class=\"paragraph\">710s (node types internal_wiki and 710s)</p></li>\n",
       "<li><p class=\"paragraph\">610s (node types internal_wiki and 610s)</p></li>\n",
       "<li><p class=\"paragraph\">1150s (node types internal_wiki and 1150s)</p></li>\n",
       "<li><p class=\"paragraph\">380s (node types internal_wiki and 380s)</p></li>\n",
       "<li><p class=\"paragraph\">470s (node types internal_wiki and 470s)</p></li>\n",
       "<li><p class=\"paragraph\">1380s (node types internal_wiki and 1380s)</p></li>\n",
       "<li><p class=\"paragraph\">430s (node types internal_wiki and 430s)</p></li>\n",
       "<li><p class=\"paragraph\">1090s (node types internal_wiki and 1090s)</p></li></ul><p class=\"paragraph\">And other 21.54K singleton nodes.</p><h4 style=\"margin: 1em 0 0 0;\">Singleton nodes with self-loops</h4><p class=\"paragraph\">A singleton node with self-loops is a node disconnected from all other nodes except itself. We have detected 6 singleton nodes with self-loops in the graph, involving a total of 6 nodes and 6 edges. The detected singleton nodes with self-loops are:</p><ul class=\"small-columns\"><li><p class=\"paragraph\">bangor transportation center (node types internal_wiki, bus stations in maine, buildings and structures in bangor, maine and transportation buildings and structures in penobscot county, maine)</p></li>\n",
       "<li><p class=\"paragraph\">sextus anicius faustus paulinus (node type internal_wiki)</p></li>\n",
       "<li><p class=\"paragraph\">naval force 3 (node types internal_wiki and french boat builders)</p></li>\n",
       "<li><p class=\"paragraph\">fanta cake (node types internal_wiki, cakes, german cuisine and german cakes)</p></li>\n",
       "<li><p class=\"paragraph\">synolos (node types internal_wiki and 2010 establishments in the united kingdom)</p></li>\n",
       "<li><p class=\"paragraph\">like they say in l.a. (node types internal_wiki, 1975 songs, 1975 singles, songs about los angeles and disco songs)</p></li></ul><h4 style=\"margin: 1em 0 0 0;\">Isomorphic node groups</h4><p class=\"paragraph\">Isomorphic groups are nodes with exactly the same neighbours and node types (if present in the graph). Nodes in such groups are topologically indistinguishable, that is swapping their ID would not change the graph topology. We have detected 31.68K isomorphic node groups in the graph, involving a total of 210.86K nodes (1.21%) and 1.37M edges (0.97%), with the largest one involving 854 nodes and 6.83K edges. The detected isomorphic node groups, sorted by decreasing size, are:</p><ol class=\"medium-columns\"><li><p class=\"paragraph\">Group with 854 nodes (degree 8 and node types internal_wiki, turbonilla and gastropods described in 1896): turbonilla vaillanti, turbonilla pumila, turbonilla indonesiae, turbonilla fatuhiva, turbonilla scala and other 849.</p></li>\n",
       "<li><p class=\"paragraph\">Group with 798 nodes (degree 6 and node types internal_wiki, muricidae and gastropods described in 1972): bizetiella micaela, trophonopsis aberrans, pagodula guineensis, enixotrophon kosunorum, pagodula limicola and other 793.</p></li>\n",
       "<li><p class=\"paragraph\">Group with 555 nodes (degree 6 and node types internal_wiki, communes of aisne and aisne communes articles needing translation from french wikipedia): missy-lès-pierrepont, villers-lès-guise, neuilly-saint-front, chassemy, la neuville-bosmont and other 550.</p></li>\n",
       "<li><p class=\"paragraph\">Group with 446 nodes (degree 7 and node types internal_wiki and communes of haute-saône): chassey-lès-scey, pusey, haute-saône, équevilley, éhuns, hugier and other 441.</p></li>\n",
       "<li><p class=\"paragraph\">Group with 547 nodes (degree 5 and node types internal_wiki and communes of oise): ercuis, genvry, cuvilly, fléchy, clairoix and other 542.</p></li>\n",
       "<li><p class=\"paragraph\">Group with 293 nodes (degree 9 and node types internal_wiki, rissoidae and gastropods described in 1868): alvania tessellata, crisilla amphiglypha, rissoa auriformis, rissoa decorata, rissoa euxinica and other 288.</p></li>\n",
       "<li><p class=\"paragraph\">Group with 393 nodes (degree 6 and node types internal_wiki and communes of moselle (department)): kappelkinger, ajoncourt, œting, wiesviller, elzange and other 388.</p></li>\n",
       "<li><p class=\"paragraph\">Group with 373 nodes (degree 6 and node types internal_wiki, fusinus and gastropods described in 2007): fusinus dimassai, africolaria rutila, fusolatirus higoi, fusolatirus coreanicus, fusinus zacae and other 368.</p></li>\n",
       "<li><p class=\"paragraph\">Group with 318 nodes (degree 7 and node types internal_wiki and communes of saône-et-loire): ciel, saône-et-loire, sailly, saône-et-loire, montcony, montcoy, saillenard and other 313.</p></li>\n",
       "<li><p class=\"paragraph\">Group with 423 nodes (degree 5 and node types internal_wiki and communes of côte-d&#x27;or): foncegrive, véronnes, ternant, côte-d&#x27;or, culètre, remilly-sur-tille and other 418.</p></li>\n",
       "<li><p class=\"paragraph\">Group with 122 nodes (degree 17 and node types internal_wiki and villages in mulshi taluka): wadavali, mulshi, jamgaon, mulshi, bhadas bk., dattawadi, botarwadi and other 117.</p></li>\n",
       "<li><p class=\"paragraph\">Group with 159 nodes (degree 13 and node types internal_wiki and villages in kapurthala district): shahdullahpur, sultanpur lodhi, shiv dayalwala, ucha, sultanpur lodhi, patti bhalu bahadur, patti bakarpur and other 154.</p></li>\n",
       "<li><p class=\"paragraph\">Group with 391 nodes (degree 5 and node types internal_wiki and communes of haute-garonne): montgazin, saint-martory, mondonville, haute-garonne, francazal, labarthe-rivière and other 386.</p></li>\n",
       "<li><p class=\"paragraph\">Group with 272 nodes (degree 7 and node types internal_wiki, communes of calvados (department) and calvados communes articles needing translation from french wikipedia): la pommeraye, calvados, maisoncelles-sur-ajon, saint-côme-de-fresné, maisoncelles-pelvey, lingèvres and other 267.</p></li>\n",
       "<li><p class=\"paragraph\">Group with 110 nodes (degree 17 and node types internal_wiki and villages in jalandhar district): chak yusafpur allewal, danewal, punjab, gatti pir bakhsh, ida, punjab, raiwal dona and other 105.</p></li></ol><p class=\"paragraph\">And other 31.66K isomorphic node groups.</p></div>"
      ]
     },
     "execution_count": 2,
     "metadata": {},
     "output_type": "execute_result"
    }
   ],
   "source": [
    "english_wikipedia"
   ]
  },
  {
   "cell_type": "markdown",
   "id": "b215619d",
   "metadata": {},
   "source": [
    "## Connected holdout\n",
    "Since we want to visualize an edge prediction task on this graph, we need to create a connected holdout:"
   ]
  },
  {
   "cell_type": "code",
   "execution_count": 4,
   "id": "05e77dd8",
   "metadata": {},
   "outputs": [
    {
     "name": "stdout",
     "output_type": "stream",
     "text": [
      "CPU times: user 2h 11min 48s, sys: 4.64 s, total: 2h 11min 53s\n",
      "Wall time: 8min 17s\n"
     ]
    }
   ],
   "source": [
    "%%time\n",
    "train, test = english_wikipedia.connected_holdout(train_size=0.7)\n",
    "train.enable()"
   ]
  },
  {
   "cell_type": "markdown",
   "id": "901ca0d5",
   "metadata": {},
   "source": [
    "## Compute the embedding\n",
    "Next, we compute the embedding using the Second-order LINE method. Do note that this implementation is a data-race aware one that uses SGD as optimizer, and nothing fancy like ADAM or NADAM: this means that the memory footprint is only limited to the embedding size."
   ]
  },
  {
   "cell_type": "code",
   "execution_count": 5,
   "id": "d39c9173",
   "metadata": {},
   "outputs": [],
   "source": [
    "from grape.embedders import SecondOrderLINEEnsmallen"
   ]
  },
  {
   "cell_type": "code",
   "execution_count": 6,
   "id": "90107f7b",
   "metadata": {},
   "outputs": [
    {
     "name": "stderr",
     "output_type": "stream",
     "text": [
      "/home/luca/anaconda3/lib/python3.9/site-packages/embiggen/utils/abstract_models/abstract_embedding_model.py:166: UserWarning: Please be advised that the WikiEN train graph contains 21562 disconnected nodes. Consider that node embedding algorithms that only use topological information such as CBOW, GloVe, SPINE and SkipGram are not able to provide meaningful embeddings for these nodes, and their embedding will be generally far away from any other node. It is also possible that all disconnected nodes will receive a relatively similar node embedding. Consider dropping them by using the `graph.remove_disconnected_nodes()` method.\n",
      "  warnings.warn(\n"
     ]
    },
    {
     "name": "stdout",
     "output_type": "stream",
     "text": [
      "CPU times: user 5h 46min 54s, sys: 50.6 s, total: 5h 47min 45s\n",
      "Wall time: 15min 16s\n"
     ]
    }
   ],
   "source": [
    "%%time\n",
    "second_order_embedding = SecondOrderLINEEnsmallen().fit_transform(train)"
   ]
  },
  {
   "cell_type": "markdown",
   "id": "fb417e8b",
   "metadata": {},
   "source": [
    "## Visualize the embedding on the test graph\n",
    "We are at the end, finally visualizing the test graph."
   ]
  },
  {
   "cell_type": "code",
   "execution_count": 8,
   "id": "082aafd5",
   "metadata": {},
   "outputs": [],
   "source": [
    "%%time\n",
    "from grape import GraphVisualizer\n",
    "\n",
    "vis = GraphVisualizer(\n",
    "    graph=test,\n",
    "    support=train,\n",
    "    n_components=4,\n",
    "    edge_embedding_method=\"Hadamard\",\n",
    "    rotate=True,\n",
    "    verbose=True,\n",
    "    # Automatically, since LINE learns a cosine, the visualization tool\n",
    "    # would dispatch a Cosine-distance based TSNE. This would use the sklearn\n",
    "    # implementation, which is terribly slow. Therefore, we force it to use the Euclidean distance\n",
    "    # and therefore the Multicore TSNE implementation (when available).\n",
    "    decomposition_kwargs=dict(metric=\"euclidean\")\n",
    ")"
   ]
  },
  {
   "cell_type": "markdown",
   "id": "ec2828fa",
   "metadata": {},
   "source": [
    "Then we run the TSNE, this may take a while."
   ]
  },
  {
   "cell_type": "code",
   "execution_count": 9,
   "id": "5d928398",
   "metadata": {},
   "outputs": [
    {
     "name": "stderr",
     "output_type": "stream",
     "text": [
      "Performing t-SNE using 24 cores.\n",
      "Using no_dims = 4, perplexity = 30.000000, and theta = 0.500000\n",
      "Computing input similarities...\n",
      "Building tree...\n",
      " - point 2000 of 20000\n",
      " - point 4000 of 20000\n",
      " - point 6000 of 20000\n",
      " - point 8000 of 20000\n",
      " - point 10000 of 20000\n",
      " - point 12000 of 20000\n",
      " - point 14000 of 20000\n",
      " - point 16000 of 20000\n",
      " - point 18000 of 20000\n",
      " - point 20000 of 20000\n",
      "Done in 1.00 seconds (sparsity = 0.007598)!\n",
      "Learning embedding...\n",
      "Iteration 51: error is 102.865125 (50 iterations in 5.00 seconds)\n",
      "Iteration 101: error is 102.725834 (50 iterations in 7.00 seconds)\n",
      "Iteration 151: error is 102.540174 (50 iterations in 8.00 seconds)\n",
      "Iteration 201: error is 102.513155 (50 iterations in 8.00 seconds)\n",
      "Iteration 251: error is 102.511385 (50 iterations in 8.00 seconds)\n",
      "Iteration 301: error is 4.877847 (50 iterations in 5.00 seconds)\n",
      "Iteration 351: error is 4.600061 (50 iterations in 6.00 seconds)\n",
      "Iteration 400: error is 4.445273 (50 iterations in 5.00 seconds)\n"
     ]
    },
    {
     "name": "stdout",
     "output_type": "stream",
     "text": [
      "CPU times: user 7min 47s, sys: 13min 20s, total: 21min 8s\n",
      "Wall time: 57.4 s\n"
     ]
    },
    {
     "name": "stderr",
     "output_type": "stream",
     "text": [
      "Fitting performed in 52.00 seconds.\n"
     ]
    }
   ],
   "source": [
    "%%time\n",
    "vis.fit_negative_and_positive_edges(second_order_embedding)"
   ]
  },
  {
   "cell_type": "code",
   "execution_count": 10,
   "id": "5548419a",
   "metadata": {},
   "outputs": [
    {
     "data": {
      "application/vnd.jupyter.widget-view+json": {
       "model_id": "",
       "version_major": 2,
       "version_minor": 0
      },
      "text/plain": [
       "Rendering frames:   0%|                                                                                       …"
      ]
     },
     "metadata": {},
     "output_type": "display_data"
    },
    {
     "name": "stderr",
     "output_type": "stream",
     "text": [
      "OpenCV: FFMPEG: tag 0x30387076/'vp80' is not supported with codec id 139 and format 'webm / WebM'\n"
     ]
    },
    {
     "data": {
      "application/vnd.jupyter.widget-view+json": {
       "model_id": "",
       "version_major": 2,
       "version_minor": 0
      },
      "text/plain": [
       "Merging frames:   0%|                                                                                         …"
      ]
     },
     "metadata": {},
     "output_type": "display_data"
    },
    {
     "name": "stdout",
     "output_type": "stream",
     "text": [
      "CPU times: user 9min 35s, sys: 12.2 s, total: 9min 47s\n",
      "Wall time: 1min 36s\n"
     ]
    },
    {
     "data": {
      "text/html": [
       "<center><video width=\"480\" height=\"480\" src=\"edgepredictionwikientestsecond-orderlinehadamard.webm\" autoplay muted playsinline loop><source src=\"edgepredictionwikientestsecond-orderlinehadamard.webm\" type=\"video/webm\" />Your browser does not support the video tag.</video></center>"
      ],
      "text/plain": [
       "<IPython.core.display.HTML object>"
      ]
     },
     "execution_count": 10,
     "metadata": {},
     "output_type": "execute_result"
    }
   ],
   "source": [
    "%%time\n",
    "vis.plot_positive_and_negative_edges()"
   ]
  }
 ],
 "metadata": {
  "kernelspec": {
   "display_name": "Python 3 (ipykernel)",
   "language": "python",
   "name": "python3"
  },
  "language_info": {
   "codemirror_mode": {
    "name": "ipython",
    "version": 3
   },
   "file_extension": ".py",
   "mimetype": "text/x-python",
   "name": "python",
   "nbconvert_exporter": "python",
   "pygments_lexer": "ipython3",
   "version": "3.9.7"
  }
 },
 "nbformat": 4,
 "nbformat_minor": 5
}
