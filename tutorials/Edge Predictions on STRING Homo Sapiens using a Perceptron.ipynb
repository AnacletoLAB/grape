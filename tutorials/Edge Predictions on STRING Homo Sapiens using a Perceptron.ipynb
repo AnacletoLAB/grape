{
 "cells": [
  {
   "cell_type": "code",
   "execution_count": 1,
   "id": "a0906ccb",
   "metadata": {},
   "outputs": [],
   "source": [
    "from grape.edge_prediction import PerceptronEdgePrediction\n",
    "from grape.embedders import FirstOrderLINEEnsmallen\n",
    "from grape.datasets.string import HomoSapiens"
   ]
  },
  {
   "cell_type": "code",
   "execution_count": 2,
   "id": "e10c6304",
   "metadata": {},
   "outputs": [
    {
     "name": "stdout",
     "output_type": "stream",
     "text": [
      "CPU times: user 18.8 s, sys: 638 ms, total: 19.4 s\n",
      "Wall time: 8.36 s\n"
     ]
    }
   ],
   "source": [
    "%%time\n",
    "graph = HomoSapiens()\\\n",
    "    .filter_from_ids(min_edge_weight=700)\\\n",
    "    .remove_disconnected_nodes()"
   ]
  },
  {
   "cell_type": "code",
   "execution_count": 3,
   "id": "0751e40c",
   "metadata": {},
   "outputs": [],
   "source": [
    "train, test = graph.connected_holdout(train_size=0.7)"
   ]
  },
  {
   "cell_type": "code",
   "execution_count": 4,
   "id": "c521e561",
   "metadata": {},
   "outputs": [
    {
     "name": "stdout",
     "output_type": "stream",
     "text": [
      "CPU times: user 38.1 s, sys: 58.5 ms, total: 38.1 s\n",
      "Wall time: 1.71 s\n"
     ]
    }
   ],
   "source": [
    "%%time\n",
    "embedding = FirstOrderLINEEnsmallen().fit_transform(train)"
   ]
  },
  {
   "cell_type": "code",
   "execution_count": 9,
   "id": "7c0bd0d3",
   "metadata": {},
   "outputs": [
    {
     "name": "stdout",
     "output_type": "stream",
     "text": [
      "CPU times: user 11min 8s, sys: 2min 2s, total: 13min 11s\n",
      "Wall time: 37.3 s\n"
     ]
    }
   ],
   "source": [
    "%%time\n",
    "model = PerceptronEdgePrediction(\n",
    "    edge_features=None,\n",
    "    number_of_edges_per_mini_batch=32,\n",
    "    edge_embeddings=\"CosineSimilarity\"\n",
    ")\n",
    "model.fit(\n",
    "    graph=train, \n",
    "    node_features=embedding\n",
    ")"
   ]
  },
  {
   "cell_type": "markdown",
   "id": "9dad6a79",
   "metadata": {},
   "source": [
    "There are a number of possible prediction methods:"
   ]
  },
  {
   "cell_type": "code",
   "execution_count": 6,
   "id": "bd74ac69",
   "metadata": {},
   "outputs": [
    {
     "data": {
      "text/plain": [
       "['predict',\n",
       " 'predict_bipartite_graph_from_edge_node_ids',\n",
       " 'predict_bipartite_graph_from_edge_node_names',\n",
       " 'predict_bipartite_graph_from_edge_node_prefixes',\n",
       " 'predict_bipartite_graph_from_edge_node_types',\n",
       " 'predict_clique_graph_from_node_ids',\n",
       " 'predict_clique_graph_from_node_names',\n",
       " 'predict_clique_graph_from_node_prefixes',\n",
       " 'predict_clique_graph_from_node_types',\n",
       " 'predict_proba',\n",
       " 'predict_proba_bipartite_graph_from_edge_node_ids',\n",
       " 'predict_proba_bipartite_graph_from_edge_node_names',\n",
       " 'predict_proba_bipartite_graph_from_edge_node_prefixes',\n",
       " 'predict_proba_bipartite_graph_from_edge_node_types',\n",
       " 'predict_proba_clique_graph_from_node_ids',\n",
       " 'predict_proba_clique_graph_from_node_names',\n",
       " 'predict_proba_clique_graph_from_node_prefixes',\n",
       " 'predict_proba_clique_graph_from_node_types']"
      ]
     },
     "execution_count": 6,
     "metadata": {},
     "output_type": "execute_result"
    }
   ],
   "source": [
    "[\n",
    "    method_name\n",
    "    for method_name in dir(model)\n",
    "    if method_name.startswith(\"predict\")\n",
    "]"
   ]
  },
  {
   "cell_type": "code",
   "execution_count": 7,
   "id": "c0104848",
   "metadata": {},
   "outputs": [
    {
     "name": "stdout",
     "output_type": "stream",
     "text": [
      "CPU times: user 86.7 ms, sys: 528 µs, total: 87.2 ms\n",
      "Wall time: 13.3 ms\n"
     ]
    },
    {
     "data": {
      "text/html": [
       "<div>\n",
       "<style scoped>\n",
       "    .dataframe tbody tr th:only-of-type {\n",
       "        vertical-align: middle;\n",
       "    }\n",
       "\n",
       "    .dataframe tbody tr th {\n",
       "        vertical-align: top;\n",
       "    }\n",
       "\n",
       "    .dataframe thead th {\n",
       "        text-align: right;\n",
       "    }\n",
       "</style>\n",
       "<table border=\"1\" class=\"dataframe\">\n",
       "  <thead>\n",
       "    <tr style=\"text-align: right;\">\n",
       "      <th></th>\n",
       "      <th>predictions</th>\n",
       "      <th>sources</th>\n",
       "      <th>destinations</th>\n",
       "    </tr>\n",
       "  </thead>\n",
       "  <tbody>\n",
       "    <tr>\n",
       "      <th>0</th>\n",
       "      <td>0.460152</td>\n",
       "      <td>0</td>\n",
       "      <td>13188</td>\n",
       "    </tr>\n",
       "    <tr>\n",
       "      <th>1</th>\n",
       "      <td>0.557793</td>\n",
       "      <td>0</td>\n",
       "      <td>13510</td>\n",
       "    </tr>\n",
       "    <tr>\n",
       "      <th>2</th>\n",
       "      <td>0.464734</td>\n",
       "      <td>0</td>\n",
       "      <td>15031</td>\n",
       "    </tr>\n",
       "    <tr>\n",
       "      <th>3</th>\n",
       "      <td>0.509990</td>\n",
       "      <td>0</td>\n",
       "      <td>15209</td>\n",
       "    </tr>\n",
       "    <tr>\n",
       "      <th>4</th>\n",
       "      <td>0.469962</td>\n",
       "      <td>0</td>\n",
       "      <td>15389</td>\n",
       "    </tr>\n",
       "    <tr>\n",
       "      <th>...</th>\n",
       "      <td>...</td>\n",
       "      <td>...</td>\n",
       "      <td>...</td>\n",
       "    </tr>\n",
       "    <tr>\n",
       "      <th>151785</th>\n",
       "      <td>0.456929</td>\n",
       "      <td>16813</td>\n",
       "      <td>13104</td>\n",
       "    </tr>\n",
       "    <tr>\n",
       "      <th>151786</th>\n",
       "      <td>0.466778</td>\n",
       "      <td>16813</td>\n",
       "      <td>14274</td>\n",
       "    </tr>\n",
       "    <tr>\n",
       "      <th>151787</th>\n",
       "      <td>0.599738</td>\n",
       "      <td>16813</td>\n",
       "      <td>14471</td>\n",
       "    </tr>\n",
       "    <tr>\n",
       "      <th>151788</th>\n",
       "      <td>0.486138</td>\n",
       "      <td>16813</td>\n",
       "      <td>14862</td>\n",
       "    </tr>\n",
       "    <tr>\n",
       "      <th>151789</th>\n",
       "      <td>0.448939</td>\n",
       "      <td>16813</td>\n",
       "      <td>15952</td>\n",
       "    </tr>\n",
       "  </tbody>\n",
       "</table>\n",
       "<p>151790 rows × 3 columns</p>\n",
       "</div>"
      ],
      "text/plain": [
       "        predictions  sources  destinations\n",
       "0          0.460152        0         13188\n",
       "1          0.557793        0         13510\n",
       "2          0.464734        0         15031\n",
       "3          0.509990        0         15209\n",
       "4          0.469962        0         15389\n",
       "...             ...      ...           ...\n",
       "151785     0.456929    16813         13104\n",
       "151786     0.466778    16813         14274\n",
       "151787     0.599738    16813         14471\n",
       "151788     0.486138    16813         14862\n",
       "151789     0.448939    16813         15952\n",
       "\n",
       "[151790 rows x 3 columns]"
      ]
     },
     "execution_count": 7,
     "metadata": {},
     "output_type": "execute_result"
    }
   ],
   "source": [
    "%%time\n",
    "# A perfect model should correctly predict the existance\n",
    "# of all of these edges.\n",
    "model.predict_proba(\n",
    "    graph=test,\n",
    "    node_features=embedding,\n",
    "    return_predictions_dataframe=True\n",
    ")"
   ]
  },
  {
   "cell_type": "code",
   "execution_count": 8,
   "id": "8718ffcb",
   "metadata": {},
   "outputs": [
    {
     "name": "stdout",
     "output_type": "stream",
     "text": [
      "CPU times: user 227 ms, sys: 0 ns, total: 227 ms\n",
      "Wall time: 28.3 ms\n"
     ]
    },
    {
     "data": {
      "text/html": [
       "<div>\n",
       "<style scoped>\n",
       "    .dataframe tbody tr th:only-of-type {\n",
       "        vertical-align: middle;\n",
       "    }\n",
       "\n",
       "    .dataframe tbody tr th {\n",
       "        vertical-align: top;\n",
       "    }\n",
       "\n",
       "    .dataframe thead th {\n",
       "        text-align: right;\n",
       "    }\n",
       "</style>\n",
       "<table border=\"1\" class=\"dataframe\">\n",
       "  <thead>\n",
       "    <tr style=\"text-align: right;\">\n",
       "      <th></th>\n",
       "      <th>predictions</th>\n",
       "      <th>sources</th>\n",
       "      <th>destinations</th>\n",
       "    </tr>\n",
       "  </thead>\n",
       "  <tbody>\n",
       "    <tr>\n",
       "      <th>0</th>\n",
       "      <td>0.456567</td>\n",
       "      <td>0</td>\n",
       "      <td>39</td>\n",
       "    </tr>\n",
       "    <tr>\n",
       "      <th>1</th>\n",
       "      <td>0.568560</td>\n",
       "      <td>0</td>\n",
       "      <td>209</td>\n",
       "    </tr>\n",
       "    <tr>\n",
       "      <th>2</th>\n",
       "      <td>0.474594</td>\n",
       "      <td>0</td>\n",
       "      <td>1461</td>\n",
       "    </tr>\n",
       "    <tr>\n",
       "      <th>3</th>\n",
       "      <td>0.627093</td>\n",
       "      <td>0</td>\n",
       "      <td>1925</td>\n",
       "    </tr>\n",
       "    <tr>\n",
       "      <th>4</th>\n",
       "      <td>0.522914</td>\n",
       "      <td>0</td>\n",
       "      <td>2687</td>\n",
       "    </tr>\n",
       "    <tr>\n",
       "      <th>...</th>\n",
       "      <td>...</td>\n",
       "      <td>...</td>\n",
       "      <td>...</td>\n",
       "    </tr>\n",
       "    <tr>\n",
       "      <th>151785</th>\n",
       "      <td>0.418893</td>\n",
       "      <td>16813</td>\n",
       "      <td>13721</td>\n",
       "    </tr>\n",
       "    <tr>\n",
       "      <th>151786</th>\n",
       "      <td>0.530282</td>\n",
       "      <td>16813</td>\n",
       "      <td>15144</td>\n",
       "    </tr>\n",
       "    <tr>\n",
       "      <th>151787</th>\n",
       "      <td>0.436179</td>\n",
       "      <td>16813</td>\n",
       "      <td>15251</td>\n",
       "    </tr>\n",
       "    <tr>\n",
       "      <th>151788</th>\n",
       "      <td>0.482228</td>\n",
       "      <td>16813</td>\n",
       "      <td>15928</td>\n",
       "    </tr>\n",
       "    <tr>\n",
       "      <th>151789</th>\n",
       "      <td>0.484912</td>\n",
       "      <td>16813</td>\n",
       "      <td>16123</td>\n",
       "    </tr>\n",
       "  </tbody>\n",
       "</table>\n",
       "<p>151790 rows × 3 columns</p>\n",
       "</div>"
      ],
      "text/plain": [
       "        predictions  sources  destinations\n",
       "0          0.456567        0            39\n",
       "1          0.568560        0           209\n",
       "2          0.474594        0          1461\n",
       "3          0.627093        0          1925\n",
       "4          0.522914        0          2687\n",
       "...             ...      ...           ...\n",
       "151785     0.418893    16813         13721\n",
       "151786     0.530282    16813         15144\n",
       "151787     0.436179    16813         15251\n",
       "151788     0.482228    16813         15928\n",
       "151789     0.484912    16813         16123\n",
       "\n",
       "[151790 rows x 3 columns]"
      ]
     },
     "execution_count": 8,
     "metadata": {},
     "output_type": "execute_result"
    }
   ],
   "source": [
    "%%time\n",
    "# A perfect model should correctly predict the non-existance\n",
    "# of all of these edges.\n",
    "model.predict_proba(\n",
    "    graph=graph.sample_negative_graph(number_of_negative_samples=test.get_number_of_edges()),\n",
    "    node_features=embedding,\n",
    "    return_predictions_dataframe=True\n",
    ")"
   ]
  },
  {
   "cell_type": "markdown",
   "id": "21f06063",
   "metadata": {},
   "source": [
    "Let's now build a better evaluation using the edge prediction pipeline:"
   ]
  },
  {
   "cell_type": "code",
   "execution_count": null,
   "id": "f2942494",
   "metadata": {},
   "outputs": [],
   "source": []
  }
 ],
 "metadata": {
  "kernelspec": {
   "display_name": "Python 3 (ipykernel)",
   "language": "python",
   "name": "python3"
  },
  "language_info": {
   "codemirror_mode": {
    "name": "ipython",
    "version": 3
   },
   "file_extension": ".py",
   "mimetype": "text/x-python",
   "name": "python",
   "nbconvert_exporter": "python",
   "pygments_lexer": "ipython3",
   "version": "3.9.7"
  }
 },
 "nbformat": 4,
 "nbformat_minor": 5
}
