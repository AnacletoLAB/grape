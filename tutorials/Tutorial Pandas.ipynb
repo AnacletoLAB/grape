{
 "cells": [
  {
   "attachments": {},
   "cell_type": "markdown",
   "id": "6a21a667",
   "metadata": {},
   "source": [
    "# Loading a graph from a pandas DataFrame\n",
    "Welcome to our tutorial on loading a graph from a Pandas DataFrame using the new function, `Graph.from_pd`! Graphs are fundamental data structures used to represent relationships and connections between entities. With the advent of the `Graph.from_pd` function, working with graphs in Python has become even more convenient.\n",
    "\n",
    "In this tutorial, we will guide you through the process of loading a graph from a `Pandas` `DataFrame` using the `Graph.from_pd` function. We will start by briefly introducing the concept of graphs and their importance in various domains. Then, we will delve into the details of how to prepare and structure your `DataFrame` to ensure compatibility with the Graph.from_pd function.\n",
    "\n",
    "Whether you're a data scientist, a network analyst, or simply someone interested in exploring and understanding relationships within your data, this tutorial will equip you with the necessary knowledge and skills to effortlessly load a graph from a Pandas DataFrame. So, let's get started and unlock the power of Graph.from_pd for graph analysis!\n",
    "\n",
    "## Pandas\n",
    "Pandas, a popular data manipulation library, provides a comprehensive set of tools for data analysis. The integration of `Graph.from_pd` with Pandas allows us to seamlessly transform a `DataFrame` into a graph representation, enabling us to analyze and visualize complex relationships within our data.\n",
    "\n",
    "## Dataframes and tables\n",
    "In the realm of data analysis and manipulation, the Pandas library reigns supreme. At its core lies the DataFrame, a highly flexible and efficient data structure that provides a tabular representation of data. The DataFrame concept originated from the R programming language and has since become a cornerstone of data analysis in Python.\n",
    "\n",
    "A DataFrame can be visualized as a two-dimensional table, similar to a spreadsheet or a SQL table. It consists of rows and columns, where each column represents a specific attribute or feature, and each row corresponds to an individual data point or observation.\n",
    "\n",
    "Pandas DataFrames offer a multitude of benefits for data manipulation and analysis. Some of the key advantages include:\n",
    "\n",
    "1. Easy Data Handling: Pandas DataFrames provide a user-friendly interface for importing, exporting, and manipulating data. They can seamlessly handle various data types, including numerical, categorical, and textual data.\n",
    "\n",
    "2. Powerful Indexing: DataFrames come with an indexing feature that allows for efficient data retrieval based on specific criteria. This indexing functionality enables quick filtering, sorting, and slicing of data.\n",
    "\n",
    "3. Missing Data Handling: Pandas DataFrames handle missing data gracefully, allowing for various strategies such as data imputation or removal of incomplete rows or columns.\n",
    "\n",
    "4. Rich Functionality: The Pandas library provides an extensive set of built-in functions and methods for data exploration, transformation, aggregation, and visualization. These functionalities empower data analysts and scientists to perform complex operations with ease.\n",
    "\n",
    "5. Integration with Other Libraries: Pandas seamlessly integrates with other popular libraries in the Python ecosystem, such as NumPy, Matplotlib, and Scikit-learn. This integration enables a streamlined workflow for data analysis and machine learning tasks.\n",
    "\n",
    "In summary, Pandas DataFrames offer a versatile and efficient way to handle and analyze tabular data. Their intuitive syntax and extensive functionality make them an indispensable tool for data scientists, analysts, and researchers.\n",
    "\n",
    "In the next section, we will explore how we can leverage Pandas DataFrames to load a graph using the Graph.from_pd function, unlocking the potential for graph analysis and visualization in Python.\n",
    "While the Graph.from_pd function provides a convenient way to load a graph directly from a Pandas DataFrame, it is important to consider certain trade-offs compared to other loading methods, such as loading from CSV files.\n",
    "\n",
    "## Performance Considerations\n",
    "Loading a graph from a Pandas DataFrame can be slower compared to loading from CSV files. This is because DataFrame operations involve additional overhead due to the underlying data structures and computations required for handling tabular data. The process of converting a DataFrame into a graph representation may take more time, especially when dealing with large datasets.\n",
    "\n",
    "### Memory Usage\n",
    "Loading a graph from a Pandas DataFrame can also consume more memory compared to loading from CSV files. Pandas DataFrames store data in a tabular format, which includes additional metadata and indexing information. As a result, loading a DataFrame into a graph representation may require more memory compared to the raw data stored in a CSV file.\n",
    "\n",
    "### Consistency Checks\n",
    "When loading a graph from a Pandas DataFrame, there may be fewer consistency checks compared to loading from CSV files. When loading from CSV files, data validation and integrity checks are often performed during the import process, ensuring that the data conforms to specific criteria. On the other hand, loading a graph directly from a DataFrame may not provide the same level of consistency checks by default. It becomes the responsibility of the user to ensure the DataFrame's structure and content are suitable for graph representation.\n",
    "\n",
    "Despite these considerations, loading a graph from a Pandas DataFrame can still be advantageous in certain scenarios. If you are already working with a DataFrame that contains the necessary data and relationships, using Graph.from_pd eliminates the need for intermediate steps like saving to CSV files and then loading from them. It offers a more streamlined approach when you have the data readily available in DataFrame format.\n",
    "\n",
    "In the next section, we will explore the step-by-step process of preparing your DataFrame and utilizing the Graph.from_pd function to load a graph, enabling you to harness the power of graph analysis and visualization."
   ]
  },
  {
   "attachments": {},
   "cell_type": "markdown",
   "id": "947c26f7",
   "metadata": {},
   "source": [
    "# Loading the simplest graph from a DataFrame\n",
    "In this example, we will explore the process of loading a simple graph from a Pandas DataFrame using the Graph.from_pd function. The example we will be working with involves a basic graph structure without any weights or edge types.\n",
    "\n",
    "The simplicity of this example allows us to focus on the core steps of loading a graph from a DataFrame and understanding the underlying process. By following this tutorial, you will gain a solid foundation in using the Graph.from_pd function and be able to apply it to more complex graph structures in the future.\n",
    "\n",
    "In our simple graph example, we will have nodes representing entities, and edges representing connections between these entities. Each node will have a unique identifier, and the edges will simply indicate the relationships between the nodes.\n",
    "\n",
    "By loading this simple graph from a Pandas DataFrame, we can perform various graph analysis tasks such as calculating centrality measures, identifying connected components, or visualizing the graph structure.\n",
    "\n",
    "Throughout the tutorial, we will walk you through the necessary steps to prepare your DataFrame, define the node and edge attributes, and load the simple graph using the Graph.from_pd function. By the end of this tutorial, you will have a solid understanding of how to load a simple graph from a Pandas DataFrame, and you'll be ready to apply these concepts to your own graph analysis projects.\n",
    "\n",
    "So, let's get started and unlock the power of loading and analyzing a simple graph using the Graph.from_pd function and Pandas DataFrame!"
   ]
  },
  {
   "cell_type": "code",
   "execution_count": 40,
   "id": "84f381e6",
   "metadata": {},
   "outputs": [],
   "source": [
    "# Import the needed libraries for the tutorial\n",
    "import pandas as pd\n",
    "from grape import Graph, GraphVisualizer\n"
   ]
  },
  {
   "cell_type": "code",
   "execution_count": 41,
   "id": "4f139d2a",
   "metadata": {},
   "outputs": [
    {
     "data": {
      "text/html": [
       "<div>\n",
       "<style scoped>\n",
       "    .dataframe tbody tr th:only-of-type {\n",
       "        vertical-align: middle;\n",
       "    }\n",
       "\n",
       "    .dataframe tbody tr th {\n",
       "        vertical-align: top;\n",
       "    }\n",
       "\n",
       "    .dataframe thead th {\n",
       "        text-align: right;\n",
       "    }\n",
       "</style>\n",
       "<table border=\"1\" class=\"dataframe\">\n",
       "  <thead>\n",
       "    <tr style=\"text-align: right;\">\n",
       "      <th></th>\n",
       "      <th>subject</th>\n",
       "      <th>object</th>\n",
       "    </tr>\n",
       "  </thead>\n",
       "  <tbody>\n",
       "    <tr>\n",
       "      <th>0</th>\n",
       "      <td>a</td>\n",
       "      <td>b</td>\n",
       "    </tr>\n",
       "    <tr>\n",
       "      <th>1</th>\n",
       "      <td>b</td>\n",
       "      <td>c</td>\n",
       "    </tr>\n",
       "  </tbody>\n",
       "</table>\n",
       "</div>"
      ],
      "text/plain": [
       "  subject object\n",
       "0       a      b\n",
       "1       b      c"
      ]
     },
     "execution_count": 41,
     "metadata": {},
     "output_type": "execute_result"
    }
   ],
   "source": [
    "\n",
    "# Create a graph\n",
    "edges_df= pd.DataFrame(\n",
    "    [\n",
    "        (\"a\", \"b\"), \n",
    "        (\"b\", \"c\")\n",
    "    ],\n",
    "    columns=[\"subject\", \"object\"],\n",
    ")\n",
    "# Visualize the table\n",
    "edges_df"
   ]
  },
  {
   "cell_type": "code",
   "execution_count": 42,
   "id": "f46455f8",
   "metadata": {},
   "outputs": [
    {
     "name": "stderr",
     "output_type": "stream",
     "text": [
      "/home/zommiommy/anaconda3/lib/python3.8/site-packages/embiggen/visualizations/graph_visualizer.py:392: UserWarning: Using the provided filters on the current graph instance it was not possible to sample a new negative edge after 100000 sampling rounds.\n",
      "  warnings.warn(str(e))\n"
     ]
    },
    {
     "data": {
      "image/svg+xml": [
       "<?xml version=\"1.0\" encoding=\"UTF-8\" standalone=\"no\"?>\n",
       "<!DOCTYPE svg PUBLIC \"-//W3C//DTD SVG 1.1//EN\"\n",
       " \"http://www.w3.org/Graphics/SVG/1.1/DTD/svg11.dtd\">\n",
       "<!-- Generated by graphviz version 8.0.5 (0)\n",
       " -->\n",
       "<!-- Title: G Pages: 1 -->\n",
       "<svg width=\"112pt\" height=\"169pt\"\n",
       " viewBox=\"0.00 0.00 112.13 169.48\" xmlns=\"http://www.w3.org/2000/svg\" xmlns:xlink=\"http://www.w3.org/1999/xlink\">\n",
       "<g id=\"graph0\" class=\"graph\" transform=\"scale(1 1) rotate(0) translate(4 165.48)\">\n",
       "<title>G</title>\n",
       "<polygon fill=\"white\" stroke=\"none\" points=\"-4,4 -4,-165.48 108.13,-165.48 108.13,4 -4,4\"/>\n",
       "<!-- 0 -->\n",
       "<g id=\"node1\" class=\"node\">\n",
       "<title>0</title>\n",
       "<ellipse fill=\"none\" stroke=\"black\" cx=\"18\" cy=\"-143.48\" rx=\"18\" ry=\"18\"/>\n",
       "<text text-anchor=\"middle\" x=\"18\" y=\"-138.8\" font-family=\"Times,serif\" font-size=\"14.00\">a</text>\n",
       "</g>\n",
       "<!-- 1 -->\n",
       "<g id=\"node2\" class=\"node\">\n",
       "<title>1</title>\n",
       "<ellipse fill=\"none\" stroke=\"black\" cx=\"62.02\" cy=\"-86.15\" rx=\"18\" ry=\"18\"/>\n",
       "<text text-anchor=\"middle\" x=\"62.02\" y=\"-81.48\" font-family=\"Times,serif\" font-size=\"14.00\">b</text>\n",
       "</g>\n",
       "<!-- 0&#45;&gt;1 -->\n",
       "<g id=\"edge1\" class=\"edge\">\n",
       "<title>0&#45;&gt;1</title>\n",
       "<path fill=\"none\" stroke=\"black\" d=\"M29.11,-129.01C33.66,-123.08 39.05,-116.07 44.13,-109.45\"/>\n",
       "<polygon fill=\"black\" stroke=\"black\" points=\"47.45,-111.88 50.76,-101.81 41.9,-107.61 47.45,-111.88\"/>\n",
       "</g>\n",
       "<!-- 2 -->\n",
       "<g id=\"node3\" class=\"node\">\n",
       "<title>2</title>\n",
       "<ellipse fill=\"none\" stroke=\"black\" cx=\"86.13\" cy=\"-18\" rx=\"18\" ry=\"18\"/>\n",
       "<text text-anchor=\"middle\" x=\"86.13\" y=\"-13.32\" font-family=\"Times,serif\" font-size=\"14.00\">c</text>\n",
       "</g>\n",
       "<!-- 1&#45;&gt;2 -->\n",
       "<g id=\"edge2\" class=\"edge\">\n",
       "<title>1&#45;&gt;2</title>\n",
       "<path fill=\"none\" stroke=\"black\" d=\"M68.1,-68.96C70.6,-61.91 73.54,-53.57 76.33,-45.7\"/>\n",
       "<polygon fill=\"black\" stroke=\"black\" points=\"79.93,-47.02 79.96,-36.43 73.33,-44.69 79.93,-47.02\"/>\n",
       "</g>\n",
       "</g>\n",
       "</svg>\n"
      ],
      "text/plain": [
       "<graphviz.sources.Source at 0x7f29158aba90>"
      ]
     },
     "execution_count": 42,
     "metadata": {},
     "output_type": "execute_result"
    }
   ],
   "source": [
    "# Load the graph\n",
    "graph = Graph.from_pd(\n",
    "    edges_df=edges_df,\n",
    "    edge_src_column=\"subject\",\n",
    "    edge_dst_column=\"object\",\n",
    "    directed=True,\n",
    "    name=\"graph\",\n",
    ")\n",
    "# Print it!\n",
    "GraphVisualizer(graph).plot_dot()"
   ]
  },
  {
   "attachments": {},
   "cell_type": "markdown",
   "id": "bb2961b4",
   "metadata": {},
   "source": [
    "# Fully heterogeneous Code Examples\n",
    "In this example, we will focus on loading a heterogeneous graph from a Pandas DataFrame. A heterogeneous graph is a graph where nodes can belong to different types, and edges can have weights and optional edge types. This flexible representation allows for modeling complex relationships and interactions in various domains.\n",
    "\n",
    "In our specific example, we will work with a heterogeneous graph consisting of two types of nodes: user, admin. Each node can have multiple types, but the type assignment is optional. For instance, a node can be both user and admin. \n",
    "\n",
    "Furthermore, the edges in our graph will have associated weights, indicating the strength or significance of the relationship between nodes. Additionally, the edges can have optional edge types, which can be used to distinguish different types of connections within the graph.\n",
    "\n",
    "By leveraging the capabilities of Pandas and the Graph.from_pd function, we can effortlessly load this heterogeneous graph from a DataFrame and leverage its rich functionality for analysis and visualization. The combination of heterogeneous nodes, weighted edges, and optional edge types provides a comprehensive representation of complex relationships that can be explored and analyzed in various domains, including social networks, recommendation systems, and knowledge graphs.\n",
    "\n",
    "In the upcoming sections, we will guide you through the necessary steps to prepare your DataFrame, define node and edge attributes, and load the heterogeneous graph using the Graph.from_pd function. So, let's dive in and unlock the potential of analyzing and visualizing your heterogeneous graph using the power of Pandas and Graph.from_pd!"
   ]
  },
  {
   "cell_type": "code",
   "execution_count": 43,
   "id": "bb04e99a",
   "metadata": {},
   "outputs": [
    {
     "data": {
      "text/html": [
       "<div>\n",
       "<style scoped>\n",
       "    .dataframe tbody tr th:only-of-type {\n",
       "        vertical-align: middle;\n",
       "    }\n",
       "\n",
       "    .dataframe tbody tr th {\n",
       "        vertical-align: top;\n",
       "    }\n",
       "\n",
       "    .dataframe thead th {\n",
       "        text-align: right;\n",
       "    }\n",
       "</style>\n",
       "<table border=\"1\" class=\"dataframe\">\n",
       "  <thead>\n",
       "    <tr style=\"text-align: right;\">\n",
       "      <th></th>\n",
       "      <th>name</th>\n",
       "      <th>type</th>\n",
       "    </tr>\n",
       "  </thead>\n",
       "  <tbody>\n",
       "    <tr>\n",
       "      <th>0</th>\n",
       "      <td>a</td>\n",
       "      <td>user</td>\n",
       "    </tr>\n",
       "    <tr>\n",
       "      <th>1</th>\n",
       "      <td>b</td>\n",
       "      <td>user|admin</td>\n",
       "    </tr>\n",
       "    <tr>\n",
       "      <th>2</th>\n",
       "      <td>c</td>\n",
       "      <td>None</td>\n",
       "    </tr>\n",
       "  </tbody>\n",
       "</table>\n",
       "</div>"
      ],
      "text/plain": [
       "  name        type\n",
       "0    a        user\n",
       "1    b  user|admin\n",
       "2    c        None"
      ]
     },
     "execution_count": 43,
     "metadata": {},
     "output_type": "execute_result"
    }
   ],
   "source": [
    "# Create a dataframe for nodes\n",
    "nodes_df = pd.DataFrame(\n",
    "    [(\"a\", \"user\"), (\"b\", \"user|admin\"), (\"c\", None)],\n",
    "    columns=[\"name\", \"type\"],\n",
    ")\n",
    "nodes_df"
   ]
  },
  {
   "cell_type": "code",
   "execution_count": 44,
   "id": "3b320ef0",
   "metadata": {},
   "outputs": [
    {
     "data": {
      "text/html": [
       "<div>\n",
       "<style scoped>\n",
       "    .dataframe tbody tr th:only-of-type {\n",
       "        vertical-align: middle;\n",
       "    }\n",
       "\n",
       "    .dataframe tbody tr th {\n",
       "        vertical-align: top;\n",
       "    }\n",
       "\n",
       "    .dataframe thead th {\n",
       "        text-align: right;\n",
       "    }\n",
       "</style>\n",
       "<table border=\"1\" class=\"dataframe\">\n",
       "  <thead>\n",
       "    <tr style=\"text-align: right;\">\n",
       "      <th></th>\n",
       "      <th>subject</th>\n",
       "      <th>object</th>\n",
       "      <th>weight</th>\n",
       "      <th>predicate</th>\n",
       "    </tr>\n",
       "  </thead>\n",
       "  <tbody>\n",
       "    <tr>\n",
       "      <th>0</th>\n",
       "      <td>a</td>\n",
       "      <td>b</td>\n",
       "      <td>1.0</td>\n",
       "      <td>knows</td>\n",
       "    </tr>\n",
       "    <tr>\n",
       "      <th>1</th>\n",
       "      <td>b</td>\n",
       "      <td>c</td>\n",
       "      <td>2.0</td>\n",
       "      <td>None</td>\n",
       "    </tr>\n",
       "  </tbody>\n",
       "</table>\n",
       "</div>"
      ],
      "text/plain": [
       "  subject object  weight predicate\n",
       "0       a      b     1.0     knows\n",
       "1       b      c     2.0      None"
      ]
     },
     "execution_count": 44,
     "metadata": {},
     "output_type": "execute_result"
    }
   ],
   "source": [
    "# Create a dataframe for edges\n",
    "edges_df = pd.DataFrame(\n",
    "    [(\"a\", \"b\", 1.0, \"knows\"), (\"b\", \"c\", 2.0, None)],\n",
    "    columns=[\"subject\", \"object\", \"weight\", \"predicate\"],\n",
    ")\n",
    "edges_df"
   ]
  },
  {
   "cell_type": "code",
   "execution_count": 45,
   "id": "8252185a",
   "metadata": {},
   "outputs": [],
   "source": [
    "# load it into a graph\n",
    "graph = Graph.from_pd(\n",
    "    edges_df=edges_df,\n",
    "    nodes_df=nodes_df,\n",
    "    node_name_column=\"name\",\n",
    "    node_type_column=\"type\",\n",
    "    edge_src_column=\"subject\",\n",
    "    edge_dst_column=\"object\",\n",
    "    edge_weight_column=\"weight\",\n",
    "    edge_type_column=\"predicate\",\n",
    "    node_type_separator=\"|\",\n",
    "    directed=True,\n",
    "    name=\"graph\",\n",
    ")"
   ]
  },
  {
   "cell_type": "code",
   "execution_count": 46,
   "id": "76865006",
   "metadata": {},
   "outputs": [
    {
     "data": {
      "text/html": [
       "<div class=\"graph-report\"><style>.graph-report li {margin: 0.5em 0 0.5em 0;}.graph-report .paragraph {text-align: justify;word-break: break-all;}.graph-report .small-columns {column-count: 4;column-gap: 2em;}.graph-report .medium-columns {column-count: 3;column-gap: 2em;}.graph-report .large-columns {column-count: 2;column-gap: 2em;}.graph-report .single-column {}@media only screen and (max-width: 600px) {.graph-report .small-columns {column-count: 1;}.graph-report .medium-columns {column-count: 1;}.graph-report .large-columns {column-count: 1;}}@media only screen and (min-width: 600px) and (max-width: 800px) {.graph-report .small-columns {column-count: 2;}.graph-report .medium-columns {column-count: 1;}.graph-report .large-columns {column-count: 1;}}@media only screen and (min-width: 800px) and (max-width: 1024px) {.graph-report .small-columns {column-count: 3;}.graph-report .medium-columns {column-count: 2;}.graph-report .large-columns {column-count: 1;}}</style><h2>graph</h2><p class=\"paragraph\">The directed graph graph has 3 heterogeneous nodes and 2 heterogeneous edges. The RAM requirements for the nodes and edges data structures are 240B and 112B respectively.</p><h3 style=\"margin: 1em 0 0 0;\">Degree centrality</h3><p class=\"paragraph\">The minimum node degree is 0, the maximum node degree is 1, the mode degree is 1, the mean degree is 0.67 and the node degree median is 1.</p><p class=\"paragraph\">The nodes with the highest degree centrality are a (degree 1 and node type user) and b (degree 1 and node type user|admin).</p><h3 style=\"margin: 1em 0 0 0;\">Weights</h3><p class=\"paragraph\">The minimum edge weight is 1, the maximum edge weight is 2 and the total edge weight is 3. The RAM requirement for the edge weights data structure is 32B.</p><h3 style=\"margin: 1em 0 0 0;\">Node types</h3><p class=\"paragraph\">The graph has 3 node types, which are user, user|admin and None. The RAM requirement for the node types data structure is 569B.</p><h4 style=\"margin: 1em 0 0 0;\">Singleton node types</h4><p class=\"paragraph\">Singleton node types are node types that are assigned exclusively to a single node, making the node type relatively meaningless, as it adds no more information than the node name itself. The graph contains 3 singleton node types, which are user (a (degree 1 and node type user)), user|admin (b (degree 1 and node type user|admin)) and None (c (node type None)).</p><h3 style=\"margin: 1em 0 0 0;\">Edge types</h3><p class=\"paragraph\">The graph has 2 edge types, which are knows and None. The RAM requirement for the edge types data structure is 314B.</p><h4 style=\"margin: 1em 0 0 0;\">Singleton edge types</h4><p class=\"paragraph\">Singleton edge types are edge types that are assigned exclusively to a single edge, making the edge type relatively meaningless, as it adds no more information than the name of edge itself. The graph contains 2 edges with singleton edge types, which are knows and None. </p></div>"
      ],
      "text/plain": [
       "<div class=\"graph-report\"><style>.graph-report li {margin: 0.5em 0 0.5em 0;}.graph-report .paragraph {text-align: justify;word-break: break-all;}.graph-report .small-columns {column-count: 4;column-gap: 2em;}.graph-report .medium-columns {column-count: 3;column-gap: 2em;}.graph-report .large-columns {column-count: 2;column-gap: 2em;}.graph-report .single-column {}@media only screen and (max-width: 600px) {.graph-report .small-columns {column-count: 1;}.graph-report .medium-columns {column-count: 1;}.graph-report .large-columns {column-count: 1;}}@media only screen and (min-width: 600px) and (max-width: 800px) {.graph-report .small-columns {column-count: 2;}.graph-report .medium-columns {column-count: 1;}.graph-report .large-columns {column-count: 1;}}@media only screen and (min-width: 800px) and (max-width: 1024px) {.graph-report .small-columns {column-count: 3;}.graph-report .medium-columns {column-count: 2;}.graph-report .large-columns {column-count: 1;}}</style><h2>graph</h2><p class=\"paragraph\">The directed graph graph has 3 heterogeneous nodes and 2 heterogeneous edges. The RAM requirements for the nodes and edges data structures are 240B and 112B respectively.</p><h3 style=\"margin: 1em 0 0 0;\">Degree centrality</h3><p class=\"paragraph\">The minimum node degree is 0, the maximum node degree is 1, the mode degree is 1, the mean degree is 0.67 and the node degree median is 1.</p><p class=\"paragraph\">The nodes with the highest degree centrality are a (degree 1 and node type user) and b (degree 1 and node type user|admin).</p><h3 style=\"margin: 1em 0 0 0;\">Weights</h3><p class=\"paragraph\">The minimum edge weight is 1, the maximum edge weight is 2 and the total edge weight is 3. The RAM requirement for the edge weights data structure is 32B.</p><h3 style=\"margin: 1em 0 0 0;\">Node types</h3><p class=\"paragraph\">The graph has 3 node types, which are None, user|admin and user. The RAM requirement for the node types data structure is 569B.</p><h4 style=\"margin: 1em 0 0 0;\">Singleton node types</h4><p class=\"paragraph\">Singleton node types are node types that are assigned exclusively to a single node, making the node type relatively meaningless, as it adds no more information than the node name itself. The graph contains 3 singleton node types, which are user (a (degree 1 and node type user)), user|admin (b (degree 1 and node type user|admin)) and None (c (node type None)).</p><h3 style=\"margin: 1em 0 0 0;\">Edge types</h3><p class=\"paragraph\">The graph has 2 edge types, which are knows and None. The RAM requirement for the edge types data structure is 314B.</p><h4 style=\"margin: 1em 0 0 0;\">Singleton edge types</h4><p class=\"paragraph\">Singleton edge types are edge types that are assigned exclusively to a single edge, making the edge type relatively meaningless, as it adds no more information than the name of edge itself. The graph contains 2 edges with singleton edge types, which are knows and None. </p></div>"
      ]
     },
     "execution_count": 46,
     "metadata": {},
     "output_type": "execute_result"
    }
   ],
   "source": [
    "graph"
   ]
  },
  {
   "cell_type": "code",
   "execution_count": 47,
   "id": "ac3f1a75",
   "metadata": {},
   "outputs": [
    {
     "name": "stderr",
     "output_type": "stream",
     "text": [
      "/home/zommiommy/anaconda3/lib/python3.8/site-packages/embiggen/visualizations/graph_visualizer.py:392: UserWarning: Using the provided filters on the current graph instance it was not possible to sample a new negative edge after 100000 sampling rounds.\n",
      "  warnings.warn(str(e))\n"
     ]
    },
    {
     "data": {
      "image/svg+xml": [
       "<?xml version=\"1.0\" encoding=\"UTF-8\" standalone=\"no\"?>\n",
       "<!DOCTYPE svg PUBLIC \"-//W3C//DTD SVG 1.1//EN\"\n",
       " \"http://www.w3.org/Graphics/SVG/1.1/DTD/svg11.dtd\">\n",
       "<!-- Generated by graphviz version 8.0.5 (0)\n",
       " -->\n",
       "<!-- Title: G Pages: 1 -->\n",
       "<svg width=\"112pt\" height=\"169pt\"\n",
       " viewBox=\"0.00 0.00 112.13 169.48\" xmlns=\"http://www.w3.org/2000/svg\" xmlns:xlink=\"http://www.w3.org/1999/xlink\">\n",
       "<g id=\"graph0\" class=\"graph\" transform=\"scale(1 1) rotate(0) translate(4 165.48)\">\n",
       "<title>G</title>\n",
       "<polygon fill=\"white\" stroke=\"none\" points=\"-4,4 -4,-165.48 108.13,-165.48 108.13,4 -4,4\"/>\n",
       "<!-- 0 -->\n",
       "<g id=\"node1\" class=\"node\">\n",
       "<title>0</title>\n",
       "<ellipse fill=\"#66c2a5\" stroke=\"black\" cx=\"18\" cy=\"-143.48\" rx=\"18\" ry=\"18\"/>\n",
       "<text text-anchor=\"middle\" x=\"18\" y=\"-138.8\" font-family=\"Times,serif\" font-size=\"14.00\">a</text>\n",
       "</g>\n",
       "<!-- 1 -->\n",
       "<g id=\"node2\" class=\"node\">\n",
       "<title>1</title>\n",
       "<ellipse fill=\"#fc8d62\" stroke=\"black\" cx=\"62.02\" cy=\"-86.15\" rx=\"18\" ry=\"18\"/>\n",
       "<text text-anchor=\"middle\" x=\"62.02\" y=\"-81.48\" font-family=\"Times,serif\" font-size=\"14.00\">b</text>\n",
       "</g>\n",
       "<!-- 0&#45;&gt;1 -->\n",
       "<g id=\"edge1\" class=\"edge\">\n",
       "<title>0&#45;&gt;1</title>\n",
       "<path fill=\"none\" stroke=\"#66c2a5\" d=\"M29.11,-129.01C33.66,-123.08 39.05,-116.07 44.13,-109.45\"/>\n",
       "<polygon fill=\"#66c2a5\" stroke=\"#66c2a5\" points=\"47.45,-111.88 50.76,-101.81 41.9,-107.61 47.45,-111.88\"/>\n",
       "<text text-anchor=\"middle\" x=\"32.12\" y=\"-105.93\" font-family=\"Times,serif\" font-size=\"14.00\">1</text>\n",
       "</g>\n",
       "<!-- 2 -->\n",
       "<g id=\"node3\" class=\"node\">\n",
       "<title>2</title>\n",
       "<ellipse fill=\"#8da0cb\" stroke=\"black\" cx=\"86.13\" cy=\"-18\" rx=\"18\" ry=\"18\"/>\n",
       "<text text-anchor=\"middle\" x=\"86.13\" y=\"-13.32\" font-family=\"Times,serif\" font-size=\"14.00\">c</text>\n",
       "</g>\n",
       "<!-- 1&#45;&gt;2 -->\n",
       "<g id=\"edge2\" class=\"edge\">\n",
       "<title>1&#45;&gt;2</title>\n",
       "<path fill=\"none\" stroke=\"#fc8d62\" d=\"M68.1,-68.96C70.6,-61.91 73.54,-53.57 76.33,-45.7\"/>\n",
       "<polygon fill=\"#fc8d62\" stroke=\"#fc8d62\" points=\"79.93,-47.02 79.96,-36.43 73.33,-44.69 79.93,-47.02\"/>\n",
       "<text text-anchor=\"middle\" x=\"67.72\" y=\"-44.03\" font-family=\"Times,serif\" font-size=\"14.00\">2</text>\n",
       "</g>\n",
       "</g>\n",
       "</svg>\n"
      ],
      "text/plain": [
       "<graphviz.sources.Source at 0x7f29158b2580>"
      ]
     },
     "execution_count": 47,
     "metadata": {},
     "output_type": "execute_result"
    }
   ],
   "source": [
    "GraphVisualizer(graph).plot_dot()"
   ]
  },
  {
   "attachments": {},
   "cell_type": "markdown",
   "id": "39cd9096",
   "metadata": {},
   "source": [
    "# Conclusion\n",
    "In this tutorial, we explored the process of loading a graph from a Pandas DataFrame using the Graph.from_pd function. We discussed the versatility and advantages of Pandas DataFrames for data manipulation and analysis, as well as the considerations when loading a graph from a DataFrame.\n",
    "\n",
    "Whether you're working with a heterogeneous graph with multiple node types and weighted edges, or a simple graph without weights or edge types, the Graph.from_pd function allows you to seamlessly transform your DataFrame into a graph representation.\n",
    "\n",
    "By following the step-by-step instructions provided in this tutorial, you have learned how to prepare your DataFrame, define node and edge attributes, and load a graph using the Graph.from_pd function. Armed with this knowledge, you can now explore and analyze complex relationships within your data, perform graph-based computations, and visualize the graph structure.\n",
    "\n",
    "Remember to consider the performance implications, such as potential slowdowns and increased memory usage, when loading a graph from a Pandas DataFrame compared to other loading methods like CSV files. Additionally, be mindful of the optional consistency checks that may need to be performed when directly loading from a DataFrame.\n",
    "\n",
    "Graph analysis is a powerful tool that can unlock valuable insights and understanding in various domains, including social networks, recommendation systems, knowledge graphs, and more. With the combination of Pandas and the Graph.from_pd function, you have the means to efficiently load and work with graphs, enabling you to tackle complex data analysis tasks with ease.\n",
    "\n",
    "Continue exploring the capabilities of graph analysis, experiment with different graph algorithms, and leverage the visualization tools available to gain a deeper understanding of your data.\n",
    "\n",
    "Congratulations on completing this tutorial! Now, go forth and unleash the power of graph analysis on your own datasets using Pandas and the Graph.from_pd function. Happy graph exploration!"
   ]
  }
 ],
 "metadata": {
  "kernelspec": {
   "display_name": "Python 3",
   "language": "python",
   "name": "python3"
  },
  "language_info": {
   "codemirror_mode": {
    "name": "ipython",
    "version": 3
   },
   "file_extension": ".py",
   "mimetype": "text/x-python",
   "name": "python",
   "nbconvert_exporter": "python",
   "pygments_lexer": "ipython3",
   "version": "3.8.8"
  }
 },
 "nbformat": 4,
 "nbformat_minor": 5
}
