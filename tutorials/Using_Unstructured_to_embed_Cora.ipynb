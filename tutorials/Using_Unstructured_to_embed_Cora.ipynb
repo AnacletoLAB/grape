{
 "cells": [
  {
   "cell_type": "markdown",
   "id": "8bdf973e",
   "metadata": {},
   "source": [
    "# Using Unstructured to embed Cora\n",
    "In this tutorial, we will see how to use the Unstructured\n",
    "node embedding method to compute embedding of the Cora graph.\n",
    "We will retrieve the graph, compute its report, and the get visualizations, both\n",
    "single-plot, complete and animated.\n",
    "\n",
    "We will show how to get visualizations both using the most immediate\n",
    "approach, simply using the `GraphVisualizer` object with the embedding method\n",
    "name, and the slightly longer approach creating the embedding model and\n",
    "computing the embedding.\n",
    "\n",
    "Of note, GRAPE provides multiple implementations of the Unstructured \n",
    "model, using as backend the Ensmallen and TensorFlow libraries, and we will show how to use all of them."
   ]
  },
  {
   "cell_type": "markdown",
   "id": "0cc0be42",
   "metadata": {},
   "source": [
    "## Installing the library\n",
    "First of all, to install GRAPE just run as usual:\n",
    "\n",
    "```bash\n",
    "pip install grape\n",
    "```"
   ]
  },
  {
   "cell_type": "code",
   "execution_count": null,
   "id": "c4cd8578",
   "metadata": {},
   "outputs": [],
   "source": [
    "!pip install -qU grape"
   ]
  },
  {
   "cell_type": "markdown",
   "id": "fa114731",
   "metadata": {},
   "source": [
    "## Retrieving the graph\n",
    "To retrieve the Cora graph from the linqs graph repository\n",
    "we run the following line of code:"
   ]
  },
  {
   "cell_type": "code",
   "execution_count": null,
   "id": "39fe926c",
   "metadata": {},
   "outputs": [],
   "source": [
    "from grape.datasets.linqs import Cora\n",
    "graph = Cora()"
   ]
  },
  {
   "cell_type": "markdown",
   "id": "0320e22f",
   "metadata": {},
   "source": [
    "Do note that we support the retrieval of many other graphs, 83644 at the time of writing,\n",
    "and you just need to import the graph you desire from the `datasets` submodule.\n",
    "\n",
    "Remember that you can peruse the complete list of available graphs by running:"
   ]
  },
  {
   "cell_type": "code",
   "execution_count": null,
   "id": "91517ab7",
   "metadata": {},
   "outputs": [],
   "source": [
    "from grape.datasets import get_all_available_graphs_dataframe\n",
    "all_available_graphs_dataframe = get_all_available_graphs_dataframe(verbose=False)\n",
    "all_available_graphs_dataframe"
   ]
  },
  {
   "cell_type": "markdown",
   "id": "c7aeb5ee",
   "metadata": {},
   "source": [
    "Now, in the retrieved version of the Cora graph we find both nodes representing the\n",
    "papers and nodes representing words present in the paper abstracts.\n",
    "\n",
    "In most benchmarks, only the topology represented by the paper nodes is used and therefore\n",
    "we run a filter that splits the graph into the topology of exclusively the paper nodes and\n",
    "a dataframe containing the one-hot encoded words vectors."
   ]
  },
  {
   "cell_type": "code",
   "execution_count": null,
   "id": "721d9f8e",
   "metadata": {},
   "outputs": [],
   "source": [
    "from grape.datasets.linqs import get_words_data\n",
    "graph, node_features = get_words_data(graph)"
   ]
  },
  {
   "cell_type": "markdown",
   "id": "d9f0b151",
   "metadata": {},
   "source": [
    "## Graph report\n",
    "Let's proceed to compute the graph report, which includes both the ordinary topological\n",
    "information, such as the number of edges and number of nodes, number of connectes components\n",
    "and number of singletons, plus many topological oddities."
   ]
  },
  {
   "cell_type": "code",
   "execution_count": null,
   "id": "4ccb60ab",
   "metadata": {},
   "outputs": [],
   "source": [
    "graph"
   ]
  },
  {
   "cell_type": "markdown",
   "id": "69b49856",
   "metadata": {},
   "source": [
    "## Graph visualizations\n",
    "In GRAPE we support the visualization of a wide variety of graph properties,\n",
    "which may either visualized through PCA, TSNE or UMAP decompositions, as a single plot\n",
    "per property or as a composite plot. Furthermore, single plots may animated through\n",
    "a high-dimensional rotation that allows for a more comprensive view of the embedding\n",
    "decompositions."
   ]
  },
  {
   "cell_type": "markdown",
   "id": "5a23a446",
   "metadata": {},
   "source": [
    "### Computing embedding and plotting the node types\n",
    "We start by showing how to use the `GraphVisualizer` object to compute in a few lines of code\n",
    "a provided node embedding method, and to use the TSNE decomposition to display the node\n",
    "types both in 2D and 4D. The 4D animation is achieved by executing a 4D decomposition,\n",
    "rotating the decomposition in 4D and then plot the first 3 dimensions in a 3-dimensional plot."
   ]
  },
  {
   "cell_type": "markdown",
   "id": "1f21e4a4",
   "metadata": {},
   "source": [
    "### Ensmallen-based model"
   ]
  },
  {
   "cell_type": "code",
   "execution_count": null,
   "id": "9a435170",
   "metadata": {},
   "outputs": [],
   "source": [
    "from grape.embedders import UnstructuredEnsmallen\n",
    "embedding = UnstructuredEnsmallen().fit_transform(graph)"
   ]
  },
  {
   "cell_type": "code",
   "execution_count": null,
   "id": "6e64451a",
   "metadata": {},
   "outputs": [],
   "source": [
    "from grape import GraphVisualizer\n",
    "visualizer = GraphVisualizer(graph)\n",
    "\n",
    "# You can either provide the model name\n",
    "#visualizer.fit_nodes(\"Unstructured\", library_name=\"Ensmallen\")\n",
    "# Or provide a precomputed embedding\n",
    "#\n",
    "# visualizer.fit_nodes(numpy_array_with_embedding)\n",
    "# visualizer.fit_nodes(pandas_dataframe_with_embedding)\n",
    "#\n",
    "# or alternatively provide the model to be used:\n",
    "#\n",
    "# from grape.embedders import UnstructuredEnsmallen\n",
    "# visualizer.fit_nodes(UnstructuredEnsmallen())\n",
    "#\n",
    "# In this tutorial, we use the embedding we have just computed above:\n",
    "\n",
    "visualizer.fit_nodes(embedding)\n",
    "\n",
    "# And now we can visualize the node types:\n",
    "visualizer.plot_node_types()"
   ]
  },
  {
   "cell_type": "markdown",
   "id": "506a36f7",
   "metadata": {},
   "source": [
    "For the 4D animation we will be rendering a webm,\n",
    "but most video formats are supported. Analogously to the bidimensional\n",
    "image, we run:"
   ]
  },
  {
   "cell_type": "code",
   "execution_count": null,
   "id": "d30c270b",
   "metadata": {},
   "outputs": [],
   "source": [
    "visualizer = GraphVisualizer(\n",
    "    graph,\n",
    "    n_components=4,\n",
    "    rotate=True\n",
    ")\n",
    "visualizer.fit_nodes(embedding)\n",
    "visualizer.plot_node_types()"
   ]
  },
  {
   "cell_type": "markdown",
   "id": "86d450b9",
   "metadata": {},
   "source": [
    "To obtain instead the complete plot with all of the properties visualized,\n",
    "you may run the following one-liner:"
   ]
  },
  {
   "cell_type": "code",
   "execution_count": null,
   "id": "c592ddac",
   "metadata": {},
   "outputs": [],
   "source": [
    "GraphVisualizer(graph).fit_and_plot_all(embedding)\n",
    "        "
   ]
  },
  {
   "cell_type": "markdown",
   "id": "325c3545",
   "metadata": {},
   "source": [
    "### TensorFlow-based model"
   ]
  },
  {
   "cell_type": "code",
   "execution_count": null,
   "id": "4232ab9d",
   "metadata": {},
   "outputs": [],
   "source": [
    "from grape.embedders import UnstructuredTensorFlow\n",
    "embedding = UnstructuredTensorFlow().fit_transform(graph)"
   ]
  },
  {
   "cell_type": "code",
   "execution_count": null,
   "id": "ac174db1",
   "metadata": {},
   "outputs": [],
   "source": [
    "from grape import GraphVisualizer\n",
    "visualizer = GraphVisualizer(graph)\n",
    "\n",
    "# You can either provide the model name\n",
    "#visualizer.fit_nodes(\"Unstructured\", library_name=\"TensorFlow\")\n",
    "# Or provide a precomputed embedding\n",
    "#\n",
    "# visualizer.fit_nodes(numpy_array_with_embedding)\n",
    "# visualizer.fit_nodes(pandas_dataframe_with_embedding)\n",
    "#\n",
    "# or alternatively provide the model to be used:\n",
    "#\n",
    "# from grape.embedders import UnstructuredTensorFlow\n",
    "# visualizer.fit_nodes(UnstructuredTensorFlow())\n",
    "#\n",
    "# In this tutorial, we use the embedding we have just computed above:\n",
    "\n",
    "visualizer.fit_nodes(embedding)\n",
    "\n",
    "# And now we can visualize the node types:\n",
    "visualizer.plot_node_types()"
   ]
  },
  {
   "cell_type": "markdown",
   "id": "8b6753cc",
   "metadata": {},
   "source": [
    "For the 4D animation we will be rendering a webm,\n",
    "but most video formats are supported. Analogously to the bidimensional\n",
    "image, we run:"
   ]
  },
  {
   "cell_type": "code",
   "execution_count": null,
   "id": "86f037b7",
   "metadata": {},
   "outputs": [],
   "source": [
    "visualizer = GraphVisualizer(\n",
    "    graph,\n",
    "    n_components=4,\n",
    "    rotate=True\n",
    ")\n",
    "visualizer.fit_nodes(embedding)\n",
    "visualizer.plot_node_types()"
   ]
  },
  {
   "cell_type": "markdown",
   "id": "8ad2a5ae",
   "metadata": {},
   "source": [
    "To obtain instead the complete plot with all of the properties visualized,\n",
    "you may run the following one-liner:"
   ]
  },
  {
   "cell_type": "code",
   "execution_count": null,
   "id": "5acc7075",
   "metadata": {},
   "outputs": [],
   "source": [
    "GraphVisualizer(graph).fit_and_plot_all(embedding)\n",
    "        "
   ]
  }
 ],
 "metadata": {},
 "nbformat": 4,
 "nbformat_minor": 5
}
