{
 "cells": [
  {
   "cell_type": "markdown",
   "id": "0df9a85c",
   "metadata": {},
   "source": [
    "# Million-scale squares on multigraphs with 🍇 GRAPE 🍇\n",
    "In this tutorial, I will show you how to use the [GRAPE library](https://github.com/AnacletoLAB/grape) to count the number of squares in multigraphs. We will first compute a vertex cover of the graph using GRAPE, [as extensively covered in this previous tutorial](https://github.com/AnacletoLAB/grape/blob/main/tutorials/Billion-scale%202-approximated%20vertex%20cover%20with%20GRAPE.ipynb), and then use this vertex cover to efficiently count the squares in the graph by using our new version of [this awesome algorithm by Oded Green and David Bader](https://davidbader.net/publication/2013-g-ba/2013-g-ba.pdf). This version is faster and handles both graphs with self-loops and multigraphs.\n",
    "\n",
    "Find the source code for the [global version here](https://github.com/AnacletoLAB/ensmallen/blob/96fd96a9888d4ac8cff44d25e07c49658c5f86e1/graph/src/polygons.rs#L162) and the [per-node version here](https://github.com/AnacletoLAB/ensmallen/blob/96fd96a9888d4ac8cff44d25e07c49658c5f86e1/graph/src/polygons.rs#L319).\n",
    "\n",
    "The key difference between the algorithms for global square counts and square counts per node is the use of atomic instructions, specifically [fetch add](https://en.wikipedia.org/wiki/Fetch-and-add).\n",
    "\n",
    "I will explain the concept of a squares and its importance in square counting, and what square counting is for. We will touch upon on basic graph concepts such as self-loops and multigraphs, multisets and multiplicity functions. By the end of the tutorial, you will have a good understanding of how to use [GRAPE](https://github.com/AnacletoLAB/grape) to count the squares in a graph and apply this knowledge to your projects.\n",
    "\n",
    "[Remember to ⭐ GRAPE!](https://github.com/AnacletoLAB/grape)\n",
    "\n",
    "### What is GRAPE?\n",
    "[🍇🍇 GRAPE 🍇🍇](https://github.com/AnacletoLAB/grape) is a graph processing and embedding library that enables users to easily manipulate and analyze graphs. With [GRAPE](https://github.com/AnacletoLAB/grape), users can efficiently load and preprocess graphs, generate random walks, and apply various node and edge embedding models. Additionally, [GRAPE](https://github.com/AnacletoLAB/grape) provides a fair and reproducible evaluation pipeline for comparing different graph embedding and graph-based prediction methods.\n",
    "\n",
    "![features in GRAPE](https://github.com/AnacletoLAB/grape/raw/main/images/sequence_diagram.png?raw=true)"
   ]
  },
  {
   "cell_type": "markdown",
   "id": "1e666f1e",
   "metadata": {},
   "source": [
    "## Squares in graphs\n",
    "In graph theory, **a square is a simple cycle of four vertices**. A square is also known as a 4-cycle.\n",
    "\n",
    "A square can be represented by four vertices and the four edges connecting them. For example, in the following graph:\n",
    "\n",
    "<img src=\"https://github.com/AnacletoLAB/grape/blob/main/images/squares.png?raw=true\" width=200 />\n",
    "\n",
    "There is one quare, formed by vertices `1`, `2`, `3` and `4`. The square is represented by the four edges connecting these vertices: `(1,2)`, `(2,3)`, `(3, 4)`, and `(4,1)`.\n",
    "\n",
    "### How many squares are in this graph?\n",
    "In this graph we have one square, but also each of the nodes has one square. So, if we sum all of the squares of the nodes in the graph, we would get three squares.\n",
    "\n",
    "### Why should you care about squares of each node?\n",
    "[Squares](https://mathworld.wolfram.com/SquareGraph.html), analogously to triangles, are an important concept in graph theory because they represent a basic unit of connectivity in a graph. Knowing exactly how connected each node is, and more importantly, the various areas of the graphs, is an extremely important analytics tool: it allows to plan and test out different approaches on the different areas of the graph, which may have massively different densities. Areas with high density, i.e. connectivity, may currespond to an area where one could execute model predictions easily as we have a lot of information. Conversely, areas with very low density may be areas where we should make an effort to find more knowledge. It is likely that a model that performs well in areas with low density may not be the same model that performs well in high density areas.\n",
    "\n",
    "We discuss an analogous [degree-based Goldilock holdout in this previous tutorial](https://github.com/AnacletoLAB/grape/blob/main/tutorials/Graph_holdouts_using_GRAPE.ipynb).\n",
    "\n",
    "Squares also have several applications in various fields, including social network analysis, machine learning, and data mining."
   ]
  },
  {
   "cell_type": "markdown",
   "id": "6d4075c7",
   "metadata": {},
   "source": [
    "### What is square counting?\n",
    "The square count problem is the problem of counting the number of squares in a graph. It is a subproblem of more general cycle counting problems, such as counting the number of cycles of a given length in a graph.\n",
    "\n",
    "<img src=\"https://github.com/AnacletoLAB/grape/blob/main/images/squares_counting.png?raw=true\" width=500 />\n",
    "\n",
    "#### Why should I count squares?\n",
    "The square count problem has several applications in various fields, including social network analysis, machine learning, and data mining. In these fields, the number of squares in a graph is often used as a measure of the graph's structure and connectivity. In machine learning and data mining, the square count problem can be used to identify patterns and trends in large data sets, and can be used for tasks such as general graphs node embedding, i.e. not specific to a single graph."
   ]
  },
  {
   "cell_type": "markdown",
   "id": "a9f9548a",
   "metadata": {},
   "source": [
    "### Some topological quirks we need to look out for \n",
    "In several real-world graphs there exist topological peculiarities than can be forgotten while designing algorithms for graphs. The two that are relevant for square counting are self-loops and multigraphs, i.e. graphs characterized by nodes connected by multiple edges.\n",
    "\n",
    "#### Multigraphs\n",
    "In a multi-graph nodes may be connected by multiple edges. These graphs can be, for instance, knowledge graphs where various nodes are connected by multiple edges representing different types of relationships.\n",
    "\n",
    "<img src=\"https://github.com/AnacletoLAB/grape/blob/main/images/multigraph.png?raw=true\" width=400 />\n",
    "\n",
    "##### Multisets\n",
    "While we are often used to think of node neighbours as sets, for multi-graphs they may take the shape of [multisets](https://en.wikipedia.org/wiki/Multiset#:~:text=In%20mathematics%2C%20a%20multiset%20(or,that%20element%20in%20the%20multiset.), i.e. sets where one or more elements appear multiple times.\n",
    "\n",
    "We use the notation $m_{\\mathcal{N}(v)}(w): V \\to \\mathbb{N}$ to define the **multiplicity function** that returns for a given node $w \\in V$, how many times it appears in the immediate neighbourhood of node $v \\in V$, represented as $\\mathcal{\\mathcal{N}(v)}$. In the python pseudocode, we represent the function $m_{\\mathcal{N}(v)}(w)$ as `multiplicity(neighbours(v), w)`.\n",
    "\n",
    "<img src=\"https://github.com/AnacletoLAB/grape/blob/main/images/set_and_multiset.png?raw=true\" width=400 />\n",
    "\n",
    "#### Self-loops\n",
    "The name is rather self-explanatory: self-loops are edges that start and end in the same node. In multi-graphs, nodes may have several self-loops.\n",
    "\n",
    "<img src=\"https://github.com/AnacletoLAB/grape/blob/main/images/multigraph_with_self_loops.png?raw=true\" width=400 />"
   ]
  },
  {
   "cell_type": "markdown",
   "id": "2de848e2",
   "metadata": {},
   "source": [
    "## Installing GRAPE\n",
    "First, we install the GRAPE library from PyPI:"
   ]
  },
  {
   "cell_type": "code",
   "execution_count": 4,
   "id": "8e5462cc",
   "metadata": {},
   "outputs": [
    {
     "name": "stdout",
     "output_type": "stream",
     "text": [
      "\r\n",
      "\u001b[1m[\u001b[0m\u001b[34;49mnotice\u001b[0m\u001b[1;39;49m]\u001b[0m\u001b[39;49m A new release of pip available: \u001b[0m\u001b[31;49m22.3.1\u001b[0m\u001b[39;49m -> \u001b[0m\u001b[32;49m23.0.1\u001b[0m\r\n",
      "\u001b[1m[\u001b[0m\u001b[34;49mnotice\u001b[0m\u001b[1;39;49m]\u001b[0m\u001b[39;49m To update, run: \u001b[0m\u001b[32;49mpip install --upgrade pip\u001b[0m\r\n"
     ]
    }
   ],
   "source": [
    "!pip install grape -qU"
   ]
  },
  {
   "cell_type": "markdown",
   "id": "2c4c963f",
   "metadata": {},
   "source": [
    "## Experiments\n",
    "Welcome to the experiments section of this tutorial! In this section, we will put our knowledge into practice by applying the squares counting algorithm on several graphs, including [a few protein-protein interaction graphs from STRING PPI](https://string-db.org/), and then we are going to scale up our targer goals to the [KGCOVID19 knowledge graph](https://www.cell.com/patterns/fulltext/S2666-3899(20)30203-8?_returnURL=https%3A%2F%2Flinkinghub.elsevier.com%2Fretrieve%2Fpii%2FS2666389920302038%3Fshowall%3Dtrue), and the [Friendster graph](https://networkrepository.com/friendster.php).\n",
    "\n",
    "We run these experiments on a machine with 24 threads and 12 cores."
   ]
  },
  {
   "cell_type": "markdown",
   "id": "31fb6fdc",
   "metadata": {},
   "source": [
    "In my machine I have 12 cores and 24 threads. You can estimate the expected computation time by interpolating the time estimates on 24 threads and the amount you have:"
   ]
  },
  {
   "cell_type": "code",
   "execution_count": 5,
   "id": "00549fe2",
   "metadata": {},
   "outputs": [
    {
     "data": {
      "text/plain": [
       "24"
      ]
     },
     "execution_count": 5,
     "metadata": {},
     "output_type": "execute_result"
    }
   ],
   "source": [
    "import os\n",
    "\n",
    "os.cpu_count()"
   ]
  },
  {
   "cell_type": "markdown",
   "id": "c2253bbb",
   "metadata": {},
   "source": [
    "Also, this machine has about `128GB` of RAM:"
   ]
  },
  {
   "cell_type": "code",
   "execution_count": 6,
   "id": "7cc9ed99",
   "metadata": {},
   "outputs": [
    {
     "data": {
      "text/plain": [
       "125.70906066894531"
      ]
     },
     "execution_count": 6,
     "metadata": {},
     "output_type": "execute_result"
    }
   ],
   "source": [
    "import psutil\n",
    "    \n",
    "psutil.virtual_memory().total / 1024**3 # total physical memory in Bytes"
   ]
  },
  {
   "cell_type": "markdown",
   "id": "c27a85e6",
   "metadata": {},
   "source": [
    "### Evaluating the impact of the vertex cover heuristic\n",
    "One may employ several different strategies to build a vertex cover. Here, we consider six strategies overall, with three node ordering approaches and two addition schemas: either only the source node, or both the source and destination nodes. [Please do check out this tutorial to learn more about the vertex cover algorithm we employ here.](https://github.com/AnacletoLAB/grape/blob/main/tutorials/Billion-scale%202-approximated%20vertex%20cover%20with%20GRAPE.ipynb).\n",
    "\n",
    "The node ordering schemas are:\n",
    "\n",
    "* Natural: the order of how the nodes are loaded in the graph\n",
    "* Decreasing degree: the nodes are sorted, as you have surely guessed, by decreasing node degree\n",
    "* Increasing degree: the nodes are sorted, as you have surely guessed, by increasing node degree"
   ]
  },
  {
   "cell_type": "markdown",
   "id": "3e54d5c4",
   "metadata": {},
   "source": [
    "We start by loading the graphs:"
   ]
  },
  {
   "cell_type": "code",
   "execution_count": 7,
   "id": "1bdac165",
   "metadata": {},
   "outputs": [
    {
     "data": {
      "application/vnd.jupyter.widget-view+json": {
       "model_id": "192f962c7b814b15b4678aaa4421487d",
       "version_major": 2,
       "version_minor": 0
      },
      "text/plain": [
       "  0%|          | 0/4 [00:00<?, ?it/s]"
      ]
     },
     "metadata": {},
     "output_type": "display_data"
    },
    {
     "name": "stdout",
     "output_type": "stream",
     "text": [
      "CPU times: user 1min 1s, sys: 2.21 s, total: 1min 3s\n",
      "Wall time: 21.9 s\n"
     ]
    }
   ],
   "source": [
    "%%time\n",
    "from tqdm.auto import tqdm\n",
    "from grape.datasets.string import SaccharomycesCerevisiae, HomoSapiens, MusMusculus\n",
    "from grape.datasets.kghub import KGCOVID19\n",
    "from grape.datasets.networkrepository import SocFriendster\n",
    "\n",
    "graphs = [\n",
    "    graph_builder(load_nodes=False)\n",
    "    for graph_builder in tqdm((\n",
    "        SaccharomycesCerevisiae,\n",
    "        HomoSapiens,\n",
    "        MusMusculus,\n",
    "        KGCOVID19,\n",
    "        #SocFriendster\n",
    "    ))\n",
    "]"
   ]
  },
  {
   "cell_type": "markdown",
   "id": "4e67757d",
   "metadata": {},
   "source": [
    "Let's plot some of the main properties of these graphs:"
   ]
  },
  {
   "cell_type": "code",
   "execution_count": 8,
   "id": "109ab632",
   "metadata": {},
   "outputs": [
    {
     "name": "stdout",
     "output_type": "stream",
     "text": [
      "CPU times: user 10.3 ms, sys: 807 µs, total: 11.1 ms\n",
      "Wall time: 1.01 ms\n"
     ]
    },
    {
     "data": {
      "text/html": [
       "<div>\n",
       "<style scoped>\n",
       "    .dataframe tbody tr th:only-of-type {\n",
       "        vertical-align: middle;\n",
       "    }\n",
       "\n",
       "    .dataframe tbody tr th {\n",
       "        vertical-align: top;\n",
       "    }\n",
       "\n",
       "    .dataframe thead th {\n",
       "        text-align: right;\n",
       "    }\n",
       "</style>\n",
       "<table border=\"1\" class=\"dataframe\">\n",
       "  <thead>\n",
       "    <tr style=\"text-align: right;\">\n",
       "      <th></th>\n",
       "      <th>Graph</th>\n",
       "      <th>Nodes</th>\n",
       "      <th>Edges</th>\n",
       "      <th>Maximum degree</th>\n",
       "    </tr>\n",
       "  </thead>\n",
       "  <tbody>\n",
       "    <tr>\n",
       "      <th>0</th>\n",
       "      <td>SaccharomycesCerevisiae</td>\n",
       "      <td>6691</td>\n",
       "      <td>1988592</td>\n",
       "      <td>2729</td>\n",
       "    </tr>\n",
       "    <tr>\n",
       "      <th>1</th>\n",
       "      <td>HomoSapiens</td>\n",
       "      <td>19566</td>\n",
       "      <td>11938498</td>\n",
       "      <td>7507</td>\n",
       "    </tr>\n",
       "    <tr>\n",
       "      <th>2</th>\n",
       "      <td>MusMusculus</td>\n",
       "      <td>22048</td>\n",
       "      <td>14496358</td>\n",
       "      <td>7669</td>\n",
       "    </tr>\n",
       "    <tr>\n",
       "      <th>3</th>\n",
       "      <td>KGCOVID19</td>\n",
       "      <td>574232</td>\n",
       "      <td>36501154</td>\n",
       "      <td>122238</td>\n",
       "    </tr>\n",
       "  </tbody>\n",
       "</table>\n",
       "</div>"
      ],
      "text/plain": [
       "                     Graph   Nodes     Edges  Maximum degree\n",
       "0  SaccharomycesCerevisiae    6691   1988592            2729\n",
       "1              HomoSapiens   19566  11938498            7507\n",
       "2              MusMusculus   22048  14496358            7669\n",
       "3                KGCOVID19  574232  36501154          122238"
      ]
     },
     "execution_count": 8,
     "metadata": {},
     "output_type": "execute_result"
    }
   ],
   "source": [
    "%%time\n",
    "import pandas as pd\n",
    "\n",
    "pd.DataFrame([\n",
    "    {\n",
    "        \"Graph\": graph.get_name(),\n",
    "        \"Nodes\": graph.get_number_of_nodes(),\n",
    "        \"Edges\": graph.get_number_of_directed_edges(),\n",
    "        \"Maximum degree\": graph.get_maximum_node_degree()\n",
    "    }\n",
    "    for graph in graphs\n",
    "])"
   ]
  },
  {
   "cell_type": "markdown",
   "id": "116bccb5",
   "metadata": {},
   "source": [
    "And now let's get started with benchmarking the vertex cover approaches by themselves:"
   ]
  },
  {
   "cell_type": "code",
   "execution_count": 4,
   "id": "3301f23b",
   "metadata": {},
   "outputs": [
    {
     "data": {
      "application/vnd.jupyter.widget-view+json": {
       "model_id": "",
       "version_major": 2,
       "version_minor": 0
      },
      "text/plain": [
       "  0%|          | 0/3 [00:00<?, ?it/s]"
      ]
     },
     "metadata": {},
     "output_type": "display_data"
    },
    {
     "data": {
      "application/vnd.jupyter.widget-view+json": {
       "model_id": "",
       "version_major": 2,
       "version_minor": 0
      },
      "text/plain": [
       "  0%|          | 0/2 [00:00<?, ?it/s]"
      ]
     },
     "metadata": {},
     "output_type": "display_data"
    },
    {
     "data": {
      "application/vnd.jupyter.widget-view+json": {
       "model_id": "",
       "version_major": 2,
       "version_minor": 0
      },
      "text/plain": [
       "  0%|          | 0/5 [00:00<?, ?it/s]"
      ]
     },
     "metadata": {},
     "output_type": "display_data"
    },
    {
     "data": {
      "application/vnd.jupyter.widget-view+json": {
       "model_id": "",
       "version_major": 2,
       "version_minor": 0
      },
      "text/plain": [
       "  0%|          | 0/5 [00:00<?, ?it/s]"
      ]
     },
     "metadata": {},
     "output_type": "display_data"
    },
    {
     "data": {
      "application/vnd.jupyter.widget-view+json": {
       "model_id": "",
       "version_major": 2,
       "version_minor": 0
      },
      "text/plain": [
       "  0%|          | 0/2 [00:00<?, ?it/s]"
      ]
     },
     "metadata": {},
     "output_type": "display_data"
    },
    {
     "data": {
      "application/vnd.jupyter.widget-view+json": {
       "model_id": "",
       "version_major": 2,
       "version_minor": 0
      },
      "text/plain": [
       "  0%|          | 0/5 [00:00<?, ?it/s]"
      ]
     },
     "metadata": {},
     "output_type": "display_data"
    },
    {
     "data": {
      "application/vnd.jupyter.widget-view+json": {
       "model_id": "",
       "version_major": 2,
       "version_minor": 0
      },
      "text/plain": [
       "  0%|          | 0/5 [00:00<?, ?it/s]"
      ]
     },
     "metadata": {},
     "output_type": "display_data"
    },
    {
     "data": {
      "application/vnd.jupyter.widget-view+json": {
       "model_id": "",
       "version_major": 2,
       "version_minor": 0
      },
      "text/plain": [
       "  0%|          | 0/2 [00:00<?, ?it/s]"
      ]
     },
     "metadata": {},
     "output_type": "display_data"
    },
    {
     "data": {
      "application/vnd.jupyter.widget-view+json": {
       "model_id": "",
       "version_major": 2,
       "version_minor": 0
      },
      "text/plain": [
       "  0%|          | 0/5 [00:00<?, ?it/s]"
      ]
     },
     "metadata": {},
     "output_type": "display_data"
    },
    {
     "data": {
      "application/vnd.jupyter.widget-view+json": {
       "model_id": "",
       "version_major": 2,
       "version_minor": 0
      },
      "text/plain": [
       "  0%|          | 0/5 [00:00<?, ?it/s]"
      ]
     },
     "metadata": {},
     "output_type": "display_data"
    },
    {
     "name": "stdout",
     "output_type": "stream",
     "text": [
      "CPU times: user 2min 49s, sys: 4.52 s, total: 2min 54s\n",
      "Wall time: 2min 1s\n"
     ]
    },
    {
     "data": {
      "text/html": [
       "<div>\n",
       "<style scoped>\n",
       "    .dataframe tbody tr th:only-of-type {\n",
       "        vertical-align: middle;\n",
       "    }\n",
       "\n",
       "    .dataframe tbody tr th {\n",
       "        vertical-align: top;\n",
       "    }\n",
       "\n",
       "    .dataframe thead th {\n",
       "        text-align: right;\n",
       "    }\n",
       "</style>\n",
       "<table border=\"1\" class=\"dataframe\">\n",
       "  <thead>\n",
       "    <tr style=\"text-align: right;\">\n",
       "      <th></th>\n",
       "      <th>Graph</th>\n",
       "      <th>Approach</th>\n",
       "      <th>Degree</th>\n",
       "      <th>Size</th>\n",
       "      <th>Time</th>\n",
       "    </tr>\n",
       "  </thead>\n",
       "  <tbody>\n",
       "    <tr>\n",
       "      <th>0</th>\n",
       "      <td>SaccharomycesCerevisiae</td>\n",
       "      <td>arbitrary (Only source)</td>\n",
       "      <td>2729</td>\n",
       "      <td>6259</td>\n",
       "      <td>0.004128</td>\n",
       "    </tr>\n",
       "    <tr>\n",
       "      <th>1</th>\n",
       "      <td>HomoSapiens</td>\n",
       "      <td>arbitrary (Only source)</td>\n",
       "      <td>7507</td>\n",
       "      <td>19220</td>\n",
       "      <td>0.004765</td>\n",
       "    </tr>\n",
       "    <tr>\n",
       "      <th>2</th>\n",
       "      <td>MusMusculus</td>\n",
       "      <td>arbitrary (Only source)</td>\n",
       "      <td>7669</td>\n",
       "      <td>20984</td>\n",
       "      <td>0.005488</td>\n",
       "    </tr>\n",
       "    <tr>\n",
       "      <th>3</th>\n",
       "      <td>KGCOVID19</td>\n",
       "      <td>arbitrary (Only source)</td>\n",
       "      <td>122238</td>\n",
       "      <td>206326</td>\n",
       "      <td>0.015757</td>\n",
       "    </tr>\n",
       "    <tr>\n",
       "      <th>4</th>\n",
       "      <td>SocFriendster</td>\n",
       "      <td>arbitrary (Only source)</td>\n",
       "      <td>5214</td>\n",
       "      <td>35466082</td>\n",
       "      <td>8.917142</td>\n",
       "    </tr>\n",
       "    <tr>\n",
       "      <th>5</th>\n",
       "      <td>SaccharomycesCerevisiae</td>\n",
       "      <td>arbitrary</td>\n",
       "      <td>2729</td>\n",
       "      <td>6240</td>\n",
       "      <td>0.000939</td>\n",
       "    </tr>\n",
       "    <tr>\n",
       "      <th>6</th>\n",
       "      <td>HomoSapiens</td>\n",
       "      <td>arbitrary</td>\n",
       "      <td>7507</td>\n",
       "      <td>19200</td>\n",
       "      <td>0.002491</td>\n",
       "    </tr>\n",
       "    <tr>\n",
       "      <th>7</th>\n",
       "      <td>MusMusculus</td>\n",
       "      <td>arbitrary</td>\n",
       "      <td>7669</td>\n",
       "      <td>20756</td>\n",
       "      <td>0.002816</td>\n",
       "    </tr>\n",
       "    <tr>\n",
       "      <th>8</th>\n",
       "      <td>KGCOVID19</td>\n",
       "      <td>arbitrary</td>\n",
       "      <td>122238</td>\n",
       "      <td>217552</td>\n",
       "      <td>0.012458</td>\n",
       "    </tr>\n",
       "    <tr>\n",
       "      <th>9</th>\n",
       "      <td>SocFriendster</td>\n",
       "      <td>arbitrary</td>\n",
       "      <td>5214</td>\n",
       "      <td>37992302</td>\n",
       "      <td>4.771157</td>\n",
       "    </tr>\n",
       "    <tr>\n",
       "      <th>10</th>\n",
       "      <td>SaccharomycesCerevisiae</td>\n",
       "      <td>decreasing_node_degree (Only source)</td>\n",
       "      <td>2729</td>\n",
       "      <td>5720</td>\n",
       "      <td>0.005690</td>\n",
       "    </tr>\n",
       "    <tr>\n",
       "      <th>11</th>\n",
       "      <td>HomoSapiens</td>\n",
       "      <td>decreasing_node_degree (Only source)</td>\n",
       "      <td>7507</td>\n",
       "      <td>18475</td>\n",
       "      <td>0.002141</td>\n",
       "    </tr>\n",
       "    <tr>\n",
       "      <th>12</th>\n",
       "      <td>MusMusculus</td>\n",
       "      <td>decreasing_node_degree (Only source)</td>\n",
       "      <td>7669</td>\n",
       "      <td>19524</td>\n",
       "      <td>0.002739</td>\n",
       "    </tr>\n",
       "    <tr>\n",
       "      <th>13</th>\n",
       "      <td>KGCOVID19</td>\n",
       "      <td>decreasing_node_degree (Only source)</td>\n",
       "      <td>122238</td>\n",
       "      <td>180150</td>\n",
       "      <td>0.044398</td>\n",
       "    </tr>\n",
       "    <tr>\n",
       "      <th>14</th>\n",
       "      <td>SocFriendster</td>\n",
       "      <td>decreasing_node_degree (Only source)</td>\n",
       "      <td>5214</td>\n",
       "      <td>31641804</td>\n",
       "      <td>14.352782</td>\n",
       "    </tr>\n",
       "    <tr>\n",
       "      <th>15</th>\n",
       "      <td>SaccharomycesCerevisiae</td>\n",
       "      <td>decreasing_node_degree</td>\n",
       "      <td>2729</td>\n",
       "      <td>6004</td>\n",
       "      <td>0.001228</td>\n",
       "    </tr>\n",
       "    <tr>\n",
       "      <th>16</th>\n",
       "      <td>HomoSapiens</td>\n",
       "      <td>decreasing_node_degree</td>\n",
       "      <td>7507</td>\n",
       "      <td>18904</td>\n",
       "      <td>0.002980</td>\n",
       "    </tr>\n",
       "    <tr>\n",
       "      <th>17</th>\n",
       "      <td>MusMusculus</td>\n",
       "      <td>decreasing_node_degree</td>\n",
       "      <td>7669</td>\n",
       "      <td>20048</td>\n",
       "      <td>0.003564</td>\n",
       "    </tr>\n",
       "    <tr>\n",
       "      <th>18</th>\n",
       "      <td>KGCOVID19</td>\n",
       "      <td>decreasing_node_degree</td>\n",
       "      <td>122238</td>\n",
       "      <td>190520</td>\n",
       "      <td>0.043323</td>\n",
       "    </tr>\n",
       "    <tr>\n",
       "      <th>19</th>\n",
       "      <td>SocFriendster</td>\n",
       "      <td>decreasing_node_degree</td>\n",
       "      <td>5214</td>\n",
       "      <td>36600916</td>\n",
       "      <td>11.424187</td>\n",
       "    </tr>\n",
       "    <tr>\n",
       "      <th>20</th>\n",
       "      <td>SaccharomycesCerevisiae</td>\n",
       "      <td>increasing_node_degree (Only source)</td>\n",
       "      <td>2092</td>\n",
       "      <td>6393</td>\n",
       "      <td>0.000898</td>\n",
       "    </tr>\n",
       "    <tr>\n",
       "      <th>21</th>\n",
       "      <td>HomoSapiens</td>\n",
       "      <td>increasing_node_degree (Only source)</td>\n",
       "      <td>6940</td>\n",
       "      <td>19384</td>\n",
       "      <td>0.001204</td>\n",
       "    </tr>\n",
       "    <tr>\n",
       "      <th>22</th>\n",
       "      <td>MusMusculus</td>\n",
       "      <td>increasing_node_degree (Only source)</td>\n",
       "      <td>7296</td>\n",
       "      <td>21300</td>\n",
       "      <td>0.001254</td>\n",
       "    </tr>\n",
       "    <tr>\n",
       "      <th>23</th>\n",
       "      <td>KGCOVID19</td>\n",
       "      <td>increasing_node_degree (Only source)</td>\n",
       "      <td>22554</td>\n",
       "      <td>540469</td>\n",
       "      <td>0.023403</td>\n",
       "    </tr>\n",
       "    <tr>\n",
       "      <th>24</th>\n",
       "      <td>SocFriendster</td>\n",
       "      <td>increasing_node_degree (Only source)</td>\n",
       "      <td>3507</td>\n",
       "      <td>65554685</td>\n",
       "      <td>5.461095</td>\n",
       "    </tr>\n",
       "    <tr>\n",
       "      <th>25</th>\n",
       "      <td>SaccharomycesCerevisiae</td>\n",
       "      <td>increasing_node_degree</td>\n",
       "      <td>2729</td>\n",
       "      <td>6388</td>\n",
       "      <td>0.001241</td>\n",
       "    </tr>\n",
       "    <tr>\n",
       "      <th>26</th>\n",
       "      <td>HomoSapiens</td>\n",
       "      <td>increasing_node_degree</td>\n",
       "      <td>7507</td>\n",
       "      <td>19384</td>\n",
       "      <td>0.002612</td>\n",
       "    </tr>\n",
       "    <tr>\n",
       "      <th>27</th>\n",
       "      <td>MusMusculus</td>\n",
       "      <td>increasing_node_degree</td>\n",
       "      <td>7669</td>\n",
       "      <td>21212</td>\n",
       "      <td>0.002952</td>\n",
       "    </tr>\n",
       "    <tr>\n",
       "      <th>28</th>\n",
       "      <td>KGCOVID19</td>\n",
       "      <td>increasing_node_degree</td>\n",
       "      <td>122238</td>\n",
       "      <td>237018</td>\n",
       "      <td>0.033777</td>\n",
       "    </tr>\n",
       "    <tr>\n",
       "      <th>29</th>\n",
       "      <td>SocFriendster</td>\n",
       "      <td>increasing_node_degree</td>\n",
       "      <td>5214</td>\n",
       "      <td>53365278</td>\n",
       "      <td>6.655224</td>\n",
       "    </tr>\n",
       "  </tbody>\n",
       "</table>\n",
       "</div>"
      ],
      "text/plain": [
       "                      Graph                              Approach  Degree  \\\n",
       "0   SaccharomycesCerevisiae               arbitrary (Only source)    2729   \n",
       "1               HomoSapiens               arbitrary (Only source)    7507   \n",
       "2               MusMusculus               arbitrary (Only source)    7669   \n",
       "3                 KGCOVID19               arbitrary (Only source)  122238   \n",
       "4             SocFriendster               arbitrary (Only source)    5214   \n",
       "5   SaccharomycesCerevisiae                             arbitrary    2729   \n",
       "6               HomoSapiens                             arbitrary    7507   \n",
       "7               MusMusculus                             arbitrary    7669   \n",
       "8                 KGCOVID19                             arbitrary  122238   \n",
       "9             SocFriendster                             arbitrary    5214   \n",
       "10  SaccharomycesCerevisiae  decreasing_node_degree (Only source)    2729   \n",
       "11              HomoSapiens  decreasing_node_degree (Only source)    7507   \n",
       "12              MusMusculus  decreasing_node_degree (Only source)    7669   \n",
       "13                KGCOVID19  decreasing_node_degree (Only source)  122238   \n",
       "14            SocFriendster  decreasing_node_degree (Only source)    5214   \n",
       "15  SaccharomycesCerevisiae                decreasing_node_degree    2729   \n",
       "16              HomoSapiens                decreasing_node_degree    7507   \n",
       "17              MusMusculus                decreasing_node_degree    7669   \n",
       "18                KGCOVID19                decreasing_node_degree  122238   \n",
       "19            SocFriendster                decreasing_node_degree    5214   \n",
       "20  SaccharomycesCerevisiae  increasing_node_degree (Only source)    2092   \n",
       "21              HomoSapiens  increasing_node_degree (Only source)    6940   \n",
       "22              MusMusculus  increasing_node_degree (Only source)    7296   \n",
       "23                KGCOVID19  increasing_node_degree (Only source)   22554   \n",
       "24            SocFriendster  increasing_node_degree (Only source)    3507   \n",
       "25  SaccharomycesCerevisiae                increasing_node_degree    2729   \n",
       "26              HomoSapiens                increasing_node_degree    7507   \n",
       "27              MusMusculus                increasing_node_degree    7669   \n",
       "28                KGCOVID19                increasing_node_degree  122238   \n",
       "29            SocFriendster                increasing_node_degree    5214   \n",
       "\n",
       "        Size       Time  \n",
       "0       6259   0.004128  \n",
       "1      19220   0.004765  \n",
       "2      20984   0.005488  \n",
       "3     206326   0.015757  \n",
       "4   35466082   8.917142  \n",
       "5       6240   0.000939  \n",
       "6      19200   0.002491  \n",
       "7      20756   0.002816  \n",
       "8     217552   0.012458  \n",
       "9   37992302   4.771157  \n",
       "10      5720   0.005690  \n",
       "11     18475   0.002141  \n",
       "12     19524   0.002739  \n",
       "13    180150   0.044398  \n",
       "14  31641804  14.352782  \n",
       "15      6004   0.001228  \n",
       "16     18904   0.002980  \n",
       "17     20048   0.003564  \n",
       "18    190520   0.043323  \n",
       "19  36600916  11.424187  \n",
       "20      6393   0.000898  \n",
       "21     19384   0.001204  \n",
       "22     21300   0.001254  \n",
       "23    540469   0.023403  \n",
       "24  65554685   5.461095  \n",
       "25      6388   0.001241  \n",
       "26     19384   0.002612  \n",
       "27     21212   0.002952  \n",
       "28    237018   0.033777  \n",
       "29  53365278   6.655224  "
      ]
     },
     "execution_count": 4,
     "metadata": {},
     "output_type": "execute_result"
    }
   ],
   "source": [
    "%%time\n",
    "from time import time\n",
    "import numpy as np\n",
    "from tqdm.auto import trange\n",
    "\n",
    "vertex_cover_benchmarks = []\n",
    "\n",
    "for approach in tqdm(\n",
    "    (\"arbitrary\", \"decreasing_node_degree\", \"increasing_node_degree\"),\n",
    "    leave=False\n",
    "):\n",
    "    for insert_only_source in tqdm((True, False), leave=False):\n",
    "        for graph in tqdm(graphs, leave=False):\n",
    "            start = time()\n",
    "            cover = graph.get_vertex_cover(\n",
    "                approach=approach,\n",
    "                insert_only_source=insert_only_source\n",
    "            )\n",
    "            delta = time() - start\n",
    "            vertex_cover_benchmarks.append({\n",
    "                \"Graph\": graph.get_name(),\n",
    "                \"Approach\": \"{approach}{only_source}\".format(\n",
    "                    approach=approach,\n",
    "                    only_source = \" (Only source)\" if insert_only_source else \"\"\n",
    "                ),\n",
    "                \"Degree\": max([\n",
    "                    graph.get_node_degree_from_node_id(node_id)\n",
    "                    for node_id, in_cover in enumerate(cover)\n",
    "                    if in_cover\n",
    "                ]),\n",
    "                \"Size\": np.sum(cover),\n",
    "                \"Time\": delta,\n",
    "            })\n",
    "\n",
    "vertex_cover_benchmarks = pd.DataFrame(vertex_cover_benchmarks)\n",
    "vertex_cover_benchmarks"
   ]
  },
  {
   "cell_type": "markdown",
   "id": "d2d8ac42",
   "metadata": {},
   "source": [
    "Let's explore the impact of the considered vertex cover approaches on counting squares:"
   ]
  },
  {
   "cell_type": "code",
   "execution_count": 9,
   "id": "c7d59018",
   "metadata": {},
   "outputs": [],
   "source": [
    "from tqdm.auto import trange\n",
    "from time import time\n",
    "import pandas as pd\n",
    "import os\n",
    "from typing import List\n",
    "from grape import Graph\n",
    "\n",
    "def experiment(graphs: List[Graph]):\n",
    "    square_times = []\n",
    "\n",
    "    for (approach, insert_only_source) in tqdm(\n",
    "        (\n",
    "            (\"arbitrary\", False),\n",
    "            (\"decreasing_node_degree\", True),\n",
    "            (\"increasing_node_degree\", True)\n",
    "        ),\n",
    "        leave=False,\n",
    "        desc=\"Approaches\"\n",
    "    ):\n",
    "        for graph in tqdm(graphs, leave=False, desc=\"Graphs\"):\n",
    "            global_start = time()\n",
    "            number_of_squares = graph.get_number_of_squares(\n",
    "                approach=approach,\n",
    "                insert_only_source=insert_only_source\n",
    "            )\n",
    "            global_delta = time() - global_start\n",
    "            per_node_start = time()\n",
    "            squares_per_node = graph.get_number_of_squares_per_node(\n",
    "                approach=approach,\n",
    "                insert_only_source=insert_only_source\n",
    "            )\n",
    "            per_node_delta = time() - per_node_start\n",
    "            square_times.append({\n",
    "                \"Graph\": graph.get_name(),\n",
    "                \"Approach\": approach,\n",
    "                \"Global time\": global_delta,\n",
    "                \"Per-node time\": per_node_delta,\n",
    "                \"Threads\": os.environ[\"RAYON_NUM_THREADS\"]\n",
    "            })\n",
    "\n",
    "    square_times = pd.DataFrame(square_times)\n",
    "    return square_times"
   ]
  },
  {
   "cell_type": "markdown",
   "id": "d60d30f2",
   "metadata": {},
   "source": [
    "We start by using a single thread."
   ]
  },
  {
   "cell_type": "code",
   "execution_count": 5,
   "id": "fb43d1db",
   "metadata": {},
   "outputs": [
    {
     "data": {
      "application/vnd.jupyter.widget-view+json": {
       "model_id": "",
       "version_major": 2,
       "version_minor": 0
      },
      "text/plain": [
       "Approaches:   0%|          | 0/1 [00:00<?, ?it/s]"
      ]
     },
     "metadata": {},
     "output_type": "display_data"
    },
    {
     "data": {
      "application/vnd.jupyter.widget-view+json": {
       "model_id": "",
       "version_major": 2,
       "version_minor": 0
      },
      "text/plain": [
       "Graphs:   0%|          | 0/4 [00:00<?, ?it/s]"
      ]
     },
     "metadata": {},
     "output_type": "display_data"
    },
    {
     "name": "stdout",
     "output_type": "stream",
     "text": [
      "CPU times: user 2h 47min 36s, sys: 9.22 s, total: 2h 47min 45s\n",
      "Wall time: 2h 47min 38s\n"
     ]
    },
    {
     "data": {
      "text/html": [
       "<div>\n",
       "<style scoped>\n",
       "    .dataframe tbody tr th:only-of-type {\n",
       "        vertical-align: middle;\n",
       "    }\n",
       "\n",
       "    .dataframe tbody tr th {\n",
       "        vertical-align: top;\n",
       "    }\n",
       "\n",
       "    .dataframe thead th {\n",
       "        text-align: right;\n",
       "    }\n",
       "</style>\n",
       "<table border=\"1\" class=\"dataframe\">\n",
       "  <thead>\n",
       "    <tr style=\"text-align: right;\">\n",
       "      <th></th>\n",
       "      <th>Graph</th>\n",
       "      <th>Approach</th>\n",
       "      <th>Global time</th>\n",
       "      <th>Per-node time</th>\n",
       "      <th>Threads</th>\n",
       "    </tr>\n",
       "  </thead>\n",
       "  <tbody>\n",
       "    <tr>\n",
       "      <th>0</th>\n",
       "      <td>SaccharomycesCerevisiae</td>\n",
       "      <td>arbitrary</td>\n",
       "      <td>36.004196</td>\n",
       "      <td>80.028739</td>\n",
       "      <td>1</td>\n",
       "    </tr>\n",
       "    <tr>\n",
       "      <th>1</th>\n",
       "      <td>HomoSapiens</td>\n",
       "      <td>arbitrary</td>\n",
       "      <td>685.894516</td>\n",
       "      <td>1532.865237</td>\n",
       "      <td>1</td>\n",
       "    </tr>\n",
       "    <tr>\n",
       "      <th>2</th>\n",
       "      <td>MusMusculus</td>\n",
       "      <td>arbitrary</td>\n",
       "      <td>821.426909</td>\n",
       "      <td>1821.472549</td>\n",
       "      <td>1</td>\n",
       "    </tr>\n",
       "    <tr>\n",
       "      <th>3</th>\n",
       "      <td>KGCOVID19</td>\n",
       "      <td>arbitrary</td>\n",
       "      <td>1615.342692</td>\n",
       "      <td>3465.803014</td>\n",
       "      <td>1</td>\n",
       "    </tr>\n",
       "  </tbody>\n",
       "</table>\n",
       "</div>"
      ],
      "text/plain": [
       "                     Graph   Approach  Global time  Per-node time Threads\n",
       "0  SaccharomycesCerevisiae  arbitrary    36.004196      80.028739       1\n",
       "1              HomoSapiens  arbitrary   685.894516    1532.865237       1\n",
       "2              MusMusculus  arbitrary   821.426909    1821.472549       1\n",
       "3                KGCOVID19  arbitrary  1615.342692    3465.803014       1"
      ]
     },
     "execution_count": 5,
     "metadata": {},
     "output_type": "execute_result"
    }
   ],
   "source": [
    "%%time\n",
    "assert os.environ[\"RAYON_NUM_THREADS\"] == \"1\"\n",
    "\n",
    "square_times = experiment(graphs)\n",
    "square_times"
   ]
  },
  {
   "cell_type": "markdown",
   "id": "c85a8acb",
   "metadata": {},
   "source": [
    "We run the same code, but now we employ six threads, half of the available number of cores:"
   ]
  },
  {
   "cell_type": "code",
   "execution_count": 5,
   "id": "e703c8a2",
   "metadata": {},
   "outputs": [
    {
     "data": {
      "application/vnd.jupyter.widget-view+json": {
       "model_id": "",
       "version_major": 2,
       "version_minor": 0
      },
      "text/plain": [
       "Approaches:   0%|          | 0/1 [00:00<?, ?it/s]"
      ]
     },
     "metadata": {},
     "output_type": "display_data"
    },
    {
     "data": {
      "application/vnd.jupyter.widget-view+json": {
       "model_id": "",
       "version_major": 2,
       "version_minor": 0
      },
      "text/plain": [
       "Graphs:   0%|          | 0/4 [00:00<?, ?it/s]"
      ]
     },
     "metadata": {},
     "output_type": "display_data"
    },
    {
     "name": "stdout",
     "output_type": "stream",
     "text": [
      "CPU times: user 2h 58min 34s, sys: 3.13 s, total: 2h 58min 38s\n",
      "Wall time: 29min 59s\n"
     ]
    },
    {
     "data": {
      "text/html": [
       "<div>\n",
       "<style scoped>\n",
       "    .dataframe tbody tr th:only-of-type {\n",
       "        vertical-align: middle;\n",
       "    }\n",
       "\n",
       "    .dataframe tbody tr th {\n",
       "        vertical-align: top;\n",
       "    }\n",
       "\n",
       "    .dataframe thead th {\n",
       "        text-align: right;\n",
       "    }\n",
       "</style>\n",
       "<table border=\"1\" class=\"dataframe\">\n",
       "  <thead>\n",
       "    <tr style=\"text-align: right;\">\n",
       "      <th></th>\n",
       "      <th>Graph</th>\n",
       "      <th>Approach</th>\n",
       "      <th>Global time</th>\n",
       "      <th>Per-node time</th>\n",
       "      <th>Threads</th>\n",
       "    </tr>\n",
       "  </thead>\n",
       "  <tbody>\n",
       "    <tr>\n",
       "      <th>0</th>\n",
       "      <td>SaccharomycesCerevisiae</td>\n",
       "      <td>arbitrary</td>\n",
       "      <td>6.146899</td>\n",
       "      <td>16.160414</td>\n",
       "      <td>6</td>\n",
       "    </tr>\n",
       "    <tr>\n",
       "      <th>1</th>\n",
       "      <td>HomoSapiens</td>\n",
       "      <td>arbitrary</td>\n",
       "      <td>113.805088</td>\n",
       "      <td>283.936026</td>\n",
       "      <td>6</td>\n",
       "    </tr>\n",
       "    <tr>\n",
       "      <th>2</th>\n",
       "      <td>MusMusculus</td>\n",
       "      <td>arbitrary</td>\n",
       "      <td>139.421086</td>\n",
       "      <td>348.075630</td>\n",
       "      <td>6</td>\n",
       "    </tr>\n",
       "    <tr>\n",
       "      <th>3</th>\n",
       "      <td>KGCOVID19</td>\n",
       "      <td>arbitrary</td>\n",
       "      <td>272.647228</td>\n",
       "      <td>619.538600</td>\n",
       "      <td>6</td>\n",
       "    </tr>\n",
       "  </tbody>\n",
       "</table>\n",
       "</div>"
      ],
      "text/plain": [
       "                     Graph   Approach  Global time  Per-node time Threads\n",
       "0  SaccharomycesCerevisiae  arbitrary     6.146899      16.160414       6\n",
       "1              HomoSapiens  arbitrary   113.805088     283.936026       6\n",
       "2              MusMusculus  arbitrary   139.421086     348.075630       6\n",
       "3                KGCOVID19  arbitrary   272.647228     619.538600       6"
      ]
     },
     "execution_count": 5,
     "metadata": {},
     "output_type": "execute_result"
    }
   ],
   "source": [
    "%%time\n",
    "assert os.environ[\"RAYON_NUM_THREADS\"] == \"6\"\n",
    "\n",
    "square_times = experiment(graphs)\n",
    "square_times"
   ]
  },
  {
   "cell_type": "markdown",
   "id": "7abf2d55",
   "metadata": {},
   "source": [
    "Now we run the same experiment with all of the available cores on this machine, which are 12."
   ]
  },
  {
   "cell_type": "code",
   "execution_count": 3,
   "id": "1bf12d22",
   "metadata": {},
   "outputs": [
    {
     "data": {
      "application/vnd.jupyter.widget-view+json": {
       "model_id": "",
       "version_major": 2,
       "version_minor": 0
      },
      "text/plain": [
       "Approaches:   0%|          | 0/1 [00:00<?, ?it/s]"
      ]
     },
     "metadata": {},
     "output_type": "display_data"
    },
    {
     "data": {
      "application/vnd.jupyter.widget-view+json": {
       "model_id": "",
       "version_major": 2,
       "version_minor": 0
      },
      "text/plain": [
       "Graphs:   0%|          | 0/4 [00:00<?, ?it/s]"
      ]
     },
     "metadata": {},
     "output_type": "display_data"
    },
    {
     "name": "stdout",
     "output_type": "stream",
     "text": [
      "CPU times: user 3h 4min 7s, sys: 3.21 s, total: 3h 4min 10s\n",
      "Wall time: 15min 22s\n"
     ]
    },
    {
     "data": {
      "text/html": [
       "<div>\n",
       "<style scoped>\n",
       "    .dataframe tbody tr th:only-of-type {\n",
       "        vertical-align: middle;\n",
       "    }\n",
       "\n",
       "    .dataframe tbody tr th {\n",
       "        vertical-align: top;\n",
       "    }\n",
       "\n",
       "    .dataframe thead th {\n",
       "        text-align: right;\n",
       "    }\n",
       "</style>\n",
       "<table border=\"1\" class=\"dataframe\">\n",
       "  <thead>\n",
       "    <tr style=\"text-align: right;\">\n",
       "      <th></th>\n",
       "      <th>Graph</th>\n",
       "      <th>Approach</th>\n",
       "      <th>Global time</th>\n",
       "      <th>Per-node time</th>\n",
       "      <th>Threads</th>\n",
       "    </tr>\n",
       "  </thead>\n",
       "  <tbody>\n",
       "    <tr>\n",
       "      <th>0</th>\n",
       "      <td>SaccharomycesCerevisiae</td>\n",
       "      <td>arbitrary</td>\n",
       "      <td>3.022280</td>\n",
       "      <td>8.419647</td>\n",
       "      <td>12</td>\n",
       "    </tr>\n",
       "    <tr>\n",
       "      <th>1</th>\n",
       "      <td>HomoSapiens</td>\n",
       "      <td>arbitrary</td>\n",
       "      <td>57.134908</td>\n",
       "      <td>147.680663</td>\n",
       "      <td>12</td>\n",
       "    </tr>\n",
       "    <tr>\n",
       "      <th>2</th>\n",
       "      <td>MusMusculus</td>\n",
       "      <td>arbitrary</td>\n",
       "      <td>68.493800</td>\n",
       "      <td>181.536146</td>\n",
       "      <td>12</td>\n",
       "    </tr>\n",
       "    <tr>\n",
       "      <th>3</th>\n",
       "      <td>KGCOVID19</td>\n",
       "      <td>arbitrary</td>\n",
       "      <td>134.458449</td>\n",
       "      <td>321.975235</td>\n",
       "      <td>12</td>\n",
       "    </tr>\n",
       "  </tbody>\n",
       "</table>\n",
       "</div>"
      ],
      "text/plain": [
       "                     Graph   Approach  Global time  Per-node time Threads\n",
       "0  SaccharomycesCerevisiae  arbitrary     3.022280       8.419647      12\n",
       "1              HomoSapiens  arbitrary    57.134908     147.680663      12\n",
       "2              MusMusculus  arbitrary    68.493800     181.536146      12\n",
       "3                KGCOVID19  arbitrary   134.458449     321.975235      12"
      ]
     },
     "execution_count": 3,
     "metadata": {},
     "output_type": "execute_result"
    }
   ],
   "source": [
    "%%time\n",
    "assert os.environ[\"RAYON_NUM_THREADS\"] == \"12\"\n",
    "\n",
    "square_times = experiment(graphs)\n",
    "square_times"
   ]
  },
  {
   "cell_type": "markdown",
   "id": "f06c1879",
   "metadata": {},
   "source": [
    "Next, we will evaluate how the performance change when introducing hyper-treading, using two threads per core for a total of 24."
   ]
  },
  {
   "cell_type": "code",
   "execution_count": 10,
   "id": "9e162eb9",
   "metadata": {},
   "outputs": [
    {
     "data": {
      "application/vnd.jupyter.widget-view+json": {
       "model_id": "",
       "version_major": 2,
       "version_minor": 0
      },
      "text/plain": [
       "Approaches:   0%|          | 0/3 [00:00<?, ?it/s]"
      ]
     },
     "metadata": {},
     "output_type": "display_data"
    },
    {
     "data": {
      "application/vnd.jupyter.widget-view+json": {
       "model_id": "",
       "version_major": 2,
       "version_minor": 0
      },
      "text/plain": [
       "Graphs:   0%|          | 0/4 [00:00<?, ?it/s]"
      ]
     },
     "metadata": {},
     "output_type": "display_data"
    },
    {
     "data": {
      "application/vnd.jupyter.widget-view+json": {
       "model_id": "",
       "version_major": 2,
       "version_minor": 0
      },
      "text/plain": [
       "Graphs:   0%|          | 0/4 [00:00<?, ?it/s]"
      ]
     },
     "metadata": {},
     "output_type": "display_data"
    },
    {
     "data": {
      "application/vnd.jupyter.widget-view+json": {
       "model_id": "",
       "version_major": 2,
       "version_minor": 0
      },
      "text/plain": [
       "Graphs:   0%|          | 0/4 [00:00<?, ?it/s]"
      ]
     },
     "metadata": {},
     "output_type": "display_data"
    },
    {
     "name": "stdout",
     "output_type": "stream",
     "text": [
      "CPU times: user 20h 38min 47s, sys: 2min 24s, total: 20h 41min 12s\n",
      "Wall time: 1h 2min 49s\n"
     ]
    },
    {
     "data": {
      "text/html": [
       "<div>\n",
       "<style scoped>\n",
       "    .dataframe tbody tr th:only-of-type {\n",
       "        vertical-align: middle;\n",
       "    }\n",
       "\n",
       "    .dataframe tbody tr th {\n",
       "        vertical-align: top;\n",
       "    }\n",
       "\n",
       "    .dataframe thead th {\n",
       "        text-align: right;\n",
       "    }\n",
       "</style>\n",
       "<table border=\"1\" class=\"dataframe\">\n",
       "  <thead>\n",
       "    <tr style=\"text-align: right;\">\n",
       "      <th></th>\n",
       "      <th>Graph</th>\n",
       "      <th>Approach</th>\n",
       "      <th>Global time</th>\n",
       "      <th>Per-node time</th>\n",
       "      <th>Threads</th>\n",
       "    </tr>\n",
       "  </thead>\n",
       "  <tbody>\n",
       "    <tr>\n",
       "      <th>0</th>\n",
       "      <td>SaccharomycesCerevisiae</td>\n",
       "      <td>arbitrary</td>\n",
       "      <td>1.828033</td>\n",
       "      <td>5.370944</td>\n",
       "      <td>24</td>\n",
       "    </tr>\n",
       "    <tr>\n",
       "      <th>1</th>\n",
       "      <td>HomoSapiens</td>\n",
       "      <td>arbitrary</td>\n",
       "      <td>34.278388</td>\n",
       "      <td>97.734401</td>\n",
       "      <td>24</td>\n",
       "    </tr>\n",
       "    <tr>\n",
       "      <th>2</th>\n",
       "      <td>MusMusculus</td>\n",
       "      <td>arbitrary</td>\n",
       "      <td>42.821282</td>\n",
       "      <td>121.405771</td>\n",
       "      <td>24</td>\n",
       "    </tr>\n",
       "    <tr>\n",
       "      <th>3</th>\n",
       "      <td>KGCOVID19</td>\n",
       "      <td>arbitrary</td>\n",
       "      <td>106.812338</td>\n",
       "      <td>243.399370</td>\n",
       "      <td>24</td>\n",
       "    </tr>\n",
       "    <tr>\n",
       "      <th>4</th>\n",
       "      <td>SaccharomycesCerevisiae</td>\n",
       "      <td>decreasing_node_degree</td>\n",
       "      <td>1.993104</td>\n",
       "      <td>5.651660</td>\n",
       "      <td>24</td>\n",
       "    </tr>\n",
       "    <tr>\n",
       "      <th>5</th>\n",
       "      <td>HomoSapiens</td>\n",
       "      <td>decreasing_node_degree</td>\n",
       "      <td>36.774319</td>\n",
       "      <td>96.649758</td>\n",
       "      <td>24</td>\n",
       "    </tr>\n",
       "    <tr>\n",
       "      <th>6</th>\n",
       "      <td>MusMusculus</td>\n",
       "      <td>decreasing_node_degree</td>\n",
       "      <td>42.384414</td>\n",
       "      <td>119.406628</td>\n",
       "      <td>24</td>\n",
       "    </tr>\n",
       "    <tr>\n",
       "      <th>7</th>\n",
       "      <td>KGCOVID19</td>\n",
       "      <td>decreasing_node_degree</td>\n",
       "      <td>163.761693</td>\n",
       "      <td>506.629889</td>\n",
       "      <td>24</td>\n",
       "    </tr>\n",
       "    <tr>\n",
       "      <th>8</th>\n",
       "      <td>SaccharomycesCerevisiae</td>\n",
       "      <td>increasing_node_degree</td>\n",
       "      <td>2.453117</td>\n",
       "      <td>7.184395</td>\n",
       "      <td>24</td>\n",
       "    </tr>\n",
       "    <tr>\n",
       "      <th>9</th>\n",
       "      <td>HomoSapiens</td>\n",
       "      <td>increasing_node_degree</td>\n",
       "      <td>45.256234</td>\n",
       "      <td>122.658456</td>\n",
       "      <td>24</td>\n",
       "    </tr>\n",
       "    <tr>\n",
       "      <th>10</th>\n",
       "      <td>MusMusculus</td>\n",
       "      <td>increasing_node_degree</td>\n",
       "      <td>50.555436</td>\n",
       "      <td>136.355542</td>\n",
       "      <td>24</td>\n",
       "    </tr>\n",
       "    <tr>\n",
       "      <th>11</th>\n",
       "      <td>KGCOVID19</td>\n",
       "      <td>increasing_node_degree</td>\n",
       "      <td>435.294405</td>\n",
       "      <td>1342.639712</td>\n",
       "      <td>24</td>\n",
       "    </tr>\n",
       "  </tbody>\n",
       "</table>\n",
       "</div>"
      ],
      "text/plain": [
       "                      Graph                Approach  Global time  \\\n",
       "0   SaccharomycesCerevisiae               arbitrary     1.828033   \n",
       "1               HomoSapiens               arbitrary    34.278388   \n",
       "2               MusMusculus               arbitrary    42.821282   \n",
       "3                 KGCOVID19               arbitrary   106.812338   \n",
       "4   SaccharomycesCerevisiae  decreasing_node_degree     1.993104   \n",
       "5               HomoSapiens  decreasing_node_degree    36.774319   \n",
       "6               MusMusculus  decreasing_node_degree    42.384414   \n",
       "7                 KGCOVID19  decreasing_node_degree   163.761693   \n",
       "8   SaccharomycesCerevisiae  increasing_node_degree     2.453117   \n",
       "9               HomoSapiens  increasing_node_degree    45.256234   \n",
       "10              MusMusculus  increasing_node_degree    50.555436   \n",
       "11                KGCOVID19  increasing_node_degree   435.294405   \n",
       "\n",
       "    Per-node time Threads  \n",
       "0        5.370944      24  \n",
       "1       97.734401      24  \n",
       "2      121.405771      24  \n",
       "3      243.399370      24  \n",
       "4        5.651660      24  \n",
       "5       96.649758      24  \n",
       "6      119.406628      24  \n",
       "7      506.629889      24  \n",
       "8        7.184395      24  \n",
       "9      122.658456      24  \n",
       "10     136.355542      24  \n",
       "11    1342.639712      24  "
      ]
     },
     "execution_count": 10,
     "metadata": {},
     "output_type": "execute_result"
    }
   ],
   "source": [
    "%%time\n",
    "assert os.environ[\"RAYON_NUM_THREADS\"] == \"24\"\n",
    "\n",
    "square_times = experiment(graphs)\n",
    "square_times"
   ]
  },
  {
   "cell_type": "markdown",
   "id": "a94c3cab",
   "metadata": {},
   "source": [
    "## Conclusions\n",
    "\n",
    "In this tutorial, we learned how to use the [GRAPE](https://github.com/AnacletoLAB/grape) library to compute the exact number of triangles in large graphs. We discussed what is a triangle, and why counting triangles can be useful. Also, we illustrated an algorithm for computing triangles using an approximated vertex cover.\n",
    "\n",
    "I hope you now have a better grasp on computing triangles and how to use GRAPE to compute them for your projects. Do feel free to reach out with any questions or feedback, as I always look for ways to improve this tutorial.\n",
    "\n",
    "[And remember to ⭐ GRAPE!](https://github.com/AnacletoLAB/grape)"
   ]
  }
 ],
 "metadata": {
  "kernelspec": {
   "display_name": "Python 3 (ipykernel)",
   "language": "python",
   "name": "python3"
  },
  "language_info": {
   "codemirror_mode": {
    "name": "ipython",
    "version": 3
   },
   "file_extension": ".py",
   "mimetype": "text/x-python",
   "name": "python",
   "nbconvert_exporter": "python",
   "pygments_lexer": "ipython3",
   "version": "3.9.7"
  }
 },
 "nbformat": 4,
 "nbformat_minor": 5
}
