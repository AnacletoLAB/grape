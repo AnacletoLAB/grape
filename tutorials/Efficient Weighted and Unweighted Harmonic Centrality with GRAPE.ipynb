{
 "cells": [
  {
   "cell_type": "markdown",
   "id": "dcd995f4",
   "metadata": {},
   "source": [
    "# Efficient weighted and unweighted [harmonic centrality](https://en.wikipedia.org/wiki/Centrality#Harmonic_centrality) with [GRAPE](https://github.com/AnacletoLAB/grape)\n",
    "In this tutorial, we will explore the concept of [harmonic centrality](https://en.wikipedia.org/wiki/Centrality#Harmonic_centrality) and its importance in network analysis. By the end of this tutorial, you will have a good understanding of how to compute [harmonic centrality](https://en.wikipedia.org/wiki/Centrality#Harmonic_centrality) and apply it to your own network analysis projects using [GRAPE](https://github.com/AnacletoLAB/grape).\n",
    "\n",
    "Note that we already covered in a previous tutorial [the closeness centrality](https://github.com/AnacletoLAB/grape/blob/main/tutorials/Efficient%20Weighted%20and%20Unweighted%20Closeness%20Centrality%20with%20GRAPE.ipynb) and [how to use HyperBall to compute approximated closeness and harmonic centralities in large graphs](https://github.com/AnacletoLAB/grape/blob/main/tutorials/HyperBall-based%20approximated%20Harmonic%20and%20Closeness%20with%20GRAPE.ipynb) - Consider checking them out after this tutorial.\n",
    "\n",
    "## Understanding Graphs and Their Significance\n",
    "\n",
    "A graph is a fundamental concept in network analysis that represents the relationships or connections between entities. It consists of a set of nodes (also known as vertices) connected by edges (also known as links or relationships). Graphs provide a powerful framework for modeling and analyzing complex systems in various fields, including social networks, transportation networks, biological networks, and information networks.\n",
    "\n",
    "The significance of graphs lies in their ability to capture the structure, dynamics, and interdependencies within a system. By representing entities as nodes and their relationships as edges, graphs enable us to study the patterns of connections, identify important nodes or clusters, and understand how information, influence, or resources flow through the network.\n",
    "\n",
    "Analyzing graphs can help us gain insights into a wide range of real-world phenomena. For example, in a social network, graph analysis can reveal influential individuals or communities, uncover patterns of information diffusion, or detect potential opinion leaders. In transportation networks, graph analysis can identify critical hubs, optimize routes, or evaluate the robustness of the infrastructure.\n",
    "\n",
    "## Understanding Centralities in Network Analysis\n",
    "Centralities are measures used in network analysis to assess the importance or centrality of nodes within a network. They provide a quantitative way to rank or compare the significance of nodes based on their structural properties and relationships with other nodes.\n",
    "\n",
    "There are various types of centralities, each capturing a different aspect of node importance. Some common centralities include [degree centrality](https://en.wikipedia.org/wiki/Centrality#Degree_centrality), [betweenness centrality](https://github.com/AnacletoLAB/grape/blob/main/tutorials/Efficient%20Betweenness%20Centrality%20with%20GRAPE.ipynb), [closeness centrality](https://github.com/AnacletoLAB/grape/blob/main/tutorials/Efficient%20Weighted%20and%20Unweighted%20Closeness%20Centrality%20with%20GRAPE.ipynb), and [eigenvector centrality](https://en.wikipedia.org/wiki/Eigenvector_centrality).\n",
    "\n",
    "* Degree centrality measures the number of connections a node has. Nodes with high degree centrality are well-connected to many other nodes and often play important roles in information diffusion or resource sharing.\n",
    "* [Betweenness centrality](https://github.com/AnacletoLAB/grape/blob/main/tutorials/Efficient%20Betweenness%20Centrality%20with%20GRAPE.ipynb) identifies nodes that act as bridges or intermediaries between other nodes. Nodes with high betweenness centrality have a significant influence on the flow of information or resources in the network, as they lie on many shortest paths between other nodes.\n",
    "* [Closeness centrality](https://github.com/AnacletoLAB/grape/blob/main/tutorials/Efficient%20Weighted%20and%20Unweighted%20Closeness%20Centrality%20with%20GRAPE.ipynb) quantifies how quickly a node can reach all other nodes in the network. Nodes with high closeness centrality are closely connected to other nodes and can efficiently communicate information to the entire network.\n",
    "* [Eigenvector centrality](https://en.wikipedia.org/wiki/Eigenvector_centrality) measures the influence of a node based on the importance of its neighboring nodes. Nodes with high eigenvector centrality are connected to other influential nodes, enhancing their own centrality scores.\n",
    "\n",
    "By applying different centrality measures, network analysts can gain insights into various aspects of a network's structure and functioning. Centralities help identify key nodes, influential individuals, bottlenecks, or information flow pathways, enabling a better understanding of complex systems and facilitating targeted interventions or optimizations.\n",
    "\n",
    "## Harmonic centrality\n",
    "Harmonic centrality is a widely used graph metric in network analysis that helps identify crucial and influential nodes within a network. It quantifies the node's ability to efficiently reach all other nodes by considering the sum of the reciprocals of the shortest path distances from the node to others. Nodes with high harmonic centrality are well-connected to many other nodes, enabling efficient communication across the network.\n",
    "\n",
    "Mathematically, the harmonic centrality of a node is computed by summing the reciprocals of its shortest path distances to all other nodes. Nodes with shorter distances to others will have higher harmonic centrality values, emphasizing their importance in the network's overall structure and information flow.\n",
    "\n",
    "$$C_h(v) = \\sum_{u \\in V\\; u \\neq v} \\frac{1}{d(u, v)}$$\n",
    "\n",
    "Harmonic centrality proves valuable in various scenarios where directness of communication or accessibility is crucial, such as transportation networks, social networks, and information dissemination systems. For instance, in a transportation network, a node with high harmonic centrality could represent a pivotal hub or a densely populated area with robust transportation links, while a node with low harmonic centrality may signify a remote location with limited connections.\n",
    "\n",
    "Combining harmonic centrality with other network metrics, such as degree centrality (measuring node connections) and betweenness centrality (assessing a node's role in facilitating communication), offers a more comprehensive understanding of the network's structure and functionality.\n",
    "\n",
    "We will then demonstrate how to use the [GRAPE](https://github.com/AnacletoLAB/grape) library to compute harmonic centrality on three citation graphs and three protein-protein interaction graphs.\n",
    "\n",
    "[Find the Rust implementation here](https://github.com/AnacletoLAB/ensmallen/blob/f7c7782d061aa1bb18ea476cf8a1a59def052f96/graph/src/centrality.rs#L227).\n",
    "\n",
    "### What is the difference between Harmonic and Closeness centrality?\n",
    "Harmonic centrality and closeness centrality are both important metrics used in network analysis, but they capture different aspects of node importance within a network.\n",
    "\n",
    "Closeness centrality focuses on the efficiency of information spreading from a given node to all other nodes in the network. It measures how quickly information can travel from a node to others by considering the total shortest path length from that node to all other nodes. A node with high closeness centrality is one that is closely connected to many other nodes and can efficiently communicate information to the rest of the network.\n",
    "\n",
    "On the other hand, harmonic centrality emphasizes directness of connectivity. It measures the node's ability to reach all other nodes by considering the sum of the reciprocals of the shortest path distances from the node to others. Nodes with high harmonic centrality have shorter distances to other nodes and are thus well-positioned to reach different parts of the network efficiently.\n",
    "\n",
    "## Weighted harmonic centrality\n",
    "Weighted harmonic centrality is a variant of the standard harmonic centrality measure that considers the weights or distances between nodes in a network. Unlike the traditional harmonic centrality, which focuses solely on the sum of the reciprocals of the shortest path distances, weighted harmonic centrality utilizes a weighted shortest path algorithm, such as Dijkstra's algorithm, to calculate the harmonic centrality scores while taking into account the weights assigned to the edges. This approach proves valuable in scenarios where edges have varying costs or weights, such as transportation networks with different transportation modes or varying travel times. By incorporating edge weights into the calculation, the weighted harmonic centrality measure provides a more accurate and nuanced assessment of node importance in the network.\n",
    "\n",
    "[Find the Rust implementation here](https://github.com/AnacletoLAB/ensmallen/blob/f7c7782d061aa1bb18ea476cf8a1a59def052f96/graph/src/centrality.rs#L254)\n",
    "\n",
    "### Probability-based harmonic centrality with weighted edges\n",
    "In certain graphs, such as the STRING protein-protein interaction network, the edge weights represent probabilities instead of actual distances or costs. In such cases, the most probable path between two nodes may not necessarily be the shortest path in terms of distance or cost. To account for this, we can adjust the weights of the edges to reflect the likelihood of each path. Specifically, we can convert the edge weights into log-odds scores, which represent the probability of a given path compared to a background probability of all possible paths. By applying a Dijkstra algorithm that utilizes these log-odds scores, we can find the most likely path between two nodes based on their harmonic centrality. Incorporating the probability of each path allows us to obtain a more accurate and informative measure of harmonic centrality in graphs with probabilistic weights. This approach considers both the connectivity and the likelihood of paths, providing a comprehensive analysis of the importance of nodes in the network's structure and function.\n",
    "\n",
    "## What is [GRAPE](https://github.com/AnacletoLAB/grape)?\n",
    "🍇🍇 [GRAPE](https://github.com/AnacletoLAB/grape) 🍇🍇 is a graph processing and embedding library that enables users to easily manipulate and analyze graphs. With [GRAPE](https://github.com/AnacletoLAB/grape), users can efficiently load and preprocess graphs, generate random walks, and apply various node and edge embedding models. Additionally, [GRAPE](https://github.com/AnacletoLAB/grape) provides a fair and reproducible evaluation pipeline for comparing different graph embedding and graph-based prediction methods.\n",
    "\n",
    "![[GRAPE](https://github.com/AnacletoLAB/grape)](https://github.com/AnacletoLAB/grape/raw/main/images/sequence_diagram.png?raw=true)"
   ]
  },
  {
   "cell_type": "markdown",
   "id": "d971cf68",
   "metadata": {},
   "source": [
    "## Experiments\n",
    "In this section, we will present the results of our experiments using the parallel harmonic centrality algorithm implemented in GRAPE. We loaded three citation graphs, Cora, CiteSeer, and PubmedDiabetes, and three protein-protein interaction graphs, Homo Sapiens, Canis Lupus, and Mus Musculus. We will show the harmonic centrality scores of each graph as histograms, which will give us an insight into the centrality of nodes in the network. By comparing the results of these experiments, we will be able to understand the performance of the algorithm on different types of graphs and the distribution of harmonic centrality scores in each graph."
   ]
  },
  {
   "cell_type": "code",
   "execution_count": 1,
   "id": "37cb793c",
   "metadata": {},
   "outputs": [
    {
     "name": "stderr",
     "output_type": "stream",
     "text": [
      "2023-05-18 18:51:29.990225: W tensorflow/stream_executor/platform/default/dso_loader.cc:64] Could not load dynamic library 'libcudart.so.11.0'; dlerror: libcudart.so.11.0: cannot open shared object file: No such file or directory\n",
      "2023-05-18 18:51:29.990245: I tensorflow/stream_executor/cuda/cudart_stub.cc:29] Ignore above cudart dlerror if you do not have a GPU set up on your machine.\n"
     ]
    }
   ],
   "source": [
    "from grape.datasets.linqs import Cora, CiteSeer, PubMedDiabetes, get_words_data\n",
    "\n",
    "cora = Cora()\n",
    "citeseer = CiteSeer()\n",
    "pubmed = PubMedDiabetes()"
   ]
  },
  {
   "cell_type": "code",
   "execution_count": 2,
   "id": "f7413a15",
   "metadata": {},
   "outputs": [
    {
     "data": {
      "text/plain": [
       "(4141, 108988, 6.0)"
      ]
     },
     "execution_count": 2,
     "metadata": {},
     "output_type": "execute_result"
    }
   ],
   "source": [
    "(cora.get_number_of_nodes(), cora.get_number_of_directed_edges(), cora.get_diameter())"
   ]
  },
  {
   "cell_type": "code",
   "execution_count": 3,
   "id": "d766c492",
   "metadata": {},
   "outputs": [
    {
     "name": "stdout",
     "output_type": "stream",
     "text": [
      "CPU times: user 1.28 s, sys: 20.9 ms, total: 1.3 s\n",
      "Wall time: 54.8 ms\n"
     ]
    }
   ],
   "source": [
    "%%time\n",
    "cora_harmonic = cora.get_harmonic_centrality()"
   ]
  },
  {
   "cell_type": "code",
   "execution_count": 4,
   "id": "5c65cb30",
   "metadata": {},
   "outputs": [
    {
     "data": {
      "image/png": "[encoded data removed]",
      "text/plain": [
       "<Figure size 432x288 with 1 Axes>"
      ]
     },
     "metadata": {
      "needs_background": "light"
     },
     "output_type": "display_data"
    }
   ],
   "source": [
    "import matplotlib.pyplot as plt\n",
    "\n",
    "plt.hist(cora_harmonic, bins=50, log=True)\n",
    "plt.show()"
   ]
  },
  {
   "cell_type": "code",
   "execution_count": 5,
   "id": "7e31fffd",
   "metadata": {},
   "outputs": [
    {
     "data": {
      "text/plain": [
       "(7030, 219558, 6.0)"
      ]
     },
     "execution_count": 5,
     "metadata": {},
     "output_type": "execute_result"
    }
   ],
   "source": [
    "(citeseer.get_number_of_nodes(), citeseer.get_number_of_directed_edges(), citeseer.get_diameter())"
   ]
  },
  {
   "cell_type": "code",
   "execution_count": 6,
   "id": "273c2a75",
   "metadata": {},
   "outputs": [
    {
     "name": "stdout",
     "output_type": "stream",
     "text": [
      "CPU times: user 4.17 s, sys: 7.83 ms, total: 4.18 s\n",
      "Wall time: 175 ms\n"
     ]
    }
   ],
   "source": [
    "%%time\n",
    "citeseer_harmonic = citeseer.get_harmonic_centrality()"
   ]
  },
  {
   "cell_type": "code",
   "execution_count": 7,
   "id": "7aceb9d3",
   "metadata": {},
   "outputs": [
    {
     "data": {
      "image/png": "[encoded data removed]",
      "text/plain": [
       "<Figure size 432x288 with 1 Axes>"
      ]
     },
     "metadata": {
      "needs_background": "light"
     },
     "output_type": "display_data"
    }
   ],
   "source": [
    "import matplotlib.pyplot as plt\n",
    "\n",
    "plt.hist(citeseer_harmonic, bins=50, log=True)\n",
    "plt.show()"
   ]
  },
  {
   "cell_type": "code",
   "execution_count": 8,
   "id": "8ce1d2f9",
   "metadata": {},
   "outputs": [
    {
     "data": {
      "text/plain": [
       "(20217, 2064713, 4.0)"
      ]
     },
     "execution_count": 8,
     "metadata": {},
     "output_type": "execute_result"
    }
   ],
   "source": [
    "(pubmed.get_number_of_nodes(), pubmed.get_number_of_directed_edges(), pubmed.get_diameter())"
   ]
  },
  {
   "cell_type": "code",
   "execution_count": 9,
   "id": "978d12f2",
   "metadata": {},
   "outputs": [
    {
     "name": "stdout",
     "output_type": "stream",
     "text": [
      "CPU times: user 1min 37s, sys: 158 ms, total: 1min 37s\n",
      "Wall time: 4.12 s\n"
     ]
    }
   ],
   "source": [
    "%%time\n",
    "pubmed_harmonic = pubmed.get_harmonic_centrality()"
   ]
  },
  {
   "cell_type": "code",
   "execution_count": 10,
   "id": "b3ad0f7b",
   "metadata": {},
   "outputs": [
    {
     "data": {
      "image/png": "[encoded data removed]",
      "text/plain": [
       "<Figure size 432x288 with 1 Axes>"
      ]
     },
     "metadata": {
      "needs_background": "light"
     },
     "output_type": "display_data"
    }
   ],
   "source": [
    "import matplotlib.pyplot as plt\n",
    "\n",
    "plt.hist(pubmed_harmonic, bins=50, log=True)\n",
    "plt.show()"
   ]
  },
  {
   "cell_type": "code",
   "execution_count": 11,
   "id": "dfd8eb10",
   "metadata": {},
   "outputs": [],
   "source": [
    "from IPython.display import display, HTML, Markdown\n",
    "from typing import List, Tuple\n",
    "import matplotlib.pyplot as plt\n",
    "from ensmallen import Graph\n",
    "import numpy as np\n",
    "import pandas as pd\n",
    "from time import time\n",
    "\n",
    "def top_ranked_values(\n",
    "    graph: Graph,\n",
    "    score: np.ndarray,\n",
    "    k: int = 10\n",
    ") -> List[Tuple[float, int]]:\n",
    "    \"\"\"Return.\n",
    "    \n",
    "    Parameters\n",
    "    ----------------\n",
    "    graph: Graph\n",
    "        The graph whose nodes are to be ranked.\n",
    "    score: np.ndarray\n",
    "        The scores to use for the ranking.\n",
    "    k: int = 10\n",
    "        Number of values to rank.\n",
    "    \"\"\"\n",
    "    return sorted([\n",
    "        (\n",
    "            score[node_id],\n",
    "            graph.get_node_name_from_node_id(node_id),\n",
    "        )\n",
    "        for node_id in np.argpartition(score, -k)[-k:]\n",
    "    ], reverse=True)\n",
    "\n",
    "\n",
    "def harmonic_centrality_report(graph: Graph):\n",
    "    display(Markdown(\n",
    "        f\"## {graph.get_name()}\\n\"\n",
    "        f\"The current graph, {graph.get_name()}, \"\n",
    "        f\"has {graph.get_number_of_nodes()} and \"\n",
    "        f\"{graph.get_number_of_directed_edges()} edges. \"\n",
    "        f\"The diameter of the graph is {graph.get_diameter()}.\"\n",
    "    ))\n",
    "    \n",
    "    display(Markdown(\n",
    "        \"### Unweighted harmonic centrality\\n\"\n",
    "        \"We will now compute the **unweighted** harmonic centrality with the following one-liner:\\n\"\n",
    "        \"\\n\\n\"\n",
    "        \"```python\\n\"\n",
    "        \"unweighted_harmonic = graph.get_harmonic_centrality()\\n\"\n",
    "        \"```\\n\"\n",
    "    ))\n",
    "    \n",
    "    start = time()\n",
    "    unweighted_harmonic = graph.get_harmonic_centrality()\n",
    "    delta = time() - start\n",
    "    \n",
    "    display(Markdown(\n",
    "        f\"Computing the unweighted harmonic centrality took {delta:.4} seconds.\"\n",
    "    ))\n",
    "    \n",
    "    display(Markdown(\n",
    "        \"And let's now display the histogram of the unweighted harmonic centralities:\"\n",
    "    ))\n",
    "    \n",
    "    plt.hist(unweighted_harmonic, bins=50, log=True)\n",
    "    plt.title(\"Unweighted harmonic centrality\")\n",
    "    plt.show()\n",
    "    \n",
    "    display(Markdown(\n",
    "        \"Let's see which of the proteins in this graph have the highest harmonic centrality:\"\n",
    "    ))\n",
    "    \n",
    "    display(pd.DataFrame(\n",
    "        top_ranked_values(graph, unweighted_harmonic),\n",
    "        columns=[\"unweighted_harmonic\", \"protein\"]\n",
    "    ))\n",
    "    \n",
    "    display(Markdown(\n",
    "        \"### Weighted harmonic centrality\\n\"\n",
    "        \"We will now compute the **weighted** harmonic centrality with the following one-liner:\\n\"\n",
    "        \"\\n\\n\"\n",
    "        \"```python\\n\"\n",
    "        \"weighted_harmonic = graph.get_weighted_harmonic_centrality()\\n\"\n",
    "        \"```\\n\"\n",
    "    ))\n",
    "    \n",
    "    start = time()\n",
    "    weighted_harmonic = graph.get_weighted_harmonic_centrality()\n",
    "    delta = time() - start\n",
    "    \n",
    "    display(Markdown(\n",
    "        f\"Computing the weighted harmonic centrality took {delta:.4} seconds.\"\n",
    "    ))\n",
    "    \n",
    "    display(Markdown(\n",
    "        \"And let's now display the histogram of the weighted harmonic centralities:\"\n",
    "    ))\n",
    "    \n",
    "    plt.hist(weighted_harmonic, bins=50, log=True)\n",
    "    plt.title(\"Weighted harmonic centrality\")\n",
    "    plt.show()\n",
    "    \n",
    "    display(Markdown(\n",
    "        \"Let's see which of the proteins in this graph have the highest weighted harmonic centrality:\"\n",
    "    ))\n",
    "    \n",
    "    display(pd.DataFrame(\n",
    "        top_ranked_values(graph, weighted_harmonic),\n",
    "        columns=[\"weighted_harmonic\", \"protein\"]\n",
    "    ))\n",
    "    \n",
    "    display(Markdown(\n",
    "        \"### Weight as probabilities harmonic centrality\\n\"\n",
    "        \"We will now compute the **probability weights** harmonic centrality with the following couple lines:\\n\"\n",
    "        \"\\n\\n\"\n",
    "        \"```python\\n\"\n",
    "        \"# First, we normalize the PPI graph weights which go from 100 to 1000\\n\"\n",
    "        \"graph = graph.divide_edge_weights(1000.0)\\n\"\n",
    "        \"# then, we compute the centralities\\n\"\n",
    "        \"probability_harmonic = graph.get_weighted_harmonic_centrality(\\n\"\n",
    "        \"\\tuse_edge_weights_as_probabilities=True\\n\"\n",
    "        \")\\n\"\n",
    "        \"```\\n\"\n",
    "    ))\n",
    "    \n",
    "    graph = graph.divide_edge_weights(1000.0)\n",
    "\n",
    "    start = time()\n",
    "    probability_harmonic = graph.get_weighted_harmonic_centrality(\n",
    "        use_edge_weights_as_probabilities=True\n",
    "    )\n",
    "    delta = time() - start\n",
    "    \n",
    "    display(Markdown(\n",
    "        f\"Computing the probability harmonic centrality took {delta:.4} seconds.\"\n",
    "    ))\n",
    "    \n",
    "    display(Markdown(\n",
    "        \"And let's now display the histogram of the probability harmonic centralities:\"\n",
    "    ))\n",
    "    \n",
    "    plt.hist(probability_harmonic, bins=50, log=True)\n",
    "    plt.title(\"Log-probability harmonic centrality\")\n",
    "    plt.show()\n",
    "    \n",
    "    display(Markdown(\n",
    "        \"Let's see which of the proteins in this graph have the highest log-probability harmonic centrality:\"\n",
    "    ))\n",
    "    \n",
    "    display(pd.DataFrame(\n",
    "        top_ranked_values(graph, probability_harmonic),\n",
    "        columns=[\"probability_harmonic\", \"protein\"]\n",
    "    ))"
   ]
  },
  {
   "cell_type": "code",
   "execution_count": 12,
   "id": "acc859d8",
   "metadata": {},
   "outputs": [],
   "source": [
    "from grape.datasets.string import HomoSapiens, CanisLupusFamiliaris, MusMusculus\n",
    "\n",
    "homo_sapiens = HomoSapiens()\n",
    "doggo = CanisLupusFamiliaris()\n",
    "mouse = MusMusculus()\n",
    "\n",
    "# We only keep the main connected component\n",
    "homo_sapiens = homo_sapiens.remove_components(top_k_components=1)\n",
    "doggo = doggo.remove_components(top_k_components=1)\n",
    "mouse = mouse.remove_components(top_k_components=1)"
   ]
  },
  {
   "cell_type": "code",
   "execution_count": 13,
   "id": "5e19fdcb",
   "metadata": {
    "scrolled": false
   },
   "outputs": [
    {
     "data": {
      "text/markdown": [
       "## HomoSapiens\n",
       "The current graph, HomoSapiens, has 19385 and 11938498 edges. The diameter of the graph is 5.0."
      ],
      "text/plain": [
       "<IPython.core.display.Markdown object>"
      ]
     },
     "metadata": {},
     "output_type": "display_data"
    },
    {
     "data": {
      "text/markdown": [
       "### Unweighted harmonic centrality\n",
       "We will now compute the **unweighted** harmonic centrality with the following one-liner:\n",
       "\n",
       "\n",
       "```python\n",
       "unweighted_harmonic = graph.get_harmonic_centrality()\n",
       "```\n"
      ],
      "text/plain": [
       "<IPython.core.display.Markdown object>"
      ]
     },
     "metadata": {},
     "output_type": "display_data"
    },
    {
     "data": {
      "text/markdown": [
       "Computing the unweighted harmonic centrality took 28.37 seconds."
      ],
      "text/plain": [
       "<IPython.core.display.Markdown object>"
      ]
     },
     "metadata": {},
     "output_type": "display_data"
    },
    {
     "data": {
      "text/markdown": [
       "And let's now display the histogram of the unweighted harmonic centralities:"
      ],
      "text/plain": [
       "<IPython.core.display.Markdown object>"
      ]
     },
     "metadata": {},
     "output_type": "display_data"
    },
    {
     "data": {
      "image/png": "[encoded data removed]",
      "text/plain": [
       "<Figure size 432x288 with 1 Axes>"
      ]
     },
     "metadata": {
      "needs_background": "light"
     },
     "output_type": "display_data"
    },
    {
     "data": {
      "text/markdown": [
       "Let's see which of the proteins in this graph have the highest harmonic centrality:"
      ],
      "text/plain": [
       "<IPython.core.display.Markdown object>"
      ]
     },
     "metadata": {},
     "output_type": "display_data"
    },
    {
     "data": {
      "text/html": [
       "<div>\n",
       "<style scoped>\n",
       "    .dataframe tbody tr th:only-of-type {\n",
       "        vertical-align: middle;\n",
       "    }\n",
       "\n",
       "    .dataframe tbody tr th {\n",
       "        vertical-align: top;\n",
       "    }\n",
       "\n",
       "    .dataframe thead th {\n",
       "        text-align: right;\n",
       "    }\n",
       "</style>\n",
       "<table border=\"1\" class=\"dataframe\">\n",
       "  <thead>\n",
       "    <tr style=\"text-align: right;\">\n",
       "      <th></th>\n",
       "      <th>unweighted_harmonic</th>\n",
       "      <th>protein</th>\n",
       "    </tr>\n",
       "  </thead>\n",
       "  <tbody>\n",
       "    <tr>\n",
       "      <th>0</th>\n",
       "      <td>13443.833008</td>\n",
       "      <td>9606.ENSP00000229239</td>\n",
       "    </tr>\n",
       "    <tr>\n",
       "      <th>1</th>\n",
       "      <td>13158.833008</td>\n",
       "      <td>9606.ENSP00000349960</td>\n",
       "    </tr>\n",
       "    <tr>\n",
       "      <th>2</th>\n",
       "      <td>12647.833008</td>\n",
       "      <td>9606.ENSP00000451828</td>\n",
       "    </tr>\n",
       "    <tr>\n",
       "      <th>3</th>\n",
       "      <td>12588.000000</td>\n",
       "      <td>9606.ENSP00000298910</td>\n",
       "    </tr>\n",
       "    <tr>\n",
       "      <th>4</th>\n",
       "      <td>12514.666992</td>\n",
       "      <td>9606.ENSP00000269305</td>\n",
       "    </tr>\n",
       "    <tr>\n",
       "      <th>5</th>\n",
       "      <td>12495.000000</td>\n",
       "      <td>9606.ENSP00000479618</td>\n",
       "    </tr>\n",
       "    <tr>\n",
       "      <th>6</th>\n",
       "      <td>12223.833008</td>\n",
       "      <td>9606.ENSP00000344456</td>\n",
       "    </tr>\n",
       "    <tr>\n",
       "      <th>7</th>\n",
       "      <td>12185.500000</td>\n",
       "      <td>9606.ENSP00000295897</td>\n",
       "    </tr>\n",
       "    <tr>\n",
       "      <th>8</th>\n",
       "      <td>11943.500000</td>\n",
       "      <td>9606.ENSP00000275493</td>\n",
       "    </tr>\n",
       "    <tr>\n",
       "      <th>9</th>\n",
       "      <td>11904.666992</td>\n",
       "      <td>9606.ENSP00000335153</td>\n",
       "    </tr>\n",
       "  </tbody>\n",
       "</table>\n",
       "</div>"
      ],
      "text/plain": [
       "   unweighted_harmonic               protein\n",
       "0         13443.833008  9606.ENSP00000229239\n",
       "1         13158.833008  9606.ENSP00000349960\n",
       "2         12647.833008  9606.ENSP00000451828\n",
       "3         12588.000000  9606.ENSP00000298910\n",
       "4         12514.666992  9606.ENSP00000269305\n",
       "5         12495.000000  9606.ENSP00000479618\n",
       "6         12223.833008  9606.ENSP00000344456\n",
       "7         12185.500000  9606.ENSP00000295897\n",
       "8         11943.500000  9606.ENSP00000275493\n",
       "9         11904.666992  9606.ENSP00000335153"
      ]
     },
     "metadata": {},
     "output_type": "display_data"
    },
    {
     "data": {
      "text/markdown": [
       "### Weighted harmonic centrality\n",
       "We will now compute the **weighted** harmonic centrality with the following one-liner:\n",
       "\n",
       "\n",
       "```python\n",
       "weighted_harmonic = graph.get_weighted_harmonic_centrality()\n",
       "```\n"
      ],
      "text/plain": [
       "<IPython.core.display.Markdown object>"
      ]
     },
     "metadata": {},
     "output_type": "display_data"
    },
    {
     "data": {
      "text/markdown": [
       "Computing the weighted harmonic centrality took 74.91 seconds."
      ],
      "text/plain": [
       "<IPython.core.display.Markdown object>"
      ]
     },
     "metadata": {},
     "output_type": "display_data"
    },
    {
     "data": {
      "text/markdown": [
       "And let's now display the histogram of the weighted harmonic centralities:"
      ],
      "text/plain": [
       "<IPython.core.display.Markdown object>"
      ]
     },
     "metadata": {},
     "output_type": "display_data"
    },
    {
     "data": {
      "image/png": "[encoded data removed]",
      "text/plain": [
       "<Figure size 432x288 with 1 Axes>"
      ]
     },
     "metadata": {
      "needs_background": "light"
     },
     "output_type": "display_data"
    },
    {
     "data": {
      "text/markdown": [
       "Let's see which of the proteins in this graph have the highest weighted harmonic centrality:"
      ],
      "text/plain": [
       "<IPython.core.display.Markdown object>"
      ]
     },
     "metadata": {},
     "output_type": "display_data"
    },
    {
     "data": {
      "text/html": [
       "<div>\n",
       "<style scoped>\n",
       "    .dataframe tbody tr th:only-of-type {\n",
       "        vertical-align: middle;\n",
       "    }\n",
       "\n",
       "    .dataframe tbody tr th {\n",
       "        vertical-align: top;\n",
       "    }\n",
       "\n",
       "    .dataframe thead th {\n",
       "        text-align: right;\n",
       "    }\n",
       "</style>\n",
       "<table border=\"1\" class=\"dataframe\">\n",
       "  <thead>\n",
       "    <tr style=\"text-align: right;\">\n",
       "      <th></th>\n",
       "      <th>weighted_harmonic</th>\n",
       "      <th>protein</th>\n",
       "    </tr>\n",
       "  </thead>\n",
       "  <tbody>\n",
       "    <tr>\n",
       "      <th>0</th>\n",
       "      <td>114.757729</td>\n",
       "      <td>9606.ENSP00000332454</td>\n",
       "    </tr>\n",
       "    <tr>\n",
       "      <th>1</th>\n",
       "      <td>114.407509</td>\n",
       "      <td>9606.ENSP00000430774</td>\n",
       "    </tr>\n",
       "    <tr>\n",
       "      <th>2</th>\n",
       "      <td>114.197151</td>\n",
       "      <td>9606.ENSP00000356530</td>\n",
       "    </tr>\n",
       "    <tr>\n",
       "      <th>3</th>\n",
       "      <td>113.959206</td>\n",
       "      <td>9606.ENSP00000355388</td>\n",
       "    </tr>\n",
       "    <tr>\n",
       "      <th>4</th>\n",
       "      <td>112.104408</td>\n",
       "      <td>9606.ENSP00000298910</td>\n",
       "    </tr>\n",
       "    <tr>\n",
       "      <th>5</th>\n",
       "      <td>111.989975</td>\n",
       "      <td>9606.ENSP00000426103</td>\n",
       "    </tr>\n",
       "    <tr>\n",
       "      <th>6</th>\n",
       "      <td>111.562477</td>\n",
       "      <td>9606.ENSP00000367203</td>\n",
       "    </tr>\n",
       "    <tr>\n",
       "      <th>7</th>\n",
       "      <td>111.145706</td>\n",
       "      <td>9606.ENSP00000254846</td>\n",
       "    </tr>\n",
       "    <tr>\n",
       "      <th>8</th>\n",
       "      <td>111.073425</td>\n",
       "      <td>9606.ENSP00000377086</td>\n",
       "    </tr>\n",
       "    <tr>\n",
       "      <th>9</th>\n",
       "      <td>110.814766</td>\n",
       "      <td>9606.ENSP00000351475</td>\n",
       "    </tr>\n",
       "  </tbody>\n",
       "</table>\n",
       "</div>"
      ],
      "text/plain": [
       "   weighted_harmonic               protein\n",
       "0         114.757729  9606.ENSP00000332454\n",
       "1         114.407509  9606.ENSP00000430774\n",
       "2         114.197151  9606.ENSP00000356530\n",
       "3         113.959206  9606.ENSP00000355388\n",
       "4         112.104408  9606.ENSP00000298910\n",
       "5         111.989975  9606.ENSP00000426103\n",
       "6         111.562477  9606.ENSP00000367203\n",
       "7         111.145706  9606.ENSP00000254846\n",
       "8         111.073425  9606.ENSP00000377086\n",
       "9         110.814766  9606.ENSP00000351475"
      ]
     },
     "metadata": {},
     "output_type": "display_data"
    },
    {
     "data": {
      "text/markdown": [
       "### Weight as probabilities harmonic centrality\n",
       "We will now compute the **probability weights** harmonic centrality with the following couple lines:\n",
       "\n",
       "\n",
       "```python\n",
       "# First, we normalize the PPI graph weights which go from 100 to 1000\n",
       "graph = graph.divide_edge_weights(1000.0)\n",
       "# then, we compute the centralities\n",
       "probability_harmonic = graph.get_weighted_harmonic_centrality(\n",
       "\tuse_edge_weights_as_probabilities=True\n",
       ")\n",
       "```\n"
      ],
      "text/plain": [
       "<IPython.core.display.Markdown object>"
      ]
     },
     "metadata": {},
     "output_type": "display_data"
    },
    {
     "data": {
      "text/markdown": [
       "Computing the probability harmonic centrality took 243.5 seconds."
      ],
      "text/plain": [
       "<IPython.core.display.Markdown object>"
      ]
     },
     "metadata": {},
     "output_type": "display_data"
    },
    {
     "data": {
      "text/markdown": [
       "And let's now display the histogram of the probability harmonic centralities:"
      ],
      "text/plain": [
       "<IPython.core.display.Markdown object>"
      ]
     },
     "metadata": {},
     "output_type": "display_data"
    },
    {
     "data": {
      "image/png": "[encoded data removed]",
      "text/plain": [
       "<Figure size 432x288 with 1 Axes>"
      ]
     },
     "metadata": {
      "needs_background": "light"
     },
     "output_type": "display_data"
    },
    {
     "data": {
      "text/markdown": [
       "Let's see which of the proteins in this graph have the highest log-probability harmonic centrality:"
      ],
      "text/plain": [
       "<IPython.core.display.Markdown object>"
      ]
     },
     "metadata": {},
     "output_type": "display_data"
    },
    {
     "data": {
      "text/html": [
       "<div>\n",
       "<style scoped>\n",
       "    .dataframe tbody tr th:only-of-type {\n",
       "        vertical-align: middle;\n",
       "    }\n",
       "\n",
       "    .dataframe tbody tr th {\n",
       "        vertical-align: top;\n",
       "    }\n",
       "\n",
       "    .dataframe thead th {\n",
       "        text-align: right;\n",
       "    }\n",
       "</style>\n",
       "<table border=\"1\" class=\"dataframe\">\n",
       "  <thead>\n",
       "    <tr style=\"text-align: right;\">\n",
       "      <th></th>\n",
       "      <th>probability_harmonic</th>\n",
       "      <th>protein</th>\n",
       "    </tr>\n",
       "  </thead>\n",
       "  <tbody>\n",
       "    <tr>\n",
       "      <th>0</th>\n",
       "      <td>1597828.000</td>\n",
       "      <td>9606.ENSP00000362680</td>\n",
       "    </tr>\n",
       "    <tr>\n",
       "      <th>1</th>\n",
       "      <td>1575174.125</td>\n",
       "      <td>9606.ENSP00000263253</td>\n",
       "    </tr>\n",
       "    <tr>\n",
       "      <th>2</th>\n",
       "      <td>1556233.000</td>\n",
       "      <td>9606.ENSP00000437955</td>\n",
       "    </tr>\n",
       "    <tr>\n",
       "      <th>3</th>\n",
       "      <td>1553341.625</td>\n",
       "      <td>9606.ENSP00000405330</td>\n",
       "    </tr>\n",
       "    <tr>\n",
       "      <th>4</th>\n",
       "      <td>1552624.125</td>\n",
       "      <td>9606.ENSP00000344456</td>\n",
       "    </tr>\n",
       "    <tr>\n",
       "      <th>5</th>\n",
       "      <td>1529437.875</td>\n",
       "      <td>9606.ENSP00000362649</td>\n",
       "    </tr>\n",
       "    <tr>\n",
       "      <th>6</th>\n",
       "      <td>1525341.875</td>\n",
       "      <td>9606.ENSP00000261769</td>\n",
       "    </tr>\n",
       "    <tr>\n",
       "      <th>7</th>\n",
       "      <td>1523783.000</td>\n",
       "      <td>9606.ENSP00000269305</td>\n",
       "    </tr>\n",
       "    <tr>\n",
       "      <th>8</th>\n",
       "      <td>1523641.500</td>\n",
       "      <td>9606.ENSP00000401303</td>\n",
       "    </tr>\n",
       "    <tr>\n",
       "      <th>9</th>\n",
       "      <td>1520046.625</td>\n",
       "      <td>9606.ENSP00000275493</td>\n",
       "    </tr>\n",
       "  </tbody>\n",
       "</table>\n",
       "</div>"
      ],
      "text/plain": [
       "   probability_harmonic               protein\n",
       "0           1597828.000  9606.ENSP00000362680\n",
       "1           1575174.125  9606.ENSP00000263253\n",
       "2           1556233.000  9606.ENSP00000437955\n",
       "3           1553341.625  9606.ENSP00000405330\n",
       "4           1552624.125  9606.ENSP00000344456\n",
       "5           1529437.875  9606.ENSP00000362649\n",
       "6           1525341.875  9606.ENSP00000261769\n",
       "7           1523783.000  9606.ENSP00000269305\n",
       "8           1523641.500  9606.ENSP00000401303\n",
       "9           1520046.625  9606.ENSP00000275493"
      ]
     },
     "metadata": {},
     "output_type": "display_data"
    }
   ],
   "source": [
    "harmonic_centrality_report(homo_sapiens)"
   ]
  },
  {
   "cell_type": "code",
   "execution_count": 14,
   "id": "0f39af28",
   "metadata": {
    "scrolled": false
   },
   "outputs": [
    {
     "data": {
      "text/markdown": [
       "## CanisLupusFamiliaris\n",
       "The current graph, CanisLupusFamiliaris, has 19129 and 8591130 edges. The diameter of the graph is 5.0."
      ],
      "text/plain": [
       "<IPython.core.display.Markdown object>"
      ]
     },
     "metadata": {},
     "output_type": "display_data"
    },
    {
     "data": {
      "text/markdown": [
       "### Unweighted harmonic centrality\n",
       "We will now compute the **unweighted** harmonic centrality with the following one-liner:\n",
       "\n",
       "\n",
       "```python\n",
       "unweighted_harmonic = graph.get_harmonic_centrality()\n",
       "```\n"
      ],
      "text/plain": [
       "<IPython.core.display.Markdown object>"
      ]
     },
     "metadata": {},
     "output_type": "display_data"
    },
    {
     "data": {
      "text/markdown": [
       "Computing the unweighted harmonic centrality took 20.1 seconds."
      ],
      "text/plain": [
       "<IPython.core.display.Markdown object>"
      ]
     },
     "metadata": {},
     "output_type": "display_data"
    },
    {
     "data": {
      "text/markdown": [
       "And let's now display the histogram of the unweighted harmonic centralities:"
      ],
      "text/plain": [
       "<IPython.core.display.Markdown object>"
      ]
     },
     "metadata": {},
     "output_type": "display_data"
    },
    {
     "data": {
      "image/png": "[encoded data removed]",
      "text/plain": [
       "<Figure size 432x288 with 1 Axes>"
      ]
     },
     "metadata": {
      "needs_background": "light"
     },
     "output_type": "display_data"
    },
    {
     "data": {
      "text/markdown": [
       "Let's see which of the proteins in this graph have the highest harmonic centrality:"
      ],
      "text/plain": [
       "<IPython.core.display.Markdown object>"
      ]
     },
     "metadata": {},
     "output_type": "display_data"
    },
    {
     "data": {
      "text/html": [
       "<div>\n",
       "<style scoped>\n",
       "    .dataframe tbody tr th:only-of-type {\n",
       "        vertical-align: middle;\n",
       "    }\n",
       "\n",
       "    .dataframe tbody tr th {\n",
       "        vertical-align: top;\n",
       "    }\n",
       "\n",
       "    .dataframe thead th {\n",
       "        text-align: right;\n",
       "    }\n",
       "</style>\n",
       "<table border=\"1\" class=\"dataframe\">\n",
       "  <thead>\n",
       "    <tr style=\"text-align: right;\">\n",
       "      <th></th>\n",
       "      <th>unweighted_harmonic</th>\n",
       "      <th>protein</th>\n",
       "    </tr>\n",
       "  </thead>\n",
       "  <tbody>\n",
       "    <tr>\n",
       "      <th>0</th>\n",
       "      <td>11445.166992</td>\n",
       "      <td>9615.ENSCAFP00000064590</td>\n",
       "    </tr>\n",
       "    <tr>\n",
       "      <th>1</th>\n",
       "      <td>11403.666992</td>\n",
       "      <td>9615.ENSCAFP00000001523</td>\n",
       "    </tr>\n",
       "    <tr>\n",
       "      <th>2</th>\n",
       "      <td>11281.000000</td>\n",
       "      <td>9615.ENSCAFP00000007783</td>\n",
       "    </tr>\n",
       "    <tr>\n",
       "      <th>3</th>\n",
       "      <td>11196.416992</td>\n",
       "      <td>9615.ENSCAFP00000044065</td>\n",
       "    </tr>\n",
       "    <tr>\n",
       "      <th>4</th>\n",
       "      <td>11132.500000</td>\n",
       "      <td>9615.ENSCAFP00000013612</td>\n",
       "    </tr>\n",
       "    <tr>\n",
       "      <th>5</th>\n",
       "      <td>11097.333008</td>\n",
       "      <td>9615.ENSCAFP00000005164</td>\n",
       "    </tr>\n",
       "    <tr>\n",
       "      <th>6</th>\n",
       "      <td>11026.666992</td>\n",
       "      <td>9615.ENSCAFP00000064230</td>\n",
       "    </tr>\n",
       "    <tr>\n",
       "      <th>7</th>\n",
       "      <td>11018.666992</td>\n",
       "      <td>9615.ENSCAFP00000040726</td>\n",
       "    </tr>\n",
       "    <tr>\n",
       "      <th>8</th>\n",
       "      <td>10982.166992</td>\n",
       "      <td>9615.ENSCAFP00000014627</td>\n",
       "    </tr>\n",
       "    <tr>\n",
       "      <th>9</th>\n",
       "      <td>10878.666992</td>\n",
       "      <td>9615.ENSCAFP00000045099</td>\n",
       "    </tr>\n",
       "  </tbody>\n",
       "</table>\n",
       "</div>"
      ],
      "text/plain": [
       "   unweighted_harmonic                  protein\n",
       "0         11445.166992  9615.ENSCAFP00000064590\n",
       "1         11403.666992  9615.ENSCAFP00000001523\n",
       "2         11281.000000  9615.ENSCAFP00000007783\n",
       "3         11196.416992  9615.ENSCAFP00000044065\n",
       "4         11132.500000  9615.ENSCAFP00000013612\n",
       "5         11097.333008  9615.ENSCAFP00000005164\n",
       "6         11026.666992  9615.ENSCAFP00000064230\n",
       "7         11018.666992  9615.ENSCAFP00000040726\n",
       "8         10982.166992  9615.ENSCAFP00000014627\n",
       "9         10878.666992  9615.ENSCAFP00000045099"
      ]
     },
     "metadata": {},
     "output_type": "display_data"
    },
    {
     "data": {
      "text/markdown": [
       "### Weighted harmonic centrality\n",
       "We will now compute the **weighted** harmonic centrality with the following one-liner:\n",
       "\n",
       "\n",
       "```python\n",
       "weighted_harmonic = graph.get_weighted_harmonic_centrality()\n",
       "```\n"
      ],
      "text/plain": [
       "<IPython.core.display.Markdown object>"
      ]
     },
     "metadata": {},
     "output_type": "display_data"
    },
    {
     "data": {
      "text/markdown": [
       "Computing the weighted harmonic centrality took 53.52 seconds."
      ],
      "text/plain": [
       "<IPython.core.display.Markdown object>"
      ]
     },
     "metadata": {},
     "output_type": "display_data"
    },
    {
     "data": {
      "text/markdown": [
       "And let's now display the histogram of the weighted harmonic centralities:"
      ],
      "text/plain": [
       "<IPython.core.display.Markdown object>"
      ]
     },
     "metadata": {},
     "output_type": "display_data"
    },
    {
     "data": {
      "image/png": "[encoded data removed]",
      "text/plain": [
       "<Figure size 432x288 with 1 Axes>"
      ]
     },
     "metadata": {
      "needs_background": "light"
     },
     "output_type": "display_data"
    },
    {
     "data": {
      "text/markdown": [
       "Let's see which of the proteins in this graph have the highest weighted harmonic centrality:"
      ],
      "text/plain": [
       "<IPython.core.display.Markdown object>"
      ]
     },
     "metadata": {},
     "output_type": "display_data"
    },
    {
     "data": {
      "text/html": [
       "<div>\n",
       "<style scoped>\n",
       "    .dataframe tbody tr th:only-of-type {\n",
       "        vertical-align: middle;\n",
       "    }\n",
       "\n",
       "    .dataframe tbody tr th {\n",
       "        vertical-align: top;\n",
       "    }\n",
       "\n",
       "    .dataframe thead th {\n",
       "        text-align: right;\n",
       "    }\n",
       "</style>\n",
       "<table border=\"1\" class=\"dataframe\">\n",
       "  <thead>\n",
       "    <tr style=\"text-align: right;\">\n",
       "      <th></th>\n",
       "      <th>weighted_harmonic</th>\n",
       "      <th>protein</th>\n",
       "    </tr>\n",
       "  </thead>\n",
       "  <tbody>\n",
       "    <tr>\n",
       "      <th>0</th>\n",
       "      <td>93.530319</td>\n",
       "      <td>9615.ENSCAFP00000051648</td>\n",
       "    </tr>\n",
       "    <tr>\n",
       "      <th>1</th>\n",
       "      <td>91.855057</td>\n",
       "      <td>9615.ENSCAFP00000008474</td>\n",
       "    </tr>\n",
       "    <tr>\n",
       "      <th>2</th>\n",
       "      <td>91.455566</td>\n",
       "      <td>9615.ENSCAFP00000064590</td>\n",
       "    </tr>\n",
       "    <tr>\n",
       "      <th>3</th>\n",
       "      <td>91.325989</td>\n",
       "      <td>9615.ENSCAFP00000001523</td>\n",
       "    </tr>\n",
       "    <tr>\n",
       "      <th>4</th>\n",
       "      <td>91.258125</td>\n",
       "      <td>9615.ENSCAFP00000037954</td>\n",
       "    </tr>\n",
       "    <tr>\n",
       "      <th>5</th>\n",
       "      <td>90.769127</td>\n",
       "      <td>9615.ENSCAFP00000016954</td>\n",
       "    </tr>\n",
       "    <tr>\n",
       "      <th>6</th>\n",
       "      <td>90.669670</td>\n",
       "      <td>9615.ENSCAFP00000045099</td>\n",
       "    </tr>\n",
       "    <tr>\n",
       "      <th>7</th>\n",
       "      <td>90.123260</td>\n",
       "      <td>9615.ENSCAFP00000019912</td>\n",
       "    </tr>\n",
       "    <tr>\n",
       "      <th>8</th>\n",
       "      <td>90.106773</td>\n",
       "      <td>9615.ENSCAFP00000037790</td>\n",
       "    </tr>\n",
       "    <tr>\n",
       "      <th>9</th>\n",
       "      <td>90.097122</td>\n",
       "      <td>9615.ENSCAFP00000044959</td>\n",
       "    </tr>\n",
       "  </tbody>\n",
       "</table>\n",
       "</div>"
      ],
      "text/plain": [
       "   weighted_harmonic                  protein\n",
       "0          93.530319  9615.ENSCAFP00000051648\n",
       "1          91.855057  9615.ENSCAFP00000008474\n",
       "2          91.455566  9615.ENSCAFP00000064590\n",
       "3          91.325989  9615.ENSCAFP00000001523\n",
       "4          91.258125  9615.ENSCAFP00000037954\n",
       "5          90.769127  9615.ENSCAFP00000016954\n",
       "6          90.669670  9615.ENSCAFP00000045099\n",
       "7          90.123260  9615.ENSCAFP00000019912\n",
       "8          90.106773  9615.ENSCAFP00000037790\n",
       "9          90.097122  9615.ENSCAFP00000044959"
      ]
     },
     "metadata": {},
     "output_type": "display_data"
    },
    {
     "data": {
      "text/markdown": [
       "### Weight as probabilities harmonic centrality\n",
       "We will now compute the **probability weights** harmonic centrality with the following couple lines:\n",
       "\n",
       "\n",
       "```python\n",
       "# First, we normalize the PPI graph weights which go from 100 to 1000\n",
       "graph = graph.divide_edge_weights(1000.0)\n",
       "# then, we compute the centralities\n",
       "probability_harmonic = graph.get_weighted_harmonic_centrality(\n",
       "\tuse_edge_weights_as_probabilities=True\n",
       ")\n",
       "```\n"
      ],
      "text/plain": [
       "<IPython.core.display.Markdown object>"
      ]
     },
     "metadata": {},
     "output_type": "display_data"
    },
    {
     "data": {
      "text/markdown": [
       "Computing the probability harmonic centrality took 171.7 seconds."
      ],
      "text/plain": [
       "<IPython.core.display.Markdown object>"
      ]
     },
     "metadata": {},
     "output_type": "display_data"
    },
    {
     "data": {
      "text/markdown": [
       "And let's now display the histogram of the probability harmonic centralities:"
      ],
      "text/plain": [
       "<IPython.core.display.Markdown object>"
      ]
     },
     "metadata": {},
     "output_type": "display_data"
    },
    {
     "data": {
      "image/png": "[encoded data removed]",
      "text/plain": [
       "<Figure size 432x288 with 1 Axes>"
      ]
     },
     "metadata": {
      "needs_background": "light"
     },
     "output_type": "display_data"
    },
    {
     "data": {
      "text/markdown": [
       "Let's see which of the proteins in this graph have the highest log-probability harmonic centrality:"
      ],
      "text/plain": [
       "<IPython.core.display.Markdown object>"
      ]
     },
     "metadata": {},
     "output_type": "display_data"
    },
    {
     "data": {
      "text/html": [
       "<div>\n",
       "<style scoped>\n",
       "    .dataframe tbody tr th:only-of-type {\n",
       "        vertical-align: middle;\n",
       "    }\n",
       "\n",
       "    .dataframe tbody tr th {\n",
       "        vertical-align: top;\n",
       "    }\n",
       "\n",
       "    .dataframe thead th {\n",
       "        text-align: right;\n",
       "    }\n",
       "</style>\n",
       "<table border=\"1\" class=\"dataframe\">\n",
       "  <thead>\n",
       "    <tr style=\"text-align: right;\">\n",
       "      <th></th>\n",
       "      <th>probability_harmonic</th>\n",
       "      <th>protein</th>\n",
       "    </tr>\n",
       "  </thead>\n",
       "  <tbody>\n",
       "    <tr>\n",
       "      <th>0</th>\n",
       "      <td>311623.75000</td>\n",
       "      <td>9615.ENSCAFP00000009045</td>\n",
       "    </tr>\n",
       "    <tr>\n",
       "      <th>1</th>\n",
       "      <td>309228.53125</td>\n",
       "      <td>9615.ENSCAFP00000002749</td>\n",
       "    </tr>\n",
       "    <tr>\n",
       "      <th>2</th>\n",
       "      <td>308976.59375</td>\n",
       "      <td>9615.ENSCAFP00000028908</td>\n",
       "    </tr>\n",
       "    <tr>\n",
       "      <th>3</th>\n",
       "      <td>302947.78125</td>\n",
       "      <td>9615.ENSCAFP00000059729</td>\n",
       "    </tr>\n",
       "    <tr>\n",
       "      <th>4</th>\n",
       "      <td>302478.50000</td>\n",
       "      <td>9615.ENSCAFP00000060934</td>\n",
       "    </tr>\n",
       "    <tr>\n",
       "      <th>5</th>\n",
       "      <td>301902.84375</td>\n",
       "      <td>9615.ENSCAFP00000037353</td>\n",
       "    </tr>\n",
       "    <tr>\n",
       "      <th>6</th>\n",
       "      <td>301603.65625</td>\n",
       "      <td>9615.ENSCAFP00000028391</td>\n",
       "    </tr>\n",
       "    <tr>\n",
       "      <th>7</th>\n",
       "      <td>300133.46875</td>\n",
       "      <td>9615.ENSCAFP00000004344</td>\n",
       "    </tr>\n",
       "    <tr>\n",
       "      <th>8</th>\n",
       "      <td>299139.53125</td>\n",
       "      <td>9615.ENSCAFP00000005151</td>\n",
       "    </tr>\n",
       "    <tr>\n",
       "      <th>9</th>\n",
       "      <td>298360.21875</td>\n",
       "      <td>9615.ENSCAFP00000054958</td>\n",
       "    </tr>\n",
       "  </tbody>\n",
       "</table>\n",
       "</div>"
      ],
      "text/plain": [
       "   probability_harmonic                  protein\n",
       "0          311623.75000  9615.ENSCAFP00000009045\n",
       "1          309228.53125  9615.ENSCAFP00000002749\n",
       "2          308976.59375  9615.ENSCAFP00000028908\n",
       "3          302947.78125  9615.ENSCAFP00000059729\n",
       "4          302478.50000  9615.ENSCAFP00000060934\n",
       "5          301902.84375  9615.ENSCAFP00000037353\n",
       "6          301603.65625  9615.ENSCAFP00000028391\n",
       "7          300133.46875  9615.ENSCAFP00000004344\n",
       "8          299139.53125  9615.ENSCAFP00000005151\n",
       "9          298360.21875  9615.ENSCAFP00000054958"
      ]
     },
     "metadata": {},
     "output_type": "display_data"
    }
   ],
   "source": [
    "harmonic_centrality_report(doggo)"
   ]
  },
  {
   "cell_type": "code",
   "execution_count": 15,
   "id": "7a560b57",
   "metadata": {
    "scrolled": false
   },
   "outputs": [
    {
     "data": {
      "text/markdown": [
       "## MusMusculus\n",
       "The current graph, MusMusculus, has 21266 and 14496230 edges. The diameter of the graph is 7.0."
      ],
      "text/plain": [
       "<IPython.core.display.Markdown object>"
      ]
     },
     "metadata": {},
     "output_type": "display_data"
    },
    {
     "data": {
      "text/markdown": [
       "### Unweighted harmonic centrality\n",
       "We will now compute the **unweighted** harmonic centrality with the following one-liner:\n",
       "\n",
       "\n",
       "```python\n",
       "unweighted_harmonic = graph.get_harmonic_centrality()\n",
       "```\n"
      ],
      "text/plain": [
       "<IPython.core.display.Markdown object>"
      ]
     },
     "metadata": {},
     "output_type": "display_data"
    },
    {
     "data": {
      "text/markdown": [
       "Computing the unweighted harmonic centrality took 36.64 seconds."
      ],
      "text/plain": [
       "<IPython.core.display.Markdown object>"
      ]
     },
     "metadata": {},
     "output_type": "display_data"
    },
    {
     "data": {
      "text/markdown": [
       "And let's now display the histogram of the unweighted harmonic centralities:"
      ],
      "text/plain": [
       "<IPython.core.display.Markdown object>"
      ]
     },
     "metadata": {},
     "output_type": "display_data"
    },
    {
     "data": {
      "image/png": "[encoded data removed]",
      "text/plain": [
       "<Figure size 432x288 with 1 Axes>"
      ]
     },
     "metadata": {
      "needs_background": "light"
     },
     "output_type": "display_data"
    },
    {
     "data": {
      "text/markdown": [
       "Let's see which of the proteins in this graph have the highest harmonic centrality:"
      ],
      "text/plain": [
       "<IPython.core.display.Markdown object>"
      ]
     },
     "metadata": {},
     "output_type": "display_data"
    },
    {
     "data": {
      "text/html": [
       "<div>\n",
       "<style scoped>\n",
       "    .dataframe tbody tr th:only-of-type {\n",
       "        vertical-align: middle;\n",
       "    }\n",
       "\n",
       "    .dataframe tbody tr th {\n",
       "        vertical-align: top;\n",
       "    }\n",
       "\n",
       "    .dataframe thead th {\n",
       "        text-align: right;\n",
       "    }\n",
       "</style>\n",
       "<table border=\"1\" class=\"dataframe\">\n",
       "  <thead>\n",
       "    <tr style=\"text-align: right;\">\n",
       "      <th></th>\n",
       "      <th>unweighted_harmonic</th>\n",
       "      <th>protein</th>\n",
       "    </tr>\n",
       "  </thead>\n",
       "  <tbody>\n",
       "    <tr>\n",
       "      <th>0</th>\n",
       "      <td>14439.666992</td>\n",
       "      <td>10090.ENSMUSP00000098066</td>\n",
       "    </tr>\n",
       "    <tr>\n",
       "      <th>1</th>\n",
       "      <td>14253.166992</td>\n",
       "      <td>10090.ENSMUSP00000001780</td>\n",
       "    </tr>\n",
       "    <tr>\n",
       "      <th>2</th>\n",
       "      <td>13810.333008</td>\n",
       "      <td>10090.ENSMUSP00000104298</td>\n",
       "    </tr>\n",
       "    <tr>\n",
       "      <th>3</th>\n",
       "      <td>13726.333008</td>\n",
       "      <td>10090.ENSMUSP00000113942</td>\n",
       "    </tr>\n",
       "    <tr>\n",
       "      <th>4</th>\n",
       "      <td>13508.416992</td>\n",
       "      <td>10090.ENSMUSP00000023507</td>\n",
       "    </tr>\n",
       "    <tr>\n",
       "      <th>5</th>\n",
       "      <td>13421.150391</td>\n",
       "      <td>10090.ENSMUSP00000083385</td>\n",
       "    </tr>\n",
       "    <tr>\n",
       "      <th>6</th>\n",
       "      <td>13402.250000</td>\n",
       "      <td>10090.ENSMUSP00000032399</td>\n",
       "    </tr>\n",
       "    <tr>\n",
       "      <th>7</th>\n",
       "      <td>13383.083008</td>\n",
       "      <td>10090.ENSMUSP00000007130</td>\n",
       "    </tr>\n",
       "    <tr>\n",
       "      <th>8</th>\n",
       "      <td>13358.233398</td>\n",
       "      <td>10090.ENSMUSP00000019386</td>\n",
       "    </tr>\n",
       "    <tr>\n",
       "      <th>9</th>\n",
       "      <td>13299.500000</td>\n",
       "      <td>10090.ENSMUSP00000026572</td>\n",
       "    </tr>\n",
       "  </tbody>\n",
       "</table>\n",
       "</div>"
      ],
      "text/plain": [
       "   unweighted_harmonic                   protein\n",
       "0         14439.666992  10090.ENSMUSP00000098066\n",
       "1         14253.166992  10090.ENSMUSP00000001780\n",
       "2         13810.333008  10090.ENSMUSP00000104298\n",
       "3         13726.333008  10090.ENSMUSP00000113942\n",
       "4         13508.416992  10090.ENSMUSP00000023507\n",
       "5         13421.150391  10090.ENSMUSP00000083385\n",
       "6         13402.250000  10090.ENSMUSP00000032399\n",
       "7         13383.083008  10090.ENSMUSP00000007130\n",
       "8         13358.233398  10090.ENSMUSP00000019386\n",
       "9         13299.500000  10090.ENSMUSP00000026572"
      ]
     },
     "metadata": {},
     "output_type": "display_data"
    },
    {
     "data": {
      "text/markdown": [
       "### Weighted harmonic centrality\n",
       "We will now compute the **weighted** harmonic centrality with the following one-liner:\n",
       "\n",
       "\n",
       "```python\n",
       "weighted_harmonic = graph.get_weighted_harmonic_centrality()\n",
       "```\n"
      ],
      "text/plain": [
       "<IPython.core.display.Markdown object>"
      ]
     },
     "metadata": {},
     "output_type": "display_data"
    },
    {
     "data": {
      "text/markdown": [
       "Computing the weighted harmonic centrality took 101.7 seconds."
      ],
      "text/plain": [
       "<IPython.core.display.Markdown object>"
      ]
     },
     "metadata": {},
     "output_type": "display_data"
    },
    {
     "data": {
      "text/markdown": [
       "And let's now display the histogram of the weighted harmonic centralities:"
      ],
      "text/plain": [
       "<IPython.core.display.Markdown object>"
      ]
     },
     "metadata": {},
     "output_type": "display_data"
    },
    {
     "data": {
      "image/png": "[encoded data removed]",
      "text/plain": [
       "<Figure size 432x288 with 1 Axes>"
      ]
     },
     "metadata": {
      "needs_background": "light"
     },
     "output_type": "display_data"
    },
    {
     "data": {
      "text/markdown": [
       "Let's see which of the proteins in this graph have the highest weighted harmonic centrality:"
      ],
      "text/plain": [
       "<IPython.core.display.Markdown object>"
      ]
     },
     "metadata": {},
     "output_type": "display_data"
    },
    {
     "data": {
      "text/html": [
       "<div>\n",
       "<style scoped>\n",
       "    .dataframe tbody tr th:only-of-type {\n",
       "        vertical-align: middle;\n",
       "    }\n",
       "\n",
       "    .dataframe tbody tr th {\n",
       "        vertical-align: top;\n",
       "    }\n",
       "\n",
       "    .dataframe thead th {\n",
       "        text-align: right;\n",
       "    }\n",
       "</style>\n",
       "<table border=\"1\" class=\"dataframe\">\n",
       "  <thead>\n",
       "    <tr style=\"text-align: right;\">\n",
       "      <th></th>\n",
       "      <th>weighted_harmonic</th>\n",
       "      <th>protein</th>\n",
       "    </tr>\n",
       "  </thead>\n",
       "  <tbody>\n",
       "    <tr>\n",
       "      <th>0</th>\n",
       "      <td>123.557259</td>\n",
       "      <td>10090.ENSMUSP00000083385</td>\n",
       "    </tr>\n",
       "    <tr>\n",
       "      <th>1</th>\n",
       "      <td>121.948318</td>\n",
       "      <td>10090.ENSMUSP00000052584</td>\n",
       "    </tr>\n",
       "    <tr>\n",
       "      <th>2</th>\n",
       "      <td>120.852135</td>\n",
       "      <td>10090.ENSMUSP00000019386</td>\n",
       "    </tr>\n",
       "    <tr>\n",
       "      <th>3</th>\n",
       "      <td>120.378548</td>\n",
       "      <td>10090.ENSMUSP00000015277</td>\n",
       "    </tr>\n",
       "    <tr>\n",
       "      <th>4</th>\n",
       "      <td>120.219597</td>\n",
       "      <td>10090.ENSMUSP00000062049</td>\n",
       "    </tr>\n",
       "    <tr>\n",
       "      <th>5</th>\n",
       "      <td>120.161026</td>\n",
       "      <td>10090.ENSMUSP00000113942</td>\n",
       "    </tr>\n",
       "    <tr>\n",
       "      <th>6</th>\n",
       "      <td>119.580223</td>\n",
       "      <td>10090.ENSMUSP00000071654</td>\n",
       "    </tr>\n",
       "    <tr>\n",
       "      <th>7</th>\n",
       "      <td>119.404640</td>\n",
       "      <td>10090.ENSMUSP00000072154</td>\n",
       "    </tr>\n",
       "    <tr>\n",
       "      <th>8</th>\n",
       "      <td>119.327477</td>\n",
       "      <td>10090.ENSMUSP00000099465</td>\n",
       "    </tr>\n",
       "    <tr>\n",
       "      <th>9</th>\n",
       "      <td>119.103981</td>\n",
       "      <td>10090.ENSMUSP00000129397</td>\n",
       "    </tr>\n",
       "  </tbody>\n",
       "</table>\n",
       "</div>"
      ],
      "text/plain": [
       "   weighted_harmonic                   protein\n",
       "0         123.557259  10090.ENSMUSP00000083385\n",
       "1         121.948318  10090.ENSMUSP00000052584\n",
       "2         120.852135  10090.ENSMUSP00000019386\n",
       "3         120.378548  10090.ENSMUSP00000015277\n",
       "4         120.219597  10090.ENSMUSP00000062049\n",
       "5         120.161026  10090.ENSMUSP00000113942\n",
       "6         119.580223  10090.ENSMUSP00000071654\n",
       "7         119.404640  10090.ENSMUSP00000072154\n",
       "8         119.327477  10090.ENSMUSP00000099465\n",
       "9         119.103981  10090.ENSMUSP00000129397"
      ]
     },
     "metadata": {},
     "output_type": "display_data"
    },
    {
     "data": {
      "text/markdown": [
       "### Weight as probabilities harmonic centrality\n",
       "We will now compute the **probability weights** harmonic centrality with the following couple lines:\n",
       "\n",
       "\n",
       "```python\n",
       "# First, we normalize the PPI graph weights which go from 100 to 1000\n",
       "graph = graph.divide_edge_weights(1000.0)\n",
       "# then, we compute the centralities\n",
       "probability_harmonic = graph.get_weighted_harmonic_centrality(\n",
       "\tuse_edge_weights_as_probabilities=True\n",
       ")\n",
       "```\n"
      ],
      "text/plain": [
       "<IPython.core.display.Markdown object>"
      ]
     },
     "metadata": {},
     "output_type": "display_data"
    },
    {
     "data": {
      "text/markdown": [
       "Computing the probability harmonic centrality took 324.7 seconds."
      ],
      "text/plain": [
       "<IPython.core.display.Markdown object>"
      ]
     },
     "metadata": {},
     "output_type": "display_data"
    },
    {
     "data": {
      "text/markdown": [
       "And let's now display the histogram of the probability harmonic centralities:"
      ],
      "text/plain": [
       "<IPython.core.display.Markdown object>"
      ]
     },
     "metadata": {},
     "output_type": "display_data"
    },
    {
     "data": {
      "image/png": "[encoded data removed]",
      "text/plain": [
       "<Figure size 432x288 with 1 Axes>"
      ]
     },
     "metadata": {
      "needs_background": "light"
     },
     "output_type": "display_data"
    },
    {
     "data": {
      "text/markdown": [
       "Let's see which of the proteins in this graph have the highest log-probability harmonic centrality:"
      ],
      "text/plain": [
       "<IPython.core.display.Markdown object>"
      ]
     },
     "metadata": {},
     "output_type": "display_data"
    },
    {
     "data": {
      "text/html": [
       "<div>\n",
       "<style scoped>\n",
       "    .dataframe tbody tr th:only-of-type {\n",
       "        vertical-align: middle;\n",
       "    }\n",
       "\n",
       "    .dataframe tbody tr th {\n",
       "        vertical-align: top;\n",
       "    }\n",
       "\n",
       "    .dataframe thead th {\n",
       "        text-align: right;\n",
       "    }\n",
       "</style>\n",
       "<table border=\"1\" class=\"dataframe\">\n",
       "  <thead>\n",
       "    <tr style=\"text-align: right;\">\n",
       "      <th></th>\n",
       "      <th>probability_harmonic</th>\n",
       "      <th>protein</th>\n",
       "    </tr>\n",
       "  </thead>\n",
       "  <tbody>\n",
       "    <tr>\n",
       "      <th>0</th>\n",
       "      <td>1.060677e+06</td>\n",
       "      <td>10090.ENSMUSP00000023165</td>\n",
       "    </tr>\n",
       "    <tr>\n",
       "      <th>1</th>\n",
       "      <td>1.018672e+06</td>\n",
       "      <td>10090.ENSMUSP00000066789</td>\n",
       "    </tr>\n",
       "    <tr>\n",
       "      <th>2</th>\n",
       "      <td>1.012957e+06</td>\n",
       "      <td>10090.ENSMUSP00000007130</td>\n",
       "    </tr>\n",
       "    <tr>\n",
       "      <th>3</th>\n",
       "      <td>9.988496e+05</td>\n",
       "      <td>10090.ENSMUSP00000026416</td>\n",
       "    </tr>\n",
       "    <tr>\n",
       "      <th>4</th>\n",
       "      <td>9.986602e+05</td>\n",
       "      <td>10090.ENSMUSP00000104298</td>\n",
       "    </tr>\n",
       "    <tr>\n",
       "      <th>5</th>\n",
       "      <td>9.927552e+05</td>\n",
       "      <td>10090.ENSMUSP00000041902</td>\n",
       "    </tr>\n",
       "    <tr>\n",
       "      <th>6</th>\n",
       "      <td>9.858571e+05</td>\n",
       "      <td>10090.ENSMUSP00000099657</td>\n",
       "    </tr>\n",
       "    <tr>\n",
       "      <th>7</th>\n",
       "      <td>9.792199e+05</td>\n",
       "      <td>10090.ENSMUSP00000120152</td>\n",
       "    </tr>\n",
       "    <tr>\n",
       "      <th>8</th>\n",
       "      <td>9.779614e+05</td>\n",
       "      <td>10090.ENSMUSP00000099658</td>\n",
       "    </tr>\n",
       "    <tr>\n",
       "      <th>9</th>\n",
       "      <td>9.770451e+05</td>\n",
       "      <td>10090.ENSMUSP00000080854</td>\n",
       "    </tr>\n",
       "  </tbody>\n",
       "</table>\n",
       "</div>"
      ],
      "text/plain": [
       "   probability_harmonic                   protein\n",
       "0          1.060677e+06  10090.ENSMUSP00000023165\n",
       "1          1.018672e+06  10090.ENSMUSP00000066789\n",
       "2          1.012957e+06  10090.ENSMUSP00000007130\n",
       "3          9.988496e+05  10090.ENSMUSP00000026416\n",
       "4          9.986602e+05  10090.ENSMUSP00000104298\n",
       "5          9.927552e+05  10090.ENSMUSP00000041902\n",
       "6          9.858571e+05  10090.ENSMUSP00000099657\n",
       "7          9.792199e+05  10090.ENSMUSP00000120152\n",
       "8          9.779614e+05  10090.ENSMUSP00000099658\n",
       "9          9.770451e+05  10090.ENSMUSP00000080854"
      ]
     },
     "metadata": {},
     "output_type": "display_data"
    }
   ],
   "source": [
    "harmonic_centrality_report(mouse)"
   ]
  },
  {
   "cell_type": "markdown",
   "id": "65d1b8b7",
   "metadata": {},
   "source": [
    "Now that you have a good grasp of Harmonic Centrality and how to compute it with GRAPE, you may want to learn more about [the closeness centrality](https://github.com/AnacletoLAB/grape/blob/main/tutorials/Efficient%20Weighted%20and%20Unweighted%20Closeness%20Centrality%20with%20GRAPE.ipynb) and [how to use HyperBall to compute approximated closeness and harmonic centralities in large graphs](https://github.com/AnacletoLAB/grape/blob/main/tutorials/HyperBall-based%20approximated%20Harmonic%20and%20Closeness%20with%20GRAPE.ipynb) - Consider checking them out!"
   ]
  }
 ],
 "metadata": {
  "kernelspec": {
   "display_name": "Python 3 (ipykernel)",
   "language": "python",
   "name": "python3"
  },
  "language_info": {
   "codemirror_mode": {
    "name": "ipython",
    "version": 3
   },
   "file_extension": ".py",
   "mimetype": "text/x-python",
   "name": "python",
   "nbconvert_exporter": "python",
   "pygments_lexer": "ipython3",
   "version": "3.9.7"
  }
 },
 "nbformat": 4,
 "nbformat_minor": 5
}
