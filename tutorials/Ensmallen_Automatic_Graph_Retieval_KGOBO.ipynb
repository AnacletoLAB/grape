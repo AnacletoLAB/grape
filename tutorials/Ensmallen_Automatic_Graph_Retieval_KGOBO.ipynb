{
  "nbformat": 4,
  "nbformat_minor": 0,
  "metadata": {
    "colab": {
      "name": "Ensmallen Automatic Graph Retieval - KGOBO.ipynb",
      "provenance": [],
      "collapsed_sections": [],
      "authorship_tag": "ABX9TyPCSHYfCugZ0/4WJ0MdsrJ7",
      "include_colab_link": true
    },
    "kernelspec": {
      "name": "python3",
      "display_name": "Python 3"
    },
    "language_info": {
      "name": "python"
    },
    "widgets": {
      "application/vnd.jupyter.widget-state+json": {
        "741b95282c2148aea1cbd9f1ec3fb4d1": {
          "model_module": "@jupyter-widgets/controls",
          "model_name": "HBoxModel",
          "model_module_version": "1.5.0",
          "state": {
            "_view_name": "HBoxView",
            "_dom_classes": [],
            "_model_name": "HBoxModel",
            "_view_module": "@jupyter-widgets/controls",
            "_model_module_version": "1.5.0",
            "_view_count": null,
            "_view_module_version": "1.5.0",
            "box_style": "",
            "layout": "IPY_MODEL_d3f51a2d96754947b10f65e82c880c13",
            "_model_module": "@jupyter-widgets/controls",
            "children": [
              "IPY_MODEL_1152789e431c4bbe87878ae77ca82b1b",
              "IPY_MODEL_1dc83a3ce35443929fafb8dac2c877c9",
              "IPY_MODEL_194cf5105fbe44c3bb527245f454a34a"
            ]
          }
        },
        "d3f51a2d96754947b10f65e82c880c13": {
          "model_module": "@jupyter-widgets/base",
          "model_name": "LayoutModel",
          "model_module_version": "1.2.0",
          "state": {
            "_view_name": "LayoutView",
            "grid_template_rows": null,
            "right": null,
            "justify_content": null,
            "_view_module": "@jupyter-widgets/base",
            "overflow": null,
            "_model_module_version": "1.2.0",
            "_view_count": null,
            "flex_flow": "row wrap",
            "width": "100%",
            "min_width": null,
            "border": null,
            "align_items": null,
            "bottom": null,
            "_model_module": "@jupyter-widgets/base",
            "top": null,
            "grid_column": null,
            "overflow_y": null,
            "overflow_x": null,
            "grid_auto_flow": null,
            "grid_area": null,
            "grid_template_columns": null,
            "flex": null,
            "_model_name": "LayoutModel",
            "justify_items": null,
            "grid_row": null,
            "max_height": null,
            "align_content": null,
            "visibility": null,
            "align_self": null,
            "height": null,
            "min_height": null,
            "padding": null,
            "grid_auto_rows": null,
            "grid_gap": null,
            "max_width": null,
            "order": null,
            "_view_module_version": "1.2.0",
            "grid_template_areas": null,
            "object_position": null,
            "object_fit": null,
            "grid_auto_columns": null,
            "margin": null,
            "display": "inline-flex",
            "left": null
          }
        },
        "1152789e431c4bbe87878ae77ca82b1b": {
          "model_module": "@jupyter-widgets/controls",
          "model_name": "HTMLModel",
          "model_module_version": "1.5.0",
          "state": {
            "_view_name": "HTMLView",
            "style": "IPY_MODEL_1c700df3d8ad4cb99cceaac63a28cbe2",
            "_dom_classes": [],
            "description": "",
            "_model_name": "HTMLModel",
            "placeholder": "​",
            "_view_module": "@jupyter-widgets/controls",
            "_model_module_version": "1.5.0",
            "value": "Downloading to graphs/kgobo/ZFS...-03-10/zfs.tar.gz:   0%",
            "_view_count": null,
            "_view_module_version": "1.5.0",
            "description_tooltip": null,
            "_model_module": "@jupyter-widgets/controls",
            "layout": "IPY_MODEL_90e8f68e0b3b451fb1b96418b88e80ae"
          }
        },
        "1dc83a3ce35443929fafb8dac2c877c9": {
          "model_module": "@jupyter-widgets/controls",
          "model_name": "FloatProgressModel",
          "model_module_version": "1.5.0",
          "state": {
            "_view_name": "ProgressView",
            "style": "IPY_MODEL_5bcf3a29587f415783bcf98a10684d1b",
            "_dom_classes": [],
            "description": "",
            "_model_name": "FloatProgressModel",
            "bar_style": "",
            "max": 5064,
            "_view_module": "@jupyter-widgets/controls",
            "_model_module_version": "1.5.0",
            "value": 5064,
            "_view_count": null,
            "_view_module_version": "1.5.0",
            "orientation": "horizontal",
            "min": 0,
            "description_tooltip": null,
            "_model_module": "@jupyter-widgets/controls",
            "layout": "IPY_MODEL_1ec692037fe6458b8254d4ee26e86247"
          }
        },
        "194cf5105fbe44c3bb527245f454a34a": {
          "model_module": "@jupyter-widgets/controls",
          "model_name": "HTMLModel",
          "model_module_version": "1.5.0",
          "state": {
            "_view_name": "HTMLView",
            "style": "IPY_MODEL_e85576aee98f47e9875ea300791b359f",
            "_dom_classes": [],
            "description": "",
            "_model_name": "HTMLModel",
            "placeholder": "​",
            "_view_module": "@jupyter-widgets/controls",
            "_model_module_version": "1.5.0",
            "value": " 0.00/5.06k [00:00&lt;?, ?iB/s]",
            "_view_count": null,
            "_view_module_version": "1.5.0",
            "description_tooltip": null,
            "_model_module": "@jupyter-widgets/controls",
            "layout": "IPY_MODEL_758d8d4f9f7048709171c8a705ba85c6"
          }
        },
        "1c700df3d8ad4cb99cceaac63a28cbe2": {
          "model_module": "@jupyter-widgets/controls",
          "model_name": "DescriptionStyleModel",
          "model_module_version": "1.5.0",
          "state": {
            "_view_name": "StyleView",
            "_model_name": "DescriptionStyleModel",
            "description_width": "",
            "_view_module": "@jupyter-widgets/base",
            "_model_module_version": "1.5.0",
            "_view_count": null,
            "_view_module_version": "1.2.0",
            "_model_module": "@jupyter-widgets/controls"
          }
        },
        "90e8f68e0b3b451fb1b96418b88e80ae": {
          "model_module": "@jupyter-widgets/base",
          "model_name": "LayoutModel",
          "model_module_version": "1.2.0",
          "state": {
            "_view_name": "LayoutView",
            "grid_template_rows": null,
            "right": null,
            "justify_content": null,
            "_view_module": "@jupyter-widgets/base",
            "overflow": null,
            "_model_module_version": "1.2.0",
            "_view_count": null,
            "flex_flow": null,
            "width": null,
            "min_width": null,
            "border": null,
            "align_items": null,
            "bottom": null,
            "_model_module": "@jupyter-widgets/base",
            "top": null,
            "grid_column": null,
            "overflow_y": null,
            "overflow_x": null,
            "grid_auto_flow": null,
            "grid_area": null,
            "grid_template_columns": null,
            "flex": null,
            "_model_name": "LayoutModel",
            "justify_items": null,
            "grid_row": null,
            "max_height": null,
            "align_content": null,
            "visibility": null,
            "align_self": null,
            "height": null,
            "min_height": null,
            "padding": null,
            "grid_auto_rows": null,
            "grid_gap": null,
            "max_width": null,
            "order": null,
            "_view_module_version": "1.2.0",
            "grid_template_areas": null,
            "object_position": null,
            "object_fit": null,
            "grid_auto_columns": null,
            "margin": null,
            "display": null,
            "left": null
          }
        },
        "5bcf3a29587f415783bcf98a10684d1b": {
          "model_module": "@jupyter-widgets/controls",
          "model_name": "ProgressStyleModel",
          "model_module_version": "1.5.0",
          "state": {
            "_view_name": "StyleView",
            "_model_name": "ProgressStyleModel",
            "description_width": "",
            "_view_module": "@jupyter-widgets/base",
            "_model_module_version": "1.5.0",
            "_view_count": null,
            "_view_module_version": "1.2.0",
            "bar_color": null,
            "_model_module": "@jupyter-widgets/controls"
          }
        },
        "1ec692037fe6458b8254d4ee26e86247": {
          "model_module": "@jupyter-widgets/base",
          "model_name": "LayoutModel",
          "model_module_version": "1.2.0",
          "state": {
            "_view_name": "LayoutView",
            "grid_template_rows": null,
            "right": null,
            "justify_content": null,
            "_view_module": "@jupyter-widgets/base",
            "overflow": null,
            "_model_module_version": "1.2.0",
            "_view_count": null,
            "flex_flow": null,
            "width": null,
            "min_width": null,
            "border": null,
            "align_items": null,
            "bottom": null,
            "_model_module": "@jupyter-widgets/base",
            "top": null,
            "grid_column": null,
            "overflow_y": null,
            "overflow_x": null,
            "grid_auto_flow": null,
            "grid_area": null,
            "grid_template_columns": null,
            "flex": "2",
            "_model_name": "LayoutModel",
            "justify_items": null,
            "grid_row": null,
            "max_height": null,
            "align_content": null,
            "visibility": null,
            "align_self": null,
            "height": null,
            "min_height": null,
            "padding": null,
            "grid_auto_rows": null,
            "grid_gap": null,
            "max_width": null,
            "order": null,
            "_view_module_version": "1.2.0",
            "grid_template_areas": null,
            "object_position": null,
            "object_fit": null,
            "grid_auto_columns": null,
            "margin": null,
            "display": null,
            "left": null
          }
        },
        "e85576aee98f47e9875ea300791b359f": {
          "model_module": "@jupyter-widgets/controls",
          "model_name": "DescriptionStyleModel",
          "model_module_version": "1.5.0",
          "state": {
            "_view_name": "StyleView",
            "_model_name": "DescriptionStyleModel",
            "description_width": "",
            "_view_module": "@jupyter-widgets/base",
            "_model_module_version": "1.5.0",
            "_view_count": null,
            "_view_module_version": "1.2.0",
            "_model_module": "@jupyter-widgets/controls"
          }
        },
        "758d8d4f9f7048709171c8a705ba85c6": {
          "model_module": "@jupyter-widgets/base",
          "model_name": "LayoutModel",
          "model_module_version": "1.2.0",
          "state": {
            "_view_name": "LayoutView",
            "grid_template_rows": null,
            "right": null,
            "justify_content": null,
            "_view_module": "@jupyter-widgets/base",
            "overflow": null,
            "_model_module_version": "1.2.0",
            "_view_count": null,
            "flex_flow": null,
            "width": null,
            "min_width": null,
            "border": null,
            "align_items": null,
            "bottom": null,
            "_model_module": "@jupyter-widgets/base",
            "top": null,
            "grid_column": null,
            "overflow_y": null,
            "overflow_x": null,
            "grid_auto_flow": null,
            "grid_area": null,
            "grid_template_columns": null,
            "flex": null,
            "_model_name": "LayoutModel",
            "justify_items": null,
            "grid_row": null,
            "max_height": null,
            "align_content": null,
            "visibility": null,
            "align_self": null,
            "height": null,
            "min_height": null,
            "padding": null,
            "grid_auto_rows": null,
            "grid_gap": null,
            "max_width": null,
            "order": null,
            "_view_module_version": "1.2.0",
            "grid_template_areas": null,
            "object_position": null,
            "object_fit": null,
            "grid_auto_columns": null,
            "margin": null,
            "display": null,
            "left": null
          }
        }
      }
    }
  },
  "cells": [
    {
      "cell_type": "markdown",
      "metadata": {
        "id": "view-in-github",
        "colab_type": "text"
      },
      "source": [
        "<a href=\"https://colab.research.google.com/github/AnacletoLAB/grape/blob/main/tutorials/Ensmallen_Automatic_Graph_Retieval_KGOBO.ipynb\" target=\"_parent\"><img src=\"https://colab.research.google.com/assets/colab-badge.svg\" alt=\"Open In Colab\"/></a>"
      ]
    },
    {
      "cell_type": "markdown",
      "metadata": {
        "id": "vxyX_zCoob11"
      },
      "source": [
        "# Ensmallen Automatic Graph Retrieval - KGOBO\n",
        "In this tutorial we will explore how to use the graphs that can be automatically retrieved by [Ensmallen](https://github.com/AnacletoLAB/ensmallen) from [OboFoundry](http://www.obofoundry.org/) through [Justin Reese](https://github.com/justaddcoffee) and [Harry Caufield](https://github.com/caufieldjh) [KGX](https://github.com/biolink/kgx)-based pipeline, [KG-OBO](https://github.com/Knowledge-Graph-Hub/kg-obo).\n",
        "\n",
        "The graphs available are those that can be currently converted from the OBO format to KGX format, and will be downloaded from the [kg-obo website](https://kg-hub.berkeleybop.io/kg-obo/)."
      ]
    },
    {
      "cell_type": "markdown",
      "metadata": {
        "id": "Q5jLnV8fqHmQ"
      },
      "source": [
        "## Installing Ensmallen\n",
        "In order to install the Ensmallen graph library just run:\n",
        "\n",
        "```bash\n",
        "pip install ensmallen\n",
        "```"
      ]
    },
    {
      "cell_type": "code",
      "metadata": {
        "colab": {
          "base_uri": "https://localhost:8080/"
        },
        "id": "bpLUocZuoQPd",
        "outputId": "ddc4c70d-0f57-413f-9ba1-8fb06ece1e3b"
      },
      "source": [
        "!pip install -q ensmallen"
      ],
      "execution_count": 1,
      "outputs": [
        {
          "output_type": "stream",
          "name": "stdout",
          "text": [
            "\u001b[K     |████████████████████████████████| 44.8 MB 67 kB/s \n",
            "\u001b[?25h  Building wheel for compress-json (setup.py) ... \u001b[?25l\u001b[?25hdone\n",
            "  Building wheel for downloaders (setup.py) ... \u001b[?25l\u001b[?25hdone\n",
            "  Building wheel for environments-utils (setup.py) ... \u001b[?25l\u001b[?25hdone\n",
            "  Building wheel for userinput (setup.py) ... \u001b[?25l\u001b[?25hdone\n",
            "  Building wheel for IPy (setup.py) ... \u001b[?25l\u001b[?25hdone\n",
            "  Building wheel for validate-email (setup.py) ... \u001b[?25l\u001b[?25hdone\n",
            "  Building wheel for validate-version-code (setup.py) ... \u001b[?25l\u001b[?25hdone\n"
          ]
        }
      ]
    },
    {
      "cell_type": "markdown",
      "metadata": {
        "id": "UtJoXtrBqVHY"
      },
      "source": [
        "## Which OBO graphs are available?\n",
        "To get a list of all the OBO graphs currently available from Ensmallen, we can quickly get the dataframe with all of the graphs data and query it."
      ]
    },
    {
      "cell_type": "code",
      "metadata": {
        "id": "bOIROSwrqR_i"
      },
      "source": [
        "from ensmallen.datasets import get_all_available_graphs_dataframe"
      ],
      "execution_count": 2,
      "outputs": []
    },
    {
      "cell_type": "code",
      "metadata": {
        "colab": {
          "base_uri": "https://localhost:8080/",
          "height": 419
        },
        "id": "9ZZgcgE-ql5a",
        "outputId": "2698c1f8-f8d8-4cad-9dac-2667f0d7b3c6"
      },
      "source": [
        "available_graphs = get_all_available_graphs_dataframe()\n",
        "available_graphs[available_graphs.repository == \"kgobo\"]"
      ],
      "execution_count": 3,
      "outputs": [
        {
          "output_type": "execute_result",
          "data": {
            "text/html": [
              "<div>\n",
              "<style scoped>\n",
              "    .dataframe tbody tr th:only-of-type {\n",
              "        vertical-align: middle;\n",
              "    }\n",
              "\n",
              "    .dataframe tbody tr th {\n",
              "        vertical-align: top;\n",
              "    }\n",
              "\n",
              "    .dataframe thead th {\n",
              "        text-align: right;\n",
              "    }\n",
              "</style>\n",
              "<table border=\"1\" class=\"dataframe\">\n",
              "  <thead>\n",
              "    <tr style=\"text-align: right;\">\n",
              "      <th></th>\n",
              "      <th>repository</th>\n",
              "      <th>graph_name</th>\n",
              "      <th>version</th>\n",
              "    </tr>\n",
              "  </thead>\n",
              "  <tbody>\n",
              "    <tr>\n",
              "      <th>1327</th>\n",
              "      <td>kgobo</td>\n",
              "      <td>ZFS</td>\n",
              "      <td>2020-03-10</td>\n",
              "    </tr>\n",
              "    <tr>\n",
              "      <th>1328</th>\n",
              "      <td>kgobo</td>\n",
              "      <td>MF</td>\n",
              "      <td>2020-08-07</td>\n",
              "    </tr>\n",
              "    <tr>\n",
              "      <th>1329</th>\n",
              "      <td>kgobo</td>\n",
              "      <td>DPO</td>\n",
              "      <td>2021-09-02</td>\n",
              "    </tr>\n",
              "    <tr>\n",
              "      <th>1330</th>\n",
              "      <td>kgobo</td>\n",
              "      <td>NCBITAXON</td>\n",
              "      <td>2021-06-10</td>\n",
              "    </tr>\n",
              "    <tr>\n",
              "      <th>1331</th>\n",
              "      <td>kgobo</td>\n",
              "      <td>ZFA</td>\n",
              "      <td>2020-04-14</td>\n",
              "    </tr>\n",
              "    <tr>\n",
              "      <th>...</th>\n",
              "      <td>...</td>\n",
              "      <td>...</td>\n",
              "      <td>...</td>\n",
              "    </tr>\n",
              "    <tr>\n",
              "      <th>1413</th>\n",
              "      <td>kgobo</td>\n",
              "      <td>ECO</td>\n",
              "      <td>2021-09-14</td>\n",
              "    </tr>\n",
              "    <tr>\n",
              "      <th>1414</th>\n",
              "      <td>kgobo</td>\n",
              "      <td>MOP</td>\n",
              "      <td>2014-09-03</td>\n",
              "    </tr>\n",
              "    <tr>\n",
              "      <th>1415</th>\n",
              "      <td>kgobo</td>\n",
              "      <td>FBDV</td>\n",
              "      <td>2021-09-01</td>\n",
              "    </tr>\n",
              "    <tr>\n",
              "      <th>1416</th>\n",
              "      <td>kgobo</td>\n",
              "      <td>SO</td>\n",
              "      <td>2021-07-12</td>\n",
              "    </tr>\n",
              "    <tr>\n",
              "      <th>1417</th>\n",
              "      <td>kgobo</td>\n",
              "      <td>RXNO</td>\n",
              "      <td>2021-01-21</td>\n",
              "    </tr>\n",
              "  </tbody>\n",
              "</table>\n",
              "<p>91 rows × 3 columns</p>\n",
              "</div>"
            ],
            "text/plain": [
              "     repository graph_name     version\n",
              "1327      kgobo        ZFS  2020-03-10\n",
              "1328      kgobo         MF  2020-08-07\n",
              "1329      kgobo        DPO  2021-09-02\n",
              "1330      kgobo  NCBITAXON  2021-06-10\n",
              "1331      kgobo        ZFA  2020-04-14\n",
              "...         ...        ...         ...\n",
              "1413      kgobo        ECO  2021-09-14\n",
              "1414      kgobo        MOP  2014-09-03\n",
              "1415      kgobo       FBDV  2021-09-01\n",
              "1416      kgobo         SO  2021-07-12\n",
              "1417      kgobo       RXNO  2021-01-21\n",
              "\n",
              "[91 rows x 3 columns]"
            ]
          },
          "metadata": {},
          "execution_count": 3
        }
      ]
    },
    {
      "cell_type": "markdown",
      "metadata": {
        "id": "nNAFUR39quxS"
      },
      "source": [
        "## How to load up a graph\n",
        "To retrieve one of the available OBO graphs, as per any other repository, you can use:"
      ]
    },
    {
      "cell_type": "code",
      "metadata": {
        "id": "3Zx_iKFfqrqf"
      },
      "source": [
        "from ensmallen.datasets.kgobo import ZFS"
      ],
      "execution_count": 4,
      "outputs": []
    },
    {
      "cell_type": "code",
      "metadata": {
        "colab": {
          "base_uri": "https://localhost:8080/",
          "height": 17,
          "referenced_widgets": [
            "741b95282c2148aea1cbd9f1ec3fb4d1",
            "d3f51a2d96754947b10f65e82c880c13",
            "1152789e431c4bbe87878ae77ca82b1b",
            "1dc83a3ce35443929fafb8dac2c877c9",
            "194cf5105fbe44c3bb527245f454a34a",
            "1c700df3d8ad4cb99cceaac63a28cbe2",
            "90e8f68e0b3b451fb1b96418b88e80ae",
            "5bcf3a29587f415783bcf98a10684d1b",
            "1ec692037fe6458b8254d4ee26e86247",
            "e85576aee98f47e9875ea300791b359f",
            "758d8d4f9f7048709171c8a705ba85c6"
          ]
        },
        "id": "rlDrI-RirCkX",
        "outputId": "c440de48-8a4c-421c-d876-a041cd7256e5"
      },
      "source": [
        "graph = ZFS()"
      ],
      "execution_count": 5,
      "outputs": [
        {
          "output_type": "display_data",
          "data": {
            "application/vnd.jupyter.widget-view+json": {
              "model_id": "741b95282c2148aea1cbd9f1ec3fb4d1",
              "version_minor": 0,
              "version_major": 2
            },
            "text/plain": [
              "Downloading to graphs/kgobo/ZFS...-03-10/zfs.tar.gz:   0%|          | 0.00/5.06k [00:00<?, ?iB/s]"
            ]
          },
          "metadata": {}
        }
      ]
    },
    {
      "cell_type": "code",
      "metadata": {
        "colab": {
          "base_uri": "https://localhost:8080/",
          "height": 619
        },
        "id": "VWCiwH3prEde",
        "outputId": "ed6fd21c-596c-4f8e-d4f7-e0702583de21"
      },
      "source": [
        "graph"
      ],
      "execution_count": 6,
      "outputs": [
        {
          "output_type": "execute_result",
          "data": {
            "text/html": [
              "<h2>ZFS</h2><p>The undirected graph ZFS has 77 homogeneous nodes and 149 heterogenous edges.</p><h3>RAM requirements</h3><p>The RAM requirements for the nodes and edges data structures are 17.52KB and 536.00B respectively.</p><h3>Degree centrality</h3><p>The minimum node degree is 0, the maximum node degree is 53, the mode degree is 4, the mean degree is 3.87 and the node degree median is 4.</p><p>The nodes with highest degree centrality are: <a href='http://purl.obolibrary.org/obo/ZFS_0100000' target='_blank' title='Go to Open Biomedical Ontology to get more informations about OBO:ZFS_0100000'>OBO:ZFS_0100000</a> (degree 53 and node type <a href='https://biolink.github.io/biolink-model/docs/NamedThing.html' target='_blank' title='Go to BioLink to get more informations about biolink:NamedThing'>biolink:NamedThing</a>), <a href='http://purl.obolibrary.org/obo/ZFS_0000045' target='_blank' title='Go to Open Biomedical Ontology to get more informations about OBO:ZFS_0000045'>OBO:ZFS_0000045</a> (degree 12 and node type <a href='https://biolink.github.io/biolink-model/docs/NamedThing.html' target='_blank' title='Go to BioLink to get more informations about biolink:NamedThing'>biolink:NamedThing</a>), <a href='http://purl.obolibrary.org/obo/ZFS_0000048' target='_blank' title='Go to Open Biomedical Ontology to get more informations about OBO:ZFS_0000048'>OBO:ZFS_0000048</a> (degree 10 and node type <a href='https://biolink.github.io/biolink-model/docs/NamedThing.html' target='_blank' title='Go to BioLink to get more informations about biolink:NamedThing'>biolink:NamedThing</a>), <a href='http://purl.obolibrary.org/obo/ZFS_0000047' target='_blank' title='Go to Open Biomedical Ontology to get more informations about OBO:ZFS_0000047'>OBO:ZFS_0000047</a> (degree 9 and node type <a href='https://biolink.github.io/biolink-model/docs/NamedThing.html' target='_blank' title='Go to BioLink to get more informations about biolink:NamedThing'>biolink:NamedThing</a>) and <a href='http://purl.obolibrary.org/obo/ZFS_0000049' target='_blank' title='Go to Open Biomedical Ontology to get more informations about OBO:ZFS_0000049'>OBO:ZFS_0000049</a> (degree 9 and node type <a href='https://biolink.github.io/biolink-model/docs/NamedThing.html' target='_blank' title='Go to BioLink to get more informations about biolink:NamedThing'>biolink:NamedThing</a>).</p><h3>Disconnected nodes</h3><p>Disconnected nodes are nodes that are not connected to any other node.The graph contains 15 disconnected nodes.</p><h4>Singleton nodes</h4><p>Singleton nodes are nodes with no edge to other nodes nor selfloops. The graph contains 15 singleton nodes, which are <a href='http://purl.obolibrary.org/obo/BFO_0000050' target='_blank' title='Go to Basic Formal Ontology to get more informations about BFO:0000050'>BFO:0000050</a> (node type <a href='https://biolink.github.io/biolink-model/docs/NamedThing.html' target='_blank' title='Go to BioLink to get more informations about biolink:NamedThing'>biolink:NamedThing</a>), <a href='http://www.w3.org/1999/02/22-rdf-syntax-ns#comment' target='_blank' title='Go to RDF to get more informations about rdfs:comment'>rdfs:comment</a> (node type <a href='https://biolink.github.io/biolink-model/docs/NamedThing.html' target='_blank' title='Go to BioLink to get more informations about biolink:NamedThing'>biolink:NamedThing</a>), <a href='http://www.w3.org/1999/02/22-rdf-syntax-ns#label' target='_blank' title='Go to RDF to get more informations about rdfs:label'>rdfs:label</a> (node type <a href='https://biolink.github.io/biolink-model/docs/NamedThing.html' target='_blank' title='Go to BioLink to get more informations about biolink:NamedThing'>biolink:NamedThing</a>), <a href='http://www.geneontology.org/formats/oboInOwl#created_by' target='_blank' title='Go to Gene Ontology OBO in OWL to get more informations about OIO:created_by'>OIO:created_by</a> (node type <a href='https://biolink.github.io/biolink-model/docs/NamedThing.html' target='_blank' title='Go to BioLink to get more informations about biolink:NamedThing'>biolink:NamedThing</a>) and <a href='http://purl.obolibrary.org/obo/IAO_0000115' target='_blank' title='Go to Information Artifact Ontology to get more informations about IAO:0000115'>IAO:0000115</a> (node type <a href='https://biolink.github.io/biolink-model/docs/NamedThing.html' target='_blank' title='Go to BioLink to get more informations about biolink:NamedThing'>biolink:NamedThing</a>), plus other 10 singleton nodes.</p><h3>Node types</h3><p>The graph has a single node type, which is <a href='https://biolink.github.io/biolink-model/docs/NamedThing.html' target='_blank' title='Go to BioLink to get more informations about biolink:NamedThing'>biolink:NamedThing</a>. Note that this means that all nodes have the same node type, that is, all nodes are homogeneous..</p><h4>RAM requirements</h4><p>The RAM requirements for the node types data structure is 4.29KB.</p><h3>Edge types</h3><p>The graph has 4 edge types, which are <a href='https://biolink.github.io/biolink-model/docs/subclass_of.html' target='_blank' title='Go to BioLink to get more informations about biolink:subclass_of'>biolink:subclass_of</a> (112 edges, 37.58%), <a href='https://biolink.github.io/biolink-model/docs/preceded_by.html' target='_blank' title='Go to BioLink to get more informations about biolink:preceded_by'>biolink:preceded_by</a> (100 edges, 33.56%), <a href='https://biolink.github.io/biolink-model/docs/part_of.html' target='_blank' title='Go to BioLink to get more informations about biolink:part_of'>biolink:part_of</a> (84 edges, 28.19%) and owl:versionIRI (2 edges, 0.67%).</p><h4>RAM requirements</h4><p>The RAM requirements for the edge types data structure is 2.33KB.</p>"
            ],
            "text/plain": [
              "<h2>ZFS</h2><p>The undirected graph ZFS has 77 homogeneous nodes and 149 heterogenous edges.</p><h3>RAM requirements</h3><p>The RAM requirements for the nodes and edges data structures are 17.52KB and 536.00B respectively.</p><h3>Degree centrality</h3><p>The minimum node degree is 0, the maximum node degree is 53, the mode degree is 4, the mean degree is 3.87 and the node degree median is 4.</p><p>The nodes with highest degree centrality are: <a href='http://purl.obolibrary.org/obo/ZFS_0100000' target='_blank' title='Go to Open Biomedical Ontology to get more informations about OBO:ZFS_0100000'>OBO:ZFS_0100000</a> (degree 53 and node type <a href='https://biolink.github.io/biolink-model/docs/NamedThing.html' target='_blank' title='Go to BioLink to get more informations about biolink:NamedThing'>biolink:NamedThing</a>), <a href='http://purl.obolibrary.org/obo/ZFS_0000045' target='_blank' title='Go to Open Biomedical Ontology to get more informations about OBO:ZFS_0000045'>OBO:ZFS_0000045</a> (degree 12 and node type <a href='https://biolink.github.io/biolink-model/docs/NamedThing.html' target='_blank' title='Go to BioLink to get more informations about biolink:NamedThing'>biolink:NamedThing</a>), <a href='http://purl.obolibrary.org/obo/ZFS_0000048' target='_blank' title='Go to Open Biomedical Ontology to get more informations about OBO:ZFS_0000048'>OBO:ZFS_0000048</a> (degree 10 and node type <a href='https://biolink.github.io/biolink-model/docs/NamedThing.html' target='_blank' title='Go to BioLink to get more informations about biolink:NamedThing'>biolink:NamedThing</a>), <a href='http://purl.obolibrary.org/obo/ZFS_0000047' target='_blank' title='Go to Open Biomedical Ontology to get more informations about OBO:ZFS_0000047'>OBO:ZFS_0000047</a> (degree 9 and node type <a href='https://biolink.github.io/biolink-model/docs/NamedThing.html' target='_blank' title='Go to BioLink to get more informations about biolink:NamedThing'>biolink:NamedThing</a>) and <a href='http://purl.obolibrary.org/obo/ZFS_0000049' target='_blank' title='Go to Open Biomedical Ontology to get more informations about OBO:ZFS_0000049'>OBO:ZFS_0000049</a> (degree 9 and node type <a href='https://biolink.github.io/biolink-model/docs/NamedThing.html' target='_blank' title='Go to BioLink to get more informations about biolink:NamedThing'>biolink:NamedThing</a>).</p><h3>Disconnected nodes</h3><p>Disconnected nodes are nodes that are not connected to any other node.The graph contains 15 disconnected nodes.</p><h4>Singleton nodes</h4><p>Singleton nodes are nodes with no edge to other nodes nor selfloops. The graph contains 15 singleton nodes, which are <a href='http://purl.obolibrary.org/obo/BFO_0000050' target='_blank' title='Go to Basic Formal Ontology to get more informations about BFO:0000050'>BFO:0000050</a> (node type <a href='https://biolink.github.io/biolink-model/docs/NamedThing.html' target='_blank' title='Go to BioLink to get more informations about biolink:NamedThing'>biolink:NamedThing</a>), <a href='http://www.w3.org/1999/02/22-rdf-syntax-ns#comment' target='_blank' title='Go to RDF to get more informations about rdfs:comment'>rdfs:comment</a> (node type <a href='https://biolink.github.io/biolink-model/docs/NamedThing.html' target='_blank' title='Go to BioLink to get more informations about biolink:NamedThing'>biolink:NamedThing</a>), <a href='http://www.w3.org/1999/02/22-rdf-syntax-ns#label' target='_blank' title='Go to RDF to get more informations about rdfs:label'>rdfs:label</a> (node type <a href='https://biolink.github.io/biolink-model/docs/NamedThing.html' target='_blank' title='Go to BioLink to get more informations about biolink:NamedThing'>biolink:NamedThing</a>), <a href='http://www.geneontology.org/formats/oboInOwl#created_by' target='_blank' title='Go to Gene Ontology OBO in OWL to get more informations about OIO:created_by'>OIO:created_by</a> (node type <a href='https://biolink.github.io/biolink-model/docs/NamedThing.html' target='_blank' title='Go to BioLink to get more informations about biolink:NamedThing'>biolink:NamedThing</a>) and <a href='http://purl.obolibrary.org/obo/IAO_0000115' target='_blank' title='Go to Information Artifact Ontology to get more informations about IAO:0000115'>IAO:0000115</a> (node type <a href='https://biolink.github.io/biolink-model/docs/NamedThing.html' target='_blank' title='Go to BioLink to get more informations about biolink:NamedThing'>biolink:NamedThing</a>), plus other 10 singleton nodes.</p><h3>Node types</h3><p>The graph has a single node type, which is <a href='https://biolink.github.io/biolink-model/docs/NamedThing.html' target='_blank' title='Go to BioLink to get more informations about biolink:NamedThing'>biolink:NamedThing</a>. Note that this means that all nodes have the same node type, that is, all nodes are homogeneous..</p><h4>RAM requirements</h4><p>The RAM requirements for the node types data structure is 4.29KB.</p><h3>Edge types</h3><p>The graph has 4 edge types, which are <a href='https://biolink.github.io/biolink-model/docs/subclass_of.html' target='_blank' title='Go to BioLink to get more informations about biolink:subclass_of'>biolink:subclass_of</a> (112 edges, 37.58%), <a href='https://biolink.github.io/biolink-model/docs/preceded_by.html' target='_blank' title='Go to BioLink to get more informations about biolink:preceded_by'>biolink:preceded_by</a> (100 edges, 33.56%), <a href='https://biolink.github.io/biolink-model/docs/part_of.html' target='_blank' title='Go to BioLink to get more informations about biolink:part_of'>biolink:part_of</a> (84 edges, 28.19%) and owl:versionIRI (2 edges, 0.67%).</p><h4>RAM requirements</h4><p>The RAM requirements for the edge types data structure is 2.33KB.</p>"
            ]
          },
          "metadata": {},
          "execution_count": 6
        }
      ]
    },
    {
      "cell_type": "markdown",
      "metadata": {
        "id": "dA-29EGZrel0"
      },
      "source": [
        "*Would you like this tutorial to include some more sections? Please do let us know [by opening a issue in the GraPE repository](https://github.com/AnacletoLAB/grape/issues/new).*"
      ]
    }
  ]
}