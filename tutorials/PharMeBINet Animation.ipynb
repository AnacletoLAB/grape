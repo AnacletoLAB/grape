{
 "cells": [
  {
   "cell_type": "markdown",
   "id": "f5865e3e",
   "metadata": {},
   "source": [
    "# PharMeBINet Animation\n",
    "Sometimes, expecially when preparing a presentation for a conference or your work colleagues, a good animation can say more than a thousand words.\n",
    "\n",
    "For this reason, we have prepared a straighforward way to create animations for a number of tasks using GRAPE that, through subsampling, can be executed on graphs of arbitrary size.\n",
    "\n",
    "In this brief tutorial, we will show how to get a PharMeBINet embedding using First-order LINE, and then we will use TSNE decoposition to reduce its dimensionality and plot it into a short video.\n",
    "\n",
    "The resulting WEBM can be converted using one of many services and can be directly incorporated in Google Slides."
   ]
  },
  {
   "cell_type": "markdown",
   "id": "6bc5a2c3",
   "metadata": {},
   "source": [
    "## Installing 🍇 GRAPE\n",
    "\n",
    "To install the [GRAPE](https://github.com/AnacletoLAB/grape) library, as usual just run:\n",
    "\n",
    "```bash\n",
    "pip install grape -U\n",
    "```"
   ]
  },
  {
   "cell_type": "markdown",
   "id": "aeb295fb",
   "metadata": {},
   "source": [
    "### Checking the library version\n",
    "To check the library version and its main dependencies, you can use the `print_version` method:"
   ]
  },
  {
   "cell_type": "code",
   "execution_count": 1,
   "id": "1f8f69c6",
   "metadata": {},
   "outputs": [
    {
     "data": {
      "text/html": [
       "<div>\n",
       "<style scoped>\n",
       "    .dataframe tbody tr th:only-of-type {\n",
       "        vertical-align: middle;\n",
       "    }\n",
       "\n",
       "    .dataframe tbody tr th {\n",
       "        vertical-align: top;\n",
       "    }\n",
       "\n",
       "    .dataframe thead th {\n",
       "        text-align: right;\n",
       "    }\n",
       "</style>\n",
       "<table border=\"1\" class=\"dataframe\">\n",
       "  <thead>\n",
       "    <tr style=\"text-align: right;\">\n",
       "      <th></th>\n",
       "      <th>Version</th>\n",
       "    </tr>\n",
       "    <tr>\n",
       "      <th>Information</th>\n",
       "      <th></th>\n",
       "    </tr>\n",
       "  </thead>\n",
       "  <tbody>\n",
       "    <tr>\n",
       "      <th>GRAPE Version</th>\n",
       "      <td>0.1.21</td>\n",
       "    </tr>\n",
       "    <tr>\n",
       "      <th>Python version</th>\n",
       "      <td>3.9.7</td>\n",
       "    </tr>\n",
       "    <tr>\n",
       "      <th>Platform</th>\n",
       "      <td>Linux-5.15.25-1-MANJARO-x86_64-with-glibc2.35</td>\n",
       "    </tr>\n",
       "    <tr>\n",
       "      <th>Threads number</th>\n",
       "      <td>24</td>\n",
       "    </tr>\n",
       "    <tr>\n",
       "      <th>KarateClub version</th>\n",
       "      <td>1.3.0</td>\n",
       "    </tr>\n",
       "    <tr>\n",
       "      <th>PyTorch version</th>\n",
       "      <td>1.11.0+cu102</td>\n",
       "    </tr>\n",
       "    <tr>\n",
       "      <th>TensorFlow version</th>\n",
       "      <td>2.8.0</td>\n",
       "    </tr>\n",
       "    <tr>\n",
       "      <th>PyKEEN version</th>\n",
       "      <td>1.8.1</td>\n",
       "    </tr>\n",
       "  </tbody>\n",
       "</table>\n",
       "</div>"
      ],
      "text/plain": [
       "                                                          Version\n",
       "Information                                                      \n",
       "GRAPE Version                                              0.1.21\n",
       "Python version                                              3.9.7\n",
       "Platform            Linux-5.15.25-1-MANJARO-x86_64-with-glibc2.35\n",
       "Threads number                                                 24\n",
       "KarateClub version                                          1.3.0\n",
       "PyTorch version                                      1.11.0+cu102\n",
       "TensorFlow version                                          2.8.0\n",
       "PyKEEN version                                              1.8.1"
      ]
     },
     "metadata": {},
     "output_type": "display_data"
    }
   ],
   "source": [
    "from grape import print_version\n",
    "\n",
    "print_version()"
   ]
  },
  {
   "cell_type": "markdown",
   "id": "a1518487",
   "metadata": {},
   "source": [
    "## Retrieving PharMeBINet\n",
    "First, we retrieve PharMeBINet:"
   ]
  },
  {
   "cell_type": "code",
   "execution_count": 8,
   "id": "869bccc9",
   "metadata": {},
   "outputs": [
    {
     "data": {
      "application/vnd.jupyter.widget-view+json": {
       "model_id": "",
       "version_major": 2,
       "version_minor": 0
      },
      "text/plain": [
       "Downloading to /bfd/graphs/zeno...2_08_19_v2.tar.gz:   0%|                                            | 0.00/8…"
      ]
     },
     "metadata": {},
     "output_type": "display_data"
    }
   ],
   "source": [
    "from grape.datasets.zenodo import PharMeBINet\n",
    "\n",
    "graph = PharMeBINet(directed=True)"
   ]
  },
  {
   "cell_type": "markdown",
   "id": "11eb6bf1",
   "metadata": {},
   "source": [
    "Then, let's take a look at its graph report:"
   ]
  },
  {
   "cell_type": "code",
   "execution_count": 9,
   "id": "a7dcf58d",
   "metadata": {},
   "outputs": [
    {
     "data": {
      "text/html": [
       "<div class=\"graph-report\"><style>.graph-report li {margin: 0.5em 0 0.5em 0;}.graph-report .paragraph {text-align: justify;word-break: break-all;}.graph-report .small-columns {column-count: 4;column-gap: 2em;}.graph-report .medium-columns {column-count: 3;column-gap: 2em;}.graph-report .large-columns {column-count: 2;column-gap: 2em;}.graph-report .single-column {}@media only screen and (max-width: 600px) {.graph-report .small-columns {column-count: 1;}.graph-report .medium-columns {column-count: 1;}.graph-report .large-columns {column-count: 1;}}@media only screen and (min-width: 600px) and (max-width: 800px) {.graph-report .small-columns {column-count: 2;}.graph-report .medium-columns {column-count: 1;}.graph-report .large-columns {column-count: 1;}}@media only screen and (min-width: 800px) and (max-width: 1024px) {.graph-report .small-columns {column-count: 3;}.graph-report .medium-columns {column-count: 2;}.graph-report .large-columns {column-count: 1;}}</style><h2>PharMeBINet</h2><p class=\"paragraph\">The directed multigraph PharMeBINet has 2.65M nodes and 15.88M heterogeneous edges. The RAM requirements for the nodes and edges data structures are 214.43MB and 42.64MB respectively.</p><h3 style=\"margin: 1em 0 0 0;\">Degree centrality</h3><p class=\"paragraph\">The minimum node degree is 0, the maximum node degree is 34.28K, the mode degree is 0, the mean degree is 5.98 and the node degree median is 0.</p><p class=\"paragraph\">The nodes with the highest degree centrality are 31816 (degree 34.28K), 30205 (degree 24.82K), 798 (degree 23.85K), 868 (degree 23.58K) and 902 (degree 23.10K).</p><h3 style=\"margin: 1em 0 0 0;\">Edge types</h3><p class=\"paragraph\">The graph has 208 edge types, of which the 10 most common are RESEMBLES_CrC (4.60M edges, 28.97%), HAS_GhGV (2.69M edges, 16.93%), MIGHT_SUBCELLULAR_LOCATES_ImslCC (1.77M edges, 11.18%), INTERACTS_CiC (1.38M edges, 8.70%), INTERACTS_IiP (637.48K edges, 4.01%), INTERACTS_PiI (637.48K edges, 4.01%), EXPRESSES_AeG (526.18K edges, 3.31%), HAS_ChPR (404.03K edges, 2.54%), REGULATES_GrG (265.67K edges, 1.67%) and DOWNREGULATES_CHdG (214.26K edges, 1.35%). The RAM requirement for the edge types data structure is 63.54MB.</p><h4 style=\"margin: 1em 0 0 0;\">Singleton edge types</h4><p class=\"paragraph\">Singleton edge types are edge types that are assigned exclusively to a single edge, making the edge type relatively meaningless, as it adds no more information than the name of edge itself. The graph contains 8 edges with singleton edge types, which are IS_ACTIVE_ON_DNA_OR_RNA_LEVEL_PiaodorlCH, REGULATES_CHrCH, PRECEDING_REACTION_RLEprPW, NOT_ACTS_UPSTREAM_OF_OR_WITHIN_NEGATIVE_EFFECT_PnauoowneBP, ASSOCIATES_TO_TOXICITY_ADR_VattaCH, INCREASES_DEGENERATION_GidCH, NOT_ACTS_UPSTREAM_OF_OR_WITHIN_NEGATIVE_EFFECT_GnauoowneBP and DOWNREGULATES_GdCH. </p><h3 style=\"margin: 1em 0 0 0;\">Topological Oddities</h3><p class=\"paragraph\">A topological oddity is a set of nodes in the graph that <i>may be derived</i> by an error during the generation of the edge list of the graph and, depending on the task, could bias the results of topology-based models. Note that in a directed graph we only support the detection of isomorphic nodes. In the following paragraph, we will describe the detected topological oddities.</p><h4 style=\"margin: 1em 0 0 0;\">Isomorphic node groups</h4><p class=\"paragraph\">Isomorphic groups are nodes with exactly the same neighbours and node types (if present in the graph). Nodes in such groups are topologically indistinguishable, that is swapping their ID would not change the graph topology. We have detected 26.75K isomorphic node groups in the graph, involving a total of 212.75K nodes (8.02%) and 1.27M edges (8.00%), with the largest one involving 1.15K nodes and 6.13K edges. The detected isomorphic node groups, sorted by decreasing size, are:</p><ol class=\"medium-columns\"><li><p class=\"paragraph\">Group with 42 nodes (degree 146): 2145066, 2145063, 2145067, 2145068, 2145069 and other 37.</p></li>\n",
       "<li><p class=\"paragraph\">Group with 1.15K nodes (degree 5): 317029, 318072, 317534, 318441, 318390 and other 1.14K.</p></li>\n",
       "<li><p class=\"paragraph\">Group with 566 nodes (degree 5): 652442, 652318, 652845, 652846, 652847 and other 561.</p></li>\n",
       "<li><p class=\"paragraph\">Group with 552 nodes (degree 5): 644428, 644337, 643888, 643867, 643891 and other 547.</p></li>\n",
       "<li><p class=\"paragraph\">Group with 465 nodes (degree 5): 474570, 474631, 474042, 474041, 474039 and other 460.</p></li>\n",
       "<li><p class=\"paragraph\">Group with 413 nodes (degree 5): 343154, 343333, 343090, 343086, 343087 and other 408.</p></li>\n",
       "<li><p class=\"paragraph\">Group with 310 nodes (degree 6): 652210, 652197, 652346, 652156, 652387 and other 305.</p></li>\n",
       "<li><p class=\"paragraph\">Group with 12 nodes (degree 154): 25718, 60197, 24520, 89536, 41695 and other 7.</p></li>\n",
       "<li><p class=\"paragraph\">Group with 307 nodes (degree 6): 341941, 341784, 341945, 341944, 341942 and other 302.</p></li>\n",
       "<li><p class=\"paragraph\">Group with 333 nodes (degree 5): 315781, 315857, 315760, 315611, 315761 and other 328.</p></li>\n",
       "<li><p class=\"paragraph\">Group with 230 nodes (degree 7): 577180, 577092, 577130, 577129, 577010 and other 225.</p></li>\n",
       "<li><p class=\"paragraph\">Group with 314 nodes (degree 5): 439951, 440156, 440240, 440062, 440065 and other 309.</p></li>\n",
       "<li><p class=\"paragraph\">Group with 309 nodes (degree 5): 268092, 268420, 268235, 268331, 267924 and other 304.</p></li>\n",
       "<li><p class=\"paragraph\">Group with 303 nodes (degree 5): 330611, 330574, 330452, 330390, 330365 and other 298.</p></li>\n",
       "<li><p class=\"paragraph\">Group with 251 nodes (degree 6): 316981, 317118, 317987, 317835, 317052 and other 246.</p></li></ol><p class=\"paragraph\">And other 26.73K isomorphic node groups.</p></div>"
      ],
      "text/plain": [
       "<div class=\"graph-report\"><style>.graph-report li {margin: 0.5em 0 0.5em 0;}.graph-report .paragraph {text-align: justify;word-break: break-all;}.graph-report .small-columns {column-count: 4;column-gap: 2em;}.graph-report .medium-columns {column-count: 3;column-gap: 2em;}.graph-report .large-columns {column-count: 2;column-gap: 2em;}.graph-report .single-column {}@media only screen and (max-width: 600px) {.graph-report .small-columns {column-count: 1;}.graph-report .medium-columns {column-count: 1;}.graph-report .large-columns {column-count: 1;}}@media only screen and (min-width: 600px) and (max-width: 800px) {.graph-report .small-columns {column-count: 2;}.graph-report .medium-columns {column-count: 1;}.graph-report .large-columns {column-count: 1;}}@media only screen and (min-width: 800px) and (max-width: 1024px) {.graph-report .small-columns {column-count: 3;}.graph-report .medium-columns {column-count: 2;}.graph-report .large-columns {column-count: 1;}}</style><h2>PharMeBINet</h2><p class=\"paragraph\">The directed multigraph PharMeBINet has 2.65M nodes and 15.88M heterogeneous edges. The RAM requirements for the nodes and edges data structures are 214.43MB and 42.64MB respectively.</p><h3 style=\"margin: 1em 0 0 0;\">Degree centrality</h3><p class=\"paragraph\">The minimum node degree is 0, the maximum node degree is 34.28K, the mode degree is 0, the mean degree is 5.98 and the node degree median is 0.</p><p class=\"paragraph\">The nodes with the highest degree centrality are 31816 (degree 34.28K), 30205 (degree 24.82K), 798 (degree 23.85K), 868 (degree 23.58K) and 902 (degree 23.10K).</p><h3 style=\"margin: 1em 0 0 0;\">Edge types</h3><p class=\"paragraph\">The graph has 208 edge types, of which the 10 most common are RESEMBLES_CrC (4.60M edges, 28.97%), HAS_GhGV (2.69M edges, 16.93%), MIGHT_SUBCELLULAR_LOCATES_ImslCC (1.77M edges, 11.18%), INTERACTS_CiC (1.38M edges, 8.70%), INTERACTS_IiP (637.48K edges, 4.01%), INTERACTS_PiI (637.48K edges, 4.01%), EXPRESSES_AeG (526.18K edges, 3.31%), HAS_ChPR (404.03K edges, 2.54%), REGULATES_GrG (265.67K edges, 1.67%) and DOWNREGULATES_CHdG (214.26K edges, 1.35%). The RAM requirement for the edge types data structure is 63.54MB.</p><h4 style=\"margin: 1em 0 0 0;\">Singleton edge types</h4><p class=\"paragraph\">Singleton edge types are edge types that are assigned exclusively to a single edge, making the edge type relatively meaningless, as it adds no more information than the name of edge itself. The graph contains 8 edges with singleton edge types, which are IS_ACTIVE_ON_DNA_OR_RNA_LEVEL_PiaodorlCH, REGULATES_CHrCH, PRECEDING_REACTION_RLEprPW, NOT_ACTS_UPSTREAM_OF_OR_WITHIN_NEGATIVE_EFFECT_PnauoowneBP, ASSOCIATES_TO_TOXICITY_ADR_VattaCH, INCREASES_DEGENERATION_GidCH, NOT_ACTS_UPSTREAM_OF_OR_WITHIN_NEGATIVE_EFFECT_GnauoowneBP and DOWNREGULATES_GdCH. </p><h3 style=\"margin: 1em 0 0 0;\">Topological Oddities</h3><p class=\"paragraph\">A topological oddity is a set of nodes in the graph that <i>may be derived</i> by an error during the generation of the edge list of the graph and, depending on the task, could bias the results of topology-based models. Note that in a directed graph we only support the detection of isomorphic nodes. In the following paragraph, we will describe the detected topological oddities.</p><h4 style=\"margin: 1em 0 0 0;\">Isomorphic node groups</h4><p class=\"paragraph\">Isomorphic groups are nodes with exactly the same neighbours and node types (if present in the graph). Nodes in such groups are topologically indistinguishable, that is swapping their ID would not change the graph topology. We have detected 26.75K isomorphic node groups in the graph, involving a total of 212.75K nodes (8.02%) and 1.27M edges (8.00%), with the largest one involving 1.15K nodes and 6.13K edges. The detected isomorphic node groups, sorted by decreasing size, are:</p><ol class=\"medium-columns\"><li><p class=\"paragraph\">Group with 42 nodes (degree 146): 2145066, 2145063, 2145067, 2145068, 2145069 and other 37.</p></li>\n",
       "<li><p class=\"paragraph\">Group with 1.15K nodes (degree 5): 317029, 318072, 317534, 318441, 318390 and other 1.14K.</p></li>\n",
       "<li><p class=\"paragraph\">Group with 566 nodes (degree 5): 652442, 652318, 652845, 652846, 652847 and other 561.</p></li>\n",
       "<li><p class=\"paragraph\">Group with 552 nodes (degree 5): 644428, 644337, 643888, 643867, 643891 and other 547.</p></li>\n",
       "<li><p class=\"paragraph\">Group with 465 nodes (degree 5): 474570, 474631, 474042, 474041, 474039 and other 460.</p></li>\n",
       "<li><p class=\"paragraph\">Group with 413 nodes (degree 5): 343154, 343333, 343090, 343086, 343087 and other 408.</p></li>\n",
       "<li><p class=\"paragraph\">Group with 310 nodes (degree 6): 652210, 652197, 652346, 652156, 652387 and other 305.</p></li>\n",
       "<li><p class=\"paragraph\">Group with 12 nodes (degree 154): 25718, 60197, 24520, 89536, 41695 and other 7.</p></li>\n",
       "<li><p class=\"paragraph\">Group with 307 nodes (degree 6): 341941, 341784, 341945, 341944, 341942 and other 302.</p></li>\n",
       "<li><p class=\"paragraph\">Group with 333 nodes (degree 5): 315781, 315857, 315760, 315611, 315761 and other 328.</p></li>\n",
       "<li><p class=\"paragraph\">Group with 230 nodes (degree 7): 577180, 577092, 577130, 577129, 577010 and other 225.</p></li>\n",
       "<li><p class=\"paragraph\">Group with 314 nodes (degree 5): 439951, 440156, 440240, 440062, 440065 and other 309.</p></li>\n",
       "<li><p class=\"paragraph\">Group with 309 nodes (degree 5): 268092, 268420, 268235, 268331, 267924 and other 304.</p></li>\n",
       "<li><p class=\"paragraph\">Group with 303 nodes (degree 5): 330611, 330574, 330452, 330390, 330365 and other 298.</p></li>\n",
       "<li><p class=\"paragraph\">Group with 251 nodes (degree 6): 316981, 317118, 317987, 317835, 317052 and other 246.</p></li></ol><p class=\"paragraph\">And other 26.73K isomorphic node groups.</p></div>"
      ]
     },
     "execution_count": 9,
     "metadata": {},
     "output_type": "execute_result"
    }
   ],
   "source": [
    "graph"
   ]
  },
  {
   "cell_type": "markdown",
   "id": "b215619d",
   "metadata": {},
   "source": [
    "## Connected holdout\n",
    "Since we want to visualize an edge prediction task on this graph, we need to create a connected holdout:"
   ]
  },
  {
   "cell_type": "code",
   "execution_count": 10,
   "id": "05e77dd8",
   "metadata": {},
   "outputs": [
    {
     "name": "stdout",
     "output_type": "stream",
     "text": [
      "CPU times: user 12.4 s, sys: 195 ms, total: 12.6 s\n",
      "Wall time: 6.46 s\n"
     ]
    }
   ],
   "source": [
    "%%time\n",
    "train, test = graph.connected_holdout(train_size=0.7)\n",
    "train.enable()"
   ]
  },
  {
   "cell_type": "markdown",
   "id": "901ca0d5",
   "metadata": {},
   "source": [
    "## Compute the embedding\n",
    "Next, we compute the embedding using the First-order LINE method. Do note that this implementation is a data-race aware one that uses SGD as optimizer, and nothing fancy like ADAM or NADAM: this means that the memory footprint is only limited to the embedding size."
   ]
  },
  {
   "cell_type": "code",
   "execution_count": 11,
   "id": "d39c9173",
   "metadata": {},
   "outputs": [
    {
     "name": "stdout",
     "output_type": "stream",
     "text": [
      "CPU times: user 32min 1s, sys: 5.89 s, total: 32min 7s\n",
      "Wall time: 1min 23s\n"
     ]
    }
   ],
   "source": [
    "%%time\n",
    "from grape.embedders import FirstOrderLINEEnsmallen\n",
    "embedding = FirstOrderLINEEnsmallen().fit_transform(graph)"
   ]
  },
  {
   "cell_type": "markdown",
   "id": "fb417e8b",
   "metadata": {},
   "source": [
    "## Visualize the embedding on the test graph\n",
    "We are at the end, finally visualizing the test graph."
   ]
  },
  {
   "cell_type": "code",
   "execution_count": 15,
   "id": "082aafd5",
   "metadata": {},
   "outputs": [],
   "source": [
    "from grape import GraphVisualizer\n",
    "\n",
    "vis = GraphVisualizer(\n",
    "    graph=test,\n",
    "    support=graph,\n",
    "    n_components=4,\n",
    "    edge_embedding_method=\"Hadamard\",\n",
    "    rotate=True,\n",
    "    verbose=True,\n",
    "    # Automatically, since LINE learns a cosine, the visualization tool\n",
    "    # would dispatch a Cosine-distance based TSNE. This would use the sklearn\n",
    "    # implementation, which is terribly slow. Therefore, we force it to use the Euclidean distance\n",
    "    # and therefore the Multicore TSNE implementation (when available).\n",
    "    decomposition_kwargs=dict(metric=\"euclidean\")\n",
    ")"
   ]
  },
  {
   "cell_type": "markdown",
   "id": "ec2828fa",
   "metadata": {},
   "source": [
    "Then we run the TSNE, this may take a while."
   ]
  },
  {
   "cell_type": "code",
   "execution_count": 16,
   "id": "5d928398",
   "metadata": {},
   "outputs": [
    {
     "name": "stderr",
     "output_type": "stream",
     "text": [
      "Performing t-SNE using 24 cores.\n",
      "Using no_dims = 4, perplexity = 30.000000, and theta = 0.500000\n",
      "Computing input similarities...\n",
      "Building tree...\n",
      " - point 2000 of 20000\n",
      " - point 4001 of 20000\n",
      " - point 6000 of 20000\n",
      " - point 8000 of 20000\n",
      " - point 10000 of 20000\n",
      " - point 12000 of 20000\n",
      " - point 14000 of 20000\n",
      " - point 16000 of 20000\n",
      " - point 18000 of 20000\n",
      " - point 20000 of 20000\n",
      "Done in 0.00 seconds (sparsity = 0.006640)!\n",
      "Learning embedding...\n",
      "Iteration 51: error is 101.346650 (50 iterations in 7.00 seconds)\n",
      "Iteration 101: error is 85.449551 (50 iterations in 6.00 seconds)\n",
      "Iteration 151: error is 80.774775 (50 iterations in 6.00 seconds)\n",
      "Iteration 201: error is 79.185088 (50 iterations in 7.00 seconds)\n",
      "Iteration 251: error is 78.412297 (50 iterations in 7.00 seconds)\n",
      "Iteration 301: error is 2.891385 (50 iterations in 6.00 seconds)\n",
      "Iteration 351: error is 2.487468 (50 iterations in 7.00 seconds)\n",
      "Iteration 400: error is 2.256084 (50 iterations in 7.00 seconds)\n"
     ]
    },
    {
     "name": "stdout",
     "output_type": "stream",
     "text": [
      "CPU times: user 6min 45s, sys: 14min 2s, total: 20min 48s\n",
      "Wall time: 53.7 s\n"
     ]
    },
    {
     "name": "stderr",
     "output_type": "stream",
     "text": [
      "Fitting performed in 53.00 seconds.\n"
     ]
    }
   ],
   "source": [
    "%%time\n",
    "vis.fit_negative_and_positive_edges(embedding)"
   ]
  },
  {
   "cell_type": "code",
   "execution_count": 17,
   "id": "2591799e",
   "metadata": {},
   "outputs": [
    {
     "data": {
      "application/vnd.jupyter.widget-view+json": {
       "model_id": "",
       "version_major": 2,
       "version_minor": 0
      },
      "text/plain": [
       "Rendering frames:   0%|                                                                                   | 0/…"
      ]
     },
     "metadata": {},
     "output_type": "display_data"
    },
    {
     "name": "stderr",
     "output_type": "stream",
     "text": [
      "OpenCV: FFMPEG: tag 0x30387076/'vp80' is not supported with codec id 139 and format 'webm / WebM'\n"
     ]
    },
    {
     "data": {
      "application/vnd.jupyter.widget-view+json": {
       "model_id": "",
       "version_major": 2,
       "version_minor": 0
      },
      "text/plain": [
       "Merging frames:   0%|                                                                                     | 0/…"
      ]
     },
     "metadata": {},
     "output_type": "display_data"
    },
    {
     "name": "stdout",
     "output_type": "stream",
     "text": [
      "CPU times: user 9min 47s, sys: 12.4 s, total: 10min\n",
      "Wall time: 1min 36s\n"
     ]
    },
    {
     "data": {
      "text/html": [
       "<center><video width=\"480\" height=\"480\" src=\"edgepredictionpharmebinettestfirst-orderlinehadamard.webm\" autoplay muted playsinline loop><source src=\"edgepredictionpharmebinettestfirst-orderlinehadamard.webm\" type=\"video/webm\" />Your browser does not support the video tag.</video></center>"
      ],
      "text/plain": [
       "<IPython.core.display.HTML object>"
      ]
     },
     "execution_count": 17,
     "metadata": {},
     "output_type": "execute_result"
    }
   ],
   "source": [
    "%%time\n",
    "vis.plot_positive_and_negative_edges()"
   ]
  },
  {
   "cell_type": "code",
   "execution_count": 14,
   "id": "5548419a",
   "metadata": {},
   "outputs": [
    {
     "data": {
      "application/vnd.jupyter.widget-view+json": {
       "model_id": "",
       "version_major": 2,
       "version_minor": 0
      },
      "text/plain": [
       "Rendering frames:   0%|                                                                                   | 0/…"
      ]
     },
     "metadata": {},
     "output_type": "display_data"
    },
    {
     "name": "stderr",
     "output_type": "stream",
     "text": [
      "OpenCV: FFMPEG: tag 0x30387076/'vp80' is not supported with codec id 139 and format 'webm / WebM'\n"
     ]
    },
    {
     "data": {
      "application/vnd.jupyter.widget-view+json": {
       "model_id": "",
       "version_major": 2,
       "version_minor": 0
      },
      "text/plain": [
       "Merging frames:   0%|                                                                                     | 0/…"
      ]
     },
     "metadata": {},
     "output_type": "display_data"
    },
    {
     "name": "stdout",
     "output_type": "stream",
     "text": [
      "CPU times: user 8min 8s, sys: 10.9 s, total: 8min 19s\n",
      "Wall time: 1min 17s\n"
     ]
    },
    {
     "data": {
      "text/html": [
       "<center><video width=\"480\" height=\"480\" src=\"edgetypespharmebinetfirst-orderlinehadamard.webm\" autoplay muted playsinline loop><source src=\"edgetypespharmebinetfirst-orderlinehadamard.webm\" type=\"video/webm\" />Your browser does not support the video tag.</video></center>"
      ],
      "text/plain": [
       "<IPython.core.display.HTML object>"
      ]
     },
     "execution_count": 14,
     "metadata": {},
     "output_type": "execute_result"
    }
   ],
   "source": [
    "%%time\n",
    "vis.plot_edge_types()"
   ]
  },
  {
   "cell_type": "markdown",
   "id": "120b5d10",
   "metadata": {},
   "source": [
    "## Cite resources\n",
    "If you find useful GRAPE or PharMeBinet in your scientific work, please do recall to cite them:\n",
    "\n",
    "###  Citing GRAPE\n",
    "\n",
    "```bib\n",
    "@misc{cappelletti2021grape,\n",
    "  title={GRAPE: fast and scalable Graph Processing and Embedding},\n",
    "  author={Luca Cappelletti and Tommaso Fontana and Elena Casiraghi and Vida Ravanmehr and Tiffany J. Callahan and Marcin P. Joachimiak and Christopher J. Mungall and Peter N. Robinson and Justin Reese and Giorgio Valentini},\n",
    "  year={2021},\n",
    "  eprint={2110.06196},\n",
    "  archivePrefix={arXiv},\n",
    "  primaryClass={cs.LG}\n",
    "}\n",
    "```\n",
    "\n",
    "### Citing PharMeBinet\n",
    "\n",
    "```bib\n",
    "@article{konigs2022heterogeneous,\n",
    "  title={The heterogeneous pharmacological medical biochemical network PharMeBINet},\n",
    "  author={K{\\\"o}nigs, Cassandra and Friedrichs, Marcel and Dietrich, Theresa},\n",
    "  journal={Scientific Data},\n",
    "  volume={9},\n",
    "  number={1},\n",
    "  pages={1--14},\n",
    "  year={2022},\n",
    "  publisher={Nature Publishing Group}\n",
    "}\n",
    "```"
   ]
  }
 ],
 "metadata": {
  "kernelspec": {
   "display_name": "Python 3 (ipykernel)",
   "language": "python",
   "name": "python3"
  },
  "language_info": {
   "codemirror_mode": {
    "name": "ipython",
    "version": 3
   },
   "file_extension": ".py",
   "mimetype": "text/x-python",
   "name": "python",
   "nbconvert_exporter": "python",
   "pygments_lexer": "ipython3",
   "version": "3.9.7"
  }
 },
 "nbformat": 4,
 "nbformat_minor": 5
}
