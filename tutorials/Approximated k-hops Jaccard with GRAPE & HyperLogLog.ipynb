{
 "cells": [
  {
   "attachments": {},
   "cell_type": "markdown",
   "id": "7673742f",
   "metadata": {},
   "source": [
    "# Approximated k-hops Jaccard with GRAPE & HyperLogLog\n",
    "The Approximated k-hops Jaccard algorithm implemented in [🍇🍇 GRAPE 🍇🍇](https://github.com/AnacletoLAB/grape) is a powerful technique for estimating the the shared neighbours of two nodes considering $k$ transitive closures. By running graph convolutions of [HyperLogLog](https://github.com/LucaCappelletti94/hyperloglog-rs), the algorithm provides an efficient and scalable approach to approximate the similarity measure while massively minimizing computational complexity.\n",
    "\n",
    "This Jupyter notebook aims to explore the implementation and application of the approximated k-hops Jaccard algorithm using GRAPE and [HyperLogLog](https://github.com/LucaCappelletti94/hyperloglog-rs). We will delve into the details of the algorithm, discuss its advantages and use cases, and provide practical examples of its application in graph processing and machine learning tasks.\n",
    "\n",
    "\n",
    "## What is GRAPE\n",
    "[🍇🍇 GRAPE 🍇🍇](https://github.com/AnacletoLAB/grape) is a graph processing and embedding library that enables users to easily manipulate and analyze graphs. With [GRAPE](https://github.com/AnacletoLAB/grape), users can efficiently load and preprocess graphs, generate random walks, and apply various node and edge embedding models. Additionally, [GRAPE](https://github.com/AnacletoLAB/grape) provides a fair and reproducible evaluation pipeline for comparing different graph embedding and graph-based prediction methods.\n",
    "\n",
    "![features in GRAPE](https://github.com/AnacletoLAB/grape/raw/main/images/sequence_diagram.png?raw=true)\n",
    "\n",
    "## What is a Jaccard similarity coefficient?\n",
    "The Jaccard similarity coefficient, also known as the Jaccard index, is a measure of similarity between two sets. It quantifies the degree of overlap or similarity between the elements of the sets. The Jaccard similarity coefficient is defined as the size of the intersection of the sets divided by the size of the union of the sets.\n",
    "\n",
    "Mathematically, the Jaccard similarity coefficient is computed as follows:\n",
    "$$J(A, B) = \\frac{\\lvert A \\cap B\\rvert}{\\lvert A \\cup B\\rvert}$$\n",
    "\n",
    "where:\n",
    "\n",
    "* $A$ and $B$ are sets\n",
    "* $\\cap$ denotes the intersection of the sets\n",
    "* $\\cup$ denotes the union of the sets\n",
    "* $\\lvert A \\cap B\\rvert$ represents the cardinality (number of elements) of the intersection of sets A and B\n",
    "\n",
    "The resulting coefficient ranges from $0$ to $1$, where $0$ indicates no similarity or no common elements between the sets, and $1$ indicates complete similarity or perfect overlap between the sets.\n",
    "\n",
    "The Jaccard similarity coefficient is widely used in various fields, including data mining, information retrieval, machine learning, and recommendation systems. It is particularly useful when dealing with binary or categorical data, where the presence or absence of elements is of interest.\n",
    "\n",
    "### How is it used in graphs?\n",
    "In graph analysis, the Jaccard similarity coefficient can be applied to measure the similarity between sets of neighbors of nodes in a graph. It provides a way to compare the local neighborhood structures of different nodes and can be used to identify similar nodes or clusters within a graph.\n",
    "\n",
    "It is important to note that the Jaccard similarity coefficient is a simple and intuitive measure of similarity but has limitations. It does not consider the relative importance or frequency of elements within the sets and treats all elements equally. Additionally, it does not capture the magnitude of differences between sets, only their overlap. Therefore, it is not suitable for measuring the similarity between sets of numerical values.\n",
    "\n",
    "### What is $k$-hops Jaccard?\n",
    "The $k$-hops Jaccard similarity, also referred to as the $k$-hops Jaccard index, is a measure of similarity that quantifies the overlap between the neighboring nodes within a graph up to a specified distance, $k$. It provides insights into the similarity of node neighborhoods and captures the shared elements among nodes within a certain proximity.\n",
    "\n",
    "To understand the concept of the $k$-hops Jaccard index, let's consider a graph where each node represents an entity, such as a user, item, or document, and the edges represent relationships or connections between these entities. The $k$-hops Jaccard index measures the similarity between the sets of neighboring nodes at distances up to $k$, which can be interpreted as the neighbors reachable within $k$ steps in the graph.\n",
    "\n",
    "Formally, for two given nodes $v, u \\in V$ in a graph, the $k$-hops Jaccard index is calculated as the ratio of the number of common neighboring nodes between $v$ and another node $u$, up to distance $k$, to the total number of distinct neighboring nodes of both nodes:\n",
    "\n",
    "$$J_k(v, u) = \\frac{\\lvert \\mathcal{N}_k(v) \\cap \\mathcal{N}_k(u)\\rvert}{\\lvert \\mathcal{N}_k(v) \\cup \\mathcal{N}_k(u)\\rvert}$$\n",
    "\n",
    "where:\n",
    "\n",
    "* $J_k(v, u)$ represents the k-hops Jaccard index between nodes $v$ and $u$\n",
    "* $\\mathcal{N}_k(v)$ denotes the set of neighboring nodes of node $v$ up to distance $k$\n",
    "* $\\mathcal{N}_k(u)$ denotes the set of neighboring nodes of node $u$ up to distance $k$\n",
    "\n",
    "In other words, the numerator of the formula calculates the number of common neighbors between nodes $v$ and $u$ within the specified distance $k$, while the denominator represents the total number of distinct neighbors of both nodes.\n",
    "\n",
    "The $k$-hops Jaccard index provides a measure of similarity that considers not only direct connections between nodes but also the connectivity patterns within a certain range. It captures the similarity of nodes based on their shared neighborhood structures, which can be valuable in various graph analysis tasks, such as community detection, recommendation systems, and link prediction.\n",
    "\n",
    "By computing the $k$-hops Jaccard index for pairs of nodes within a graph, it is possible to identify nodes with similar local neighborhood structures, uncover cohesive communities, discover related entities, and perform other graph analysis tasks that leverage the notion of proximity and similarity among nodes.\n",
    "\n",
    "#### Is exact $k$-hops Jaccard computational expensive?\n",
    "Computing the exact $k$-hops Jaccard similarity between pairs of nodes in a graph can be computationally expensive, especially when dealing with large graphs and nodes with high degrees. The process involves exploring the neighborhoods of each pair of nodes up to a distance of $k$, which can become prohibitive for scalability in terms of time and computational resources.\n",
    "\n",
    "The main challenge arises from the exponential growth in the number of nodes to consider as the distance $k$ increases. For a node $v$, the number of nodes in its neighborhood at distance $k$ grows exponentially with $k$. This exponential growth leads to an explosion in the number of pairwise comparisons required to compute the exact $k$-hops Jaccard index for all pairs of nodes.\n",
    "\n",
    "When dealing with large-scale graphs with millions or billions of nodes and varying degrees of connectivity, the computational cost of computing the exact $k$-hops Jaccard index becomes impractical. Exploring all neighborhoods up to distance $k$ for each pair of nodes would involve traversing an enormous number of edges and nodes, resulting in a significant computational burden.\n",
    "\n",
    "Additionally, nodes with very high degrees pose a specific challenge. These nodes, often referred to as \"hubs,\" have a large number of neighbors, making the neighborhood exploration even more time-consuming. The high degree of hubs leads to an increase in the size of the neighborhood sets, resulting in a higher number of intersections and unions to compute when calculating the Jaccard index.\n",
    "\n",
    "As a result, exact computation of the k-hops Jaccard index becomes infeasible for large graphs or scenarios where real-time or near-real-time analysis is required. Therefore, alternative approaches are needed to approximate the k-hops Jaccard index efficiently and effectively.\n",
    "\n",
    "## What is HyperLogLog?\n",
    "[HyperLogLog](https://github.com/LucaCappelletti94/hyperloglog-rs) is a probabilistic data structure designed for estimating the cardinality, or the number of distinct elements, in a set. It provides an efficient and scalable approach to estimate cardinalities, especially in scenarios where the cardinality of the set is extremely large. The implementation of HyperLogLog [available here](https://github.com/LucaCappelletti94/hyperloglog-rs) supports key operations such as adding elements to the set, merging sets, estimating the set cardinalities and, very relevantly to our case, estimating the Jaccard index between two sets.\n",
    "\n",
    "### Background and Motivation\n",
    "Traditional methods for exact cardinality estimation, such as maintaining a set or using a bitmap, can consume a significant amount of memory, especially when dealing with large datasets. Storing individual elements or using a bit to represent each element quickly becomes impractical in terms of memory requirements.\n",
    "\n",
    "[HyperLogLog](https://github.com/LucaCappelletti94/hyperloglog-rs) addresses this challenge by offering a compact representation of the set's cardinality with a controlled amount of memory. It achieves this by exploiting the properties of hash functions and probabilistic counting.\n",
    "\n",
    "### Basic Idea and Working Principle\n",
    "The basic idea behind [HyperLogLog](https://github.com/LucaCappelletti94/hyperloglog-rs) is to estimate the cardinality of a set by observing the distribution of hashed values. It leverages the fact that the leading zeros in the binary representation of a hash result follow a specific pattern when uniformly distributed.\n",
    "\n",
    "[HyperLogLog](https://github.com/LucaCappelletti94/hyperloglog-rs) achieves its estimation by dividing the input set into multiple subsets, each processed independently. It applies a hash function to each element in the set, and based on the resulting hash values, determines the maximum number of leading zeros seen in any hash. The maximum leading zeros are used to estimate the cardinality.\n",
    "\n",
    "### [HyperLogLog](https://github.com/LucaCappelletti94/hyperloglog-rs) Structure\n",
    "The [HyperLogLog](https://github.com/LucaCappelletti94/hyperloglog-rs) data structure consists of an array of registers, where each register stores a value representing the maximum number of leading zeros observed in the hash results. The number of registers is determined by the chosen precision parameter, which controls the accuracy of the estimation. Common values for the precision parameter $p$ range from $4$ to $16$, with derived number of registers $m=2^p$ ranging from $16$ to $65536$. Commonly, each register is represented by either $5$ or $6$ bits.\n",
    "\n",
    "### Estimation Accuracy and Error\n",
    "The accuracy of the [HyperLogLog](https://github.com/LucaCappelletti94/hyperloglog-rs) estimation depends on the chosen precision parameter. Increasing the precision results in a more accurate estimation but requires additional memory. The error rate, or the difference between the estimated and actual cardinality, is typically within a few percentage points.\n",
    "\n",
    "[HyperLogLog](https://github.com/LucaCappelletti94/hyperloglog-rs) provides a reliable estimation technique for large cardinalities while maintaining a fixed memory footprint, making it well-suited for big data and distributed computing environments.\n",
    "\n",
    "### Applications of HyperLogLog\n",
    "[HyperLogLog](https://github.com/LucaCappelletti94/hyperloglog-rs) has found numerous applications in various domains. Some notable applications include:\n",
    "\n",
    "* Web analytics: Estimating the number of unique visitors to a website or counting distinct IP addresses.\n",
    "* Database systems: Approximating the number of distinct values in large datasets without explicitly storing all values.\n",
    "* Network monitoring: Tracking the number of unique network flows or estimating the size of IP address pools.\n",
    "* Machine learning: Handling large feature spaces and estimating the number of distinct features.\n",
    "\n",
    "[HyperLogLog](https://github.com/LucaCappelletti94/hyperloglog-rs) provides a powerful and efficient approach to cardinality estimation, enabling scalable analysis and processing of large datasets while effectively managing memory consumption.\n",
    "\n",
    "## How to implement an efficient $k$-hops Jaccard estimator\n",
    "In the context of the GRAPE algorithm and the use of [HyperLogLog](https://github.com/LucaCappelletti94/hyperloglog-rs) counters, the $k$-hops Jaccard index is approximated efficiently by employing [HyperLogLog](https://github.com/LucaCappelletti94/hyperloglog-rs) counters to estimate the cardinality of neighboring nodes' sets. This approximation allows for scalable computation of the $k$-hops Jaccard index in large-scale graphs, enabling efficient graph analytics and machine learning tasks.\n",
    "\n",
    "The key idea behind the efficient $k$-hops Jaccard estimator is to leverage the properties of HyperLogLog counters and graph convolutions to estimate the Jaccard similarity between neighboring nodes up to $k$ hops. The approach involves the following steps:\n",
    "\n",
    "* Initialize HyperLogLog counters: Create a HyperLogLog counter for each node in the graph. The counters will be used to approximate the neighborhood sets of the nodes.\n",
    "* Perform $k$ iterations of graph convolutions: Iterate $k$ times, performing graph convolutions to update the HyperLogLog counters. During each iteration, the counters are updated based on the neighboring nodes' counters, incorporating the information from the previous iteration.\n",
    "* Estimate Jaccard similarity: Once the $k$ iterations are completed, the estimated Jaccard similarity between any two nodes can be calculated by comparing their corresponding HyperLogLog counters.\n",
    "\n",
    "```python\n",
    "# Initialize HyperLogLog counters\n",
    "counters = [HyperLogLog(PRECISION, BITS) for _ in range(graph.number_of_nodes())]\n",
    "previous_counters = counters.copy()\n",
    "\n",
    "# Perform k iterations of graph convolutions\n",
    "for _ in range(k):\n",
    "    # Iterate over nodes\n",
    "    for node_id, counter in enumerate(counters):\n",
    "        # We initialize a new counter\n",
    "        new_counter = HyperLogLog(PRECISION, BITS)\n",
    "        \n",
    "        # And we iterate over this nodes neighbours counters \n",
    "        for neighbor in graph.get_neighbors(node_id):\n",
    "            # We update the new counter with the previous counter of the neighbor\n",
    "            new_counter |= previous_counters[neighbor]\n",
    "        \n",
    "        # We update the counter of the current node\n",
    "        counter = new_counter | previous_counters[node_id]\n",
    "    \n",
    "    # We swap the counters\n",
    "    counters, previous_counters = previous_counters, counters\n",
    "\n",
    "# Now, the previous_counters in the last iteration contain the\n",
    "# estimated cardinality of the neighborhood of each node\n",
    "# up to k steps and we can use them for k-hops Jaccard estimation\n",
    "```\n",
    "\n"
   ]
  },
  {
   "attachments": {},
   "cell_type": "markdown",
   "id": "f15ee6fe",
   "metadata": {},
   "source": [
    "## Some pratical experiments\n",
    "In this section, we will conduct practical experiments using the approximated $k$-hops Jaccard algorithm on three different graphs: Human Phenotype Ontology, Homo Sapiens STRING PPI, and KGCOVID19. The goal is to evaluate how well the algorithm approximates the exact Jaccard similarity for $k=1$ and analyze the histograms for $k=2$ and $k=3$. We will emphasize that as $k$ increases, the exact Jaccard calculation becomes rapidly impractical, highlighting the importance of the approximated approach.\n",
    "\n",
    "### Graph Selection\n",
    "* [Human Phenotype Ontology](https://hpo.jax.org/app/): The Human Phenotype Ontology (HPO) is a widely used ontology that represents human phenotypic abnormalities and their relationships. It captures information about various diseases and their associated phenotypes. The graph represents connections between phenotypic abnormalities based on shared features.\n",
    "* [Homo Sapiens STRING PPI](https://string-db.org/): The Homo Sapiens STRING Protein-Protein Interaction (PPI) graph contains information about protein-protein interactions in humans. It represents connections between proteins based on experimental and computational evidence.\n",
    "* [KGCOVID19](https://pubmed.ncbi.nlm.nih.gov/32839776/): KGCOVID19 is a knowledge graph that integrates diverse data related to the COVID-19 pandemic. It contains information about various entities, including diseases, drugs, genes, and clinical trials, along with their relationships.\n",
    "\n",
    "### Evaluating Approximated Jaccard for $k=1$\n",
    "For each of the selected graphs, we will evaluate how well the approximated $k$-hops Jaccard algorithm estimates the exact Jaccard similarity for $k=1$. We will calculate the exact Jaccard similarity between neighboring nodes and compare it with the estimated Jaccard similarity obtained from the algorithm.\n",
    "\n",
    "By analyzing the similarity scores and comparing them with the exact values, we can assess the accuracy and reliability of the approximated approach for $k=1$. We will present statistical measures, such as mean absolute error or root mean square error, to quantitatively evaluate the estimation quality.\n",
    "\n",
    "### Histograms for $k=2$ and $k=3$\n",
    "Next, we will focus on exploring the histograms of Jaccard similarities for $k=2$ and $k=3$. Since calculating the exact Jaccard similarity for higher values of k becomes impractical due to computational complexity, the approximated approach provides a viable alternative to gain insights into the similarity patterns.\n",
    "\n",
    "By plotting histograms of the Jaccard similarities for $k=2$ and $k=3$, we can observe the distribution of similarity scores between neighboring nodes. This analysis helps us understand the degree of similarity between nodes at different hop distances and identify clusters or patterns within the graphs.\n",
    "\n",
    "We will visually compare the histograms obtained from the approximated approach with the theoretical expectations for the exact Jaccard similarity distribution. This comparison will allow us to assess the effectiveness of the approximated algorithm in capturing the underlying similarity patterns in the graphs."
   ]
  },
  {
   "attachments": {},
   "cell_type": "markdown",
   "id": "7e1dc034",
   "metadata": {},
   "source": [
    "We start by retrieving the graphs from GRAPE graph retrieval system:"
   ]
  },
  {
   "cell_type": "code",
   "execution_count": 4,
   "id": "0a6b4098",
   "metadata": {},
   "outputs": [
    {
     "name": "stdout",
     "output_type": "stream",
     "text": [
      "CPU times: user 68.8 ms, sys: 20.2 ms, total: 89 ms\n",
      "Wall time: 88.7 ms\n"
     ]
    }
   ],
   "source": [
    "%%time\n",
    "from grape.datasets.kgobo import HP\n",
    "from grape.datasets.string import HomoSapiens\n",
    "from grape.datasets.kghub import KGCOVID19"
   ]
  },
  {
   "attachments": {},
   "cell_type": "markdown",
   "id": "5403652a",
   "metadata": {},
   "source": [
    "We retrieve from GRAPE the HyperBall-based k-hops Jaccard model."
   ]
  },
  {
   "cell_type": "code",
   "execution_count": 5,
   "id": "e6d12e6f",
   "metadata": {},
   "outputs": [],
   "source": [
    "from grape import models\n",
    "\n",
    "HyperBallJaccard = models.HyperBallJaccard"
   ]
  },
  {
   "attachments": {},
   "cell_type": "markdown",
   "id": "53176207",
   "metadata": {},
   "source": [
    "To clean up the code, we define a function that will be used to display the results of the experiments."
   ]
  },
  {
   "cell_type": "code",
   "execution_count": 32,
   "id": "980d6cce",
   "metadata": {},
   "outputs": [],
   "source": [
    "from IPython.display import display, Markdown\n",
    "from grape import Graph\n",
    "import pandas as pd\n",
    "import numpy as np\n",
    "import matplotlib.pyplot as plt\n",
    "from time import time\n",
    "from tqdm.auto import trange\n",
    "\n",
    "def experiment(graph: Graph):\n",
    "    \"\"\"Display the experiment results for a given graph.\"\"\"\n",
    "\n",
    "    display(Markdown(f\"## Experiments on {graph.get_name()}\"))\n",
    "    display(Markdown(f\"We use the {graph.get_name()} graph with {graph.get_number_of_nodes()} nodes and {graph.get_number_of_directed_edges()} edges.\"))\n",
    "    # First portion, experiments for k=1\n",
    "    display(Markdown(f\"### Approximated Jaccard for k=1\"))\n",
    "    display(Markdown(f\"We estimate the error between the exact Jaccard and the approximated Jaccard for k=1 for different values of precision for bits=6.\"))\n",
    "\n",
    "    results = []\n",
    "    # We compute the exact Jaccard for all edges in the graph.\n",
    "    start = time()\n",
    "    exact_jaccard = graph.get_jaccard_coefficient_scores()\n",
    "    time_required_for_exact_jaccard = time() - start\n",
    "\n",
    "    display(Markdown(f\"Time required for computing the exact Jaccard: {time_required_for_exact_jaccard:.6f} seconds.\"))\n",
    "\n",
    "    for precision in trange(6, 14, leave=False):\n",
    "        model = HyperBallJaccard(number_of_hops=1, precision=precision, bits=6)\n",
    "        start = time()\n",
    "        model.fit(graph)\n",
    "        approximated_jaccard = model.predict(graph)\n",
    "        time_required_for_approximated_jaccard = time() - start\n",
    "        error_mse = ((exact_jaccard - approximated_jaccard) ** 2).mean()\n",
    "        error_mae = np.abs(exact_jaccard - approximated_jaccard).mean()\n",
    "        results.append({\n",
    "            \"precision\": precision,\n",
    "            \"k\": 1,\n",
    "            \"error_mse\": error_mse,\n",
    "            \"error_mae\": error_mae,\n",
    "            \"time\": time_required_for_approximated_jaccard\n",
    "        })\n",
    "    \n",
    "    dataframe = pd.DataFrame(results)\n",
    "    display(Markdown(f\"The following table shows the results for the different values of precision.\"))\n",
    "    display(dataframe)\n",
    "    display(Markdown(f\"The following figure shows the results for the different values of precision.\"))\n",
    "    plt.figure(figsize=(10, 5))\n",
    "    plt.plot(dataframe[\"precision\"], dataframe[\"error_mse\"], label=\"MSE\")\n",
    "    plt.plot(dataframe[\"precision\"], dataframe[\"error_mae\"], label=\"MAE\")\n",
    "    plt.xlabel(\"Precision\")\n",
    "    plt.ylabel(\"Error\")\n",
    "    plt.legend()\n",
    "    plt.show()\n",
    "    display(Markdown(f\"The following figure shows the time required for the different values of precision.\"))\n",
    "    plt.figure(figsize=(10, 5))\n",
    "    plt.plot(dataframe[\"precision\"], dataframe[\"time\"])\n",
    "    plt.xlabel(\"Precision\")\n",
    "    plt.ylabel(\"Time (seconds)\")\n",
    "    plt.show()\n",
    "    \n",
    "    display(Markdown(f\"### Approximated Jaccard for k=2 and k=3\"))\n",
    "    # Second portion, experiments for k=2 and k=3\n",
    "    for k in [2, 3]:\n",
    "        for precision in trange(6, 14, leave=False):\n",
    "            model = HyperBallJaccard(number_of_hops=k, precision=precision, bits=6)\n",
    "            start = time()\n",
    "            model.fit(graph)\n",
    "            approximated_jaccard = model.predict(graph)\n",
    "            time_required_for_approximated_jaccard = time() - start\n",
    "            results.append({\n",
    "                \"precision\": precision,\n",
    "                \"k\": k,\n",
    "                \"time\": time_required_for_approximated_jaccard\n",
    "            })\n",
    "    \n",
    "    # We create plots showing the different time requirements for the different values of k\n",
    "    # for different values of precision. On the same plot, we show the time required for the\n",
    "    # different k-hops, and the different precisions on the x-axis, while time on the y-axis.\n",
    "    dataframe = pd.DataFrame(results)\n",
    "    display(Markdown(f\"The following plots show the time requirements for different precisions and number of k hops.\"))\n",
    "\n",
    "    plt.figure(figsize=(10, 5))\n",
    "    for k in [1, 2, 3]:\n",
    "        plt.plot(dataframe[dataframe[\"k\"] == k][\"precision\"], dataframe[dataframe[\"k\"] == k][\"time\"], label=f\"k={k}\")\n",
    "    plt.xlabel(\"Precision\")\n",
    "    plt.ylabel(\"Time (seconds)\")\n",
    "    plt.legend()\n",
    "    plt.show()\n",
    "\n",
    "    # We show side by side an histograph with the approximated Jaccard for k=1 and the exact one.\n",
    "    display(Markdown(f\"The following figure shows the distribution of the exact Jaccard (k=1) and approximated Jaccard for k=1.\"))\n",
    "    plt.figure(figsize=(10, 5))\n",
    "    plt.hist(exact_jaccard, bins=100, label=\"Exact Jaccard\", alpha=0.5)\n",
    "    model = HyperBallJaccard(number_of_hops=1, precision=12, bits=6)\n",
    "    model.fit(graph)\n",
    "    approximated_jaccard = model.predict(graph)\n",
    "    plt.hist(approximated_jaccard, bins=100, label=\"k=1\", alpha=0.5)\n",
    "    plt.xlabel(\"k-hops Jaccard\")\n",
    "    plt.ylabel(\"Number of edges\")\n",
    "    plt.legend()\n",
    "    plt.show()\n",
    "    \n",
    "    # Finally, we show an histogram showing the values of the approximated Jaccard for k=1, k=2 and k=3.\n",
    "    display(Markdown(f\"The following figure shows the distribution of the exact Jaccard (k=1) and approximated Jaccard for k=1, k=2 and k=3.\"))\n",
    "    plt.figure(figsize=(10, 5))\n",
    "    plt.hist(exact_jaccard, bins=100, label=\"Exact Jaccard\", alpha=0.5)\n",
    "    for k in [1, 2, 3]:\n",
    "        model = HyperBallJaccard(number_of_hops=k, precision=12, bits=6)\n",
    "        model.fit(graph)\n",
    "        approximated_jaccard = model.predict(graph)\n",
    "        plt.hist(approximated_jaccard, bins=100, label=f\"k={k}\", alpha=0.5)\n",
    "    plt.xlabel(\"k-hops Jaccard\")\n",
    "    plt.ylabel(\"Number of edges\")\n",
    "    plt.legend()\n",
    "    plt.show()"
   ]
  },
  {
   "cell_type": "code",
   "execution_count": 33,
   "id": "e90968b2",
   "metadata": {},
   "outputs": [
    {
     "name": "stdout",
     "output_type": "stream",
     "text": [
      "CPU times: user 156 ms, sys: 2.56 ms, total: 159 ms\n",
      "Wall time: 27 ms\n"
     ]
    }
   ],
   "source": [
    "%%time\n",
    "hp = HP()"
   ]
  },
  {
   "cell_type": "code",
   "execution_count": 34,
   "id": "23f5ba8d",
   "metadata": {},
   "outputs": [
    {
     "data": {
      "text/markdown": [
       "## Experiments on HP"
      ],
      "text/plain": [
       "<IPython.core.display.Markdown object>"
      ]
     },
     "metadata": {},
     "output_type": "display_data"
    },
    {
     "data": {
      "text/markdown": [
       "We use the HP graph with 31854 nodes and 134167 edges."
      ],
      "text/plain": [
       "<IPython.core.display.Markdown object>"
      ]
     },
     "metadata": {},
     "output_type": "display_data"
    },
    {
     "data": {
      "text/markdown": [
       "### Approximated Jaccard for k=1"
      ],
      "text/plain": [
       "<IPython.core.display.Markdown object>"
      ]
     },
     "metadata": {},
     "output_type": "display_data"
    },
    {
     "data": {
      "text/markdown": [
       "We estimate the error between the exact Jaccard and the approximated Jaccard for k=1 for different values of precision for bits=6."
      ],
      "text/plain": [
       "<IPython.core.display.Markdown object>"
      ]
     },
     "metadata": {},
     "output_type": "display_data"
    },
    {
     "data": {
      "text/markdown": [
       "Time required for computing the exact Jaccard: 0.001761 seconds."
      ],
      "text/plain": [
       "<IPython.core.display.Markdown object>"
      ]
     },
     "metadata": {},
     "output_type": "display_data"
    },
    {
     "data": {
      "application/vnd.jupyter.widget-view+json": {
       "model_id": "787cb2f5c63c45e389ac85687d2984ec",
       "version_major": 2,
       "version_minor": 0
      },
      "text/plain": [
       "  0%|          | 0/8 [00:00<?, ?it/s]"
      ]
     },
     "metadata": {},
     "output_type": "display_data"
    },
    {
     "data": {
      "text/markdown": [
       "The following table shows the results for the different values of precision."
      ],
      "text/plain": [
       "<IPython.core.display.Markdown object>"
      ]
     },
     "metadata": {},
     "output_type": "display_data"
    },
    {
     "data": {
      "text/html": [
       "<div>\n",
       "<style scoped>\n",
       "    .dataframe tbody tr th:only-of-type {\n",
       "        vertical-align: middle;\n",
       "    }\n",
       "\n",
       "    .dataframe tbody tr th {\n",
       "        vertical-align: top;\n",
       "    }\n",
       "\n",
       "    .dataframe thead th {\n",
       "        text-align: right;\n",
       "    }\n",
       "</style>\n",
       "<table border=\"1\" class=\"dataframe\">\n",
       "  <thead>\n",
       "    <tr style=\"text-align: right;\">\n",
       "      <th></th>\n",
       "      <th>precision</th>\n",
       "      <th>k</th>\n",
       "      <th>error_mse</th>\n",
       "      <th>error_mae</th>\n",
       "      <th>time</th>\n",
       "    </tr>\n",
       "  </thead>\n",
       "  <tbody>\n",
       "    <tr>\n",
       "      <th>0</th>\n",
       "      <td>6</td>\n",
       "      <td>1</td>\n",
       "      <td>0.046033</td>\n",
       "      <td>0.165079</td>\n",
       "      <td>0.003242</td>\n",
       "    </tr>\n",
       "    <tr>\n",
       "      <th>1</th>\n",
       "      <td>7</td>\n",
       "      <td>1</td>\n",
       "      <td>0.043743</td>\n",
       "      <td>0.162028</td>\n",
       "      <td>0.005270</td>\n",
       "    </tr>\n",
       "    <tr>\n",
       "      <th>2</th>\n",
       "      <td>8</td>\n",
       "      <td>1</td>\n",
       "      <td>0.042903</td>\n",
       "      <td>0.161110</td>\n",
       "      <td>0.010725</td>\n",
       "    </tr>\n",
       "    <tr>\n",
       "      <th>3</th>\n",
       "      <td>9</td>\n",
       "      <td>1</td>\n",
       "      <td>0.042510</td>\n",
       "      <td>0.160656</td>\n",
       "      <td>0.020626</td>\n",
       "    </tr>\n",
       "    <tr>\n",
       "      <th>4</th>\n",
       "      <td>10</td>\n",
       "      <td>1</td>\n",
       "      <td>0.042316</td>\n",
       "      <td>0.160469</td>\n",
       "      <td>0.039086</td>\n",
       "    </tr>\n",
       "    <tr>\n",
       "      <th>5</th>\n",
       "      <td>11</td>\n",
       "      <td>1</td>\n",
       "      <td>0.042234</td>\n",
       "      <td>0.160412</td>\n",
       "      <td>0.078511</td>\n",
       "    </tr>\n",
       "    <tr>\n",
       "      <th>6</th>\n",
       "      <td>12</td>\n",
       "      <td>1</td>\n",
       "      <td>0.042165</td>\n",
       "      <td>0.160332</td>\n",
       "      <td>0.159253</td>\n",
       "    </tr>\n",
       "    <tr>\n",
       "      <th>7</th>\n",
       "      <td>13</td>\n",
       "      <td>1</td>\n",
       "      <td>0.042097</td>\n",
       "      <td>0.160265</td>\n",
       "      <td>0.315349</td>\n",
       "    </tr>\n",
       "  </tbody>\n",
       "</table>\n",
       "</div>"
      ],
      "text/plain": [
       "   precision  k  error_mse  error_mae      time\n",
       "0          6  1   0.046033   0.165079  0.003242\n",
       "1          7  1   0.043743   0.162028  0.005270\n",
       "2          8  1   0.042903   0.161110  0.010725\n",
       "3          9  1   0.042510   0.160656  0.020626\n",
       "4         10  1   0.042316   0.160469  0.039086\n",
       "5         11  1   0.042234   0.160412  0.078511\n",
       "6         12  1   0.042165   0.160332  0.159253\n",
       "7         13  1   0.042097   0.160265  0.315349"
      ]
     },
     "metadata": {},
     "output_type": "display_data"
    },
    {
     "data": {
      "text/markdown": [
       "The following figure shows the results for the different values of precision."
      ],
      "text/plain": [
       "<IPython.core.display.Markdown object>"
      ]
     },
     "metadata": {},
     "output_type": "display_data"
    },
    {
     "data": {
      "image/png": "[encoded data removed]",
      "text/plain": [
       "<Figure size 720x360 with 1 Axes>"
      ]
     },
     "metadata": {
      "needs_background": "light"
     },
     "output_type": "display_data"
    },
    {
     "data": {
      "text/markdown": [
       "The following figure shows the time required for the different values of precision."
      ],
      "text/plain": [
       "<IPython.core.display.Markdown object>"
      ]
     },
     "metadata": {},
     "output_type": "display_data"
    },
    {
     "data": {
      "image/png": "[encoded data removed]",
      "text/plain": [
       "<Figure size 720x360 with 1 Axes>"
      ]
     },
     "metadata": {
      "needs_background": "light"
     },
     "output_type": "display_data"
    },
    {
     "data": {
      "text/markdown": [
       "### Approximated Jaccard for k=2 and k=3"
      ],
      "text/plain": [
       "<IPython.core.display.Markdown object>"
      ]
     },
     "metadata": {},
     "output_type": "display_data"
    },
    {
     "data": {
      "application/vnd.jupyter.widget-view+json": {
       "model_id": "7cdbab924e3645449441dfd2152aaa24",
       "version_major": 2,
       "version_minor": 0
      },
      "text/plain": [
       "  0%|          | 0/8 [00:00<?, ?it/s]"
      ]
     },
     "metadata": {},
     "output_type": "display_data"
    },
    {
     "data": {
      "application/vnd.jupyter.widget-view+json": {
       "model_id": "12410f1359dd4ebfb00a2c88c45969f6",
       "version_major": 2,
       "version_minor": 0
      },
      "text/plain": [
       "  0%|          | 0/8 [00:00<?, ?it/s]"
      ]
     },
     "metadata": {},
     "output_type": "display_data"
    },
    {
     "data": {
      "text/markdown": [
       "The following plots show the time requirements for different precisions and number of k hops."
      ],
      "text/plain": [
       "<IPython.core.display.Markdown object>"
      ]
     },
     "metadata": {},
     "output_type": "display_data"
    },
    {
     "data": {
      "image/png": "[encoded data removed]",
      "text/plain": [
       "<Figure size 720x360 with 1 Axes>"
      ]
     },
     "metadata": {
      "needs_background": "light"
     },
     "output_type": "display_data"
    },
    {
     "data": {
      "text/markdown": [
       "The following figure shows the distribution of the exact Jaccard (k=1) and approximated Jaccard for k=1."
      ],
      "text/plain": [
       "<IPython.core.display.Markdown object>"
      ]
     },
     "metadata": {},
     "output_type": "display_data"
    },
    {
     "data": {
      "image/png": "[encoded data removed]",
      "text/plain": [
       "<Figure size 720x360 with 1 Axes>"
      ]
     },
     "metadata": {
      "needs_background": "light"
     },
     "output_type": "display_data"
    },
    {
     "data": {
      "text/markdown": [
       "The following figure shows the distribution of the exact Jaccard (k=1) and approximated Jaccard for k=1, k=2 and k=3."
      ],
      "text/plain": [
       "<IPython.core.display.Markdown object>"
      ]
     },
     "metadata": {},
     "output_type": "display_data"
    },
    {
     "data": {
      "image/png": "[encoded data removed]",
      "text/plain": [
       "<Figure size 720x360 with 1 Axes>"
      ]
     },
     "metadata": {
      "needs_background": "light"
     },
     "output_type": "display_data"
    }
   ],
   "source": [
    "experiment(hp)"
   ]
  },
  {
   "attachments": {},
   "cell_type": "markdown",
   "id": "af68e9f4",
   "metadata": {},
   "source": [
    "We observe that for a graph extremely sparse like HPO, the approximation is not very good. This is due to the fact that the graph is extremely sparse. This means that the number of nodes that we need to explore to get to a certain distance is very high. This is a problem that is not present in the other two graphs."
   ]
  },
  {
   "attachments": {},
   "cell_type": "markdown",
   "id": "14f7c42a",
   "metadata": {},
   "source": [
    "Let's bump it up a notch, and we move to STRING Homo Sapiens:"
   ]
  },
  {
   "cell_type": "code",
   "execution_count": 35,
   "id": "d19c6077",
   "metadata": {},
   "outputs": [
    {
     "data": {
      "application/vnd.jupyter.widget-view+json": {
       "model_id": "fef56d8e0b594b8ea5887de33d0d9522",
       "version_major": 2,
       "version_minor": 0
      },
      "text/plain": [
       "Downloading files:   0%|          | 0/4 [00:00<?, ?it/s]"
      ]
     },
     "metadata": {},
     "output_type": "display_data"
    },
    {
     "data": {
      "application/vnd.jupyter.widget-view+json": {
       "model_id": "e95a304f05024fe9b6681c226fd5cbe9",
       "version_major": 2,
       "version_minor": 0
      },
      "text/plain": [
       "Downloading to graphs/string/Ho...inks.v11.5.txt.gz:   0%|          | 0.00/72.7M [00:00<?, ?iB/s]"
      ]
     },
     "metadata": {},
     "output_type": "display_data"
    },
    {
     "data": {
      "application/vnd.jupyter.widget-view+json": {
       "model_id": "8b042a06b64143708f087d2f1daed658",
       "version_major": 2,
       "version_minor": 0
      },
      "text/plain": [
       "Downloading to graphs/string/Ho...erms.v11.5.txt.gz:   0%|          | 0.00/38.3M [00:00<?, ?iB/s]"
      ]
     },
     "metadata": {},
     "output_type": "display_data"
    },
    {
     "data": {
      "application/vnd.jupyter.widget-view+json": {
       "model_id": "1469dba9b4e84c919ae3cb8cc001665a",
       "version_major": 2,
       "version_minor": 0
      },
      "text/plain": [
       "Downloading to graphs/string/Ho...info.v11.5.txt.gz:   0%|          | 0.00/1.90M [00:00<?, ?iB/s]"
      ]
     },
     "metadata": {},
     "output_type": "display_data"
    },
    {
     "data": {
      "application/vnd.jupyter.widget-view+json": {
       "model_id": "01cce32b8471406089173b65327beb09",
       "version_major": 2,
       "version_minor": 0
      },
      "text/plain": [
       "Downloading to graphs/string/Ho...ences.v11.5.fa.gz:   0%|          | 0.00/6.70M [00:00<?, ?iB/s]"
      ]
     },
     "metadata": {},
     "output_type": "display_data"
    },
    {
     "name": "stdout",
     "output_type": "stream",
     "text": [
      "CPU times: user 34 s, sys: 1.32 s, total: 35.3 s\n",
      "Wall time: 1min 11s\n"
     ]
    }
   ],
   "source": [
    "%%time\n",
    "string = HomoSapiens()"
   ]
  },
  {
   "cell_type": "code",
   "execution_count": 36,
   "id": "a553f5f0",
   "metadata": {},
   "outputs": [
    {
     "data": {
      "text/markdown": [
       "## Experiments on HomoSapiens"
      ],
      "text/plain": [
       "<IPython.core.display.Markdown object>"
      ]
     },
     "metadata": {},
     "output_type": "display_data"
    },
    {
     "data": {
      "text/markdown": [
       "We use the HomoSapiens graph with 19566 nodes and 11938498 edges."
      ],
      "text/plain": [
       "<IPython.core.display.Markdown object>"
      ]
     },
     "metadata": {},
     "output_type": "display_data"
    },
    {
     "data": {
      "text/markdown": [
       "### Approximated Jaccard for k=1"
      ],
      "text/plain": [
       "<IPython.core.display.Markdown object>"
      ]
     },
     "metadata": {},
     "output_type": "display_data"
    },
    {
     "data": {
      "text/markdown": [
       "We estimate the error between the exact Jaccard and the approximated Jaccard for k=1 for different values of precision for bits=6."
      ],
      "text/plain": [
       "<IPython.core.display.Markdown object>"
      ]
     },
     "metadata": {},
     "output_type": "display_data"
    },
    {
     "data": {
      "text/markdown": [
       "Time required for computing the exact Jaccard: 2.014556 seconds."
      ],
      "text/plain": [
       "<IPython.core.display.Markdown object>"
      ]
     },
     "metadata": {},
     "output_type": "display_data"
    },
    {
     "data": {
      "application/vnd.jupyter.widget-view+json": {
       "model_id": "de98609afc1f4a1780925b377581cedc",
       "version_major": 2,
       "version_minor": 0
      },
      "text/plain": [
       "  0%|          | 0/8 [00:00<?, ?it/s]"
      ]
     },
     "metadata": {},
     "output_type": "display_data"
    },
    {
     "data": {
      "text/markdown": [
       "The following table shows the results for the different values of precision."
      ],
      "text/plain": [
       "<IPython.core.display.Markdown object>"
      ]
     },
     "metadata": {},
     "output_type": "display_data"
    },
    {
     "data": {
      "text/html": [
       "<div>\n",
       "<style scoped>\n",
       "    .dataframe tbody tr th:only-of-type {\n",
       "        vertical-align: middle;\n",
       "    }\n",
       "\n",
       "    .dataframe tbody tr th {\n",
       "        vertical-align: top;\n",
       "    }\n",
       "\n",
       "    .dataframe thead th {\n",
       "        text-align: right;\n",
       "    }\n",
       "</style>\n",
       "<table border=\"1\" class=\"dataframe\">\n",
       "  <thead>\n",
       "    <tr style=\"text-align: right;\">\n",
       "      <th></th>\n",
       "      <th>precision</th>\n",
       "      <th>k</th>\n",
       "      <th>error_mse</th>\n",
       "      <th>error_mae</th>\n",
       "      <th>time</th>\n",
       "    </tr>\n",
       "  </thead>\n",
       "  <tbody>\n",
       "    <tr>\n",
       "      <th>0</th>\n",
       "      <td>6</td>\n",
       "      <td>1</td>\n",
       "      <td>0.047434</td>\n",
       "      <td>0.197541</td>\n",
       "      <td>0.170696</td>\n",
       "    </tr>\n",
       "    <tr>\n",
       "      <th>1</th>\n",
       "      <td>7</td>\n",
       "      <td>1</td>\n",
       "      <td>0.019382</td>\n",
       "      <td>0.123730</td>\n",
       "      <td>0.320738</td>\n",
       "    </tr>\n",
       "    <tr>\n",
       "      <th>2</th>\n",
       "      <td>8</td>\n",
       "      <td>1</td>\n",
       "      <td>0.009643</td>\n",
       "      <td>0.085514</td>\n",
       "      <td>0.627429</td>\n",
       "    </tr>\n",
       "    <tr>\n",
       "      <th>3</th>\n",
       "      <td>9</td>\n",
       "      <td>1</td>\n",
       "      <td>0.001948</td>\n",
       "      <td>0.034622</td>\n",
       "      <td>1.239763</td>\n",
       "    </tr>\n",
       "    <tr>\n",
       "      <th>4</th>\n",
       "      <td>10</td>\n",
       "      <td>1</td>\n",
       "      <td>0.000564</td>\n",
       "      <td>0.018400</td>\n",
       "      <td>2.458316</td>\n",
       "    </tr>\n",
       "    <tr>\n",
       "      <th>5</th>\n",
       "      <td>11</td>\n",
       "      <td>1</td>\n",
       "      <td>0.000167</td>\n",
       "      <td>0.010152</td>\n",
       "      <td>4.853841</td>\n",
       "    </tr>\n",
       "    <tr>\n",
       "      <th>6</th>\n",
       "      <td>12</td>\n",
       "      <td>1</td>\n",
       "      <td>0.000068</td>\n",
       "      <td>0.006505</td>\n",
       "      <td>9.629727</td>\n",
       "    </tr>\n",
       "    <tr>\n",
       "      <th>7</th>\n",
       "      <td>13</td>\n",
       "      <td>1</td>\n",
       "      <td>0.000031</td>\n",
       "      <td>0.004373</td>\n",
       "      <td>19.472815</td>\n",
       "    </tr>\n",
       "  </tbody>\n",
       "</table>\n",
       "</div>"
      ],
      "text/plain": [
       "   precision  k  error_mse  error_mae       time\n",
       "0          6  1   0.047434   0.197541   0.170696\n",
       "1          7  1   0.019382   0.123730   0.320738\n",
       "2          8  1   0.009643   0.085514   0.627429\n",
       "3          9  1   0.001948   0.034622   1.239763\n",
       "4         10  1   0.000564   0.018400   2.458316\n",
       "5         11  1   0.000167   0.010152   4.853841\n",
       "6         12  1   0.000068   0.006505   9.629727\n",
       "7         13  1   0.000031   0.004373  19.472815"
      ]
     },
     "metadata": {},
     "output_type": "display_data"
    },
    {
     "data": {
      "text/markdown": [
       "The following figure shows the results for the different values of precision."
      ],
      "text/plain": [
       "<IPython.core.display.Markdown object>"
      ]
     },
     "metadata": {},
     "output_type": "display_data"
    },
    {
     "data": {
      "image/png": "[encoded data removed]",
      "text/plain": [
       "<Figure size 720x360 with 1 Axes>"
      ]
     },
     "metadata": {
      "needs_background": "light"
     },
     "output_type": "display_data"
    },
    {
     "data": {
      "text/markdown": [
       "The following figure shows the time required for the different values of precision."
      ],
      "text/plain": [
       "<IPython.core.display.Markdown object>"
      ]
     },
     "metadata": {},
     "output_type": "display_data"
    },
    {
     "data": {
      "image/png": "[encoded data removed]",
      "text/plain": [
       "<Figure size 720x360 with 1 Axes>"
      ]
     },
     "metadata": {
      "needs_background": "light"
     },
     "output_type": "display_data"
    },
    {
     "data": {
      "text/markdown": [
       "### Approximated Jaccard for k=2 and k=3"
      ],
      "text/plain": [
       "<IPython.core.display.Markdown object>"
      ]
     },
     "metadata": {},
     "output_type": "display_data"
    },
    {
     "data": {
      "application/vnd.jupyter.widget-view+json": {
       "model_id": "5c1b3204f7744a2ca0a4ffb42cf06ac0",
       "version_major": 2,
       "version_minor": 0
      },
      "text/plain": [
       "  0%|          | 0/8 [00:00<?, ?it/s]"
      ]
     },
     "metadata": {},
     "output_type": "display_data"
    },
    {
     "data": {
      "application/vnd.jupyter.widget-view+json": {
       "model_id": "24b82e0380b54327a09aa2accfa3d60d",
       "version_major": 2,
       "version_minor": 0
      },
      "text/plain": [
       "  0%|          | 0/8 [00:00<?, ?it/s]"
      ]
     },
     "metadata": {},
     "output_type": "display_data"
    },
    {
     "data": {
      "text/markdown": [
       "The following plots show the time requirements for different precisions and number of k hops."
      ],
      "text/plain": [
       "<IPython.core.display.Markdown object>"
      ]
     },
     "metadata": {},
     "output_type": "display_data"
    },
    {
     "data": {
      "image/png": "[encoded data removed]",
      "text/plain": [
       "<Figure size 720x360 with 1 Axes>"
      ]
     },
     "metadata": {
      "needs_background": "light"
     },
     "output_type": "display_data"
    },
    {
     "data": {
      "text/markdown": [
       "The following figure shows the distribution of the exact Jaccard (k=1) and approximated Jaccard for k=1."
      ],
      "text/plain": [
       "<IPython.core.display.Markdown object>"
      ]
     },
     "metadata": {},
     "output_type": "display_data"
    },
    {
     "data": {
      "image/png": "[encoded data removed]",
      "text/plain": [
       "<Figure size 720x360 with 1 Axes>"
      ]
     },
     "metadata": {
      "needs_background": "light"
     },
     "output_type": "display_data"
    },
    {
     "data": {
      "text/markdown": [
       "The following figure shows the distribution of the exact Jaccard (k=1) and approximated Jaccard for k=1, k=2 and k=3."
      ],
      "text/plain": [
       "<IPython.core.display.Markdown object>"
      ]
     },
     "metadata": {},
     "output_type": "display_data"
    },
    {
     "data": {
      "image/png": "[encoded data removed]",
      "text/plain": [
       "<Figure size 720x360 with 1 Axes>"
      ]
     },
     "metadata": {
      "needs_background": "light"
     },
     "output_type": "display_data"
    }
   ],
   "source": [
    "experiment(string)"
   ]
  },
  {
   "cell_type": "code",
   "execution_count": 37,
   "id": "b242503d",
   "metadata": {},
   "outputs": [
    {
     "data": {
      "application/vnd.jupyter.widget-view+json": {
       "model_id": "3eb2a15c732c43a58daa9af26b0dc9d4",
       "version_major": 2,
       "version_minor": 0
      },
      "text/plain": [
       "Downloading to graphs/kghub/KGC...g-covid-19.tar.gz:   0%|          | 0.00/825M [00:00<?, ?iB/s]"
      ]
     },
     "metadata": {},
     "output_type": "display_data"
    },
    {
     "name": "stdout",
     "output_type": "stream",
     "text": [
      "CPU times: user 1min 9s, sys: 5.11 s, total: 1min 15s\n",
      "Wall time: 4min 40s\n"
     ]
    }
   ],
   "source": [
    "%%time\n",
    "kgcovid19 = KGCOVID19()"
   ]
  },
  {
   "cell_type": "code",
   "execution_count": 38,
   "id": "227b1d9e",
   "metadata": {},
   "outputs": [
    {
     "data": {
      "text/markdown": [
       "## Experiments on KGCOVID19"
      ],
      "text/plain": [
       "<IPython.core.display.Markdown object>"
      ]
     },
     "metadata": {},
     "output_type": "display_data"
    },
    {
     "data": {
      "text/markdown": [
       "We use the KGCOVID19 graph with 574778 nodes and 36509132 edges."
      ],
      "text/plain": [
       "<IPython.core.display.Markdown object>"
      ]
     },
     "metadata": {},
     "output_type": "display_data"
    },
    {
     "data": {
      "text/markdown": [
       "### Approximated Jaccard for k=1"
      ],
      "text/plain": [
       "<IPython.core.display.Markdown object>"
      ]
     },
     "metadata": {},
     "output_type": "display_data"
    },
    {
     "data": {
      "text/markdown": [
       "We estimate the error between the exact Jaccard and the approximated Jaccard for k=1 for different values of precision for bits=6."
      ],
      "text/plain": [
       "<IPython.core.display.Markdown object>"
      ]
     },
     "metadata": {},
     "output_type": "display_data"
    },
    {
     "data": {
      "text/markdown": [
       "Time required for computing the exact Jaccard: 5.039388 seconds."
      ],
      "text/plain": [
       "<IPython.core.display.Markdown object>"
      ]
     },
     "metadata": {},
     "output_type": "display_data"
    },
    {
     "data": {
      "application/vnd.jupyter.widget-view+json": {
       "model_id": "b2deefa9462d4d09910e86a4dee3c645",
       "version_major": 2,
       "version_minor": 0
      },
      "text/plain": [
       "  0%|          | 0/8 [00:00<?, ?it/s]"
      ]
     },
     "metadata": {},
     "output_type": "display_data"
    },
    {
     "data": {
      "text/markdown": [
       "The following table shows the results for the different values of precision."
      ],
      "text/plain": [
       "<IPython.core.display.Markdown object>"
      ]
     },
     "metadata": {},
     "output_type": "display_data"
    },
    {
     "data": {
      "text/html": [
       "<div>\n",
       "<style scoped>\n",
       "    .dataframe tbody tr th:only-of-type {\n",
       "        vertical-align: middle;\n",
       "    }\n",
       "\n",
       "    .dataframe tbody tr th {\n",
       "        vertical-align: top;\n",
       "    }\n",
       "\n",
       "    .dataframe thead th {\n",
       "        text-align: right;\n",
       "    }\n",
       "</style>\n",
       "<table border=\"1\" class=\"dataframe\">\n",
       "  <thead>\n",
       "    <tr style=\"text-align: right;\">\n",
       "      <th></th>\n",
       "      <th>precision</th>\n",
       "      <th>k</th>\n",
       "      <th>error_mse</th>\n",
       "      <th>error_mae</th>\n",
       "      <th>time</th>\n",
       "    </tr>\n",
       "  </thead>\n",
       "  <tbody>\n",
       "    <tr>\n",
       "      <th>0</th>\n",
       "      <td>6</td>\n",
       "      <td>1</td>\n",
       "      <td>0.022571</td>\n",
       "      <td>0.109279</td>\n",
       "      <td>0.631887</td>\n",
       "    </tr>\n",
       "    <tr>\n",
       "      <th>1</th>\n",
       "      <td>7</td>\n",
       "      <td>1</td>\n",
       "      <td>0.009301</td>\n",
       "      <td>0.066999</td>\n",
       "      <td>1.254572</td>\n",
       "    </tr>\n",
       "    <tr>\n",
       "      <th>2</th>\n",
       "      <td>8</td>\n",
       "      <td>1</td>\n",
       "      <td>0.004367</td>\n",
       "      <td>0.042979</td>\n",
       "      <td>2.419945</td>\n",
       "    </tr>\n",
       "    <tr>\n",
       "      <th>3</th>\n",
       "      <td>9</td>\n",
       "      <td>1</td>\n",
       "      <td>0.001425</td>\n",
       "      <td>0.018909</td>\n",
       "      <td>4.788905</td>\n",
       "    </tr>\n",
       "    <tr>\n",
       "      <th>4</th>\n",
       "      <td>10</td>\n",
       "      <td>1</td>\n",
       "      <td>0.000903</td>\n",
       "      <td>0.011510</td>\n",
       "      <td>9.215323</td>\n",
       "    </tr>\n",
       "    <tr>\n",
       "      <th>5</th>\n",
       "      <td>11</td>\n",
       "      <td>1</td>\n",
       "      <td>0.000756</td>\n",
       "      <td>0.008152</td>\n",
       "      <td>17.850767</td>\n",
       "    </tr>\n",
       "    <tr>\n",
       "      <th>6</th>\n",
       "      <td>12</td>\n",
       "      <td>1</td>\n",
       "      <td>0.000708</td>\n",
       "      <td>0.006446</td>\n",
       "      <td>35.191057</td>\n",
       "    </tr>\n",
       "    <tr>\n",
       "      <th>7</th>\n",
       "      <td>13</td>\n",
       "      <td>1</td>\n",
       "      <td>0.000692</td>\n",
       "      <td>0.005517</td>\n",
       "      <td>71.060369</td>\n",
       "    </tr>\n",
       "  </tbody>\n",
       "</table>\n",
       "</div>"
      ],
      "text/plain": [
       "   precision  k  error_mse  error_mae       time\n",
       "0          6  1   0.022571   0.109279   0.631887\n",
       "1          7  1   0.009301   0.066999   1.254572\n",
       "2          8  1   0.004367   0.042979   2.419945\n",
       "3          9  1   0.001425   0.018909   4.788905\n",
       "4         10  1   0.000903   0.011510   9.215323\n",
       "5         11  1   0.000756   0.008152  17.850767\n",
       "6         12  1   0.000708   0.006446  35.191057\n",
       "7         13  1   0.000692   0.005517  71.060369"
      ]
     },
     "metadata": {},
     "output_type": "display_data"
    },
    {
     "data": {
      "text/markdown": [
       "The following figure shows the results for the different values of precision."
      ],
      "text/plain": [
       "<IPython.core.display.Markdown object>"
      ]
     },
     "metadata": {},
     "output_type": "display_data"
    },
    {
     "data": {
      "image/png": "[encoded data removed]",
      "text/plain": [
       "<Figure size 720x360 with 1 Axes>"
      ]
     },
     "metadata": {
      "needs_background": "light"
     },
     "output_type": "display_data"
    },
    {
     "data": {
      "text/markdown": [
       "The following figure shows the time required for the different values of precision."
      ],
      "text/plain": [
       "<IPython.core.display.Markdown object>"
      ]
     },
     "metadata": {},
     "output_type": "display_data"
    },
    {
     "data": {
      "image/png": "[encoded data removed]",
      "text/plain": [
       "<Figure size 720x360 with 1 Axes>"
      ]
     },
     "metadata": {
      "needs_background": "light"
     },
     "output_type": "display_data"
    },
    {
     "data": {
      "text/markdown": [
       "### Approximated Jaccard for k=2 and k=3"
      ],
      "text/plain": [
       "<IPython.core.display.Markdown object>"
      ]
     },
     "metadata": {},
     "output_type": "display_data"
    },
    {
     "data": {
      "application/vnd.jupyter.widget-view+json": {
       "model_id": "f9574a38b9a14b33a5f1a138cd3b0a08",
       "version_major": 2,
       "version_minor": 0
      },
      "text/plain": [
       "  0%|          | 0/8 [00:00<?, ?it/s]"
      ]
     },
     "metadata": {},
     "output_type": "display_data"
    },
    {
     "data": {
      "application/vnd.jupyter.widget-view+json": {
       "model_id": "165bc6be79c5497b9cb604494e819ea3",
       "version_major": 2,
       "version_minor": 0
      },
      "text/plain": [
       "  0%|          | 0/8 [00:00<?, ?it/s]"
      ]
     },
     "metadata": {},
     "output_type": "display_data"
    },
    {
     "data": {
      "text/markdown": [
       "The following plots show the time requirements for different precisions and number of k hops."
      ],
      "text/plain": [
       "<IPython.core.display.Markdown object>"
      ]
     },
     "metadata": {},
     "output_type": "display_data"
    },
    {
     "data": {
      "image/png": "[encoded data removed]",
      "text/plain": [
       "<Figure size 720x360 with 1 Axes>"
      ]
     },
     "metadata": {
      "needs_background": "light"
     },
     "output_type": "display_data"
    },
    {
     "data": {
      "text/markdown": [
       "The following figure shows the distribution of the exact Jaccard (k=1) and approximated Jaccard for k=1."
      ],
      "text/plain": [
       "<IPython.core.display.Markdown object>"
      ]
     },
     "metadata": {},
     "output_type": "display_data"
    },
    {
     "data": {
      "image/png": "[encoded data removed]",
      "text/plain": [
       "<Figure size 720x360 with 1 Axes>"
      ]
     },
     "metadata": {
      "needs_background": "light"
     },
     "output_type": "display_data"
    },
    {
     "data": {
      "text/markdown": [
       "The following figure shows the distribution of the exact Jaccard (k=1) and approximated Jaccard for k=1, k=2 and k=3."
      ],
      "text/plain": [
       "<IPython.core.display.Markdown object>"
      ]
     },
     "metadata": {},
     "output_type": "display_data"
    },
    {
     "data": {
      "image/png": "[encoded data removed]",
      "text/plain": [
       "<Figure size 720x360 with 1 Axes>"
      ]
     },
     "metadata": {
      "needs_background": "light"
     },
     "output_type": "display_data"
    }
   ],
   "source": [
    "experiment(kgcovid19)"
   ]
  },
  {
   "attachments": {},
   "cell_type": "markdown",
   "id": "82e0c7aa",
   "metadata": {},
   "source": [
    "## Conclusive notes\n",
    "In conclusion, our experiments on the different graphs demonstrated the general effectiveness of the approximated $k$-hops Jaccard algorithm, except for the case of the HPO graph.\n",
    "\n",
    "For $k=1$, we analyzed the accuracy of the approximated Jaccard using different precision values. The results showed that higher precision values led to lower errors, indicating that one can pay more memory for better approximation quality. Overall, the approximated k-hops Jaccard algorithm provides a practical solution for estimating Jaccard similarity in large graphs, where computing the exact Jaccard becomes computationally expensive.\n",
    "\n",
    "[You can learn more about HyperLogLog here](https://github.com/LucaCappelletti94/hyperloglog-rs).\n",
    "\n",
    "Don't forget to ⭐ GRAPE!"
   ]
  }
 ],
 "metadata": {
  "kernelspec": {
   "display_name": "Python 3 (ipykernel)",
   "language": "python",
   "name": "python3"
  },
  "language_info": {
   "codemirror_mode": {
    "name": "ipython",
    "version": 3
   },
   "file_extension": ".py",
   "mimetype": "text/x-python",
   "name": "python",
   "nbconvert_exporter": "python",
   "pygments_lexer": "ipython3",
   "version": "3.9.7"
  }
 },
 "nbformat": 4,
 "nbformat_minor": 5
}
