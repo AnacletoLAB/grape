{
 "cells": [
  {
   "cell_type": "markdown",
   "metadata": {
    "colab_type": "text",
    "id": "view-in-github"
   },
   "source": [
    "<a href=\"https://colab.research.google.com/github/AnacletoLAB/grape/blob/main/tutorials/Loading_a_Graph_in_Ensmallen.ipynb\" target=\"_parent\"><img src=\"https://colab.research.google.com/assets/colab-badge.svg\" alt=\"Open In Colab\"/></a>"
   ]
  },
  {
   "cell_type": "markdown",
   "metadata": {
    "id": "_tKVybcSlTP4"
   },
   "source": [
    "# Loading graphs with Ensmallen\n",
    "The first step to do any work on a graph is to load it. In this notebook we will\n",
    "explore the different ways a graph can be loaded with Ensmallen.\n",
    "\n",
    "To install the GraPE library do run the usual pip install:"
   ]
  },
  {
   "cell_type": "code",
   "execution_count": 1,
   "metadata": {
    "id": "GDomjvXoEb6D"
   },
   "outputs": [
    {
     "name": "stdout",
     "output_type": "stream",
     "text": [
      "\u001b[33mWARNING: You are using pip version 22.0.4; however, version 22.1.2 is available.\r\n",
      "You should consider upgrading via the '/Users/lucacappelletti/opt/miniconda3/bin/python -m pip install --upgrade pip' command.\u001b[0m\r\n"
     ]
    }
   ],
   "source": [
    "! pip install grape -q"
   ]
  },
  {
   "cell_type": "markdown",
   "metadata": {
    "id": "kjtUf8N9l9od"
   },
   "source": [
    "## Automatic Graph Retrival\n",
    "Ensmallen supports the automatic download of many common graph.\n",
    "These graphs are organized by repository and follow the format: `ensmallen.datasets.<repository>.<graph_name>`. \n",
    "\n",
    "The available repositories are:"
   ]
  },
  {
   "cell_type": "code",
   "execution_count": 2,
   "metadata": {
    "colab": {
     "base_uri": "https://localhost:8080/"
    },
    "id": "iVV4C-JHmhCp",
    "outputId": "ee87f923-aae5-413c-d79b-6e0ef3b77d7b"
   },
   "outputs": [
    {
     "data": {
      "text/plain": [
       "['linqs',\n",
       " 'kgobo',\n",
       " 'zenodo',\n",
       " 'string',\n",
       " 'kghub',\n",
       " 'freebase',\n",
       " 'wikidata',\n",
       " 'networkrepository',\n",
       " 'pheknowlatorkg',\n",
       " 'yue',\n",
       " 'monarchinitiative',\n",
       " 'jax',\n",
       " 'wikipedia']"
      ]
     },
     "execution_count": 2,
     "metadata": {},
     "output_type": "execute_result"
    }
   ],
   "source": [
    "from grape.datasets import get_available_repositories\n",
    "get_available_repositories()"
   ]
  },
  {
   "cell_type": "markdown",
   "metadata": {
    "id": "sPg7TIKLmx5m"
   },
   "source": [
    "And the list of all the available graphs can be retrived as:"
   ]
  },
  {
   "cell_type": "code",
   "execution_count": 3,
   "metadata": {
    "colab": {
     "base_uri": "https://localhost:8080/",
     "height": 419
    },
    "id": "5wLVQv_8m5qi",
    "outputId": "cbccb1ef-e463-4be5-ae18-6db864bae2dd"
   },
   "outputs": [
    {
     "data": {
      "application/vnd.jupyter.widget-view+json": {
       "model_id": "",
       "version_major": 2,
       "version_minor": 0
      },
      "text/plain": [
       "Parsing repositories:   0%|                                                                                   …"
      ]
     },
     "metadata": {},
     "output_type": "display_data"
    },
    {
     "data": {
      "application/vnd.jupyter.widget-view+json": {
       "model_id": "",
       "version_major": 2,
       "version_minor": 0
      },
      "text/plain": [
       "Parsing graphs:   0%|                                                                                         …"
      ]
     },
     "metadata": {},
     "output_type": "display_data"
    },
    {
     "data": {
      "application/vnd.jupyter.widget-view+json": {
       "model_id": "",
       "version_major": 2,
       "version_minor": 0
      },
      "text/plain": [
       "Parsing graphs:   0%|                                                                                         …"
      ]
     },
     "metadata": {},
     "output_type": "display_data"
    },
    {
     "data": {
      "application/vnd.jupyter.widget-view+json": {
       "model_id": "",
       "version_major": 2,
       "version_minor": 0
      },
      "text/plain": [
       "Parsing graphs:   0%|                                                                                         …"
      ]
     },
     "metadata": {},
     "output_type": "display_data"
    },
    {
     "data": {
      "application/vnd.jupyter.widget-view+json": {
       "model_id": "",
       "version_major": 2,
       "version_minor": 0
      },
      "text/plain": [
       "Parsing graphs:   0%|                                                                                         …"
      ]
     },
     "metadata": {},
     "output_type": "display_data"
    },
    {
     "data": {
      "application/vnd.jupyter.widget-view+json": {
       "model_id": "",
       "version_major": 2,
       "version_minor": 0
      },
      "text/plain": [
       "Parsing graphs:   0%|                                                                                         …"
      ]
     },
     "metadata": {},
     "output_type": "display_data"
    },
    {
     "data": {
      "application/vnd.jupyter.widget-view+json": {
       "model_id": "",
       "version_major": 2,
       "version_minor": 0
      },
      "text/plain": [
       "Parsing graphs:   0%|                                                                                         …"
      ]
     },
     "metadata": {},
     "output_type": "display_data"
    },
    {
     "data": {
      "application/vnd.jupyter.widget-view+json": {
       "model_id": "",
       "version_major": 2,
       "version_minor": 0
      },
      "text/plain": [
       "Parsing graphs:   0%|                                                                                         …"
      ]
     },
     "metadata": {},
     "output_type": "display_data"
    },
    {
     "data": {
      "application/vnd.jupyter.widget-view+json": {
       "model_id": "",
       "version_major": 2,
       "version_minor": 0
      },
      "text/plain": [
       "Parsing graphs:   0%|                                                                                         …"
      ]
     },
     "metadata": {},
     "output_type": "display_data"
    },
    {
     "data": {
      "application/vnd.jupyter.widget-view+json": {
       "model_id": "",
       "version_major": 2,
       "version_minor": 0
      },
      "text/plain": [
       "Parsing graphs:   0%|                                                                                         …"
      ]
     },
     "metadata": {},
     "output_type": "display_data"
    },
    {
     "data": {
      "application/vnd.jupyter.widget-view+json": {
       "model_id": "",
       "version_major": 2,
       "version_minor": 0
      },
      "text/plain": [
       "Parsing graphs:   0%|                                                                                         …"
      ]
     },
     "metadata": {},
     "output_type": "display_data"
    },
    {
     "data": {
      "application/vnd.jupyter.widget-view+json": {
       "model_id": "",
       "version_major": 2,
       "version_minor": 0
      },
      "text/plain": [
       "Parsing graphs:   0%|                                                                                         …"
      ]
     },
     "metadata": {},
     "output_type": "display_data"
    },
    {
     "data": {
      "application/vnd.jupyter.widget-view+json": {
       "model_id": "",
       "version_major": 2,
       "version_minor": 0
      },
      "text/plain": [
       "Parsing graphs:   0%|                                                                                         …"
      ]
     },
     "metadata": {},
     "output_type": "display_data"
    },
    {
     "data": {
      "application/vnd.jupyter.widget-view+json": {
       "model_id": "",
       "version_major": 2,
       "version_minor": 0
      },
      "text/plain": [
       "Parsing graphs:   0%|                                                                                         …"
      ]
     },
     "metadata": {},
     "output_type": "display_data"
    },
    {
     "data": {
      "text/html": [
       "<div>\n",
       "<style scoped>\n",
       "    .dataframe tbody tr th:only-of-type {\n",
       "        vertical-align: middle;\n",
       "    }\n",
       "\n",
       "    .dataframe tbody tr th {\n",
       "        vertical-align: top;\n",
       "    }\n",
       "\n",
       "    .dataframe thead th {\n",
       "        text-align: right;\n",
       "    }\n",
       "</style>\n",
       "<table border=\"1\" class=\"dataframe\">\n",
       "  <thead>\n",
       "    <tr style=\"text-align: right;\">\n",
       "      <th></th>\n",
       "      <th>repository</th>\n",
       "      <th>name</th>\n",
       "      <th>version</th>\n",
       "    </tr>\n",
       "  </thead>\n",
       "  <tbody>\n",
       "    <tr>\n",
       "      <th>0</th>\n",
       "      <td>linqs</td>\n",
       "      <td>PubMedDiabetes</td>\n",
       "      <td>latest</td>\n",
       "    </tr>\n",
       "    <tr>\n",
       "      <th>1</th>\n",
       "      <td>linqs</td>\n",
       "      <td>Cora</td>\n",
       "      <td>latest</td>\n",
       "    </tr>\n",
       "    <tr>\n",
       "      <th>2</th>\n",
       "      <td>linqs</td>\n",
       "      <td>CiteSeer</td>\n",
       "      <td>latest</td>\n",
       "    </tr>\n",
       "    <tr>\n",
       "      <th>3</th>\n",
       "      <td>kgobo</td>\n",
       "      <td>MOD</td>\n",
       "      <td>1.031.4</td>\n",
       "    </tr>\n",
       "    <tr>\n",
       "      <th>4</th>\n",
       "      <td>kgobo</td>\n",
       "      <td>MOD</td>\n",
       "      <td>10-03-2021-14-36</td>\n",
       "    </tr>\n",
       "    <tr>\n",
       "      <th>...</th>\n",
       "      <td>...</td>\n",
       "      <td>...</td>\n",
       "      <td>...</td>\n",
       "    </tr>\n",
       "    <tr>\n",
       "      <th>83585</th>\n",
       "      <td>wikipedia</td>\n",
       "      <td>WikiSourceHR</td>\n",
       "      <td>20220401</td>\n",
       "    </tr>\n",
       "    <tr>\n",
       "      <th>83586</th>\n",
       "      <td>wikipedia</td>\n",
       "      <td>WikiSourceHR</td>\n",
       "      <td>20220420</td>\n",
       "    </tr>\n",
       "    <tr>\n",
       "      <th>83587</th>\n",
       "      <td>wikipedia</td>\n",
       "      <td>WikiSourceHR</td>\n",
       "      <td>20220501</td>\n",
       "    </tr>\n",
       "    <tr>\n",
       "      <th>83588</th>\n",
       "      <td>wikipedia</td>\n",
       "      <td>WikiSourceHR</td>\n",
       "      <td>20220520</td>\n",
       "    </tr>\n",
       "    <tr>\n",
       "      <th>83589</th>\n",
       "      <td>wikipedia</td>\n",
       "      <td>WikiSourceHR</td>\n",
       "      <td>latest</td>\n",
       "    </tr>\n",
       "  </tbody>\n",
       "</table>\n",
       "<p>83590 rows × 3 columns</p>\n",
       "</div>"
      ],
      "text/plain": [
       "      repository            name           version\n",
       "0          linqs  PubMedDiabetes            latest\n",
       "1          linqs            Cora            latest\n",
       "2          linqs        CiteSeer            latest\n",
       "3          kgobo             MOD           1.031.4\n",
       "4          kgobo             MOD  10-03-2021-14-36\n",
       "...          ...             ...               ...\n",
       "83585  wikipedia    WikiSourceHR          20220401\n",
       "83586  wikipedia    WikiSourceHR          20220420\n",
       "83587  wikipedia    WikiSourceHR          20220501\n",
       "83588  wikipedia    WikiSourceHR          20220520\n",
       "83589  wikipedia    WikiSourceHR            latest\n",
       "\n",
       "[83590 rows x 3 columns]"
      ]
     },
     "execution_count": 3,
     "metadata": {},
     "output_type": "execute_result"
    }
   ],
   "source": [
    "from grape.datasets import get_all_available_graphs_dataframe\n",
    "get_all_available_graphs_dataframe()"
   ]
  },
  {
   "cell_type": "markdown",
   "metadata": {
    "id": "rOj3gt4UnHDG"
   },
   "source": [
    "As an example we can import String PPI's HomoSapiens graph: "
   ]
  },
  {
   "cell_type": "code",
   "execution_count": 4,
   "metadata": {
    "id": "vd8H02j0EdiB"
   },
   "outputs": [],
   "source": [
    "from grape.datasets.string import HomoSapiens"
   ]
  },
  {
   "cell_type": "markdown",
   "metadata": {
    "id": "3upviNqWno1d"
   },
   "source": [
    "The first time ensmallen will automatically download, preprocess and optimize the edges and nodes lists. The cached files can be found in the local folder `./graphs`."
   ]
  },
  {
   "cell_type": "code",
   "execution_count": 5,
   "metadata": {
    "colab": {
     "base_uri": "https://localhost:8080/",
     "height": 51,
     "referenced_widgets": [
      "ffd5653999034915824828dd5bb16e36",
      "3b7c9e092f7b4ef183bc1a0e513eb497",
      "1517d035fce24a31a2e801b0f284153d",
      "5117a324b5494d5e9da24cba2ba7d3f2",
      "0976a68ff7ee49fdb0972f3cc93f6a0d",
      "248b68c4d3eb49efa1e2a385a766b381",
      "dd15ba139add456795776f21c7a62214",
      "ea5eb0ac9fb34be2b16064e079432f6b",
      "1c3b2f4ab8d04678a887b4160560ddb9",
      "7e47fd57d0ab45598c7f115bc045d1ac",
      "fcfd8b11356b4891b1fbe1f24bde6de1",
      "bb0cb20870694ea2869cfecc0cee8fea",
      "ee2f907f307d40deb5872879a4cfbc4d",
      "5ac93f69325d4a46aa2a7eea8367f0cb",
      "ea445b14fa8445e0be8ebf56146160bb",
      "57a0836a297146c5bc4594beb07b9c7b",
      "651715e7eb7142a0b8e6aa033bced731",
      "3798cc2f69dc414c8497d49b9a7dcc38",
      "738d0073b6ce47e1802a4addf2778b69",
      "e0459c8ecafc47bf8a163bd3305e14f4",
      "643e34c7c0d1468c97b1e36d25907019",
      "3f6293f6bdb540c3b85d5a538d90ed2f",
      "cb0c676d637d42f887817915322e1e9d",
      "556771ce8f434bff9c11fe6efa345b91",
      "e604047fb71f46919135c1e1ead621c6",
      "f0fb842035fb48049ed8e43da3a1649f",
      "82fe7edd071e4efca77a2a7140cb8097",
      "7f4cdbad3fac426886840a6af8c71379",
      "896093624b094f14946621998be3a260",
      "9982e6bcaa774dbd98a3ef9757f68821",
      "1229bf8ea06540f182269505d07e0f06",
      "3c528b9b55bf4999b07dca6973427f2e",
      "a44d07ab617d482e895075bc2a5f24dd"
     ]
    },
    "id": "0NzlV1j9EgLx",
    "outputId": "c7086160-7b8a-4a3b-e288-92448aad16c9"
   },
   "outputs": [
    {
     "name": "stdout",
     "output_type": "stream",
     "text": [
      "CPU times: user 21.8 s, sys: 978 ms, total: 22.7 s\n",
      "Wall time: 11.3 s\n"
     ]
    }
   ],
   "source": [
    "%%time\n",
    "homosapiens = HomoSapiens()"
   ]
  },
  {
   "cell_type": "markdown",
   "metadata": {
    "id": "rPcgOWYpoBTl"
   },
   "source": [
    "All the other times, Ensmallen will load the now optimized and cached data, this improve the loading time and the peak memory usage."
   ]
  },
  {
   "cell_type": "code",
   "execution_count": 6,
   "metadata": {
    "colab": {
     "base_uri": "https://localhost:8080/"
    },
    "id": "z8XJUHy-Eidv",
    "outputId": "4794e990-e0aa-41e6-ff28-c8bf61fba3a0"
   },
   "outputs": [
    {
     "name": "stdout",
     "output_type": "stream",
     "text": [
      "CPU times: user 18.6 s, sys: 369 ms, total: 19 s\n",
      "Wall time: 8.84 s\n"
     ]
    }
   ],
   "source": [
    "%%time\n",
    "homosapiens = HomoSapiens()"
   ]
  },
  {
   "cell_type": "markdown",
   "metadata": {
    "id": "dH2nsSjWTaHu"
   },
   "source": [
    "The pre-processing and the caching of the files can be disabled using the optional parameters of the graph loader: "
   ]
  },
  {
   "cell_type": "code",
   "execution_count": 7,
   "metadata": {
    "colab": {
     "base_uri": "https://localhost:8080/"
    },
    "id": "mdxyD6ITTZYO",
    "outputId": "41a27d21-3eca-4d1e-d8ce-f7c86b13ef5e"
   },
   "outputs": [
    {
     "name": "stdout",
     "output_type": "stream",
     "text": [
      "Help on function HomoSapiens in module grape.datasets.string:\n",
      "\n",
      "HomoSapiens(directed=False, preprocess='auto', load_nodes=True, load_node_types=True, load_edge_weights=True, auto_enable_tradeoffs=True, sort_tmp_dir=None, verbose=2, cache=True, cache_path=None, cache_sys_var='GRAPH_CACHE_DIR', version='links.v11.5', **kwargs) -> Graph\n",
      "    Return Homo sapiens graph       \n",
      "    \n",
      "    Parameters\n",
      "    ----------\n",
      "    directed = False\n",
      "    preprocess = \"auto\"\n",
      "        Preprocess for optimal load time & memory peak.\n",
      "        Will preprocess in Linux/macOS but not Windows.\n",
      "    load_nodes = True\n",
      "        Load node names or use numeric range\n",
      "    auto_enable_tradeoffs = True\n",
      "        Enable when graph has < 50M edges\n",
      "    cache_path = None\n",
      "        Path to store graphs\n",
      "        Defaults either to `GRAPH_CACHE_DIR` sys var or `graphs`\n",
      "    cache_sys_var = \"GRAPH_CACHE_DIR\"\n",
      "    version = \"links.v11.5\"\n",
      "        Version to retrieve     \n",
      "                The available versions are:\n",
      "                        - homology.v11.0\n",
      "                        - homology.v11.5\n",
      "                        - physical.links.v11.0\n",
      "                        - physical.links.v11.5\n",
      "                        - links.v11.0\n",
      "                        - links.v11.5\n",
      "\n"
     ]
    }
   ],
   "source": [
    "help(HomoSapiens)"
   ]
  },
  {
   "cell_type": "markdown",
   "metadata": {
    "id": "zJK4q7BFlmKm"
   },
   "source": [
    "The default display of the graph is a Human-readable report with the main features of the graph:"
   ]
  },
  {
   "cell_type": "code",
   "execution_count": 8,
   "metadata": {
    "colab": {
     "base_uri": "https://localhost:8080/",
     "height": 600
    },
    "id": "7G7N1PqallVT",
    "outputId": "9810929e-2a9c-4ad3-aa3e-3f780220a1fa"
   },
   "outputs": [
    {
     "data": {
      "text/html": [
       "<div class=\"graph-report\"><style>.graph-report li {margin: 0.5em 0 0.5em 0;}.graph-report .paragraph {text-align: justify;word-break: break-all;}.graph-report .small-columns {column-count: 4;column-gap: 2em;}.graph-report .medium-columns {column-count: 3;column-gap: 2em;}.graph-report .large-columns {column-count: 2;column-gap: 2em;}.graph-report .single-column {}@media only screen and (max-width: 600px) {.graph-report .small-columns {column-count: 1;}.graph-report .medium-columns {column-count: 1;}.graph-report .large-columns {column-count: 1;}}@media only screen and (min-width: 600px) and (max-width: 800px) {.graph-report .small-columns {column-count: 2;}.graph-report .medium-columns {column-count: 1;}.graph-report .large-columns {column-count: 1;}}@media only screen and (min-width: 800px) and (max-width: 1024px) {.graph-report .small-columns {column-count: 3;}.graph-report .medium-columns {column-count: 2;}.graph-report .large-columns {column-count: 1;}}</style><h2>HomoSapiens</h2><p class=\"paragraph\">The undirected graph HomoSapiens has 19.57K heterogeneous nodes and 5.97M edges. The graph contains 182 connected components (of which 181 are disconnected nodes), with the largest one containing 19.39K nodes and the smallest one containing a single node. The RAM requirements for the nodes and edges data structures are 2.67MB and 11.71MB respectively.</p><h3 style=\"margin: 1em 0 0 0;\">Degree centrality</h3><p class=\"paragraph\">The minimum node degree is 0, the maximum node degree is 7.51K, the mode degree is 0, the mean degree is 610.17 and the node degree median is 485.</p><p class=\"paragraph\">The nodes with the highest degree centrality are 9606.ENSP00000229239 (degree 7.51K and node types BTO:0000000, BTO:0000007, BTO:0000020, BTO:0000032, BTO:0000035 and other 554), 9606.ENSP00000349960 (degree 6.94K and node types BTO:0000000, BTO:0000007, BTO:0000020, BTO:0000042, BTO:0000058 and other 696), 9606.ENSP00000451828 (degree 5.92K and node types BTO:0000000, BTO:0000003, BTO:0000018, BTO:0000042, BTO:0000047 and other 1.37K), 9606.ENSP00000298910 (degree 5.80K and node types BTO:0000000, BTO:0000042, BTO:0000138, BTO:0000142, BTO:0000143 and other 984) and 9606.ENSP00000269305 (degree 5.65K and node types BTO:0000000, BTO:0000003, BTO:0000018, BTO:0000042, BTO:0000058 and other 1.35K).</p><h3 style=\"margin: 1em 0 0 0;\">Weights</h3><p class=\"paragraph\">The minimum edge weight is 150, the maximum edge weight is 999 and the total edge weight is 3342953700. The RAM requirement for the edge weights data structure is 47.75MB.</p><h3 style=\"margin: 1em 0 0 0;\">Node types</h3><p class=\"paragraph\">The graph has 62.23K node types, of which the 10 most common are GO:0110165 (17.79K nodes, 90.91%), GO:0009987 (15.02K nodes, 76.79%), BTO:0000000 (14.94K nodes, 76.37%), BTO:0000042 (14.89K nodes, 76.13%), GO:0005622 (14.28K nodes, 72.96%), GOCC:0110165 (13.85K nodes, 70.80%), GO:0043226 (13.52K nodes, 69.07%), BTO:0001489 (12.62K nodes, 64.49%), GO:0043229 (12.53K nodes, 64.03%) and GO:0005488 (12.52K nodes, 63.97%). The node types are multi-label, and the node with most node types has 1379 node types. The RAM requirement for the node types data structure is 19.13MB.</p><h4 style=\"margin: 1em 0 0 0;\">Approximated isomorphic node types</h4><p class=\"paragraph\">Approximated isomorphic node types groups are node types describing exactly the same set of nodes. Since the graph has a high number of node types (> 50.00K) we use an approximated version of the node types isomorphisms detection. Note that hash collisions and false positives are possible. It is possible to execute the exact computation with the <code>get_isomorphic_node_type_ids_groups</code> method. The presence of such duplicated node types suggests a potential modelling error in the pipeline that has produced this graph. 9.34K isomorphic node types groups were detected in this graph.</p><ol><li><p class=\"paragraph\">Isomorphic node type group containing 3 node types (5.86K nodes, 29.93%), which are: GO:0031974, GO:0043233 and GO:0070013.</p></li>\n",
       "<li><p class=\"paragraph\">Isomorphic node type group containing 2 node types (3.06K nodes, 15.65%), which are: GO:0006464 and GO:0036211.</p></li>\n",
       "<li><p class=\"paragraph\">Isomorphic node type group containing 2 node types (2.82K nodes, 14.39%), which are: GOCC:0031974 and GOCC:0043233.</p></li>\n",
       "<li><p class=\"paragraph\">Isomorphic node type group containing 2 node types (1.45K nodes, 7.43%), which are: GO:0038023 and GO:0060089.</p></li>\n",
       "<li><p class=\"paragraph\">Isomorphic node type group containing 2 node types (1.21K nodes, 6.20%), which are: GO:0031967 and GO:0031975.</p></li>\n",
       "<li><p class=\"paragraph\">Isomorphic node type group containing 2 node types (1.16K nodes, 5.95%), which are: GO:0010562 and GO:0045937.</p></li>\n",
       "<li><p class=\"paragraph\">Isomorphic node type group containing 2 node types (1.02K nodes, 5.20%), which are: GO:0048870 and GO:0051674.</p></li>\n",
       "<li><p class=\"paragraph\">Isomorphic node type group containing 2 node types (814 nodes, 4.16%), which are: GO:0016817 and GO:0016818.</p></li>\n",
       "<li><p class=\"paragraph\">Isomorphic node type group containing 2 node types (698 nodes, 3.57%), which are: GO:0000323 and GO:0005764.</p></li>\n",
       "<li><p class=\"paragraph\">Isomorphic node type group containing 2 node types (648 nodes, 3.31%), which are: BTO:0000775 and BTO:0001096.</p></li></ol><p class=\"paragraph\">And other 9.33K isomorphic node types.</p><h4 style=\"margin: 1em 0 0 0;\">Singleton node types</h4><p class=\"paragraph\">Singleton node types are node types that are assigned exclusively to a single node, making the node type relatively meaningless, as it adds no more information than the node name itself. The graph contains 16.85K singleton node types, which are IPR028927 (9606.ENSP00000000412 (degree 480 and node types BTO:0000000, BTO:0000042, BTO:0000080, BTO:0000081, BTO:0000082 and other 188)), GO:0006463 (9606.ENSP00000001008 (degree 1.70K and node types BTO:0000000, BTO:0000042, BTO:0000081, BTO:0000083, BTO:0000089 and other 332)), IPR031212 (9606.ENSP00000001008 (degree 1.70K and node types BTO:0000000, BTO:0000042, BTO:0000081, BTO:0000083, BTO:0000089 and other 332)), IPR003788 (9606.ENSP00000002125 (degree 357 and node types BTO:0000000, BTO:0000042, BTO:0000081, BTO:0000083, BTO:0000176 and other 115)), IPR038375 (9606.ENSP00000002125 (degree 357 and node types BTO:0000000, BTO:0000042, BTO:0000081, BTO:0000083, BTO:0000176 and other 115)), PF02636 (9606.ENSP00000002125 (degree 357 and node types BTO:0000000, BTO:0000042, BTO:0000081, BTO:0000083, BTO:0000176 and other 115)), BTO:0001193 (9606.ENSP00000003084 (degree 1.91K and node types BTO:0000000, BTO:0000003, BTO:0000042, BTO:0000081, BTO:0000082 and other 558)), BTO:0002032 (9606.ENSP00000003084 (degree 1.91K and node types BTO:0000000, BTO:0000003, BTO:0000042, BTO:0000081, BTO:0000082 and other 558)), BTO:0002750 (9606.ENSP00000003084 (degree 1.91K and node types BTO:0000000, BTO:0000003, BTO:0000042, BTO:0000081, BTO:0000082 and other 558)) and BTO:0004445 (9606.ENSP00000003084 (degree 1.91K and node types BTO:0000000, BTO:0000003, BTO:0000042, BTO:0000081, BTO:0000082 and other 558)), plus other 16.84K singleton node types.</p><h4 style=\"margin: 1em 0 0 0;\">Unknown node types</h4><p class=\"paragraph\">Nodes with unknown node types are nodes with a node type that was not provided during the creation of the graph, which may be desired as the output of a node-label holdout. The graph contains 159 nodes with unknown node type, which are 9606.ENSP00000239125 (degree 1), 9606.ENSP00000278779, 9606.ENSP00000303234 (degree 1), 9606.ENSP00000326574 (degree 2), 9606.ENSP00000362001, 9606.ENSP00000365108, 9606.ENSP00000366765, 9606.ENSP00000367360, 9606.ENSP00000367983 and 9606.ENSP00000368055, plus other 149 nodes with unknown node types, making up 0.81 of the nodes.</p><h3 style=\"margin: 1em 0 0 0;\">Topological Oddities</h3><p class=\"paragraph\">A topological oddity is a set of nodes in the graph that <i>may be derived</i> by an error during the generation of the edge list of the graph and, depending on the task, could bias the results of topology-based models. In the following paragraph, we will describe the detected topological oddities.</p><h4 style=\"margin: 1em 0 0 0;\">Singleton nodes</h4><p class=\"paragraph\">A singleton node is a node disconnected from all other nodes. We have detected 181 singleton nodes in the graph, involving a total of 181 nodes (0.93%). The detected singleton nodes are:</p><ul class=\"small-columns\"><li><p class=\"paragraph\">9606.ENSP00000278779 (unknown node type)</p></li>\n",
       "<li><p class=\"paragraph\">9606.ENSP00000313324 (node types GO:0016020, GO:0016021, GO:0031224, GO:0110165, IPR031696 and other 6)</p></li>\n",
       "<li><p class=\"paragraph\">9606.ENSP00000315794 (node type KW-0621)</p></li>\n",
       "<li><p class=\"paragraph\">9606.ENSP00000316644 (node type KW-0025)</p></li>\n",
       "<li><p class=\"paragraph\">9606.ENSP00000323241 (node type KW-0621)</p></li>\n",
       "<li><p class=\"paragraph\">9606.ENSP00000335616 (node types BTO:0000000, BTO:0000042, BTO:0000142, BTO:0000211, BTO:0000227 and other 16)</p></li>\n",
       "<li><p class=\"paragraph\">9606.ENSP00000362001 (unknown node type)</p></li>\n",
       "<li><p class=\"paragraph\">9606.ENSP00000365108 (unknown node type)</p></li>\n",
       "<li><p class=\"paragraph\">9606.ENSP00000365173 (node type KW-0025)</p></li>\n",
       "<li><p class=\"paragraph\">9606.ENSP00000366765 (unknown node type)</p></li>\n",
       "<li><p class=\"paragraph\">9606.ENSP00000367360 (unknown node type)</p></li>\n",
       "<li><p class=\"paragraph\">9606.ENSP00000367449 (node types GO:0016020, GO:0016021, GO:0031224, GO:0110165, KW-0472 and other 3)</p></li>\n",
       "<li><p class=\"paragraph\">9606.ENSP00000367983 (unknown node type)</p></li>\n",
       "<li><p class=\"paragraph\">9606.ENSP00000368055 (unknown node type)</p></li>\n",
       "<li><p class=\"paragraph\">9606.ENSP00000368292 (node types GO:0016020, GO:0016021, GO:0031224, GO:0110165, KW-0472 and other 2)</p></li></ul><p class=\"paragraph\">And other 166 singleton nodes.</p><h4 style=\"margin: 1em 0 0 0;\">Isomorphic node groups</h4><p class=\"paragraph\">Isomorphic groups are nodes with exactly the same neighbours and node types (if present in the graph). Nodes in such groups are topologically indistinguishable, that is swapping their ID would not change the graph topology. We have detected 16 isomorphic node groups in the graph, involving a total of 35 nodes (0.18%) and 4.46K edges (0.04%), with the largest one involving 3 nodes and 1.88K edges. The detected isomorphic node groups, sorted by decreasing size, are:</p><ol class=\"medium-columns\"><li><p class=\"paragraph\">Group with 2 nodes (degree 941 and node types CL:3465, CL:3467, CL:3468, CL:3470, GO:0000413 and other 43): 9606.ENSP00000464619 and 9606.ENSP00000485638.</p></li>\n",
       "<li><p class=\"paragraph\">Group with 2 nodes (degree 397 and node type CL:4123): 9606.ENSP00000449334 and 9606.ENSP00000449223.</p></li>\n",
       "<li><p class=\"paragraph\">Group with 2 nodes (degree 216 and node types CL:37858, CL:37859, CL:37955, CL:37957, KW-0472 and other 3): 9606.ENSP00000439534 and 9606.ENSP00000456868.</p></li>\n",
       "<li><p class=\"paragraph\">Group with 3 nodes (degree 93 and node types CL:36688, CL:36774, CL:36775, CL:36776, CL:36803 and other 16): 9606.ENSP00000455596, 9606.ENSP00000339405 and 9606.ENSP00000485635.</p></li>\n",
       "<li><p class=\"paragraph\">Group with 2 nodes (degree 92 and node types CL:36688, CL:36774, CL:36775, CL:36776, GO:0005622 and other 15): 9606.ENSP00000485467 and 9606.ENSP00000455132.</p></li>\n",
       "<li><p class=\"paragraph\">Group with 3 nodes (degree 57 and node types CL:34541, CL:34542, CL:34650, GO:0000137, GO:0000139 and other 30): 9606.ENSP00000456894, 9606.ENSP00000457904 and 9606.ENSP00000323217.</p></li>\n",
       "<li><p class=\"paragraph\">Group with 2 nodes (degree 65 and node types CL:30792, CL:30793, CL:30794, CL:30936 and PF15623): 9606.ENSP00000392283 and 9606.ENSP00000393315.</p></li>\n",
       "<li><p class=\"paragraph\">Group with 2 nodes (degree 56 and node types CL:34541, CL:34542, CL:34650, CL:34696, GO:0000137 and other 29): 9606.ENSP00000391085 and 9606.ENSP00000300576.</p></li>\n",
       "<li><p class=\"paragraph\">Group with 3 nodes (degree 30 and node types GO:0003676, GO:0003677, GO:0005488, GO:0005622, GO:0005634 and other 45): 9606.ENSP00000382987, 9606.ENSP00000477043 and 9606.ENSP00000472160.</p></li>\n",
       "<li><p class=\"paragraph\">Group with 2 nodes (degree 41 and node types CL:31264, KW-0025 and KW-0621): 9606.ENSP00000330267 and 9606.ENSP00000485194.</p></li>\n",
       "<li><p class=\"paragraph\">Group with 2 nodes (degree 37 and node types CL:21787, CL:21953, GO:0016020, GO:0016021, GO:0031224 and another one): 9606.ENSP00000485610 and 9606.ENSP00000413537.</p></li>\n",
       "<li><p class=\"paragraph\">Group with 2 nodes (degree 35 and node types CL:37591, CL:37592, CL:37748, CL:37749, CL:37750 and other 3): 9606.ENSP00000469705 and 9606.ENSP00000484537.</p></li>\n",
       "<li><p class=\"paragraph\">Group with 2 nodes (degree 27 and node types CL:31664, CL:31665, CL:31700, CL:31716 and PF15483): 9606.ENSP00000482270 and 9606.ENSP00000480355.</p></li>\n",
       "<li><p class=\"paragraph\">Group with 2 nodes (degree 26 and node types GO:0005622, GO:0005737, GO:0005794, GO:0012505, GO:0043226 and other 8): 9606.ENSP00000421586 and 9606.ENSP00000479373.</p></li>\n",
       "<li><p class=\"paragraph\">Group with 2 nodes (degree 22 and node types BTO:0000000, BTO:0000042, BTO:0000123, BTO:0001244, BTO:0001418 and other 33): 9606.ENSP00000433597 and 9606.ENSP00000389275.</p></li></ol><p class=\"paragraph\">And another isomorphic node group.</p><h4 style=\"margin: 1em 0 0 0;\">Tendrils</h4><p class=\"paragraph\">A tendril is a path starting from a node of degree one, connected to a strongly connected component. We have detected 16 tendrils in the graph, involving a total of 16 nodes (0.08%) and 16 edges. The detected tendrils are:</p><ul class=\"large-columns\"><li><p class=\"paragraph\">Tendril starting from the root node 9606.ENSP00000006777 (degree 290), and containing a single other node, 9606.ENSP00000363495. Its nodes have 21 node types, of which the 10 most common are BTO:0000083, KW-0496, BTO:0000522, GO:0110165, BTO:0001489, BTO:0000254, BTO:0003099, GO:0005622, GO:0005737 and BTO:0001488.</p></li>\n",
       "<li><p class=\"paragraph\">Tendril starting from the root node 9606.ENSP00000259631 (degree 438), and containing a single other node, 9606.ENSP00000457701.</p></li>\n",
       "<li><p class=\"paragraph\">Tendril starting from the root node 9606.ENSP00000261692 (degree 371), and containing a single other node, 9606.ENSP00000363242. Its nodes have 31 node types, of which the 10 most common are GO:0031981, GO:0016604, GO:0043229, PF13843, GO:0003677, GO:0043233, GO:0110165, BTO:0000042, BTO:0000123 and IPR029526.</p></li>\n",
       "<li><p class=\"paragraph\">Tendril starting from the root node 9606.ENSP00000298815 (degree 447), and containing a single other node, 9606.ENSP00000303999. Its nodes have 4 node types, which are KW-0472, CL:29064, KW-0812 and KW-1133.</p></li>\n",
       "<li><p class=\"paragraph\">Tendril starting from the root node 9606.ENSP00000316130 (degree 171), and containing a single other node, 9606.ENSP00000332389. Its nodes have 15 node types, of which the 10 most common are GO:0110165, GO:0042127, GO:0050794, KW-0472, GO:0016020, PF04089, GO:0016021, GO:0005576, GO:0050789 and KW-1133.</p></li>\n",
       "<li><p class=\"paragraph\">Tendril starting from the root node 9606.ENSP00000328287 (degree 1.50K), and containing a single other node, 9606.ENSP00000476986. Its nodes have a single node type, which is KW-0025.</p></li></ul><p class=\"paragraph\">And other 10 tendrils.</p></div>"
      ],
      "text/plain": [
       "<div class=\"graph-report\"><style>.graph-report li {margin: 0.5em 0 0.5em 0;}.graph-report .paragraph {text-align: justify;word-break: break-all;}.graph-report .small-columns {column-count: 4;column-gap: 2em;}.graph-report .medium-columns {column-count: 3;column-gap: 2em;}.graph-report .large-columns {column-count: 2;column-gap: 2em;}.graph-report .single-column {}@media only screen and (max-width: 600px) {.graph-report .small-columns {column-count: 1;}.graph-report .medium-columns {column-count: 1;}.graph-report .large-columns {column-count: 1;}}@media only screen and (min-width: 600px) and (max-width: 800px) {.graph-report .small-columns {column-count: 2;}.graph-report .medium-columns {column-count: 1;}.graph-report .large-columns {column-count: 1;}}@media only screen and (min-width: 800px) and (max-width: 1024px) {.graph-report .small-columns {column-count: 3;}.graph-report .medium-columns {column-count: 2;}.graph-report .large-columns {column-count: 1;}}</style><h2>HomoSapiens</h2><p class=\"paragraph\">The undirected graph HomoSapiens has 19.57K heterogeneous nodes and 5.97M edges. The graph contains 182 connected components (of which 181 are disconnected nodes), with the largest one containing 19.39K nodes and the smallest one containing a single node. The RAM requirements for the nodes and edges data structures are 2.67MB and 11.71MB respectively.</p><h3 style=\"margin: 1em 0 0 0;\">Degree centrality</h3><p class=\"paragraph\">The minimum node degree is 0, the maximum node degree is 7.51K, the mode degree is 0, the mean degree is 610.17 and the node degree median is 485.</p><p class=\"paragraph\">The nodes with the highest degree centrality are 9606.ENSP00000229239 (degree 7.51K and node types BTO:0000000, BTO:0000007, BTO:0000020, BTO:0000032, BTO:0000035 and other 554), 9606.ENSP00000349960 (degree 6.94K and node types BTO:0000000, BTO:0000007, BTO:0000020, BTO:0000042, BTO:0000058 and other 696), 9606.ENSP00000451828 (degree 5.92K and node types BTO:0000000, BTO:0000003, BTO:0000018, BTO:0000042, BTO:0000047 and other 1.37K), 9606.ENSP00000298910 (degree 5.80K and node types BTO:0000000, BTO:0000042, BTO:0000138, BTO:0000142, BTO:0000143 and other 984) and 9606.ENSP00000269305 (degree 5.65K and node types BTO:0000000, BTO:0000003, BTO:0000018, BTO:0000042, BTO:0000058 and other 1.35K).</p><h3 style=\"margin: 1em 0 0 0;\">Weights</h3><p class=\"paragraph\">The minimum edge weight is 150, the maximum edge weight is 999 and the total edge weight is 3342953700. The RAM requirement for the edge weights data structure is 47.75MB.</p><h3 style=\"margin: 1em 0 0 0;\">Node types</h3><p class=\"paragraph\">The graph has 62.23K node types, of which the 10 most common are GO:0110165 (17.79K nodes, 90.91%), GO:0009987 (15.02K nodes, 76.79%), BTO:0000000 (14.94K nodes, 76.37%), BTO:0000042 (14.89K nodes, 76.13%), GO:0005622 (14.28K nodes, 72.96%), GOCC:0110165 (13.85K nodes, 70.80%), GO:0043226 (13.52K nodes, 69.07%), BTO:0001489 (12.62K nodes, 64.49%), GO:0043229 (12.53K nodes, 64.03%) and GO:0005488 (12.52K nodes, 63.97%). The node types are multi-label, and the node with most node types has 1379 node types. The RAM requirement for the node types data structure is 19.13MB.</p><h4 style=\"margin: 1em 0 0 0;\">Approximated isomorphic node types</h4><p class=\"paragraph\">Approximated isomorphic node types groups are node types describing exactly the same set of nodes. Since the graph has a high number of node types (> 50.00K) we use an approximated version of the node types isomorphisms detection. Note that hash collisions and false positives are possible. It is possible to execute the exact computation with the <code>get_isomorphic_node_type_ids_groups</code> method. The presence of such duplicated node types suggests a potential modelling error in the pipeline that has produced this graph. 9.34K isomorphic node types groups were detected in this graph.</p><ol><li><p class=\"paragraph\">Isomorphic node type group containing 3 node types (5.86K nodes, 29.93%), which are: GO:0031974, GO:0043233 and GO:0070013.</p></li>\n",
       "<li><p class=\"paragraph\">Isomorphic node type group containing 2 node types (3.06K nodes, 15.65%), which are: GO:0006464 and GO:0036211.</p></li>\n",
       "<li><p class=\"paragraph\">Isomorphic node type group containing 2 node types (2.82K nodes, 14.39%), which are: GOCC:0031974 and GOCC:0043233.</p></li>\n",
       "<li><p class=\"paragraph\">Isomorphic node type group containing 2 node types (1.45K nodes, 7.43%), which are: GO:0038023 and GO:0060089.</p></li>\n",
       "<li><p class=\"paragraph\">Isomorphic node type group containing 2 node types (1.21K nodes, 6.20%), which are: GO:0031967 and GO:0031975.</p></li>\n",
       "<li><p class=\"paragraph\">Isomorphic node type group containing 2 node types (1.16K nodes, 5.95%), which are: GO:0010562 and GO:0045937.</p></li>\n",
       "<li><p class=\"paragraph\">Isomorphic node type group containing 2 node types (1.02K nodes, 5.20%), which are: GO:0048870 and GO:0051674.</p></li>\n",
       "<li><p class=\"paragraph\">Isomorphic node type group containing 2 node types (814 nodes, 4.16%), which are: GO:0016817 and GO:0016818.</p></li>\n",
       "<li><p class=\"paragraph\">Isomorphic node type group containing 2 node types (698 nodes, 3.57%), which are: GO:0000323 and GO:0005764.</p></li>\n",
       "<li><p class=\"paragraph\">Isomorphic node type group containing 2 node types (648 nodes, 3.31%), which are: BTO:0000775 and BTO:0001096.</p></li></ol><p class=\"paragraph\">And other 9.33K isomorphic node types.</p><h4 style=\"margin: 1em 0 0 0;\">Singleton node types</h4><p class=\"paragraph\">Singleton node types are node types that are assigned exclusively to a single node, making the node type relatively meaningless, as it adds no more information than the node name itself. The graph contains 16.85K singleton node types, which are IPR028927 (9606.ENSP00000000412 (degree 480 and node types BTO:0000000, BTO:0000042, BTO:0000080, BTO:0000081, BTO:0000082 and other 188)), GO:0006463 (9606.ENSP00000001008 (degree 1.70K and node types BTO:0000000, BTO:0000042, BTO:0000081, BTO:0000083, BTO:0000089 and other 332)), IPR031212 (9606.ENSP00000001008 (degree 1.70K and node types BTO:0000000, BTO:0000042, BTO:0000081, BTO:0000083, BTO:0000089 and other 332)), IPR003788 (9606.ENSP00000002125 (degree 357 and node types BTO:0000000, BTO:0000042, BTO:0000081, BTO:0000083, BTO:0000176 and other 115)), IPR038375 (9606.ENSP00000002125 (degree 357 and node types BTO:0000000, BTO:0000042, BTO:0000081, BTO:0000083, BTO:0000176 and other 115)), PF02636 (9606.ENSP00000002125 (degree 357 and node types BTO:0000000, BTO:0000042, BTO:0000081, BTO:0000083, BTO:0000176 and other 115)), BTO:0001193 (9606.ENSP00000003084 (degree 1.91K and node types BTO:0000000, BTO:0000003, BTO:0000042, BTO:0000081, BTO:0000082 and other 558)), BTO:0002032 (9606.ENSP00000003084 (degree 1.91K and node types BTO:0000000, BTO:0000003, BTO:0000042, BTO:0000081, BTO:0000082 and other 558)), BTO:0002750 (9606.ENSP00000003084 (degree 1.91K and node types BTO:0000000, BTO:0000003, BTO:0000042, BTO:0000081, BTO:0000082 and other 558)) and BTO:0004445 (9606.ENSP00000003084 (degree 1.91K and node types BTO:0000000, BTO:0000003, BTO:0000042, BTO:0000081, BTO:0000082 and other 558)), plus other 16.84K singleton node types.</p><h4 style=\"margin: 1em 0 0 0;\">Unknown node types</h4><p class=\"paragraph\">Nodes with unknown node types are nodes with a node type that was not provided during the creation of the graph, which may be desired as the output of a node-label holdout. The graph contains 159 nodes with unknown node type, which are 9606.ENSP00000239125 (degree 1), 9606.ENSP00000278779, 9606.ENSP00000303234 (degree 1), 9606.ENSP00000326574 (degree 2), 9606.ENSP00000362001, 9606.ENSP00000365108, 9606.ENSP00000366765, 9606.ENSP00000367360, 9606.ENSP00000367983 and 9606.ENSP00000368055, plus other 149 nodes with unknown node types, making up 0.81 of the nodes.</p><h3 style=\"margin: 1em 0 0 0;\">Topological Oddities</h3><p class=\"paragraph\">A topological oddity is a set of nodes in the graph that <i>may be derived</i> by an error during the generation of the edge list of the graph and, depending on the task, could bias the results of topology-based models. In the following paragraph, we will describe the detected topological oddities.</p><h4 style=\"margin: 1em 0 0 0;\">Singleton nodes</h4><p class=\"paragraph\">A singleton node is a node disconnected from all other nodes. We have detected 181 singleton nodes in the graph, involving a total of 181 nodes (0.93%). The detected singleton nodes are:</p><ul class=\"small-columns\"><li><p class=\"paragraph\">9606.ENSP00000278779 (unknown node type)</p></li>\n",
       "<li><p class=\"paragraph\">9606.ENSP00000313324 (node types GO:0016020, GO:0016021, GO:0031224, GO:0110165, IPR031696 and other 6)</p></li>\n",
       "<li><p class=\"paragraph\">9606.ENSP00000315794 (node type KW-0621)</p></li>\n",
       "<li><p class=\"paragraph\">9606.ENSP00000316644 (node type KW-0025)</p></li>\n",
       "<li><p class=\"paragraph\">9606.ENSP00000323241 (node type KW-0621)</p></li>\n",
       "<li><p class=\"paragraph\">9606.ENSP00000335616 (node types BTO:0000000, BTO:0000042, BTO:0000142, BTO:0000211, BTO:0000227 and other 16)</p></li>\n",
       "<li><p class=\"paragraph\">9606.ENSP00000362001 (unknown node type)</p></li>\n",
       "<li><p class=\"paragraph\">9606.ENSP00000365108 (unknown node type)</p></li>\n",
       "<li><p class=\"paragraph\">9606.ENSP00000365173 (node type KW-0025)</p></li>\n",
       "<li><p class=\"paragraph\">9606.ENSP00000366765 (unknown node type)</p></li>\n",
       "<li><p class=\"paragraph\">9606.ENSP00000367360 (unknown node type)</p></li>\n",
       "<li><p class=\"paragraph\">9606.ENSP00000367449 (node types GO:0016020, GO:0016021, GO:0031224, GO:0110165, KW-0472 and other 3)</p></li>\n",
       "<li><p class=\"paragraph\">9606.ENSP00000367983 (unknown node type)</p></li>\n",
       "<li><p class=\"paragraph\">9606.ENSP00000368055 (unknown node type)</p></li>\n",
       "<li><p class=\"paragraph\">9606.ENSP00000368292 (node types GO:0016020, GO:0016021, GO:0031224, GO:0110165, KW-0472 and other 2)</p></li></ul><p class=\"paragraph\">And other 166 singleton nodes.</p><h4 style=\"margin: 1em 0 0 0;\">Isomorphic node groups</h4><p class=\"paragraph\">Isomorphic groups are nodes with exactly the same neighbours and node types (if present in the graph). Nodes in such groups are topologically indistinguishable, that is swapping their ID would not change the graph topology. We have detected 16 isomorphic node groups in the graph, involving a total of 35 nodes (0.18%) and 4.46K edges (0.04%), with the largest one involving 3 nodes and 1.88K edges. The detected isomorphic node groups, sorted by decreasing size, are:</p><ol class=\"medium-columns\"><li><p class=\"paragraph\">Group with 2 nodes (degree 941 and node types CL:3465, CL:3467, CL:3468, CL:3470, GO:0000413 and other 43): 9606.ENSP00000464619 and 9606.ENSP00000485638.</p></li>\n",
       "<li><p class=\"paragraph\">Group with 2 nodes (degree 397 and node type CL:4123): 9606.ENSP00000449334 and 9606.ENSP00000449223.</p></li>\n",
       "<li><p class=\"paragraph\">Group with 2 nodes (degree 216 and node types CL:37858, CL:37859, CL:37955, CL:37957, KW-0472 and other 3): 9606.ENSP00000439534 and 9606.ENSP00000456868.</p></li>\n",
       "<li><p class=\"paragraph\">Group with 3 nodes (degree 93 and node types CL:36688, CL:36774, CL:36775, CL:36776, CL:36803 and other 16): 9606.ENSP00000455596, 9606.ENSP00000339405 and 9606.ENSP00000485635.</p></li>\n",
       "<li><p class=\"paragraph\">Group with 2 nodes (degree 92 and node types CL:36688, CL:36774, CL:36775, CL:36776, GO:0005622 and other 15): 9606.ENSP00000485467 and 9606.ENSP00000455132.</p></li>\n",
       "<li><p class=\"paragraph\">Group with 3 nodes (degree 57 and node types CL:34541, CL:34542, CL:34650, GO:0000137, GO:0000139 and other 30): 9606.ENSP00000456894, 9606.ENSP00000457904 and 9606.ENSP00000323217.</p></li>\n",
       "<li><p class=\"paragraph\">Group with 2 nodes (degree 65 and node types CL:30792, CL:30793, CL:30794, CL:30936 and PF15623): 9606.ENSP00000392283 and 9606.ENSP00000393315.</p></li>\n",
       "<li><p class=\"paragraph\">Group with 2 nodes (degree 56 and node types CL:34541, CL:34542, CL:34650, CL:34696, GO:0000137 and other 29): 9606.ENSP00000391085 and 9606.ENSP00000300576.</p></li>\n",
       "<li><p class=\"paragraph\">Group with 3 nodes (degree 30 and node types GO:0003676, GO:0003677, GO:0005488, GO:0005622, GO:0005634 and other 45): 9606.ENSP00000382987, 9606.ENSP00000477043 and 9606.ENSP00000472160.</p></li>\n",
       "<li><p class=\"paragraph\">Group with 2 nodes (degree 41 and node types CL:31264, KW-0025 and KW-0621): 9606.ENSP00000330267 and 9606.ENSP00000485194.</p></li>\n",
       "<li><p class=\"paragraph\">Group with 2 nodes (degree 37 and node types CL:21787, CL:21953, GO:0016020, GO:0016021, GO:0031224 and another one): 9606.ENSP00000485610 and 9606.ENSP00000413537.</p></li>\n",
       "<li><p class=\"paragraph\">Group with 2 nodes (degree 35 and node types CL:37591, CL:37592, CL:37748, CL:37749, CL:37750 and other 3): 9606.ENSP00000469705 and 9606.ENSP00000484537.</p></li>\n",
       "<li><p class=\"paragraph\">Group with 2 nodes (degree 27 and node types CL:31664, CL:31665, CL:31700, CL:31716 and PF15483): 9606.ENSP00000482270 and 9606.ENSP00000480355.</p></li>\n",
       "<li><p class=\"paragraph\">Group with 2 nodes (degree 26 and node types GO:0005622, GO:0005737, GO:0005794, GO:0012505, GO:0043226 and other 8): 9606.ENSP00000421586 and 9606.ENSP00000479373.</p></li>\n",
       "<li><p class=\"paragraph\">Group with 2 nodes (degree 22 and node types BTO:0000000, BTO:0000042, BTO:0000123, BTO:0001244, BTO:0001418 and other 33): 9606.ENSP00000433597 and 9606.ENSP00000389275.</p></li></ol><p class=\"paragraph\">And another isomorphic node group.</p><h4 style=\"margin: 1em 0 0 0;\">Tendrils</h4><p class=\"paragraph\">A tendril is a path starting from a node of degree one, connected to a strongly connected component. We have detected 16 tendrils in the graph, involving a total of 16 nodes (0.08%) and 16 edges. The detected tendrils are:</p><ul class=\"large-columns\"><li><p class=\"paragraph\">Tendril starting from the root node 9606.ENSP00000006777 (degree 290), and containing a single other node, 9606.ENSP00000363495. Its nodes have 21 node types, of which the 10 most common are GO:0005622, BTO:0000254, GO:0005739, BTO:0003091, GO:0043226, BTO:0001489, BTO:0000975, GO:0043229, BTO:0000000 and BTO:0001488.</p></li>\n",
       "<li><p class=\"paragraph\">Tendril starting from the root node 9606.ENSP00000259631 (degree 438), and containing a single other node, 9606.ENSP00000457701.</p></li>\n",
       "<li><p class=\"paragraph\">Tendril starting from the root node 9606.ENSP00000261692 (degree 371), and containing a single other node, 9606.ENSP00000363242. Its nodes have 31 node types, of which the 10 most common are GO:0005654, BTO:0000000, KW-0597, IPR029526, GO:0003676, GO:0005622, KW-0238, BTO:0000042, BTO:0001489 and GO:0031981.</p></li>\n",
       "<li><p class=\"paragraph\">Tendril starting from the root node 9606.ENSP00000298815 (degree 447), and containing a single other node, 9606.ENSP00000303999. Its nodes have 4 node types, which are KW-0812, KW-0472, CL:29064 and KW-1133.</p></li>\n",
       "<li><p class=\"paragraph\">Tendril starting from the root node 9606.ENSP00000316130 (degree 171), and containing a single other node, 9606.ENSP00000332389. Its nodes have 15 node types, of which the 10 most common are GO:0050789, GO:0031224, GO:0042127, SM01039, PF04089, KW-0472, KW-0812, GO:0005576, KW-1133 and GO:0016020.</p></li>\n",
       "<li><p class=\"paragraph\">Tendril starting from the root node 9606.ENSP00000328287 (degree 1.50K), and containing a single other node, 9606.ENSP00000476986. Its nodes have a single node type, which is KW-0025.</p></li></ul><p class=\"paragraph\">And other 10 tendrils.</p></div>"
      ]
     },
     "execution_count": 8,
     "metadata": {},
     "output_type": "execute_result"
    }
   ],
   "source": [
    "homosapiens"
   ]
  },
  {
   "cell_type": "markdown",
   "metadata": {
    "id": "33OEMpm1SV10"
   },
   "source": [
    "# Caching folder structure\n",
    "The graphs are downloaded in the `./graphs` folder. More precisely, the folders follows this naming convention: `./graphs/REPOSITORY/GRAPH_NAME/VERSION`. Inside this folder will be downloaded, and extracted if needed, the files for the choosen graph. Then, if preprocessing is not disables, the folder `./graphs/REPOSITORY/GRAPH_NAME/VERSION/processed/DIRECTED_OR_UNDIRECTED/` will be created containg the optimized and standardize files.\n",
    "\n",
    "To see an example of how this folder is structured we can use the library `seedir` on colab, or just a simple file browser on a local machine."
   ]
  },
  {
   "cell_type": "code",
   "execution_count": 9,
   "metadata": {
    "id": "oPwQ6m3Jjenm"
   },
   "outputs": [
    {
     "name": "stdout",
     "output_type": "stream",
     "text": [
      "\u001b[33mWARNING: You are using pip version 22.0.4; however, version 22.1.2 is available.\r\n",
      "You should consider upgrading via the '/Users/lucacappelletti/opt/miniconda3/bin/python -m pip install --upgrade pip' command.\u001b[0m\r\n"
     ]
    }
   ],
   "source": [
    "! pip install seedir --quiet"
   ]
  },
  {
   "cell_type": "code",
   "execution_count": 10,
   "metadata": {
    "colab": {
     "base_uri": "https://localhost:8080/"
    },
    "id": "D4lihmG9jglq",
    "outputId": "20f001a0-c89f-4069-d671-ab30cf85876e"
   },
   "outputs": [
    {
     "name": "stdout",
     "output_type": "stream",
     "text": [
      "graphs/\n",
      "├─kgobo/\n",
      "│ └─ZFS/\n",
      "│   └─2020-03-10/\n",
      "│     ├─preprocessed/\n",
      "│     │ └─undirected/\n",
      "│     │   └─d26389eb68063882c73a6e08922ab136ea5260d09ac14ef436c94b9790181b88/\n",
      "│     │     ├─edges.tsv\n",
      "│     │     ├─metadata.json\n",
      "│     │     ├─edge_types.tsv\n",
      "│     │     ├─node_types.tsv\n",
      "│     │     └─nodes.tsv\n",
      "│     ├─zfs_kgx_tsv.tar.gz\n",
      "│     └─zfs_kgx_tsv/\n",
      "│       ├─zfs_kgx_tsv_edges.tsv\n",
      "│       └─zfs_kgx_tsv_nodes.tsv\n",
      "├─linqs/\n",
      "│ └─Cora/\n",
      "│   └─latest/\n",
      "│     ├─edges.tsv\n",
      "│     ├─preprocessed/\n",
      "│     │ └─undirected/\n",
      "│     │   └─6520106ecde87b4fc40d3c3c3aeb7c3922d39db88496f84d516173a548ef1457/\n",
      "│     │     ├─edges.tsv\n",
      "│     │     ├─metadata.json\n",
      "│     │     ├─edge_types.tsv\n",
      "│     │     ├─node_types.tsv\n",
      "│     │     └─nodes.tsv\n",
      "│     ├─cora/\n",
      "│     │ └─cora/\n",
      "│     │   ├─cora.content\n",
      "│     │   ├─README\n",
      "│     │   └─cora.cites\n",
      "│     ├─cora.tgz\n",
      "│     └─nodes.tsv\n",
      "├─kghub/\n",
      "│ └─KGMicrobe/\n",
      "│   └─current/\n",
      "│     ├─preprocessed/\n",
      "│     │ └─undirected/\n",
      "│     │   └─1a89d82964ea842fc88b4d564b6a456de30db37136e74a21f5fd7d157c2b469f/\n",
      "│     │     ├─edges.tsv\n",
      "│     │     ├─metadata.json\n",
      "│     │     ├─edge_types.tsv\n",
      "│     │     ├─node_types.tsv\n",
      "│     │     └─nodes.tsv\n",
      "│     ├─kg-microbe.tar.gz\n",
      "│     └─kg-microbe/\n",
      "│       ├─merged-kg_edges.tsv\n",
      "│       └─merged-kg_nodes.tsv\n",
      "└─string/\n",
      "  └─HomoSapiens/\n",
      "    └─links.v11.5/\n",
      "      ├─9606.protein.complete.v11.5.txt\n",
      "      ├─9606.protein.info.v11.5.txt\n",
      "      ├─preprocessed/\n",
      "      │ └─undirected/\n",
      "      │   └─78c6f83439618a1cb90c0c2cfe1a63288e82f0fc2bee791aa78105b1f75969c3/\n",
      "      │     ├─edges.tsv\n",
      "      │     ├─metadata.json\n",
      "      │     ├─node_types.tsv\n",
      "      │     └─nodes.tsv\n",
      "      ├─9606.protein.enrichment.terms.v11.5.txt\n",
      "      ├─9606.protein.sequences.v11.5.fa.gz\n",
      "      ├─9606.protein.links.v11.5.txt\n",
      "      ├─9606.protein.links.v11.5.txt.gz\n",
      "      ├─9606.protein.enrichment.terms.v11.5.txt.gz\n",
      "      ├─9606.protein.sequences.v11.5.fa\n",
      "      └─9606.protein.info.v11.5.txt.gz\n"
     ]
    }
   ],
   "source": [
    "from seedir import seedir\n",
    "seedir(\"./graphs\")"
   ]
  },
  {
   "cell_type": "code",
   "execution_count": 20,
   "metadata": {},
   "outputs": [],
   "source": [
    "from glob import glob\n",
    "\n",
    "node_path = glob(\"./graphs/string/HomoSapiens/links.v11.5/**/nodes.tsv\", recursive=True)[0]\n",
    "edge_path = glob(\"./graphs/string/HomoSapiens/links.v11.5/**/edges.tsv\", recursive=True)[0]"
   ]
  },
  {
   "cell_type": "markdown",
   "metadata": {
    "id": "JqTXLjzaX9ZQ"
   },
   "source": [
    "# Adding a graph to Ensmallen\n",
    "\n",
    "If a graph is not available, you can open a Github Issue [here](https://github.com/AnacletoLAB/ensmallen/issues) providing permanent links to the graph data, and, if possible, in the next release we will add it to the automatical retrival pipeline. To speed-up the process you can add in the Issue the parameters needed to load your graph using the `from_csv` mehtod, explained in the following section."
   ]
  },
  {
   "cell_type": "markdown",
   "metadata": {
    "id": "o_SxyDIzoeRN"
   },
   "source": [
    "# Manually loading a graph\n",
    "You can also load manually a graph. Ensmallen supports only tsv / csv edge lists, and you can optionally also provide Nodes, Node Types, Edge Types lists.\n",
    "\n",
    "As an example to explain how this can be done, let's manually load the pre-processed files for the graph previously downloaded.\n",
    "\n",
    "This can be done using the `from_csv` method, which has **a lot** of optional parameters:"
   ]
  },
  {
   "cell_type": "code",
   "execution_count": 21,
   "metadata": {
    "colab": {
     "base_uri": "https://localhost:8080/"
    },
    "id": "BTYk0phhQlk9",
    "outputId": "e689c9de-43a4-4f0f-cd2d-97894fc1f4f4"
   },
   "outputs": [
    {
     "name": "stdout",
     "output_type": "stream",
     "text": [
      "Help on built-in function from_csv:\n",
      "\n",
      "from_csv(node_type_path, node_type_list_separator, node_types_column_number, node_types_column, node_types_ids_column_number, node_types_ids_column, node_types_number, numeric_node_type_ids, minimum_node_type_id, node_type_list_header, node_type_list_support_balanced_quotes, node_type_list_rows_to_skip, node_type_list_is_correct, node_type_list_max_rows_number, node_type_list_comment_symbol, load_node_type_list_in_parallel, node_path, node_list_separator, node_list_header, node_list_support_balanced_quotes, node_list_rows_to_skip, node_list_is_correct, node_list_max_rows_number, node_list_comment_symbol, default_node_type, nodes_column_number, nodes_column, node_types_separator, node_list_node_types_column_number, node_list_node_types_column, node_ids_column, node_ids_column_number, nodes_number, minimum_node_id, numeric_node_ids, node_list_numeric_node_type_ids, skip_node_types_if_unavailable, load_node_list_in_parallel, edge_type_path, edge_types_column_number, edge_types_column, edge_types_ids_column_number, edge_types_ids_column, edge_types_number, numeric_edge_type_ids, minimum_edge_type_id, edge_type_list_separator, edge_type_list_header, edge_type_list_support_balanced_quotes, edge_type_list_rows_to_skip, edge_type_list_is_correct, edge_type_list_max_rows_number, edge_type_list_comment_symbol, load_edge_type_list_in_parallel, edge_path, edge_list_separator, edge_list_header, edge_list_support_balanced_quotes, edge_list_rows_to_skip, sources_column_number, sources_column, destinations_column_number, destinations_column, edge_list_edge_types_column_number, edge_list_edge_types_column, default_edge_type, weights_column_number, weights_column, default_weight, edge_ids_column, edge_ids_column_number, edge_list_numeric_edge_type_ids, edge_list_numeric_node_ids, skip_weights_if_unavailable, skip_edge_types_if_unavailable, edge_list_is_complete, edge_list_may_contain_duplicates, edge_list_is_sorted, edge_list_is_correct, edge_list_max_rows_number, edge_list_comment_symbol, edges_number, load_edge_list_in_parallel, verbose, may_have_singletons, may_have_singleton_with_selfloops, directed, name)\n",
      "    Return graph renderized from given CSVs or TSVs-like files.\n",
      "    \n",
      "    Parameters\n",
      "    ----------\n",
      "    node_type_path: Optional[str]\n",
      "        The path to the file with the unique node type names.\n",
      "    node_type_list_separator: Optional[str]\n",
      "        The separator to use for the node types file. Note that if this is not provided, one will be automatically detected among the following`: comma, semi-column, tab and space.\n",
      "    node_types_column_number: Optional[int]\n",
      "        The number of the column of the node types file from where to load the node types.\n",
      "    node_types_column: Optional[str]\n",
      "        The name of the column of the node types file from where to load the node types.\n",
      "    node_types_number: Optional[int]\n",
      "        The number of the unique node types. This will be used in order to allocate the correct size for the data structure.\n",
      "    numeric_node_type_ids: Optional[bool]\n",
      "        Whether the node type names should be loaded as numeric values, i.e. casted from string to a numeric representation.\n",
      "    minimum_node_type_id: Optional[int]\n",
      "        The minimum node type ID to be used when using numeric node type IDs.\n",
      "    node_type_list_header: Optional[bool]\n",
      "        Whether the node type file has an header.\n",
      "    node_type_list_support_balanced_quotes: Optional[bool]\n",
      "        Whether to support balanced quotes.\n",
      "    node_type_list_rows_to_skip: Optional[int]\n",
      "        The number of lines to skip in the node types file`: the header is already skipped if it has been specified that the file has an header.\n",
      "    node_type_list_is_correct: Optional[bool]\n",
      "        Whether the node types file can be assumed to be correct, i.e. does not have something wrong in it. If this parameter is passed as true on a malformed file, the constructor will crash.\n",
      "    node_type_list_max_rows_number: Optional[int]\n",
      "        The maximum number of lines to be loaded from the node types file.\n",
      "    node_type_list_comment_symbol: Optional[str]\n",
      "        The comment symbol to skip lines in the node types file. Lines starting with this symbol will be skipped.\n",
      "    load_node_type_list_in_parallel: Optional[bool]\n",
      "        Whether to load the node type list in parallel. Note that when loading in parallel, the internal order of the node type IDs may result changed across different iterations. We are working to get this to be stable.\n",
      "    node_path: Optional[str]\n",
      "        The path to the file with the unique node names.\n",
      "    node_list_separator: Optional[str]\n",
      "        The separator to use for the nodes file. Note that if this is not provided, one will be automatically detected among the following`: comma, semi-column, tab and space.\n",
      "    node_list_header: Optional[bool]\n",
      "        Whether the nodes file has an header.\n",
      "    node_list_support_balanced_quotes: Optional[bool]\n",
      "        Whether to support balanced quotes.\n",
      "    node_list_rows_to_skip: Optional[int]\n",
      "        Number of rows to skip in the node list file.\n",
      "    node_list_is_correct: Optional[bool]\n",
      "        Whether the nodes file can be assumed to be correct, i.e. does not have something wrong in it. If this parameter is passed as true on a malformed file, the constructor will crash.\n",
      "    node_list_max_rows_number: Optional[int]\n",
      "        The maximum number of lines to be loaded from the nodes file.\n",
      "    node_list_comment_symbol: Optional[str]\n",
      "        The comment symbol to skip lines in the nodes file. Lines starting with this symbol will be skipped.\n",
      "    default_node_type: Optional[str]\n",
      "        The node type to be used when the node type for a given node in the node file is None.\n",
      "    nodes_column_number: Optional[int]\n",
      "        The number of the column of the node file from where to load the node names.\n",
      "    nodes_column: Optional[str]\n",
      "        The name of the column of the node file from where to load the node names.\n",
      "    node_types_separator: Optional[str]\n",
      "        The node types separator.\n",
      "    node_list_node_types_column_number: Optional[int]\n",
      "        The number of the column of the node file from where to load the node types.\n",
      "    node_list_node_types_column: Optional[str]\n",
      "        The name of the column of the node file from where to load the node types.\n",
      "    node_ids_column: Optional[str]\n",
      "        The name of the column of the node file from where to load the node IDs.\n",
      "    node_ids_column_number: Optional[int]\n",
      "        The number of the column of the node file from where to load the node IDs\n",
      "    nodes_number: Optional[int]\n",
      "        The expected number of nodes. Note that this must be the EXACT number of nodes in the graph.\n",
      "    minimum_node_id: Optional[int]\n",
      "        The minimum node ID to be used, when loading the node IDs as numerical.\n",
      "    numeric_node_ids: Optional[bool]\n",
      "        Whether to load the numeric node IDs as numeric.\n",
      "    node_list_numeric_node_type_ids: Optional[bool]\n",
      "        Whether to load the node types IDs in the node file to be numeric.\n",
      "    skip_node_types_if_unavailable: Optional[bool]\n",
      "        Whether to skip the node types without raising an error if these are unavailable.\n",
      "    load_node_list_in_parallel: Optional[bool]\n",
      "        Whether to load the node list in parallel. When loading in parallel, without node IDs, the nodes may not be loaded in a deterministic order.\n",
      "    edge_type_path: Optional[str]\n",
      "        The path to the file with the unique edge type names.\n",
      "    edge_types_column_number: Optional[int]\n",
      "        The number of the column of the edge types file from where to load the edge types.\n",
      "    edge_types_column: Optional[str]\n",
      "        The name of the column of the edge types file from where to load the edge types.\n",
      "    edge_types_number: Optional[int]\n",
      "        The number of the unique edge types. This will be used in order to allocate the correct size for the data structure.\n",
      "    numeric_edge_type_ids: Optional[bool]\n",
      "        Whether the edge type names should be loaded as numeric values, i.e. casted from string to a numeric representation.\n",
      "    minimum_edge_type_id: Optional[int]\n",
      "        The minimum edge type ID to be used when using numeric edge type IDs.\n",
      "    edge_type_list_separator: Optional[str]\n",
      "        The separator to use for the edge type list. Note that, if None is provided, one will be attempted to be detected automatically between ';', ',', tab or space.\n",
      "    edge_type_list_header: Optional[bool]\n",
      "        Whether the edge type file has an header.\n",
      "    edge_type_list_support_balanced_quotes: Optional[bool]\n",
      "        Whether to support balanced quotes while reading the edge type list.\n",
      "    edge_type_list_rows_to_skip: Optional[int]\n",
      "        Number of rows to skip in the edge type list file.\n",
      "    edge_type_list_is_correct: Optional[bool]\n",
      "        Whether the edge types file can be assumed to be correct, i.e. does not have something wrong in it. If this parameter is passed as true on a malformed file, the constructor will crash.\n",
      "    edge_type_list_max_rows_number: Optional[int]\n",
      "        The maximum number of lines to be loaded from the edge types file.\n",
      "    edge_type_list_comment_symbol: Optional[str]\n",
      "        The comment symbol to skip lines in the edge types file. Lines starting with this symbol will be skipped.\n",
      "    load_edge_type_list_in_parallel: Optional[bool]\n",
      "        Whether to load the edge type list in parallel. When loading in parallel, without edge type IDs, the edge types may not be loaded in a deterministic order.\n",
      "    edge_path: Optional[str]\n",
      "        The path to the file with the edge list.\n",
      "    edge_list_separator: Optional[str]\n",
      "        The separator to use for the edge list. Note that, if None is provided, one will be attempted to be detected automatically between ';', ',', tab or space.\n",
      "    edge_list_header: Optional[bool]\n",
      "        Whether the edges file has an header.\n",
      "    edge_list_support_balanced_quotes: Optional[bool]\n",
      "        Whether to support balanced quotes while reading the edge list.\n",
      "    edge_list_rows_to_skip: Optional[int]\n",
      "        Number of rows to skip in the edge list file.\n",
      "    sources_column_number: Optional[int]\n",
      "        The number of the column of the edges file from where to load the source nodes.\n",
      "    sources_column: Optional[str]\n",
      "        The name of the column of the edges file from where to load the source nodes.\n",
      "    destinations_column_number: Optional[int]\n",
      "        The number of the column of the edges file from where to load the destinaton nodes.\n",
      "    destinations_column: Optional[str]\n",
      "        The name of the column of the edges file from where to load the destinaton nodes.\n",
      "    edge_list_edge_types_column_number: Optional[int]\n",
      "        The number of the column of the edges file from where to load the edge types.\n",
      "    edge_list_edge_types_column: Optional[str]\n",
      "        The name of the column of the edges file from where to load the edge types.\n",
      "    default_edge_type: Optional[str]\n",
      "        The edge type to be used when the edge type for a given edge in the edge file is None.\n",
      "    weights_column_number: Optional[int]\n",
      "        The number of the column of the edges file from where to load the edge weights.\n",
      "    weights_column: Optional[str]\n",
      "        The name of the column of the edges file from where to load the edge weights.\n",
      "    default_weight: Optional[float]\n",
      "        The edge weight to be used when the edge weight for a given edge in the edge file is None.\n",
      "    edge_ids_column: Optional[str]\n",
      "        The name of the column of the edges file from where to load the edge IDs.\n",
      "    edge_ids_column_number: Optional[int]\n",
      "        The number of the column of the edges file from where to load the edge IDs.\n",
      "    edge_list_numeric_edge_type_ids: Optional[bool]\n",
      "        Whether to load the edge type IDs as numeric from the edge list.\n",
      "    edge_list_numeric_node_ids: Optional[bool]\n",
      "        Whether to load the edge node IDs as numeric from the edge list.\n",
      "    skip_weights_if_unavailable: Optional[bool]\n",
      "        Whether to skip the weights without raising an error if these are unavailable.\n",
      "    skip_edge_types_if_unavailable: Optional[bool]\n",
      "        Whether to skip the edge types without raising an error if these are unavailable.\n",
      "    edge_list_is_complete: Optional[bool]\n",
      "        Whether to consider the edge list as complete, i.e. the edges are presented in both directions when loading an undirected graph.\n",
      "    edge_list_may_contain_duplicates: Optional[bool]\n",
      "        Whether the edge list may contain duplicates. If the edge list surely DOES NOT contain duplicates, a validation step may be skipped. By default, it is assumed that the edge list may contain duplicates.\n",
      "    edge_list_is_sorted: Optional[bool]\n",
      "        Whether the edge list is sorted. Note that a sorted edge list has the minimal memory peak, but requires the nodes number and the edges number.\n",
      "    edge_list_is_correct: Optional[bool]\n",
      "        Whether the edges file can be assumed to be correct, i.e. does not have something wrong in it. If this parameter is passed as true on a malformed file, the constructor will crash.\n",
      "    edge_list_max_rows_number: Optional[int]\n",
      "        The maximum number of lines to be loaded from the edges file.\n",
      "    edge_list_comment_symbol: Optional[str]\n",
      "        The comment symbol to skip lines in the edges file. Lines starting with this symbol will be skipped.\n",
      "    edges_number: Optional[int]\n",
      "        The expected number of edges. Note that this must be the EXACT number of edges in the graph.\n",
      "    load_edge_list_in_parallel: Optional[bool]\n",
      "        Whether to load the edge list in parallel. Note that, if the edge IDs indices are not given, it is NOT possible to load a sorted edge list. Similarly, when loading in parallel, without edge IDs, the edges may not be loaded in a deterministic order.\n",
      "    verbose: Optional[bool]\n",
      "        Whether to show a loading bar while reading the files. Note that, if parallel loading is enabled, loading bars will not be showed because they are a synchronization bottleneck.\n",
      "    may_have_singletons: Optional[bool]\n",
      "        Whether the graph may be expected to have singleton nodes. If it is said that it surely DOES NOT have any, it will allow for some speedups and lower mempry peaks.\n",
      "    may_have_singleton_with_selfloops: Optional[bool]\n",
      "        Whether the graph may be expected to have singleton nodes with selfloops. If it is said that it surely DOES NOT have any, it will allow for some speedups and lower mempry peaks.\n",
      "    directed: bool\n",
      "        Whether to load the graph as directed or undirected.\n",
      "    name: Optional[str]\n",
      "        The name of the graph to be loaded.\n",
      "\n"
     ]
    }
   ],
   "source": [
    "from grape import Graph\n",
    "help(Graph.from_csv)"
   ]
  },
  {
   "cell_type": "markdown",
   "metadata": {
    "id": "YnQI0t1QbHvX"
   },
   "source": [
    "We can load the graph as:"
   ]
  },
  {
   "cell_type": "code",
   "execution_count": 23,
   "metadata": {
    "colab": {
     "base_uri": "https://localhost:8080/"
    },
    "id": "v2uL7UYxQl7t",
    "outputId": "433cbe19-0cdc-4894-c2be-8fbe3d5a5c30"
   },
   "outputs": [
    {
     "name": "stdout",
     "output_type": "stream",
     "text": [
      "CPU times: user 15.7 s, sys: 655 ms, total: 16.3 s\n",
      "Wall time: 2.87 s\n"
     ]
    }
   ],
   "source": [
    "%%time\n",
    "manually_loaded_homosapiens = Graph.from_csv(\n",
    "    # Edges related parameters\n",
    "\n",
    "    ## The path to the edges list tsv\n",
    "    edge_path=edge_path,\n",
    "    ## Set the tab as the separator between values\n",
    "    edge_list_separator=\"\\t\",\n",
    "    ## The first rows should NOT be used as the columns names\n",
    "    edge_list_header=False,\n",
    "    ## The source nodes are in the first nodes\n",
    "    sources_column_number=0,\n",
    "    ## The destination nodes are in the second column\n",
    "    destinations_column_number=1,\n",
    "    ## Both source and destinations columns use numeric node_ids instead of node names\n",
    "    edge_list_numeric_node_ids=True,\n",
    "    ## The weights are in the third column\n",
    "    weights_column_number=2,\n",
    "\n",
    "    # Nodes related parameters\n",
    "    ## The path to the nodes list tsv\n",
    "    node_path=node_path,\n",
    "    ## Set the tab as the separator between values\n",
    "    node_list_separator=\"\\t\",\n",
    "    ## The first rows should be used as the columns names\n",
    "    node_list_header=True,\n",
    "    ## The column with the node names is the one with name \"node_name\".\n",
    "    nodes_column=\"node_name\",\n",
    "\n",
    "    # Graph related parameters\n",
    "    ## The graph is undirected\n",
    "    directed=False,\n",
    "    ## The name of the graph is HomoSapiens\n",
    "    name=\"HomoSapiens\",\n",
    "    ## Display a progress bar, (this might be in the terminal and not in the notebook)\n",
    "    verbose=True,\n",
    ")"
   ]
  },
  {
   "cell_type": "markdown",
   "metadata": {
    "id": "KP8MVtlQbLD-"
   },
   "source": [
    "It's worth noticing that this took 1 minute and 16 seconds, while loading the same data using the automatic retrival takes around 4 seconds! This is because Ensmallen by default thoroughly checks the files it load. Since we know for sure that these files are correct (because they were preprocessed) we can enable optional flags to skip the checks and speed-up the loading."
   ]
  },
  {
   "cell_type": "code",
   "execution_count": 25,
   "metadata": {
    "colab": {
     "base_uri": "https://localhost:8080/"
    },
    "id": "u7Va8EEVZVDL",
    "outputId": "09bb1b59-7f95-48dc-97ac-e78006ac7d06"
   },
   "outputs": [
    {
     "name": "stdout",
     "output_type": "stream",
     "text": [
      "CPU times: user 10.8 s, sys: 142 ms, total: 11 s\n",
      "Wall time: 1.48 s\n"
     ]
    }
   ],
   "source": [
    "%%time\n",
    "manually_loaded_homosapiens = Graph.from_csv(\n",
    "    # Edges related parameters\n",
    "\n",
    "    ## The path to the edges list tsv\n",
    "    edge_path=edge_path,\n",
    "    ## Set the tab as the separator between values\n",
    "    edge_list_separator=\"\\t\",\n",
    "    ## The first rows should NOT be used as the columns names\n",
    "    edge_list_header=False,\n",
    "    ## The source nodes are in the first nodes\n",
    "    sources_column_number=0,\n",
    "    ## The destination nodes are in the second column\n",
    "    destinations_column_number=1,\n",
    "    ## Both source and destinations columns use numeric node_ids instead of node names\n",
    "    edge_list_numeric_node_ids=True,\n",
    "    ## The weights are in the third column\n",
    "    weights_column_number=2,\n",
    "\n",
    "    # Edges speed-ups arguments\n",
    "    ## The edges are sorted\n",
    "    edge_list_is_sorted=True,\n",
    "    ## The edge does not contains duplicates and all the node_ids or node_names\n",
    "    ## exists and are reasonable\n",
    "    edge_list_is_correct=True,\n",
    "    ## This is mainly meant for undirected graphs, this is if the edge list\n",
    "    ## contains the edges in both directions, meaning that if src -> dst exists\n",
    "    ## then it also exist dst -> src.\n",
    "    edge_list_is_complete=True,\n",
    "    ## The number of edges in the file, this is used to pre-allocate memory\n",
    "    ## and allows us to process in stream all the data\n",
    "    edges_number=11938498,\n",
    "\n",
    "\n",
    "    # Nodes related parameters\n",
    "    ## The path to the nodes list tsv\n",
    "    node_path=node_path,\n",
    "    ## Set the tab as the separator between values\n",
    "    node_list_separator=\"\\t\",\n",
    "    ## The first rows should be used as the columns names\n",
    "    node_list_header=True,\n",
    "    ## The column with the node names is the one with name \"node_name\".\n",
    "    nodes_column=\"node_name\",\n",
    "\n",
    "    # Nodes speed-ups arguments\n",
    "    ## The nodes does not contains duplicates and all the node_ids or node_names\n",
    "    ## exists and are reasonable\n",
    "    node_list_is_correct=True,\n",
    "    ## The number of nodes in the file, this is used to pre-allocate memory\n",
    "    ## and allows us to process in stream all the data\n",
    "    nodes_number=19566,\n",
    "\n",
    "    # Graph related parameters\n",
    "    ## The graph is undirected\n",
    "    directed=False,\n",
    "    ## The name of the graph is HomoSapiens\n",
    "    name=\"HomoSapiens\",\n",
    "    ## Display a progress bar, (this might be in the terminal and not in the notebook)\n",
    "    verbose=True,\n",
    ")"
   ]
  },
  {
   "cell_type": "markdown",
   "metadata": {
    "id": "jm4mP7WPfYwi"
   },
   "source": [
    "We can verify that we are now loading exactly the same graph by comparing their hashes:"
   ]
  },
  {
   "cell_type": "code",
   "execution_count": 26,
   "metadata": {
    "colab": {
     "base_uri": "https://localhost:8080/"
    },
    "id": "6NzIfOo2dFVb",
    "outputId": "ae925f3a-cdc0-4481-c0c8-96a537713381"
   },
   "outputs": [
    {
     "name": "stdout",
     "output_type": "stream",
     "text": [
      "The original hash is -8463466388411006992\n",
      "The new hash is      -699056784427808228\n",
      "Are they equal? False\n"
     ]
    }
   ],
   "source": [
    "print(\"The original hash is {}\".format(hash(homosapiens)))\n",
    "print(\"The new hash is      {}\".format(hash(manually_loaded_homosapiens)))\n",
    "print(\"Are they equal? {}\".format(hash(homosapiens) == hash(manually_loaded_homosapiens)))"
   ]
  },
  {
   "cell_type": "markdown",
   "metadata": {
    "id": "wiekF2MfhyO-"
   },
   "source": [
    "These hashs are computed taking in consideration every property of the graph, so they can be used to ensure reproducibility of experiments. We can show this by computing the hash, after modifying the graph, in this case removing nodes that are not connected to any other node."
   ]
  },
  {
   "cell_type": "code",
   "execution_count": 28,
   "metadata": {
    "colab": {
     "base_uri": "https://localhost:8080/"
    },
    "id": "GkvEh4Voic2P",
    "outputId": "4ed9aeb3-671e-46e7-e04f-803ce1b82c65"
   },
   "outputs": [
    {
     "data": {
      "text/plain": [
       "5245231756560536037"
      ]
     },
     "execution_count": 28,
     "metadata": {},
     "output_type": "execute_result"
    }
   ],
   "source": [
    "hash(homosapiens.remove_disconnected_nodes())"
   ]
  }
 ],
 "metadata": {
  "colab": {
   "authorship_tag": "ABX9TyN/qak+bIMetAC14o3DU1oc",
   "collapsed_sections": [],
   "include_colab_link": true,
   "name": "Ensmallen_Loading_a_Graph.ipynb",
   "provenance": []
  },
  "kernelspec": {
   "display_name": "Python 3 (ipykernel)",
   "language": "python",
   "name": "python3"
  },
  "language_info": {
   "codemirror_mode": {
    "name": "ipython",
    "version": 3
   },
   "file_extension": ".py",
   "mimetype": "text/x-python",
   "name": "python",
   "nbconvert_exporter": "python",
   "pygments_lexer": "ipython3",
   "version": "3.7.13"
  },
  "widgets": {
   "application/vnd.jupyter.widget-state+json": {
    "002dea06c0ea4a1cbf8e339f2b328893": {
     "model_module": "@jupyter-widgets/controls",
     "model_module_version": "1.5.0",
     "model_name": "DescriptionStyleModel",
     "state": {
      "_model_module": "@jupyter-widgets/controls",
      "_model_module_version": "1.5.0",
      "_model_name": "DescriptionStyleModel",
      "_view_count": null,
      "_view_module": "@jupyter-widgets/base",
      "_view_module_version": "1.2.0",
      "_view_name": "StyleView",
      "description_width": ""
     }
    },
    "068e54626c494df89231483b6c284a1a": {
     "model_module": "@jupyter-widgets/controls",
     "model_module_version": "1.5.0",
     "model_name": "DescriptionStyleModel",
     "state": {
      "_model_module": "@jupyter-widgets/controls",
      "_model_module_version": "1.5.0",
      "_model_name": "DescriptionStyleModel",
      "_view_count": null,
      "_view_module": "@jupyter-widgets/base",
      "_view_module_version": "1.2.0",
      "_view_name": "StyleView",
      "description_width": ""
     }
    },
    "0976a68ff7ee49fdb0972f3cc93f6a0d": {
     "model_module": "@jupyter-widgets/controls",
     "model_module_version": "1.5.0",
     "model_name": "HTMLModel",
     "state": {
      "_dom_classes": [],
      "_model_module": "@jupyter-widgets/controls",
      "_model_module_version": "1.5.0",
      "_model_name": "HTMLModel",
      "_view_count": null,
      "_view_module": "@jupyter-widgets/controls",
      "_view_module_version": "1.5.0",
      "_view_name": "HTMLView",
      "description": "",
      "description_tooltip": null,
      "layout": "IPY_MODEL_fcfd8b11356b4891b1fbe1f24bde6de1",
      "placeholder": "​",
      "style": "IPY_MODEL_7e47fd57d0ab45598c7f115bc045d1ac",
      "value": " 2/2 [00:09&lt;00:00,  4.08s/it]"
     }
    },
    "1229bf8ea06540f182269505d07e0f06": {
     "model_module": "@jupyter-widgets/base",
     "model_module_version": "1.2.0",
     "model_name": "LayoutModel",
     "state": {
      "_model_module": "@jupyter-widgets/base",
      "_model_module_version": "1.2.0",
      "_model_name": "LayoutModel",
      "_view_count": null,
      "_view_module": "@jupyter-widgets/base",
      "_view_module_version": "1.2.0",
      "_view_name": "LayoutView",
      "align_content": null,
      "align_items": null,
      "align_self": null,
      "border": null,
      "bottom": null,
      "display": null,
      "flex": "2",
      "flex_flow": null,
      "grid_area": null,
      "grid_auto_columns": null,
      "grid_auto_flow": null,
      "grid_auto_rows": null,
      "grid_column": null,
      "grid_gap": null,
      "grid_row": null,
      "grid_template_areas": null,
      "grid_template_columns": null,
      "grid_template_rows": null,
      "height": null,
      "justify_content": null,
      "justify_items": null,
      "left": null,
      "margin": null,
      "max_height": null,
      "max_width": null,
      "min_height": null,
      "min_width": null,
      "object_fit": null,
      "object_position": null,
      "order": null,
      "overflow": null,
      "overflow_x": null,
      "overflow_y": null,
      "padding": null,
      "right": null,
      "top": null,
      "visibility": null,
      "width": null
     }
    },
    "1362512358674dc6a46f6ee2bc026e41": {
     "model_module": "@jupyter-widgets/base",
     "model_module_version": "1.2.0",
     "model_name": "LayoutModel",
     "state": {
      "_model_module": "@jupyter-widgets/base",
      "_model_module_version": "1.2.0",
      "_model_name": "LayoutModel",
      "_view_count": null,
      "_view_module": "@jupyter-widgets/base",
      "_view_module_version": "1.2.0",
      "_view_name": "LayoutView",
      "align_content": null,
      "align_items": null,
      "align_self": null,
      "border": null,
      "bottom": null,
      "display": null,
      "flex": null,
      "flex_flow": null,
      "grid_area": null,
      "grid_auto_columns": null,
      "grid_auto_flow": null,
      "grid_auto_rows": null,
      "grid_column": null,
      "grid_gap": null,
      "grid_row": null,
      "grid_template_areas": null,
      "grid_template_columns": null,
      "grid_template_rows": null,
      "height": null,
      "justify_content": null,
      "justify_items": null,
      "left": null,
      "margin": null,
      "max_height": null,
      "max_width": null,
      "min_height": null,
      "min_width": null,
      "object_fit": null,
      "object_position": null,
      "order": null,
      "overflow": null,
      "overflow_x": null,
      "overflow_y": null,
      "padding": null,
      "right": null,
      "top": null,
      "visibility": null,
      "width": null
     }
    },
    "1517d035fce24a31a2e801b0f284153d": {
     "model_module": "@jupyter-widgets/controls",
     "model_module_version": "1.5.0",
     "model_name": "HTMLModel",
     "state": {
      "_dom_classes": [],
      "_model_module": "@jupyter-widgets/controls",
      "_model_module_version": "1.5.0",
      "_model_name": "HTMLModel",
      "_view_count": null,
      "_view_module": "@jupyter-widgets/controls",
      "_view_module_version": "1.5.0",
      "_view_name": "HTMLView",
      "description": "",
      "description_tooltip": null,
      "layout": "IPY_MODEL_dd15ba139add456795776f21c7a62214",
      "placeholder": "​",
      "style": "IPY_MODEL_248b68c4d3eb49efa1e2a385a766b381",
      "value": "Downloading files: 100%"
     }
    },
    "187b026074ba4790a9d31fb7b66e435d": {
     "model_module": "@jupyter-widgets/base",
     "model_module_version": "1.2.0",
     "model_name": "LayoutModel",
     "state": {
      "_model_module": "@jupyter-widgets/base",
      "_model_module_version": "1.2.0",
      "_model_name": "LayoutModel",
      "_view_count": null,
      "_view_module": "@jupyter-widgets/base",
      "_view_module_version": "1.2.0",
      "_view_name": "LayoutView",
      "align_content": null,
      "align_items": null,
      "align_self": null,
      "border": null,
      "bottom": null,
      "display": null,
      "flex": "2",
      "flex_flow": null,
      "grid_area": null,
      "grid_auto_columns": null,
      "grid_auto_flow": null,
      "grid_auto_rows": null,
      "grid_column": null,
      "grid_gap": null,
      "grid_row": null,
      "grid_template_areas": null,
      "grid_template_columns": null,
      "grid_template_rows": null,
      "height": null,
      "justify_content": null,
      "justify_items": null,
      "left": null,
      "margin": null,
      "max_height": null,
      "max_width": null,
      "min_height": null,
      "min_width": null,
      "object_fit": null,
      "object_position": null,
      "order": null,
      "overflow": null,
      "overflow_x": null,
      "overflow_y": null,
      "padding": null,
      "right": null,
      "top": null,
      "visibility": null,
      "width": null
     }
    },
    "1c3b2f4ab8d04678a887b4160560ddb9": {
     "model_module": "@jupyter-widgets/base",
     "model_module_version": "1.2.0",
     "model_name": "LayoutModel",
     "state": {
      "_model_module": "@jupyter-widgets/base",
      "_model_module_version": "1.2.0",
      "_model_name": "LayoutModel",
      "_view_count": null,
      "_view_module": "@jupyter-widgets/base",
      "_view_module_version": "1.2.0",
      "_view_name": "LayoutView",
      "align_content": null,
      "align_items": null,
      "align_self": null,
      "border": null,
      "bottom": null,
      "display": null,
      "flex": "2",
      "flex_flow": null,
      "grid_area": null,
      "grid_auto_columns": null,
      "grid_auto_flow": null,
      "grid_auto_rows": null,
      "grid_column": null,
      "grid_gap": null,
      "grid_row": null,
      "grid_template_areas": null,
      "grid_template_columns": null,
      "grid_template_rows": null,
      "height": null,
      "justify_content": null,
      "justify_items": null,
      "left": null,
      "margin": null,
      "max_height": null,
      "max_width": null,
      "min_height": null,
      "min_width": null,
      "object_fit": null,
      "object_position": null,
      "order": null,
      "overflow": null,
      "overflow_x": null,
      "overflow_y": null,
      "padding": null,
      "right": null,
      "top": null,
      "visibility": null,
      "width": null
     }
    },
    "248b68c4d3eb49efa1e2a385a766b381": {
     "model_module": "@jupyter-widgets/controls",
     "model_module_version": "1.5.0",
     "model_name": "DescriptionStyleModel",
     "state": {
      "_model_module": "@jupyter-widgets/controls",
      "_model_module_version": "1.5.0",
      "_model_name": "DescriptionStyleModel",
      "_view_count": null,
      "_view_module": "@jupyter-widgets/base",
      "_view_module_version": "1.2.0",
      "_view_name": "StyleView",
      "description_width": ""
     }
    },
    "25383b76fcac443b8a80f6c9303165df": {
     "model_module": "@jupyter-widgets/controls",
     "model_module_version": "1.5.0",
     "model_name": "HBoxModel",
     "state": {
      "_dom_classes": [],
      "_model_module": "@jupyter-widgets/controls",
      "_model_module_version": "1.5.0",
      "_model_name": "HBoxModel",
      "_view_count": null,
      "_view_module": "@jupyter-widgets/controls",
      "_view_module_version": "1.5.0",
      "_view_name": "HBoxView",
      "box_style": "",
      "children": [
       "IPY_MODEL_dfdff95cd3934660bf4b7e1004b6ccd0",
       "IPY_MODEL_92432fa27be44450b7d8653c0db249ed",
       "IPY_MODEL_5ae81e0d4f044019a64917dcaeff7714"
      ],
      "layout": "IPY_MODEL_547726f003fd4a5498e05767ce804fc3"
     }
    },
    "28e6dfd381d341c781d4f6455d7855d0": {
     "model_module": "@jupyter-widgets/base",
     "model_module_version": "1.2.0",
     "model_name": "LayoutModel",
     "state": {
      "_model_module": "@jupyter-widgets/base",
      "_model_module_version": "1.2.0",
      "_model_name": "LayoutModel",
      "_view_count": null,
      "_view_module": "@jupyter-widgets/base",
      "_view_module_version": "1.2.0",
      "_view_name": "LayoutView",
      "align_content": null,
      "align_items": null,
      "align_self": null,
      "border": null,
      "bottom": null,
      "display": "inline-flex",
      "flex": null,
      "flex_flow": "row wrap",
      "grid_area": null,
      "grid_auto_columns": null,
      "grid_auto_flow": null,
      "grid_auto_rows": null,
      "grid_column": null,
      "grid_gap": null,
      "grid_row": null,
      "grid_template_areas": null,
      "grid_template_columns": null,
      "grid_template_rows": null,
      "height": null,
      "justify_content": null,
      "justify_items": null,
      "left": null,
      "margin": null,
      "max_height": null,
      "max_width": null,
      "min_height": null,
      "min_width": null,
      "object_fit": null,
      "object_position": null,
      "order": null,
      "overflow": null,
      "overflow_x": null,
      "overflow_y": null,
      "padding": null,
      "right": null,
      "top": null,
      "visibility": null,
      "width": "100%"
     }
    },
    "30a831eb96124eb3ad2b3ef0e4c1c414": {
     "model_module": "@jupyter-widgets/controls",
     "model_module_version": "1.5.0",
     "model_name": "HBoxModel",
     "state": {
      "_dom_classes": [],
      "_model_module": "@jupyter-widgets/controls",
      "_model_module_version": "1.5.0",
      "_model_name": "HBoxModel",
      "_view_count": null,
      "_view_module": "@jupyter-widgets/controls",
      "_view_module_version": "1.5.0",
      "_view_name": "HBoxView",
      "box_style": "",
      "children": [
       "IPY_MODEL_e694f084b7dd454ca75bbf2926c40999",
       "IPY_MODEL_62ce266ba9134de697b28da78eb754bb",
       "IPY_MODEL_9f6dc4605fdd4027bf61ee5f9a8a1758"
      ],
      "layout": "IPY_MODEL_77504b0222c341adb244fc23be46a39a"
     }
    },
    "3798cc2f69dc414c8497d49b9a7dcc38": {
     "model_module": "@jupyter-widgets/base",
     "model_module_version": "1.2.0",
     "model_name": "LayoutModel",
     "state": {
      "_model_module": "@jupyter-widgets/base",
      "_model_module_version": "1.2.0",
      "_model_name": "LayoutModel",
      "_view_count": null,
      "_view_module": "@jupyter-widgets/base",
      "_view_module_version": "1.2.0",
      "_view_name": "LayoutView",
      "align_content": null,
      "align_items": null,
      "align_self": null,
      "border": null,
      "bottom": null,
      "display": null,
      "flex": null,
      "flex_flow": null,
      "grid_area": null,
      "grid_auto_columns": null,
      "grid_auto_flow": null,
      "grid_auto_rows": null,
      "grid_column": null,
      "grid_gap": null,
      "grid_row": null,
      "grid_template_areas": null,
      "grid_template_columns": null,
      "grid_template_rows": null,
      "height": null,
      "justify_content": null,
      "justify_items": null,
      "left": null,
      "margin": null,
      "max_height": null,
      "max_width": null,
      "min_height": null,
      "min_width": null,
      "object_fit": null,
      "object_position": null,
      "order": null,
      "overflow": null,
      "overflow_x": null,
      "overflow_y": null,
      "padding": null,
      "right": null,
      "top": null,
      "visibility": null,
      "width": null
     }
    },
    "3a04162b1afb4d0e9809b8dbfd3e5864": {
     "model_module": "@jupyter-widgets/controls",
     "model_module_version": "1.5.0",
     "model_name": "HBoxModel",
     "state": {
      "_dom_classes": [],
      "_model_module": "@jupyter-widgets/controls",
      "_model_module_version": "1.5.0",
      "_model_name": "HBoxModel",
      "_view_count": null,
      "_view_module": "@jupyter-widgets/controls",
      "_view_module_version": "1.5.0",
      "_view_name": "HBoxView",
      "box_style": "",
      "children": [
       "IPY_MODEL_f0c7bb80e03e4db4bbba1247d096f6f3",
       "IPY_MODEL_dff4923f8c714866b68d3341c3b53741",
       "IPY_MODEL_7f345a5d14ca445487223616d0945fe9"
      ],
      "layout": "IPY_MODEL_28e6dfd381d341c781d4f6455d7855d0"
     }
    },
    "3b7c9e092f7b4ef183bc1a0e513eb497": {
     "model_module": "@jupyter-widgets/base",
     "model_module_version": "1.2.0",
     "model_name": "LayoutModel",
     "state": {
      "_model_module": "@jupyter-widgets/base",
      "_model_module_version": "1.2.0",
      "_model_name": "LayoutModel",
      "_view_count": null,
      "_view_module": "@jupyter-widgets/base",
      "_view_module_version": "1.2.0",
      "_view_name": "LayoutView",
      "align_content": null,
      "align_items": null,
      "align_self": null,
      "border": null,
      "bottom": null,
      "display": "inline-flex",
      "flex": null,
      "flex_flow": "row wrap",
      "grid_area": null,
      "grid_auto_columns": null,
      "grid_auto_flow": null,
      "grid_auto_rows": null,
      "grid_column": null,
      "grid_gap": null,
      "grid_row": null,
      "grid_template_areas": null,
      "grid_template_columns": null,
      "grid_template_rows": null,
      "height": null,
      "justify_content": null,
      "justify_items": null,
      "left": null,
      "margin": null,
      "max_height": null,
      "max_width": null,
      "min_height": null,
      "min_width": null,
      "object_fit": null,
      "object_position": null,
      "order": null,
      "overflow": null,
      "overflow_x": null,
      "overflow_y": null,
      "padding": null,
      "right": null,
      "top": null,
      "visibility": null,
      "width": "100%"
     }
    },
    "3c528b9b55bf4999b07dca6973427f2e": {
     "model_module": "@jupyter-widgets/controls",
     "model_module_version": "1.5.0",
     "model_name": "DescriptionStyleModel",
     "state": {
      "_model_module": "@jupyter-widgets/controls",
      "_model_module_version": "1.5.0",
      "_model_name": "DescriptionStyleModel",
      "_view_count": null,
      "_view_module": "@jupyter-widgets/base",
      "_view_module_version": "1.2.0",
      "_view_name": "StyleView",
      "description_width": ""
     }
    },
    "3f6293f6bdb540c3b85d5a538d90ed2f": {
     "model_module": "@jupyter-widgets/base",
     "model_module_version": "1.2.0",
     "model_name": "LayoutModel",
     "state": {
      "_model_module": "@jupyter-widgets/base",
      "_model_module_version": "1.2.0",
      "_model_name": "LayoutModel",
      "_view_count": null,
      "_view_module": "@jupyter-widgets/base",
      "_view_module_version": "1.2.0",
      "_view_name": "LayoutView",
      "align_content": null,
      "align_items": null,
      "align_self": null,
      "border": null,
      "bottom": null,
      "display": null,
      "flex": null,
      "flex_flow": null,
      "grid_area": null,
      "grid_auto_columns": null,
      "grid_auto_flow": null,
      "grid_auto_rows": null,
      "grid_column": null,
      "grid_gap": null,
      "grid_row": null,
      "grid_template_areas": null,
      "grid_template_columns": null,
      "grid_template_rows": null,
      "height": null,
      "justify_content": null,
      "justify_items": null,
      "left": null,
      "margin": null,
      "max_height": null,
      "max_width": null,
      "min_height": null,
      "min_width": null,
      "object_fit": null,
      "object_position": null,
      "order": null,
      "overflow": null,
      "overflow_x": null,
      "overflow_y": null,
      "padding": null,
      "right": null,
      "top": null,
      "visibility": null,
      "width": null
     }
    },
    "5117a324b5494d5e9da24cba2ba7d3f2": {
     "model_module": "@jupyter-widgets/controls",
     "model_module_version": "1.5.0",
     "model_name": "FloatProgressModel",
     "state": {
      "_dom_classes": [],
      "_model_module": "@jupyter-widgets/controls",
      "_model_module_version": "1.5.0",
      "_model_name": "FloatProgressModel",
      "_view_count": null,
      "_view_module": "@jupyter-widgets/controls",
      "_view_module_version": "1.5.0",
      "_view_name": "ProgressView",
      "bar_style": "",
      "description": "",
      "description_tooltip": null,
      "layout": "IPY_MODEL_1c3b2f4ab8d04678a887b4160560ddb9",
      "max": 2,
      "min": 0,
      "orientation": "horizontal",
      "style": "IPY_MODEL_ea5eb0ac9fb34be2b16064e079432f6b",
      "value": 2
     }
    },
    "547726f003fd4a5498e05767ce804fc3": {
     "model_module": "@jupyter-widgets/base",
     "model_module_version": "1.2.0",
     "model_name": "LayoutModel",
     "state": {
      "_model_module": "@jupyter-widgets/base",
      "_model_module_version": "1.2.0",
      "_model_name": "LayoutModel",
      "_view_count": null,
      "_view_module": "@jupyter-widgets/base",
      "_view_module_version": "1.2.0",
      "_view_name": "LayoutView",
      "align_content": null,
      "align_items": null,
      "align_self": null,
      "border": null,
      "bottom": null,
      "display": "inline-flex",
      "flex": null,
      "flex_flow": "row wrap",
      "grid_area": null,
      "grid_auto_columns": null,
      "grid_auto_flow": null,
      "grid_auto_rows": null,
      "grid_column": null,
      "grid_gap": null,
      "grid_row": null,
      "grid_template_areas": null,
      "grid_template_columns": null,
      "grid_template_rows": null,
      "height": null,
      "justify_content": null,
      "justify_items": null,
      "left": null,
      "margin": null,
      "max_height": null,
      "max_width": null,
      "min_height": null,
      "min_width": null,
      "object_fit": null,
      "object_position": null,
      "order": null,
      "overflow": null,
      "overflow_x": null,
      "overflow_y": null,
      "padding": null,
      "right": null,
      "top": null,
      "visibility": null,
      "width": "100%"
     }
    },
    "556771ce8f434bff9c11fe6efa345b91": {
     "model_module": "@jupyter-widgets/base",
     "model_module_version": "1.2.0",
     "model_name": "LayoutModel",
     "state": {
      "_model_module": "@jupyter-widgets/base",
      "_model_module_version": "1.2.0",
      "_model_name": "LayoutModel",
      "_view_count": null,
      "_view_module": "@jupyter-widgets/base",
      "_view_module_version": "1.2.0",
      "_view_name": "LayoutView",
      "align_content": null,
      "align_items": null,
      "align_self": null,
      "border": null,
      "bottom": null,
      "display": "inline-flex",
      "flex": null,
      "flex_flow": "row wrap",
      "grid_area": null,
      "grid_auto_columns": null,
      "grid_auto_flow": null,
      "grid_auto_rows": null,
      "grid_column": null,
      "grid_gap": null,
      "grid_row": null,
      "grid_template_areas": null,
      "grid_template_columns": null,
      "grid_template_rows": null,
      "height": null,
      "justify_content": null,
      "justify_items": null,
      "left": null,
      "margin": null,
      "max_height": null,
      "max_width": null,
      "min_height": null,
      "min_width": null,
      "object_fit": null,
      "object_position": null,
      "order": null,
      "overflow": null,
      "overflow_x": null,
      "overflow_y": null,
      "padding": null,
      "right": null,
      "top": null,
      "visibility": null,
      "width": "100%"
     }
    },
    "57a0836a297146c5bc4594beb07b9c7b": {
     "model_module": "@jupyter-widgets/controls",
     "model_module_version": "1.5.0",
     "model_name": "HTMLModel",
     "state": {
      "_dom_classes": [],
      "_model_module": "@jupyter-widgets/controls",
      "_model_module_version": "1.5.0",
      "_model_name": "HTMLModel",
      "_view_count": null,
      "_view_module": "@jupyter-widgets/controls",
      "_view_module_version": "1.5.0",
      "_view_name": "HTMLView",
      "description": "",
      "description_tooltip": null,
      "layout": "IPY_MODEL_3f6293f6bdb540c3b85d5a538d90ed2f",
      "placeholder": "​",
      "style": "IPY_MODEL_643e34c7c0d1468c97b1e36d25907019",
      "value": " 71.3M/72.7M [00:04&lt;00:00, 16.3MiB/s]"
     }
    },
    "5ac93f69325d4a46aa2a7eea8367f0cb": {
     "model_module": "@jupyter-widgets/controls",
     "model_module_version": "1.5.0",
     "model_name": "HTMLModel",
     "state": {
      "_dom_classes": [],
      "_model_module": "@jupyter-widgets/controls",
      "_model_module_version": "1.5.0",
      "_model_name": "HTMLModel",
      "_view_count": null,
      "_view_module": "@jupyter-widgets/controls",
      "_view_module_version": "1.5.0",
      "_view_name": "HTMLView",
      "description": "",
      "description_tooltip": null,
      "layout": "IPY_MODEL_3798cc2f69dc414c8497d49b9a7dcc38",
      "placeholder": "​",
      "style": "IPY_MODEL_651715e7eb7142a0b8e6aa033bced731",
      "value": "Downloading to graphs/string/Ho...inks.v11.5.txt.gz:  98%"
     }
    },
    "5ae81e0d4f044019a64917dcaeff7714": {
     "model_module": "@jupyter-widgets/controls",
     "model_module_version": "1.5.0",
     "model_name": "HTMLModel",
     "state": {
      "_dom_classes": [],
      "_model_module": "@jupyter-widgets/controls",
      "_model_module_version": "1.5.0",
      "_model_name": "HTMLModel",
      "_view_count": null,
      "_view_module": "@jupyter-widgets/controls",
      "_view_module_version": "1.5.0",
      "_view_name": "HTMLView",
      "description": "",
      "description_tooltip": null,
      "layout": "IPY_MODEL_fbf2d3bfb29f43cea7812c9a89bf2318",
      "placeholder": "​",
      "style": "IPY_MODEL_8ae72116402b4e0680c8ae644a8bbd58",
      "value": " 70.9M/71.2M [00:04&lt;00:00, 16.0MiB/s]"
     }
    },
    "62ce266ba9134de697b28da78eb754bb": {
     "model_module": "@jupyter-widgets/controls",
     "model_module_version": "1.5.0",
     "model_name": "FloatProgressModel",
     "state": {
      "_dom_classes": [],
      "_model_module": "@jupyter-widgets/controls",
      "_model_module_version": "1.5.0",
      "_model_name": "FloatProgressModel",
      "_view_count": null,
      "_view_module": "@jupyter-widgets/controls",
      "_view_module_version": "1.5.0",
      "_view_name": "ProgressView",
      "bar_style": "",
      "description": "",
      "description_tooltip": null,
      "layout": "IPY_MODEL_187b026074ba4790a9d31fb7b66e435d",
      "max": 1894048,
      "min": 0,
      "orientation": "horizontal",
      "style": "IPY_MODEL_6c57a340c6ce40ae83b3901b96a86b96",
      "value": 1894048
     }
    },
    "643e34c7c0d1468c97b1e36d25907019": {
     "model_module": "@jupyter-widgets/controls",
     "model_module_version": "1.5.0",
     "model_name": "DescriptionStyleModel",
     "state": {
      "_model_module": "@jupyter-widgets/controls",
      "_model_module_version": "1.5.0",
      "_model_name": "DescriptionStyleModel",
      "_view_count": null,
      "_view_module": "@jupyter-widgets/base",
      "_view_module_version": "1.2.0",
      "_view_name": "StyleView",
      "description_width": ""
     }
    },
    "651715e7eb7142a0b8e6aa033bced731": {
     "model_module": "@jupyter-widgets/controls",
     "model_module_version": "1.5.0",
     "model_name": "DescriptionStyleModel",
     "state": {
      "_model_module": "@jupyter-widgets/controls",
      "_model_module_version": "1.5.0",
      "_model_name": "DescriptionStyleModel",
      "_view_count": null,
      "_view_module": "@jupyter-widgets/base",
      "_view_module_version": "1.2.0",
      "_view_name": "StyleView",
      "description_width": ""
     }
    },
    "6704f424bdff4839a4719d0ce3ca8423": {
     "model_module": "@jupyter-widgets/base",
     "model_module_version": "1.2.0",
     "model_name": "LayoutModel",
     "state": {
      "_model_module": "@jupyter-widgets/base",
      "_model_module_version": "1.2.0",
      "_model_name": "LayoutModel",
      "_view_count": null,
      "_view_module": "@jupyter-widgets/base",
      "_view_module_version": "1.2.0",
      "_view_name": "LayoutView",
      "align_content": null,
      "align_items": null,
      "align_self": null,
      "border": null,
      "bottom": null,
      "display": null,
      "flex": "2",
      "flex_flow": null,
      "grid_area": null,
      "grid_auto_columns": null,
      "grid_auto_flow": null,
      "grid_auto_rows": null,
      "grid_column": null,
      "grid_gap": null,
      "grid_row": null,
      "grid_template_areas": null,
      "grid_template_columns": null,
      "grid_template_rows": null,
      "height": null,
      "justify_content": null,
      "justify_items": null,
      "left": null,
      "margin": null,
      "max_height": null,
      "max_width": null,
      "min_height": null,
      "min_width": null,
      "object_fit": null,
      "object_position": null,
      "order": null,
      "overflow": null,
      "overflow_x": null,
      "overflow_y": null,
      "padding": null,
      "right": null,
      "top": null,
      "visibility": null,
      "width": null
     }
    },
    "6c57a340c6ce40ae83b3901b96a86b96": {
     "model_module": "@jupyter-widgets/controls",
     "model_module_version": "1.5.0",
     "model_name": "ProgressStyleModel",
     "state": {
      "_model_module": "@jupyter-widgets/controls",
      "_model_module_version": "1.5.0",
      "_model_name": "ProgressStyleModel",
      "_view_count": null,
      "_view_module": "@jupyter-widgets/base",
      "_view_module_version": "1.2.0",
      "_view_name": "StyleView",
      "bar_color": null,
      "description_width": ""
     }
    },
    "738d0073b6ce47e1802a4addf2778b69": {
     "model_module": "@jupyter-widgets/controls",
     "model_module_version": "1.5.0",
     "model_name": "ProgressStyleModel",
     "state": {
      "_model_module": "@jupyter-widgets/controls",
      "_model_module_version": "1.5.0",
      "_model_name": "ProgressStyleModel",
      "_view_count": null,
      "_view_module": "@jupyter-widgets/base",
      "_view_module_version": "1.2.0",
      "_view_name": "StyleView",
      "bar_color": null,
      "description_width": ""
     }
    },
    "77504b0222c341adb244fc23be46a39a": {
     "model_module": "@jupyter-widgets/base",
     "model_module_version": "1.2.0",
     "model_name": "LayoutModel",
     "state": {
      "_model_module": "@jupyter-widgets/base",
      "_model_module_version": "1.2.0",
      "_model_name": "LayoutModel",
      "_view_count": null,
      "_view_module": "@jupyter-widgets/base",
      "_view_module_version": "1.2.0",
      "_view_name": "LayoutView",
      "align_content": null,
      "align_items": null,
      "align_self": null,
      "border": null,
      "bottom": null,
      "display": "inline-flex",
      "flex": null,
      "flex_flow": "row wrap",
      "grid_area": null,
      "grid_auto_columns": null,
      "grid_auto_flow": null,
      "grid_auto_rows": null,
      "grid_column": null,
      "grid_gap": null,
      "grid_row": null,
      "grid_template_areas": null,
      "grid_template_columns": null,
      "grid_template_rows": null,
      "height": null,
      "justify_content": null,
      "justify_items": null,
      "left": null,
      "margin": null,
      "max_height": null,
      "max_width": null,
      "min_height": null,
      "min_width": null,
      "object_fit": null,
      "object_position": null,
      "order": null,
      "overflow": null,
      "overflow_x": null,
      "overflow_y": null,
      "padding": null,
      "right": null,
      "top": null,
      "visibility": null,
      "width": "100%"
     }
    },
    "7e47fd57d0ab45598c7f115bc045d1ac": {
     "model_module": "@jupyter-widgets/controls",
     "model_module_version": "1.5.0",
     "model_name": "DescriptionStyleModel",
     "state": {
      "_model_module": "@jupyter-widgets/controls",
      "_model_module_version": "1.5.0",
      "_model_name": "DescriptionStyleModel",
      "_view_count": null,
      "_view_module": "@jupyter-widgets/base",
      "_view_module_version": "1.2.0",
      "_view_name": "StyleView",
      "description_width": ""
     }
    },
    "7f345a5d14ca445487223616d0945fe9": {
     "model_module": "@jupyter-widgets/controls",
     "model_module_version": "1.5.0",
     "model_name": "HTMLModel",
     "state": {
      "_dom_classes": [],
      "_model_module": "@jupyter-widgets/controls",
      "_model_module_version": "1.5.0",
      "_model_name": "HTMLModel",
      "_view_count": null,
      "_view_module": "@jupyter-widgets/controls",
      "_view_module_version": "1.5.0",
      "_view_name": "HTMLView",
      "description": "",
      "description_tooltip": null,
      "layout": "IPY_MODEL_1362512358674dc6a46f6ee2bc026e41",
      "placeholder": "​",
      "style": "IPY_MODEL_c6d49c70f04f499d9a6f228ea480f9a3",
      "value": " 2/2 [00:09&lt;00:00,  4.03s/it]"
     }
    },
    "7f4cdbad3fac426886840a6af8c71379": {
     "model_module": "@jupyter-widgets/controls",
     "model_module_version": "1.5.0",
     "model_name": "DescriptionStyleModel",
     "state": {
      "_model_module": "@jupyter-widgets/controls",
      "_model_module_version": "1.5.0",
      "_model_name": "DescriptionStyleModel",
      "_view_count": null,
      "_view_module": "@jupyter-widgets/base",
      "_view_module_version": "1.2.0",
      "_view_name": "StyleView",
      "description_width": ""
     }
    },
    "82fe7edd071e4efca77a2a7140cb8097": {
     "model_module": "@jupyter-widgets/controls",
     "model_module_version": "1.5.0",
     "model_name": "HTMLModel",
     "state": {
      "_dom_classes": [],
      "_model_module": "@jupyter-widgets/controls",
      "_model_module_version": "1.5.0",
      "_model_name": "HTMLModel",
      "_view_count": null,
      "_view_module": "@jupyter-widgets/controls",
      "_view_module_version": "1.5.0",
      "_view_name": "HTMLView",
      "description": "",
      "description_tooltip": null,
      "layout": "IPY_MODEL_a44d07ab617d482e895075bc2a5f24dd",
      "placeholder": "​",
      "style": "IPY_MODEL_3c528b9b55bf4999b07dca6973427f2e",
      "value": " 1.84M/1.90M [00:00&lt;00:00, 4.87MiB/s]"
     }
    },
    "896093624b094f14946621998be3a260": {
     "model_module": "@jupyter-widgets/base",
     "model_module_version": "1.2.0",
     "model_name": "LayoutModel",
     "state": {
      "_model_module": "@jupyter-widgets/base",
      "_model_module_version": "1.2.0",
      "_model_name": "LayoutModel",
      "_view_count": null,
      "_view_module": "@jupyter-widgets/base",
      "_view_module_version": "1.2.0",
      "_view_name": "LayoutView",
      "align_content": null,
      "align_items": null,
      "align_self": null,
      "border": null,
      "bottom": null,
      "display": null,
      "flex": null,
      "flex_flow": null,
      "grid_area": null,
      "grid_auto_columns": null,
      "grid_auto_flow": null,
      "grid_auto_rows": null,
      "grid_column": null,
      "grid_gap": null,
      "grid_row": null,
      "grid_template_areas": null,
      "grid_template_columns": null,
      "grid_template_rows": null,
      "height": null,
      "justify_content": null,
      "justify_items": null,
      "left": null,
      "margin": null,
      "max_height": null,
      "max_width": null,
      "min_height": null,
      "min_width": null,
      "object_fit": null,
      "object_position": null,
      "order": null,
      "overflow": null,
      "overflow_x": null,
      "overflow_y": null,
      "padding": null,
      "right": null,
      "top": null,
      "visibility": null,
      "width": null
     }
    },
    "8ae72116402b4e0680c8ae644a8bbd58": {
     "model_module": "@jupyter-widgets/controls",
     "model_module_version": "1.5.0",
     "model_name": "DescriptionStyleModel",
     "state": {
      "_model_module": "@jupyter-widgets/controls",
      "_model_module_version": "1.5.0",
      "_model_name": "DescriptionStyleModel",
      "_view_count": null,
      "_view_module": "@jupyter-widgets/base",
      "_view_module_version": "1.2.0",
      "_view_name": "StyleView",
      "description_width": ""
     }
    },
    "92432fa27be44450b7d8653c0db249ed": {
     "model_module": "@jupyter-widgets/controls",
     "model_module_version": "1.5.0",
     "model_name": "FloatProgressModel",
     "state": {
      "_dom_classes": [],
      "_model_module": "@jupyter-widgets/controls",
      "_model_module_version": "1.5.0",
      "_model_name": "FloatProgressModel",
      "_view_count": null,
      "_view_module": "@jupyter-widgets/controls",
      "_view_module_version": "1.5.0",
      "_view_name": "ProgressView",
      "bar_style": "",
      "description": "",
      "description_tooltip": null,
      "layout": "IPY_MODEL_6704f424bdff4839a4719d0ce3ca8423",
      "max": 71241372,
      "min": 0,
      "orientation": "horizontal",
      "style": "IPY_MODEL_9b4d0d9df11446af80e5c4053a6ee020",
      "value": 71241372
     }
    },
    "992567326f5040fa93df5af1732584f5": {
     "model_module": "@jupyter-widgets/controls",
     "model_module_version": "1.5.0",
     "model_name": "ProgressStyleModel",
     "state": {
      "_model_module": "@jupyter-widgets/controls",
      "_model_module_version": "1.5.0",
      "_model_name": "ProgressStyleModel",
      "_view_count": null,
      "_view_module": "@jupyter-widgets/base",
      "_view_module_version": "1.2.0",
      "_view_name": "StyleView",
      "bar_color": null,
      "description_width": ""
     }
    },
    "9982e6bcaa774dbd98a3ef9757f68821": {
     "model_module": "@jupyter-widgets/controls",
     "model_module_version": "1.5.0",
     "model_name": "ProgressStyleModel",
     "state": {
      "_model_module": "@jupyter-widgets/controls",
      "_model_module_version": "1.5.0",
      "_model_name": "ProgressStyleModel",
      "_view_count": null,
      "_view_module": "@jupyter-widgets/base",
      "_view_module_version": "1.2.0",
      "_view_name": "StyleView",
      "bar_color": null,
      "description_width": ""
     }
    },
    "9aabbed5df474439998cf0e05c9128e7": {
     "model_module": "@jupyter-widgets/base",
     "model_module_version": "1.2.0",
     "model_name": "LayoutModel",
     "state": {
      "_model_module": "@jupyter-widgets/base",
      "_model_module_version": "1.2.0",
      "_model_name": "LayoutModel",
      "_view_count": null,
      "_view_module": "@jupyter-widgets/base",
      "_view_module_version": "1.2.0",
      "_view_name": "LayoutView",
      "align_content": null,
      "align_items": null,
      "align_self": null,
      "border": null,
      "bottom": null,
      "display": null,
      "flex": null,
      "flex_flow": null,
      "grid_area": null,
      "grid_auto_columns": null,
      "grid_auto_flow": null,
      "grid_auto_rows": null,
      "grid_column": null,
      "grid_gap": null,
      "grid_row": null,
      "grid_template_areas": null,
      "grid_template_columns": null,
      "grid_template_rows": null,
      "height": null,
      "justify_content": null,
      "justify_items": null,
      "left": null,
      "margin": null,
      "max_height": null,
      "max_width": null,
      "min_height": null,
      "min_width": null,
      "object_fit": null,
      "object_position": null,
      "order": null,
      "overflow": null,
      "overflow_x": null,
      "overflow_y": null,
      "padding": null,
      "right": null,
      "top": null,
      "visibility": null,
      "width": null
     }
    },
    "9b4d0d9df11446af80e5c4053a6ee020": {
     "model_module": "@jupyter-widgets/controls",
     "model_module_version": "1.5.0",
     "model_name": "ProgressStyleModel",
     "state": {
      "_model_module": "@jupyter-widgets/controls",
      "_model_module_version": "1.5.0",
      "_model_name": "ProgressStyleModel",
      "_view_count": null,
      "_view_module": "@jupyter-widgets/base",
      "_view_module_version": "1.2.0",
      "_view_name": "StyleView",
      "bar_color": null,
      "description_width": ""
     }
    },
    "9f6dc4605fdd4027bf61ee5f9a8a1758": {
     "model_module": "@jupyter-widgets/controls",
     "model_module_version": "1.5.0",
     "model_name": "HTMLModel",
     "state": {
      "_dom_classes": [],
      "_model_module": "@jupyter-widgets/controls",
      "_model_module_version": "1.5.0",
      "_model_name": "HTMLModel",
      "_view_count": null,
      "_view_module": "@jupyter-widgets/controls",
      "_view_module_version": "1.5.0",
      "_view_name": "HTMLView",
      "description": "",
      "description_tooltip": null,
      "layout": "IPY_MODEL_f9ddb9052c6b4384a8e3060cea1d5171",
      "placeholder": "​",
      "style": "IPY_MODEL_068e54626c494df89231483b6c284a1a",
      "value": " 1.84M/1.89M [00:00&lt;00:00, 4.76MiB/s]"
     }
    },
    "a44d07ab617d482e895075bc2a5f24dd": {
     "model_module": "@jupyter-widgets/base",
     "model_module_version": "1.2.0",
     "model_name": "LayoutModel",
     "state": {
      "_model_module": "@jupyter-widgets/base",
      "_model_module_version": "1.2.0",
      "_model_name": "LayoutModel",
      "_view_count": null,
      "_view_module": "@jupyter-widgets/base",
      "_view_module_version": "1.2.0",
      "_view_name": "LayoutView",
      "align_content": null,
      "align_items": null,
      "align_self": null,
      "border": null,
      "bottom": null,
      "display": null,
      "flex": null,
      "flex_flow": null,
      "grid_area": null,
      "grid_auto_columns": null,
      "grid_auto_flow": null,
      "grid_auto_rows": null,
      "grid_column": null,
      "grid_gap": null,
      "grid_row": null,
      "grid_template_areas": null,
      "grid_template_columns": null,
      "grid_template_rows": null,
      "height": null,
      "justify_content": null,
      "justify_items": null,
      "left": null,
      "margin": null,
      "max_height": null,
      "max_width": null,
      "min_height": null,
      "min_width": null,
      "object_fit": null,
      "object_position": null,
      "order": null,
      "overflow": null,
      "overflow_x": null,
      "overflow_y": null,
      "padding": null,
      "right": null,
      "top": null,
      "visibility": null,
      "width": null
     }
    },
    "a65485e950294d79aea94937abd1f0b0": {
     "model_module": "@jupyter-widgets/controls",
     "model_module_version": "1.5.0",
     "model_name": "DescriptionStyleModel",
     "state": {
      "_model_module": "@jupyter-widgets/controls",
      "_model_module_version": "1.5.0",
      "_model_name": "DescriptionStyleModel",
      "_view_count": null,
      "_view_module": "@jupyter-widgets/base",
      "_view_module_version": "1.2.0",
      "_view_name": "StyleView",
      "description_width": ""
     }
    },
    "bb0cb20870694ea2869cfecc0cee8fea": {
     "model_module": "@jupyter-widgets/controls",
     "model_module_version": "1.5.0",
     "model_name": "HBoxModel",
     "state": {
      "_dom_classes": [],
      "_model_module": "@jupyter-widgets/controls",
      "_model_module_version": "1.5.0",
      "_model_name": "HBoxModel",
      "_view_count": null,
      "_view_module": "@jupyter-widgets/controls",
      "_view_module_version": "1.5.0",
      "_view_name": "HBoxView",
      "box_style": "",
      "children": [
       "IPY_MODEL_5ac93f69325d4a46aa2a7eea8367f0cb",
       "IPY_MODEL_ea445b14fa8445e0be8ebf56146160bb",
       "IPY_MODEL_57a0836a297146c5bc4594beb07b9c7b"
      ],
      "layout": "IPY_MODEL_ee2f907f307d40deb5872879a4cfbc4d"
     }
    },
    "c6d49c70f04f499d9a6f228ea480f9a3": {
     "model_module": "@jupyter-widgets/controls",
     "model_module_version": "1.5.0",
     "model_name": "DescriptionStyleModel",
     "state": {
      "_model_module": "@jupyter-widgets/controls",
      "_model_module_version": "1.5.0",
      "_model_name": "DescriptionStyleModel",
      "_view_count": null,
      "_view_module": "@jupyter-widgets/base",
      "_view_module_version": "1.2.0",
      "_view_name": "StyleView",
      "description_width": ""
     }
    },
    "cb0c676d637d42f887817915322e1e9d": {
     "model_module": "@jupyter-widgets/controls",
     "model_module_version": "1.5.0",
     "model_name": "HBoxModel",
     "state": {
      "_dom_classes": [],
      "_model_module": "@jupyter-widgets/controls",
      "_model_module_version": "1.5.0",
      "_model_name": "HBoxModel",
      "_view_count": null,
      "_view_module": "@jupyter-widgets/controls",
      "_view_module_version": "1.5.0",
      "_view_name": "HBoxView",
      "box_style": "",
      "children": [
       "IPY_MODEL_e604047fb71f46919135c1e1ead621c6",
       "IPY_MODEL_f0fb842035fb48049ed8e43da3a1649f",
       "IPY_MODEL_82fe7edd071e4efca77a2a7140cb8097"
      ],
      "layout": "IPY_MODEL_556771ce8f434bff9c11fe6efa345b91"
     }
    },
    "cd9f8f9ef8ee402b837e3b73df8b01d2": {
     "model_module": "@jupyter-widgets/base",
     "model_module_version": "1.2.0",
     "model_name": "LayoutModel",
     "state": {
      "_model_module": "@jupyter-widgets/base",
      "_model_module_version": "1.2.0",
      "_model_name": "LayoutModel",
      "_view_count": null,
      "_view_module": "@jupyter-widgets/base",
      "_view_module_version": "1.2.0",
      "_view_name": "LayoutView",
      "align_content": null,
      "align_items": null,
      "align_self": null,
      "border": null,
      "bottom": null,
      "display": null,
      "flex": null,
      "flex_flow": null,
      "grid_area": null,
      "grid_auto_columns": null,
      "grid_auto_flow": null,
      "grid_auto_rows": null,
      "grid_column": null,
      "grid_gap": null,
      "grid_row": null,
      "grid_template_areas": null,
      "grid_template_columns": null,
      "grid_template_rows": null,
      "height": null,
      "justify_content": null,
      "justify_items": null,
      "left": null,
      "margin": null,
      "max_height": null,
      "max_width": null,
      "min_height": null,
      "min_width": null,
      "object_fit": null,
      "object_position": null,
      "order": null,
      "overflow": null,
      "overflow_x": null,
      "overflow_y": null,
      "padding": null,
      "right": null,
      "top": null,
      "visibility": null,
      "width": null
     }
    },
    "dbb30d0f1f19476ca49b5197f23c67d3": {
     "model_module": "@jupyter-widgets/base",
     "model_module_version": "1.2.0",
     "model_name": "LayoutModel",
     "state": {
      "_model_module": "@jupyter-widgets/base",
      "_model_module_version": "1.2.0",
      "_model_name": "LayoutModel",
      "_view_count": null,
      "_view_module": "@jupyter-widgets/base",
      "_view_module_version": "1.2.0",
      "_view_name": "LayoutView",
      "align_content": null,
      "align_items": null,
      "align_self": null,
      "border": null,
      "bottom": null,
      "display": null,
      "flex": null,
      "flex_flow": null,
      "grid_area": null,
      "grid_auto_columns": null,
      "grid_auto_flow": null,
      "grid_auto_rows": null,
      "grid_column": null,
      "grid_gap": null,
      "grid_row": null,
      "grid_template_areas": null,
      "grid_template_columns": null,
      "grid_template_rows": null,
      "height": null,
      "justify_content": null,
      "justify_items": null,
      "left": null,
      "margin": null,
      "max_height": null,
      "max_width": null,
      "min_height": null,
      "min_width": null,
      "object_fit": null,
      "object_position": null,
      "order": null,
      "overflow": null,
      "overflow_x": null,
      "overflow_y": null,
      "padding": null,
      "right": null,
      "top": null,
      "visibility": null,
      "width": null
     }
    },
    "dd15ba139add456795776f21c7a62214": {
     "model_module": "@jupyter-widgets/base",
     "model_module_version": "1.2.0",
     "model_name": "LayoutModel",
     "state": {
      "_model_module": "@jupyter-widgets/base",
      "_model_module_version": "1.2.0",
      "_model_name": "LayoutModel",
      "_view_count": null,
      "_view_module": "@jupyter-widgets/base",
      "_view_module_version": "1.2.0",
      "_view_name": "LayoutView",
      "align_content": null,
      "align_items": null,
      "align_self": null,
      "border": null,
      "bottom": null,
      "display": null,
      "flex": null,
      "flex_flow": null,
      "grid_area": null,
      "grid_auto_columns": null,
      "grid_auto_flow": null,
      "grid_auto_rows": null,
      "grid_column": null,
      "grid_gap": null,
      "grid_row": null,
      "grid_template_areas": null,
      "grid_template_columns": null,
      "grid_template_rows": null,
      "height": null,
      "justify_content": null,
      "justify_items": null,
      "left": null,
      "margin": null,
      "max_height": null,
      "max_width": null,
      "min_height": null,
      "min_width": null,
      "object_fit": null,
      "object_position": null,
      "order": null,
      "overflow": null,
      "overflow_x": null,
      "overflow_y": null,
      "padding": null,
      "right": null,
      "top": null,
      "visibility": null,
      "width": null
     }
    },
    "de91a0397e6c4825827ecb3177ac7114": {
     "model_module": "@jupyter-widgets/base",
     "model_module_version": "1.2.0",
     "model_name": "LayoutModel",
     "state": {
      "_model_module": "@jupyter-widgets/base",
      "_model_module_version": "1.2.0",
      "_model_name": "LayoutModel",
      "_view_count": null,
      "_view_module": "@jupyter-widgets/base",
      "_view_module_version": "1.2.0",
      "_view_name": "LayoutView",
      "align_content": null,
      "align_items": null,
      "align_self": null,
      "border": null,
      "bottom": null,
      "display": null,
      "flex": "2",
      "flex_flow": null,
      "grid_area": null,
      "grid_auto_columns": null,
      "grid_auto_flow": null,
      "grid_auto_rows": null,
      "grid_column": null,
      "grid_gap": null,
      "grid_row": null,
      "grid_template_areas": null,
      "grid_template_columns": null,
      "grid_template_rows": null,
      "height": null,
      "justify_content": null,
      "justify_items": null,
      "left": null,
      "margin": null,
      "max_height": null,
      "max_width": null,
      "min_height": null,
      "min_width": null,
      "object_fit": null,
      "object_position": null,
      "order": null,
      "overflow": null,
      "overflow_x": null,
      "overflow_y": null,
      "padding": null,
      "right": null,
      "top": null,
      "visibility": null,
      "width": null
     }
    },
    "dfdff95cd3934660bf4b7e1004b6ccd0": {
     "model_module": "@jupyter-widgets/controls",
     "model_module_version": "1.5.0",
     "model_name": "HTMLModel",
     "state": {
      "_dom_classes": [],
      "_model_module": "@jupyter-widgets/controls",
      "_model_module_version": "1.5.0",
      "_model_name": "HTMLModel",
      "_view_count": null,
      "_view_module": "@jupyter-widgets/controls",
      "_view_module_version": "1.5.0",
      "_view_name": "HTMLView",
      "description": "",
      "description_tooltip": null,
      "layout": "IPY_MODEL_dbb30d0f1f19476ca49b5197f23c67d3",
      "placeholder": "​",
      "style": "IPY_MODEL_e05065db8e3744a09ffd684843916fb7",
      "value": "Downloading to graphs/string/Ho...inks.v11.0.txt.gz:  99%"
     }
    },
    "dff4923f8c714866b68d3341c3b53741": {
     "model_module": "@jupyter-widgets/controls",
     "model_module_version": "1.5.0",
     "model_name": "FloatProgressModel",
     "state": {
      "_dom_classes": [],
      "_model_module": "@jupyter-widgets/controls",
      "_model_module_version": "1.5.0",
      "_model_name": "FloatProgressModel",
      "_view_count": null,
      "_view_module": "@jupyter-widgets/controls",
      "_view_module_version": "1.5.0",
      "_view_name": "ProgressView",
      "bar_style": "",
      "description": "",
      "description_tooltip": null,
      "layout": "IPY_MODEL_de91a0397e6c4825827ecb3177ac7114",
      "max": 2,
      "min": 0,
      "orientation": "horizontal",
      "style": "IPY_MODEL_992567326f5040fa93df5af1732584f5",
      "value": 2
     }
    },
    "e0459c8ecafc47bf8a163bd3305e14f4": {
     "model_module": "@jupyter-widgets/base",
     "model_module_version": "1.2.0",
     "model_name": "LayoutModel",
     "state": {
      "_model_module": "@jupyter-widgets/base",
      "_model_module_version": "1.2.0",
      "_model_name": "LayoutModel",
      "_view_count": null,
      "_view_module": "@jupyter-widgets/base",
      "_view_module_version": "1.2.0",
      "_view_name": "LayoutView",
      "align_content": null,
      "align_items": null,
      "align_self": null,
      "border": null,
      "bottom": null,
      "display": null,
      "flex": "2",
      "flex_flow": null,
      "grid_area": null,
      "grid_auto_columns": null,
      "grid_auto_flow": null,
      "grid_auto_rows": null,
      "grid_column": null,
      "grid_gap": null,
      "grid_row": null,
      "grid_template_areas": null,
      "grid_template_columns": null,
      "grid_template_rows": null,
      "height": null,
      "justify_content": null,
      "justify_items": null,
      "left": null,
      "margin": null,
      "max_height": null,
      "max_width": null,
      "min_height": null,
      "min_width": null,
      "object_fit": null,
      "object_position": null,
      "order": null,
      "overflow": null,
      "overflow_x": null,
      "overflow_y": null,
      "padding": null,
      "right": null,
      "top": null,
      "visibility": null,
      "width": null
     }
    },
    "e05065db8e3744a09ffd684843916fb7": {
     "model_module": "@jupyter-widgets/controls",
     "model_module_version": "1.5.0",
     "model_name": "DescriptionStyleModel",
     "state": {
      "_model_module": "@jupyter-widgets/controls",
      "_model_module_version": "1.5.0",
      "_model_name": "DescriptionStyleModel",
      "_view_count": null,
      "_view_module": "@jupyter-widgets/base",
      "_view_module_version": "1.2.0",
      "_view_name": "StyleView",
      "description_width": ""
     }
    },
    "e604047fb71f46919135c1e1ead621c6": {
     "model_module": "@jupyter-widgets/controls",
     "model_module_version": "1.5.0",
     "model_name": "HTMLModel",
     "state": {
      "_dom_classes": [],
      "_model_module": "@jupyter-widgets/controls",
      "_model_module_version": "1.5.0",
      "_model_name": "HTMLModel",
      "_view_count": null,
      "_view_module": "@jupyter-widgets/controls",
      "_view_module_version": "1.5.0",
      "_view_name": "HTMLView",
      "description": "",
      "description_tooltip": null,
      "layout": "IPY_MODEL_896093624b094f14946621998be3a260",
      "placeholder": "​",
      "style": "IPY_MODEL_7f4cdbad3fac426886840a6af8c71379",
      "value": "Downloading to graphs/string/Ho...info.v11.5.txt.gz:  96%"
     }
    },
    "e694f084b7dd454ca75bbf2926c40999": {
     "model_module": "@jupyter-widgets/controls",
     "model_module_version": "1.5.0",
     "model_name": "HTMLModel",
     "state": {
      "_dom_classes": [],
      "_model_module": "@jupyter-widgets/controls",
      "_model_module_version": "1.5.0",
      "_model_name": "HTMLModel",
      "_view_count": null,
      "_view_module": "@jupyter-widgets/controls",
      "_view_module_version": "1.5.0",
      "_view_name": "HTMLView",
      "description": "",
      "description_tooltip": null,
      "layout": "IPY_MODEL_9aabbed5df474439998cf0e05c9128e7",
      "placeholder": "​",
      "style": "IPY_MODEL_002dea06c0ea4a1cbf8e339f2b328893",
      "value": "Downloading to graphs/string/Ho...info.v11.0.txt.gz:  97%"
     }
    },
    "ea445b14fa8445e0be8ebf56146160bb": {
     "model_module": "@jupyter-widgets/controls",
     "model_module_version": "1.5.0",
     "model_name": "FloatProgressModel",
     "state": {
      "_dom_classes": [],
      "_model_module": "@jupyter-widgets/controls",
      "_model_module_version": "1.5.0",
      "_model_name": "FloatProgressModel",
      "_view_count": null,
      "_view_module": "@jupyter-widgets/controls",
      "_view_module_version": "1.5.0",
      "_view_name": "ProgressView",
      "bar_style": "",
      "description": "",
      "description_tooltip": null,
      "layout": "IPY_MODEL_e0459c8ecafc47bf8a163bd3305e14f4",
      "max": 72718220,
      "min": 0,
      "orientation": "horizontal",
      "style": "IPY_MODEL_738d0073b6ce47e1802a4addf2778b69",
      "value": 72718220
     }
    },
    "ea5eb0ac9fb34be2b16064e079432f6b": {
     "model_module": "@jupyter-widgets/controls",
     "model_module_version": "1.5.0",
     "model_name": "ProgressStyleModel",
     "state": {
      "_model_module": "@jupyter-widgets/controls",
      "_model_module_version": "1.5.0",
      "_model_name": "ProgressStyleModel",
      "_view_count": null,
      "_view_module": "@jupyter-widgets/base",
      "_view_module_version": "1.2.0",
      "_view_name": "StyleView",
      "bar_color": null,
      "description_width": ""
     }
    },
    "ee2f907f307d40deb5872879a4cfbc4d": {
     "model_module": "@jupyter-widgets/base",
     "model_module_version": "1.2.0",
     "model_name": "LayoutModel",
     "state": {
      "_model_module": "@jupyter-widgets/base",
      "_model_module_version": "1.2.0",
      "_model_name": "LayoutModel",
      "_view_count": null,
      "_view_module": "@jupyter-widgets/base",
      "_view_module_version": "1.2.0",
      "_view_name": "LayoutView",
      "align_content": null,
      "align_items": null,
      "align_self": null,
      "border": null,
      "bottom": null,
      "display": "inline-flex",
      "flex": null,
      "flex_flow": "row wrap",
      "grid_area": null,
      "grid_auto_columns": null,
      "grid_auto_flow": null,
      "grid_auto_rows": null,
      "grid_column": null,
      "grid_gap": null,
      "grid_row": null,
      "grid_template_areas": null,
      "grid_template_columns": null,
      "grid_template_rows": null,
      "height": null,
      "justify_content": null,
      "justify_items": null,
      "left": null,
      "margin": null,
      "max_height": null,
      "max_width": null,
      "min_height": null,
      "min_width": null,
      "object_fit": null,
      "object_position": null,
      "order": null,
      "overflow": null,
      "overflow_x": null,
      "overflow_y": null,
      "padding": null,
      "right": null,
      "top": null,
      "visibility": null,
      "width": "100%"
     }
    },
    "f0c7bb80e03e4db4bbba1247d096f6f3": {
     "model_module": "@jupyter-widgets/controls",
     "model_module_version": "1.5.0",
     "model_name": "HTMLModel",
     "state": {
      "_dom_classes": [],
      "_model_module": "@jupyter-widgets/controls",
      "_model_module_version": "1.5.0",
      "_model_name": "HTMLModel",
      "_view_count": null,
      "_view_module": "@jupyter-widgets/controls",
      "_view_module_version": "1.5.0",
      "_view_name": "HTMLView",
      "description": "",
      "description_tooltip": null,
      "layout": "IPY_MODEL_cd9f8f9ef8ee402b837e3b73df8b01d2",
      "placeholder": "​",
      "style": "IPY_MODEL_a65485e950294d79aea94937abd1f0b0",
      "value": "Downloading files: 100%"
     }
    },
    "f0fb842035fb48049ed8e43da3a1649f": {
     "model_module": "@jupyter-widgets/controls",
     "model_module_version": "1.5.0",
     "model_name": "FloatProgressModel",
     "state": {
      "_dom_classes": [],
      "_model_module": "@jupyter-widgets/controls",
      "_model_module_version": "1.5.0",
      "_model_name": "FloatProgressModel",
      "_view_count": null,
      "_view_module": "@jupyter-widgets/controls",
      "_view_module_version": "1.5.0",
      "_view_name": "ProgressView",
      "bar_style": "",
      "description": "",
      "description_tooltip": null,
      "layout": "IPY_MODEL_1229bf8ea06540f182269505d07e0f06",
      "max": 1901833,
      "min": 0,
      "orientation": "horizontal",
      "style": "IPY_MODEL_9982e6bcaa774dbd98a3ef9757f68821",
      "value": 1901833
     }
    },
    "f9ddb9052c6b4384a8e3060cea1d5171": {
     "model_module": "@jupyter-widgets/base",
     "model_module_version": "1.2.0",
     "model_name": "LayoutModel",
     "state": {
      "_model_module": "@jupyter-widgets/base",
      "_model_module_version": "1.2.0",
      "_model_name": "LayoutModel",
      "_view_count": null,
      "_view_module": "@jupyter-widgets/base",
      "_view_module_version": "1.2.0",
      "_view_name": "LayoutView",
      "align_content": null,
      "align_items": null,
      "align_self": null,
      "border": null,
      "bottom": null,
      "display": null,
      "flex": null,
      "flex_flow": null,
      "grid_area": null,
      "grid_auto_columns": null,
      "grid_auto_flow": null,
      "grid_auto_rows": null,
      "grid_column": null,
      "grid_gap": null,
      "grid_row": null,
      "grid_template_areas": null,
      "grid_template_columns": null,
      "grid_template_rows": null,
      "height": null,
      "justify_content": null,
      "justify_items": null,
      "left": null,
      "margin": null,
      "max_height": null,
      "max_width": null,
      "min_height": null,
      "min_width": null,
      "object_fit": null,
      "object_position": null,
      "order": null,
      "overflow": null,
      "overflow_x": null,
      "overflow_y": null,
      "padding": null,
      "right": null,
      "top": null,
      "visibility": null,
      "width": null
     }
    },
    "fbf2d3bfb29f43cea7812c9a89bf2318": {
     "model_module": "@jupyter-widgets/base",
     "model_module_version": "1.2.0",
     "model_name": "LayoutModel",
     "state": {
      "_model_module": "@jupyter-widgets/base",
      "_model_module_version": "1.2.0",
      "_model_name": "LayoutModel",
      "_view_count": null,
      "_view_module": "@jupyter-widgets/base",
      "_view_module_version": "1.2.0",
      "_view_name": "LayoutView",
      "align_content": null,
      "align_items": null,
      "align_self": null,
      "border": null,
      "bottom": null,
      "display": null,
      "flex": null,
      "flex_flow": null,
      "grid_area": null,
      "grid_auto_columns": null,
      "grid_auto_flow": null,
      "grid_auto_rows": null,
      "grid_column": null,
      "grid_gap": null,
      "grid_row": null,
      "grid_template_areas": null,
      "grid_template_columns": null,
      "grid_template_rows": null,
      "height": null,
      "justify_content": null,
      "justify_items": null,
      "left": null,
      "margin": null,
      "max_height": null,
      "max_width": null,
      "min_height": null,
      "min_width": null,
      "object_fit": null,
      "object_position": null,
      "order": null,
      "overflow": null,
      "overflow_x": null,
      "overflow_y": null,
      "padding": null,
      "right": null,
      "top": null,
      "visibility": null,
      "width": null
     }
    },
    "fcfd8b11356b4891b1fbe1f24bde6de1": {
     "model_module": "@jupyter-widgets/base",
     "model_module_version": "1.2.0",
     "model_name": "LayoutModel",
     "state": {
      "_model_module": "@jupyter-widgets/base",
      "_model_module_version": "1.2.0",
      "_model_name": "LayoutModel",
      "_view_count": null,
      "_view_module": "@jupyter-widgets/base",
      "_view_module_version": "1.2.0",
      "_view_name": "LayoutView",
      "align_content": null,
      "align_items": null,
      "align_self": null,
      "border": null,
      "bottom": null,
      "display": null,
      "flex": null,
      "flex_flow": null,
      "grid_area": null,
      "grid_auto_columns": null,
      "grid_auto_flow": null,
      "grid_auto_rows": null,
      "grid_column": null,
      "grid_gap": null,
      "grid_row": null,
      "grid_template_areas": null,
      "grid_template_columns": null,
      "grid_template_rows": null,
      "height": null,
      "justify_content": null,
      "justify_items": null,
      "left": null,
      "margin": null,
      "max_height": null,
      "max_width": null,
      "min_height": null,
      "min_width": null,
      "object_fit": null,
      "object_position": null,
      "order": null,
      "overflow": null,
      "overflow_x": null,
      "overflow_y": null,
      "padding": null,
      "right": null,
      "top": null,
      "visibility": null,
      "width": null
     }
    },
    "ffd5653999034915824828dd5bb16e36": {
     "model_module": "@jupyter-widgets/controls",
     "model_module_version": "1.5.0",
     "model_name": "HBoxModel",
     "state": {
      "_dom_classes": [],
      "_model_module": "@jupyter-widgets/controls",
      "_model_module_version": "1.5.0",
      "_model_name": "HBoxModel",
      "_view_count": null,
      "_view_module": "@jupyter-widgets/controls",
      "_view_module_version": "1.5.0",
      "_view_name": "HBoxView",
      "box_style": "",
      "children": [
       "IPY_MODEL_1517d035fce24a31a2e801b0f284153d",
       "IPY_MODEL_5117a324b5494d5e9da24cba2ba7d3f2",
       "IPY_MODEL_0976a68ff7ee49fdb0972f3cc93f6a0d"
      ],
      "layout": "IPY_MODEL_3b7c9e092f7b4ef183bc1a0e513eb497"
     }
    }
   }
  }
 },
 "nbformat": 4,
 "nbformat_minor": 1
}
