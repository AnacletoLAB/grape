{
  "nbformat": 4,
  "nbformat_minor": 0,
  "metadata": {
    "colab": {
      "name": "Ensmallen_Loading_a_Graph.ipynb",
      "provenance": [],
      "collapsed_sections": [],
      "authorship_tag": "ABX9TyN/qak+bIMetAC14o3DU1oc",
      "include_colab_link": true
    },
    "kernelspec": {
      "name": "python3",
      "display_name": "Python 3"
    },
    "language_info": {
      "name": "python"
    },
    "widgets": {
      "application/vnd.jupyter.widget-state+json": {
        "ffd5653999034915824828dd5bb16e36": {
          "model_module": "@jupyter-widgets/controls",
          "model_name": "HBoxModel",
          "model_module_version": "1.5.0",
          "state": {
            "_view_name": "HBoxView",
            "_dom_classes": [],
            "_model_name": "HBoxModel",
            "_view_module": "@jupyter-widgets/controls",
            "_model_module_version": "1.5.0",
            "_view_count": null,
            "_view_module_version": "1.5.0",
            "box_style": "",
            "layout": "IPY_MODEL_3b7c9e092f7b4ef183bc1a0e513eb497",
            "_model_module": "@jupyter-widgets/controls",
            "children": [
              "IPY_MODEL_1517d035fce24a31a2e801b0f284153d",
              "IPY_MODEL_5117a324b5494d5e9da24cba2ba7d3f2",
              "IPY_MODEL_0976a68ff7ee49fdb0972f3cc93f6a0d"
            ]
          }
        },
        "3b7c9e092f7b4ef183bc1a0e513eb497": {
          "model_module": "@jupyter-widgets/base",
          "model_name": "LayoutModel",
          "model_module_version": "1.2.0",
          "state": {
            "_view_name": "LayoutView",
            "grid_template_rows": null,
            "right": null,
            "justify_content": null,
            "_view_module": "@jupyter-widgets/base",
            "overflow": null,
            "_model_module_version": "1.2.0",
            "_view_count": null,
            "flex_flow": "row wrap",
            "width": "100%",
            "min_width": null,
            "border": null,
            "align_items": null,
            "bottom": null,
            "_model_module": "@jupyter-widgets/base",
            "top": null,
            "grid_column": null,
            "overflow_y": null,
            "overflow_x": null,
            "grid_auto_flow": null,
            "grid_area": null,
            "grid_template_columns": null,
            "flex": null,
            "_model_name": "LayoutModel",
            "justify_items": null,
            "grid_row": null,
            "max_height": null,
            "align_content": null,
            "visibility": null,
            "align_self": null,
            "height": null,
            "min_height": null,
            "padding": null,
            "grid_auto_rows": null,
            "grid_gap": null,
            "max_width": null,
            "order": null,
            "_view_module_version": "1.2.0",
            "grid_template_areas": null,
            "object_position": null,
            "object_fit": null,
            "grid_auto_columns": null,
            "margin": null,
            "display": "inline-flex",
            "left": null
          }
        },
        "1517d035fce24a31a2e801b0f284153d": {
          "model_module": "@jupyter-widgets/controls",
          "model_name": "HTMLModel",
          "model_module_version": "1.5.0",
          "state": {
            "_view_name": "HTMLView",
            "style": "IPY_MODEL_248b68c4d3eb49efa1e2a385a766b381",
            "_dom_classes": [],
            "description": "",
            "_model_name": "HTMLModel",
            "placeholder": "​",
            "_view_module": "@jupyter-widgets/controls",
            "_model_module_version": "1.5.0",
            "value": "Downloading files: 100%",
            "_view_count": null,
            "_view_module_version": "1.5.0",
            "description_tooltip": null,
            "_model_module": "@jupyter-widgets/controls",
            "layout": "IPY_MODEL_dd15ba139add456795776f21c7a62214"
          }
        },
        "5117a324b5494d5e9da24cba2ba7d3f2": {
          "model_module": "@jupyter-widgets/controls",
          "model_name": "FloatProgressModel",
          "model_module_version": "1.5.0",
          "state": {
            "_view_name": "ProgressView",
            "style": "IPY_MODEL_ea5eb0ac9fb34be2b16064e079432f6b",
            "_dom_classes": [],
            "description": "",
            "_model_name": "FloatProgressModel",
            "bar_style": "",
            "max": 2,
            "_view_module": "@jupyter-widgets/controls",
            "_model_module_version": "1.5.0",
            "value": 2,
            "_view_count": null,
            "_view_module_version": "1.5.0",
            "orientation": "horizontal",
            "min": 0,
            "description_tooltip": null,
            "_model_module": "@jupyter-widgets/controls",
            "layout": "IPY_MODEL_1c3b2f4ab8d04678a887b4160560ddb9"
          }
        },
        "0976a68ff7ee49fdb0972f3cc93f6a0d": {
          "model_module": "@jupyter-widgets/controls",
          "model_name": "HTMLModel",
          "model_module_version": "1.5.0",
          "state": {
            "_view_name": "HTMLView",
            "style": "IPY_MODEL_7e47fd57d0ab45598c7f115bc045d1ac",
            "_dom_classes": [],
            "description": "",
            "_model_name": "HTMLModel",
            "placeholder": "​",
            "_view_module": "@jupyter-widgets/controls",
            "_model_module_version": "1.5.0",
            "value": " 2/2 [00:09&lt;00:00,  4.08s/it]",
            "_view_count": null,
            "_view_module_version": "1.5.0",
            "description_tooltip": null,
            "_model_module": "@jupyter-widgets/controls",
            "layout": "IPY_MODEL_fcfd8b11356b4891b1fbe1f24bde6de1"
          }
        },
        "248b68c4d3eb49efa1e2a385a766b381": {
          "model_module": "@jupyter-widgets/controls",
          "model_name": "DescriptionStyleModel",
          "model_module_version": "1.5.0",
          "state": {
            "_view_name": "StyleView",
            "_model_name": "DescriptionStyleModel",
            "description_width": "",
            "_view_module": "@jupyter-widgets/base",
            "_model_module_version": "1.5.0",
            "_view_count": null,
            "_view_module_version": "1.2.0",
            "_model_module": "@jupyter-widgets/controls"
          }
        },
        "dd15ba139add456795776f21c7a62214": {
          "model_module": "@jupyter-widgets/base",
          "model_name": "LayoutModel",
          "model_module_version": "1.2.0",
          "state": {
            "_view_name": "LayoutView",
            "grid_template_rows": null,
            "right": null,
            "justify_content": null,
            "_view_module": "@jupyter-widgets/base",
            "overflow": null,
            "_model_module_version": "1.2.0",
            "_view_count": null,
            "flex_flow": null,
            "width": null,
            "min_width": null,
            "border": null,
            "align_items": null,
            "bottom": null,
            "_model_module": "@jupyter-widgets/base",
            "top": null,
            "grid_column": null,
            "overflow_y": null,
            "overflow_x": null,
            "grid_auto_flow": null,
            "grid_area": null,
            "grid_template_columns": null,
            "flex": null,
            "_model_name": "LayoutModel",
            "justify_items": null,
            "grid_row": null,
            "max_height": null,
            "align_content": null,
            "visibility": null,
            "align_self": null,
            "height": null,
            "min_height": null,
            "padding": null,
            "grid_auto_rows": null,
            "grid_gap": null,
            "max_width": null,
            "order": null,
            "_view_module_version": "1.2.0",
            "grid_template_areas": null,
            "object_position": null,
            "object_fit": null,
            "grid_auto_columns": null,
            "margin": null,
            "display": null,
            "left": null
          }
        },
        "ea5eb0ac9fb34be2b16064e079432f6b": {
          "model_module": "@jupyter-widgets/controls",
          "model_name": "ProgressStyleModel",
          "model_module_version": "1.5.0",
          "state": {
            "_view_name": "StyleView",
            "_model_name": "ProgressStyleModel",
            "description_width": "",
            "_view_module": "@jupyter-widgets/base",
            "_model_module_version": "1.5.0",
            "_view_count": null,
            "_view_module_version": "1.2.0",
            "bar_color": null,
            "_model_module": "@jupyter-widgets/controls"
          }
        },
        "1c3b2f4ab8d04678a887b4160560ddb9": {
          "model_module": "@jupyter-widgets/base",
          "model_name": "LayoutModel",
          "model_module_version": "1.2.0",
          "state": {
            "_view_name": "LayoutView",
            "grid_template_rows": null,
            "right": null,
            "justify_content": null,
            "_view_module": "@jupyter-widgets/base",
            "overflow": null,
            "_model_module_version": "1.2.0",
            "_view_count": null,
            "flex_flow": null,
            "width": null,
            "min_width": null,
            "border": null,
            "align_items": null,
            "bottom": null,
            "_model_module": "@jupyter-widgets/base",
            "top": null,
            "grid_column": null,
            "overflow_y": null,
            "overflow_x": null,
            "grid_auto_flow": null,
            "grid_area": null,
            "grid_template_columns": null,
            "flex": "2",
            "_model_name": "LayoutModel",
            "justify_items": null,
            "grid_row": null,
            "max_height": null,
            "align_content": null,
            "visibility": null,
            "align_self": null,
            "height": null,
            "min_height": null,
            "padding": null,
            "grid_auto_rows": null,
            "grid_gap": null,
            "max_width": null,
            "order": null,
            "_view_module_version": "1.2.0",
            "grid_template_areas": null,
            "object_position": null,
            "object_fit": null,
            "grid_auto_columns": null,
            "margin": null,
            "display": null,
            "left": null
          }
        },
        "7e47fd57d0ab45598c7f115bc045d1ac": {
          "model_module": "@jupyter-widgets/controls",
          "model_name": "DescriptionStyleModel",
          "model_module_version": "1.5.0",
          "state": {
            "_view_name": "StyleView",
            "_model_name": "DescriptionStyleModel",
            "description_width": "",
            "_view_module": "@jupyter-widgets/base",
            "_model_module_version": "1.5.0",
            "_view_count": null,
            "_view_module_version": "1.2.0",
            "_model_module": "@jupyter-widgets/controls"
          }
        },
        "fcfd8b11356b4891b1fbe1f24bde6de1": {
          "model_module": "@jupyter-widgets/base",
          "model_name": "LayoutModel",
          "model_module_version": "1.2.0",
          "state": {
            "_view_name": "LayoutView",
            "grid_template_rows": null,
            "right": null,
            "justify_content": null,
            "_view_module": "@jupyter-widgets/base",
            "overflow": null,
            "_model_module_version": "1.2.0",
            "_view_count": null,
            "flex_flow": null,
            "width": null,
            "min_width": null,
            "border": null,
            "align_items": null,
            "bottom": null,
            "_model_module": "@jupyter-widgets/base",
            "top": null,
            "grid_column": null,
            "overflow_y": null,
            "overflow_x": null,
            "grid_auto_flow": null,
            "grid_area": null,
            "grid_template_columns": null,
            "flex": null,
            "_model_name": "LayoutModel",
            "justify_items": null,
            "grid_row": null,
            "max_height": null,
            "align_content": null,
            "visibility": null,
            "align_self": null,
            "height": null,
            "min_height": null,
            "padding": null,
            "grid_auto_rows": null,
            "grid_gap": null,
            "max_width": null,
            "order": null,
            "_view_module_version": "1.2.0",
            "grid_template_areas": null,
            "object_position": null,
            "object_fit": null,
            "grid_auto_columns": null,
            "margin": null,
            "display": null,
            "left": null
          }
        },
        "bb0cb20870694ea2869cfecc0cee8fea": {
          "model_module": "@jupyter-widgets/controls",
          "model_name": "HBoxModel",
          "model_module_version": "1.5.0",
          "state": {
            "_view_name": "HBoxView",
            "_dom_classes": [],
            "_model_name": "HBoxModel",
            "_view_module": "@jupyter-widgets/controls",
            "_model_module_version": "1.5.0",
            "_view_count": null,
            "_view_module_version": "1.5.0",
            "box_style": "",
            "layout": "IPY_MODEL_ee2f907f307d40deb5872879a4cfbc4d",
            "_model_module": "@jupyter-widgets/controls",
            "children": [
              "IPY_MODEL_5ac93f69325d4a46aa2a7eea8367f0cb",
              "IPY_MODEL_ea445b14fa8445e0be8ebf56146160bb",
              "IPY_MODEL_57a0836a297146c5bc4594beb07b9c7b"
            ]
          }
        },
        "ee2f907f307d40deb5872879a4cfbc4d": {
          "model_module": "@jupyter-widgets/base",
          "model_name": "LayoutModel",
          "model_module_version": "1.2.0",
          "state": {
            "_view_name": "LayoutView",
            "grid_template_rows": null,
            "right": null,
            "justify_content": null,
            "_view_module": "@jupyter-widgets/base",
            "overflow": null,
            "_model_module_version": "1.2.0",
            "_view_count": null,
            "flex_flow": "row wrap",
            "width": "100%",
            "min_width": null,
            "border": null,
            "align_items": null,
            "bottom": null,
            "_model_module": "@jupyter-widgets/base",
            "top": null,
            "grid_column": null,
            "overflow_y": null,
            "overflow_x": null,
            "grid_auto_flow": null,
            "grid_area": null,
            "grid_template_columns": null,
            "flex": null,
            "_model_name": "LayoutModel",
            "justify_items": null,
            "grid_row": null,
            "max_height": null,
            "align_content": null,
            "visibility": null,
            "align_self": null,
            "height": null,
            "min_height": null,
            "padding": null,
            "grid_auto_rows": null,
            "grid_gap": null,
            "max_width": null,
            "order": null,
            "_view_module_version": "1.2.0",
            "grid_template_areas": null,
            "object_position": null,
            "object_fit": null,
            "grid_auto_columns": null,
            "margin": null,
            "display": "inline-flex",
            "left": null
          }
        },
        "5ac93f69325d4a46aa2a7eea8367f0cb": {
          "model_module": "@jupyter-widgets/controls",
          "model_name": "HTMLModel",
          "model_module_version": "1.5.0",
          "state": {
            "_view_name": "HTMLView",
            "style": "IPY_MODEL_651715e7eb7142a0b8e6aa033bced731",
            "_dom_classes": [],
            "description": "",
            "_model_name": "HTMLModel",
            "placeholder": "​",
            "_view_module": "@jupyter-widgets/controls",
            "_model_module_version": "1.5.0",
            "value": "Downloading to graphs/string/Ho...inks.v11.5.txt.gz:  98%",
            "_view_count": null,
            "_view_module_version": "1.5.0",
            "description_tooltip": null,
            "_model_module": "@jupyter-widgets/controls",
            "layout": "IPY_MODEL_3798cc2f69dc414c8497d49b9a7dcc38"
          }
        },
        "ea445b14fa8445e0be8ebf56146160bb": {
          "model_module": "@jupyter-widgets/controls",
          "model_name": "FloatProgressModel",
          "model_module_version": "1.5.0",
          "state": {
            "_view_name": "ProgressView",
            "style": "IPY_MODEL_738d0073b6ce47e1802a4addf2778b69",
            "_dom_classes": [],
            "description": "",
            "_model_name": "FloatProgressModel",
            "bar_style": "",
            "max": 72718220,
            "_view_module": "@jupyter-widgets/controls",
            "_model_module_version": "1.5.0",
            "value": 72718220,
            "_view_count": null,
            "_view_module_version": "1.5.0",
            "orientation": "horizontal",
            "min": 0,
            "description_tooltip": null,
            "_model_module": "@jupyter-widgets/controls",
            "layout": "IPY_MODEL_e0459c8ecafc47bf8a163bd3305e14f4"
          }
        },
        "57a0836a297146c5bc4594beb07b9c7b": {
          "model_module": "@jupyter-widgets/controls",
          "model_name": "HTMLModel",
          "model_module_version": "1.5.0",
          "state": {
            "_view_name": "HTMLView",
            "style": "IPY_MODEL_643e34c7c0d1468c97b1e36d25907019",
            "_dom_classes": [],
            "description": "",
            "_model_name": "HTMLModel",
            "placeholder": "​",
            "_view_module": "@jupyter-widgets/controls",
            "_model_module_version": "1.5.0",
            "value": " 71.3M/72.7M [00:04&lt;00:00, 16.3MiB/s]",
            "_view_count": null,
            "_view_module_version": "1.5.0",
            "description_tooltip": null,
            "_model_module": "@jupyter-widgets/controls",
            "layout": "IPY_MODEL_3f6293f6bdb540c3b85d5a538d90ed2f"
          }
        },
        "651715e7eb7142a0b8e6aa033bced731": {
          "model_module": "@jupyter-widgets/controls",
          "model_name": "DescriptionStyleModel",
          "model_module_version": "1.5.0",
          "state": {
            "_view_name": "StyleView",
            "_model_name": "DescriptionStyleModel",
            "description_width": "",
            "_view_module": "@jupyter-widgets/base",
            "_model_module_version": "1.5.0",
            "_view_count": null,
            "_view_module_version": "1.2.0",
            "_model_module": "@jupyter-widgets/controls"
          }
        },
        "3798cc2f69dc414c8497d49b9a7dcc38": {
          "model_module": "@jupyter-widgets/base",
          "model_name": "LayoutModel",
          "model_module_version": "1.2.0",
          "state": {
            "_view_name": "LayoutView",
            "grid_template_rows": null,
            "right": null,
            "justify_content": null,
            "_view_module": "@jupyter-widgets/base",
            "overflow": null,
            "_model_module_version": "1.2.0",
            "_view_count": null,
            "flex_flow": null,
            "width": null,
            "min_width": null,
            "border": null,
            "align_items": null,
            "bottom": null,
            "_model_module": "@jupyter-widgets/base",
            "top": null,
            "grid_column": null,
            "overflow_y": null,
            "overflow_x": null,
            "grid_auto_flow": null,
            "grid_area": null,
            "grid_template_columns": null,
            "flex": null,
            "_model_name": "LayoutModel",
            "justify_items": null,
            "grid_row": null,
            "max_height": null,
            "align_content": null,
            "visibility": null,
            "align_self": null,
            "height": null,
            "min_height": null,
            "padding": null,
            "grid_auto_rows": null,
            "grid_gap": null,
            "max_width": null,
            "order": null,
            "_view_module_version": "1.2.0",
            "grid_template_areas": null,
            "object_position": null,
            "object_fit": null,
            "grid_auto_columns": null,
            "margin": null,
            "display": null,
            "left": null
          }
        },
        "738d0073b6ce47e1802a4addf2778b69": {
          "model_module": "@jupyter-widgets/controls",
          "model_name": "ProgressStyleModel",
          "model_module_version": "1.5.0",
          "state": {
            "_view_name": "StyleView",
            "_model_name": "ProgressStyleModel",
            "description_width": "",
            "_view_module": "@jupyter-widgets/base",
            "_model_module_version": "1.5.0",
            "_view_count": null,
            "_view_module_version": "1.2.0",
            "bar_color": null,
            "_model_module": "@jupyter-widgets/controls"
          }
        },
        "e0459c8ecafc47bf8a163bd3305e14f4": {
          "model_module": "@jupyter-widgets/base",
          "model_name": "LayoutModel",
          "model_module_version": "1.2.0",
          "state": {
            "_view_name": "LayoutView",
            "grid_template_rows": null,
            "right": null,
            "justify_content": null,
            "_view_module": "@jupyter-widgets/base",
            "overflow": null,
            "_model_module_version": "1.2.0",
            "_view_count": null,
            "flex_flow": null,
            "width": null,
            "min_width": null,
            "border": null,
            "align_items": null,
            "bottom": null,
            "_model_module": "@jupyter-widgets/base",
            "top": null,
            "grid_column": null,
            "overflow_y": null,
            "overflow_x": null,
            "grid_auto_flow": null,
            "grid_area": null,
            "grid_template_columns": null,
            "flex": "2",
            "_model_name": "LayoutModel",
            "justify_items": null,
            "grid_row": null,
            "max_height": null,
            "align_content": null,
            "visibility": null,
            "align_self": null,
            "height": null,
            "min_height": null,
            "padding": null,
            "grid_auto_rows": null,
            "grid_gap": null,
            "max_width": null,
            "order": null,
            "_view_module_version": "1.2.0",
            "grid_template_areas": null,
            "object_position": null,
            "object_fit": null,
            "grid_auto_columns": null,
            "margin": null,
            "display": null,
            "left": null
          }
        },
        "643e34c7c0d1468c97b1e36d25907019": {
          "model_module": "@jupyter-widgets/controls",
          "model_name": "DescriptionStyleModel",
          "model_module_version": "1.5.0",
          "state": {
            "_view_name": "StyleView",
            "_model_name": "DescriptionStyleModel",
            "description_width": "",
            "_view_module": "@jupyter-widgets/base",
            "_model_module_version": "1.5.0",
            "_view_count": null,
            "_view_module_version": "1.2.0",
            "_model_module": "@jupyter-widgets/controls"
          }
        },
        "3f6293f6bdb540c3b85d5a538d90ed2f": {
          "model_module": "@jupyter-widgets/base",
          "model_name": "LayoutModel",
          "model_module_version": "1.2.0",
          "state": {
            "_view_name": "LayoutView",
            "grid_template_rows": null,
            "right": null,
            "justify_content": null,
            "_view_module": "@jupyter-widgets/base",
            "overflow": null,
            "_model_module_version": "1.2.0",
            "_view_count": null,
            "flex_flow": null,
            "width": null,
            "min_width": null,
            "border": null,
            "align_items": null,
            "bottom": null,
            "_model_module": "@jupyter-widgets/base",
            "top": null,
            "grid_column": null,
            "overflow_y": null,
            "overflow_x": null,
            "grid_auto_flow": null,
            "grid_area": null,
            "grid_template_columns": null,
            "flex": null,
            "_model_name": "LayoutModel",
            "justify_items": null,
            "grid_row": null,
            "max_height": null,
            "align_content": null,
            "visibility": null,
            "align_self": null,
            "height": null,
            "min_height": null,
            "padding": null,
            "grid_auto_rows": null,
            "grid_gap": null,
            "max_width": null,
            "order": null,
            "_view_module_version": "1.2.0",
            "grid_template_areas": null,
            "object_position": null,
            "object_fit": null,
            "grid_auto_columns": null,
            "margin": null,
            "display": null,
            "left": null
          }
        },
        "cb0c676d637d42f887817915322e1e9d": {
          "model_module": "@jupyter-widgets/controls",
          "model_name": "HBoxModel",
          "model_module_version": "1.5.0",
          "state": {
            "_view_name": "HBoxView",
            "_dom_classes": [],
            "_model_name": "HBoxModel",
            "_view_module": "@jupyter-widgets/controls",
            "_model_module_version": "1.5.0",
            "_view_count": null,
            "_view_module_version": "1.5.0",
            "box_style": "",
            "layout": "IPY_MODEL_556771ce8f434bff9c11fe6efa345b91",
            "_model_module": "@jupyter-widgets/controls",
            "children": [
              "IPY_MODEL_e604047fb71f46919135c1e1ead621c6",
              "IPY_MODEL_f0fb842035fb48049ed8e43da3a1649f",
              "IPY_MODEL_82fe7edd071e4efca77a2a7140cb8097"
            ]
          }
        },
        "556771ce8f434bff9c11fe6efa345b91": {
          "model_module": "@jupyter-widgets/base",
          "model_name": "LayoutModel",
          "model_module_version": "1.2.0",
          "state": {
            "_view_name": "LayoutView",
            "grid_template_rows": null,
            "right": null,
            "justify_content": null,
            "_view_module": "@jupyter-widgets/base",
            "overflow": null,
            "_model_module_version": "1.2.0",
            "_view_count": null,
            "flex_flow": "row wrap",
            "width": "100%",
            "min_width": null,
            "border": null,
            "align_items": null,
            "bottom": null,
            "_model_module": "@jupyter-widgets/base",
            "top": null,
            "grid_column": null,
            "overflow_y": null,
            "overflow_x": null,
            "grid_auto_flow": null,
            "grid_area": null,
            "grid_template_columns": null,
            "flex": null,
            "_model_name": "LayoutModel",
            "justify_items": null,
            "grid_row": null,
            "max_height": null,
            "align_content": null,
            "visibility": null,
            "align_self": null,
            "height": null,
            "min_height": null,
            "padding": null,
            "grid_auto_rows": null,
            "grid_gap": null,
            "max_width": null,
            "order": null,
            "_view_module_version": "1.2.0",
            "grid_template_areas": null,
            "object_position": null,
            "object_fit": null,
            "grid_auto_columns": null,
            "margin": null,
            "display": "inline-flex",
            "left": null
          }
        },
        "e604047fb71f46919135c1e1ead621c6": {
          "model_module": "@jupyter-widgets/controls",
          "model_name": "HTMLModel",
          "model_module_version": "1.5.0",
          "state": {
            "_view_name": "HTMLView",
            "style": "IPY_MODEL_7f4cdbad3fac426886840a6af8c71379",
            "_dom_classes": [],
            "description": "",
            "_model_name": "HTMLModel",
            "placeholder": "​",
            "_view_module": "@jupyter-widgets/controls",
            "_model_module_version": "1.5.0",
            "value": "Downloading to graphs/string/Ho...info.v11.5.txt.gz:  96%",
            "_view_count": null,
            "_view_module_version": "1.5.0",
            "description_tooltip": null,
            "_model_module": "@jupyter-widgets/controls",
            "layout": "IPY_MODEL_896093624b094f14946621998be3a260"
          }
        },
        "f0fb842035fb48049ed8e43da3a1649f": {
          "model_module": "@jupyter-widgets/controls",
          "model_name": "FloatProgressModel",
          "model_module_version": "1.5.0",
          "state": {
            "_view_name": "ProgressView",
            "style": "IPY_MODEL_9982e6bcaa774dbd98a3ef9757f68821",
            "_dom_classes": [],
            "description": "",
            "_model_name": "FloatProgressModel",
            "bar_style": "",
            "max": 1901833,
            "_view_module": "@jupyter-widgets/controls",
            "_model_module_version": "1.5.0",
            "value": 1901833,
            "_view_count": null,
            "_view_module_version": "1.5.0",
            "orientation": "horizontal",
            "min": 0,
            "description_tooltip": null,
            "_model_module": "@jupyter-widgets/controls",
            "layout": "IPY_MODEL_1229bf8ea06540f182269505d07e0f06"
          }
        },
        "82fe7edd071e4efca77a2a7140cb8097": {
          "model_module": "@jupyter-widgets/controls",
          "model_name": "HTMLModel",
          "model_module_version": "1.5.0",
          "state": {
            "_view_name": "HTMLView",
            "style": "IPY_MODEL_3c528b9b55bf4999b07dca6973427f2e",
            "_dom_classes": [],
            "description": "",
            "_model_name": "HTMLModel",
            "placeholder": "​",
            "_view_module": "@jupyter-widgets/controls",
            "_model_module_version": "1.5.0",
            "value": " 1.84M/1.90M [00:00&lt;00:00, 4.87MiB/s]",
            "_view_count": null,
            "_view_module_version": "1.5.0",
            "description_tooltip": null,
            "_model_module": "@jupyter-widgets/controls",
            "layout": "IPY_MODEL_a44d07ab617d482e895075bc2a5f24dd"
          }
        },
        "7f4cdbad3fac426886840a6af8c71379": {
          "model_module": "@jupyter-widgets/controls",
          "model_name": "DescriptionStyleModel",
          "model_module_version": "1.5.0",
          "state": {
            "_view_name": "StyleView",
            "_model_name": "DescriptionStyleModel",
            "description_width": "",
            "_view_module": "@jupyter-widgets/base",
            "_model_module_version": "1.5.0",
            "_view_count": null,
            "_view_module_version": "1.2.0",
            "_model_module": "@jupyter-widgets/controls"
          }
        },
        "896093624b094f14946621998be3a260": {
          "model_module": "@jupyter-widgets/base",
          "model_name": "LayoutModel",
          "model_module_version": "1.2.0",
          "state": {
            "_view_name": "LayoutView",
            "grid_template_rows": null,
            "right": null,
            "justify_content": null,
            "_view_module": "@jupyter-widgets/base",
            "overflow": null,
            "_model_module_version": "1.2.0",
            "_view_count": null,
            "flex_flow": null,
            "width": null,
            "min_width": null,
            "border": null,
            "align_items": null,
            "bottom": null,
            "_model_module": "@jupyter-widgets/base",
            "top": null,
            "grid_column": null,
            "overflow_y": null,
            "overflow_x": null,
            "grid_auto_flow": null,
            "grid_area": null,
            "grid_template_columns": null,
            "flex": null,
            "_model_name": "LayoutModel",
            "justify_items": null,
            "grid_row": null,
            "max_height": null,
            "align_content": null,
            "visibility": null,
            "align_self": null,
            "height": null,
            "min_height": null,
            "padding": null,
            "grid_auto_rows": null,
            "grid_gap": null,
            "max_width": null,
            "order": null,
            "_view_module_version": "1.2.0",
            "grid_template_areas": null,
            "object_position": null,
            "object_fit": null,
            "grid_auto_columns": null,
            "margin": null,
            "display": null,
            "left": null
          }
        },
        "9982e6bcaa774dbd98a3ef9757f68821": {
          "model_module": "@jupyter-widgets/controls",
          "model_name": "ProgressStyleModel",
          "model_module_version": "1.5.0",
          "state": {
            "_view_name": "StyleView",
            "_model_name": "ProgressStyleModel",
            "description_width": "",
            "_view_module": "@jupyter-widgets/base",
            "_model_module_version": "1.5.0",
            "_view_count": null,
            "_view_module_version": "1.2.0",
            "bar_color": null,
            "_model_module": "@jupyter-widgets/controls"
          }
        },
        "1229bf8ea06540f182269505d07e0f06": {
          "model_module": "@jupyter-widgets/base",
          "model_name": "LayoutModel",
          "model_module_version": "1.2.0",
          "state": {
            "_view_name": "LayoutView",
            "grid_template_rows": null,
            "right": null,
            "justify_content": null,
            "_view_module": "@jupyter-widgets/base",
            "overflow": null,
            "_model_module_version": "1.2.0",
            "_view_count": null,
            "flex_flow": null,
            "width": null,
            "min_width": null,
            "border": null,
            "align_items": null,
            "bottom": null,
            "_model_module": "@jupyter-widgets/base",
            "top": null,
            "grid_column": null,
            "overflow_y": null,
            "overflow_x": null,
            "grid_auto_flow": null,
            "grid_area": null,
            "grid_template_columns": null,
            "flex": "2",
            "_model_name": "LayoutModel",
            "justify_items": null,
            "grid_row": null,
            "max_height": null,
            "align_content": null,
            "visibility": null,
            "align_self": null,
            "height": null,
            "min_height": null,
            "padding": null,
            "grid_auto_rows": null,
            "grid_gap": null,
            "max_width": null,
            "order": null,
            "_view_module_version": "1.2.0",
            "grid_template_areas": null,
            "object_position": null,
            "object_fit": null,
            "grid_auto_columns": null,
            "margin": null,
            "display": null,
            "left": null
          }
        },
        "3c528b9b55bf4999b07dca6973427f2e": {
          "model_module": "@jupyter-widgets/controls",
          "model_name": "DescriptionStyleModel",
          "model_module_version": "1.5.0",
          "state": {
            "_view_name": "StyleView",
            "_model_name": "DescriptionStyleModel",
            "description_width": "",
            "_view_module": "@jupyter-widgets/base",
            "_model_module_version": "1.5.0",
            "_view_count": null,
            "_view_module_version": "1.2.0",
            "_model_module": "@jupyter-widgets/controls"
          }
        },
        "a44d07ab617d482e895075bc2a5f24dd": {
          "model_module": "@jupyter-widgets/base",
          "model_name": "LayoutModel",
          "model_module_version": "1.2.0",
          "state": {
            "_view_name": "LayoutView",
            "grid_template_rows": null,
            "right": null,
            "justify_content": null,
            "_view_module": "@jupyter-widgets/base",
            "overflow": null,
            "_model_module_version": "1.2.0",
            "_view_count": null,
            "flex_flow": null,
            "width": null,
            "min_width": null,
            "border": null,
            "align_items": null,
            "bottom": null,
            "_model_module": "@jupyter-widgets/base",
            "top": null,
            "grid_column": null,
            "overflow_y": null,
            "overflow_x": null,
            "grid_auto_flow": null,
            "grid_area": null,
            "grid_template_columns": null,
            "flex": null,
            "_model_name": "LayoutModel",
            "justify_items": null,
            "grid_row": null,
            "max_height": null,
            "align_content": null,
            "visibility": null,
            "align_self": null,
            "height": null,
            "min_height": null,
            "padding": null,
            "grid_auto_rows": null,
            "grid_gap": null,
            "max_width": null,
            "order": null,
            "_view_module_version": "1.2.0",
            "grid_template_areas": null,
            "object_position": null,
            "object_fit": null,
            "grid_auto_columns": null,
            "margin": null,
            "display": null,
            "left": null
          }
        },
        "3a04162b1afb4d0e9809b8dbfd3e5864": {
          "model_module": "@jupyter-widgets/controls",
          "model_name": "HBoxModel",
          "model_module_version": "1.5.0",
          "state": {
            "_view_name": "HBoxView",
            "_dom_classes": [],
            "_model_name": "HBoxModel",
            "_view_module": "@jupyter-widgets/controls",
            "_model_module_version": "1.5.0",
            "_view_count": null,
            "_view_module_version": "1.5.0",
            "box_style": "",
            "layout": "IPY_MODEL_28e6dfd381d341c781d4f6455d7855d0",
            "_model_module": "@jupyter-widgets/controls",
            "children": [
              "IPY_MODEL_f0c7bb80e03e4db4bbba1247d096f6f3",
              "IPY_MODEL_dff4923f8c714866b68d3341c3b53741",
              "IPY_MODEL_7f345a5d14ca445487223616d0945fe9"
            ]
          }
        },
        "28e6dfd381d341c781d4f6455d7855d0": {
          "model_module": "@jupyter-widgets/base",
          "model_name": "LayoutModel",
          "model_module_version": "1.2.0",
          "state": {
            "_view_name": "LayoutView",
            "grid_template_rows": null,
            "right": null,
            "justify_content": null,
            "_view_module": "@jupyter-widgets/base",
            "overflow": null,
            "_model_module_version": "1.2.0",
            "_view_count": null,
            "flex_flow": "row wrap",
            "width": "100%",
            "min_width": null,
            "border": null,
            "align_items": null,
            "bottom": null,
            "_model_module": "@jupyter-widgets/base",
            "top": null,
            "grid_column": null,
            "overflow_y": null,
            "overflow_x": null,
            "grid_auto_flow": null,
            "grid_area": null,
            "grid_template_columns": null,
            "flex": null,
            "_model_name": "LayoutModel",
            "justify_items": null,
            "grid_row": null,
            "max_height": null,
            "align_content": null,
            "visibility": null,
            "align_self": null,
            "height": null,
            "min_height": null,
            "padding": null,
            "grid_auto_rows": null,
            "grid_gap": null,
            "max_width": null,
            "order": null,
            "_view_module_version": "1.2.0",
            "grid_template_areas": null,
            "object_position": null,
            "object_fit": null,
            "grid_auto_columns": null,
            "margin": null,
            "display": "inline-flex",
            "left": null
          }
        },
        "f0c7bb80e03e4db4bbba1247d096f6f3": {
          "model_module": "@jupyter-widgets/controls",
          "model_name": "HTMLModel",
          "model_module_version": "1.5.0",
          "state": {
            "_view_name": "HTMLView",
            "style": "IPY_MODEL_a65485e950294d79aea94937abd1f0b0",
            "_dom_classes": [],
            "description": "",
            "_model_name": "HTMLModel",
            "placeholder": "​",
            "_view_module": "@jupyter-widgets/controls",
            "_model_module_version": "1.5.0",
            "value": "Downloading files: 100%",
            "_view_count": null,
            "_view_module_version": "1.5.0",
            "description_tooltip": null,
            "_model_module": "@jupyter-widgets/controls",
            "layout": "IPY_MODEL_cd9f8f9ef8ee402b837e3b73df8b01d2"
          }
        },
        "dff4923f8c714866b68d3341c3b53741": {
          "model_module": "@jupyter-widgets/controls",
          "model_name": "FloatProgressModel",
          "model_module_version": "1.5.0",
          "state": {
            "_view_name": "ProgressView",
            "style": "IPY_MODEL_992567326f5040fa93df5af1732584f5",
            "_dom_classes": [],
            "description": "",
            "_model_name": "FloatProgressModel",
            "bar_style": "",
            "max": 2,
            "_view_module": "@jupyter-widgets/controls",
            "_model_module_version": "1.5.0",
            "value": 2,
            "_view_count": null,
            "_view_module_version": "1.5.0",
            "orientation": "horizontal",
            "min": 0,
            "description_tooltip": null,
            "_model_module": "@jupyter-widgets/controls",
            "layout": "IPY_MODEL_de91a0397e6c4825827ecb3177ac7114"
          }
        },
        "7f345a5d14ca445487223616d0945fe9": {
          "model_module": "@jupyter-widgets/controls",
          "model_name": "HTMLModel",
          "model_module_version": "1.5.0",
          "state": {
            "_view_name": "HTMLView",
            "style": "IPY_MODEL_c6d49c70f04f499d9a6f228ea480f9a3",
            "_dom_classes": [],
            "description": "",
            "_model_name": "HTMLModel",
            "placeholder": "​",
            "_view_module": "@jupyter-widgets/controls",
            "_model_module_version": "1.5.0",
            "value": " 2/2 [00:09&lt;00:00,  4.03s/it]",
            "_view_count": null,
            "_view_module_version": "1.5.0",
            "description_tooltip": null,
            "_model_module": "@jupyter-widgets/controls",
            "layout": "IPY_MODEL_1362512358674dc6a46f6ee2bc026e41"
          }
        },
        "a65485e950294d79aea94937abd1f0b0": {
          "model_module": "@jupyter-widgets/controls",
          "model_name": "DescriptionStyleModel",
          "model_module_version": "1.5.0",
          "state": {
            "_view_name": "StyleView",
            "_model_name": "DescriptionStyleModel",
            "description_width": "",
            "_view_module": "@jupyter-widgets/base",
            "_model_module_version": "1.5.0",
            "_view_count": null,
            "_view_module_version": "1.2.0",
            "_model_module": "@jupyter-widgets/controls"
          }
        },
        "cd9f8f9ef8ee402b837e3b73df8b01d2": {
          "model_module": "@jupyter-widgets/base",
          "model_name": "LayoutModel",
          "model_module_version": "1.2.0",
          "state": {
            "_view_name": "LayoutView",
            "grid_template_rows": null,
            "right": null,
            "justify_content": null,
            "_view_module": "@jupyter-widgets/base",
            "overflow": null,
            "_model_module_version": "1.2.0",
            "_view_count": null,
            "flex_flow": null,
            "width": null,
            "min_width": null,
            "border": null,
            "align_items": null,
            "bottom": null,
            "_model_module": "@jupyter-widgets/base",
            "top": null,
            "grid_column": null,
            "overflow_y": null,
            "overflow_x": null,
            "grid_auto_flow": null,
            "grid_area": null,
            "grid_template_columns": null,
            "flex": null,
            "_model_name": "LayoutModel",
            "justify_items": null,
            "grid_row": null,
            "max_height": null,
            "align_content": null,
            "visibility": null,
            "align_self": null,
            "height": null,
            "min_height": null,
            "padding": null,
            "grid_auto_rows": null,
            "grid_gap": null,
            "max_width": null,
            "order": null,
            "_view_module_version": "1.2.0",
            "grid_template_areas": null,
            "object_position": null,
            "object_fit": null,
            "grid_auto_columns": null,
            "margin": null,
            "display": null,
            "left": null
          }
        },
        "992567326f5040fa93df5af1732584f5": {
          "model_module": "@jupyter-widgets/controls",
          "model_name": "ProgressStyleModel",
          "model_module_version": "1.5.0",
          "state": {
            "_view_name": "StyleView",
            "_model_name": "ProgressStyleModel",
            "description_width": "",
            "_view_module": "@jupyter-widgets/base",
            "_model_module_version": "1.5.0",
            "_view_count": null,
            "_view_module_version": "1.2.0",
            "bar_color": null,
            "_model_module": "@jupyter-widgets/controls"
          }
        },
        "de91a0397e6c4825827ecb3177ac7114": {
          "model_module": "@jupyter-widgets/base",
          "model_name": "LayoutModel",
          "model_module_version": "1.2.0",
          "state": {
            "_view_name": "LayoutView",
            "grid_template_rows": null,
            "right": null,
            "justify_content": null,
            "_view_module": "@jupyter-widgets/base",
            "overflow": null,
            "_model_module_version": "1.2.0",
            "_view_count": null,
            "flex_flow": null,
            "width": null,
            "min_width": null,
            "border": null,
            "align_items": null,
            "bottom": null,
            "_model_module": "@jupyter-widgets/base",
            "top": null,
            "grid_column": null,
            "overflow_y": null,
            "overflow_x": null,
            "grid_auto_flow": null,
            "grid_area": null,
            "grid_template_columns": null,
            "flex": "2",
            "_model_name": "LayoutModel",
            "justify_items": null,
            "grid_row": null,
            "max_height": null,
            "align_content": null,
            "visibility": null,
            "align_self": null,
            "height": null,
            "min_height": null,
            "padding": null,
            "grid_auto_rows": null,
            "grid_gap": null,
            "max_width": null,
            "order": null,
            "_view_module_version": "1.2.0",
            "grid_template_areas": null,
            "object_position": null,
            "object_fit": null,
            "grid_auto_columns": null,
            "margin": null,
            "display": null,
            "left": null
          }
        },
        "c6d49c70f04f499d9a6f228ea480f9a3": {
          "model_module": "@jupyter-widgets/controls",
          "model_name": "DescriptionStyleModel",
          "model_module_version": "1.5.0",
          "state": {
            "_view_name": "StyleView",
            "_model_name": "DescriptionStyleModel",
            "description_width": "",
            "_view_module": "@jupyter-widgets/base",
            "_model_module_version": "1.5.0",
            "_view_count": null,
            "_view_module_version": "1.2.0",
            "_model_module": "@jupyter-widgets/controls"
          }
        },
        "1362512358674dc6a46f6ee2bc026e41": {
          "model_module": "@jupyter-widgets/base",
          "model_name": "LayoutModel",
          "model_module_version": "1.2.0",
          "state": {
            "_view_name": "LayoutView",
            "grid_template_rows": null,
            "right": null,
            "justify_content": null,
            "_view_module": "@jupyter-widgets/base",
            "overflow": null,
            "_model_module_version": "1.2.0",
            "_view_count": null,
            "flex_flow": null,
            "width": null,
            "min_width": null,
            "border": null,
            "align_items": null,
            "bottom": null,
            "_model_module": "@jupyter-widgets/base",
            "top": null,
            "grid_column": null,
            "overflow_y": null,
            "overflow_x": null,
            "grid_auto_flow": null,
            "grid_area": null,
            "grid_template_columns": null,
            "flex": null,
            "_model_name": "LayoutModel",
            "justify_items": null,
            "grid_row": null,
            "max_height": null,
            "align_content": null,
            "visibility": null,
            "align_self": null,
            "height": null,
            "min_height": null,
            "padding": null,
            "grid_auto_rows": null,
            "grid_gap": null,
            "max_width": null,
            "order": null,
            "_view_module_version": "1.2.0",
            "grid_template_areas": null,
            "object_position": null,
            "object_fit": null,
            "grid_auto_columns": null,
            "margin": null,
            "display": null,
            "left": null
          }
        },
        "25383b76fcac443b8a80f6c9303165df": {
          "model_module": "@jupyter-widgets/controls",
          "model_name": "HBoxModel",
          "model_module_version": "1.5.0",
          "state": {
            "_view_name": "HBoxView",
            "_dom_classes": [],
            "_model_name": "HBoxModel",
            "_view_module": "@jupyter-widgets/controls",
            "_model_module_version": "1.5.0",
            "_view_count": null,
            "_view_module_version": "1.5.0",
            "box_style": "",
            "layout": "IPY_MODEL_547726f003fd4a5498e05767ce804fc3",
            "_model_module": "@jupyter-widgets/controls",
            "children": [
              "IPY_MODEL_dfdff95cd3934660bf4b7e1004b6ccd0",
              "IPY_MODEL_92432fa27be44450b7d8653c0db249ed",
              "IPY_MODEL_5ae81e0d4f044019a64917dcaeff7714"
            ]
          }
        },
        "547726f003fd4a5498e05767ce804fc3": {
          "model_module": "@jupyter-widgets/base",
          "model_name": "LayoutModel",
          "model_module_version": "1.2.0",
          "state": {
            "_view_name": "LayoutView",
            "grid_template_rows": null,
            "right": null,
            "justify_content": null,
            "_view_module": "@jupyter-widgets/base",
            "overflow": null,
            "_model_module_version": "1.2.0",
            "_view_count": null,
            "flex_flow": "row wrap",
            "width": "100%",
            "min_width": null,
            "border": null,
            "align_items": null,
            "bottom": null,
            "_model_module": "@jupyter-widgets/base",
            "top": null,
            "grid_column": null,
            "overflow_y": null,
            "overflow_x": null,
            "grid_auto_flow": null,
            "grid_area": null,
            "grid_template_columns": null,
            "flex": null,
            "_model_name": "LayoutModel",
            "justify_items": null,
            "grid_row": null,
            "max_height": null,
            "align_content": null,
            "visibility": null,
            "align_self": null,
            "height": null,
            "min_height": null,
            "padding": null,
            "grid_auto_rows": null,
            "grid_gap": null,
            "max_width": null,
            "order": null,
            "_view_module_version": "1.2.0",
            "grid_template_areas": null,
            "object_position": null,
            "object_fit": null,
            "grid_auto_columns": null,
            "margin": null,
            "display": "inline-flex",
            "left": null
          }
        },
        "dfdff95cd3934660bf4b7e1004b6ccd0": {
          "model_module": "@jupyter-widgets/controls",
          "model_name": "HTMLModel",
          "model_module_version": "1.5.0",
          "state": {
            "_view_name": "HTMLView",
            "style": "IPY_MODEL_e05065db8e3744a09ffd684843916fb7",
            "_dom_classes": [],
            "description": "",
            "_model_name": "HTMLModel",
            "placeholder": "​",
            "_view_module": "@jupyter-widgets/controls",
            "_model_module_version": "1.5.0",
            "value": "Downloading to graphs/string/Ho...inks.v11.0.txt.gz:  99%",
            "_view_count": null,
            "_view_module_version": "1.5.0",
            "description_tooltip": null,
            "_model_module": "@jupyter-widgets/controls",
            "layout": "IPY_MODEL_dbb30d0f1f19476ca49b5197f23c67d3"
          }
        },
        "92432fa27be44450b7d8653c0db249ed": {
          "model_module": "@jupyter-widgets/controls",
          "model_name": "FloatProgressModel",
          "model_module_version": "1.5.0",
          "state": {
            "_view_name": "ProgressView",
            "style": "IPY_MODEL_9b4d0d9df11446af80e5c4053a6ee020",
            "_dom_classes": [],
            "description": "",
            "_model_name": "FloatProgressModel",
            "bar_style": "",
            "max": 71241372,
            "_view_module": "@jupyter-widgets/controls",
            "_model_module_version": "1.5.0",
            "value": 71241372,
            "_view_count": null,
            "_view_module_version": "1.5.0",
            "orientation": "horizontal",
            "min": 0,
            "description_tooltip": null,
            "_model_module": "@jupyter-widgets/controls",
            "layout": "IPY_MODEL_6704f424bdff4839a4719d0ce3ca8423"
          }
        },
        "5ae81e0d4f044019a64917dcaeff7714": {
          "model_module": "@jupyter-widgets/controls",
          "model_name": "HTMLModel",
          "model_module_version": "1.5.0",
          "state": {
            "_view_name": "HTMLView",
            "style": "IPY_MODEL_8ae72116402b4e0680c8ae644a8bbd58",
            "_dom_classes": [],
            "description": "",
            "_model_name": "HTMLModel",
            "placeholder": "​",
            "_view_module": "@jupyter-widgets/controls",
            "_model_module_version": "1.5.0",
            "value": " 70.9M/71.2M [00:04&lt;00:00, 16.0MiB/s]",
            "_view_count": null,
            "_view_module_version": "1.5.0",
            "description_tooltip": null,
            "_model_module": "@jupyter-widgets/controls",
            "layout": "IPY_MODEL_fbf2d3bfb29f43cea7812c9a89bf2318"
          }
        },
        "e05065db8e3744a09ffd684843916fb7": {
          "model_module": "@jupyter-widgets/controls",
          "model_name": "DescriptionStyleModel",
          "model_module_version": "1.5.0",
          "state": {
            "_view_name": "StyleView",
            "_model_name": "DescriptionStyleModel",
            "description_width": "",
            "_view_module": "@jupyter-widgets/base",
            "_model_module_version": "1.5.0",
            "_view_count": null,
            "_view_module_version": "1.2.0",
            "_model_module": "@jupyter-widgets/controls"
          }
        },
        "dbb30d0f1f19476ca49b5197f23c67d3": {
          "model_module": "@jupyter-widgets/base",
          "model_name": "LayoutModel",
          "model_module_version": "1.2.0",
          "state": {
            "_view_name": "LayoutView",
            "grid_template_rows": null,
            "right": null,
            "justify_content": null,
            "_view_module": "@jupyter-widgets/base",
            "overflow": null,
            "_model_module_version": "1.2.0",
            "_view_count": null,
            "flex_flow": null,
            "width": null,
            "min_width": null,
            "border": null,
            "align_items": null,
            "bottom": null,
            "_model_module": "@jupyter-widgets/base",
            "top": null,
            "grid_column": null,
            "overflow_y": null,
            "overflow_x": null,
            "grid_auto_flow": null,
            "grid_area": null,
            "grid_template_columns": null,
            "flex": null,
            "_model_name": "LayoutModel",
            "justify_items": null,
            "grid_row": null,
            "max_height": null,
            "align_content": null,
            "visibility": null,
            "align_self": null,
            "height": null,
            "min_height": null,
            "padding": null,
            "grid_auto_rows": null,
            "grid_gap": null,
            "max_width": null,
            "order": null,
            "_view_module_version": "1.2.0",
            "grid_template_areas": null,
            "object_position": null,
            "object_fit": null,
            "grid_auto_columns": null,
            "margin": null,
            "display": null,
            "left": null
          }
        },
        "9b4d0d9df11446af80e5c4053a6ee020": {
          "model_module": "@jupyter-widgets/controls",
          "model_name": "ProgressStyleModel",
          "model_module_version": "1.5.0",
          "state": {
            "_view_name": "StyleView",
            "_model_name": "ProgressStyleModel",
            "description_width": "",
            "_view_module": "@jupyter-widgets/base",
            "_model_module_version": "1.5.0",
            "_view_count": null,
            "_view_module_version": "1.2.0",
            "bar_color": null,
            "_model_module": "@jupyter-widgets/controls"
          }
        },
        "6704f424bdff4839a4719d0ce3ca8423": {
          "model_module": "@jupyter-widgets/base",
          "model_name": "LayoutModel",
          "model_module_version": "1.2.0",
          "state": {
            "_view_name": "LayoutView",
            "grid_template_rows": null,
            "right": null,
            "justify_content": null,
            "_view_module": "@jupyter-widgets/base",
            "overflow": null,
            "_model_module_version": "1.2.0",
            "_view_count": null,
            "flex_flow": null,
            "width": null,
            "min_width": null,
            "border": null,
            "align_items": null,
            "bottom": null,
            "_model_module": "@jupyter-widgets/base",
            "top": null,
            "grid_column": null,
            "overflow_y": null,
            "overflow_x": null,
            "grid_auto_flow": null,
            "grid_area": null,
            "grid_template_columns": null,
            "flex": "2",
            "_model_name": "LayoutModel",
            "justify_items": null,
            "grid_row": null,
            "max_height": null,
            "align_content": null,
            "visibility": null,
            "align_self": null,
            "height": null,
            "min_height": null,
            "padding": null,
            "grid_auto_rows": null,
            "grid_gap": null,
            "max_width": null,
            "order": null,
            "_view_module_version": "1.2.0",
            "grid_template_areas": null,
            "object_position": null,
            "object_fit": null,
            "grid_auto_columns": null,
            "margin": null,
            "display": null,
            "left": null
          }
        },
        "8ae72116402b4e0680c8ae644a8bbd58": {
          "model_module": "@jupyter-widgets/controls",
          "model_name": "DescriptionStyleModel",
          "model_module_version": "1.5.0",
          "state": {
            "_view_name": "StyleView",
            "_model_name": "DescriptionStyleModel",
            "description_width": "",
            "_view_module": "@jupyter-widgets/base",
            "_model_module_version": "1.5.0",
            "_view_count": null,
            "_view_module_version": "1.2.0",
            "_model_module": "@jupyter-widgets/controls"
          }
        },
        "fbf2d3bfb29f43cea7812c9a89bf2318": {
          "model_module": "@jupyter-widgets/base",
          "model_name": "LayoutModel",
          "model_module_version": "1.2.0",
          "state": {
            "_view_name": "LayoutView",
            "grid_template_rows": null,
            "right": null,
            "justify_content": null,
            "_view_module": "@jupyter-widgets/base",
            "overflow": null,
            "_model_module_version": "1.2.0",
            "_view_count": null,
            "flex_flow": null,
            "width": null,
            "min_width": null,
            "border": null,
            "align_items": null,
            "bottom": null,
            "_model_module": "@jupyter-widgets/base",
            "top": null,
            "grid_column": null,
            "overflow_y": null,
            "overflow_x": null,
            "grid_auto_flow": null,
            "grid_area": null,
            "grid_template_columns": null,
            "flex": null,
            "_model_name": "LayoutModel",
            "justify_items": null,
            "grid_row": null,
            "max_height": null,
            "align_content": null,
            "visibility": null,
            "align_self": null,
            "height": null,
            "min_height": null,
            "padding": null,
            "grid_auto_rows": null,
            "grid_gap": null,
            "max_width": null,
            "order": null,
            "_view_module_version": "1.2.0",
            "grid_template_areas": null,
            "object_position": null,
            "object_fit": null,
            "grid_auto_columns": null,
            "margin": null,
            "display": null,
            "left": null
          }
        },
        "30a831eb96124eb3ad2b3ef0e4c1c414": {
          "model_module": "@jupyter-widgets/controls",
          "model_name": "HBoxModel",
          "model_module_version": "1.5.0",
          "state": {
            "_view_name": "HBoxView",
            "_dom_classes": [],
            "_model_name": "HBoxModel",
            "_view_module": "@jupyter-widgets/controls",
            "_model_module_version": "1.5.0",
            "_view_count": null,
            "_view_module_version": "1.5.0",
            "box_style": "",
            "layout": "IPY_MODEL_77504b0222c341adb244fc23be46a39a",
            "_model_module": "@jupyter-widgets/controls",
            "children": [
              "IPY_MODEL_e694f084b7dd454ca75bbf2926c40999",
              "IPY_MODEL_62ce266ba9134de697b28da78eb754bb",
              "IPY_MODEL_9f6dc4605fdd4027bf61ee5f9a8a1758"
            ]
          }
        },
        "77504b0222c341adb244fc23be46a39a": {
          "model_module": "@jupyter-widgets/base",
          "model_name": "LayoutModel",
          "model_module_version": "1.2.0",
          "state": {
            "_view_name": "LayoutView",
            "grid_template_rows": null,
            "right": null,
            "justify_content": null,
            "_view_module": "@jupyter-widgets/base",
            "overflow": null,
            "_model_module_version": "1.2.0",
            "_view_count": null,
            "flex_flow": "row wrap",
            "width": "100%",
            "min_width": null,
            "border": null,
            "align_items": null,
            "bottom": null,
            "_model_module": "@jupyter-widgets/base",
            "top": null,
            "grid_column": null,
            "overflow_y": null,
            "overflow_x": null,
            "grid_auto_flow": null,
            "grid_area": null,
            "grid_template_columns": null,
            "flex": null,
            "_model_name": "LayoutModel",
            "justify_items": null,
            "grid_row": null,
            "max_height": null,
            "align_content": null,
            "visibility": null,
            "align_self": null,
            "height": null,
            "min_height": null,
            "padding": null,
            "grid_auto_rows": null,
            "grid_gap": null,
            "max_width": null,
            "order": null,
            "_view_module_version": "1.2.0",
            "grid_template_areas": null,
            "object_position": null,
            "object_fit": null,
            "grid_auto_columns": null,
            "margin": null,
            "display": "inline-flex",
            "left": null
          }
        },
        "e694f084b7dd454ca75bbf2926c40999": {
          "model_module": "@jupyter-widgets/controls",
          "model_name": "HTMLModel",
          "model_module_version": "1.5.0",
          "state": {
            "_view_name": "HTMLView",
            "style": "IPY_MODEL_002dea06c0ea4a1cbf8e339f2b328893",
            "_dom_classes": [],
            "description": "",
            "_model_name": "HTMLModel",
            "placeholder": "​",
            "_view_module": "@jupyter-widgets/controls",
            "_model_module_version": "1.5.0",
            "value": "Downloading to graphs/string/Ho...info.v11.0.txt.gz:  97%",
            "_view_count": null,
            "_view_module_version": "1.5.0",
            "description_tooltip": null,
            "_model_module": "@jupyter-widgets/controls",
            "layout": "IPY_MODEL_9aabbed5df474439998cf0e05c9128e7"
          }
        },
        "62ce266ba9134de697b28da78eb754bb": {
          "model_module": "@jupyter-widgets/controls",
          "model_name": "FloatProgressModel",
          "model_module_version": "1.5.0",
          "state": {
            "_view_name": "ProgressView",
            "style": "IPY_MODEL_6c57a340c6ce40ae83b3901b96a86b96",
            "_dom_classes": [],
            "description": "",
            "_model_name": "FloatProgressModel",
            "bar_style": "",
            "max": 1894048,
            "_view_module": "@jupyter-widgets/controls",
            "_model_module_version": "1.5.0",
            "value": 1894048,
            "_view_count": null,
            "_view_module_version": "1.5.0",
            "orientation": "horizontal",
            "min": 0,
            "description_tooltip": null,
            "_model_module": "@jupyter-widgets/controls",
            "layout": "IPY_MODEL_187b026074ba4790a9d31fb7b66e435d"
          }
        },
        "9f6dc4605fdd4027bf61ee5f9a8a1758": {
          "model_module": "@jupyter-widgets/controls",
          "model_name": "HTMLModel",
          "model_module_version": "1.5.0",
          "state": {
            "_view_name": "HTMLView",
            "style": "IPY_MODEL_068e54626c494df89231483b6c284a1a",
            "_dom_classes": [],
            "description": "",
            "_model_name": "HTMLModel",
            "placeholder": "​",
            "_view_module": "@jupyter-widgets/controls",
            "_model_module_version": "1.5.0",
            "value": " 1.84M/1.89M [00:00&lt;00:00, 4.76MiB/s]",
            "_view_count": null,
            "_view_module_version": "1.5.0",
            "description_tooltip": null,
            "_model_module": "@jupyter-widgets/controls",
            "layout": "IPY_MODEL_f9ddb9052c6b4384a8e3060cea1d5171"
          }
        },
        "002dea06c0ea4a1cbf8e339f2b328893": {
          "model_module": "@jupyter-widgets/controls",
          "model_name": "DescriptionStyleModel",
          "model_module_version": "1.5.0",
          "state": {
            "_view_name": "StyleView",
            "_model_name": "DescriptionStyleModel",
            "description_width": "",
            "_view_module": "@jupyter-widgets/base",
            "_model_module_version": "1.5.0",
            "_view_count": null,
            "_view_module_version": "1.2.0",
            "_model_module": "@jupyter-widgets/controls"
          }
        },
        "9aabbed5df474439998cf0e05c9128e7": {
          "model_module": "@jupyter-widgets/base",
          "model_name": "LayoutModel",
          "model_module_version": "1.2.0",
          "state": {
            "_view_name": "LayoutView",
            "grid_template_rows": null,
            "right": null,
            "justify_content": null,
            "_view_module": "@jupyter-widgets/base",
            "overflow": null,
            "_model_module_version": "1.2.0",
            "_view_count": null,
            "flex_flow": null,
            "width": null,
            "min_width": null,
            "border": null,
            "align_items": null,
            "bottom": null,
            "_model_module": "@jupyter-widgets/base",
            "top": null,
            "grid_column": null,
            "overflow_y": null,
            "overflow_x": null,
            "grid_auto_flow": null,
            "grid_area": null,
            "grid_template_columns": null,
            "flex": null,
            "_model_name": "LayoutModel",
            "justify_items": null,
            "grid_row": null,
            "max_height": null,
            "align_content": null,
            "visibility": null,
            "align_self": null,
            "height": null,
            "min_height": null,
            "padding": null,
            "grid_auto_rows": null,
            "grid_gap": null,
            "max_width": null,
            "order": null,
            "_view_module_version": "1.2.0",
            "grid_template_areas": null,
            "object_position": null,
            "object_fit": null,
            "grid_auto_columns": null,
            "margin": null,
            "display": null,
            "left": null
          }
        },
        "6c57a340c6ce40ae83b3901b96a86b96": {
          "model_module": "@jupyter-widgets/controls",
          "model_name": "ProgressStyleModel",
          "model_module_version": "1.5.0",
          "state": {
            "_view_name": "StyleView",
            "_model_name": "ProgressStyleModel",
            "description_width": "",
            "_view_module": "@jupyter-widgets/base",
            "_model_module_version": "1.5.0",
            "_view_count": null,
            "_view_module_version": "1.2.0",
            "bar_color": null,
            "_model_module": "@jupyter-widgets/controls"
          }
        },
        "187b026074ba4790a9d31fb7b66e435d": {
          "model_module": "@jupyter-widgets/base",
          "model_name": "LayoutModel",
          "model_module_version": "1.2.0",
          "state": {
            "_view_name": "LayoutView",
            "grid_template_rows": null,
            "right": null,
            "justify_content": null,
            "_view_module": "@jupyter-widgets/base",
            "overflow": null,
            "_model_module_version": "1.2.0",
            "_view_count": null,
            "flex_flow": null,
            "width": null,
            "min_width": null,
            "border": null,
            "align_items": null,
            "bottom": null,
            "_model_module": "@jupyter-widgets/base",
            "top": null,
            "grid_column": null,
            "overflow_y": null,
            "overflow_x": null,
            "grid_auto_flow": null,
            "grid_area": null,
            "grid_template_columns": null,
            "flex": "2",
            "_model_name": "LayoutModel",
            "justify_items": null,
            "grid_row": null,
            "max_height": null,
            "align_content": null,
            "visibility": null,
            "align_self": null,
            "height": null,
            "min_height": null,
            "padding": null,
            "grid_auto_rows": null,
            "grid_gap": null,
            "max_width": null,
            "order": null,
            "_view_module_version": "1.2.0",
            "grid_template_areas": null,
            "object_position": null,
            "object_fit": null,
            "grid_auto_columns": null,
            "margin": null,
            "display": null,
            "left": null
          }
        },
        "068e54626c494df89231483b6c284a1a": {
          "model_module": "@jupyter-widgets/controls",
          "model_name": "DescriptionStyleModel",
          "model_module_version": "1.5.0",
          "state": {
            "_view_name": "StyleView",
            "_model_name": "DescriptionStyleModel",
            "description_width": "",
            "_view_module": "@jupyter-widgets/base",
            "_model_module_version": "1.5.0",
            "_view_count": null,
            "_view_module_version": "1.2.0",
            "_model_module": "@jupyter-widgets/controls"
          }
        },
        "f9ddb9052c6b4384a8e3060cea1d5171": {
          "model_module": "@jupyter-widgets/base",
          "model_name": "LayoutModel",
          "model_module_version": "1.2.0",
          "state": {
            "_view_name": "LayoutView",
            "grid_template_rows": null,
            "right": null,
            "justify_content": null,
            "_view_module": "@jupyter-widgets/base",
            "overflow": null,
            "_model_module_version": "1.2.0",
            "_view_count": null,
            "flex_flow": null,
            "width": null,
            "min_width": null,
            "border": null,
            "align_items": null,
            "bottom": null,
            "_model_module": "@jupyter-widgets/base",
            "top": null,
            "grid_column": null,
            "overflow_y": null,
            "overflow_x": null,
            "grid_auto_flow": null,
            "grid_area": null,
            "grid_template_columns": null,
            "flex": null,
            "_model_name": "LayoutModel",
            "justify_items": null,
            "grid_row": null,
            "max_height": null,
            "align_content": null,
            "visibility": null,
            "align_self": null,
            "height": null,
            "min_height": null,
            "padding": null,
            "grid_auto_rows": null,
            "grid_gap": null,
            "max_width": null,
            "order": null,
            "_view_module_version": "1.2.0",
            "grid_template_areas": null,
            "object_position": null,
            "object_fit": null,
            "grid_auto_columns": null,
            "margin": null,
            "display": null,
            "left": null
          }
        }
      }
    }
  },
  "cells": [
    {
      "cell_type": "markdown",
      "metadata": {
        "id": "view-in-github",
        "colab_type": "text"
      },
      "source": [
        "<a href=\"https://colab.research.google.com/github/AnacletoLAB/grape/blob/main/tutorials/Loading_a_Graph_in_Ensmallen.ipynb\" target=\"_parent\"><img src=\"https://colab.research.google.com/assets/colab-badge.svg\" alt=\"Open In Colab\"/></a>"
      ]
    },
    {
      "cell_type": "markdown",
      "metadata": {
        "id": "_tKVybcSlTP4"
      },
      "source": [
        "# Loading graphs with Ensmallen\n",
        "The first step to do any work on a graph is to load it. In this notebook we will\n",
        "explore the different ways a graph can be loaded with Ensmallen.\n",
        "\n",
        "Install Grape, if not already done. (For windows just comment out the `> /dev/null` part)"
      ]
    },
    {
      "cell_type": "code",
      "metadata": {
        "id": "GDomjvXoEb6D"
      },
      "source": [
        "! pip install grape > /dev/null"
      ],
      "execution_count": 1,
      "outputs": []
    },
    {
      "cell_type": "markdown",
      "metadata": {
        "id": "kjtUf8N9l9od"
      },
      "source": [
        "## Automatic Graph Retrival\n",
        "Ensmallen supports the automatic download of many common graph.\n",
        "These graphs are organized by repository and follow the format: `ensmallen.datasets.<repository>.<graph_name>`. \n",
        "\n",
        "The available repositories are:"
      ]
    },
    {
      "cell_type": "code",
      "metadata": {
        "colab": {
          "base_uri": "https://localhost:8080/"
        },
        "id": "iVV4C-JHmhCp",
        "outputId": "ee87f923-aae5-413c-d79b-6e0ef3b77d7b"
      },
      "source": [
        "from ensmallen.datasets import get_available_repositories\n",
        "get_available_repositories()"
      ],
      "execution_count": 2,
      "outputs": [
        {
          "output_type": "execute_result",
          "data": {
            "text/plain": [
              "['networkrepository',\n",
              " 'zenodo',\n",
              " 'jax',\n",
              " 'pheknowlatorkg',\n",
              " 'linqs',\n",
              " 'kghub',\n",
              " 'monarchinitiative',\n",
              " 'string',\n",
              " 'yue']"
            ]
          },
          "metadata": {},
          "execution_count": 2
        }
      ]
    },
    {
      "cell_type": "markdown",
      "metadata": {
        "id": "sPg7TIKLmx5m"
      },
      "source": [
        "And the list of all the available graphs can be retrived as:"
      ]
    },
    {
      "cell_type": "code",
      "metadata": {
        "colab": {
          "base_uri": "https://localhost:8080/",
          "height": 419
        },
        "id": "5wLVQv_8m5qi",
        "outputId": "cbccb1ef-e463-4be5-ae18-6db864bae2dd"
      },
      "source": [
        "from ensmallen.datasets import get_all_available_graphs_dataframe\n",
        "get_all_available_graphs_dataframe()"
      ],
      "execution_count": 3,
      "outputs": [
        {
          "output_type": "execute_result",
          "data": {
            "text/html": [
              "<div>\n",
              "<style scoped>\n",
              "    .dataframe tbody tr th:only-of-type {\n",
              "        vertical-align: middle;\n",
              "    }\n",
              "\n",
              "    .dataframe tbody tr th {\n",
              "        vertical-align: top;\n",
              "    }\n",
              "\n",
              "    .dataframe thead th {\n",
              "        text-align: right;\n",
              "    }\n",
              "</style>\n",
              "<table border=\"1\" class=\"dataframe\">\n",
              "  <thead>\n",
              "    <tr style=\"text-align: right;\">\n",
              "      <th></th>\n",
              "      <th>repository</th>\n",
              "      <th>graph_name</th>\n",
              "      <th>version</th>\n",
              "    </tr>\n",
              "  </thead>\n",
              "  <tbody>\n",
              "    <tr>\n",
              "      <th>0</th>\n",
              "      <td>networkrepository</td>\n",
              "      <td>Sw10040d2Trial1</td>\n",
              "      <td>latest</td>\n",
              "    </tr>\n",
              "    <tr>\n",
              "      <th>1</th>\n",
              "      <td>networkrepository</td>\n",
              "      <td>Aa4</td>\n",
              "      <td>latest</td>\n",
              "    </tr>\n",
              "    <tr>\n",
              "      <th>2</th>\n",
              "      <td>networkrepository</td>\n",
              "      <td>SocfbMississippi66</td>\n",
              "      <td>latest</td>\n",
              "    </tr>\n",
              "    <tr>\n",
              "      <th>3</th>\n",
              "      <td>networkrepository</td>\n",
              "      <td>LasagneSpanishbook</td>\n",
              "      <td>latest</td>\n",
              "    </tr>\n",
              "    <tr>\n",
              "      <th>4</th>\n",
              "      <td>networkrepository</td>\n",
              "      <td>SocSinaweibo</td>\n",
              "      <td>latest</td>\n",
              "    </tr>\n",
              "    <tr>\n",
              "      <th>...</th>\n",
              "      <td>...</td>\n",
              "      <td>...</td>\n",
              "      <td>...</td>\n",
              "    </tr>\n",
              "    <tr>\n",
              "      <th>57999</th>\n",
              "      <td>yue</td>\n",
              "      <td>DrugBankDDI</td>\n",
              "      <td>latest</td>\n",
              "    </tr>\n",
              "    <tr>\n",
              "      <th>58000</th>\n",
              "      <td>yue</td>\n",
              "      <td>node2vecPPI</td>\n",
              "      <td>latest</td>\n",
              "    </tr>\n",
              "    <tr>\n",
              "      <th>58001</th>\n",
              "      <td>yue</td>\n",
              "      <td>MashupPPI</td>\n",
              "      <td>latest</td>\n",
              "    </tr>\n",
              "    <tr>\n",
              "      <th>58002</th>\n",
              "      <td>yue</td>\n",
              "      <td>StringPPI</td>\n",
              "      <td>latest</td>\n",
              "    </tr>\n",
              "    <tr>\n",
              "      <th>58003</th>\n",
              "      <td>yue</td>\n",
              "      <td>ClinTermCOOC</td>\n",
              "      <td>latest</td>\n",
              "    </tr>\n",
              "  </tbody>\n",
              "</table>\n",
              "<p>58004 rows × 3 columns</p>\n",
              "</div>"
            ],
            "text/plain": [
              "              repository          graph_name version\n",
              "0      networkrepository     Sw10040d2Trial1  latest\n",
              "1      networkrepository                 Aa4  latest\n",
              "2      networkrepository  SocfbMississippi66  latest\n",
              "3      networkrepository  LasagneSpanishbook  latest\n",
              "4      networkrepository        SocSinaweibo  latest\n",
              "...                  ...                 ...     ...\n",
              "57999                yue         DrugBankDDI  latest\n",
              "58000                yue         node2vecPPI  latest\n",
              "58001                yue           MashupPPI  latest\n",
              "58002                yue           StringPPI  latest\n",
              "58003                yue        ClinTermCOOC  latest\n",
              "\n",
              "[58004 rows x 3 columns]"
            ]
          },
          "metadata": {},
          "execution_count": 3
        }
      ]
    },
    {
      "cell_type": "markdown",
      "metadata": {
        "id": "rOj3gt4UnHDG"
      },
      "source": [
        "As an example we can import String PPI's HomoSapiens graph: "
      ]
    },
    {
      "cell_type": "code",
      "metadata": {
        "id": "vd8H02j0EdiB"
      },
      "source": [
        "from ensmallen.datasets.string import  HomoSapiens"
      ],
      "execution_count": 4,
      "outputs": []
    },
    {
      "cell_type": "markdown",
      "metadata": {
        "id": "3upviNqWno1d"
      },
      "source": [
        "The first time ensmallen will automatically download, preprocess and optimize the edges and nodes lists. The cached files can be found in the local folder `./graphs`."
      ]
    },
    {
      "cell_type": "code",
      "metadata": {
        "colab": {
          "base_uri": "https://localhost:8080/",
          "height": 51,
          "referenced_widgets": [
            "ffd5653999034915824828dd5bb16e36",
            "3b7c9e092f7b4ef183bc1a0e513eb497",
            "1517d035fce24a31a2e801b0f284153d",
            "5117a324b5494d5e9da24cba2ba7d3f2",
            "0976a68ff7ee49fdb0972f3cc93f6a0d",
            "248b68c4d3eb49efa1e2a385a766b381",
            "dd15ba139add456795776f21c7a62214",
            "ea5eb0ac9fb34be2b16064e079432f6b",
            "1c3b2f4ab8d04678a887b4160560ddb9",
            "7e47fd57d0ab45598c7f115bc045d1ac",
            "fcfd8b11356b4891b1fbe1f24bde6de1",
            "bb0cb20870694ea2869cfecc0cee8fea",
            "ee2f907f307d40deb5872879a4cfbc4d",
            "5ac93f69325d4a46aa2a7eea8367f0cb",
            "ea445b14fa8445e0be8ebf56146160bb",
            "57a0836a297146c5bc4594beb07b9c7b",
            "651715e7eb7142a0b8e6aa033bced731",
            "3798cc2f69dc414c8497d49b9a7dcc38",
            "738d0073b6ce47e1802a4addf2778b69",
            "e0459c8ecafc47bf8a163bd3305e14f4",
            "643e34c7c0d1468c97b1e36d25907019",
            "3f6293f6bdb540c3b85d5a538d90ed2f",
            "cb0c676d637d42f887817915322e1e9d",
            "556771ce8f434bff9c11fe6efa345b91",
            "e604047fb71f46919135c1e1ead621c6",
            "f0fb842035fb48049ed8e43da3a1649f",
            "82fe7edd071e4efca77a2a7140cb8097",
            "7f4cdbad3fac426886840a6af8c71379",
            "896093624b094f14946621998be3a260",
            "9982e6bcaa774dbd98a3ef9757f68821",
            "1229bf8ea06540f182269505d07e0f06",
            "3c528b9b55bf4999b07dca6973427f2e",
            "a44d07ab617d482e895075bc2a5f24dd"
          ]
        },
        "id": "0NzlV1j9EgLx",
        "outputId": "c7086160-7b8a-4a3b-e288-92448aad16c9"
      },
      "source": [
        "%%time\n",
        "homosapiens = HomoSapiens()"
      ],
      "execution_count": 5,
      "outputs": [
        {
          "output_type": "display_data",
          "data": {
            "application/vnd.jupyter.widget-view+json": {
              "model_id": "ffd5653999034915824828dd5bb16e36",
              "version_minor": 0,
              "version_major": 2
            },
            "text/plain": [
              "Downloading files:   0%|          | 0/2 [00:00<?, ?it/s]"
            ]
          },
          "metadata": {}
        },
        {
          "output_type": "display_data",
          "data": {
            "application/vnd.jupyter.widget-view+json": {
              "model_id": "bb0cb20870694ea2869cfecc0cee8fea",
              "version_minor": 0,
              "version_major": 2
            },
            "text/plain": [
              "Downloading to graphs/string/Ho...inks.v11.5.txt.gz:   0%|          | 0.00/72.7M [00:00<?, ?iB/s]"
            ]
          },
          "metadata": {}
        },
        {
          "output_type": "display_data",
          "data": {
            "application/vnd.jupyter.widget-view+json": {
              "model_id": "cb0c676d637d42f887817915322e1e9d",
              "version_minor": 0,
              "version_major": 2
            },
            "text/plain": [
              "Downloading to graphs/string/Ho...info.v11.5.txt.gz:   0%|          | 0.00/1.90M [00:00<?, ?iB/s]"
            ]
          },
          "metadata": {}
        },
        {
          "output_type": "stream",
          "name": "stdout",
          "text": [
            "CPU times: user 30.6 s, sys: 2.01 s, total: 32.6 s\n",
            "Wall time: 1min 11s\n"
          ]
        }
      ]
    },
    {
      "cell_type": "markdown",
      "metadata": {
        "id": "rPcgOWYpoBTl"
      },
      "source": [
        "All the other times, Ensmallen will load the now optimized and cached data, this improve the loading time and the peak memory usage."
      ]
    },
    {
      "cell_type": "code",
      "metadata": {
        "colab": {
          "base_uri": "https://localhost:8080/"
        },
        "id": "z8XJUHy-Eidv",
        "outputId": "4794e990-e0aa-41e6-ff28-c8bf61fba3a0"
      },
      "source": [
        "%%time\n",
        "homosapiens = HomoSapiens()"
      ],
      "execution_count": 6,
      "outputs": [
        {
          "output_type": "stream",
          "name": "stdout",
          "text": [
            "CPU times: user 7.13 s, sys: 161 ms, total: 7.29 s\n",
            "Wall time: 3.83 s\n"
          ]
        }
      ]
    },
    {
      "cell_type": "markdown",
      "metadata": {
        "id": "dH2nsSjWTaHu"
      },
      "source": [
        "The pre-processing and the caching of the files can be disabled using the optional parameters of the graph loader: "
      ]
    },
    {
      "cell_type": "code",
      "metadata": {
        "colab": {
          "base_uri": "https://localhost:8080/"
        },
        "id": "mdxyD6ITTZYO",
        "outputId": "41a27d21-3eca-4d1e-d8ce-f7c86b13ef5e"
      },
      "source": [
        "help(HomoSapiens)"
      ],
      "execution_count": 7,
      "outputs": [
        {
          "output_type": "stream",
          "name": "stdout",
          "text": [
            "Help on function HomoSapiens in module ensmallen.datasets.string.homosapiens:\n",
            "\n",
            "HomoSapiens(directed: bool = False, preprocess: bool = True, verbose: int = 2, cache: bool = True, cache_path: str = 'graphs/string', version: str = 'links.v11.5', **additional_graph_kwargs: Dict) -> Graph\n",
            "    Return new instance of the Homo sapiens graph.\n",
            "    \n",
            "    The graph is automatically retrieved from the STRING repository.    \n",
            "    \n",
            "    Parameters\n",
            "    -------------------\n",
            "    directed: bool = False,\n",
            "        Wether to load the graph as directed or undirected.\n",
            "        By default false.\n",
            "    preprocess: bool = True,\n",
            "        Whether to preprocess the graph to be loaded in \n",
            "        optimal time and memory.\n",
            "    verbose: int = 2,\n",
            "        Wether to show loading bars during the retrieval and building\n",
            "        of the graph.\n",
            "    cache: bool = True,\n",
            "        Whether to use cache, i.e. download files only once\n",
            "        and preprocess them only once.\n",
            "    cache_path: str = \"graphs\",\n",
            "        Where to store the downloaded graphs.\n",
            "    version: str = \"links.v11.5\",\n",
            "        The version of the graph to retrieve.           \n",
            "        The available versions are:\n",
            "                        - homology.v11.0\n",
            "                        - homology.v11.5\n",
            "                        - physical.links.v11.0\n",
            "                        - physical.links.v11.5\n",
            "                        - links.v11.0\n",
            "                        - links.v11.5\n",
            "    additional_graph_kwargs: Dict,\n",
            "        Additional graph kwargs.\n",
            "    \n",
            "    Returns\n",
            "    -----------------------\n",
            "    Instace of Homo sapiens graph.\n",
            "    \n",
            "        References\n",
            "        ---------------------\n",
            "        Please cite the following if you use the data:\n",
            "        \n",
            "        ```latex\n",
            "        @article{szklarczyk2019string,\n",
            "            title={STRING v11: protein--protein association networks with increased coverage, supporting functional discovery in genome-wide experimental datasets},\n",
            "            author={Szklarczyk, Damian and Gable, Annika L and Lyon, David and Junge, Alexander and Wyder, Stefan and Huerta-Cepas, Jaime and Simonovic, Milan and Doncheva, Nadezhda T and Morris, John H and Bork, Peer and others},\n",
            "            journal={Nucleic acids research},\n",
            "            volume={47},\n",
            "            number={D1},\n",
            "            pages={D607--D613},\n",
            "            year={2019},\n",
            "            publisher={Oxford University Press}\n",
            "        }\n",
            "        ```\n",
            "\n"
          ]
        }
      ]
    },
    {
      "cell_type": "markdown",
      "metadata": {
        "id": "zJK4q7BFlmKm"
      },
      "source": [
        "The default display of the graph is a Human-readable report with the main features of the graph:"
      ]
    },
    {
      "cell_type": "code",
      "metadata": {
        "colab": {
          "base_uri": "https://localhost:8080/",
          "height": 600
        },
        "id": "7G7N1PqallVT",
        "outputId": "9810929e-2a9c-4ad3-aa3e-3f780220a1fa"
      },
      "source": [
        "homosapiens"
      ],
      "execution_count": 8,
      "outputs": [
        {
          "output_type": "execute_result",
          "data": {
            "text/html": [
              "<h2>HomoSapiens</h2><p>The undirected graph HomoSapiens has 19566 nodes and 5969249 edges.</p><h3>RAM requirements</h3><p>The RAM requirements for the nodes and edges data structures are 5.21MB and 11.71MB respectively.</p><h3>Degree centrality</h3><p>The minimum node degree is 0, the maximum node degree is 7507, the mode degree is 0, the mean degree is 610.17 and the node degree median is 485.</p><p>The nodes with highest degree centrality are: <a href='https://string-db.org/network/9606.ENSP00000229239' target='_blank' title='Go to STRING Homo sapiens to get more informations about 9606.ENSP00000229239'>9606.ENSP00000229239</a> (degree 7507 and weighted degree 7507), <a href='https://string-db.org/network/9606.ENSP00000349960' target='_blank' title='Go to STRING Homo sapiens to get more informations about 9606.ENSP00000349960'>9606.ENSP00000349960</a> (degree 6940 and weighted degree 6940), <a href='https://string-db.org/network/9606.ENSP00000451828' target='_blank' title='Go to STRING Homo sapiens to get more informations about 9606.ENSP00000451828'>9606.ENSP00000451828</a> (degree 5918 and weighted degree 5918), <a href='https://string-db.org/network/9606.ENSP00000298910' target='_blank' title='Go to STRING Homo sapiens to get more informations about 9606.ENSP00000298910'>9606.ENSP00000298910</a> (degree 5804 and weighted degree 5804) and <a href='https://string-db.org/network/9606.ENSP00000269305' target='_blank' title='Go to STRING Homo sapiens to get more informations about 9606.ENSP00000269305'>9606.ENSP00000269305</a> (degree 5652 and weighted degree 5652).</p><h3>Disconnected nodes</h3><p>Disconnected nodes are nodes that are not connected to any other node.The graph contains 181 disconnected nodes.</p><h4>Singleton nodes</h4><p>Singleton nodes are nodes with no edge to other nodes nor selfloops. The graph contains 181 singleton nodes, which are <a href='https://string-db.org/network/9606.ENSP00000278779' target='_blank' title='Go to STRING Homo sapiens to get more informations about 9606.ENSP00000278779'>9606.ENSP00000278779</a>, <a href='https://string-db.org/network/9606.ENSP00000313324' target='_blank' title='Go to STRING Homo sapiens to get more informations about 9606.ENSP00000313324'>9606.ENSP00000313324</a>, <a href='https://string-db.org/network/9606.ENSP00000315794' target='_blank' title='Go to STRING Homo sapiens to get more informations about 9606.ENSP00000315794'>9606.ENSP00000315794</a>, <a href='https://string-db.org/network/9606.ENSP00000316644' target='_blank' title='Go to STRING Homo sapiens to get more informations about 9606.ENSP00000316644'>9606.ENSP00000316644</a> and <a href='https://string-db.org/network/9606.ENSP00000323241' target='_blank' title='Go to STRING Homo sapiens to get more informations about 9606.ENSP00000323241'>9606.ENSP00000323241</a>, plus other 176 singleton nodes.</p><h3>Weights</h3><p>The minimum edge weight is 150, the maximum edge weight is 999 and the total edge weight is 3342953700.</p><h4>Weighted degree centrality</h4><p>The minimum node degree is 0.00, the maximum node degree is 2277846.00, the mean degree is 170855.24 and the node degree median is 130738.</p><p>The nodes with highest degree centrality are: <a href='https://string-db.org/network/9606.ENSP00000269305' target='_blank' title='Go to STRING Homo sapiens to get more informations about 9606.ENSP00000269305'>9606.ENSP00000269305</a> (degree 5652 and weighted degree 5652), <a href='https://string-db.org/network/9606.ENSP00000229239' target='_blank' title='Go to STRING Homo sapiens to get more informations about 9606.ENSP00000229239'>9606.ENSP00000229239</a> (degree 7507 and weighted degree 7507), <a href='https://string-db.org/network/9606.ENSP00000349960' target='_blank' title='Go to STRING Homo sapiens to get more informations about 9606.ENSP00000349960'>9606.ENSP00000349960</a> (degree 6940 and weighted degree 6940), <a href='https://string-db.org/network/9606.ENSP00000479618' target='_blank' title='Go to STRING Homo sapiens to get more informations about 9606.ENSP00000479618'>9606.ENSP00000479618</a> (degree 5613 and weighted degree 5613) and <a href='https://string-db.org/network/9606.ENSP00000451828' target='_blank' title='Go to STRING Homo sapiens to get more informations about 9606.ENSP00000451828'>9606.ENSP00000451828</a> (degree 5918 and weighted degree 5918).</p><h4>RAM requirements</h4><p>The RAM requirements for the edge weights data structure is 47.75MB.</p>"
            ],
            "text/plain": [
              "<h2>HomoSapiens</h2><p>The undirected graph HomoSapiens has 19566 nodes and 5969249 edges.</p><h3>RAM requirements</h3><p>The RAM requirements for the nodes and edges data structures are 5.21MB and 11.71MB respectively.</p><h3>Degree centrality</h3><p>The minimum node degree is 0, the maximum node degree is 7507, the mode degree is 0, the mean degree is 610.17 and the node degree median is 485.</p><p>The nodes with highest degree centrality are: <a href='https://string-db.org/network/9606.ENSP00000229239' target='_blank' title='Go to STRING Homo sapiens to get more informations about 9606.ENSP00000229239'>9606.ENSP00000229239</a> (degree 7507 and weighted degree 7507), <a href='https://string-db.org/network/9606.ENSP00000349960' target='_blank' title='Go to STRING Homo sapiens to get more informations about 9606.ENSP00000349960'>9606.ENSP00000349960</a> (degree 6940 and weighted degree 6940), <a href='https://string-db.org/network/9606.ENSP00000451828' target='_blank' title='Go to STRING Homo sapiens to get more informations about 9606.ENSP00000451828'>9606.ENSP00000451828</a> (degree 5918 and weighted degree 5918), <a href='https://string-db.org/network/9606.ENSP00000298910' target='_blank' title='Go to STRING Homo sapiens to get more informations about 9606.ENSP00000298910'>9606.ENSP00000298910</a> (degree 5804 and weighted degree 5804) and <a href='https://string-db.org/network/9606.ENSP00000269305' target='_blank' title='Go to STRING Homo sapiens to get more informations about 9606.ENSP00000269305'>9606.ENSP00000269305</a> (degree 5652 and weighted degree 5652).</p><h3>Disconnected nodes</h3><p>Disconnected nodes are nodes that are not connected to any other node.The graph contains 181 disconnected nodes.</p><h4>Singleton nodes</h4><p>Singleton nodes are nodes with no edge to other nodes nor selfloops. The graph contains 181 singleton nodes, which are <a href='https://string-db.org/network/9606.ENSP00000278779' target='_blank' title='Go to STRING Homo sapiens to get more informations about 9606.ENSP00000278779'>9606.ENSP00000278779</a>, <a href='https://string-db.org/network/9606.ENSP00000313324' target='_blank' title='Go to STRING Homo sapiens to get more informations about 9606.ENSP00000313324'>9606.ENSP00000313324</a>, <a href='https://string-db.org/network/9606.ENSP00000315794' target='_blank' title='Go to STRING Homo sapiens to get more informations about 9606.ENSP00000315794'>9606.ENSP00000315794</a>, <a href='https://string-db.org/network/9606.ENSP00000316644' target='_blank' title='Go to STRING Homo sapiens to get more informations about 9606.ENSP00000316644'>9606.ENSP00000316644</a> and <a href='https://string-db.org/network/9606.ENSP00000323241' target='_blank' title='Go to STRING Homo sapiens to get more informations about 9606.ENSP00000323241'>9606.ENSP00000323241</a>, plus other 176 singleton nodes.</p><h3>Weights</h3><p>The minimum edge weight is 150, the maximum edge weight is 999 and the total edge weight is 3342953700.</p><h4>Weighted degree centrality</h4><p>The minimum node degree is 0.00, the maximum node degree is 2277846.00, the mean degree is 170855.24 and the node degree median is 130738.</p><p>The nodes with highest degree centrality are: <a href='https://string-db.org/network/9606.ENSP00000269305' target='_blank' title='Go to STRING Homo sapiens to get more informations about 9606.ENSP00000269305'>9606.ENSP00000269305</a> (degree 5652 and weighted degree 5652), <a href='https://string-db.org/network/9606.ENSP00000229239' target='_blank' title='Go to STRING Homo sapiens to get more informations about 9606.ENSP00000229239'>9606.ENSP00000229239</a> (degree 7507 and weighted degree 7507), <a href='https://string-db.org/network/9606.ENSP00000349960' target='_blank' title='Go to STRING Homo sapiens to get more informations about 9606.ENSP00000349960'>9606.ENSP00000349960</a> (degree 6940 and weighted degree 6940), <a href='https://string-db.org/network/9606.ENSP00000479618' target='_blank' title='Go to STRING Homo sapiens to get more informations about 9606.ENSP00000479618'>9606.ENSP00000479618</a> (degree 5613 and weighted degree 5613) and <a href='https://string-db.org/network/9606.ENSP00000451828' target='_blank' title='Go to STRING Homo sapiens to get more informations about 9606.ENSP00000451828'>9606.ENSP00000451828</a> (degree 5918 and weighted degree 5918).</p><h4>RAM requirements</h4><p>The RAM requirements for the edge weights data structure is 47.75MB.</p>"
            ]
          },
          "metadata": {},
          "execution_count": 8
        }
      ]
    },
    {
      "cell_type": "markdown",
      "metadata": {
        "id": "33OEMpm1SV10"
      },
      "source": [
        "# Caching folder structure\n",
        "The graphs are downloaded in the `./graphs` folder. More precisely, the folders follows this naming convention: `./graphs/REPOSITORY/GRAPH_NAME/VERSION`. Inside this folder will be downloaded, and extracted if needed, the files for the choosen graph. Then, if preprocessing is not disables, the folder `./graphs/REPOSITORY/GRAPH_NAME/VERSION/processed/DIRECTED_OR_UNDIRECTED/` will be created containg the optimized and standardize files.\n",
        "\n",
        "To see an example of how this folder is structured we can use the library `seedir` on colab, or just a simple file browser on a local machine."
      ]
    },
    {
      "cell_type": "code",
      "metadata": {
        "id": "oPwQ6m3Jjenm"
      },
      "source": [
        "! pip install seedir --quiet"
      ],
      "execution_count": 9,
      "outputs": []
    },
    {
      "cell_type": "code",
      "metadata": {
        "colab": {
          "base_uri": "https://localhost:8080/"
        },
        "id": "D4lihmG9jglq",
        "outputId": "20f001a0-c89f-4069-d671-ab30cf85876e"
      },
      "source": [
        "from seedir import seedir\n",
        "seedir(\"./graphs\")"
      ],
      "execution_count": 10,
      "outputs": [
        {
          "output_type": "stream",
          "name": "stdout",
          "text": [
            "graphs/\n",
            "└─string/\n",
            "  └─HomoSapiens/\n",
            "    └─links.v11.5/\n",
            "      ├─9606.protein.info.v11.5.txt\n",
            "      ├─9606.protein.info.v11.5.txt.gz\n",
            "      ├─preprocessed/\n",
            "      │ └─undirected/\n",
            "      │   ├─edges.tsv\n",
            "      │   ├─nodes.tsv\n",
            "      │   └─metadata.json\n",
            "      ├─9606.protein.links.v11.5.txt.gz\n",
            "      └─9606.protein.links.v11.5.txt\n"
          ]
        }
      ]
    },
    {
      "cell_type": "markdown",
      "metadata": {
        "id": "JqTXLjzaX9ZQ"
      },
      "source": [
        "# Adding a graph to Ensmallen\n",
        "\n",
        "If a graph is not available, you can open a Github Issue [here](https://github.com/AnacletoLAB/ensmallen/issues) providing permanent links to the graph data, and, if possible, in the next release we will add it to the automatical retrival pipeline. To speed-up the process you can add in the Issue the parameters needed to load your graph using the `from_csv` mehtod, explained in the following section."
      ]
    },
    {
      "cell_type": "markdown",
      "metadata": {
        "id": "o_SxyDIzoeRN"
      },
      "source": [
        "# Manually loading a graph\n",
        "You can also load manually a graph. Ensmallen supports only tsv / csv edge lists, and you can optionally also provide Nodes, Node Types, Edge Types lists.\n",
        "\n",
        "As an example to explain how this can be done, let's manually load the pre-processed files for the graph previously downloaded.\n",
        "\n",
        "This can be done using the `from_csv` method, which has **a lot** of optional parameters:"
      ]
    },
    {
      "cell_type": "code",
      "metadata": {
        "colab": {
          "base_uri": "https://localhost:8080/"
        },
        "id": "BTYk0phhQlk9",
        "outputId": "e689c9de-43a4-4f0f-cd2d-97894fc1f4f4"
      },
      "source": [
        "from ensmallen import Graph\n",
        "help(Graph.from_csv)"
      ],
      "execution_count": 11,
      "outputs": [
        {
          "output_type": "stream",
          "name": "stdout",
          "text": [
            "Help on built-in function from_csv:\n",
            "\n",
            "from_csv(node_type_path, node_type_list_separator, node_types_column_number, node_types_column, node_types_ids_column_number, node_types_ids_column, node_types_number, numeric_node_type_ids, minimum_node_type_id, node_type_list_header, node_type_list_rows_to_skip, node_type_list_is_correct, node_type_list_max_rows_number, node_type_list_comment_symbol, load_node_type_list_in_parallel, node_path, node_list_separator, node_list_header, node_list_rows_to_skip, node_list_is_correct, node_list_max_rows_number, node_list_comment_symbol, default_node_type, nodes_column_number, nodes_column, node_types_separator, node_list_node_types_column_number, node_list_node_types_column, node_ids_column, node_ids_column_number, nodes_number, minimum_node_id, numeric_node_ids, node_list_numeric_node_type_ids, skip_node_types_if_unavailable, load_node_list_in_parallel, edge_type_path, edge_types_column_number, edge_types_column, edge_types_ids_column_number, edge_types_ids_column, edge_types_number, numeric_edge_type_ids, minimum_edge_type_id, edge_type_list_separator, edge_type_list_header, edge_type_list_rows_to_skip, edge_type_list_is_correct, edge_type_list_max_rows_number, edge_type_list_comment_symbol, load_edge_type_list_in_parallel, edge_path, edge_list_separator, edge_list_header, edge_list_rows_to_skip, sources_column_number, sources_column, destinations_column_number, destinations_column, edge_list_edge_types_column_number, edge_list_edge_types_column, default_edge_type, weights_column_number, weights_column, default_weight, edge_ids_column, edge_ids_column_number, edge_list_numeric_edge_type_ids, edge_list_numeric_node_ids, skip_weights_if_unavailable, skip_edge_types_if_unavailable, edge_list_is_complete, edge_list_may_contain_duplicates, edge_list_is_sorted, edge_list_is_correct, edge_list_max_rows_number, edge_list_comment_symbol, edges_number, load_edge_list_in_parallel, verbose, may_have_singletons, may_have_singleton_with_selfloops, directed, name)\n",
            "    Return graph renderized from given CSVs or TSVs-like files.\n",
            "    \n",
            "    Parameters\n",
            "    ----------\n",
            "    node_type_path: Optional[str],\n",
            "        The path to the file with the unique node type names.\n",
            "    node_type_list_separator: Optional[str],\n",
            "        The separator to use for the node types file. Note that if this is not provided, one will be automatically detected among the following`: comma, semi-column, tab and space.\n",
            "    node_types_column_number: Optional[int],\n",
            "        The number of the column of the node types file from where to load the node types.\n",
            "    node_types_column: Optional[str],\n",
            "        The name of the column of the node types file from where to load the node types.\n",
            "    node_types_number: Optional[int],\n",
            "        The number of the unique node types. This will be used in order to allocate the correct size for the data structure.\n",
            "    numeric_node_type_ids: Optional[bool],\n",
            "        Whether the node type names should be loaded as numeric values, i.e. casted from string to a numeric representation.\n",
            "    minimum_node_type_id: Optional[int],\n",
            "        The minimum node type ID to be used when using numeric node type IDs.\n",
            "    node_type_list_header: Optional[bool],\n",
            "        Whether the node type file has an header.\n",
            "    node_type_list_rows_to_skip: Optional[int],\n",
            "        The number of lines to skip in the node types file`: the header is already skipped if it has been specified that the file has an header.\n",
            "    node_type_list_is_correct: Optional[bool],\n",
            "        Whether the node types file can be assumed to be correct, i.e. does not have something wrong in it. If this parameter is passed as true on a malformed file, the constructor will crash.\n",
            "    node_type_list_max_rows_number: Optional[int],\n",
            "        The maximum number of lines to be loaded from the node types file.\n",
            "    node_type_list_comment_symbol: Optional[str],\n",
            "        The comment symbol to skip lines in the node types file. Lines starting with this symbol will be skipped.\n",
            "    load_node_type_list_in_parallel: Optional[bool],\n",
            "        Whether to load the node type list in parallel. Note that when loading in parallel, the internal order of the node type IDs may result changed across different iterations. We are working to get this to be stable.\n",
            "    node_path: Optional[str],\n",
            "        The path to the file with the unique node names.\n",
            "    node_list_separator: Optional[str],\n",
            "        The separator to use for the nodes file. Note that if this is not provided, one will be automatically detected among the following`: comma, semi-column, tab and space.\n",
            "    node_list_header: Optional[bool],\n",
            "        Whether the nodes file has an header.\n",
            "    node_list_rows_to_skip: Optional[int],\n",
            "        Number of rows to skip in the node list file.\n",
            "    node_list_is_correct: Optional[bool],\n",
            "        Whether the nodes file can be assumed to be correct, i.e. does not have something wrong in it. If this parameter is passed as true on a malformed file, the constructor will crash.\n",
            "    node_list_max_rows_number: Optional[int],\n",
            "        The maximum number of lines to be loaded from the nodes file.\n",
            "    node_list_comment_symbol: Optional[str],\n",
            "        The comment symbol to skip lines in the nodes file. Lines starting with this symbol will be skipped.\n",
            "    default_node_type: Optional[str],\n",
            "        The node type to be used when the node type for a given node in the node file is None.\n",
            "    nodes_column_number: Optional[int],\n",
            "        The number of the column of the node file from where to load the node names.\n",
            "    nodes_column: Optional[str],\n",
            "        The name of the column of the node file from where to load the node names.\n",
            "    node_types_separator: Optional[str],\n",
            "        The node types separator.\n",
            "    node_list_node_types_column_number: Optional[int],\n",
            "        The number of the column of the node file from where to load the node types.\n",
            "    node_list_node_types_column: Optional[str],\n",
            "        The name of the column of the node file from where to load the node types.\n",
            "    node_ids_column: Optional[str],\n",
            "        The name of the column of the node file from where to load the node IDs.\n",
            "    node_ids_column_number: Optional[int],\n",
            "        The number of the column of the node file from where to load the node IDs\n",
            "    nodes_number: Optional[int],\n",
            "        The expected number of nodes. Note that this must be the EXACT number of nodes in the graph.\n",
            "    minimum_node_id: Optional[int],\n",
            "        The minimum node ID to be used, when loading the node IDs as numerical.\n",
            "    numeric_node_ids: Optional[bool],\n",
            "        Whether to load the numeric node IDs as numeric.\n",
            "    node_list_numeric_node_type_ids: Optional[bool],\n",
            "        Whether to load the node types IDs in the node file to be numeric.\n",
            "    skip_node_types_if_unavailable: Optional[bool],\n",
            "        Whether to skip the node types without raising an error if these are unavailable.\n",
            "    load_node_list_in_parallel: Optional[bool],\n",
            "        Whether to load the node list in parallel. When loading in parallel, without node IDs, the nodes may not be loaded in a deterministic order.\n",
            "    edge_type_path: Optional[str],\n",
            "        The path to the file with the unique edge type names.\n",
            "    edge_types_column_number: Optional[int],\n",
            "        The number of the column of the edge types file from where to load the edge types.\n",
            "    edge_types_column: Optional[str],\n",
            "        The name of the column of the edge types file from where to load the edge types.\n",
            "    edge_types_number: Optional[int],\n",
            "        The number of the unique edge types. This will be used in order to allocate the correct size for the data structure.\n",
            "    numeric_edge_type_ids: Optional[bool],\n",
            "        Whether the edge type names should be loaded as numeric values, i.e. casted from string to a numeric representation.\n",
            "    minimum_edge_type_id: Optional[int],\n",
            "        The minimum edge type ID to be used when using numeric edge type IDs.\n",
            "    edge_type_list_separator: Optional[str],\n",
            "        The separator to use for the edge type list. Note that, if None is provided, one will be attempted to be detected automatically between ';', ',', tab or space.\n",
            "    edge_type_list_header: Optional[bool],\n",
            "        Whether the edge type file has an header.\n",
            "    edge_type_list_rows_to_skip: Optional[int],\n",
            "        Number of rows to skip in the edge type list file.\n",
            "    edge_type_list_is_correct: Optional[bool],\n",
            "        Whether the edge types file can be assumed to be correct, i.e. does not have something wrong in it. If this parameter is passed as true on a malformed file, the constructor will crash.\n",
            "    edge_type_list_max_rows_number: Optional[int],\n",
            "        The maximum number of lines to be loaded from the edge types file.\n",
            "    edge_type_list_comment_symbol: Optional[str],\n",
            "        The comment symbol to skip lines in the edge types file. Lines starting with this symbol will be skipped.\n",
            "    load_edge_type_list_in_parallel: Optional[bool],\n",
            "        Whether to load the edge type list in parallel. When loading in parallel, without edge type IDs, the edge types may not be loaded in a deterministic order.\n",
            "    edge_path: Optional[str],\n",
            "        The path to the file with the edge list.\n",
            "    edge_list_separator: Optional[str],\n",
            "        The separator to use for the edge list. Note that, if None is provided, one will be attempted to be detected automatically between ';', ',', tab or space.\n",
            "    edge_list_header: Optional[bool],\n",
            "        Whether the edges file has an header.\n",
            "    edge_list_rows_to_skip: Optional[int],\n",
            "        Number of rows to skip in the edge list file.\n",
            "    sources_column_number: Optional[int],\n",
            "        The number of the column of the edges file from where to load the source nodes.\n",
            "    sources_column: Optional[str],\n",
            "        The name of the column of the edges file from where to load the source nodes.\n",
            "    destinations_column_number: Optional[int],\n",
            "        The number of the column of the edges file from where to load the destinaton nodes.\n",
            "    destinations_column: Optional[str],\n",
            "        The name of the column of the edges file from where to load the destinaton nodes.\n",
            "    edge_list_edge_types_column_number: Optional[int],\n",
            "        The number of the column of the edges file from where to load the edge types.\n",
            "    edge_list_edge_types_column: Optional[str],\n",
            "        The name of the column of the edges file from where to load the edge types.\n",
            "    default_edge_type: Optional[str],\n",
            "        The edge type to be used when the edge type for a given edge in the edge file is None.\n",
            "    weights_column_number: Optional[int],\n",
            "        The number of the column of the edges file from where to load the edge weights.\n",
            "    weights_column: Optional[str],\n",
            "        The name of the column of the edges file from where to load the edge weights.\n",
            "    default_weight: Optional[float],\n",
            "        The edge weight to be used when the edge weight for a given edge in the edge file is None.\n",
            "    edge_ids_column: Optional[str],\n",
            "        The name of the column of the edges file from where to load the edge IDs.\n",
            "    edge_ids_column_number: Optional[int],\n",
            "        The number of the column of the edges file from where to load the edge IDs.\n",
            "    edge_list_numeric_edge_type_ids: Optional[bool],\n",
            "        Whether to load the edge type IDs as numeric from the edge list.\n",
            "    edge_list_numeric_node_ids: Optional[bool],\n",
            "        Whether to load the edge node IDs as numeric from the edge list.\n",
            "    skip_weights_if_unavailable: Optional[bool],\n",
            "        Whether to skip the weights without raising an error if these are unavailable.\n",
            "    skip_edge_types_if_unavailable: Optional[bool],\n",
            "        Whether to skip the edge types without raising an error if these are unavailable.\n",
            "    edge_list_is_complete: Optional[bool],\n",
            "        Whether to consider the edge list as complete, i.e. the edges are presented in both directions when loading an undirected graph.\n",
            "    edge_list_may_contain_duplicates: Optional[bool],\n",
            "        Whether the edge list may contain duplicates. If the edge list surely DOES NOT contain duplicates, a validation step may be skipped. By default, it is assumed that the edge list may contain duplicates.\n",
            "    edge_list_is_sorted: Optional[bool],\n",
            "        Whether the edge list is sorted. Note that a sorted edge list has the minimal memory peak, but requires the nodes number and the edges number.\n",
            "    edge_list_is_correct: Optional[bool],\n",
            "        Whether the edges file can be assumed to be correct, i.e. does not have something wrong in it. If this parameter is passed as true on a malformed file, the constructor will crash.\n",
            "    edge_list_max_rows_number: Optional[int],\n",
            "        The maximum number of lines to be loaded from the edges file.\n",
            "    edge_list_comment_symbol: Optional[str],\n",
            "        The comment symbol to skip lines in the edges file. Lines starting with this symbol will be skipped.\n",
            "    edges_number: Optional[int],\n",
            "        The expected number of edges. Note that this must be the EXACT number of edges in the graph.\n",
            "    load_edge_list_in_parallel: Optional[bool],\n",
            "        Whether to load the edge list in parallel. Note that, if the edge IDs indices are not given, it is NOT possible to load a sorted edge list. Similarly, when loading in parallel, without edge IDs, the edges may not be loaded in a deterministic order.\n",
            "    verbose: Optional[bool],\n",
            "        Whether to show a loading bar while reading the files. Note that, if parallel loading is enabled, loading bars will not be showed because they are a synchronization bottleneck.\n",
            "    may_have_singletons: Optional[bool],\n",
            "        Whether the graph may be expected to have singleton nodes. If it is said that it surely DOES NOT have any, it will allow for some speedups and lower mempry peaks.\n",
            "    may_have_singleton_with_selfloops: Optional[bool],\n",
            "        Whether the graph may be expected to have singleton nodes with selfloops. If it is said that it surely DOES NOT have any, it will allow for some speedups and lower mempry peaks.\n",
            "    directed: bool,\n",
            "        Whether to load the graph as directed or undirected.\n",
            "    name: Optional[str],\n",
            "        The name of the graph to be loaded.\n",
            "\n"
          ]
        }
      ]
    },
    {
      "cell_type": "markdown",
      "metadata": {
        "id": "6WlTuhvBZky3"
      },
      "source": [
        "Let's start by inspecting how the files we want to load are formatted:"
      ]
    },
    {
      "cell_type": "code",
      "metadata": {
        "colab": {
          "base_uri": "https://localhost:8080/"
        },
        "id": "cZMs7T-RZpk1",
        "outputId": "58142f3e-97f2-4926-b619-d36cdb174ecb"
      },
      "source": [
        "! head ./graphs/string/HomoSapiens/links.v11.5/preprocessed/undirected/edges.tsv"
      ],
      "execution_count": 12,
      "outputs": [
        {
          "output_type": "stream",
          "name": "stdout",
          "text": [
            "0\t1\t157\n",
            "0\t9\t200\n",
            "0\t30\t170\n",
            "0\t47\t164\n",
            "0\t59\t175\n",
            "0\t60\t550\n",
            "0\t68\t240\n",
            "0\t71\t161\n",
            "0\t82\t162\n",
            "0\t83\t273\n"
          ]
        }
      ]
    },
    {
      "cell_type": "code",
      "metadata": {
        "colab": {
          "base_uri": "https://localhost:8080/"
        },
        "id": "YLiOC5ArZvv8",
        "outputId": "8205ac99-1a0b-400a-eefe-852f42aaaecb"
      },
      "source": [
        "! head ./graphs/string/HomoSapiens/links.v11.5/preprocessed/undirected/nodes.tsv"
      ],
      "execution_count": 13,
      "outputs": [
        {
          "output_type": "stream",
          "name": "stdout",
          "text": [
            "node_name\t1\n",
            "9606.ENSP00000000233\t\n",
            "9606.ENSP00000000412\t\n",
            "9606.ENSP00000001008\t\n",
            "9606.ENSP00000001146\t\n",
            "9606.ENSP00000002125\t\n",
            "9606.ENSP00000002165\t\n",
            "9606.ENSP00000002596\t\n",
            "9606.ENSP00000002829\t\n",
            "9606.ENSP00000003084\t\n"
          ]
        }
      ]
    },
    {
      "cell_type": "markdown",
      "metadata": {
        "id": "YnQI0t1QbHvX"
      },
      "source": [
        "We can load the graph as:"
      ]
    },
    {
      "cell_type": "code",
      "metadata": {
        "colab": {
          "base_uri": "https://localhost:8080/"
        },
        "id": "v2uL7UYxQl7t",
        "outputId": "433cbe19-0cdc-4894-c2be-8fbe3d5a5c30"
      },
      "source": [
        "%%time\n",
        "manually_loaded_homosapiens = Graph.from_csv(\n",
        "    # Edges related parameters\n",
        "\n",
        "    ## The path to the edges list tsv\n",
        "    edge_path=\"./graphs/string/HomoSapiens/links.v11.5/preprocessed/undirected/edges.tsv\",\n",
        "    ## Set the tab as the separator between values\n",
        "    edge_list_separator=\"\\t\",\n",
        "    ## The first rows should NOT be used as the columns names\n",
        "    edge_list_header=False,\n",
        "    ## The source nodes are in the first nodes\n",
        "    sources_column_number=0,\n",
        "    ## The destination nodes are in the second column\n",
        "    destinations_column_number=1,\n",
        "    ## Both source and destinations columns use numeric node_ids instead of node names\n",
        "    edge_list_numeric_node_ids=True,\n",
        "    ## The weights are in the third column\n",
        "    weights_column_number=2,\n",
        "\n",
        "    # Nodes related parameters\n",
        "    ## The path to the nodes list tsv\n",
        "    node_path=\"./graphs/string/HomoSapiens/links.v11.5/preprocessed/undirected/nodes.tsv\",\n",
        "    ## Set the tab as the separator between values\n",
        "    node_list_separator=\"\\t\",\n",
        "    ## The first rows should be used as the columns names\n",
        "    node_list_header=True,\n",
        "    ## The column with the node names is the one with name \"node_name\".\n",
        "    nodes_column=\"node_name\",\n",
        "\n",
        "    # Graph related parameters\n",
        "    ## The graph is undirected\n",
        "    directed=False,\n",
        "    ## The name of the graph is HomoSapiens\n",
        "    name=\"HomoSapiens\",\n",
        "    ## Display a progress bar, (this might be in the terminal and not in the notebook)\n",
        "    verbose=True,\n",
        ")"
      ],
      "execution_count": 14,
      "outputs": [
        {
          "output_type": "stream",
          "name": "stdout",
          "text": [
            "CPU times: user 23.2 s, sys: 1min 26s, total: 1min 49s\n",
            "Wall time: 1min 37s\n"
          ]
        }
      ]
    },
    {
      "cell_type": "markdown",
      "metadata": {
        "id": "KP8MVtlQbLD-"
      },
      "source": [
        "It's worth noticing that this took 1 minute and 16 seconds, while loading the same data using the automatic retrival takes around 4 seconds! This is because Ensmallen by default thoroughly checks the files it load. Since we know for sure that these files are correct (because they were preprocessed) we can enable optional flags to skip the checks and speed-up the loading."
      ]
    },
    {
      "cell_type": "code",
      "metadata": {
        "colab": {
          "base_uri": "https://localhost:8080/"
        },
        "id": "u7Va8EEVZVDL",
        "outputId": "09bb1b59-7f95-48dc-97ac-e78006ac7d06"
      },
      "source": [
        "%%time\n",
        "manually_loaded_homosapiens = Graph.from_csv(\n",
        "    # Edges related parameters\n",
        "\n",
        "    ## The path to the edges list tsv\n",
        "    edge_path=\"./graphs/string/HomoSapiens/links.v11.5/preprocessed/undirected/edges.tsv\",\n",
        "    ## Set the tab as the separator between values\n",
        "    edge_list_separator=\"\\t\",\n",
        "    ## The first rows should NOT be used as the columns names\n",
        "    edge_list_header=False,\n",
        "    ## The source nodes are in the first nodes\n",
        "    sources_column_number=0,\n",
        "    ## The destination nodes are in the second column\n",
        "    destinations_column_number=1,\n",
        "    ## Both source and destinations columns use numeric node_ids instead of node names\n",
        "    edge_list_numeric_node_ids=True,\n",
        "    ## The weights are in the third column\n",
        "    weights_column_number=2,\n",
        "\n",
        "    # Edges speed-ups arguments\n",
        "    ## The edges are sorted\n",
        "    edge_list_is_sorted=True,\n",
        "    ## The edge does not contains duplicates and all the node_ids or node_names\n",
        "    ## exists and are reasonable\n",
        "    edge_list_is_correct=True,\n",
        "    ## This is mainly meant for undirected graphs, this is if the edge list\n",
        "    ## contains the edges in both directions, meaning that if src -> dst exists\n",
        "    ## then it also exist dst -> src.\n",
        "    edge_list_is_complete=True,\n",
        "    ## The number of edges in the file, this is used to pre-allocate memory\n",
        "    ## and allows us to process in stream all the data\n",
        "    edges_number=11938498,\n",
        "\n",
        "\n",
        "    # Nodes related parameters\n",
        "    ## The path to the nodes list tsv\n",
        "    node_path=\"./graphs/string/HomoSapiens/links.v11.5/preprocessed/undirected/nodes.tsv\",\n",
        "    ## Set the tab as the separator between values\n",
        "    node_list_separator=\"\\t\",\n",
        "    ## The first rows should be used as the columns names\n",
        "    node_list_header=True,\n",
        "    ## The column with the node names is the one with name \"node_name\".\n",
        "    nodes_column=\"node_name\",\n",
        "\n",
        "    # Nodes speed-ups arguments\n",
        "    ## The nodes does not contains duplicates and all the node_ids or node_names\n",
        "    ## exists and are reasonable\n",
        "    node_list_is_correct=True,\n",
        "    ## The number of nodes in the file, this is used to pre-allocate memory\n",
        "    ## and allows us to process in stream all the data\n",
        "    nodes_number=19566,\n",
        "\n",
        "    # Graph related parameters\n",
        "    ## The graph is undirected\n",
        "    directed=False,\n",
        "    ## The name of the graph is HomoSapiens\n",
        "    name=\"HomoSapiens\",\n",
        "    ## Display a progress bar, (this might be in the terminal and not in the notebook)\n",
        "    verbose=True,\n",
        ")"
      ],
      "execution_count": 15,
      "outputs": [
        {
          "output_type": "stream",
          "name": "stdout",
          "text": [
            "CPU times: user 7.14 s, sys: 156 ms, total: 7.3 s\n",
            "Wall time: 3.85 s\n"
          ]
        }
      ]
    },
    {
      "cell_type": "markdown",
      "metadata": {
        "id": "jm4mP7WPfYwi"
      },
      "source": [
        "We can verify that we are now loading exactly the same graph by comparing their hashes:"
      ]
    },
    {
      "cell_type": "code",
      "metadata": {
        "colab": {
          "base_uri": "https://localhost:8080/"
        },
        "id": "6NzIfOo2dFVb",
        "outputId": "ae925f3a-cdc0-4481-c0c8-96a537713381"
      },
      "source": [
        "print(\"The original hash is {}\".format(hash(homosapiens)))\n",
        "print(\"The new hash is      {}\".format(hash(manually_loaded_homosapiens)))\n",
        "print(\"Are they equal? {}\".format(hash(homosapiens) == hash(manually_loaded_homosapiens)))"
      ],
      "execution_count": 16,
      "outputs": [
        {
          "output_type": "stream",
          "name": "stdout",
          "text": [
            "The original hash is -699056784427808228\n",
            "The new hash is      -699056784427808228\n",
            "Are they equal? True\n"
          ]
        }
      ]
    },
    {
      "cell_type": "markdown",
      "metadata": {
        "id": "wiekF2MfhyO-"
      },
      "source": [
        "These hashs are computed taking in consideration every property of the graph, so they can be used to ensure reproducibility of experiments. We can show this by computing the hash, after modifying the graph, in this case removing nodes that are not connected to any other node."
      ]
    },
    {
      "cell_type": "code",
      "metadata": {
        "colab": {
          "base_uri": "https://localhost:8080/"
        },
        "id": "GkvEh4Voic2P",
        "outputId": "4ed9aeb3-671e-46e7-e04f-803ce1b82c65"
      },
      "source": [
        "hash(homosapiens.drop_disconnected_nodes())"
      ],
      "execution_count": 17,
      "outputs": [
        {
          "output_type": "execute_result",
          "data": {
            "text/plain": [
              "-3404126140336579873"
            ]
          },
          "metadata": {},
          "execution_count": 17
        }
      ]
    },
    {
      "cell_type": "markdown",
      "metadata": {
        "id": "cxG3myWSkGbr"
      },
      "source": [
        "# Graphs Versions\n",
        "When possible, in the Automatic retrival pipeline we support multiple versions of the same graphs. By default we download the latest version, but by passing the `version` argument one can select a specific vewrsion."
      ]
    },
    {
      "cell_type": "code",
      "metadata": {
        "colab": {
          "base_uri": "https://localhost:8080/",
          "height": 51,
          "referenced_widgets": [
            "3a04162b1afb4d0e9809b8dbfd3e5864",
            "28e6dfd381d341c781d4f6455d7855d0",
            "f0c7bb80e03e4db4bbba1247d096f6f3",
            "dff4923f8c714866b68d3341c3b53741",
            "7f345a5d14ca445487223616d0945fe9",
            "a65485e950294d79aea94937abd1f0b0",
            "cd9f8f9ef8ee402b837e3b73df8b01d2",
            "992567326f5040fa93df5af1732584f5",
            "de91a0397e6c4825827ecb3177ac7114",
            "c6d49c70f04f499d9a6f228ea480f9a3",
            "1362512358674dc6a46f6ee2bc026e41",
            "25383b76fcac443b8a80f6c9303165df",
            "547726f003fd4a5498e05767ce804fc3",
            "dfdff95cd3934660bf4b7e1004b6ccd0",
            "92432fa27be44450b7d8653c0db249ed",
            "5ae81e0d4f044019a64917dcaeff7714",
            "e05065db8e3744a09ffd684843916fb7",
            "dbb30d0f1f19476ca49b5197f23c67d3",
            "9b4d0d9df11446af80e5c4053a6ee020",
            "6704f424bdff4839a4719d0ce3ca8423",
            "8ae72116402b4e0680c8ae644a8bbd58",
            "fbf2d3bfb29f43cea7812c9a89bf2318",
            "30a831eb96124eb3ad2b3ef0e4c1c414",
            "77504b0222c341adb244fc23be46a39a",
            "e694f084b7dd454ca75bbf2926c40999",
            "62ce266ba9134de697b28da78eb754bb",
            "9f6dc4605fdd4027bf61ee5f9a8a1758",
            "002dea06c0ea4a1cbf8e339f2b328893",
            "9aabbed5df474439998cf0e05c9128e7",
            "6c57a340c6ce40ae83b3901b96a86b96",
            "187b026074ba4790a9d31fb7b66e435d",
            "068e54626c494df89231483b6c284a1a",
            "f9ddb9052c6b4384a8e3060cea1d5171"
          ]
        },
        "id": "a2NnD6j7kKjk",
        "outputId": "a7dbd1b0-9618-46c0-8476-57abaf73c208"
      },
      "source": [
        "%%time\n",
        "older_homosapiens = HomoSapiens(version=\"links.v11.0\")\n",
        "older_homosapiens.set_name(\"Older HomoSapiens\")"
      ],
      "execution_count": 18,
      "outputs": [
        {
          "output_type": "display_data",
          "data": {
            "application/vnd.jupyter.widget-view+json": {
              "model_id": "3a04162b1afb4d0e9809b8dbfd3e5864",
              "version_minor": 0,
              "version_major": 2
            },
            "text/plain": [
              "Downloading files:   0%|          | 0/2 [00:00<?, ?it/s]"
            ]
          },
          "metadata": {}
        },
        {
          "output_type": "display_data",
          "data": {
            "application/vnd.jupyter.widget-view+json": {
              "model_id": "25383b76fcac443b8a80f6c9303165df",
              "version_minor": 0,
              "version_major": 2
            },
            "text/plain": [
              "Downloading to graphs/string/Ho...inks.v11.0.txt.gz:   0%|          | 0.00/71.2M [00:00<?, ?iB/s]"
            ]
          },
          "metadata": {}
        },
        {
          "output_type": "display_data",
          "data": {
            "application/vnd.jupyter.widget-view+json": {
              "model_id": "30a831eb96124eb3ad2b3ef0e4c1c414",
              "version_minor": 0,
              "version_major": 2
            },
            "text/plain": [
              "Downloading to graphs/string/Ho...info.v11.0.txt.gz:   0%|          | 0.00/1.89M [00:00<?, ?iB/s]"
            ]
          },
          "metadata": {}
        },
        {
          "output_type": "stream",
          "name": "stdout",
          "text": [
            "CPU times: user 30.7 s, sys: 2.09 s, total: 32.8 s\n",
            "Wall time: 1min 13s\n"
          ]
        }
      ]
    },
    {
      "cell_type": "markdown",
      "metadata": {
        "id": "A5_6WCYSmeTw"
      },
      "source": [
        "We can check that this graph is different than the newer one:"
      ]
    },
    {
      "cell_type": "code",
      "metadata": {
        "colab": {
          "base_uri": "https://localhost:8080/"
        },
        "id": "yYW0XpC0md3x",
        "outputId": "a315830d-4bf8-423c-f737-3ac93d955a04"
      },
      "source": [
        "hash(older_homosapiens), hash(homosapiens) == hash(older_homosapiens)"
      ],
      "execution_count": 19,
      "outputs": [
        {
          "output_type": "execute_result",
          "data": {
            "text/plain": [
              "(667882773146874271, False)"
            ]
          },
          "metadata": {},
          "execution_count": 19
        }
      ]
    },
    {
      "cell_type": "markdown",
      "metadata": {
        "id": "SJXs6nuAlG-n"
      },
      "source": [
        "These different versions can be used for example to do a temporal holdout of links. We can easily find which edges were added in the we version by doing a set-like subtraction:"
      ]
    },
    {
      "cell_type": "code",
      "metadata": {
        "colab": {
          "base_uri": "https://localhost:8080/",
          "height": 600
        },
        "id": "hdtg4jr2kzJF",
        "outputId": "b16d9eda-2b86-4699-d9fd-518be78bdfac"
      },
      "source": [
        "homosapiens - older_homosapiens"
      ],
      "execution_count": 20,
      "outputs": [
        {
          "output_type": "execute_result",
          "data": {
            "text/html": [
              "<h2>(HomoSapiens - Older HomoSapiens)</h2><p>The undirected graph (HomoSapiens - Older HomoSapiens) has 19566 nodes and 1757409 edges.</p><h3>RAM requirements</h3><p>The RAM requirements for the nodes and edges data structures are 5.21MB and 4.21MB respectively.</p><h3>Degree centrality</h3><p>The minimum node degree is 0, the maximum node degree is 2925, the mode degree is 0, the mean degree is 179.64 and the node degree median is 150.</p><p>The nodes with highest degree centrality are: <a href='https://string-db.org/network/9606.ENSP00000263265' target='_blank' title='Go to STRING Homo sapiens to get more informations about 9606.ENSP00000263265'>9606.ENSP00000263265</a> (degree 2925 and weighted degree 2925), <a href='https://string-db.org/network/9606.ENSP00000297591' target='_blank' title='Go to STRING Homo sapiens to get more informations about 9606.ENSP00000297591'>9606.ENSP00000297591</a> (degree 2816 and weighted degree 2816), <a href='https://string-db.org/network/9606.ENSP00000349960' target='_blank' title='Go to STRING Homo sapiens to get more informations about 9606.ENSP00000349960'>9606.ENSP00000349960</a> (degree 2699 and weighted degree 2699), <a href='https://string-db.org/network/9606.ENSP00000263360' target='_blank' title='Go to STRING Homo sapiens to get more informations about 9606.ENSP00000263360'>9606.ENSP00000263360</a> (degree 1958 and weighted degree 1958) and <a href='https://string-db.org/network/9606.ENSP00000344456' target='_blank' title='Go to STRING Homo sapiens to get more informations about 9606.ENSP00000344456'>9606.ENSP00000344456</a> (degree 1802 and weighted degree 1802).</p><h3>Disconnected nodes</h3><p>Disconnected nodes are nodes that are not connected to any other node.The graph contains 267 disconnected nodes.</p><h4>Singleton nodes</h4><p>Singleton nodes are nodes with no edge to other nodes nor selfloops. The graph contains 267 singleton nodes, which are <a href='https://string-db.org/network/9606.ENSP00000158009' target='_blank' title='Go to STRING Homo sapiens to get more informations about 9606.ENSP00000158009'>9606.ENSP00000158009</a>, <a href='https://string-db.org/network/9606.ENSP00000230301' target='_blank' title='Go to STRING Homo sapiens to get more informations about 9606.ENSP00000230301'>9606.ENSP00000230301</a>, <a href='https://string-db.org/network/9606.ENSP00000239125' target='_blank' title='Go to STRING Homo sapiens to get more informations about 9606.ENSP00000239125'>9606.ENSP00000239125</a>, <a href='https://string-db.org/network/9606.ENSP00000258776' target='_blank' title='Go to STRING Homo sapiens to get more informations about 9606.ENSP00000258776'>9606.ENSP00000258776</a> and <a href='https://string-db.org/network/9606.ENSP00000259362' target='_blank' title='Go to STRING Homo sapiens to get more informations about 9606.ENSP00000259362'>9606.ENSP00000259362</a>, plus other 262 singleton nodes.</p><h3>Weights</h3><p>The minimum edge weight is 150, the maximum edge weight is 986 and the total edge weight is 758227464.</p><h4>Weighted degree centrality</h4><p>The minimum node degree is 0.00, the maximum node degree is 792357.00, the mean degree is 38752.30 and the node degree median is 32995.</p><p>The nodes with highest degree centrality are: <a href='https://string-db.org/network/9606.ENSP00000011653' target='_blank' title='Go to STRING Homo sapiens to get more informations about 9606.ENSP00000011653'>9606.ENSP00000011653</a> (degree 1743 and weighted degree 1743), <a href='https://string-db.org/network/9606.ENSP00000349960' target='_blank' title='Go to STRING Homo sapiens to get more informations about 9606.ENSP00000349960'>9606.ENSP00000349960</a> (degree 2699 and weighted degree 2699), <a href='https://string-db.org/network/9606.ENSP00000263265' target='_blank' title='Go to STRING Homo sapiens to get more informations about 9606.ENSP00000263265'>9606.ENSP00000263265</a> (degree 2925 and weighted degree 2925), <a href='https://string-db.org/network/9606.ENSP00000356319' target='_blank' title='Go to STRING Homo sapiens to get more informations about 9606.ENSP00000356319'>9606.ENSP00000356319</a> (degree 1685 and weighted degree 1685) and <a href='https://string-db.org/network/9606.ENSP00000297591' target='_blank' title='Go to STRING Homo sapiens to get more informations about 9606.ENSP00000297591'>9606.ENSP00000297591</a> (degree 2816 and weighted degree 2816).</p><h4>RAM requirements</h4><p>The RAM requirements for the edge weights data structure is 14.06MB.</p>"
            ],
            "text/plain": [
              "<h2>(HomoSapiens - Older HomoSapiens)</h2><p>The undirected graph (HomoSapiens - Older HomoSapiens) has 19566 nodes and 1757409 edges.</p><h3>RAM requirements</h3><p>The RAM requirements for the nodes and edges data structures are 5.21MB and 4.21MB respectively.</p><h3>Degree centrality</h3><p>The minimum node degree is 0, the maximum node degree is 2925, the mode degree is 0, the mean degree is 179.64 and the node degree median is 150.</p><p>The nodes with highest degree centrality are: <a href='https://string-db.org/network/9606.ENSP00000263265' target='_blank' title='Go to STRING Homo sapiens to get more informations about 9606.ENSP00000263265'>9606.ENSP00000263265</a> (degree 2925 and weighted degree 2925), <a href='https://string-db.org/network/9606.ENSP00000297591' target='_blank' title='Go to STRING Homo sapiens to get more informations about 9606.ENSP00000297591'>9606.ENSP00000297591</a> (degree 2816 and weighted degree 2816), <a href='https://string-db.org/network/9606.ENSP00000349960' target='_blank' title='Go to STRING Homo sapiens to get more informations about 9606.ENSP00000349960'>9606.ENSP00000349960</a> (degree 2699 and weighted degree 2699), <a href='https://string-db.org/network/9606.ENSP00000263360' target='_blank' title='Go to STRING Homo sapiens to get more informations about 9606.ENSP00000263360'>9606.ENSP00000263360</a> (degree 1958 and weighted degree 1958) and <a href='https://string-db.org/network/9606.ENSP00000344456' target='_blank' title='Go to STRING Homo sapiens to get more informations about 9606.ENSP00000344456'>9606.ENSP00000344456</a> (degree 1802 and weighted degree 1802).</p><h3>Disconnected nodes</h3><p>Disconnected nodes are nodes that are not connected to any other node.The graph contains 267 disconnected nodes.</p><h4>Singleton nodes</h4><p>Singleton nodes are nodes with no edge to other nodes nor selfloops. The graph contains 267 singleton nodes, which are <a href='https://string-db.org/network/9606.ENSP00000158009' target='_blank' title='Go to STRING Homo sapiens to get more informations about 9606.ENSP00000158009'>9606.ENSP00000158009</a>, <a href='https://string-db.org/network/9606.ENSP00000230301' target='_blank' title='Go to STRING Homo sapiens to get more informations about 9606.ENSP00000230301'>9606.ENSP00000230301</a>, <a href='https://string-db.org/network/9606.ENSP00000239125' target='_blank' title='Go to STRING Homo sapiens to get more informations about 9606.ENSP00000239125'>9606.ENSP00000239125</a>, <a href='https://string-db.org/network/9606.ENSP00000258776' target='_blank' title='Go to STRING Homo sapiens to get more informations about 9606.ENSP00000258776'>9606.ENSP00000258776</a> and <a href='https://string-db.org/network/9606.ENSP00000259362' target='_blank' title='Go to STRING Homo sapiens to get more informations about 9606.ENSP00000259362'>9606.ENSP00000259362</a>, plus other 262 singleton nodes.</p><h3>Weights</h3><p>The minimum edge weight is 150, the maximum edge weight is 986 and the total edge weight is 758227464.</p><h4>Weighted degree centrality</h4><p>The minimum node degree is 0.00, the maximum node degree is 792357.00, the mean degree is 38752.30 and the node degree median is 32995.</p><p>The nodes with highest degree centrality are: <a href='https://string-db.org/network/9606.ENSP00000011653' target='_blank' title='Go to STRING Homo sapiens to get more informations about 9606.ENSP00000011653'>9606.ENSP00000011653</a> (degree 1743 and weighted degree 1743), <a href='https://string-db.org/network/9606.ENSP00000349960' target='_blank' title='Go to STRING Homo sapiens to get more informations about 9606.ENSP00000349960'>9606.ENSP00000349960</a> (degree 2699 and weighted degree 2699), <a href='https://string-db.org/network/9606.ENSP00000263265' target='_blank' title='Go to STRING Homo sapiens to get more informations about 9606.ENSP00000263265'>9606.ENSP00000263265</a> (degree 2925 and weighted degree 2925), <a href='https://string-db.org/network/9606.ENSP00000356319' target='_blank' title='Go to STRING Homo sapiens to get more informations about 9606.ENSP00000356319'>9606.ENSP00000356319</a> (degree 1685 and weighted degree 1685) and <a href='https://string-db.org/network/9606.ENSP00000297591' target='_blank' title='Go to STRING Homo sapiens to get more informations about 9606.ENSP00000297591'>9606.ENSP00000297591</a> (degree 2816 and weighted degree 2816).</p><h4>RAM requirements</h4><p>The RAM requirements for the edge weights data structure is 14.06MB.</p>"
            ]
          },
          "metadata": {},
          "execution_count": 20
        }
      ]
    }
  ]
}